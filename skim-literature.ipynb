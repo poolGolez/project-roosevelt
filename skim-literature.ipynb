{
 "cells": [
  {
   "cell_type": "code",
   "execution_count": 1,
   "id": "25c26b70",
   "metadata": {
    "_cell_guid": "b1076dfc-b9ad-4769-8c92-a6c4dae69d19",
    "_uuid": "8f2839f25d086af736a60e9eeb907d3b93b6e0e5",
    "execution": {
     "iopub.execute_input": "2023-07-12T11:17:09.132587Z",
     "iopub.status.busy": "2023-07-12T11:17:09.131820Z",
     "iopub.status.idle": "2023-07-12T11:17:26.278873Z",
     "shell.execute_reply": "2023-07-12T11:17:26.276938Z"
    },
    "papermill": {
     "duration": 17.177955,
     "end_time": "2023-07-12T11:17:26.281538",
     "exception": false,
     "start_time": "2023-07-12T11:17:09.103583",
     "status": "completed"
    },
    "tags": []
   },
   "outputs": [
    {
     "name": "stderr",
     "output_type": "stream",
     "text": [
      "/opt/conda/lib/python3.10/site-packages/tensorflow_io/python/ops/__init__.py:98: UserWarning: unable to load libtensorflow_io_plugins.so: unable to open file: libtensorflow_io_plugins.so, from paths: ['/opt/conda/lib/python3.10/site-packages/tensorflow_io/python/ops/libtensorflow_io_plugins.so']\n",
      "caused by: ['/opt/conda/lib/python3.10/site-packages/tensorflow_io/python/ops/libtensorflow_io_plugins.so: undefined symbol: _ZN3tsl6StatusC1EN10tensorflow5error4CodeESt17basic_string_viewIcSt11char_traitsIcEENS_14SourceLocationE']\n",
      "  warnings.warn(f\"unable to load libtensorflow_io_plugins.so: {e}\")\n",
      "/opt/conda/lib/python3.10/site-packages/tensorflow_io/python/ops/__init__.py:104: UserWarning: file system plugins are not loaded: unable to open file: libtensorflow_io.so, from paths: ['/opt/conda/lib/python3.10/site-packages/tensorflow_io/python/ops/libtensorflow_io.so']\n",
      "caused by: ['/opt/conda/lib/python3.10/site-packages/tensorflow_io/python/ops/libtensorflow_io.so: undefined symbol: _ZTVN10tensorflow13GcsFileSystemE']\n",
      "  warnings.warn(f\"file system plugins are not loaded: {e}\")\n"
     ]
    },
    {
     "name": "stdout",
     "output_type": "stream",
     "text": [
      "/kaggle/input/pubmed-200k-rtc/PubMed_200k_RCT_numbers_replaced_with_at_sign/dev.csv\n",
      "/kaggle/input/pubmed-200k-rtc/PubMed_200k_RCT_numbers_replaced_with_at_sign/test.txt\n",
      "/kaggle/input/pubmed-200k-rtc/PubMed_200k_RCT_numbers_replaced_with_at_sign/dev.txt\n",
      "/kaggle/input/pubmed-200k-rtc/PubMed_200k_RCT_numbers_replaced_with_at_sign/train.csv\n",
      "/kaggle/input/pubmed-200k-rtc/PubMed_200k_RCT_numbers_replaced_with_at_sign/test.csv\n",
      "/kaggle/input/pubmed-200k-rtc/PubMed_200k_RCT_numbers_replaced_with_at_sign/train/train.txt\n",
      "/kaggle/input/pubmed-200k-rtc/PubMed_200k_RCT/dev.csv\n",
      "/kaggle/input/pubmed-200k-rtc/PubMed_200k_RCT/test.txt\n",
      "/kaggle/input/pubmed-200k-rtc/PubMed_200k_RCT/dev.txt\n",
      "/kaggle/input/pubmed-200k-rtc/PubMed_200k_RCT/train.csv\n",
      "/kaggle/input/pubmed-200k-rtc/PubMed_200k_RCT/test.csv\n",
      "/kaggle/input/pubmed-200k-rtc/PubMed_200k_RCT/train/train.txt\n",
      "/kaggle/input/pubmed-200k-rtc/PubMed_20k_RCT/dev.csv\n",
      "/kaggle/input/pubmed-200k-rtc/PubMed_20k_RCT/test.txt\n",
      "/kaggle/input/pubmed-200k-rtc/PubMed_20k_RCT/train.txt\n",
      "/kaggle/input/pubmed-200k-rtc/PubMed_20k_RCT/dev.txt\n",
      "/kaggle/input/pubmed-200k-rtc/PubMed_20k_RCT/train.csv\n",
      "/kaggle/input/pubmed-200k-rtc/PubMed_20k_RCT/test.csv\n",
      "/kaggle/input/pubmed-200k-rtc/PubMed_20k_RCT_numbers_replaced_with_at_sign/dev.csv\n",
      "/kaggle/input/pubmed-200k-rtc/PubMed_20k_RCT_numbers_replaced_with_at_sign/test.txt\n",
      "/kaggle/input/pubmed-200k-rtc/PubMed_20k_RCT_numbers_replaced_with_at_sign/train.txt\n",
      "/kaggle/input/pubmed-200k-rtc/PubMed_20k_RCT_numbers_replaced_with_at_sign/dev.txt\n",
      "/kaggle/input/pubmed-200k-rtc/PubMed_20k_RCT_numbers_replaced_with_at_sign/train.csv\n",
      "/kaggle/input/pubmed-200k-rtc/PubMed_20k_RCT_numbers_replaced_with_at_sign/test.csv\n"
     ]
    }
   ],
   "source": [
    "# This Python 3 environment comes with many helpful analytics libraries installed\n",
    "# It is defined by the kaggle/python Docker image: https://github.com/kaggle/docker-python\n",
    "# For example, here's several helpful packages to load\n",
    "\n",
    "import numpy as np # linear algebra\n",
    "import pandas as pd # data processing, CSV file I/O (e.g. pd.read_csv)\n",
    "import tensorflow as tf\n",
    "\n",
    "RANDOM_SEED = 42\n",
    "tf.keras.utils.set_random_seed(RANDOM_SEED)\n",
    "\n",
    "\n",
    "# Input data files are available in the read-only \"../input/\" directory\n",
    "# For example, running this (by clicking run or pressing Shift+Enter) will list all files under the input directory\n",
    "\n",
    "import os\n",
    "for dirname, _, filenames in os.walk('/kaggle/input'):\n",
    "    for filename in filenames:\n",
    "        print(os.path.join(dirname, filename))\n",
    "\n",
    "# You can write up to 20GB to the current directory (/kaggle/working/) that gets preserved as output when you create a version using \"Save & Run All\" \n",
    "# You can also write temporary files to /kaggle/temp/, but they won't be saved outside of the current session"
   ]
  },
  {
   "cell_type": "code",
   "execution_count": 2,
   "id": "5ea66e71",
   "metadata": {
    "execution": {
     "iopub.execute_input": "2023-07-12T11:17:26.332867Z",
     "iopub.status.busy": "2023-07-12T11:17:26.332182Z",
     "iopub.status.idle": "2023-07-12T11:17:27.419322Z",
     "shell.execute_reply": "2023-07-12T11:17:27.417984Z"
    },
    "papermill": {
     "duration": 1.115379,
     "end_time": "2023-07-12T11:17:27.422111",
     "exception": false,
     "start_time": "2023-07-12T11:17:26.306732",
     "status": "completed"
    },
    "tags": []
   },
   "outputs": [
    {
     "name": "stdout",
     "output_type": "stream",
     "text": [
      "GPU 0: Tesla T4 (UUID: GPU-0f1781a0-6464-00d9-f000-af84957a9d94)\r\n",
      "GPU 1: Tesla T4 (UUID: GPU-a60acb1b-34e0-d73f-4162-20832a0186a7)\r\n"
     ]
    }
   ],
   "source": [
    "!nvidia-smi -L"
   ]
  },
  {
   "cell_type": "markdown",
   "id": "82e340b4",
   "metadata": {
    "papermill": {
     "duration": 0.024808,
     "end_time": "2023-07-12T11:17:27.472917",
     "exception": false,
     "start_time": "2023-07-12T11:17:27.448109",
     "status": "completed"
    },
    "tags": []
   },
   "source": [
    "# 1] Data Ingestion"
   ]
  },
  {
   "cell_type": "code",
   "execution_count": 3,
   "id": "33e93a5b",
   "metadata": {
    "execution": {
     "iopub.execute_input": "2023-07-12T11:17:27.525895Z",
     "iopub.status.busy": "2023-07-12T11:17:27.524740Z",
     "iopub.status.idle": "2023-07-12T11:17:27.531035Z",
     "shell.execute_reply": "2023-07-12T11:17:27.529843Z"
    },
    "papermill": {
     "duration": 0.035449,
     "end_time": "2023-07-12T11:17:27.533382",
     "exception": false,
     "start_time": "2023-07-12T11:17:27.497933",
     "status": "completed"
    },
    "tags": []
   },
   "outputs": [],
   "source": [
    "TRAIN_CSV_FILE_LOCATION = '/kaggle/input/pubmed-200k-rtc/PubMed_20k_RCT/train.csv'\n",
    "VAL_CSV_FILE_LOCATION = '/kaggle/input/pubmed-200k-rtc/PubMed_20k_RCT/dev.csv'\n",
    "TEST_CSV_FILE_LOCATION = '/kaggle/input/pubmed-200k-rtc/PubMed_20k_RCT/test.csv'"
   ]
  },
  {
   "cell_type": "code",
   "execution_count": 4,
   "id": "b6703e71",
   "metadata": {
    "execution": {
     "iopub.execute_input": "2023-07-12T11:17:27.585357Z",
     "iopub.status.busy": "2023-07-12T11:17:27.584404Z",
     "iopub.status.idle": "2023-07-12T11:17:28.545744Z",
     "shell.execute_reply": "2023-07-12T11:17:28.544691Z"
    },
    "papermill": {
     "duration": 0.989687,
     "end_time": "2023-07-12T11:17:28.548146",
     "exception": false,
     "start_time": "2023-07-12T11:17:27.558459",
     "status": "completed"
    },
    "tags": []
   },
   "outputs": [
    {
     "data": {
      "text/html": [
       "<div>\n",
       "<style scoped>\n",
       "    .dataframe tbody tr th:only-of-type {\n",
       "        vertical-align: middle;\n",
       "    }\n",
       "\n",
       "    .dataframe tbody tr th {\n",
       "        vertical-align: top;\n",
       "    }\n",
       "\n",
       "    .dataframe thead th {\n",
       "        text-align: right;\n",
       "    }\n",
       "</style>\n",
       "<table border=\"1\" class=\"dataframe\">\n",
       "  <thead>\n",
       "    <tr style=\"text-align: right;\">\n",
       "      <th></th>\n",
       "      <th>abstract_id</th>\n",
       "      <th>line_id</th>\n",
       "      <th>abstract_text</th>\n",
       "      <th>line_number</th>\n",
       "      <th>total_lines</th>\n",
       "      <th>target</th>\n",
       "    </tr>\n",
       "  </thead>\n",
       "  <tbody>\n",
       "    <tr>\n",
       "      <th>0</th>\n",
       "      <td>24293578</td>\n",
       "      <td>24293578_0_12</td>\n",
       "      <td>To investigate the efficacy of 6 weeks of dail...</td>\n",
       "      <td>0</td>\n",
       "      <td>12</td>\n",
       "      <td>OBJECTIVE</td>\n",
       "    </tr>\n",
       "    <tr>\n",
       "      <th>1</th>\n",
       "      <td>24293578</td>\n",
       "      <td>24293578_1_12</td>\n",
       "      <td>A total of 125 patients with primary knee OA w...</td>\n",
       "      <td>1</td>\n",
       "      <td>12</td>\n",
       "      <td>METHODS</td>\n",
       "    </tr>\n",
       "    <tr>\n",
       "      <th>2</th>\n",
       "      <td>24293578</td>\n",
       "      <td>24293578_2_12</td>\n",
       "      <td>Outcome measures included pain reduction and i...</td>\n",
       "      <td>2</td>\n",
       "      <td>12</td>\n",
       "      <td>METHODS</td>\n",
       "    </tr>\n",
       "    <tr>\n",
       "      <th>3</th>\n",
       "      <td>24293578</td>\n",
       "      <td>24293578_3_12</td>\n",
       "      <td>Pain was assessed using the visual analog pain...</td>\n",
       "      <td>3</td>\n",
       "      <td>12</td>\n",
       "      <td>METHODS</td>\n",
       "    </tr>\n",
       "    <tr>\n",
       "      <th>4</th>\n",
       "      <td>24293578</td>\n",
       "      <td>24293578_4_12</td>\n",
       "      <td>Secondary outcome measures included the Wester...</td>\n",
       "      <td>4</td>\n",
       "      <td>12</td>\n",
       "      <td>METHODS</td>\n",
       "    </tr>\n",
       "  </tbody>\n",
       "</table>\n",
       "</div>"
      ],
      "text/plain": [
       "   abstract_id        line_id  \\\n",
       "0     24293578  24293578_0_12   \n",
       "1     24293578  24293578_1_12   \n",
       "2     24293578  24293578_2_12   \n",
       "3     24293578  24293578_3_12   \n",
       "4     24293578  24293578_4_12   \n",
       "\n",
       "                                       abstract_text  line_number  \\\n",
       "0  To investigate the efficacy of 6 weeks of dail...            0   \n",
       "1  A total of 125 patients with primary knee OA w...            1   \n",
       "2  Outcome measures included pain reduction and i...            2   \n",
       "3  Pain was assessed using the visual analog pain...            3   \n",
       "4  Secondary outcome measures included the Wester...            4   \n",
       "\n",
       "   total_lines     target  \n",
       "0           12  OBJECTIVE  \n",
       "1           12    METHODS  \n",
       "2           12    METHODS  \n",
       "3           12    METHODS  \n",
       "4           12    METHODS  "
      ]
     },
     "execution_count": 4,
     "metadata": {},
     "output_type": "execute_result"
    }
   ],
   "source": [
    "train_df = pd.read_csv(TRAIN_CSV_FILE_LOCATION)\n",
    "train_df.head()"
   ]
  },
  {
   "cell_type": "code",
   "execution_count": 5,
   "id": "63f7a13e",
   "metadata": {
    "execution": {
     "iopub.execute_input": "2023-07-12T11:17:28.602887Z",
     "iopub.status.busy": "2023-07-12T11:17:28.600991Z",
     "iopub.status.idle": "2023-07-12T11:17:28.786840Z",
     "shell.execute_reply": "2023-07-12T11:17:28.785691Z"
    },
    "papermill": {
     "duration": 0.215538,
     "end_time": "2023-07-12T11:17:28.789440",
     "exception": false,
     "start_time": "2023-07-12T11:17:28.573902",
     "status": "completed"
    },
    "tags": []
   },
   "outputs": [
    {
     "data": {
      "text/html": [
       "<div>\n",
       "<style scoped>\n",
       "    .dataframe tbody tr th:only-of-type {\n",
       "        vertical-align: middle;\n",
       "    }\n",
       "\n",
       "    .dataframe tbody tr th {\n",
       "        vertical-align: top;\n",
       "    }\n",
       "\n",
       "    .dataframe thead th {\n",
       "        text-align: right;\n",
       "    }\n",
       "</style>\n",
       "<table border=\"1\" class=\"dataframe\">\n",
       "  <thead>\n",
       "    <tr style=\"text-align: right;\">\n",
       "      <th></th>\n",
       "      <th>abstract_id</th>\n",
       "      <th>line_id</th>\n",
       "      <th>abstract_text</th>\n",
       "      <th>line_number</th>\n",
       "      <th>total_lines</th>\n",
       "      <th>target</th>\n",
       "    </tr>\n",
       "  </thead>\n",
       "  <tbody>\n",
       "    <tr>\n",
       "      <th>0</th>\n",
       "      <td>24290286</td>\n",
       "      <td>24290286_0_10</td>\n",
       "      <td>IgE sensitization to Aspergillus fumigatus and...</td>\n",
       "      <td>0</td>\n",
       "      <td>10</td>\n",
       "      <td>BACKGROUND</td>\n",
       "    </tr>\n",
       "    <tr>\n",
       "      <th>1</th>\n",
       "      <td>24290286</td>\n",
       "      <td>24290286_1_10</td>\n",
       "      <td>It is not clear whether these patients would b...</td>\n",
       "      <td>1</td>\n",
       "      <td>10</td>\n",
       "      <td>BACKGROUND</td>\n",
       "    </tr>\n",
       "    <tr>\n",
       "      <th>2</th>\n",
       "      <td>24290286</td>\n",
       "      <td>24290286_2_10</td>\n",
       "      <td>We sought to determine whether a 3-month cours...</td>\n",
       "      <td>2</td>\n",
       "      <td>10</td>\n",
       "      <td>OBJECTIVE</td>\n",
       "    </tr>\n",
       "    <tr>\n",
       "      <th>3</th>\n",
       "      <td>24290286</td>\n",
       "      <td>24290286_3_10</td>\n",
       "      <td>Asthmatic patients who were IgE sensitized to ...</td>\n",
       "      <td>3</td>\n",
       "      <td>10</td>\n",
       "      <td>METHODS</td>\n",
       "    </tr>\n",
       "    <tr>\n",
       "      <th>4</th>\n",
       "      <td>24290286</td>\n",
       "      <td>24290286_4_10</td>\n",
       "      <td>Primary outcomes were improvement in quality o...</td>\n",
       "      <td>4</td>\n",
       "      <td>10</td>\n",
       "      <td>METHODS</td>\n",
       "    </tr>\n",
       "  </tbody>\n",
       "</table>\n",
       "</div>"
      ],
      "text/plain": [
       "   abstract_id        line_id  \\\n",
       "0     24290286  24290286_0_10   \n",
       "1     24290286  24290286_1_10   \n",
       "2     24290286  24290286_2_10   \n",
       "3     24290286  24290286_3_10   \n",
       "4     24290286  24290286_4_10   \n",
       "\n",
       "                                       abstract_text  line_number  \\\n",
       "0  IgE sensitization to Aspergillus fumigatus and...            0   \n",
       "1  It is not clear whether these patients would b...            1   \n",
       "2  We sought to determine whether a 3-month cours...            2   \n",
       "3  Asthmatic patients who were IgE sensitized to ...            3   \n",
       "4  Primary outcomes were improvement in quality o...            4   \n",
       "\n",
       "   total_lines      target  \n",
       "0           10  BACKGROUND  \n",
       "1           10  BACKGROUND  \n",
       "2           10   OBJECTIVE  \n",
       "3           10     METHODS  \n",
       "4           10     METHODS  "
      ]
     },
     "execution_count": 5,
     "metadata": {},
     "output_type": "execute_result"
    }
   ],
   "source": [
    "val_df = pd.read_csv(VAL_CSV_FILE_LOCATION)\n",
    "val_df.head()"
   ]
  },
  {
   "cell_type": "code",
   "execution_count": 6,
   "id": "500db6e2",
   "metadata": {
    "execution": {
     "iopub.execute_input": "2023-07-12T11:17:28.844181Z",
     "iopub.status.busy": "2023-07-12T11:17:28.843255Z",
     "iopub.status.idle": "2023-07-12T11:17:29.011592Z",
     "shell.execute_reply": "2023-07-12T11:17:29.010557Z"
    },
    "papermill": {
     "duration": 0.197813,
     "end_time": "2023-07-12T11:17:29.013939",
     "exception": false,
     "start_time": "2023-07-12T11:17:28.816126",
     "status": "completed"
    },
    "tags": []
   },
   "outputs": [
    {
     "data": {
      "text/html": [
       "<div>\n",
       "<style scoped>\n",
       "    .dataframe tbody tr th:only-of-type {\n",
       "        vertical-align: middle;\n",
       "    }\n",
       "\n",
       "    .dataframe tbody tr th {\n",
       "        vertical-align: top;\n",
       "    }\n",
       "\n",
       "    .dataframe thead th {\n",
       "        text-align: right;\n",
       "    }\n",
       "</style>\n",
       "<table border=\"1\" class=\"dataframe\">\n",
       "  <thead>\n",
       "    <tr style=\"text-align: right;\">\n",
       "      <th></th>\n",
       "      <th>abstract_id</th>\n",
       "      <th>line_id</th>\n",
       "      <th>abstract_text</th>\n",
       "      <th>line_number</th>\n",
       "      <th>total_lines</th>\n",
       "      <th>target</th>\n",
       "    </tr>\n",
       "  </thead>\n",
       "  <tbody>\n",
       "    <tr>\n",
       "      <th>0</th>\n",
       "      <td>24845963</td>\n",
       "      <td>24845963_0_9</td>\n",
       "      <td>This study analyzed liver function abnormaliti...</td>\n",
       "      <td>0</td>\n",
       "      <td>9</td>\n",
       "      <td>BACKGROUND</td>\n",
       "    </tr>\n",
       "    <tr>\n",
       "      <th>1</th>\n",
       "      <td>24845963</td>\n",
       "      <td>24845963_1_9</td>\n",
       "      <td>A post hoc analysis was conducted with the use...</td>\n",
       "      <td>1</td>\n",
       "      <td>9</td>\n",
       "      <td>RESULTS</td>\n",
       "    </tr>\n",
       "    <tr>\n",
       "      <th>2</th>\n",
       "      <td>24845963</td>\n",
       "      <td>24845963_2_9</td>\n",
       "      <td>Liver function tests ( LFTs ) were measured at...</td>\n",
       "      <td>2</td>\n",
       "      <td>9</td>\n",
       "      <td>RESULTS</td>\n",
       "    </tr>\n",
       "    <tr>\n",
       "      <th>3</th>\n",
       "      <td>24845963</td>\n",
       "      <td>24845963_3_9</td>\n",
       "      <td>Survival analyses were used to assess the asso...</td>\n",
       "      <td>3</td>\n",
       "      <td>9</td>\n",
       "      <td>RESULTS</td>\n",
       "    </tr>\n",
       "    <tr>\n",
       "      <th>4</th>\n",
       "      <td>24845963</td>\n",
       "      <td>24845963_4_9</td>\n",
       "      <td>The percentage of patients with abnormal LFTs ...</td>\n",
       "      <td>4</td>\n",
       "      <td>9</td>\n",
       "      <td>RESULTS</td>\n",
       "    </tr>\n",
       "  </tbody>\n",
       "</table>\n",
       "</div>"
      ],
      "text/plain": [
       "   abstract_id       line_id  \\\n",
       "0     24845963  24845963_0_9   \n",
       "1     24845963  24845963_1_9   \n",
       "2     24845963  24845963_2_9   \n",
       "3     24845963  24845963_3_9   \n",
       "4     24845963  24845963_4_9   \n",
       "\n",
       "                                       abstract_text  line_number  \\\n",
       "0  This study analyzed liver function abnormaliti...            0   \n",
       "1  A post hoc analysis was conducted with the use...            1   \n",
       "2  Liver function tests ( LFTs ) were measured at...            2   \n",
       "3  Survival analyses were used to assess the asso...            3   \n",
       "4  The percentage of patients with abnormal LFTs ...            4   \n",
       "\n",
       "   total_lines      target  \n",
       "0            9  BACKGROUND  \n",
       "1            9     RESULTS  \n",
       "2            9     RESULTS  \n",
       "3            9     RESULTS  \n",
       "4            9     RESULTS  "
      ]
     },
     "execution_count": 6,
     "metadata": {},
     "output_type": "execute_result"
    }
   ],
   "source": [
    "test_df = pd.read_csv(TEST_CSV_FILE_LOCATION)\n",
    "test_df.head()"
   ]
  },
  {
   "cell_type": "markdown",
   "id": "2a1061c2",
   "metadata": {
    "papermill": {
     "duration": 0.02536,
     "end_time": "2023-07-12T11:17:29.065680",
     "exception": false,
     "start_time": "2023-07-12T11:17:29.040320",
     "status": "completed"
    },
    "tags": []
   },
   "source": [
    "# 2] Exploratory Data Analysis"
   ]
  },
  {
   "cell_type": "markdown",
   "id": "19e0a436",
   "metadata": {
    "papermill": {
     "duration": 0.026177,
     "end_time": "2023-07-12T11:17:29.118508",
     "exception": false,
     "start_time": "2023-07-12T11:17:29.092331",
     "status": "completed"
    },
    "tags": []
   },
   "source": [
    "## 2/a] The Train Set"
   ]
  },
  {
   "cell_type": "code",
   "execution_count": 7,
   "id": "28c9fd0a",
   "metadata": {
    "execution": {
     "iopub.execute_input": "2023-07-12T11:17:29.171589Z",
     "iopub.status.busy": "2023-07-12T11:17:29.171234Z",
     "iopub.status.idle": "2023-07-12T11:17:29.179701Z",
     "shell.execute_reply": "2023-07-12T11:17:29.177574Z"
    },
    "papermill": {
     "duration": 0.03757,
     "end_time": "2023-07-12T11:17:29.181874",
     "exception": false,
     "start_time": "2023-07-12T11:17:29.144304",
     "status": "completed"
    },
    "tags": []
   },
   "outputs": [
    {
     "data": {
      "text/plain": [
       "(180040, 6)"
      ]
     },
     "execution_count": 7,
     "metadata": {},
     "output_type": "execute_result"
    }
   ],
   "source": [
    "train_df.shape"
   ]
  },
  {
   "cell_type": "code",
   "execution_count": 8,
   "id": "e2917bb4",
   "metadata": {
    "execution": {
     "iopub.execute_input": "2023-07-12T11:17:29.234889Z",
     "iopub.status.busy": "2023-07-12T11:17:29.234058Z",
     "iopub.status.idle": "2023-07-12T11:17:29.241371Z",
     "shell.execute_reply": "2023-07-12T11:17:29.240351Z"
    },
    "papermill": {
     "duration": 0.036168,
     "end_time": "2023-07-12T11:17:29.243627",
     "exception": false,
     "start_time": "2023-07-12T11:17:29.207459",
     "status": "completed"
    },
    "tags": []
   },
   "outputs": [
    {
     "data": {
      "text/plain": [
       "['BACKGROUND', 'OBJECTIVE', 'METHODS', 'RESULTS', 'CONCLUSIONS']"
      ]
     },
     "execution_count": 8,
     "metadata": {},
     "output_type": "execute_result"
    }
   ],
   "source": [
    "CLASSES = ['BACKGROUND', 'OBJECTIVE', 'METHODS', 'RESULTS', 'CONCLUSIONS']\n",
    "CLASSES"
   ]
  },
  {
   "cell_type": "code",
   "execution_count": 9,
   "id": "9cbc5165",
   "metadata": {
    "execution": {
     "iopub.execute_input": "2023-07-12T11:17:29.297103Z",
     "iopub.status.busy": "2023-07-12T11:17:29.296170Z",
     "iopub.status.idle": "2023-07-12T11:17:29.336412Z",
     "shell.execute_reply": "2023-07-12T11:17:29.335266Z"
    },
    "papermill": {
     "duration": 0.069089,
     "end_time": "2023-07-12T11:17:29.338835",
     "exception": false,
     "start_time": "2023-07-12T11:17:29.269746",
     "status": "completed"
    },
    "tags": []
   },
   "outputs": [
    {
     "data": {
      "text/plain": [
       "METHODS        59353\n",
       "RESULTS        57953\n",
       "CONCLUSIONS    27168\n",
       "BACKGROUND     21727\n",
       "OBJECTIVE      13839\n",
       "Name: target, dtype: int64"
      ]
     },
     "execution_count": 9,
     "metadata": {},
     "output_type": "execute_result"
    }
   ],
   "source": [
    "train_tally = train_df['target'].value_counts()\n",
    "train_tally"
   ]
  },
  {
   "cell_type": "code",
   "execution_count": 10,
   "id": "d8a27fd5",
   "metadata": {
    "execution": {
     "iopub.execute_input": "2023-07-12T11:17:29.392087Z",
     "iopub.status.busy": "2023-07-12T11:17:29.391786Z",
     "iopub.status.idle": "2023-07-12T11:17:29.770558Z",
     "shell.execute_reply": "2023-07-12T11:17:29.769542Z"
    },
    "papermill": {
     "duration": 0.408205,
     "end_time": "2023-07-12T11:17:29.773057",
     "exception": false,
     "start_time": "2023-07-12T11:17:29.364852",
     "status": "completed"
    },
    "tags": []
   },
   "outputs": [
    {
     "data": {
      "text/plain": [
       "METHODS        0.329666\n",
       "RESULTS        0.321890\n",
       "CONCLUSIONS    0.150900\n",
       "BACKGROUND     0.120679\n",
       "OBJECTIVE      0.076866\n",
       "Name: target, dtype: float64"
      ]
     },
     "execution_count": 10,
     "metadata": {},
     "output_type": "execute_result"
    },
    {
     "data": {
      "image/png": "[encoded data removed]",
      "text/plain": [
       "<Figure size 640x480 with 1 Axes>"
      ]
     },
     "metadata": {},
     "output_type": "display_data"
    }
   ],
   "source": [
    "pd.DataFrame(train_tally/sum(train_tally)).plot(kind='bar')\n",
    "norm_train_tally = train_tally/sum(train_tally)\n",
    "norm_train_tally"
   ]
  },
  {
   "cell_type": "markdown",
   "id": "2b9dd746",
   "metadata": {
    "papermill": {
     "duration": 0.026119,
     "end_time": "2023-07-12T11:17:29.827123",
     "exception": false,
     "start_time": "2023-07-12T11:17:29.801004",
     "status": "completed"
    },
    "tags": []
   },
   "source": [
    "📘 **NOTES**\n",
    "* There are `5` classes for this dataset.\n",
    "* There are `180040` records for the train set. Note that each record is a line on the medical abstract.\n",
    "* This is an *imbalanced* dataset with `2` of the classes comprising `~30%`of the dataset. The least class comprises `~7%` of the dataset."
   ]
  },
  {
   "cell_type": "markdown",
   "id": "490cec2b",
   "metadata": {
    "papermill": {
     "duration": 0.026009,
     "end_time": "2023-07-12T11:17:29.880496",
     "exception": false,
     "start_time": "2023-07-12T11:17:29.854487",
     "status": "completed"
    },
    "tags": []
   },
   "source": [
    "## 2/b] The Validation Set"
   ]
  },
  {
   "cell_type": "code",
   "execution_count": 11,
   "id": "eccd579d",
   "metadata": {
    "execution": {
     "iopub.execute_input": "2023-07-12T11:17:29.934992Z",
     "iopub.status.busy": "2023-07-12T11:17:29.934594Z",
     "iopub.status.idle": "2023-07-12T11:17:29.941984Z",
     "shell.execute_reply": "2023-07-12T11:17:29.940649Z"
    },
    "papermill": {
     "duration": 0.037749,
     "end_time": "2023-07-12T11:17:29.944504",
     "exception": false,
     "start_time": "2023-07-12T11:17:29.906755",
     "status": "completed"
    },
    "tags": []
   },
   "outputs": [
    {
     "data": {
      "text/plain": [
       "(30212, 6)"
      ]
     },
     "execution_count": 11,
     "metadata": {},
     "output_type": "execute_result"
    }
   ],
   "source": [
    "val_df.shape"
   ]
  },
  {
   "cell_type": "code",
   "execution_count": 12,
   "id": "7dce1f58",
   "metadata": {
    "execution": {
     "iopub.execute_input": "2023-07-12T11:17:29.998761Z",
     "iopub.status.busy": "2023-07-12T11:17:29.998434Z",
     "iopub.status.idle": "2023-07-12T11:17:30.010890Z",
     "shell.execute_reply": "2023-07-12T11:17:30.009690Z"
    },
    "papermill": {
     "duration": 0.043381,
     "end_time": "2023-07-12T11:17:30.014462",
     "exception": false,
     "start_time": "2023-07-12T11:17:29.971081",
     "status": "completed"
    },
    "tags": []
   },
   "outputs": [
    {
     "data": {
      "text/plain": [
       "METHODS        9964\n",
       "RESULTS        9841\n",
       "CONCLUSIONS    4582\n",
       "BACKGROUND     3449\n",
       "OBJECTIVE      2376\n",
       "Name: target, dtype: int64"
      ]
     },
     "execution_count": 12,
     "metadata": {},
     "output_type": "execute_result"
    }
   ],
   "source": [
    "val_tally = val_df['target'].value_counts()\n",
    "val_tally"
   ]
  },
  {
   "cell_type": "code",
   "execution_count": 13,
   "id": "0dff5bd0",
   "metadata": {
    "execution": {
     "iopub.execute_input": "2023-07-12T11:17:30.068962Z",
     "iopub.status.busy": "2023-07-12T11:17:30.068682Z",
     "iopub.status.idle": "2023-07-12T11:17:30.380520Z",
     "shell.execute_reply": "2023-07-12T11:17:30.379362Z"
    },
    "papermill": {
     "duration": 0.341515,
     "end_time": "2023-07-12T11:17:30.382805",
     "exception": false,
     "start_time": "2023-07-12T11:17:30.041290",
     "status": "completed"
    },
    "tags": []
   },
   "outputs": [
    {
     "data": {
      "text/plain": [
       "METHODS        0.329803\n",
       "RESULTS        0.325731\n",
       "CONCLUSIONS    0.151662\n",
       "BACKGROUND     0.114160\n",
       "OBJECTIVE      0.078644\n",
       "Name: target, dtype: float64"
      ]
     },
     "execution_count": 13,
     "metadata": {},
     "output_type": "execute_result"
    },
    {
     "data": {
      "image/png": "[encoded data removed]",
      "text/plain": [
       "<Figure size 640x480 with 1 Axes>"
      ]
     },
     "metadata": {},
     "output_type": "display_data"
    }
   ],
   "source": [
    "pd.DataFrame(val_tally/sum(val_tally)).plot(kind='bar')\n",
    "norm_val_tally = val_tally/sum(val_tally)\n",
    "norm_val_tally"
   ]
  },
  {
   "cell_type": "markdown",
   "id": "b6cccd12",
   "metadata": {
    "papermill": {
     "duration": 0.027722,
     "end_time": "2023-07-12T11:17:30.438467",
     "exception": false,
     "start_time": "2023-07-12T11:17:30.410745",
     "status": "completed"
    },
    "tags": []
   },
   "source": [
    "## 2/c] The Test Set"
   ]
  },
  {
   "cell_type": "code",
   "execution_count": 14,
   "id": "20de97ba",
   "metadata": {
    "execution": {
     "iopub.execute_input": "2023-07-12T11:17:30.496087Z",
     "iopub.status.busy": "2023-07-12T11:17:30.495109Z",
     "iopub.status.idle": "2023-07-12T11:17:30.502368Z",
     "shell.execute_reply": "2023-07-12T11:17:30.501274Z"
    },
    "papermill": {
     "duration": 0.038313,
     "end_time": "2023-07-12T11:17:30.504570",
     "exception": false,
     "start_time": "2023-07-12T11:17:30.466257",
     "status": "completed"
    },
    "tags": []
   },
   "outputs": [
    {
     "data": {
      "text/plain": [
       "(30135, 6)"
      ]
     },
     "execution_count": 14,
     "metadata": {},
     "output_type": "execute_result"
    }
   ],
   "source": [
    "test_df.shape"
   ]
  },
  {
   "cell_type": "code",
   "execution_count": 15,
   "id": "d2387f36",
   "metadata": {
    "execution": {
     "iopub.execute_input": "2023-07-12T11:17:30.562628Z",
     "iopub.status.busy": "2023-07-12T11:17:30.561716Z",
     "iopub.status.idle": "2023-07-12T11:17:30.573994Z",
     "shell.execute_reply": "2023-07-12T11:17:30.572893Z"
    },
    "papermill": {
     "duration": 0.04342,
     "end_time": "2023-07-12T11:17:30.576190",
     "exception": false,
     "start_time": "2023-07-12T11:17:30.532770",
     "status": "completed"
    },
    "tags": []
   },
   "outputs": [
    {
     "data": {
      "text/plain": [
       "METHODS        9897\n",
       "RESULTS        9713\n",
       "CONCLUSIONS    4571\n",
       "BACKGROUND     3621\n",
       "OBJECTIVE      2333\n",
       "Name: target, dtype: int64"
      ]
     },
     "execution_count": 15,
     "metadata": {},
     "output_type": "execute_result"
    }
   ],
   "source": [
    "test_tally = test_df['target'].value_counts()\n",
    "test_tally"
   ]
  },
  {
   "cell_type": "code",
   "execution_count": 16,
   "id": "fa581034",
   "metadata": {
    "execution": {
     "iopub.execute_input": "2023-07-12T11:17:30.633594Z",
     "iopub.status.busy": "2023-07-12T11:17:30.632728Z",
     "iopub.status.idle": "2023-07-12T11:17:31.181928Z",
     "shell.execute_reply": "2023-07-12T11:17:31.180942Z"
    },
    "papermill": {
     "duration": 0.580515,
     "end_time": "2023-07-12T11:17:31.184375",
     "exception": false,
     "start_time": "2023-07-12T11:17:30.603860",
     "status": "completed"
    },
    "tags": []
   },
   "outputs": [
    {
     "data": {
      "text/plain": [
       "METHODS        0.328422\n",
       "RESULTS        0.322316\n",
       "CONCLUSIONS    0.151684\n",
       "BACKGROUND     0.120159\n",
       "OBJECTIVE      0.077418\n",
       "Name: target, dtype: float64"
      ]
     },
     "execution_count": 16,
     "metadata": {},
     "output_type": "execute_result"
    },
    {
     "data": {
      "image/png": "[encoded data removed]",
      "text/plain": [
       "<Figure size 640x480 with 1 Axes>"
      ]
     },
     "metadata": {},
     "output_type": "display_data"
    }
   ],
   "source": [
    "pd.DataFrame(test_tally).plot(kind='bar')\n",
    "norm_test_tally = test_tally/sum(test_tally)\n",
    "norm_test_tally"
   ]
  },
  {
   "cell_type": "markdown",
   "id": "b31b3262",
   "metadata": {
    "papermill": {
     "duration": 0.028616,
     "end_time": "2023-07-12T11:17:31.242689",
     "exception": false,
     "start_time": "2023-07-12T11:17:31.214073",
     "status": "completed"
    },
    "tags": []
   },
   "source": [
    "## 2/d] Compare class distributions of the different datasets"
   ]
  },
  {
   "cell_type": "code",
   "execution_count": 17,
   "id": "7e8bbcff",
   "metadata": {
    "execution": {
     "iopub.execute_input": "2023-07-12T11:17:31.300996Z",
     "iopub.status.busy": "2023-07-12T11:17:31.300423Z",
     "iopub.status.idle": "2023-07-12T11:17:31.647588Z",
     "shell.execute_reply": "2023-07-12T11:17:31.646545Z"
    },
    "papermill": {
     "duration": 0.379025,
     "end_time": "2023-07-12T11:17:31.649925",
     "exception": false,
     "start_time": "2023-07-12T11:17:31.270900",
     "status": "completed"
    },
    "tags": []
   },
   "outputs": [
    {
     "data": {
      "text/plain": [
       "<Axes: >"
      ]
     },
     "execution_count": 17,
     "metadata": {},
     "output_type": "execute_result"
    },
    {
     "data": {
      "image/png": "[encoded data removed]",
      "text/plain": [
       "<Figure size 640x480 with 1 Axes>"
      ]
     },
     "metadata": {},
     "output_type": "display_data"
    }
   ],
   "source": [
    "pd.DataFrame(zip(norm_train_tally, norm_val_tally, norm_test_tally), columns=['train', 'validation','test']).plot(kind='bar')"
   ]
  },
  {
   "cell_type": "markdown",
   "id": "38222dd9",
   "metadata": {
    "papermill": {
     "duration": 0.030457,
     "end_time": "2023-07-12T11:17:31.709739",
     "exception": false,
     "start_time": "2023-07-12T11:17:31.679282",
     "status": "completed"
    },
    "tags": []
   },
   "source": [
    "📘 **NOTES**\n",
    "* The distribution ofthe classes between `train`, `validation`, and `test` sets are quite similar. Nice stratification!\n"
   ]
  },
  {
   "cell_type": "markdown",
   "id": "df3628b7",
   "metadata": {
    "papermill": {
     "duration": 0.028938,
     "end_time": "2023-07-12T11:17:31.771707",
     "exception": false,
     "start_time": "2023-07-12T11:17:31.742769",
     "status": "completed"
    },
    "tags": []
   },
   "source": [
    "# 3] Modelling\n",
    "\n",
    "* **Model 0 (baseline):** Multinomial Naive Bayes\n"
   ]
  },
  {
   "cell_type": "markdown",
   "id": "ae5e99fd",
   "metadata": {
    "papermill": {
     "duration": 0.030518,
     "end_time": "2023-07-12T11:17:31.831787",
     "exception": false,
     "start_time": "2023-07-12T11:17:31.801269",
     "status": "completed"
    },
    "tags": []
   },
   "source": [
    "## 3/a] Preprocessing the dataset"
   ]
  },
  {
   "cell_type": "code",
   "execution_count": 18,
   "id": "3f11fbb6",
   "metadata": {
    "execution": {
     "iopub.execute_input": "2023-07-12T11:17:31.892255Z",
     "iopub.status.busy": "2023-07-12T11:17:31.891875Z",
     "iopub.status.idle": "2023-07-12T11:17:31.896907Z",
     "shell.execute_reply": "2023-07-12T11:17:31.895845Z"
    },
    "papermill": {
     "duration": 0.037929,
     "end_time": "2023-07-12T11:17:31.899168",
     "exception": false,
     "start_time": "2023-07-12T11:17:31.861239",
     "status": "completed"
    },
    "tags": []
   },
   "outputs": [],
   "source": [
    "def features_class_split(dataset):\n",
    "    return dataset['abstract_text'], dataset['target']"
   ]
  },
  {
   "cell_type": "code",
   "execution_count": 19,
   "id": "04834ec8",
   "metadata": {
    "execution": {
     "iopub.execute_input": "2023-07-12T11:17:31.959395Z",
     "iopub.status.busy": "2023-07-12T11:17:31.959087Z",
     "iopub.status.idle": "2023-07-12T11:17:31.965770Z",
     "shell.execute_reply": "2023-07-12T11:17:31.964789Z"
    },
    "papermill": {
     "duration": 0.03962,
     "end_time": "2023-07-12T11:17:31.967923",
     "exception": false,
     "start_time": "2023-07-12T11:17:31.928303",
     "status": "completed"
    },
    "tags": []
   },
   "outputs": [
    {
     "data": {
      "text/plain": [
       "((180040,), (180040,))"
      ]
     },
     "execution_count": 19,
     "metadata": {},
     "output_type": "execute_result"
    }
   ],
   "source": [
    "X_train, y_train = features_class_split(train_df)\n",
    "X_train.shape, y_train.shape"
   ]
  },
  {
   "cell_type": "code",
   "execution_count": 20,
   "id": "140f1a0c",
   "metadata": {
    "execution": {
     "iopub.execute_input": "2023-07-12T11:17:32.027520Z",
     "iopub.status.busy": "2023-07-12T11:17:32.026615Z",
     "iopub.status.idle": "2023-07-12T11:17:32.035506Z",
     "shell.execute_reply": "2023-07-12T11:17:32.034452Z"
    },
    "papermill": {
     "duration": 0.040864,
     "end_time": "2023-07-12T11:17:32.037729",
     "exception": false,
     "start_time": "2023-07-12T11:17:31.996865",
     "status": "completed"
    },
    "tags": []
   },
   "outputs": [
    {
     "data": {
      "text/plain": [
       "0         To investigate the efficacy of 6 weeks of dail...\n",
       "1         A total of 125 patients with primary knee OA w...\n",
       "2         Outcome measures included pain reduction and i...\n",
       "3         Pain was assessed using the visual analog pain...\n",
       "4         Secondary outcome measures included the Wester...\n",
       "                                ...                        \n",
       "180035    For the absolute change in percent atheroma vo...\n",
       "180036    For PAV , a significantly greater percentage o...\n",
       "180037    Both strategies had acceptable side effect pro...\n",
       "180038    Compared with standard statin monotherapy , th...\n",
       "180039    ( Plaque Regression With Cholesterol Absorptio...\n",
       "Name: abstract_text, Length: 180040, dtype: object"
      ]
     },
     "execution_count": 20,
     "metadata": {},
     "output_type": "execute_result"
    }
   ],
   "source": [
    "X_train"
   ]
  },
  {
   "cell_type": "code",
   "execution_count": 21,
   "id": "ce3cc117",
   "metadata": {
    "execution": {
     "iopub.execute_input": "2023-07-12T11:17:32.100399Z",
     "iopub.status.busy": "2023-07-12T11:17:32.100063Z",
     "iopub.status.idle": "2023-07-12T11:17:32.109036Z",
     "shell.execute_reply": "2023-07-12T11:17:32.107906Z"
    },
    "papermill": {
     "duration": 0.041188,
     "end_time": "2023-07-12T11:17:32.111200",
     "exception": false,
     "start_time": "2023-07-12T11:17:32.070012",
     "status": "completed"
    },
    "tags": []
   },
   "outputs": [
    {
     "data": {
      "text/plain": [
       "0           OBJECTIVE\n",
       "1             METHODS\n",
       "2             METHODS\n",
       "3             METHODS\n",
       "4             METHODS\n",
       "             ...     \n",
       "180035        RESULTS\n",
       "180036        RESULTS\n",
       "180037        RESULTS\n",
       "180038    CONCLUSIONS\n",
       "180039    CONCLUSIONS\n",
       "Name: target, Length: 180040, dtype: object"
      ]
     },
     "execution_count": 21,
     "metadata": {},
     "output_type": "execute_result"
    }
   ],
   "source": [
    "y_train"
   ]
  },
  {
   "cell_type": "code",
   "execution_count": 22,
   "id": "ad04fa62",
   "metadata": {
    "execution": {
     "iopub.execute_input": "2023-07-12T11:17:32.172334Z",
     "iopub.status.busy": "2023-07-12T11:17:32.171406Z",
     "iopub.status.idle": "2023-07-12T11:17:32.178954Z",
     "shell.execute_reply": "2023-07-12T11:17:32.177683Z"
    },
    "papermill": {
     "duration": 0.040487,
     "end_time": "2023-07-12T11:17:32.181342",
     "exception": false,
     "start_time": "2023-07-12T11:17:32.140855",
     "status": "completed"
    },
    "tags": []
   },
   "outputs": [
    {
     "data": {
      "text/plain": [
       "((30212,), (30212,))"
      ]
     },
     "execution_count": 22,
     "metadata": {},
     "output_type": "execute_result"
    }
   ],
   "source": [
    "X_val, y_val = features_class_split(val_df)\n",
    "X_val.shape, y_val.shape"
   ]
  },
  {
   "cell_type": "code",
   "execution_count": 23,
   "id": "38180105",
   "metadata": {
    "execution": {
     "iopub.execute_input": "2023-07-12T11:17:32.241267Z",
     "iopub.status.busy": "2023-07-12T11:17:32.240957Z",
     "iopub.status.idle": "2023-07-12T11:17:32.250024Z",
     "shell.execute_reply": "2023-07-12T11:17:32.249086Z"
    },
    "papermill": {
     "duration": 0.041144,
     "end_time": "2023-07-12T11:17:32.252290",
     "exception": false,
     "start_time": "2023-07-12T11:17:32.211146",
     "status": "completed"
    },
    "tags": []
   },
   "outputs": [
    {
     "data": {
      "text/plain": [
       "((30135,), (30135,))"
      ]
     },
     "execution_count": 23,
     "metadata": {},
     "output_type": "execute_result"
    }
   ],
   "source": [
    "X_test, y_test = features_class_split(test_df)\n",
    "X_test.shape, y_test.shape"
   ]
  },
  {
   "cell_type": "markdown",
   "id": "2e9282ff",
   "metadata": {
    "papermill": {
     "duration": 0.02983,
     "end_time": "2023-07-12T11:17:32.311819",
     "exception": false,
     "start_time": "2023-07-12T11:17:32.281989",
     "status": "completed"
    },
    "tags": []
   },
   "source": [
    "## 3/b] **Model 0 (baseline):** Multinomial Naive Bayes"
   ]
  },
  {
   "cell_type": "markdown",
   "id": "984b0f9d",
   "metadata": {
    "papermill": {
     "duration": 0.029945,
     "end_time": "2023-07-12T11:17:32.371417",
     "exception": false,
     "start_time": "2023-07-12T11:17:32.341472",
     "status": "completed"
    },
    "tags": []
   },
   "source": [
    "### The Vectorizer"
   ]
  },
  {
   "cell_type": "code",
   "execution_count": 24,
   "id": "d6564304",
   "metadata": {
    "execution": {
     "iopub.execute_input": "2023-07-12T11:17:32.433047Z",
     "iopub.status.busy": "2023-07-12T11:17:32.432150Z",
     "iopub.status.idle": "2023-07-12T11:17:40.425915Z",
     "shell.execute_reply": "2023-07-12T11:17:40.424665Z"
    },
    "papermill": {
     "duration": 8.027091,
     "end_time": "2023-07-12T11:17:40.428477",
     "exception": false,
     "start_time": "2023-07-12T11:17:32.401386",
     "status": "completed"
    },
    "tags": []
   },
   "outputs": [
    {
     "data": {
      "text/plain": [
       "(180040, 57996)"
      ]
     },
     "execution_count": 24,
     "metadata": {},
     "output_type": "execute_result"
    }
   ],
   "source": [
    "from sklearn.feature_extraction.text import TfidfVectorizer\n",
    "\n",
    "vectorizer = TfidfVectorizer()\n",
    "results = vectorizer.fit_transform(X_train)\n",
    "results.shape"
   ]
  },
  {
   "cell_type": "code",
   "execution_count": 25,
   "id": "d9f94139",
   "metadata": {
    "execution": {
     "iopub.execute_input": "2023-07-12T11:17:40.490063Z",
     "iopub.status.busy": "2023-07-12T11:17:40.489694Z",
     "iopub.status.idle": "2023-07-12T11:17:40.541393Z",
     "shell.execute_reply": "2023-07-12T11:17:40.540213Z"
    },
    "papermill": {
     "duration": 0.085164,
     "end_time": "2023-07-12T11:17:40.543938",
     "exception": false,
     "start_time": "2023-07-12T11:17:40.458774",
     "status": "completed"
    },
    "tags": []
   },
   "outputs": [
    {
     "data": {
      "text/plain": [
       "array(['00', '000', '0000', ..., 'zygomaticotemporal', 'zygote',\n",
       "       'zygotes'], dtype=object)"
      ]
     },
     "execution_count": 25,
     "metadata": {},
     "output_type": "execute_result"
    }
   ],
   "source": [
    "vocabulary = vectorizer.get_feature_names_out()\n",
    "vocabulary"
   ]
  },
  {
   "cell_type": "code",
   "execution_count": 26,
   "id": "754283b8",
   "metadata": {
    "execution": {
     "iopub.execute_input": "2023-07-12T11:17:40.606754Z",
     "iopub.status.busy": "2023-07-12T11:17:40.605764Z",
     "iopub.status.idle": "2023-07-12T11:17:40.612971Z",
     "shell.execute_reply": "2023-07-12T11:17:40.611890Z"
    },
    "papermill": {
     "duration": 0.040728,
     "end_time": "2023-07-12T11:17:40.615242",
     "exception": false,
     "start_time": "2023-07-12T11:17:40.574514",
     "status": "completed"
    },
    "tags": []
   },
   "outputs": [
    {
     "data": {
      "text/plain": [
       "57996"
      ]
     },
     "execution_count": 26,
     "metadata": {},
     "output_type": "execute_result"
    }
   ],
   "source": [
    "len(vocabulary)"
   ]
  },
  {
   "cell_type": "code",
   "execution_count": 27,
   "id": "9af67a42",
   "metadata": {
    "execution": {
     "iopub.execute_input": "2023-07-12T11:17:40.676492Z",
     "iopub.status.busy": "2023-07-12T11:17:40.676163Z",
     "iopub.status.idle": "2023-07-12T11:17:40.709862Z",
     "shell.execute_reply": "2023-07-12T11:17:40.708876Z"
    },
    "papermill": {
     "duration": 0.06687,
     "end_time": "2023-07-12T11:17:40.712153",
     "exception": false,
     "start_time": "2023-07-12T11:17:40.645283",
     "status": "completed"
    },
    "tags": []
   },
   "outputs": [
    {
     "data": {
      "text/html": [
       "<style>#sk-container-id-1 {color: black;background-color: white;}#sk-container-id-1 pre{padding: 0;}#sk-container-id-1 div.sk-toggleable {background-color: white;}#sk-container-id-1 label.sk-toggleable__label {cursor: pointer;display: block;width: 100%;margin-bottom: 0;padding: 0.3em;box-sizing: border-box;text-align: center;}#sk-container-id-1 label.sk-toggleable__label-arrow:before {content: \"▸\";float: left;margin-right: 0.25em;color: #696969;}#sk-container-id-1 label.sk-toggleable__label-arrow:hover:before {color: black;}#sk-container-id-1 div.sk-estimator:hover label.sk-toggleable__label-arrow:before {color: black;}#sk-container-id-1 div.sk-toggleable__content {max-height: 0;max-width: 0;overflow: hidden;text-align: left;background-color: #f0f8ff;}#sk-container-id-1 div.sk-toggleable__content pre {margin: 0.2em;color: black;border-radius: 0.25em;background-color: #f0f8ff;}#sk-container-id-1 input.sk-toggleable__control:checked~div.sk-toggleable__content {max-height: 200px;max-width: 100%;overflow: auto;}#sk-container-id-1 input.sk-toggleable__control:checked~label.sk-toggleable__label-arrow:before {content: \"▾\";}#sk-container-id-1 div.sk-estimator input.sk-toggleable__control:checked~label.sk-toggleable__label {background-color: #d4ebff;}#sk-container-id-1 div.sk-label input.sk-toggleable__control:checked~label.sk-toggleable__label {background-color: #d4ebff;}#sk-container-id-1 input.sk-hidden--visually {border: 0;clip: rect(1px 1px 1px 1px);clip: rect(1px, 1px, 1px, 1px);height: 1px;margin: -1px;overflow: hidden;padding: 0;position: absolute;width: 1px;}#sk-container-id-1 div.sk-estimator {font-family: monospace;background-color: #f0f8ff;border: 1px dotted black;border-radius: 0.25em;box-sizing: border-box;margin-bottom: 0.5em;}#sk-container-id-1 div.sk-estimator:hover {background-color: #d4ebff;}#sk-container-id-1 div.sk-parallel-item::after {content: \"\";width: 100%;border-bottom: 1px solid gray;flex-grow: 1;}#sk-container-id-1 div.sk-label:hover label.sk-toggleable__label {background-color: #d4ebff;}#sk-container-id-1 div.sk-serial::before {content: \"\";position: absolute;border-left: 1px solid gray;box-sizing: border-box;top: 0;bottom: 0;left: 50%;z-index: 0;}#sk-container-id-1 div.sk-serial {display: flex;flex-direction: column;align-items: center;background-color: white;padding-right: 0.2em;padding-left: 0.2em;position: relative;}#sk-container-id-1 div.sk-item {position: relative;z-index: 1;}#sk-container-id-1 div.sk-parallel {display: flex;align-items: stretch;justify-content: center;background-color: white;position: relative;}#sk-container-id-1 div.sk-item::before, #sk-container-id-1 div.sk-parallel-item::before {content: \"\";position: absolute;border-left: 1px solid gray;box-sizing: border-box;top: 0;bottom: 0;left: 50%;z-index: -1;}#sk-container-id-1 div.sk-parallel-item {display: flex;flex-direction: column;z-index: 1;position: relative;background-color: white;}#sk-container-id-1 div.sk-parallel-item:first-child::after {align-self: flex-end;width: 50%;}#sk-container-id-1 div.sk-parallel-item:last-child::after {align-self: flex-start;width: 50%;}#sk-container-id-1 div.sk-parallel-item:only-child::after {width: 0;}#sk-container-id-1 div.sk-dashed-wrapped {border: 1px dashed gray;margin: 0 0.4em 0.5em 0.4em;box-sizing: border-box;padding-bottom: 0.4em;background-color: white;}#sk-container-id-1 div.sk-label label {font-family: monospace;font-weight: bold;display: inline-block;line-height: 1.2em;}#sk-container-id-1 div.sk-label-container {text-align: center;}#sk-container-id-1 div.sk-container {/* jupyter's `normalize.less` sets `[hidden] { display: none; }` but bootstrap.min.css set `[hidden] { display: none !important; }` so we also need the `!important` here to be able to override the default hidden behavior on the sphinx rendered scikit-learn.org. See: https://github.com/scikit-learn/scikit-learn/issues/21755 */display: inline-block !important;position: relative;}#sk-container-id-1 div.sk-text-repr-fallback {display: none;}</style><div id=\"sk-container-id-1\" class=\"sk-top-container\"><div class=\"sk-text-repr-fallback\"><pre>Pipeline(steps=[(&#x27;vectorizer&#x27;, TfidfVectorizer()), (&#x27;clf&#x27;, MultinomialNB())])</pre><b>In a Jupyter environment, please rerun this cell to show the HTML representation or trust the notebook. <br />On GitHub, the HTML representation is unable to render, please try loading this page with nbviewer.org.</b></div><div class=\"sk-container\" hidden><div class=\"sk-item sk-dashed-wrapped\"><div class=\"sk-label-container\"><div class=\"sk-label sk-toggleable\"><input class=\"sk-toggleable__control sk-hidden--visually\" id=\"sk-estimator-id-1\" type=\"checkbox\" ><label for=\"sk-estimator-id-1\" class=\"sk-toggleable__label sk-toggleable__label-arrow\">Pipeline</label><div class=\"sk-toggleable__content\"><pre>Pipeline(steps=[(&#x27;vectorizer&#x27;, TfidfVectorizer()), (&#x27;clf&#x27;, MultinomialNB())])</pre></div></div></div><div class=\"sk-serial\"><div class=\"sk-item\"><div class=\"sk-estimator sk-toggleable\"><input class=\"sk-toggleable__control sk-hidden--visually\" id=\"sk-estimator-id-2\" type=\"checkbox\" ><label for=\"sk-estimator-id-2\" class=\"sk-toggleable__label sk-toggleable__label-arrow\">TfidfVectorizer</label><div class=\"sk-toggleable__content\"><pre>TfidfVectorizer()</pre></div></div></div><div class=\"sk-item\"><div class=\"sk-estimator sk-toggleable\"><input class=\"sk-toggleable__control sk-hidden--visually\" id=\"sk-estimator-id-3\" type=\"checkbox\" ><label for=\"sk-estimator-id-3\" class=\"sk-toggleable__label sk-toggleable__label-arrow\">MultinomialNB</label><div class=\"sk-toggleable__content\"><pre>MultinomialNB()</pre></div></div></div></div></div></div></div>"
      ],
      "text/plain": [
       "Pipeline(steps=[('vectorizer', TfidfVectorizer()), ('clf', MultinomialNB())])"
      ]
     },
     "execution_count": 27,
     "metadata": {},
     "output_type": "execute_result"
    }
   ],
   "source": [
    "from sklearn.naive_bayes import MultinomialNB\n",
    "from sklearn.feature_extraction.text import TfidfVectorizer\n",
    "from sklearn.pipeline import Pipeline\n",
    "\n",
    "def build_model_0():\n",
    "    return Pipeline([\n",
    "        ('vectorizer', TfidfVectorizer()),\n",
    "        ('clf', MultinomialNB())\n",
    "    ])\n",
    "    \n",
    "\n",
    "model_0 = build_model_0()\n",
    "model_0"
   ]
  },
  {
   "cell_type": "code",
   "execution_count": 28,
   "id": "05f64e27",
   "metadata": {
    "execution": {
     "iopub.execute_input": "2023-07-12T11:17:40.776915Z",
     "iopub.status.busy": "2023-07-12T11:17:40.775994Z",
     "iopub.status.idle": "2023-07-12T11:17:48.149652Z",
     "shell.execute_reply": "2023-07-12T11:17:48.148583Z"
    },
    "papermill": {
     "duration": 7.407766,
     "end_time": "2023-07-12T11:17:48.152002",
     "exception": false,
     "start_time": "2023-07-12T11:17:40.744236",
     "status": "completed"
    },
    "tags": []
   },
   "outputs": [
    {
     "data": {
      "text/html": [
       "<style>#sk-container-id-2 {color: black;background-color: white;}#sk-container-id-2 pre{padding: 0;}#sk-container-id-2 div.sk-toggleable {background-color: white;}#sk-container-id-2 label.sk-toggleable__label {cursor: pointer;display: block;width: 100%;margin-bottom: 0;padding: 0.3em;box-sizing: border-box;text-align: center;}#sk-container-id-2 label.sk-toggleable__label-arrow:before {content: \"▸\";float: left;margin-right: 0.25em;color: #696969;}#sk-container-id-2 label.sk-toggleable__label-arrow:hover:before {color: black;}#sk-container-id-2 div.sk-estimator:hover label.sk-toggleable__label-arrow:before {color: black;}#sk-container-id-2 div.sk-toggleable__content {max-height: 0;max-width: 0;overflow: hidden;text-align: left;background-color: #f0f8ff;}#sk-container-id-2 div.sk-toggleable__content pre {margin: 0.2em;color: black;border-radius: 0.25em;background-color: #f0f8ff;}#sk-container-id-2 input.sk-toggleable__control:checked~div.sk-toggleable__content {max-height: 200px;max-width: 100%;overflow: auto;}#sk-container-id-2 input.sk-toggleable__control:checked~label.sk-toggleable__label-arrow:before {content: \"▾\";}#sk-container-id-2 div.sk-estimator input.sk-toggleable__control:checked~label.sk-toggleable__label {background-color: #d4ebff;}#sk-container-id-2 div.sk-label input.sk-toggleable__control:checked~label.sk-toggleable__label {background-color: #d4ebff;}#sk-container-id-2 input.sk-hidden--visually {border: 0;clip: rect(1px 1px 1px 1px);clip: rect(1px, 1px, 1px, 1px);height: 1px;margin: -1px;overflow: hidden;padding: 0;position: absolute;width: 1px;}#sk-container-id-2 div.sk-estimator {font-family: monospace;background-color: #f0f8ff;border: 1px dotted black;border-radius: 0.25em;box-sizing: border-box;margin-bottom: 0.5em;}#sk-container-id-2 div.sk-estimator:hover {background-color: #d4ebff;}#sk-container-id-2 div.sk-parallel-item::after {content: \"\";width: 100%;border-bottom: 1px solid gray;flex-grow: 1;}#sk-container-id-2 div.sk-label:hover label.sk-toggleable__label {background-color: #d4ebff;}#sk-container-id-2 div.sk-serial::before {content: \"\";position: absolute;border-left: 1px solid gray;box-sizing: border-box;top: 0;bottom: 0;left: 50%;z-index: 0;}#sk-container-id-2 div.sk-serial {display: flex;flex-direction: column;align-items: center;background-color: white;padding-right: 0.2em;padding-left: 0.2em;position: relative;}#sk-container-id-2 div.sk-item {position: relative;z-index: 1;}#sk-container-id-2 div.sk-parallel {display: flex;align-items: stretch;justify-content: center;background-color: white;position: relative;}#sk-container-id-2 div.sk-item::before, #sk-container-id-2 div.sk-parallel-item::before {content: \"\";position: absolute;border-left: 1px solid gray;box-sizing: border-box;top: 0;bottom: 0;left: 50%;z-index: -1;}#sk-container-id-2 div.sk-parallel-item {display: flex;flex-direction: column;z-index: 1;position: relative;background-color: white;}#sk-container-id-2 div.sk-parallel-item:first-child::after {align-self: flex-end;width: 50%;}#sk-container-id-2 div.sk-parallel-item:last-child::after {align-self: flex-start;width: 50%;}#sk-container-id-2 div.sk-parallel-item:only-child::after {width: 0;}#sk-container-id-2 div.sk-dashed-wrapped {border: 1px dashed gray;margin: 0 0.4em 0.5em 0.4em;box-sizing: border-box;padding-bottom: 0.4em;background-color: white;}#sk-container-id-2 div.sk-label label {font-family: monospace;font-weight: bold;display: inline-block;line-height: 1.2em;}#sk-container-id-2 div.sk-label-container {text-align: center;}#sk-container-id-2 div.sk-container {/* jupyter's `normalize.less` sets `[hidden] { display: none; }` but bootstrap.min.css set `[hidden] { display: none !important; }` so we also need the `!important` here to be able to override the default hidden behavior on the sphinx rendered scikit-learn.org. See: https://github.com/scikit-learn/scikit-learn/issues/21755 */display: inline-block !important;position: relative;}#sk-container-id-2 div.sk-text-repr-fallback {display: none;}</style><div id=\"sk-container-id-2\" class=\"sk-top-container\"><div class=\"sk-text-repr-fallback\"><pre>Pipeline(steps=[(&#x27;vectorizer&#x27;, TfidfVectorizer()), (&#x27;clf&#x27;, MultinomialNB())])</pre><b>In a Jupyter environment, please rerun this cell to show the HTML representation or trust the notebook. <br />On GitHub, the HTML representation is unable to render, please try loading this page with nbviewer.org.</b></div><div class=\"sk-container\" hidden><div class=\"sk-item sk-dashed-wrapped\"><div class=\"sk-label-container\"><div class=\"sk-label sk-toggleable\"><input class=\"sk-toggleable__control sk-hidden--visually\" id=\"sk-estimator-id-4\" type=\"checkbox\" ><label for=\"sk-estimator-id-4\" class=\"sk-toggleable__label sk-toggleable__label-arrow\">Pipeline</label><div class=\"sk-toggleable__content\"><pre>Pipeline(steps=[(&#x27;vectorizer&#x27;, TfidfVectorizer()), (&#x27;clf&#x27;, MultinomialNB())])</pre></div></div></div><div class=\"sk-serial\"><div class=\"sk-item\"><div class=\"sk-estimator sk-toggleable\"><input class=\"sk-toggleable__control sk-hidden--visually\" id=\"sk-estimator-id-5\" type=\"checkbox\" ><label for=\"sk-estimator-id-5\" class=\"sk-toggleable__label sk-toggleable__label-arrow\">TfidfVectorizer</label><div class=\"sk-toggleable__content\"><pre>TfidfVectorizer()</pre></div></div></div><div class=\"sk-item\"><div class=\"sk-estimator sk-toggleable\"><input class=\"sk-toggleable__control sk-hidden--visually\" id=\"sk-estimator-id-6\" type=\"checkbox\" ><label for=\"sk-estimator-id-6\" class=\"sk-toggleable__label sk-toggleable__label-arrow\">MultinomialNB</label><div class=\"sk-toggleable__content\"><pre>MultinomialNB()</pre></div></div></div></div></div></div></div>"
      ],
      "text/plain": [
       "Pipeline(steps=[('vectorizer', TfidfVectorizer()), ('clf', MultinomialNB())])"
      ]
     },
     "execution_count": 28,
     "metadata": {},
     "output_type": "execute_result"
    }
   ],
   "source": [
    "model_0.fit(X_train, y_train)"
   ]
  },
  {
   "cell_type": "code",
   "execution_count": 29,
   "id": "b1a7b5b4",
   "metadata": {
    "execution": {
     "iopub.execute_input": "2023-07-12T11:17:48.215989Z",
     "iopub.status.busy": "2023-07-12T11:17:48.215599Z",
     "iopub.status.idle": "2023-07-12T11:17:49.188363Z",
     "shell.execute_reply": "2023-07-12T11:17:49.187115Z"
    },
    "papermill": {
     "duration": 1.007676,
     "end_time": "2023-07-12T11:17:49.191402",
     "exception": false,
     "start_time": "2023-07-12T11:17:48.183726",
     "status": "completed"
    },
    "tags": []
   },
   "outputs": [
    {
     "data": {
      "text/plain": [
       "((30212,),\n",
       " array(['BACKGROUND', 'CONCLUSIONS', 'OBJECTIVE', 'METHODS', 'METHODS'],\n",
       "       dtype='<U11'))"
      ]
     },
     "execution_count": 29,
     "metadata": {},
     "output_type": "execute_result"
    }
   ],
   "source": [
    "model_0_predictions = model_0.predict(X_val)\n",
    "\n",
    "model_0_predictions.shape, model_0_predictions[:5]"
   ]
  },
  {
   "cell_type": "code",
   "execution_count": 30,
   "id": "6cdb48ab",
   "metadata": {
    "execution": {
     "iopub.execute_input": "2023-07-12T11:17:49.255844Z",
     "iopub.status.busy": "2023-07-12T11:17:49.255345Z",
     "iopub.status.idle": "2023-07-12T11:17:49.666393Z",
     "shell.execute_reply": "2023-07-12T11:17:49.665083Z"
    },
    "papermill": {
     "duration": 0.446702,
     "end_time": "2023-07-12T11:17:49.669731",
     "exception": false,
     "start_time": "2023-07-12T11:17:49.223029",
     "status": "completed"
    },
    "tags": []
   },
   "outputs": [
    {
     "data": {
      "text/plain": [
       "{'precision': 0.7315166696974572,\n",
       " 'recall': 0.7317291142592347,\n",
       " 'f1': 0.7058060715307974}"
      ]
     },
     "execution_count": 30,
     "metadata": {},
     "output_type": "execute_result"
    }
   ],
   "source": [
    "from sklearn.metrics import precision_recall_fscore_support\n",
    "\n",
    "def score_predictions(y_true, y_predictions):\n",
    "    precision, recall, f1, _ = precision_recall_fscore_support(y_true, y_predictions, labels=CLASSES, average='weighted')\n",
    "    return {\n",
    "        'precision': precision,\n",
    "        'recall': recall,\n",
    "        'f1': f1\n",
    "    }\n",
    "\n",
    "score_predictions(y_val, model_0_predictions)"
   ]
  },
  {
   "cell_type": "code",
   "execution_count": 31,
   "id": "8cd2e939",
   "metadata": {
    "execution": {
     "iopub.execute_input": "2023-07-12T11:17:49.736064Z",
     "iopub.status.busy": "2023-07-12T11:17:49.735077Z",
     "iopub.status.idle": "2023-07-12T11:17:49.751742Z",
     "shell.execute_reply": "2023-07-12T11:17:49.750566Z"
    },
    "papermill": {
     "duration": 0.051345,
     "end_time": "2023-07-12T11:17:49.754491",
     "exception": false,
     "start_time": "2023-07-12T11:17:49.703146",
     "status": "completed"
    },
    "tags": []
   },
   "outputs": [
    {
     "data": {
      "text/html": [
       "<div>\n",
       "<style scoped>\n",
       "    .dataframe tbody tr th:only-of-type {\n",
       "        vertical-align: middle;\n",
       "    }\n",
       "\n",
       "    .dataframe tbody tr th {\n",
       "        vertical-align: top;\n",
       "    }\n",
       "\n",
       "    .dataframe thead th {\n",
       "        text-align: right;\n",
       "    }\n",
       "</style>\n",
       "<table border=\"1\" class=\"dataframe\">\n",
       "  <thead>\n",
       "    <tr style=\"text-align: right;\">\n",
       "      <th></th>\n",
       "      <th>Sentence</th>\n",
       "      <th>True Label</th>\n",
       "      <th>Prediction</th>\n",
       "      <th>Correct?</th>\n",
       "    </tr>\n",
       "  </thead>\n",
       "  <tbody>\n",
       "    <tr>\n",
       "      <th>0</th>\n",
       "      <td>IgE sensitization to Aspergillus fumigatus and...</td>\n",
       "      <td>BACKGROUND</td>\n",
       "      <td>BACKGROUND</td>\n",
       "      <td>True</td>\n",
       "    </tr>\n",
       "    <tr>\n",
       "      <th>1</th>\n",
       "      <td>It is not clear whether these patients would b...</td>\n",
       "      <td>BACKGROUND</td>\n",
       "      <td>CONCLUSIONS</td>\n",
       "      <td>False</td>\n",
       "    </tr>\n",
       "    <tr>\n",
       "      <th>2</th>\n",
       "      <td>We sought to determine whether a 3-month cours...</td>\n",
       "      <td>OBJECTIVE</td>\n",
       "      <td>OBJECTIVE</td>\n",
       "      <td>True</td>\n",
       "    </tr>\n",
       "    <tr>\n",
       "      <th>3</th>\n",
       "      <td>Asthmatic patients who were IgE sensitized to ...</td>\n",
       "      <td>METHODS</td>\n",
       "      <td>METHODS</td>\n",
       "      <td>True</td>\n",
       "    </tr>\n",
       "    <tr>\n",
       "      <th>4</th>\n",
       "      <td>Primary outcomes were improvement in quality o...</td>\n",
       "      <td>METHODS</td>\n",
       "      <td>METHODS</td>\n",
       "      <td>True</td>\n",
       "    </tr>\n",
       "    <tr>\n",
       "      <th>5</th>\n",
       "      <td>Sixty-five patients were randomized .</td>\n",
       "      <td>RESULTS</td>\n",
       "      <td>METHODS</td>\n",
       "      <td>False</td>\n",
       "    </tr>\n",
       "    <tr>\n",
       "      <th>6</th>\n",
       "      <td>Fifty-nine patients started treatment ( 32 rec...</td>\n",
       "      <td>RESULTS</td>\n",
       "      <td>RESULTS</td>\n",
       "      <td>True</td>\n",
       "    </tr>\n",
       "    <tr>\n",
       "      <th>7</th>\n",
       "      <td>Fifty-six patients took the full 3 months of m...</td>\n",
       "      <td>RESULTS</td>\n",
       "      <td>METHODS</td>\n",
       "      <td>False</td>\n",
       "    </tr>\n",
       "    <tr>\n",
       "      <th>8</th>\n",
       "      <td>Between the voriconazole and placebo groups , ...</td>\n",
       "      <td>RESULTS</td>\n",
       "      <td>RESULTS</td>\n",
       "      <td>True</td>\n",
       "    </tr>\n",
       "    <tr>\n",
       "      <th>9</th>\n",
       "      <td>We were unable to show a beneficial effect of ...</td>\n",
       "      <td>CONCLUSIONS</td>\n",
       "      <td>RESULTS</td>\n",
       "      <td>False</td>\n",
       "    </tr>\n",
       "  </tbody>\n",
       "</table>\n",
       "</div>"
      ],
      "text/plain": [
       "                                            Sentence   True Label  \\\n",
       "0  IgE sensitization to Aspergillus fumigatus and...   BACKGROUND   \n",
       "1  It is not clear whether these patients would b...   BACKGROUND   \n",
       "2  We sought to determine whether a 3-month cours...    OBJECTIVE   \n",
       "3  Asthmatic patients who were IgE sensitized to ...      METHODS   \n",
       "4  Primary outcomes were improvement in quality o...      METHODS   \n",
       "5              Sixty-five patients were randomized .      RESULTS   \n",
       "6  Fifty-nine patients started treatment ( 32 rec...      RESULTS   \n",
       "7  Fifty-six patients took the full 3 months of m...      RESULTS   \n",
       "8  Between the voriconazole and placebo groups , ...      RESULTS   \n",
       "9  We were unable to show a beneficial effect of ...  CONCLUSIONS   \n",
       "\n",
       "    Prediction  Correct?  \n",
       "0   BACKGROUND      True  \n",
       "1  CONCLUSIONS     False  \n",
       "2    OBJECTIVE      True  \n",
       "3      METHODS      True  \n",
       "4      METHODS      True  \n",
       "5      METHODS     False  \n",
       "6      RESULTS      True  \n",
       "7      METHODS     False  \n",
       "8      RESULTS      True  \n",
       "9      RESULTS     False  "
      ]
     },
     "execution_count": 31,
     "metadata": {},
     "output_type": "execute_result"
    }
   ],
   "source": [
    "def show_sample_predictions(model_predictions, n=10):\n",
    "    return pd.DataFrame(zip(X_val[:n], y_val[:n], model_predictions[:n], (y_val[:n] == model_predictions[:n])), \n",
    "                        columns=['Sentence', 'True Label', 'Prediction', 'Correct?'])\n",
    "\n",
    "show_sample_predictions(model_0_predictions)"
   ]
  },
  {
   "cell_type": "markdown",
   "id": "624f5704",
   "metadata": {
    "papermill": {
     "duration": 0.030556,
     "end_time": "2023-07-12T11:17:49.820000",
     "exception": false,
     "start_time": "2023-07-12T11:17:49.789444",
     "status": "completed"
    },
    "tags": []
   },
   "source": [
    "## 3/b] **Model 1 (RNN model 1):** LSTM model"
   ]
  },
  {
   "cell_type": "markdown",
   "id": "0caf17bd",
   "metadata": {
    "papermill": {
     "duration": 0.03043,
     "end_time": "2023-07-12T11:17:49.885535",
     "exception": false,
     "start_time": "2023-07-12T11:17:49.855105",
     "status": "completed"
    },
    "tags": []
   },
   "source": [
    "### Find the appropriate sentence length"
   ]
  },
  {
   "cell_type": "code",
   "execution_count": 32,
   "id": "2b0e657d",
   "metadata": {
    "execution": {
     "iopub.execute_input": "2023-07-12T11:17:49.949355Z",
     "iopub.status.busy": "2023-07-12T11:17:49.948994Z",
     "iopub.status.idle": "2023-07-12T11:17:50.468561Z",
     "shell.execute_reply": "2023-07-12T11:17:50.467402Z"
    },
    "papermill": {
     "duration": 0.554462,
     "end_time": "2023-07-12T11:17:50.471338",
     "exception": false,
     "start_time": "2023-07-12T11:17:49.916876",
     "status": "completed"
    },
    "tags": []
   },
   "outputs": [],
   "source": [
    "sentence_lengths = pd.DataFrame([len(sentence.split()) for sentence in X_train], columns=['sentence length'])"
   ]
  },
  {
   "cell_type": "code",
   "execution_count": 33,
   "id": "61bd7521",
   "metadata": {
    "execution": {
     "iopub.execute_input": "2023-07-12T11:17:50.537591Z",
     "iopub.status.busy": "2023-07-12T11:17:50.536600Z",
     "iopub.status.idle": "2023-07-12T11:17:51.011435Z",
     "shell.execute_reply": "2023-07-12T11:17:51.010358Z"
    },
    "papermill": {
     "duration": 0.509783,
     "end_time": "2023-07-12T11:17:51.013741",
     "exception": false,
     "start_time": "2023-07-12T11:17:50.503958",
     "status": "completed"
    },
    "tags": []
   },
   "outputs": [
    {
     "data": {
      "text/html": [
       "<div>\n",
       "<style scoped>\n",
       "    .dataframe tbody tr th:only-of-type {\n",
       "        vertical-align: middle;\n",
       "    }\n",
       "\n",
       "    .dataframe tbody tr th {\n",
       "        vertical-align: top;\n",
       "    }\n",
       "\n",
       "    .dataframe thead th {\n",
       "        text-align: right;\n",
       "    }\n",
       "</style>\n",
       "<table border=\"1\" class=\"dataframe\">\n",
       "  <thead>\n",
       "    <tr style=\"text-align: right;\">\n",
       "      <th></th>\n",
       "      <th>sentence length</th>\n",
       "    </tr>\n",
       "  </thead>\n",
       "  <tbody>\n",
       "    <tr>\n",
       "      <th>count</th>\n",
       "      <td>180040.000000</td>\n",
       "    </tr>\n",
       "    <tr>\n",
       "      <th>mean</th>\n",
       "      <td>26.338436</td>\n",
       "    </tr>\n",
       "    <tr>\n",
       "      <th>std</th>\n",
       "      <td>15.386976</td>\n",
       "    </tr>\n",
       "    <tr>\n",
       "      <th>min</th>\n",
       "      <td>1.000000</td>\n",
       "    </tr>\n",
       "    <tr>\n",
       "      <th>25%</th>\n",
       "      <td>16.000000</td>\n",
       "    </tr>\n",
       "    <tr>\n",
       "      <th>50%</th>\n",
       "      <td>23.000000</td>\n",
       "    </tr>\n",
       "    <tr>\n",
       "      <th>75%</th>\n",
       "      <td>33.000000</td>\n",
       "    </tr>\n",
       "    <tr>\n",
       "      <th>max</th>\n",
       "      <td>296.000000</td>\n",
       "    </tr>\n",
       "  </tbody>\n",
       "</table>\n",
       "</div>"
      ],
      "text/plain": [
       "       sentence length\n",
       "count    180040.000000\n",
       "mean         26.338436\n",
       "std          15.386976\n",
       "min           1.000000\n",
       "25%          16.000000\n",
       "50%          23.000000\n",
       "75%          33.000000\n",
       "max         296.000000"
      ]
     },
     "execution_count": 33,
     "metadata": {},
     "output_type": "execute_result"
    },
    {
     "data": {
      "image/png": "[encoded data removed]",
      "text/plain": [
       "<Figure size 640x480 with 1 Axes>"
      ]
     },
     "metadata": {},
     "output_type": "display_data"
    }
   ],
   "source": [
    "sentence_lengths.hist(bins=50)\n",
    "sentence_lengths.describe()"
   ]
  },
  {
   "cell_type": "code",
   "execution_count": 34,
   "id": "36119671",
   "metadata": {
    "execution": {
     "iopub.execute_input": "2023-07-12T11:17:51.079949Z",
     "iopub.status.busy": "2023-07-12T11:17:51.079556Z",
     "iopub.status.idle": "2023-07-12T11:17:51.089692Z",
     "shell.execute_reply": "2023-07-12T11:17:51.088571Z"
    },
    "papermill": {
     "duration": 0.045875,
     "end_time": "2023-07-12T11:17:51.092111",
     "exception": false,
     "start_time": "2023-07-12T11:17:51.046236",
     "status": "completed"
    },
    "tags": []
   },
   "outputs": [
    {
     "data": {
      "text/plain": [
       "45"
      ]
     },
     "execution_count": 34,
     "metadata": {},
     "output_type": "execute_result"
    }
   ],
   "source": [
    "SENTENCE_LENGTH = int(np.percentile(sentence_lengths, 90))\n",
    "SENTENCE_LENGTH"
   ]
  },
  {
   "cell_type": "markdown",
   "id": "910513f2",
   "metadata": {
    "papermill": {
     "duration": 0.0314,
     "end_time": "2023-07-12T11:17:51.155978",
     "exception": false,
     "start_time": "2023-07-12T11:17:51.124578",
     "status": "completed"
    },
    "tags": []
   },
   "source": [
    "### Explore TF vectorizer"
   ]
  },
  {
   "cell_type": "code",
   "execution_count": 35,
   "id": "d3cceb50",
   "metadata": {
    "execution": {
     "iopub.execute_input": "2023-07-12T11:17:51.221845Z",
     "iopub.status.busy": "2023-07-12T11:17:51.221067Z",
     "iopub.status.idle": "2023-07-12T11:18:18.079148Z",
     "shell.execute_reply": "2023-07-12T11:18:18.077864Z"
    },
    "papermill": {
     "duration": 26.89399,
     "end_time": "2023-07-12T11:18:18.082135",
     "exception": false,
     "start_time": "2023-07-12T11:17:51.188145",
     "status": "completed"
    },
    "tags": []
   },
   "outputs": [],
   "source": [
    "from tensorflow.keras.layers import TextVectorization\n",
    "\n",
    "VOCABULARY_LENGTH = 5000\n",
    "vectorizer = TextVectorization(\n",
    "    max_tokens = VOCABULARY_LENGTH,\n",
    "    output_mode=\"int\",\n",
    "    output_sequence_length=SENTENCE_LENGTH\n",
    ")\n",
    "vectorizer.adapt(X_train)"
   ]
  },
  {
   "cell_type": "code",
   "execution_count": 36,
   "id": "ddaf3fe4",
   "metadata": {
    "execution": {
     "iopub.execute_input": "2023-07-12T11:18:18.149782Z",
     "iopub.status.busy": "2023-07-12T11:18:18.149389Z",
     "iopub.status.idle": "2023-07-12T11:18:18.178856Z",
     "shell.execute_reply": "2023-07-12T11:18:18.177822Z"
    },
    "papermill": {
     "duration": 0.065679,
     "end_time": "2023-07-12T11:18:18.181086",
     "exception": false,
     "start_time": "2023-07-12T11:18:18.115407",
     "status": "completed"
    },
    "tags": []
   },
   "outputs": [
    {
     "data": {
      "text/plain": [
       "(5000,\n",
       "        0           1\n",
       " 0         amiodarone\n",
       " 1  [UNK]      always\n",
       " 2    the   alleviate\n",
       " 3    and         aki\n",
       " 4     of          ab\n",
       " 5     in         313\n",
       " 6     to         247\n",
       " 7   with        0029\n",
       " 8      a  vulnerable\n",
       " 9   were   synthetic)"
      ]
     },
     "execution_count": 36,
     "metadata": {},
     "output_type": "execute_result"
    }
   ],
   "source": [
    "vocabulary = vectorizer.get_vocabulary()\n",
    "\n",
    "len(vocabulary), pd.DataFrame(zip(vocabulary[:10], vocabulary[-10:]))"
   ]
  },
  {
   "cell_type": "code",
   "execution_count": 37,
   "id": "b0251938",
   "metadata": {
    "execution": {
     "iopub.execute_input": "2023-07-12T11:18:18.249176Z",
     "iopub.status.busy": "2023-07-12T11:18:18.247354Z",
     "iopub.status.idle": "2023-07-12T11:18:18.387850Z",
     "shell.execute_reply": "2023-07-12T11:18:18.386666Z"
    },
    "papermill": {
     "duration": 0.176771,
     "end_time": "2023-07-12T11:18:18.390411",
     "exception": false,
     "start_time": "2023-07-12T11:18:18.213640",
     "status": "completed"
    },
    "tags": []
   },
   "outputs": [
    {
     "data": {
      "text/html": [
       "<div>\n",
       "<style scoped>\n",
       "    .dataframe tbody tr th:only-of-type {\n",
       "        vertical-align: middle;\n",
       "    }\n",
       "\n",
       "    .dataframe tbody tr th {\n",
       "        vertical-align: top;\n",
       "    }\n",
       "\n",
       "    .dataframe thead th {\n",
       "        text-align: right;\n",
       "    }\n",
       "</style>\n",
       "<table border=\"1\" class=\"dataframe\">\n",
       "  <thead>\n",
       "    <tr style=\"text-align: right;\">\n",
       "      <th></th>\n",
       "      <th>Sentence</th>\n",
       "      <th>Vectorized sentence</th>\n",
       "    </tr>\n",
       "  </thead>\n",
       "  <tbody>\n",
       "    <tr>\n",
       "      <th>0</th>\n",
       "      <td>To investigate the efficacy of 6 weeks of dail...</td>\n",
       "      <td>[6, 356, 2, 82, 4, 72, 65, 4, 172, 1231, 226, ...</td>\n",
       "    </tr>\n",
       "    <tr>\n",
       "      <th>1</th>\n",
       "      <td>A total of 125 patients with primary knee OA w...</td>\n",
       "      <td>[8, 79, 4, 1029, 12, 7, 57, 557, 1895, 9, 29, ...</td>\n",
       "    </tr>\n",
       "    <tr>\n",
       "      <th>2</th>\n",
       "      <td>Outcome measures included pain reduction and i...</td>\n",
       "      <td>[88, 220, 128, 66, 181, 3, 204, 5, 160, 126, 3...</td>\n",
       "    </tr>\n",
       "    <tr>\n",
       "      <th>3</th>\n",
       "      <td>Pain was assessed using the visual analog pain...</td>\n",
       "      <td>[66, 10, 118, 60, 2, 310, 1065, 66, 170, 1, 28...</td>\n",
       "    </tr>\n",
       "    <tr>\n",
       "      <th>4</th>\n",
       "      <td>Secondary outcome measures included the Wester...</td>\n",
       "      <td>[162, 88, 220, 128, 2, 1488, 1, 3, 1, 1, 1564,...</td>\n",
       "    </tr>\n",
       "  </tbody>\n",
       "</table>\n",
       "</div>"
      ],
      "text/plain": [
       "                                            Sentence  \\\n",
       "0  To investigate the efficacy of 6 weeks of dail...   \n",
       "1  A total of 125 patients with primary knee OA w...   \n",
       "2  Outcome measures included pain reduction and i...   \n",
       "3  Pain was assessed using the visual analog pain...   \n",
       "4  Secondary outcome measures included the Wester...   \n",
       "\n",
       "                                 Vectorized sentence  \n",
       "0  [6, 356, 2, 82, 4, 72, 65, 4, 172, 1231, 226, ...  \n",
       "1  [8, 79, 4, 1029, 12, 7, 57, 557, 1895, 9, 29, ...  \n",
       "2  [88, 220, 128, 66, 181, 3, 204, 5, 160, 126, 3...  \n",
       "3  [66, 10, 118, 60, 2, 310, 1065, 66, 170, 1, 28...  \n",
       "4  [162, 88, 220, 128, 2, 1488, 1, 3, 1, 1, 1564,...  "
      ]
     },
     "execution_count": 37,
     "metadata": {},
     "output_type": "execute_result"
    }
   ],
   "source": [
    "sample_sentences = X_train[:5]\n",
    "sample_vectorized_sentences = vectorizer(sample_sentences)\n",
    "\n",
    "pd.DataFrame(zip(sample_sentences, sample_vectorized_sentences.numpy()),\n",
    "            columns=['Sentence', 'Vectorized sentence'])"
   ]
  },
  {
   "cell_type": "markdown",
   "id": "2a8a789a",
   "metadata": {
    "papermill": {
     "duration": 0.032413,
     "end_time": "2023-07-12T11:18:18.458720",
     "exception": false,
     "start_time": "2023-07-12T11:18:18.426307",
     "status": "completed"
    },
    "tags": []
   },
   "source": [
    "### Explore TF Embedding"
   ]
  },
  {
   "cell_type": "code",
   "execution_count": 38,
   "id": "4c333b8d",
   "metadata": {
    "execution": {
     "iopub.execute_input": "2023-07-12T11:18:18.525127Z",
     "iopub.status.busy": "2023-07-12T11:18:18.524414Z",
     "iopub.status.idle": "2023-07-12T11:18:18.533667Z",
     "shell.execute_reply": "2023-07-12T11:18:18.532566Z"
    },
    "papermill": {
     "duration": 0.044861,
     "end_time": "2023-07-12T11:18:18.536033",
     "exception": false,
     "start_time": "2023-07-12T11:18:18.491172",
     "status": "completed"
    },
    "tags": []
   },
   "outputs": [],
   "source": [
    "from tensorflow.keras.layers import Embedding\n",
    "\n",
    "EMBEDDING_DIMENSION = 512\n",
    "\n",
    "def make_embedding():\n",
    "    return Embedding(\n",
    "        input_dim=VOCABULARY_LENGTH,\n",
    "        output_dim=EMBEDDING_DIMENSION,\n",
    "        input_length=SENTENCE_LENGTH\n",
    "    )\n",
    "\n",
    "embedding = make_embedding()"
   ]
  },
  {
   "cell_type": "code",
   "execution_count": 39,
   "id": "54788d6d",
   "metadata": {
    "execution": {
     "iopub.execute_input": "2023-07-12T11:18:18.602232Z",
     "iopub.status.busy": "2023-07-12T11:18:18.601894Z",
     "iopub.status.idle": "2023-07-12T11:18:18.669810Z",
     "shell.execute_reply": "2023-07-12T11:18:18.668628Z"
    },
    "papermill": {
     "duration": 0.104004,
     "end_time": "2023-07-12T11:18:18.672612",
     "exception": false,
     "start_time": "2023-07-12T11:18:18.568608",
     "status": "completed"
    },
    "tags": []
   },
   "outputs": [
    {
     "data": {
      "text/plain": [
       "<tf.Tensor: shape=(5, 45, 512), dtype=float32, numpy=\n",
       "array([[[-0.00872795, -0.00047916, -0.03621984, ...,  0.03007198,\n",
       "         -0.03940027, -0.04326714],\n",
       "        [ 0.04756692,  0.0290862 , -0.03918672, ...,  0.01188614,\n",
       "         -0.04626371, -0.0121372 ],\n",
       "        [-0.01289467,  0.03753278, -0.00539821, ...,  0.02464176,\n",
       "         -0.01119621,  0.01759655],\n",
       "        ...,\n",
       "        [-0.00158641, -0.00525819, -0.04728538, ...,  0.02966139,\n",
       "         -0.01716183,  0.03514746],\n",
       "        [ 0.00913434, -0.00163442,  0.01295699, ..., -0.02713188,\n",
       "         -0.04655104,  0.01034285],\n",
       "        [ 0.03581891,  0.01626286, -0.01412892, ...,  0.0452905 ,\n",
       "         -0.02311034,  0.02508745]],\n",
       "\n",
       "       [[-0.04173072, -0.02671394, -0.00819439, ..., -0.03924815,\n",
       "          0.03026411, -0.01449645],\n",
       "        [ 0.02525577,  0.02984539, -0.00592512, ..., -0.03958876,\n",
       "          0.00627631,  0.01648164],\n",
       "        [-0.03275682,  0.00603578, -0.0449412 , ...,  0.03293948,\n",
       "          0.03431762, -0.02514657],\n",
       "        ...,\n",
       "        [ 0.03581891,  0.01626286, -0.01412892, ...,  0.0452905 ,\n",
       "         -0.02311034,  0.02508745],\n",
       "        [ 0.03581891,  0.01626286, -0.01412892, ...,  0.0452905 ,\n",
       "         -0.02311034,  0.02508745],\n",
       "        [ 0.03581891,  0.01626286, -0.01412892, ...,  0.0452905 ,\n",
       "         -0.02311034,  0.02508745]],\n",
       "\n",
       "       [[-0.00403283,  0.03662724,  0.00680878, ...,  0.04918501,\n",
       "         -0.0439512 , -0.01274885],\n",
       "        [ 0.02505181, -0.04449875, -0.02078739, ...,  0.03826511,\n",
       "          0.02763439, -0.00655673],\n",
       "        [ 0.0267853 , -0.00423729,  0.02750838, ...,  0.03764858,\n",
       "          0.01883388,  0.00729959],\n",
       "        ...,\n",
       "        [ 0.03581891,  0.01626286, -0.01412892, ...,  0.0452905 ,\n",
       "         -0.02311034,  0.02508745],\n",
       "        [ 0.03581891,  0.01626286, -0.01412892, ...,  0.0452905 ,\n",
       "         -0.02311034,  0.02508745],\n",
       "        [ 0.03581891,  0.01626286, -0.01412892, ...,  0.0452905 ,\n",
       "         -0.02311034,  0.02508745]],\n",
       "\n",
       "       [[-0.01535591,  0.01433163, -0.02503929, ...,  0.00627261,\n",
       "         -0.03482354, -0.03762902],\n",
       "        [-0.01452326,  0.00591768, -0.03356653, ..., -0.03776317,\n",
       "         -0.01912084,  0.00298883],\n",
       "        [-0.00222422, -0.02222561,  0.03733286, ..., -0.01092639,\n",
       "          0.03934323, -0.01174093],\n",
       "        ...,\n",
       "        [ 0.03581891,  0.01626286, -0.01412892, ...,  0.0452905 ,\n",
       "         -0.02311034,  0.02508745],\n",
       "        [ 0.03581891,  0.01626286, -0.01412892, ...,  0.0452905 ,\n",
       "         -0.02311034,  0.02508745],\n",
       "        [ 0.03581891,  0.01626286, -0.01412892, ...,  0.0452905 ,\n",
       "         -0.02311034,  0.02508745]],\n",
       "\n",
       "       [[ 0.01044143,  0.01619948,  0.03847546, ..., -0.04052573,\n",
       "         -0.03202992, -0.04919037],\n",
       "        [-0.00403283,  0.03662724,  0.00680878, ...,  0.04918501,\n",
       "         -0.0439512 , -0.01274885],\n",
       "        [ 0.02505181, -0.04449875, -0.02078739, ...,  0.03826511,\n",
       "          0.02763439, -0.00655673],\n",
       "        ...,\n",
       "        [ 0.03581891,  0.01626286, -0.01412892, ...,  0.0452905 ,\n",
       "         -0.02311034,  0.02508745],\n",
       "        [ 0.03581891,  0.01626286, -0.01412892, ...,  0.0452905 ,\n",
       "         -0.02311034,  0.02508745],\n",
       "        [ 0.03581891,  0.01626286, -0.01412892, ...,  0.0452905 ,\n",
       "         -0.02311034,  0.02508745]]], dtype=float32)>"
      ]
     },
     "execution_count": 39,
     "metadata": {},
     "output_type": "execute_result"
    }
   ],
   "source": [
    "sample_embedding = embedding(vectorizer(X_train[:5]))\n",
    "sample_embedding"
   ]
  },
  {
   "cell_type": "markdown",
   "id": "65aaa515",
   "metadata": {
    "papermill": {
     "duration": 0.033571,
     "end_time": "2023-07-12T11:18:18.742378",
     "exception": false,
     "start_time": "2023-07-12T11:18:18.708807",
     "status": "completed"
    },
    "tags": []
   },
   "source": [
    "### The Model"
   ]
  },
  {
   "cell_type": "code",
   "execution_count": 40,
   "id": "aaeea92f",
   "metadata": {
    "execution": {
     "iopub.execute_input": "2023-07-12T11:18:18.810283Z",
     "iopub.status.busy": "2023-07-12T11:18:18.809891Z",
     "iopub.status.idle": "2023-07-12T11:18:19.228034Z",
     "shell.execute_reply": "2023-07-12T11:18:19.226389Z"
    },
    "papermill": {
     "duration": 0.463009,
     "end_time": "2023-07-12T11:18:19.238557",
     "exception": false,
     "start_time": "2023-07-12T11:18:18.775548",
     "status": "completed"
    },
    "tags": []
   },
   "outputs": [
    {
     "name": "stdout",
     "output_type": "stream",
     "text": [
      "Model: \"sequential\"\n",
      "_________________________________________________________________\n",
      " Layer (type)                Output Shape              Param #   \n",
      "=================================================================\n",
      " text_vectorization (TextVec  (None, 45)               0         \n",
      " torization)                                                     \n",
      "                                                                 \n",
      " embedding_1 (Embedding)     (None, 45, 512)           2560000   \n",
      "                                                                 \n",
      " lstm (LSTM)                 (None, 64)                147712    \n",
      "                                                                 \n",
      " dense (Dense)               (None, 5)                 325       \n",
      "                                                                 \n",
      "=================================================================\n",
      "Total params: 2,708,037\n",
      "Trainable params: 2,708,037\n",
      "Non-trainable params: 0\n",
      "_________________________________________________________________\n"
     ]
    }
   ],
   "source": [
    "from tensorflow.keras.layers import Input, Dense, LSTM\n",
    "from tensorflow.keras import Sequential\n",
    "\n",
    "def build_model_1():\n",
    "    return Sequential([\n",
    "        Input(shape=(1,), dtype=tf.string),\n",
    "        vectorizer, \n",
    "        make_embedding(),\n",
    "        LSTM(64),\n",
    "        Dense(len(CLASSES), activation='softmax')        \n",
    "    ])\n",
    "    \n",
    "model_1 = build_model_1()\n",
    "model_1.summary()"
   ]
  },
  {
   "cell_type": "markdown",
   "id": "a9866203",
   "metadata": {
    "papermill": {
     "duration": 0.03443,
     "end_time": "2023-07-12T11:18:19.308078",
     "exception": false,
     "start_time": "2023-07-12T11:18:19.273648",
     "status": "completed"
    },
    "tags": []
   },
   "source": [
    "### Label classes to numeric values"
   ]
  },
  {
   "cell_type": "code",
   "execution_count": 41,
   "id": "8859619d",
   "metadata": {
    "execution": {
     "iopub.execute_input": "2023-07-12T11:18:19.379026Z",
     "iopub.status.busy": "2023-07-12T11:18:19.378592Z",
     "iopub.status.idle": "2023-07-12T11:18:19.389644Z",
     "shell.execute_reply": "2023-07-12T11:18:19.388554Z"
    },
    "papermill": {
     "duration": 0.049699,
     "end_time": "2023-07-12T11:18:19.392486",
     "exception": false,
     "start_time": "2023-07-12T11:18:19.342787",
     "status": "completed"
    },
    "tags": []
   },
   "outputs": [
    {
     "data": {
      "text/plain": [
       "array([0, 3, 2, 4, 1])"
      ]
     },
     "execution_count": 41,
     "metadata": {},
     "output_type": "execute_result"
    }
   ],
   "source": [
    "from sklearn.preprocessing import LabelEncoder\n",
    "\n",
    "y_encoder = LabelEncoder()\n",
    "y_encoder.fit(CLASSES)\n",
    "y_encoder.transform(CLASSES)"
   ]
  },
  {
   "cell_type": "code",
   "execution_count": 42,
   "id": "f0ab3fee",
   "metadata": {
    "execution": {
     "iopub.execute_input": "2023-07-12T11:18:19.467210Z",
     "iopub.status.busy": "2023-07-12T11:18:19.466896Z",
     "iopub.status.idle": "2023-07-12T11:18:19.694985Z",
     "shell.execute_reply": "2023-07-12T11:18:19.693694Z"
    },
    "papermill": {
     "duration": 0.266218,
     "end_time": "2023-07-12T11:18:19.697606",
     "exception": false,
     "start_time": "2023-07-12T11:18:19.431388",
     "status": "completed"
    },
    "tags": []
   },
   "outputs": [
    {
     "data": {
      "text/plain": [
       "(array([3, 2, 2, 2, 2, 2, 4, 4, 4, 4]), array([0, 0, 3, 2, 2, 4, 4, 4, 4, 1]))"
      ]
     },
     "execution_count": 42,
     "metadata": {},
     "output_type": "execute_result"
    }
   ],
   "source": [
    "y_train_encoded = y_encoder.transform(y_train)\n",
    "y_val_encoded = y_encoder.transform(y_val)\n",
    "\n",
    "y_train_encoded[:10], y_val_encoded[:10]"
   ]
  },
  {
   "cell_type": "code",
   "execution_count": 43,
   "id": "98eb2fec",
   "metadata": {
    "execution": {
     "iopub.execute_input": "2023-07-12T11:18:19.772989Z",
     "iopub.status.busy": "2023-07-12T11:18:19.772575Z",
     "iopub.status.idle": "2023-07-12T11:20:42.339575Z",
     "shell.execute_reply": "2023-07-12T11:20:42.338448Z"
    },
    "papermill": {
     "duration": 142.606206,
     "end_time": "2023-07-12T11:20:42.342261",
     "exception": false,
     "start_time": "2023-07-12T11:18:19.736055",
     "status": "completed"
    },
    "tags": []
   },
   "outputs": [
    {
     "name": "stdout",
     "output_type": "stream",
     "text": [
      "Epoch 1/5\n",
      "1406/1406 [==============================] - 69s 42ms/step - loss: 0.7062 - accuracy: 0.7340 - val_loss: 0.5246 - val_accuracy: 0.8112\n",
      "Epoch 2/5\n",
      "1406/1406 [==============================] - 21s 14ms/step - loss: 0.4827 - accuracy: 0.8245 - val_loss: 0.4716 - val_accuracy: 0.8248\n",
      "Epoch 3/5\n",
      "1406/1406 [==============================] - 18s 13ms/step - loss: 0.4287 - accuracy: 0.8428 - val_loss: 0.4597 - val_accuracy: 0.8311\n",
      "Epoch 4/5\n",
      "1406/1406 [==============================] - 17s 12ms/step - loss: 0.3885 - accuracy: 0.8571 - val_loss: 0.4762 - val_accuracy: 0.8224\n",
      "Epoch 5/5\n",
      "1406/1406 [==============================] - 17s 12ms/step - loss: 0.3496 - accuracy: 0.8712 - val_loss: 0.4774 - val_accuracy: 0.8297\n"
     ]
    }
   ],
   "source": [
    "from tensorflow.keras.losses import SparseCategoricalCrossentropy\n",
    "from tensorflow.keras.optimizers import Adam\n",
    "\n",
    "model_1.compile(\n",
    "    loss=SparseCategoricalCrossentropy(),\n",
    "    optimizer=Adam(),\n",
    "    metrics=['accuracy']\n",
    ")\n",
    "\n",
    "BATCH_SIZE = 128\n",
    "model_1_history = model_1.fit(X_train, y_train_encoded,\n",
    "                              batch_size=BATCH_SIZE,\n",
    "                              steps_per_epoch=len(X_train)//BATCH_SIZE,\n",
    "                              epochs=5,\n",
    "                              validation_data=(X_val, y_val_encoded),\n",
    "                              validation_batch_size=BATCH_SIZE,\n",
    "                              validation_steps=len(X_val)//BATCH_SIZE\n",
    "                             )"
   ]
  },
  {
   "cell_type": "code",
   "execution_count": 44,
   "id": "8cc82fa2",
   "metadata": {
    "execution": {
     "iopub.execute_input": "2023-07-12T11:20:42.662804Z",
     "iopub.status.busy": "2023-07-12T11:20:42.661706Z",
     "iopub.status.idle": "2023-07-12T11:20:43.047297Z",
     "shell.execute_reply": "2023-07-12T11:20:43.046302Z"
    },
    "papermill": {
     "duration": 0.542652,
     "end_time": "2023-07-12T11:20:43.049681",
     "exception": false,
     "start_time": "2023-07-12T11:20:42.507029",
     "status": "completed"
    },
    "tags": []
   },
   "outputs": [
    {
     "data": {
      "text/plain": [
       "<Axes: >"
      ]
     },
     "execution_count": 44,
     "metadata": {},
     "output_type": "execute_result"
    },
    {
     "data": {
      "image/png": "[encoded data removed]",
      "text/plain": [
       "<Figure size 640x480 with 1 Axes>"
      ]
     },
     "metadata": {},
     "output_type": "display_data"
    }
   ],
   "source": [
    "pd.DataFrame(model_1_history.history).plot()"
   ]
  },
  {
   "cell_type": "code",
   "execution_count": 45,
   "id": "6579cd08",
   "metadata": {
    "execution": {
     "iopub.execute_input": "2023-07-12T11:20:43.367667Z",
     "iopub.status.busy": "2023-07-12T11:20:43.365833Z",
     "iopub.status.idle": "2023-07-12T11:20:48.322857Z",
     "shell.execute_reply": "2023-07-12T11:20:48.321635Z"
    },
    "papermill": {
     "duration": 5.115064,
     "end_time": "2023-07-12T11:20:48.325350",
     "exception": false,
     "start_time": "2023-07-12T11:20:43.210286",
     "status": "completed"
    },
    "tags": []
   },
   "outputs": [
    {
     "name": "stdout",
     "output_type": "stream",
     "text": [
      "945/945 [==============================] - 4s 4ms/step\n",
      "(30212,)\n"
     ]
    },
    {
     "data": {
      "text/plain": [
       "array(['BACKGROUND', 'BACKGROUND', 'OBJECTIVE', 'METHODS', 'METHODS',\n",
       "       'RESULTS', 'RESULTS', 'METHODS', 'RESULTS', 'CONCLUSIONS'],\n",
       "      dtype='<U11')"
      ]
     },
     "execution_count": 45,
     "metadata": {},
     "output_type": "execute_result"
    }
   ],
   "source": [
    "def model_predict(model, X):\n",
    "    y_values = np.argmax(model.predict(X), axis=1)\n",
    "    print(y_values.shape)\n",
    "    return y_encoder.inverse_transform(y_values)\n",
    "\n",
    "model_1_predictions = model_predict(model_1, X_val)\n",
    "model_1_predictions[:10]"
   ]
  },
  {
   "cell_type": "code",
   "execution_count": 46,
   "id": "824e4cf2",
   "metadata": {
    "execution": {
     "iopub.execute_input": "2023-07-12T11:20:48.656176Z",
     "iopub.status.busy": "2023-07-12T11:20:48.655777Z",
     "iopub.status.idle": "2023-07-12T11:20:49.203596Z",
     "shell.execute_reply": "2023-07-12T11:20:49.202576Z"
    },
    "papermill": {
     "duration": 0.71482,
     "end_time": "2023-07-12T11:20:49.205938",
     "exception": false,
     "start_time": "2023-07-12T11:20:48.491118",
     "status": "completed"
    },
    "tags": []
   },
   "outputs": [
    {
     "data": {
      "image/png": "[encoded data removed]",
      "text/plain": [
       "<Figure size 640x480 with 2 Axes>"
      ]
     },
     "metadata": {},
     "output_type": "display_data"
    }
   ],
   "source": [
    "from sklearn.metrics import ConfusionMatrixDisplay\n",
    "\n",
    "def show_confusion_matrix(y_true, y_predictions):\n",
    "    ConfusionMatrixDisplay.from_predictions(y_true, y_predictions,\n",
    "                                            labels=CLASSES,\n",
    "                                            normalize='true',\n",
    "                                            xticks_rotation='vertical',\n",
    "                                            cmap='Greens')\n",
    "    \n",
    "show_confusion_matrix(y_val, model_1_predictions)"
   ]
  },
  {
   "cell_type": "code",
   "execution_count": 47,
   "id": "78bb725b",
   "metadata": {
    "execution": {
     "iopub.execute_input": "2023-07-12T11:20:49.538188Z",
     "iopub.status.busy": "2023-07-12T11:20:49.537807Z",
     "iopub.status.idle": "2023-07-12T11:20:49.551416Z",
     "shell.execute_reply": "2023-07-12T11:20:49.550354Z"
    },
    "papermill": {
     "duration": 0.18195,
     "end_time": "2023-07-12T11:20:49.553782",
     "exception": false,
     "start_time": "2023-07-12T11:20:49.371832",
     "status": "completed"
    },
    "tags": []
   },
   "outputs": [
    {
     "data": {
      "text/html": [
       "<div>\n",
       "<style scoped>\n",
       "    .dataframe tbody tr th:only-of-type {\n",
       "        vertical-align: middle;\n",
       "    }\n",
       "\n",
       "    .dataframe tbody tr th {\n",
       "        vertical-align: top;\n",
       "    }\n",
       "\n",
       "    .dataframe thead th {\n",
       "        text-align: right;\n",
       "    }\n",
       "</style>\n",
       "<table border=\"1\" class=\"dataframe\">\n",
       "  <thead>\n",
       "    <tr style=\"text-align: right;\">\n",
       "      <th></th>\n",
       "      <th>Sentence</th>\n",
       "      <th>True Label</th>\n",
       "      <th>Prediction</th>\n",
       "      <th>Correct?</th>\n",
       "    </tr>\n",
       "  </thead>\n",
       "  <tbody>\n",
       "    <tr>\n",
       "      <th>0</th>\n",
       "      <td>IgE sensitization to Aspergillus fumigatus and...</td>\n",
       "      <td>BACKGROUND</td>\n",
       "      <td>BACKGROUND</td>\n",
       "      <td>True</td>\n",
       "    </tr>\n",
       "    <tr>\n",
       "      <th>1</th>\n",
       "      <td>It is not clear whether these patients would b...</td>\n",
       "      <td>BACKGROUND</td>\n",
       "      <td>BACKGROUND</td>\n",
       "      <td>True</td>\n",
       "    </tr>\n",
       "    <tr>\n",
       "      <th>2</th>\n",
       "      <td>We sought to determine whether a 3-month cours...</td>\n",
       "      <td>OBJECTIVE</td>\n",
       "      <td>OBJECTIVE</td>\n",
       "      <td>True</td>\n",
       "    </tr>\n",
       "    <tr>\n",
       "      <th>3</th>\n",
       "      <td>Asthmatic patients who were IgE sensitized to ...</td>\n",
       "      <td>METHODS</td>\n",
       "      <td>METHODS</td>\n",
       "      <td>True</td>\n",
       "    </tr>\n",
       "    <tr>\n",
       "      <th>4</th>\n",
       "      <td>Primary outcomes were improvement in quality o...</td>\n",
       "      <td>METHODS</td>\n",
       "      <td>METHODS</td>\n",
       "      <td>True</td>\n",
       "    </tr>\n",
       "    <tr>\n",
       "      <th>5</th>\n",
       "      <td>Sixty-five patients were randomized .</td>\n",
       "      <td>RESULTS</td>\n",
       "      <td>RESULTS</td>\n",
       "      <td>True</td>\n",
       "    </tr>\n",
       "    <tr>\n",
       "      <th>6</th>\n",
       "      <td>Fifty-nine patients started treatment ( 32 rec...</td>\n",
       "      <td>RESULTS</td>\n",
       "      <td>RESULTS</td>\n",
       "      <td>True</td>\n",
       "    </tr>\n",
       "    <tr>\n",
       "      <th>7</th>\n",
       "      <td>Fifty-six patients took the full 3 months of m...</td>\n",
       "      <td>RESULTS</td>\n",
       "      <td>METHODS</td>\n",
       "      <td>False</td>\n",
       "    </tr>\n",
       "    <tr>\n",
       "      <th>8</th>\n",
       "      <td>Between the voriconazole and placebo groups , ...</td>\n",
       "      <td>RESULTS</td>\n",
       "      <td>RESULTS</td>\n",
       "      <td>True</td>\n",
       "    </tr>\n",
       "    <tr>\n",
       "      <th>9</th>\n",
       "      <td>We were unable to show a beneficial effect of ...</td>\n",
       "      <td>CONCLUSIONS</td>\n",
       "      <td>CONCLUSIONS</td>\n",
       "      <td>True</td>\n",
       "    </tr>\n",
       "  </tbody>\n",
       "</table>\n",
       "</div>"
      ],
      "text/plain": [
       "                                            Sentence   True Label  \\\n",
       "0  IgE sensitization to Aspergillus fumigatus and...   BACKGROUND   \n",
       "1  It is not clear whether these patients would b...   BACKGROUND   \n",
       "2  We sought to determine whether a 3-month cours...    OBJECTIVE   \n",
       "3  Asthmatic patients who were IgE sensitized to ...      METHODS   \n",
       "4  Primary outcomes were improvement in quality o...      METHODS   \n",
       "5              Sixty-five patients were randomized .      RESULTS   \n",
       "6  Fifty-nine patients started treatment ( 32 rec...      RESULTS   \n",
       "7  Fifty-six patients took the full 3 months of m...      RESULTS   \n",
       "8  Between the voriconazole and placebo groups , ...      RESULTS   \n",
       "9  We were unable to show a beneficial effect of ...  CONCLUSIONS   \n",
       "\n",
       "    Prediction  Correct?  \n",
       "0   BACKGROUND      True  \n",
       "1   BACKGROUND      True  \n",
       "2    OBJECTIVE      True  \n",
       "3      METHODS      True  \n",
       "4      METHODS      True  \n",
       "5      RESULTS      True  \n",
       "6      RESULTS      True  \n",
       "7      METHODS     False  \n",
       "8      RESULTS      True  \n",
       "9  CONCLUSIONS      True  "
      ]
     },
     "execution_count": 47,
     "metadata": {},
     "output_type": "execute_result"
    }
   ],
   "source": [
    "show_sample_predictions(model_1_predictions)"
   ]
  },
  {
   "cell_type": "code",
   "execution_count": 48,
   "id": "d5ab9f77",
   "metadata": {
    "execution": {
     "iopub.execute_input": "2023-07-12T11:20:50.166955Z",
     "iopub.status.busy": "2023-07-12T11:20:50.166491Z",
     "iopub.status.idle": "2023-07-12T11:20:50.574055Z",
     "shell.execute_reply": "2023-07-12T11:20:50.572944Z"
    },
    "papermill": {
     "duration": 0.753769,
     "end_time": "2023-07-12T11:20:50.580151",
     "exception": false,
     "start_time": "2023-07-12T11:20:49.826382",
     "status": "completed"
    },
    "tags": []
   },
   "outputs": [
    {
     "data": {
      "text/plain": [
       "{'precision': 0.8287435904607195,\n",
       " 'recall': 0.8296703296703297,\n",
       " 'f1': 0.8281464334898042}"
      ]
     },
     "execution_count": 48,
     "metadata": {},
     "output_type": "execute_result"
    }
   ],
   "source": [
    "score_predictions(y_val, model_1_predictions)"
   ]
  },
  {
   "cell_type": "markdown",
   "id": "3ecfa4cb",
   "metadata": {
    "papermill": {
     "duration": 0.268788,
     "end_time": "2023-07-12T11:20:51.125529",
     "exception": false,
     "start_time": "2023-07-12T11:20:50.856741",
     "status": "completed"
    },
    "tags": []
   },
   "source": [
    "## 3/c] **Model 2 (RNN model 2):** GRU model"
   ]
  },
  {
   "cell_type": "code",
   "execution_count": 49,
   "id": "1d7fe53f",
   "metadata": {
    "execution": {
     "iopub.execute_input": "2023-07-12T11:20:51.582955Z",
     "iopub.status.busy": "2023-07-12T11:20:51.582558Z",
     "iopub.status.idle": "2023-07-12T11:20:51.908064Z",
     "shell.execute_reply": "2023-07-12T11:20:51.907022Z"
    },
    "papermill": {
     "duration": 0.520659,
     "end_time": "2023-07-12T11:20:51.916728",
     "exception": false,
     "start_time": "2023-07-12T11:20:51.396069",
     "status": "completed"
    },
    "tags": []
   },
   "outputs": [
    {
     "name": "stdout",
     "output_type": "stream",
     "text": [
      "Model: \"sequential_1\"\n",
      "_________________________________________________________________\n",
      " Layer (type)                Output Shape              Param #   \n",
      "=================================================================\n",
      " text_vectorization (TextVec  (None, 45)               0         \n",
      " torization)                                                     \n",
      "                                                                 \n",
      " embedding_2 (Embedding)     (None, 45, 512)           2560000   \n",
      "                                                                 \n",
      " gru (GRU)                   (None, 64)                110976    \n",
      "                                                                 \n",
      " dense_1 (Dense)             (None, 5)                 325       \n",
      "                                                                 \n",
      "=================================================================\n",
      "Total params: 2,671,301\n",
      "Trainable params: 2,671,301\n",
      "Non-trainable params: 0\n",
      "_________________________________________________________________\n"
     ]
    }
   ],
   "source": [
    "from tensorflow.keras.layers import GRU\n",
    "\n",
    "def build_model_2():\n",
    "    return Sequential([\n",
    "        Input(shape=[], dtype=tf.string),\n",
    "        vectorizer,\n",
    "        make_embedding(),\n",
    "        GRU(64),\n",
    "        Dense(len(CLASSES), activation='softmax')\n",
    "    ])\n",
    "    \n",
    "model_2 = build_model_2()\n",
    "model_2.summary()"
   ]
  },
  {
   "cell_type": "code",
   "execution_count": 50,
   "id": "9d4e8ba2",
   "metadata": {
    "execution": {
     "iopub.execute_input": "2023-07-12T11:20:52.253086Z",
     "iopub.status.busy": "2023-07-12T11:20:52.252724Z",
     "iopub.status.idle": "2023-07-12T11:23:16.515910Z",
     "shell.execute_reply": "2023-07-12T11:23:16.514745Z"
    },
    "papermill": {
     "duration": 144.434935,
     "end_time": "2023-07-12T11:23:16.518863",
     "exception": false,
     "start_time": "2023-07-12T11:20:52.083928",
     "status": "completed"
    },
    "tags": []
   },
   "outputs": [
    {
     "name": "stdout",
     "output_type": "stream",
     "text": [
      "Epoch 1/5\n",
      "1407/1407 [==============================] - 48s 32ms/step - loss: 0.6742 - accuracy: 0.7334 - val_loss: 0.4869 - val_accuracy: 0.8197\n",
      "Epoch 2/5\n",
      "1407/1407 [==============================] - 18s 13ms/step - loss: 0.4564 - accuracy: 0.8320 - val_loss: 0.4612 - val_accuracy: 0.8267\n",
      "Epoch 3/5\n",
      "1407/1407 [==============================] - 16s 11ms/step - loss: 0.4064 - accuracy: 0.8510 - val_loss: 0.4554 - val_accuracy: 0.8315\n",
      "Epoch 4/5\n",
      "1407/1407 [==============================] - 16s 12ms/step - loss: 0.3631 - accuracy: 0.8675 - val_loss: 0.4703 - val_accuracy: 0.8302\n",
      "Epoch 5/5\n",
      "1407/1407 [==============================] - 17s 12ms/step - loss: 0.3215 - accuracy: 0.8831 - val_loss: 0.4881 - val_accuracy: 0.8276\n"
     ]
    }
   ],
   "source": [
    "model_2.compile(\n",
    "    loss=SparseCategoricalCrossentropy(),\n",
    "    optimizer=Adam(),\n",
    "    metrics=['accuracy']\n",
    ")\n",
    "\n",
    "model_2_history = model_2.fit(X_train, y_train_encoded,\n",
    "                              batch_size=BATCH_SIZE,\n",
    "                              epochs=5,\n",
    "                              validation_data=(X_val, y_val_encoded),\n",
    "                              validation_batch_size=BATCH_SIZE)"
   ]
  },
  {
   "cell_type": "code",
   "execution_count": 51,
   "id": "e77be7db",
   "metadata": {
    "execution": {
     "iopub.execute_input": "2023-07-12T11:23:17.103052Z",
     "iopub.status.busy": "2023-07-12T11:23:17.102654Z",
     "iopub.status.idle": "2023-07-12T11:23:17.511167Z",
     "shell.execute_reply": "2023-07-12T11:23:17.510143Z"
    },
    "papermill": {
     "duration": 0.703159,
     "end_time": "2023-07-12T11:23:17.513554",
     "exception": false,
     "start_time": "2023-07-12T11:23:16.810395",
     "status": "completed"
    },
    "tags": []
   },
   "outputs": [
    {
     "data": {
      "text/plain": [
       "<Axes: >"
      ]
     },
     "execution_count": 51,
     "metadata": {},
     "output_type": "execute_result"
    },
    {
     "data": {
      "image/png": "[encoded data removed]",
      "text/plain": [
       "<Figure size 640x480 with 1 Axes>"
      ]
     },
     "metadata": {},
     "output_type": "display_data"
    }
   ],
   "source": [
    "pd.DataFrame(model_2_history.history).plot()"
   ]
  },
  {
   "cell_type": "code",
   "execution_count": 52,
   "id": "29168f7d",
   "metadata": {
    "execution": {
     "iopub.execute_input": "2023-07-12T11:23:18.146913Z",
     "iopub.status.busy": "2023-07-12T11:23:18.145419Z",
     "iopub.status.idle": "2023-07-12T11:23:23.929775Z",
     "shell.execute_reply": "2023-07-12T11:23:23.928629Z"
    },
    "papermill": {
     "duration": 6.12724,
     "end_time": "2023-07-12T11:23:23.932454",
     "exception": false,
     "start_time": "2023-07-12T11:23:17.805214",
     "status": "completed"
    },
    "tags": []
   },
   "outputs": [
    {
     "name": "stdout",
     "output_type": "stream",
     "text": [
      "945/945 [==============================] - 4s 4ms/step\n",
      "(30212,)\n"
     ]
    },
    {
     "data": {
      "text/plain": [
       "{'precision': 0.8271251101547755,\n",
       " 'recall': 0.827551966106183,\n",
       " 'f1': 0.8259652096401678}"
      ]
     },
     "execution_count": 52,
     "metadata": {},
     "output_type": "execute_result"
    }
   ],
   "source": [
    "model_2_predictions = model_predict(model_2, X_val)\n",
    "\n",
    "score_predictions(y_val, model_2_predictions)"
   ]
  },
  {
   "cell_type": "code",
   "execution_count": 53,
   "id": "df2ae4a8",
   "metadata": {
    "execution": {
     "iopub.execute_input": "2023-07-12T11:23:24.547310Z",
     "iopub.status.busy": "2023-07-12T11:23:24.546910Z",
     "iopub.status.idle": "2023-07-12T11:23:25.095549Z",
     "shell.execute_reply": "2023-07-12T11:23:25.094535Z"
    },
    "papermill": {
     "duration": 0.846892,
     "end_time": "2023-07-12T11:23:25.097995",
     "exception": false,
     "start_time": "2023-07-12T11:23:24.251103",
     "status": "completed"
    },
    "tags": []
   },
   "outputs": [
    {
     "data": {
      "image/png": "[encoded data removed]",
      "text/plain": [
       "<Figure size 640x480 with 2 Axes>"
      ]
     },
     "metadata": {},
     "output_type": "display_data"
    }
   ],
   "source": [
    "show_confusion_matrix(y_val, model_2_predictions)"
   ]
  },
  {
   "cell_type": "code",
   "execution_count": 54,
   "id": "840dc7c3",
   "metadata": {
    "execution": {
     "iopub.execute_input": "2023-07-12T11:23:25.704298Z",
     "iopub.status.busy": "2023-07-12T11:23:25.703199Z",
     "iopub.status.idle": "2023-07-12T11:23:25.729104Z",
     "shell.execute_reply": "2023-07-12T11:23:25.727711Z"
    },
    "papermill": {
     "duration": 0.337983,
     "end_time": "2023-07-12T11:23:25.733305",
     "exception": false,
     "start_time": "2023-07-12T11:23:25.395322",
     "status": "completed"
    },
    "tags": []
   },
   "outputs": [
    {
     "data": {
      "text/html": [
       "<div>\n",
       "<style scoped>\n",
       "    .dataframe tbody tr th:only-of-type {\n",
       "        vertical-align: middle;\n",
       "    }\n",
       "\n",
       "    .dataframe tbody tr th {\n",
       "        vertical-align: top;\n",
       "    }\n",
       "\n",
       "    .dataframe thead th {\n",
       "        text-align: right;\n",
       "    }\n",
       "</style>\n",
       "<table border=\"1\" class=\"dataframe\">\n",
       "  <thead>\n",
       "    <tr style=\"text-align: right;\">\n",
       "      <th></th>\n",
       "      <th>Sentence</th>\n",
       "      <th>True Label</th>\n",
       "      <th>Prediction</th>\n",
       "      <th>Correct?</th>\n",
       "    </tr>\n",
       "  </thead>\n",
       "  <tbody>\n",
       "    <tr>\n",
       "      <th>0</th>\n",
       "      <td>IgE sensitization to Aspergillus fumigatus and...</td>\n",
       "      <td>BACKGROUND</td>\n",
       "      <td>BACKGROUND</td>\n",
       "      <td>True</td>\n",
       "    </tr>\n",
       "    <tr>\n",
       "      <th>1</th>\n",
       "      <td>It is not clear whether these patients would b...</td>\n",
       "      <td>BACKGROUND</td>\n",
       "      <td>BACKGROUND</td>\n",
       "      <td>True</td>\n",
       "    </tr>\n",
       "    <tr>\n",
       "      <th>2</th>\n",
       "      <td>We sought to determine whether a 3-month cours...</td>\n",
       "      <td>OBJECTIVE</td>\n",
       "      <td>OBJECTIVE</td>\n",
       "      <td>True</td>\n",
       "    </tr>\n",
       "    <tr>\n",
       "      <th>3</th>\n",
       "      <td>Asthmatic patients who were IgE sensitized to ...</td>\n",
       "      <td>METHODS</td>\n",
       "      <td>METHODS</td>\n",
       "      <td>True</td>\n",
       "    </tr>\n",
       "    <tr>\n",
       "      <th>4</th>\n",
       "      <td>Primary outcomes were improvement in quality o...</td>\n",
       "      <td>METHODS</td>\n",
       "      <td>METHODS</td>\n",
       "      <td>True</td>\n",
       "    </tr>\n",
       "    <tr>\n",
       "      <th>5</th>\n",
       "      <td>Sixty-five patients were randomized .</td>\n",
       "      <td>RESULTS</td>\n",
       "      <td>RESULTS</td>\n",
       "      <td>True</td>\n",
       "    </tr>\n",
       "    <tr>\n",
       "      <th>6</th>\n",
       "      <td>Fifty-nine patients started treatment ( 32 rec...</td>\n",
       "      <td>RESULTS</td>\n",
       "      <td>RESULTS</td>\n",
       "      <td>True</td>\n",
       "    </tr>\n",
       "    <tr>\n",
       "      <th>7</th>\n",
       "      <td>Fifty-six patients took the full 3 months of m...</td>\n",
       "      <td>RESULTS</td>\n",
       "      <td>METHODS</td>\n",
       "      <td>False</td>\n",
       "    </tr>\n",
       "    <tr>\n",
       "      <th>8</th>\n",
       "      <td>Between the voriconazole and placebo groups , ...</td>\n",
       "      <td>RESULTS</td>\n",
       "      <td>RESULTS</td>\n",
       "      <td>True</td>\n",
       "    </tr>\n",
       "    <tr>\n",
       "      <th>9</th>\n",
       "      <td>We were unable to show a beneficial effect of ...</td>\n",
       "      <td>CONCLUSIONS</td>\n",
       "      <td>CONCLUSIONS</td>\n",
       "      <td>True</td>\n",
       "    </tr>\n",
       "  </tbody>\n",
       "</table>\n",
       "</div>"
      ],
      "text/plain": [
       "                                            Sentence   True Label  \\\n",
       "0  IgE sensitization to Aspergillus fumigatus and...   BACKGROUND   \n",
       "1  It is not clear whether these patients would b...   BACKGROUND   \n",
       "2  We sought to determine whether a 3-month cours...    OBJECTIVE   \n",
       "3  Asthmatic patients who were IgE sensitized to ...      METHODS   \n",
       "4  Primary outcomes were improvement in quality o...      METHODS   \n",
       "5              Sixty-five patients were randomized .      RESULTS   \n",
       "6  Fifty-nine patients started treatment ( 32 rec...      RESULTS   \n",
       "7  Fifty-six patients took the full 3 months of m...      RESULTS   \n",
       "8  Between the voriconazole and placebo groups , ...      RESULTS   \n",
       "9  We were unable to show a beneficial effect of ...  CONCLUSIONS   \n",
       "\n",
       "    Prediction  Correct?  \n",
       "0   BACKGROUND      True  \n",
       "1   BACKGROUND      True  \n",
       "2    OBJECTIVE      True  \n",
       "3      METHODS      True  \n",
       "4      METHODS      True  \n",
       "5      RESULTS      True  \n",
       "6      RESULTS      True  \n",
       "7      METHODS     False  \n",
       "8      RESULTS      True  \n",
       "9  CONCLUSIONS      True  "
      ]
     },
     "execution_count": 54,
     "metadata": {},
     "output_type": "execute_result"
    }
   ],
   "source": [
    "show_sample_predictions(model_2_predictions)"
   ]
  },
  {
   "cell_type": "markdown",
   "id": "f0c2f391",
   "metadata": {
    "papermill": {
     "duration": 0.296987,
     "end_time": "2023-07-12T11:23:26.363981",
     "exception": false,
     "start_time": "2023-07-12T11:23:26.066994",
     "status": "completed"
    },
    "tags": []
   },
   "source": [
    "## 3/d] **Model 3 (RNN model 3):** Bidirectional model"
   ]
  },
  {
   "cell_type": "code",
   "execution_count": 55,
   "id": "e67836ad",
   "metadata": {
    "execution": {
     "iopub.execute_input": "2023-07-12T11:23:26.970427Z",
     "iopub.status.busy": "2023-07-12T11:23:26.970033Z",
     "iopub.status.idle": "2023-07-12T11:23:27.539860Z",
     "shell.execute_reply": "2023-07-12T11:23:27.538804Z"
    },
    "papermill": {
     "duration": 0.888961,
     "end_time": "2023-07-12T11:23:27.551767",
     "exception": false,
     "start_time": "2023-07-12T11:23:26.662806",
     "status": "completed"
    },
    "tags": []
   },
   "outputs": [
    {
     "name": "stdout",
     "output_type": "stream",
     "text": [
      "Model: \"sequential_2\"\n",
      "_________________________________________________________________\n",
      " Layer (type)                Output Shape              Param #   \n",
      "=================================================================\n",
      " text_vectorization (TextVec  (None, 45)               0         \n",
      " torization)                                                     \n",
      "                                                                 \n",
      " embedding_3 (Embedding)     (None, 45, 512)           2560000   \n",
      "                                                                 \n",
      " bidirectional (Bidirectiona  (None, 128)              221952    \n",
      " l)                                                              \n",
      "                                                                 \n",
      " dense_2 (Dense)             (None, 5)                 645       \n",
      "                                                                 \n",
      "=================================================================\n",
      "Total params: 2,782,597\n",
      "Trainable params: 2,782,597\n",
      "Non-trainable params: 0\n",
      "_________________________________________________________________\n"
     ]
    }
   ],
   "source": [
    "from tensorflow.keras.layers import Bidirectional\n",
    "\n",
    "def build_model_3():\n",
    "    return Sequential([\n",
    "        Input(shape=[], dtype=tf.string),\n",
    "        vectorizer, \n",
    "        make_embedding(),\n",
    "        Bidirectional(GRU(64)),\n",
    "        Dense(len(CLASSES), activation='softmax')\n",
    "    ])\n",
    "    \n",
    "model_3 = build_model_3()\n",
    "model_3.summary()"
   ]
  },
  {
   "cell_type": "code",
   "execution_count": 56,
   "id": "fa08e132",
   "metadata": {
    "execution": {
     "iopub.execute_input": "2023-07-12T11:23:28.202547Z",
     "iopub.status.busy": "2023-07-12T11:23:28.202146Z",
     "iopub.status.idle": "2023-07-12T11:25:54.125525Z",
     "shell.execute_reply": "2023-07-12T11:25:54.124305Z"
    },
    "papermill": {
     "duration": 146.275914,
     "end_time": "2023-07-12T11:25:54.128388",
     "exception": false,
     "start_time": "2023-07-12T11:23:27.852474",
     "status": "completed"
    },
    "tags": []
   },
   "outputs": [
    {
     "name": "stdout",
     "output_type": "stream",
     "text": [
      "Epoch 1/5\n",
      "1406/1406 [==============================] - 55s 35ms/step - loss: 0.5645 - accuracy: 0.7890 - val_loss: 0.4720 - val_accuracy: 0.8243\n",
      "Epoch 2/5\n",
      "1406/1406 [==============================] - 23s 16ms/step - loss: 0.4466 - accuracy: 0.8354 - val_loss: 0.4551 - val_accuracy: 0.8294\n",
      "Epoch 3/5\n",
      "1406/1406 [==============================] - 22s 16ms/step - loss: 0.4016 - accuracy: 0.8520 - val_loss: 0.4507 - val_accuracy: 0.8330\n",
      "Epoch 4/5\n",
      "1406/1406 [==============================] - 21s 15ms/step - loss: 0.3585 - accuracy: 0.8688 - val_loss: 0.4682 - val_accuracy: 0.8273\n",
      "Epoch 5/5\n",
      "1406/1406 [==============================] - 21s 15ms/step - loss: 0.3140 - accuracy: 0.8849 - val_loss: 0.4917 - val_accuracy: 0.8268\n"
     ]
    }
   ],
   "source": [
    "model_3.compile(\n",
    "    loss=SparseCategoricalCrossentropy(),\n",
    "    optimizer=Adam(),\n",
    "    metrics=['accuracy']\n",
    ")\n",
    "\n",
    "model_3_history = model_3.fit(X_train, y_train_encoded,\n",
    "                              batch_size=BATCH_SIZE,\n",
    "                              steps_per_epoch=len(X_train)//BATCH_SIZE,\n",
    "                              epochs=5,\n",
    "                              validation_data=(X_val, y_val_encoded),\n",
    "                              validation_batch_size=BATCH_SIZE,\n",
    "                              validation_steps=len(X_val)//BATCH_SIZE\n",
    "                             )"
   ]
  },
  {
   "cell_type": "code",
   "execution_count": 57,
   "id": "63d7d7f7",
   "metadata": {
    "execution": {
     "iopub.execute_input": "2023-07-12T11:25:55.073856Z",
     "iopub.status.busy": "2023-07-12T11:25:55.073457Z",
     "iopub.status.idle": "2023-07-12T11:25:55.466540Z",
     "shell.execute_reply": "2023-07-12T11:25:55.465499Z"
    },
    "papermill": {
     "duration": 0.888131,
     "end_time": "2023-07-12T11:25:55.468807",
     "exception": false,
     "start_time": "2023-07-12T11:25:54.580676",
     "status": "completed"
    },
    "tags": []
   },
   "outputs": [
    {
     "data": {
      "text/plain": [
       "<Axes: >"
      ]
     },
     "execution_count": 57,
     "metadata": {},
     "output_type": "execute_result"
    },
    {
     "data": {
      "image/png": "[encoded data removed]",
      "text/plain": [
       "<Figure size 640x480 with 1 Axes>"
      ]
     },
     "metadata": {},
     "output_type": "display_data"
    }
   ],
   "source": [
    "pd.DataFrame(model_3_history.history).plot()"
   ]
  },
  {
   "cell_type": "code",
   "execution_count": 58,
   "id": "e68d0e5d",
   "metadata": {
    "execution": {
     "iopub.execute_input": "2023-07-12T11:25:56.416338Z",
     "iopub.status.busy": "2023-07-12T11:25:56.415939Z",
     "iopub.status.idle": "2023-07-12T11:26:02.316250Z",
     "shell.execute_reply": "2023-07-12T11:26:02.315095Z"
    },
    "papermill": {
     "duration": 6.344535,
     "end_time": "2023-07-12T11:26:02.318956",
     "exception": false,
     "start_time": "2023-07-12T11:25:55.974421",
     "status": "completed"
    },
    "tags": []
   },
   "outputs": [
    {
     "name": "stdout",
     "output_type": "stream",
     "text": [
      "945/945 [==============================] - 5s 5ms/step\n",
      "(30212,)\n"
     ]
    },
    {
     "data": {
      "text/plain": [
       "array(['BACKGROUND', 'BACKGROUND', 'OBJECTIVE', 'METHODS', 'METHODS'],\n",
       "      dtype='<U11')"
      ]
     },
     "execution_count": 58,
     "metadata": {},
     "output_type": "execute_result"
    }
   ],
   "source": [
    "model_3_predictions = model_predict(model_3, X_val)\n",
    "\n",
    "model_3_predictions[:5]"
   ]
  },
  {
   "cell_type": "code",
   "execution_count": 59,
   "id": "28f8f70d",
   "metadata": {
    "execution": {
     "iopub.execute_input": "2023-07-12T11:26:03.228874Z",
     "iopub.status.busy": "2023-07-12T11:26:03.228477Z",
     "iopub.status.idle": "2023-07-12T11:26:03.490957Z",
     "shell.execute_reply": "2023-07-12T11:26:03.489778Z"
    },
    "papermill": {
     "duration": 0.719082,
     "end_time": "2023-07-12T11:26:03.493471",
     "exception": false,
     "start_time": "2023-07-12T11:26:02.774389",
     "status": "completed"
    },
    "tags": []
   },
   "outputs": [
    {
     "data": {
      "text/plain": [
       "{'precision': 0.8236889616565516,\n",
       " 'recall': 0.8268568780616974,\n",
       " 'f1': 0.8244564681566484}"
      ]
     },
     "execution_count": 59,
     "metadata": {},
     "output_type": "execute_result"
    }
   ],
   "source": [
    "score_predictions(y_val, model_3_predictions)"
   ]
  },
  {
   "cell_type": "code",
   "execution_count": 60,
   "id": "62ccb708",
   "metadata": {
    "execution": {
     "iopub.execute_input": "2023-07-12T11:26:04.453109Z",
     "iopub.status.busy": "2023-07-12T11:26:04.452720Z",
     "iopub.status.idle": "2023-07-12T11:26:04.993817Z",
     "shell.execute_reply": "2023-07-12T11:26:04.992795Z"
    },
    "papermill": {
     "duration": 1.037368,
     "end_time": "2023-07-12T11:26:04.996300",
     "exception": false,
     "start_time": "2023-07-12T11:26:03.958932",
     "status": "completed"
    },
    "tags": []
   },
   "outputs": [
    {
     "data": {
      "image/png": "[encoded data removed]",
      "text/plain": [
       "<Figure size 640x480 with 2 Axes>"
      ]
     },
     "metadata": {},
     "output_type": "display_data"
    }
   ],
   "source": [
    "show_confusion_matrix(y_val, model_3_predictions)"
   ]
  },
  {
   "cell_type": "code",
   "execution_count": 61,
   "id": "a1f8c780",
   "metadata": {
    "execution": {
     "iopub.execute_input": "2023-07-12T11:26:05.957562Z",
     "iopub.status.busy": "2023-07-12T11:26:05.957159Z",
     "iopub.status.idle": "2023-07-12T11:26:05.972021Z",
     "shell.execute_reply": "2023-07-12T11:26:05.970885Z"
    },
    "papermill": {
     "duration": 0.529248,
     "end_time": "2023-07-12T11:26:05.974602",
     "exception": false,
     "start_time": "2023-07-12T11:26:05.445354",
     "status": "completed"
    },
    "tags": []
   },
   "outputs": [
    {
     "data": {
      "text/html": [
       "<div>\n",
       "<style scoped>\n",
       "    .dataframe tbody tr th:only-of-type {\n",
       "        vertical-align: middle;\n",
       "    }\n",
       "\n",
       "    .dataframe tbody tr th {\n",
       "        vertical-align: top;\n",
       "    }\n",
       "\n",
       "    .dataframe thead th {\n",
       "        text-align: right;\n",
       "    }\n",
       "</style>\n",
       "<table border=\"1\" class=\"dataframe\">\n",
       "  <thead>\n",
       "    <tr style=\"text-align: right;\">\n",
       "      <th></th>\n",
       "      <th>Sentence</th>\n",
       "      <th>True Label</th>\n",
       "      <th>Prediction</th>\n",
       "      <th>Correct?</th>\n",
       "    </tr>\n",
       "  </thead>\n",
       "  <tbody>\n",
       "    <tr>\n",
       "      <th>0</th>\n",
       "      <td>IgE sensitization to Aspergillus fumigatus and...</td>\n",
       "      <td>BACKGROUND</td>\n",
       "      <td>BACKGROUND</td>\n",
       "      <td>True</td>\n",
       "    </tr>\n",
       "    <tr>\n",
       "      <th>1</th>\n",
       "      <td>It is not clear whether these patients would b...</td>\n",
       "      <td>BACKGROUND</td>\n",
       "      <td>BACKGROUND</td>\n",
       "      <td>True</td>\n",
       "    </tr>\n",
       "    <tr>\n",
       "      <th>2</th>\n",
       "      <td>We sought to determine whether a 3-month cours...</td>\n",
       "      <td>OBJECTIVE</td>\n",
       "      <td>OBJECTIVE</td>\n",
       "      <td>True</td>\n",
       "    </tr>\n",
       "    <tr>\n",
       "      <th>3</th>\n",
       "      <td>Asthmatic patients who were IgE sensitized to ...</td>\n",
       "      <td>METHODS</td>\n",
       "      <td>METHODS</td>\n",
       "      <td>True</td>\n",
       "    </tr>\n",
       "    <tr>\n",
       "      <th>4</th>\n",
       "      <td>Primary outcomes were improvement in quality o...</td>\n",
       "      <td>METHODS</td>\n",
       "      <td>METHODS</td>\n",
       "      <td>True</td>\n",
       "    </tr>\n",
       "    <tr>\n",
       "      <th>5</th>\n",
       "      <td>Sixty-five patients were randomized .</td>\n",
       "      <td>RESULTS</td>\n",
       "      <td>RESULTS</td>\n",
       "      <td>True</td>\n",
       "    </tr>\n",
       "    <tr>\n",
       "      <th>6</th>\n",
       "      <td>Fifty-nine patients started treatment ( 32 rec...</td>\n",
       "      <td>RESULTS</td>\n",
       "      <td>RESULTS</td>\n",
       "      <td>True</td>\n",
       "    </tr>\n",
       "    <tr>\n",
       "      <th>7</th>\n",
       "      <td>Fifty-six patients took the full 3 months of m...</td>\n",
       "      <td>RESULTS</td>\n",
       "      <td>RESULTS</td>\n",
       "      <td>True</td>\n",
       "    </tr>\n",
       "    <tr>\n",
       "      <th>8</th>\n",
       "      <td>Between the voriconazole and placebo groups , ...</td>\n",
       "      <td>RESULTS</td>\n",
       "      <td>RESULTS</td>\n",
       "      <td>True</td>\n",
       "    </tr>\n",
       "    <tr>\n",
       "      <th>9</th>\n",
       "      <td>We were unable to show a beneficial effect of ...</td>\n",
       "      <td>CONCLUSIONS</td>\n",
       "      <td>METHODS</td>\n",
       "      <td>False</td>\n",
       "    </tr>\n",
       "  </tbody>\n",
       "</table>\n",
       "</div>"
      ],
      "text/plain": [
       "                                            Sentence   True Label  Prediction  \\\n",
       "0  IgE sensitization to Aspergillus fumigatus and...   BACKGROUND  BACKGROUND   \n",
       "1  It is not clear whether these patients would b...   BACKGROUND  BACKGROUND   \n",
       "2  We sought to determine whether a 3-month cours...    OBJECTIVE   OBJECTIVE   \n",
       "3  Asthmatic patients who were IgE sensitized to ...      METHODS     METHODS   \n",
       "4  Primary outcomes were improvement in quality o...      METHODS     METHODS   \n",
       "5              Sixty-five patients were randomized .      RESULTS     RESULTS   \n",
       "6  Fifty-nine patients started treatment ( 32 rec...      RESULTS     RESULTS   \n",
       "7  Fifty-six patients took the full 3 months of m...      RESULTS     RESULTS   \n",
       "8  Between the voriconazole and placebo groups , ...      RESULTS     RESULTS   \n",
       "9  We were unable to show a beneficial effect of ...  CONCLUSIONS     METHODS   \n",
       "\n",
       "   Correct?  \n",
       "0      True  \n",
       "1      True  \n",
       "2      True  \n",
       "3      True  \n",
       "4      True  \n",
       "5      True  \n",
       "6      True  \n",
       "7      True  \n",
       "8      True  \n",
       "9     False  "
      ]
     },
     "execution_count": 61,
     "metadata": {},
     "output_type": "execute_result"
    }
   ],
   "source": [
    "show_sample_predictions(model_3_predictions)"
   ]
  },
  {
   "cell_type": "markdown",
   "id": "656e717a",
   "metadata": {
    "papermill": {
     "duration": 0.461448,
     "end_time": "2023-07-12T11:26:06.923841",
     "exception": false,
     "start_time": "2023-07-12T11:26:06.462393",
     "status": "completed"
    },
    "tags": []
   },
   "source": [
    "## 3/d] **Model 4 (RNN model 4):** Conv1D model"
   ]
  },
  {
   "cell_type": "code",
   "execution_count": 62,
   "id": "1cf5573b",
   "metadata": {
    "execution": {
     "iopub.execute_input": "2023-07-12T11:26:07.889398Z",
     "iopub.status.busy": "2023-07-12T11:26:07.888992Z",
     "iopub.status.idle": "2023-07-12T11:26:07.997954Z",
     "shell.execute_reply": "2023-07-12T11:26:07.996922Z"
    },
    "papermill": {
     "duration": 0.583827,
     "end_time": "2023-07-12T11:26:08.009746",
     "exception": false,
     "start_time": "2023-07-12T11:26:07.425919",
     "status": "completed"
    },
    "tags": []
   },
   "outputs": [
    {
     "name": "stdout",
     "output_type": "stream",
     "text": [
      "Model: \"sequential_3\"\n",
      "_________________________________________________________________\n",
      " Layer (type)                Output Shape              Param #   \n",
      "=================================================================\n",
      " text_vectorization (TextVec  (None, 45)               0         \n",
      " torization)                                                     \n",
      "                                                                 \n",
      " embedding_4 (Embedding)     (None, 45, 512)           2560000   \n",
      "                                                                 \n",
      " conv1d (Conv1D)             (None, 41, 64)            163904    \n",
      "                                                                 \n",
      " global_average_pooling1d (G  (None, 64)               0         \n",
      " lobalAveragePooling1D)                                          \n",
      "                                                                 \n",
      " dense_3 (Dense)             (None, 5)                 325       \n",
      "                                                                 \n",
      "=================================================================\n",
      "Total params: 2,724,229\n",
      "Trainable params: 2,724,229\n",
      "Non-trainable params: 0\n",
      "_________________________________________________________________\n"
     ]
    }
   ],
   "source": [
    "from tensorflow.keras.layers import Conv1D, GlobalAveragePooling1D\n",
    "\n",
    "def build_model_4():\n",
    "    return Sequential([\n",
    "        Input(shape=(1,), dtype=tf.string),\n",
    "        vectorizer,\n",
    "        make_embedding(),\n",
    "        Conv1D(64, kernel_size=5),\n",
    "        GlobalAveragePooling1D(),\n",
    "        Dense(len(CLASSES), activation='softmax')\n",
    "    ])\n",
    "\n",
    "model_4 = build_model_4()\n",
    "model_4.summary()"
   ]
  },
  {
   "cell_type": "code",
   "execution_count": 63,
   "id": "212c70ac",
   "metadata": {
    "execution": {
     "iopub.execute_input": "2023-07-12T11:26:08.925599Z",
     "iopub.status.busy": "2023-07-12T11:26:08.925204Z",
     "iopub.status.idle": "2023-07-12T11:28:03.448656Z",
     "shell.execute_reply": "2023-07-12T11:28:03.447223Z"
    },
    "papermill": {
     "duration": 114.9875,
     "end_time": "2023-07-12T11:28:03.451401",
     "exception": false,
     "start_time": "2023-07-12T11:26:08.463901",
     "status": "completed"
    },
    "tags": []
   },
   "outputs": [
    {
     "name": "stdout",
     "output_type": "stream",
     "text": [
      "Epoch 1/5\n",
      "1406/1406 [==============================] - 52s 31ms/step - loss: 0.6289 - accuracy: 0.7678 - val_loss: 0.5237 - val_accuracy: 0.8088\n",
      "Epoch 2/5\n",
      "1406/1406 [==============================] - 17s 12ms/step - loss: 0.5065 - accuracy: 0.8182 - val_loss: 0.5126 - val_accuracy: 0.8156\n",
      "Epoch 3/5\n",
      "1406/1406 [==============================] - 15s 11ms/step - loss: 0.4805 - accuracy: 0.8272 - val_loss: 0.5162 - val_accuracy: 0.8125\n",
      "Epoch 4/5\n",
      "1406/1406 [==============================] - 15s 11ms/step - loss: 0.4624 - accuracy: 0.8346 - val_loss: 0.5210 - val_accuracy: 0.8082\n",
      "Epoch 5/5\n",
      "1406/1406 [==============================] - 14s 10ms/step - loss: 0.4497 - accuracy: 0.8390 - val_loss: 0.5186 - val_accuracy: 0.8148\n"
     ]
    }
   ],
   "source": [
    "model_4.compile(\n",
    "    loss=SparseCategoricalCrossentropy(),\n",
    "    optimizer=Adam(),\n",
    "    metrics=['accuracy']\n",
    ")\n",
    "\n",
    "model_4_history = model_4.fit(X_train, y_train_encoded,\n",
    "                              batch_size=BATCH_SIZE,\n",
    "                              steps_per_epoch=len(X_train)//BATCH_SIZE,\n",
    "                              epochs=5,\n",
    "                              validation_data=(X_val, y_val_encoded),\n",
    "                              validation_batch_size=BATCH_SIZE,\n",
    "                              validation_steps=len(X_val)//BATCH_SIZE\n",
    "                             )"
   ]
  },
  {
   "cell_type": "code",
   "execution_count": 64,
   "id": "fb68dddf",
   "metadata": {
    "execution": {
     "iopub.execute_input": "2023-07-12T11:28:04.605027Z",
     "iopub.status.busy": "2023-07-12T11:28:04.604591Z",
     "iopub.status.idle": "2023-07-12T11:28:05.023656Z",
     "shell.execute_reply": "2023-07-12T11:28:05.022555Z"
    },
    "papermill": {
     "duration": 1.001724,
     "end_time": "2023-07-12T11:28:05.026123",
     "exception": false,
     "start_time": "2023-07-12T11:28:04.024399",
     "status": "completed"
    },
    "tags": []
   },
   "outputs": [
    {
     "data": {
      "text/plain": [
       "<Axes: >"
      ]
     },
     "execution_count": 64,
     "metadata": {},
     "output_type": "execute_result"
    },
    {
     "data": {
      "image/png": "[encoded data removed]",
      "text/plain": [
       "<Figure size 640x480 with 1 Axes>"
      ]
     },
     "metadata": {},
     "output_type": "display_data"
    }
   ],
   "source": [
    "pd.DataFrame(model_4_history.history).plot()"
   ]
  },
  {
   "cell_type": "code",
   "execution_count": 65,
   "id": "5a3ad73c",
   "metadata": {
    "execution": {
     "iopub.execute_input": "2023-07-12T11:28:06.275264Z",
     "iopub.status.busy": "2023-07-12T11:28:06.274869Z",
     "iopub.status.idle": "2023-07-12T11:28:09.701484Z",
     "shell.execute_reply": "2023-07-12T11:28:09.700411Z"
    },
    "papermill": {
     "duration": 4.097889,
     "end_time": "2023-07-12T11:28:09.703655",
     "exception": false,
     "start_time": "2023-07-12T11:28:05.605766",
     "status": "completed"
    },
    "tags": []
   },
   "outputs": [
    {
     "name": "stdout",
     "output_type": "stream",
     "text": [
      "945/945 [==============================] - 3s 3ms/step\n",
      "(30212,)\n"
     ]
    },
    {
     "data": {
      "text/plain": [
       "array(['BACKGROUND', 'BACKGROUND', 'OBJECTIVE', 'METHODS', 'METHODS',\n",
       "       'METHODS', 'RESULTS', 'METHODS', 'RESULTS', 'CONCLUSIONS',\n",
       "       'BACKGROUND', 'CONCLUSIONS', 'CONCLUSIONS', 'CONCLUSIONS',\n",
       "       'METHODS'], dtype='<U11')"
      ]
     },
     "execution_count": 65,
     "metadata": {},
     "output_type": "execute_result"
    }
   ],
   "source": [
    "model_4_predictions = model_predict(model_4, X_val)\n",
    "\n",
    "model_4_predictions[:15]"
   ]
  },
  {
   "cell_type": "code",
   "execution_count": 66,
   "id": "fe15fb36",
   "metadata": {
    "execution": {
     "iopub.execute_input": "2023-07-12T11:28:10.868423Z",
     "iopub.status.busy": "2023-07-12T11:28:10.868009Z",
     "iopub.status.idle": "2023-07-12T11:28:11.133976Z",
     "shell.execute_reply": "2023-07-12T11:28:11.132673Z"
    },
    "papermill": {
     "duration": 0.850729,
     "end_time": "2023-07-12T11:28:11.137039",
     "exception": false,
     "start_time": "2023-07-12T11:28:10.286310",
     "status": "completed"
    },
    "tags": []
   },
   "outputs": [
    {
     "data": {
      "text/plain": [
       "{'precision': 0.8140695265134449,\n",
       " 'recall': 0.8147755858599232,\n",
       " 'f1': 0.812899359302212}"
      ]
     },
     "execution_count": 66,
     "metadata": {},
     "output_type": "execute_result"
    }
   ],
   "source": [
    "score_predictions(y_val, model_4_predictions)"
   ]
  },
  {
   "cell_type": "code",
   "execution_count": 67,
   "id": "117df42b",
   "metadata": {
    "execution": {
     "iopub.execute_input": "2023-07-12T11:28:12.344571Z",
     "iopub.status.busy": "2023-07-12T11:28:12.344176Z",
     "iopub.status.idle": "2023-07-12T11:28:12.872850Z",
     "shell.execute_reply": "2023-07-12T11:28:12.871786Z"
    },
    "papermill": {
     "duration": 1.109904,
     "end_time": "2023-07-12T11:28:12.875306",
     "exception": false,
     "start_time": "2023-07-12T11:28:11.765402",
     "status": "completed"
    },
    "tags": []
   },
   "outputs": [
    {
     "data": {
      "image/png": "[encoded data removed]",
      "text/plain": [
       "<Figure size 640x480 with 2 Axes>"
      ]
     },
     "metadata": {},
     "output_type": "display_data"
    }
   ],
   "source": [
    "show_confusion_matrix(y_val, model_4_predictions)"
   ]
  },
  {
   "cell_type": "code",
   "execution_count": 68,
   "id": "aa95cdcf",
   "metadata": {
    "execution": {
     "iopub.execute_input": "2023-07-12T11:28:14.082174Z",
     "iopub.status.busy": "2023-07-12T11:28:14.081772Z",
     "iopub.status.idle": "2023-07-12T11:28:14.096059Z",
     "shell.execute_reply": "2023-07-12T11:28:14.094939Z"
    },
    "papermill": {
     "duration": 0.594644,
     "end_time": "2023-07-12T11:28:14.098610",
     "exception": false,
     "start_time": "2023-07-12T11:28:13.503966",
     "status": "completed"
    },
    "tags": []
   },
   "outputs": [
    {
     "data": {
      "text/html": [
       "<div>\n",
       "<style scoped>\n",
       "    .dataframe tbody tr th:only-of-type {\n",
       "        vertical-align: middle;\n",
       "    }\n",
       "\n",
       "    .dataframe tbody tr th {\n",
       "        vertical-align: top;\n",
       "    }\n",
       "\n",
       "    .dataframe thead th {\n",
       "        text-align: right;\n",
       "    }\n",
       "</style>\n",
       "<table border=\"1\" class=\"dataframe\">\n",
       "  <thead>\n",
       "    <tr style=\"text-align: right;\">\n",
       "      <th></th>\n",
       "      <th>Sentence</th>\n",
       "      <th>True Label</th>\n",
       "      <th>Prediction</th>\n",
       "      <th>Correct?</th>\n",
       "    </tr>\n",
       "  </thead>\n",
       "  <tbody>\n",
       "    <tr>\n",
       "      <th>0</th>\n",
       "      <td>IgE sensitization to Aspergillus fumigatus and...</td>\n",
       "      <td>BACKGROUND</td>\n",
       "      <td>BACKGROUND</td>\n",
       "      <td>True</td>\n",
       "    </tr>\n",
       "    <tr>\n",
       "      <th>1</th>\n",
       "      <td>It is not clear whether these patients would b...</td>\n",
       "      <td>BACKGROUND</td>\n",
       "      <td>BACKGROUND</td>\n",
       "      <td>True</td>\n",
       "    </tr>\n",
       "    <tr>\n",
       "      <th>2</th>\n",
       "      <td>We sought to determine whether a 3-month cours...</td>\n",
       "      <td>OBJECTIVE</td>\n",
       "      <td>OBJECTIVE</td>\n",
       "      <td>True</td>\n",
       "    </tr>\n",
       "    <tr>\n",
       "      <th>3</th>\n",
       "      <td>Asthmatic patients who were IgE sensitized to ...</td>\n",
       "      <td>METHODS</td>\n",
       "      <td>METHODS</td>\n",
       "      <td>True</td>\n",
       "    </tr>\n",
       "    <tr>\n",
       "      <th>4</th>\n",
       "      <td>Primary outcomes were improvement in quality o...</td>\n",
       "      <td>METHODS</td>\n",
       "      <td>METHODS</td>\n",
       "      <td>True</td>\n",
       "    </tr>\n",
       "    <tr>\n",
       "      <th>5</th>\n",
       "      <td>Sixty-five patients were randomized .</td>\n",
       "      <td>RESULTS</td>\n",
       "      <td>METHODS</td>\n",
       "      <td>False</td>\n",
       "    </tr>\n",
       "    <tr>\n",
       "      <th>6</th>\n",
       "      <td>Fifty-nine patients started treatment ( 32 rec...</td>\n",
       "      <td>RESULTS</td>\n",
       "      <td>RESULTS</td>\n",
       "      <td>True</td>\n",
       "    </tr>\n",
       "    <tr>\n",
       "      <th>7</th>\n",
       "      <td>Fifty-six patients took the full 3 months of m...</td>\n",
       "      <td>RESULTS</td>\n",
       "      <td>METHODS</td>\n",
       "      <td>False</td>\n",
       "    </tr>\n",
       "    <tr>\n",
       "      <th>8</th>\n",
       "      <td>Between the voriconazole and placebo groups , ...</td>\n",
       "      <td>RESULTS</td>\n",
       "      <td>RESULTS</td>\n",
       "      <td>True</td>\n",
       "    </tr>\n",
       "    <tr>\n",
       "      <th>9</th>\n",
       "      <td>We were unable to show a beneficial effect of ...</td>\n",
       "      <td>CONCLUSIONS</td>\n",
       "      <td>CONCLUSIONS</td>\n",
       "      <td>True</td>\n",
       "    </tr>\n",
       "  </tbody>\n",
       "</table>\n",
       "</div>"
      ],
      "text/plain": [
       "                                            Sentence   True Label  \\\n",
       "0  IgE sensitization to Aspergillus fumigatus and...   BACKGROUND   \n",
       "1  It is not clear whether these patients would b...   BACKGROUND   \n",
       "2  We sought to determine whether a 3-month cours...    OBJECTIVE   \n",
       "3  Asthmatic patients who were IgE sensitized to ...      METHODS   \n",
       "4  Primary outcomes were improvement in quality o...      METHODS   \n",
       "5              Sixty-five patients were randomized .      RESULTS   \n",
       "6  Fifty-nine patients started treatment ( 32 rec...      RESULTS   \n",
       "7  Fifty-six patients took the full 3 months of m...      RESULTS   \n",
       "8  Between the voriconazole and placebo groups , ...      RESULTS   \n",
       "9  We were unable to show a beneficial effect of ...  CONCLUSIONS   \n",
       "\n",
       "    Prediction  Correct?  \n",
       "0   BACKGROUND      True  \n",
       "1   BACKGROUND      True  \n",
       "2    OBJECTIVE      True  \n",
       "3      METHODS      True  \n",
       "4      METHODS      True  \n",
       "5      METHODS     False  \n",
       "6      RESULTS      True  \n",
       "7      METHODS     False  \n",
       "8      RESULTS      True  \n",
       "9  CONCLUSIONS      True  "
      ]
     },
     "execution_count": 68,
     "metadata": {},
     "output_type": "execute_result"
    }
   ],
   "source": [
    "show_sample_predictions(model_4_predictions)"
   ]
  },
  {
   "cell_type": "markdown",
   "id": "d4a8df7b",
   "metadata": {
    "papermill": {
     "duration": 0.637773,
     "end_time": "2023-07-12T11:28:15.360812",
     "exception": false,
     "start_time": "2023-07-12T11:28:14.723039",
     "status": "completed"
    },
    "tags": []
   },
   "source": [
    "## 3/e] **Model 5:** Universal Senetence Encoder embedding model"
   ]
  },
  {
   "cell_type": "code",
   "execution_count": 69,
   "id": "6e35edee",
   "metadata": {
    "execution": {
     "iopub.execute_input": "2023-07-12T11:28:16.578146Z",
     "iopub.status.busy": "2023-07-12T11:28:16.577742Z",
     "iopub.status.idle": "2023-07-12T11:28:35.376692Z",
     "shell.execute_reply": "2023-07-12T11:28:35.375483Z"
    },
    "papermill": {
     "duration": 19.385692,
     "end_time": "2023-07-12T11:28:35.379075",
     "exception": false,
     "start_time": "2023-07-12T11:28:15.993383",
     "status": "completed"
    },
    "tags": []
   },
   "outputs": [
    {
     "name": "stdout",
     "output_type": "stream",
     "text": [
      "Model: \"sequential_4\"\n",
      "_________________________________________________________________\n",
      " Layer (type)                Output Shape              Param #   \n",
      "=================================================================\n",
      " keras_layer (KerasLayer)    (None, 512)               256797824 \n",
      "                                                                 \n",
      " dense_4 (Dense)             (None, 5)                 2565      \n",
      "                                                                 \n",
      "=================================================================\n",
      "Total params: 256,800,389\n",
      "Trainable params: 2,565\n",
      "Non-trainable params: 256,797,824\n",
      "_________________________________________________________________\n"
     ]
    }
   ],
   "source": [
    "from tensorflow_hub import KerasLayer\n",
    "\n",
    "USE_EMBEDDING_URL = 'https://tfhub.dev/google/universal-sentence-encoder/4'\n",
    "\n",
    "def build_model_5():\n",
    "    return Sequential([\n",
    "        KerasLayer(USE_EMBEDDING_URL, input_shape=[], dtype=tf.string),\n",
    "        Dense(len(CLASSES), activation='softmax')\n",
    "    ])\n",
    "    \n",
    "model_5 = build_model_5()\n",
    "model_5.summary()"
   ]
  },
  {
   "cell_type": "code",
   "execution_count": 70,
   "id": "9236bcc1",
   "metadata": {
    "execution": {
     "iopub.execute_input": "2023-07-12T11:28:36.650464Z",
     "iopub.status.busy": "2023-07-12T11:28:36.650074Z",
     "iopub.status.idle": "2023-07-12T11:33:01.124286Z",
     "shell.execute_reply": "2023-07-12T11:33:01.123054Z"
    },
    "papermill": {
     "duration": 265.110823,
     "end_time": "2023-07-12T11:33:01.127553",
     "exception": false,
     "start_time": "2023-07-12T11:28:36.016730",
     "status": "completed"
    },
    "tags": []
   },
   "outputs": [
    {
     "name": "stdout",
     "output_type": "stream",
     "text": [
      "Epoch 1/5\n",
      "1406/1406 [==============================] - 47s 30ms/step - loss: 1.0056 - accuracy: 0.6358 - val_loss: 0.8304 - val_accuracy: 0.6965\n",
      "Epoch 2/5\n",
      "1406/1406 [==============================] - 41s 29ms/step - loss: 0.8009 - accuracy: 0.7012 - val_loss: 0.7726 - val_accuracy: 0.7112\n",
      "Epoch 3/5\n",
      "1406/1406 [==============================] - 47s 33ms/step - loss: 0.7679 - accuracy: 0.7102 - val_loss: 0.7534 - val_accuracy: 0.7148\n",
      "Epoch 4/5\n",
      "1406/1406 [==============================] - 47s 33ms/step - loss: 0.7540 - accuracy: 0.7144 - val_loss: 0.7439 - val_accuracy: 0.7174\n",
      "Epoch 5/5\n",
      "1406/1406 [==============================] - 41s 29ms/step - loss: 0.7468 - accuracy: 0.7166 - val_loss: 0.7380 - val_accuracy: 0.7198\n"
     ]
    }
   ],
   "source": [
    "model_5.compile(\n",
    "    loss=SparseCategoricalCrossentropy(),\n",
    "    optimizer=Adam(),\n",
    "    metrics=['accuracy']\n",
    ")\n",
    "\n",
    "model_5_history = model_5.fit(X_train, y_train_encoded,\n",
    "                              epochs=5,\n",
    "                              batch_size=BATCH_SIZE,\n",
    "                              steps_per_epoch=len(X_train)//BATCH_SIZE,\n",
    "                              validation_data=(X_val, y_val_encoded),\n",
    "                              validation_batch_size=BATCH_SIZE,\n",
    "                              validation_steps=len(X_val)//BATCH_SIZE\n",
    "                             )"
   ]
  },
  {
   "cell_type": "code",
   "execution_count": 71,
   "id": "229e40c2",
   "metadata": {
    "execution": {
     "iopub.execute_input": "2023-07-12T11:33:02.849668Z",
     "iopub.status.busy": "2023-07-12T11:33:02.849255Z",
     "iopub.status.idle": "2023-07-12T11:33:03.253667Z",
     "shell.execute_reply": "2023-07-12T11:33:03.252648Z"
    },
    "papermill": {
     "duration": 1.296579,
     "end_time": "2023-07-12T11:33:03.255944",
     "exception": false,
     "start_time": "2023-07-12T11:33:01.959365",
     "status": "completed"
    },
    "tags": []
   },
   "outputs": [
    {
     "data": {
      "text/plain": [
       "<Axes: >"
      ]
     },
     "execution_count": 71,
     "metadata": {},
     "output_type": "execute_result"
    },
    {
     "data": {
      "image/png": "[encoded data removed]",
      "text/plain": [
       "<Figure size 640x480 with 1 Axes>"
      ]
     },
     "metadata": {},
     "output_type": "display_data"
    }
   ],
   "source": [
    "pd.DataFrame(model_5_history.history).plot()"
   ]
  },
  {
   "cell_type": "code",
   "execution_count": 72,
   "id": "7c14d0ca",
   "metadata": {
    "execution": {
     "iopub.execute_input": "2023-07-12T11:33:05.031307Z",
     "iopub.status.busy": "2023-07-12T11:33:05.030817Z",
     "iopub.status.idle": "2023-07-12T11:33:15.355752Z",
     "shell.execute_reply": "2023-07-12T11:33:15.354662Z"
    },
    "papermill": {
     "duration": 11.267549,
     "end_time": "2023-07-12T11:33:15.357987",
     "exception": false,
     "start_time": "2023-07-12T11:33:04.090438",
     "status": "completed"
    },
    "tags": []
   },
   "outputs": [
    {
     "name": "stdout",
     "output_type": "stream",
     "text": [
      "945/945 [==============================] - 5s 6ms/step\n",
      "(30212,)\n"
     ]
    },
    {
     "data": {
      "text/plain": [
       "array(['BACKGROUND', 'BACKGROUND', 'OBJECTIVE', 'METHODS', 'METHODS',\n",
       "       'RESULTS', 'RESULTS', 'RESULTS', 'RESULTS', 'METHODS', 'OBJECTIVE',\n",
       "       'CONCLUSIONS', 'CONCLUSIONS', 'BACKGROUND', 'METHODS'],\n",
       "      dtype='<U11')"
      ]
     },
     "execution_count": 72,
     "metadata": {},
     "output_type": "execute_result"
    }
   ],
   "source": [
    "model_5_predictions = model_predict(model_3, X_val)\n",
    "\n",
    "model_5_predictions[:15]"
   ]
  },
  {
   "cell_type": "code",
   "execution_count": 73,
   "id": "1cc6fa70",
   "metadata": {
    "execution": {
     "iopub.execute_input": "2023-07-12T11:33:17.154196Z",
     "iopub.status.busy": "2023-07-12T11:33:17.153529Z",
     "iopub.status.idle": "2023-07-12T11:33:17.417169Z",
     "shell.execute_reply": "2023-07-12T11:33:17.415588Z"
    },
    "papermill": {
     "duration": 1.162429,
     "end_time": "2023-07-12T11:33:17.420382",
     "exception": false,
     "start_time": "2023-07-12T11:33:16.257953",
     "status": "completed"
    },
    "tags": []
   },
   "outputs": [
    {
     "data": {
      "text/plain": [
       "{'precision': 0.8236889616565516,\n",
       " 'recall': 0.8268568780616974,\n",
       " 'f1': 0.8244564681566484}"
      ]
     },
     "execution_count": 73,
     "metadata": {},
     "output_type": "execute_result"
    }
   ],
   "source": [
    "score_predictions(y_val, model_5_predictions)"
   ]
  },
  {
   "cell_type": "code",
   "execution_count": 74,
   "id": "b4163b19",
   "metadata": {
    "execution": {
     "iopub.execute_input": "2023-07-12T11:33:19.164643Z",
     "iopub.status.busy": "2023-07-12T11:33:19.163545Z",
     "iopub.status.idle": "2023-07-12T11:33:19.700664Z",
     "shell.execute_reply": "2023-07-12T11:33:19.699639Z"
    },
    "papermill": {
     "duration": 1.440913,
     "end_time": "2023-07-12T11:33:19.703112",
     "exception": false,
     "start_time": "2023-07-12T11:33:18.262199",
     "status": "completed"
    },
    "tags": []
   },
   "outputs": [
    {
     "data": {
      "image/png": "[encoded data removed]",
      "text/plain": [
       "<Figure size 640x480 with 2 Axes>"
      ]
     },
     "metadata": {},
     "output_type": "display_data"
    }
   ],
   "source": [
    "show_confusion_matrix(y_val, model_5_predictions)"
   ]
  },
  {
   "cell_type": "code",
   "execution_count": 75,
   "id": "46c7f70b",
   "metadata": {
    "execution": {
     "iopub.execute_input": "2023-07-12T11:33:21.408509Z",
     "iopub.status.busy": "2023-07-12T11:33:21.406879Z",
     "iopub.status.idle": "2023-07-12T11:33:21.422591Z",
     "shell.execute_reply": "2023-07-12T11:33:21.421306Z"
    },
    "papermill": {
     "duration": 0.873748,
     "end_time": "2023-07-12T11:33:21.425151",
     "exception": false,
     "start_time": "2023-07-12T11:33:20.551403",
     "status": "completed"
    },
    "tags": []
   },
   "outputs": [
    {
     "data": {
      "text/html": [
       "<div>\n",
       "<style scoped>\n",
       "    .dataframe tbody tr th:only-of-type {\n",
       "        vertical-align: middle;\n",
       "    }\n",
       "\n",
       "    .dataframe tbody tr th {\n",
       "        vertical-align: top;\n",
       "    }\n",
       "\n",
       "    .dataframe thead th {\n",
       "        text-align: right;\n",
       "    }\n",
       "</style>\n",
       "<table border=\"1\" class=\"dataframe\">\n",
       "  <thead>\n",
       "    <tr style=\"text-align: right;\">\n",
       "      <th></th>\n",
       "      <th>Sentence</th>\n",
       "      <th>True Label</th>\n",
       "      <th>Prediction</th>\n",
       "      <th>Correct?</th>\n",
       "    </tr>\n",
       "  </thead>\n",
       "  <tbody>\n",
       "    <tr>\n",
       "      <th>0</th>\n",
       "      <td>IgE sensitization to Aspergillus fumigatus and...</td>\n",
       "      <td>BACKGROUND</td>\n",
       "      <td>BACKGROUND</td>\n",
       "      <td>True</td>\n",
       "    </tr>\n",
       "    <tr>\n",
       "      <th>1</th>\n",
       "      <td>It is not clear whether these patients would b...</td>\n",
       "      <td>BACKGROUND</td>\n",
       "      <td>BACKGROUND</td>\n",
       "      <td>True</td>\n",
       "    </tr>\n",
       "    <tr>\n",
       "      <th>2</th>\n",
       "      <td>We sought to determine whether a 3-month cours...</td>\n",
       "      <td>OBJECTIVE</td>\n",
       "      <td>OBJECTIVE</td>\n",
       "      <td>True</td>\n",
       "    </tr>\n",
       "    <tr>\n",
       "      <th>3</th>\n",
       "      <td>Asthmatic patients who were IgE sensitized to ...</td>\n",
       "      <td>METHODS</td>\n",
       "      <td>METHODS</td>\n",
       "      <td>True</td>\n",
       "    </tr>\n",
       "    <tr>\n",
       "      <th>4</th>\n",
       "      <td>Primary outcomes were improvement in quality o...</td>\n",
       "      <td>METHODS</td>\n",
       "      <td>METHODS</td>\n",
       "      <td>True</td>\n",
       "    </tr>\n",
       "    <tr>\n",
       "      <th>5</th>\n",
       "      <td>Sixty-five patients were randomized .</td>\n",
       "      <td>RESULTS</td>\n",
       "      <td>RESULTS</td>\n",
       "      <td>True</td>\n",
       "    </tr>\n",
       "    <tr>\n",
       "      <th>6</th>\n",
       "      <td>Fifty-nine patients started treatment ( 32 rec...</td>\n",
       "      <td>RESULTS</td>\n",
       "      <td>RESULTS</td>\n",
       "      <td>True</td>\n",
       "    </tr>\n",
       "    <tr>\n",
       "      <th>7</th>\n",
       "      <td>Fifty-six patients took the full 3 months of m...</td>\n",
       "      <td>RESULTS</td>\n",
       "      <td>RESULTS</td>\n",
       "      <td>True</td>\n",
       "    </tr>\n",
       "    <tr>\n",
       "      <th>8</th>\n",
       "      <td>Between the voriconazole and placebo groups , ...</td>\n",
       "      <td>RESULTS</td>\n",
       "      <td>RESULTS</td>\n",
       "      <td>True</td>\n",
       "    </tr>\n",
       "    <tr>\n",
       "      <th>9</th>\n",
       "      <td>We were unable to show a beneficial effect of ...</td>\n",
       "      <td>CONCLUSIONS</td>\n",
       "      <td>METHODS</td>\n",
       "      <td>False</td>\n",
       "    </tr>\n",
       "  </tbody>\n",
       "</table>\n",
       "</div>"
      ],
      "text/plain": [
       "                                            Sentence   True Label  Prediction  \\\n",
       "0  IgE sensitization to Aspergillus fumigatus and...   BACKGROUND  BACKGROUND   \n",
       "1  It is not clear whether these patients would b...   BACKGROUND  BACKGROUND   \n",
       "2  We sought to determine whether a 3-month cours...    OBJECTIVE   OBJECTIVE   \n",
       "3  Asthmatic patients who were IgE sensitized to ...      METHODS     METHODS   \n",
       "4  Primary outcomes were improvement in quality o...      METHODS     METHODS   \n",
       "5              Sixty-five patients were randomized .      RESULTS     RESULTS   \n",
       "6  Fifty-nine patients started treatment ( 32 rec...      RESULTS     RESULTS   \n",
       "7  Fifty-six patients took the full 3 months of m...      RESULTS     RESULTS   \n",
       "8  Between the voriconazole and placebo groups , ...      RESULTS     RESULTS   \n",
       "9  We were unable to show a beneficial effect of ...  CONCLUSIONS     METHODS   \n",
       "\n",
       "   Correct?  \n",
       "0      True  \n",
       "1      True  \n",
       "2      True  \n",
       "3      True  \n",
       "4      True  \n",
       "5      True  \n",
       "6      True  \n",
       "7      True  \n",
       "8      True  \n",
       "9     False  "
      ]
     },
     "execution_count": 75,
     "metadata": {},
     "output_type": "execute_result"
    }
   ],
   "source": [
    "show_sample_predictions(model_5_predictions)"
   ]
  }
 ],
 "metadata": {
  "kernelspec": {
   "display_name": "Python 3",
   "language": "python",
   "name": "python3"
  },
  "language_info": {
   "codemirror_mode": {
    "name": "ipython",
    "version": 3
   },
   "file_extension": ".py",
   "mimetype": "text/x-python",
   "name": "python",
   "nbconvert_exporter": "python",
   "pygments_lexer": "ipython3",
   "version": "3.10.10"
  },
  "papermill": {
   "default_parameters": {},
   "duration": 993.028831,
   "end_time": "2023-07-12T11:33:26.033814",
   "environment_variables": {},
   "exception": null,
   "input_path": "__notebook__.ipynb",
   "output_path": "__notebook__.ipynb",
   "parameters": {},
   "start_time": "2023-07-12T11:16:53.004983",
   "version": "2.4.0"
  }
 },
 "nbformat": 4,
 "nbformat_minor": 5
}
