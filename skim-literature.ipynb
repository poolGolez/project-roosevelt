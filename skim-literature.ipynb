{
 "cells": [
  {
   "cell_type": "code",
   "execution_count": 1,
   "id": "c2d09a0a",
   "metadata": {
    "_cell_guid": "b1076dfc-b9ad-4769-8c92-a6c4dae69d19",
    "_uuid": "8f2839f25d086af736a60e9eeb907d3b93b6e0e5",
    "execution": {
     "iopub.execute_input": "2023-07-07T08:55:09.930729Z",
     "iopub.status.busy": "2023-07-07T08:55:09.930303Z",
     "iopub.status.idle": "2023-07-07T08:55:26.738327Z",
     "shell.execute_reply": "2023-07-07T08:55:26.736526Z"
    },
    "papermill": {
     "duration": 16.829701,
     "end_time": "2023-07-07T08:55:26.740489",
     "exception": false,
     "start_time": "2023-07-07T08:55:09.910788",
     "status": "completed"
    },
    "tags": []
   },
   "outputs": [
    {
     "name": "stderr",
     "output_type": "stream",
     "text": [
      "/opt/conda/lib/python3.10/site-packages/tensorflow_io/python/ops/__init__.py:98: UserWarning: unable to load libtensorflow_io_plugins.so: unable to open file: libtensorflow_io_plugins.so, from paths: ['/opt/conda/lib/python3.10/site-packages/tensorflow_io/python/ops/libtensorflow_io_plugins.so']\n",
      "caused by: ['/opt/conda/lib/python3.10/site-packages/tensorflow_io/python/ops/libtensorflow_io_plugins.so: undefined symbol: _ZN3tsl6StatusC1EN10tensorflow5error4CodeESt17basic_string_viewIcSt11char_traitsIcEENS_14SourceLocationE']\n",
      "  warnings.warn(f\"unable to load libtensorflow_io_plugins.so: {e}\")\n",
      "/opt/conda/lib/python3.10/site-packages/tensorflow_io/python/ops/__init__.py:104: UserWarning: file system plugins are not loaded: unable to open file: libtensorflow_io.so, from paths: ['/opt/conda/lib/python3.10/site-packages/tensorflow_io/python/ops/libtensorflow_io.so']\n",
      "caused by: ['/opt/conda/lib/python3.10/site-packages/tensorflow_io/python/ops/libtensorflow_io.so: undefined symbol: _ZTVN10tensorflow13GcsFileSystemE']\n",
      "  warnings.warn(f\"file system plugins are not loaded: {e}\")\n"
     ]
    },
    {
     "name": "stdout",
     "output_type": "stream",
     "text": [
      "/kaggle/input/pubmed-200k-rtc/PubMed_200k_RCT_numbers_replaced_with_at_sign/dev.csv\n",
      "/kaggle/input/pubmed-200k-rtc/PubMed_200k_RCT_numbers_replaced_with_at_sign/test.txt\n",
      "/kaggle/input/pubmed-200k-rtc/PubMed_200k_RCT_numbers_replaced_with_at_sign/dev.txt\n",
      "/kaggle/input/pubmed-200k-rtc/PubMed_200k_RCT_numbers_replaced_with_at_sign/train.csv\n",
      "/kaggle/input/pubmed-200k-rtc/PubMed_200k_RCT_numbers_replaced_with_at_sign/test.csv\n",
      "/kaggle/input/pubmed-200k-rtc/PubMed_200k_RCT_numbers_replaced_with_at_sign/train/train.txt\n",
      "/kaggle/input/pubmed-200k-rtc/PubMed_200k_RCT/dev.csv\n",
      "/kaggle/input/pubmed-200k-rtc/PubMed_200k_RCT/test.txt\n",
      "/kaggle/input/pubmed-200k-rtc/PubMed_200k_RCT/dev.txt\n",
      "/kaggle/input/pubmed-200k-rtc/PubMed_200k_RCT/train.csv\n",
      "/kaggle/input/pubmed-200k-rtc/PubMed_200k_RCT/test.csv\n",
      "/kaggle/input/pubmed-200k-rtc/PubMed_200k_RCT/train/train.txt\n",
      "/kaggle/input/pubmed-200k-rtc/PubMed_20k_RCT/dev.csv\n",
      "/kaggle/input/pubmed-200k-rtc/PubMed_20k_RCT/test.txt\n",
      "/kaggle/input/pubmed-200k-rtc/PubMed_20k_RCT/train.txt\n",
      "/kaggle/input/pubmed-200k-rtc/PubMed_20k_RCT/dev.txt\n",
      "/kaggle/input/pubmed-200k-rtc/PubMed_20k_RCT/train.csv\n",
      "/kaggle/input/pubmed-200k-rtc/PubMed_20k_RCT/test.csv\n",
      "/kaggle/input/pubmed-200k-rtc/PubMed_20k_RCT_numbers_replaced_with_at_sign/dev.csv\n",
      "/kaggle/input/pubmed-200k-rtc/PubMed_20k_RCT_numbers_replaced_with_at_sign/test.txt\n",
      "/kaggle/input/pubmed-200k-rtc/PubMed_20k_RCT_numbers_replaced_with_at_sign/train.txt\n",
      "/kaggle/input/pubmed-200k-rtc/PubMed_20k_RCT_numbers_replaced_with_at_sign/dev.txt\n",
      "/kaggle/input/pubmed-200k-rtc/PubMed_20k_RCT_numbers_replaced_with_at_sign/train.csv\n",
      "/kaggle/input/pubmed-200k-rtc/PubMed_20k_RCT_numbers_replaced_with_at_sign/test.csv\n"
     ]
    }
   ],
   "source": [
    "# This Python 3 environment comes with many helpful analytics libraries installed\n",
    "# It is defined by the kaggle/python Docker image: https://github.com/kaggle/docker-python\n",
    "# For example, here's several helpful packages to load\n",
    "\n",
    "import numpy as np # linear algebra\n",
    "import pandas as pd # data processing, CSV file I/O (e.g. pd.read_csv)\n",
    "import tensorflow as tf\n",
    "\n",
    "RANDOM_SEED = 42\n",
    "tf.keras.utils.set_random_seed(RANDOM_SEED)\n",
    "\n",
    "\n",
    "# Input data files are available in the read-only \"../input/\" directory\n",
    "# For example, running this (by clicking run or pressing Shift+Enter) will list all files under the input directory\n",
    "\n",
    "import os\n",
    "for dirname, _, filenames in os.walk('/kaggle/input'):\n",
    "    for filename in filenames:\n",
    "        print(os.path.join(dirname, filename))\n",
    "\n",
    "# You can write up to 20GB to the current directory (/kaggle/working/) that gets preserved as output when you create a version using \"Save & Run All\" \n",
    "# You can also write temporary files to /kaggle/temp/, but they won't be saved outside of the current session"
   ]
  },
  {
   "cell_type": "code",
   "execution_count": 2,
   "id": "d46e8881",
   "metadata": {
    "execution": {
     "iopub.execute_input": "2023-07-07T08:55:26.777892Z",
     "iopub.status.busy": "2023-07-07T08:55:26.776127Z",
     "iopub.status.idle": "2023-07-07T08:55:27.829984Z",
     "shell.execute_reply": "2023-07-07T08:55:27.828851Z"
    },
    "papermill": {
     "duration": 1.074763,
     "end_time": "2023-07-07T08:55:27.832731",
     "exception": false,
     "start_time": "2023-07-07T08:55:26.757968",
     "status": "completed"
    },
    "tags": []
   },
   "outputs": [
    {
     "name": "stdout",
     "output_type": "stream",
     "text": [
      "GPU 0: Tesla T4 (UUID: GPU-735000fc-bed8-f3d5-de26-84742736b765)\r\n",
      "GPU 1: Tesla T4 (UUID: GPU-4b2c5660-6667-6e7d-10bc-21add7014fca)\r\n"
     ]
    }
   ],
   "source": [
    "!nvidia-smi -L"
   ]
  },
  {
   "cell_type": "markdown",
   "id": "f4413989",
   "metadata": {
    "papermill": {
     "duration": 0.017198,
     "end_time": "2023-07-07T08:55:27.867588",
     "exception": false,
     "start_time": "2023-07-07T08:55:27.850390",
     "status": "completed"
    },
    "tags": []
   },
   "source": [
    "# 1] Data Ingestion"
   ]
  },
  {
   "cell_type": "code",
   "execution_count": 3,
   "id": "781aeb04",
   "metadata": {
    "execution": {
     "iopub.execute_input": "2023-07-07T08:55:27.904817Z",
     "iopub.status.busy": "2023-07-07T08:55:27.904194Z",
     "iopub.status.idle": "2023-07-07T08:55:27.909437Z",
     "shell.execute_reply": "2023-07-07T08:55:27.908428Z"
    },
    "papermill": {
     "duration": 0.026582,
     "end_time": "2023-07-07T08:55:27.911451",
     "exception": false,
     "start_time": "2023-07-07T08:55:27.884869",
     "status": "completed"
    },
    "tags": []
   },
   "outputs": [],
   "source": [
    "TRAIN_CSV_FILE_LOCATION = '/kaggle/input/pubmed-200k-rtc/PubMed_20k_RCT/train.csv'\n",
    "VAL_CSV_FILE_LOCATION = '/kaggle/input/pubmed-200k-rtc/PubMed_20k_RCT/dev.csv'\n",
    "TEST_CSV_FILE_LOCATION = '/kaggle/input/pubmed-200k-rtc/PubMed_20k_RCT/test.csv'"
   ]
  },
  {
   "cell_type": "code",
   "execution_count": 4,
   "id": "52bd2d06",
   "metadata": {
    "execution": {
     "iopub.execute_input": "2023-07-07T08:55:27.947131Z",
     "iopub.status.busy": "2023-07-07T08:55:27.946374Z",
     "iopub.status.idle": "2023-07-07T08:55:28.815717Z",
     "shell.execute_reply": "2023-07-07T08:55:28.814183Z"
    },
    "papermill": {
     "duration": 0.892851,
     "end_time": "2023-07-07T08:55:28.821439",
     "exception": false,
     "start_time": "2023-07-07T08:55:27.928588",
     "status": "completed"
    },
    "tags": []
   },
   "outputs": [
    {
     "data": {
      "text/html": [
       "<div>\n",
       "<style scoped>\n",
       "    .dataframe tbody tr th:only-of-type {\n",
       "        vertical-align: middle;\n",
       "    }\n",
       "\n",
       "    .dataframe tbody tr th {\n",
       "        vertical-align: top;\n",
       "    }\n",
       "\n",
       "    .dataframe thead th {\n",
       "        text-align: right;\n",
       "    }\n",
       "</style>\n",
       "<table border=\"1\" class=\"dataframe\">\n",
       "  <thead>\n",
       "    <tr style=\"text-align: right;\">\n",
       "      <th></th>\n",
       "      <th>abstract_id</th>\n",
       "      <th>line_id</th>\n",
       "      <th>abstract_text</th>\n",
       "      <th>line_number</th>\n",
       "      <th>total_lines</th>\n",
       "      <th>target</th>\n",
       "    </tr>\n",
       "  </thead>\n",
       "  <tbody>\n",
       "    <tr>\n",
       "      <th>0</th>\n",
       "      <td>24293578</td>\n",
       "      <td>24293578_0_12</td>\n",
       "      <td>To investigate the efficacy of 6 weeks of dail...</td>\n",
       "      <td>0</td>\n",
       "      <td>12</td>\n",
       "      <td>OBJECTIVE</td>\n",
       "    </tr>\n",
       "    <tr>\n",
       "      <th>1</th>\n",
       "      <td>24293578</td>\n",
       "      <td>24293578_1_12</td>\n",
       "      <td>A total of 125 patients with primary knee OA w...</td>\n",
       "      <td>1</td>\n",
       "      <td>12</td>\n",
       "      <td>METHODS</td>\n",
       "    </tr>\n",
       "    <tr>\n",
       "      <th>2</th>\n",
       "      <td>24293578</td>\n",
       "      <td>24293578_2_12</td>\n",
       "      <td>Outcome measures included pain reduction and i...</td>\n",
       "      <td>2</td>\n",
       "      <td>12</td>\n",
       "      <td>METHODS</td>\n",
       "    </tr>\n",
       "    <tr>\n",
       "      <th>3</th>\n",
       "      <td>24293578</td>\n",
       "      <td>24293578_3_12</td>\n",
       "      <td>Pain was assessed using the visual analog pain...</td>\n",
       "      <td>3</td>\n",
       "      <td>12</td>\n",
       "      <td>METHODS</td>\n",
       "    </tr>\n",
       "    <tr>\n",
       "      <th>4</th>\n",
       "      <td>24293578</td>\n",
       "      <td>24293578_4_12</td>\n",
       "      <td>Secondary outcome measures included the Wester...</td>\n",
       "      <td>4</td>\n",
       "      <td>12</td>\n",
       "      <td>METHODS</td>\n",
       "    </tr>\n",
       "  </tbody>\n",
       "</table>\n",
       "</div>"
      ],
      "text/plain": [
       "   abstract_id        line_id  \\\n",
       "0     24293578  24293578_0_12   \n",
       "1     24293578  24293578_1_12   \n",
       "2     24293578  24293578_2_12   \n",
       "3     24293578  24293578_3_12   \n",
       "4     24293578  24293578_4_12   \n",
       "\n",
       "                                       abstract_text  line_number  \\\n",
       "0  To investigate the efficacy of 6 weeks of dail...            0   \n",
       "1  A total of 125 patients with primary knee OA w...            1   \n",
       "2  Outcome measures included pain reduction and i...            2   \n",
       "3  Pain was assessed using the visual analog pain...            3   \n",
       "4  Secondary outcome measures included the Wester...            4   \n",
       "\n",
       "   total_lines     target  \n",
       "0           12  OBJECTIVE  \n",
       "1           12    METHODS  \n",
       "2           12    METHODS  \n",
       "3           12    METHODS  \n",
       "4           12    METHODS  "
      ]
     },
     "execution_count": 4,
     "metadata": {},
     "output_type": "execute_result"
    }
   ],
   "source": [
    "train_df = pd.read_csv(TRAIN_CSV_FILE_LOCATION)\n",
    "train_df.head()"
   ]
  },
  {
   "cell_type": "code",
   "execution_count": 5,
   "id": "7c252940",
   "metadata": {
    "execution": {
     "iopub.execute_input": "2023-07-07T08:55:28.892562Z",
     "iopub.status.busy": "2023-07-07T08:55:28.890212Z",
     "iopub.status.idle": "2023-07-07T08:55:29.098887Z",
     "shell.execute_reply": "2023-07-07T08:55:29.097978Z"
    },
    "papermill": {
     "duration": 0.245403,
     "end_time": "2023-07-07T08:55:29.101325",
     "exception": false,
     "start_time": "2023-07-07T08:55:28.855922",
     "status": "completed"
    },
    "tags": []
   },
   "outputs": [
    {
     "data": {
      "text/html": [
       "<div>\n",
       "<style scoped>\n",
       "    .dataframe tbody tr th:only-of-type {\n",
       "        vertical-align: middle;\n",
       "    }\n",
       "\n",
       "    .dataframe tbody tr th {\n",
       "        vertical-align: top;\n",
       "    }\n",
       "\n",
       "    .dataframe thead th {\n",
       "        text-align: right;\n",
       "    }\n",
       "</style>\n",
       "<table border=\"1\" class=\"dataframe\">\n",
       "  <thead>\n",
       "    <tr style=\"text-align: right;\">\n",
       "      <th></th>\n",
       "      <th>abstract_id</th>\n",
       "      <th>line_id</th>\n",
       "      <th>abstract_text</th>\n",
       "      <th>line_number</th>\n",
       "      <th>total_lines</th>\n",
       "      <th>target</th>\n",
       "    </tr>\n",
       "  </thead>\n",
       "  <tbody>\n",
       "    <tr>\n",
       "      <th>0</th>\n",
       "      <td>24290286</td>\n",
       "      <td>24290286_0_10</td>\n",
       "      <td>IgE sensitization to Aspergillus fumigatus and...</td>\n",
       "      <td>0</td>\n",
       "      <td>10</td>\n",
       "      <td>BACKGROUND</td>\n",
       "    </tr>\n",
       "    <tr>\n",
       "      <th>1</th>\n",
       "      <td>24290286</td>\n",
       "      <td>24290286_1_10</td>\n",
       "      <td>It is not clear whether these patients would b...</td>\n",
       "      <td>1</td>\n",
       "      <td>10</td>\n",
       "      <td>BACKGROUND</td>\n",
       "    </tr>\n",
       "    <tr>\n",
       "      <th>2</th>\n",
       "      <td>24290286</td>\n",
       "      <td>24290286_2_10</td>\n",
       "      <td>We sought to determine whether a 3-month cours...</td>\n",
       "      <td>2</td>\n",
       "      <td>10</td>\n",
       "      <td>OBJECTIVE</td>\n",
       "    </tr>\n",
       "    <tr>\n",
       "      <th>3</th>\n",
       "      <td>24290286</td>\n",
       "      <td>24290286_3_10</td>\n",
       "      <td>Asthmatic patients who were IgE sensitized to ...</td>\n",
       "      <td>3</td>\n",
       "      <td>10</td>\n",
       "      <td>METHODS</td>\n",
       "    </tr>\n",
       "    <tr>\n",
       "      <th>4</th>\n",
       "      <td>24290286</td>\n",
       "      <td>24290286_4_10</td>\n",
       "      <td>Primary outcomes were improvement in quality o...</td>\n",
       "      <td>4</td>\n",
       "      <td>10</td>\n",
       "      <td>METHODS</td>\n",
       "    </tr>\n",
       "  </tbody>\n",
       "</table>\n",
       "</div>"
      ],
      "text/plain": [
       "   abstract_id        line_id  \\\n",
       "0     24290286  24290286_0_10   \n",
       "1     24290286  24290286_1_10   \n",
       "2     24290286  24290286_2_10   \n",
       "3     24290286  24290286_3_10   \n",
       "4     24290286  24290286_4_10   \n",
       "\n",
       "                                       abstract_text  line_number  \\\n",
       "0  IgE sensitization to Aspergillus fumigatus and...            0   \n",
       "1  It is not clear whether these patients would b...            1   \n",
       "2  We sought to determine whether a 3-month cours...            2   \n",
       "3  Asthmatic patients who were IgE sensitized to ...            3   \n",
       "4  Primary outcomes were improvement in quality o...            4   \n",
       "\n",
       "   total_lines      target  \n",
       "0           10  BACKGROUND  \n",
       "1           10  BACKGROUND  \n",
       "2           10   OBJECTIVE  \n",
       "3           10     METHODS  \n",
       "4           10     METHODS  "
      ]
     },
     "execution_count": 5,
     "metadata": {},
     "output_type": "execute_result"
    }
   ],
   "source": [
    "val_df = pd.read_csv(VAL_CSV_FILE_LOCATION)\n",
    "val_df.head()"
   ]
  },
  {
   "cell_type": "code",
   "execution_count": 6,
   "id": "9376ece0",
   "metadata": {
    "execution": {
     "iopub.execute_input": "2023-07-07T08:55:29.157033Z",
     "iopub.status.busy": "2023-07-07T08:55:29.156280Z",
     "iopub.status.idle": "2023-07-07T08:55:29.348539Z",
     "shell.execute_reply": "2023-07-07T08:55:29.347633Z"
    },
    "papermill": {
     "duration": 0.222073,
     "end_time": "2023-07-07T08:55:29.351391",
     "exception": false,
     "start_time": "2023-07-07T08:55:29.129318",
     "status": "completed"
    },
    "tags": []
   },
   "outputs": [
    {
     "data": {
      "text/html": [
       "<div>\n",
       "<style scoped>\n",
       "    .dataframe tbody tr th:only-of-type {\n",
       "        vertical-align: middle;\n",
       "    }\n",
       "\n",
       "    .dataframe tbody tr th {\n",
       "        vertical-align: top;\n",
       "    }\n",
       "\n",
       "    .dataframe thead th {\n",
       "        text-align: right;\n",
       "    }\n",
       "</style>\n",
       "<table border=\"1\" class=\"dataframe\">\n",
       "  <thead>\n",
       "    <tr style=\"text-align: right;\">\n",
       "      <th></th>\n",
       "      <th>abstract_id</th>\n",
       "      <th>line_id</th>\n",
       "      <th>abstract_text</th>\n",
       "      <th>line_number</th>\n",
       "      <th>total_lines</th>\n",
       "      <th>target</th>\n",
       "    </tr>\n",
       "  </thead>\n",
       "  <tbody>\n",
       "    <tr>\n",
       "      <th>0</th>\n",
       "      <td>24845963</td>\n",
       "      <td>24845963_0_9</td>\n",
       "      <td>This study analyzed liver function abnormaliti...</td>\n",
       "      <td>0</td>\n",
       "      <td>9</td>\n",
       "      <td>BACKGROUND</td>\n",
       "    </tr>\n",
       "    <tr>\n",
       "      <th>1</th>\n",
       "      <td>24845963</td>\n",
       "      <td>24845963_1_9</td>\n",
       "      <td>A post hoc analysis was conducted with the use...</td>\n",
       "      <td>1</td>\n",
       "      <td>9</td>\n",
       "      <td>RESULTS</td>\n",
       "    </tr>\n",
       "    <tr>\n",
       "      <th>2</th>\n",
       "      <td>24845963</td>\n",
       "      <td>24845963_2_9</td>\n",
       "      <td>Liver function tests ( LFTs ) were measured at...</td>\n",
       "      <td>2</td>\n",
       "      <td>9</td>\n",
       "      <td>RESULTS</td>\n",
       "    </tr>\n",
       "    <tr>\n",
       "      <th>3</th>\n",
       "      <td>24845963</td>\n",
       "      <td>24845963_3_9</td>\n",
       "      <td>Survival analyses were used to assess the asso...</td>\n",
       "      <td>3</td>\n",
       "      <td>9</td>\n",
       "      <td>RESULTS</td>\n",
       "    </tr>\n",
       "    <tr>\n",
       "      <th>4</th>\n",
       "      <td>24845963</td>\n",
       "      <td>24845963_4_9</td>\n",
       "      <td>The percentage of patients with abnormal LFTs ...</td>\n",
       "      <td>4</td>\n",
       "      <td>9</td>\n",
       "      <td>RESULTS</td>\n",
       "    </tr>\n",
       "  </tbody>\n",
       "</table>\n",
       "</div>"
      ],
      "text/plain": [
       "   abstract_id       line_id  \\\n",
       "0     24845963  24845963_0_9   \n",
       "1     24845963  24845963_1_9   \n",
       "2     24845963  24845963_2_9   \n",
       "3     24845963  24845963_3_9   \n",
       "4     24845963  24845963_4_9   \n",
       "\n",
       "                                       abstract_text  line_number  \\\n",
       "0  This study analyzed liver function abnormaliti...            0   \n",
       "1  A post hoc analysis was conducted with the use...            1   \n",
       "2  Liver function tests ( LFTs ) were measured at...            2   \n",
       "3  Survival analyses were used to assess the asso...            3   \n",
       "4  The percentage of patients with abnormal LFTs ...            4   \n",
       "\n",
       "   total_lines      target  \n",
       "0            9  BACKGROUND  \n",
       "1            9     RESULTS  \n",
       "2            9     RESULTS  \n",
       "3            9     RESULTS  \n",
       "4            9     RESULTS  "
      ]
     },
     "execution_count": 6,
     "metadata": {},
     "output_type": "execute_result"
    }
   ],
   "source": [
    "test_df = pd.read_csv(TEST_CSV_FILE_LOCATION)\n",
    "test_df.head()"
   ]
  },
  {
   "cell_type": "markdown",
   "id": "faa1ed76",
   "metadata": {
    "papermill": {
     "duration": 0.024436,
     "end_time": "2023-07-07T08:55:29.402430",
     "exception": false,
     "start_time": "2023-07-07T08:55:29.377994",
     "status": "completed"
    },
    "tags": []
   },
   "source": [
    "# 2] Exploratory Data Analysis"
   ]
  },
  {
   "cell_type": "markdown",
   "id": "cdd83816",
   "metadata": {
    "papermill": {
     "duration": 0.024557,
     "end_time": "2023-07-07T08:55:29.456891",
     "exception": false,
     "start_time": "2023-07-07T08:55:29.432334",
     "status": "completed"
    },
    "tags": []
   },
   "source": [
    "## 2/a] The Train Set"
   ]
  },
  {
   "cell_type": "code",
   "execution_count": 7,
   "id": "f96ead9d",
   "metadata": {
    "execution": {
     "iopub.execute_input": "2023-07-07T08:55:29.509888Z",
     "iopub.status.busy": "2023-07-07T08:55:29.509458Z",
     "iopub.status.idle": "2023-07-07T08:55:29.518797Z",
     "shell.execute_reply": "2023-07-07T08:55:29.517985Z"
    },
    "papermill": {
     "duration": 0.038961,
     "end_time": "2023-07-07T08:55:29.521290",
     "exception": false,
     "start_time": "2023-07-07T08:55:29.482329",
     "status": "completed"
    },
    "tags": []
   },
   "outputs": [
    {
     "data": {
      "text/plain": [
       "(180040, 6)"
      ]
     },
     "execution_count": 7,
     "metadata": {},
     "output_type": "execute_result"
    }
   ],
   "source": [
    "train_df.shape"
   ]
  },
  {
   "cell_type": "code",
   "execution_count": 8,
   "id": "2532ddd6",
   "metadata": {
    "execution": {
     "iopub.execute_input": "2023-07-07T08:55:29.571927Z",
     "iopub.status.busy": "2023-07-07T08:55:29.571611Z",
     "iopub.status.idle": "2023-07-07T08:55:29.577730Z",
     "shell.execute_reply": "2023-07-07T08:55:29.576934Z"
    },
    "papermill": {
     "duration": 0.036648,
     "end_time": "2023-07-07T08:55:29.582890",
     "exception": false,
     "start_time": "2023-07-07T08:55:29.546242",
     "status": "completed"
    },
    "tags": []
   },
   "outputs": [
    {
     "data": {
      "text/plain": [
       "['BACKGROUND', 'OBJECTIVE', 'METHODS', 'RESULTS', 'CONCLUSIONS']"
      ]
     },
     "execution_count": 8,
     "metadata": {},
     "output_type": "execute_result"
    }
   ],
   "source": [
    "CLASSES = ['BACKGROUND', 'OBJECTIVE', 'METHODS', 'RESULTS', 'CONCLUSIONS']\n",
    "CLASSES"
   ]
  },
  {
   "cell_type": "code",
   "execution_count": 9,
   "id": "0c76214e",
   "metadata": {
    "execution": {
     "iopub.execute_input": "2023-07-07T08:55:29.634685Z",
     "iopub.status.busy": "2023-07-07T08:55:29.634328Z",
     "iopub.status.idle": "2023-07-07T08:55:29.681374Z",
     "shell.execute_reply": "2023-07-07T08:55:29.680652Z"
    },
    "papermill": {
     "duration": 0.07566,
     "end_time": "2023-07-07T08:55:29.683764",
     "exception": false,
     "start_time": "2023-07-07T08:55:29.608104",
     "status": "completed"
    },
    "tags": []
   },
   "outputs": [
    {
     "data": {
      "text/plain": [
       "METHODS        59353\n",
       "RESULTS        57953\n",
       "CONCLUSIONS    27168\n",
       "BACKGROUND     21727\n",
       "OBJECTIVE      13839\n",
       "Name: target, dtype: int64"
      ]
     },
     "execution_count": 9,
     "metadata": {},
     "output_type": "execute_result"
    }
   ],
   "source": [
    "train_tally = train_df['target'].value_counts()\n",
    "train_tally"
   ]
  },
  {
   "cell_type": "code",
   "execution_count": 10,
   "id": "90a35bc3",
   "metadata": {
    "execution": {
     "iopub.execute_input": "2023-07-07T08:55:29.736730Z",
     "iopub.status.busy": "2023-07-07T08:55:29.736420Z",
     "iopub.status.idle": "2023-07-07T08:55:30.175809Z",
     "shell.execute_reply": "2023-07-07T08:55:30.174785Z"
    },
    "papermill": {
     "duration": 0.468973,
     "end_time": "2023-07-07T08:55:30.178737",
     "exception": false,
     "start_time": "2023-07-07T08:55:29.709764",
     "status": "completed"
    },
    "tags": []
   },
   "outputs": [
    {
     "data": {
      "text/plain": [
       "METHODS        0.329666\n",
       "RESULTS        0.321890\n",
       "CONCLUSIONS    0.150900\n",
       "BACKGROUND     0.120679\n",
       "OBJECTIVE      0.076866\n",
       "Name: target, dtype: float64"
      ]
     },
     "execution_count": 10,
     "metadata": {},
     "output_type": "execute_result"
    },
    {
     "data": {
      "image/png": "[encoded data removed]",
      "text/plain": [
       "<Figure size 640x480 with 1 Axes>"
      ]
     },
     "metadata": {},
     "output_type": "display_data"
    }
   ],
   "source": [
    "pd.DataFrame(train_tally/sum(train_tally)).plot(kind='bar')\n",
    "norm_train_tally = train_tally/sum(train_tally)\n",
    "norm_train_tally"
   ]
  },
  {
   "cell_type": "markdown",
   "id": "f8c19934",
   "metadata": {
    "papermill": {
     "duration": 0.028755,
     "end_time": "2023-07-07T08:55:30.237310",
     "exception": false,
     "start_time": "2023-07-07T08:55:30.208555",
     "status": "completed"
    },
    "tags": []
   },
   "source": [
    "📘 **NOTES**\n",
    "* There are `5` classes for this dataset.\n",
    "* There are `180040` records for the train set. Note that each record is a line on the medical abstract.\n",
    "* This is an *imbalanced* dataset with `2` of the classes comprising `~30%`of the dataset. The least class comprises `~7%` of the dataset."
   ]
  },
  {
   "cell_type": "markdown",
   "id": "24e9cc63",
   "metadata": {
    "papermill": {
     "duration": 0.018962,
     "end_time": "2023-07-07T08:55:30.281753",
     "exception": false,
     "start_time": "2023-07-07T08:55:30.262791",
     "status": "completed"
    },
    "tags": []
   },
   "source": [
    "## 2/b] The Validation Set"
   ]
  },
  {
   "cell_type": "code",
   "execution_count": 11,
   "id": "1c26bd7b",
   "metadata": {
    "execution": {
     "iopub.execute_input": "2023-07-07T08:55:30.320385Z",
     "iopub.status.busy": "2023-07-07T08:55:30.320064Z",
     "iopub.status.idle": "2023-07-07T08:55:30.326311Z",
     "shell.execute_reply": "2023-07-07T08:55:30.325405Z"
    },
    "papermill": {
     "duration": 0.028161,
     "end_time": "2023-07-07T08:55:30.328503",
     "exception": false,
     "start_time": "2023-07-07T08:55:30.300342",
     "status": "completed"
    },
    "tags": []
   },
   "outputs": [
    {
     "data": {
      "text/plain": [
       "(30212, 6)"
      ]
     },
     "execution_count": 11,
     "metadata": {},
     "output_type": "execute_result"
    }
   ],
   "source": [
    "val_df.shape"
   ]
  },
  {
   "cell_type": "code",
   "execution_count": 12,
   "id": "31bf4e6e",
   "metadata": {
    "execution": {
     "iopub.execute_input": "2023-07-07T08:55:30.366984Z",
     "iopub.status.busy": "2023-07-07T08:55:30.366710Z",
     "iopub.status.idle": "2023-07-07T08:55:30.379358Z",
     "shell.execute_reply": "2023-07-07T08:55:30.378180Z"
    },
    "papermill": {
     "duration": 0.034813,
     "end_time": "2023-07-07T08:55:30.381878",
     "exception": false,
     "start_time": "2023-07-07T08:55:30.347065",
     "status": "completed"
    },
    "tags": []
   },
   "outputs": [
    {
     "data": {
      "text/plain": [
       "METHODS        9964\n",
       "RESULTS        9841\n",
       "CONCLUSIONS    4582\n",
       "BACKGROUND     3449\n",
       "OBJECTIVE      2376\n",
       "Name: target, dtype: int64"
      ]
     },
     "execution_count": 12,
     "metadata": {},
     "output_type": "execute_result"
    }
   ],
   "source": [
    "val_tally = val_df['target'].value_counts()\n",
    "val_tally"
   ]
  },
  {
   "cell_type": "code",
   "execution_count": 13,
   "id": "a4f6bb48",
   "metadata": {
    "execution": {
     "iopub.execute_input": "2023-07-07T08:55:30.422603Z",
     "iopub.status.busy": "2023-07-07T08:55:30.422297Z",
     "iopub.status.idle": "2023-07-07T08:55:30.710503Z",
     "shell.execute_reply": "2023-07-07T08:55:30.709547Z"
    },
    "papermill": {
     "duration": 0.311153,
     "end_time": "2023-07-07T08:55:30.712764",
     "exception": false,
     "start_time": "2023-07-07T08:55:30.401611",
     "status": "completed"
    },
    "tags": []
   },
   "outputs": [
    {
     "data": {
      "text/plain": [
       "METHODS        0.329803\n",
       "RESULTS        0.325731\n",
       "CONCLUSIONS    0.151662\n",
       "BACKGROUND     0.114160\n",
       "OBJECTIVE      0.078644\n",
       "Name: target, dtype: float64"
      ]
     },
     "execution_count": 13,
     "metadata": {},
     "output_type": "execute_result"
    },
    {
     "data": {
      "image/png": "[encoded data removed]",
      "text/plain": [
       "<Figure size 640x480 with 1 Axes>"
      ]
     },
     "metadata": {},
     "output_type": "display_data"
    }
   ],
   "source": [
    "pd.DataFrame(val_tally/sum(val_tally)).plot(kind='bar')\n",
    "norm_val_tally = val_tally/sum(val_tally)\n",
    "norm_val_tally"
   ]
  },
  {
   "cell_type": "markdown",
   "id": "23f59de8",
   "metadata": {
    "papermill": {
     "duration": 0.019508,
     "end_time": "2023-07-07T08:55:30.752258",
     "exception": false,
     "start_time": "2023-07-07T08:55:30.732750",
     "status": "completed"
    },
    "tags": []
   },
   "source": [
    "## 2/c] The Test Set"
   ]
  },
  {
   "cell_type": "code",
   "execution_count": 14,
   "id": "2013e341",
   "metadata": {
    "execution": {
     "iopub.execute_input": "2023-07-07T08:55:30.792980Z",
     "iopub.status.busy": "2023-07-07T08:55:30.792146Z",
     "iopub.status.idle": "2023-07-07T08:55:30.799517Z",
     "shell.execute_reply": "2023-07-07T08:55:30.798700Z"
    },
    "papermill": {
     "duration": 0.031178,
     "end_time": "2023-07-07T08:55:30.803245",
     "exception": false,
     "start_time": "2023-07-07T08:55:30.772067",
     "status": "completed"
    },
    "tags": []
   },
   "outputs": [
    {
     "data": {
      "text/plain": [
       "(30135, 6)"
      ]
     },
     "execution_count": 14,
     "metadata": {},
     "output_type": "execute_result"
    }
   ],
   "source": [
    "test_df.shape"
   ]
  },
  {
   "cell_type": "code",
   "execution_count": 15,
   "id": "048ed3f9",
   "metadata": {
    "execution": {
     "iopub.execute_input": "2023-07-07T08:55:30.846803Z",
     "iopub.status.busy": "2023-07-07T08:55:30.845920Z",
     "iopub.status.idle": "2023-07-07T08:55:30.856627Z",
     "shell.execute_reply": "2023-07-07T08:55:30.855726Z"
    },
    "papermill": {
     "duration": 0.032958,
     "end_time": "2023-07-07T08:55:30.858657",
     "exception": false,
     "start_time": "2023-07-07T08:55:30.825699",
     "status": "completed"
    },
    "tags": []
   },
   "outputs": [
    {
     "data": {
      "text/plain": [
       "METHODS        9897\n",
       "RESULTS        9713\n",
       "CONCLUSIONS    4571\n",
       "BACKGROUND     3621\n",
       "OBJECTIVE      2333\n",
       "Name: target, dtype: int64"
      ]
     },
     "execution_count": 15,
     "metadata": {},
     "output_type": "execute_result"
    }
   ],
   "source": [
    "test_tally = test_df['target'].value_counts()\n",
    "test_tally"
   ]
  },
  {
   "cell_type": "code",
   "execution_count": 16,
   "id": "3ad6d170",
   "metadata": {
    "execution": {
     "iopub.execute_input": "2023-07-07T08:55:30.899683Z",
     "iopub.status.busy": "2023-07-07T08:55:30.898786Z",
     "iopub.status.idle": "2023-07-07T08:55:31.393597Z",
     "shell.execute_reply": "2023-07-07T08:55:31.392567Z"
    },
    "papermill": {
     "duration": 0.517966,
     "end_time": "2023-07-07T08:55:31.395941",
     "exception": false,
     "start_time": "2023-07-07T08:55:30.877975",
     "status": "completed"
    },
    "tags": []
   },
   "outputs": [
    {
     "data": {
      "text/plain": [
       "METHODS        0.328422\n",
       "RESULTS        0.322316\n",
       "CONCLUSIONS    0.151684\n",
       "BACKGROUND     0.120159\n",
       "OBJECTIVE      0.077418\n",
       "Name: target, dtype: float64"
      ]
     },
     "execution_count": 16,
     "metadata": {},
     "output_type": "execute_result"
    },
    {
     "data": {
      "image/png": "[encoded data removed]",
      "text/plain": [
       "<Figure size 640x480 with 1 Axes>"
      ]
     },
     "metadata": {},
     "output_type": "display_data"
    }
   ],
   "source": [
    "pd.DataFrame(test_tally).plot(kind='bar')\n",
    "norm_test_tally = test_tally/sum(test_tally)\n",
    "norm_test_tally"
   ]
  },
  {
   "cell_type": "markdown",
   "id": "2431027c",
   "metadata": {
    "papermill": {
     "duration": 0.021717,
     "end_time": "2023-07-07T08:55:31.438936",
     "exception": false,
     "start_time": "2023-07-07T08:55:31.417219",
     "status": "completed"
    },
    "tags": []
   },
   "source": [
    "## 2/d] Compare class distributions of the different datasets"
   ]
  },
  {
   "cell_type": "code",
   "execution_count": 17,
   "id": "5323d903",
   "metadata": {
    "execution": {
     "iopub.execute_input": "2023-07-07T08:55:31.485556Z",
     "iopub.status.busy": "2023-07-07T08:55:31.484607Z",
     "iopub.status.idle": "2023-07-07T08:55:31.817583Z",
     "shell.execute_reply": "2023-07-07T08:55:31.816694Z"
    },
    "papermill": {
     "duration": 0.358913,
     "end_time": "2023-07-07T08:55:31.820122",
     "exception": false,
     "start_time": "2023-07-07T08:55:31.461209",
     "status": "completed"
    },
    "tags": []
   },
   "outputs": [
    {
     "data": {
      "text/plain": [
       "<Axes: >"
      ]
     },
     "execution_count": 17,
     "metadata": {},
     "output_type": "execute_result"
    },
    {
     "data": {
      "image/png": "[encoded data removed]",
      "text/plain": [
       "<Figure size 640x480 with 1 Axes>"
      ]
     },
     "metadata": {},
     "output_type": "display_data"
    }
   ],
   "source": [
    "pd.DataFrame(zip(norm_train_tally, norm_val_tally, norm_test_tally), columns=['train', 'validation','test']).plot(kind='bar')"
   ]
  },
  {
   "cell_type": "markdown",
   "id": "39832f2e",
   "metadata": {
    "papermill": {
     "duration": 0.022138,
     "end_time": "2023-07-07T08:55:31.867162",
     "exception": false,
     "start_time": "2023-07-07T08:55:31.845024",
     "status": "completed"
    },
    "tags": []
   },
   "source": [
    "📘 **NOTES**\n",
    "* The distribution ofthe classes between `train`, `validation`, and `test` sets are quite similar. Nice stratification!\n"
   ]
  },
  {
   "cell_type": "markdown",
   "id": "e7c3a6b6",
   "metadata": {
    "papermill": {
     "duration": 0.020498,
     "end_time": "2023-07-07T08:55:31.908124",
     "exception": false,
     "start_time": "2023-07-07T08:55:31.887626",
     "status": "completed"
    },
    "tags": []
   },
   "source": [
    "# 3] Modelling\n",
    "\n",
    "* **Model 0 (baseline):** Multinomial Naive Bayes\n"
   ]
  },
  {
   "cell_type": "markdown",
   "id": "a5032fbf",
   "metadata": {
    "papermill": {
     "duration": 0.020207,
     "end_time": "2023-07-07T08:55:31.948725",
     "exception": false,
     "start_time": "2023-07-07T08:55:31.928518",
     "status": "completed"
    },
    "tags": []
   },
   "source": [
    "## 3/a] Preprocessing the dataset"
   ]
  },
  {
   "cell_type": "code",
   "execution_count": 18,
   "id": "79d07b63",
   "metadata": {
    "execution": {
     "iopub.execute_input": "2023-07-07T08:55:31.991065Z",
     "iopub.status.busy": "2023-07-07T08:55:31.990745Z",
     "iopub.status.idle": "2023-07-07T08:55:31.995404Z",
     "shell.execute_reply": "2023-07-07T08:55:31.994285Z"
    },
    "papermill": {
     "duration": 0.028474,
     "end_time": "2023-07-07T08:55:31.997478",
     "exception": false,
     "start_time": "2023-07-07T08:55:31.969004",
     "status": "completed"
    },
    "tags": []
   },
   "outputs": [],
   "source": [
    "def features_class_split(dataset):\n",
    "    return dataset['abstract_text'], dataset['target']"
   ]
  },
  {
   "cell_type": "code",
   "execution_count": 19,
   "id": "0238e259",
   "metadata": {
    "execution": {
     "iopub.execute_input": "2023-07-07T08:55:32.039604Z",
     "iopub.status.busy": "2023-07-07T08:55:32.039319Z",
     "iopub.status.idle": "2023-07-07T08:55:32.045563Z",
     "shell.execute_reply": "2023-07-07T08:55:32.044537Z"
    },
    "papermill": {
     "duration": 0.02994,
     "end_time": "2023-07-07T08:55:32.047850",
     "exception": false,
     "start_time": "2023-07-07T08:55:32.017910",
     "status": "completed"
    },
    "tags": []
   },
   "outputs": [
    {
     "data": {
      "text/plain": [
       "((180040,), (180040,))"
      ]
     },
     "execution_count": 19,
     "metadata": {},
     "output_type": "execute_result"
    }
   ],
   "source": [
    "X_train, y_train = features_class_split(train_df)\n",
    "X_train.shape, y_train.shape"
   ]
  },
  {
   "cell_type": "code",
   "execution_count": 20,
   "id": "64a6c6e8",
   "metadata": {
    "execution": {
     "iopub.execute_input": "2023-07-07T08:55:32.094335Z",
     "iopub.status.busy": "2023-07-07T08:55:32.094043Z",
     "iopub.status.idle": "2023-07-07T08:55:32.102913Z",
     "shell.execute_reply": "2023-07-07T08:55:32.101919Z"
    },
    "papermill": {
     "duration": 0.034201,
     "end_time": "2023-07-07T08:55:32.105109",
     "exception": false,
     "start_time": "2023-07-07T08:55:32.070908",
     "status": "completed"
    },
    "tags": []
   },
   "outputs": [
    {
     "data": {
      "text/plain": [
       "0         To investigate the efficacy of 6 weeks of dail...\n",
       "1         A total of 125 patients with primary knee OA w...\n",
       "2         Outcome measures included pain reduction and i...\n",
       "3         Pain was assessed using the visual analog pain...\n",
       "4         Secondary outcome measures included the Wester...\n",
       "                                ...                        \n",
       "180035    For the absolute change in percent atheroma vo...\n",
       "180036    For PAV , a significantly greater percentage o...\n",
       "180037    Both strategies had acceptable side effect pro...\n",
       "180038    Compared with standard statin monotherapy , th...\n",
       "180039    ( Plaque Regression With Cholesterol Absorptio...\n",
       "Name: abstract_text, Length: 180040, dtype: object"
      ]
     },
     "execution_count": 20,
     "metadata": {},
     "output_type": "execute_result"
    }
   ],
   "source": [
    "X_train"
   ]
  },
  {
   "cell_type": "code",
   "execution_count": 21,
   "id": "2f35fcb1",
   "metadata": {
    "execution": {
     "iopub.execute_input": "2023-07-07T08:55:32.153767Z",
     "iopub.status.busy": "2023-07-07T08:55:32.152152Z",
     "iopub.status.idle": "2023-07-07T08:55:32.160165Z",
     "shell.execute_reply": "2023-07-07T08:55:32.159213Z"
    },
    "papermill": {
     "duration": 0.034055,
     "end_time": "2023-07-07T08:55:32.162205",
     "exception": false,
     "start_time": "2023-07-07T08:55:32.128150",
     "status": "completed"
    },
    "tags": []
   },
   "outputs": [
    {
     "data": {
      "text/plain": [
       "0           OBJECTIVE\n",
       "1             METHODS\n",
       "2             METHODS\n",
       "3             METHODS\n",
       "4             METHODS\n",
       "             ...     \n",
       "180035        RESULTS\n",
       "180036        RESULTS\n",
       "180037        RESULTS\n",
       "180038    CONCLUSIONS\n",
       "180039    CONCLUSIONS\n",
       "Name: target, Length: 180040, dtype: object"
      ]
     },
     "execution_count": 21,
     "metadata": {},
     "output_type": "execute_result"
    }
   ],
   "source": [
    "y_train"
   ]
  },
  {
   "cell_type": "code",
   "execution_count": 22,
   "id": "ff43a23a",
   "metadata": {
    "execution": {
     "iopub.execute_input": "2023-07-07T08:55:32.209710Z",
     "iopub.status.busy": "2023-07-07T08:55:32.208882Z",
     "iopub.status.idle": "2023-07-07T08:55:32.215993Z",
     "shell.execute_reply": "2023-07-07T08:55:32.214938Z"
    },
    "papermill": {
     "duration": 0.032971,
     "end_time": "2023-07-07T08:55:32.218286",
     "exception": false,
     "start_time": "2023-07-07T08:55:32.185315",
     "status": "completed"
    },
    "tags": []
   },
   "outputs": [
    {
     "data": {
      "text/plain": [
       "((30212,), (30212,))"
      ]
     },
     "execution_count": 22,
     "metadata": {},
     "output_type": "execute_result"
    }
   ],
   "source": [
    "X_val, y_val = features_class_split(val_df)\n",
    "X_val.shape, y_val.shape"
   ]
  },
  {
   "cell_type": "code",
   "execution_count": 23,
   "id": "aa914399",
   "metadata": {
    "execution": {
     "iopub.execute_input": "2023-07-07T08:55:32.266311Z",
     "iopub.status.busy": "2023-07-07T08:55:32.266026Z",
     "iopub.status.idle": "2023-07-07T08:55:32.272402Z",
     "shell.execute_reply": "2023-07-07T08:55:32.271446Z"
    },
    "papermill": {
     "duration": 0.032839,
     "end_time": "2023-07-07T08:55:32.274402",
     "exception": false,
     "start_time": "2023-07-07T08:55:32.241563",
     "status": "completed"
    },
    "tags": []
   },
   "outputs": [
    {
     "data": {
      "text/plain": [
       "((30135,), (30135,))"
      ]
     },
     "execution_count": 23,
     "metadata": {},
     "output_type": "execute_result"
    }
   ],
   "source": [
    "X_test, y_test = features_class_split(test_df)\n",
    "X_test.shape, y_test.shape"
   ]
  },
  {
   "cell_type": "markdown",
   "id": "e7b41807",
   "metadata": {
    "papermill": {
     "duration": 0.021363,
     "end_time": "2023-07-07T08:55:32.317520",
     "exception": false,
     "start_time": "2023-07-07T08:55:32.296157",
     "status": "completed"
    },
    "tags": []
   },
   "source": [
    "## 3/b] **Model 0 (baseline):** Multinomial Naive Bayes"
   ]
  },
  {
   "cell_type": "markdown",
   "id": "6b4698af",
   "metadata": {
    "papermill": {
     "duration": 0.02102,
     "end_time": "2023-07-07T08:55:32.359714",
     "exception": false,
     "start_time": "2023-07-07T08:55:32.338694",
     "status": "completed"
    },
    "tags": []
   },
   "source": [
    "### The Vectorizer"
   ]
  },
  {
   "cell_type": "code",
   "execution_count": 24,
   "id": "527d6884",
   "metadata": {
    "execution": {
     "iopub.execute_input": "2023-07-07T08:55:32.403899Z",
     "iopub.status.busy": "2023-07-07T08:55:32.403334Z",
     "iopub.status.idle": "2023-07-07T08:55:39.249618Z",
     "shell.execute_reply": "2023-07-07T08:55:39.248622Z"
    },
    "papermill": {
     "duration": 6.870928,
     "end_time": "2023-07-07T08:55:39.251883",
     "exception": false,
     "start_time": "2023-07-07T08:55:32.380955",
     "status": "completed"
    },
    "tags": []
   },
   "outputs": [
    {
     "data": {
      "text/plain": [
       "(180040, 57996)"
      ]
     },
     "execution_count": 24,
     "metadata": {},
     "output_type": "execute_result"
    }
   ],
   "source": [
    "from sklearn.feature_extraction.text import TfidfVectorizer\n",
    "\n",
    "vectorizer = TfidfVectorizer()\n",
    "results = vectorizer.fit_transform(X_train)\n",
    "results.shape"
   ]
  },
  {
   "cell_type": "code",
   "execution_count": 25,
   "id": "6e618ce7",
   "metadata": {
    "execution": {
     "iopub.execute_input": "2023-07-07T08:55:39.300462Z",
     "iopub.status.busy": "2023-07-07T08:55:39.300125Z",
     "iopub.status.idle": "2023-07-07T08:55:39.348252Z",
     "shell.execute_reply": "2023-07-07T08:55:39.347335Z"
    },
    "papermill": {
     "duration": 0.075127,
     "end_time": "2023-07-07T08:55:39.350385",
     "exception": false,
     "start_time": "2023-07-07T08:55:39.275258",
     "status": "completed"
    },
    "tags": []
   },
   "outputs": [
    {
     "data": {
      "text/plain": [
       "array(['00', '000', '0000', ..., 'zygomaticotemporal', 'zygote',\n",
       "       'zygotes'], dtype=object)"
      ]
     },
     "execution_count": 25,
     "metadata": {},
     "output_type": "execute_result"
    }
   ],
   "source": [
    "vocabulary = vectorizer.get_feature_names_out()\n",
    "vocabulary"
   ]
  },
  {
   "cell_type": "code",
   "execution_count": 26,
   "id": "efef12cb",
   "metadata": {
    "execution": {
     "iopub.execute_input": "2023-07-07T08:55:39.398349Z",
     "iopub.status.busy": "2023-07-07T08:55:39.397423Z",
     "iopub.status.idle": "2023-07-07T08:55:39.403907Z",
     "shell.execute_reply": "2023-07-07T08:55:39.402903Z"
    },
    "papermill": {
     "duration": 0.032273,
     "end_time": "2023-07-07T08:55:39.406096",
     "exception": false,
     "start_time": "2023-07-07T08:55:39.373823",
     "status": "completed"
    },
    "tags": []
   },
   "outputs": [
    {
     "data": {
      "text/plain": [
       "57996"
      ]
     },
     "execution_count": 26,
     "metadata": {},
     "output_type": "execute_result"
    }
   ],
   "source": [
    "len(vocabulary)"
   ]
  },
  {
   "cell_type": "code",
   "execution_count": 27,
   "id": "bc134444",
   "metadata": {
    "execution": {
     "iopub.execute_input": "2023-07-07T08:55:39.452718Z",
     "iopub.status.busy": "2023-07-07T08:55:39.451865Z",
     "iopub.status.idle": "2023-07-07T08:55:39.482901Z",
     "shell.execute_reply": "2023-07-07T08:55:39.481826Z"
    },
    "papermill": {
     "duration": 0.056442,
     "end_time": "2023-07-07T08:55:39.485042",
     "exception": false,
     "start_time": "2023-07-07T08:55:39.428600",
     "status": "completed"
    },
    "tags": []
   },
   "outputs": [
    {
     "data": {
      "text/html": [
       "<style>#sk-container-id-1 {color: black;background-color: white;}#sk-container-id-1 pre{padding: 0;}#sk-container-id-1 div.sk-toggleable {background-color: white;}#sk-container-id-1 label.sk-toggleable__label {cursor: pointer;display: block;width: 100%;margin-bottom: 0;padding: 0.3em;box-sizing: border-box;text-align: center;}#sk-container-id-1 label.sk-toggleable__label-arrow:before {content: \"▸\";float: left;margin-right: 0.25em;color: #696969;}#sk-container-id-1 label.sk-toggleable__label-arrow:hover:before {color: black;}#sk-container-id-1 div.sk-estimator:hover label.sk-toggleable__label-arrow:before {color: black;}#sk-container-id-1 div.sk-toggleable__content {max-height: 0;max-width: 0;overflow: hidden;text-align: left;background-color: #f0f8ff;}#sk-container-id-1 div.sk-toggleable__content pre {margin: 0.2em;color: black;border-radius: 0.25em;background-color: #f0f8ff;}#sk-container-id-1 input.sk-toggleable__control:checked~div.sk-toggleable__content {max-height: 200px;max-width: 100%;overflow: auto;}#sk-container-id-1 input.sk-toggleable__control:checked~label.sk-toggleable__label-arrow:before {content: \"▾\";}#sk-container-id-1 div.sk-estimator input.sk-toggleable__control:checked~label.sk-toggleable__label {background-color: #d4ebff;}#sk-container-id-1 div.sk-label input.sk-toggleable__control:checked~label.sk-toggleable__label {background-color: #d4ebff;}#sk-container-id-1 input.sk-hidden--visually {border: 0;clip: rect(1px 1px 1px 1px);clip: rect(1px, 1px, 1px, 1px);height: 1px;margin: -1px;overflow: hidden;padding: 0;position: absolute;width: 1px;}#sk-container-id-1 div.sk-estimator {font-family: monospace;background-color: #f0f8ff;border: 1px dotted black;border-radius: 0.25em;box-sizing: border-box;margin-bottom: 0.5em;}#sk-container-id-1 div.sk-estimator:hover {background-color: #d4ebff;}#sk-container-id-1 div.sk-parallel-item::after {content: \"\";width: 100%;border-bottom: 1px solid gray;flex-grow: 1;}#sk-container-id-1 div.sk-label:hover label.sk-toggleable__label {background-color: #d4ebff;}#sk-container-id-1 div.sk-serial::before {content: \"\";position: absolute;border-left: 1px solid gray;box-sizing: border-box;top: 0;bottom: 0;left: 50%;z-index: 0;}#sk-container-id-1 div.sk-serial {display: flex;flex-direction: column;align-items: center;background-color: white;padding-right: 0.2em;padding-left: 0.2em;position: relative;}#sk-container-id-1 div.sk-item {position: relative;z-index: 1;}#sk-container-id-1 div.sk-parallel {display: flex;align-items: stretch;justify-content: center;background-color: white;position: relative;}#sk-container-id-1 div.sk-item::before, #sk-container-id-1 div.sk-parallel-item::before {content: \"\";position: absolute;border-left: 1px solid gray;box-sizing: border-box;top: 0;bottom: 0;left: 50%;z-index: -1;}#sk-container-id-1 div.sk-parallel-item {display: flex;flex-direction: column;z-index: 1;position: relative;background-color: white;}#sk-container-id-1 div.sk-parallel-item:first-child::after {align-self: flex-end;width: 50%;}#sk-container-id-1 div.sk-parallel-item:last-child::after {align-self: flex-start;width: 50%;}#sk-container-id-1 div.sk-parallel-item:only-child::after {width: 0;}#sk-container-id-1 div.sk-dashed-wrapped {border: 1px dashed gray;margin: 0 0.4em 0.5em 0.4em;box-sizing: border-box;padding-bottom: 0.4em;background-color: white;}#sk-container-id-1 div.sk-label label {font-family: monospace;font-weight: bold;display: inline-block;line-height: 1.2em;}#sk-container-id-1 div.sk-label-container {text-align: center;}#sk-container-id-1 div.sk-container {/* jupyter's `normalize.less` sets `[hidden] { display: none; }` but bootstrap.min.css set `[hidden] { display: none !important; }` so we also need the `!important` here to be able to override the default hidden behavior on the sphinx rendered scikit-learn.org. See: https://github.com/scikit-learn/scikit-learn/issues/21755 */display: inline-block !important;position: relative;}#sk-container-id-1 div.sk-text-repr-fallback {display: none;}</style><div id=\"sk-container-id-1\" class=\"sk-top-container\"><div class=\"sk-text-repr-fallback\"><pre>Pipeline(steps=[(&#x27;vectorizer&#x27;, TfidfVectorizer()), (&#x27;clf&#x27;, MultinomialNB())])</pre><b>In a Jupyter environment, please rerun this cell to show the HTML representation or trust the notebook. <br />On GitHub, the HTML representation is unable to render, please try loading this page with nbviewer.org.</b></div><div class=\"sk-container\" hidden><div class=\"sk-item sk-dashed-wrapped\"><div class=\"sk-label-container\"><div class=\"sk-label sk-toggleable\"><input class=\"sk-toggleable__control sk-hidden--visually\" id=\"sk-estimator-id-1\" type=\"checkbox\" ><label for=\"sk-estimator-id-1\" class=\"sk-toggleable__label sk-toggleable__label-arrow\">Pipeline</label><div class=\"sk-toggleable__content\"><pre>Pipeline(steps=[(&#x27;vectorizer&#x27;, TfidfVectorizer()), (&#x27;clf&#x27;, MultinomialNB())])</pre></div></div></div><div class=\"sk-serial\"><div class=\"sk-item\"><div class=\"sk-estimator sk-toggleable\"><input class=\"sk-toggleable__control sk-hidden--visually\" id=\"sk-estimator-id-2\" type=\"checkbox\" ><label for=\"sk-estimator-id-2\" class=\"sk-toggleable__label sk-toggleable__label-arrow\">TfidfVectorizer</label><div class=\"sk-toggleable__content\"><pre>TfidfVectorizer()</pre></div></div></div><div class=\"sk-item\"><div class=\"sk-estimator sk-toggleable\"><input class=\"sk-toggleable__control sk-hidden--visually\" id=\"sk-estimator-id-3\" type=\"checkbox\" ><label for=\"sk-estimator-id-3\" class=\"sk-toggleable__label sk-toggleable__label-arrow\">MultinomialNB</label><div class=\"sk-toggleable__content\"><pre>MultinomialNB()</pre></div></div></div></div></div></div></div>"
      ],
      "text/plain": [
       "Pipeline(steps=[('vectorizer', TfidfVectorizer()), ('clf', MultinomialNB())])"
      ]
     },
     "execution_count": 27,
     "metadata": {},
     "output_type": "execute_result"
    }
   ],
   "source": [
    "from sklearn.naive_bayes import MultinomialNB\n",
    "from sklearn.feature_extraction.text import TfidfVectorizer\n",
    "from sklearn.pipeline import Pipeline\n",
    "\n",
    "def build_model_0():\n",
    "    return Pipeline([\n",
    "        ('vectorizer', TfidfVectorizer()),\n",
    "        ('clf', MultinomialNB())\n",
    "    ])\n",
    "    \n",
    "\n",
    "model_0 = build_model_0()\n",
    "model_0"
   ]
  },
  {
   "cell_type": "code",
   "execution_count": 28,
   "id": "9a6e960a",
   "metadata": {
    "execution": {
     "iopub.execute_input": "2023-07-07T08:55:39.531606Z",
     "iopub.status.busy": "2023-07-07T08:55:39.530659Z",
     "iopub.status.idle": "2023-07-07T08:55:46.057875Z",
     "shell.execute_reply": "2023-07-07T08:55:46.056940Z"
    },
    "papermill": {
     "duration": 6.55236,
     "end_time": "2023-07-07T08:55:46.059921",
     "exception": false,
     "start_time": "2023-07-07T08:55:39.507561",
     "status": "completed"
    },
    "tags": []
   },
   "outputs": [
    {
     "data": {
      "text/html": [
       "<style>#sk-container-id-2 {color: black;background-color: white;}#sk-container-id-2 pre{padding: 0;}#sk-container-id-2 div.sk-toggleable {background-color: white;}#sk-container-id-2 label.sk-toggleable__label {cursor: pointer;display: block;width: 100%;margin-bottom: 0;padding: 0.3em;box-sizing: border-box;text-align: center;}#sk-container-id-2 label.sk-toggleable__label-arrow:before {content: \"▸\";float: left;margin-right: 0.25em;color: #696969;}#sk-container-id-2 label.sk-toggleable__label-arrow:hover:before {color: black;}#sk-container-id-2 div.sk-estimator:hover label.sk-toggleable__label-arrow:before {color: black;}#sk-container-id-2 div.sk-toggleable__content {max-height: 0;max-width: 0;overflow: hidden;text-align: left;background-color: #f0f8ff;}#sk-container-id-2 div.sk-toggleable__content pre {margin: 0.2em;color: black;border-radius: 0.25em;background-color: #f0f8ff;}#sk-container-id-2 input.sk-toggleable__control:checked~div.sk-toggleable__content {max-height: 200px;max-width: 100%;overflow: auto;}#sk-container-id-2 input.sk-toggleable__control:checked~label.sk-toggleable__label-arrow:before {content: \"▾\";}#sk-container-id-2 div.sk-estimator input.sk-toggleable__control:checked~label.sk-toggleable__label {background-color: #d4ebff;}#sk-container-id-2 div.sk-label input.sk-toggleable__control:checked~label.sk-toggleable__label {background-color: #d4ebff;}#sk-container-id-2 input.sk-hidden--visually {border: 0;clip: rect(1px 1px 1px 1px);clip: rect(1px, 1px, 1px, 1px);height: 1px;margin: -1px;overflow: hidden;padding: 0;position: absolute;width: 1px;}#sk-container-id-2 div.sk-estimator {font-family: monospace;background-color: #f0f8ff;border: 1px dotted black;border-radius: 0.25em;box-sizing: border-box;margin-bottom: 0.5em;}#sk-container-id-2 div.sk-estimator:hover {background-color: #d4ebff;}#sk-container-id-2 div.sk-parallel-item::after {content: \"\";width: 100%;border-bottom: 1px solid gray;flex-grow: 1;}#sk-container-id-2 div.sk-label:hover label.sk-toggleable__label {background-color: #d4ebff;}#sk-container-id-2 div.sk-serial::before {content: \"\";position: absolute;border-left: 1px solid gray;box-sizing: border-box;top: 0;bottom: 0;left: 50%;z-index: 0;}#sk-container-id-2 div.sk-serial {display: flex;flex-direction: column;align-items: center;background-color: white;padding-right: 0.2em;padding-left: 0.2em;position: relative;}#sk-container-id-2 div.sk-item {position: relative;z-index: 1;}#sk-container-id-2 div.sk-parallel {display: flex;align-items: stretch;justify-content: center;background-color: white;position: relative;}#sk-container-id-2 div.sk-item::before, #sk-container-id-2 div.sk-parallel-item::before {content: \"\";position: absolute;border-left: 1px solid gray;box-sizing: border-box;top: 0;bottom: 0;left: 50%;z-index: -1;}#sk-container-id-2 div.sk-parallel-item {display: flex;flex-direction: column;z-index: 1;position: relative;background-color: white;}#sk-container-id-2 div.sk-parallel-item:first-child::after {align-self: flex-end;width: 50%;}#sk-container-id-2 div.sk-parallel-item:last-child::after {align-self: flex-start;width: 50%;}#sk-container-id-2 div.sk-parallel-item:only-child::after {width: 0;}#sk-container-id-2 div.sk-dashed-wrapped {border: 1px dashed gray;margin: 0 0.4em 0.5em 0.4em;box-sizing: border-box;padding-bottom: 0.4em;background-color: white;}#sk-container-id-2 div.sk-label label {font-family: monospace;font-weight: bold;display: inline-block;line-height: 1.2em;}#sk-container-id-2 div.sk-label-container {text-align: center;}#sk-container-id-2 div.sk-container {/* jupyter's `normalize.less` sets `[hidden] { display: none; }` but bootstrap.min.css set `[hidden] { display: none !important; }` so we also need the `!important` here to be able to override the default hidden behavior on the sphinx rendered scikit-learn.org. See: https://github.com/scikit-learn/scikit-learn/issues/21755 */display: inline-block !important;position: relative;}#sk-container-id-2 div.sk-text-repr-fallback {display: none;}</style><div id=\"sk-container-id-2\" class=\"sk-top-container\"><div class=\"sk-text-repr-fallback\"><pre>Pipeline(steps=[(&#x27;vectorizer&#x27;, TfidfVectorizer()), (&#x27;clf&#x27;, MultinomialNB())])</pre><b>In a Jupyter environment, please rerun this cell to show the HTML representation or trust the notebook. <br />On GitHub, the HTML representation is unable to render, please try loading this page with nbviewer.org.</b></div><div class=\"sk-container\" hidden><div class=\"sk-item sk-dashed-wrapped\"><div class=\"sk-label-container\"><div class=\"sk-label sk-toggleable\"><input class=\"sk-toggleable__control sk-hidden--visually\" id=\"sk-estimator-id-4\" type=\"checkbox\" ><label for=\"sk-estimator-id-4\" class=\"sk-toggleable__label sk-toggleable__label-arrow\">Pipeline</label><div class=\"sk-toggleable__content\"><pre>Pipeline(steps=[(&#x27;vectorizer&#x27;, TfidfVectorizer()), (&#x27;clf&#x27;, MultinomialNB())])</pre></div></div></div><div class=\"sk-serial\"><div class=\"sk-item\"><div class=\"sk-estimator sk-toggleable\"><input class=\"sk-toggleable__control sk-hidden--visually\" id=\"sk-estimator-id-5\" type=\"checkbox\" ><label for=\"sk-estimator-id-5\" class=\"sk-toggleable__label sk-toggleable__label-arrow\">TfidfVectorizer</label><div class=\"sk-toggleable__content\"><pre>TfidfVectorizer()</pre></div></div></div><div class=\"sk-item\"><div class=\"sk-estimator sk-toggleable\"><input class=\"sk-toggleable__control sk-hidden--visually\" id=\"sk-estimator-id-6\" type=\"checkbox\" ><label for=\"sk-estimator-id-6\" class=\"sk-toggleable__label sk-toggleable__label-arrow\">MultinomialNB</label><div class=\"sk-toggleable__content\"><pre>MultinomialNB()</pre></div></div></div></div></div></div></div>"
      ],
      "text/plain": [
       "Pipeline(steps=[('vectorizer', TfidfVectorizer()), ('clf', MultinomialNB())])"
      ]
     },
     "execution_count": 28,
     "metadata": {},
     "output_type": "execute_result"
    }
   ],
   "source": [
    "model_0.fit(X_train, y_train)"
   ]
  },
  {
   "cell_type": "code",
   "execution_count": 29,
   "id": "f0908972",
   "metadata": {
    "execution": {
     "iopub.execute_input": "2023-07-07T08:55:46.106022Z",
     "iopub.status.busy": "2023-07-07T08:55:46.105696Z",
     "iopub.status.idle": "2023-07-07T08:55:47.070579Z",
     "shell.execute_reply": "2023-07-07T08:55:47.069634Z"
    },
    "papermill": {
     "duration": 0.990418,
     "end_time": "2023-07-07T08:55:47.072845",
     "exception": false,
     "start_time": "2023-07-07T08:55:46.082427",
     "status": "completed"
    },
    "tags": []
   },
   "outputs": [
    {
     "data": {
      "text/plain": [
       "((30212,),\n",
       " array(['BACKGROUND', 'CONCLUSIONS', 'OBJECTIVE', 'METHODS', 'METHODS'],\n",
       "       dtype='<U11'))"
      ]
     },
     "execution_count": 29,
     "metadata": {},
     "output_type": "execute_result"
    }
   ],
   "source": [
    "model_0_predictions = model_0.predict(X_val)\n",
    "\n",
    "model_0_predictions.shape, model_0_predictions[:5]"
   ]
  },
  {
   "cell_type": "code",
   "execution_count": 30,
   "id": "259707f7",
   "metadata": {
    "execution": {
     "iopub.execute_input": "2023-07-07T08:55:47.122484Z",
     "iopub.status.busy": "2023-07-07T08:55:47.121581Z",
     "iopub.status.idle": "2023-07-07T08:55:47.502729Z",
     "shell.execute_reply": "2023-07-07T08:55:47.501558Z"
    },
    "papermill": {
     "duration": 0.407452,
     "end_time": "2023-07-07T08:55:47.505214",
     "exception": false,
     "start_time": "2023-07-07T08:55:47.097762",
     "status": "completed"
    },
    "tags": []
   },
   "outputs": [
    {
     "data": {
      "text/plain": [
       "{'precision': 0.7315166696974572,\n",
       " 'recall': 0.7317291142592347,\n",
       " 'f1': 0.7058060715307974}"
      ]
     },
     "execution_count": 30,
     "metadata": {},
     "output_type": "execute_result"
    }
   ],
   "source": [
    "from sklearn.metrics import precision_recall_fscore_support\n",
    "\n",
    "def score_predictions(y_true, y_predictions):\n",
    "    precision, recall, f1, _ = precision_recall_fscore_support(y_true, y_predictions, labels=CLASSES, average='weighted')\n",
    "    return {\n",
    "        'precision': precision,\n",
    "        'recall': recall,\n",
    "        'f1': f1\n",
    "    }\n",
    "\n",
    "score_predictions(y_val, model_0_predictions)"
   ]
  },
  {
   "cell_type": "code",
   "execution_count": 31,
   "id": "98429f8b",
   "metadata": {
    "execution": {
     "iopub.execute_input": "2023-07-07T08:55:47.559385Z",
     "iopub.status.busy": "2023-07-07T08:55:47.559076Z",
     "iopub.status.idle": "2023-07-07T08:55:47.575909Z",
     "shell.execute_reply": "2023-07-07T08:55:47.574677Z"
    },
    "papermill": {
     "duration": 0.044714,
     "end_time": "2023-07-07T08:55:47.578340",
     "exception": false,
     "start_time": "2023-07-07T08:55:47.533626",
     "status": "completed"
    },
    "tags": []
   },
   "outputs": [
    {
     "data": {
      "text/html": [
       "<div>\n",
       "<style scoped>\n",
       "    .dataframe tbody tr th:only-of-type {\n",
       "        vertical-align: middle;\n",
       "    }\n",
       "\n",
       "    .dataframe tbody tr th {\n",
       "        vertical-align: top;\n",
       "    }\n",
       "\n",
       "    .dataframe thead th {\n",
       "        text-align: right;\n",
       "    }\n",
       "</style>\n",
       "<table border=\"1\" class=\"dataframe\">\n",
       "  <thead>\n",
       "    <tr style=\"text-align: right;\">\n",
       "      <th></th>\n",
       "      <th>Sentence</th>\n",
       "      <th>True Label</th>\n",
       "      <th>Prediction</th>\n",
       "      <th>Correct?</th>\n",
       "    </tr>\n",
       "  </thead>\n",
       "  <tbody>\n",
       "    <tr>\n",
       "      <th>0</th>\n",
       "      <td>IgE sensitization to Aspergillus fumigatus and...</td>\n",
       "      <td>BACKGROUND</td>\n",
       "      <td>BACKGROUND</td>\n",
       "      <td>True</td>\n",
       "    </tr>\n",
       "    <tr>\n",
       "      <th>1</th>\n",
       "      <td>It is not clear whether these patients would b...</td>\n",
       "      <td>BACKGROUND</td>\n",
       "      <td>CONCLUSIONS</td>\n",
       "      <td>False</td>\n",
       "    </tr>\n",
       "    <tr>\n",
       "      <th>2</th>\n",
       "      <td>We sought to determine whether a 3-month cours...</td>\n",
       "      <td>OBJECTIVE</td>\n",
       "      <td>OBJECTIVE</td>\n",
       "      <td>True</td>\n",
       "    </tr>\n",
       "    <tr>\n",
       "      <th>3</th>\n",
       "      <td>Asthmatic patients who were IgE sensitized to ...</td>\n",
       "      <td>METHODS</td>\n",
       "      <td>METHODS</td>\n",
       "      <td>True</td>\n",
       "    </tr>\n",
       "    <tr>\n",
       "      <th>4</th>\n",
       "      <td>Primary outcomes were improvement in quality o...</td>\n",
       "      <td>METHODS</td>\n",
       "      <td>METHODS</td>\n",
       "      <td>True</td>\n",
       "    </tr>\n",
       "    <tr>\n",
       "      <th>5</th>\n",
       "      <td>Sixty-five patients were randomized .</td>\n",
       "      <td>RESULTS</td>\n",
       "      <td>METHODS</td>\n",
       "      <td>False</td>\n",
       "    </tr>\n",
       "    <tr>\n",
       "      <th>6</th>\n",
       "      <td>Fifty-nine patients started treatment ( 32 rec...</td>\n",
       "      <td>RESULTS</td>\n",
       "      <td>RESULTS</td>\n",
       "      <td>True</td>\n",
       "    </tr>\n",
       "    <tr>\n",
       "      <th>7</th>\n",
       "      <td>Fifty-six patients took the full 3 months of m...</td>\n",
       "      <td>RESULTS</td>\n",
       "      <td>METHODS</td>\n",
       "      <td>False</td>\n",
       "    </tr>\n",
       "    <tr>\n",
       "      <th>8</th>\n",
       "      <td>Between the voriconazole and placebo groups , ...</td>\n",
       "      <td>RESULTS</td>\n",
       "      <td>RESULTS</td>\n",
       "      <td>True</td>\n",
       "    </tr>\n",
       "    <tr>\n",
       "      <th>9</th>\n",
       "      <td>We were unable to show a beneficial effect of ...</td>\n",
       "      <td>CONCLUSIONS</td>\n",
       "      <td>RESULTS</td>\n",
       "      <td>False</td>\n",
       "    </tr>\n",
       "  </tbody>\n",
       "</table>\n",
       "</div>"
      ],
      "text/plain": [
       "                                            Sentence   True Label  \\\n",
       "0  IgE sensitization to Aspergillus fumigatus and...   BACKGROUND   \n",
       "1  It is not clear whether these patients would b...   BACKGROUND   \n",
       "2  We sought to determine whether a 3-month cours...    OBJECTIVE   \n",
       "3  Asthmatic patients who were IgE sensitized to ...      METHODS   \n",
       "4  Primary outcomes were improvement in quality o...      METHODS   \n",
       "5              Sixty-five patients were randomized .      RESULTS   \n",
       "6  Fifty-nine patients started treatment ( 32 rec...      RESULTS   \n",
       "7  Fifty-six patients took the full 3 months of m...      RESULTS   \n",
       "8  Between the voriconazole and placebo groups , ...      RESULTS   \n",
       "9  We were unable to show a beneficial effect of ...  CONCLUSIONS   \n",
       "\n",
       "    Prediction  Correct?  \n",
       "0   BACKGROUND      True  \n",
       "1  CONCLUSIONS     False  \n",
       "2    OBJECTIVE      True  \n",
       "3      METHODS      True  \n",
       "4      METHODS      True  \n",
       "5      METHODS     False  \n",
       "6      RESULTS      True  \n",
       "7      METHODS     False  \n",
       "8      RESULTS      True  \n",
       "9      RESULTS     False  "
      ]
     },
     "execution_count": 31,
     "metadata": {},
     "output_type": "execute_result"
    }
   ],
   "source": [
    "def show_sample_predictions(model_predictions, n=10):\n",
    "    return pd.DataFrame(zip(X_val[:n], y_val[:n], model_predictions[:n], (y_val[:n] == model_predictions[:n])), \n",
    "                        columns=['Sentence', 'True Label', 'Prediction', 'Correct?'])\n",
    "\n",
    "show_sample_predictions(model_0_predictions)"
   ]
  },
  {
   "cell_type": "markdown",
   "id": "275ff509",
   "metadata": {
    "papermill": {
     "duration": 0.024955,
     "end_time": "2023-07-07T08:55:47.629670",
     "exception": false,
     "start_time": "2023-07-07T08:55:47.604715",
     "status": "completed"
    },
    "tags": []
   },
   "source": [
    "## 3/b] **Model 1 (RNN model 1):** LSTM model"
   ]
  },
  {
   "cell_type": "markdown",
   "id": "c2693d92",
   "metadata": {
    "papermill": {
     "duration": 0.024732,
     "end_time": "2023-07-07T08:55:47.679368",
     "exception": false,
     "start_time": "2023-07-07T08:55:47.654636",
     "status": "completed"
    },
    "tags": []
   },
   "source": [
    "### Find the appropriate sentence length"
   ]
  },
  {
   "cell_type": "code",
   "execution_count": 32,
   "id": "a9911888",
   "metadata": {
    "execution": {
     "iopub.execute_input": "2023-07-07T08:55:47.731061Z",
     "iopub.status.busy": "2023-07-07T08:55:47.730122Z",
     "iopub.status.idle": "2023-07-07T08:55:48.181097Z",
     "shell.execute_reply": "2023-07-07T08:55:48.180130Z"
    },
    "papermill": {
     "duration": 0.479325,
     "end_time": "2023-07-07T08:55:48.183546",
     "exception": false,
     "start_time": "2023-07-07T08:55:47.704221",
     "status": "completed"
    },
    "tags": []
   },
   "outputs": [],
   "source": [
    "sentence_lengths = pd.DataFrame([len(sentence.split()) for sentence in X_train], columns=['sentence length'])"
   ]
  },
  {
   "cell_type": "code",
   "execution_count": 33,
   "id": "3f09631f",
   "metadata": {
    "execution": {
     "iopub.execute_input": "2023-07-07T08:55:48.232404Z",
     "iopub.status.busy": "2023-07-07T08:55:48.232103Z",
     "iopub.status.idle": "2023-07-07T08:55:48.658995Z",
     "shell.execute_reply": "2023-07-07T08:55:48.658101Z"
    },
    "papermill": {
     "duration": 0.45255,
     "end_time": "2023-07-07T08:55:48.661081",
     "exception": false,
     "start_time": "2023-07-07T08:55:48.208531",
     "status": "completed"
    },
    "tags": []
   },
   "outputs": [
    {
     "data": {
      "text/html": [
       "<div>\n",
       "<style scoped>\n",
       "    .dataframe tbody tr th:only-of-type {\n",
       "        vertical-align: middle;\n",
       "    }\n",
       "\n",
       "    .dataframe tbody tr th {\n",
       "        vertical-align: top;\n",
       "    }\n",
       "\n",
       "    .dataframe thead th {\n",
       "        text-align: right;\n",
       "    }\n",
       "</style>\n",
       "<table border=\"1\" class=\"dataframe\">\n",
       "  <thead>\n",
       "    <tr style=\"text-align: right;\">\n",
       "      <th></th>\n",
       "      <th>sentence length</th>\n",
       "    </tr>\n",
       "  </thead>\n",
       "  <tbody>\n",
       "    <tr>\n",
       "      <th>count</th>\n",
       "      <td>180040.000000</td>\n",
       "    </tr>\n",
       "    <tr>\n",
       "      <th>mean</th>\n",
       "      <td>26.338436</td>\n",
       "    </tr>\n",
       "    <tr>\n",
       "      <th>std</th>\n",
       "      <td>15.386976</td>\n",
       "    </tr>\n",
       "    <tr>\n",
       "      <th>min</th>\n",
       "      <td>1.000000</td>\n",
       "    </tr>\n",
       "    <tr>\n",
       "      <th>25%</th>\n",
       "      <td>16.000000</td>\n",
       "    </tr>\n",
       "    <tr>\n",
       "      <th>50%</th>\n",
       "      <td>23.000000</td>\n",
       "    </tr>\n",
       "    <tr>\n",
       "      <th>75%</th>\n",
       "      <td>33.000000</td>\n",
       "    </tr>\n",
       "    <tr>\n",
       "      <th>max</th>\n",
       "      <td>296.000000</td>\n",
       "    </tr>\n",
       "  </tbody>\n",
       "</table>\n",
       "</div>"
      ],
      "text/plain": [
       "       sentence length\n",
       "count    180040.000000\n",
       "mean         26.338436\n",
       "std          15.386976\n",
       "min           1.000000\n",
       "25%          16.000000\n",
       "50%          23.000000\n",
       "75%          33.000000\n",
       "max         296.000000"
      ]
     },
     "execution_count": 33,
     "metadata": {},
     "output_type": "execute_result"
    },
    {
     "data": {
      "image/png": "[encoded data removed]",
      "text/plain": [
       "<Figure size 640x480 with 1 Axes>"
      ]
     },
     "metadata": {},
     "output_type": "display_data"
    }
   ],
   "source": [
    "sentence_lengths.hist(bins=50)\n",
    "sentence_lengths.describe()"
   ]
  },
  {
   "cell_type": "code",
   "execution_count": 34,
   "id": "60154155",
   "metadata": {
    "execution": {
     "iopub.execute_input": "2023-07-07T08:55:48.709566Z",
     "iopub.status.busy": "2023-07-07T08:55:48.708799Z",
     "iopub.status.idle": "2023-07-07T08:55:48.717732Z",
     "shell.execute_reply": "2023-07-07T08:55:48.716634Z"
    },
    "papermill": {
     "duration": 0.035088,
     "end_time": "2023-07-07T08:55:48.719842",
     "exception": false,
     "start_time": "2023-07-07T08:55:48.684754",
     "status": "completed"
    },
    "tags": []
   },
   "outputs": [
    {
     "data": {
      "text/plain": [
       "45"
      ]
     },
     "execution_count": 34,
     "metadata": {},
     "output_type": "execute_result"
    }
   ],
   "source": [
    "SENTENCE_LENGTH = int(np.percentile(sentence_lengths, 90))\n",
    "SENTENCE_LENGTH"
   ]
  },
  {
   "cell_type": "markdown",
   "id": "c646e96d",
   "metadata": {
    "papermill": {
     "duration": 0.023689,
     "end_time": "2023-07-07T08:55:48.766928",
     "exception": false,
     "start_time": "2023-07-07T08:55:48.743239",
     "status": "completed"
    },
    "tags": []
   },
   "source": [
    "### Explore TF vectorizer"
   ]
  },
  {
   "cell_type": "code",
   "execution_count": 35,
   "id": "e5647f78",
   "metadata": {
    "execution": {
     "iopub.execute_input": "2023-07-07T08:55:48.816031Z",
     "iopub.status.busy": "2023-07-07T08:55:48.815039Z",
     "iopub.status.idle": "2023-07-07T08:56:07.142380Z",
     "shell.execute_reply": "2023-07-07T08:56:07.141167Z"
    },
    "papermill": {
     "duration": 18.354823,
     "end_time": "2023-07-07T08:56:07.144963",
     "exception": false,
     "start_time": "2023-07-07T08:55:48.790140",
     "status": "completed"
    },
    "tags": []
   },
   "outputs": [],
   "source": [
    "from tensorflow.keras.layers import TextVectorization\n",
    "\n",
    "VOCABULARY_LENGTH = 5000\n",
    "vectorizer = TextVectorization(\n",
    "    max_tokens = VOCABULARY_LENGTH,\n",
    "    output_mode=\"int\",\n",
    "    output_sequence_length=SENTENCE_LENGTH\n",
    ")\n",
    "vectorizer.adapt(X_train)"
   ]
  },
  {
   "cell_type": "code",
   "execution_count": 36,
   "id": "13adacdb",
   "metadata": {
    "execution": {
     "iopub.execute_input": "2023-07-07T08:56:07.194566Z",
     "iopub.status.busy": "2023-07-07T08:56:07.194251Z",
     "iopub.status.idle": "2023-07-07T08:56:07.218066Z",
     "shell.execute_reply": "2023-07-07T08:56:07.216815Z"
    },
    "papermill": {
     "duration": 0.050565,
     "end_time": "2023-07-07T08:56:07.220547",
     "exception": false,
     "start_time": "2023-07-07T08:56:07.169982",
     "status": "completed"
    },
    "tags": []
   },
   "outputs": [
    {
     "data": {
      "text/plain": [
       "(5000,\n",
       "        0           1\n",
       " 0         amiodarone\n",
       " 1  [UNK]      always\n",
       " 2    the   alleviate\n",
       " 3    and         aki\n",
       " 4     of          ab\n",
       " 5     in         313\n",
       " 6     to         247\n",
       " 7   with        0029\n",
       " 8      a  vulnerable\n",
       " 9   were   synthetic)"
      ]
     },
     "execution_count": 36,
     "metadata": {},
     "output_type": "execute_result"
    }
   ],
   "source": [
    "vocabulary = vectorizer.get_vocabulary()\n",
    "\n",
    "len(vocabulary), pd.DataFrame(zip(vocabulary[:10], vocabulary[-10:]))"
   ]
  },
  {
   "cell_type": "code",
   "execution_count": 37,
   "id": "f396228c",
   "metadata": {
    "execution": {
     "iopub.execute_input": "2023-07-07T08:56:07.269139Z",
     "iopub.status.busy": "2023-07-07T08:56:07.268824Z",
     "iopub.status.idle": "2023-07-07T08:56:07.403733Z",
     "shell.execute_reply": "2023-07-07T08:56:07.402637Z"
    },
    "papermill": {
     "duration": 0.161768,
     "end_time": "2023-07-07T08:56:07.406127",
     "exception": false,
     "start_time": "2023-07-07T08:56:07.244359",
     "status": "completed"
    },
    "tags": []
   },
   "outputs": [
    {
     "data": {
      "text/html": [
       "<div>\n",
       "<style scoped>\n",
       "    .dataframe tbody tr th:only-of-type {\n",
       "        vertical-align: middle;\n",
       "    }\n",
       "\n",
       "    .dataframe tbody tr th {\n",
       "        vertical-align: top;\n",
       "    }\n",
       "\n",
       "    .dataframe thead th {\n",
       "        text-align: right;\n",
       "    }\n",
       "</style>\n",
       "<table border=\"1\" class=\"dataframe\">\n",
       "  <thead>\n",
       "    <tr style=\"text-align: right;\">\n",
       "      <th></th>\n",
       "      <th>Sentence</th>\n",
       "      <th>Vectorized sentence</th>\n",
       "    </tr>\n",
       "  </thead>\n",
       "  <tbody>\n",
       "    <tr>\n",
       "      <th>0</th>\n",
       "      <td>To investigate the efficacy of 6 weeks of dail...</td>\n",
       "      <td>[6, 356, 2, 82, 4, 72, 65, 4, 172, 1231, 226, ...</td>\n",
       "    </tr>\n",
       "    <tr>\n",
       "      <th>1</th>\n",
       "      <td>A total of 125 patients with primary knee OA w...</td>\n",
       "      <td>[8, 79, 4, 1029, 12, 7, 57, 557, 1895, 9, 29, ...</td>\n",
       "    </tr>\n",
       "    <tr>\n",
       "      <th>2</th>\n",
       "      <td>Outcome measures included pain reduction and i...</td>\n",
       "      <td>[88, 220, 128, 66, 181, 3, 204, 5, 160, 126, 3...</td>\n",
       "    </tr>\n",
       "    <tr>\n",
       "      <th>3</th>\n",
       "      <td>Pain was assessed using the visual analog pain...</td>\n",
       "      <td>[66, 10, 118, 60, 2, 310, 1065, 66, 170, 1, 28...</td>\n",
       "    </tr>\n",
       "    <tr>\n",
       "      <th>4</th>\n",
       "      <td>Secondary outcome measures included the Wester...</td>\n",
       "      <td>[162, 88, 220, 128, 2, 1488, 1, 3, 1, 1, 1564,...</td>\n",
       "    </tr>\n",
       "  </tbody>\n",
       "</table>\n",
       "</div>"
      ],
      "text/plain": [
       "                                            Sentence  \\\n",
       "0  To investigate the efficacy of 6 weeks of dail...   \n",
       "1  A total of 125 patients with primary knee OA w...   \n",
       "2  Outcome measures included pain reduction and i...   \n",
       "3  Pain was assessed using the visual analog pain...   \n",
       "4  Secondary outcome measures included the Wester...   \n",
       "\n",
       "                                 Vectorized sentence  \n",
       "0  [6, 356, 2, 82, 4, 72, 65, 4, 172, 1231, 226, ...  \n",
       "1  [8, 79, 4, 1029, 12, 7, 57, 557, 1895, 9, 29, ...  \n",
       "2  [88, 220, 128, 66, 181, 3, 204, 5, 160, 126, 3...  \n",
       "3  [66, 10, 118, 60, 2, 310, 1065, 66, 170, 1, 28...  \n",
       "4  [162, 88, 220, 128, 2, 1488, 1, 3, 1, 1, 1564,...  "
      ]
     },
     "execution_count": 37,
     "metadata": {},
     "output_type": "execute_result"
    }
   ],
   "source": [
    "sample_sentences = X_train[:5]\n",
    "sample_vectorized_sentences = vectorizer(sample_sentences)\n",
    "\n",
    "pd.DataFrame(zip(sample_sentences, sample_vectorized_sentences.numpy()),\n",
    "            columns=['Sentence', 'Vectorized sentence'])"
   ]
  },
  {
   "cell_type": "markdown",
   "id": "b48b6241",
   "metadata": {
    "papermill": {
     "duration": 0.024132,
     "end_time": "2023-07-07T08:56:07.456558",
     "exception": false,
     "start_time": "2023-07-07T08:56:07.432426",
     "status": "completed"
    },
    "tags": []
   },
   "source": [
    "### Explore TF Embedding"
   ]
  },
  {
   "cell_type": "code",
   "execution_count": 38,
   "id": "9794c929",
   "metadata": {
    "execution": {
     "iopub.execute_input": "2023-07-07T08:56:07.505569Z",
     "iopub.status.busy": "2023-07-07T08:56:07.505278Z",
     "iopub.status.idle": "2023-07-07T08:56:07.512548Z",
     "shell.execute_reply": "2023-07-07T08:56:07.511687Z"
    },
    "papermill": {
     "duration": 0.03433,
     "end_time": "2023-07-07T08:56:07.514720",
     "exception": false,
     "start_time": "2023-07-07T08:56:07.480390",
     "status": "completed"
    },
    "tags": []
   },
   "outputs": [],
   "source": [
    "from tensorflow.keras.layers import Embedding\n",
    "\n",
    "EMBEDDING_DIMENSION = 512\n",
    "\n",
    "def make_embedding():\n",
    "    return Embedding(\n",
    "        input_dim=VOCABULARY_LENGTH,\n",
    "        output_dim=EMBEDDING_DIMENSION,\n",
    "        input_length=SENTENCE_LENGTH\n",
    "    )\n",
    "\n",
    "embedding = make_embedding()"
   ]
  },
  {
   "cell_type": "code",
   "execution_count": 39,
   "id": "3dc48c92",
   "metadata": {
    "execution": {
     "iopub.execute_input": "2023-07-07T08:56:07.563055Z",
     "iopub.status.busy": "2023-07-07T08:56:07.562788Z",
     "iopub.status.idle": "2023-07-07T08:56:07.622255Z",
     "shell.execute_reply": "2023-07-07T08:56:07.621137Z"
    },
    "papermill": {
     "duration": 0.086741,
     "end_time": "2023-07-07T08:56:07.625037",
     "exception": false,
     "start_time": "2023-07-07T08:56:07.538296",
     "status": "completed"
    },
    "tags": []
   },
   "outputs": [
    {
     "data": {
      "text/plain": [
       "<tf.Tensor: shape=(5, 45, 512), dtype=float32, numpy=\n",
       "array([[[-0.00872795, -0.00047916, -0.03621984, ...,  0.03007198,\n",
       "         -0.03940027, -0.04326714],\n",
       "        [ 0.04756692,  0.0290862 , -0.03918672, ...,  0.01188614,\n",
       "         -0.04626371, -0.0121372 ],\n",
       "        [-0.01289467,  0.03753278, -0.00539821, ...,  0.02464176,\n",
       "         -0.01119621,  0.01759655],\n",
       "        ...,\n",
       "        [-0.00158641, -0.00525819, -0.04728538, ...,  0.02966139,\n",
       "         -0.01716183,  0.03514746],\n",
       "        [ 0.00913434, -0.00163442,  0.01295699, ..., -0.02713188,\n",
       "         -0.04655104,  0.01034285],\n",
       "        [ 0.03581891,  0.01626286, -0.01412892, ...,  0.0452905 ,\n",
       "         -0.02311034,  0.02508745]],\n",
       "\n",
       "       [[-0.04173072, -0.02671394, -0.00819439, ..., -0.03924815,\n",
       "          0.03026411, -0.01449645],\n",
       "        [ 0.02525577,  0.02984539, -0.00592512, ..., -0.03958876,\n",
       "          0.00627631,  0.01648164],\n",
       "        [-0.03275682,  0.00603578, -0.0449412 , ...,  0.03293948,\n",
       "          0.03431762, -0.02514657],\n",
       "        ...,\n",
       "        [ 0.03581891,  0.01626286, -0.01412892, ...,  0.0452905 ,\n",
       "         -0.02311034,  0.02508745],\n",
       "        [ 0.03581891,  0.01626286, -0.01412892, ...,  0.0452905 ,\n",
       "         -0.02311034,  0.02508745],\n",
       "        [ 0.03581891,  0.01626286, -0.01412892, ...,  0.0452905 ,\n",
       "         -0.02311034,  0.02508745]],\n",
       "\n",
       "       [[-0.00403283,  0.03662724,  0.00680878, ...,  0.04918501,\n",
       "         -0.0439512 , -0.01274885],\n",
       "        [ 0.02505181, -0.04449875, -0.02078739, ...,  0.03826511,\n",
       "          0.02763439, -0.00655673],\n",
       "        [ 0.0267853 , -0.00423729,  0.02750838, ...,  0.03764858,\n",
       "          0.01883388,  0.00729959],\n",
       "        ...,\n",
       "        [ 0.03581891,  0.01626286, -0.01412892, ...,  0.0452905 ,\n",
       "         -0.02311034,  0.02508745],\n",
       "        [ 0.03581891,  0.01626286, -0.01412892, ...,  0.0452905 ,\n",
       "         -0.02311034,  0.02508745],\n",
       "        [ 0.03581891,  0.01626286, -0.01412892, ...,  0.0452905 ,\n",
       "         -0.02311034,  0.02508745]],\n",
       "\n",
       "       [[-0.01535591,  0.01433163, -0.02503929, ...,  0.00627261,\n",
       "         -0.03482354, -0.03762902],\n",
       "        [-0.01452326,  0.00591768, -0.03356653, ..., -0.03776317,\n",
       "         -0.01912084,  0.00298883],\n",
       "        [-0.00222422, -0.02222561,  0.03733286, ..., -0.01092639,\n",
       "          0.03934323, -0.01174093],\n",
       "        ...,\n",
       "        [ 0.03581891,  0.01626286, -0.01412892, ...,  0.0452905 ,\n",
       "         -0.02311034,  0.02508745],\n",
       "        [ 0.03581891,  0.01626286, -0.01412892, ...,  0.0452905 ,\n",
       "         -0.02311034,  0.02508745],\n",
       "        [ 0.03581891,  0.01626286, -0.01412892, ...,  0.0452905 ,\n",
       "         -0.02311034,  0.02508745]],\n",
       "\n",
       "       [[ 0.01044143,  0.01619948,  0.03847546, ..., -0.04052573,\n",
       "         -0.03202992, -0.04919037],\n",
       "        [-0.00403283,  0.03662724,  0.00680878, ...,  0.04918501,\n",
       "         -0.0439512 , -0.01274885],\n",
       "        [ 0.02505181, -0.04449875, -0.02078739, ...,  0.03826511,\n",
       "          0.02763439, -0.00655673],\n",
       "        ...,\n",
       "        [ 0.03581891,  0.01626286, -0.01412892, ...,  0.0452905 ,\n",
       "         -0.02311034,  0.02508745],\n",
       "        [ 0.03581891,  0.01626286, -0.01412892, ...,  0.0452905 ,\n",
       "         -0.02311034,  0.02508745],\n",
       "        [ 0.03581891,  0.01626286, -0.01412892, ...,  0.0452905 ,\n",
       "         -0.02311034,  0.02508745]]], dtype=float32)>"
      ]
     },
     "execution_count": 39,
     "metadata": {},
     "output_type": "execute_result"
    }
   ],
   "source": [
    "sample_embedding = embedding(vectorizer(X_train[:5]))\n",
    "sample_embedding"
   ]
  },
  {
   "cell_type": "markdown",
   "id": "0ff47a05",
   "metadata": {
    "papermill": {
     "duration": 0.023908,
     "end_time": "2023-07-07T08:56:07.675220",
     "exception": false,
     "start_time": "2023-07-07T08:56:07.651312",
     "status": "completed"
    },
    "tags": []
   },
   "source": [
    "### The Model"
   ]
  },
  {
   "cell_type": "code",
   "execution_count": 40,
   "id": "e0e671af",
   "metadata": {
    "execution": {
     "iopub.execute_input": "2023-07-07T08:56:07.729294Z",
     "iopub.status.busy": "2023-07-07T08:56:07.728948Z",
     "iopub.status.idle": "2023-07-07T08:56:08.119301Z",
     "shell.execute_reply": "2023-07-07T08:56:08.118455Z"
    },
    "papermill": {
     "duration": 0.424656,
     "end_time": "2023-07-07T08:56:08.126165",
     "exception": false,
     "start_time": "2023-07-07T08:56:07.701509",
     "status": "completed"
    },
    "tags": []
   },
   "outputs": [
    {
     "name": "stdout",
     "output_type": "stream",
     "text": [
      "Model: \"sequential\"\n",
      "_________________________________________________________________\n",
      " Layer (type)                Output Shape              Param #   \n",
      "=================================================================\n",
      " text_vectorization (TextVec  (None, 45)               0         \n",
      " torization)                                                     \n",
      "                                                                 \n",
      " embedding_1 (Embedding)     (None, 45, 512)           2560000   \n",
      "                                                                 \n",
      " lstm (LSTM)                 (None, 64)                147712    \n",
      "                                                                 \n",
      " dense (Dense)               (None, 5)                 325       \n",
      "                                                                 \n",
      "=================================================================\n",
      "Total params: 2,708,037\n",
      "Trainable params: 2,708,037\n",
      "Non-trainable params: 0\n",
      "_________________________________________________________________\n"
     ]
    }
   ],
   "source": [
    "from tensorflow.keras.layers import Input, Dense, LSTM\n",
    "from tensorflow.keras import Sequential\n",
    "\n",
    "def build_model_1():\n",
    "    return Sequential([\n",
    "        Input(shape=(1,), dtype=tf.string),\n",
    "        vectorizer, \n",
    "        make_embedding(),\n",
    "        LSTM(64),\n",
    "        Dense(len(CLASSES), activation='softmax')        \n",
    "    ])\n",
    "    \n",
    "model_1 = build_model_1()\n",
    "model_1.summary()"
   ]
  },
  {
   "cell_type": "markdown",
   "id": "06802214",
   "metadata": {
    "papermill": {
     "duration": 0.025745,
     "end_time": "2023-07-07T08:56:08.178567",
     "exception": false,
     "start_time": "2023-07-07T08:56:08.152822",
     "status": "completed"
    },
    "tags": []
   },
   "source": [
    "### Label classes to numeric values"
   ]
  },
  {
   "cell_type": "code",
   "execution_count": 41,
   "id": "ec5c621e",
   "metadata": {
    "execution": {
     "iopub.execute_input": "2023-07-07T08:56:08.231138Z",
     "iopub.status.busy": "2023-07-07T08:56:08.230814Z",
     "iopub.status.idle": "2023-07-07T08:56:08.238413Z",
     "shell.execute_reply": "2023-07-07T08:56:08.237274Z"
    },
    "papermill": {
     "duration": 0.036369,
     "end_time": "2023-07-07T08:56:08.240560",
     "exception": false,
     "start_time": "2023-07-07T08:56:08.204191",
     "status": "completed"
    },
    "tags": []
   },
   "outputs": [
    {
     "data": {
      "text/plain": [
       "array([0, 3, 2, 4, 1])"
      ]
     },
     "execution_count": 41,
     "metadata": {},
     "output_type": "execute_result"
    }
   ],
   "source": [
    "from sklearn.preprocessing import LabelEncoder\n",
    "\n",
    "y_encoder = LabelEncoder()\n",
    "y_encoder.fit(CLASSES)\n",
    "y_encoder.transform(CLASSES)"
   ]
  },
  {
   "cell_type": "code",
   "execution_count": 42,
   "id": "e5c3e94b",
   "metadata": {
    "execution": {
     "iopub.execute_input": "2023-07-07T08:56:08.297229Z",
     "iopub.status.busy": "2023-07-07T08:56:08.296919Z",
     "iopub.status.idle": "2023-07-07T08:56:08.495809Z",
     "shell.execute_reply": "2023-07-07T08:56:08.494701Z"
    },
    "papermill": {
     "duration": 0.229102,
     "end_time": "2023-07-07T08:56:08.498533",
     "exception": false,
     "start_time": "2023-07-07T08:56:08.269431",
     "status": "completed"
    },
    "tags": []
   },
   "outputs": [
    {
     "data": {
      "text/plain": [
       "(array([3, 2, 2, 2, 2, 2, 4, 4, 4, 4]), array([0, 0, 3, 2, 2, 4, 4, 4, 4, 1]))"
      ]
     },
     "execution_count": 42,
     "metadata": {},
     "output_type": "execute_result"
    }
   ],
   "source": [
    "y_train_encoded = y_encoder.transform(y_train)\n",
    "y_val_encoded = y_encoder.transform(y_val)\n",
    "\n",
    "y_train_encoded[:10], y_val_encoded[:10]"
   ]
  },
  {
   "cell_type": "code",
   "execution_count": 43,
   "id": "dffae4a6",
   "metadata": {
    "execution": {
     "iopub.execute_input": "2023-07-07T08:56:08.555696Z",
     "iopub.status.busy": "2023-07-07T08:56:08.555353Z",
     "iopub.status.idle": "2023-07-07T08:58:17.460553Z",
     "shell.execute_reply": "2023-07-07T08:58:17.459474Z"
    },
    "papermill": {
     "duration": 128.936554,
     "end_time": "2023-07-07T08:58:17.463146",
     "exception": false,
     "start_time": "2023-07-07T08:56:08.526592",
     "status": "completed"
    },
    "tags": []
   },
   "outputs": [
    {
     "name": "stdout",
     "output_type": "stream",
     "text": [
      "Epoch 1/5\n",
      "1406/1406 [==============================] - 63s 39ms/step - loss: 0.7072 - accuracy: 0.7336 - val_loss: 0.5160 - val_accuracy: 0.8113\n",
      "Epoch 2/5\n",
      "1406/1406 [==============================] - 18s 13ms/step - loss: 0.4817 - accuracy: 0.8250 - val_loss: 0.4724 - val_accuracy: 0.8247\n",
      "Epoch 3/5\n",
      "1406/1406 [==============================] - 17s 12ms/step - loss: 0.4274 - accuracy: 0.8432 - val_loss: 0.4624 - val_accuracy: 0.8317\n",
      "Epoch 4/5\n",
      "1406/1406 [==============================] - 15s 11ms/step - loss: 0.3873 - accuracy: 0.8577 - val_loss: 0.4759 - val_accuracy: 0.8270\n",
      "Epoch 5/5\n",
      "1406/1406 [==============================] - 16s 11ms/step - loss: 0.3489 - accuracy: 0.8720 - val_loss: 0.4774 - val_accuracy: 0.8284\n"
     ]
    }
   ],
   "source": [
    "from tensorflow.keras.losses import SparseCategoricalCrossentropy\n",
    "from tensorflow.keras.optimizers import Adam\n",
    "\n",
    "model_1.compile(\n",
    "    loss=SparseCategoricalCrossentropy(),\n",
    "    optimizer=Adam(),\n",
    "    metrics=['accuracy']\n",
    ")\n",
    "\n",
    "BATCH_SIZE = 128\n",
    "model_1_history = model_1.fit(X_train, y_train_encoded,\n",
    "                              batch_size=BATCH_SIZE,\n",
    "                              steps_per_epoch=len(X_train)//BATCH_SIZE,\n",
    "                              epochs=5,\n",
    "                              validation_data=(X_val, y_val_encoded),\n",
    "                              validation_batch_size=BATCH_SIZE,\n",
    "                              validation_steps=len(X_val)//BATCH_SIZE\n",
    "                             )"
   ]
  },
  {
   "cell_type": "code",
   "execution_count": 44,
   "id": "226689b8",
   "metadata": {
    "execution": {
     "iopub.execute_input": "2023-07-07T08:58:17.743075Z",
     "iopub.status.busy": "2023-07-07T08:58:17.742709Z",
     "iopub.status.idle": "2023-07-07T08:58:18.098190Z",
     "shell.execute_reply": "2023-07-07T08:58:18.097251Z"
    },
    "papermill": {
     "duration": 0.491555,
     "end_time": "2023-07-07T08:58:18.100380",
     "exception": false,
     "start_time": "2023-07-07T08:58:17.608825",
     "status": "completed"
    },
    "tags": []
   },
   "outputs": [
    {
     "data": {
      "text/plain": [
       "<Axes: >"
      ]
     },
     "execution_count": 44,
     "metadata": {},
     "output_type": "execute_result"
    },
    {
     "data": {
      "image/png": "[encoded data removed]",
      "text/plain": [
       "<Figure size 640x480 with 1 Axes>"
      ]
     },
     "metadata": {},
     "output_type": "display_data"
    }
   ],
   "source": [
    "pd.DataFrame(model_1_history.history).plot()"
   ]
  },
  {
   "cell_type": "code",
   "execution_count": 45,
   "id": "bf7b815c",
   "metadata": {
    "execution": {
     "iopub.execute_input": "2023-07-07T08:58:18.372987Z",
     "iopub.status.busy": "2023-07-07T08:58:18.372599Z",
     "iopub.status.idle": "2023-07-07T08:58:23.941767Z",
     "shell.execute_reply": "2023-07-07T08:58:23.940008Z"
    },
    "papermill": {
     "duration": 5.709335,
     "end_time": "2023-07-07T08:58:23.944308",
     "exception": false,
     "start_time": "2023-07-07T08:58:18.234973",
     "status": "completed"
    },
    "tags": []
   },
   "outputs": [
    {
     "name": "stdout",
     "output_type": "stream",
     "text": [
      "945/945 [==============================] - 4s 3ms/step\n",
      "(30212,)\n"
     ]
    },
    {
     "data": {
      "text/plain": [
       "array(['CONCLUSIONS', 'BACKGROUND', 'OBJECTIVE', 'METHODS', 'METHODS',\n",
       "       'RESULTS', 'RESULTS', 'METHODS', 'RESULTS', 'CONCLUSIONS'],\n",
       "      dtype='<U11')"
      ]
     },
     "execution_count": 45,
     "metadata": {},
     "output_type": "execute_result"
    }
   ],
   "source": [
    "def model_predict(model, X):\n",
    "    y_values = np.argmax(model.predict(X), axis=1)\n",
    "    print(y_values.shape)\n",
    "    return y_encoder.inverse_transform(y_values)\n",
    "\n",
    "model_1_predictions = model_predict(model_1, X_val)\n",
    "model_1_predictions[:10]"
   ]
  },
  {
   "cell_type": "code",
   "execution_count": 46,
   "id": "3483fb53",
   "metadata": {
    "execution": {
     "iopub.execute_input": "2023-07-07T08:58:24.216113Z",
     "iopub.status.busy": "2023-07-07T08:58:24.215157Z",
     "iopub.status.idle": "2023-07-07T08:58:24.697460Z",
     "shell.execute_reply": "2023-07-07T08:58:24.696548Z"
    },
    "papermill": {
     "duration": 0.620457,
     "end_time": "2023-07-07T08:58:24.699664",
     "exception": false,
     "start_time": "2023-07-07T08:58:24.079207",
     "status": "completed"
    },
    "tags": []
   },
   "outputs": [
    {
     "data": {
      "image/png": "[encoded data removed]",
      "text/plain": [
       "<Figure size 640x480 with 2 Axes>"
      ]
     },
     "metadata": {},
     "output_type": "display_data"
    }
   ],
   "source": [
    "from sklearn.metrics import ConfusionMatrixDisplay\n",
    "\n",
    "def show_confusion_matrix(y_true, y_predictions):\n",
    "    ConfusionMatrixDisplay.from_predictions(y_true, y_predictions,\n",
    "                                            labels=CLASSES,\n",
    "                                            normalize='true',\n",
    "                                            xticks_rotation='vertical')\n",
    "    \n",
    "show_confusion_matrix(y_val, model_1_predictions)"
   ]
  },
  {
   "cell_type": "code",
   "execution_count": 47,
   "id": "405041be",
   "metadata": {
    "execution": {
     "iopub.execute_input": "2023-07-07T08:58:24.975476Z",
     "iopub.status.busy": "2023-07-07T08:58:24.975085Z",
     "iopub.status.idle": "2023-07-07T08:58:24.989318Z",
     "shell.execute_reply": "2023-07-07T08:58:24.988207Z"
    },
    "papermill": {
     "duration": 0.1555,
     "end_time": "2023-07-07T08:58:24.992036",
     "exception": false,
     "start_time": "2023-07-07T08:58:24.836536",
     "status": "completed"
    },
    "tags": []
   },
   "outputs": [
    {
     "data": {
      "text/html": [
       "<div>\n",
       "<style scoped>\n",
       "    .dataframe tbody tr th:only-of-type {\n",
       "        vertical-align: middle;\n",
       "    }\n",
       "\n",
       "    .dataframe tbody tr th {\n",
       "        vertical-align: top;\n",
       "    }\n",
       "\n",
       "    .dataframe thead th {\n",
       "        text-align: right;\n",
       "    }\n",
       "</style>\n",
       "<table border=\"1\" class=\"dataframe\">\n",
       "  <thead>\n",
       "    <tr style=\"text-align: right;\">\n",
       "      <th></th>\n",
       "      <th>Sentence</th>\n",
       "      <th>True Label</th>\n",
       "      <th>Prediction</th>\n",
       "      <th>Correct?</th>\n",
       "    </tr>\n",
       "  </thead>\n",
       "  <tbody>\n",
       "    <tr>\n",
       "      <th>0</th>\n",
       "      <td>IgE sensitization to Aspergillus fumigatus and...</td>\n",
       "      <td>BACKGROUND</td>\n",
       "      <td>CONCLUSIONS</td>\n",
       "      <td>False</td>\n",
       "    </tr>\n",
       "    <tr>\n",
       "      <th>1</th>\n",
       "      <td>It is not clear whether these patients would b...</td>\n",
       "      <td>BACKGROUND</td>\n",
       "      <td>BACKGROUND</td>\n",
       "      <td>True</td>\n",
       "    </tr>\n",
       "    <tr>\n",
       "      <th>2</th>\n",
       "      <td>We sought to determine whether a 3-month cours...</td>\n",
       "      <td>OBJECTIVE</td>\n",
       "      <td>OBJECTIVE</td>\n",
       "      <td>True</td>\n",
       "    </tr>\n",
       "    <tr>\n",
       "      <th>3</th>\n",
       "      <td>Asthmatic patients who were IgE sensitized to ...</td>\n",
       "      <td>METHODS</td>\n",
       "      <td>METHODS</td>\n",
       "      <td>True</td>\n",
       "    </tr>\n",
       "    <tr>\n",
       "      <th>4</th>\n",
       "      <td>Primary outcomes were improvement in quality o...</td>\n",
       "      <td>METHODS</td>\n",
       "      <td>METHODS</td>\n",
       "      <td>True</td>\n",
       "    </tr>\n",
       "    <tr>\n",
       "      <th>5</th>\n",
       "      <td>Sixty-five patients were randomized .</td>\n",
       "      <td>RESULTS</td>\n",
       "      <td>RESULTS</td>\n",
       "      <td>True</td>\n",
       "    </tr>\n",
       "    <tr>\n",
       "      <th>6</th>\n",
       "      <td>Fifty-nine patients started treatment ( 32 rec...</td>\n",
       "      <td>RESULTS</td>\n",
       "      <td>RESULTS</td>\n",
       "      <td>True</td>\n",
       "    </tr>\n",
       "    <tr>\n",
       "      <th>7</th>\n",
       "      <td>Fifty-six patients took the full 3 months of m...</td>\n",
       "      <td>RESULTS</td>\n",
       "      <td>METHODS</td>\n",
       "      <td>False</td>\n",
       "    </tr>\n",
       "    <tr>\n",
       "      <th>8</th>\n",
       "      <td>Between the voriconazole and placebo groups , ...</td>\n",
       "      <td>RESULTS</td>\n",
       "      <td>RESULTS</td>\n",
       "      <td>True</td>\n",
       "    </tr>\n",
       "    <tr>\n",
       "      <th>9</th>\n",
       "      <td>We were unable to show a beneficial effect of ...</td>\n",
       "      <td>CONCLUSIONS</td>\n",
       "      <td>CONCLUSIONS</td>\n",
       "      <td>True</td>\n",
       "    </tr>\n",
       "  </tbody>\n",
       "</table>\n",
       "</div>"
      ],
      "text/plain": [
       "                                            Sentence   True Label  \\\n",
       "0  IgE sensitization to Aspergillus fumigatus and...   BACKGROUND   \n",
       "1  It is not clear whether these patients would b...   BACKGROUND   \n",
       "2  We sought to determine whether a 3-month cours...    OBJECTIVE   \n",
       "3  Asthmatic patients who were IgE sensitized to ...      METHODS   \n",
       "4  Primary outcomes were improvement in quality o...      METHODS   \n",
       "5              Sixty-five patients were randomized .      RESULTS   \n",
       "6  Fifty-nine patients started treatment ( 32 rec...      RESULTS   \n",
       "7  Fifty-six patients took the full 3 months of m...      RESULTS   \n",
       "8  Between the voriconazole and placebo groups , ...      RESULTS   \n",
       "9  We were unable to show a beneficial effect of ...  CONCLUSIONS   \n",
       "\n",
       "    Prediction  Correct?  \n",
       "0  CONCLUSIONS     False  \n",
       "1   BACKGROUND      True  \n",
       "2    OBJECTIVE      True  \n",
       "3      METHODS      True  \n",
       "4      METHODS      True  \n",
       "5      RESULTS      True  \n",
       "6      RESULTS      True  \n",
       "7      METHODS     False  \n",
       "8      RESULTS      True  \n",
       "9  CONCLUSIONS      True  "
      ]
     },
     "execution_count": 47,
     "metadata": {},
     "output_type": "execute_result"
    }
   ],
   "source": [
    "show_sample_predictions(model_1_predictions)"
   ]
  },
  {
   "cell_type": "code",
   "execution_count": 48,
   "id": "d7206d69",
   "metadata": {
    "execution": {
     "iopub.execute_input": "2023-07-07T08:58:25.336711Z",
     "iopub.status.busy": "2023-07-07T08:58:25.336015Z",
     "iopub.status.idle": "2023-07-07T08:58:25.569613Z",
     "shell.execute_reply": "2023-07-07T08:58:25.568634Z"
    },
    "papermill": {
     "duration": 0.427303,
     "end_time": "2023-07-07T08:58:25.571927",
     "exception": false,
     "start_time": "2023-07-07T08:58:25.144624",
     "status": "completed"
    },
    "tags": []
   },
   "outputs": [
    {
     "data": {
      "text/plain": [
       "{'precision': 0.8270710543553249,\n",
       " 'recall': 0.8284125513041176,\n",
       " 'f1': 0.8262399503689515}"
      ]
     },
     "execution_count": 48,
     "metadata": {},
     "output_type": "execute_result"
    }
   ],
   "source": [
    "score_predictions(y_val, model_1_predictions)"
   ]
  },
  {
   "cell_type": "markdown",
   "id": "abfedad1",
   "metadata": {
    "papermill": {
     "duration": 0.136768,
     "end_time": "2023-07-07T08:58:25.855490",
     "exception": false,
     "start_time": "2023-07-07T08:58:25.718722",
     "status": "completed"
    },
    "tags": []
   },
   "source": [
    "## 3/b] **Model 2 (RNN model 2):** GRU model"
   ]
  },
  {
   "cell_type": "code",
   "execution_count": 49,
   "id": "e0dc28cc",
   "metadata": {
    "execution": {
     "iopub.execute_input": "2023-07-07T08:58:26.130332Z",
     "iopub.status.busy": "2023-07-07T08:58:26.129937Z",
     "iopub.status.idle": "2023-07-07T08:58:26.436584Z",
     "shell.execute_reply": "2023-07-07T08:58:26.435766Z"
    },
    "papermill": {
     "duration": 0.453248,
     "end_time": "2023-07-07T08:58:26.445049",
     "exception": false,
     "start_time": "2023-07-07T08:58:25.991801",
     "status": "completed"
    },
    "tags": []
   },
   "outputs": [
    {
     "name": "stdout",
     "output_type": "stream",
     "text": [
      "Model: \"sequential_1\"\n",
      "_________________________________________________________________\n",
      " Layer (type)                Output Shape              Param #   \n",
      "=================================================================\n",
      " text_vectorization (TextVec  (None, 45)               0         \n",
      " torization)                                                     \n",
      "                                                                 \n",
      " embedding_2 (Embedding)     (None, 45, 512)           2560000   \n",
      "                                                                 \n",
      " gru (GRU)                   (None, 64)                110976    \n",
      "                                                                 \n",
      " dense_1 (Dense)             (None, 5)                 325       \n",
      "                                                                 \n",
      "=================================================================\n",
      "Total params: 2,671,301\n",
      "Trainable params: 2,671,301\n",
      "Non-trainable params: 0\n",
      "_________________________________________________________________\n"
     ]
    }
   ],
   "source": [
    "from tensorflow.keras.layers import GRU\n",
    "\n",
    "def build_model_2():\n",
    "    return Sequential([\n",
    "        Input(shape=[], dtype=tf.string),\n",
    "        vectorizer,\n",
    "        make_embedding(),\n",
    "        GRU(64),\n",
    "        Dense(len(CLASSES), activation='softmax')\n",
    "    ])\n",
    "    \n",
    "model_2 = build_model_2()\n",
    "model_2.summary()"
   ]
  },
  {
   "cell_type": "code",
   "execution_count": 50,
   "id": "ac42a95b",
   "metadata": {
    "execution": {
     "iopub.execute_input": "2023-07-07T08:58:26.739614Z",
     "iopub.status.busy": "2023-07-07T08:58:26.739238Z",
     "iopub.status.idle": "2023-07-07T09:00:10.429384Z",
     "shell.execute_reply": "2023-07-07T09:00:10.428359Z"
    },
    "papermill": {
     "duration": 103.846738,
     "end_time": "2023-07-07T09:00:10.432404",
     "exception": false,
     "start_time": "2023-07-07T08:58:26.585666",
     "status": "completed"
    },
    "tags": []
   },
   "outputs": [
    {
     "name": "stdout",
     "output_type": "stream",
     "text": [
      "Epoch 1/5\n",
      "1407/1407 [==============================] - 44s 29ms/step - loss: 0.6742 - accuracy: 0.7334 - val_loss: 0.4869 - val_accuracy: 0.8197\n",
      "Epoch 2/5\n",
      "1407/1407 [==============================] - 17s 12ms/step - loss: 0.4564 - accuracy: 0.8320 - val_loss: 0.4612 - val_accuracy: 0.8267\n",
      "Epoch 3/5\n",
      "1407/1407 [==============================] - 15s 10ms/step - loss: 0.4064 - accuracy: 0.8510 - val_loss: 0.4554 - val_accuracy: 0.8315\n",
      "Epoch 4/5\n",
      "1407/1407 [==============================] - 14s 10ms/step - loss: 0.3631 - accuracy: 0.8675 - val_loss: 0.4703 - val_accuracy: 0.8302\n",
      "Epoch 5/5\n",
      "1407/1407 [==============================] - 14s 10ms/step - loss: 0.3215 - accuracy: 0.8831 - val_loss: 0.4881 - val_accuracy: 0.8276\n"
     ]
    }
   ],
   "source": [
    "model_2.compile(\n",
    "    loss=SparseCategoricalCrossentropy(),\n",
    "    optimizer=Adam(),\n",
    "    metrics=['accuracy']\n",
    ")\n",
    "\n",
    "model_2_history = model_2.fit(X_train, y_train_encoded,\n",
    "                              batch_size=BATCH_SIZE,\n",
    "                              epochs=5,\n",
    "                              validation_data=(X_val, y_val_encoded),\n",
    "                              validation_batch_size=BATCH_SIZE)"
   ]
  },
  {
   "cell_type": "code",
   "execution_count": 51,
   "id": "e0e56aa9",
   "metadata": {
    "execution": {
     "iopub.execute_input": "2023-07-07T09:00:10.915255Z",
     "iopub.status.busy": "2023-07-07T09:00:10.914879Z",
     "iopub.status.idle": "2023-07-07T09:00:11.285631Z",
     "shell.execute_reply": "2023-07-07T09:00:11.284636Z"
    },
    "papermill": {
     "duration": 0.612346,
     "end_time": "2023-07-07T09:00:11.287773",
     "exception": false,
     "start_time": "2023-07-07T09:00:10.675427",
     "status": "completed"
    },
    "tags": []
   },
   "outputs": [
    {
     "data": {
      "text/plain": [
       "<Axes: >"
      ]
     },
     "execution_count": 51,
     "metadata": {},
     "output_type": "execute_result"
    },
    {
     "data": {
      "image/png": "[encoded data removed]",
      "text/plain": [
       "<Figure size 640x480 with 1 Axes>"
      ]
     },
     "metadata": {},
     "output_type": "display_data"
    }
   ],
   "source": [
    "pd.DataFrame(model_2_history.history).plot()"
   ]
  },
  {
   "cell_type": "code",
   "execution_count": 52,
   "id": "fded88bb",
   "metadata": {
    "execution": {
     "iopub.execute_input": "2023-07-07T09:00:11.785605Z",
     "iopub.status.busy": "2023-07-07T09:00:11.785240Z",
     "iopub.status.idle": "2023-07-07T09:00:17.510847Z",
     "shell.execute_reply": "2023-07-07T09:00:17.509637Z"
    },
    "papermill": {
     "duration": 5.973384,
     "end_time": "2023-07-07T09:00:17.513493",
     "exception": false,
     "start_time": "2023-07-07T09:00:11.540109",
     "status": "completed"
    },
    "tags": []
   },
   "outputs": [
    {
     "name": "stdout",
     "output_type": "stream",
     "text": [
      "945/945 [==============================] - 4s 3ms/step\n",
      "(30212,)\n"
     ]
    },
    {
     "data": {
      "text/plain": [
       "{'precision': 0.8271251101547755,\n",
       " 'recall': 0.827551966106183,\n",
       " 'f1': 0.8259652096401678}"
      ]
     },
     "execution_count": 52,
     "metadata": {},
     "output_type": "execute_result"
    }
   ],
   "source": [
    "model_2_predictions = model_predict(model_2, X_val)\n",
    "\n",
    "score_predictions(y_val, model_2_predictions)"
   ]
  },
  {
   "cell_type": "code",
   "execution_count": 53,
   "id": "927d04e9",
   "metadata": {
    "execution": {
     "iopub.execute_input": "2023-07-07T09:00:18.074750Z",
     "iopub.status.busy": "2023-07-07T09:00:18.074317Z",
     "iopub.status.idle": "2023-07-07T09:00:18.561457Z",
     "shell.execute_reply": "2023-07-07T09:00:18.560539Z"
    },
    "papermill": {
     "duration": 0.780307,
     "end_time": "2023-07-07T09:00:18.563616",
     "exception": false,
     "start_time": "2023-07-07T09:00:17.783309",
     "status": "completed"
    },
    "tags": []
   },
   "outputs": [
    {
     "data": {
      "image/png": "[encoded data removed]",
      "text/plain": [
       "<Figure size 640x480 with 2 Axes>"
      ]
     },
     "metadata": {},
     "output_type": "display_data"
    }
   ],
   "source": [
    "show_confusion_matrix(y_val, model_2_predictions)"
   ]
  },
  {
   "cell_type": "code",
   "execution_count": 54,
   "id": "1b274624",
   "metadata": {
    "execution": {
     "iopub.execute_input": "2023-07-07T09:00:19.056231Z",
     "iopub.status.busy": "2023-07-07T09:00:19.055864Z",
     "iopub.status.idle": "2023-07-07T09:00:19.070028Z",
     "shell.execute_reply": "2023-07-07T09:00:19.068924Z"
    },
    "papermill": {
     "duration": 0.26094,
     "end_time": "2023-07-07T09:00:19.072547",
     "exception": false,
     "start_time": "2023-07-07T09:00:18.811607",
     "status": "completed"
    },
    "tags": []
   },
   "outputs": [
    {
     "data": {
      "text/html": [
       "<div>\n",
       "<style scoped>\n",
       "    .dataframe tbody tr th:only-of-type {\n",
       "        vertical-align: middle;\n",
       "    }\n",
       "\n",
       "    .dataframe tbody tr th {\n",
       "        vertical-align: top;\n",
       "    }\n",
       "\n",
       "    .dataframe thead th {\n",
       "        text-align: right;\n",
       "    }\n",
       "</style>\n",
       "<table border=\"1\" class=\"dataframe\">\n",
       "  <thead>\n",
       "    <tr style=\"text-align: right;\">\n",
       "      <th></th>\n",
       "      <th>Sentence</th>\n",
       "      <th>True Label</th>\n",
       "      <th>Prediction</th>\n",
       "      <th>Correct?</th>\n",
       "    </tr>\n",
       "  </thead>\n",
       "  <tbody>\n",
       "    <tr>\n",
       "      <th>0</th>\n",
       "      <td>IgE sensitization to Aspergillus fumigatus and...</td>\n",
       "      <td>BACKGROUND</td>\n",
       "      <td>BACKGROUND</td>\n",
       "      <td>True</td>\n",
       "    </tr>\n",
       "    <tr>\n",
       "      <th>1</th>\n",
       "      <td>It is not clear whether these patients would b...</td>\n",
       "      <td>BACKGROUND</td>\n",
       "      <td>BACKGROUND</td>\n",
       "      <td>True</td>\n",
       "    </tr>\n",
       "    <tr>\n",
       "      <th>2</th>\n",
       "      <td>We sought to determine whether a 3-month cours...</td>\n",
       "      <td>OBJECTIVE</td>\n",
       "      <td>OBJECTIVE</td>\n",
       "      <td>True</td>\n",
       "    </tr>\n",
       "    <tr>\n",
       "      <th>3</th>\n",
       "      <td>Asthmatic patients who were IgE sensitized to ...</td>\n",
       "      <td>METHODS</td>\n",
       "      <td>METHODS</td>\n",
       "      <td>True</td>\n",
       "    </tr>\n",
       "    <tr>\n",
       "      <th>4</th>\n",
       "      <td>Primary outcomes were improvement in quality o...</td>\n",
       "      <td>METHODS</td>\n",
       "      <td>METHODS</td>\n",
       "      <td>True</td>\n",
       "    </tr>\n",
       "    <tr>\n",
       "      <th>5</th>\n",
       "      <td>Sixty-five patients were randomized .</td>\n",
       "      <td>RESULTS</td>\n",
       "      <td>RESULTS</td>\n",
       "      <td>True</td>\n",
       "    </tr>\n",
       "    <tr>\n",
       "      <th>6</th>\n",
       "      <td>Fifty-nine patients started treatment ( 32 rec...</td>\n",
       "      <td>RESULTS</td>\n",
       "      <td>RESULTS</td>\n",
       "      <td>True</td>\n",
       "    </tr>\n",
       "    <tr>\n",
       "      <th>7</th>\n",
       "      <td>Fifty-six patients took the full 3 months of m...</td>\n",
       "      <td>RESULTS</td>\n",
       "      <td>METHODS</td>\n",
       "      <td>False</td>\n",
       "    </tr>\n",
       "    <tr>\n",
       "      <th>8</th>\n",
       "      <td>Between the voriconazole and placebo groups , ...</td>\n",
       "      <td>RESULTS</td>\n",
       "      <td>RESULTS</td>\n",
       "      <td>True</td>\n",
       "    </tr>\n",
       "    <tr>\n",
       "      <th>9</th>\n",
       "      <td>We were unable to show a beneficial effect of ...</td>\n",
       "      <td>CONCLUSIONS</td>\n",
       "      <td>CONCLUSIONS</td>\n",
       "      <td>True</td>\n",
       "    </tr>\n",
       "  </tbody>\n",
       "</table>\n",
       "</div>"
      ],
      "text/plain": [
       "                                            Sentence   True Label  \\\n",
       "0  IgE sensitization to Aspergillus fumigatus and...   BACKGROUND   \n",
       "1  It is not clear whether these patients would b...   BACKGROUND   \n",
       "2  We sought to determine whether a 3-month cours...    OBJECTIVE   \n",
       "3  Asthmatic patients who were IgE sensitized to ...      METHODS   \n",
       "4  Primary outcomes were improvement in quality o...      METHODS   \n",
       "5              Sixty-five patients were randomized .      RESULTS   \n",
       "6  Fifty-nine patients started treatment ( 32 rec...      RESULTS   \n",
       "7  Fifty-six patients took the full 3 months of m...      RESULTS   \n",
       "8  Between the voriconazole and placebo groups , ...      RESULTS   \n",
       "9  We were unable to show a beneficial effect of ...  CONCLUSIONS   \n",
       "\n",
       "    Prediction  Correct?  \n",
       "0   BACKGROUND      True  \n",
       "1   BACKGROUND      True  \n",
       "2    OBJECTIVE      True  \n",
       "3      METHODS      True  \n",
       "4      METHODS      True  \n",
       "5      RESULTS      True  \n",
       "6      RESULTS      True  \n",
       "7      METHODS     False  \n",
       "8      RESULTS      True  \n",
       "9  CONCLUSIONS      True  "
      ]
     },
     "execution_count": 54,
     "metadata": {},
     "output_type": "execute_result"
    }
   ],
   "source": [
    "show_sample_predictions(model_2_predictions)"
   ]
  },
  {
   "cell_type": "code",
   "execution_count": null,
   "id": "f6b47e98",
   "metadata": {
    "papermill": {
     "duration": 0.248891,
     "end_time": "2023-07-07T09:00:19.592785",
     "exception": false,
     "start_time": "2023-07-07T09:00:19.343894",
     "status": "completed"
    },
    "tags": []
   },
   "outputs": [],
   "source": []
  }
 ],
 "metadata": {
  "kernelspec": {
   "display_name": "Python 3",
   "language": "python",
   "name": "python3"
  },
  "language_info": {
   "codemirror_mode": {
    "name": "ipython",
    "version": 3
   },
   "file_extension": ".py",
   "mimetype": "text/x-python",
   "name": "python",
   "nbconvert_exporter": "python",
   "pygments_lexer": "ipython3",
   "version": "3.10.10"
  },
  "papermill": {
   "default_parameters": {},
   "duration": 329.043277,
   "end_time": "2023-07-07T09:00:23.461129",
   "environment_variables": {},
   "exception": null,
   "input_path": "__notebook__.ipynb",
   "output_path": "__notebook__.ipynb",
   "parameters": {},
   "start_time": "2023-07-07T08:54:54.417852",
   "version": "2.4.0"
  }
 },
 "nbformat": 4,
 "nbformat_minor": 5
}
