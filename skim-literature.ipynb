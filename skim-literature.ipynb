{
 "cells": [
  {
   "cell_type": "code",
   "execution_count": 1,
   "id": "932b2aba",
   "metadata": {
    "_cell_guid": "b1076dfc-b9ad-4769-8c92-a6c4dae69d19",
    "_uuid": "8f2839f25d086af736a60e9eeb907d3b93b6e0e5",
    "execution": {
     "iopub.execute_input": "2023-07-07T09:32:47.054853Z",
     "iopub.status.busy": "2023-07-07T09:32:47.054429Z",
     "iopub.status.idle": "2023-07-07T09:33:03.264825Z",
     "shell.execute_reply": "2023-07-07T09:33:03.262944Z"
    },
    "papermill": {
     "duration": 16.233585,
     "end_time": "2023-07-07T09:33:03.267092",
     "exception": false,
     "start_time": "2023-07-07T09:32:47.033507",
     "status": "completed"
    },
    "tags": []
   },
   "outputs": [
    {
     "name": "stderr",
     "output_type": "stream",
     "text": [
      "/opt/conda/lib/python3.10/site-packages/tensorflow_io/python/ops/__init__.py:98: UserWarning: unable to load libtensorflow_io_plugins.so: unable to open file: libtensorflow_io_plugins.so, from paths: ['/opt/conda/lib/python3.10/site-packages/tensorflow_io/python/ops/libtensorflow_io_plugins.so']\n",
      "caused by: ['/opt/conda/lib/python3.10/site-packages/tensorflow_io/python/ops/libtensorflow_io_plugins.so: undefined symbol: _ZN3tsl6StatusC1EN10tensorflow5error4CodeESt17basic_string_viewIcSt11char_traitsIcEENS_14SourceLocationE']\n",
      "  warnings.warn(f\"unable to load libtensorflow_io_plugins.so: {e}\")\n",
      "/opt/conda/lib/python3.10/site-packages/tensorflow_io/python/ops/__init__.py:104: UserWarning: file system plugins are not loaded: unable to open file: libtensorflow_io.so, from paths: ['/opt/conda/lib/python3.10/site-packages/tensorflow_io/python/ops/libtensorflow_io.so']\n",
      "caused by: ['/opt/conda/lib/python3.10/site-packages/tensorflow_io/python/ops/libtensorflow_io.so: undefined symbol: _ZTVN10tensorflow13GcsFileSystemE']\n",
      "  warnings.warn(f\"file system plugins are not loaded: {e}\")\n"
     ]
    },
    {
     "name": "stdout",
     "output_type": "stream",
     "text": [
      "/kaggle/input/pubmed-200k-rtc/PubMed_200k_RCT_numbers_replaced_with_at_sign/dev.csv\n",
      "/kaggle/input/pubmed-200k-rtc/PubMed_200k_RCT_numbers_replaced_with_at_sign/test.txt\n",
      "/kaggle/input/pubmed-200k-rtc/PubMed_200k_RCT_numbers_replaced_with_at_sign/dev.txt\n",
      "/kaggle/input/pubmed-200k-rtc/PubMed_200k_RCT_numbers_replaced_with_at_sign/train.csv\n",
      "/kaggle/input/pubmed-200k-rtc/PubMed_200k_RCT_numbers_replaced_with_at_sign/test.csv\n",
      "/kaggle/input/pubmed-200k-rtc/PubMed_200k_RCT_numbers_replaced_with_at_sign/train/train.txt\n",
      "/kaggle/input/pubmed-200k-rtc/PubMed_200k_RCT/dev.csv\n",
      "/kaggle/input/pubmed-200k-rtc/PubMed_200k_RCT/test.txt\n",
      "/kaggle/input/pubmed-200k-rtc/PubMed_200k_RCT/dev.txt\n",
      "/kaggle/input/pubmed-200k-rtc/PubMed_200k_RCT/train.csv\n",
      "/kaggle/input/pubmed-200k-rtc/PubMed_200k_RCT/test.csv\n",
      "/kaggle/input/pubmed-200k-rtc/PubMed_200k_RCT/train/train.txt\n",
      "/kaggle/input/pubmed-200k-rtc/PubMed_20k_RCT/dev.csv\n",
      "/kaggle/input/pubmed-200k-rtc/PubMed_20k_RCT/test.txt\n",
      "/kaggle/input/pubmed-200k-rtc/PubMed_20k_RCT/train.txt\n",
      "/kaggle/input/pubmed-200k-rtc/PubMed_20k_RCT/dev.txt\n",
      "/kaggle/input/pubmed-200k-rtc/PubMed_20k_RCT/train.csv\n",
      "/kaggle/input/pubmed-200k-rtc/PubMed_20k_RCT/test.csv\n",
      "/kaggle/input/pubmed-200k-rtc/PubMed_20k_RCT_numbers_replaced_with_at_sign/dev.csv\n",
      "/kaggle/input/pubmed-200k-rtc/PubMed_20k_RCT_numbers_replaced_with_at_sign/test.txt\n",
      "/kaggle/input/pubmed-200k-rtc/PubMed_20k_RCT_numbers_replaced_with_at_sign/train.txt\n",
      "/kaggle/input/pubmed-200k-rtc/PubMed_20k_RCT_numbers_replaced_with_at_sign/dev.txt\n",
      "/kaggle/input/pubmed-200k-rtc/PubMed_20k_RCT_numbers_replaced_with_at_sign/train.csv\n",
      "/kaggle/input/pubmed-200k-rtc/PubMed_20k_RCT_numbers_replaced_with_at_sign/test.csv\n"
     ]
    }
   ],
   "source": [
    "# This Python 3 environment comes with many helpful analytics libraries installed\n",
    "# It is defined by the kaggle/python Docker image: https://github.com/kaggle/docker-python\n",
    "# For example, here's several helpful packages to load\n",
    "\n",
    "import numpy as np # linear algebra\n",
    "import pandas as pd # data processing, CSV file I/O (e.g. pd.read_csv)\n",
    "import tensorflow as tf\n",
    "\n",
    "RANDOM_SEED = 42\n",
    "tf.keras.utils.set_random_seed(RANDOM_SEED)\n",
    "\n",
    "\n",
    "# Input data files are available in the read-only \"../input/\" directory\n",
    "# For example, running this (by clicking run or pressing Shift+Enter) will list all files under the input directory\n",
    "\n",
    "import os\n",
    "for dirname, _, filenames in os.walk('/kaggle/input'):\n",
    "    for filename in filenames:\n",
    "        print(os.path.join(dirname, filename))\n",
    "\n",
    "# You can write up to 20GB to the current directory (/kaggle/working/) that gets preserved as output when you create a version using \"Save & Run All\" \n",
    "# You can also write temporary files to /kaggle/temp/, but they won't be saved outside of the current session"
   ]
  },
  {
   "cell_type": "code",
   "execution_count": 2,
   "id": "3a2a00e3",
   "metadata": {
    "execution": {
     "iopub.execute_input": "2023-07-07T09:33:03.307635Z",
     "iopub.status.busy": "2023-07-07T09:33:03.306307Z",
     "iopub.status.idle": "2023-07-07T09:33:04.317324Z",
     "shell.execute_reply": "2023-07-07T09:33:04.316108Z"
    },
    "papermill": {
     "duration": 1.033991,
     "end_time": "2023-07-07T09:33:04.319867",
     "exception": false,
     "start_time": "2023-07-07T09:33:03.285876",
     "status": "completed"
    },
    "tags": []
   },
   "outputs": [
    {
     "name": "stdout",
     "output_type": "stream",
     "text": [
      "GPU 0: Tesla T4 (UUID: GPU-c6e5d218-10f4-a03d-9425-84f9d52ca151)\r\n",
      "GPU 1: Tesla T4 (UUID: GPU-379c620a-0e59-6310-4de1-7191a310f788)\r\n"
     ]
    }
   ],
   "source": [
    "!nvidia-smi -L"
   ]
  },
  {
   "cell_type": "markdown",
   "id": "7c0e5cf9",
   "metadata": {
    "papermill": {
     "duration": 0.01977,
     "end_time": "2023-07-07T09:33:04.359711",
     "exception": false,
     "start_time": "2023-07-07T09:33:04.339941",
     "status": "completed"
    },
    "tags": []
   },
   "source": [
    "# 1] Data Ingestion"
   ]
  },
  {
   "cell_type": "code",
   "execution_count": 3,
   "id": "984d2aa4",
   "metadata": {
    "execution": {
     "iopub.execute_input": "2023-07-07T09:33:04.401654Z",
     "iopub.status.busy": "2023-07-07T09:33:04.400526Z",
     "iopub.status.idle": "2023-07-07T09:33:04.405999Z",
     "shell.execute_reply": "2023-07-07T09:33:04.405115Z"
    },
    "papermill": {
     "duration": 0.027922,
     "end_time": "2023-07-07T09:33:04.407991",
     "exception": false,
     "start_time": "2023-07-07T09:33:04.380069",
     "status": "completed"
    },
    "tags": []
   },
   "outputs": [],
   "source": [
    "TRAIN_CSV_FILE_LOCATION = '/kaggle/input/pubmed-200k-rtc/PubMed_20k_RCT/train.csv'\n",
    "VAL_CSV_FILE_LOCATION = '/kaggle/input/pubmed-200k-rtc/PubMed_20k_RCT/dev.csv'\n",
    "TEST_CSV_FILE_LOCATION = '/kaggle/input/pubmed-200k-rtc/PubMed_20k_RCT/test.csv'"
   ]
  },
  {
   "cell_type": "code",
   "execution_count": 4,
   "id": "957cbf20",
   "metadata": {
    "execution": {
     "iopub.execute_input": "2023-07-07T09:33:04.447033Z",
     "iopub.status.busy": "2023-07-07T09:33:04.446206Z",
     "iopub.status.idle": "2023-07-07T09:33:05.345254Z",
     "shell.execute_reply": "2023-07-07T09:33:05.344267Z"
    },
    "papermill": {
     "duration": 0.920629,
     "end_time": "2023-07-07T09:33:05.347434",
     "exception": false,
     "start_time": "2023-07-07T09:33:04.426805",
     "status": "completed"
    },
    "tags": []
   },
   "outputs": [
    {
     "data": {
      "text/html": [
       "<div>\n",
       "<style scoped>\n",
       "    .dataframe tbody tr th:only-of-type {\n",
       "        vertical-align: middle;\n",
       "    }\n",
       "\n",
       "    .dataframe tbody tr th {\n",
       "        vertical-align: top;\n",
       "    }\n",
       "\n",
       "    .dataframe thead th {\n",
       "        text-align: right;\n",
       "    }\n",
       "</style>\n",
       "<table border=\"1\" class=\"dataframe\">\n",
       "  <thead>\n",
       "    <tr style=\"text-align: right;\">\n",
       "      <th></th>\n",
       "      <th>abstract_id</th>\n",
       "      <th>line_id</th>\n",
       "      <th>abstract_text</th>\n",
       "      <th>line_number</th>\n",
       "      <th>total_lines</th>\n",
       "      <th>target</th>\n",
       "    </tr>\n",
       "  </thead>\n",
       "  <tbody>\n",
       "    <tr>\n",
       "      <th>0</th>\n",
       "      <td>24293578</td>\n",
       "      <td>24293578_0_12</td>\n",
       "      <td>To investigate the efficacy of 6 weeks of dail...</td>\n",
       "      <td>0</td>\n",
       "      <td>12</td>\n",
       "      <td>OBJECTIVE</td>\n",
       "    </tr>\n",
       "    <tr>\n",
       "      <th>1</th>\n",
       "      <td>24293578</td>\n",
       "      <td>24293578_1_12</td>\n",
       "      <td>A total of 125 patients with primary knee OA w...</td>\n",
       "      <td>1</td>\n",
       "      <td>12</td>\n",
       "      <td>METHODS</td>\n",
       "    </tr>\n",
       "    <tr>\n",
       "      <th>2</th>\n",
       "      <td>24293578</td>\n",
       "      <td>24293578_2_12</td>\n",
       "      <td>Outcome measures included pain reduction and i...</td>\n",
       "      <td>2</td>\n",
       "      <td>12</td>\n",
       "      <td>METHODS</td>\n",
       "    </tr>\n",
       "    <tr>\n",
       "      <th>3</th>\n",
       "      <td>24293578</td>\n",
       "      <td>24293578_3_12</td>\n",
       "      <td>Pain was assessed using the visual analog pain...</td>\n",
       "      <td>3</td>\n",
       "      <td>12</td>\n",
       "      <td>METHODS</td>\n",
       "    </tr>\n",
       "    <tr>\n",
       "      <th>4</th>\n",
       "      <td>24293578</td>\n",
       "      <td>24293578_4_12</td>\n",
       "      <td>Secondary outcome measures included the Wester...</td>\n",
       "      <td>4</td>\n",
       "      <td>12</td>\n",
       "      <td>METHODS</td>\n",
       "    </tr>\n",
       "  </tbody>\n",
       "</table>\n",
       "</div>"
      ],
      "text/plain": [
       "   abstract_id        line_id  \\\n",
       "0     24293578  24293578_0_12   \n",
       "1     24293578  24293578_1_12   \n",
       "2     24293578  24293578_2_12   \n",
       "3     24293578  24293578_3_12   \n",
       "4     24293578  24293578_4_12   \n",
       "\n",
       "                                       abstract_text  line_number  \\\n",
       "0  To investigate the efficacy of 6 weeks of dail...            0   \n",
       "1  A total of 125 patients with primary knee OA w...            1   \n",
       "2  Outcome measures included pain reduction and i...            2   \n",
       "3  Pain was assessed using the visual analog pain...            3   \n",
       "4  Secondary outcome measures included the Wester...            4   \n",
       "\n",
       "   total_lines     target  \n",
       "0           12  OBJECTIVE  \n",
       "1           12    METHODS  \n",
       "2           12    METHODS  \n",
       "3           12    METHODS  \n",
       "4           12    METHODS  "
      ]
     },
     "execution_count": 4,
     "metadata": {},
     "output_type": "execute_result"
    }
   ],
   "source": [
    "train_df = pd.read_csv(TRAIN_CSV_FILE_LOCATION)\n",
    "train_df.head()"
   ]
  },
  {
   "cell_type": "code",
   "execution_count": 5,
   "id": "22dc6aa5",
   "metadata": {
    "execution": {
     "iopub.execute_input": "2023-07-07T09:33:05.386956Z",
     "iopub.status.busy": "2023-07-07T09:33:05.386666Z",
     "iopub.status.idle": "2023-07-07T09:33:05.531123Z",
     "shell.execute_reply": "2023-07-07T09:33:05.530064Z"
    },
    "papermill": {
     "duration": 0.166412,
     "end_time": "2023-07-07T09:33:05.533394",
     "exception": false,
     "start_time": "2023-07-07T09:33:05.366982",
     "status": "completed"
    },
    "tags": []
   },
   "outputs": [
    {
     "data": {
      "text/html": [
       "<div>\n",
       "<style scoped>\n",
       "    .dataframe tbody tr th:only-of-type {\n",
       "        vertical-align: middle;\n",
       "    }\n",
       "\n",
       "    .dataframe tbody tr th {\n",
       "        vertical-align: top;\n",
       "    }\n",
       "\n",
       "    .dataframe thead th {\n",
       "        text-align: right;\n",
       "    }\n",
       "</style>\n",
       "<table border=\"1\" class=\"dataframe\">\n",
       "  <thead>\n",
       "    <tr style=\"text-align: right;\">\n",
       "      <th></th>\n",
       "      <th>abstract_id</th>\n",
       "      <th>line_id</th>\n",
       "      <th>abstract_text</th>\n",
       "      <th>line_number</th>\n",
       "      <th>total_lines</th>\n",
       "      <th>target</th>\n",
       "    </tr>\n",
       "  </thead>\n",
       "  <tbody>\n",
       "    <tr>\n",
       "      <th>0</th>\n",
       "      <td>24290286</td>\n",
       "      <td>24290286_0_10</td>\n",
       "      <td>IgE sensitization to Aspergillus fumigatus and...</td>\n",
       "      <td>0</td>\n",
       "      <td>10</td>\n",
       "      <td>BACKGROUND</td>\n",
       "    </tr>\n",
       "    <tr>\n",
       "      <th>1</th>\n",
       "      <td>24290286</td>\n",
       "      <td>24290286_1_10</td>\n",
       "      <td>It is not clear whether these patients would b...</td>\n",
       "      <td>1</td>\n",
       "      <td>10</td>\n",
       "      <td>BACKGROUND</td>\n",
       "    </tr>\n",
       "    <tr>\n",
       "      <th>2</th>\n",
       "      <td>24290286</td>\n",
       "      <td>24290286_2_10</td>\n",
       "      <td>We sought to determine whether a 3-month cours...</td>\n",
       "      <td>2</td>\n",
       "      <td>10</td>\n",
       "      <td>OBJECTIVE</td>\n",
       "    </tr>\n",
       "    <tr>\n",
       "      <th>3</th>\n",
       "      <td>24290286</td>\n",
       "      <td>24290286_3_10</td>\n",
       "      <td>Asthmatic patients who were IgE sensitized to ...</td>\n",
       "      <td>3</td>\n",
       "      <td>10</td>\n",
       "      <td>METHODS</td>\n",
       "    </tr>\n",
       "    <tr>\n",
       "      <th>4</th>\n",
       "      <td>24290286</td>\n",
       "      <td>24290286_4_10</td>\n",
       "      <td>Primary outcomes were improvement in quality o...</td>\n",
       "      <td>4</td>\n",
       "      <td>10</td>\n",
       "      <td>METHODS</td>\n",
       "    </tr>\n",
       "  </tbody>\n",
       "</table>\n",
       "</div>"
      ],
      "text/plain": [
       "   abstract_id        line_id  \\\n",
       "0     24290286  24290286_0_10   \n",
       "1     24290286  24290286_1_10   \n",
       "2     24290286  24290286_2_10   \n",
       "3     24290286  24290286_3_10   \n",
       "4     24290286  24290286_4_10   \n",
       "\n",
       "                                       abstract_text  line_number  \\\n",
       "0  IgE sensitization to Aspergillus fumigatus and...            0   \n",
       "1  It is not clear whether these patients would b...            1   \n",
       "2  We sought to determine whether a 3-month cours...            2   \n",
       "3  Asthmatic patients who were IgE sensitized to ...            3   \n",
       "4  Primary outcomes were improvement in quality o...            4   \n",
       "\n",
       "   total_lines      target  \n",
       "0           10  BACKGROUND  \n",
       "1           10  BACKGROUND  \n",
       "2           10   OBJECTIVE  \n",
       "3           10     METHODS  \n",
       "4           10     METHODS  "
      ]
     },
     "execution_count": 5,
     "metadata": {},
     "output_type": "execute_result"
    }
   ],
   "source": [
    "val_df = pd.read_csv(VAL_CSV_FILE_LOCATION)\n",
    "val_df.head()"
   ]
  },
  {
   "cell_type": "code",
   "execution_count": 6,
   "id": "4aa323af",
   "metadata": {
    "execution": {
     "iopub.execute_input": "2023-07-07T09:33:05.575870Z",
     "iopub.status.busy": "2023-07-07T09:33:05.574134Z",
     "iopub.status.idle": "2023-07-07T09:33:05.727592Z",
     "shell.execute_reply": "2023-07-07T09:33:05.726538Z"
    },
    "papermill": {
     "duration": 0.175767,
     "end_time": "2023-07-07T09:33:05.730041",
     "exception": false,
     "start_time": "2023-07-07T09:33:05.554274",
     "status": "completed"
    },
    "tags": []
   },
   "outputs": [
    {
     "data": {
      "text/html": [
       "<div>\n",
       "<style scoped>\n",
       "    .dataframe tbody tr th:only-of-type {\n",
       "        vertical-align: middle;\n",
       "    }\n",
       "\n",
       "    .dataframe tbody tr th {\n",
       "        vertical-align: top;\n",
       "    }\n",
       "\n",
       "    .dataframe thead th {\n",
       "        text-align: right;\n",
       "    }\n",
       "</style>\n",
       "<table border=\"1\" class=\"dataframe\">\n",
       "  <thead>\n",
       "    <tr style=\"text-align: right;\">\n",
       "      <th></th>\n",
       "      <th>abstract_id</th>\n",
       "      <th>line_id</th>\n",
       "      <th>abstract_text</th>\n",
       "      <th>line_number</th>\n",
       "      <th>total_lines</th>\n",
       "      <th>target</th>\n",
       "    </tr>\n",
       "  </thead>\n",
       "  <tbody>\n",
       "    <tr>\n",
       "      <th>0</th>\n",
       "      <td>24845963</td>\n",
       "      <td>24845963_0_9</td>\n",
       "      <td>This study analyzed liver function abnormaliti...</td>\n",
       "      <td>0</td>\n",
       "      <td>9</td>\n",
       "      <td>BACKGROUND</td>\n",
       "    </tr>\n",
       "    <tr>\n",
       "      <th>1</th>\n",
       "      <td>24845963</td>\n",
       "      <td>24845963_1_9</td>\n",
       "      <td>A post hoc analysis was conducted with the use...</td>\n",
       "      <td>1</td>\n",
       "      <td>9</td>\n",
       "      <td>RESULTS</td>\n",
       "    </tr>\n",
       "    <tr>\n",
       "      <th>2</th>\n",
       "      <td>24845963</td>\n",
       "      <td>24845963_2_9</td>\n",
       "      <td>Liver function tests ( LFTs ) were measured at...</td>\n",
       "      <td>2</td>\n",
       "      <td>9</td>\n",
       "      <td>RESULTS</td>\n",
       "    </tr>\n",
       "    <tr>\n",
       "      <th>3</th>\n",
       "      <td>24845963</td>\n",
       "      <td>24845963_3_9</td>\n",
       "      <td>Survival analyses were used to assess the asso...</td>\n",
       "      <td>3</td>\n",
       "      <td>9</td>\n",
       "      <td>RESULTS</td>\n",
       "    </tr>\n",
       "    <tr>\n",
       "      <th>4</th>\n",
       "      <td>24845963</td>\n",
       "      <td>24845963_4_9</td>\n",
       "      <td>The percentage of patients with abnormal LFTs ...</td>\n",
       "      <td>4</td>\n",
       "      <td>9</td>\n",
       "      <td>RESULTS</td>\n",
       "    </tr>\n",
       "  </tbody>\n",
       "</table>\n",
       "</div>"
      ],
      "text/plain": [
       "   abstract_id       line_id  \\\n",
       "0     24845963  24845963_0_9   \n",
       "1     24845963  24845963_1_9   \n",
       "2     24845963  24845963_2_9   \n",
       "3     24845963  24845963_3_9   \n",
       "4     24845963  24845963_4_9   \n",
       "\n",
       "                                       abstract_text  line_number  \\\n",
       "0  This study analyzed liver function abnormaliti...            0   \n",
       "1  A post hoc analysis was conducted with the use...            1   \n",
       "2  Liver function tests ( LFTs ) were measured at...            2   \n",
       "3  Survival analyses were used to assess the asso...            3   \n",
       "4  The percentage of patients with abnormal LFTs ...            4   \n",
       "\n",
       "   total_lines      target  \n",
       "0            9  BACKGROUND  \n",
       "1            9     RESULTS  \n",
       "2            9     RESULTS  \n",
       "3            9     RESULTS  \n",
       "4            9     RESULTS  "
      ]
     },
     "execution_count": 6,
     "metadata": {},
     "output_type": "execute_result"
    }
   ],
   "source": [
    "test_df = pd.read_csv(TEST_CSV_FILE_LOCATION)\n",
    "test_df.head()"
   ]
  },
  {
   "cell_type": "markdown",
   "id": "eea02891",
   "metadata": {
    "papermill": {
     "duration": 0.019606,
     "end_time": "2023-07-07T09:33:05.772039",
     "exception": false,
     "start_time": "2023-07-07T09:33:05.752433",
     "status": "completed"
    },
    "tags": []
   },
   "source": [
    "# 2] Exploratory Data Analysis"
   ]
  },
  {
   "cell_type": "markdown",
   "id": "818634e7",
   "metadata": {
    "papermill": {
     "duration": 0.01948,
     "end_time": "2023-07-07T09:33:05.811703",
     "exception": false,
     "start_time": "2023-07-07T09:33:05.792223",
     "status": "completed"
    },
    "tags": []
   },
   "source": [
    "## 2/a] The Train Set"
   ]
  },
  {
   "cell_type": "code",
   "execution_count": 7,
   "id": "16988875",
   "metadata": {
    "execution": {
     "iopub.execute_input": "2023-07-07T09:33:05.853810Z",
     "iopub.status.busy": "2023-07-07T09:33:05.853459Z",
     "iopub.status.idle": "2023-07-07T09:33:05.859753Z",
     "shell.execute_reply": "2023-07-07T09:33:05.858854Z"
    },
    "papermill": {
     "duration": 0.029966,
     "end_time": "2023-07-07T09:33:05.861915",
     "exception": false,
     "start_time": "2023-07-07T09:33:05.831949",
     "status": "completed"
    },
    "tags": []
   },
   "outputs": [
    {
     "data": {
      "text/plain": [
       "(180040, 6)"
      ]
     },
     "execution_count": 7,
     "metadata": {},
     "output_type": "execute_result"
    }
   ],
   "source": [
    "train_df.shape"
   ]
  },
  {
   "cell_type": "code",
   "execution_count": 8,
   "id": "7e3dd27f",
   "metadata": {
    "execution": {
     "iopub.execute_input": "2023-07-07T09:33:05.902848Z",
     "iopub.status.busy": "2023-07-07T09:33:05.902576Z",
     "iopub.status.idle": "2023-07-07T09:33:05.908775Z",
     "shell.execute_reply": "2023-07-07T09:33:05.907774Z"
    },
    "papermill": {
     "duration": 0.028695,
     "end_time": "2023-07-07T09:33:05.910826",
     "exception": false,
     "start_time": "2023-07-07T09:33:05.882131",
     "status": "completed"
    },
    "tags": []
   },
   "outputs": [
    {
     "data": {
      "text/plain": [
       "['BACKGROUND', 'OBJECTIVE', 'METHODS', 'RESULTS', 'CONCLUSIONS']"
      ]
     },
     "execution_count": 8,
     "metadata": {},
     "output_type": "execute_result"
    }
   ],
   "source": [
    "CLASSES = ['BACKGROUND', 'OBJECTIVE', 'METHODS', 'RESULTS', 'CONCLUSIONS']\n",
    "CLASSES"
   ]
  },
  {
   "cell_type": "code",
   "execution_count": 9,
   "id": "b72a494e",
   "metadata": {
    "execution": {
     "iopub.execute_input": "2023-07-07T09:33:05.951445Z",
     "iopub.status.busy": "2023-07-07T09:33:05.951155Z",
     "iopub.status.idle": "2023-07-07T09:33:05.988667Z",
     "shell.execute_reply": "2023-07-07T09:33:05.987722Z"
    },
    "papermill": {
     "duration": 0.060301,
     "end_time": "2023-07-07T09:33:05.990709",
     "exception": false,
     "start_time": "2023-07-07T09:33:05.930408",
     "status": "completed"
    },
    "tags": []
   },
   "outputs": [
    {
     "data": {
      "text/plain": [
       "METHODS        59353\n",
       "RESULTS        57953\n",
       "CONCLUSIONS    27168\n",
       "BACKGROUND     21727\n",
       "OBJECTIVE      13839\n",
       "Name: target, dtype: int64"
      ]
     },
     "execution_count": 9,
     "metadata": {},
     "output_type": "execute_result"
    }
   ],
   "source": [
    "train_tally = train_df['target'].value_counts()\n",
    "train_tally"
   ]
  },
  {
   "cell_type": "code",
   "execution_count": 10,
   "id": "0ee3044b",
   "metadata": {
    "execution": {
     "iopub.execute_input": "2023-07-07T09:33:06.035972Z",
     "iopub.status.busy": "2023-07-07T09:33:06.035679Z",
     "iopub.status.idle": "2023-07-07T09:33:06.382907Z",
     "shell.execute_reply": "2023-07-07T09:33:06.382016Z"
    },
    "papermill": {
     "duration": 0.372294,
     "end_time": "2023-07-07T09:33:06.385022",
     "exception": false,
     "start_time": "2023-07-07T09:33:06.012728",
     "status": "completed"
    },
    "tags": []
   },
   "outputs": [
    {
     "data": {
      "text/plain": [
       "METHODS        0.329666\n",
       "RESULTS        0.321890\n",
       "CONCLUSIONS    0.150900\n",
       "BACKGROUND     0.120679\n",
       "OBJECTIVE      0.076866\n",
       "Name: target, dtype: float64"
      ]
     },
     "execution_count": 10,
     "metadata": {},
     "output_type": "execute_result"
    },
    {
     "data": {
      "image/png": "[encoded data removed]",
      "text/plain": [
       "<Figure size 640x480 with 1 Axes>"
      ]
     },
     "metadata": {},
     "output_type": "display_data"
    }
   ],
   "source": [
    "pd.DataFrame(train_tally/sum(train_tally)).plot(kind='bar')\n",
    "norm_train_tally = train_tally/sum(train_tally)\n",
    "norm_train_tally"
   ]
  },
  {
   "cell_type": "markdown",
   "id": "cdc086ff",
   "metadata": {
    "papermill": {
     "duration": 0.020378,
     "end_time": "2023-07-07T09:33:06.425911",
     "exception": false,
     "start_time": "2023-07-07T09:33:06.405533",
     "status": "completed"
    },
    "tags": []
   },
   "source": [
    "📘 **NOTES**\n",
    "* There are `5` classes for this dataset.\n",
    "* There are `180040` records for the train set. Note that each record is a line on the medical abstract.\n",
    "* This is an *imbalanced* dataset with `2` of the classes comprising `~30%`of the dataset. The least class comprises `~7%` of the dataset."
   ]
  },
  {
   "cell_type": "markdown",
   "id": "9be246f6",
   "metadata": {
    "papermill": {
     "duration": 0.020162,
     "end_time": "2023-07-07T09:33:06.467078",
     "exception": false,
     "start_time": "2023-07-07T09:33:06.446916",
     "status": "completed"
    },
    "tags": []
   },
   "source": [
    "## 2/b] The Validation Set"
   ]
  },
  {
   "cell_type": "code",
   "execution_count": 11,
   "id": "db2dacda",
   "metadata": {
    "execution": {
     "iopub.execute_input": "2023-07-07T09:33:06.509793Z",
     "iopub.status.busy": "2023-07-07T09:33:06.509487Z",
     "iopub.status.idle": "2023-07-07T09:33:06.516021Z",
     "shell.execute_reply": "2023-07-07T09:33:06.514873Z"
    },
    "papermill": {
     "duration": 0.030227,
     "end_time": "2023-07-07T09:33:06.518166",
     "exception": false,
     "start_time": "2023-07-07T09:33:06.487939",
     "status": "completed"
    },
    "tags": []
   },
   "outputs": [
    {
     "data": {
      "text/plain": [
       "(30212, 6)"
      ]
     },
     "execution_count": 11,
     "metadata": {},
     "output_type": "execute_result"
    }
   ],
   "source": [
    "val_df.shape"
   ]
  },
  {
   "cell_type": "code",
   "execution_count": 12,
   "id": "7c4dbec9",
   "metadata": {
    "execution": {
     "iopub.execute_input": "2023-07-07T09:33:06.562691Z",
     "iopub.status.busy": "2023-07-07T09:33:06.561189Z",
     "iopub.status.idle": "2023-07-07T09:33:06.572907Z",
     "shell.execute_reply": "2023-07-07T09:33:06.571878Z"
    },
    "papermill": {
     "duration": 0.03568,
     "end_time": "2023-07-07T09:33:06.575036",
     "exception": false,
     "start_time": "2023-07-07T09:33:06.539356",
     "status": "completed"
    },
    "tags": []
   },
   "outputs": [
    {
     "data": {
      "text/plain": [
       "METHODS        9964\n",
       "RESULTS        9841\n",
       "CONCLUSIONS    4582\n",
       "BACKGROUND     3449\n",
       "OBJECTIVE      2376\n",
       "Name: target, dtype: int64"
      ]
     },
     "execution_count": 12,
     "metadata": {},
     "output_type": "execute_result"
    }
   ],
   "source": [
    "val_tally = val_df['target'].value_counts()\n",
    "val_tally"
   ]
  },
  {
   "cell_type": "code",
   "execution_count": 13,
   "id": "0201c28e",
   "metadata": {
    "execution": {
     "iopub.execute_input": "2023-07-07T09:33:06.619214Z",
     "iopub.status.busy": "2023-07-07T09:33:06.618369Z",
     "iopub.status.idle": "2023-07-07T09:33:06.895808Z",
     "shell.execute_reply": "2023-07-07T09:33:06.894950Z"
    },
    "papermill": {
     "duration": 0.301583,
     "end_time": "2023-07-07T09:33:06.897824",
     "exception": false,
     "start_time": "2023-07-07T09:33:06.596241",
     "status": "completed"
    },
    "tags": []
   },
   "outputs": [
    {
     "data": {
      "text/plain": [
       "METHODS        0.329803\n",
       "RESULTS        0.325731\n",
       "CONCLUSIONS    0.151662\n",
       "BACKGROUND     0.114160\n",
       "OBJECTIVE      0.078644\n",
       "Name: target, dtype: float64"
      ]
     },
     "execution_count": 13,
     "metadata": {},
     "output_type": "execute_result"
    },
    {
     "data": {
      "image/png": "[encoded data removed]",
      "text/plain": [
       "<Figure size 640x480 with 1 Axes>"
      ]
     },
     "metadata": {},
     "output_type": "display_data"
    }
   ],
   "source": [
    "pd.DataFrame(val_tally/sum(val_tally)).plot(kind='bar')\n",
    "norm_val_tally = val_tally/sum(val_tally)\n",
    "norm_val_tally"
   ]
  },
  {
   "cell_type": "markdown",
   "id": "fff3526a",
   "metadata": {
    "papermill": {
     "duration": 0.021448,
     "end_time": "2023-07-07T09:33:06.940526",
     "exception": false,
     "start_time": "2023-07-07T09:33:06.919078",
     "status": "completed"
    },
    "tags": []
   },
   "source": [
    "## 2/c] The Test Set"
   ]
  },
  {
   "cell_type": "code",
   "execution_count": 14,
   "id": "276059ca",
   "metadata": {
    "execution": {
     "iopub.execute_input": "2023-07-07T09:33:06.985114Z",
     "iopub.status.busy": "2023-07-07T09:33:06.984167Z",
     "iopub.status.idle": "2023-07-07T09:33:06.990689Z",
     "shell.execute_reply": "2023-07-07T09:33:06.989673Z"
    },
    "papermill": {
     "duration": 0.03088,
     "end_time": "2023-07-07T09:33:06.992809",
     "exception": false,
     "start_time": "2023-07-07T09:33:06.961929",
     "status": "completed"
    },
    "tags": []
   },
   "outputs": [
    {
     "data": {
      "text/plain": [
       "(30135, 6)"
      ]
     },
     "execution_count": 14,
     "metadata": {},
     "output_type": "execute_result"
    }
   ],
   "source": [
    "test_df.shape"
   ]
  },
  {
   "cell_type": "code",
   "execution_count": 15,
   "id": "d6033c6d",
   "metadata": {
    "execution": {
     "iopub.execute_input": "2023-07-07T09:33:07.041939Z",
     "iopub.status.busy": "2023-07-07T09:33:07.041093Z",
     "iopub.status.idle": "2023-07-07T09:33:07.052494Z",
     "shell.execute_reply": "2023-07-07T09:33:07.051397Z"
    },
    "papermill": {
     "duration": 0.039096,
     "end_time": "2023-07-07T09:33:07.055293",
     "exception": false,
     "start_time": "2023-07-07T09:33:07.016197",
     "status": "completed"
    },
    "tags": []
   },
   "outputs": [
    {
     "data": {
      "text/plain": [
       "METHODS        9897\n",
       "RESULTS        9713\n",
       "CONCLUSIONS    4571\n",
       "BACKGROUND     3621\n",
       "OBJECTIVE      2333\n",
       "Name: target, dtype: int64"
      ]
     },
     "execution_count": 15,
     "metadata": {},
     "output_type": "execute_result"
    }
   ],
   "source": [
    "test_tally = test_df['target'].value_counts()\n",
    "test_tally"
   ]
  },
  {
   "cell_type": "code",
   "execution_count": 16,
   "id": "1cf33d71",
   "metadata": {
    "execution": {
     "iopub.execute_input": "2023-07-07T09:33:07.099708Z",
     "iopub.status.busy": "2023-07-07T09:33:07.099451Z",
     "iopub.status.idle": "2023-07-07T09:33:07.595990Z",
     "shell.execute_reply": "2023-07-07T09:33:07.595020Z"
    },
    "papermill": {
     "duration": 0.520863,
     "end_time": "2023-07-07T09:33:07.598193",
     "exception": false,
     "start_time": "2023-07-07T09:33:07.077330",
     "status": "completed"
    },
    "tags": []
   },
   "outputs": [
    {
     "data": {
      "text/plain": [
       "METHODS        0.328422\n",
       "RESULTS        0.322316\n",
       "CONCLUSIONS    0.151684\n",
       "BACKGROUND     0.120159\n",
       "OBJECTIVE      0.077418\n",
       "Name: target, dtype: float64"
      ]
     },
     "execution_count": 16,
     "metadata": {},
     "output_type": "execute_result"
    },
    {
     "data": {
      "image/png": "[encoded data removed]",
      "text/plain": [
       "<Figure size 640x480 with 1 Axes>"
      ]
     },
     "metadata": {},
     "output_type": "display_data"
    }
   ],
   "source": [
    "pd.DataFrame(test_tally).plot(kind='bar')\n",
    "norm_test_tally = test_tally/sum(test_tally)\n",
    "norm_test_tally"
   ]
  },
  {
   "cell_type": "markdown",
   "id": "834fe071",
   "metadata": {
    "papermill": {
     "duration": 0.021998,
     "end_time": "2023-07-07T09:33:07.643306",
     "exception": false,
     "start_time": "2023-07-07T09:33:07.621308",
     "status": "completed"
    },
    "tags": []
   },
   "source": [
    "## 2/d] Compare class distributions of the different datasets"
   ]
  },
  {
   "cell_type": "code",
   "execution_count": 17,
   "id": "633cc843",
   "metadata": {
    "execution": {
     "iopub.execute_input": "2023-07-07T09:33:07.688970Z",
     "iopub.status.busy": "2023-07-07T09:33:07.688284Z",
     "iopub.status.idle": "2023-07-07T09:33:08.002037Z",
     "shell.execute_reply": "2023-07-07T09:33:08.000973Z"
    },
    "papermill": {
     "duration": 0.338746,
     "end_time": "2023-07-07T09:33:08.004177",
     "exception": false,
     "start_time": "2023-07-07T09:33:07.665431",
     "status": "completed"
    },
    "tags": []
   },
   "outputs": [
    {
     "data": {
      "text/plain": [
       "<Axes: >"
      ]
     },
     "execution_count": 17,
     "metadata": {},
     "output_type": "execute_result"
    },
    {
     "data": {
      "image/png": "[encoded data removed]",
      "text/plain": [
       "<Figure size 640x480 with 1 Axes>"
      ]
     },
     "metadata": {},
     "output_type": "display_data"
    }
   ],
   "source": [
    "pd.DataFrame(zip(norm_train_tally, norm_val_tally, norm_test_tally), columns=['train', 'validation','test']).plot(kind='bar')"
   ]
  },
  {
   "cell_type": "markdown",
   "id": "21a72317",
   "metadata": {
    "papermill": {
     "duration": 0.022115,
     "end_time": "2023-07-07T09:33:08.052884",
     "exception": false,
     "start_time": "2023-07-07T09:33:08.030769",
     "status": "completed"
    },
    "tags": []
   },
   "source": [
    "📘 **NOTES**\n",
    "* The distribution ofthe classes between `train`, `validation`, and `test` sets are quite similar. Nice stratification!\n"
   ]
  },
  {
   "cell_type": "markdown",
   "id": "178c996e",
   "metadata": {
    "papermill": {
     "duration": 0.021574,
     "end_time": "2023-07-07T09:33:08.096166",
     "exception": false,
     "start_time": "2023-07-07T09:33:08.074592",
     "status": "completed"
    },
    "tags": []
   },
   "source": [
    "# 3] Modelling\n",
    "\n",
    "* **Model 0 (baseline):** Multinomial Naive Bayes\n"
   ]
  },
  {
   "cell_type": "markdown",
   "id": "a0d9a448",
   "metadata": {
    "papermill": {
     "duration": 0.021525,
     "end_time": "2023-07-07T09:33:08.139727",
     "exception": false,
     "start_time": "2023-07-07T09:33:08.118202",
     "status": "completed"
    },
    "tags": []
   },
   "source": [
    "## 3/a] Preprocessing the dataset"
   ]
  },
  {
   "cell_type": "code",
   "execution_count": 18,
   "id": "24f04b08",
   "metadata": {
    "execution": {
     "iopub.execute_input": "2023-07-07T09:33:08.185226Z",
     "iopub.status.busy": "2023-07-07T09:33:08.184870Z",
     "iopub.status.idle": "2023-07-07T09:33:08.189460Z",
     "shell.execute_reply": "2023-07-07T09:33:08.188528Z"
    },
    "papermill": {
     "duration": 0.030043,
     "end_time": "2023-07-07T09:33:08.191590",
     "exception": false,
     "start_time": "2023-07-07T09:33:08.161547",
     "status": "completed"
    },
    "tags": []
   },
   "outputs": [],
   "source": [
    "def features_class_split(dataset):\n",
    "    return dataset['abstract_text'], dataset['target']"
   ]
  },
  {
   "cell_type": "code",
   "execution_count": 19,
   "id": "7bd873c4",
   "metadata": {
    "execution": {
     "iopub.execute_input": "2023-07-07T09:33:08.236313Z",
     "iopub.status.busy": "2023-07-07T09:33:08.235997Z",
     "iopub.status.idle": "2023-07-07T09:33:08.242460Z",
     "shell.execute_reply": "2023-07-07T09:33:08.241520Z"
    },
    "papermill": {
     "duration": 0.031355,
     "end_time": "2023-07-07T09:33:08.244606",
     "exception": false,
     "start_time": "2023-07-07T09:33:08.213251",
     "status": "completed"
    },
    "tags": []
   },
   "outputs": [
    {
     "data": {
      "text/plain": [
       "((180040,), (180040,))"
      ]
     },
     "execution_count": 19,
     "metadata": {},
     "output_type": "execute_result"
    }
   ],
   "source": [
    "X_train, y_train = features_class_split(train_df)\n",
    "X_train.shape, y_train.shape"
   ]
  },
  {
   "cell_type": "code",
   "execution_count": 20,
   "id": "ff764b13",
   "metadata": {
    "execution": {
     "iopub.execute_input": "2023-07-07T09:33:08.289963Z",
     "iopub.status.busy": "2023-07-07T09:33:08.289665Z",
     "iopub.status.idle": "2023-07-07T09:33:08.298316Z",
     "shell.execute_reply": "2023-07-07T09:33:08.297412Z"
    },
    "papermill": {
     "duration": 0.034018,
     "end_time": "2023-07-07T09:33:08.300619",
     "exception": false,
     "start_time": "2023-07-07T09:33:08.266601",
     "status": "completed"
    },
    "tags": []
   },
   "outputs": [
    {
     "data": {
      "text/plain": [
       "0         To investigate the efficacy of 6 weeks of dail...\n",
       "1         A total of 125 patients with primary knee OA w...\n",
       "2         Outcome measures included pain reduction and i...\n",
       "3         Pain was assessed using the visual analog pain...\n",
       "4         Secondary outcome measures included the Wester...\n",
       "                                ...                        \n",
       "180035    For the absolute change in percent atheroma vo...\n",
       "180036    For PAV , a significantly greater percentage o...\n",
       "180037    Both strategies had acceptable side effect pro...\n",
       "180038    Compared with standard statin monotherapy , th...\n",
       "180039    ( Plaque Regression With Cholesterol Absorptio...\n",
       "Name: abstract_text, Length: 180040, dtype: object"
      ]
     },
     "execution_count": 20,
     "metadata": {},
     "output_type": "execute_result"
    }
   ],
   "source": [
    "X_train"
   ]
  },
  {
   "cell_type": "code",
   "execution_count": 21,
   "id": "9a9e3233",
   "metadata": {
    "execution": {
     "iopub.execute_input": "2023-07-07T09:33:08.346983Z",
     "iopub.status.busy": "2023-07-07T09:33:08.346255Z",
     "iopub.status.idle": "2023-07-07T09:33:08.353537Z",
     "shell.execute_reply": "2023-07-07T09:33:08.352594Z"
    },
    "papermill": {
     "duration": 0.032169,
     "end_time": "2023-07-07T09:33:08.355440",
     "exception": false,
     "start_time": "2023-07-07T09:33:08.323271",
     "status": "completed"
    },
    "tags": []
   },
   "outputs": [
    {
     "data": {
      "text/plain": [
       "0           OBJECTIVE\n",
       "1             METHODS\n",
       "2             METHODS\n",
       "3             METHODS\n",
       "4             METHODS\n",
       "             ...     \n",
       "180035        RESULTS\n",
       "180036        RESULTS\n",
       "180037        RESULTS\n",
       "180038    CONCLUSIONS\n",
       "180039    CONCLUSIONS\n",
       "Name: target, Length: 180040, dtype: object"
      ]
     },
     "execution_count": 21,
     "metadata": {},
     "output_type": "execute_result"
    }
   ],
   "source": [
    "y_train"
   ]
  },
  {
   "cell_type": "code",
   "execution_count": 22,
   "id": "00fc99e7",
   "metadata": {
    "execution": {
     "iopub.execute_input": "2023-07-07T09:33:08.402754Z",
     "iopub.status.busy": "2023-07-07T09:33:08.402472Z",
     "iopub.status.idle": "2023-07-07T09:33:08.408389Z",
     "shell.execute_reply": "2023-07-07T09:33:08.407542Z"
    },
    "papermill": {
     "duration": 0.031409,
     "end_time": "2023-07-07T09:33:08.410279",
     "exception": false,
     "start_time": "2023-07-07T09:33:08.378870",
     "status": "completed"
    },
    "tags": []
   },
   "outputs": [
    {
     "data": {
      "text/plain": [
       "((30212,), (30212,))"
      ]
     },
     "execution_count": 22,
     "metadata": {},
     "output_type": "execute_result"
    }
   ],
   "source": [
    "X_val, y_val = features_class_split(val_df)\n",
    "X_val.shape, y_val.shape"
   ]
  },
  {
   "cell_type": "code",
   "execution_count": 23,
   "id": "0ff38b3b",
   "metadata": {
    "execution": {
     "iopub.execute_input": "2023-07-07T09:33:08.457918Z",
     "iopub.status.busy": "2023-07-07T09:33:08.457653Z",
     "iopub.status.idle": "2023-07-07T09:33:08.463773Z",
     "shell.execute_reply": "2023-07-07T09:33:08.462919Z"
    },
    "papermill": {
     "duration": 0.032124,
     "end_time": "2023-07-07T09:33:08.465683",
     "exception": false,
     "start_time": "2023-07-07T09:33:08.433559",
     "status": "completed"
    },
    "tags": []
   },
   "outputs": [
    {
     "data": {
      "text/plain": [
       "((30135,), (30135,))"
      ]
     },
     "execution_count": 23,
     "metadata": {},
     "output_type": "execute_result"
    }
   ],
   "source": [
    "X_test, y_test = features_class_split(test_df)\n",
    "X_test.shape, y_test.shape"
   ]
  },
  {
   "cell_type": "markdown",
   "id": "451179ff",
   "metadata": {
    "papermill": {
     "duration": 0.022996,
     "end_time": "2023-07-07T09:33:08.511975",
     "exception": false,
     "start_time": "2023-07-07T09:33:08.488979",
     "status": "completed"
    },
    "tags": []
   },
   "source": [
    "## 3/b] **Model 0 (baseline):** Multinomial Naive Bayes"
   ]
  },
  {
   "cell_type": "markdown",
   "id": "16efb537",
   "metadata": {
    "papermill": {
     "duration": 0.022286,
     "end_time": "2023-07-07T09:33:08.557013",
     "exception": false,
     "start_time": "2023-07-07T09:33:08.534727",
     "status": "completed"
    },
    "tags": []
   },
   "source": [
    "### The Vectorizer"
   ]
  },
  {
   "cell_type": "code",
   "execution_count": 24,
   "id": "5a710d15",
   "metadata": {
    "execution": {
     "iopub.execute_input": "2023-07-07T09:33:08.604416Z",
     "iopub.status.busy": "2023-07-07T09:33:08.603585Z",
     "iopub.status.idle": "2023-07-07T09:33:15.197555Z",
     "shell.execute_reply": "2023-07-07T09:33:15.196631Z"
    },
    "papermill": {
     "duration": 6.619946,
     "end_time": "2023-07-07T09:33:15.199781",
     "exception": false,
     "start_time": "2023-07-07T09:33:08.579835",
     "status": "completed"
    },
    "tags": []
   },
   "outputs": [
    {
     "data": {
      "text/plain": [
       "(180040, 57996)"
      ]
     },
     "execution_count": 24,
     "metadata": {},
     "output_type": "execute_result"
    }
   ],
   "source": [
    "from sklearn.feature_extraction.text import TfidfVectorizer\n",
    "\n",
    "vectorizer = TfidfVectorizer()\n",
    "results = vectorizer.fit_transform(X_train)\n",
    "results.shape"
   ]
  },
  {
   "cell_type": "code",
   "execution_count": 25,
   "id": "a2d385a7",
   "metadata": {
    "execution": {
     "iopub.execute_input": "2023-07-07T09:33:15.247516Z",
     "iopub.status.busy": "2023-07-07T09:33:15.246881Z",
     "iopub.status.idle": "2023-07-07T09:33:15.291665Z",
     "shell.execute_reply": "2023-07-07T09:33:15.290732Z"
    },
    "papermill": {
     "duration": 0.070557,
     "end_time": "2023-07-07T09:33:15.293686",
     "exception": false,
     "start_time": "2023-07-07T09:33:15.223129",
     "status": "completed"
    },
    "tags": []
   },
   "outputs": [
    {
     "data": {
      "text/plain": [
       "array(['00', '000', '0000', ..., 'zygomaticotemporal', 'zygote',\n",
       "       'zygotes'], dtype=object)"
      ]
     },
     "execution_count": 25,
     "metadata": {},
     "output_type": "execute_result"
    }
   ],
   "source": [
    "vocabulary = vectorizer.get_feature_names_out()\n",
    "vocabulary"
   ]
  },
  {
   "cell_type": "code",
   "execution_count": 26,
   "id": "a9b25155",
   "metadata": {
    "execution": {
     "iopub.execute_input": "2023-07-07T09:33:15.342927Z",
     "iopub.status.busy": "2023-07-07T09:33:15.342020Z",
     "iopub.status.idle": "2023-07-07T09:33:15.348484Z",
     "shell.execute_reply": "2023-07-07T09:33:15.347550Z"
    },
    "papermill": {
     "duration": 0.03341,
     "end_time": "2023-07-07T09:33:15.350575",
     "exception": false,
     "start_time": "2023-07-07T09:33:15.317165",
     "status": "completed"
    },
    "tags": []
   },
   "outputs": [
    {
     "data": {
      "text/plain": [
       "57996"
      ]
     },
     "execution_count": 26,
     "metadata": {},
     "output_type": "execute_result"
    }
   ],
   "source": [
    "len(vocabulary)"
   ]
  },
  {
   "cell_type": "code",
   "execution_count": 27,
   "id": "7efd4fdc",
   "metadata": {
    "execution": {
     "iopub.execute_input": "2023-07-07T09:33:15.398164Z",
     "iopub.status.busy": "2023-07-07T09:33:15.397388Z",
     "iopub.status.idle": "2023-07-07T09:33:15.428367Z",
     "shell.execute_reply": "2023-07-07T09:33:15.427498Z"
    },
    "papermill": {
     "duration": 0.057022,
     "end_time": "2023-07-07T09:33:15.430379",
     "exception": false,
     "start_time": "2023-07-07T09:33:15.373357",
     "status": "completed"
    },
    "tags": []
   },
   "outputs": [
    {
     "data": {
      "text/html": [
       "<style>#sk-container-id-1 {color: black;background-color: white;}#sk-container-id-1 pre{padding: 0;}#sk-container-id-1 div.sk-toggleable {background-color: white;}#sk-container-id-1 label.sk-toggleable__label {cursor: pointer;display: block;width: 100%;margin-bottom: 0;padding: 0.3em;box-sizing: border-box;text-align: center;}#sk-container-id-1 label.sk-toggleable__label-arrow:before {content: \"▸\";float: left;margin-right: 0.25em;color: #696969;}#sk-container-id-1 label.sk-toggleable__label-arrow:hover:before {color: black;}#sk-container-id-1 div.sk-estimator:hover label.sk-toggleable__label-arrow:before {color: black;}#sk-container-id-1 div.sk-toggleable__content {max-height: 0;max-width: 0;overflow: hidden;text-align: left;background-color: #f0f8ff;}#sk-container-id-1 div.sk-toggleable__content pre {margin: 0.2em;color: black;border-radius: 0.25em;background-color: #f0f8ff;}#sk-container-id-1 input.sk-toggleable__control:checked~div.sk-toggleable__content {max-height: 200px;max-width: 100%;overflow: auto;}#sk-container-id-1 input.sk-toggleable__control:checked~label.sk-toggleable__label-arrow:before {content: \"▾\";}#sk-container-id-1 div.sk-estimator input.sk-toggleable__control:checked~label.sk-toggleable__label {background-color: #d4ebff;}#sk-container-id-1 div.sk-label input.sk-toggleable__control:checked~label.sk-toggleable__label {background-color: #d4ebff;}#sk-container-id-1 input.sk-hidden--visually {border: 0;clip: rect(1px 1px 1px 1px);clip: rect(1px, 1px, 1px, 1px);height: 1px;margin: -1px;overflow: hidden;padding: 0;position: absolute;width: 1px;}#sk-container-id-1 div.sk-estimator {font-family: monospace;background-color: #f0f8ff;border: 1px dotted black;border-radius: 0.25em;box-sizing: border-box;margin-bottom: 0.5em;}#sk-container-id-1 div.sk-estimator:hover {background-color: #d4ebff;}#sk-container-id-1 div.sk-parallel-item::after {content: \"\";width: 100%;border-bottom: 1px solid gray;flex-grow: 1;}#sk-container-id-1 div.sk-label:hover label.sk-toggleable__label {background-color: #d4ebff;}#sk-container-id-1 div.sk-serial::before {content: \"\";position: absolute;border-left: 1px solid gray;box-sizing: border-box;top: 0;bottom: 0;left: 50%;z-index: 0;}#sk-container-id-1 div.sk-serial {display: flex;flex-direction: column;align-items: center;background-color: white;padding-right: 0.2em;padding-left: 0.2em;position: relative;}#sk-container-id-1 div.sk-item {position: relative;z-index: 1;}#sk-container-id-1 div.sk-parallel {display: flex;align-items: stretch;justify-content: center;background-color: white;position: relative;}#sk-container-id-1 div.sk-item::before, #sk-container-id-1 div.sk-parallel-item::before {content: \"\";position: absolute;border-left: 1px solid gray;box-sizing: border-box;top: 0;bottom: 0;left: 50%;z-index: -1;}#sk-container-id-1 div.sk-parallel-item {display: flex;flex-direction: column;z-index: 1;position: relative;background-color: white;}#sk-container-id-1 div.sk-parallel-item:first-child::after {align-self: flex-end;width: 50%;}#sk-container-id-1 div.sk-parallel-item:last-child::after {align-self: flex-start;width: 50%;}#sk-container-id-1 div.sk-parallel-item:only-child::after {width: 0;}#sk-container-id-1 div.sk-dashed-wrapped {border: 1px dashed gray;margin: 0 0.4em 0.5em 0.4em;box-sizing: border-box;padding-bottom: 0.4em;background-color: white;}#sk-container-id-1 div.sk-label label {font-family: monospace;font-weight: bold;display: inline-block;line-height: 1.2em;}#sk-container-id-1 div.sk-label-container {text-align: center;}#sk-container-id-1 div.sk-container {/* jupyter's `normalize.less` sets `[hidden] { display: none; }` but bootstrap.min.css set `[hidden] { display: none !important; }` so we also need the `!important` here to be able to override the default hidden behavior on the sphinx rendered scikit-learn.org. See: https://github.com/scikit-learn/scikit-learn/issues/21755 */display: inline-block !important;position: relative;}#sk-container-id-1 div.sk-text-repr-fallback {display: none;}</style><div id=\"sk-container-id-1\" class=\"sk-top-container\"><div class=\"sk-text-repr-fallback\"><pre>Pipeline(steps=[(&#x27;vectorizer&#x27;, TfidfVectorizer()), (&#x27;clf&#x27;, MultinomialNB())])</pre><b>In a Jupyter environment, please rerun this cell to show the HTML representation or trust the notebook. <br />On GitHub, the HTML representation is unable to render, please try loading this page with nbviewer.org.</b></div><div class=\"sk-container\" hidden><div class=\"sk-item sk-dashed-wrapped\"><div class=\"sk-label-container\"><div class=\"sk-label sk-toggleable\"><input class=\"sk-toggleable__control sk-hidden--visually\" id=\"sk-estimator-id-1\" type=\"checkbox\" ><label for=\"sk-estimator-id-1\" class=\"sk-toggleable__label sk-toggleable__label-arrow\">Pipeline</label><div class=\"sk-toggleable__content\"><pre>Pipeline(steps=[(&#x27;vectorizer&#x27;, TfidfVectorizer()), (&#x27;clf&#x27;, MultinomialNB())])</pre></div></div></div><div class=\"sk-serial\"><div class=\"sk-item\"><div class=\"sk-estimator sk-toggleable\"><input class=\"sk-toggleable__control sk-hidden--visually\" id=\"sk-estimator-id-2\" type=\"checkbox\" ><label for=\"sk-estimator-id-2\" class=\"sk-toggleable__label sk-toggleable__label-arrow\">TfidfVectorizer</label><div class=\"sk-toggleable__content\"><pre>TfidfVectorizer()</pre></div></div></div><div class=\"sk-item\"><div class=\"sk-estimator sk-toggleable\"><input class=\"sk-toggleable__control sk-hidden--visually\" id=\"sk-estimator-id-3\" type=\"checkbox\" ><label for=\"sk-estimator-id-3\" class=\"sk-toggleable__label sk-toggleable__label-arrow\">MultinomialNB</label><div class=\"sk-toggleable__content\"><pre>MultinomialNB()</pre></div></div></div></div></div></div></div>"
      ],
      "text/plain": [
       "Pipeline(steps=[('vectorizer', TfidfVectorizer()), ('clf', MultinomialNB())])"
      ]
     },
     "execution_count": 27,
     "metadata": {},
     "output_type": "execute_result"
    }
   ],
   "source": [
    "from sklearn.naive_bayes import MultinomialNB\n",
    "from sklearn.feature_extraction.text import TfidfVectorizer\n",
    "from sklearn.pipeline import Pipeline\n",
    "\n",
    "def build_model_0():\n",
    "    return Pipeline([\n",
    "        ('vectorizer', TfidfVectorizer()),\n",
    "        ('clf', MultinomialNB())\n",
    "    ])\n",
    "    \n",
    "\n",
    "model_0 = build_model_0()\n",
    "model_0"
   ]
  },
  {
   "cell_type": "code",
   "execution_count": 28,
   "id": "a2d892d7",
   "metadata": {
    "execution": {
     "iopub.execute_input": "2023-07-07T09:33:15.478906Z",
     "iopub.status.busy": "2023-07-07T09:33:15.478133Z",
     "iopub.status.idle": "2023-07-07T09:33:21.757754Z",
     "shell.execute_reply": "2023-07-07T09:33:21.756802Z"
    },
    "papermill": {
     "duration": 6.306149,
     "end_time": "2023-07-07T09:33:21.759846",
     "exception": false,
     "start_time": "2023-07-07T09:33:15.453697",
     "status": "completed"
    },
    "tags": []
   },
   "outputs": [
    {
     "data": {
      "text/html": [
       "<style>#sk-container-id-2 {color: black;background-color: white;}#sk-container-id-2 pre{padding: 0;}#sk-container-id-2 div.sk-toggleable {background-color: white;}#sk-container-id-2 label.sk-toggleable__label {cursor: pointer;display: block;width: 100%;margin-bottom: 0;padding: 0.3em;box-sizing: border-box;text-align: center;}#sk-container-id-2 label.sk-toggleable__label-arrow:before {content: \"▸\";float: left;margin-right: 0.25em;color: #696969;}#sk-container-id-2 label.sk-toggleable__label-arrow:hover:before {color: black;}#sk-container-id-2 div.sk-estimator:hover label.sk-toggleable__label-arrow:before {color: black;}#sk-container-id-2 div.sk-toggleable__content {max-height: 0;max-width: 0;overflow: hidden;text-align: left;background-color: #f0f8ff;}#sk-container-id-2 div.sk-toggleable__content pre {margin: 0.2em;color: black;border-radius: 0.25em;background-color: #f0f8ff;}#sk-container-id-2 input.sk-toggleable__control:checked~div.sk-toggleable__content {max-height: 200px;max-width: 100%;overflow: auto;}#sk-container-id-2 input.sk-toggleable__control:checked~label.sk-toggleable__label-arrow:before {content: \"▾\";}#sk-container-id-2 div.sk-estimator input.sk-toggleable__control:checked~label.sk-toggleable__label {background-color: #d4ebff;}#sk-container-id-2 div.sk-label input.sk-toggleable__control:checked~label.sk-toggleable__label {background-color: #d4ebff;}#sk-container-id-2 input.sk-hidden--visually {border: 0;clip: rect(1px 1px 1px 1px);clip: rect(1px, 1px, 1px, 1px);height: 1px;margin: -1px;overflow: hidden;padding: 0;position: absolute;width: 1px;}#sk-container-id-2 div.sk-estimator {font-family: monospace;background-color: #f0f8ff;border: 1px dotted black;border-radius: 0.25em;box-sizing: border-box;margin-bottom: 0.5em;}#sk-container-id-2 div.sk-estimator:hover {background-color: #d4ebff;}#sk-container-id-2 div.sk-parallel-item::after {content: \"\";width: 100%;border-bottom: 1px solid gray;flex-grow: 1;}#sk-container-id-2 div.sk-label:hover label.sk-toggleable__label {background-color: #d4ebff;}#sk-container-id-2 div.sk-serial::before {content: \"\";position: absolute;border-left: 1px solid gray;box-sizing: border-box;top: 0;bottom: 0;left: 50%;z-index: 0;}#sk-container-id-2 div.sk-serial {display: flex;flex-direction: column;align-items: center;background-color: white;padding-right: 0.2em;padding-left: 0.2em;position: relative;}#sk-container-id-2 div.sk-item {position: relative;z-index: 1;}#sk-container-id-2 div.sk-parallel {display: flex;align-items: stretch;justify-content: center;background-color: white;position: relative;}#sk-container-id-2 div.sk-item::before, #sk-container-id-2 div.sk-parallel-item::before {content: \"\";position: absolute;border-left: 1px solid gray;box-sizing: border-box;top: 0;bottom: 0;left: 50%;z-index: -1;}#sk-container-id-2 div.sk-parallel-item {display: flex;flex-direction: column;z-index: 1;position: relative;background-color: white;}#sk-container-id-2 div.sk-parallel-item:first-child::after {align-self: flex-end;width: 50%;}#sk-container-id-2 div.sk-parallel-item:last-child::after {align-self: flex-start;width: 50%;}#sk-container-id-2 div.sk-parallel-item:only-child::after {width: 0;}#sk-container-id-2 div.sk-dashed-wrapped {border: 1px dashed gray;margin: 0 0.4em 0.5em 0.4em;box-sizing: border-box;padding-bottom: 0.4em;background-color: white;}#sk-container-id-2 div.sk-label label {font-family: monospace;font-weight: bold;display: inline-block;line-height: 1.2em;}#sk-container-id-2 div.sk-label-container {text-align: center;}#sk-container-id-2 div.sk-container {/* jupyter's `normalize.less` sets `[hidden] { display: none; }` but bootstrap.min.css set `[hidden] { display: none !important; }` so we also need the `!important` here to be able to override the default hidden behavior on the sphinx rendered scikit-learn.org. See: https://github.com/scikit-learn/scikit-learn/issues/21755 */display: inline-block !important;position: relative;}#sk-container-id-2 div.sk-text-repr-fallback {display: none;}</style><div id=\"sk-container-id-2\" class=\"sk-top-container\"><div class=\"sk-text-repr-fallback\"><pre>Pipeline(steps=[(&#x27;vectorizer&#x27;, TfidfVectorizer()), (&#x27;clf&#x27;, MultinomialNB())])</pre><b>In a Jupyter environment, please rerun this cell to show the HTML representation or trust the notebook. <br />On GitHub, the HTML representation is unable to render, please try loading this page with nbviewer.org.</b></div><div class=\"sk-container\" hidden><div class=\"sk-item sk-dashed-wrapped\"><div class=\"sk-label-container\"><div class=\"sk-label sk-toggleable\"><input class=\"sk-toggleable__control sk-hidden--visually\" id=\"sk-estimator-id-4\" type=\"checkbox\" ><label for=\"sk-estimator-id-4\" class=\"sk-toggleable__label sk-toggleable__label-arrow\">Pipeline</label><div class=\"sk-toggleable__content\"><pre>Pipeline(steps=[(&#x27;vectorizer&#x27;, TfidfVectorizer()), (&#x27;clf&#x27;, MultinomialNB())])</pre></div></div></div><div class=\"sk-serial\"><div class=\"sk-item\"><div class=\"sk-estimator sk-toggleable\"><input class=\"sk-toggleable__control sk-hidden--visually\" id=\"sk-estimator-id-5\" type=\"checkbox\" ><label for=\"sk-estimator-id-5\" class=\"sk-toggleable__label sk-toggleable__label-arrow\">TfidfVectorizer</label><div class=\"sk-toggleable__content\"><pre>TfidfVectorizer()</pre></div></div></div><div class=\"sk-item\"><div class=\"sk-estimator sk-toggleable\"><input class=\"sk-toggleable__control sk-hidden--visually\" id=\"sk-estimator-id-6\" type=\"checkbox\" ><label for=\"sk-estimator-id-6\" class=\"sk-toggleable__label sk-toggleable__label-arrow\">MultinomialNB</label><div class=\"sk-toggleable__content\"><pre>MultinomialNB()</pre></div></div></div></div></div></div></div>"
      ],
      "text/plain": [
       "Pipeline(steps=[('vectorizer', TfidfVectorizer()), ('clf', MultinomialNB())])"
      ]
     },
     "execution_count": 28,
     "metadata": {},
     "output_type": "execute_result"
    }
   ],
   "source": [
    "model_0.fit(X_train, y_train)"
   ]
  },
  {
   "cell_type": "code",
   "execution_count": 29,
   "id": "f90254d5",
   "metadata": {
    "execution": {
     "iopub.execute_input": "2023-07-07T09:33:21.810153Z",
     "iopub.status.busy": "2023-07-07T09:33:21.809821Z",
     "iopub.status.idle": "2023-07-07T09:33:22.668897Z",
     "shell.execute_reply": "2023-07-07T09:33:22.667927Z"
    },
    "papermill": {
     "duration": 0.886119,
     "end_time": "2023-07-07T09:33:22.671090",
     "exception": false,
     "start_time": "2023-07-07T09:33:21.784971",
     "status": "completed"
    },
    "tags": []
   },
   "outputs": [
    {
     "data": {
      "text/plain": [
       "((30212,),\n",
       " array(['BACKGROUND', 'CONCLUSIONS', 'OBJECTIVE', 'METHODS', 'METHODS'],\n",
       "       dtype='<U11'))"
      ]
     },
     "execution_count": 29,
     "metadata": {},
     "output_type": "execute_result"
    }
   ],
   "source": [
    "model_0_predictions = model_0.predict(X_val)\n",
    "\n",
    "model_0_predictions.shape, model_0_predictions[:5]"
   ]
  },
  {
   "cell_type": "code",
   "execution_count": 30,
   "id": "8ceff10f",
   "metadata": {
    "execution": {
     "iopub.execute_input": "2023-07-07T09:33:22.720619Z",
     "iopub.status.busy": "2023-07-07T09:33:22.719697Z",
     "iopub.status.idle": "2023-07-07T09:33:23.113969Z",
     "shell.execute_reply": "2023-07-07T09:33:23.112948Z"
    },
    "papermill": {
     "duration": 0.42136,
     "end_time": "2023-07-07T09:33:23.116351",
     "exception": false,
     "start_time": "2023-07-07T09:33:22.694991",
     "status": "completed"
    },
    "tags": []
   },
   "outputs": [
    {
     "data": {
      "text/plain": [
       "{'precision': 0.7315166696974572,\n",
       " 'recall': 0.7317291142592347,\n",
       " 'f1': 0.7058060715307974}"
      ]
     },
     "execution_count": 30,
     "metadata": {},
     "output_type": "execute_result"
    }
   ],
   "source": [
    "from sklearn.metrics import precision_recall_fscore_support\n",
    "\n",
    "def score_predictions(y_true, y_predictions):\n",
    "    precision, recall, f1, _ = precision_recall_fscore_support(y_true, y_predictions, labels=CLASSES, average='weighted')\n",
    "    return {\n",
    "        'precision': precision,\n",
    "        'recall': recall,\n",
    "        'f1': f1\n",
    "    }\n",
    "\n",
    "score_predictions(y_val, model_0_predictions)"
   ]
  },
  {
   "cell_type": "code",
   "execution_count": 31,
   "id": "9b8215a4",
   "metadata": {
    "execution": {
     "iopub.execute_input": "2023-07-07T09:33:23.168676Z",
     "iopub.status.busy": "2023-07-07T09:33:23.167732Z",
     "iopub.status.idle": "2023-07-07T09:33:23.182435Z",
     "shell.execute_reply": "2023-07-07T09:33:23.181450Z"
    },
    "papermill": {
     "duration": 0.04153,
     "end_time": "2023-07-07T09:33:23.184612",
     "exception": false,
     "start_time": "2023-07-07T09:33:23.143082",
     "status": "completed"
    },
    "tags": []
   },
   "outputs": [
    {
     "data": {
      "text/html": [
       "<div>\n",
       "<style scoped>\n",
       "    .dataframe tbody tr th:only-of-type {\n",
       "        vertical-align: middle;\n",
       "    }\n",
       "\n",
       "    .dataframe tbody tr th {\n",
       "        vertical-align: top;\n",
       "    }\n",
       "\n",
       "    .dataframe thead th {\n",
       "        text-align: right;\n",
       "    }\n",
       "</style>\n",
       "<table border=\"1\" class=\"dataframe\">\n",
       "  <thead>\n",
       "    <tr style=\"text-align: right;\">\n",
       "      <th></th>\n",
       "      <th>Sentence</th>\n",
       "      <th>True Label</th>\n",
       "      <th>Prediction</th>\n",
       "      <th>Correct?</th>\n",
       "    </tr>\n",
       "  </thead>\n",
       "  <tbody>\n",
       "    <tr>\n",
       "      <th>0</th>\n",
       "      <td>IgE sensitization to Aspergillus fumigatus and...</td>\n",
       "      <td>BACKGROUND</td>\n",
       "      <td>BACKGROUND</td>\n",
       "      <td>True</td>\n",
       "    </tr>\n",
       "    <tr>\n",
       "      <th>1</th>\n",
       "      <td>It is not clear whether these patients would b...</td>\n",
       "      <td>BACKGROUND</td>\n",
       "      <td>CONCLUSIONS</td>\n",
       "      <td>False</td>\n",
       "    </tr>\n",
       "    <tr>\n",
       "      <th>2</th>\n",
       "      <td>We sought to determine whether a 3-month cours...</td>\n",
       "      <td>OBJECTIVE</td>\n",
       "      <td>OBJECTIVE</td>\n",
       "      <td>True</td>\n",
       "    </tr>\n",
       "    <tr>\n",
       "      <th>3</th>\n",
       "      <td>Asthmatic patients who were IgE sensitized to ...</td>\n",
       "      <td>METHODS</td>\n",
       "      <td>METHODS</td>\n",
       "      <td>True</td>\n",
       "    </tr>\n",
       "    <tr>\n",
       "      <th>4</th>\n",
       "      <td>Primary outcomes were improvement in quality o...</td>\n",
       "      <td>METHODS</td>\n",
       "      <td>METHODS</td>\n",
       "      <td>True</td>\n",
       "    </tr>\n",
       "    <tr>\n",
       "      <th>5</th>\n",
       "      <td>Sixty-five patients were randomized .</td>\n",
       "      <td>RESULTS</td>\n",
       "      <td>METHODS</td>\n",
       "      <td>False</td>\n",
       "    </tr>\n",
       "    <tr>\n",
       "      <th>6</th>\n",
       "      <td>Fifty-nine patients started treatment ( 32 rec...</td>\n",
       "      <td>RESULTS</td>\n",
       "      <td>RESULTS</td>\n",
       "      <td>True</td>\n",
       "    </tr>\n",
       "    <tr>\n",
       "      <th>7</th>\n",
       "      <td>Fifty-six patients took the full 3 months of m...</td>\n",
       "      <td>RESULTS</td>\n",
       "      <td>METHODS</td>\n",
       "      <td>False</td>\n",
       "    </tr>\n",
       "    <tr>\n",
       "      <th>8</th>\n",
       "      <td>Between the voriconazole and placebo groups , ...</td>\n",
       "      <td>RESULTS</td>\n",
       "      <td>RESULTS</td>\n",
       "      <td>True</td>\n",
       "    </tr>\n",
       "    <tr>\n",
       "      <th>9</th>\n",
       "      <td>We were unable to show a beneficial effect of ...</td>\n",
       "      <td>CONCLUSIONS</td>\n",
       "      <td>RESULTS</td>\n",
       "      <td>False</td>\n",
       "    </tr>\n",
       "  </tbody>\n",
       "</table>\n",
       "</div>"
      ],
      "text/plain": [
       "                                            Sentence   True Label  \\\n",
       "0  IgE sensitization to Aspergillus fumigatus and...   BACKGROUND   \n",
       "1  It is not clear whether these patients would b...   BACKGROUND   \n",
       "2  We sought to determine whether a 3-month cours...    OBJECTIVE   \n",
       "3  Asthmatic patients who were IgE sensitized to ...      METHODS   \n",
       "4  Primary outcomes were improvement in quality o...      METHODS   \n",
       "5              Sixty-five patients were randomized .      RESULTS   \n",
       "6  Fifty-nine patients started treatment ( 32 rec...      RESULTS   \n",
       "7  Fifty-six patients took the full 3 months of m...      RESULTS   \n",
       "8  Between the voriconazole and placebo groups , ...      RESULTS   \n",
       "9  We were unable to show a beneficial effect of ...  CONCLUSIONS   \n",
       "\n",
       "    Prediction  Correct?  \n",
       "0   BACKGROUND      True  \n",
       "1  CONCLUSIONS     False  \n",
       "2    OBJECTIVE      True  \n",
       "3      METHODS      True  \n",
       "4      METHODS      True  \n",
       "5      METHODS     False  \n",
       "6      RESULTS      True  \n",
       "7      METHODS     False  \n",
       "8      RESULTS      True  \n",
       "9      RESULTS     False  "
      ]
     },
     "execution_count": 31,
     "metadata": {},
     "output_type": "execute_result"
    }
   ],
   "source": [
    "def show_sample_predictions(model_predictions, n=10):\n",
    "    return pd.DataFrame(zip(X_val[:n], y_val[:n], model_predictions[:n], (y_val[:n] == model_predictions[:n])), \n",
    "                        columns=['Sentence', 'True Label', 'Prediction', 'Correct?'])\n",
    "\n",
    "show_sample_predictions(model_0_predictions)"
   ]
  },
  {
   "cell_type": "markdown",
   "id": "41e9de5a",
   "metadata": {
    "papermill": {
     "duration": 0.023438,
     "end_time": "2023-07-07T09:33:23.232092",
     "exception": false,
     "start_time": "2023-07-07T09:33:23.208654",
     "status": "completed"
    },
    "tags": []
   },
   "source": [
    "## 3/b] **Model 1 (RNN model 1):** LSTM model"
   ]
  },
  {
   "cell_type": "markdown",
   "id": "6cf28701",
   "metadata": {
    "papermill": {
     "duration": 0.023702,
     "end_time": "2023-07-07T09:33:23.279814",
     "exception": false,
     "start_time": "2023-07-07T09:33:23.256112",
     "status": "completed"
    },
    "tags": []
   },
   "source": [
    "### Find the appropriate sentence length"
   ]
  },
  {
   "cell_type": "code",
   "execution_count": 32,
   "id": "8357957f",
   "metadata": {
    "execution": {
     "iopub.execute_input": "2023-07-07T09:33:23.329716Z",
     "iopub.status.busy": "2023-07-07T09:33:23.328665Z",
     "iopub.status.idle": "2023-07-07T09:33:23.833347Z",
     "shell.execute_reply": "2023-07-07T09:33:23.832243Z"
    },
    "papermill": {
     "duration": 0.532972,
     "end_time": "2023-07-07T09:33:23.836618",
     "exception": false,
     "start_time": "2023-07-07T09:33:23.303646",
     "status": "completed"
    },
    "tags": []
   },
   "outputs": [],
   "source": [
    "sentence_lengths = pd.DataFrame([len(sentence.split()) for sentence in X_train], columns=['sentence length'])"
   ]
  },
  {
   "cell_type": "code",
   "execution_count": 33,
   "id": "8e081996",
   "metadata": {
    "execution": {
     "iopub.execute_input": "2023-07-07T09:33:23.905677Z",
     "iopub.status.busy": "2023-07-07T09:33:23.905208Z",
     "iopub.status.idle": "2023-07-07T09:33:24.460443Z",
     "shell.execute_reply": "2023-07-07T09:33:24.459533Z"
    },
    "papermill": {
     "duration": 0.59307,
     "end_time": "2023-07-07T09:33:24.463429",
     "exception": false,
     "start_time": "2023-07-07T09:33:23.870359",
     "status": "completed"
    },
    "tags": []
   },
   "outputs": [
    {
     "data": {
      "text/html": [
       "<div>\n",
       "<style scoped>\n",
       "    .dataframe tbody tr th:only-of-type {\n",
       "        vertical-align: middle;\n",
       "    }\n",
       "\n",
       "    .dataframe tbody tr th {\n",
       "        vertical-align: top;\n",
       "    }\n",
       "\n",
       "    .dataframe thead th {\n",
       "        text-align: right;\n",
       "    }\n",
       "</style>\n",
       "<table border=\"1\" class=\"dataframe\">\n",
       "  <thead>\n",
       "    <tr style=\"text-align: right;\">\n",
       "      <th></th>\n",
       "      <th>sentence length</th>\n",
       "    </tr>\n",
       "  </thead>\n",
       "  <tbody>\n",
       "    <tr>\n",
       "      <th>count</th>\n",
       "      <td>180040.000000</td>\n",
       "    </tr>\n",
       "    <tr>\n",
       "      <th>mean</th>\n",
       "      <td>26.338436</td>\n",
       "    </tr>\n",
       "    <tr>\n",
       "      <th>std</th>\n",
       "      <td>15.386976</td>\n",
       "    </tr>\n",
       "    <tr>\n",
       "      <th>min</th>\n",
       "      <td>1.000000</td>\n",
       "    </tr>\n",
       "    <tr>\n",
       "      <th>25%</th>\n",
       "      <td>16.000000</td>\n",
       "    </tr>\n",
       "    <tr>\n",
       "      <th>50%</th>\n",
       "      <td>23.000000</td>\n",
       "    </tr>\n",
       "    <tr>\n",
       "      <th>75%</th>\n",
       "      <td>33.000000</td>\n",
       "    </tr>\n",
       "    <tr>\n",
       "      <th>max</th>\n",
       "      <td>296.000000</td>\n",
       "    </tr>\n",
       "  </tbody>\n",
       "</table>\n",
       "</div>"
      ],
      "text/plain": [
       "       sentence length\n",
       "count    180040.000000\n",
       "mean         26.338436\n",
       "std          15.386976\n",
       "min           1.000000\n",
       "25%          16.000000\n",
       "50%          23.000000\n",
       "75%          33.000000\n",
       "max         296.000000"
      ]
     },
     "execution_count": 33,
     "metadata": {},
     "output_type": "execute_result"
    },
    {
     "data": {
      "image/png": "[encoded data removed]",
      "text/plain": [
       "<Figure size 640x480 with 1 Axes>"
      ]
     },
     "metadata": {},
     "output_type": "display_data"
    }
   ],
   "source": [
    "sentence_lengths.hist(bins=50)\n",
    "sentence_lengths.describe()"
   ]
  },
  {
   "cell_type": "code",
   "execution_count": 34,
   "id": "305a9f4b",
   "metadata": {
    "execution": {
     "iopub.execute_input": "2023-07-07T09:33:24.542616Z",
     "iopub.status.busy": "2023-07-07T09:33:24.542115Z",
     "iopub.status.idle": "2023-07-07T09:33:24.554083Z",
     "shell.execute_reply": "2023-07-07T09:33:24.553262Z"
    },
    "papermill": {
     "duration": 0.053267,
     "end_time": "2023-07-07T09:33:24.556549",
     "exception": false,
     "start_time": "2023-07-07T09:33:24.503282",
     "status": "completed"
    },
    "tags": []
   },
   "outputs": [
    {
     "data": {
      "text/plain": [
       "45"
      ]
     },
     "execution_count": 34,
     "metadata": {},
     "output_type": "execute_result"
    }
   ],
   "source": [
    "SENTENCE_LENGTH = int(np.percentile(sentence_lengths, 90))\n",
    "SENTENCE_LENGTH"
   ]
  },
  {
   "cell_type": "markdown",
   "id": "88fee4db",
   "metadata": {
    "papermill": {
     "duration": 0.033872,
     "end_time": "2023-07-07T09:33:24.624494",
     "exception": false,
     "start_time": "2023-07-07T09:33:24.590622",
     "status": "completed"
    },
    "tags": []
   },
   "source": [
    "### Explore TF vectorizer"
   ]
  },
  {
   "cell_type": "code",
   "execution_count": 35,
   "id": "3c60e72f",
   "metadata": {
    "execution": {
     "iopub.execute_input": "2023-07-07T09:33:24.693698Z",
     "iopub.status.busy": "2023-07-07T09:33:24.693349Z",
     "iopub.status.idle": "2023-07-07T09:33:42.086269Z",
     "shell.execute_reply": "2023-07-07T09:33:42.085195Z"
    },
    "papermill": {
     "duration": 17.430827,
     "end_time": "2023-07-07T09:33:42.089205",
     "exception": false,
     "start_time": "2023-07-07T09:33:24.658378",
     "status": "completed"
    },
    "tags": []
   },
   "outputs": [],
   "source": [
    "from tensorflow.keras.layers import TextVectorization\n",
    "\n",
    "VOCABULARY_LENGTH = 5000\n",
    "vectorizer = TextVectorization(\n",
    "    max_tokens = VOCABULARY_LENGTH,\n",
    "    output_mode=\"int\",\n",
    "    output_sequence_length=SENTENCE_LENGTH\n",
    ")\n",
    "vectorizer.adapt(X_train)"
   ]
  },
  {
   "cell_type": "code",
   "execution_count": 36,
   "id": "9dd29cb6",
   "metadata": {
    "execution": {
     "iopub.execute_input": "2023-07-07T09:33:42.142707Z",
     "iopub.status.busy": "2023-07-07T09:33:42.142384Z",
     "iopub.status.idle": "2023-07-07T09:33:42.168056Z",
     "shell.execute_reply": "2023-07-07T09:33:42.167035Z"
    },
    "papermill": {
     "duration": 0.053762,
     "end_time": "2023-07-07T09:33:42.170439",
     "exception": false,
     "start_time": "2023-07-07T09:33:42.116677",
     "status": "completed"
    },
    "tags": []
   },
   "outputs": [
    {
     "data": {
      "text/plain": [
       "(5000,\n",
       "        0           1\n",
       " 0         amiodarone\n",
       " 1  [UNK]      always\n",
       " 2    the   alleviate\n",
       " 3    and         aki\n",
       " 4     of          ab\n",
       " 5     in         313\n",
       " 6     to         247\n",
       " 7   with        0029\n",
       " 8      a  vulnerable\n",
       " 9   were   synthetic)"
      ]
     },
     "execution_count": 36,
     "metadata": {},
     "output_type": "execute_result"
    }
   ],
   "source": [
    "vocabulary = vectorizer.get_vocabulary()\n",
    "\n",
    "len(vocabulary), pd.DataFrame(zip(vocabulary[:10], vocabulary[-10:]))"
   ]
  },
  {
   "cell_type": "code",
   "execution_count": 37,
   "id": "0a0c2283",
   "metadata": {
    "execution": {
     "iopub.execute_input": "2023-07-07T09:33:42.227174Z",
     "iopub.status.busy": "2023-07-07T09:33:42.226846Z",
     "iopub.status.idle": "2023-07-07T09:33:42.369128Z",
     "shell.execute_reply": "2023-07-07T09:33:42.368000Z"
    },
    "papermill": {
     "duration": 0.171082,
     "end_time": "2023-07-07T09:33:42.371614",
     "exception": false,
     "start_time": "2023-07-07T09:33:42.200532",
     "status": "completed"
    },
    "tags": []
   },
   "outputs": [
    {
     "data": {
      "text/html": [
       "<div>\n",
       "<style scoped>\n",
       "    .dataframe tbody tr th:only-of-type {\n",
       "        vertical-align: middle;\n",
       "    }\n",
       "\n",
       "    .dataframe tbody tr th {\n",
       "        vertical-align: top;\n",
       "    }\n",
       "\n",
       "    .dataframe thead th {\n",
       "        text-align: right;\n",
       "    }\n",
       "</style>\n",
       "<table border=\"1\" class=\"dataframe\">\n",
       "  <thead>\n",
       "    <tr style=\"text-align: right;\">\n",
       "      <th></th>\n",
       "      <th>Sentence</th>\n",
       "      <th>Vectorized sentence</th>\n",
       "    </tr>\n",
       "  </thead>\n",
       "  <tbody>\n",
       "    <tr>\n",
       "      <th>0</th>\n",
       "      <td>To investigate the efficacy of 6 weeks of dail...</td>\n",
       "      <td>[6, 356, 2, 82, 4, 72, 65, 4, 172, 1231, 226, ...</td>\n",
       "    </tr>\n",
       "    <tr>\n",
       "      <th>1</th>\n",
       "      <td>A total of 125 patients with primary knee OA w...</td>\n",
       "      <td>[8, 79, 4, 1029, 12, 7, 57, 557, 1895, 9, 29, ...</td>\n",
       "    </tr>\n",
       "    <tr>\n",
       "      <th>2</th>\n",
       "      <td>Outcome measures included pain reduction and i...</td>\n",
       "      <td>[88, 220, 128, 66, 181, 3, 204, 5, 160, 126, 3...</td>\n",
       "    </tr>\n",
       "    <tr>\n",
       "      <th>3</th>\n",
       "      <td>Pain was assessed using the visual analog pain...</td>\n",
       "      <td>[66, 10, 118, 60, 2, 310, 1065, 66, 170, 1, 28...</td>\n",
       "    </tr>\n",
       "    <tr>\n",
       "      <th>4</th>\n",
       "      <td>Secondary outcome measures included the Wester...</td>\n",
       "      <td>[162, 88, 220, 128, 2, 1488, 1, 3, 1, 1, 1564,...</td>\n",
       "    </tr>\n",
       "  </tbody>\n",
       "</table>\n",
       "</div>"
      ],
      "text/plain": [
       "                                            Sentence  \\\n",
       "0  To investigate the efficacy of 6 weeks of dail...   \n",
       "1  A total of 125 patients with primary knee OA w...   \n",
       "2  Outcome measures included pain reduction and i...   \n",
       "3  Pain was assessed using the visual analog pain...   \n",
       "4  Secondary outcome measures included the Wester...   \n",
       "\n",
       "                                 Vectorized sentence  \n",
       "0  [6, 356, 2, 82, 4, 72, 65, 4, 172, 1231, 226, ...  \n",
       "1  [8, 79, 4, 1029, 12, 7, 57, 557, 1895, 9, 29, ...  \n",
       "2  [88, 220, 128, 66, 181, 3, 204, 5, 160, 126, 3...  \n",
       "3  [66, 10, 118, 60, 2, 310, 1065, 66, 170, 1, 28...  \n",
       "4  [162, 88, 220, 128, 2, 1488, 1, 3, 1, 1, 1564,...  "
      ]
     },
     "execution_count": 37,
     "metadata": {},
     "output_type": "execute_result"
    }
   ],
   "source": [
    "sample_sentences = X_train[:5]\n",
    "sample_vectorized_sentences = vectorizer(sample_sentences)\n",
    "\n",
    "pd.DataFrame(zip(sample_sentences, sample_vectorized_sentences.numpy()),\n",
    "            columns=['Sentence', 'Vectorized sentence'])"
   ]
  },
  {
   "cell_type": "markdown",
   "id": "3a6e800e",
   "metadata": {
    "papermill": {
     "duration": 0.025108,
     "end_time": "2023-07-07T09:33:42.424999",
     "exception": false,
     "start_time": "2023-07-07T09:33:42.399891",
     "status": "completed"
    },
    "tags": []
   },
   "source": [
    "### Explore TF Embedding"
   ]
  },
  {
   "cell_type": "code",
   "execution_count": 38,
   "id": "e28127c4",
   "metadata": {
    "execution": {
     "iopub.execute_input": "2023-07-07T09:33:42.476532Z",
     "iopub.status.busy": "2023-07-07T09:33:42.476240Z",
     "iopub.status.idle": "2023-07-07T09:33:42.483363Z",
     "shell.execute_reply": "2023-07-07T09:33:42.482360Z"
    },
    "papermill": {
     "duration": 0.034878,
     "end_time": "2023-07-07T09:33:42.485382",
     "exception": false,
     "start_time": "2023-07-07T09:33:42.450504",
     "status": "completed"
    },
    "tags": []
   },
   "outputs": [],
   "source": [
    "from tensorflow.keras.layers import Embedding\n",
    "\n",
    "EMBEDDING_DIMENSION = 512\n",
    "\n",
    "def make_embedding():\n",
    "    return Embedding(\n",
    "        input_dim=VOCABULARY_LENGTH,\n",
    "        output_dim=EMBEDDING_DIMENSION,\n",
    "        input_length=SENTENCE_LENGTH\n",
    "    )\n",
    "\n",
    "embedding = make_embedding()"
   ]
  },
  {
   "cell_type": "code",
   "execution_count": 39,
   "id": "727cab9e",
   "metadata": {
    "execution": {
     "iopub.execute_input": "2023-07-07T09:33:42.537593Z",
     "iopub.status.busy": "2023-07-07T09:33:42.536780Z",
     "iopub.status.idle": "2023-07-07T09:33:42.599139Z",
     "shell.execute_reply": "2023-07-07T09:33:42.598118Z"
    },
    "papermill": {
     "duration": 0.090381,
     "end_time": "2023-07-07T09:33:42.601502",
     "exception": false,
     "start_time": "2023-07-07T09:33:42.511121",
     "status": "completed"
    },
    "tags": []
   },
   "outputs": [
    {
     "data": {
      "text/plain": [
       "<tf.Tensor: shape=(5, 45, 512), dtype=float32, numpy=\n",
       "array([[[-0.00872795, -0.00047916, -0.03621984, ...,  0.03007198,\n",
       "         -0.03940027, -0.04326714],\n",
       "        [ 0.04756692,  0.0290862 , -0.03918672, ...,  0.01188614,\n",
       "         -0.04626371, -0.0121372 ],\n",
       "        [-0.01289467,  0.03753278, -0.00539821, ...,  0.02464176,\n",
       "         -0.01119621,  0.01759655],\n",
       "        ...,\n",
       "        [-0.00158641, -0.00525819, -0.04728538, ...,  0.02966139,\n",
       "         -0.01716183,  0.03514746],\n",
       "        [ 0.00913434, -0.00163442,  0.01295699, ..., -0.02713188,\n",
       "         -0.04655104,  0.01034285],\n",
       "        [ 0.03581891,  0.01626286, -0.01412892, ...,  0.0452905 ,\n",
       "         -0.02311034,  0.02508745]],\n",
       "\n",
       "       [[-0.04173072, -0.02671394, -0.00819439, ..., -0.03924815,\n",
       "          0.03026411, -0.01449645],\n",
       "        [ 0.02525577,  0.02984539, -0.00592512, ..., -0.03958876,\n",
       "          0.00627631,  0.01648164],\n",
       "        [-0.03275682,  0.00603578, -0.0449412 , ...,  0.03293948,\n",
       "          0.03431762, -0.02514657],\n",
       "        ...,\n",
       "        [ 0.03581891,  0.01626286, -0.01412892, ...,  0.0452905 ,\n",
       "         -0.02311034,  0.02508745],\n",
       "        [ 0.03581891,  0.01626286, -0.01412892, ...,  0.0452905 ,\n",
       "         -0.02311034,  0.02508745],\n",
       "        [ 0.03581891,  0.01626286, -0.01412892, ...,  0.0452905 ,\n",
       "         -0.02311034,  0.02508745]],\n",
       "\n",
       "       [[-0.00403283,  0.03662724,  0.00680878, ...,  0.04918501,\n",
       "         -0.0439512 , -0.01274885],\n",
       "        [ 0.02505181, -0.04449875, -0.02078739, ...,  0.03826511,\n",
       "          0.02763439, -0.00655673],\n",
       "        [ 0.0267853 , -0.00423729,  0.02750838, ...,  0.03764858,\n",
       "          0.01883388,  0.00729959],\n",
       "        ...,\n",
       "        [ 0.03581891,  0.01626286, -0.01412892, ...,  0.0452905 ,\n",
       "         -0.02311034,  0.02508745],\n",
       "        [ 0.03581891,  0.01626286, -0.01412892, ...,  0.0452905 ,\n",
       "         -0.02311034,  0.02508745],\n",
       "        [ 0.03581891,  0.01626286, -0.01412892, ...,  0.0452905 ,\n",
       "         -0.02311034,  0.02508745]],\n",
       "\n",
       "       [[-0.01535591,  0.01433163, -0.02503929, ...,  0.00627261,\n",
       "         -0.03482354, -0.03762902],\n",
       "        [-0.01452326,  0.00591768, -0.03356653, ..., -0.03776317,\n",
       "         -0.01912084,  0.00298883],\n",
       "        [-0.00222422, -0.02222561,  0.03733286, ..., -0.01092639,\n",
       "          0.03934323, -0.01174093],\n",
       "        ...,\n",
       "        [ 0.03581891,  0.01626286, -0.01412892, ...,  0.0452905 ,\n",
       "         -0.02311034,  0.02508745],\n",
       "        [ 0.03581891,  0.01626286, -0.01412892, ...,  0.0452905 ,\n",
       "         -0.02311034,  0.02508745],\n",
       "        [ 0.03581891,  0.01626286, -0.01412892, ...,  0.0452905 ,\n",
       "         -0.02311034,  0.02508745]],\n",
       "\n",
       "       [[ 0.01044143,  0.01619948,  0.03847546, ..., -0.04052573,\n",
       "         -0.03202992, -0.04919037],\n",
       "        [-0.00403283,  0.03662724,  0.00680878, ...,  0.04918501,\n",
       "         -0.0439512 , -0.01274885],\n",
       "        [ 0.02505181, -0.04449875, -0.02078739, ...,  0.03826511,\n",
       "          0.02763439, -0.00655673],\n",
       "        ...,\n",
       "        [ 0.03581891,  0.01626286, -0.01412892, ...,  0.0452905 ,\n",
       "         -0.02311034,  0.02508745],\n",
       "        [ 0.03581891,  0.01626286, -0.01412892, ...,  0.0452905 ,\n",
       "         -0.02311034,  0.02508745],\n",
       "        [ 0.03581891,  0.01626286, -0.01412892, ...,  0.0452905 ,\n",
       "         -0.02311034,  0.02508745]]], dtype=float32)>"
      ]
     },
     "execution_count": 39,
     "metadata": {},
     "output_type": "execute_result"
    }
   ],
   "source": [
    "sample_embedding = embedding(vectorizer(X_train[:5]))\n",
    "sample_embedding"
   ]
  },
  {
   "cell_type": "markdown",
   "id": "c8562f68",
   "metadata": {
    "papermill": {
     "duration": 0.025101,
     "end_time": "2023-07-07T09:33:42.654742",
     "exception": false,
     "start_time": "2023-07-07T09:33:42.629641",
     "status": "completed"
    },
    "tags": []
   },
   "source": [
    "### The Model"
   ]
  },
  {
   "cell_type": "code",
   "execution_count": 40,
   "id": "b15b857b",
   "metadata": {
    "execution": {
     "iopub.execute_input": "2023-07-07T09:33:42.707200Z",
     "iopub.status.busy": "2023-07-07T09:33:42.706872Z",
     "iopub.status.idle": "2023-07-07T09:33:43.084431Z",
     "shell.execute_reply": "2023-07-07T09:33:43.083630Z"
    },
    "papermill": {
     "duration": 0.413547,
     "end_time": "2023-07-07T09:33:43.093568",
     "exception": false,
     "start_time": "2023-07-07T09:33:42.680021",
     "status": "completed"
    },
    "tags": []
   },
   "outputs": [
    {
     "name": "stdout",
     "output_type": "stream",
     "text": [
      "Model: \"sequential\"\n",
      "_________________________________________________________________\n",
      " Layer (type)                Output Shape              Param #   \n",
      "=================================================================\n",
      " text_vectorization (TextVec  (None, 45)               0         \n",
      " torization)                                                     \n",
      "                                                                 \n",
      " embedding_1 (Embedding)     (None, 45, 512)           2560000   \n",
      "                                                                 \n",
      " lstm (LSTM)                 (None, 64)                147712    \n",
      "                                                                 \n",
      " dense (Dense)               (None, 5)                 325       \n",
      "                                                                 \n",
      "=================================================================\n",
      "Total params: 2,708,037\n",
      "Trainable params: 2,708,037\n",
      "Non-trainable params: 0\n",
      "_________________________________________________________________\n"
     ]
    }
   ],
   "source": [
    "from tensorflow.keras.layers import Input, Dense, LSTM\n",
    "from tensorflow.keras import Sequential\n",
    "\n",
    "def build_model_1():\n",
    "    return Sequential([\n",
    "        Input(shape=(1,), dtype=tf.string),\n",
    "        vectorizer, \n",
    "        make_embedding(),\n",
    "        LSTM(64),\n",
    "        Dense(len(CLASSES), activation='softmax')        \n",
    "    ])\n",
    "    \n",
    "model_1 = build_model_1()\n",
    "model_1.summary()"
   ]
  },
  {
   "cell_type": "markdown",
   "id": "1ae383df",
   "metadata": {
    "papermill": {
     "duration": 0.027131,
     "end_time": "2023-07-07T09:33:43.150267",
     "exception": false,
     "start_time": "2023-07-07T09:33:43.123136",
     "status": "completed"
    },
    "tags": []
   },
   "source": [
    "### Label classes to numeric values"
   ]
  },
  {
   "cell_type": "code",
   "execution_count": 41,
   "id": "6c19ed29",
   "metadata": {
    "execution": {
     "iopub.execute_input": "2023-07-07T09:33:43.214135Z",
     "iopub.status.busy": "2023-07-07T09:33:43.213743Z",
     "iopub.status.idle": "2023-07-07T09:33:43.223599Z",
     "shell.execute_reply": "2023-07-07T09:33:43.222414Z"
    },
    "papermill": {
     "duration": 0.048286,
     "end_time": "2023-07-07T09:33:43.226006",
     "exception": false,
     "start_time": "2023-07-07T09:33:43.177720",
     "status": "completed"
    },
    "tags": []
   },
   "outputs": [
    {
     "data": {
      "text/plain": [
       "array([0, 3, 2, 4, 1])"
      ]
     },
     "execution_count": 41,
     "metadata": {},
     "output_type": "execute_result"
    }
   ],
   "source": [
    "from sklearn.preprocessing import LabelEncoder\n",
    "\n",
    "y_encoder = LabelEncoder()\n",
    "y_encoder.fit(CLASSES)\n",
    "y_encoder.transform(CLASSES)"
   ]
  },
  {
   "cell_type": "code",
   "execution_count": 42,
   "id": "f4b4f157",
   "metadata": {
    "execution": {
     "iopub.execute_input": "2023-07-07T09:33:43.282958Z",
     "iopub.status.busy": "2023-07-07T09:33:43.282087Z",
     "iopub.status.idle": "2023-07-07T09:33:43.486669Z",
     "shell.execute_reply": "2023-07-07T09:33:43.485461Z"
    },
    "papermill": {
     "duration": 0.235927,
     "end_time": "2023-07-07T09:33:43.489261",
     "exception": false,
     "start_time": "2023-07-07T09:33:43.253334",
     "status": "completed"
    },
    "tags": []
   },
   "outputs": [
    {
     "data": {
      "text/plain": [
       "(array([3, 2, 2, 2, 2, 2, 4, 4, 4, 4]), array([0, 0, 3, 2, 2, 4, 4, 4, 4, 1]))"
      ]
     },
     "execution_count": 42,
     "metadata": {},
     "output_type": "execute_result"
    }
   ],
   "source": [
    "y_train_encoded = y_encoder.transform(y_train)\n",
    "y_val_encoded = y_encoder.transform(y_val)\n",
    "\n",
    "y_train_encoded[:10], y_val_encoded[:10]"
   ]
  },
  {
   "cell_type": "code",
   "execution_count": 43,
   "id": "42bb4e7b",
   "metadata": {
    "execution": {
     "iopub.execute_input": "2023-07-07T09:33:43.547286Z",
     "iopub.status.busy": "2023-07-07T09:33:43.546969Z",
     "iopub.status.idle": "2023-07-07T09:36:07.458318Z",
     "shell.execute_reply": "2023-07-07T09:36:07.457287Z"
    },
    "papermill": {
     "duration": 143.941736,
     "end_time": "2023-07-07T09:36:07.461227",
     "exception": false,
     "start_time": "2023-07-07T09:33:43.519491",
     "status": "completed"
    },
    "tags": []
   },
   "outputs": [
    {
     "name": "stdout",
     "output_type": "stream",
     "text": [
      "Epoch 1/5\n",
      "1406/1406 [==============================] - 63s 38ms/step - loss: 0.7565 - accuracy: 0.7153 - val_loss: 0.5493 - val_accuracy: 0.7995\n",
      "Epoch 2/5\n",
      "1406/1406 [==============================] - 18s 13ms/step - loss: 0.4934 - accuracy: 0.8210 - val_loss: 0.4783 - val_accuracy: 0.8234\n",
      "Epoch 3/5\n",
      "1406/1406 [==============================] - 16s 11ms/step - loss: 0.4345 - accuracy: 0.8404 - val_loss: 0.4603 - val_accuracy: 0.8298\n",
      "Epoch 4/5\n",
      "1406/1406 [==============================] - 15s 11ms/step - loss: 0.3938 - accuracy: 0.8558 - val_loss: 0.4658 - val_accuracy: 0.8276\n",
      "Epoch 5/5\n",
      "1406/1406 [==============================] - 15s 11ms/step - loss: 0.3560 - accuracy: 0.8702 - val_loss: 0.4779 - val_accuracy: 0.8290\n"
     ]
    }
   ],
   "source": [
    "from tensorflow.keras.losses import SparseCategoricalCrossentropy\n",
    "from tensorflow.keras.optimizers import Adam\n",
    "\n",
    "model_1.compile(\n",
    "    loss=SparseCategoricalCrossentropy(),\n",
    "    optimizer=Adam(),\n",
    "    metrics=['accuracy']\n",
    ")\n",
    "\n",
    "BATCH_SIZE = 128\n",
    "model_1_history = model_1.fit(X_train, y_train_encoded,\n",
    "                              batch_size=BATCH_SIZE,\n",
    "                              steps_per_epoch=len(X_train)//BATCH_SIZE,\n",
    "                              epochs=5,\n",
    "                              validation_data=(X_val, y_val_encoded),\n",
    "                              validation_batch_size=BATCH_SIZE,\n",
    "                              validation_steps=len(X_val)//BATCH_SIZE\n",
    "                             )"
   ]
  },
  {
   "cell_type": "code",
   "execution_count": 44,
   "id": "b1f7032f",
   "metadata": {
    "execution": {
     "iopub.execute_input": "2023-07-07T09:36:07.712615Z",
     "iopub.status.busy": "2023-07-07T09:36:07.712246Z",
     "iopub.status.idle": "2023-07-07T09:36:08.058249Z",
     "shell.execute_reply": "2023-07-07T09:36:08.057376Z"
    },
    "papermill": {
     "duration": 0.474256,
     "end_time": "2023-07-07T09:36:08.060385",
     "exception": false,
     "start_time": "2023-07-07T09:36:07.586129",
     "status": "completed"
    },
    "tags": []
   },
   "outputs": [
    {
     "data": {
      "text/plain": [
       "<Axes: >"
      ]
     },
     "execution_count": 44,
     "metadata": {},
     "output_type": "execute_result"
    },
    {
     "data": {
      "image/png": "[encoded data removed]",
      "text/plain": [
       "<Figure size 640x480 with 1 Axes>"
      ]
     },
     "metadata": {},
     "output_type": "display_data"
    }
   ],
   "source": [
    "pd.DataFrame(model_1_history.history).plot()"
   ]
  },
  {
   "cell_type": "code",
   "execution_count": 45,
   "id": "334f1b7f",
   "metadata": {
    "execution": {
     "iopub.execute_input": "2023-07-07T09:36:08.316250Z",
     "iopub.status.busy": "2023-07-07T09:36:08.314636Z",
     "iopub.status.idle": "2023-07-07T09:36:13.879109Z",
     "shell.execute_reply": "2023-07-07T09:36:13.878121Z"
    },
    "papermill": {
     "duration": 5.694268,
     "end_time": "2023-07-07T09:36:13.881104",
     "exception": false,
     "start_time": "2023-07-07T09:36:08.186836",
     "status": "completed"
    },
    "tags": []
   },
   "outputs": [
    {
     "name": "stdout",
     "output_type": "stream",
     "text": [
      "945/945 [==============================] - 4s 3ms/step\n",
      "(30212,)\n"
     ]
    },
    {
     "data": {
      "text/plain": [
       "array(['BACKGROUND', 'CONCLUSIONS', 'OBJECTIVE', 'METHODS', 'METHODS',\n",
       "       'RESULTS', 'RESULTS', 'METHODS', 'RESULTS', 'CONCLUSIONS'],\n",
       "      dtype='<U11')"
      ]
     },
     "execution_count": 45,
     "metadata": {},
     "output_type": "execute_result"
    }
   ],
   "source": [
    "def model_predict(model, X):\n",
    "    y_values = np.argmax(model.predict(X), axis=1)\n",
    "    print(y_values.shape)\n",
    "    return y_encoder.inverse_transform(y_values)\n",
    "\n",
    "model_1_predictions = model_predict(model_1, X_val)\n",
    "model_1_predictions[:10]"
   ]
  },
  {
   "cell_type": "code",
   "execution_count": 46,
   "id": "bf5616f4",
   "metadata": {
    "execution": {
     "iopub.execute_input": "2023-07-07T09:36:14.155997Z",
     "iopub.status.busy": "2023-07-07T09:36:14.155321Z",
     "iopub.status.idle": "2023-07-07T09:36:14.639006Z",
     "shell.execute_reply": "2023-07-07T09:36:14.637967Z"
    },
    "papermill": {
     "duration": 0.623566,
     "end_time": "2023-07-07T09:36:14.641110",
     "exception": false,
     "start_time": "2023-07-07T09:36:14.017544",
     "status": "completed"
    },
    "tags": []
   },
   "outputs": [
    {
     "data": {
      "image/png": "[encoded data removed]",
      "text/plain": [
       "<Figure size 640x480 with 2 Axes>"
      ]
     },
     "metadata": {},
     "output_type": "display_data"
    }
   ],
   "source": [
    "from sklearn.metrics import ConfusionMatrixDisplay\n",
    "\n",
    "def show_confusion_matrix(y_true, y_predictions):\n",
    "    ConfusionMatrixDisplay.from_predictions(y_true, y_predictions,\n",
    "                                            labels=CLASSES,\n",
    "                                            normalize='true',\n",
    "                                            xticks_rotation='vertical')\n",
    "    \n",
    "show_confusion_matrix(y_val, model_1_predictions)"
   ]
  },
  {
   "cell_type": "code",
   "execution_count": 47,
   "id": "24761d8a",
   "metadata": {
    "execution": {
     "iopub.execute_input": "2023-07-07T09:36:14.921945Z",
     "iopub.status.busy": "2023-07-07T09:36:14.921595Z",
     "iopub.status.idle": "2023-07-07T09:36:14.934051Z",
     "shell.execute_reply": "2023-07-07T09:36:14.932997Z"
    },
    "papermill": {
     "duration": 0.159349,
     "end_time": "2023-07-07T09:36:14.936121",
     "exception": false,
     "start_time": "2023-07-07T09:36:14.776772",
     "status": "completed"
    },
    "tags": []
   },
   "outputs": [
    {
     "data": {
      "text/html": [
       "<div>\n",
       "<style scoped>\n",
       "    .dataframe tbody tr th:only-of-type {\n",
       "        vertical-align: middle;\n",
       "    }\n",
       "\n",
       "    .dataframe tbody tr th {\n",
       "        vertical-align: top;\n",
       "    }\n",
       "\n",
       "    .dataframe thead th {\n",
       "        text-align: right;\n",
       "    }\n",
       "</style>\n",
       "<table border=\"1\" class=\"dataframe\">\n",
       "  <thead>\n",
       "    <tr style=\"text-align: right;\">\n",
       "      <th></th>\n",
       "      <th>Sentence</th>\n",
       "      <th>True Label</th>\n",
       "      <th>Prediction</th>\n",
       "      <th>Correct?</th>\n",
       "    </tr>\n",
       "  </thead>\n",
       "  <tbody>\n",
       "    <tr>\n",
       "      <th>0</th>\n",
       "      <td>IgE sensitization to Aspergillus fumigatus and...</td>\n",
       "      <td>BACKGROUND</td>\n",
       "      <td>BACKGROUND</td>\n",
       "      <td>True</td>\n",
       "    </tr>\n",
       "    <tr>\n",
       "      <th>1</th>\n",
       "      <td>It is not clear whether these patients would b...</td>\n",
       "      <td>BACKGROUND</td>\n",
       "      <td>CONCLUSIONS</td>\n",
       "      <td>False</td>\n",
       "    </tr>\n",
       "    <tr>\n",
       "      <th>2</th>\n",
       "      <td>We sought to determine whether a 3-month cours...</td>\n",
       "      <td>OBJECTIVE</td>\n",
       "      <td>OBJECTIVE</td>\n",
       "      <td>True</td>\n",
       "    </tr>\n",
       "    <tr>\n",
       "      <th>3</th>\n",
       "      <td>Asthmatic patients who were IgE sensitized to ...</td>\n",
       "      <td>METHODS</td>\n",
       "      <td>METHODS</td>\n",
       "      <td>True</td>\n",
       "    </tr>\n",
       "    <tr>\n",
       "      <th>4</th>\n",
       "      <td>Primary outcomes were improvement in quality o...</td>\n",
       "      <td>METHODS</td>\n",
       "      <td>METHODS</td>\n",
       "      <td>True</td>\n",
       "    </tr>\n",
       "    <tr>\n",
       "      <th>5</th>\n",
       "      <td>Sixty-five patients were randomized .</td>\n",
       "      <td>RESULTS</td>\n",
       "      <td>RESULTS</td>\n",
       "      <td>True</td>\n",
       "    </tr>\n",
       "    <tr>\n",
       "      <th>6</th>\n",
       "      <td>Fifty-nine patients started treatment ( 32 rec...</td>\n",
       "      <td>RESULTS</td>\n",
       "      <td>RESULTS</td>\n",
       "      <td>True</td>\n",
       "    </tr>\n",
       "    <tr>\n",
       "      <th>7</th>\n",
       "      <td>Fifty-six patients took the full 3 months of m...</td>\n",
       "      <td>RESULTS</td>\n",
       "      <td>METHODS</td>\n",
       "      <td>False</td>\n",
       "    </tr>\n",
       "    <tr>\n",
       "      <th>8</th>\n",
       "      <td>Between the voriconazole and placebo groups , ...</td>\n",
       "      <td>RESULTS</td>\n",
       "      <td>RESULTS</td>\n",
       "      <td>True</td>\n",
       "    </tr>\n",
       "    <tr>\n",
       "      <th>9</th>\n",
       "      <td>We were unable to show a beneficial effect of ...</td>\n",
       "      <td>CONCLUSIONS</td>\n",
       "      <td>CONCLUSIONS</td>\n",
       "      <td>True</td>\n",
       "    </tr>\n",
       "  </tbody>\n",
       "</table>\n",
       "</div>"
      ],
      "text/plain": [
       "                                            Sentence   True Label  \\\n",
       "0  IgE sensitization to Aspergillus fumigatus and...   BACKGROUND   \n",
       "1  It is not clear whether these patients would b...   BACKGROUND   \n",
       "2  We sought to determine whether a 3-month cours...    OBJECTIVE   \n",
       "3  Asthmatic patients who were IgE sensitized to ...      METHODS   \n",
       "4  Primary outcomes were improvement in quality o...      METHODS   \n",
       "5              Sixty-five patients were randomized .      RESULTS   \n",
       "6  Fifty-nine patients started treatment ( 32 rec...      RESULTS   \n",
       "7  Fifty-six patients took the full 3 months of m...      RESULTS   \n",
       "8  Between the voriconazole and placebo groups , ...      RESULTS   \n",
       "9  We were unable to show a beneficial effect of ...  CONCLUSIONS   \n",
       "\n",
       "    Prediction  Correct?  \n",
       "0   BACKGROUND      True  \n",
       "1  CONCLUSIONS     False  \n",
       "2    OBJECTIVE      True  \n",
       "3      METHODS      True  \n",
       "4      METHODS      True  \n",
       "5      RESULTS      True  \n",
       "6      RESULTS      True  \n",
       "7      METHODS     False  \n",
       "8      RESULTS      True  \n",
       "9  CONCLUSIONS      True  "
      ]
     },
     "execution_count": 47,
     "metadata": {},
     "output_type": "execute_result"
    }
   ],
   "source": [
    "show_sample_predictions(model_1_predictions)"
   ]
  },
  {
   "cell_type": "code",
   "execution_count": 48,
   "id": "8603dcc7",
   "metadata": {
    "execution": {
     "iopub.execute_input": "2023-07-07T09:36:15.264006Z",
     "iopub.status.busy": "2023-07-07T09:36:15.263649Z",
     "iopub.status.idle": "2023-07-07T09:36:15.486996Z",
     "shell.execute_reply": "2023-07-07T09:36:15.485999Z"
    },
    "papermill": {
     "duration": 0.360806,
     "end_time": "2023-07-07T09:36:15.489233",
     "exception": false,
     "start_time": "2023-07-07T09:36:15.128427",
     "status": "completed"
    },
    "tags": []
   },
   "outputs": [
    {
     "data": {
      "text/plain": [
       "{'precision': 0.8273223527971617,\n",
       " 'recall': 0.8290414404872236,\n",
       " 'f1': 0.8271637981606419}"
      ]
     },
     "execution_count": 48,
     "metadata": {},
     "output_type": "execute_result"
    }
   ],
   "source": [
    "score_predictions(y_val, model_1_predictions)"
   ]
  },
  {
   "cell_type": "markdown",
   "id": "1d1ef507",
   "metadata": {
    "papermill": {
     "duration": 0.133987,
     "end_time": "2023-07-07T09:36:15.810381",
     "exception": false,
     "start_time": "2023-07-07T09:36:15.676394",
     "status": "completed"
    },
    "tags": []
   },
   "source": [
    "## 3/c] **Model 2 (RNN model 2):** GRU model"
   ]
  },
  {
   "cell_type": "code",
   "execution_count": 49,
   "id": "19b29949",
   "metadata": {
    "execution": {
     "iopub.execute_input": "2023-07-07T09:36:16.086894Z",
     "iopub.status.busy": "2023-07-07T09:36:16.086539Z",
     "iopub.status.idle": "2023-07-07T09:36:16.379322Z",
     "shell.execute_reply": "2023-07-07T09:36:16.378543Z"
    },
    "papermill": {
     "duration": 0.443808,
     "end_time": "2023-07-07T09:36:16.389744",
     "exception": false,
     "start_time": "2023-07-07T09:36:15.945936",
     "status": "completed"
    },
    "tags": []
   },
   "outputs": [
    {
     "name": "stdout",
     "output_type": "stream",
     "text": [
      "Model: \"sequential_1\"\n",
      "_________________________________________________________________\n",
      " Layer (type)                Output Shape              Param #   \n",
      "=================================================================\n",
      " text_vectorization (TextVec  (None, 45)               0         \n",
      " torization)                                                     \n",
      "                                                                 \n",
      " embedding_2 (Embedding)     (None, 45, 512)           2560000   \n",
      "                                                                 \n",
      " gru (GRU)                   (None, 64)                110976    \n",
      "                                                                 \n",
      " dense_1 (Dense)             (None, 5)                 325       \n",
      "                                                                 \n",
      "=================================================================\n",
      "Total params: 2,671,301\n",
      "Trainable params: 2,671,301\n",
      "Non-trainable params: 0\n",
      "_________________________________________________________________\n"
     ]
    }
   ],
   "source": [
    "from tensorflow.keras.layers import GRU\n",
    "\n",
    "def build_model_2():\n",
    "    return Sequential([\n",
    "        Input(shape=[], dtype=tf.string),\n",
    "        vectorizer,\n",
    "        make_embedding(),\n",
    "        GRU(64),\n",
    "        Dense(len(CLASSES), activation='softmax')\n",
    "    ])\n",
    "    \n",
    "model_2 = build_model_2()\n",
    "model_2.summary()"
   ]
  },
  {
   "cell_type": "code",
   "execution_count": 50,
   "id": "df01439a",
   "metadata": {
    "execution": {
     "iopub.execute_input": "2023-07-07T09:36:16.669984Z",
     "iopub.status.busy": "2023-07-07T09:36:16.669627Z",
     "iopub.status.idle": "2023-07-07T09:37:58.447963Z",
     "shell.execute_reply": "2023-07-07T09:37:58.446836Z"
    },
    "papermill": {
     "duration": 101.920618,
     "end_time": "2023-07-07T09:37:58.451128",
     "exception": false,
     "start_time": "2023-07-07T09:36:16.530510",
     "status": "completed"
    },
    "tags": []
   },
   "outputs": [
    {
     "name": "stdout",
     "output_type": "stream",
     "text": [
      "Epoch 1/5\n",
      "1407/1407 [==============================] - 43s 29ms/step - loss: 0.6742 - accuracy: 0.7334 - val_loss: 0.4869 - val_accuracy: 0.8197\n",
      "Epoch 2/5\n",
      "1407/1407 [==============================] - 16s 12ms/step - loss: 0.4564 - accuracy: 0.8320 - val_loss: 0.4612 - val_accuracy: 0.8267\n",
      "Epoch 3/5\n",
      "1407/1407 [==============================] - 14s 10ms/step - loss: 0.4064 - accuracy: 0.8510 - val_loss: 0.4554 - val_accuracy: 0.8315\n",
      "Epoch 4/5\n",
      "1407/1407 [==============================] - 14s 10ms/step - loss: 0.3631 - accuracy: 0.8675 - val_loss: 0.4703 - val_accuracy: 0.8302\n",
      "Epoch 5/5\n",
      "1407/1407 [==============================] - 14s 10ms/step - loss: 0.3215 - accuracy: 0.8831 - val_loss: 0.4881 - val_accuracy: 0.8276\n"
     ]
    }
   ],
   "source": [
    "model_2.compile(\n",
    "    loss=SparseCategoricalCrossentropy(),\n",
    "    optimizer=Adam(),\n",
    "    metrics=['accuracy']\n",
    ")\n",
    "\n",
    "model_2_history = model_2.fit(X_train, y_train_encoded,\n",
    "                              batch_size=BATCH_SIZE,\n",
    "                              epochs=5,\n",
    "                              validation_data=(X_val, y_val_encoded),\n",
    "                              validation_batch_size=BATCH_SIZE)"
   ]
  },
  {
   "cell_type": "code",
   "execution_count": 51,
   "id": "c0dee6a3",
   "metadata": {
    "execution": {
     "iopub.execute_input": "2023-07-07T09:37:58.935826Z",
     "iopub.status.busy": "2023-07-07T09:37:58.935467Z",
     "iopub.status.idle": "2023-07-07T09:37:59.295063Z",
     "shell.execute_reply": "2023-07-07T09:37:59.294159Z"
    },
    "papermill": {
     "duration": 0.592896,
     "end_time": "2023-07-07T09:37:59.297304",
     "exception": false,
     "start_time": "2023-07-07T09:37:58.704408",
     "status": "completed"
    },
    "tags": []
   },
   "outputs": [
    {
     "data": {
      "text/plain": [
       "<Axes: >"
      ]
     },
     "execution_count": 51,
     "metadata": {},
     "output_type": "execute_result"
    },
    {
     "data": {
      "image/png": "[encoded data removed]",
      "text/plain": [
       "<Figure size 640x480 with 1 Axes>"
      ]
     },
     "metadata": {},
     "output_type": "display_data"
    }
   ],
   "source": [
    "pd.DataFrame(model_2_history.history).plot()"
   ]
  },
  {
   "cell_type": "code",
   "execution_count": 52,
   "id": "12f7fb7f",
   "metadata": {
    "execution": {
     "iopub.execute_input": "2023-07-07T09:37:59.777714Z",
     "iopub.status.busy": "2023-07-07T09:37:59.777328Z",
     "iopub.status.idle": "2023-07-07T09:38:05.472015Z",
     "shell.execute_reply": "2023-07-07T09:38:05.470968Z"
    },
    "papermill": {
     "duration": 5.940091,
     "end_time": "2023-07-07T09:38:05.474354",
     "exception": false,
     "start_time": "2023-07-07T09:37:59.534263",
     "status": "completed"
    },
    "tags": []
   },
   "outputs": [
    {
     "name": "stdout",
     "output_type": "stream",
     "text": [
      "945/945 [==============================] - 3s 3ms/step\n",
      "(30212,)\n"
     ]
    },
    {
     "data": {
      "text/plain": [
       "{'precision': 0.8271251101547755,\n",
       " 'recall': 0.827551966106183,\n",
       " 'f1': 0.8259652096401678}"
      ]
     },
     "execution_count": 52,
     "metadata": {},
     "output_type": "execute_result"
    }
   ],
   "source": [
    "model_2_predictions = model_predict(model_2, X_val)\n",
    "\n",
    "score_predictions(y_val, model_2_predictions)"
   ]
  },
  {
   "cell_type": "code",
   "execution_count": 53,
   "id": "248aaf82",
   "metadata": {
    "execution": {
     "iopub.execute_input": "2023-07-07T09:38:06.008527Z",
     "iopub.status.busy": "2023-07-07T09:38:06.008151Z",
     "iopub.status.idle": "2023-07-07T09:38:06.473955Z",
     "shell.execute_reply": "2023-07-07T09:38:06.473025Z"
    },
    "papermill": {
     "duration": 0.756486,
     "end_time": "2023-07-07T09:38:06.476083",
     "exception": false,
     "start_time": "2023-07-07T09:38:05.719597",
     "status": "completed"
    },
    "tags": []
   },
   "outputs": [
    {
     "data": {
      "image/png": "[encoded data removed]",
      "text/plain": [
       "<Figure size 640x480 with 2 Axes>"
      ]
     },
     "metadata": {},
     "output_type": "display_data"
    }
   ],
   "source": [
    "show_confusion_matrix(y_val, model_2_predictions)"
   ]
  },
  {
   "cell_type": "code",
   "execution_count": 54,
   "id": "b475a248",
   "metadata": {
    "execution": {
     "iopub.execute_input": "2023-07-07T09:38:06.957089Z",
     "iopub.status.busy": "2023-07-07T09:38:06.955300Z",
     "iopub.status.idle": "2023-07-07T09:38:06.969088Z",
     "shell.execute_reply": "2023-07-07T09:38:06.968120Z"
    },
    "papermill": {
     "duration": 0.253944,
     "end_time": "2023-07-07T09:38:06.971252",
     "exception": false,
     "start_time": "2023-07-07T09:38:06.717308",
     "status": "completed"
    },
    "tags": []
   },
   "outputs": [
    {
     "data": {
      "text/html": [
       "<div>\n",
       "<style scoped>\n",
       "    .dataframe tbody tr th:only-of-type {\n",
       "        vertical-align: middle;\n",
       "    }\n",
       "\n",
       "    .dataframe tbody tr th {\n",
       "        vertical-align: top;\n",
       "    }\n",
       "\n",
       "    .dataframe thead th {\n",
       "        text-align: right;\n",
       "    }\n",
       "</style>\n",
       "<table border=\"1\" class=\"dataframe\">\n",
       "  <thead>\n",
       "    <tr style=\"text-align: right;\">\n",
       "      <th></th>\n",
       "      <th>Sentence</th>\n",
       "      <th>True Label</th>\n",
       "      <th>Prediction</th>\n",
       "      <th>Correct?</th>\n",
       "    </tr>\n",
       "  </thead>\n",
       "  <tbody>\n",
       "    <tr>\n",
       "      <th>0</th>\n",
       "      <td>IgE sensitization to Aspergillus fumigatus and...</td>\n",
       "      <td>BACKGROUND</td>\n",
       "      <td>BACKGROUND</td>\n",
       "      <td>True</td>\n",
       "    </tr>\n",
       "    <tr>\n",
       "      <th>1</th>\n",
       "      <td>It is not clear whether these patients would b...</td>\n",
       "      <td>BACKGROUND</td>\n",
       "      <td>BACKGROUND</td>\n",
       "      <td>True</td>\n",
       "    </tr>\n",
       "    <tr>\n",
       "      <th>2</th>\n",
       "      <td>We sought to determine whether a 3-month cours...</td>\n",
       "      <td>OBJECTIVE</td>\n",
       "      <td>OBJECTIVE</td>\n",
       "      <td>True</td>\n",
       "    </tr>\n",
       "    <tr>\n",
       "      <th>3</th>\n",
       "      <td>Asthmatic patients who were IgE sensitized to ...</td>\n",
       "      <td>METHODS</td>\n",
       "      <td>METHODS</td>\n",
       "      <td>True</td>\n",
       "    </tr>\n",
       "    <tr>\n",
       "      <th>4</th>\n",
       "      <td>Primary outcomes were improvement in quality o...</td>\n",
       "      <td>METHODS</td>\n",
       "      <td>METHODS</td>\n",
       "      <td>True</td>\n",
       "    </tr>\n",
       "    <tr>\n",
       "      <th>5</th>\n",
       "      <td>Sixty-five patients were randomized .</td>\n",
       "      <td>RESULTS</td>\n",
       "      <td>RESULTS</td>\n",
       "      <td>True</td>\n",
       "    </tr>\n",
       "    <tr>\n",
       "      <th>6</th>\n",
       "      <td>Fifty-nine patients started treatment ( 32 rec...</td>\n",
       "      <td>RESULTS</td>\n",
       "      <td>RESULTS</td>\n",
       "      <td>True</td>\n",
       "    </tr>\n",
       "    <tr>\n",
       "      <th>7</th>\n",
       "      <td>Fifty-six patients took the full 3 months of m...</td>\n",
       "      <td>RESULTS</td>\n",
       "      <td>METHODS</td>\n",
       "      <td>False</td>\n",
       "    </tr>\n",
       "    <tr>\n",
       "      <th>8</th>\n",
       "      <td>Between the voriconazole and placebo groups , ...</td>\n",
       "      <td>RESULTS</td>\n",
       "      <td>RESULTS</td>\n",
       "      <td>True</td>\n",
       "    </tr>\n",
       "    <tr>\n",
       "      <th>9</th>\n",
       "      <td>We were unable to show a beneficial effect of ...</td>\n",
       "      <td>CONCLUSIONS</td>\n",
       "      <td>CONCLUSIONS</td>\n",
       "      <td>True</td>\n",
       "    </tr>\n",
       "  </tbody>\n",
       "</table>\n",
       "</div>"
      ],
      "text/plain": [
       "                                            Sentence   True Label  \\\n",
       "0  IgE sensitization to Aspergillus fumigatus and...   BACKGROUND   \n",
       "1  It is not clear whether these patients would b...   BACKGROUND   \n",
       "2  We sought to determine whether a 3-month cours...    OBJECTIVE   \n",
       "3  Asthmatic patients who were IgE sensitized to ...      METHODS   \n",
       "4  Primary outcomes were improvement in quality o...      METHODS   \n",
       "5              Sixty-five patients were randomized .      RESULTS   \n",
       "6  Fifty-nine patients started treatment ( 32 rec...      RESULTS   \n",
       "7  Fifty-six patients took the full 3 months of m...      RESULTS   \n",
       "8  Between the voriconazole and placebo groups , ...      RESULTS   \n",
       "9  We were unable to show a beneficial effect of ...  CONCLUSIONS   \n",
       "\n",
       "    Prediction  Correct?  \n",
       "0   BACKGROUND      True  \n",
       "1   BACKGROUND      True  \n",
       "2    OBJECTIVE      True  \n",
       "3      METHODS      True  \n",
       "4      METHODS      True  \n",
       "5      RESULTS      True  \n",
       "6      RESULTS      True  \n",
       "7      METHODS     False  \n",
       "8      RESULTS      True  \n",
       "9  CONCLUSIONS      True  "
      ]
     },
     "execution_count": 54,
     "metadata": {},
     "output_type": "execute_result"
    }
   ],
   "source": [
    "show_sample_predictions(model_2_predictions)"
   ]
  },
  {
   "cell_type": "markdown",
   "id": "9550eb1a",
   "metadata": {
    "papermill": {
     "duration": 0.239383,
     "end_time": "2023-07-07T09:38:07.476570",
     "exception": false,
     "start_time": "2023-07-07T09:38:07.237187",
     "status": "completed"
    },
    "tags": []
   },
   "source": [
    "## 3/d] **Model 3 (RNN model 3):** Bidirectional model"
   ]
  },
  {
   "cell_type": "code",
   "execution_count": 55,
   "id": "18812473",
   "metadata": {
    "execution": {
     "iopub.execute_input": "2023-07-07T09:38:07.958541Z",
     "iopub.status.busy": "2023-07-07T09:38:07.958161Z",
     "iopub.status.idle": "2023-07-07T09:38:08.460235Z",
     "shell.execute_reply": "2023-07-07T09:38:08.459383Z"
    },
    "papermill": {
     "duration": 0.754122,
     "end_time": "2023-07-07T09:38:08.470489",
     "exception": false,
     "start_time": "2023-07-07T09:38:07.716367",
     "status": "completed"
    },
    "tags": []
   },
   "outputs": [
    {
     "name": "stdout",
     "output_type": "stream",
     "text": [
      "Model: \"sequential_2\"\n",
      "_________________________________________________________________\n",
      " Layer (type)                Output Shape              Param #   \n",
      "=================================================================\n",
      " text_vectorization (TextVec  (None, 45)               0         \n",
      " torization)                                                     \n",
      "                                                                 \n",
      " embedding_3 (Embedding)     (None, 45, 512)           2560000   \n",
      "                                                                 \n",
      " bidirectional (Bidirectiona  (None, 128)              221952    \n",
      " l)                                                              \n",
      "                                                                 \n",
      " dense_2 (Dense)             (None, 5)                 645       \n",
      "                                                                 \n",
      "=================================================================\n",
      "Total params: 2,782,597\n",
      "Trainable params: 2,782,597\n",
      "Non-trainable params: 0\n",
      "_________________________________________________________________\n"
     ]
    }
   ],
   "source": [
    "from tensorflow.keras.layers import Bidirectional\n",
    "\n",
    "def build_model_3():\n",
    "    return Sequential([\n",
    "        Input(shape=[], dtype=tf.string),\n",
    "        vectorizer, \n",
    "        make_embedding(),\n",
    "        Bidirectional(GRU(64)),\n",
    "        Dense(len(CLASSES), activation='softmax')\n",
    "    ])\n",
    "    \n",
    "model_3 = build_model_3()\n",
    "model_3.summary()"
   ]
  },
  {
   "cell_type": "code",
   "execution_count": 56,
   "id": "fc4d5300",
   "metadata": {
    "execution": {
     "iopub.execute_input": "2023-07-07T09:38:08.970037Z",
     "iopub.status.busy": "2023-07-07T09:38:08.969641Z",
     "iopub.status.idle": "2023-07-07T09:40:13.308997Z",
     "shell.execute_reply": "2023-07-07T09:40:13.307583Z"
    },
    "papermill": {
     "duration": 124.589581,
     "end_time": "2023-07-07T09:40:13.311747",
     "exception": false,
     "start_time": "2023-07-07T09:38:08.722166",
     "status": "completed"
    },
    "tags": []
   },
   "outputs": [
    {
     "name": "stdout",
     "output_type": "stream",
     "text": [
      "Epoch 1/5\n",
      "1406/1406 [==============================] - 49s 32ms/step - loss: 0.5645 - accuracy: 0.7890 - val_loss: 0.4720 - val_accuracy: 0.8243\n",
      "Epoch 2/5\n",
      "1406/1406 [==============================] - 20s 14ms/step - loss: 0.4466 - accuracy: 0.8354 - val_loss: 0.4551 - val_accuracy: 0.8294\n",
      "Epoch 3/5\n",
      "1406/1406 [==============================] - 19s 13ms/step - loss: 0.4016 - accuracy: 0.8520 - val_loss: 0.4507 - val_accuracy: 0.8330\n",
      "Epoch 4/5\n",
      "1406/1406 [==============================] - 18s 13ms/step - loss: 0.3585 - accuracy: 0.8688 - val_loss: 0.4682 - val_accuracy: 0.8273\n",
      "Epoch 5/5\n",
      "1406/1406 [==============================] - 18s 13ms/step - loss: 0.3140 - accuracy: 0.8849 - val_loss: 0.4917 - val_accuracy: 0.8268\n"
     ]
    }
   ],
   "source": [
    "model_3.compile(\n",
    "    loss=SparseCategoricalCrossentropy(),\n",
    "    optimizer=Adam(),\n",
    "    metrics=['accuracy']\n",
    ")\n",
    "\n",
    "model_3_history = model_3.fit(X_train, y_train_encoded,\n",
    "                              batch_size=BATCH_SIZE,\n",
    "                              steps_per_epoch=len(X_train)//BATCH_SIZE,\n",
    "                              epochs=5,\n",
    "                              validation_data=(X_val, y_val_encoded),\n",
    "                              validation_batch_size=BATCH_SIZE,\n",
    "                              validation_steps=len(X_val)//BATCH_SIZE\n",
    "                             )"
   ]
  },
  {
   "cell_type": "code",
   "execution_count": 57,
   "id": "fe6e5788",
   "metadata": {
    "execution": {
     "iopub.execute_input": "2023-07-07T09:40:14.058916Z",
     "iopub.status.busy": "2023-07-07T09:40:14.058535Z",
     "iopub.status.idle": "2023-07-07T09:40:14.426033Z",
     "shell.execute_reply": "2023-07-07T09:40:14.425020Z"
    },
    "papermill": {
     "duration": 0.749594,
     "end_time": "2023-07-07T09:40:14.428100",
     "exception": false,
     "start_time": "2023-07-07T09:40:13.678506",
     "status": "completed"
    },
    "tags": []
   },
   "outputs": [
    {
     "data": {
      "text/plain": [
       "<Axes: >"
      ]
     },
     "execution_count": 57,
     "metadata": {},
     "output_type": "execute_result"
    },
    {
     "data": {
      "image/png": "[encoded data removed]",
      "text/plain": [
       "<Figure size 640x480 with 1 Axes>"
      ]
     },
     "metadata": {},
     "output_type": "display_data"
    }
   ],
   "source": [
    "pd.DataFrame(model_3_history.history).plot()"
   ]
  },
  {
   "cell_type": "code",
   "execution_count": 58,
   "id": "ea1abd55",
   "metadata": {
    "execution": {
     "iopub.execute_input": "2023-07-07T09:40:15.217057Z",
     "iopub.status.busy": "2023-07-07T09:40:15.216686Z",
     "iopub.status.idle": "2023-07-07T09:40:20.955602Z",
     "shell.execute_reply": "2023-07-07T09:40:20.953614Z"
    },
    "papermill": {
     "duration": 6.166372,
     "end_time": "2023-07-07T09:40:20.958951",
     "exception": false,
     "start_time": "2023-07-07T09:40:14.792579",
     "status": "completed"
    },
    "tags": []
   },
   "outputs": [
    {
     "name": "stdout",
     "output_type": "stream",
     "text": [
      "945/945 [==============================] - 5s 5ms/step\n",
      "(30212,)\n"
     ]
    },
    {
     "data": {
      "text/plain": [
       "array(['BACKGROUND', 'BACKGROUND', 'OBJECTIVE', 'METHODS', 'METHODS'],\n",
       "      dtype='<U11')"
      ]
     },
     "execution_count": 58,
     "metadata": {},
     "output_type": "execute_result"
    }
   ],
   "source": [
    "model_3_predictions = model_predict(model_3, X_val)\n",
    "\n",
    "model_3_predictions[:5]"
   ]
  },
  {
   "cell_type": "code",
   "execution_count": 59,
   "id": "94d15b87",
   "metadata": {
    "execution": {
     "iopub.execute_input": "2023-07-07T09:40:21.736933Z",
     "iopub.status.busy": "2023-07-07T09:40:21.736568Z",
     "iopub.status.idle": "2023-07-07T09:40:21.964354Z",
     "shell.execute_reply": "2023-07-07T09:40:21.963126Z"
    },
    "papermill": {
     "duration": 0.602364,
     "end_time": "2023-07-07T09:40:21.966587",
     "exception": false,
     "start_time": "2023-07-07T09:40:21.364223",
     "status": "completed"
    },
    "tags": []
   },
   "outputs": [
    {
     "data": {
      "text/plain": [
       "{'precision': 0.8236889616565516,\n",
       " 'recall': 0.8268568780616974,\n",
       " 'f1': 0.8244564681566484}"
      ]
     },
     "execution_count": 59,
     "metadata": {},
     "output_type": "execute_result"
    }
   ],
   "source": [
    "score_predictions(y_val, model_3_predictions)"
   ]
  },
  {
   "cell_type": "code",
   "execution_count": 60,
   "id": "7b69f3f3",
   "metadata": {
    "execution": {
     "iopub.execute_input": "2023-07-07T09:40:22.777716Z",
     "iopub.status.busy": "2023-07-07T09:40:22.776769Z",
     "iopub.status.idle": "2023-07-07T09:40:23.255903Z",
     "shell.execute_reply": "2023-07-07T09:40:23.255009Z"
    },
    "papermill": {
     "duration": 0.855756,
     "end_time": "2023-07-07T09:40:23.257886",
     "exception": false,
     "start_time": "2023-07-07T09:40:22.402130",
     "status": "completed"
    },
    "tags": []
   },
   "outputs": [
    {
     "data": {
      "image/png": "[encoded data removed]",
      "text/plain": [
       "<Figure size 640x480 with 2 Axes>"
      ]
     },
     "metadata": {},
     "output_type": "display_data"
    }
   ],
   "source": [
    "show_confusion_matrix(y_val, model_3_predictions)"
   ]
  },
  {
   "cell_type": "code",
   "execution_count": 61,
   "id": "22893c11",
   "metadata": {
    "execution": {
     "iopub.execute_input": "2023-07-07T09:40:24.056181Z",
     "iopub.status.busy": "2023-07-07T09:40:24.055717Z",
     "iopub.status.idle": "2023-07-07T09:40:24.070325Z",
     "shell.execute_reply": "2023-07-07T09:40:24.069238Z"
    },
    "papermill": {
     "duration": 0.443109,
     "end_time": "2023-07-07T09:40:24.072397",
     "exception": false,
     "start_time": "2023-07-07T09:40:23.629288",
     "status": "completed"
    },
    "tags": []
   },
   "outputs": [
    {
     "data": {
      "text/html": [
       "<div>\n",
       "<style scoped>\n",
       "    .dataframe tbody tr th:only-of-type {\n",
       "        vertical-align: middle;\n",
       "    }\n",
       "\n",
       "    .dataframe tbody tr th {\n",
       "        vertical-align: top;\n",
       "    }\n",
       "\n",
       "    .dataframe thead th {\n",
       "        text-align: right;\n",
       "    }\n",
       "</style>\n",
       "<table border=\"1\" class=\"dataframe\">\n",
       "  <thead>\n",
       "    <tr style=\"text-align: right;\">\n",
       "      <th></th>\n",
       "      <th>Sentence</th>\n",
       "      <th>True Label</th>\n",
       "      <th>Prediction</th>\n",
       "      <th>Correct?</th>\n",
       "    </tr>\n",
       "  </thead>\n",
       "  <tbody>\n",
       "    <tr>\n",
       "      <th>0</th>\n",
       "      <td>IgE sensitization to Aspergillus fumigatus and...</td>\n",
       "      <td>BACKGROUND</td>\n",
       "      <td>BACKGROUND</td>\n",
       "      <td>True</td>\n",
       "    </tr>\n",
       "    <tr>\n",
       "      <th>1</th>\n",
       "      <td>It is not clear whether these patients would b...</td>\n",
       "      <td>BACKGROUND</td>\n",
       "      <td>BACKGROUND</td>\n",
       "      <td>True</td>\n",
       "    </tr>\n",
       "    <tr>\n",
       "      <th>2</th>\n",
       "      <td>We sought to determine whether a 3-month cours...</td>\n",
       "      <td>OBJECTIVE</td>\n",
       "      <td>OBJECTIVE</td>\n",
       "      <td>True</td>\n",
       "    </tr>\n",
       "    <tr>\n",
       "      <th>3</th>\n",
       "      <td>Asthmatic patients who were IgE sensitized to ...</td>\n",
       "      <td>METHODS</td>\n",
       "      <td>METHODS</td>\n",
       "      <td>True</td>\n",
       "    </tr>\n",
       "    <tr>\n",
       "      <th>4</th>\n",
       "      <td>Primary outcomes were improvement in quality o...</td>\n",
       "      <td>METHODS</td>\n",
       "      <td>METHODS</td>\n",
       "      <td>True</td>\n",
       "    </tr>\n",
       "    <tr>\n",
       "      <th>5</th>\n",
       "      <td>Sixty-five patients were randomized .</td>\n",
       "      <td>RESULTS</td>\n",
       "      <td>RESULTS</td>\n",
       "      <td>True</td>\n",
       "    </tr>\n",
       "    <tr>\n",
       "      <th>6</th>\n",
       "      <td>Fifty-nine patients started treatment ( 32 rec...</td>\n",
       "      <td>RESULTS</td>\n",
       "      <td>RESULTS</td>\n",
       "      <td>True</td>\n",
       "    </tr>\n",
       "    <tr>\n",
       "      <th>7</th>\n",
       "      <td>Fifty-six patients took the full 3 months of m...</td>\n",
       "      <td>RESULTS</td>\n",
       "      <td>RESULTS</td>\n",
       "      <td>True</td>\n",
       "    </tr>\n",
       "    <tr>\n",
       "      <th>8</th>\n",
       "      <td>Between the voriconazole and placebo groups , ...</td>\n",
       "      <td>RESULTS</td>\n",
       "      <td>RESULTS</td>\n",
       "      <td>True</td>\n",
       "    </tr>\n",
       "    <tr>\n",
       "      <th>9</th>\n",
       "      <td>We were unable to show a beneficial effect of ...</td>\n",
       "      <td>CONCLUSIONS</td>\n",
       "      <td>METHODS</td>\n",
       "      <td>False</td>\n",
       "    </tr>\n",
       "  </tbody>\n",
       "</table>\n",
       "</div>"
      ],
      "text/plain": [
       "                                            Sentence   True Label  Prediction  \\\n",
       "0  IgE sensitization to Aspergillus fumigatus and...   BACKGROUND  BACKGROUND   \n",
       "1  It is not clear whether these patients would b...   BACKGROUND  BACKGROUND   \n",
       "2  We sought to determine whether a 3-month cours...    OBJECTIVE   OBJECTIVE   \n",
       "3  Asthmatic patients who were IgE sensitized to ...      METHODS     METHODS   \n",
       "4  Primary outcomes were improvement in quality o...      METHODS     METHODS   \n",
       "5              Sixty-five patients were randomized .      RESULTS     RESULTS   \n",
       "6  Fifty-nine patients started treatment ( 32 rec...      RESULTS     RESULTS   \n",
       "7  Fifty-six patients took the full 3 months of m...      RESULTS     RESULTS   \n",
       "8  Between the voriconazole and placebo groups , ...      RESULTS     RESULTS   \n",
       "9  We were unable to show a beneficial effect of ...  CONCLUSIONS     METHODS   \n",
       "\n",
       "   Correct?  \n",
       "0      True  \n",
       "1      True  \n",
       "2      True  \n",
       "3      True  \n",
       "4      True  \n",
       "5      True  \n",
       "6      True  \n",
       "7      True  \n",
       "8      True  \n",
       "9     False  "
      ]
     },
     "execution_count": 61,
     "metadata": {},
     "output_type": "execute_result"
    }
   ],
   "source": [
    "show_sample_predictions(model_3_predictions)"
   ]
  },
  {
   "cell_type": "code",
   "execution_count": null,
   "id": "f52cca95",
   "metadata": {
    "papermill": {
     "duration": 0.381791,
     "end_time": "2023-07-07T09:40:24.834400",
     "exception": false,
     "start_time": "2023-07-07T09:40:24.452609",
     "status": "completed"
    },
    "tags": []
   },
   "outputs": [],
   "source": []
  }
 ],
 "metadata": {
  "kernelspec": {
   "display_name": "Python 3",
   "language": "python",
   "name": "python3"
  },
  "language_info": {
   "codemirror_mode": {
    "name": "ipython",
    "version": 3
   },
   "file_extension": ".py",
   "mimetype": "text/x-python",
   "name": "python",
   "nbconvert_exporter": "python",
   "pygments_lexer": "ipython3",
   "version": "3.10.10"
  },
  "papermill": {
   "default_parameters": {},
   "duration": 476.375783,
   "end_time": "2023-07-07T09:40:28.909433",
   "environment_variables": {},
   "exception": null,
   "input_path": "__notebook__.ipynb",
   "output_path": "__notebook__.ipynb",
   "parameters": {},
   "start_time": "2023-07-07T09:32:32.533650",
   "version": "2.4.0"
  }
 },
 "nbformat": 4,
 "nbformat_minor": 5
}
