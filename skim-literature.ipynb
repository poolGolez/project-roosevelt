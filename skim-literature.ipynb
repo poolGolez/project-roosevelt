{
 "cells": [
  {
   "cell_type": "code",
   "execution_count": 1,
   "id": "b55bfb93",
   "metadata": {
    "_cell_guid": "b1076dfc-b9ad-4769-8c92-a6c4dae69d19",
    "_uuid": "8f2839f25d086af736a60e9eeb907d3b93b6e0e5",
    "execution": {
     "iopub.execute_input": "2023-07-07T08:30:04.763334Z",
     "iopub.status.busy": "2023-07-07T08:30:04.762969Z",
     "iopub.status.idle": "2023-07-07T08:30:14.792706Z",
     "shell.execute_reply": "2023-07-07T08:30:14.791200Z"
    },
    "papermill": {
     "duration": 10.049147,
     "end_time": "2023-07-07T08:30:14.795164",
     "exception": false,
     "start_time": "2023-07-07T08:30:04.746017",
     "status": "completed"
    },
    "tags": []
   },
   "outputs": [
    {
     "name": "stderr",
     "output_type": "stream",
     "text": [
      "/opt/conda/lib/python3.10/site-packages/tensorflow_io/python/ops/__init__.py:98: UserWarning: unable to load libtensorflow_io_plugins.so: unable to open file: libtensorflow_io_plugins.so, from paths: ['/opt/conda/lib/python3.10/site-packages/tensorflow_io/python/ops/libtensorflow_io_plugins.so']\n",
      "caused by: ['/opt/conda/lib/python3.10/site-packages/tensorflow_io/python/ops/libtensorflow_io_plugins.so: undefined symbol: _ZN3tsl6StatusC1EN10tensorflow5error4CodeESt17basic_string_viewIcSt11char_traitsIcEENS_14SourceLocationE']\n",
      "  warnings.warn(f\"unable to load libtensorflow_io_plugins.so: {e}\")\n",
      "/opt/conda/lib/python3.10/site-packages/tensorflow_io/python/ops/__init__.py:104: UserWarning: file system plugins are not loaded: unable to open file: libtensorflow_io.so, from paths: ['/opt/conda/lib/python3.10/site-packages/tensorflow_io/python/ops/libtensorflow_io.so']\n",
      "caused by: ['/opt/conda/lib/python3.10/site-packages/tensorflow_io/python/ops/libtensorflow_io.so: undefined symbol: _ZTVN10tensorflow13GcsFileSystemE']\n",
      "  warnings.warn(f\"file system plugins are not loaded: {e}\")\n"
     ]
    },
    {
     "name": "stdout",
     "output_type": "stream",
     "text": [
      "/kaggle/input/pubmed-200k-rtc/PubMed_200k_RCT_numbers_replaced_with_at_sign/dev.csv\n",
      "/kaggle/input/pubmed-200k-rtc/PubMed_200k_RCT_numbers_replaced_with_at_sign/test.txt\n",
      "/kaggle/input/pubmed-200k-rtc/PubMed_200k_RCT_numbers_replaced_with_at_sign/dev.txt\n",
      "/kaggle/input/pubmed-200k-rtc/PubMed_200k_RCT_numbers_replaced_with_at_sign/train.csv\n",
      "/kaggle/input/pubmed-200k-rtc/PubMed_200k_RCT_numbers_replaced_with_at_sign/test.csv\n",
      "/kaggle/input/pubmed-200k-rtc/PubMed_200k_RCT_numbers_replaced_with_at_sign/train/train.txt\n",
      "/kaggle/input/pubmed-200k-rtc/PubMed_200k_RCT/dev.csv\n",
      "/kaggle/input/pubmed-200k-rtc/PubMed_200k_RCT/test.txt\n",
      "/kaggle/input/pubmed-200k-rtc/PubMed_200k_RCT/dev.txt\n",
      "/kaggle/input/pubmed-200k-rtc/PubMed_200k_RCT/train.csv\n",
      "/kaggle/input/pubmed-200k-rtc/PubMed_200k_RCT/test.csv\n",
      "/kaggle/input/pubmed-200k-rtc/PubMed_200k_RCT/train/train.txt\n",
      "/kaggle/input/pubmed-200k-rtc/PubMed_20k_RCT/dev.csv\n",
      "/kaggle/input/pubmed-200k-rtc/PubMed_20k_RCT/test.txt\n",
      "/kaggle/input/pubmed-200k-rtc/PubMed_20k_RCT/train.txt\n",
      "/kaggle/input/pubmed-200k-rtc/PubMed_20k_RCT/dev.txt\n",
      "/kaggle/input/pubmed-200k-rtc/PubMed_20k_RCT/train.csv\n",
      "/kaggle/input/pubmed-200k-rtc/PubMed_20k_RCT/test.csv\n",
      "/kaggle/input/pubmed-200k-rtc/PubMed_20k_RCT_numbers_replaced_with_at_sign/dev.csv\n",
      "/kaggle/input/pubmed-200k-rtc/PubMed_20k_RCT_numbers_replaced_with_at_sign/test.txt\n",
      "/kaggle/input/pubmed-200k-rtc/PubMed_20k_RCT_numbers_replaced_with_at_sign/train.txt\n",
      "/kaggle/input/pubmed-200k-rtc/PubMed_20k_RCT_numbers_replaced_with_at_sign/dev.txt\n",
      "/kaggle/input/pubmed-200k-rtc/PubMed_20k_RCT_numbers_replaced_with_at_sign/train.csv\n",
      "/kaggle/input/pubmed-200k-rtc/PubMed_20k_RCT_numbers_replaced_with_at_sign/test.csv\n"
     ]
    }
   ],
   "source": [
    "# This Python 3 environment comes with many helpful analytics libraries installed\n",
    "# It is defined by the kaggle/python Docker image: https://github.com/kaggle/docker-python\n",
    "# For example, here's several helpful packages to load\n",
    "\n",
    "import numpy as np # linear algebra\n",
    "import pandas as pd # data processing, CSV file I/O (e.g. pd.read_csv)\n",
    "import tensorflow as tf\n",
    "\n",
    "RANDOM_SEED = 42\n",
    "tf.keras.utils.set_random_seed(RANDOM_SEED)\n",
    "\n",
    "\n",
    "# Input data files are available in the read-only \"../input/\" directory\n",
    "# For example, running this (by clicking run or pressing Shift+Enter) will list all files under the input directory\n",
    "\n",
    "import os\n",
    "for dirname, _, filenames in os.walk('/kaggle/input'):\n",
    "    for filename in filenames:\n",
    "        print(os.path.join(dirname, filename))\n",
    "\n",
    "# You can write up to 20GB to the current directory (/kaggle/working/) that gets preserved as output when you create a version using \"Save & Run All\" \n",
    "# You can also write temporary files to /kaggle/temp/, but they won't be saved outside of the current session"
   ]
  },
  {
   "cell_type": "code",
   "execution_count": 2,
   "id": "309acbe9",
   "metadata": {
    "execution": {
     "iopub.execute_input": "2023-07-07T08:30:14.827960Z",
     "iopub.status.busy": "2023-07-07T08:30:14.826100Z",
     "iopub.status.idle": "2023-07-07T08:30:15.811643Z",
     "shell.execute_reply": "2023-07-07T08:30:15.810488Z"
    },
    "papermill": {
     "duration": 1.003806,
     "end_time": "2023-07-07T08:30:15.814125",
     "exception": false,
     "start_time": "2023-07-07T08:30:14.810319",
     "status": "completed"
    },
    "tags": []
   },
   "outputs": [
    {
     "name": "stdout",
     "output_type": "stream",
     "text": [
      "GPU 0: Tesla T4 (UUID: GPU-7e81c8df-7448-fa4d-cd3d-f6d74703cc88)\r\n",
      "GPU 1: Tesla T4 (UUID: GPU-a2c4b271-bd19-d034-6f6f-e61f81db9ff2)\r\n"
     ]
    }
   ],
   "source": [
    "!nvidia-smi -L"
   ]
  },
  {
   "cell_type": "markdown",
   "id": "66862b9c",
   "metadata": {
    "papermill": {
     "duration": 0.014614,
     "end_time": "2023-07-07T08:30:15.844052",
     "exception": false,
     "start_time": "2023-07-07T08:30:15.829438",
     "status": "completed"
    },
    "tags": []
   },
   "source": [
    "# 1] Data Ingestion"
   ]
  },
  {
   "cell_type": "code",
   "execution_count": 3,
   "id": "b19022a2",
   "metadata": {
    "execution": {
     "iopub.execute_input": "2023-07-07T08:30:15.877004Z",
     "iopub.status.busy": "2023-07-07T08:30:15.876034Z",
     "iopub.status.idle": "2023-07-07T08:30:15.881233Z",
     "shell.execute_reply": "2023-07-07T08:30:15.880167Z"
    },
    "papermill": {
     "duration": 0.023862,
     "end_time": "2023-07-07T08:30:15.883213",
     "exception": false,
     "start_time": "2023-07-07T08:30:15.859351",
     "status": "completed"
    },
    "tags": []
   },
   "outputs": [],
   "source": [
    "TRAIN_CSV_FILE_LOCATION = '/kaggle/input/pubmed-200k-rtc/PubMed_20k_RCT/train.csv'\n",
    "VAL_CSV_FILE_LOCATION = '/kaggle/input/pubmed-200k-rtc/PubMed_20k_RCT/dev.csv'\n",
    "TEST_CSV_FILE_LOCATION = '/kaggle/input/pubmed-200k-rtc/PubMed_20k_RCT/test.csv'"
   ]
  },
  {
   "cell_type": "code",
   "execution_count": 4,
   "id": "12bd5ab4",
   "metadata": {
    "execution": {
     "iopub.execute_input": "2023-07-07T08:30:15.915598Z",
     "iopub.status.busy": "2023-07-07T08:30:15.914170Z",
     "iopub.status.idle": "2023-07-07T08:30:16.868364Z",
     "shell.execute_reply": "2023-07-07T08:30:16.867389Z"
    },
    "papermill": {
     "duration": 0.97224,
     "end_time": "2023-07-07T08:30:16.870583",
     "exception": false,
     "start_time": "2023-07-07T08:30:15.898343",
     "status": "completed"
    },
    "tags": []
   },
   "outputs": [
    {
     "data": {
      "text/html": [
       "<div>\n",
       "<style scoped>\n",
       "    .dataframe tbody tr th:only-of-type {\n",
       "        vertical-align: middle;\n",
       "    }\n",
       "\n",
       "    .dataframe tbody tr th {\n",
       "        vertical-align: top;\n",
       "    }\n",
       "\n",
       "    .dataframe thead th {\n",
       "        text-align: right;\n",
       "    }\n",
       "</style>\n",
       "<table border=\"1\" class=\"dataframe\">\n",
       "  <thead>\n",
       "    <tr style=\"text-align: right;\">\n",
       "      <th></th>\n",
       "      <th>abstract_id</th>\n",
       "      <th>line_id</th>\n",
       "      <th>abstract_text</th>\n",
       "      <th>line_number</th>\n",
       "      <th>total_lines</th>\n",
       "      <th>target</th>\n",
       "    </tr>\n",
       "  </thead>\n",
       "  <tbody>\n",
       "    <tr>\n",
       "      <th>0</th>\n",
       "      <td>24293578</td>\n",
       "      <td>24293578_0_12</td>\n",
       "      <td>To investigate the efficacy of 6 weeks of dail...</td>\n",
       "      <td>0</td>\n",
       "      <td>12</td>\n",
       "      <td>OBJECTIVE</td>\n",
       "    </tr>\n",
       "    <tr>\n",
       "      <th>1</th>\n",
       "      <td>24293578</td>\n",
       "      <td>24293578_1_12</td>\n",
       "      <td>A total of 125 patients with primary knee OA w...</td>\n",
       "      <td>1</td>\n",
       "      <td>12</td>\n",
       "      <td>METHODS</td>\n",
       "    </tr>\n",
       "    <tr>\n",
       "      <th>2</th>\n",
       "      <td>24293578</td>\n",
       "      <td>24293578_2_12</td>\n",
       "      <td>Outcome measures included pain reduction and i...</td>\n",
       "      <td>2</td>\n",
       "      <td>12</td>\n",
       "      <td>METHODS</td>\n",
       "    </tr>\n",
       "    <tr>\n",
       "      <th>3</th>\n",
       "      <td>24293578</td>\n",
       "      <td>24293578_3_12</td>\n",
       "      <td>Pain was assessed using the visual analog pain...</td>\n",
       "      <td>3</td>\n",
       "      <td>12</td>\n",
       "      <td>METHODS</td>\n",
       "    </tr>\n",
       "    <tr>\n",
       "      <th>4</th>\n",
       "      <td>24293578</td>\n",
       "      <td>24293578_4_12</td>\n",
       "      <td>Secondary outcome measures included the Wester...</td>\n",
       "      <td>4</td>\n",
       "      <td>12</td>\n",
       "      <td>METHODS</td>\n",
       "    </tr>\n",
       "  </tbody>\n",
       "</table>\n",
       "</div>"
      ],
      "text/plain": [
       "   abstract_id        line_id  \\\n",
       "0     24293578  24293578_0_12   \n",
       "1     24293578  24293578_1_12   \n",
       "2     24293578  24293578_2_12   \n",
       "3     24293578  24293578_3_12   \n",
       "4     24293578  24293578_4_12   \n",
       "\n",
       "                                       abstract_text  line_number  \\\n",
       "0  To investigate the efficacy of 6 weeks of dail...            0   \n",
       "1  A total of 125 patients with primary knee OA w...            1   \n",
       "2  Outcome measures included pain reduction and i...            2   \n",
       "3  Pain was assessed using the visual analog pain...            3   \n",
       "4  Secondary outcome measures included the Wester...            4   \n",
       "\n",
       "   total_lines     target  \n",
       "0           12  OBJECTIVE  \n",
       "1           12    METHODS  \n",
       "2           12    METHODS  \n",
       "3           12    METHODS  \n",
       "4           12    METHODS  "
      ]
     },
     "execution_count": 4,
     "metadata": {},
     "output_type": "execute_result"
    }
   ],
   "source": [
    "train_df = pd.read_csv(TRAIN_CSV_FILE_LOCATION)\n",
    "train_df.head()"
   ]
  },
  {
   "cell_type": "code",
   "execution_count": 5,
   "id": "754e540e",
   "metadata": {
    "execution": {
     "iopub.execute_input": "2023-07-07T08:30:16.905320Z",
     "iopub.status.busy": "2023-07-07T08:30:16.903820Z",
     "iopub.status.idle": "2023-07-07T08:30:17.082179Z",
     "shell.execute_reply": "2023-07-07T08:30:17.081266Z"
    },
    "papermill": {
     "duration": 0.196781,
     "end_time": "2023-07-07T08:30:17.084191",
     "exception": false,
     "start_time": "2023-07-07T08:30:16.887410",
     "status": "completed"
    },
    "tags": []
   },
   "outputs": [
    {
     "data": {
      "text/html": [
       "<div>\n",
       "<style scoped>\n",
       "    .dataframe tbody tr th:only-of-type {\n",
       "        vertical-align: middle;\n",
       "    }\n",
       "\n",
       "    .dataframe tbody tr th {\n",
       "        vertical-align: top;\n",
       "    }\n",
       "\n",
       "    .dataframe thead th {\n",
       "        text-align: right;\n",
       "    }\n",
       "</style>\n",
       "<table border=\"1\" class=\"dataframe\">\n",
       "  <thead>\n",
       "    <tr style=\"text-align: right;\">\n",
       "      <th></th>\n",
       "      <th>abstract_id</th>\n",
       "      <th>line_id</th>\n",
       "      <th>abstract_text</th>\n",
       "      <th>line_number</th>\n",
       "      <th>total_lines</th>\n",
       "      <th>target</th>\n",
       "    </tr>\n",
       "  </thead>\n",
       "  <tbody>\n",
       "    <tr>\n",
       "      <th>0</th>\n",
       "      <td>24290286</td>\n",
       "      <td>24290286_0_10</td>\n",
       "      <td>IgE sensitization to Aspergillus fumigatus and...</td>\n",
       "      <td>0</td>\n",
       "      <td>10</td>\n",
       "      <td>BACKGROUND</td>\n",
       "    </tr>\n",
       "    <tr>\n",
       "      <th>1</th>\n",
       "      <td>24290286</td>\n",
       "      <td>24290286_1_10</td>\n",
       "      <td>It is not clear whether these patients would b...</td>\n",
       "      <td>1</td>\n",
       "      <td>10</td>\n",
       "      <td>BACKGROUND</td>\n",
       "    </tr>\n",
       "    <tr>\n",
       "      <th>2</th>\n",
       "      <td>24290286</td>\n",
       "      <td>24290286_2_10</td>\n",
       "      <td>We sought to determine whether a 3-month cours...</td>\n",
       "      <td>2</td>\n",
       "      <td>10</td>\n",
       "      <td>OBJECTIVE</td>\n",
       "    </tr>\n",
       "    <tr>\n",
       "      <th>3</th>\n",
       "      <td>24290286</td>\n",
       "      <td>24290286_3_10</td>\n",
       "      <td>Asthmatic patients who were IgE sensitized to ...</td>\n",
       "      <td>3</td>\n",
       "      <td>10</td>\n",
       "      <td>METHODS</td>\n",
       "    </tr>\n",
       "    <tr>\n",
       "      <th>4</th>\n",
       "      <td>24290286</td>\n",
       "      <td>24290286_4_10</td>\n",
       "      <td>Primary outcomes were improvement in quality o...</td>\n",
       "      <td>4</td>\n",
       "      <td>10</td>\n",
       "      <td>METHODS</td>\n",
       "    </tr>\n",
       "  </tbody>\n",
       "</table>\n",
       "</div>"
      ],
      "text/plain": [
       "   abstract_id        line_id  \\\n",
       "0     24290286  24290286_0_10   \n",
       "1     24290286  24290286_1_10   \n",
       "2     24290286  24290286_2_10   \n",
       "3     24290286  24290286_3_10   \n",
       "4     24290286  24290286_4_10   \n",
       "\n",
       "                                       abstract_text  line_number  \\\n",
       "0  IgE sensitization to Aspergillus fumigatus and...            0   \n",
       "1  It is not clear whether these patients would b...            1   \n",
       "2  We sought to determine whether a 3-month cours...            2   \n",
       "3  Asthmatic patients who were IgE sensitized to ...            3   \n",
       "4  Primary outcomes were improvement in quality o...            4   \n",
       "\n",
       "   total_lines      target  \n",
       "0           10  BACKGROUND  \n",
       "1           10  BACKGROUND  \n",
       "2           10   OBJECTIVE  \n",
       "3           10     METHODS  \n",
       "4           10     METHODS  "
      ]
     },
     "execution_count": 5,
     "metadata": {},
     "output_type": "execute_result"
    }
   ],
   "source": [
    "val_df = pd.read_csv(VAL_CSV_FILE_LOCATION)\n",
    "val_df.head()"
   ]
  },
  {
   "cell_type": "code",
   "execution_count": 6,
   "id": "7665e5c1",
   "metadata": {
    "execution": {
     "iopub.execute_input": "2023-07-07T08:30:17.117993Z",
     "iopub.status.busy": "2023-07-07T08:30:17.116441Z",
     "iopub.status.idle": "2023-07-07T08:30:17.286815Z",
     "shell.execute_reply": "2023-07-07T08:30:17.285873Z"
    },
    "papermill": {
     "duration": 0.189234,
     "end_time": "2023-07-07T08:30:17.289051",
     "exception": false,
     "start_time": "2023-07-07T08:30:17.099817",
     "status": "completed"
    },
    "tags": []
   },
   "outputs": [
    {
     "data": {
      "text/html": [
       "<div>\n",
       "<style scoped>\n",
       "    .dataframe tbody tr th:only-of-type {\n",
       "        vertical-align: middle;\n",
       "    }\n",
       "\n",
       "    .dataframe tbody tr th {\n",
       "        vertical-align: top;\n",
       "    }\n",
       "\n",
       "    .dataframe thead th {\n",
       "        text-align: right;\n",
       "    }\n",
       "</style>\n",
       "<table border=\"1\" class=\"dataframe\">\n",
       "  <thead>\n",
       "    <tr style=\"text-align: right;\">\n",
       "      <th></th>\n",
       "      <th>abstract_id</th>\n",
       "      <th>line_id</th>\n",
       "      <th>abstract_text</th>\n",
       "      <th>line_number</th>\n",
       "      <th>total_lines</th>\n",
       "      <th>target</th>\n",
       "    </tr>\n",
       "  </thead>\n",
       "  <tbody>\n",
       "    <tr>\n",
       "      <th>0</th>\n",
       "      <td>24845963</td>\n",
       "      <td>24845963_0_9</td>\n",
       "      <td>This study analyzed liver function abnormaliti...</td>\n",
       "      <td>0</td>\n",
       "      <td>9</td>\n",
       "      <td>BACKGROUND</td>\n",
       "    </tr>\n",
       "    <tr>\n",
       "      <th>1</th>\n",
       "      <td>24845963</td>\n",
       "      <td>24845963_1_9</td>\n",
       "      <td>A post hoc analysis was conducted with the use...</td>\n",
       "      <td>1</td>\n",
       "      <td>9</td>\n",
       "      <td>RESULTS</td>\n",
       "    </tr>\n",
       "    <tr>\n",
       "      <th>2</th>\n",
       "      <td>24845963</td>\n",
       "      <td>24845963_2_9</td>\n",
       "      <td>Liver function tests ( LFTs ) were measured at...</td>\n",
       "      <td>2</td>\n",
       "      <td>9</td>\n",
       "      <td>RESULTS</td>\n",
       "    </tr>\n",
       "    <tr>\n",
       "      <th>3</th>\n",
       "      <td>24845963</td>\n",
       "      <td>24845963_3_9</td>\n",
       "      <td>Survival analyses were used to assess the asso...</td>\n",
       "      <td>3</td>\n",
       "      <td>9</td>\n",
       "      <td>RESULTS</td>\n",
       "    </tr>\n",
       "    <tr>\n",
       "      <th>4</th>\n",
       "      <td>24845963</td>\n",
       "      <td>24845963_4_9</td>\n",
       "      <td>The percentage of patients with abnormal LFTs ...</td>\n",
       "      <td>4</td>\n",
       "      <td>9</td>\n",
       "      <td>RESULTS</td>\n",
       "    </tr>\n",
       "  </tbody>\n",
       "</table>\n",
       "</div>"
      ],
      "text/plain": [
       "   abstract_id       line_id  \\\n",
       "0     24845963  24845963_0_9   \n",
       "1     24845963  24845963_1_9   \n",
       "2     24845963  24845963_2_9   \n",
       "3     24845963  24845963_3_9   \n",
       "4     24845963  24845963_4_9   \n",
       "\n",
       "                                       abstract_text  line_number  \\\n",
       "0  This study analyzed liver function abnormaliti...            0   \n",
       "1  A post hoc analysis was conducted with the use...            1   \n",
       "2  Liver function tests ( LFTs ) were measured at...            2   \n",
       "3  Survival analyses were used to assess the asso...            3   \n",
       "4  The percentage of patients with abnormal LFTs ...            4   \n",
       "\n",
       "   total_lines      target  \n",
       "0            9  BACKGROUND  \n",
       "1            9     RESULTS  \n",
       "2            9     RESULTS  \n",
       "3            9     RESULTS  \n",
       "4            9     RESULTS  "
      ]
     },
     "execution_count": 6,
     "metadata": {},
     "output_type": "execute_result"
    }
   ],
   "source": [
    "test_df = pd.read_csv(TEST_CSV_FILE_LOCATION)\n",
    "test_df.head()"
   ]
  },
  {
   "cell_type": "markdown",
   "id": "a6f354e3",
   "metadata": {
    "papermill": {
     "duration": 0.015391,
     "end_time": "2023-07-07T08:30:17.320388",
     "exception": false,
     "start_time": "2023-07-07T08:30:17.304997",
     "status": "completed"
    },
    "tags": []
   },
   "source": [
    "# 2] Exploratory Data Analysis"
   ]
  },
  {
   "cell_type": "markdown",
   "id": "8726108f",
   "metadata": {
    "papermill": {
     "duration": 0.015456,
     "end_time": "2023-07-07T08:30:17.351260",
     "exception": false,
     "start_time": "2023-07-07T08:30:17.335804",
     "status": "completed"
    },
    "tags": []
   },
   "source": [
    "## 2/a] The Train Set"
   ]
  },
  {
   "cell_type": "code",
   "execution_count": 7,
   "id": "21f7af26",
   "metadata": {
    "execution": {
     "iopub.execute_input": "2023-07-07T08:30:17.384276Z",
     "iopub.status.busy": "2023-07-07T08:30:17.383287Z",
     "iopub.status.idle": "2023-07-07T08:30:17.390719Z",
     "shell.execute_reply": "2023-07-07T08:30:17.389839Z"
    },
    "papermill": {
     "duration": 0.025972,
     "end_time": "2023-07-07T08:30:17.392757",
     "exception": false,
     "start_time": "2023-07-07T08:30:17.366785",
     "status": "completed"
    },
    "tags": []
   },
   "outputs": [
    {
     "data": {
      "text/plain": [
       "(180040, 6)"
      ]
     },
     "execution_count": 7,
     "metadata": {},
     "output_type": "execute_result"
    }
   ],
   "source": [
    "train_df.shape"
   ]
  },
  {
   "cell_type": "code",
   "execution_count": 8,
   "id": "72d206df",
   "metadata": {
    "execution": {
     "iopub.execute_input": "2023-07-07T08:30:17.425205Z",
     "iopub.status.busy": "2023-07-07T08:30:17.424925Z",
     "iopub.status.idle": "2023-07-07T08:30:17.430844Z",
     "shell.execute_reply": "2023-07-07T08:30:17.429942Z"
    },
    "papermill": {
     "duration": 0.024505,
     "end_time": "2023-07-07T08:30:17.432911",
     "exception": false,
     "start_time": "2023-07-07T08:30:17.408406",
     "status": "completed"
    },
    "tags": []
   },
   "outputs": [
    {
     "data": {
      "text/plain": [
       "['BACKGROUND', 'OBJECTIVE', 'METHODS', 'RESULTS', 'CONCLUSIONS']"
      ]
     },
     "execution_count": 8,
     "metadata": {},
     "output_type": "execute_result"
    }
   ],
   "source": [
    "CLASSES = ['BACKGROUND', 'OBJECTIVE', 'METHODS', 'RESULTS', 'CONCLUSIONS']\n",
    "CLASSES"
   ]
  },
  {
   "cell_type": "code",
   "execution_count": 9,
   "id": "2adf4acb",
   "metadata": {
    "execution": {
     "iopub.execute_input": "2023-07-07T08:30:17.465330Z",
     "iopub.status.busy": "2023-07-07T08:30:17.465062Z",
     "iopub.status.idle": "2023-07-07T08:30:17.502077Z",
     "shell.execute_reply": "2023-07-07T08:30:17.501095Z"
    },
    "papermill": {
     "duration": 0.056053,
     "end_time": "2023-07-07T08:30:17.504509",
     "exception": false,
     "start_time": "2023-07-07T08:30:17.448456",
     "status": "completed"
    },
    "tags": []
   },
   "outputs": [
    {
     "data": {
      "text/plain": [
       "METHODS        59353\n",
       "RESULTS        57953\n",
       "CONCLUSIONS    27168\n",
       "BACKGROUND     21727\n",
       "OBJECTIVE      13839\n",
       "Name: target, dtype: int64"
      ]
     },
     "execution_count": 9,
     "metadata": {},
     "output_type": "execute_result"
    }
   ],
   "source": [
    "train_tally = train_df['target'].value_counts()\n",
    "train_tally"
   ]
  },
  {
   "cell_type": "code",
   "execution_count": 10,
   "id": "88367e20",
   "metadata": {
    "execution": {
     "iopub.execute_input": "2023-07-07T08:30:17.540230Z",
     "iopub.status.busy": "2023-07-07T08:30:17.539967Z",
     "iopub.status.idle": "2023-07-07T08:30:17.851762Z",
     "shell.execute_reply": "2023-07-07T08:30:17.850911Z"
    },
    "papermill": {
     "duration": 0.330517,
     "end_time": "2023-07-07T08:30:17.853871",
     "exception": false,
     "start_time": "2023-07-07T08:30:17.523354",
     "status": "completed"
    },
    "tags": []
   },
   "outputs": [
    {
     "data": {
      "text/plain": [
       "METHODS        0.329666\n",
       "RESULTS        0.321890\n",
       "CONCLUSIONS    0.150900\n",
       "BACKGROUND     0.120679\n",
       "OBJECTIVE      0.076866\n",
       "Name: target, dtype: float64"
      ]
     },
     "execution_count": 10,
     "metadata": {},
     "output_type": "execute_result"
    },
    {
     "data": {
      "image/png": "[encoded data removed]",
      "text/plain": [
       "<Figure size 640x480 with 1 Axes>"
      ]
     },
     "metadata": {},
     "output_type": "display_data"
    }
   ],
   "source": [
    "pd.DataFrame(train_tally/sum(train_tally)).plot(kind='bar')\n",
    "norm_train_tally = train_tally/sum(train_tally)\n",
    "norm_train_tally"
   ]
  },
  {
   "cell_type": "markdown",
   "id": "f24d7eb7",
   "metadata": {
    "papermill": {
     "duration": 0.016367,
     "end_time": "2023-07-07T08:30:17.886937",
     "exception": false,
     "start_time": "2023-07-07T08:30:17.870570",
     "status": "completed"
    },
    "tags": []
   },
   "source": [
    "📘 **NOTES**\n",
    "* There are `5` classes for this dataset.\n",
    "* There are `180040` records for the train set. Note that each record is a line on the medical abstract.\n",
    "* This is an *imbalanced* dataset with `2` of the classes comprising `~30%`of the dataset. The least class comprises `~7%` of the dataset."
   ]
  },
  {
   "cell_type": "markdown",
   "id": "deaea3ba",
   "metadata": {
    "papermill": {
     "duration": 0.015999,
     "end_time": "2023-07-07T08:30:17.919612",
     "exception": false,
     "start_time": "2023-07-07T08:30:17.903613",
     "status": "completed"
    },
    "tags": []
   },
   "source": [
    "## 2/b] The Validation Set"
   ]
  },
  {
   "cell_type": "code",
   "execution_count": 11,
   "id": "794b8bfc",
   "metadata": {
    "execution": {
     "iopub.execute_input": "2023-07-07T08:30:17.953954Z",
     "iopub.status.busy": "2023-07-07T08:30:17.953652Z",
     "iopub.status.idle": "2023-07-07T08:30:17.959314Z",
     "shell.execute_reply": "2023-07-07T08:30:17.958385Z"
    },
    "papermill": {
     "duration": 0.025057,
     "end_time": "2023-07-07T08:30:17.961412",
     "exception": false,
     "start_time": "2023-07-07T08:30:17.936355",
     "status": "completed"
    },
    "tags": []
   },
   "outputs": [
    {
     "data": {
      "text/plain": [
       "(30212, 6)"
      ]
     },
     "execution_count": 11,
     "metadata": {},
     "output_type": "execute_result"
    }
   ],
   "source": [
    "val_df.shape"
   ]
  },
  {
   "cell_type": "code",
   "execution_count": 12,
   "id": "5edd5818",
   "metadata": {
    "execution": {
     "iopub.execute_input": "2023-07-07T08:30:17.995906Z",
     "iopub.status.busy": "2023-07-07T08:30:17.995614Z",
     "iopub.status.idle": "2023-07-07T08:30:18.006872Z",
     "shell.execute_reply": "2023-07-07T08:30:18.006027Z"
    },
    "papermill": {
     "duration": 0.030992,
     "end_time": "2023-07-07T08:30:18.008923",
     "exception": false,
     "start_time": "2023-07-07T08:30:17.977931",
     "status": "completed"
    },
    "tags": []
   },
   "outputs": [
    {
     "data": {
      "text/plain": [
       "METHODS        9964\n",
       "RESULTS        9841\n",
       "CONCLUSIONS    4582\n",
       "BACKGROUND     3449\n",
       "OBJECTIVE      2376\n",
       "Name: target, dtype: int64"
      ]
     },
     "execution_count": 12,
     "metadata": {},
     "output_type": "execute_result"
    }
   ],
   "source": [
    "val_tally = val_df['target'].value_counts()\n",
    "val_tally"
   ]
  },
  {
   "cell_type": "code",
   "execution_count": 13,
   "id": "6846f1ae",
   "metadata": {
    "execution": {
     "iopub.execute_input": "2023-07-07T08:30:18.044007Z",
     "iopub.status.busy": "2023-07-07T08:30:18.043732Z",
     "iopub.status.idle": "2023-07-07T08:30:18.320841Z",
     "shell.execute_reply": "2023-07-07T08:30:18.319825Z"
    },
    "papermill": {
     "duration": 0.297237,
     "end_time": "2023-07-07T08:30:18.322946",
     "exception": false,
     "start_time": "2023-07-07T08:30:18.025709",
     "status": "completed"
    },
    "tags": []
   },
   "outputs": [
    {
     "data": {
      "text/plain": [
       "METHODS        0.329803\n",
       "RESULTS        0.325731\n",
       "CONCLUSIONS    0.151662\n",
       "BACKGROUND     0.114160\n",
       "OBJECTIVE      0.078644\n",
       "Name: target, dtype: float64"
      ]
     },
     "execution_count": 13,
     "metadata": {},
     "output_type": "execute_result"
    },
    {
     "data": {
      "image/png": "[encoded data removed]",
      "text/plain": [
       "<Figure size 640x480 with 1 Axes>"
      ]
     },
     "metadata": {},
     "output_type": "display_data"
    }
   ],
   "source": [
    "pd.DataFrame(val_tally/sum(val_tally)).plot(kind='bar')\n",
    "norm_val_tally = val_tally/sum(val_tally)\n",
    "norm_val_tally"
   ]
  },
  {
   "cell_type": "markdown",
   "id": "6daa78ab",
   "metadata": {
    "papermill": {
     "duration": 0.017728,
     "end_time": "2023-07-07T08:30:18.358356",
     "exception": false,
     "start_time": "2023-07-07T08:30:18.340628",
     "status": "completed"
    },
    "tags": []
   },
   "source": [
    "## 2/c] The Test Set"
   ]
  },
  {
   "cell_type": "code",
   "execution_count": 14,
   "id": "04456506",
   "metadata": {
    "execution": {
     "iopub.execute_input": "2023-07-07T08:30:18.394175Z",
     "iopub.status.busy": "2023-07-07T08:30:18.393856Z",
     "iopub.status.idle": "2023-07-07T08:30:18.400945Z",
     "shell.execute_reply": "2023-07-07T08:30:18.399938Z"
    },
    "papermill": {
     "duration": 0.027609,
     "end_time": "2023-07-07T08:30:18.403112",
     "exception": false,
     "start_time": "2023-07-07T08:30:18.375503",
     "status": "completed"
    },
    "tags": []
   },
   "outputs": [
    {
     "data": {
      "text/plain": [
       "(30135, 6)"
      ]
     },
     "execution_count": 14,
     "metadata": {},
     "output_type": "execute_result"
    }
   ],
   "source": [
    "test_df.shape"
   ]
  },
  {
   "cell_type": "code",
   "execution_count": 15,
   "id": "a8f46fdd",
   "metadata": {
    "execution": {
     "iopub.execute_input": "2023-07-07T08:30:18.439043Z",
     "iopub.status.busy": "2023-07-07T08:30:18.438763Z",
     "iopub.status.idle": "2023-07-07T08:30:18.449955Z",
     "shell.execute_reply": "2023-07-07T08:30:18.449011Z"
    },
    "papermill": {
     "duration": 0.03135,
     "end_time": "2023-07-07T08:30:18.451997",
     "exception": false,
     "start_time": "2023-07-07T08:30:18.420647",
     "status": "completed"
    },
    "tags": []
   },
   "outputs": [
    {
     "data": {
      "text/plain": [
       "METHODS        9897\n",
       "RESULTS        9713\n",
       "CONCLUSIONS    4571\n",
       "BACKGROUND     3621\n",
       "OBJECTIVE      2333\n",
       "Name: target, dtype: int64"
      ]
     },
     "execution_count": 15,
     "metadata": {},
     "output_type": "execute_result"
    }
   ],
   "source": [
    "test_tally = test_df['target'].value_counts()\n",
    "test_tally"
   ]
  },
  {
   "cell_type": "code",
   "execution_count": 16,
   "id": "a2fbc3d5",
   "metadata": {
    "execution": {
     "iopub.execute_input": "2023-07-07T08:30:18.487723Z",
     "iopub.status.busy": "2023-07-07T08:30:18.487458Z",
     "iopub.status.idle": "2023-07-07T08:30:19.120889Z",
     "shell.execute_reply": "2023-07-07T08:30:19.119375Z"
    },
    "papermill": {
     "duration": 0.655041,
     "end_time": "2023-07-07T08:30:19.124387",
     "exception": false,
     "start_time": "2023-07-07T08:30:18.469346",
     "status": "completed"
    },
    "tags": []
   },
   "outputs": [
    {
     "data": {
      "text/plain": [
       "METHODS        0.328422\n",
       "RESULTS        0.322316\n",
       "CONCLUSIONS    0.151684\n",
       "BACKGROUND     0.120159\n",
       "OBJECTIVE      0.077418\n",
       "Name: target, dtype: float64"
      ]
     },
     "execution_count": 16,
     "metadata": {},
     "output_type": "execute_result"
    },
    {
     "data": {
      "image/png": "[encoded data removed]",
      "text/plain": [
       "<Figure size 640x480 with 1 Axes>"
      ]
     },
     "metadata": {},
     "output_type": "display_data"
    }
   ],
   "source": [
    "pd.DataFrame(test_tally).plot(kind='bar')\n",
    "norm_test_tally = test_tally/sum(test_tally)\n",
    "norm_test_tally"
   ]
  },
  {
   "cell_type": "markdown",
   "id": "9c183640",
   "metadata": {
    "papermill": {
     "duration": 0.027002,
     "end_time": "2023-07-07T08:30:19.178933",
     "exception": false,
     "start_time": "2023-07-07T08:30:19.151931",
     "status": "completed"
    },
    "tags": []
   },
   "source": [
    "## 2/d] Compare class distributions of the different datasets"
   ]
  },
  {
   "cell_type": "code",
   "execution_count": 17,
   "id": "8b10df2b",
   "metadata": {
    "execution": {
     "iopub.execute_input": "2023-07-07T08:30:19.233446Z",
     "iopub.status.busy": "2023-07-07T08:30:19.233039Z",
     "iopub.status.idle": "2023-07-07T08:30:19.709457Z",
     "shell.execute_reply": "2023-07-07T08:30:19.703450Z"
    },
    "papermill": {
     "duration": 0.507385,
     "end_time": "2023-07-07T08:30:19.712798",
     "exception": false,
     "start_time": "2023-07-07T08:30:19.205413",
     "status": "completed"
    },
    "tags": []
   },
   "outputs": [
    {
     "data": {
      "text/plain": [
       "<Axes: >"
      ]
     },
     "execution_count": 17,
     "metadata": {},
     "output_type": "execute_result"
    },
    {
     "data": {
      "image/png": "[encoded data removed]",
      "text/plain": [
       "<Figure size 640x480 with 1 Axes>"
      ]
     },
     "metadata": {},
     "output_type": "display_data"
    }
   ],
   "source": [
    "pd.DataFrame(zip(norm_train_tally, norm_val_tally, norm_test_tally), columns=['train', 'validation','test']).plot(kind='bar')"
   ]
  },
  {
   "cell_type": "markdown",
   "id": "454ffc44",
   "metadata": {
    "papermill": {
     "duration": 0.031466,
     "end_time": "2023-07-07T08:30:19.774426",
     "exception": false,
     "start_time": "2023-07-07T08:30:19.742960",
     "status": "completed"
    },
    "tags": []
   },
   "source": [
    "📘 **NOTES**\n",
    "* The distribution ofthe classes between `train`, `validation`, and `test` sets are quite similar. Nice stratification!\n"
   ]
  },
  {
   "cell_type": "markdown",
   "id": "d34202e6",
   "metadata": {
    "papermill": {
     "duration": 0.026465,
     "end_time": "2023-07-07T08:30:19.827261",
     "exception": false,
     "start_time": "2023-07-07T08:30:19.800796",
     "status": "completed"
    },
    "tags": []
   },
   "source": [
    "# 3] Modelling\n",
    "\n",
    "* **Model 0 (baseline):** Multinomial Naive Bayes\n"
   ]
  },
  {
   "cell_type": "markdown",
   "id": "99d68ba0",
   "metadata": {
    "papermill": {
     "duration": 0.026331,
     "end_time": "2023-07-07T08:30:19.881365",
     "exception": false,
     "start_time": "2023-07-07T08:30:19.855034",
     "status": "completed"
    },
    "tags": []
   },
   "source": [
    "## 3/a] Preprocessing the dataset"
   ]
  },
  {
   "cell_type": "code",
   "execution_count": 18,
   "id": "9ca1ed23",
   "metadata": {
    "execution": {
     "iopub.execute_input": "2023-07-07T08:30:19.936929Z",
     "iopub.status.busy": "2023-07-07T08:30:19.936508Z",
     "iopub.status.idle": "2023-07-07T08:30:19.941490Z",
     "shell.execute_reply": "2023-07-07T08:30:19.940636Z"
    },
    "papermill": {
     "duration": 0.037473,
     "end_time": "2023-07-07T08:30:19.945716",
     "exception": false,
     "start_time": "2023-07-07T08:30:19.908243",
     "status": "completed"
    },
    "tags": []
   },
   "outputs": [],
   "source": [
    "def features_class_split(dataset):\n",
    "    return dataset['abstract_text'], dataset['target']"
   ]
  },
  {
   "cell_type": "code",
   "execution_count": 19,
   "id": "9192a450",
   "metadata": {
    "execution": {
     "iopub.execute_input": "2023-07-07T08:30:20.003077Z",
     "iopub.status.busy": "2023-07-07T08:30:20.002733Z",
     "iopub.status.idle": "2023-07-07T08:30:20.009412Z",
     "shell.execute_reply": "2023-07-07T08:30:20.008471Z"
    },
    "papermill": {
     "duration": 0.040908,
     "end_time": "2023-07-07T08:30:20.015046",
     "exception": false,
     "start_time": "2023-07-07T08:30:19.974138",
     "status": "completed"
    },
    "tags": []
   },
   "outputs": [
    {
     "data": {
      "text/plain": [
       "((180040,), (180040,))"
      ]
     },
     "execution_count": 19,
     "metadata": {},
     "output_type": "execute_result"
    }
   ],
   "source": [
    "X_train, y_train = features_class_split(train_df)\n",
    "X_train.shape, y_train.shape"
   ]
  },
  {
   "cell_type": "code",
   "execution_count": 20,
   "id": "15369269",
   "metadata": {
    "execution": {
     "iopub.execute_input": "2023-07-07T08:30:20.072994Z",
     "iopub.status.busy": "2023-07-07T08:30:20.072636Z",
     "iopub.status.idle": "2023-07-07T08:30:20.084816Z",
     "shell.execute_reply": "2023-07-07T08:30:20.084012Z"
    },
    "papermill": {
     "duration": 0.044087,
     "end_time": "2023-07-07T08:30:20.087475",
     "exception": false,
     "start_time": "2023-07-07T08:30:20.043388",
     "status": "completed"
    },
    "tags": []
   },
   "outputs": [
    {
     "data": {
      "text/plain": [
       "0         To investigate the efficacy of 6 weeks of dail...\n",
       "1         A total of 125 patients with primary knee OA w...\n",
       "2         Outcome measures included pain reduction and i...\n",
       "3         Pain was assessed using the visual analog pain...\n",
       "4         Secondary outcome measures included the Wester...\n",
       "                                ...                        \n",
       "180035    For the absolute change in percent atheroma vo...\n",
       "180036    For PAV , a significantly greater percentage o...\n",
       "180037    Both strategies had acceptable side effect pro...\n",
       "180038    Compared with standard statin monotherapy , th...\n",
       "180039    ( Plaque Regression With Cholesterol Absorptio...\n",
       "Name: abstract_text, Length: 180040, dtype: object"
      ]
     },
     "execution_count": 20,
     "metadata": {},
     "output_type": "execute_result"
    }
   ],
   "source": [
    "X_train"
   ]
  },
  {
   "cell_type": "code",
   "execution_count": 21,
   "id": "fcd1260e",
   "metadata": {
    "execution": {
     "iopub.execute_input": "2023-07-07T08:30:20.146495Z",
     "iopub.status.busy": "2023-07-07T08:30:20.146069Z",
     "iopub.status.idle": "2023-07-07T08:30:20.158172Z",
     "shell.execute_reply": "2023-07-07T08:30:20.157204Z"
    },
    "papermill": {
     "duration": 0.045068,
     "end_time": "2023-07-07T08:30:20.160992",
     "exception": false,
     "start_time": "2023-07-07T08:30:20.115924",
     "status": "completed"
    },
    "tags": []
   },
   "outputs": [
    {
     "data": {
      "text/plain": [
       "0           OBJECTIVE\n",
       "1             METHODS\n",
       "2             METHODS\n",
       "3             METHODS\n",
       "4             METHODS\n",
       "             ...     \n",
       "180035        RESULTS\n",
       "180036        RESULTS\n",
       "180037        RESULTS\n",
       "180038    CONCLUSIONS\n",
       "180039    CONCLUSIONS\n",
       "Name: target, Length: 180040, dtype: object"
      ]
     },
     "execution_count": 21,
     "metadata": {},
     "output_type": "execute_result"
    }
   ],
   "source": [
    "y_train"
   ]
  },
  {
   "cell_type": "code",
   "execution_count": 22,
   "id": "b68db2cc",
   "metadata": {
    "execution": {
     "iopub.execute_input": "2023-07-07T08:30:20.222182Z",
     "iopub.status.busy": "2023-07-07T08:30:20.221752Z",
     "iopub.status.idle": "2023-07-07T08:30:20.232077Z",
     "shell.execute_reply": "2023-07-07T08:30:20.231230Z"
    },
    "papermill": {
     "duration": 0.043493,
     "end_time": "2023-07-07T08:30:20.234764",
     "exception": false,
     "start_time": "2023-07-07T08:30:20.191271",
     "status": "completed"
    },
    "tags": []
   },
   "outputs": [
    {
     "data": {
      "text/plain": [
       "((30212,), (30212,))"
      ]
     },
     "execution_count": 22,
     "metadata": {},
     "output_type": "execute_result"
    }
   ],
   "source": [
    "X_val, y_val = features_class_split(val_df)\n",
    "X_val.shape, y_val.shape"
   ]
  },
  {
   "cell_type": "code",
   "execution_count": 23,
   "id": "73b1261b",
   "metadata": {
    "execution": {
     "iopub.execute_input": "2023-07-07T08:30:20.294284Z",
     "iopub.status.busy": "2023-07-07T08:30:20.293865Z",
     "iopub.status.idle": "2023-07-07T08:30:20.304012Z",
     "shell.execute_reply": "2023-07-07T08:30:20.303162Z"
    },
    "papermill": {
     "duration": 0.042774,
     "end_time": "2023-07-07T08:30:20.306538",
     "exception": false,
     "start_time": "2023-07-07T08:30:20.263764",
     "status": "completed"
    },
    "tags": []
   },
   "outputs": [
    {
     "data": {
      "text/plain": [
       "((30135,), (30135,))"
      ]
     },
     "execution_count": 23,
     "metadata": {},
     "output_type": "execute_result"
    }
   ],
   "source": [
    "X_test, y_test = features_class_split(test_df)\n",
    "X_test.shape, y_test.shape"
   ]
  },
  {
   "cell_type": "markdown",
   "id": "8bbe0abf",
   "metadata": {
    "papermill": {
     "duration": 0.02501,
     "end_time": "2023-07-07T08:30:20.359792",
     "exception": false,
     "start_time": "2023-07-07T08:30:20.334782",
     "status": "completed"
    },
    "tags": []
   },
   "source": [
    "## 3/b] **Model 0 (baseline):** Multinomial Naive Bayes"
   ]
  },
  {
   "cell_type": "markdown",
   "id": "95fc2ace",
   "metadata": {
    "papermill": {
     "duration": 0.019239,
     "end_time": "2023-07-07T08:30:20.398605",
     "exception": false,
     "start_time": "2023-07-07T08:30:20.379366",
     "status": "completed"
    },
    "tags": []
   },
   "source": [
    "### The Vectorizer"
   ]
  },
  {
   "cell_type": "code",
   "execution_count": 24,
   "id": "fa7b8fb5",
   "metadata": {
    "execution": {
     "iopub.execute_input": "2023-07-07T08:30:20.437978Z",
     "iopub.status.busy": "2023-07-07T08:30:20.437671Z",
     "iopub.status.idle": "2023-07-07T08:30:26.638243Z",
     "shell.execute_reply": "2023-07-07T08:30:26.637328Z"
    },
    "papermill": {
     "duration": 6.22314,
     "end_time": "2023-07-07T08:30:26.640777",
     "exception": false,
     "start_time": "2023-07-07T08:30:20.417637",
     "status": "completed"
    },
    "tags": []
   },
   "outputs": [
    {
     "data": {
      "text/plain": [
       "(180040, 57996)"
      ]
     },
     "execution_count": 24,
     "metadata": {},
     "output_type": "execute_result"
    }
   ],
   "source": [
    "from sklearn.feature_extraction.text import TfidfVectorizer\n",
    "\n",
    "vectorizer = TfidfVectorizer()\n",
    "results = vectorizer.fit_transform(X_train)\n",
    "results.shape"
   ]
  },
  {
   "cell_type": "code",
   "execution_count": 25,
   "id": "4f18630f",
   "metadata": {
    "execution": {
     "iopub.execute_input": "2023-07-07T08:30:26.682440Z",
     "iopub.status.busy": "2023-07-07T08:30:26.682091Z",
     "iopub.status.idle": "2023-07-07T08:30:26.726412Z",
     "shell.execute_reply": "2023-07-07T08:30:26.725359Z"
    },
    "papermill": {
     "duration": 0.069331,
     "end_time": "2023-07-07T08:30:26.729928",
     "exception": false,
     "start_time": "2023-07-07T08:30:26.660597",
     "status": "completed"
    },
    "tags": []
   },
   "outputs": [
    {
     "data": {
      "text/plain": [
       "array(['00', '000', '0000', ..., 'zygomaticotemporal', 'zygote',\n",
       "       'zygotes'], dtype=object)"
      ]
     },
     "execution_count": 25,
     "metadata": {},
     "output_type": "execute_result"
    }
   ],
   "source": [
    "vocabulary = vectorizer.get_feature_names_out()\n",
    "vocabulary"
   ]
  },
  {
   "cell_type": "code",
   "execution_count": 26,
   "id": "903b9f56",
   "metadata": {
    "execution": {
     "iopub.execute_input": "2023-07-07T08:30:26.770875Z",
     "iopub.status.busy": "2023-07-07T08:30:26.770297Z",
     "iopub.status.idle": "2023-07-07T08:30:26.776935Z",
     "shell.execute_reply": "2023-07-07T08:30:26.775822Z"
    },
    "papermill": {
     "duration": 0.029146,
     "end_time": "2023-07-07T08:30:26.779081",
     "exception": false,
     "start_time": "2023-07-07T08:30:26.749935",
     "status": "completed"
    },
    "tags": []
   },
   "outputs": [
    {
     "data": {
      "text/plain": [
       "57996"
      ]
     },
     "execution_count": 26,
     "metadata": {},
     "output_type": "execute_result"
    }
   ],
   "source": [
    "len(vocabulary)"
   ]
  },
  {
   "cell_type": "code",
   "execution_count": 27,
   "id": "b28b31d0",
   "metadata": {
    "execution": {
     "iopub.execute_input": "2023-07-07T08:30:26.819585Z",
     "iopub.status.busy": "2023-07-07T08:30:26.819318Z",
     "iopub.status.idle": "2023-07-07T08:30:26.846937Z",
     "shell.execute_reply": "2023-07-07T08:30:26.846079Z"
    },
    "papermill": {
     "duration": 0.050371,
     "end_time": "2023-07-07T08:30:26.849295",
     "exception": false,
     "start_time": "2023-07-07T08:30:26.798924",
     "status": "completed"
    },
    "tags": []
   },
   "outputs": [
    {
     "data": {
      "text/html": [
       "<style>#sk-container-id-1 {color: black;background-color: white;}#sk-container-id-1 pre{padding: 0;}#sk-container-id-1 div.sk-toggleable {background-color: white;}#sk-container-id-1 label.sk-toggleable__label {cursor: pointer;display: block;width: 100%;margin-bottom: 0;padding: 0.3em;box-sizing: border-box;text-align: center;}#sk-container-id-1 label.sk-toggleable__label-arrow:before {content: \"▸\";float: left;margin-right: 0.25em;color: #696969;}#sk-container-id-1 label.sk-toggleable__label-arrow:hover:before {color: black;}#sk-container-id-1 div.sk-estimator:hover label.sk-toggleable__label-arrow:before {color: black;}#sk-container-id-1 div.sk-toggleable__content {max-height: 0;max-width: 0;overflow: hidden;text-align: left;background-color: #f0f8ff;}#sk-container-id-1 div.sk-toggleable__content pre {margin: 0.2em;color: black;border-radius: 0.25em;background-color: #f0f8ff;}#sk-container-id-1 input.sk-toggleable__control:checked~div.sk-toggleable__content {max-height: 200px;max-width: 100%;overflow: auto;}#sk-container-id-1 input.sk-toggleable__control:checked~label.sk-toggleable__label-arrow:before {content: \"▾\";}#sk-container-id-1 div.sk-estimator input.sk-toggleable__control:checked~label.sk-toggleable__label {background-color: #d4ebff;}#sk-container-id-1 div.sk-label input.sk-toggleable__control:checked~label.sk-toggleable__label {background-color: #d4ebff;}#sk-container-id-1 input.sk-hidden--visually {border: 0;clip: rect(1px 1px 1px 1px);clip: rect(1px, 1px, 1px, 1px);height: 1px;margin: -1px;overflow: hidden;padding: 0;position: absolute;width: 1px;}#sk-container-id-1 div.sk-estimator {font-family: monospace;background-color: #f0f8ff;border: 1px dotted black;border-radius: 0.25em;box-sizing: border-box;margin-bottom: 0.5em;}#sk-container-id-1 div.sk-estimator:hover {background-color: #d4ebff;}#sk-container-id-1 div.sk-parallel-item::after {content: \"\";width: 100%;border-bottom: 1px solid gray;flex-grow: 1;}#sk-container-id-1 div.sk-label:hover label.sk-toggleable__label {background-color: #d4ebff;}#sk-container-id-1 div.sk-serial::before {content: \"\";position: absolute;border-left: 1px solid gray;box-sizing: border-box;top: 0;bottom: 0;left: 50%;z-index: 0;}#sk-container-id-1 div.sk-serial {display: flex;flex-direction: column;align-items: center;background-color: white;padding-right: 0.2em;padding-left: 0.2em;position: relative;}#sk-container-id-1 div.sk-item {position: relative;z-index: 1;}#sk-container-id-1 div.sk-parallel {display: flex;align-items: stretch;justify-content: center;background-color: white;position: relative;}#sk-container-id-1 div.sk-item::before, #sk-container-id-1 div.sk-parallel-item::before {content: \"\";position: absolute;border-left: 1px solid gray;box-sizing: border-box;top: 0;bottom: 0;left: 50%;z-index: -1;}#sk-container-id-1 div.sk-parallel-item {display: flex;flex-direction: column;z-index: 1;position: relative;background-color: white;}#sk-container-id-1 div.sk-parallel-item:first-child::after {align-self: flex-end;width: 50%;}#sk-container-id-1 div.sk-parallel-item:last-child::after {align-self: flex-start;width: 50%;}#sk-container-id-1 div.sk-parallel-item:only-child::after {width: 0;}#sk-container-id-1 div.sk-dashed-wrapped {border: 1px dashed gray;margin: 0 0.4em 0.5em 0.4em;box-sizing: border-box;padding-bottom: 0.4em;background-color: white;}#sk-container-id-1 div.sk-label label {font-family: monospace;font-weight: bold;display: inline-block;line-height: 1.2em;}#sk-container-id-1 div.sk-label-container {text-align: center;}#sk-container-id-1 div.sk-container {/* jupyter's `normalize.less` sets `[hidden] { display: none; }` but bootstrap.min.css set `[hidden] { display: none !important; }` so we also need the `!important` here to be able to override the default hidden behavior on the sphinx rendered scikit-learn.org. See: https://github.com/scikit-learn/scikit-learn/issues/21755 */display: inline-block !important;position: relative;}#sk-container-id-1 div.sk-text-repr-fallback {display: none;}</style><div id=\"sk-container-id-1\" class=\"sk-top-container\"><div class=\"sk-text-repr-fallback\"><pre>Pipeline(steps=[(&#x27;vectorizer&#x27;, TfidfVectorizer()), (&#x27;clf&#x27;, MultinomialNB())])</pre><b>In a Jupyter environment, please rerun this cell to show the HTML representation or trust the notebook. <br />On GitHub, the HTML representation is unable to render, please try loading this page with nbviewer.org.</b></div><div class=\"sk-container\" hidden><div class=\"sk-item sk-dashed-wrapped\"><div class=\"sk-label-container\"><div class=\"sk-label sk-toggleable\"><input class=\"sk-toggleable__control sk-hidden--visually\" id=\"sk-estimator-id-1\" type=\"checkbox\" ><label for=\"sk-estimator-id-1\" class=\"sk-toggleable__label sk-toggleable__label-arrow\">Pipeline</label><div class=\"sk-toggleable__content\"><pre>Pipeline(steps=[(&#x27;vectorizer&#x27;, TfidfVectorizer()), (&#x27;clf&#x27;, MultinomialNB())])</pre></div></div></div><div class=\"sk-serial\"><div class=\"sk-item\"><div class=\"sk-estimator sk-toggleable\"><input class=\"sk-toggleable__control sk-hidden--visually\" id=\"sk-estimator-id-2\" type=\"checkbox\" ><label for=\"sk-estimator-id-2\" class=\"sk-toggleable__label sk-toggleable__label-arrow\">TfidfVectorizer</label><div class=\"sk-toggleable__content\"><pre>TfidfVectorizer()</pre></div></div></div><div class=\"sk-item\"><div class=\"sk-estimator sk-toggleable\"><input class=\"sk-toggleable__control sk-hidden--visually\" id=\"sk-estimator-id-3\" type=\"checkbox\" ><label for=\"sk-estimator-id-3\" class=\"sk-toggleable__label sk-toggleable__label-arrow\">MultinomialNB</label><div class=\"sk-toggleable__content\"><pre>MultinomialNB()</pre></div></div></div></div></div></div></div>"
      ],
      "text/plain": [
       "Pipeline(steps=[('vectorizer', TfidfVectorizer()), ('clf', MultinomialNB())])"
      ]
     },
     "execution_count": 27,
     "metadata": {},
     "output_type": "execute_result"
    }
   ],
   "source": [
    "from sklearn.naive_bayes import MultinomialNB\n",
    "from sklearn.feature_extraction.text import TfidfVectorizer\n",
    "from sklearn.pipeline import Pipeline\n",
    "\n",
    "def build_model_0():\n",
    "    return Pipeline([\n",
    "        ('vectorizer', TfidfVectorizer()),\n",
    "        ('clf', MultinomialNB())\n",
    "    ])\n",
    "    \n",
    "\n",
    "model_0 = build_model_0()\n",
    "model_0"
   ]
  },
  {
   "cell_type": "code",
   "execution_count": 28,
   "id": "39de6d59",
   "metadata": {
    "execution": {
     "iopub.execute_input": "2023-07-07T08:30:26.890684Z",
     "iopub.status.busy": "2023-07-07T08:30:26.889284Z",
     "iopub.status.idle": "2023-07-07T08:30:33.362832Z",
     "shell.execute_reply": "2023-07-07T08:30:33.361938Z"
    },
    "papermill": {
     "duration": 6.495915,
     "end_time": "2023-07-07T08:30:33.364852",
     "exception": false,
     "start_time": "2023-07-07T08:30:26.868937",
     "status": "completed"
    },
    "tags": []
   },
   "outputs": [
    {
     "data": {
      "text/html": [
       "<style>#sk-container-id-2 {color: black;background-color: white;}#sk-container-id-2 pre{padding: 0;}#sk-container-id-2 div.sk-toggleable {background-color: white;}#sk-container-id-2 label.sk-toggleable__label {cursor: pointer;display: block;width: 100%;margin-bottom: 0;padding: 0.3em;box-sizing: border-box;text-align: center;}#sk-container-id-2 label.sk-toggleable__label-arrow:before {content: \"▸\";float: left;margin-right: 0.25em;color: #696969;}#sk-container-id-2 label.sk-toggleable__label-arrow:hover:before {color: black;}#sk-container-id-2 div.sk-estimator:hover label.sk-toggleable__label-arrow:before {color: black;}#sk-container-id-2 div.sk-toggleable__content {max-height: 0;max-width: 0;overflow: hidden;text-align: left;background-color: #f0f8ff;}#sk-container-id-2 div.sk-toggleable__content pre {margin: 0.2em;color: black;border-radius: 0.25em;background-color: #f0f8ff;}#sk-container-id-2 input.sk-toggleable__control:checked~div.sk-toggleable__content {max-height: 200px;max-width: 100%;overflow: auto;}#sk-container-id-2 input.sk-toggleable__control:checked~label.sk-toggleable__label-arrow:before {content: \"▾\";}#sk-container-id-2 div.sk-estimator input.sk-toggleable__control:checked~label.sk-toggleable__label {background-color: #d4ebff;}#sk-container-id-2 div.sk-label input.sk-toggleable__control:checked~label.sk-toggleable__label {background-color: #d4ebff;}#sk-container-id-2 input.sk-hidden--visually {border: 0;clip: rect(1px 1px 1px 1px);clip: rect(1px, 1px, 1px, 1px);height: 1px;margin: -1px;overflow: hidden;padding: 0;position: absolute;width: 1px;}#sk-container-id-2 div.sk-estimator {font-family: monospace;background-color: #f0f8ff;border: 1px dotted black;border-radius: 0.25em;box-sizing: border-box;margin-bottom: 0.5em;}#sk-container-id-2 div.sk-estimator:hover {background-color: #d4ebff;}#sk-container-id-2 div.sk-parallel-item::after {content: \"\";width: 100%;border-bottom: 1px solid gray;flex-grow: 1;}#sk-container-id-2 div.sk-label:hover label.sk-toggleable__label {background-color: #d4ebff;}#sk-container-id-2 div.sk-serial::before {content: \"\";position: absolute;border-left: 1px solid gray;box-sizing: border-box;top: 0;bottom: 0;left: 50%;z-index: 0;}#sk-container-id-2 div.sk-serial {display: flex;flex-direction: column;align-items: center;background-color: white;padding-right: 0.2em;padding-left: 0.2em;position: relative;}#sk-container-id-2 div.sk-item {position: relative;z-index: 1;}#sk-container-id-2 div.sk-parallel {display: flex;align-items: stretch;justify-content: center;background-color: white;position: relative;}#sk-container-id-2 div.sk-item::before, #sk-container-id-2 div.sk-parallel-item::before {content: \"\";position: absolute;border-left: 1px solid gray;box-sizing: border-box;top: 0;bottom: 0;left: 50%;z-index: -1;}#sk-container-id-2 div.sk-parallel-item {display: flex;flex-direction: column;z-index: 1;position: relative;background-color: white;}#sk-container-id-2 div.sk-parallel-item:first-child::after {align-self: flex-end;width: 50%;}#sk-container-id-2 div.sk-parallel-item:last-child::after {align-self: flex-start;width: 50%;}#sk-container-id-2 div.sk-parallel-item:only-child::after {width: 0;}#sk-container-id-2 div.sk-dashed-wrapped {border: 1px dashed gray;margin: 0 0.4em 0.5em 0.4em;box-sizing: border-box;padding-bottom: 0.4em;background-color: white;}#sk-container-id-2 div.sk-label label {font-family: monospace;font-weight: bold;display: inline-block;line-height: 1.2em;}#sk-container-id-2 div.sk-label-container {text-align: center;}#sk-container-id-2 div.sk-container {/* jupyter's `normalize.less` sets `[hidden] { display: none; }` but bootstrap.min.css set `[hidden] { display: none !important; }` so we also need the `!important` here to be able to override the default hidden behavior on the sphinx rendered scikit-learn.org. See: https://github.com/scikit-learn/scikit-learn/issues/21755 */display: inline-block !important;position: relative;}#sk-container-id-2 div.sk-text-repr-fallback {display: none;}</style><div id=\"sk-container-id-2\" class=\"sk-top-container\"><div class=\"sk-text-repr-fallback\"><pre>Pipeline(steps=[(&#x27;vectorizer&#x27;, TfidfVectorizer()), (&#x27;clf&#x27;, MultinomialNB())])</pre><b>In a Jupyter environment, please rerun this cell to show the HTML representation or trust the notebook. <br />On GitHub, the HTML representation is unable to render, please try loading this page with nbviewer.org.</b></div><div class=\"sk-container\" hidden><div class=\"sk-item sk-dashed-wrapped\"><div class=\"sk-label-container\"><div class=\"sk-label sk-toggleable\"><input class=\"sk-toggleable__control sk-hidden--visually\" id=\"sk-estimator-id-4\" type=\"checkbox\" ><label for=\"sk-estimator-id-4\" class=\"sk-toggleable__label sk-toggleable__label-arrow\">Pipeline</label><div class=\"sk-toggleable__content\"><pre>Pipeline(steps=[(&#x27;vectorizer&#x27;, TfidfVectorizer()), (&#x27;clf&#x27;, MultinomialNB())])</pre></div></div></div><div class=\"sk-serial\"><div class=\"sk-item\"><div class=\"sk-estimator sk-toggleable\"><input class=\"sk-toggleable__control sk-hidden--visually\" id=\"sk-estimator-id-5\" type=\"checkbox\" ><label for=\"sk-estimator-id-5\" class=\"sk-toggleable__label sk-toggleable__label-arrow\">TfidfVectorizer</label><div class=\"sk-toggleable__content\"><pre>TfidfVectorizer()</pre></div></div></div><div class=\"sk-item\"><div class=\"sk-estimator sk-toggleable\"><input class=\"sk-toggleable__control sk-hidden--visually\" id=\"sk-estimator-id-6\" type=\"checkbox\" ><label for=\"sk-estimator-id-6\" class=\"sk-toggleable__label sk-toggleable__label-arrow\">MultinomialNB</label><div class=\"sk-toggleable__content\"><pre>MultinomialNB()</pre></div></div></div></div></div></div></div>"
      ],
      "text/plain": [
       "Pipeline(steps=[('vectorizer', TfidfVectorizer()), ('clf', MultinomialNB())])"
      ]
     },
     "execution_count": 28,
     "metadata": {},
     "output_type": "execute_result"
    }
   ],
   "source": [
    "model_0.fit(X_train, y_train)"
   ]
  },
  {
   "cell_type": "code",
   "execution_count": 29,
   "id": "60aae066",
   "metadata": {
    "execution": {
     "iopub.execute_input": "2023-07-07T08:30:33.406504Z",
     "iopub.status.busy": "2023-07-07T08:30:33.405677Z",
     "iopub.status.idle": "2023-07-07T08:30:34.276485Z",
     "shell.execute_reply": "2023-07-07T08:30:34.275444Z"
    },
    "papermill": {
     "duration": 0.894392,
     "end_time": "2023-07-07T08:30:34.279162",
     "exception": false,
     "start_time": "2023-07-07T08:30:33.384770",
     "status": "completed"
    },
    "tags": []
   },
   "outputs": [
    {
     "data": {
      "text/plain": [
       "((30212,),\n",
       " array(['BACKGROUND', 'CONCLUSIONS', 'OBJECTIVE', 'METHODS', 'METHODS'],\n",
       "       dtype='<U11'))"
      ]
     },
     "execution_count": 29,
     "metadata": {},
     "output_type": "execute_result"
    }
   ],
   "source": [
    "model_0_predictions = model_0.predict(X_val)\n",
    "\n",
    "model_0_predictions.shape, model_0_predictions[:5]"
   ]
  },
  {
   "cell_type": "code",
   "execution_count": 30,
   "id": "27efe9fc",
   "metadata": {
    "execution": {
     "iopub.execute_input": "2023-07-07T08:30:34.321163Z",
     "iopub.status.busy": "2023-07-07T08:30:34.320848Z",
     "iopub.status.idle": "2023-07-07T08:30:34.640521Z",
     "shell.execute_reply": "2023-07-07T08:30:34.639618Z"
    },
    "papermill": {
     "duration": 0.342669,
     "end_time": "2023-07-07T08:30:34.642957",
     "exception": false,
     "start_time": "2023-07-07T08:30:34.300288",
     "status": "completed"
    },
    "tags": []
   },
   "outputs": [
    {
     "data": {
      "text/plain": [
       "{'precision': 0.7315166696974572,\n",
       " 'recall': 0.7317291142592347,\n",
       " 'f1': 0.7058060715307974}"
      ]
     },
     "execution_count": 30,
     "metadata": {},
     "output_type": "execute_result"
    }
   ],
   "source": [
    "from sklearn.metrics import precision_recall_fscore_support\n",
    "\n",
    "def score_predictions(y_true, y_predictions):\n",
    "    precision, recall, f1, _ = precision_recall_fscore_support(y_true, y_predictions, labels=CLASSES, average='weighted')\n",
    "    return {\n",
    "        'precision': precision,\n",
    "        'recall': recall,\n",
    "        'f1': f1\n",
    "    }\n",
    "\n",
    "score_predictions(y_val, model_0_predictions)"
   ]
  },
  {
   "cell_type": "code",
   "execution_count": 31,
   "id": "04912e78",
   "metadata": {
    "execution": {
     "iopub.execute_input": "2023-07-07T08:30:34.685431Z",
     "iopub.status.busy": "2023-07-07T08:30:34.684622Z",
     "iopub.status.idle": "2023-07-07T08:30:34.698251Z",
     "shell.execute_reply": "2023-07-07T08:30:34.697249Z"
    },
    "papermill": {
     "duration": 0.036757,
     "end_time": "2023-07-07T08:30:34.700369",
     "exception": false,
     "start_time": "2023-07-07T08:30:34.663612",
     "status": "completed"
    },
    "tags": []
   },
   "outputs": [
    {
     "data": {
      "text/html": [
       "<div>\n",
       "<style scoped>\n",
       "    .dataframe tbody tr th:only-of-type {\n",
       "        vertical-align: middle;\n",
       "    }\n",
       "\n",
       "    .dataframe tbody tr th {\n",
       "        vertical-align: top;\n",
       "    }\n",
       "\n",
       "    .dataframe thead th {\n",
       "        text-align: right;\n",
       "    }\n",
       "</style>\n",
       "<table border=\"1\" class=\"dataframe\">\n",
       "  <thead>\n",
       "    <tr style=\"text-align: right;\">\n",
       "      <th></th>\n",
       "      <th>Sentence</th>\n",
       "      <th>True Label</th>\n",
       "      <th>Prediction</th>\n",
       "      <th>Correct?</th>\n",
       "    </tr>\n",
       "  </thead>\n",
       "  <tbody>\n",
       "    <tr>\n",
       "      <th>0</th>\n",
       "      <td>IgE sensitization to Aspergillus fumigatus and...</td>\n",
       "      <td>BACKGROUND</td>\n",
       "      <td>BACKGROUND</td>\n",
       "      <td>True</td>\n",
       "    </tr>\n",
       "    <tr>\n",
       "      <th>1</th>\n",
       "      <td>It is not clear whether these patients would b...</td>\n",
       "      <td>BACKGROUND</td>\n",
       "      <td>CONCLUSIONS</td>\n",
       "      <td>False</td>\n",
       "    </tr>\n",
       "    <tr>\n",
       "      <th>2</th>\n",
       "      <td>We sought to determine whether a 3-month cours...</td>\n",
       "      <td>OBJECTIVE</td>\n",
       "      <td>OBJECTIVE</td>\n",
       "      <td>True</td>\n",
       "    </tr>\n",
       "    <tr>\n",
       "      <th>3</th>\n",
       "      <td>Asthmatic patients who were IgE sensitized to ...</td>\n",
       "      <td>METHODS</td>\n",
       "      <td>METHODS</td>\n",
       "      <td>True</td>\n",
       "    </tr>\n",
       "    <tr>\n",
       "      <th>4</th>\n",
       "      <td>Primary outcomes were improvement in quality o...</td>\n",
       "      <td>METHODS</td>\n",
       "      <td>METHODS</td>\n",
       "      <td>True</td>\n",
       "    </tr>\n",
       "    <tr>\n",
       "      <th>5</th>\n",
       "      <td>Sixty-five patients were randomized .</td>\n",
       "      <td>RESULTS</td>\n",
       "      <td>METHODS</td>\n",
       "      <td>False</td>\n",
       "    </tr>\n",
       "    <tr>\n",
       "      <th>6</th>\n",
       "      <td>Fifty-nine patients started treatment ( 32 rec...</td>\n",
       "      <td>RESULTS</td>\n",
       "      <td>RESULTS</td>\n",
       "      <td>True</td>\n",
       "    </tr>\n",
       "    <tr>\n",
       "      <th>7</th>\n",
       "      <td>Fifty-six patients took the full 3 months of m...</td>\n",
       "      <td>RESULTS</td>\n",
       "      <td>METHODS</td>\n",
       "      <td>False</td>\n",
       "    </tr>\n",
       "    <tr>\n",
       "      <th>8</th>\n",
       "      <td>Between the voriconazole and placebo groups , ...</td>\n",
       "      <td>RESULTS</td>\n",
       "      <td>RESULTS</td>\n",
       "      <td>True</td>\n",
       "    </tr>\n",
       "    <tr>\n",
       "      <th>9</th>\n",
       "      <td>We were unable to show a beneficial effect of ...</td>\n",
       "      <td>CONCLUSIONS</td>\n",
       "      <td>RESULTS</td>\n",
       "      <td>False</td>\n",
       "    </tr>\n",
       "  </tbody>\n",
       "</table>\n",
       "</div>"
      ],
      "text/plain": [
       "                                            Sentence   True Label  \\\n",
       "0  IgE sensitization to Aspergillus fumigatus and...   BACKGROUND   \n",
       "1  It is not clear whether these patients would b...   BACKGROUND   \n",
       "2  We sought to determine whether a 3-month cours...    OBJECTIVE   \n",
       "3  Asthmatic patients who were IgE sensitized to ...      METHODS   \n",
       "4  Primary outcomes were improvement in quality o...      METHODS   \n",
       "5              Sixty-five patients were randomized .      RESULTS   \n",
       "6  Fifty-nine patients started treatment ( 32 rec...      RESULTS   \n",
       "7  Fifty-six patients took the full 3 months of m...      RESULTS   \n",
       "8  Between the voriconazole and placebo groups , ...      RESULTS   \n",
       "9  We were unable to show a beneficial effect of ...  CONCLUSIONS   \n",
       "\n",
       "    Prediction  Correct?  \n",
       "0   BACKGROUND      True  \n",
       "1  CONCLUSIONS     False  \n",
       "2    OBJECTIVE      True  \n",
       "3      METHODS      True  \n",
       "4      METHODS      True  \n",
       "5      METHODS     False  \n",
       "6      RESULTS      True  \n",
       "7      METHODS     False  \n",
       "8      RESULTS      True  \n",
       "9      RESULTS     False  "
      ]
     },
     "execution_count": 31,
     "metadata": {},
     "output_type": "execute_result"
    }
   ],
   "source": [
    "def show_sample_predictions(model_predictions, n=10):\n",
    "    return pd.DataFrame(zip(X_val[:n], y_val[:n], model_predictions[:n], (y_val[:n] == model_predictions[:n])), \n",
    "                        columns=['Sentence', 'True Label', 'Prediction', 'Correct?'])\n",
    "\n",
    "show_sample_predictions(model_0_predictions)"
   ]
  },
  {
   "cell_type": "markdown",
   "id": "41a3017b",
   "metadata": {
    "papermill": {
     "duration": 0.019924,
     "end_time": "2023-07-07T08:30:34.741472",
     "exception": false,
     "start_time": "2023-07-07T08:30:34.721548",
     "status": "completed"
    },
    "tags": []
   },
   "source": [
    "## 3/b] **Model 1 (RNN model 1):** LSTM model"
   ]
  },
  {
   "cell_type": "markdown",
   "id": "7202b24e",
   "metadata": {
    "papermill": {
     "duration": 0.019983,
     "end_time": "2023-07-07T08:30:34.781357",
     "exception": false,
     "start_time": "2023-07-07T08:30:34.761374",
     "status": "completed"
    },
    "tags": []
   },
   "source": [
    "### Find the appropriate sentence length"
   ]
  },
  {
   "cell_type": "code",
   "execution_count": 32,
   "id": "abb361ca",
   "metadata": {
    "execution": {
     "iopub.execute_input": "2023-07-07T08:30:34.822593Z",
     "iopub.status.busy": "2023-07-07T08:30:34.822308Z",
     "iopub.status.idle": "2023-07-07T08:30:35.270849Z",
     "shell.execute_reply": "2023-07-07T08:30:35.269921Z"
    },
    "papermill": {
     "duration": 0.471659,
     "end_time": "2023-07-07T08:30:35.273177",
     "exception": false,
     "start_time": "2023-07-07T08:30:34.801518",
     "status": "completed"
    },
    "tags": []
   },
   "outputs": [],
   "source": [
    "sentence_lengths = pd.DataFrame([len(sentence.split()) for sentence in X_train], columns=['sentence length'])"
   ]
  },
  {
   "cell_type": "code",
   "execution_count": 33,
   "id": "ca2bb180",
   "metadata": {
    "execution": {
     "iopub.execute_input": "2023-07-07T08:30:35.316638Z",
     "iopub.status.busy": "2023-07-07T08:30:35.316355Z",
     "iopub.status.idle": "2023-07-07T08:30:35.726989Z",
     "shell.execute_reply": "2023-07-07T08:30:35.726057Z"
    },
    "papermill": {
     "duration": 0.434721,
     "end_time": "2023-07-07T08:30:35.729405",
     "exception": false,
     "start_time": "2023-07-07T08:30:35.294684",
     "status": "completed"
    },
    "tags": []
   },
   "outputs": [
    {
     "data": {
      "text/html": [
       "<div>\n",
       "<style scoped>\n",
       "    .dataframe tbody tr th:only-of-type {\n",
       "        vertical-align: middle;\n",
       "    }\n",
       "\n",
       "    .dataframe tbody tr th {\n",
       "        vertical-align: top;\n",
       "    }\n",
       "\n",
       "    .dataframe thead th {\n",
       "        text-align: right;\n",
       "    }\n",
       "</style>\n",
       "<table border=\"1\" class=\"dataframe\">\n",
       "  <thead>\n",
       "    <tr style=\"text-align: right;\">\n",
       "      <th></th>\n",
       "      <th>sentence length</th>\n",
       "    </tr>\n",
       "  </thead>\n",
       "  <tbody>\n",
       "    <tr>\n",
       "      <th>count</th>\n",
       "      <td>180040.000000</td>\n",
       "    </tr>\n",
       "    <tr>\n",
       "      <th>mean</th>\n",
       "      <td>26.338436</td>\n",
       "    </tr>\n",
       "    <tr>\n",
       "      <th>std</th>\n",
       "      <td>15.386976</td>\n",
       "    </tr>\n",
       "    <tr>\n",
       "      <th>min</th>\n",
       "      <td>1.000000</td>\n",
       "    </tr>\n",
       "    <tr>\n",
       "      <th>25%</th>\n",
       "      <td>16.000000</td>\n",
       "    </tr>\n",
       "    <tr>\n",
       "      <th>50%</th>\n",
       "      <td>23.000000</td>\n",
       "    </tr>\n",
       "    <tr>\n",
       "      <th>75%</th>\n",
       "      <td>33.000000</td>\n",
       "    </tr>\n",
       "    <tr>\n",
       "      <th>max</th>\n",
       "      <td>296.000000</td>\n",
       "    </tr>\n",
       "  </tbody>\n",
       "</table>\n",
       "</div>"
      ],
      "text/plain": [
       "       sentence length\n",
       "count    180040.000000\n",
       "mean         26.338436\n",
       "std          15.386976\n",
       "min           1.000000\n",
       "25%          16.000000\n",
       "50%          23.000000\n",
       "75%          33.000000\n",
       "max         296.000000"
      ]
     },
     "execution_count": 33,
     "metadata": {},
     "output_type": "execute_result"
    },
    {
     "data": {
      "image/png": "[encoded data removed]",
      "text/plain": [
       "<Figure size 640x480 with 1 Axes>"
      ]
     },
     "metadata": {},
     "output_type": "display_data"
    }
   ],
   "source": [
    "sentence_lengths.hist(bins=50)\n",
    "sentence_lengths.describe()"
   ]
  },
  {
   "cell_type": "code",
   "execution_count": 34,
   "id": "227f0edd",
   "metadata": {
    "execution": {
     "iopub.execute_input": "2023-07-07T08:30:35.773826Z",
     "iopub.status.busy": "2023-07-07T08:30:35.772923Z",
     "iopub.status.idle": "2023-07-07T08:30:35.781166Z",
     "shell.execute_reply": "2023-07-07T08:30:35.780253Z"
    },
    "papermill": {
     "duration": 0.03234,
     "end_time": "2023-07-07T08:30:35.783154",
     "exception": false,
     "start_time": "2023-07-07T08:30:35.750814",
     "status": "completed"
    },
    "tags": []
   },
   "outputs": [
    {
     "data": {
      "text/plain": [
       "45"
      ]
     },
     "execution_count": 34,
     "metadata": {},
     "output_type": "execute_result"
    }
   ],
   "source": [
    "SENTENCE_LENGTH = int(np.percentile(sentence_lengths, 90))\n",
    "SENTENCE_LENGTH"
   ]
  },
  {
   "cell_type": "markdown",
   "id": "e448bbff",
   "metadata": {
    "papermill": {
     "duration": 0.020528,
     "end_time": "2023-07-07T08:30:35.824288",
     "exception": false,
     "start_time": "2023-07-07T08:30:35.803760",
     "status": "completed"
    },
    "tags": []
   },
   "source": [
    "### Explore TF vectorizer"
   ]
  },
  {
   "cell_type": "code",
   "execution_count": 35,
   "id": "655bca86",
   "metadata": {
    "execution": {
     "iopub.execute_input": "2023-07-07T08:30:35.867355Z",
     "iopub.status.busy": "2023-07-07T08:30:35.866337Z",
     "iopub.status.idle": "2023-07-07T08:30:52.594975Z",
     "shell.execute_reply": "2023-07-07T08:30:52.593961Z"
    },
    "papermill": {
     "duration": 16.752598,
     "end_time": "2023-07-07T08:30:52.597367",
     "exception": false,
     "start_time": "2023-07-07T08:30:35.844769",
     "status": "completed"
    },
    "tags": []
   },
   "outputs": [],
   "source": [
    "from tensorflow.keras.layers import TextVectorization\n",
    "\n",
    "VOCABULARY_LENGTH = 5000\n",
    "vectorizer = TextVectorization(\n",
    "    max_tokens = VOCABULARY_LENGTH,\n",
    "    output_mode=\"int\",\n",
    "    output_sequence_length=SENTENCE_LENGTH\n",
    ")\n",
    "vectorizer.adapt(X_train)"
   ]
  },
  {
   "cell_type": "code",
   "execution_count": 36,
   "id": "f2daea36",
   "metadata": {
    "execution": {
     "iopub.execute_input": "2023-07-07T08:30:52.642081Z",
     "iopub.status.busy": "2023-07-07T08:30:52.641741Z",
     "iopub.status.idle": "2023-07-07T08:30:52.667233Z",
     "shell.execute_reply": "2023-07-07T08:30:52.666072Z"
    },
    "papermill": {
     "duration": 0.050585,
     "end_time": "2023-07-07T08:30:52.669822",
     "exception": false,
     "start_time": "2023-07-07T08:30:52.619237",
     "status": "completed"
    },
    "tags": []
   },
   "outputs": [
    {
     "data": {
      "text/plain": [
       "(5000,\n",
       "        0           1\n",
       " 0         amiodarone\n",
       " 1  [UNK]      always\n",
       " 2    the   alleviate\n",
       " 3    and         aki\n",
       " 4     of          ab\n",
       " 5     in         313\n",
       " 6     to         247\n",
       " 7   with        0029\n",
       " 8      a  vulnerable\n",
       " 9   were   synthetic)"
      ]
     },
     "execution_count": 36,
     "metadata": {},
     "output_type": "execute_result"
    }
   ],
   "source": [
    "vocabulary = vectorizer.get_vocabulary()\n",
    "\n",
    "len(vocabulary), pd.DataFrame(zip(vocabulary[:10], vocabulary[-10:]))"
   ]
  },
  {
   "cell_type": "code",
   "execution_count": 37,
   "id": "da84b03f",
   "metadata": {
    "execution": {
     "iopub.execute_input": "2023-07-07T08:30:52.717032Z",
     "iopub.status.busy": "2023-07-07T08:30:52.716729Z",
     "iopub.status.idle": "2023-07-07T08:30:52.830154Z",
     "shell.execute_reply": "2023-07-07T08:30:52.828961Z"
    },
    "papermill": {
     "duration": 0.14069,
     "end_time": "2023-07-07T08:30:52.832930",
     "exception": false,
     "start_time": "2023-07-07T08:30:52.692240",
     "status": "completed"
    },
    "tags": []
   },
   "outputs": [
    {
     "data": {
      "text/html": [
       "<div>\n",
       "<style scoped>\n",
       "    .dataframe tbody tr th:only-of-type {\n",
       "        vertical-align: middle;\n",
       "    }\n",
       "\n",
       "    .dataframe tbody tr th {\n",
       "        vertical-align: top;\n",
       "    }\n",
       "\n",
       "    .dataframe thead th {\n",
       "        text-align: right;\n",
       "    }\n",
       "</style>\n",
       "<table border=\"1\" class=\"dataframe\">\n",
       "  <thead>\n",
       "    <tr style=\"text-align: right;\">\n",
       "      <th></th>\n",
       "      <th>Sentence</th>\n",
       "      <th>Vectorized sentence</th>\n",
       "    </tr>\n",
       "  </thead>\n",
       "  <tbody>\n",
       "    <tr>\n",
       "      <th>0</th>\n",
       "      <td>To investigate the efficacy of 6 weeks of dail...</td>\n",
       "      <td>[6, 356, 2, 82, 4, 72, 65, 4, 172, 1231, 226, ...</td>\n",
       "    </tr>\n",
       "    <tr>\n",
       "      <th>1</th>\n",
       "      <td>A total of 125 patients with primary knee OA w...</td>\n",
       "      <td>[8, 79, 4, 1029, 12, 7, 57, 557, 1895, 9, 29, ...</td>\n",
       "    </tr>\n",
       "    <tr>\n",
       "      <th>2</th>\n",
       "      <td>Outcome measures included pain reduction and i...</td>\n",
       "      <td>[88, 220, 128, 66, 181, 3, 204, 5, 160, 126, 3...</td>\n",
       "    </tr>\n",
       "    <tr>\n",
       "      <th>3</th>\n",
       "      <td>Pain was assessed using the visual analog pain...</td>\n",
       "      <td>[66, 10, 118, 60, 2, 310, 1065, 66, 170, 1, 28...</td>\n",
       "    </tr>\n",
       "    <tr>\n",
       "      <th>4</th>\n",
       "      <td>Secondary outcome measures included the Wester...</td>\n",
       "      <td>[162, 88, 220, 128, 2, 1488, 1, 3, 1, 1, 1564,...</td>\n",
       "    </tr>\n",
       "  </tbody>\n",
       "</table>\n",
       "</div>"
      ],
      "text/plain": [
       "                                            Sentence  \\\n",
       "0  To investigate the efficacy of 6 weeks of dail...   \n",
       "1  A total of 125 patients with primary knee OA w...   \n",
       "2  Outcome measures included pain reduction and i...   \n",
       "3  Pain was assessed using the visual analog pain...   \n",
       "4  Secondary outcome measures included the Wester...   \n",
       "\n",
       "                                 Vectorized sentence  \n",
       "0  [6, 356, 2, 82, 4, 72, 65, 4, 172, 1231, 226, ...  \n",
       "1  [8, 79, 4, 1029, 12, 7, 57, 557, 1895, 9, 29, ...  \n",
       "2  [88, 220, 128, 66, 181, 3, 204, 5, 160, 126, 3...  \n",
       "3  [66, 10, 118, 60, 2, 310, 1065, 66, 170, 1, 28...  \n",
       "4  [162, 88, 220, 128, 2, 1488, 1, 3, 1, 1, 1564,...  "
      ]
     },
     "execution_count": 37,
     "metadata": {},
     "output_type": "execute_result"
    }
   ],
   "source": [
    "sample_sentences = X_train[:5]\n",
    "sample_vectorized_sentences = vectorizer(sample_sentences)\n",
    "\n",
    "pd.DataFrame(zip(sample_sentences, sample_vectorized_sentences.numpy()),\n",
    "            columns=['Sentence', 'Vectorized sentence'])"
   ]
  },
  {
   "cell_type": "markdown",
   "id": "2ea8d7ef",
   "metadata": {
    "papermill": {
     "duration": 0.021086,
     "end_time": "2023-07-07T08:30:52.876381",
     "exception": false,
     "start_time": "2023-07-07T08:30:52.855295",
     "status": "completed"
    },
    "tags": []
   },
   "source": [
    "### Explore TF Embedding"
   ]
  },
  {
   "cell_type": "code",
   "execution_count": 38,
   "id": "ffc8aa30",
   "metadata": {
    "execution": {
     "iopub.execute_input": "2023-07-07T08:30:52.919927Z",
     "iopub.status.busy": "2023-07-07T08:30:52.919584Z",
     "iopub.status.idle": "2023-07-07T08:30:52.926762Z",
     "shell.execute_reply": "2023-07-07T08:30:52.925840Z"
    },
    "papermill": {
     "duration": 0.031233,
     "end_time": "2023-07-07T08:30:52.928667",
     "exception": false,
     "start_time": "2023-07-07T08:30:52.897434",
     "status": "completed"
    },
    "tags": []
   },
   "outputs": [],
   "source": [
    "from tensorflow.keras.layers import Embedding\n",
    "\n",
    "EMBEDDING_DIMENSION = 512\n",
    "\n",
    "def make_embedding():\n",
    "    return Embedding(\n",
    "        input_dim=VOCABULARY_LENGTH,\n",
    "        output_dim=EMBEDDING_DIMENSION,\n",
    "        input_length=SENTENCE_LENGTH\n",
    "    )\n",
    "\n",
    "embedding = make_embedding()"
   ]
  },
  {
   "cell_type": "code",
   "execution_count": 39,
   "id": "789a00a8",
   "metadata": {
    "execution": {
     "iopub.execute_input": "2023-07-07T08:30:52.972786Z",
     "iopub.status.busy": "2023-07-07T08:30:52.971995Z",
     "iopub.status.idle": "2023-07-07T08:30:53.027662Z",
     "shell.execute_reply": "2023-07-07T08:30:53.026711Z"
    },
    "papermill": {
     "duration": 0.08005,
     "end_time": "2023-07-07T08:30:53.029986",
     "exception": false,
     "start_time": "2023-07-07T08:30:52.949936",
     "status": "completed"
    },
    "tags": []
   },
   "outputs": [
    {
     "data": {
      "text/plain": [
       "<tf.Tensor: shape=(5, 45, 512), dtype=float32, numpy=\n",
       "array([[[-0.00872795, -0.00047916, -0.03621984, ...,  0.03007198,\n",
       "         -0.03940027, -0.04326714],\n",
       "        [ 0.04756692,  0.0290862 , -0.03918672, ...,  0.01188614,\n",
       "         -0.04626371, -0.0121372 ],\n",
       "        [-0.01289467,  0.03753278, -0.00539821, ...,  0.02464176,\n",
       "         -0.01119621,  0.01759655],\n",
       "        ...,\n",
       "        [-0.00158641, -0.00525819, -0.04728538, ...,  0.02966139,\n",
       "         -0.01716183,  0.03514746],\n",
       "        [ 0.00913434, -0.00163442,  0.01295699, ..., -0.02713188,\n",
       "         -0.04655104,  0.01034285],\n",
       "        [ 0.03581891,  0.01626286, -0.01412892, ...,  0.0452905 ,\n",
       "         -0.02311034,  0.02508745]],\n",
       "\n",
       "       [[-0.04173072, -0.02671394, -0.00819439, ..., -0.03924815,\n",
       "          0.03026411, -0.01449645],\n",
       "        [ 0.02525577,  0.02984539, -0.00592512, ..., -0.03958876,\n",
       "          0.00627631,  0.01648164],\n",
       "        [-0.03275682,  0.00603578, -0.0449412 , ...,  0.03293948,\n",
       "          0.03431762, -0.02514657],\n",
       "        ...,\n",
       "        [ 0.03581891,  0.01626286, -0.01412892, ...,  0.0452905 ,\n",
       "         -0.02311034,  0.02508745],\n",
       "        [ 0.03581891,  0.01626286, -0.01412892, ...,  0.0452905 ,\n",
       "         -0.02311034,  0.02508745],\n",
       "        [ 0.03581891,  0.01626286, -0.01412892, ...,  0.0452905 ,\n",
       "         -0.02311034,  0.02508745]],\n",
       "\n",
       "       [[-0.00403283,  0.03662724,  0.00680878, ...,  0.04918501,\n",
       "         -0.0439512 , -0.01274885],\n",
       "        [ 0.02505181, -0.04449875, -0.02078739, ...,  0.03826511,\n",
       "          0.02763439, -0.00655673],\n",
       "        [ 0.0267853 , -0.00423729,  0.02750838, ...,  0.03764858,\n",
       "          0.01883388,  0.00729959],\n",
       "        ...,\n",
       "        [ 0.03581891,  0.01626286, -0.01412892, ...,  0.0452905 ,\n",
       "         -0.02311034,  0.02508745],\n",
       "        [ 0.03581891,  0.01626286, -0.01412892, ...,  0.0452905 ,\n",
       "         -0.02311034,  0.02508745],\n",
       "        [ 0.03581891,  0.01626286, -0.01412892, ...,  0.0452905 ,\n",
       "         -0.02311034,  0.02508745]],\n",
       "\n",
       "       [[-0.01535591,  0.01433163, -0.02503929, ...,  0.00627261,\n",
       "         -0.03482354, -0.03762902],\n",
       "        [-0.01452326,  0.00591768, -0.03356653, ..., -0.03776317,\n",
       "         -0.01912084,  0.00298883],\n",
       "        [-0.00222422, -0.02222561,  0.03733286, ..., -0.01092639,\n",
       "          0.03934323, -0.01174093],\n",
       "        ...,\n",
       "        [ 0.03581891,  0.01626286, -0.01412892, ...,  0.0452905 ,\n",
       "         -0.02311034,  0.02508745],\n",
       "        [ 0.03581891,  0.01626286, -0.01412892, ...,  0.0452905 ,\n",
       "         -0.02311034,  0.02508745],\n",
       "        [ 0.03581891,  0.01626286, -0.01412892, ...,  0.0452905 ,\n",
       "         -0.02311034,  0.02508745]],\n",
       "\n",
       "       [[ 0.01044143,  0.01619948,  0.03847546, ..., -0.04052573,\n",
       "         -0.03202992, -0.04919037],\n",
       "        [-0.00403283,  0.03662724,  0.00680878, ...,  0.04918501,\n",
       "         -0.0439512 , -0.01274885],\n",
       "        [ 0.02505181, -0.04449875, -0.02078739, ...,  0.03826511,\n",
       "          0.02763439, -0.00655673],\n",
       "        ...,\n",
       "        [ 0.03581891,  0.01626286, -0.01412892, ...,  0.0452905 ,\n",
       "         -0.02311034,  0.02508745],\n",
       "        [ 0.03581891,  0.01626286, -0.01412892, ...,  0.0452905 ,\n",
       "         -0.02311034,  0.02508745],\n",
       "        [ 0.03581891,  0.01626286, -0.01412892, ...,  0.0452905 ,\n",
       "         -0.02311034,  0.02508745]]], dtype=float32)>"
      ]
     },
     "execution_count": 39,
     "metadata": {},
     "output_type": "execute_result"
    }
   ],
   "source": [
    "sample_embedding = embedding(vectorizer(X_train[:5]))\n",
    "sample_embedding"
   ]
  },
  {
   "cell_type": "markdown",
   "id": "d141ef22",
   "metadata": {
    "papermill": {
     "duration": 0.021213,
     "end_time": "2023-07-07T08:30:53.074928",
     "exception": false,
     "start_time": "2023-07-07T08:30:53.053715",
     "status": "completed"
    },
    "tags": []
   },
   "source": [
    "### The Model"
   ]
  },
  {
   "cell_type": "code",
   "execution_count": 40,
   "id": "aa1be9da",
   "metadata": {
    "execution": {
     "iopub.execute_input": "2023-07-07T08:30:53.121936Z",
     "iopub.status.busy": "2023-07-07T08:30:53.121593Z",
     "iopub.status.idle": "2023-07-07T08:30:53.479788Z",
     "shell.execute_reply": "2023-07-07T08:30:53.479043Z"
    },
    "papermill": {
     "duration": 0.389304,
     "end_time": "2023-07-07T08:30:53.487550",
     "exception": false,
     "start_time": "2023-07-07T08:30:53.098246",
     "status": "completed"
    },
    "tags": []
   },
   "outputs": [
    {
     "name": "stdout",
     "output_type": "stream",
     "text": [
      "Model: \"sequential\"\n",
      "_________________________________________________________________\n",
      " Layer (type)                Output Shape              Param #   \n",
      "=================================================================\n",
      " text_vectorization (TextVec  (None, 45)               0         \n",
      " torization)                                                     \n",
      "                                                                 \n",
      " embedding_1 (Embedding)     (None, 45, 512)           2560000   \n",
      "                                                                 \n",
      " lstm (LSTM)                 (None, 64)                147712    \n",
      "                                                                 \n",
      " dense (Dense)               (None, 5)                 325       \n",
      "                                                                 \n",
      "=================================================================\n",
      "Total params: 2,708,037\n",
      "Trainable params: 2,708,037\n",
      "Non-trainable params: 0\n",
      "_________________________________________________________________\n"
     ]
    }
   ],
   "source": [
    "from tensorflow.keras.layers import Input, Dense, LSTM\n",
    "from tensorflow.keras import Sequential\n",
    "\n",
    "def build_model_1():\n",
    "    return Sequential([\n",
    "        Input(shape=(1,), dtype=tf.string),\n",
    "        vectorizer, \n",
    "        make_embedding(),\n",
    "        LSTM(64),\n",
    "        Dense(len(CLASSES), activation='softmax')        \n",
    "    ])\n",
    "    \n",
    "model_1 = build_model_1()\n",
    "model_1.summary()"
   ]
  },
  {
   "cell_type": "markdown",
   "id": "eca0c454",
   "metadata": {
    "papermill": {
     "duration": 0.022907,
     "end_time": "2023-07-07T08:30:53.533954",
     "exception": false,
     "start_time": "2023-07-07T08:30:53.511047",
     "status": "completed"
    },
    "tags": []
   },
   "source": [
    "### Label classes to numeric values"
   ]
  },
  {
   "cell_type": "code",
   "execution_count": 41,
   "id": "9dd1a250",
   "metadata": {
    "execution": {
     "iopub.execute_input": "2023-07-07T08:30:53.580679Z",
     "iopub.status.busy": "2023-07-07T08:30:53.580345Z",
     "iopub.status.idle": "2023-07-07T08:30:53.589976Z",
     "shell.execute_reply": "2023-07-07T08:30:53.588957Z"
    },
    "papermill": {
     "duration": 0.035697,
     "end_time": "2023-07-07T08:30:53.592339",
     "exception": false,
     "start_time": "2023-07-07T08:30:53.556642",
     "status": "completed"
    },
    "tags": []
   },
   "outputs": [
    {
     "data": {
      "text/plain": [
       "array([0, 3, 2, 4, 1])"
      ]
     },
     "execution_count": 41,
     "metadata": {},
     "output_type": "execute_result"
    }
   ],
   "source": [
    "from sklearn.preprocessing import LabelEncoder\n",
    "\n",
    "y_encoder = LabelEncoder()\n",
    "y_encoder.fit(CLASSES)\n",
    "y_encoder.transform(CLASSES)"
   ]
  },
  {
   "cell_type": "code",
   "execution_count": 42,
   "id": "453a9456",
   "metadata": {
    "execution": {
     "iopub.execute_input": "2023-07-07T08:30:53.643095Z",
     "iopub.status.busy": "2023-07-07T08:30:53.642644Z",
     "iopub.status.idle": "2023-07-07T08:30:53.837848Z",
     "shell.execute_reply": "2023-07-07T08:30:53.836826Z"
    },
    "papermill": {
     "duration": 0.2225,
     "end_time": "2023-07-07T08:30:53.840181",
     "exception": false,
     "start_time": "2023-07-07T08:30:53.617681",
     "status": "completed"
    },
    "tags": []
   },
   "outputs": [
    {
     "data": {
      "text/plain": [
       "(array([3, 2, 2, 2, 2, 2, 4, 4, 4, 4]), array([0, 0, 3, 2, 2, 4, 4, 4, 4, 1]))"
      ]
     },
     "execution_count": 42,
     "metadata": {},
     "output_type": "execute_result"
    }
   ],
   "source": [
    "y_train_encoded = y_encoder.transform(y_train)\n",
    "y_val_encoded = y_encoder.transform(y_val)\n",
    "\n",
    "y_train_encoded[:10], y_val_encoded[:10]"
   ]
  },
  {
   "cell_type": "code",
   "execution_count": 43,
   "id": "028eec76",
   "metadata": {
    "execution": {
     "iopub.execute_input": "2023-07-07T08:30:53.887939Z",
     "iopub.status.busy": "2023-07-07T08:30:53.887600Z",
     "iopub.status.idle": "2023-07-07T08:32:58.742070Z",
     "shell.execute_reply": "2023-07-07T08:32:58.740957Z"
    },
    "papermill": {
     "duration": 124.880503,
     "end_time": "2023-07-07T08:32:58.744449",
     "exception": false,
     "start_time": "2023-07-07T08:30:53.863946",
     "status": "completed"
    },
    "tags": []
   },
   "outputs": [
    {
     "name": "stdout",
     "output_type": "stream",
     "text": [
      "Epoch 1/5\n",
      "1406/1406 [==============================] - 60s 37ms/step - loss: 0.7148 - accuracy: 0.7304 - val_loss: 0.5167 - val_accuracy: 0.8119\n",
      "Epoch 2/5\n",
      "1406/1406 [==============================] - 18s 12ms/step - loss: 0.4814 - accuracy: 0.8248 - val_loss: 0.4718 - val_accuracy: 0.8254\n",
      "Epoch 3/5\n",
      "1406/1406 [==============================] - 17s 12ms/step - loss: 0.4300 - accuracy: 0.8424 - val_loss: 0.4672 - val_accuracy: 0.8301\n",
      "Epoch 4/5\n",
      "1406/1406 [==============================] - 15s 11ms/step - loss: 0.3905 - accuracy: 0.8573 - val_loss: 0.4753 - val_accuracy: 0.8260\n",
      "Epoch 5/5\n",
      "1406/1406 [==============================] - 15s 11ms/step - loss: 0.3532 - accuracy: 0.8703 - val_loss: 0.4832 - val_accuracy: 0.8293\n"
     ]
    }
   ],
   "source": [
    "from tensorflow.keras.losses import SparseCategoricalCrossentropy\n",
    "from tensorflow.keras.optimizers import Adam\n",
    "\n",
    "model_1.compile(\n",
    "    loss=SparseCategoricalCrossentropy(),\n",
    "    optimizer=Adam(),\n",
    "    metrics=['accuracy']\n",
    ")\n",
    "\n",
    "BATCH_SIZE = 128\n",
    "model_1_history = model_1.fit(X_train, y_train_encoded,\n",
    "                              batch_size=BATCH_SIZE,\n",
    "                              steps_per_epoch=len(X_train)//BATCH_SIZE,\n",
    "                              epochs=5,\n",
    "                              validation_data=(X_val, y_val_encoded),\n",
    "                              validation_batch_size=BATCH_SIZE,\n",
    "                              validation_steps=len(X_val)//BATCH_SIZE\n",
    "                             )"
   ]
  },
  {
   "cell_type": "code",
   "execution_count": 44,
   "id": "6674fd0c",
   "metadata": {
    "execution": {
     "iopub.execute_input": "2023-07-07T08:32:58.995330Z",
     "iopub.status.busy": "2023-07-07T08:32:58.994998Z",
     "iopub.status.idle": "2023-07-07T08:32:59.335817Z",
     "shell.execute_reply": "2023-07-07T08:32:59.334865Z"
    },
    "papermill": {
     "duration": 0.465234,
     "end_time": "2023-07-07T08:32:59.337836",
     "exception": false,
     "start_time": "2023-07-07T08:32:58.872602",
     "status": "completed"
    },
    "tags": []
   },
   "outputs": [
    {
     "data": {
      "text/plain": [
       "<Axes: >"
      ]
     },
     "execution_count": 44,
     "metadata": {},
     "output_type": "execute_result"
    },
    {
     "data": {
      "image/png": "[encoded data removed]",
      "text/plain": [
       "<Figure size 640x480 with 1 Axes>"
      ]
     },
     "metadata": {},
     "output_type": "display_data"
    }
   ],
   "source": [
    "pd.DataFrame(model_1_history.history).plot()"
   ]
  },
  {
   "cell_type": "code",
   "execution_count": 45,
   "id": "8599dc60",
   "metadata": {
    "execution": {
     "iopub.execute_input": "2023-07-07T08:32:59.638861Z",
     "iopub.status.busy": "2023-07-07T08:32:59.638349Z",
     "iopub.status.idle": "2023-07-07T08:33:05.199612Z",
     "shell.execute_reply": "2023-07-07T08:33:05.197950Z"
    },
    "papermill": {
     "duration": 5.73142,
     "end_time": "2023-07-07T08:33:05.201800",
     "exception": false,
     "start_time": "2023-07-07T08:32:59.470380",
     "status": "completed"
    },
    "tags": []
   },
   "outputs": [
    {
     "name": "stdout",
     "output_type": "stream",
     "text": [
      "945/945 [==============================] - 4s 3ms/step\n",
      "(30212,)\n"
     ]
    },
    {
     "data": {
      "text/plain": [
       "array(['BACKGROUND', 'BACKGROUND', 'OBJECTIVE', 'METHODS', 'METHODS',\n",
       "       'RESULTS', 'RESULTS', 'METHODS', 'RESULTS', 'CONCLUSIONS'],\n",
       "      dtype='<U11')"
      ]
     },
     "execution_count": 45,
     "metadata": {},
     "output_type": "execute_result"
    }
   ],
   "source": [
    "def model_predict(model, X):\n",
    "    y_values = np.argmax(model.predict(X), axis=1)\n",
    "    print(y_values.shape)\n",
    "    return y_encoder.inverse_transform(y_values)\n",
    "\n",
    "model_1_predictions = model_predict(model_1, X_val)\n",
    "model_1_predictions[:10]"
   ]
  },
  {
   "cell_type": "code",
   "execution_count": 46,
   "id": "5d427200",
   "metadata": {
    "execution": {
     "iopub.execute_input": "2023-07-07T08:33:05.467715Z",
     "iopub.status.busy": "2023-07-07T08:33:05.466773Z",
     "iopub.status.idle": "2023-07-07T08:33:05.480233Z",
     "shell.execute_reply": "2023-07-07T08:33:05.479267Z"
    },
    "papermill": {
     "duration": 0.148708,
     "end_time": "2023-07-07T08:33:05.482305",
     "exception": false,
     "start_time": "2023-07-07T08:33:05.333597",
     "status": "completed"
    },
    "tags": []
   },
   "outputs": [
    {
     "data": {
      "text/html": [
       "<div>\n",
       "<style scoped>\n",
       "    .dataframe tbody tr th:only-of-type {\n",
       "        vertical-align: middle;\n",
       "    }\n",
       "\n",
       "    .dataframe tbody tr th {\n",
       "        vertical-align: top;\n",
       "    }\n",
       "\n",
       "    .dataframe thead th {\n",
       "        text-align: right;\n",
       "    }\n",
       "</style>\n",
       "<table border=\"1\" class=\"dataframe\">\n",
       "  <thead>\n",
       "    <tr style=\"text-align: right;\">\n",
       "      <th></th>\n",
       "      <th>Sentence</th>\n",
       "      <th>True Label</th>\n",
       "      <th>Prediction</th>\n",
       "      <th>Correct?</th>\n",
       "    </tr>\n",
       "  </thead>\n",
       "  <tbody>\n",
       "    <tr>\n",
       "      <th>0</th>\n",
       "      <td>IgE sensitization to Aspergillus fumigatus and...</td>\n",
       "      <td>BACKGROUND</td>\n",
       "      <td>BACKGROUND</td>\n",
       "      <td>True</td>\n",
       "    </tr>\n",
       "    <tr>\n",
       "      <th>1</th>\n",
       "      <td>It is not clear whether these patients would b...</td>\n",
       "      <td>BACKGROUND</td>\n",
       "      <td>BACKGROUND</td>\n",
       "      <td>True</td>\n",
       "    </tr>\n",
       "    <tr>\n",
       "      <th>2</th>\n",
       "      <td>We sought to determine whether a 3-month cours...</td>\n",
       "      <td>OBJECTIVE</td>\n",
       "      <td>OBJECTIVE</td>\n",
       "      <td>True</td>\n",
       "    </tr>\n",
       "    <tr>\n",
       "      <th>3</th>\n",
       "      <td>Asthmatic patients who were IgE sensitized to ...</td>\n",
       "      <td>METHODS</td>\n",
       "      <td>METHODS</td>\n",
       "      <td>True</td>\n",
       "    </tr>\n",
       "    <tr>\n",
       "      <th>4</th>\n",
       "      <td>Primary outcomes were improvement in quality o...</td>\n",
       "      <td>METHODS</td>\n",
       "      <td>METHODS</td>\n",
       "      <td>True</td>\n",
       "    </tr>\n",
       "    <tr>\n",
       "      <th>5</th>\n",
       "      <td>Sixty-five patients were randomized .</td>\n",
       "      <td>RESULTS</td>\n",
       "      <td>RESULTS</td>\n",
       "      <td>True</td>\n",
       "    </tr>\n",
       "    <tr>\n",
       "      <th>6</th>\n",
       "      <td>Fifty-nine patients started treatment ( 32 rec...</td>\n",
       "      <td>RESULTS</td>\n",
       "      <td>RESULTS</td>\n",
       "      <td>True</td>\n",
       "    </tr>\n",
       "    <tr>\n",
       "      <th>7</th>\n",
       "      <td>Fifty-six patients took the full 3 months of m...</td>\n",
       "      <td>RESULTS</td>\n",
       "      <td>METHODS</td>\n",
       "      <td>False</td>\n",
       "    </tr>\n",
       "    <tr>\n",
       "      <th>8</th>\n",
       "      <td>Between the voriconazole and placebo groups , ...</td>\n",
       "      <td>RESULTS</td>\n",
       "      <td>RESULTS</td>\n",
       "      <td>True</td>\n",
       "    </tr>\n",
       "    <tr>\n",
       "      <th>9</th>\n",
       "      <td>We were unable to show a beneficial effect of ...</td>\n",
       "      <td>CONCLUSIONS</td>\n",
       "      <td>CONCLUSIONS</td>\n",
       "      <td>True</td>\n",
       "    </tr>\n",
       "  </tbody>\n",
       "</table>\n",
       "</div>"
      ],
      "text/plain": [
       "                                            Sentence   True Label  \\\n",
       "0  IgE sensitization to Aspergillus fumigatus and...   BACKGROUND   \n",
       "1  It is not clear whether these patients would b...   BACKGROUND   \n",
       "2  We sought to determine whether a 3-month cours...    OBJECTIVE   \n",
       "3  Asthmatic patients who were IgE sensitized to ...      METHODS   \n",
       "4  Primary outcomes were improvement in quality o...      METHODS   \n",
       "5              Sixty-five patients were randomized .      RESULTS   \n",
       "6  Fifty-nine patients started treatment ( 32 rec...      RESULTS   \n",
       "7  Fifty-six patients took the full 3 months of m...      RESULTS   \n",
       "8  Between the voriconazole and placebo groups , ...      RESULTS   \n",
       "9  We were unable to show a beneficial effect of ...  CONCLUSIONS   \n",
       "\n",
       "    Prediction  Correct?  \n",
       "0   BACKGROUND      True  \n",
       "1   BACKGROUND      True  \n",
       "2    OBJECTIVE      True  \n",
       "3      METHODS      True  \n",
       "4      METHODS      True  \n",
       "5      RESULTS      True  \n",
       "6      RESULTS      True  \n",
       "7      METHODS     False  \n",
       "8      RESULTS      True  \n",
       "9  CONCLUSIONS      True  "
      ]
     },
     "execution_count": 46,
     "metadata": {},
     "output_type": "execute_result"
    }
   ],
   "source": [
    "show_sample_predictions(model_1_predictions)"
   ]
  },
  {
   "cell_type": "code",
   "execution_count": 47,
   "id": "05159a48",
   "metadata": {
    "execution": {
     "iopub.execute_input": "2023-07-07T08:33:05.755413Z",
     "iopub.status.busy": "2023-07-07T08:33:05.754293Z",
     "iopub.status.idle": "2023-07-07T08:33:05.987740Z",
     "shell.execute_reply": "2023-07-07T08:33:05.986562Z"
    },
    "papermill": {
     "duration": 0.370163,
     "end_time": "2023-07-07T08:33:05.990873",
     "exception": false,
     "start_time": "2023-07-07T08:33:05.620710",
     "status": "completed"
    },
    "tags": []
   },
   "outputs": [
    {
     "data": {
      "text/plain": [
       "{'precision': 0.8286074284992948,\n",
       " 'recall': 0.829306235932742,\n",
       " 'f1': 0.8271432417180798}"
      ]
     },
     "execution_count": 47,
     "metadata": {},
     "output_type": "execute_result"
    }
   ],
   "source": [
    "score_predictions(y_val, model_1_predictions)"
   ]
  },
  {
   "cell_type": "code",
   "execution_count": null,
   "id": "31e08a53",
   "metadata": {
    "papermill": {
     "duration": 0.131818,
     "end_time": "2023-07-07T08:33:06.262118",
     "exception": false,
     "start_time": "2023-07-07T08:33:06.130300",
     "status": "completed"
    },
    "tags": []
   },
   "outputs": [],
   "source": []
  }
 ],
 "metadata": {
  "kernelspec": {
   "display_name": "Python 3",
   "language": "python",
   "name": "python3"
  },
  "language_info": {
   "codemirror_mode": {
    "name": "ipython",
    "version": 3
   },
   "file_extension": ".py",
   "mimetype": "text/x-python",
   "name": "python",
   "nbconvert_exporter": "python",
   "pygments_lexer": "ipython3",
   "version": "3.10.10"
  },
  "papermill": {
   "default_parameters": {},
   "duration": 197.085921,
   "end_time": "2023-07-07T08:33:10.259201",
   "environment_variables": {},
   "exception": null,
   "input_path": "__notebook__.ipynb",
   "output_path": "__notebook__.ipynb",
   "parameters": {},
   "start_time": "2023-07-07T08:29:53.173280",
   "version": "2.4.0"
  }
 },
 "nbformat": 4,
 "nbformat_minor": 5
}
