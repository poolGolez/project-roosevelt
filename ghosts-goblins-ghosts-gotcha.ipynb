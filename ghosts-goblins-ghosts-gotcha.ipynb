{
 "cells": [
  {
   "cell_type": "markdown",
   "id": "47e7c432",
   "metadata": {
    "papermill": {
     "duration": 0.008861,
     "end_time": "2023-02-08T14:47:46.019171",
     "exception": false,
     "start_time": "2023-02-08T14:47:46.010310",
     "status": "completed"
    },
    "tags": []
   },
   "source": [
    "# Overview\n",
    "\n",
    "1. Ingestion\n",
    "2. Data Exploration\n",
    "3. Model"
   ]
  },
  {
   "cell_type": "markdown",
   "id": "ba06aef3",
   "metadata": {
    "papermill": {
     "duration": 0.006987,
     "end_time": "2023-02-08T14:47:46.033667",
     "exception": false,
     "start_time": "2023-02-08T14:47:46.026680",
     "status": "completed"
    },
    "tags": []
   },
   "source": [
    "# 1. Ingestion"
   ]
  },
  {
   "cell_type": "code",
   "execution_count": 1,
   "id": "09ceeffb",
   "metadata": {
    "_cell_guid": "b1076dfc-b9ad-4769-8c92-a6c4dae69d19",
    "_uuid": "8f2839f25d086af736a60e9eeb907d3b93b6e0e5",
    "execution": {
     "iopub.execute_input": "2023-02-08T14:47:46.050782Z",
     "iopub.status.busy": "2023-02-08T14:47:46.050164Z",
     "iopub.status.idle": "2023-02-08T14:48:00.134389Z",
     "shell.execute_reply": "2023-02-08T14:48:00.132612Z"
    },
    "papermill": {
     "duration": 14.098319,
     "end_time": "2023-02-08T14:48:00.139232",
     "exception": false,
     "start_time": "2023-02-08T14:47:46.040913",
     "status": "completed"
    },
    "tags": []
   },
   "outputs": [
    {
     "name": "stdout",
     "output_type": "stream",
     "text": [
      "Requirement already satisfied: tabulate in /opt/conda/lib/python3.7/site-packages (0.9.0)\r\n",
      "\u001b[33mWARNING: Running pip as the 'root' user can result in broken permissions and conflicting behaviour with the system package manager. It is recommended to use a virtual environment instead: https://pip.pypa.io/warnings/venv\u001b[0m\u001b[33m\r\n",
      "\u001b[0m"
     ]
    }
   ],
   "source": [
    "!pip install tabulate\n",
    "\n",
    "import numpy as np\n",
    "import pandas as pd\n",
    "import matplotlib.pyplot as plt\n",
    "import seaborn as sns\n",
    "from tabulate import tabulate\n",
    "\n",
    "import os"
   ]
  },
  {
   "cell_type": "code",
   "execution_count": 2,
   "id": "6fc2fd51",
   "metadata": {
    "execution": {
     "iopub.execute_input": "2023-02-08T14:48:00.158210Z",
     "iopub.status.busy": "2023-02-08T14:48:00.157618Z",
     "iopub.status.idle": "2023-02-08T14:48:02.368265Z",
     "shell.execute_reply": "2023-02-08T14:48:02.366751Z"
    },
    "papermill": {
     "duration": 2.224384,
     "end_time": "2023-02-08T14:48:02.371291",
     "exception": false,
     "start_time": "2023-02-08T14:48:00.146907",
     "status": "completed"
    },
    "tags": []
   },
   "outputs": [
    {
     "name": "stdout",
     "output_type": "stream",
     "text": [
      "Unzipping /kaggle/working/train.csv...\n",
      "Archive:  /kaggle/input/ghouls-goblins-and-ghosts-boo/train.csv.zip\r\n",
      "  inflating: train.csv               \r\n",
      "Unzipping /kaggle/working/test.csv...\n",
      "Archive:  /kaggle/input/ghouls-goblins-and-ghosts-boo/test.csv.zip\r\n",
      "  inflating: test.csv                \r\n"
     ]
    }
   ],
   "source": [
    "TRAIN_FILE = \"/kaggle/working/train.csv\"\n",
    "TEST_FILE = \"/kaggle/working/test.csv\"\n",
    "\n",
    "if not os.path.exists(TRAIN_FILE):\n",
    "    print(f\"Unzipping {TRAIN_FILE}...\")\n",
    "    !unzip /kaggle/input/ghouls-goblins-and-ghosts-boo/train.csv.zip\n",
    "\n",
    "if not os.path.exists(TEST_FILE):\n",
    "    print(f\"Unzipping {TEST_FILE}...\")\n",
    "    !unzip /kaggle/input/ghouls-goblins-and-ghosts-boo/test.csv.zip"
   ]
  },
  {
   "cell_type": "code",
   "execution_count": 3,
   "id": "6521ce1f",
   "metadata": {
    "execution": {
     "iopub.execute_input": "2023-02-08T14:48:02.389058Z",
     "iopub.status.busy": "2023-02-08T14:48:02.388379Z",
     "iopub.status.idle": "2023-02-08T14:48:02.404239Z",
     "shell.execute_reply": "2023-02-08T14:48:02.403212Z"
    },
    "papermill": {
     "duration": 0.027704,
     "end_time": "2023-02-08T14:48:02.406767",
     "exception": false,
     "start_time": "2023-02-08T14:48:02.379063",
     "status": "completed"
    },
    "tags": []
   },
   "outputs": [],
   "source": [
    "df = pd.read_csv(TRAIN_FILE)"
   ]
  },
  {
   "cell_type": "markdown",
   "id": "15d39b14",
   "metadata": {
    "papermill": {
     "duration": 0.007522,
     "end_time": "2023-02-08T14:48:02.421884",
     "exception": false,
     "start_time": "2023-02-08T14:48:02.414362",
     "status": "completed"
    },
    "tags": []
   },
   "source": [
    "# 2. Data Exploration"
   ]
  },
  {
   "cell_type": "code",
   "execution_count": 4,
   "id": "aadcb0ac",
   "metadata": {
    "execution": {
     "iopub.execute_input": "2023-02-08T14:48:02.439111Z",
     "iopub.status.busy": "2023-02-08T14:48:02.438436Z",
     "iopub.status.idle": "2023-02-08T14:48:02.465784Z",
     "shell.execute_reply": "2023-02-08T14:48:02.464527Z"
    },
    "papermill": {
     "duration": 0.038787,
     "end_time": "2023-02-08T14:48:02.468258",
     "exception": false,
     "start_time": "2023-02-08T14:48:02.429471",
     "status": "completed"
    },
    "tags": []
   },
   "outputs": [
    {
     "data": {
      "text/html": [
       "<div>\n",
       "<style scoped>\n",
       "    .dataframe tbody tr th:only-of-type {\n",
       "        vertical-align: middle;\n",
       "    }\n",
       "\n",
       "    .dataframe tbody tr th {\n",
       "        vertical-align: top;\n",
       "    }\n",
       "\n",
       "    .dataframe thead th {\n",
       "        text-align: right;\n",
       "    }\n",
       "</style>\n",
       "<table border=\"1\" class=\"dataframe\">\n",
       "  <thead>\n",
       "    <tr style=\"text-align: right;\">\n",
       "      <th></th>\n",
       "      <th>id</th>\n",
       "      <th>bone_length</th>\n",
       "      <th>rotting_flesh</th>\n",
       "      <th>hair_length</th>\n",
       "      <th>has_soul</th>\n",
       "      <th>color</th>\n",
       "      <th>type</th>\n",
       "    </tr>\n",
       "  </thead>\n",
       "  <tbody>\n",
       "    <tr>\n",
       "      <th>0</th>\n",
       "      <td>0</td>\n",
       "      <td>0.354512</td>\n",
       "      <td>0.350839</td>\n",
       "      <td>0.465761</td>\n",
       "      <td>0.781142</td>\n",
       "      <td>clear</td>\n",
       "      <td>Ghoul</td>\n",
       "    </tr>\n",
       "    <tr>\n",
       "      <th>1</th>\n",
       "      <td>1</td>\n",
       "      <td>0.575560</td>\n",
       "      <td>0.425868</td>\n",
       "      <td>0.531401</td>\n",
       "      <td>0.439899</td>\n",
       "      <td>green</td>\n",
       "      <td>Goblin</td>\n",
       "    </tr>\n",
       "    <tr>\n",
       "      <th>2</th>\n",
       "      <td>2</td>\n",
       "      <td>0.467875</td>\n",
       "      <td>0.354330</td>\n",
       "      <td>0.811616</td>\n",
       "      <td>0.791225</td>\n",
       "      <td>black</td>\n",
       "      <td>Ghoul</td>\n",
       "    </tr>\n",
       "    <tr>\n",
       "      <th>3</th>\n",
       "      <td>4</td>\n",
       "      <td>0.776652</td>\n",
       "      <td>0.508723</td>\n",
       "      <td>0.636766</td>\n",
       "      <td>0.884464</td>\n",
       "      <td>black</td>\n",
       "      <td>Ghoul</td>\n",
       "    </tr>\n",
       "    <tr>\n",
       "      <th>4</th>\n",
       "      <td>5</td>\n",
       "      <td>0.566117</td>\n",
       "      <td>0.875862</td>\n",
       "      <td>0.418594</td>\n",
       "      <td>0.636438</td>\n",
       "      <td>green</td>\n",
       "      <td>Ghost</td>\n",
       "    </tr>\n",
       "    <tr>\n",
       "      <th>5</th>\n",
       "      <td>7</td>\n",
       "      <td>0.405680</td>\n",
       "      <td>0.253277</td>\n",
       "      <td>0.441420</td>\n",
       "      <td>0.280324</td>\n",
       "      <td>green</td>\n",
       "      <td>Goblin</td>\n",
       "    </tr>\n",
       "    <tr>\n",
       "      <th>6</th>\n",
       "      <td>8</td>\n",
       "      <td>0.399331</td>\n",
       "      <td>0.568952</td>\n",
       "      <td>0.618391</td>\n",
       "      <td>0.467901</td>\n",
       "      <td>white</td>\n",
       "      <td>Goblin</td>\n",
       "    </tr>\n",
       "    <tr>\n",
       "      <th>7</th>\n",
       "      <td>11</td>\n",
       "      <td>0.516224</td>\n",
       "      <td>0.536429</td>\n",
       "      <td>0.612776</td>\n",
       "      <td>0.468048</td>\n",
       "      <td>clear</td>\n",
       "      <td>Ghoul</td>\n",
       "    </tr>\n",
       "    <tr>\n",
       "      <th>8</th>\n",
       "      <td>12</td>\n",
       "      <td>0.314295</td>\n",
       "      <td>0.671280</td>\n",
       "      <td>0.417267</td>\n",
       "      <td>0.227548</td>\n",
       "      <td>blue</td>\n",
       "      <td>Ghost</td>\n",
       "    </tr>\n",
       "    <tr>\n",
       "      <th>9</th>\n",
       "      <td>19</td>\n",
       "      <td>0.280942</td>\n",
       "      <td>0.701457</td>\n",
       "      <td>0.179633</td>\n",
       "      <td>0.141183</td>\n",
       "      <td>white</td>\n",
       "      <td>Ghost</td>\n",
       "    </tr>\n",
       "  </tbody>\n",
       "</table>\n",
       "</div>"
      ],
      "text/plain": [
       "   id  bone_length  rotting_flesh  hair_length  has_soul  color    type\n",
       "0   0     0.354512       0.350839     0.465761  0.781142  clear   Ghoul\n",
       "1   1     0.575560       0.425868     0.531401  0.439899  green  Goblin\n",
       "2   2     0.467875       0.354330     0.811616  0.791225  black   Ghoul\n",
       "3   4     0.776652       0.508723     0.636766  0.884464  black   Ghoul\n",
       "4   5     0.566117       0.875862     0.418594  0.636438  green   Ghost\n",
       "5   7     0.405680       0.253277     0.441420  0.280324  green  Goblin\n",
       "6   8     0.399331       0.568952     0.618391  0.467901  white  Goblin\n",
       "7  11     0.516224       0.536429     0.612776  0.468048  clear   Ghoul\n",
       "8  12     0.314295       0.671280     0.417267  0.227548   blue   Ghost\n",
       "9  19     0.280942       0.701457     0.179633  0.141183  white   Ghost"
      ]
     },
     "execution_count": 4,
     "metadata": {},
     "output_type": "execute_result"
    }
   ],
   "source": [
    "df.head(10)"
   ]
  },
  {
   "cell_type": "code",
   "execution_count": 5,
   "id": "72c982cb",
   "metadata": {
    "execution": {
     "iopub.execute_input": "2023-02-08T14:48:02.487230Z",
     "iopub.status.busy": "2023-02-08T14:48:02.486546Z",
     "iopub.status.idle": "2023-02-08T14:48:02.514505Z",
     "shell.execute_reply": "2023-02-08T14:48:02.513029Z"
    },
    "papermill": {
     "duration": 0.03996,
     "end_time": "2023-02-08T14:48:02.517355",
     "exception": false,
     "start_time": "2023-02-08T14:48:02.477395",
     "status": "completed"
    },
    "tags": []
   },
   "outputs": [
    {
     "name": "stdout",
     "output_type": "stream",
     "text": [
      "<class 'pandas.core.frame.DataFrame'>\n",
      "RangeIndex: 371 entries, 0 to 370\n",
      "Data columns (total 7 columns):\n",
      " #   Column         Non-Null Count  Dtype  \n",
      "---  ------         --------------  -----  \n",
      " 0   id             371 non-null    int64  \n",
      " 1   bone_length    371 non-null    float64\n",
      " 2   rotting_flesh  371 non-null    float64\n",
      " 3   hair_length    371 non-null    float64\n",
      " 4   has_soul       371 non-null    float64\n",
      " 5   color          371 non-null    object \n",
      " 6   type           371 non-null    object \n",
      "dtypes: float64(4), int64(1), object(2)\n",
      "memory usage: 20.4+ KB\n"
     ]
    }
   ],
   "source": [
    "df.info()"
   ]
  },
  {
   "cell_type": "markdown",
   "id": "b2c73e68",
   "metadata": {
    "papermill": {
     "duration": 0.007511,
     "end_time": "2023-02-08T14:48:02.532787",
     "exception": false,
     "start_time": "2023-02-08T14:48:02.525276",
     "status": "completed"
    },
    "tags": []
   },
   "source": [
    "🔑 **Insights**\n",
    "* Our dataset is quite small with only $371$ records.\n",
    "* It has mixed features excluding the `id`: $4$ continuous (numerical) and $2$ categorical values\n",
    "* There are **NO** missing values in any of the columns in the dataset."
   ]
  },
  {
   "cell_type": "markdown",
   "id": "003e484d",
   "metadata": {
    "papermill": {
     "duration": 0.007779,
     "end_time": "2023-02-08T14:48:02.548576",
     "exception": false,
     "start_time": "2023-02-08T14:48:02.540797",
     "status": "completed"
    },
    "tags": []
   },
   "source": [
    "# 2.2 Feature Univariate Analysis\n",
    "\n",
    "Let's take a peek on each feature."
   ]
  },
  {
   "cell_type": "markdown",
   "id": "feb4ca78",
   "metadata": {
    "papermill": {
     "duration": 0.007492,
     "end_time": "2023-02-08T14:48:02.563914",
     "exception": false,
     "start_time": "2023-02-08T14:48:02.556422",
     "status": "completed"
    },
    "tags": []
   },
   "source": [
    "# 2.2.1 Bone Length"
   ]
  },
  {
   "cell_type": "code",
   "execution_count": 6,
   "id": "ac84984b",
   "metadata": {
    "execution": {
     "iopub.execute_input": "2023-02-08T14:48:02.581869Z",
     "iopub.status.busy": "2023-02-08T14:48:02.580941Z",
     "iopub.status.idle": "2023-02-08T14:48:02.921718Z",
     "shell.execute_reply": "2023-02-08T14:48:02.920536Z"
    },
    "papermill": {
     "duration": 0.352518,
     "end_time": "2023-02-08T14:48:02.924295",
     "exception": false,
     "start_time": "2023-02-08T14:48:02.571777",
     "status": "completed"
    },
    "tags": []
   },
   "outputs": [
    {
     "data": {
      "image/png": "[encoded data removed]",
      "text/plain": [
       "<Figure size 576x432 with 2 Axes>"
      ]
     },
     "metadata": {
      "needs_background": "light"
     },
     "output_type": "display_data"
    },
    {
     "name": "stdout",
     "output_type": "stream",
     "text": [
      "count    371.000000\n",
      "mean       0.434160\n",
      "std        0.132833\n",
      "min        0.061032\n",
      "25%        0.340006\n",
      "50%        0.434891\n",
      "75%        0.517223\n",
      "max        0.817001\n",
      "Name: bone_length, dtype: float64\n"
     ]
    }
   ],
   "source": [
    "def analyze_num_var(series):\n",
    "    f, (ax_hist, ax_box) = plt.subplots(2, sharex=True, figsize=(8,6),\n",
    "                                        gridspec_kw={\"height_ratios\": (.75, .15)})\n",
    "    ax_hist.hist(series)\n",
    "    ax_box.boxplot(series, vert=False)\n",
    "    ax_hist.set_xlim(0,1)\n",
    "    plt.show()\n",
    "    \n",
    "    print(series.describe())\n",
    "\n",
    "analyze_num_var(df['bone_length'])"
   ]
  },
  {
   "cell_type": "markdown",
   "id": "fbd482f4",
   "metadata": {
    "papermill": {
     "duration": 0.008094,
     "end_time": "2023-02-08T14:48:02.940693",
     "exception": false,
     "start_time": "2023-02-08T14:48:02.932599",
     "status": "completed"
    },
    "tags": []
   },
   "source": [
    "# 2.2.2 Rotting Flesh"
   ]
  },
  {
   "cell_type": "code",
   "execution_count": 7,
   "id": "51d79b64",
   "metadata": {
    "execution": {
     "iopub.execute_input": "2023-02-08T14:48:02.958884Z",
     "iopub.status.busy": "2023-02-08T14:48:02.958242Z",
     "iopub.status.idle": "2023-02-08T14:48:03.238309Z",
     "shell.execute_reply": "2023-02-08T14:48:03.237225Z"
    },
    "papermill": {
     "duration": 0.292741,
     "end_time": "2023-02-08T14:48:03.241544",
     "exception": false,
     "start_time": "2023-02-08T14:48:02.948803",
     "status": "completed"
    },
    "tags": []
   },
   "outputs": [
    {
     "data": {
      "image/png": "[encoded data removed]",
      "text/plain": [
       "<Figure size 576x432 with 2 Axes>"
      ]
     },
     "metadata": {
      "needs_background": "light"
     },
     "output_type": "display_data"
    },
    {
     "name": "stdout",
     "output_type": "stream",
     "text": [
      "count    371.000000\n",
      "mean       0.506848\n",
      "std        0.146358\n",
      "min        0.095687\n",
      "25%        0.414812\n",
      "50%        0.501552\n",
      "75%        0.603977\n",
      "max        0.932466\n",
      "Name: rotting_flesh, dtype: float64\n"
     ]
    }
   ],
   "source": [
    "analyze_num_var(df['rotting_flesh'])"
   ]
  },
  {
   "cell_type": "markdown",
   "id": "358aa5b1",
   "metadata": {
    "papermill": {
     "duration": 0.008339,
     "end_time": "2023-02-08T14:48:03.258694",
     "exception": false,
     "start_time": "2023-02-08T14:48:03.250355",
     "status": "completed"
    },
    "tags": []
   },
   "source": [
    "# 2.2.3 Hair Length"
   ]
  },
  {
   "cell_type": "code",
   "execution_count": 8,
   "id": "8ac55ceb",
   "metadata": {
    "execution": {
     "iopub.execute_input": "2023-02-08T14:48:03.278276Z",
     "iopub.status.busy": "2023-02-08T14:48:03.277836Z",
     "iopub.status.idle": "2023-02-08T14:48:03.569725Z",
     "shell.execute_reply": "2023-02-08T14:48:03.568007Z"
    },
    "papermill": {
     "duration": 0.305855,
     "end_time": "2023-02-08T14:48:03.573259",
     "exception": false,
     "start_time": "2023-02-08T14:48:03.267404",
     "status": "completed"
    },
    "tags": []
   },
   "outputs": [
    {
     "data": {
      "image/png": "[encoded data removed]",
      "text/plain": [
       "<Figure size 576x432 with 2 Axes>"
      ]
     },
     "metadata": {
      "needs_background": "light"
     },
     "output_type": "display_data"
    },
    {
     "name": "stdout",
     "output_type": "stream",
     "text": [
      "count    371.000000\n",
      "mean       0.529114\n",
      "std        0.169902\n",
      "min        0.134600\n",
      "25%        0.407428\n",
      "50%        0.538642\n",
      "75%        0.647244\n",
      "max        1.000000\n",
      "Name: hair_length, dtype: float64\n"
     ]
    }
   ],
   "source": [
    "analyze_num_var(df['hair_length'])"
   ]
  },
  {
   "cell_type": "markdown",
   "id": "32870ac6",
   "metadata": {
    "papermill": {
     "duration": 0.008609,
     "end_time": "2023-02-08T14:48:03.591894",
     "exception": false,
     "start_time": "2023-02-08T14:48:03.583285",
     "status": "completed"
    },
    "tags": []
   },
   "source": [
    "# 2.2.4 Soul Percentage"
   ]
  },
  {
   "cell_type": "code",
   "execution_count": 9,
   "id": "f163813f",
   "metadata": {
    "execution": {
     "iopub.execute_input": "2023-02-08T14:48:03.611724Z",
     "iopub.status.busy": "2023-02-08T14:48:03.611315Z",
     "iopub.status.idle": "2023-02-08T14:48:03.901400Z",
     "shell.execute_reply": "2023-02-08T14:48:03.900107Z"
    },
    "papermill": {
     "duration": 0.304609,
     "end_time": "2023-02-08T14:48:03.905457",
     "exception": false,
     "start_time": "2023-02-08T14:48:03.600848",
     "status": "completed"
    },
    "tags": []
   },
   "outputs": [
    {
     "data": {
      "image/png": "[encoded data removed]",
      "text/plain": [
       "<Figure size 576x432 with 2 Axes>"
      ]
     },
     "metadata": {
      "needs_background": "light"
     },
     "output_type": "display_data"
    },
    {
     "name": "stdout",
     "output_type": "stream",
     "text": [
      "count    371.000000\n",
      "mean       0.471392\n",
      "std        0.176129\n",
      "min        0.009402\n",
      "25%        0.348002\n",
      "50%        0.466372\n",
      "75%        0.600610\n",
      "max        0.935721\n",
      "Name: has_soul, dtype: float64\n"
     ]
    }
   ],
   "source": [
    "analyze_num_var(df['has_soul'])"
   ]
  },
  {
   "cell_type": "markdown",
   "id": "60e1d670",
   "metadata": {
    "papermill": {
     "duration": 0.008791,
     "end_time": "2023-02-08T14:48:03.924234",
     "exception": false,
     "start_time": "2023-02-08T14:48:03.915443",
     "status": "completed"
    },
    "tags": []
   },
   "source": [
    "# 2.2.5 Color"
   ]
  },
  {
   "cell_type": "code",
   "execution_count": 10,
   "id": "9f37caa2",
   "metadata": {
    "execution": {
     "iopub.execute_input": "2023-02-08T14:48:03.943771Z",
     "iopub.status.busy": "2023-02-08T14:48:03.943347Z",
     "iopub.status.idle": "2023-02-08T14:48:04.169075Z",
     "shell.execute_reply": "2023-02-08T14:48:04.167848Z"
    },
    "papermill": {
     "duration": 0.238524,
     "end_time": "2023-02-08T14:48:04.171683",
     "exception": false,
     "start_time": "2023-02-08T14:48:03.933159",
     "status": "completed"
    },
    "tags": []
   },
   "outputs": [
    {
     "data": {
      "image/png": "[encoded data removed]",
      "text/plain": [
       "<Figure size 576x432 with 1 Axes>"
      ]
     },
     "metadata": {
      "needs_background": "light"
     },
     "output_type": "display_data"
    }
   ],
   "source": [
    "def analyze_cat_var(series):\n",
    "    value_counts = series.value_counts()\n",
    "    \n",
    "    plt.figure(figsize=(8, 6))\n",
    "    rect = plt.bar(value_counts.index, value_counts.values)\n",
    "    plt.bar_label(rect, value_counts.values, padding=2)\n",
    "    \n",
    "analyze_cat_var(df['color'])"
   ]
  },
  {
   "cell_type": "markdown",
   "id": "1ffb56d5",
   "metadata": {
    "papermill": {
     "duration": 0.00879,
     "end_time": "2023-02-08T14:48:04.189837",
     "exception": false,
     "start_time": "2023-02-08T14:48:04.181047",
     "status": "completed"
    },
    "tags": []
   },
   "source": [
    "# 2.2.6 Type (Target Class)"
   ]
  },
  {
   "cell_type": "code",
   "execution_count": 11,
   "id": "c6997add",
   "metadata": {
    "execution": {
     "iopub.execute_input": "2023-02-08T14:48:04.210289Z",
     "iopub.status.busy": "2023-02-08T14:48:04.209825Z",
     "iopub.status.idle": "2023-02-08T14:48:04.407590Z",
     "shell.execute_reply": "2023-02-08T14:48:04.406387Z"
    },
    "papermill": {
     "duration": 0.211439,
     "end_time": "2023-02-08T14:48:04.410567",
     "exception": false,
     "start_time": "2023-02-08T14:48:04.199128",
     "status": "completed"
    },
    "tags": []
   },
   "outputs": [
    {
     "data": {
      "image/png": "[encoded data removed]",
      "text/plain": [
       "<Figure size 576x432 with 1 Axes>"
      ]
     },
     "metadata": {
      "needs_background": "light"
     },
     "output_type": "display_data"
    }
   ],
   "source": [
    "analyze_cat_var(df['type'])"
   ]
  },
  {
   "cell_type": "markdown",
   "id": "8cd48114",
   "metadata": {
    "papermill": {
     "duration": 0.010068,
     "end_time": "2023-02-08T14:48:04.430197",
     "exception": false,
     "start_time": "2023-02-08T14:48:04.420129",
     "status": "completed"
    },
    "tags": []
   },
   "source": [
    "🔑 **Insights**\n",
    "* The target class records are balanced."
   ]
  },
  {
   "cell_type": "markdown",
   "id": "fa66e820",
   "metadata": {
    "papermill": {
     "duration": 0.009098,
     "end_time": "2023-02-08T14:48:04.448881",
     "exception": false,
     "start_time": "2023-02-08T14:48:04.439783",
     "status": "completed"
    },
    "tags": []
   },
   "source": [
    "# 2.3 Feature Bivariate Analysis\n",
    "\n",
    "Let's peek on the features compared agains the target class, **Type**."
   ]
  },
  {
   "cell_type": "markdown",
   "id": "709b509c",
   "metadata": {
    "papermill": {
     "duration": 0.009232,
     "end_time": "2023-02-08T14:48:04.467629",
     "exception": false,
     "start_time": "2023-02-08T14:48:04.458397",
     "status": "completed"
    },
    "tags": []
   },
   "source": [
    "# 2.3.1 Bone Length against Type"
   ]
  },
  {
   "cell_type": "code",
   "execution_count": 12,
   "id": "7df844de",
   "metadata": {
    "execution": {
     "iopub.execute_input": "2023-02-08T14:48:04.488384Z",
     "iopub.status.busy": "2023-02-08T14:48:04.487999Z",
     "iopub.status.idle": "2023-02-08T14:48:04.801485Z",
     "shell.execute_reply": "2023-02-08T14:48:04.800366Z"
    },
    "papermill": {
     "duration": 0.327125,
     "end_time": "2023-02-08T14:48:04.804253",
     "exception": false,
     "start_time": "2023-02-08T14:48:04.477128",
     "status": "completed"
    },
    "tags": []
   },
   "outputs": [
    {
     "name": "stdout",
     "output_type": "stream",
     "text": [
      "╒════════════════╤═══════════╤══════════╤══════════╕\n",
      "│ Monster Type   │     Ghost │   Goblin │    Ghoul │\n",
      "╞════════════════╪═══════════╪══════════╪══════════╡\n",
      "│ mean           │ 0.347466  │ 0.42965  │ 0.517159 │\n",
      "├────────────────┼───────────┼──────────┼──────────┤\n",
      "│ std            │ 0.117748  │ 0.101917 │ 0.1206   │\n",
      "├────────────────┼───────────┼──────────┼──────────┤\n",
      "│ min            │ 0.0610318 │ 0.208625 │ 0.200753 │\n",
      "├────────────────┼───────────┼──────────┼──────────┤\n",
      "│ 50%            │ 0.340442  │ 0.430797 │ 0.515397 │\n",
      "├────────────────┼───────────┼──────────┼──────────┤\n",
      "│ max            │ 0.622371  │ 0.678519 │ 0.817001 │\n",
      "╘════════════════╧═══════════╧══════════╧══════════╛\n"
     ]
    },
    {
     "data": {
      "image/png": "[encoded data removed]",
      "text/plain": [
       "<Figure size 432x288 with 1 Axes>"
      ]
     },
     "metadata": {
      "needs_background": "light"
     },
     "output_type": "display_data"
    }
   ],
   "source": [
    "def bivariate_num_var_against_type(column):\n",
    "    def tabulate_col_stats(column):\n",
    "        monster_types = ['Ghost', 'Goblin', 'Ghoul']\n",
    "        stats_per_monster = {monster: df[df['type'] == monster][column].describe() for monster in monster_types}\n",
    "\n",
    "        table_data =[ [\"Monster Type\"] + monster_types]\n",
    "        for stat in ['mean', 'std', 'min', '50%', 'max']:\n",
    "            row = [stat]\n",
    "            for monster_type in monster_types:\n",
    "                row.append(stats_per_monster[monster_type][stat])\n",
    "            table_data.append(row)\n",
    "\n",
    "        print(tabulate(table_data, headers='firstrow', tablefmt='fancy_grid'))\n",
    "        [stats_per_monster[m]['mean'] for m in monster_types]\n",
    "\n",
    "    sns.histplot(df, x='bone_length', hue='type', element=\"step\", kde=True, common_norm=False)\n",
    "    tabulate_col_stats(column)\n",
    "\n",
    "bivariate_num_var_against_type('bone_length')"
   ]
  },
  {
   "cell_type": "markdown",
   "id": "6bf400e1",
   "metadata": {
    "papermill": {
     "duration": 0.010091,
     "end_time": "2023-02-08T14:48:04.825032",
     "exception": false,
     "start_time": "2023-02-08T14:48:04.814941",
     "status": "completed"
    },
    "tags": []
   },
   "source": [
    "# 2.3.2 Rotting Flesh against Type"
   ]
  },
  {
   "cell_type": "code",
   "execution_count": 13,
   "id": "2bcbb890",
   "metadata": {
    "execution": {
     "iopub.execute_input": "2023-02-08T14:48:04.847694Z",
     "iopub.status.busy": "2023-02-08T14:48:04.847287Z",
     "iopub.status.idle": "2023-02-08T14:48:05.144111Z",
     "shell.execute_reply": "2023-02-08T14:48:05.142398Z"
    },
    "papermill": {
     "duration": 0.311439,
     "end_time": "2023-02-08T14:48:05.146858",
     "exception": false,
     "start_time": "2023-02-08T14:48:04.835419",
     "status": "completed"
    },
    "tags": []
   },
   "outputs": [
    {
     "name": "stdout",
     "output_type": "stream",
     "text": [
      "╒════════════════╤══════════╤═══════════╤══════════╕\n",
      "│ Monster Type   │    Ghost │    Goblin │    Ghoul │\n",
      "╞════════════════╪══════════╪═══════════╪══════════╡\n",
      "│ mean           │ 0.593759 │ 0.442357  │ 0.490515 │\n",
      "├────────────────┼──────────┼───────────┼──────────┤\n",
      "│ std            │ 0.14215  │ 0.140284  │ 0.115357 │\n",
      "├────────────────┼──────────┼───────────┼──────────┤\n",
      "│ min            │ 0.165539 │ 0.0956866 │ 0.172182 │\n",
      "├────────────────┼──────────┼───────────┼──────────┤\n",
      "│ 50%            │ 0.60378  │ 0.45749   │ 0.491497 │\n",
      "├────────────────┼──────────┼───────────┼──────────┤\n",
      "│ max            │ 0.932466 │ 0.840049  │ 0.779153 │\n",
      "╘════════════════╧══════════╧═══════════╧══════════╛\n"
     ]
    },
    {
     "data": {
      "image/png": "[encoded data removed]",
      "text/plain": [
       "<Figure size 432x288 with 1 Axes>"
      ]
     },
     "metadata": {
      "needs_background": "light"
     },
     "output_type": "display_data"
    }
   ],
   "source": [
    "bivariate_num_var_against_type('rotting_flesh')"
   ]
  },
  {
   "cell_type": "markdown",
   "id": "415e43e8",
   "metadata": {
    "papermill": {
     "duration": 0.011358,
     "end_time": "2023-02-08T14:48:05.170343",
     "exception": false,
     "start_time": "2023-02-08T14:48:05.158985",
     "status": "completed"
    },
    "tags": []
   },
   "source": [
    "# 2.3.3 Hair Length against Type"
   ]
  },
  {
   "cell_type": "code",
   "execution_count": 14,
   "id": "b4f6167f",
   "metadata": {
    "execution": {
     "iopub.execute_input": "2023-02-08T14:48:05.194165Z",
     "iopub.status.busy": "2023-02-08T14:48:05.193682Z",
     "iopub.status.idle": "2023-02-08T14:48:05.498013Z",
     "shell.execute_reply": "2023-02-08T14:48:05.496604Z"
    },
    "papermill": {
     "duration": 0.319266,
     "end_time": "2023-02-08T14:48:05.500719",
     "exception": false,
     "start_time": "2023-02-08T14:48:05.181453",
     "status": "completed"
    },
    "tags": []
   },
   "outputs": [
    {
     "name": "stdout",
     "output_type": "stream",
     "text": [
      "╒════════════════╤══════════╤══════════╤══════════╕\n",
      "│ Monster Type   │    Ghost │   Goblin │    Ghoul │\n",
      "╞════════════════╪══════════╪══════════╪══════════╡\n",
      "│ mean           │ 0.373186 │ 0.544581 │ 0.65555  │\n",
      "├────────────────┼──────────┼──────────┼──────────┤\n",
      "│ std            │ 0.117642 │ 0.116964 │ 0.138127 │\n",
      "├────────────────┼──────────┼──────────┼──────────┤\n",
      "│ min            │ 0.1346   │ 0.239212 │ 0.287008 │\n",
      "├────────────────┼──────────┼──────────┼──────────┤\n",
      "│ 50%            │ 0.365142 │ 0.558776 │ 0.667384 │\n",
      "├────────────────┼──────────┼──────────┼──────────┤\n",
      "│ max            │ 0.63634  │ 0.840013 │ 1        │\n",
      "╘════════════════╧══════════╧══════════╧══════════╛\n"
     ]
    },
    {
     "data": {
      "image/png": "[encoded data removed]",
      "text/plain": [
       "<Figure size 432x288 with 1 Axes>"
      ]
     },
     "metadata": {
      "needs_background": "light"
     },
     "output_type": "display_data"
    }
   ],
   "source": [
    "bivariate_num_var_against_type('hair_length')"
   ]
  },
  {
   "cell_type": "markdown",
   "id": "b80b08d4",
   "metadata": {
    "papermill": {
     "duration": 0.011199,
     "end_time": "2023-02-08T14:48:05.523753",
     "exception": false,
     "start_time": "2023-02-08T14:48:05.512554",
     "status": "completed"
    },
    "tags": []
   },
   "source": [
    "# 2.3.4 Soul Percentage against Type"
   ]
  },
  {
   "cell_type": "code",
   "execution_count": 15,
   "id": "5d3cd923",
   "metadata": {
    "execution": {
     "iopub.execute_input": "2023-02-08T14:48:05.549482Z",
     "iopub.status.busy": "2023-02-08T14:48:05.549057Z",
     "iopub.status.idle": "2023-02-08T14:48:05.851535Z",
     "shell.execute_reply": "2023-02-08T14:48:05.849905Z"
    },
    "papermill": {
     "duration": 0.318667,
     "end_time": "2023-02-08T14:48:05.854414",
     "exception": false,
     "start_time": "2023-02-08T14:48:05.535747",
     "status": "completed"
    },
    "tags": []
   },
   "outputs": [
    {
     "name": "stdout",
     "output_type": "stream",
     "text": [
      "╒════════════════╤════════════╤══════════╤══════════╕\n",
      "│ Monster Type   │      Ghost │   Goblin │    Ghoul │\n",
      "╞════════════════╪════════════╪══════════╪══════════╡\n",
      "│ mean           │ 0.320023   │ 0.478663 │ 0.601634 │\n",
      "├────────────────┼────────────┼──────────┼──────────┤\n",
      "│ std            │ 0.13979    │ 0.127293 │ 0.134813 │\n",
      "├────────────────┼────────────┼──────────┼──────────┤\n",
      "│ min            │ 0.00940162 │ 0.194413 │ 0.280854 │\n",
      "├────────────────┼────────────┼──────────┼──────────┤\n",
      "│ 50%            │ 0.307534   │ 0.466024 │ 0.600393 │\n",
      "├────────────────┼────────────┼──────────┼──────────┤\n",
      "│ max            │ 0.68998    │ 0.854949 │ 0.935721 │\n",
      "╘════════════════╧════════════╧══════════╧══════════╛\n"
     ]
    },
    {
     "data": {
      "image/png": "[encoded data removed]",
      "text/plain": [
       "<Figure size 432x288 with 1 Axes>"
      ]
     },
     "metadata": {
      "needs_background": "light"
     },
     "output_type": "display_data"
    }
   ],
   "source": [
    "bivariate_num_var_against_type('has_soul')"
   ]
  },
  {
   "cell_type": "markdown",
   "id": "06d5fe4e",
   "metadata": {
    "papermill": {
     "duration": 0.011903,
     "end_time": "2023-02-08T14:48:05.878789",
     "exception": false,
     "start_time": "2023-02-08T14:48:05.866886",
     "status": "completed"
    },
    "tags": []
   },
   "source": [
    "# 2.3.5 Color against Type"
   ]
  },
  {
   "cell_type": "code",
   "execution_count": 16,
   "id": "b5c932d1",
   "metadata": {
    "execution": {
     "iopub.execute_input": "2023-02-08T14:48:05.905141Z",
     "iopub.status.busy": "2023-02-08T14:48:05.904718Z",
     "iopub.status.idle": "2023-02-08T14:48:06.167744Z",
     "shell.execute_reply": "2023-02-08T14:48:06.166843Z"
    },
    "papermill": {
     "duration": 0.279129,
     "end_time": "2023-02-08T14:48:06.170256",
     "exception": false,
     "start_time": "2023-02-08T14:48:05.891127",
     "status": "completed"
    },
    "tags": []
   },
   "outputs": [
    {
     "data": {
      "image/png": "[encoded data removed]",
      "text/plain": [
       "<Figure size 576x432 with 1 Axes>"
      ]
     },
     "metadata": {
      "needs_background": "light"
     },
     "output_type": "display_data"
    }
   ],
   "source": [
    "plt.figure(figsize=(8, 6))\n",
    "sns.countplot(data=df, x='color', hue='type')\n",
    "plt.show()"
   ]
  }
 ],
 "metadata": {
  "kernelspec": {
   "display_name": "Python 3",
   "language": "python",
   "name": "python3"
  },
  "language_info": {
   "codemirror_mode": {
    "name": "ipython",
    "version": 3
   },
   "file_extension": ".py",
   "mimetype": "text/x-python",
   "name": "python",
   "nbconvert_exporter": "python",
   "pygments_lexer": "ipython3",
   "version": "3.7.12"
  },
  "papermill": {
   "default_parameters": {},
   "duration": 29.732808,
   "end_time": "2023-02-08T14:48:07.004845",
   "environment_variables": {},
   "exception": null,
   "input_path": "__notebook__.ipynb",
   "output_path": "__notebook__.ipynb",
   "parameters": {},
   "start_time": "2023-02-08T14:47:37.272037",
   "version": "2.3.4"
  }
 },
 "nbformat": 4,
 "nbformat_minor": 5
}
