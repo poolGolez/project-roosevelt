{
 "cells": [
  {
   "cell_type": "markdown",
   "id": "e8ed2d3f",
   "metadata": {
    "papermill": {
     "duration": 0.004112,
     "end_time": "2023-02-07T15:34:33.189989",
     "exception": false,
     "start_time": "2023-02-07T15:34:33.185877",
     "status": "completed"
    },
    "tags": []
   },
   "source": [
    "# Overview\n",
    "\n",
    "1. Ingestion\n",
    "2. Data Exploration"
   ]
  },
  {
   "cell_type": "markdown",
   "id": "c452f570",
   "metadata": {
    "papermill": {
     "duration": 0.00264,
     "end_time": "2023-02-07T15:34:33.195823",
     "exception": false,
     "start_time": "2023-02-07T15:34:33.193183",
     "status": "completed"
    },
    "tags": []
   },
   "source": [
    "# 1. Ingestion"
   ]
  },
  {
   "cell_type": "code",
   "execution_count": 1,
   "id": "9a6cfffb",
   "metadata": {
    "_cell_guid": "b1076dfc-b9ad-4769-8c92-a6c4dae69d19",
    "_uuid": "8f2839f25d086af736a60e9eeb907d3b93b6e0e5",
    "execution": {
     "iopub.execute_input": "2023-02-07T15:34:33.203842Z",
     "iopub.status.busy": "2023-02-07T15:34:33.203061Z",
     "iopub.status.idle": "2023-02-07T15:34:33.214231Z",
     "shell.execute_reply": "2023-02-07T15:34:33.213243Z"
    },
    "papermill": {
     "duration": 0.017944,
     "end_time": "2023-02-07T15:34:33.216592",
     "exception": false,
     "start_time": "2023-02-07T15:34:33.198648",
     "status": "completed"
    },
    "tags": []
   },
   "outputs": [],
   "source": [
    "import numpy as np\n",
    "import pandas as pd\n",
    "\n",
    "import os"
   ]
  },
  {
   "cell_type": "code",
   "execution_count": 2,
   "id": "66e23754",
   "metadata": {
    "execution": {
     "iopub.execute_input": "2023-02-07T15:34:33.224659Z",
     "iopub.status.busy": "2023-02-07T15:34:33.223912Z",
     "iopub.status.idle": "2023-02-07T15:34:35.298873Z",
     "shell.execute_reply": "2023-02-07T15:34:35.297329Z"
    },
    "papermill": {
     "duration": 2.082328,
     "end_time": "2023-02-07T15:34:35.301874",
     "exception": false,
     "start_time": "2023-02-07T15:34:33.219546",
     "status": "completed"
    },
    "tags": []
   },
   "outputs": [
    {
     "name": "stdout",
     "output_type": "stream",
     "text": [
      "Unzipping /kaggle/working/train.csv...\n",
      "Archive:  /kaggle/input/ghouls-goblins-and-ghosts-boo/train.csv.zip\r\n",
      "  inflating: train.csv               \r\n",
      "Unzipping /kaggle/working/test.csv...\n",
      "Archive:  /kaggle/input/ghouls-goblins-and-ghosts-boo/test.csv.zip\r\n",
      "  inflating: test.csv                \r\n"
     ]
    }
   ],
   "source": [
    "TRAIN_FILE = \"/kaggle/working/train.csv\"\n",
    "TEST_FILE = \"/kaggle/working/test.csv\"\n",
    "\n",
    "if not os.path.exists(TRAIN_FILE):\n",
    "    print(f\"Unzipping {TRAIN_FILE}...\")\n",
    "    !unzip /kaggle/input/ghouls-goblins-and-ghosts-boo/train.csv.zip\n",
    "\n",
    "if not os.path.exists(TEST_FILE):\n",
    "    print(f\"Unzipping {TEST_FILE}...\")\n",
    "    !unzip /kaggle/input/ghouls-goblins-and-ghosts-boo/test.csv.zip"
   ]
  },
  {
   "cell_type": "code",
   "execution_count": 3,
   "id": "de1713c4",
   "metadata": {
    "execution": {
     "iopub.execute_input": "2023-02-07T15:34:35.310517Z",
     "iopub.status.busy": "2023-02-07T15:34:35.310101Z",
     "iopub.status.idle": "2023-02-07T15:34:35.327970Z",
     "shell.execute_reply": "2023-02-07T15:34:35.326442Z"
    },
    "papermill": {
     "duration": 0.025298,
     "end_time": "2023-02-07T15:34:35.330604",
     "exception": false,
     "start_time": "2023-02-07T15:34:35.305306",
     "status": "completed"
    },
    "tags": []
   },
   "outputs": [],
   "source": [
    "train_df = pd.read_csv(TRAIN_FILE)"
   ]
  },
  {
   "cell_type": "markdown",
   "id": "2ddcdfde",
   "metadata": {
    "papermill": {
     "duration": 0.002845,
     "end_time": "2023-02-07T15:34:35.336709",
     "exception": false,
     "start_time": "2023-02-07T15:34:35.333864",
     "status": "completed"
    },
    "tags": []
   },
   "source": [
    "# 2. Data Exploration"
   ]
  },
  {
   "cell_type": "code",
   "execution_count": 4,
   "id": "6507a570",
   "metadata": {
    "execution": {
     "iopub.execute_input": "2023-02-07T15:34:35.344472Z",
     "iopub.status.busy": "2023-02-07T15:34:35.344048Z",
     "iopub.status.idle": "2023-02-07T15:34:35.378172Z",
     "shell.execute_reply": "2023-02-07T15:34:35.376863Z"
    },
    "papermill": {
     "duration": 0.041425,
     "end_time": "2023-02-07T15:34:35.381211",
     "exception": false,
     "start_time": "2023-02-07T15:34:35.339786",
     "status": "completed"
    },
    "tags": []
   },
   "outputs": [
    {
     "data": {
      "text/html": [
       "<div>\n",
       "<style scoped>\n",
       "    .dataframe tbody tr th:only-of-type {\n",
       "        vertical-align: middle;\n",
       "    }\n",
       "\n",
       "    .dataframe tbody tr th {\n",
       "        vertical-align: top;\n",
       "    }\n",
       "\n",
       "    .dataframe thead th {\n",
       "        text-align: right;\n",
       "    }\n",
       "</style>\n",
       "<table border=\"1\" class=\"dataframe\">\n",
       "  <thead>\n",
       "    <tr style=\"text-align: right;\">\n",
       "      <th></th>\n",
       "      <th>id</th>\n",
       "      <th>bone_length</th>\n",
       "      <th>rotting_flesh</th>\n",
       "      <th>hair_length</th>\n",
       "      <th>has_soul</th>\n",
       "      <th>color</th>\n",
       "      <th>type</th>\n",
       "    </tr>\n",
       "  </thead>\n",
       "  <tbody>\n",
       "    <tr>\n",
       "      <th>0</th>\n",
       "      <td>0</td>\n",
       "      <td>0.354512</td>\n",
       "      <td>0.350839</td>\n",
       "      <td>0.465761</td>\n",
       "      <td>0.781142</td>\n",
       "      <td>clear</td>\n",
       "      <td>Ghoul</td>\n",
       "    </tr>\n",
       "    <tr>\n",
       "      <th>1</th>\n",
       "      <td>1</td>\n",
       "      <td>0.575560</td>\n",
       "      <td>0.425868</td>\n",
       "      <td>0.531401</td>\n",
       "      <td>0.439899</td>\n",
       "      <td>green</td>\n",
       "      <td>Goblin</td>\n",
       "    </tr>\n",
       "    <tr>\n",
       "      <th>2</th>\n",
       "      <td>2</td>\n",
       "      <td>0.467875</td>\n",
       "      <td>0.354330</td>\n",
       "      <td>0.811616</td>\n",
       "      <td>0.791225</td>\n",
       "      <td>black</td>\n",
       "      <td>Ghoul</td>\n",
       "    </tr>\n",
       "    <tr>\n",
       "      <th>3</th>\n",
       "      <td>4</td>\n",
       "      <td>0.776652</td>\n",
       "      <td>0.508723</td>\n",
       "      <td>0.636766</td>\n",
       "      <td>0.884464</td>\n",
       "      <td>black</td>\n",
       "      <td>Ghoul</td>\n",
       "    </tr>\n",
       "    <tr>\n",
       "      <th>4</th>\n",
       "      <td>5</td>\n",
       "      <td>0.566117</td>\n",
       "      <td>0.875862</td>\n",
       "      <td>0.418594</td>\n",
       "      <td>0.636438</td>\n",
       "      <td>green</td>\n",
       "      <td>Ghost</td>\n",
       "    </tr>\n",
       "    <tr>\n",
       "      <th>5</th>\n",
       "      <td>7</td>\n",
       "      <td>0.405680</td>\n",
       "      <td>0.253277</td>\n",
       "      <td>0.441420</td>\n",
       "      <td>0.280324</td>\n",
       "      <td>green</td>\n",
       "      <td>Goblin</td>\n",
       "    </tr>\n",
       "    <tr>\n",
       "      <th>6</th>\n",
       "      <td>8</td>\n",
       "      <td>0.399331</td>\n",
       "      <td>0.568952</td>\n",
       "      <td>0.618391</td>\n",
       "      <td>0.467901</td>\n",
       "      <td>white</td>\n",
       "      <td>Goblin</td>\n",
       "    </tr>\n",
       "    <tr>\n",
       "      <th>7</th>\n",
       "      <td>11</td>\n",
       "      <td>0.516224</td>\n",
       "      <td>0.536429</td>\n",
       "      <td>0.612776</td>\n",
       "      <td>0.468048</td>\n",
       "      <td>clear</td>\n",
       "      <td>Ghoul</td>\n",
       "    </tr>\n",
       "    <tr>\n",
       "      <th>8</th>\n",
       "      <td>12</td>\n",
       "      <td>0.314295</td>\n",
       "      <td>0.671280</td>\n",
       "      <td>0.417267</td>\n",
       "      <td>0.227548</td>\n",
       "      <td>blue</td>\n",
       "      <td>Ghost</td>\n",
       "    </tr>\n",
       "    <tr>\n",
       "      <th>9</th>\n",
       "      <td>19</td>\n",
       "      <td>0.280942</td>\n",
       "      <td>0.701457</td>\n",
       "      <td>0.179633</td>\n",
       "      <td>0.141183</td>\n",
       "      <td>white</td>\n",
       "      <td>Ghost</td>\n",
       "    </tr>\n",
       "  </tbody>\n",
       "</table>\n",
       "</div>"
      ],
      "text/plain": [
       "   id  bone_length  rotting_flesh  hair_length  has_soul  color    type\n",
       "0   0     0.354512       0.350839     0.465761  0.781142  clear   Ghoul\n",
       "1   1     0.575560       0.425868     0.531401  0.439899  green  Goblin\n",
       "2   2     0.467875       0.354330     0.811616  0.791225  black   Ghoul\n",
       "3   4     0.776652       0.508723     0.636766  0.884464  black   Ghoul\n",
       "4   5     0.566117       0.875862     0.418594  0.636438  green   Ghost\n",
       "5   7     0.405680       0.253277     0.441420  0.280324  green  Goblin\n",
       "6   8     0.399331       0.568952     0.618391  0.467901  white  Goblin\n",
       "7  11     0.516224       0.536429     0.612776  0.468048  clear   Ghoul\n",
       "8  12     0.314295       0.671280     0.417267  0.227548   blue   Ghost\n",
       "9  19     0.280942       0.701457     0.179633  0.141183  white   Ghost"
      ]
     },
     "execution_count": 4,
     "metadata": {},
     "output_type": "execute_result"
    }
   ],
   "source": [
    "train_df.head(10)"
   ]
  },
  {
   "cell_type": "code",
   "execution_count": 5,
   "id": "f69016a0",
   "metadata": {
    "execution": {
     "iopub.execute_input": "2023-02-07T15:34:35.393863Z",
     "iopub.status.busy": "2023-02-07T15:34:35.392068Z",
     "iopub.status.idle": "2023-02-07T15:34:35.429490Z",
     "shell.execute_reply": "2023-02-07T15:34:35.427667Z"
    },
    "papermill": {
     "duration": 0.046742,
     "end_time": "2023-02-07T15:34:35.432376",
     "exception": false,
     "start_time": "2023-02-07T15:34:35.385634",
     "status": "completed"
    },
    "tags": []
   },
   "outputs": [
    {
     "name": "stdout",
     "output_type": "stream",
     "text": [
      "<class 'pandas.core.frame.DataFrame'>\n",
      "RangeIndex: 371 entries, 0 to 370\n",
      "Data columns (total 7 columns):\n",
      " #   Column         Non-Null Count  Dtype  \n",
      "---  ------         --------------  -----  \n",
      " 0   id             371 non-null    int64  \n",
      " 1   bone_length    371 non-null    float64\n",
      " 2   rotting_flesh  371 non-null    float64\n",
      " 3   hair_length    371 non-null    float64\n",
      " 4   has_soul       371 non-null    float64\n",
      " 5   color          371 non-null    object \n",
      " 6   type           371 non-null    object \n",
      "dtypes: float64(4), int64(1), object(2)\n",
      "memory usage: 20.4+ KB\n"
     ]
    }
   ],
   "source": [
    "train_df.info()"
   ]
  },
  {
   "cell_type": "markdown",
   "id": "504bb8e3",
   "metadata": {
    "papermill": {
     "duration": 0.004038,
     "end_time": "2023-02-07T15:34:35.441748",
     "exception": false,
     "start_time": "2023-02-07T15:34:35.437710",
     "status": "completed"
    },
    "tags": []
   },
   "source": [
    "🔑 **Insights**\n",
    "* Our dataset is quite small with only $371$ records.\n",
    "* It has mixed features excluding the `id`: $4$ continuous (numerical) and $2$ categorical values"
   ]
  }
 ],
 "metadata": {
  "kernelspec": {
   "display_name": "Python 3",
   "language": "python",
   "name": "python3"
  },
  "language_info": {
   "codemirror_mode": {
    "name": "ipython",
    "version": 3
   },
   "file_extension": ".py",
   "mimetype": "text/x-python",
   "name": "python",
   "nbconvert_exporter": "python",
   "pygments_lexer": "ipython3",
   "version": "3.7.12"
  },
  "papermill": {
   "default_parameters": {},
   "duration": 11.812469,
   "end_time": "2023-02-07T15:34:36.171168",
   "environment_variables": {},
   "exception": null,
   "input_path": "__notebook__.ipynb",
   "output_path": "__notebook__.ipynb",
   "parameters": {},
   "start_time": "2023-02-07T15:34:24.358699",
   "version": "2.3.4"
  }
 },
 "nbformat": 4,
 "nbformat_minor": 5
}
