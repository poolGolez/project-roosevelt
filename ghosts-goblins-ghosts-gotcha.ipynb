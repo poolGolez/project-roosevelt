{
 "cells": [
  {
   "cell_type": "markdown",
   "id": "351ce703",
   "metadata": {
    "papermill": {
     "duration": 0.006011,
     "end_time": "2023-02-08T11:18:11.177570",
     "exception": false,
     "start_time": "2023-02-08T11:18:11.171559",
     "status": "completed"
    },
    "tags": []
   },
   "source": [
    "# Overview\n",
    "\n",
    "1. Ingestion\n",
    "2. Data Exploration"
   ]
  },
  {
   "cell_type": "markdown",
   "id": "4b55cfbe",
   "metadata": {
    "papermill": {
     "duration": 0.005052,
     "end_time": "2023-02-08T11:18:11.188243",
     "exception": false,
     "start_time": "2023-02-08T11:18:11.183191",
     "status": "completed"
    },
    "tags": []
   },
   "source": [
    "# 1. Ingestion"
   ]
  },
  {
   "cell_type": "code",
   "execution_count": 1,
   "id": "61478c59",
   "metadata": {
    "_cell_guid": "b1076dfc-b9ad-4769-8c92-a6c4dae69d19",
    "_uuid": "8f2839f25d086af736a60e9eeb907d3b93b6e0e5",
    "execution": {
     "iopub.execute_input": "2023-02-08T11:18:11.201985Z",
     "iopub.status.busy": "2023-02-08T11:18:11.200803Z",
     "iopub.status.idle": "2023-02-08T11:18:12.581640Z",
     "shell.execute_reply": "2023-02-08T11:18:12.579845Z"
    },
    "papermill": {
     "duration": 1.392971,
     "end_time": "2023-02-08T11:18:12.586197",
     "exception": false,
     "start_time": "2023-02-08T11:18:11.193226",
     "status": "completed"
    },
    "tags": []
   },
   "outputs": [],
   "source": [
    "import numpy as np\n",
    "import pandas as pd\n",
    "import matplotlib.pyplot as plt\n",
    "import seaborn as sns\n",
    "\n",
    "import os"
   ]
  },
  {
   "cell_type": "code",
   "execution_count": 2,
   "id": "a0500ddb",
   "metadata": {
    "execution": {
     "iopub.execute_input": "2023-02-08T11:18:12.600096Z",
     "iopub.status.busy": "2023-02-08T11:18:12.597843Z",
     "iopub.status.idle": "2023-02-08T11:18:14.816662Z",
     "shell.execute_reply": "2023-02-08T11:18:14.815231Z"
    },
    "papermill": {
     "duration": 2.228392,
     "end_time": "2023-02-08T11:18:14.819845",
     "exception": false,
     "start_time": "2023-02-08T11:18:12.591453",
     "status": "completed"
    },
    "tags": []
   },
   "outputs": [
    {
     "name": "stdout",
     "output_type": "stream",
     "text": [
      "Unzipping /kaggle/working/train.csv...\n",
      "Archive:  /kaggle/input/ghouls-goblins-and-ghosts-boo/train.csv.zip\r\n",
      "  inflating: train.csv               \r\n",
      "Unzipping /kaggle/working/test.csv...\n",
      "Archive:  /kaggle/input/ghouls-goblins-and-ghosts-boo/test.csv.zip\r\n",
      "  inflating: test.csv                \r\n"
     ]
    }
   ],
   "source": [
    "TRAIN_FILE = \"/kaggle/working/train.csv\"\n",
    "TEST_FILE = \"/kaggle/working/test.csv\"\n",
    "\n",
    "if not os.path.exists(TRAIN_FILE):\n",
    "    print(f\"Unzipping {TRAIN_FILE}...\")\n",
    "    !unzip /kaggle/input/ghouls-goblins-and-ghosts-boo/train.csv.zip\n",
    "\n",
    "if not os.path.exists(TEST_FILE):\n",
    "    print(f\"Unzipping {TEST_FILE}...\")\n",
    "    !unzip /kaggle/input/ghouls-goblins-and-ghosts-boo/test.csv.zip"
   ]
  },
  {
   "cell_type": "code",
   "execution_count": 3,
   "id": "2a903e9c",
   "metadata": {
    "execution": {
     "iopub.execute_input": "2023-02-08T11:18:14.834110Z",
     "iopub.status.busy": "2023-02-08T11:18:14.832774Z",
     "iopub.status.idle": "2023-02-08T11:18:14.853582Z",
     "shell.execute_reply": "2023-02-08T11:18:14.851768Z"
    },
    "papermill": {
     "duration": 0.032002,
     "end_time": "2023-02-08T11:18:14.857197",
     "exception": false,
     "start_time": "2023-02-08T11:18:14.825195",
     "status": "completed"
    },
    "tags": []
   },
   "outputs": [],
   "source": [
    "df = pd.read_csv(TRAIN_FILE)"
   ]
  },
  {
   "cell_type": "markdown",
   "id": "dac8eaa9",
   "metadata": {
    "papermill": {
     "duration": 0.005582,
     "end_time": "2023-02-08T11:18:14.868487",
     "exception": false,
     "start_time": "2023-02-08T11:18:14.862905",
     "status": "completed"
    },
    "tags": []
   },
   "source": [
    "# 2. Data Exploration"
   ]
  },
  {
   "cell_type": "code",
   "execution_count": 4,
   "id": "2f35bf5e",
   "metadata": {
    "execution": {
     "iopub.execute_input": "2023-02-08T11:18:14.882438Z",
     "iopub.status.busy": "2023-02-08T11:18:14.881957Z",
     "iopub.status.idle": "2023-02-08T11:18:14.915991Z",
     "shell.execute_reply": "2023-02-08T11:18:14.914418Z"
    },
    "papermill": {
     "duration": 0.045109,
     "end_time": "2023-02-08T11:18:14.919466",
     "exception": false,
     "start_time": "2023-02-08T11:18:14.874357",
     "status": "completed"
    },
    "tags": []
   },
   "outputs": [
    {
     "data": {
      "text/html": [
       "<div>\n",
       "<style scoped>\n",
       "    .dataframe tbody tr th:only-of-type {\n",
       "        vertical-align: middle;\n",
       "    }\n",
       "\n",
       "    .dataframe tbody tr th {\n",
       "        vertical-align: top;\n",
       "    }\n",
       "\n",
       "    .dataframe thead th {\n",
       "        text-align: right;\n",
       "    }\n",
       "</style>\n",
       "<table border=\"1\" class=\"dataframe\">\n",
       "  <thead>\n",
       "    <tr style=\"text-align: right;\">\n",
       "      <th></th>\n",
       "      <th>id</th>\n",
       "      <th>bone_length</th>\n",
       "      <th>rotting_flesh</th>\n",
       "      <th>hair_length</th>\n",
       "      <th>has_soul</th>\n",
       "      <th>color</th>\n",
       "      <th>type</th>\n",
       "    </tr>\n",
       "  </thead>\n",
       "  <tbody>\n",
       "    <tr>\n",
       "      <th>0</th>\n",
       "      <td>0</td>\n",
       "      <td>0.354512</td>\n",
       "      <td>0.350839</td>\n",
       "      <td>0.465761</td>\n",
       "      <td>0.781142</td>\n",
       "      <td>clear</td>\n",
       "      <td>Ghoul</td>\n",
       "    </tr>\n",
       "    <tr>\n",
       "      <th>1</th>\n",
       "      <td>1</td>\n",
       "      <td>0.575560</td>\n",
       "      <td>0.425868</td>\n",
       "      <td>0.531401</td>\n",
       "      <td>0.439899</td>\n",
       "      <td>green</td>\n",
       "      <td>Goblin</td>\n",
       "    </tr>\n",
       "    <tr>\n",
       "      <th>2</th>\n",
       "      <td>2</td>\n",
       "      <td>0.467875</td>\n",
       "      <td>0.354330</td>\n",
       "      <td>0.811616</td>\n",
       "      <td>0.791225</td>\n",
       "      <td>black</td>\n",
       "      <td>Ghoul</td>\n",
       "    </tr>\n",
       "    <tr>\n",
       "      <th>3</th>\n",
       "      <td>4</td>\n",
       "      <td>0.776652</td>\n",
       "      <td>0.508723</td>\n",
       "      <td>0.636766</td>\n",
       "      <td>0.884464</td>\n",
       "      <td>black</td>\n",
       "      <td>Ghoul</td>\n",
       "    </tr>\n",
       "    <tr>\n",
       "      <th>4</th>\n",
       "      <td>5</td>\n",
       "      <td>0.566117</td>\n",
       "      <td>0.875862</td>\n",
       "      <td>0.418594</td>\n",
       "      <td>0.636438</td>\n",
       "      <td>green</td>\n",
       "      <td>Ghost</td>\n",
       "    </tr>\n",
       "    <tr>\n",
       "      <th>5</th>\n",
       "      <td>7</td>\n",
       "      <td>0.405680</td>\n",
       "      <td>0.253277</td>\n",
       "      <td>0.441420</td>\n",
       "      <td>0.280324</td>\n",
       "      <td>green</td>\n",
       "      <td>Goblin</td>\n",
       "    </tr>\n",
       "    <tr>\n",
       "      <th>6</th>\n",
       "      <td>8</td>\n",
       "      <td>0.399331</td>\n",
       "      <td>0.568952</td>\n",
       "      <td>0.618391</td>\n",
       "      <td>0.467901</td>\n",
       "      <td>white</td>\n",
       "      <td>Goblin</td>\n",
       "    </tr>\n",
       "    <tr>\n",
       "      <th>7</th>\n",
       "      <td>11</td>\n",
       "      <td>0.516224</td>\n",
       "      <td>0.536429</td>\n",
       "      <td>0.612776</td>\n",
       "      <td>0.468048</td>\n",
       "      <td>clear</td>\n",
       "      <td>Ghoul</td>\n",
       "    </tr>\n",
       "    <tr>\n",
       "      <th>8</th>\n",
       "      <td>12</td>\n",
       "      <td>0.314295</td>\n",
       "      <td>0.671280</td>\n",
       "      <td>0.417267</td>\n",
       "      <td>0.227548</td>\n",
       "      <td>blue</td>\n",
       "      <td>Ghost</td>\n",
       "    </tr>\n",
       "    <tr>\n",
       "      <th>9</th>\n",
       "      <td>19</td>\n",
       "      <td>0.280942</td>\n",
       "      <td>0.701457</td>\n",
       "      <td>0.179633</td>\n",
       "      <td>0.141183</td>\n",
       "      <td>white</td>\n",
       "      <td>Ghost</td>\n",
       "    </tr>\n",
       "  </tbody>\n",
       "</table>\n",
       "</div>"
      ],
      "text/plain": [
       "   id  bone_length  rotting_flesh  hair_length  has_soul  color    type\n",
       "0   0     0.354512       0.350839     0.465761  0.781142  clear   Ghoul\n",
       "1   1     0.575560       0.425868     0.531401  0.439899  green  Goblin\n",
       "2   2     0.467875       0.354330     0.811616  0.791225  black   Ghoul\n",
       "3   4     0.776652       0.508723     0.636766  0.884464  black   Ghoul\n",
       "4   5     0.566117       0.875862     0.418594  0.636438  green   Ghost\n",
       "5   7     0.405680       0.253277     0.441420  0.280324  green  Goblin\n",
       "6   8     0.399331       0.568952     0.618391  0.467901  white  Goblin\n",
       "7  11     0.516224       0.536429     0.612776  0.468048  clear   Ghoul\n",
       "8  12     0.314295       0.671280     0.417267  0.227548   blue   Ghost\n",
       "9  19     0.280942       0.701457     0.179633  0.141183  white   Ghost"
      ]
     },
     "execution_count": 4,
     "metadata": {},
     "output_type": "execute_result"
    }
   ],
   "source": [
    "df.head(10)"
   ]
  },
  {
   "cell_type": "code",
   "execution_count": 5,
   "id": "48cb783c",
   "metadata": {
    "execution": {
     "iopub.execute_input": "2023-02-08T11:18:14.933750Z",
     "iopub.status.busy": "2023-02-08T11:18:14.933273Z",
     "iopub.status.idle": "2023-02-08T11:18:14.973787Z",
     "shell.execute_reply": "2023-02-08T11:18:14.972033Z"
    },
    "papermill": {
     "duration": 0.052021,
     "end_time": "2023-02-08T11:18:14.977699",
     "exception": false,
     "start_time": "2023-02-08T11:18:14.925678",
     "status": "completed"
    },
    "tags": []
   },
   "outputs": [
    {
     "name": "stdout",
     "output_type": "stream",
     "text": [
      "<class 'pandas.core.frame.DataFrame'>\n",
      "RangeIndex: 371 entries, 0 to 370\n",
      "Data columns (total 7 columns):\n",
      " #   Column         Non-Null Count  Dtype  \n",
      "---  ------         --------------  -----  \n",
      " 0   id             371 non-null    int64  \n",
      " 1   bone_length    371 non-null    float64\n",
      " 2   rotting_flesh  371 non-null    float64\n",
      " 3   hair_length    371 non-null    float64\n",
      " 4   has_soul       371 non-null    float64\n",
      " 5   color          371 non-null    object \n",
      " 6   type           371 non-null    object \n",
      "dtypes: float64(4), int64(1), object(2)\n",
      "memory usage: 20.4+ KB\n"
     ]
    }
   ],
   "source": [
    "df.info()"
   ]
  },
  {
   "cell_type": "markdown",
   "id": "522cd964",
   "metadata": {
    "papermill": {
     "duration": 0.005813,
     "end_time": "2023-02-08T11:18:14.990370",
     "exception": false,
     "start_time": "2023-02-08T11:18:14.984557",
     "status": "completed"
    },
    "tags": []
   },
   "source": [
    "🔑 **Insights**\n",
    "* Our dataset is quite small with only $371$ records.\n",
    "* It has mixed features excluding the `id`: $4$ continuous (numerical) and $2$ categorical values\n",
    "* There are **NO** missing values in any of the columns in the dataset."
   ]
  },
  {
   "cell_type": "markdown",
   "id": "52732f7c",
   "metadata": {
    "papermill": {
     "duration": 0.005162,
     "end_time": "2023-02-08T11:18:15.001320",
     "exception": false,
     "start_time": "2023-02-08T11:18:14.996158",
     "status": "completed"
    },
    "tags": []
   },
   "source": [
    "# 2.2 Feature Univariate Analysis\n",
    "\n",
    "Let's take a peek on each feature."
   ]
  },
  {
   "cell_type": "markdown",
   "id": "1b9efffd",
   "metadata": {
    "papermill": {
     "duration": 0.005917,
     "end_time": "2023-02-08T11:18:15.013609",
     "exception": false,
     "start_time": "2023-02-08T11:18:15.007692",
     "status": "completed"
    },
    "tags": []
   },
   "source": [
    "# 2.2.1 Bone Length"
   ]
  },
  {
   "cell_type": "code",
   "execution_count": 6,
   "id": "8ddb785a",
   "metadata": {
    "execution": {
     "iopub.execute_input": "2023-02-08T11:18:15.027990Z",
     "iopub.status.busy": "2023-02-08T11:18:15.027459Z",
     "iopub.status.idle": "2023-02-08T11:18:15.370891Z",
     "shell.execute_reply": "2023-02-08T11:18:15.369549Z"
    },
    "papermill": {
     "duration": 0.354824,
     "end_time": "2023-02-08T11:18:15.375150",
     "exception": false,
     "start_time": "2023-02-08T11:18:15.020326",
     "status": "completed"
    },
    "tags": []
   },
   "outputs": [
    {
     "data": {
      "image/png": "[encoded data removed]",
      "text/plain": [
       "<Figure size 576x432 with 2 Axes>"
      ]
     },
     "metadata": {
      "needs_background": "light"
     },
     "output_type": "display_data"
    },
    {
     "name": "stdout",
     "output_type": "stream",
     "text": [
      "count    371.000000\n",
      "mean       0.434160\n",
      "std        0.132833\n",
      "min        0.061032\n",
      "25%        0.340006\n",
      "50%        0.434891\n",
      "75%        0.517223\n",
      "max        0.817001\n",
      "Name: bone_length, dtype: float64\n"
     ]
    }
   ],
   "source": [
    "def analyze_num_var(series):\n",
    "    f, (ax_hist, ax_box) = plt.subplots(2, sharex=True, figsize=(8,6),\n",
    "                                        gridspec_kw={\"height_ratios\": (.75, .15)})\n",
    "    ax_hist.hist(series)\n",
    "    ax_box.boxplot(series, vert=False)\n",
    "    ax_hist.set_xlim(0,1)\n",
    "    plt.show()\n",
    "    \n",
    "    print(series.describe())\n",
    "\n",
    "analyze_num_var(df['bone_length'])"
   ]
  },
  {
   "cell_type": "markdown",
   "id": "31c33dfd",
   "metadata": {
    "papermill": {
     "duration": 0.006552,
     "end_time": "2023-02-08T11:18:15.388135",
     "exception": false,
     "start_time": "2023-02-08T11:18:15.381583",
     "status": "completed"
    },
    "tags": []
   },
   "source": [
    "# 2.2.2 Rotting Flesh"
   ]
  },
  {
   "cell_type": "code",
   "execution_count": 7,
   "id": "9b1cc68a",
   "metadata": {
    "execution": {
     "iopub.execute_input": "2023-02-08T11:18:15.403747Z",
     "iopub.status.busy": "2023-02-08T11:18:15.402621Z",
     "iopub.status.idle": "2023-02-08T11:18:15.678322Z",
     "shell.execute_reply": "2023-02-08T11:18:15.676189Z"
    },
    "papermill": {
     "duration": 0.28827,
     "end_time": "2023-02-08T11:18:15.682645",
     "exception": false,
     "start_time": "2023-02-08T11:18:15.394375",
     "status": "completed"
    },
    "tags": []
   },
   "outputs": [
    {
     "data": {
      "image/png": "[encoded data removed]",
      "text/plain": [
       "<Figure size 576x432 with 2 Axes>"
      ]
     },
     "metadata": {
      "needs_background": "light"
     },
     "output_type": "display_data"
    },
    {
     "name": "stdout",
     "output_type": "stream",
     "text": [
      "count    371.000000\n",
      "mean       0.506848\n",
      "std        0.146358\n",
      "min        0.095687\n",
      "25%        0.414812\n",
      "50%        0.501552\n",
      "75%        0.603977\n",
      "max        0.932466\n",
      "Name: rotting_flesh, dtype: float64\n"
     ]
    }
   ],
   "source": [
    "analyze_num_var(df['rotting_flesh'])"
   ]
  },
  {
   "cell_type": "markdown",
   "id": "6c4a69de",
   "metadata": {
    "papermill": {
     "duration": 0.005736,
     "end_time": "2023-02-08T11:18:15.694930",
     "exception": false,
     "start_time": "2023-02-08T11:18:15.689194",
     "status": "completed"
    },
    "tags": []
   },
   "source": [
    "# 2.2.3 Hair Length"
   ]
  },
  {
   "cell_type": "code",
   "execution_count": 8,
   "id": "eef01b72",
   "metadata": {
    "execution": {
     "iopub.execute_input": "2023-02-08T11:18:15.710792Z",
     "iopub.status.busy": "2023-02-08T11:18:15.710286Z",
     "iopub.status.idle": "2023-02-08T11:18:16.002686Z",
     "shell.execute_reply": "2023-02-08T11:18:16.001217Z"
    },
    "papermill": {
     "duration": 0.305766,
     "end_time": "2023-02-08T11:18:16.006795",
     "exception": false,
     "start_time": "2023-02-08T11:18:15.701029",
     "status": "completed"
    },
    "tags": []
   },
   "outputs": [
    {
     "data": {
      "image/png": "[encoded data removed]",
      "text/plain": [
       "<Figure size 576x432 with 2 Axes>"
      ]
     },
     "metadata": {
      "needs_background": "light"
     },
     "output_type": "display_data"
    },
    {
     "name": "stdout",
     "output_type": "stream",
     "text": [
      "count    371.000000\n",
      "mean       0.529114\n",
      "std        0.169902\n",
      "min        0.134600\n",
      "25%        0.407428\n",
      "50%        0.538642\n",
      "75%        0.647244\n",
      "max        1.000000\n",
      "Name: hair_length, dtype: float64\n"
     ]
    }
   ],
   "source": [
    "analyze_num_var(df['hair_length'])"
   ]
  },
  {
   "cell_type": "markdown",
   "id": "79515a25",
   "metadata": {
    "papermill": {
     "duration": 0.005939,
     "end_time": "2023-02-08T11:18:16.019474",
     "exception": false,
     "start_time": "2023-02-08T11:18:16.013535",
     "status": "completed"
    },
    "tags": []
   },
   "source": [
    "# 2.2.4 Soul Percentage"
   ]
  },
  {
   "cell_type": "code",
   "execution_count": 9,
   "id": "476f7c9f",
   "metadata": {
    "execution": {
     "iopub.execute_input": "2023-02-08T11:18:16.035763Z",
     "iopub.status.busy": "2023-02-08T11:18:16.035379Z",
     "iopub.status.idle": "2023-02-08T11:18:16.326964Z",
     "shell.execute_reply": "2023-02-08T11:18:16.324628Z"
    },
    "papermill": {
     "duration": 0.303556,
     "end_time": "2023-02-08T11:18:16.330283",
     "exception": false,
     "start_time": "2023-02-08T11:18:16.026727",
     "status": "completed"
    },
    "tags": []
   },
   "outputs": [
    {
     "data": {
      "image/png": "[encoded data removed]",
      "text/plain": [
       "<Figure size 576x432 with 2 Axes>"
      ]
     },
     "metadata": {
      "needs_background": "light"
     },
     "output_type": "display_data"
    },
    {
     "name": "stdout",
     "output_type": "stream",
     "text": [
      "count    371.000000\n",
      "mean       0.471392\n",
      "std        0.176129\n",
      "min        0.009402\n",
      "25%        0.348002\n",
      "50%        0.466372\n",
      "75%        0.600610\n",
      "max        0.935721\n",
      "Name: has_soul, dtype: float64\n"
     ]
    }
   ],
   "source": [
    "analyze_num_var(df['has_soul'])"
   ]
  }
 ],
 "metadata": {
  "kernelspec": {
   "display_name": "Python 3",
   "language": "python",
   "name": "python3"
  },
  "language_info": {
   "codemirror_mode": {
    "name": "ipython",
    "version": 3
   },
   "file_extension": ".py",
   "mimetype": "text/x-python",
   "name": "python",
   "nbconvert_exporter": "python",
   "pygments_lexer": "ipython3",
   "version": "3.7.12"
  },
  "papermill": {
   "default_parameters": {},
   "duration": 14.901831,
   "end_time": "2023-02-08T11:18:17.160936",
   "environment_variables": {},
   "exception": null,
   "input_path": "__notebook__.ipynb",
   "output_path": "__notebook__.ipynb",
   "parameters": {},
   "start_time": "2023-02-08T11:18:02.259105",
   "version": "2.3.4"
  }
 },
 "nbformat": 4,
 "nbformat_minor": 5
}
