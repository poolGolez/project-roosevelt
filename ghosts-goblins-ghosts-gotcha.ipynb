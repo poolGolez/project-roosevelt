{
 "cells": [
  {
   "cell_type": "markdown",
   "id": "6dc8486f",
   "metadata": {
    "papermill": {
     "duration": 0.006156,
     "end_time": "2023-02-08T11:28:51.056310",
     "exception": false,
     "start_time": "2023-02-08T11:28:51.050154",
     "status": "completed"
    },
    "tags": []
   },
   "source": [
    "# Overview\n",
    "\n",
    "1. Ingestion\n",
    "2. Data Exploration"
   ]
  },
  {
   "cell_type": "markdown",
   "id": "eea9706c",
   "metadata": {
    "papermill": {
     "duration": 0.004732,
     "end_time": "2023-02-08T11:28:51.066334",
     "exception": false,
     "start_time": "2023-02-08T11:28:51.061602",
     "status": "completed"
    },
    "tags": []
   },
   "source": [
    "# 1. Ingestion"
   ]
  },
  {
   "cell_type": "code",
   "execution_count": 1,
   "id": "cf014686",
   "metadata": {
    "_cell_guid": "b1076dfc-b9ad-4769-8c92-a6c4dae69d19",
    "_uuid": "8f2839f25d086af736a60e9eeb907d3b93b6e0e5",
    "execution": {
     "iopub.execute_input": "2023-02-08T11:28:51.079248Z",
     "iopub.status.busy": "2023-02-08T11:28:51.078252Z",
     "iopub.status.idle": "2023-02-08T11:28:52.105038Z",
     "shell.execute_reply": "2023-02-08T11:28:52.103844Z"
    },
    "papermill": {
     "duration": 1.037067,
     "end_time": "2023-02-08T11:28:52.108452",
     "exception": false,
     "start_time": "2023-02-08T11:28:51.071385",
     "status": "completed"
    },
    "tags": []
   },
   "outputs": [],
   "source": [
    "import numpy as np\n",
    "import pandas as pd\n",
    "import matplotlib.pyplot as plt\n",
    "import seaborn as sns\n",
    "\n",
    "import os"
   ]
  },
  {
   "cell_type": "code",
   "execution_count": 2,
   "id": "ff2057bb",
   "metadata": {
    "execution": {
     "iopub.execute_input": "2023-02-08T11:28:52.121363Z",
     "iopub.status.busy": "2023-02-08T11:28:52.120923Z",
     "iopub.status.idle": "2023-02-08T11:28:54.322222Z",
     "shell.execute_reply": "2023-02-08T11:28:54.321064Z"
    },
    "papermill": {
     "duration": 2.211082,
     "end_time": "2023-02-08T11:28:54.324962",
     "exception": false,
     "start_time": "2023-02-08T11:28:52.113880",
     "status": "completed"
    },
    "tags": []
   },
   "outputs": [
    {
     "name": "stdout",
     "output_type": "stream",
     "text": [
      "Unzipping /kaggle/working/train.csv...\n",
      "Archive:  /kaggle/input/ghouls-goblins-and-ghosts-boo/train.csv.zip\r\n",
      "  inflating: train.csv               \r\n",
      "Unzipping /kaggle/working/test.csv...\n",
      "Archive:  /kaggle/input/ghouls-goblins-and-ghosts-boo/test.csv.zip\r\n",
      "  inflating: test.csv                \r\n"
     ]
    }
   ],
   "source": [
    "TRAIN_FILE = \"/kaggle/working/train.csv\"\n",
    "TEST_FILE = \"/kaggle/working/test.csv\"\n",
    "\n",
    "if not os.path.exists(TRAIN_FILE):\n",
    "    print(f\"Unzipping {TRAIN_FILE}...\")\n",
    "    !unzip /kaggle/input/ghouls-goblins-and-ghosts-boo/train.csv.zip\n",
    "\n",
    "if not os.path.exists(TEST_FILE):\n",
    "    print(f\"Unzipping {TEST_FILE}...\")\n",
    "    !unzip /kaggle/input/ghouls-goblins-and-ghosts-boo/test.csv.zip"
   ]
  },
  {
   "cell_type": "code",
   "execution_count": 3,
   "id": "14cebfe6",
   "metadata": {
    "execution": {
     "iopub.execute_input": "2023-02-08T11:28:54.339324Z",
     "iopub.status.busy": "2023-02-08T11:28:54.338644Z",
     "iopub.status.idle": "2023-02-08T11:28:54.353902Z",
     "shell.execute_reply": "2023-02-08T11:28:54.352980Z"
    },
    "papermill": {
     "duration": 0.025697,
     "end_time": "2023-02-08T11:28:54.356391",
     "exception": false,
     "start_time": "2023-02-08T11:28:54.330694",
     "status": "completed"
    },
    "tags": []
   },
   "outputs": [],
   "source": [
    "df = pd.read_csv(TRAIN_FILE)"
   ]
  },
  {
   "cell_type": "markdown",
   "id": "c05f401b",
   "metadata": {
    "papermill": {
     "duration": 0.005274,
     "end_time": "2023-02-08T11:28:54.367292",
     "exception": false,
     "start_time": "2023-02-08T11:28:54.362018",
     "status": "completed"
    },
    "tags": []
   },
   "source": [
    "# 2. Data Exploration"
   ]
  },
  {
   "cell_type": "code",
   "execution_count": 4,
   "id": "24234d50",
   "metadata": {
    "execution": {
     "iopub.execute_input": "2023-02-08T11:28:54.380736Z",
     "iopub.status.busy": "2023-02-08T11:28:54.380032Z",
     "iopub.status.idle": "2023-02-08T11:28:54.406718Z",
     "shell.execute_reply": "2023-02-08T11:28:54.405436Z"
    },
    "papermill": {
     "duration": 0.036162,
     "end_time": "2023-02-08T11:28:54.409045",
     "exception": false,
     "start_time": "2023-02-08T11:28:54.372883",
     "status": "completed"
    },
    "tags": []
   },
   "outputs": [
    {
     "data": {
      "text/html": [
       "<div>\n",
       "<style scoped>\n",
       "    .dataframe tbody tr th:only-of-type {\n",
       "        vertical-align: middle;\n",
       "    }\n",
       "\n",
       "    .dataframe tbody tr th {\n",
       "        vertical-align: top;\n",
       "    }\n",
       "\n",
       "    .dataframe thead th {\n",
       "        text-align: right;\n",
       "    }\n",
       "</style>\n",
       "<table border=\"1\" class=\"dataframe\">\n",
       "  <thead>\n",
       "    <tr style=\"text-align: right;\">\n",
       "      <th></th>\n",
       "      <th>id</th>\n",
       "      <th>bone_length</th>\n",
       "      <th>rotting_flesh</th>\n",
       "      <th>hair_length</th>\n",
       "      <th>has_soul</th>\n",
       "      <th>color</th>\n",
       "      <th>type</th>\n",
       "    </tr>\n",
       "  </thead>\n",
       "  <tbody>\n",
       "    <tr>\n",
       "      <th>0</th>\n",
       "      <td>0</td>\n",
       "      <td>0.354512</td>\n",
       "      <td>0.350839</td>\n",
       "      <td>0.465761</td>\n",
       "      <td>0.781142</td>\n",
       "      <td>clear</td>\n",
       "      <td>Ghoul</td>\n",
       "    </tr>\n",
       "    <tr>\n",
       "      <th>1</th>\n",
       "      <td>1</td>\n",
       "      <td>0.575560</td>\n",
       "      <td>0.425868</td>\n",
       "      <td>0.531401</td>\n",
       "      <td>0.439899</td>\n",
       "      <td>green</td>\n",
       "      <td>Goblin</td>\n",
       "    </tr>\n",
       "    <tr>\n",
       "      <th>2</th>\n",
       "      <td>2</td>\n",
       "      <td>0.467875</td>\n",
       "      <td>0.354330</td>\n",
       "      <td>0.811616</td>\n",
       "      <td>0.791225</td>\n",
       "      <td>black</td>\n",
       "      <td>Ghoul</td>\n",
       "    </tr>\n",
       "    <tr>\n",
       "      <th>3</th>\n",
       "      <td>4</td>\n",
       "      <td>0.776652</td>\n",
       "      <td>0.508723</td>\n",
       "      <td>0.636766</td>\n",
       "      <td>0.884464</td>\n",
       "      <td>black</td>\n",
       "      <td>Ghoul</td>\n",
       "    </tr>\n",
       "    <tr>\n",
       "      <th>4</th>\n",
       "      <td>5</td>\n",
       "      <td>0.566117</td>\n",
       "      <td>0.875862</td>\n",
       "      <td>0.418594</td>\n",
       "      <td>0.636438</td>\n",
       "      <td>green</td>\n",
       "      <td>Ghost</td>\n",
       "    </tr>\n",
       "    <tr>\n",
       "      <th>5</th>\n",
       "      <td>7</td>\n",
       "      <td>0.405680</td>\n",
       "      <td>0.253277</td>\n",
       "      <td>0.441420</td>\n",
       "      <td>0.280324</td>\n",
       "      <td>green</td>\n",
       "      <td>Goblin</td>\n",
       "    </tr>\n",
       "    <tr>\n",
       "      <th>6</th>\n",
       "      <td>8</td>\n",
       "      <td>0.399331</td>\n",
       "      <td>0.568952</td>\n",
       "      <td>0.618391</td>\n",
       "      <td>0.467901</td>\n",
       "      <td>white</td>\n",
       "      <td>Goblin</td>\n",
       "    </tr>\n",
       "    <tr>\n",
       "      <th>7</th>\n",
       "      <td>11</td>\n",
       "      <td>0.516224</td>\n",
       "      <td>0.536429</td>\n",
       "      <td>0.612776</td>\n",
       "      <td>0.468048</td>\n",
       "      <td>clear</td>\n",
       "      <td>Ghoul</td>\n",
       "    </tr>\n",
       "    <tr>\n",
       "      <th>8</th>\n",
       "      <td>12</td>\n",
       "      <td>0.314295</td>\n",
       "      <td>0.671280</td>\n",
       "      <td>0.417267</td>\n",
       "      <td>0.227548</td>\n",
       "      <td>blue</td>\n",
       "      <td>Ghost</td>\n",
       "    </tr>\n",
       "    <tr>\n",
       "      <th>9</th>\n",
       "      <td>19</td>\n",
       "      <td>0.280942</td>\n",
       "      <td>0.701457</td>\n",
       "      <td>0.179633</td>\n",
       "      <td>0.141183</td>\n",
       "      <td>white</td>\n",
       "      <td>Ghost</td>\n",
       "    </tr>\n",
       "  </tbody>\n",
       "</table>\n",
       "</div>"
      ],
      "text/plain": [
       "   id  bone_length  rotting_flesh  hair_length  has_soul  color    type\n",
       "0   0     0.354512       0.350839     0.465761  0.781142  clear   Ghoul\n",
       "1   1     0.575560       0.425868     0.531401  0.439899  green  Goblin\n",
       "2   2     0.467875       0.354330     0.811616  0.791225  black   Ghoul\n",
       "3   4     0.776652       0.508723     0.636766  0.884464  black   Ghoul\n",
       "4   5     0.566117       0.875862     0.418594  0.636438  green   Ghost\n",
       "5   7     0.405680       0.253277     0.441420  0.280324  green  Goblin\n",
       "6   8     0.399331       0.568952     0.618391  0.467901  white  Goblin\n",
       "7  11     0.516224       0.536429     0.612776  0.468048  clear   Ghoul\n",
       "8  12     0.314295       0.671280     0.417267  0.227548   blue   Ghost\n",
       "9  19     0.280942       0.701457     0.179633  0.141183  white   Ghost"
      ]
     },
     "execution_count": 4,
     "metadata": {},
     "output_type": "execute_result"
    }
   ],
   "source": [
    "df.head(10)"
   ]
  },
  {
   "cell_type": "code",
   "execution_count": 5,
   "id": "e97d864c",
   "metadata": {
    "execution": {
     "iopub.execute_input": "2023-02-08T11:28:54.422914Z",
     "iopub.status.busy": "2023-02-08T11:28:54.422243Z",
     "iopub.status.idle": "2023-02-08T11:28:54.447695Z",
     "shell.execute_reply": "2023-02-08T11:28:54.446447Z"
    },
    "papermill": {
     "duration": 0.035491,
     "end_time": "2023-02-08T11:28:54.450397",
     "exception": false,
     "start_time": "2023-02-08T11:28:54.414906",
     "status": "completed"
    },
    "tags": []
   },
   "outputs": [
    {
     "name": "stdout",
     "output_type": "stream",
     "text": [
      "<class 'pandas.core.frame.DataFrame'>\n",
      "RangeIndex: 371 entries, 0 to 370\n",
      "Data columns (total 7 columns):\n",
      " #   Column         Non-Null Count  Dtype  \n",
      "---  ------         --------------  -----  \n",
      " 0   id             371 non-null    int64  \n",
      " 1   bone_length    371 non-null    float64\n",
      " 2   rotting_flesh  371 non-null    float64\n",
      " 3   hair_length    371 non-null    float64\n",
      " 4   has_soul       371 non-null    float64\n",
      " 5   color          371 non-null    object \n",
      " 6   type           371 non-null    object \n",
      "dtypes: float64(4), int64(1), object(2)\n",
      "memory usage: 20.4+ KB\n"
     ]
    }
   ],
   "source": [
    "df.info()"
   ]
  },
  {
   "cell_type": "markdown",
   "id": "66ea9150",
   "metadata": {
    "papermill": {
     "duration": 0.005605,
     "end_time": "2023-02-08T11:28:54.461930",
     "exception": false,
     "start_time": "2023-02-08T11:28:54.456325",
     "status": "completed"
    },
    "tags": []
   },
   "source": [
    "🔑 **Insights**\n",
    "* Our dataset is quite small with only $371$ records.\n",
    "* It has mixed features excluding the `id`: $4$ continuous (numerical) and $2$ categorical values\n",
    "* There are **NO** missing values in any of the columns in the dataset."
   ]
  },
  {
   "cell_type": "markdown",
   "id": "b0ac1e27",
   "metadata": {
    "papermill": {
     "duration": 0.00554,
     "end_time": "2023-02-08T11:28:54.473272",
     "exception": false,
     "start_time": "2023-02-08T11:28:54.467732",
     "status": "completed"
    },
    "tags": []
   },
   "source": [
    "# 2.2 Feature Univariate Analysis\n",
    "\n",
    "Let's take a peek on each feature."
   ]
  },
  {
   "cell_type": "markdown",
   "id": "fedcdf31",
   "metadata": {
    "papermill": {
     "duration": 0.005493,
     "end_time": "2023-02-08T11:28:54.484527",
     "exception": false,
     "start_time": "2023-02-08T11:28:54.479034",
     "status": "completed"
    },
    "tags": []
   },
   "source": [
    "# 2.2.1 Bone Length"
   ]
  },
  {
   "cell_type": "code",
   "execution_count": 6,
   "id": "de301329",
   "metadata": {
    "execution": {
     "iopub.execute_input": "2023-02-08T11:28:54.497859Z",
     "iopub.status.busy": "2023-02-08T11:28:54.497444Z",
     "iopub.status.idle": "2023-02-08T11:28:54.829930Z",
     "shell.execute_reply": "2023-02-08T11:28:54.828592Z"
    },
    "papermill": {
     "duration": 0.343203,
     "end_time": "2023-02-08T11:28:54.833616",
     "exception": false,
     "start_time": "2023-02-08T11:28:54.490413",
     "status": "completed"
    },
    "tags": []
   },
   "outputs": [
    {
     "data": {
      "image/png": "[encoded data removed]",
      "text/plain": [
       "<Figure size 576x432 with 2 Axes>"
      ]
     },
     "metadata": {
      "needs_background": "light"
     },
     "output_type": "display_data"
    },
    {
     "name": "stdout",
     "output_type": "stream",
     "text": [
      "count    371.000000\n",
      "mean       0.434160\n",
      "std        0.132833\n",
      "min        0.061032\n",
      "25%        0.340006\n",
      "50%        0.434891\n",
      "75%        0.517223\n",
      "max        0.817001\n",
      "Name: bone_length, dtype: float64\n"
     ]
    }
   ],
   "source": [
    "def analyze_num_var(series):\n",
    "    f, (ax_hist, ax_box) = plt.subplots(2, sharex=True, figsize=(8,6),\n",
    "                                        gridspec_kw={\"height_ratios\": (.75, .15)})\n",
    "    ax_hist.hist(series)\n",
    "    ax_box.boxplot(series, vert=False)\n",
    "    ax_hist.set_xlim(0,1)\n",
    "    plt.show()\n",
    "    \n",
    "    print(series.describe())\n",
    "\n",
    "analyze_num_var(df['bone_length'])"
   ]
  },
  {
   "cell_type": "markdown",
   "id": "d75353ec",
   "metadata": {
    "papermill": {
     "duration": 0.005803,
     "end_time": "2023-02-08T11:28:54.846304",
     "exception": false,
     "start_time": "2023-02-08T11:28:54.840501",
     "status": "completed"
    },
    "tags": []
   },
   "source": [
    "# 2.2.2 Rotting Flesh"
   ]
  },
  {
   "cell_type": "code",
   "execution_count": 7,
   "id": "493a0030",
   "metadata": {
    "execution": {
     "iopub.execute_input": "2023-02-08T11:28:54.861201Z",
     "iopub.status.busy": "2023-02-08T11:28:54.860824Z",
     "iopub.status.idle": "2023-02-08T11:28:55.165975Z",
     "shell.execute_reply": "2023-02-08T11:28:55.164606Z"
    },
    "papermill": {
     "duration": 0.316846,
     "end_time": "2023-02-08T11:28:55.169172",
     "exception": false,
     "start_time": "2023-02-08T11:28:54.852326",
     "status": "completed"
    },
    "tags": []
   },
   "outputs": [
    {
     "data": {
      "image/png": "[encoded data removed]",
      "text/plain": [
       "<Figure size 576x432 with 2 Axes>"
      ]
     },
     "metadata": {
      "needs_background": "light"
     },
     "output_type": "display_data"
    },
    {
     "name": "stdout",
     "output_type": "stream",
     "text": [
      "count    371.000000\n",
      "mean       0.506848\n",
      "std        0.146358\n",
      "min        0.095687\n",
      "25%        0.414812\n",
      "50%        0.501552\n",
      "75%        0.603977\n",
      "max        0.932466\n",
      "Name: rotting_flesh, dtype: float64\n"
     ]
    }
   ],
   "source": [
    "analyze_num_var(df['rotting_flesh'])"
   ]
  },
  {
   "cell_type": "markdown",
   "id": "5a8a5d9e",
   "metadata": {
    "papermill": {
     "duration": 0.00597,
     "end_time": "2023-02-08T11:28:55.181579",
     "exception": false,
     "start_time": "2023-02-08T11:28:55.175609",
     "status": "completed"
    },
    "tags": []
   },
   "source": [
    "# 2.2.3 Hair Length"
   ]
  },
  {
   "cell_type": "code",
   "execution_count": 8,
   "id": "3424c427",
   "metadata": {
    "execution": {
     "iopub.execute_input": "2023-02-08T11:28:55.197055Z",
     "iopub.status.busy": "2023-02-08T11:28:55.196581Z",
     "iopub.status.idle": "2023-02-08T11:28:55.483116Z",
     "shell.execute_reply": "2023-02-08T11:28:55.481035Z"
    },
    "papermill": {
     "duration": 0.297374,
     "end_time": "2023-02-08T11:28:55.485711",
     "exception": false,
     "start_time": "2023-02-08T11:28:55.188337",
     "status": "completed"
    },
    "tags": []
   },
   "outputs": [
    {
     "data": {
      "image/png": "[encoded data removed]",
      "text/plain": [
       "<Figure size 576x432 with 2 Axes>"
      ]
     },
     "metadata": {
      "needs_background": "light"
     },
     "output_type": "display_data"
    },
    {
     "name": "stdout",
     "output_type": "stream",
     "text": [
      "count    371.000000\n",
      "mean       0.529114\n",
      "std        0.169902\n",
      "min        0.134600\n",
      "25%        0.407428\n",
      "50%        0.538642\n",
      "75%        0.647244\n",
      "max        1.000000\n",
      "Name: hair_length, dtype: float64\n"
     ]
    }
   ],
   "source": [
    "analyze_num_var(df['hair_length'])"
   ]
  },
  {
   "cell_type": "markdown",
   "id": "435fa1c2",
   "metadata": {
    "papermill": {
     "duration": 0.006264,
     "end_time": "2023-02-08T11:28:55.498835",
     "exception": false,
     "start_time": "2023-02-08T11:28:55.492571",
     "status": "completed"
    },
    "tags": []
   },
   "source": [
    "# 2.2.4 Soul Percentage"
   ]
  },
  {
   "cell_type": "code",
   "execution_count": 9,
   "id": "01ef423d",
   "metadata": {
    "execution": {
     "iopub.execute_input": "2023-02-08T11:28:55.514244Z",
     "iopub.status.busy": "2023-02-08T11:28:55.513498Z",
     "iopub.status.idle": "2023-02-08T11:28:55.803530Z",
     "shell.execute_reply": "2023-02-08T11:28:55.802122Z"
    },
    "papermill": {
     "duration": 0.300441,
     "end_time": "2023-02-08T11:28:55.805881",
     "exception": false,
     "start_time": "2023-02-08T11:28:55.505440",
     "status": "completed"
    },
    "tags": []
   },
   "outputs": [
    {
     "data": {
      "image/png": "[encoded data removed]",
      "text/plain": [
       "<Figure size 576x432 with 2 Axes>"
      ]
     },
     "metadata": {
      "needs_background": "light"
     },
     "output_type": "display_data"
    },
    {
     "name": "stdout",
     "output_type": "stream",
     "text": [
      "count    371.000000\n",
      "mean       0.471392\n",
      "std        0.176129\n",
      "min        0.009402\n",
      "25%        0.348002\n",
      "50%        0.466372\n",
      "75%        0.600610\n",
      "max        0.935721\n",
      "Name: has_soul, dtype: float64\n"
     ]
    }
   ],
   "source": [
    "analyze_num_var(df['has_soul'])"
   ]
  },
  {
   "cell_type": "markdown",
   "id": "a4109ed9",
   "metadata": {
    "papermill": {
     "duration": 0.00674,
     "end_time": "2023-02-08T11:28:55.819685",
     "exception": false,
     "start_time": "2023-02-08T11:28:55.812945",
     "status": "completed"
    },
    "tags": []
   },
   "source": [
    "# 2.2.5 Color"
   ]
  },
  {
   "cell_type": "code",
   "execution_count": 10,
   "id": "d6fcec63",
   "metadata": {
    "execution": {
     "iopub.execute_input": "2023-02-08T11:28:55.835978Z",
     "iopub.status.busy": "2023-02-08T11:28:55.834792Z",
     "iopub.status.idle": "2023-02-08T11:28:56.058773Z",
     "shell.execute_reply": "2023-02-08T11:28:56.057610Z"
    },
    "papermill": {
     "duration": 0.234642,
     "end_time": "2023-02-08T11:28:56.061243",
     "exception": false,
     "start_time": "2023-02-08T11:28:55.826601",
     "status": "completed"
    },
    "tags": []
   },
   "outputs": [
    {
     "data": {
      "image/png": "[encoded data removed]",
      "text/plain": [
       "<Figure size 576x432 with 1 Axes>"
      ]
     },
     "metadata": {
      "needs_background": "light"
     },
     "output_type": "display_data"
    }
   ],
   "source": [
    "def analyze_cat_var(series):\n",
    "    value_counts = series.value_counts()\n",
    "    \n",
    "    plt.figure(figsize=(8, 6))\n",
    "    rect = plt.bar(value_counts.index, value_counts.values)\n",
    "    plt.bar_label(rect, value_counts.values, padding=2)\n",
    "    \n",
    "analyze_cat_var(df['color'])"
   ]
  },
  {
   "cell_type": "markdown",
   "id": "5e60a84a",
   "metadata": {
    "papermill": {
     "duration": 0.007809,
     "end_time": "2023-02-08T11:28:56.076333",
     "exception": false,
     "start_time": "2023-02-08T11:28:56.068524",
     "status": "completed"
    },
    "tags": []
   },
   "source": [
    "# 2.2.6 Type (Target Class)"
   ]
  },
  {
   "cell_type": "code",
   "execution_count": 11,
   "id": "a75ee374",
   "metadata": {
    "execution": {
     "iopub.execute_input": "2023-02-08T11:28:56.092753Z",
     "iopub.status.busy": "2023-02-08T11:28:56.092316Z",
     "iopub.status.idle": "2023-02-08T11:28:56.283412Z",
     "shell.execute_reply": "2023-02-08T11:28:56.282402Z"
    },
    "papermill": {
     "duration": 0.202074,
     "end_time": "2023-02-08T11:28:56.285919",
     "exception": false,
     "start_time": "2023-02-08T11:28:56.083845",
     "status": "completed"
    },
    "tags": []
   },
   "outputs": [
    {
     "data": {
      "image/png": "[encoded data removed]",
      "text/plain": [
       "<Figure size 576x432 with 1 Axes>"
      ]
     },
     "metadata": {
      "needs_background": "light"
     },
     "output_type": "display_data"
    }
   ],
   "source": [
    "analyze_cat_var(df['type'])"
   ]
  },
  {
   "cell_type": "markdown",
   "id": "d4064291",
   "metadata": {
    "papermill": {
     "duration": 0.007191,
     "end_time": "2023-02-08T11:28:56.300611",
     "exception": false,
     "start_time": "2023-02-08T11:28:56.293420",
     "status": "completed"
    },
    "tags": []
   },
   "source": [
    "🔑 **Insights**\n",
    "* The target class records are balanced."
   ]
  }
 ],
 "metadata": {
  "kernelspec": {
   "display_name": "Python 3",
   "language": "python",
   "name": "python3"
  },
  "language_info": {
   "codemirror_mode": {
    "name": "ipython",
    "version": 3
   },
   "file_extension": ".py",
   "mimetype": "text/x-python",
   "name": "python",
   "nbconvert_exporter": "python",
   "pygments_lexer": "ipython3",
   "version": "3.7.12"
  },
  "papermill": {
   "default_parameters": {},
   "duration": 14.247813,
   "end_time": "2023-02-08T11:28:57.130536",
   "environment_variables": {},
   "exception": null,
   "input_path": "__notebook__.ipynb",
   "output_path": "__notebook__.ipynb",
   "parameters": {},
   "start_time": "2023-02-08T11:28:42.882723",
   "version": "2.3.4"
  }
 },
 "nbformat": 4,
 "nbformat_minor": 5
}
