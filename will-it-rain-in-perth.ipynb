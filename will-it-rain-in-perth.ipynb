{
 "cells": [
  {
   "cell_type": "markdown",
   "id": "2e6e9588",
   "metadata": {
    "papermill": {
     "duration": 0.004779,
     "end_time": "2022-12-21T12:03:51.947097",
     "exception": false,
     "start_time": "2022-12-21T12:03:51.942318",
     "status": "completed"
    },
    "tags": []
   },
   "source": [
    "# Data Ingestion"
   ]
  },
  {
   "cell_type": "markdown",
   "id": "293159a4",
   "metadata": {
    "papermill": {
     "duration": 0.003605,
     "end_time": "2022-12-21T12:03:51.954810",
     "exception": false,
     "start_time": "2022-12-21T12:03:51.951205",
     "status": "completed"
    },
    "tags": []
   },
   "source": [
    "We load the additional libraries needed in this notebook:\n",
    "* `seaborn`\n",
    "* `matplotlib.pyplot`\n",
    "* `sklearn`"
   ]
  },
  {
   "cell_type": "code",
   "execution_count": 1,
   "id": "15e58fe7",
   "metadata": {
    "execution": {
     "iopub.execute_input": "2022-12-21T12:03:51.964770Z",
     "iopub.status.busy": "2022-12-21T12:03:51.964234Z",
     "iopub.status.idle": "2022-12-21T12:03:53.016688Z",
     "shell.execute_reply": "2022-12-21T12:03:53.015095Z"
    },
    "papermill": {
     "duration": 1.060503,
     "end_time": "2022-12-21T12:03:53.019094",
     "exception": false,
     "start_time": "2022-12-21T12:03:51.958591",
     "status": "completed"
    },
    "tags": []
   },
   "outputs": [],
   "source": [
    "import seaborn as sns\n",
    "import matplotlib.pyplot as plt"
   ]
  },
  {
   "cell_type": "code",
   "execution_count": 2,
   "id": "afbebd60",
   "metadata": {
    "_cell_guid": "b1076dfc-b9ad-4769-8c92-a6c4dae69d19",
    "_uuid": "8f2839f25d086af736a60e9eeb907d3b93b6e0e5",
    "execution": {
     "iopub.execute_input": "2022-12-21T12:03:53.029016Z",
     "iopub.status.busy": "2022-12-21T12:03:53.028576Z",
     "iopub.status.idle": "2022-12-21T12:03:53.041173Z",
     "shell.execute_reply": "2022-12-21T12:03:53.040303Z"
    },
    "papermill": {
     "duration": 0.019828,
     "end_time": "2022-12-21T12:03:53.043192",
     "exception": false,
     "start_time": "2022-12-21T12:03:53.023364",
     "status": "completed"
    },
    "tags": []
   },
   "outputs": [
    {
     "name": "stdout",
     "output_type": "stream",
     "text": [
      "/kaggle/input/weather-dataset-rattle-package/weatherAUS.csv\n"
     ]
    }
   ],
   "source": [
    "# This Python 3 environment comes with many helpful analytics libraries installed\n",
    "# It is defined by the kaggle/python Docker image: https://github.com/kaggle/docker-python\n",
    "# For example, here's several helpful packages to load\n",
    "\n",
    "import numpy as np # linear algebra\n",
    "import pandas as pd # data processing, CSV file I/O (e.g. pd.read_csv)\n",
    "\n",
    "# Input data files are available in the read-only \"../input/\" directory\n",
    "# For example, running this (by clicking run or pressing Shift+Enter) will list all files under the input directory\n",
    "\n",
    "import os\n",
    "for dirname, _, filenames in os.walk('/kaggle/input'):\n",
    "    for filename in filenames:\n",
    "        print(os.path.join(dirname, filename))\n",
    "\n",
    "# You can write up to 20GB to the current directory (/kaggle/working/) that gets preserved as output when you create a version using \"Save & Run All\" \n",
    "# You can also write temporary files to /kaggle/temp/, but they won't be saved outside of the current session"
   ]
  },
  {
   "cell_type": "markdown",
   "id": "1bd86ab2",
   "metadata": {
    "papermill": {
     "duration": 0.003983,
     "end_time": "2022-12-21T12:03:53.051516",
     "exception": false,
     "start_time": "2022-12-21T12:03:53.047533",
     "status": "completed"
    },
    "tags": []
   },
   "source": [
    "We will be only using the data for **Perth** location and  so we filter the dataset accordingly:"
   ]
  },
  {
   "cell_type": "code",
   "execution_count": 3,
   "id": "3e6ba913",
   "metadata": {
    "_kg_hide-input": false,
    "_kg_hide-output": true,
    "execution": {
     "iopub.execute_input": "2022-12-21T12:03:53.064525Z",
     "iopub.status.busy": "2022-12-21T12:03:53.063849Z",
     "iopub.status.idle": "2022-12-21T12:03:53.577579Z",
     "shell.execute_reply": "2022-12-21T12:03:53.576811Z"
    },
    "papermill": {
     "duration": 0.522689,
     "end_time": "2022-12-21T12:03:53.579539",
     "exception": false,
     "start_time": "2022-12-21T12:03:53.056850",
     "status": "completed"
    },
    "tags": []
   },
   "outputs": [
    {
     "data": {
      "text/html": [
       "<div>\n",
       "<style scoped>\n",
       "    .dataframe tbody tr th:only-of-type {\n",
       "        vertical-align: middle;\n",
       "    }\n",
       "\n",
       "    .dataframe tbody tr th {\n",
       "        vertical-align: top;\n",
       "    }\n",
       "\n",
       "    .dataframe thead th {\n",
       "        text-align: right;\n",
       "    }\n",
       "</style>\n",
       "<table border=\"1\" class=\"dataframe\">\n",
       "  <thead>\n",
       "    <tr style=\"text-align: right;\">\n",
       "      <th></th>\n",
       "      <th>Date</th>\n",
       "      <th>Location</th>\n",
       "      <th>MinTemp</th>\n",
       "      <th>MaxTemp</th>\n",
       "      <th>Rainfall</th>\n",
       "      <th>Evaporation</th>\n",
       "      <th>Sunshine</th>\n",
       "      <th>WindGustDir</th>\n",
       "      <th>WindGustSpeed</th>\n",
       "      <th>WindDir9am</th>\n",
       "      <th>...</th>\n",
       "      <th>Humidity9am</th>\n",
       "      <th>Humidity3pm</th>\n",
       "      <th>Pressure9am</th>\n",
       "      <th>Pressure3pm</th>\n",
       "      <th>Cloud9am</th>\n",
       "      <th>Cloud3pm</th>\n",
       "      <th>Temp9am</th>\n",
       "      <th>Temp3pm</th>\n",
       "      <th>RainToday</th>\n",
       "      <th>RainTomorrow</th>\n",
       "    </tr>\n",
       "  </thead>\n",
       "  <tbody>\n",
       "    <tr>\n",
       "      <th>120638</th>\n",
       "      <td>2008-07-01</td>\n",
       "      <td>Perth</td>\n",
       "      <td>2.7</td>\n",
       "      <td>18.8</td>\n",
       "      <td>0.0</td>\n",
       "      <td>0.8</td>\n",
       "      <td>9.1</td>\n",
       "      <td>ENE</td>\n",
       "      <td>20.0</td>\n",
       "      <td>NaN</td>\n",
       "      <td>...</td>\n",
       "      <td>97.0</td>\n",
       "      <td>53.0</td>\n",
       "      <td>1027.6</td>\n",
       "      <td>1024.5</td>\n",
       "      <td>2.0</td>\n",
       "      <td>3.0</td>\n",
       "      <td>8.5</td>\n",
       "      <td>18.1</td>\n",
       "      <td>No</td>\n",
       "      <td>No</td>\n",
       "    </tr>\n",
       "    <tr>\n",
       "      <th>120639</th>\n",
       "      <td>2008-07-02</td>\n",
       "      <td>Perth</td>\n",
       "      <td>6.4</td>\n",
       "      <td>20.7</td>\n",
       "      <td>0.0</td>\n",
       "      <td>1.8</td>\n",
       "      <td>7.0</td>\n",
       "      <td>NE</td>\n",
       "      <td>22.0</td>\n",
       "      <td>ESE</td>\n",
       "      <td>...</td>\n",
       "      <td>80.0</td>\n",
       "      <td>39.0</td>\n",
       "      <td>1024.1</td>\n",
       "      <td>1019.0</td>\n",
       "      <td>0.0</td>\n",
       "      <td>6.0</td>\n",
       "      <td>11.1</td>\n",
       "      <td>19.7</td>\n",
       "      <td>No</td>\n",
       "      <td>No</td>\n",
       "    </tr>\n",
       "    <tr>\n",
       "      <th>120640</th>\n",
       "      <td>2008-07-03</td>\n",
       "      <td>Perth</td>\n",
       "      <td>6.5</td>\n",
       "      <td>19.9</td>\n",
       "      <td>0.4</td>\n",
       "      <td>2.2</td>\n",
       "      <td>7.3</td>\n",
       "      <td>NE</td>\n",
       "      <td>31.0</td>\n",
       "      <td>NaN</td>\n",
       "      <td>...</td>\n",
       "      <td>84.0</td>\n",
       "      <td>71.0</td>\n",
       "      <td>1016.8</td>\n",
       "      <td>1015.6</td>\n",
       "      <td>1.0</td>\n",
       "      <td>3.0</td>\n",
       "      <td>12.1</td>\n",
       "      <td>17.7</td>\n",
       "      <td>No</td>\n",
       "      <td>Yes</td>\n",
       "    </tr>\n",
       "    <tr>\n",
       "      <th>120641</th>\n",
       "      <td>2008-07-04</td>\n",
       "      <td>Perth</td>\n",
       "      <td>9.5</td>\n",
       "      <td>19.2</td>\n",
       "      <td>1.8</td>\n",
       "      <td>1.2</td>\n",
       "      <td>4.7</td>\n",
       "      <td>W</td>\n",
       "      <td>26.0</td>\n",
       "      <td>NNE</td>\n",
       "      <td>...</td>\n",
       "      <td>93.0</td>\n",
       "      <td>73.0</td>\n",
       "      <td>1019.3</td>\n",
       "      <td>1018.4</td>\n",
       "      <td>6.0</td>\n",
       "      <td>6.0</td>\n",
       "      <td>13.2</td>\n",
       "      <td>17.7</td>\n",
       "      <td>Yes</td>\n",
       "      <td>Yes</td>\n",
       "    </tr>\n",
       "    <tr>\n",
       "      <th>120642</th>\n",
       "      <td>2008-07-05</td>\n",
       "      <td>Perth</td>\n",
       "      <td>9.5</td>\n",
       "      <td>16.4</td>\n",
       "      <td>1.8</td>\n",
       "      <td>1.4</td>\n",
       "      <td>4.9</td>\n",
       "      <td>WSW</td>\n",
       "      <td>44.0</td>\n",
       "      <td>W</td>\n",
       "      <td>...</td>\n",
       "      <td>69.0</td>\n",
       "      <td>57.0</td>\n",
       "      <td>1020.4</td>\n",
       "      <td>1022.1</td>\n",
       "      <td>7.0</td>\n",
       "      <td>5.0</td>\n",
       "      <td>15.9</td>\n",
       "      <td>16.0</td>\n",
       "      <td>Yes</td>\n",
       "      <td>Yes</td>\n",
       "    </tr>\n",
       "    <tr>\n",
       "      <th>120643</th>\n",
       "      <td>2008-07-06</td>\n",
       "      <td>Perth</td>\n",
       "      <td>0.7</td>\n",
       "      <td>15.9</td>\n",
       "      <td>6.8</td>\n",
       "      <td>2.4</td>\n",
       "      <td>9.3</td>\n",
       "      <td>NNE</td>\n",
       "      <td>24.0</td>\n",
       "      <td>ENE</td>\n",
       "      <td>...</td>\n",
       "      <td>86.0</td>\n",
       "      <td>41.0</td>\n",
       "      <td>1032.0</td>\n",
       "      <td>1029.6</td>\n",
       "      <td>0.0</td>\n",
       "      <td>1.0</td>\n",
       "      <td>6.9</td>\n",
       "      <td>15.5</td>\n",
       "      <td>Yes</td>\n",
       "      <td>No</td>\n",
       "    </tr>\n",
       "    <tr>\n",
       "      <th>120644</th>\n",
       "      <td>2008-07-07</td>\n",
       "      <td>Perth</td>\n",
       "      <td>0.7</td>\n",
       "      <td>18.3</td>\n",
       "      <td>0.0</td>\n",
       "      <td>0.8</td>\n",
       "      <td>9.3</td>\n",
       "      <td>N</td>\n",
       "      <td>37.0</td>\n",
       "      <td>NE</td>\n",
       "      <td>...</td>\n",
       "      <td>72.0</td>\n",
       "      <td>36.0</td>\n",
       "      <td>1028.9</td>\n",
       "      <td>1024.2</td>\n",
       "      <td>1.0</td>\n",
       "      <td>5.0</td>\n",
       "      <td>8.7</td>\n",
       "      <td>17.9</td>\n",
       "      <td>No</td>\n",
       "      <td>No</td>\n",
       "    </tr>\n",
       "    <tr>\n",
       "      <th>120645</th>\n",
       "      <td>2008-07-08</td>\n",
       "      <td>Perth</td>\n",
       "      <td>3.2</td>\n",
       "      <td>20.4</td>\n",
       "      <td>0.0</td>\n",
       "      <td>1.4</td>\n",
       "      <td>6.9</td>\n",
       "      <td>NNW</td>\n",
       "      <td>24.0</td>\n",
       "      <td>NE</td>\n",
       "      <td>...</td>\n",
       "      <td>58.0</td>\n",
       "      <td>42.0</td>\n",
       "      <td>1023.9</td>\n",
       "      <td>1021.1</td>\n",
       "      <td>6.0</td>\n",
       "      <td>5.0</td>\n",
       "      <td>10.2</td>\n",
       "      <td>19.3</td>\n",
       "      <td>No</td>\n",
       "      <td>Yes</td>\n",
       "    </tr>\n",
       "    <tr>\n",
       "      <th>120646</th>\n",
       "      <td>2008-07-09</td>\n",
       "      <td>Perth</td>\n",
       "      <td>9.8</td>\n",
       "      <td>19.5</td>\n",
       "      <td>8.0</td>\n",
       "      <td>1.2</td>\n",
       "      <td>2.5</td>\n",
       "      <td>ESE</td>\n",
       "      <td>31.0</td>\n",
       "      <td>NaN</td>\n",
       "      <td>...</td>\n",
       "      <td>97.0</td>\n",
       "      <td>64.0</td>\n",
       "      <td>1026.4</td>\n",
       "      <td>1024.9</td>\n",
       "      <td>7.0</td>\n",
       "      <td>6.0</td>\n",
       "      <td>12.1</td>\n",
       "      <td>18.7</td>\n",
       "      <td>Yes</td>\n",
       "      <td>Yes</td>\n",
       "    </tr>\n",
       "    <tr>\n",
       "      <th>120647</th>\n",
       "      <td>2008-07-10</td>\n",
       "      <td>Perth</td>\n",
       "      <td>11.2</td>\n",
       "      <td>20.4</td>\n",
       "      <td>4.6</td>\n",
       "      <td>2.8</td>\n",
       "      <td>1.7</td>\n",
       "      <td>NNW</td>\n",
       "      <td>46.0</td>\n",
       "      <td>NE</td>\n",
       "      <td>...</td>\n",
       "      <td>79.0</td>\n",
       "      <td>50.0</td>\n",
       "      <td>1020.2</td>\n",
       "      <td>1014.0</td>\n",
       "      <td>7.0</td>\n",
       "      <td>7.0</td>\n",
       "      <td>13.4</td>\n",
       "      <td>19.0</td>\n",
       "      <td>Yes</td>\n",
       "      <td>Yes</td>\n",
       "    </tr>\n",
       "  </tbody>\n",
       "</table>\n",
       "<p>10 rows × 23 columns</p>\n",
       "</div>"
      ],
      "text/plain": [
       "              Date Location  MinTemp  MaxTemp  Rainfall  Evaporation  \\\n",
       "120638  2008-07-01    Perth      2.7     18.8       0.0          0.8   \n",
       "120639  2008-07-02    Perth      6.4     20.7       0.0          1.8   \n",
       "120640  2008-07-03    Perth      6.5     19.9       0.4          2.2   \n",
       "120641  2008-07-04    Perth      9.5     19.2       1.8          1.2   \n",
       "120642  2008-07-05    Perth      9.5     16.4       1.8          1.4   \n",
       "120643  2008-07-06    Perth      0.7     15.9       6.8          2.4   \n",
       "120644  2008-07-07    Perth      0.7     18.3       0.0          0.8   \n",
       "120645  2008-07-08    Perth      3.2     20.4       0.0          1.4   \n",
       "120646  2008-07-09    Perth      9.8     19.5       8.0          1.2   \n",
       "120647  2008-07-10    Perth     11.2     20.4       4.6          2.8   \n",
       "\n",
       "        Sunshine WindGustDir  WindGustSpeed WindDir9am  ... Humidity9am  \\\n",
       "120638       9.1         ENE           20.0        NaN  ...        97.0   \n",
       "120639       7.0          NE           22.0        ESE  ...        80.0   \n",
       "120640       7.3          NE           31.0        NaN  ...        84.0   \n",
       "120641       4.7           W           26.0        NNE  ...        93.0   \n",
       "120642       4.9         WSW           44.0          W  ...        69.0   \n",
       "120643       9.3         NNE           24.0        ENE  ...        86.0   \n",
       "120644       9.3           N           37.0         NE  ...        72.0   \n",
       "120645       6.9         NNW           24.0         NE  ...        58.0   \n",
       "120646       2.5         ESE           31.0        NaN  ...        97.0   \n",
       "120647       1.7         NNW           46.0         NE  ...        79.0   \n",
       "\n",
       "        Humidity3pm  Pressure9am  Pressure3pm  Cloud9am  Cloud3pm  Temp9am  \\\n",
       "120638         53.0       1027.6       1024.5       2.0       3.0      8.5   \n",
       "120639         39.0       1024.1       1019.0       0.0       6.0     11.1   \n",
       "120640         71.0       1016.8       1015.6       1.0       3.0     12.1   \n",
       "120641         73.0       1019.3       1018.4       6.0       6.0     13.2   \n",
       "120642         57.0       1020.4       1022.1       7.0       5.0     15.9   \n",
       "120643         41.0       1032.0       1029.6       0.0       1.0      6.9   \n",
       "120644         36.0       1028.9       1024.2       1.0       5.0      8.7   \n",
       "120645         42.0       1023.9       1021.1       6.0       5.0     10.2   \n",
       "120646         64.0       1026.4       1024.9       7.0       6.0     12.1   \n",
       "120647         50.0       1020.2       1014.0       7.0       7.0     13.4   \n",
       "\n",
       "        Temp3pm  RainToday  RainTomorrow  \n",
       "120638     18.1         No            No  \n",
       "120639     19.7         No            No  \n",
       "120640     17.7         No           Yes  \n",
       "120641     17.7        Yes           Yes  \n",
       "120642     16.0        Yes           Yes  \n",
       "120643     15.5        Yes            No  \n",
       "120644     17.9         No            No  \n",
       "120645     19.3         No           Yes  \n",
       "120646     18.7        Yes           Yes  \n",
       "120647     19.0        Yes           Yes  \n",
       "\n",
       "[10 rows x 23 columns]"
      ]
     },
     "execution_count": 3,
     "metadata": {},
     "output_type": "execute_result"
    }
   ],
   "source": [
    "all_df = pd.read_csv(\"/kaggle/input/weather-dataset-rattle-package/weatherAUS.csv\")\n",
    "\n",
    "# Limit the dataset to Perth records\n",
    "df = all_df[all_df[\"Location\"] == \"Perth\"]\n",
    "df.head(10)"
   ]
  },
  {
   "cell_type": "markdown",
   "id": "158120d9",
   "metadata": {
    "papermill": {
     "duration": 0.005762,
     "end_time": "2022-12-21T12:03:53.593330",
     "exception": false,
     "start_time": "2022-12-21T12:03:53.587568",
     "status": "completed"
    },
    "tags": []
   },
   "source": [
    "# Exploratory Data Analysis"
   ]
  },
  {
   "cell_type": "markdown",
   "id": "b628bd7f",
   "metadata": {
    "papermill": {
     "duration": 0.004312,
     "end_time": "2022-12-21T12:03:53.602829",
     "exception": false,
     "start_time": "2022-12-21T12:03:53.598517",
     "status": "completed"
    },
    "tags": []
   },
   "source": [
    "Let's see how many records and columns there are in the dataset."
   ]
  },
  {
   "cell_type": "code",
   "execution_count": 4,
   "id": "11430a00",
   "metadata": {
    "_kg_hide-input": true,
    "execution": {
     "iopub.execute_input": "2022-12-21T12:03:53.616231Z",
     "iopub.status.busy": "2022-12-21T12:03:53.615109Z",
     "iopub.status.idle": "2022-12-21T12:03:53.621137Z",
     "shell.execute_reply": "2022-12-21T12:03:53.619795Z"
    },
    "papermill": {
     "duration": 0.01612,
     "end_time": "2022-12-21T12:03:53.623581",
     "exception": false,
     "start_time": "2022-12-21T12:03:53.607461",
     "status": "completed"
    },
    "tags": []
   },
   "outputs": [
    {
     "name": "stdout",
     "output_type": "stream",
     "text": [
      "Number of records: 3193\n",
      "Number of columns: 23\n"
     ]
    }
   ],
   "source": [
    "print(f\"Number of records: {df.shape[0]}\")\n",
    "print(f\"Number of columns: {df.shape[1]}\")"
   ]
  },
  {
   "cell_type": "markdown",
   "id": "a317f028",
   "metadata": {
    "papermill": {
     "duration": 0.005023,
     "end_time": "2022-12-21T12:03:53.634473",
     "exception": false,
     "start_time": "2022-12-21T12:03:53.629450",
     "status": "completed"
    },
    "tags": []
   },
   "source": [
    "What are the columns and their properties?"
   ]
  },
  {
   "cell_type": "code",
   "execution_count": 5,
   "id": "fa9650c6",
   "metadata": {
    "execution": {
     "iopub.execute_input": "2022-12-21T12:03:53.649937Z",
     "iopub.status.busy": "2022-12-21T12:03:53.649224Z",
     "iopub.status.idle": "2022-12-21T12:03:53.672889Z",
     "shell.execute_reply": "2022-12-21T12:03:53.671306Z"
    },
    "papermill": {
     "duration": 0.036859,
     "end_time": "2022-12-21T12:03:53.676070",
     "exception": false,
     "start_time": "2022-12-21T12:03:53.639211",
     "status": "completed"
    },
    "tags": []
   },
   "outputs": [
    {
     "name": "stdout",
     "output_type": "stream",
     "text": [
      "<class 'pandas.core.frame.DataFrame'>\n",
      "Int64Index: 3193 entries, 120638 to 123830\n",
      "Data columns (total 23 columns):\n",
      " #   Column         Non-Null Count  Dtype  \n",
      "---  ------         --------------  -----  \n",
      " 0   Date           3193 non-null   object \n",
      " 1   Location       3193 non-null   object \n",
      " 2   MinTemp        3193 non-null   float64\n",
      " 3   MaxTemp        3192 non-null   float64\n",
      " 4   Rainfall       3193 non-null   float64\n",
      " 5   Evaporation    3192 non-null   float64\n",
      " 6   Sunshine       3188 non-null   float64\n",
      " 7   WindGustDir    3188 non-null   object \n",
      " 8   WindGustSpeed  3188 non-null   float64\n",
      " 9   WindDir9am     3059 non-null   object \n",
      " 10  WindDir3pm     3186 non-null   object \n",
      " 11  WindSpeed9am   3193 non-null   float64\n",
      " 12  WindSpeed3pm   3192 non-null   float64\n",
      " 13  Humidity9am    3184 non-null   float64\n",
      " 14  Humidity3pm    3185 non-null   float64\n",
      " 15  Pressure9am    3192 non-null   float64\n",
      " 16  Pressure3pm    3192 non-null   float64\n",
      " 17  Cloud9am       3191 non-null   float64\n",
      " 18  Cloud3pm       3189 non-null   float64\n",
      " 19  Temp9am        3193 non-null   float64\n",
      " 20  Temp3pm        3192 non-null   float64\n",
      " 21  RainToday      3193 non-null   object \n",
      " 22  RainTomorrow   3193 non-null   object \n",
      "dtypes: float64(16), object(7)\n",
      "memory usage: 598.7+ KB\n"
     ]
    }
   ],
   "source": [
    "df.info()"
   ]
  },
  {
   "cell_type": "markdown",
   "id": "3d9ccac6",
   "metadata": {
    "papermill": {
     "duration": 0.004654,
     "end_time": "2022-12-21T12:03:53.686454",
     "exception": false,
     "start_time": "2022-12-21T12:03:53.681800",
     "status": "completed"
    },
    "tags": []
   },
   "source": [
    "The dataset has $23$ columns including the target variable (*RainTomorrow*):\n",
    "* It consists of both numerical (`float64`) and categorical (`object`) features.\n",
    "* Most of the columns have null values which requires addressing later "
   ]
  },
  {
   "cell_type": "markdown",
   "id": "dd9c3ea4",
   "metadata": {
    "papermill": {
     "duration": 0.004949,
     "end_time": "2022-12-21T12:03:53.696427",
     "exception": false,
     "start_time": "2022-12-21T12:03:53.691478",
     "status": "completed"
    },
    "tags": []
   },
   "source": [
    "## Target Variable: RainTomorrow"
   ]
  },
  {
   "cell_type": "markdown",
   "id": "76f249a3",
   "metadata": {
    "papermill": {
     "duration": 0.004591,
     "end_time": "2022-12-21T12:03:53.706011",
     "exception": false,
     "start_time": "2022-12-21T12:03:53.701420",
     "status": "completed"
    },
    "tags": []
   },
   "source": [
    "Let's have a sneak peek ofthe target variable, *RainTomorrow*."
   ]
  },
  {
   "cell_type": "code",
   "execution_count": 6,
   "id": "294d6ed7",
   "metadata": {
    "execution": {
     "iopub.execute_input": "2022-12-21T12:03:53.719177Z",
     "iopub.status.busy": "2022-12-21T12:03:53.718121Z",
     "iopub.status.idle": "2022-12-21T12:03:53.727475Z",
     "shell.execute_reply": "2022-12-21T12:03:53.726378Z"
    },
    "papermill": {
     "duration": 0.019227,
     "end_time": "2022-12-21T12:03:53.730208",
     "exception": false,
     "start_time": "2022-12-21T12:03:53.710981",
     "status": "completed"
    },
    "tags": []
   },
   "outputs": [
    {
     "data": {
      "text/plain": [
       "120638     No\n",
       "120639     No\n",
       "120640    Yes\n",
       "120641    Yes\n",
       "120642    Yes\n",
       "120643     No\n",
       "120644     No\n",
       "120645    Yes\n",
       "120646    Yes\n",
       "120647    Yes\n",
       "120648    Yes\n",
       "120649     No\n",
       "120650     No\n",
       "120651     No\n",
       "120652    Yes\n",
       "Name: RainTomorrow, dtype: object"
      ]
     },
     "execution_count": 6,
     "metadata": {},
     "output_type": "execute_result"
    }
   ],
   "source": [
    "target = df['RainTomorrow']\n",
    "target.head(15)"
   ]
  },
  {
   "cell_type": "markdown",
   "id": "a3e10502",
   "metadata": {
    "papermill": {
     "duration": 0.004872,
     "end_time": "2022-12-21T12:03:53.740236",
     "exception": false,
     "start_time": "2022-12-21T12:03:53.735364",
     "status": "completed"
    },
    "tags": []
   },
   "source": [
    "The target, *RainTomorrow*, is a categorical variable of either **Yes** or **No**."
   ]
  },
  {
   "cell_type": "markdown",
   "id": "dc5993f5",
   "metadata": {
    "papermill": {
     "duration": 0.004733,
     "end_time": "2022-12-21T12:03:53.749967",
     "exception": false,
     "start_time": "2022-12-21T12:03:53.745234",
     "status": "completed"
    },
    "tags": []
   },
   "source": [
    "Let's count the values for each prediction."
   ]
  },
  {
   "cell_type": "code",
   "execution_count": 7,
   "id": "16a3acb1",
   "metadata": {
    "execution": {
     "iopub.execute_input": "2022-12-21T12:03:53.762210Z",
     "iopub.status.busy": "2022-12-21T12:03:53.761339Z",
     "iopub.status.idle": "2022-12-21T12:03:53.769944Z",
     "shell.execute_reply": "2022-12-21T12:03:53.768619Z"
    },
    "papermill": {
     "duration": 0.017284,
     "end_time": "2022-12-21T12:03:53.772344",
     "exception": false,
     "start_time": "2022-12-21T12:03:53.755060",
     "status": "completed"
    },
    "tags": []
   },
   "outputs": [
    {
     "name": "stdout",
     "output_type": "stream",
     "text": [
      "Target (RainTomorrow) Values Count\n",
      " * Yes:\t  645 (20.2%)\n",
      " * No:\t 2548 (79.8%)\n"
     ]
    }
   ],
   "source": [
    "target_count = target.value_counts()\n",
    "\n",
    "yes_percent = float(target_count['Yes'])/len(target) * 100\n",
    "no_percent = float(target_count['No'])/len(target) * 100\n",
    "\n",
    "print('Target (RainTomorrow) Values Count')\n",
    "print(f\" * Yes:\\t{target_count['Yes']:5} ({yes_percent:.1f}%)\")\n",
    "print(f\" * No:\\t{target_count['No']:5} ({(no_percent):.1f}%)\")"
   ]
  },
  {
   "cell_type": "code",
   "execution_count": 8,
   "id": "0251f21c",
   "metadata": {
    "execution": {
     "iopub.execute_input": "2022-12-21T12:03:53.784897Z",
     "iopub.status.busy": "2022-12-21T12:03:53.783602Z",
     "iopub.status.idle": "2022-12-21T12:03:53.961056Z",
     "shell.execute_reply": "2022-12-21T12:03:53.959495Z"
    },
    "papermill": {
     "duration": 0.186383,
     "end_time": "2022-12-21T12:03:53.963757",
     "exception": false,
     "start_time": "2022-12-21T12:03:53.777374",
     "status": "completed"
    },
    "tags": []
   },
   "outputs": [
    {
     "data": {
      "image/png": "[encoded data removed]",
      "text/plain": [
       "<Figure size 864x432 with 1 Axes>"
      ]
     },
     "metadata": {
      "needs_background": "light"
     },
     "output_type": "display_data"
    }
   ],
   "source": [
    "plt.figure(figsize=(12,6))\n",
    "plt.title(\"Rain Tomorrow\", fontweight=\"bold\", fontsize=15)\n",
    "plt.bar(f\"Yes ({yes_percent: .1f}%)\", target_count['Yes'], color=\"blue\")\n",
    "plt.bar(f\"No ({no_percent: .1f}%)\", target_count['No'], color=\"red\")\n",
    "plt.ylabel(\"Record count\", fontweight=\"bold\")\n",
    "plt.show()"
   ]
  },
  {
   "cell_type": "markdown",
   "id": "c6f537a5",
   "metadata": {
    "papermill": {
     "duration": 0.004841,
     "end_time": "2022-12-21T12:03:53.973934",
     "exception": false,
     "start_time": "2022-12-21T12:03:53.969093",
     "status": "completed"
    },
    "tags": []
   },
   "source": [
    "📗 The dataset is highly imbalanced with the **No** prediction being $4$x more thant the **Yes** prediction."
   ]
  }
 ],
 "metadata": {
  "kernelspec": {
   "display_name": "Python 3",
   "language": "python",
   "name": "python3"
  },
  "language_info": {
   "codemirror_mode": {
    "name": "ipython",
    "version": 3
   },
   "file_extension": ".py",
   "mimetype": "text/x-python",
   "name": "python",
   "nbconvert_exporter": "python",
   "pygments_lexer": "ipython3",
   "version": "3.7.12"
  },
  "papermill": {
   "default_parameters": {},
   "duration": 10.49226,
   "end_time": "2022-12-21T12:03:54.701715",
   "environment_variables": {},
   "exception": null,
   "input_path": "__notebook__.ipynb",
   "output_path": "__notebook__.ipynb",
   "parameters": {},
   "start_time": "2022-12-21T12:03:44.209455",
   "version": "2.3.4"
  }
 },
 "nbformat": 4,
 "nbformat_minor": 5
}
