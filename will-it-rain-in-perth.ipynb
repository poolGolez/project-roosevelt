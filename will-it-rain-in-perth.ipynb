{
 "cells": [
  {
   "cell_type": "markdown",
   "id": "1242d011",
   "metadata": {
    "papermill": {
     "duration": 0.032816,
     "end_time": "2022-12-28T13:43:51.756204",
     "exception": false,
     "start_time": "2022-12-28T13:43:51.723388",
     "status": "completed"
    },
    "tags": []
   },
   "source": [
    "# 1. Data Ingestion"
   ]
  },
  {
   "cell_type": "markdown",
   "id": "29bc39d0",
   "metadata": {
    "papermill": {
     "duration": 0.029202,
     "end_time": "2022-12-28T13:43:51.816056",
     "exception": false,
     "start_time": "2022-12-28T13:43:51.786854",
     "status": "completed"
    },
    "tags": []
   },
   "source": [
    "We load the additional libraries needed in this notebook:\n",
    "* `seaborn`\n",
    "* `matplotlib.pyplot`\n",
    "* `scipy`"
   ]
  },
  {
   "cell_type": "code",
   "execution_count": 1,
   "id": "506582ed",
   "metadata": {
    "execution": {
     "iopub.execute_input": "2022-12-28T13:43:51.894304Z",
     "iopub.status.busy": "2022-12-28T13:43:51.893849Z",
     "iopub.status.idle": "2022-12-28T13:43:53.077854Z",
     "shell.execute_reply": "2022-12-28T13:43:53.076740Z"
    },
    "papermill": {
     "duration": 1.227619,
     "end_time": "2022-12-28T13:43:53.080895",
     "exception": false,
     "start_time": "2022-12-28T13:43:51.853276",
     "status": "completed"
    },
    "tags": []
   },
   "outputs": [],
   "source": [
    "import seaborn as sns\n",
    "import matplotlib.pyplot as plt\n",
    "from scipy import stats"
   ]
  },
  {
   "cell_type": "code",
   "execution_count": 2,
   "id": "bc3ed543",
   "metadata": {
    "_cell_guid": "b1076dfc-b9ad-4769-8c92-a6c4dae69d19",
    "_kg_hide-input": true,
    "_kg_hide-output": true,
    "_uuid": "8f2839f25d086af736a60e9eeb907d3b93b6e0e5",
    "execution": {
     "iopub.execute_input": "2022-12-28T13:43:53.142550Z",
     "iopub.status.busy": "2022-12-28T13:43:53.141706Z",
     "iopub.status.idle": "2022-12-28T13:43:53.155748Z",
     "shell.execute_reply": "2022-12-28T13:43:53.154865Z"
    },
    "papermill": {
     "duration": 0.047199,
     "end_time": "2022-12-28T13:43:53.157950",
     "exception": false,
     "start_time": "2022-12-28T13:43:53.110751",
     "status": "completed"
    },
    "tags": []
   },
   "outputs": [
    {
     "name": "stdout",
     "output_type": "stream",
     "text": [
      "/kaggle/input/weather-dataset-rattle-package/weatherAUS.csv\n"
     ]
    }
   ],
   "source": [
    "# This Python 3 environment comes with many helpful analytics libraries installed\n",
    "# It is defined by the kaggle/python Docker image: https://github.com/kaggle/docker-python\n",
    "# For example, here's several helpful packages to load\n",
    "\n",
    "import numpy as np # linear algebra\n",
    "import pandas as pd # data processing, CSV file I/O (e.g. pd.read_csv)\n",
    "\n",
    "# Input data files are available in the read-only \"../input/\" directory\n",
    "# For example, running this (by clicking run or pressing Shift+Enter) will list all files under the input directory\n",
    "\n",
    "import os\n",
    "for dirname, _, filenames in os.walk('/kaggle/input'):\n",
    "    for filename in filenames:\n",
    "        print(os.path.join(dirname, filename))\n",
    "\n",
    "# You can write up to 20GB to the current directory (/kaggle/working/) that gets preserved as output when you create a version using \"Save & Run All\" \n",
    "# You can also write temporary files to /kaggle/temp/, but they won't be saved outside of the current session"
   ]
  },
  {
   "cell_type": "markdown",
   "id": "50df11f5",
   "metadata": {
    "papermill": {
     "duration": 0.029843,
     "end_time": "2022-12-28T13:43:53.218433",
     "exception": false,
     "start_time": "2022-12-28T13:43:53.188590",
     "status": "completed"
    },
    "tags": []
   },
   "source": [
    "We will be only using the data for **Perth** location and  so we filter the dataset accordingly:"
   ]
  },
  {
   "cell_type": "code",
   "execution_count": 3,
   "id": "6f4e4802",
   "metadata": {
    "_kg_hide-input": false,
    "_kg_hide-output": true,
    "execution": {
     "iopub.execute_input": "2022-12-28T13:43:53.282747Z",
     "iopub.status.busy": "2022-12-28T13:43:53.281991Z",
     "iopub.status.idle": "2022-12-28T13:43:53.986338Z",
     "shell.execute_reply": "2022-12-28T13:43:53.985225Z"
    },
    "papermill": {
     "duration": 0.739712,
     "end_time": "2022-12-28T13:43:53.989083",
     "exception": false,
     "start_time": "2022-12-28T13:43:53.249371",
     "status": "completed"
    },
    "tags": []
   },
   "outputs": [
    {
     "data": {
      "text/html": [
       "<div>\n",
       "<style scoped>\n",
       "    .dataframe tbody tr th:only-of-type {\n",
       "        vertical-align: middle;\n",
       "    }\n",
       "\n",
       "    .dataframe tbody tr th {\n",
       "        vertical-align: top;\n",
       "    }\n",
       "\n",
       "    .dataframe thead th {\n",
       "        text-align: right;\n",
       "    }\n",
       "</style>\n",
       "<table border=\"1\" class=\"dataframe\">\n",
       "  <thead>\n",
       "    <tr style=\"text-align: right;\">\n",
       "      <th></th>\n",
       "      <th>Date</th>\n",
       "      <th>Location</th>\n",
       "      <th>MinTemp</th>\n",
       "      <th>MaxTemp</th>\n",
       "      <th>Rainfall</th>\n",
       "      <th>Evaporation</th>\n",
       "      <th>Sunshine</th>\n",
       "      <th>WindGustDir</th>\n",
       "      <th>WindGustSpeed</th>\n",
       "      <th>WindDir9am</th>\n",
       "      <th>...</th>\n",
       "      <th>Humidity9am</th>\n",
       "      <th>Humidity3pm</th>\n",
       "      <th>Pressure9am</th>\n",
       "      <th>Pressure3pm</th>\n",
       "      <th>Cloud9am</th>\n",
       "      <th>Cloud3pm</th>\n",
       "      <th>Temp9am</th>\n",
       "      <th>Temp3pm</th>\n",
       "      <th>RainToday</th>\n",
       "      <th>RainTomorrow</th>\n",
       "    </tr>\n",
       "  </thead>\n",
       "  <tbody>\n",
       "    <tr>\n",
       "      <th>120638</th>\n",
       "      <td>2008-07-01</td>\n",
       "      <td>Perth</td>\n",
       "      <td>2.7</td>\n",
       "      <td>18.8</td>\n",
       "      <td>0.0</td>\n",
       "      <td>0.8</td>\n",
       "      <td>9.1</td>\n",
       "      <td>ENE</td>\n",
       "      <td>20.0</td>\n",
       "      <td>NaN</td>\n",
       "      <td>...</td>\n",
       "      <td>97.0</td>\n",
       "      <td>53.0</td>\n",
       "      <td>1027.6</td>\n",
       "      <td>1024.5</td>\n",
       "      <td>2.0</td>\n",
       "      <td>3.0</td>\n",
       "      <td>8.5</td>\n",
       "      <td>18.1</td>\n",
       "      <td>No</td>\n",
       "      <td>No</td>\n",
       "    </tr>\n",
       "    <tr>\n",
       "      <th>120639</th>\n",
       "      <td>2008-07-02</td>\n",
       "      <td>Perth</td>\n",
       "      <td>6.4</td>\n",
       "      <td>20.7</td>\n",
       "      <td>0.0</td>\n",
       "      <td>1.8</td>\n",
       "      <td>7.0</td>\n",
       "      <td>NE</td>\n",
       "      <td>22.0</td>\n",
       "      <td>ESE</td>\n",
       "      <td>...</td>\n",
       "      <td>80.0</td>\n",
       "      <td>39.0</td>\n",
       "      <td>1024.1</td>\n",
       "      <td>1019.0</td>\n",
       "      <td>0.0</td>\n",
       "      <td>6.0</td>\n",
       "      <td>11.1</td>\n",
       "      <td>19.7</td>\n",
       "      <td>No</td>\n",
       "      <td>No</td>\n",
       "    </tr>\n",
       "    <tr>\n",
       "      <th>120640</th>\n",
       "      <td>2008-07-03</td>\n",
       "      <td>Perth</td>\n",
       "      <td>6.5</td>\n",
       "      <td>19.9</td>\n",
       "      <td>0.4</td>\n",
       "      <td>2.2</td>\n",
       "      <td>7.3</td>\n",
       "      <td>NE</td>\n",
       "      <td>31.0</td>\n",
       "      <td>NaN</td>\n",
       "      <td>...</td>\n",
       "      <td>84.0</td>\n",
       "      <td>71.0</td>\n",
       "      <td>1016.8</td>\n",
       "      <td>1015.6</td>\n",
       "      <td>1.0</td>\n",
       "      <td>3.0</td>\n",
       "      <td>12.1</td>\n",
       "      <td>17.7</td>\n",
       "      <td>No</td>\n",
       "      <td>Yes</td>\n",
       "    </tr>\n",
       "    <tr>\n",
       "      <th>120641</th>\n",
       "      <td>2008-07-04</td>\n",
       "      <td>Perth</td>\n",
       "      <td>9.5</td>\n",
       "      <td>19.2</td>\n",
       "      <td>1.8</td>\n",
       "      <td>1.2</td>\n",
       "      <td>4.7</td>\n",
       "      <td>W</td>\n",
       "      <td>26.0</td>\n",
       "      <td>NNE</td>\n",
       "      <td>...</td>\n",
       "      <td>93.0</td>\n",
       "      <td>73.0</td>\n",
       "      <td>1019.3</td>\n",
       "      <td>1018.4</td>\n",
       "      <td>6.0</td>\n",
       "      <td>6.0</td>\n",
       "      <td>13.2</td>\n",
       "      <td>17.7</td>\n",
       "      <td>Yes</td>\n",
       "      <td>Yes</td>\n",
       "    </tr>\n",
       "    <tr>\n",
       "      <th>120642</th>\n",
       "      <td>2008-07-05</td>\n",
       "      <td>Perth</td>\n",
       "      <td>9.5</td>\n",
       "      <td>16.4</td>\n",
       "      <td>1.8</td>\n",
       "      <td>1.4</td>\n",
       "      <td>4.9</td>\n",
       "      <td>WSW</td>\n",
       "      <td>44.0</td>\n",
       "      <td>W</td>\n",
       "      <td>...</td>\n",
       "      <td>69.0</td>\n",
       "      <td>57.0</td>\n",
       "      <td>1020.4</td>\n",
       "      <td>1022.1</td>\n",
       "      <td>7.0</td>\n",
       "      <td>5.0</td>\n",
       "      <td>15.9</td>\n",
       "      <td>16.0</td>\n",
       "      <td>Yes</td>\n",
       "      <td>Yes</td>\n",
       "    </tr>\n",
       "    <tr>\n",
       "      <th>120643</th>\n",
       "      <td>2008-07-06</td>\n",
       "      <td>Perth</td>\n",
       "      <td>0.7</td>\n",
       "      <td>15.9</td>\n",
       "      <td>6.8</td>\n",
       "      <td>2.4</td>\n",
       "      <td>9.3</td>\n",
       "      <td>NNE</td>\n",
       "      <td>24.0</td>\n",
       "      <td>ENE</td>\n",
       "      <td>...</td>\n",
       "      <td>86.0</td>\n",
       "      <td>41.0</td>\n",
       "      <td>1032.0</td>\n",
       "      <td>1029.6</td>\n",
       "      <td>0.0</td>\n",
       "      <td>1.0</td>\n",
       "      <td>6.9</td>\n",
       "      <td>15.5</td>\n",
       "      <td>Yes</td>\n",
       "      <td>No</td>\n",
       "    </tr>\n",
       "    <tr>\n",
       "      <th>120644</th>\n",
       "      <td>2008-07-07</td>\n",
       "      <td>Perth</td>\n",
       "      <td>0.7</td>\n",
       "      <td>18.3</td>\n",
       "      <td>0.0</td>\n",
       "      <td>0.8</td>\n",
       "      <td>9.3</td>\n",
       "      <td>N</td>\n",
       "      <td>37.0</td>\n",
       "      <td>NE</td>\n",
       "      <td>...</td>\n",
       "      <td>72.0</td>\n",
       "      <td>36.0</td>\n",
       "      <td>1028.9</td>\n",
       "      <td>1024.2</td>\n",
       "      <td>1.0</td>\n",
       "      <td>5.0</td>\n",
       "      <td>8.7</td>\n",
       "      <td>17.9</td>\n",
       "      <td>No</td>\n",
       "      <td>No</td>\n",
       "    </tr>\n",
       "    <tr>\n",
       "      <th>120645</th>\n",
       "      <td>2008-07-08</td>\n",
       "      <td>Perth</td>\n",
       "      <td>3.2</td>\n",
       "      <td>20.4</td>\n",
       "      <td>0.0</td>\n",
       "      <td>1.4</td>\n",
       "      <td>6.9</td>\n",
       "      <td>NNW</td>\n",
       "      <td>24.0</td>\n",
       "      <td>NE</td>\n",
       "      <td>...</td>\n",
       "      <td>58.0</td>\n",
       "      <td>42.0</td>\n",
       "      <td>1023.9</td>\n",
       "      <td>1021.1</td>\n",
       "      <td>6.0</td>\n",
       "      <td>5.0</td>\n",
       "      <td>10.2</td>\n",
       "      <td>19.3</td>\n",
       "      <td>No</td>\n",
       "      <td>Yes</td>\n",
       "    </tr>\n",
       "    <tr>\n",
       "      <th>120646</th>\n",
       "      <td>2008-07-09</td>\n",
       "      <td>Perth</td>\n",
       "      <td>9.8</td>\n",
       "      <td>19.5</td>\n",
       "      <td>8.0</td>\n",
       "      <td>1.2</td>\n",
       "      <td>2.5</td>\n",
       "      <td>ESE</td>\n",
       "      <td>31.0</td>\n",
       "      <td>NaN</td>\n",
       "      <td>...</td>\n",
       "      <td>97.0</td>\n",
       "      <td>64.0</td>\n",
       "      <td>1026.4</td>\n",
       "      <td>1024.9</td>\n",
       "      <td>7.0</td>\n",
       "      <td>6.0</td>\n",
       "      <td>12.1</td>\n",
       "      <td>18.7</td>\n",
       "      <td>Yes</td>\n",
       "      <td>Yes</td>\n",
       "    </tr>\n",
       "    <tr>\n",
       "      <th>120647</th>\n",
       "      <td>2008-07-10</td>\n",
       "      <td>Perth</td>\n",
       "      <td>11.2</td>\n",
       "      <td>20.4</td>\n",
       "      <td>4.6</td>\n",
       "      <td>2.8</td>\n",
       "      <td>1.7</td>\n",
       "      <td>NNW</td>\n",
       "      <td>46.0</td>\n",
       "      <td>NE</td>\n",
       "      <td>...</td>\n",
       "      <td>79.0</td>\n",
       "      <td>50.0</td>\n",
       "      <td>1020.2</td>\n",
       "      <td>1014.0</td>\n",
       "      <td>7.0</td>\n",
       "      <td>7.0</td>\n",
       "      <td>13.4</td>\n",
       "      <td>19.0</td>\n",
       "      <td>Yes</td>\n",
       "      <td>Yes</td>\n",
       "    </tr>\n",
       "  </tbody>\n",
       "</table>\n",
       "<p>10 rows × 23 columns</p>\n",
       "</div>"
      ],
      "text/plain": [
       "              Date Location  MinTemp  MaxTemp  Rainfall  Evaporation  \\\n",
       "120638  2008-07-01    Perth      2.7     18.8       0.0          0.8   \n",
       "120639  2008-07-02    Perth      6.4     20.7       0.0          1.8   \n",
       "120640  2008-07-03    Perth      6.5     19.9       0.4          2.2   \n",
       "120641  2008-07-04    Perth      9.5     19.2       1.8          1.2   \n",
       "120642  2008-07-05    Perth      9.5     16.4       1.8          1.4   \n",
       "120643  2008-07-06    Perth      0.7     15.9       6.8          2.4   \n",
       "120644  2008-07-07    Perth      0.7     18.3       0.0          0.8   \n",
       "120645  2008-07-08    Perth      3.2     20.4       0.0          1.4   \n",
       "120646  2008-07-09    Perth      9.8     19.5       8.0          1.2   \n",
       "120647  2008-07-10    Perth     11.2     20.4       4.6          2.8   \n",
       "\n",
       "        Sunshine WindGustDir  WindGustSpeed WindDir9am  ... Humidity9am  \\\n",
       "120638       9.1         ENE           20.0        NaN  ...        97.0   \n",
       "120639       7.0          NE           22.0        ESE  ...        80.0   \n",
       "120640       7.3          NE           31.0        NaN  ...        84.0   \n",
       "120641       4.7           W           26.0        NNE  ...        93.0   \n",
       "120642       4.9         WSW           44.0          W  ...        69.0   \n",
       "120643       9.3         NNE           24.0        ENE  ...        86.0   \n",
       "120644       9.3           N           37.0         NE  ...        72.0   \n",
       "120645       6.9         NNW           24.0         NE  ...        58.0   \n",
       "120646       2.5         ESE           31.0        NaN  ...        97.0   \n",
       "120647       1.7         NNW           46.0         NE  ...        79.0   \n",
       "\n",
       "        Humidity3pm  Pressure9am  Pressure3pm  Cloud9am  Cloud3pm  Temp9am  \\\n",
       "120638         53.0       1027.6       1024.5       2.0       3.0      8.5   \n",
       "120639         39.0       1024.1       1019.0       0.0       6.0     11.1   \n",
       "120640         71.0       1016.8       1015.6       1.0       3.0     12.1   \n",
       "120641         73.0       1019.3       1018.4       6.0       6.0     13.2   \n",
       "120642         57.0       1020.4       1022.1       7.0       5.0     15.9   \n",
       "120643         41.0       1032.0       1029.6       0.0       1.0      6.9   \n",
       "120644         36.0       1028.9       1024.2       1.0       5.0      8.7   \n",
       "120645         42.0       1023.9       1021.1       6.0       5.0     10.2   \n",
       "120646         64.0       1026.4       1024.9       7.0       6.0     12.1   \n",
       "120647         50.0       1020.2       1014.0       7.0       7.0     13.4   \n",
       "\n",
       "        Temp3pm  RainToday  RainTomorrow  \n",
       "120638     18.1         No            No  \n",
       "120639     19.7         No            No  \n",
       "120640     17.7         No           Yes  \n",
       "120641     17.7        Yes           Yes  \n",
       "120642     16.0        Yes           Yes  \n",
       "120643     15.5        Yes            No  \n",
       "120644     17.9         No            No  \n",
       "120645     19.3         No           Yes  \n",
       "120646     18.7        Yes           Yes  \n",
       "120647     19.0        Yes           Yes  \n",
       "\n",
       "[10 rows x 23 columns]"
      ]
     },
     "execution_count": 3,
     "metadata": {},
     "output_type": "execute_result"
    }
   ],
   "source": [
    "all_df = pd.read_csv(\"/kaggle/input/weather-dataset-rattle-package/weatherAUS.csv\")\n",
    "\n",
    "# Limit the dataset to Perth records\n",
    "df = all_df[all_df[\"Location\"] == \"Perth\"]\n",
    "df.head(10)"
   ]
  },
  {
   "cell_type": "markdown",
   "id": "b50c4ed1",
   "metadata": {
    "papermill": {
     "duration": 0.030918,
     "end_time": "2022-12-28T13:43:54.052269",
     "exception": false,
     "start_time": "2022-12-28T13:43:54.021351",
     "status": "completed"
    },
    "tags": []
   },
   "source": [
    "# 2. Exploratory Data Analysis\n",
    "\n",
    "📙 **SUMMARY**\n",
    "* The dataset contains $3,193$ records and $23$ columns including the target variable.\n",
    "* The features include both numerical and categorical values."
   ]
  },
  {
   "cell_type": "markdown",
   "id": "c5c974a7",
   "metadata": {
    "papermill": {
     "duration": 0.030594,
     "end_time": "2022-12-28T13:43:54.113861",
     "exception": false,
     "start_time": "2022-12-28T13:43:54.083267",
     "status": "completed"
    },
    "tags": []
   },
   "source": [
    "Let's see how many records and columns there are in the dataset."
   ]
  },
  {
   "cell_type": "code",
   "execution_count": 4,
   "id": "2ecfa5d0",
   "metadata": {
    "_kg_hide-input": true,
    "execution": {
     "iopub.execute_input": "2022-12-28T13:43:54.177322Z",
     "iopub.status.busy": "2022-12-28T13:43:54.176916Z",
     "iopub.status.idle": "2022-12-28T13:43:54.182828Z",
     "shell.execute_reply": "2022-12-28T13:43:54.181677Z"
    },
    "papermill": {
     "duration": 0.042006,
     "end_time": "2022-12-28T13:43:54.186726",
     "exception": false,
     "start_time": "2022-12-28T13:43:54.144720",
     "status": "completed"
    },
    "tags": []
   },
   "outputs": [
    {
     "name": "stdout",
     "output_type": "stream",
     "text": [
      "Number of records: 3193\n",
      "Number of columns: 23\n"
     ]
    }
   ],
   "source": [
    "print(f\"Number of records: {df.shape[0]}\")\n",
    "print(f\"Number of columns: {df.shape[1]}\")"
   ]
  },
  {
   "cell_type": "markdown",
   "id": "d9b5a4b9",
   "metadata": {
    "papermill": {
     "duration": 0.029783,
     "end_time": "2022-12-28T13:43:54.247243",
     "exception": false,
     "start_time": "2022-12-28T13:43:54.217460",
     "status": "completed"
    },
    "tags": []
   },
   "source": [
    "What are the columns and their properties?"
   ]
  },
  {
   "cell_type": "code",
   "execution_count": 5,
   "id": "058930a6",
   "metadata": {
    "execution": {
     "iopub.execute_input": "2022-12-28T13:43:54.309154Z",
     "iopub.status.busy": "2022-12-28T13:43:54.308740Z",
     "iopub.status.idle": "2022-12-28T13:43:54.337234Z",
     "shell.execute_reply": "2022-12-28T13:43:54.335717Z"
    },
    "papermill": {
     "duration": 0.06267,
     "end_time": "2022-12-28T13:43:54.340024",
     "exception": false,
     "start_time": "2022-12-28T13:43:54.277354",
     "status": "completed"
    },
    "tags": []
   },
   "outputs": [
    {
     "name": "stdout",
     "output_type": "stream",
     "text": [
      "<class 'pandas.core.frame.DataFrame'>\n",
      "Int64Index: 3193 entries, 120638 to 123830\n",
      "Data columns (total 23 columns):\n",
      " #   Column         Non-Null Count  Dtype  \n",
      "---  ------         --------------  -----  \n",
      " 0   Date           3193 non-null   object \n",
      " 1   Location       3193 non-null   object \n",
      " 2   MinTemp        3193 non-null   float64\n",
      " 3   MaxTemp        3192 non-null   float64\n",
      " 4   Rainfall       3193 non-null   float64\n",
      " 5   Evaporation    3192 non-null   float64\n",
      " 6   Sunshine       3188 non-null   float64\n",
      " 7   WindGustDir    3188 non-null   object \n",
      " 8   WindGustSpeed  3188 non-null   float64\n",
      " 9   WindDir9am     3059 non-null   object \n",
      " 10  WindDir3pm     3186 non-null   object \n",
      " 11  WindSpeed9am   3193 non-null   float64\n",
      " 12  WindSpeed3pm   3192 non-null   float64\n",
      " 13  Humidity9am    3184 non-null   float64\n",
      " 14  Humidity3pm    3185 non-null   float64\n",
      " 15  Pressure9am    3192 non-null   float64\n",
      " 16  Pressure3pm    3192 non-null   float64\n",
      " 17  Cloud9am       3191 non-null   float64\n",
      " 18  Cloud3pm       3189 non-null   float64\n",
      " 19  Temp9am        3193 non-null   float64\n",
      " 20  Temp3pm        3192 non-null   float64\n",
      " 21  RainToday      3193 non-null   object \n",
      " 22  RainTomorrow   3193 non-null   object \n",
      "dtypes: float64(16), object(7)\n",
      "memory usage: 598.7+ KB\n"
     ]
    }
   ],
   "source": [
    "df.info()"
   ]
  },
  {
   "cell_type": "markdown",
   "id": "514f682e",
   "metadata": {
    "papermill": {
     "duration": 0.030284,
     "end_time": "2022-12-28T13:43:54.400967",
     "exception": false,
     "start_time": "2022-12-28T13:43:54.370683",
     "status": "completed"
    },
    "tags": []
   },
   "source": [
    "🔖 The dataset has $23$ columns including the target variable (*RainTomorrow*):\n",
    "* It consists of both numerical (`float64`) and categorical (`object`) features.\n",
    "* Most of the columns have null values which requires addressing later "
   ]
  },
  {
   "cell_type": "markdown",
   "id": "a44803c8",
   "metadata": {
    "papermill": {
     "duration": 0.029946,
     "end_time": "2022-12-28T13:43:54.461271",
     "exception": false,
     "start_time": "2022-12-28T13:43:54.431325",
     "status": "completed"
    },
    "tags": []
   },
   "source": [
    "# _2.1 Target Variable: RainTomorrow\n",
    "\n",
    "📙 **SUMMARY**\n",
    "* The target variable has two possible values: **Yes** and **No**.\n",
    "* The dataset is **highly imbalanced**:\n",
    " * **Yes** - $645$ ($20.2\\%$) records\n",
    " * **No** - $2,548$ ($79.8\\%$) records"
   ]
  },
  {
   "cell_type": "markdown",
   "id": "7a8fbd76",
   "metadata": {
    "papermill": {
     "duration": 0.030478,
     "end_time": "2022-12-28T13:43:54.523530",
     "exception": false,
     "start_time": "2022-12-28T13:43:54.493052",
     "status": "completed"
    },
    "tags": []
   },
   "source": [
    "Let's have a sneak peek ofthe target variable, *RainTomorrow*."
   ]
  },
  {
   "cell_type": "code",
   "execution_count": 6,
   "id": "6602f946",
   "metadata": {
    "execution": {
     "iopub.execute_input": "2022-12-28T13:43:54.586687Z",
     "iopub.status.busy": "2022-12-28T13:43:54.585696Z",
     "iopub.status.idle": "2022-12-28T13:43:54.593502Z",
     "shell.execute_reply": "2022-12-28T13:43:54.592459Z"
    },
    "papermill": {
     "duration": 0.041913,
     "end_time": "2022-12-28T13:43:54.595829",
     "exception": false,
     "start_time": "2022-12-28T13:43:54.553916",
     "status": "completed"
    },
    "tags": []
   },
   "outputs": [
    {
     "data": {
      "text/plain": [
       "120638     No\n",
       "120639     No\n",
       "120640    Yes\n",
       "120641    Yes\n",
       "120642    Yes\n",
       "120643     No\n",
       "120644     No\n",
       "120645    Yes\n",
       "120646    Yes\n",
       "120647    Yes\n",
       "120648    Yes\n",
       "120649     No\n",
       "120650     No\n",
       "120651     No\n",
       "120652    Yes\n",
       "Name: RainTomorrow, dtype: object"
      ]
     },
     "execution_count": 6,
     "metadata": {},
     "output_type": "execute_result"
    }
   ],
   "source": [
    "target = df['RainTomorrow']\n",
    "target.head(15)"
   ]
  },
  {
   "cell_type": "markdown",
   "id": "225c67d3",
   "metadata": {
    "papermill": {
     "duration": 0.030521,
     "end_time": "2022-12-28T13:43:54.658132",
     "exception": false,
     "start_time": "2022-12-28T13:43:54.627611",
     "status": "completed"
    },
    "tags": []
   },
   "source": [
    "The target, *RainTomorrow*, is a categorical variable of either **Yes** or **No**."
   ]
  },
  {
   "cell_type": "markdown",
   "id": "c33a6f3c",
   "metadata": {
    "papermill": {
     "duration": 0.031197,
     "end_time": "2022-12-28T13:43:54.720553",
     "exception": false,
     "start_time": "2022-12-28T13:43:54.689356",
     "status": "completed"
    },
    "tags": []
   },
   "source": [
    "Let's count the values for each prediction."
   ]
  },
  {
   "cell_type": "code",
   "execution_count": 7,
   "id": "63f681e5",
   "metadata": {
    "execution": {
     "iopub.execute_input": "2022-12-28T13:43:54.785230Z",
     "iopub.status.busy": "2022-12-28T13:43:54.784543Z",
     "iopub.status.idle": "2022-12-28T13:43:54.793107Z",
     "shell.execute_reply": "2022-12-28T13:43:54.791518Z"
    },
    "papermill": {
     "duration": 0.044808,
     "end_time": "2022-12-28T13:43:54.795811",
     "exception": false,
     "start_time": "2022-12-28T13:43:54.751003",
     "status": "completed"
    },
    "tags": []
   },
   "outputs": [
    {
     "name": "stdout",
     "output_type": "stream",
     "text": [
      "Target (RainTomorrow) Values Count\n",
      " * Yes:\t  645 (20.2%)\n",
      " * No:\t 2548 (79.8%)\n"
     ]
    }
   ],
   "source": [
    "target_count = target.value_counts()\n",
    "\n",
    "yes_percent = float(target_count['Yes'])/len(target) * 100\n",
    "no_percent = float(target_count['No'])/len(target) * 100\n",
    "\n",
    "print('Target (RainTomorrow) Values Count')\n",
    "print(f\" * Yes:\\t{target_count['Yes']:5} ({yes_percent:.1f}%)\")\n",
    "print(f\" * No:\\t{target_count['No']:5} ({(no_percent):.1f}%)\")"
   ]
  },
  {
   "cell_type": "code",
   "execution_count": 8,
   "id": "f732487a",
   "metadata": {
    "execution": {
     "iopub.execute_input": "2022-12-28T13:43:54.860016Z",
     "iopub.status.busy": "2022-12-28T13:43:54.859394Z",
     "iopub.status.idle": "2022-12-28T13:43:55.077941Z",
     "shell.execute_reply": "2022-12-28T13:43:55.076688Z"
    },
    "papermill": {
     "duration": 0.253571,
     "end_time": "2022-12-28T13:43:55.080582",
     "exception": false,
     "start_time": "2022-12-28T13:43:54.827011",
     "status": "completed"
    },
    "tags": []
   },
   "outputs": [
    {
     "data": {
      "image/png": "[encoded data removed]",
      "text/plain": [
       "<Figure size 864x432 with 1 Axes>"
      ]
     },
     "metadata": {
      "needs_background": "light"
     },
     "output_type": "display_data"
    }
   ],
   "source": [
    "plt.figure(figsize=(12,6))\n",
    "plt.title(\"Rain Tomorrow\", fontweight=\"bold\", fontsize=15)\n",
    "plt.bar(f\"Yes ({yes_percent: .1f}%)\", target_count['Yes'], color=\"blue\")\n",
    "plt.bar(f\"No ({no_percent: .1f}%)\", target_count['No'], color=\"red\")\n",
    "plt.ylabel(\"Record count\", fontweight=\"bold\")\n",
    "plt.show()"
   ]
  },
  {
   "cell_type": "markdown",
   "id": "461b68e9",
   "metadata": {
    "papermill": {
     "duration": 0.03191,
     "end_time": "2022-12-28T13:43:55.144046",
     "exception": false,
     "start_time": "2022-12-28T13:43:55.112136",
     "status": "completed"
    },
    "tags": []
   },
   "source": [
    "🔖 The dataset is highly imbalanced with the **No** prediction being $4$x more than the **Yes** prediction."
   ]
  },
  {
   "cell_type": "markdown",
   "id": "11474a2a",
   "metadata": {
    "papermill": {
     "duration": 0.03219,
     "end_time": "2022-12-28T13:43:55.209077",
     "exception": false,
     "start_time": "2022-12-28T13:43:55.176887",
     "status": "completed"
    },
    "tags": []
   },
   "source": [
    "# _2.2 Numerical Features\n",
    "\n",
    "More details regarding the features can be found [on this website](http://www.bom.gov.au/climate/dwo/IDCJDW0000.shtml).\n",
    "\n",
    "📙 **SUMMARY**\n",
    "* *TODO*"
   ]
  },
  {
   "cell_type": "markdown",
   "id": "47694adf",
   "metadata": {
    "papermill": {
     "duration": 0.030754,
     "end_time": "2022-12-28T13:43:55.271503",
     "exception": false,
     "start_time": "2022-12-28T13:43:55.240749",
     "status": "completed"
    },
    "tags": []
   },
   "source": [
    "Let's select the numerical columns from the dataset and an overview visualization."
   ]
  },
  {
   "cell_type": "code",
   "execution_count": 9,
   "id": "9d3e4693",
   "metadata": {
    "execution": {
     "iopub.execute_input": "2022-12-28T13:43:55.335496Z",
     "iopub.status.busy": "2022-12-28T13:43:55.335042Z",
     "iopub.status.idle": "2022-12-28T13:43:55.344162Z",
     "shell.execute_reply": "2022-12-28T13:43:55.343025Z"
    },
    "papermill": {
     "duration": 0.043835,
     "end_time": "2022-12-28T13:43:55.346351",
     "exception": false,
     "start_time": "2022-12-28T13:43:55.302516",
     "status": "completed"
    },
    "tags": []
   },
   "outputs": [
    {
     "data": {
      "text/plain": [
       "Index(['MinTemp', 'MaxTemp', 'Rainfall', 'Evaporation', 'Sunshine',\n",
       "       'WindGustSpeed', 'WindSpeed9am', 'WindSpeed3pm', 'Humidity9am',\n",
       "       'Humidity3pm', 'Pressure9am', 'Pressure3pm', 'Cloud9am', 'Cloud3pm',\n",
       "       'Temp9am', 'Temp3pm'],\n",
       "      dtype='object')"
      ]
     },
     "execution_count": 9,
     "metadata": {},
     "output_type": "execute_result"
    }
   ],
   "source": [
    "num_df = df.select_dtypes(include=[np.float64])\n",
    "num_df.columns"
   ]
  },
  {
   "cell_type": "code",
   "execution_count": 10,
   "id": "247837a4",
   "metadata": {
    "execution": {
     "iopub.execute_input": "2022-12-28T13:43:55.410103Z",
     "iopub.status.busy": "2022-12-28T13:43:55.409702Z",
     "iopub.status.idle": "2022-12-28T13:43:57.870026Z",
     "shell.execute_reply": "2022-12-28T13:43:57.868742Z"
    },
    "papermill": {
     "duration": 2.495182,
     "end_time": "2022-12-28T13:43:57.872519",
     "exception": false,
     "start_time": "2022-12-28T13:43:55.377337",
     "status": "completed"
    },
    "tags": []
   },
   "outputs": [
    {
     "data": {
      "text/plain": [
       "<Figure size 432x288 with 0 Axes>"
      ]
     },
     "execution_count": 10,
     "metadata": {},
     "output_type": "execute_result"
    },
    {
     "data": {
      "image/png": "[encoded data removed]",
      "text/plain": [
       "<Figure size 1440x864 with 16 Axes>"
      ]
     },
     "metadata": {
      "needs_background": "light"
     },
     "output_type": "display_data"
    },
    {
     "data": {
      "text/plain": [
       "<Figure size 432x288 with 0 Axes>"
      ]
     },
     "metadata": {},
     "output_type": "display_data"
    }
   ],
   "source": [
    "num_df.hist(figsize=(20,12))\n",
    "plt.figure()\n",
    "# plt.show()"
   ]
  },
  {
   "cell_type": "markdown",
   "id": "e66d861f",
   "metadata": {
    "papermill": {
     "duration": 0.03184,
     "end_time": "2022-12-28T13:43:57.936640",
     "exception": false,
     "start_time": "2022-12-28T13:43:57.904800",
     "status": "completed"
    },
    "tags": []
   },
   "source": [
    "The **Cloud-\\*** histogram seems to have a discontinuous distribution to it. Upon perusal [on the guide](http://www.bom.gov.au/climate/dwo/IDCJDW0000.shtml), it seems that this feature is expressed in `eighth` units.\n",
    "\n",
    "Let's revisualize this histogram, splitting it to $8$ bins this time."
   ]
  },
  {
   "cell_type": "code",
   "execution_count": 11,
   "id": "21a2d6c5",
   "metadata": {
    "execution": {
     "iopub.execute_input": "2022-12-28T13:43:58.004828Z",
     "iopub.status.busy": "2022-12-28T13:43:58.003628Z",
     "iopub.status.idle": "2022-12-28T13:43:58.325762Z",
     "shell.execute_reply": "2022-12-28T13:43:58.324547Z"
    },
    "papermill": {
     "duration": 0.35855,
     "end_time": "2022-12-28T13:43:58.328578",
     "exception": false,
     "start_time": "2022-12-28T13:43:57.970028",
     "status": "completed"
    },
    "tags": []
   },
   "outputs": [
    {
     "data": {
      "image/png": "[encoded data removed]",
      "text/plain": [
       "<Figure size 720x216 with 2 Axes>"
      ]
     },
     "metadata": {
      "needs_background": "light"
     },
     "output_type": "display_data"
    }
   ],
   "source": [
    "num_df.hist(column=['Cloud9am', 'Cloud3pm'], bins=8, figsize=(10,3))\n",
    "plt.show()"
   ]
  },
  {
   "cell_type": "markdown",
   "id": "20d5eaab",
   "metadata": {
    "papermill": {
     "duration": 0.032499,
     "end_time": "2022-12-28T13:43:58.393534",
     "exception": false,
     "start_time": "2022-12-28T13:43:58.361035",
     "status": "completed"
    },
    "tags": []
   },
   "source": [
    "### Temperature\n",
    "\n",
    "📙 **SUMMARY**"
   ]
  },
  {
   "cell_type": "markdown",
   "id": "3ca586c3",
   "metadata": {
    "papermill": {
     "duration": 0.032069,
     "end_time": "2022-12-28T13:43:58.458049",
     "exception": false,
     "start_time": "2022-12-28T13:43:58.425980",
     "status": "completed"
    },
    "tags": []
   },
   "source": [
    "Let's extract information from and visualize the temperature features. The temperature is expressed in `$^\\circ$C."
   ]
  },
  {
   "cell_type": "code",
   "execution_count": 12,
   "id": "30685ec2",
   "metadata": {
    "execution": {
     "iopub.execute_input": "2022-12-28T13:43:58.524839Z",
     "iopub.status.busy": "2022-12-28T13:43:58.524420Z",
     "iopub.status.idle": "2022-12-28T13:43:58.949185Z",
     "shell.execute_reply": "2022-12-28T13:43:58.947887Z"
    },
    "papermill": {
     "duration": 0.46116,
     "end_time": "2022-12-28T13:43:58.951572",
     "exception": false,
     "start_time": "2022-12-28T13:43:58.490412",
     "status": "completed"
    },
    "tags": []
   },
   "outputs": [
    {
     "data": {
      "text/html": [
       "<div>\n",
       "<style scoped>\n",
       "    .dataframe tbody tr th:only-of-type {\n",
       "        vertical-align: middle;\n",
       "    }\n",
       "\n",
       "    .dataframe tbody tr th {\n",
       "        vertical-align: top;\n",
       "    }\n",
       "\n",
       "    .dataframe thead th {\n",
       "        text-align: right;\n",
       "    }\n",
       "</style>\n",
       "<table border=\"1\" class=\"dataframe\">\n",
       "  <thead>\n",
       "    <tr style=\"text-align: right;\">\n",
       "      <th></th>\n",
       "      <th>count</th>\n",
       "      <th>mean</th>\n",
       "      <th>std</th>\n",
       "      <th>min</th>\n",
       "      <th>25%</th>\n",
       "      <th>50%</th>\n",
       "      <th>75%</th>\n",
       "      <th>max</th>\n",
       "    </tr>\n",
       "  </thead>\n",
       "  <tbody>\n",
       "    <tr>\n",
       "      <th>MinTemp</th>\n",
       "      <td>3193.0</td>\n",
       "      <td>12.922706</td>\n",
       "      <td>5.087817</td>\n",
       "      <td>-0.6</td>\n",
       "      <td>9.2</td>\n",
       "      <td>13.1</td>\n",
       "      <td>16.6</td>\n",
       "      <td>29.7</td>\n",
       "    </tr>\n",
       "    <tr>\n",
       "      <th>MaxTemp</th>\n",
       "      <td>3192.0</td>\n",
       "      <td>25.034837</td>\n",
       "      <td>6.115454</td>\n",
       "      <td>12.8</td>\n",
       "      <td>20.2</td>\n",
       "      <td>23.9</td>\n",
       "      <td>29.4</td>\n",
       "      <td>44.4</td>\n",
       "    </tr>\n",
       "  </tbody>\n",
       "</table>\n",
       "</div>"
      ],
      "text/plain": [
       "          count       mean       std   min   25%   50%   75%   max\n",
       "MinTemp  3193.0  12.922706  5.087817  -0.6   9.2  13.1  16.6  29.7\n",
       "MaxTemp  3192.0  25.034837  6.115454  12.8  20.2  23.9  29.4  44.4"
      ]
     },
     "execution_count": 12,
     "metadata": {},
     "output_type": "execute_result"
    },
    {
     "data": {
      "image/png": "[encoded data removed]",
      "text/plain": [
       "<Figure size 720x216 with 2 Axes>"
      ]
     },
     "metadata": {
      "needs_background": "light"
     },
     "output_type": "display_data"
    }
   ],
   "source": [
    "temp_df = num_df[['MinTemp','MaxTemp']]\n",
    "temp_df.hist(figsize=(10,3))\n",
    "temp_df.describe().transpose()"
   ]
  },
  {
   "cell_type": "markdown",
   "id": "79d4147f",
   "metadata": {
    "papermill": {
     "duration": 0.032334,
     "end_time": "2022-12-28T13:43:59.017022",
     "exception": false,
     "start_time": "2022-12-28T13:43:58.984688",
     "status": "completed"
    },
    "tags": []
   },
   "source": [
    "It seems like **MaxTemp** is negatively skewed. Let's compute the skewness for both features.\n",
    "\n",
    "Note: The distribution is skewed is if it goes below $-0.5$ or beyond $0.5$."
   ]
  },
  {
   "cell_type": "code",
   "execution_count": 13,
   "id": "3173baf9",
   "metadata": {
    "execution": {
     "iopub.execute_input": "2022-12-28T13:43:59.084758Z",
     "iopub.status.busy": "2022-12-28T13:43:59.084186Z",
     "iopub.status.idle": "2022-12-28T13:43:59.092694Z",
     "shell.execute_reply": "2022-12-28T13:43:59.091033Z"
    },
    "papermill": {
     "duration": 0.046436,
     "end_time": "2022-12-28T13:43:59.096091",
     "exception": false,
     "start_time": "2022-12-28T13:43:59.049655",
     "status": "completed"
    },
    "tags": []
   },
   "outputs": [
    {
     "name": "stdout",
     "output_type": "stream",
     "text": [
      "MinTemp skewness: -0.08\n",
      "MaxTemp skewness: 0.58\n"
     ]
    }
   ],
   "source": [
    "print(f\"MinTemp skewness: {num_df['MinTemp'].skew():.2f}\")\n",
    "print(f\"MaxTemp skewness: {num_df['MaxTemp'].skew():.2f}\")"
   ]
  },
  {
   "cell_type": "code",
   "execution_count": 14,
   "id": "78edce1b",
   "metadata": {
    "execution": {
     "iopub.execute_input": "2022-12-28T13:43:59.165697Z",
     "iopub.status.busy": "2022-12-28T13:43:59.165168Z",
     "iopub.status.idle": "2022-12-28T13:43:59.176268Z",
     "shell.execute_reply": "2022-12-28T13:43:59.175452Z"
    },
    "papermill": {
     "duration": 0.047994,
     "end_time": "2022-12-28T13:43:59.178413",
     "exception": false,
     "start_time": "2022-12-28T13:43:59.130419",
     "status": "completed"
    },
    "tags": []
   },
   "outputs": [
    {
     "data": {
      "text/plain": [
       "122570    29.7\n",
       "Name: MinTemp, dtype: float64"
      ]
     },
     "execution_count": 14,
     "metadata": {},
     "output_type": "execute_result"
    }
   ],
   "source": [
    "mintemp_df = num_df['MinTemp']\n",
    "outliers = mintemp_df[np.abs(stats.zscore(mintemp_df)) > 3]\n",
    "outliers"
   ]
  },
  {
   "cell_type": "code",
   "execution_count": 15,
   "id": "35a68b5e",
   "metadata": {
    "execution": {
     "iopub.execute_input": "2022-12-28T13:43:59.250055Z",
     "iopub.status.busy": "2022-12-28T13:43:59.249328Z",
     "iopub.status.idle": "2022-12-28T13:43:59.454841Z",
     "shell.execute_reply": "2022-12-28T13:43:59.453769Z"
    },
    "papermill": {
     "duration": 0.243904,
     "end_time": "2022-12-28T13:43:59.457627",
     "exception": false,
     "start_time": "2022-12-28T13:43:59.213723",
     "status": "completed"
    },
    "tags": []
   },
   "outputs": [
    {
     "name": "stdout",
     "output_type": "stream",
     "text": [
      "MinTemp outlier count: 2\n",
      "MaxTemp outlier count: 2\n"
     ]
    },
    {
     "data": {
      "image/png": "[encoded data removed]",
      "text/plain": [
       "<Figure size 432x288 with 1 Axes>"
      ]
     },
     "metadata": {
      "needs_background": "light"
     },
     "output_type": "display_data"
    }
   ],
   "source": [
    "def extract_outliers(series):\n",
    "    result = dict()\n",
    "    col = series.dropna()\n",
    "    mean = col.mean()\n",
    "    [q3, q1] = np.percentile(col, [75,25])\n",
    "    iqr = np.subtract(q3, q1)\n",
    "\n",
    "    boundary = q3 + (1.5 * iqr)\n",
    "    return col[col > boundary]\n",
    "\n",
    "temp_df.boxplot()\n",
    "min_temp_outliers = extract_outliers(num_df['MinTemp'])\n",
    "max_temp_outliers = extract_outliers(num_df['MaxTemp'])\n",
    "\n",
    "print(f\"MinTemp outlier count: {len(min_temp_outliers)}\")\n",
    "print(f\"MaxTemp outlier count: {len(max_temp_outliers)}\")"
   ]
  },
  {
   "cell_type": "code",
   "execution_count": 16,
   "id": "c9c4c097",
   "metadata": {
    "execution": {
     "iopub.execute_input": "2022-12-28T13:43:59.527831Z",
     "iopub.status.busy": "2022-12-28T13:43:59.527388Z",
     "iopub.status.idle": "2022-12-28T13:43:59.815720Z",
     "shell.execute_reply": "2022-12-28T13:43:59.814485Z"
    },
    "papermill": {
     "duration": 0.327065,
     "end_time": "2022-12-28T13:43:59.818482",
     "exception": false,
     "start_time": "2022-12-28T13:43:59.491417",
     "status": "completed"
    },
    "tags": []
   },
   "outputs": [
    {
     "data": {
      "image/png": "[encoded data removed]",
      "text/plain": [
       "<Figure size 864x216 with 1 Axes>"
      ]
     },
     "metadata": {
      "needs_background": "light"
     },
     "output_type": "display_data"
    }
   ],
   "source": [
    "plt.figure(figsize=(12,3))\n",
    "sns.boxplot(x=df['MaxTemp'], y=df['RainToday'], hue=df['RainTomorrow'])\n",
    "plt.show()"
   ]
  },
  {
   "cell_type": "code",
   "execution_count": 17,
   "id": "9dc0c0d5",
   "metadata": {
    "execution": {
     "iopub.execute_input": "2022-12-28T13:43:59.887835Z",
     "iopub.status.busy": "2022-12-28T13:43:59.887021Z",
     "iopub.status.idle": "2022-12-28T13:43:59.895254Z",
     "shell.execute_reply": "2022-12-28T13:43:59.894344Z"
    },
    "papermill": {
     "duration": 0.04552,
     "end_time": "2022-12-28T13:43:59.897567",
     "exception": false,
     "start_time": "2022-12-28T13:43:59.852047",
     "status": "completed"
    },
    "tags": []
   },
   "outputs": [],
   "source": [
    "# Create common method to identify outliers\n",
    "def identify_outliers(df, column):\n",
    "    no_missing = df[ ~df[column].isna() ][column]\n",
    "    perc_75, perc_25 = np.percentile(no_missing, [75, 25])\n",
    "    iqr = perc_75 - perc_25\n",
    "\n",
    "    upper_boundary = perc_75 + (1.5 * iqr)\n",
    "    high_outliers = no_missing[no_missing > upper_boundary]\n",
    "    \n",
    "    lower_boundary = perc_25 - (1.5 * iqr)\n",
    "    low_outliers = no_missing[no_missing < lower_boundary]\n",
    "    \n",
    "    outliers = low_outliers.append(high_outliers)\n",
    "    \n",
    "    print(f\"Number of outlier data points ({column}): {len(outliers)}\")\n",
    "    print(f\"Unique value count: ({len(outliers.value_counts().keys().unique())} unique values)\")\n",
    "    print(f\"Outliers counts:\")\n",
    "    for value, count in outliers.value_counts().items():\n",
    "        print(f\"  {value}\", \"\\t\", f\"{count} occurrence(s)\")\n"
   ]
  },
  {
   "cell_type": "markdown",
   "id": "7381b872",
   "metadata": {
    "papermill": {
     "duration": 0.035795,
     "end_time": "2022-12-28T13:43:59.967269",
     "exception": false,
     "start_time": "2022-12-28T13:43:59.931474",
     "status": "completed"
    },
    "tags": []
   },
   "source": [
    "Let's revisit the missing values for the feature once again."
   ]
  },
  {
   "cell_type": "code",
   "execution_count": 18,
   "id": "b0ab9a72",
   "metadata": {
    "execution": {
     "iopub.execute_input": "2022-12-28T13:44:00.036858Z",
     "iopub.status.busy": "2022-12-28T13:44:00.036035Z",
     "iopub.status.idle": "2022-12-28T13:44:00.044712Z",
     "shell.execute_reply": "2022-12-28T13:44:00.043463Z"
    },
    "papermill": {
     "duration": 0.046027,
     "end_time": "2022-12-28T13:44:00.047038",
     "exception": false,
     "start_time": "2022-12-28T13:44:00.001011",
     "status": "completed"
    },
    "tags": []
   },
   "outputs": [
    {
     "name": "stdout",
     "output_type": "stream",
     "text": [
      "MinTemp missing values: 0 (0.00%)\n",
      "MaxTemp missing values: 1 (0.03%)\n"
     ]
    }
   ],
   "source": [
    "missing_min_temp = num_df['MinTemp'].isna().sum()\n",
    "missing_min_temp_perc = float(missing_min_temp)/len(num_df['MinTemp'])\n",
    "print(f\"MinTemp missing values: {missing_min_temp} ({missing_min_temp_perc:.2f}%)\")\n",
    "\n",
    "missing_max_temp = num_df['MaxTemp'].isna().sum()\n",
    "missing_max_temp_perc = float(missing_max_temp)/len(num_df['MaxTemp'])\n",
    "print(f\"MaxTemp missing values: {missing_max_temp} ({missing_max_temp_perc * 100:.2f}%)\")"
   ]
  },
  {
   "cell_type": "markdown",
   "id": "1350b3d5",
   "metadata": {
    "papermill": {
     "duration": 0.033871,
     "end_time": "2022-12-28T13:44:00.116533",
     "exception": false,
     "start_time": "2022-12-28T13:44:00.082662",
     "status": "completed"
    },
    "tags": []
   },
   "source": [
    "🔖 **Temperature feature observations**\n",
    "\n",
    "**MinTemp**:\n",
    " * The distribution is almost **symmetric** (`skewness` = $0.08$).\n",
    " * There are $2$ outliers in the dataset.\n",
    " \n",
    "**MaxTemp**\n",
    " * The distribution is **positively skewed** (`skewness` = $0.58$).\n",
    " * There are $2$ outliers in the dataset."
   ]
  },
  {
   "cell_type": "markdown",
   "id": "9d25ba47",
   "metadata": {
    "papermill": {
     "duration": 0.034511,
     "end_time": "2022-12-28T13:44:00.185800",
     "exception": false,
     "start_time": "2022-12-28T13:44:00.151289",
     "status": "completed"
    },
    "tags": []
   },
   "source": [
    "### __Rainfall\n",
    "\n",
    "📙 **SUMMARY**\n",
    "* The values represent the precipitation in the 24 hours to 9am and are expressed in **mm**.\n",
    "* There are no missing values for the *Rainfall* attribute.\n",
    "* The distribution is exponential.\n",
    "* The dataset is dominated by $0.0$ values (more than $70\\%$).\n"
   ]
  },
  {
   "cell_type": "markdown",
   "id": "fa98c989",
   "metadata": {
    "papermill": {
     "duration": 0.033778,
     "end_time": "2022-12-28T13:44:00.253862",
     "exception": false,
     "start_time": "2022-12-28T13:44:00.220084",
     "status": "completed"
    },
    "tags": []
   },
   "source": [
    "The attribute represents the precipitation within 24 hours and are expressed in **mm**. The values are in interleaved by $0.2$ units."
   ]
  },
  {
   "cell_type": "code",
   "execution_count": 19,
   "id": "200dad92",
   "metadata": {
    "_kg_hide-input": true,
    "execution": {
     "iopub.execute_input": "2022-12-28T13:44:00.323013Z",
     "iopub.status.busy": "2022-12-28T13:44:00.322545Z",
     "iopub.status.idle": "2022-12-28T13:44:00.333575Z",
     "shell.execute_reply": "2022-12-28T13:44:00.332759Z"
    },
    "papermill": {
     "duration": 0.048076,
     "end_time": "2022-12-28T13:44:00.335554",
     "exception": false,
     "start_time": "2022-12-28T13:44:00.287478",
     "status": "completed"
    },
    "tags": []
   },
   "outputs": [
    {
     "data": {
      "text/html": [
       "<div>\n",
       "<style scoped>\n",
       "    .dataframe tbody tr th:only-of-type {\n",
       "        vertical-align: middle;\n",
       "    }\n",
       "\n",
       "    .dataframe tbody tr th {\n",
       "        vertical-align: top;\n",
       "    }\n",
       "\n",
       "    .dataframe thead th {\n",
       "        text-align: right;\n",
       "    }\n",
       "</style>\n",
       "<table border=\"1\" class=\"dataframe\">\n",
       "  <thead>\n",
       "    <tr style=\"text-align: right;\">\n",
       "      <th></th>\n",
       "      <th>Rainfall</th>\n",
       "    </tr>\n",
       "  </thead>\n",
       "  <tbody>\n",
       "    <tr>\n",
       "      <th>120638</th>\n",
       "      <td>0.0</td>\n",
       "    </tr>\n",
       "    <tr>\n",
       "      <th>120639</th>\n",
       "      <td>0.0</td>\n",
       "    </tr>\n",
       "    <tr>\n",
       "      <th>120640</th>\n",
       "      <td>0.4</td>\n",
       "    </tr>\n",
       "    <tr>\n",
       "      <th>120641</th>\n",
       "      <td>1.8</td>\n",
       "    </tr>\n",
       "    <tr>\n",
       "      <th>120642</th>\n",
       "      <td>1.8</td>\n",
       "    </tr>\n",
       "    <tr>\n",
       "      <th>120643</th>\n",
       "      <td>6.8</td>\n",
       "    </tr>\n",
       "    <tr>\n",
       "      <th>120644</th>\n",
       "      <td>0.0</td>\n",
       "    </tr>\n",
       "    <tr>\n",
       "      <th>120645</th>\n",
       "      <td>0.0</td>\n",
       "    </tr>\n",
       "    <tr>\n",
       "      <th>120646</th>\n",
       "      <td>8.0</td>\n",
       "    </tr>\n",
       "    <tr>\n",
       "      <th>120647</th>\n",
       "      <td>4.6</td>\n",
       "    </tr>\n",
       "  </tbody>\n",
       "</table>\n",
       "</div>"
      ],
      "text/plain": [
       "        Rainfall\n",
       "120638       0.0\n",
       "120639       0.0\n",
       "120640       0.4\n",
       "120641       1.8\n",
       "120642       1.8\n",
       "120643       6.8\n",
       "120644       0.0\n",
       "120645       0.0\n",
       "120646       8.0\n",
       "120647       4.6"
      ]
     },
     "execution_count": 19,
     "metadata": {},
     "output_type": "execute_result"
    }
   ],
   "source": [
    "rainfall_df = num_df['Rainfall']\n",
    "pd.DataFrame(rainfall_df).head(10)"
   ]
  },
  {
   "cell_type": "markdown",
   "id": "60a4fd43",
   "metadata": {
    "papermill": {
     "duration": 0.033985,
     "end_time": "2022-12-28T13:44:00.404253",
     "exception": false,
     "start_time": "2022-12-28T13:44:00.370268",
     "status": "completed"
    },
    "tags": []
   },
   "source": [
    "There are no missing values for the *Rainfall* attribute."
   ]
  },
  {
   "cell_type": "code",
   "execution_count": 20,
   "id": "2c1594db",
   "metadata": {
    "_kg_hide-input": true,
    "execution": {
     "iopub.execute_input": "2022-12-28T13:44:00.474360Z",
     "iopub.status.busy": "2022-12-28T13:44:00.473622Z",
     "iopub.status.idle": "2022-12-28T13:44:00.480262Z",
     "shell.execute_reply": "2022-12-28T13:44:00.479255Z"
    },
    "papermill": {
     "duration": 0.044777,
     "end_time": "2022-12-28T13:44:00.482987",
     "exception": false,
     "start_time": "2022-12-28T13:44:00.438210",
     "status": "completed"
    },
    "tags": []
   },
   "outputs": [
    {
     "name": "stdout",
     "output_type": "stream",
     "text": [
      "Missing Rainfall values: 0 (0.00%)\n"
     ]
    }
   ],
   "source": [
    "missing_rainfall_count = rainfall_df.isna().sum()\n",
    "missing_rainfall_perc = rainfall_df.isna().sum() / float(len(rainfall_df))\n",
    "\n",
    "print(f\"Missing Rainfall values: {missing_rainfall_count} ({missing_rainfall_perc:.2f}%)\")"
   ]
  },
  {
   "cell_type": "markdown",
   "id": "b7cc0b58",
   "metadata": {
    "papermill": {
     "duration": 0.033567,
     "end_time": "2022-12-28T13:44:00.551611",
     "exception": false,
     "start_time": "2022-12-28T13:44:00.518044",
     "status": "completed"
    },
    "tags": []
   },
   "source": [
    "The data ranges from $0.0$ to $114.4$ with a mean of $1.91$ and a standard deviation of $5.79$."
   ]
  },
  {
   "cell_type": "code",
   "execution_count": 21,
   "id": "87fc3953",
   "metadata": {
    "_kg_hide-input": true,
    "execution": {
     "iopub.execute_input": "2022-12-28T13:44:00.621530Z",
     "iopub.status.busy": "2022-12-28T13:44:00.620841Z",
     "iopub.status.idle": "2022-12-28T13:44:00.639418Z",
     "shell.execute_reply": "2022-12-28T13:44:00.638209Z"
    },
    "papermill": {
     "duration": 0.056334,
     "end_time": "2022-12-28T13:44:00.641876",
     "exception": false,
     "start_time": "2022-12-28T13:44:00.585542",
     "status": "completed"
    },
    "tags": []
   },
   "outputs": [
    {
     "data": {
      "text/html": [
       "<div>\n",
       "<style scoped>\n",
       "    .dataframe tbody tr th:only-of-type {\n",
       "        vertical-align: middle;\n",
       "    }\n",
       "\n",
       "    .dataframe tbody tr th {\n",
       "        vertical-align: top;\n",
       "    }\n",
       "\n",
       "    .dataframe thead th {\n",
       "        text-align: right;\n",
       "    }\n",
       "</style>\n",
       "<table border=\"1\" class=\"dataframe\">\n",
       "  <thead>\n",
       "    <tr style=\"text-align: right;\">\n",
       "      <th></th>\n",
       "      <th>count</th>\n",
       "      <th>mean</th>\n",
       "      <th>std</th>\n",
       "      <th>min</th>\n",
       "      <th>25%</th>\n",
       "      <th>50%</th>\n",
       "      <th>75%</th>\n",
       "      <th>max</th>\n",
       "    </tr>\n",
       "  </thead>\n",
       "  <tbody>\n",
       "    <tr>\n",
       "      <th>Rainfall</th>\n",
       "      <td>3193.0</td>\n",
       "      <td>1.906295</td>\n",
       "      <td>5.78995</td>\n",
       "      <td>0.0</td>\n",
       "      <td>0.0</td>\n",
       "      <td>0.0</td>\n",
       "      <td>0.2</td>\n",
       "      <td>114.4</td>\n",
       "    </tr>\n",
       "  </tbody>\n",
       "</table>\n",
       "</div>"
      ],
      "text/plain": [
       "           count      mean      std  min  25%  50%  75%    max\n",
       "Rainfall  3193.0  1.906295  5.78995  0.0  0.0  0.0  0.2  114.4"
      ]
     },
     "execution_count": 21,
     "metadata": {},
     "output_type": "execute_result"
    }
   ],
   "source": [
    "pd.DataFrame(rainfall_df).describe().transpose()"
   ]
  },
  {
   "cell_type": "markdown",
   "id": "de73750a",
   "metadata": {
    "papermill": {
     "duration": 0.03442,
     "end_time": "2022-12-28T13:44:00.710823",
     "exception": false,
     "start_time": "2022-12-28T13:44:00.676403",
     "status": "completed"
    },
    "tags": []
   },
   "source": [
    "The *Rainfall* data follows the exponential distribution, making it positively skewed."
   ]
  },
  {
   "cell_type": "code",
   "execution_count": 22,
   "id": "db8d12ca",
   "metadata": {
    "_kg_hide-input": true,
    "execution": {
     "iopub.execute_input": "2022-12-28T13:44:00.781284Z",
     "iopub.status.busy": "2022-12-28T13:44:00.780863Z",
     "iopub.status.idle": "2022-12-28T13:44:01.112165Z",
     "shell.execute_reply": "2022-12-28T13:44:01.111032Z"
    },
    "papermill": {
     "duration": 0.369901,
     "end_time": "2022-12-28T13:44:01.114798",
     "exception": false,
     "start_time": "2022-12-28T13:44:00.744897",
     "status": "completed"
    },
    "tags": []
   },
   "outputs": [
    {
     "data": {
      "image/png": "[encoded data removed]",
      "text/plain": [
       "<Figure size 1440x432 with 2 Axes>"
      ]
     },
     "metadata": {
      "needs_background": "light"
     },
     "output_type": "display_data"
    }
   ],
   "source": [
    "fig, axes = plt.subplots(1, 2, figsize=(20, 6))\n",
    "\n",
    "rainfall_df.hist(ax=axes[0])\n",
    "axes[0].set_title(\"Rainfall Distribution\")\n",
    "\n",
    "sns.boxplot(ax=axes[1], x=rainfall_df)\n",
    "axes[1].set_title(\"Rainfall Boxplot\")\n",
    "\n",
    "plt.show()"
   ]
  },
  {
   "cell_type": "code",
   "execution_count": 23,
   "id": "0e3d33af",
   "metadata": {
    "_kg_hide-input": true,
    "execution": {
     "iopub.execute_input": "2022-12-28T13:44:01.187011Z",
     "iopub.status.busy": "2022-12-28T13:44:01.186598Z",
     "iopub.status.idle": "2022-12-28T13:44:01.193796Z",
     "shell.execute_reply": "2022-12-28T13:44:01.192531Z"
    },
    "papermill": {
     "duration": 0.047031,
     "end_time": "2022-12-28T13:44:01.196598",
     "exception": false,
     "start_time": "2022-12-28T13:44:01.149567",
     "status": "completed"
    },
    "tags": []
   },
   "outputs": [
    {
     "name": "stdout",
     "output_type": "stream",
     "text": [
      "Skewness of Rainfall: 6.14\n"
     ]
    }
   ],
   "source": [
    "skewness = rainfall_df.skew()\n",
    "\n",
    "print(f\"Skewness of Rainfall: {skewness:.2f}\")"
   ]
  },
  {
   "cell_type": "markdown",
   "id": "5ba42660",
   "metadata": {
    "papermill": {
     "duration": 0.034188,
     "end_time": "2022-12-28T13:44:01.265316",
     "exception": false,
     "start_time": "2022-12-28T13:44:01.231128",
     "status": "completed"
    },
    "tags": []
   },
   "source": [
    "In the dataset, the value $0.0$ comprises more than $70\\%$ of the the dataset."
   ]
  },
  {
   "cell_type": "code",
   "execution_count": 24,
   "id": "023d429b",
   "metadata": {
    "_kg_hide-input": true,
    "execution": {
     "iopub.execute_input": "2022-12-28T13:44:01.337640Z",
     "iopub.status.busy": "2022-12-28T13:44:01.337212Z",
     "iopub.status.idle": "2022-12-28T13:44:01.352800Z",
     "shell.execute_reply": "2022-12-28T13:44:01.351405Z"
    },
    "papermill": {
     "duration": 0.054769,
     "end_time": "2022-12-28T13:44:01.355579",
     "exception": false,
     "start_time": "2022-12-28T13:44:01.300810",
     "status": "completed"
    },
    "tags": []
   },
   "outputs": [
    {
     "name": "stdout",
     "output_type": "stream",
     "text": [
      "Top 10 Rainfall value occurences:\n"
     ]
    },
    {
     "data": {
      "text/plain": [
       "0.0    0.718133\n",
       "0.2    0.033824\n",
       "0.4    0.016599\n",
       "0.6    0.011588\n",
       "0.8    0.009396\n",
       "1.2    0.009082\n",
       "1.0    0.008456\n",
       "2.6    0.006264\n",
       "1.6    0.005951\n",
       "2.8    0.005637\n",
       "Name: Rainfall, dtype: float64"
      ]
     },
     "execution_count": 24,
     "metadata": {},
     "output_type": "execute_result"
    }
   ],
   "source": [
    "print(\"Top 10 Rainfall value occurences:\")\n",
    "value_count_perc = rainfall_df.value_counts()/len(rainfall_df)\n",
    "value_count_perc.sort_values(ascending=False, inplace=True)\n",
    "value_count_perc.iloc[:10]"
   ]
  },
  {
   "cell_type": "markdown",
   "id": "c223cdf6",
   "metadata": {
    "papermill": {
     "duration": 0.034623,
     "end_time": "2022-12-28T13:44:01.426079",
     "exception": false,
     "start_time": "2022-12-28T13:44:01.391456",
     "status": "completed"
    },
    "tags": []
   },
   "source": []
  },
  {
   "cell_type": "markdown",
   "id": "affc73d6",
   "metadata": {
    "papermill": {
     "duration": 0.034519,
     "end_time": "2022-12-28T13:44:01.495396",
     "exception": false,
     "start_time": "2022-12-28T13:44:01.460877",
     "status": "completed"
    },
    "tags": []
   },
   "source": [
    "### __Evaporation\n",
    "\n",
    "📙 **SUMMARY**\n",
    "* The values are expressed in **mm**.\n",
    "* There is only $1$ missing value for this attribute.\n",
    "* The distribution is positively skewed at `skewness` = $0.54$.\n",
    "* There is $1$ outlier value in the dataset: $17.0$."
   ]
  },
  {
   "cell_type": "markdown",
   "id": "583c9876",
   "metadata": {
    "papermill": {
     "duration": 0.034456,
     "end_time": "2022-12-28T13:44:01.564625",
     "exception": false,
     "start_time": "2022-12-28T13:44:01.530169",
     "status": "completed"
    },
    "tags": []
   },
   "source": [
    "The *Evaporation* data represents the evaporation level in **mm** measured using the standard *Class A Evaporation Pan* within $24$ hours from 9AM. The values are rounded up to the nearest $0.2$ mm."
   ]
  },
  {
   "cell_type": "code",
   "execution_count": 25,
   "id": "87da7864",
   "metadata": {
    "_kg_hide-input": true,
    "execution": {
     "iopub.execute_input": "2022-12-28T13:44:01.705912Z",
     "iopub.status.busy": "2022-12-28T13:44:01.705516Z",
     "iopub.status.idle": "2022-12-28T13:44:01.717099Z",
     "shell.execute_reply": "2022-12-28T13:44:01.715980Z"
    },
    "papermill": {
     "duration": 0.120053,
     "end_time": "2022-12-28T13:44:01.719321",
     "exception": false,
     "start_time": "2022-12-28T13:44:01.599268",
     "status": "completed"
    },
    "tags": []
   },
   "outputs": [
    {
     "data": {
      "text/html": [
       "<div>\n",
       "<style scoped>\n",
       "    .dataframe tbody tr th:only-of-type {\n",
       "        vertical-align: middle;\n",
       "    }\n",
       "\n",
       "    .dataframe tbody tr th {\n",
       "        vertical-align: top;\n",
       "    }\n",
       "\n",
       "    .dataframe thead th {\n",
       "        text-align: right;\n",
       "    }\n",
       "</style>\n",
       "<table border=\"1\" class=\"dataframe\">\n",
       "  <thead>\n",
       "    <tr style=\"text-align: right;\">\n",
       "      <th></th>\n",
       "      <th>Evaporation</th>\n",
       "    </tr>\n",
       "  </thead>\n",
       "  <tbody>\n",
       "    <tr>\n",
       "      <th>120638</th>\n",
       "      <td>0.8</td>\n",
       "    </tr>\n",
       "    <tr>\n",
       "      <th>120639</th>\n",
       "      <td>1.8</td>\n",
       "    </tr>\n",
       "    <tr>\n",
       "      <th>120640</th>\n",
       "      <td>2.2</td>\n",
       "    </tr>\n",
       "    <tr>\n",
       "      <th>120641</th>\n",
       "      <td>1.2</td>\n",
       "    </tr>\n",
       "    <tr>\n",
       "      <th>120642</th>\n",
       "      <td>1.4</td>\n",
       "    </tr>\n",
       "    <tr>\n",
       "      <th>120643</th>\n",
       "      <td>2.4</td>\n",
       "    </tr>\n",
       "    <tr>\n",
       "      <th>120644</th>\n",
       "      <td>0.8</td>\n",
       "    </tr>\n",
       "    <tr>\n",
       "      <th>120645</th>\n",
       "      <td>1.4</td>\n",
       "    </tr>\n",
       "    <tr>\n",
       "      <th>120646</th>\n",
       "      <td>1.2</td>\n",
       "    </tr>\n",
       "    <tr>\n",
       "      <th>120647</th>\n",
       "      <td>2.8</td>\n",
       "    </tr>\n",
       "  </tbody>\n",
       "</table>\n",
       "</div>"
      ],
      "text/plain": [
       "        Evaporation\n",
       "120638          0.8\n",
       "120639          1.8\n",
       "120640          2.2\n",
       "120641          1.2\n",
       "120642          1.4\n",
       "120643          2.4\n",
       "120644          0.8\n",
       "120645          1.4\n",
       "120646          1.2\n",
       "120647          2.8"
      ]
     },
     "execution_count": 25,
     "metadata": {},
     "output_type": "execute_result"
    }
   ],
   "source": [
    "evap_df = df['Evaporation']\n",
    "pd.DataFrame(evap_df).head(10)"
   ]
  },
  {
   "cell_type": "markdown",
   "id": "b80ce20d",
   "metadata": {
    "papermill": {
     "duration": 0.034839,
     "end_time": "2022-12-28T13:44:01.789185",
     "exception": false,
     "start_time": "2022-12-28T13:44:01.754346",
     "status": "completed"
    },
    "tags": []
   },
   "source": [
    "There's only $1$ missing value for the *Evaporation* attribute."
   ]
  },
  {
   "cell_type": "code",
   "execution_count": 26,
   "id": "0f29c6df",
   "metadata": {
    "_kg_hide-input": true,
    "execution": {
     "iopub.execute_input": "2022-12-28T13:44:01.862382Z",
     "iopub.status.busy": "2022-12-28T13:44:01.861390Z",
     "iopub.status.idle": "2022-12-28T13:44:01.867865Z",
     "shell.execute_reply": "2022-12-28T13:44:01.866881Z"
    },
    "papermill": {
     "duration": 0.045405,
     "end_time": "2022-12-28T13:44:01.870187",
     "exception": false,
     "start_time": "2022-12-28T13:44:01.824782",
     "status": "completed"
    },
    "tags": []
   },
   "outputs": [
    {
     "name": "stdout",
     "output_type": "stream",
     "text": [
      "Missing evaporation values: 1 (0.0003%)\n"
     ]
    }
   ],
   "source": [
    "missing_evap_count = evap_df.isna().sum()\n",
    "missing_evap_perc = missing_evap_count / len(evap_df)\n",
    "\n",
    "print(f\"Missing evaporation values: {missing_evap_count} ({missing_evap_perc:.4f}%)\")"
   ]
  },
  {
   "cell_type": "markdown",
   "id": "d7a197d7",
   "metadata": {
    "papermill": {
     "duration": 0.035821,
     "end_time": "2022-12-28T13:44:01.942488",
     "exception": false,
     "start_time": "2022-12-28T13:44:01.906667",
     "status": "completed"
    },
    "tags": []
   },
   "source": [
    "The values range from $0.0$ to $17.0$ with a mean of $5.61$ and a standard deviation of $3.42$."
   ]
  },
  {
   "cell_type": "code",
   "execution_count": 27,
   "id": "aaf5d6c1",
   "metadata": {
    "_kg_hide-input": true,
    "execution": {
     "iopub.execute_input": "2022-12-28T13:44:02.017518Z",
     "iopub.status.busy": "2022-12-28T13:44:02.016361Z",
     "iopub.status.idle": "2022-12-28T13:44:02.037757Z",
     "shell.execute_reply": "2022-12-28T13:44:02.036279Z"
    },
    "papermill": {
     "duration": 0.061411,
     "end_time": "2022-12-28T13:44:02.040706",
     "exception": false,
     "start_time": "2022-12-28T13:44:01.979295",
     "status": "completed"
    },
    "tags": []
   },
   "outputs": [
    {
     "data": {
      "text/html": [
       "<div>\n",
       "<style scoped>\n",
       "    .dataframe tbody tr th:only-of-type {\n",
       "        vertical-align: middle;\n",
       "    }\n",
       "\n",
       "    .dataframe tbody tr th {\n",
       "        vertical-align: top;\n",
       "    }\n",
       "\n",
       "    .dataframe thead th {\n",
       "        text-align: right;\n",
       "    }\n",
       "</style>\n",
       "<table border=\"1\" class=\"dataframe\">\n",
       "  <thead>\n",
       "    <tr style=\"text-align: right;\">\n",
       "      <th></th>\n",
       "      <th>count</th>\n",
       "      <th>mean</th>\n",
       "      <th>std</th>\n",
       "      <th>min</th>\n",
       "      <th>25%</th>\n",
       "      <th>50%</th>\n",
       "      <th>75%</th>\n",
       "      <th>max</th>\n",
       "    </tr>\n",
       "  </thead>\n",
       "  <tbody>\n",
       "    <tr>\n",
       "      <th>Evaporation</th>\n",
       "      <td>3192.0</td>\n",
       "      <td>5.606579</td>\n",
       "      <td>3.422893</td>\n",
       "      <td>0.0</td>\n",
       "      <td>2.6</td>\n",
       "      <td>4.8</td>\n",
       "      <td>8.2</td>\n",
       "      <td>17.0</td>\n",
       "    </tr>\n",
       "  </tbody>\n",
       "</table>\n",
       "</div>"
      ],
      "text/plain": [
       "              count      mean       std  min  25%  50%  75%   max\n",
       "Evaporation  3192.0  5.606579  3.422893  0.0  2.6  4.8  8.2  17.0"
      ]
     },
     "execution_count": 27,
     "metadata": {},
     "output_type": "execute_result"
    }
   ],
   "source": [
    "pd.DataFrame(evap_df).describe().transpose()"
   ]
  },
  {
   "cell_type": "markdown",
   "id": "bf40f1e9",
   "metadata": {
    "papermill": {
     "duration": 0.035033,
     "end_time": "2022-12-28T13:44:02.111371",
     "exception": false,
     "start_time": "2022-12-28T13:44:02.076338",
     "status": "completed"
    },
    "tags": []
   },
   "source": [
    "The data is positively skewed with `skewness` = $0.54$. "
   ]
  },
  {
   "cell_type": "code",
   "execution_count": 28,
   "id": "37dce340",
   "metadata": {
    "_kg_hide-input": true,
    "execution": {
     "iopub.execute_input": "2022-12-28T13:44:02.184291Z",
     "iopub.status.busy": "2022-12-28T13:44:02.183366Z",
     "iopub.status.idle": "2022-12-28T13:44:02.520495Z",
     "shell.execute_reply": "2022-12-28T13:44:02.519223Z"
    },
    "papermill": {
     "duration": 0.376718,
     "end_time": "2022-12-28T13:44:02.523427",
     "exception": false,
     "start_time": "2022-12-28T13:44:02.146709",
     "status": "completed"
    },
    "tags": []
   },
   "outputs": [
    {
     "data": {
      "image/png": "[encoded data removed]",
      "text/plain": [
       "<Figure size 1440x432 with 2 Axes>"
      ]
     },
     "metadata": {
      "needs_background": "light"
     },
     "output_type": "display_data"
    }
   ],
   "source": [
    "_, axes = plt.subplots(1, 2, figsize=(20, 6))\n",
    "\n",
    "plt.title(\"Evaporation Distribution\")\n",
    "evap_df.hist(ax=axes[0])\n",
    "\n",
    "plt.title(\"Evaporation Boxplot\")\n",
    "sns.boxplot(ax=axes[1], x=evap_df)\n",
    "\n",
    "plt.show()"
   ]
  },
  {
   "cell_type": "code",
   "execution_count": 29,
   "id": "7ec7cedb",
   "metadata": {
    "_kg_hide-input": true,
    "execution": {
     "iopub.execute_input": "2022-12-28T13:44:02.597148Z",
     "iopub.status.busy": "2022-12-28T13:44:02.596249Z",
     "iopub.status.idle": "2022-12-28T13:44:02.602802Z",
     "shell.execute_reply": "2022-12-28T13:44:02.601629Z"
    },
    "papermill": {
     "duration": 0.046894,
     "end_time": "2022-12-28T13:44:02.606119",
     "exception": false,
     "start_time": "2022-12-28T13:44:02.559225",
     "status": "completed"
    },
    "tags": []
   },
   "outputs": [
    {
     "name": "stdout",
     "output_type": "stream",
     "text": [
      "Skewness of Evaporation: 0.54\n"
     ]
    }
   ],
   "source": [
    "evap_skewness = evap_df.skew()\n",
    "\n",
    "print(f\"Skewness of Evaporation: {evap_skewness:.2f}\")"
   ]
  },
  {
   "cell_type": "markdown",
   "id": "a0065796",
   "metadata": {
    "papermill": {
     "duration": 0.035929,
     "end_time": "2022-12-28T13:44:02.678551",
     "exception": false,
     "start_time": "2022-12-28T13:44:02.642622",
     "status": "completed"
    },
    "tags": []
   },
   "source": [
    "There is only $1$ outlier in the dataset: $17.0$."
   ]
  },
  {
   "cell_type": "code",
   "execution_count": 30,
   "id": "33881347",
   "metadata": {
    "execution": {
     "iopub.execute_input": "2022-12-28T13:44:02.751502Z",
     "iopub.status.busy": "2022-12-28T13:44:02.751079Z",
     "iopub.status.idle": "2022-12-28T13:44:02.760689Z",
     "shell.execute_reply": "2022-12-28T13:44:02.759329Z"
    },
    "papermill": {
     "duration": 0.04884,
     "end_time": "2022-12-28T13:44:02.763040",
     "exception": false,
     "start_time": "2022-12-28T13:44:02.714200",
     "status": "completed"
    },
    "tags": []
   },
   "outputs": [
    {
     "name": "stdout",
     "output_type": "stream",
     "text": [
      "Number of outliers: 1\n",
      "Outliers: [17.0]\n"
     ]
    }
   ],
   "source": [
    "no_missing_evap = evap_df[~evap_df.isna()]\n",
    "perc_75, perc_25 = np.percentile(no_missing_evap, [75, 25])\n",
    "iqr = perc_75 - perc_25\n",
    "\n",
    "evap_boundary = perc_75 + (1.5 * iqr)\n",
    "evap_outliers = no_missing_evap[ no_missing_evap > evap_boundary]\n",
    "print(f\"Number of outliers: {len(evap_outliers.values)}\")\n",
    "print(f\"Outliers: { [outlier for outlier in evap_outliers.values] }\")"
   ]
  },
  {
   "cell_type": "markdown",
   "id": "7624f701",
   "metadata": {
    "papermill": {
     "duration": 0.035525,
     "end_time": "2022-12-28T13:44:02.834281",
     "exception": false,
     "start_time": "2022-12-28T13:44:02.798756",
     "status": "completed"
    },
    "tags": []
   },
   "source": [
    "### __Sunshine\n",
    "\n",
    "\n",
    "📙 **SUMMARY**\n",
    "* The attribute is expressed in terms of number of hours.\n",
    "* The data has a mean of $8.78$ with a standard deviation of $3.47$.\n",
    "* There are $5$ missing values in the dataset.\n",
    "* The distribution is negatively skewed at `skewness` = $-0.74$."
   ]
  },
  {
   "cell_type": "markdown",
   "id": "a2fc8f8c",
   "metadata": {
    "papermill": {
     "duration": 0.03546,
     "end_time": "2022-12-28T13:44:02.905570",
     "exception": false,
     "start_time": "2022-12-28T13:44:02.870110",
     "status": "completed"
    },
    "tags": []
   },
   "source": [
    "The *Sunshine* attribute represents the number of hours with bright sunshine within 24 hours. Ergo, the value is capped at $24$ hours."
   ]
  },
  {
   "cell_type": "code",
   "execution_count": 31,
   "id": "5e461b65",
   "metadata": {
    "execution": {
     "iopub.execute_input": "2022-12-28T13:44:02.979544Z",
     "iopub.status.busy": "2022-12-28T13:44:02.979092Z",
     "iopub.status.idle": "2022-12-28T13:44:02.990119Z",
     "shell.execute_reply": "2022-12-28T13:44:02.989317Z"
    },
    "papermill": {
     "duration": 0.050774,
     "end_time": "2022-12-28T13:44:02.992406",
     "exception": false,
     "start_time": "2022-12-28T13:44:02.941632",
     "status": "completed"
    },
    "tags": []
   },
   "outputs": [
    {
     "data": {
      "text/html": [
       "<div>\n",
       "<style scoped>\n",
       "    .dataframe tbody tr th:only-of-type {\n",
       "        vertical-align: middle;\n",
       "    }\n",
       "\n",
       "    .dataframe tbody tr th {\n",
       "        vertical-align: top;\n",
       "    }\n",
       "\n",
       "    .dataframe thead th {\n",
       "        text-align: right;\n",
       "    }\n",
       "</style>\n",
       "<table border=\"1\" class=\"dataframe\">\n",
       "  <thead>\n",
       "    <tr style=\"text-align: right;\">\n",
       "      <th></th>\n",
       "      <th>Sunshine</th>\n",
       "    </tr>\n",
       "  </thead>\n",
       "  <tbody>\n",
       "    <tr>\n",
       "      <th>120638</th>\n",
       "      <td>9.1</td>\n",
       "    </tr>\n",
       "    <tr>\n",
       "      <th>120639</th>\n",
       "      <td>7.0</td>\n",
       "    </tr>\n",
       "    <tr>\n",
       "      <th>120640</th>\n",
       "      <td>7.3</td>\n",
       "    </tr>\n",
       "    <tr>\n",
       "      <th>120641</th>\n",
       "      <td>4.7</td>\n",
       "    </tr>\n",
       "    <tr>\n",
       "      <th>120642</th>\n",
       "      <td>4.9</td>\n",
       "    </tr>\n",
       "    <tr>\n",
       "      <th>120643</th>\n",
       "      <td>9.3</td>\n",
       "    </tr>\n",
       "    <tr>\n",
       "      <th>120644</th>\n",
       "      <td>9.3</td>\n",
       "    </tr>\n",
       "    <tr>\n",
       "      <th>120645</th>\n",
       "      <td>6.9</td>\n",
       "    </tr>\n",
       "    <tr>\n",
       "      <th>120646</th>\n",
       "      <td>2.5</td>\n",
       "    </tr>\n",
       "    <tr>\n",
       "      <th>120647</th>\n",
       "      <td>1.7</td>\n",
       "    </tr>\n",
       "  </tbody>\n",
       "</table>\n",
       "</div>"
      ],
      "text/plain": [
       "        Sunshine\n",
       "120638       9.1\n",
       "120639       7.0\n",
       "120640       7.3\n",
       "120641       4.7\n",
       "120642       4.9\n",
       "120643       9.3\n",
       "120644       9.3\n",
       "120645       6.9\n",
       "120646       2.5\n",
       "120647       1.7"
      ]
     },
     "execution_count": 31,
     "metadata": {},
     "output_type": "execute_result"
    }
   ],
   "source": [
    "sunshine_df = num_df['Sunshine']\n",
    "pd.DataFrame(sunshine_df).head(10)"
   ]
  },
  {
   "cell_type": "markdown",
   "id": "8a4f7d1b",
   "metadata": {
    "papermill": {
     "duration": 0.035698,
     "end_time": "2022-12-28T13:44:03.064020",
     "exception": false,
     "start_time": "2022-12-28T13:44:03.028322",
     "status": "completed"
    },
    "tags": []
   },
   "source": [
    "There are $5$ missing values for *Sunshine* values."
   ]
  },
  {
   "cell_type": "code",
   "execution_count": 32,
   "id": "27e900b2",
   "metadata": {
    "_kg_hide-input": true,
    "execution": {
     "iopub.execute_input": "2022-12-28T13:44:03.138340Z",
     "iopub.status.busy": "2022-12-28T13:44:03.137501Z",
     "iopub.status.idle": "2022-12-28T13:44:03.144339Z",
     "shell.execute_reply": "2022-12-28T13:44:03.143066Z"
    },
    "papermill": {
     "duration": 0.046568,
     "end_time": "2022-12-28T13:44:03.146551",
     "exception": false,
     "start_time": "2022-12-28T13:44:03.099983",
     "status": "completed"
    },
    "tags": []
   },
   "outputs": [
    {
     "name": "stdout",
     "output_type": "stream",
     "text": [
      "Missing Sunshine values: 5 (0.16%)\n"
     ]
    }
   ],
   "source": [
    "missing_sunshine_values = sunshine_df.isna().sum()\n",
    "missing_sunshine_values_perc = missing_sunshine_values / len(sunshine_df)\n",
    "\n",
    "print(f\"Missing Sunshine values: {missing_sunshine_values} ({missing_sunshine_values_perc*100:.2f}%)\")"
   ]
  },
  {
   "cell_type": "markdown",
   "id": "5599a4d9",
   "metadata": {
    "papermill": {
     "duration": 0.036987,
     "end_time": "2022-12-28T13:44:03.221361",
     "exception": false,
     "start_time": "2022-12-28T13:44:03.184374",
     "status": "completed"
    },
    "tags": []
   },
   "source": [
    "The values range from $0.0$ to $13.0$ with a mean of $8.78$ and a standard deviation of $3.47$."
   ]
  },
  {
   "cell_type": "code",
   "execution_count": 33,
   "id": "afeed9d5",
   "metadata": {
    "_kg_hide-input": true,
    "execution": {
     "iopub.execute_input": "2022-12-28T13:44:03.296685Z",
     "iopub.status.busy": "2022-12-28T13:44:03.296255Z",
     "iopub.status.idle": "2022-12-28T13:44:03.316579Z",
     "shell.execute_reply": "2022-12-28T13:44:03.315357Z"
    },
    "papermill": {
     "duration": 0.061407,
     "end_time": "2022-12-28T13:44:03.318977",
     "exception": false,
     "start_time": "2022-12-28T13:44:03.257570",
     "status": "completed"
    },
    "tags": []
   },
   "outputs": [
    {
     "data": {
      "text/html": [
       "<div>\n",
       "<style scoped>\n",
       "    .dataframe tbody tr th:only-of-type {\n",
       "        vertical-align: middle;\n",
       "    }\n",
       "\n",
       "    .dataframe tbody tr th {\n",
       "        vertical-align: top;\n",
       "    }\n",
       "\n",
       "    .dataframe thead th {\n",
       "        text-align: right;\n",
       "    }\n",
       "</style>\n",
       "<table border=\"1\" class=\"dataframe\">\n",
       "  <thead>\n",
       "    <tr style=\"text-align: right;\">\n",
       "      <th></th>\n",
       "      <th>count</th>\n",
       "      <th>mean</th>\n",
       "      <th>std</th>\n",
       "      <th>min</th>\n",
       "      <th>25%</th>\n",
       "      <th>50%</th>\n",
       "      <th>75%</th>\n",
       "      <th>max</th>\n",
       "    </tr>\n",
       "  </thead>\n",
       "  <tbody>\n",
       "    <tr>\n",
       "      <th>Sunshine</th>\n",
       "      <td>3188.0</td>\n",
       "      <td>8.784536</td>\n",
       "      <td>3.46685</td>\n",
       "      <td>0.0</td>\n",
       "      <td>6.6</td>\n",
       "      <td>9.4</td>\n",
       "      <td>11.5</td>\n",
       "      <td>13.9</td>\n",
       "    </tr>\n",
       "  </tbody>\n",
       "</table>\n",
       "</div>"
      ],
      "text/plain": [
       "           count      mean      std  min  25%  50%   75%   max\n",
       "Sunshine  3188.0  8.784536  3.46685  0.0  6.6  9.4  11.5  13.9"
      ]
     },
     "execution_count": 33,
     "metadata": {},
     "output_type": "execute_result"
    }
   ],
   "source": [
    "pd.DataFrame(sunshine_df).describe().transpose()"
   ]
  },
  {
   "cell_type": "markdown",
   "id": "5c4134a1",
   "metadata": {
    "papermill": {
     "duration": 0.035654,
     "end_time": "2022-12-28T13:44:03.390566",
     "exception": false,
     "start_time": "2022-12-28T13:44:03.354912",
     "status": "completed"
    },
    "tags": []
   },
   "source": [
    "The data is negatively skewed with `skewness` = $-0.74$. There are no outliers in the dataset."
   ]
  },
  {
   "cell_type": "code",
   "execution_count": 34,
   "id": "2189a912",
   "metadata": {
    "_kg_hide-input": true,
    "execution": {
     "iopub.execute_input": "2022-12-28T13:44:03.464526Z",
     "iopub.status.busy": "2022-12-28T13:44:03.464095Z",
     "iopub.status.idle": "2022-12-28T13:44:03.790602Z",
     "shell.execute_reply": "2022-12-28T13:44:03.789138Z"
    },
    "papermill": {
     "duration": 0.366783,
     "end_time": "2022-12-28T13:44:03.793380",
     "exception": false,
     "start_time": "2022-12-28T13:44:03.426597",
     "status": "completed"
    },
    "tags": []
   },
   "outputs": [
    {
     "data": {
      "image/png": "[encoded data removed]",
      "text/plain": [
       "<Figure size 1440x432 with 2 Axes>"
      ]
     },
     "metadata": {
      "needs_background": "light"
     },
     "output_type": "display_data"
    }
   ],
   "source": [
    "_, axes = plt.subplots(1, 2, figsize=(20,6))\n",
    "\n",
    "plt.title(\"Sunshine Distribution\")\n",
    "sunshine_df.hist(ax=axes[0])\n",
    "\n",
    "plt.title(\"Sunshine Boxplot\")\n",
    "sns.boxplot(x=sunshine_df)\n",
    "\n",
    "plt.show()"
   ]
  },
  {
   "cell_type": "code",
   "execution_count": 35,
   "id": "495ca93a",
   "metadata": {
    "execution": {
     "iopub.execute_input": "2022-12-28T13:44:03.871181Z",
     "iopub.status.busy": "2022-12-28T13:44:03.870631Z",
     "iopub.status.idle": "2022-12-28T13:44:03.876937Z",
     "shell.execute_reply": "2022-12-28T13:44:03.875803Z"
    },
    "papermill": {
     "duration": 0.048907,
     "end_time": "2022-12-28T13:44:03.879908",
     "exception": false,
     "start_time": "2022-12-28T13:44:03.831001",
     "status": "completed"
    },
    "tags": []
   },
   "outputs": [
    {
     "name": "stdout",
     "output_type": "stream",
     "text": [
      "Skewness of the dataset: -0.74\n"
     ]
    }
   ],
   "source": [
    "sunshine_skewness = sunshine_df.skew()\n",
    "\n",
    "print(f\"Skewness of the dataset: {sunshine_skewness:.2f}\")"
   ]
  },
  {
   "cell_type": "markdown",
   "id": "c0f6b1e1",
   "metadata": {
    "papermill": {
     "duration": 0.037097,
     "end_time": "2022-12-28T13:44:03.955766",
     "exception": false,
     "start_time": "2022-12-28T13:44:03.918669",
     "status": "completed"
    },
    "tags": []
   },
   "source": [
    "### __WindGustSpeed\n",
    "\n",
    "📙 **SUMMARY**\n",
    "* The data is expressed in **km/hr**.\n",
    "* The distribution is positively skewed at `skewness` = $0.65$.\n",
    "* There are $49$ outliers in the dataset."
   ]
  },
  {
   "cell_type": "markdown",
   "id": "2d8062db",
   "metadata": {
    "papermill": {
     "duration": 0.037513,
     "end_time": "2022-12-28T13:44:04.031683",
     "exception": false,
     "start_time": "2022-12-28T13:44:03.994170",
     "status": "completed"
    },
    "tags": []
   },
   "source": [
    "The *WindGustSpeed* represents the speed of the strongest wind speed within 24 hours and expressed in **km/hr**."
   ]
  },
  {
   "cell_type": "code",
   "execution_count": 36,
   "id": "740eec34",
   "metadata": {
    "_kg_hide-input": true,
    "execution": {
     "iopub.execute_input": "2022-12-28T13:44:04.110201Z",
     "iopub.status.busy": "2022-12-28T13:44:04.109074Z",
     "iopub.status.idle": "2022-12-28T13:44:04.121540Z",
     "shell.execute_reply": "2022-12-28T13:44:04.120493Z"
    },
    "papermill": {
     "duration": 0.054515,
     "end_time": "2022-12-28T13:44:04.123979",
     "exception": false,
     "start_time": "2022-12-28T13:44:04.069464",
     "status": "completed"
    },
    "tags": []
   },
   "outputs": [
    {
     "data": {
      "text/html": [
       "<div>\n",
       "<style scoped>\n",
       "    .dataframe tbody tr th:only-of-type {\n",
       "        vertical-align: middle;\n",
       "    }\n",
       "\n",
       "    .dataframe tbody tr th {\n",
       "        vertical-align: top;\n",
       "    }\n",
       "\n",
       "    .dataframe thead th {\n",
       "        text-align: right;\n",
       "    }\n",
       "</style>\n",
       "<table border=\"1\" class=\"dataframe\">\n",
       "  <thead>\n",
       "    <tr style=\"text-align: right;\">\n",
       "      <th></th>\n",
       "      <th>WindGustSpeed</th>\n",
       "    </tr>\n",
       "  </thead>\n",
       "  <tbody>\n",
       "    <tr>\n",
       "      <th>120638</th>\n",
       "      <td>20.0</td>\n",
       "    </tr>\n",
       "    <tr>\n",
       "      <th>120639</th>\n",
       "      <td>22.0</td>\n",
       "    </tr>\n",
       "    <tr>\n",
       "      <th>120640</th>\n",
       "      <td>31.0</td>\n",
       "    </tr>\n",
       "    <tr>\n",
       "      <th>120641</th>\n",
       "      <td>26.0</td>\n",
       "    </tr>\n",
       "    <tr>\n",
       "      <th>120642</th>\n",
       "      <td>44.0</td>\n",
       "    </tr>\n",
       "    <tr>\n",
       "      <th>120643</th>\n",
       "      <td>24.0</td>\n",
       "    </tr>\n",
       "    <tr>\n",
       "      <th>120644</th>\n",
       "      <td>37.0</td>\n",
       "    </tr>\n",
       "    <tr>\n",
       "      <th>120645</th>\n",
       "      <td>24.0</td>\n",
       "    </tr>\n",
       "    <tr>\n",
       "      <th>120646</th>\n",
       "      <td>31.0</td>\n",
       "    </tr>\n",
       "    <tr>\n",
       "      <th>120647</th>\n",
       "      <td>46.0</td>\n",
       "    </tr>\n",
       "  </tbody>\n",
       "</table>\n",
       "</div>"
      ],
      "text/plain": [
       "        WindGustSpeed\n",
       "120638           20.0\n",
       "120639           22.0\n",
       "120640           31.0\n",
       "120641           26.0\n",
       "120642           44.0\n",
       "120643           24.0\n",
       "120644           37.0\n",
       "120645           24.0\n",
       "120646           31.0\n",
       "120647           46.0"
      ]
     },
     "execution_count": 36,
     "metadata": {},
     "output_type": "execute_result"
    }
   ],
   "source": [
    "wind_gust_speed_df = df['WindGustSpeed']\n",
    "pd.DataFrame(wind_gust_speed_df).head(10)"
   ]
  },
  {
   "cell_type": "markdown",
   "id": "459a2c4b",
   "metadata": {
    "papermill": {
     "duration": 0.038195,
     "end_time": "2022-12-28T13:44:04.200139",
     "exception": false,
     "start_time": "2022-12-28T13:44:04.161944",
     "status": "completed"
    },
    "tags": []
   },
   "source": [
    "There are $5$ ($0.002\\%$) missing values for *WindGustSpeed* dataset."
   ]
  },
  {
   "cell_type": "code",
   "execution_count": 37,
   "id": "98092b46",
   "metadata": {
    "_kg_hide-input": true,
    "execution": {
     "iopub.execute_input": "2022-12-28T13:44:04.277912Z",
     "iopub.status.busy": "2022-12-28T13:44:04.277514Z",
     "iopub.status.idle": "2022-12-28T13:44:04.284610Z",
     "shell.execute_reply": "2022-12-28T13:44:04.283271Z"
    },
    "papermill": {
     "duration": 0.049254,
     "end_time": "2022-12-28T13:44:04.287416",
     "exception": false,
     "start_time": "2022-12-28T13:44:04.238162",
     "status": "completed"
    },
    "tags": []
   },
   "outputs": [
    {
     "name": "stdout",
     "output_type": "stream",
     "text": [
      "Missing wind gust speed values: 5 (0.002%)\n"
     ]
    }
   ],
   "source": [
    "missing_wind_gust_speed = wind_gust_speed_df.isna().sum()\n",
    "missing_wind_gust_speed_perc = missing_wind_gust_speed / len(wind_gust_speed_df)\n",
    "\n",
    "print(f\"Missing wind gust speed values: {missing_wind_gust_speed} ({missing_wind_gust_speed_perc:.3f}%)\")"
   ]
  },
  {
   "cell_type": "markdown",
   "id": "f9167cfe",
   "metadata": {
    "papermill": {
     "duration": 0.037272,
     "end_time": "2022-12-28T13:44:04.363825",
     "exception": false,
     "start_time": "2022-12-28T13:44:04.326553",
     "status": "completed"
    },
    "tags": []
   },
   "source": [
    "The *WindGustSpeed* values range from $11.0$ - $83.0$ with a mean of $34.88$ and a standard deviation of $9.41$."
   ]
  },
  {
   "cell_type": "code",
   "execution_count": 38,
   "id": "36746769",
   "metadata": {
    "execution": {
     "iopub.execute_input": "2022-12-28T13:44:04.441111Z",
     "iopub.status.busy": "2022-12-28T13:44:04.440682Z",
     "iopub.status.idle": "2022-12-28T13:44:04.461327Z",
     "shell.execute_reply": "2022-12-28T13:44:04.460125Z"
    },
    "papermill": {
     "duration": 0.062288,
     "end_time": "2022-12-28T13:44:04.463685",
     "exception": false,
     "start_time": "2022-12-28T13:44:04.401397",
     "status": "completed"
    },
    "tags": []
   },
   "outputs": [
    {
     "data": {
      "text/html": [
       "<div>\n",
       "<style scoped>\n",
       "    .dataframe tbody tr th:only-of-type {\n",
       "        vertical-align: middle;\n",
       "    }\n",
       "\n",
       "    .dataframe tbody tr th {\n",
       "        vertical-align: top;\n",
       "    }\n",
       "\n",
       "    .dataframe thead th {\n",
       "        text-align: right;\n",
       "    }\n",
       "</style>\n",
       "<table border=\"1\" class=\"dataframe\">\n",
       "  <thead>\n",
       "    <tr style=\"text-align: right;\">\n",
       "      <th></th>\n",
       "      <th>count</th>\n",
       "      <th>mean</th>\n",
       "      <th>std</th>\n",
       "      <th>min</th>\n",
       "      <th>25%</th>\n",
       "      <th>50%</th>\n",
       "      <th>75%</th>\n",
       "      <th>max</th>\n",
       "    </tr>\n",
       "  </thead>\n",
       "  <tbody>\n",
       "    <tr>\n",
       "      <th>WindGustSpeed</th>\n",
       "      <td>3188.0</td>\n",
       "      <td>34.882999</td>\n",
       "      <td>9.411943</td>\n",
       "      <td>11.0</td>\n",
       "      <td>28.0</td>\n",
       "      <td>35.0</td>\n",
       "      <td>41.0</td>\n",
       "      <td>83.0</td>\n",
       "    </tr>\n",
       "  </tbody>\n",
       "</table>\n",
       "</div>"
      ],
      "text/plain": [
       "                count       mean       std   min   25%   50%   75%   max\n",
       "WindGustSpeed  3188.0  34.882999  9.411943  11.0  28.0  35.0  41.0  83.0"
      ]
     },
     "execution_count": 38,
     "metadata": {},
     "output_type": "execute_result"
    }
   ],
   "source": [
    "pd.DataFrame(wind_gust_speed_df).describe().transpose()"
   ]
  },
  {
   "cell_type": "code",
   "execution_count": 39,
   "id": "df8e9aaf",
   "metadata": {
    "_kg_hide-input": true,
    "execution": {
     "iopub.execute_input": "2022-12-28T13:44:04.562290Z",
     "iopub.status.busy": "2022-12-28T13:44:04.561748Z",
     "iopub.status.idle": "2022-12-28T13:44:04.922491Z",
     "shell.execute_reply": "2022-12-28T13:44:04.921556Z"
    },
    "papermill": {
     "duration": 0.417513,
     "end_time": "2022-12-28T13:44:04.924650",
     "exception": false,
     "start_time": "2022-12-28T13:44:04.507137",
     "status": "completed"
    },
    "tags": []
   },
   "outputs": [
    {
     "data": {
      "image/png": "[encoded data removed]",
      "text/plain": [
       "<Figure size 1440x432 with 2 Axes>"
      ]
     },
     "metadata": {
      "needs_background": "light"
     },
     "output_type": "display_data"
    }
   ],
   "source": [
    "_, axes = plt.subplots(1, 2, figsize=(20, 6))\n",
    "\n",
    "plt.title(\"Wind Gust Speed Distribution\")\n",
    "wind_gust_speed_df.hist(ax=axes[0])\n",
    "\n",
    "plt.title(\"Wind Gust Speed Boxplot\")\n",
    "sns.boxplot(ax=axes[1], x=wind_gust_speed_df)\n",
    "\n",
    "plt.show()"
   ]
  },
  {
   "cell_type": "markdown",
   "id": "739bd322",
   "metadata": {
    "papermill": {
     "duration": 0.043733,
     "end_time": "2022-12-28T13:44:05.023354",
     "exception": false,
     "start_time": "2022-12-28T13:44:04.979621",
     "status": "completed"
    },
    "tags": []
   },
   "source": [
    "The data distribution is positively skewed with `skewness` = $0.65$."
   ]
  },
  {
   "cell_type": "code",
   "execution_count": 40,
   "id": "2105faab",
   "metadata": {
    "_kg_hide-input": true,
    "execution": {
     "iopub.execute_input": "2022-12-28T13:44:05.104290Z",
     "iopub.status.busy": "2022-12-28T13:44:05.103482Z",
     "iopub.status.idle": "2022-12-28T13:44:05.111687Z",
     "shell.execute_reply": "2022-12-28T13:44:05.109405Z"
    },
    "papermill": {
     "duration": 0.051733,
     "end_time": "2022-12-28T13:44:05.114479",
     "exception": false,
     "start_time": "2022-12-28T13:44:05.062746",
     "status": "completed"
    },
    "tags": []
   },
   "outputs": [
    {
     "name": "stdout",
     "output_type": "stream",
     "text": [
      "Wind Gust Speed Skewness: 0.65\n"
     ]
    }
   ],
   "source": [
    "wind_gust_speed_skewness = wind_gust_speed_df.skew()\n",
    "\n",
    "print(f\"Wind Gust Speed Skewness: {wind_gust_speed_skewness:.2f}\")"
   ]
  },
  {
   "cell_type": "code",
   "execution_count": 41,
   "id": "46a0103f",
   "metadata": {
    "_kg_hide-input": true,
    "execution": {
     "iopub.execute_input": "2022-12-28T13:44:05.200412Z",
     "iopub.status.busy": "2022-12-28T13:44:05.199618Z",
     "iopub.status.idle": "2022-12-28T13:44:05.215343Z",
     "shell.execute_reply": "2022-12-28T13:44:05.213641Z"
    },
    "papermill": {
     "duration": 0.060863,
     "end_time": "2022-12-28T13:44:05.217980",
     "exception": false,
     "start_time": "2022-12-28T13:44:05.157117",
     "status": "completed"
    },
    "tags": []
   },
   "outputs": [
    {
     "name": "stdout",
     "output_type": "stream",
     "text": [
      "Number of outliers: 49\n"
     ]
    },
    {
     "data": {
      "text/plain": [
       "61.0    14\n",
       "63.0     7\n",
       "67.0     6\n",
       "70.0     6\n",
       "65.0     5\n",
       "76.0     3\n",
       "72.0     3\n",
       "69.0     2\n",
       "74.0     1\n",
       "83.0     1\n",
       "78.0     1\n",
       "Name: WindGustSpeed, dtype: int64"
      ]
     },
     "execution_count": 41,
     "metadata": {},
     "output_type": "execute_result"
    }
   ],
   "source": [
    "no_missing_wind_gust_speed_df = wind_gust_speed_df[~wind_gust_speed_df.isna()]\n",
    "\n",
    "perc_75, perc_25 = np.percentile(no_missing_wind_gust_speed_df, [75, 25])\n",
    "iqr = perc_75 - perc_25\n",
    "boundary = perc_75 + 1.5*iqr\n",
    "outliers = no_missing_wind_gust_speed_df[no_missing_wind_gust_speed_df > boundary]\n",
    "\n",
    "print(f\"Number of outliers: {len(outliers)}\")\n",
    "outliers.value_counts()"
   ]
  },
  {
   "cell_type": "markdown",
   "id": "fc3f1e29",
   "metadata": {
    "papermill": {
     "duration": 0.038978,
     "end_time": "2022-12-28T13:44:05.296124",
     "exception": false,
     "start_time": "2022-12-28T13:44:05.257146",
     "status": "completed"
    },
    "tags": []
   },
   "source": [
    "### __WindSpeed9AM\n",
    "\n",
    "\n",
    "📙 **SUMMARY**\n",
    "* The data is expressed in **km/hr**.\n",
    "* There is only $1$ missing value for *WindSpeed3pm*.\n",
    "* The distribution of both datasets are normal and are symmetric.\n",
    "* There are $5$ outlier data points on the *WindSpeed9am* dataset."
   ]
  },
  {
   "cell_type": "markdown",
   "id": "9105a8a6",
   "metadata": {
    "papermill": {
     "duration": 0.038956,
     "end_time": "2022-12-28T13:44:05.374468",
     "exception": false,
     "start_time": "2022-12-28T13:44:05.335512",
     "status": "completed"
    },
    "tags": []
   },
   "source": [
    "The average wind speed data over $10$ minutes prior to `9AM` (*WindSpeed9am*) and over $10$ minutes prior to `3PM` (*WindSpeed3pm*). The values are expressed in **km/hr**."
   ]
  },
  {
   "cell_type": "code",
   "execution_count": 42,
   "id": "ec0634be",
   "metadata": {
    "execution": {
     "iopub.execute_input": "2022-12-28T13:44:05.455725Z",
     "iopub.status.busy": "2022-12-28T13:44:05.454887Z",
     "iopub.status.idle": "2022-12-28T13:44:05.471800Z",
     "shell.execute_reply": "2022-12-28T13:44:05.470286Z"
    },
    "papermill": {
     "duration": 0.06054,
     "end_time": "2022-12-28T13:44:05.474253",
     "exception": false,
     "start_time": "2022-12-28T13:44:05.413713",
     "status": "completed"
    },
    "tags": []
   },
   "outputs": [
    {
     "data": {
      "text/html": [
       "<div>\n",
       "<style scoped>\n",
       "    .dataframe tbody tr th:only-of-type {\n",
       "        vertical-align: middle;\n",
       "    }\n",
       "\n",
       "    .dataframe tbody tr th {\n",
       "        vertical-align: top;\n",
       "    }\n",
       "\n",
       "    .dataframe thead th {\n",
       "        text-align: right;\n",
       "    }\n",
       "</style>\n",
       "<table border=\"1\" class=\"dataframe\">\n",
       "  <thead>\n",
       "    <tr style=\"text-align: right;\">\n",
       "      <th></th>\n",
       "      <th>WindSpeed9am</th>\n",
       "      <th>WindSpeed3pm</th>\n",
       "    </tr>\n",
       "  </thead>\n",
       "  <tbody>\n",
       "    <tr>\n",
       "      <th>120638</th>\n",
       "      <td>0.0</td>\n",
       "      <td>7.0</td>\n",
       "    </tr>\n",
       "    <tr>\n",
       "      <th>120639</th>\n",
       "      <td>6.0</td>\n",
       "      <td>9.0</td>\n",
       "    </tr>\n",
       "    <tr>\n",
       "      <th>120640</th>\n",
       "      <td>0.0</td>\n",
       "      <td>4.0</td>\n",
       "    </tr>\n",
       "    <tr>\n",
       "      <th>120641</th>\n",
       "      <td>11.0</td>\n",
       "      <td>6.0</td>\n",
       "    </tr>\n",
       "    <tr>\n",
       "      <th>120642</th>\n",
       "      <td>13.0</td>\n",
       "      <td>17.0</td>\n",
       "    </tr>\n",
       "    <tr>\n",
       "      <th>120643</th>\n",
       "      <td>4.0</td>\n",
       "      <td>7.0</td>\n",
       "    </tr>\n",
       "    <tr>\n",
       "      <th>120644</th>\n",
       "      <td>15.0</td>\n",
       "      <td>13.0</td>\n",
       "    </tr>\n",
       "    <tr>\n",
       "      <th>120645</th>\n",
       "      <td>9.0</td>\n",
       "      <td>13.0</td>\n",
       "    </tr>\n",
       "    <tr>\n",
       "      <th>120646</th>\n",
       "      <td>0.0</td>\n",
       "      <td>9.0</td>\n",
       "    </tr>\n",
       "    <tr>\n",
       "      <th>120647</th>\n",
       "      <td>19.0</td>\n",
       "      <td>11.0</td>\n",
       "    </tr>\n",
       "  </tbody>\n",
       "</table>\n",
       "</div>"
      ],
      "text/plain": [
       "        WindSpeed9am  WindSpeed3pm\n",
       "120638           0.0           7.0\n",
       "120639           6.0           9.0\n",
       "120640           0.0           4.0\n",
       "120641          11.0           6.0\n",
       "120642          13.0          17.0\n",
       "120643           4.0           7.0\n",
       "120644          15.0          13.0\n",
       "120645           9.0          13.0\n",
       "120646           0.0           9.0\n",
       "120647          19.0          11.0"
      ]
     },
     "execution_count": 42,
     "metadata": {},
     "output_type": "execute_result"
    }
   ],
   "source": [
    "wind_speed_df = num_df[['WindSpeed9am', 'WindSpeed3pm']]\n",
    "wind_speed_df.head(10)"
   ]
  },
  {
   "cell_type": "markdown",
   "id": "b55aefe4",
   "metadata": {
    "papermill": {
     "duration": 0.039092,
     "end_time": "2022-12-28T13:44:05.554671",
     "exception": false,
     "start_time": "2022-12-28T13:44:05.515579",
     "status": "completed"
    },
    "tags": []
   },
   "source": [
    "There are no missing values for *MissingWindSpeed9am* and only $1$ missing value for *WindSpeed3pm*."
   ]
  },
  {
   "cell_type": "code",
   "execution_count": 43,
   "id": "801a1aae",
   "metadata": {
    "_kg_hide-input": true,
    "execution": {
     "iopub.execute_input": "2022-12-28T13:44:05.634827Z",
     "iopub.status.busy": "2022-12-28T13:44:05.634388Z",
     "iopub.status.idle": "2022-12-28T13:44:05.642691Z",
     "shell.execute_reply": "2022-12-28T13:44:05.641401Z"
    },
    "papermill": {
     "duration": 0.051369,
     "end_time": "2022-12-28T13:44:05.645058",
     "exception": false,
     "start_time": "2022-12-28T13:44:05.593689",
     "status": "completed"
    },
    "tags": []
   },
   "outputs": [
    {
     "name": "stdout",
     "output_type": "stream",
     "text": [
      "Missing WindSpeed9am: 0 (0.00%)\n",
      "Missing WindSpeed3pm: 1 (0.03%)\n"
     ]
    }
   ],
   "source": [
    "missing_wind_speed_count = wind_speed_df.isna().sum()\n",
    "missing_wind_speed_perc = missing_wind_speed_count / len(wind_speed_df)\n",
    "\n",
    "print(f\"Missing WindSpeed9am: {missing_wind_speed_count['WindSpeed9am']} ({(missing_wind_speed_perc['WindSpeed9am'] * 100):.2f}%)\")\n",
    "print(f\"Missing WindSpeed3pm: {missing_wind_speed_count['WindSpeed3pm']} ({(missing_wind_speed_perc['WindSpeed3pm'] * 100):.2f}%)\")"
   ]
  },
  {
   "cell_type": "markdown",
   "id": "fcce45e9",
   "metadata": {
    "papermill": {
     "duration": 0.038657,
     "end_time": "2022-12-28T13:44:05.722853",
     "exception": false,
     "start_time": "2022-12-28T13:44:05.684196",
     "status": "completed"
    },
    "tags": []
   },
   "source": [
    "Both datasets follows the normal distribution and are roughly symmetric.The *WindSpeed9am* attribute has $5$ outlier data points whille the *WindSpeed3on* has none."
   ]
  },
  {
   "cell_type": "code",
   "execution_count": 44,
   "id": "c5825f23",
   "metadata": {
    "_kg_hide-input": true,
    "execution": {
     "iopub.execute_input": "2022-12-28T13:44:05.803911Z",
     "iopub.status.busy": "2022-12-28T13:44:05.803189Z",
     "iopub.status.idle": "2022-12-28T13:44:06.324396Z",
     "shell.execute_reply": "2022-12-28T13:44:06.323528Z"
    },
    "papermill": {
     "duration": 0.564555,
     "end_time": "2022-12-28T13:44:06.326875",
     "exception": false,
     "start_time": "2022-12-28T13:44:05.762320",
     "status": "completed"
    },
    "tags": []
   },
   "outputs": [
    {
     "data": {
      "image/png": "[encoded data removed]",
      "text/plain": [
       "<Figure size 1440x432 with 4 Axes>"
      ]
     },
     "metadata": {
      "needs_background": "light"
     },
     "output_type": "display_data"
    }
   ],
   "source": [
    "_, axes = plt.subplots(2,2,figsize=(20,6))\n",
    "\n",
    "wind_speed_df.hist(ax=axes[0])\n",
    "\n",
    "sns.boxplot(ax=axes[1,0], x=wind_speed_df['WindSpeed9am'])\n",
    "sns.boxplot(ax=axes[1,1], x=wind_speed_df['WindSpeed3pm'])\n",
    "plt.show()"
   ]
  },
  {
   "cell_type": "code",
   "execution_count": 45,
   "id": "bfe0919f",
   "metadata": {
    "_kg_hide-input": true,
    "execution": {
     "iopub.execute_input": "2022-12-28T13:44:06.409745Z",
     "iopub.status.busy": "2022-12-28T13:44:06.408726Z",
     "iopub.status.idle": "2022-12-28T13:44:06.418033Z",
     "shell.execute_reply": "2022-12-28T13:44:06.416576Z"
    },
    "papermill": {
     "duration": 0.053157,
     "end_time": "2022-12-28T13:44:06.420621",
     "exception": false,
     "start_time": "2022-12-28T13:44:06.367464",
     "status": "completed"
    },
    "tags": []
   },
   "outputs": [
    {
     "name": "stdout",
     "output_type": "stream",
     "text": [
      "WindSpeed9am skewness: 0.15\n",
      "WindSpeed3pm skewness: 0.17\n"
     ]
    }
   ],
   "source": [
    "wind_speed_df_skewness = wind_speed_df.skew()\n",
    "\n",
    "print(f\"WindSpeed9am skewness: {wind_speed_df_skewness['WindSpeed9am']:.2f}\")\n",
    "print(f\"WindSpeed3pm skewness: {wind_speed_df_skewness['WindSpeed3pm']:.2f}\")"
   ]
  },
  {
   "cell_type": "code",
   "execution_count": 46,
   "id": "64a238fd",
   "metadata": {
    "_kg_hide-input": true,
    "execution": {
     "iopub.execute_input": "2022-12-28T13:44:06.501403Z",
     "iopub.status.busy": "2022-12-28T13:44:06.500977Z",
     "iopub.status.idle": "2022-12-28T13:44:06.516682Z",
     "shell.execute_reply": "2022-12-28T13:44:06.515380Z"
    },
    "papermill": {
     "duration": 0.059242,
     "end_time": "2022-12-28T13:44:06.519391",
     "exception": false,
     "start_time": "2022-12-28T13:44:06.460149",
     "status": "completed"
    },
    "tags": []
   },
   "outputs": [
    {
     "name": "stdout",
     "output_type": "stream",
     "text": [
      "Number of outliers (WindSpeed9am): 5\n",
      "Outliers:\n"
     ]
    },
    {
     "data": {
      "text/plain": [
       "28.0    4\n",
       "30.0    1\n",
       "Name: WindSpeed9am, dtype: int64"
      ]
     },
     "execution_count": 46,
     "metadata": {},
     "output_type": "execute_result"
    }
   ],
   "source": [
    "no_missing_wind_speed_9am = wind_speed_df[~wind_speed_df['WindSpeed9am'].isna()]['WindSpeed9am']\n",
    "\n",
    "\n",
    "perc_75, perc_25 = np.percentile(no_missing_wind_speed_9am, [75,25])\n",
    "iqr = perc_75 - perc_25\n",
    "boundary = perc_75 + (1.5 * iqr)\n",
    "outliers = no_missing_wind_speed_9am[no_missing_wind_speed_9am > boundary]\n",
    "\n",
    "print(f\"Number of outliers (WindSpeed9am): {len(outliers)}\")\n",
    "print(\"Outliers:\")\n",
    "outliers.value_counts()"
   ]
  },
  {
   "cell_type": "markdown",
   "id": "764f1689",
   "metadata": {
    "papermill": {
     "duration": 0.039275,
     "end_time": "2022-12-28T13:44:06.598800",
     "exception": false,
     "start_time": "2022-12-28T13:44:06.559525",
     "status": "completed"
    },
    "tags": []
   },
   "source": [
    "### __Humidity\n",
    "\n",
    "📙 **SUMMARY**\n",
    "* The data is expressed in **%** rounded to the nearest whole number. As with percentage, the data is capped from $0.0$ - $100.0$.\n",
    "* Both datasets are normally distributed with *Humidity3pm* slightly skewed positively at `skewness` = $0.266$.\n",
    "* The *Humidity3pm* has $49$ outlier data points with $9$ unique values."
   ]
  },
  {
   "cell_type": "markdown",
   "id": "378bf078",
   "metadata": {
    "papermill": {
     "duration": 0.039207,
     "end_time": "2022-12-28T13:44:06.677812",
     "exception": false,
     "start_time": "2022-12-28T13:44:06.638605",
     "status": "completed"
    },
    "tags": []
   },
   "source": [
    "The (relative) humidity data is expressed in **%**."
   ]
  },
  {
   "cell_type": "code",
   "execution_count": 47,
   "id": "9402a6e1",
   "metadata": {
    "_kg_hide-input": true,
    "execution": {
     "iopub.execute_input": "2022-12-28T13:44:06.759735Z",
     "iopub.status.busy": "2022-12-28T13:44:06.759212Z",
     "iopub.status.idle": "2022-12-28T13:44:06.773340Z",
     "shell.execute_reply": "2022-12-28T13:44:06.772506Z"
    },
    "papermill": {
     "duration": 0.057213,
     "end_time": "2022-12-28T13:44:06.775509",
     "exception": false,
     "start_time": "2022-12-28T13:44:06.718296",
     "status": "completed"
    },
    "tags": []
   },
   "outputs": [
    {
     "data": {
      "text/html": [
       "<div>\n",
       "<style scoped>\n",
       "    .dataframe tbody tr th:only-of-type {\n",
       "        vertical-align: middle;\n",
       "    }\n",
       "\n",
       "    .dataframe tbody tr th {\n",
       "        vertical-align: top;\n",
       "    }\n",
       "\n",
       "    .dataframe thead th {\n",
       "        text-align: right;\n",
       "    }\n",
       "</style>\n",
       "<table border=\"1\" class=\"dataframe\">\n",
       "  <thead>\n",
       "    <tr style=\"text-align: right;\">\n",
       "      <th></th>\n",
       "      <th>Humidity9am</th>\n",
       "      <th>Humidity3pm</th>\n",
       "    </tr>\n",
       "  </thead>\n",
       "  <tbody>\n",
       "    <tr>\n",
       "      <th>120638</th>\n",
       "      <td>97.0</td>\n",
       "      <td>53.0</td>\n",
       "    </tr>\n",
       "    <tr>\n",
       "      <th>120639</th>\n",
       "      <td>80.0</td>\n",
       "      <td>39.0</td>\n",
       "    </tr>\n",
       "    <tr>\n",
       "      <th>120640</th>\n",
       "      <td>84.0</td>\n",
       "      <td>71.0</td>\n",
       "    </tr>\n",
       "    <tr>\n",
       "      <th>120641</th>\n",
       "      <td>93.0</td>\n",
       "      <td>73.0</td>\n",
       "    </tr>\n",
       "    <tr>\n",
       "      <th>120642</th>\n",
       "      <td>69.0</td>\n",
       "      <td>57.0</td>\n",
       "    </tr>\n",
       "    <tr>\n",
       "      <th>120643</th>\n",
       "      <td>86.0</td>\n",
       "      <td>41.0</td>\n",
       "    </tr>\n",
       "    <tr>\n",
       "      <th>120644</th>\n",
       "      <td>72.0</td>\n",
       "      <td>36.0</td>\n",
       "    </tr>\n",
       "    <tr>\n",
       "      <th>120645</th>\n",
       "      <td>58.0</td>\n",
       "      <td>42.0</td>\n",
       "    </tr>\n",
       "    <tr>\n",
       "      <th>120646</th>\n",
       "      <td>97.0</td>\n",
       "      <td>64.0</td>\n",
       "    </tr>\n",
       "    <tr>\n",
       "      <th>120647</th>\n",
       "      <td>79.0</td>\n",
       "      <td>50.0</td>\n",
       "    </tr>\n",
       "  </tbody>\n",
       "</table>\n",
       "</div>"
      ],
      "text/plain": [
       "        Humidity9am  Humidity3pm\n",
       "120638         97.0         53.0\n",
       "120639         80.0         39.0\n",
       "120640         84.0         71.0\n",
       "120641         93.0         73.0\n",
       "120642         69.0         57.0\n",
       "120643         86.0         41.0\n",
       "120644         72.0         36.0\n",
       "120645         58.0         42.0\n",
       "120646         97.0         64.0\n",
       "120647         79.0         50.0"
      ]
     },
     "execution_count": 47,
     "metadata": {},
     "output_type": "execute_result"
    }
   ],
   "source": [
    "humidity_df = num_df[['Humidity9am', 'Humidity3pm']]\n",
    "\n",
    "humidity_df.head(10)"
   ]
  },
  {
   "cell_type": "markdown",
   "id": "714912b3",
   "metadata": {
    "papermill": {
     "duration": 0.039216,
     "end_time": "2022-12-28T13:44:06.854290",
     "exception": false,
     "start_time": "2022-12-28T13:44:06.815074",
     "status": "completed"
    },
    "tags": []
   },
   "source": [
    "There are $9$ ($0.28\\%$) missing vallues for *Humidity9am*, and $8$ ($0.25\\%$) missing values for *Humidity3pm*."
   ]
  },
  {
   "cell_type": "code",
   "execution_count": 48,
   "id": "86a93c18",
   "metadata": {
    "_kg_hide-input": true,
    "execution": {
     "iopub.execute_input": "2022-12-28T13:44:06.935275Z",
     "iopub.status.busy": "2022-12-28T13:44:06.934714Z",
     "iopub.status.idle": "2022-12-28T13:44:06.943325Z",
     "shell.execute_reply": "2022-12-28T13:44:06.942198Z"
    },
    "papermill": {
     "duration": 0.052274,
     "end_time": "2022-12-28T13:44:06.946066",
     "exception": false,
     "start_time": "2022-12-28T13:44:06.893792",
     "status": "completed"
    },
    "tags": []
   },
   "outputs": [
    {
     "name": "stdout",
     "output_type": "stream",
     "text": [
      "Humidity9am missing values: 9 (0.28%)\n",
      "Humidity3pm missing values: 8 (0.25%)\n"
     ]
    }
   ],
   "source": [
    "missing_humidity_count = humidity_df.isna().sum()\n",
    "missing_humidity_perc = missing_humidity_count / len(humidity_df)\n",
    "\n",
    "print(f\"Humidity9am missing values: {missing_humidity_count['Humidity9am']} ({missing_humidity_perc['Humidity9am']*100:.2f}%)\")\n",
    "print(f\"Humidity3pm missing values: {missing_humidity_count['Humidity3pm']} ({missing_humidity_perc['Humidity3pm']*100:.2f}%)\")"
   ]
  },
  {
   "cell_type": "markdown",
   "id": "e802c2da",
   "metadata": {
    "papermill": {
     "duration": 0.040969,
     "end_time": "2022-12-28T13:44:07.027026",
     "exception": false,
     "start_time": "2022-12-28T13:44:06.986057",
     "status": "completed"
    },
    "tags": []
   },
   "source": [
    "Both datasets are normally distributed. The *Humidity3pm* dataset is slightly positively skewed at `skewness`= $0.266$ with $49$ outlier data points."
   ]
  },
  {
   "cell_type": "code",
   "execution_count": 49,
   "id": "7cb14484",
   "metadata": {
    "_kg_hide-input": true,
    "execution": {
     "iopub.execute_input": "2022-12-28T13:44:07.109525Z",
     "iopub.status.busy": "2022-12-28T13:44:07.109112Z",
     "iopub.status.idle": "2022-12-28T13:44:07.606901Z",
     "shell.execute_reply": "2022-12-28T13:44:07.605585Z"
    },
    "papermill": {
     "duration": 0.542255,
     "end_time": "2022-12-28T13:44:07.609582",
     "exception": false,
     "start_time": "2022-12-28T13:44:07.067327",
     "status": "completed"
    },
    "tags": []
   },
   "outputs": [
    {
     "data": {
      "image/png": "[encoded data removed]",
      "text/plain": [
       "<Figure size 1440x432 with 4 Axes>"
      ]
     },
     "metadata": {
      "needs_background": "light"
     },
     "output_type": "display_data"
    }
   ],
   "source": [
    "_, axes = plt.subplots(2, 2, figsize=(20,6))\n",
    "\n",
    "humidity_df.hist(ax=axes[0])\n",
    "\n",
    "sns.boxplot(ax=axes[1,0], x=humidity_df['Humidity9am'])\n",
    "sns.boxplot(ax=axes[1,1], x=humidity_df['Humidity3pm'])\n",
    "\n",
    "plt.show()"
   ]
  },
  {
   "cell_type": "code",
   "execution_count": 50,
   "id": "34b24ed1",
   "metadata": {
    "_kg_hide-input": true,
    "execution": {
     "iopub.execute_input": "2022-12-28T13:44:07.693972Z",
     "iopub.status.busy": "2022-12-28T13:44:07.693535Z",
     "iopub.status.idle": "2022-12-28T13:44:07.702115Z",
     "shell.execute_reply": "2022-12-28T13:44:07.700662Z"
    },
    "papermill": {
     "duration": 0.054157,
     "end_time": "2022-12-28T13:44:07.705174",
     "exception": false,
     "start_time": "2022-12-28T13:44:07.651017",
     "status": "completed"
    },
    "tags": []
   },
   "outputs": [
    {
     "name": "stdout",
     "output_type": "stream",
     "text": [
      "Humidity9am skewness: -0.002\n",
      "Humidity3pm skewness: 0.266\n"
     ]
    }
   ],
   "source": [
    "humidity_skewness = humidity_df.skew()\n",
    "\n",
    "print(f\"Humidity9am skewness: {humidity_skewness['Humidity9am']:.3f}\")\n",
    "print(f\"Humidity3pm skewness: {humidity_skewness['Humidity3pm']:.3f}\")"
   ]
  },
  {
   "cell_type": "code",
   "execution_count": 51,
   "id": "f9c25023",
   "metadata": {
    "execution": {
     "iopub.execute_input": "2022-12-28T13:44:07.790179Z",
     "iopub.status.busy": "2022-12-28T13:44:07.789400Z",
     "iopub.status.idle": "2022-12-28T13:44:07.799497Z",
     "shell.execute_reply": "2022-12-28T13:44:07.797002Z"
    },
    "papermill": {
     "duration": 0.055656,
     "end_time": "2022-12-28T13:44:07.802475",
     "exception": false,
     "start_time": "2022-12-28T13:44:07.746819",
     "status": "completed"
    },
    "tags": []
   },
   "outputs": [
    {
     "name": "stdout",
     "output_type": "stream",
     "text": [
      "Number of outlier data points (Humidity3pm): 49\n",
      "Unique value count: (9 unique values)\n",
      "Outliers counts:\n",
      "  90.0 \t 10 occurrence(s)\n",
      "  94.0 \t 9 occurrence(s)\n",
      "  89.0 \t 9 occurrence(s)\n",
      "  93.0 \t 7 occurrence(s)\n",
      "  91.0 \t 7 occurrence(s)\n",
      "  92.0 \t 4 occurrence(s)\n",
      "  97.0 \t 1 occurrence(s)\n",
      "  96.0 \t 1 occurrence(s)\n",
      "  95.0 \t 1 occurrence(s)\n"
     ]
    }
   ],
   "source": [
    "identify_outliers(humidity_df, 'Humidity3pm')"
   ]
  },
  {
   "cell_type": "markdown",
   "id": "b79e1c55",
   "metadata": {
    "papermill": {
     "duration": 0.041814,
     "end_time": "2022-12-28T13:44:07.884961",
     "exception": false,
     "start_time": "2022-12-28T13:44:07.843147",
     "status": "completed"
    },
    "tags": []
   },
   "source": []
  },
  {
   "cell_type": "markdown",
   "id": "cfa6998f",
   "metadata": {
    "papermill": {
     "duration": 0.041821,
     "end_time": "2022-12-28T13:44:07.968554",
     "exception": false,
     "start_time": "2022-12-28T13:44:07.926733",
     "status": "completed"
    },
    "tags": []
   },
   "source": [
    "### __Pressure\n",
    "\n",
    "📙 **SUMMARY**\n",
    "* The datasets are expressed in hectopascalsand are rounded to the nearest tenth of a decimal.\n",
    "* There is $1$ missing value for each dataset.\n",
    "* The distribution is symmetric  and follows a normal distribution.\n",
    "* Each dataset have outliers on both side: \n",
    "  * *Pressure9am* has $7$ low outliers and $4$ high outliers,\n",
    "  * *Pressure3pm* has $5$ low outliers and $3$ high outliers."
   ]
  },
  {
   "cell_type": "markdown",
   "id": "6f516e94",
   "metadata": {
    "papermill": {
     "duration": 0.040497,
     "end_time": "2022-12-28T13:44:08.050590",
     "exception": false,
     "start_time": "2022-12-28T13:44:08.010093",
     "status": "completed"
    },
    "tags": []
   },
   "source": [
    "The data refers to the atmospheric pressure at sea level in **hectopascals** and are rounded to the neearest tenths of a decimal."
   ]
  },
  {
   "cell_type": "code",
   "execution_count": 52,
   "id": "41788d0e",
   "metadata": {
    "execution": {
     "iopub.execute_input": "2022-12-28T13:44:08.136100Z",
     "iopub.status.busy": "2022-12-28T13:44:08.135344Z",
     "iopub.status.idle": "2022-12-28T13:44:08.148544Z",
     "shell.execute_reply": "2022-12-28T13:44:08.147349Z"
    },
    "papermill": {
     "duration": 0.058808,
     "end_time": "2022-12-28T13:44:08.151088",
     "exception": false,
     "start_time": "2022-12-28T13:44:08.092280",
     "status": "completed"
    },
    "tags": []
   },
   "outputs": [
    {
     "data": {
      "text/html": [
       "<div>\n",
       "<style scoped>\n",
       "    .dataframe tbody tr th:only-of-type {\n",
       "        vertical-align: middle;\n",
       "    }\n",
       "\n",
       "    .dataframe tbody tr th {\n",
       "        vertical-align: top;\n",
       "    }\n",
       "\n",
       "    .dataframe thead th {\n",
       "        text-align: right;\n",
       "    }\n",
       "</style>\n",
       "<table border=\"1\" class=\"dataframe\">\n",
       "  <thead>\n",
       "    <tr style=\"text-align: right;\">\n",
       "      <th></th>\n",
       "      <th>Pressure9am</th>\n",
       "      <th>Pressure3pm</th>\n",
       "    </tr>\n",
       "  </thead>\n",
       "  <tbody>\n",
       "    <tr>\n",
       "      <th>120638</th>\n",
       "      <td>1027.6</td>\n",
       "      <td>1024.5</td>\n",
       "    </tr>\n",
       "    <tr>\n",
       "      <th>120639</th>\n",
       "      <td>1024.1</td>\n",
       "      <td>1019.0</td>\n",
       "    </tr>\n",
       "    <tr>\n",
       "      <th>120640</th>\n",
       "      <td>1016.8</td>\n",
       "      <td>1015.6</td>\n",
       "    </tr>\n",
       "    <tr>\n",
       "      <th>120641</th>\n",
       "      <td>1019.3</td>\n",
       "      <td>1018.4</td>\n",
       "    </tr>\n",
       "    <tr>\n",
       "      <th>120642</th>\n",
       "      <td>1020.4</td>\n",
       "      <td>1022.1</td>\n",
       "    </tr>\n",
       "    <tr>\n",
       "      <th>120643</th>\n",
       "      <td>1032.0</td>\n",
       "      <td>1029.6</td>\n",
       "    </tr>\n",
       "    <tr>\n",
       "      <th>120644</th>\n",
       "      <td>1028.9</td>\n",
       "      <td>1024.2</td>\n",
       "    </tr>\n",
       "    <tr>\n",
       "      <th>120645</th>\n",
       "      <td>1023.9</td>\n",
       "      <td>1021.1</td>\n",
       "    </tr>\n",
       "    <tr>\n",
       "      <th>120646</th>\n",
       "      <td>1026.4</td>\n",
       "      <td>1024.9</td>\n",
       "    </tr>\n",
       "    <tr>\n",
       "      <th>120647</th>\n",
       "      <td>1020.2</td>\n",
       "      <td>1014.0</td>\n",
       "    </tr>\n",
       "  </tbody>\n",
       "</table>\n",
       "</div>"
      ],
      "text/plain": [
       "        Pressure9am  Pressure3pm\n",
       "120638       1027.6       1024.5\n",
       "120639       1024.1       1019.0\n",
       "120640       1016.8       1015.6\n",
       "120641       1019.3       1018.4\n",
       "120642       1020.4       1022.1\n",
       "120643       1032.0       1029.6\n",
       "120644       1028.9       1024.2\n",
       "120645       1023.9       1021.1\n",
       "120646       1026.4       1024.9\n",
       "120647       1020.2       1014.0"
      ]
     },
     "execution_count": 52,
     "metadata": {},
     "output_type": "execute_result"
    }
   ],
   "source": [
    "pressure_df = num_df[['Pressure9am', 'Pressure3pm']]\n",
    "pressure_df.head(10)"
   ]
  },
  {
   "cell_type": "markdown",
   "id": "1a0bb7d3",
   "metadata": {
    "papermill": {
     "duration": 0.040494,
     "end_time": "2022-12-28T13:44:08.234526",
     "exception": false,
     "start_time": "2022-12-28T13:44:08.194032",
     "status": "completed"
    },
    "tags": []
   },
   "source": [
    "Both pressure datasets have $1$ missing value."
   ]
  },
  {
   "cell_type": "code",
   "execution_count": 53,
   "id": "35b2b3d6",
   "metadata": {
    "execution": {
     "iopub.execute_input": "2022-12-28T13:44:08.320085Z",
     "iopub.status.busy": "2022-12-28T13:44:08.319451Z",
     "iopub.status.idle": "2022-12-28T13:44:08.327967Z",
     "shell.execute_reply": "2022-12-28T13:44:08.326411Z"
    },
    "papermill": {
     "duration": 0.05457,
     "end_time": "2022-12-28T13:44:08.330308",
     "exception": false,
     "start_time": "2022-12-28T13:44:08.275738",
     "status": "completed"
    },
    "tags": []
   },
   "outputs": [
    {
     "name": "stdout",
     "output_type": "stream",
     "text": [
      "Pressure9am missing values: 1 (0.03%)\n",
      "Pressure3pm missing values: 1 (0.03%)\n"
     ]
    }
   ],
   "source": [
    "missing_pressure_count = pressure_df.isna().sum()\n",
    "missing_pressure_perc = missing_pressure_count / len(pressure_df)\n",
    "\n",
    "\n",
    "print(f\"Pressure9am missing values: {missing_pressure_count['Pressure9am']} ({missing_pressure_perc['Pressure9am']*100:.2f}%)\")\n",
    "print(f\"Pressure3pm missing values: {missing_pressure_count['Pressure3pm']} ({missing_pressure_perc['Pressure3pm']*100:.2f}%)\")"
   ]
  },
  {
   "cell_type": "markdown",
   "id": "5be91e7e",
   "metadata": {
    "execution": {
     "iopub.execute_input": "2022-12-26T03:55:45.082239Z",
     "iopub.status.busy": "2022-12-26T03:55:45.081758Z",
     "iopub.status.idle": "2022-12-26T03:55:45.087023Z",
     "shell.execute_reply": "2022-12-26T03:55:45.086043Z",
     "shell.execute_reply.started": "2022-12-26T03:55:45.082215Z"
    },
    "papermill": {
     "duration": 0.040822,
     "end_time": "2022-12-28T13:44:08.412427",
     "exception": false,
     "start_time": "2022-12-28T13:44:08.371605",
     "status": "completed"
    },
    "tags": []
   },
   "source": [
    "Both datasets seem to be following the normal distribution and symmetric."
   ]
  },
  {
   "cell_type": "code",
   "execution_count": 54,
   "id": "aabacc8f",
   "metadata": {
    "execution": {
     "iopub.execute_input": "2022-12-28T13:44:08.497257Z",
     "iopub.status.busy": "2022-12-28T13:44:08.496180Z",
     "iopub.status.idle": "2022-12-28T13:44:09.192597Z",
     "shell.execute_reply": "2022-12-28T13:44:09.191638Z"
    },
    "papermill": {
     "duration": 0.741488,
     "end_time": "2022-12-28T13:44:09.195067",
     "exception": false,
     "start_time": "2022-12-28T13:44:08.453579",
     "status": "completed"
    },
    "tags": []
   },
   "outputs": [
    {
     "data": {
      "image/png": "[encoded data removed]",
      "text/plain": [
       "<Figure size 1440x432 with 4 Axes>"
      ]
     },
     "metadata": {
      "needs_background": "light"
     },
     "output_type": "display_data"
    }
   ],
   "source": [
    "_, axes = plt.subplots(2, 2, figsize=(20, 6))\n",
    "\n",
    "pressure_df.hist(ax=axes[0])\n",
    "sns.boxplot(ax=axes[1, 0], x=pressure_df['Pressure9am'])\n",
    "sns.boxplot(ax=axes[1, 1], x=pressure_df['Pressure3pm'])\n",
    "\n",
    "plt.show()"
   ]
  },
  {
   "cell_type": "code",
   "execution_count": 55,
   "id": "55279b00",
   "metadata": {
    "execution": {
     "iopub.execute_input": "2022-12-28T13:44:09.282150Z",
     "iopub.status.busy": "2022-12-28T13:44:09.281066Z",
     "iopub.status.idle": "2022-12-28T13:44:09.288344Z",
     "shell.execute_reply": "2022-12-28T13:44:09.287252Z"
    },
    "papermill": {
     "duration": 0.052755,
     "end_time": "2022-12-28T13:44:09.291156",
     "exception": false,
     "start_time": "2022-12-28T13:44:09.238401",
     "status": "completed"
    },
    "tags": []
   },
   "outputs": [
    {
     "name": "stdout",
     "output_type": "stream",
     "text": [
      "Pressure9am skewness:  0.13\n",
      "Pressure3pm skewness:  0.15\n"
     ]
    }
   ],
   "source": [
    "pressure_skewness = pressure_df.skew()\n",
    "\n",
    "print(f\"Pressure9am skewness: {pressure_skewness['Pressure9am']: .2f}\")\n",
    "print(f\"Pressure3pm skewness: {pressure_skewness['Pressure3pm']: .2f}\")"
   ]
  },
  {
   "cell_type": "markdown",
   "id": "e1b7564e",
   "metadata": {
    "papermill": {
     "duration": 0.041101,
     "end_time": "2022-12-28T13:44:09.374905",
     "exception": false,
     "start_time": "2022-12-28T13:44:09.333804",
     "status": "completed"
    },
    "tags": []
   },
   "source": [
    "The *Pressure9am* has $11$ outlier points with $10$ unique values while *Pressure3pm* has $8$ outlier points, each with different values."
   ]
  },
  {
   "cell_type": "code",
   "execution_count": 56,
   "id": "0f641556",
   "metadata": {
    "execution": {
     "iopub.execute_input": "2022-12-28T13:44:09.460200Z",
     "iopub.status.busy": "2022-12-28T13:44:09.459212Z",
     "iopub.status.idle": "2022-12-28T13:44:09.467830Z",
     "shell.execute_reply": "2022-12-28T13:44:09.466518Z"
    },
    "papermill": {
     "duration": 0.053938,
     "end_time": "2022-12-28T13:44:09.470422",
     "exception": false,
     "start_time": "2022-12-28T13:44:09.416484",
     "status": "completed"
    },
    "tags": []
   },
   "outputs": [
    {
     "name": "stdout",
     "output_type": "stream",
     "text": [
      "Number of outlier data points (Pressure9am): 11\n",
      "Unique value count: (10 unique values)\n",
      "Outliers counts:\n",
      "  996.4 \t 2 occurrence(s)\n",
      "  999.3 \t 1 occurrence(s)\n",
      "  997.5 \t 1 occurrence(s)\n",
      "  997.2 \t 1 occurrence(s)\n",
      "  997.9 \t 1 occurrence(s)\n",
      "  996.2 \t 1 occurrence(s)\n",
      "  1038.0 \t 1 occurrence(s)\n",
      "  1037.0 \t 1 occurrence(s)\n",
      "  1038.8 \t 1 occurrence(s)\n",
      "  1036.7 \t 1 occurrence(s)\n"
     ]
    }
   ],
   "source": [
    "identify_outliers(pressure_df, 'Pressure9am')"
   ]
  },
  {
   "cell_type": "code",
   "execution_count": 57,
   "id": "adf4c28f",
   "metadata": {
    "execution": {
     "iopub.execute_input": "2022-12-28T13:44:09.555796Z",
     "iopub.status.busy": "2022-12-28T13:44:09.555356Z",
     "iopub.status.idle": "2022-12-28T13:44:09.566183Z",
     "shell.execute_reply": "2022-12-28T13:44:09.564683Z"
    },
    "papermill": {
     "duration": 0.057455,
     "end_time": "2022-12-28T13:44:09.569615",
     "exception": false,
     "start_time": "2022-12-28T13:44:09.512160",
     "status": "completed"
    },
    "tags": []
   },
   "outputs": [
    {
     "name": "stdout",
     "output_type": "stream",
     "text": [
      "Number of outlier data points (Pressure3pm): 8\n",
      "Unique value count: (8 unique values)\n",
      "Outliers counts:\n",
      "  996.9 \t 1 occurrence(s)\n",
      "  996.8 \t 1 occurrence(s)\n",
      "  997.6 \t 1 occurrence(s)\n",
      "  995.9 \t 1 occurrence(s)\n",
      "  991.9 \t 1 occurrence(s)\n",
      "  1034.3 \t 1 occurrence(s)\n",
      "  1033.7 \t 1 occurrence(s)\n",
      "  1034.0 \t 1 occurrence(s)\n"
     ]
    }
   ],
   "source": [
    "identify_outliers(pressure_df, 'Pressure3pm')"
   ]
  },
  {
   "cell_type": "markdown",
   "id": "d8c1d97e",
   "metadata": {
    "papermill": {
     "duration": 0.04587,
     "end_time": "2022-12-28T13:44:09.657517",
     "exception": false,
     "start_time": "2022-12-28T13:44:09.611647",
     "status": "completed"
    },
    "tags": []
   },
   "source": [
    "### __Cloud\n",
    "\n",
    "📙 **SUMMARY**\n",
    "* The data is expressed in $\\frac{1}{8}$ units.\n",
    "* There are $2$ missing values *Cloud9am* and $4$ missing values on *Cloud3pm*.\n"
   ]
  },
  {
   "cell_type": "markdown",
   "id": "75366003",
   "metadata": {
    "papermill": {
     "duration": 0.041404,
     "end_time": "2022-12-28T13:44:09.740473",
     "exception": false,
     "start_time": "2022-12-28T13:44:09.699069",
     "status": "completed"
    },
    "tags": []
   },
   "source": [
    "The dataset refers to the fraction of the sky obscured by cloud at 3pm and is expressed in $\\frac{1}{8}$ unit. Hence, the values are integral values (despite the float data type) from $0$ to $8$."
   ]
  },
  {
   "cell_type": "code",
   "execution_count": 58,
   "id": "51cd21c6",
   "metadata": {
    "execution": {
     "iopub.execute_input": "2022-12-28T13:44:09.824819Z",
     "iopub.status.busy": "2022-12-28T13:44:09.824412Z",
     "iopub.status.idle": "2022-12-28T13:44:09.837593Z",
     "shell.execute_reply": "2022-12-28T13:44:09.836492Z"
    },
    "papermill": {
     "duration": 0.057862,
     "end_time": "2022-12-28T13:44:09.839832",
     "exception": false,
     "start_time": "2022-12-28T13:44:09.781970",
     "status": "completed"
    },
    "tags": []
   },
   "outputs": [
    {
     "data": {
      "text/html": [
       "<div>\n",
       "<style scoped>\n",
       "    .dataframe tbody tr th:only-of-type {\n",
       "        vertical-align: middle;\n",
       "    }\n",
       "\n",
       "    .dataframe tbody tr th {\n",
       "        vertical-align: top;\n",
       "    }\n",
       "\n",
       "    .dataframe thead th {\n",
       "        text-align: right;\n",
       "    }\n",
       "</style>\n",
       "<table border=\"1\" class=\"dataframe\">\n",
       "  <thead>\n",
       "    <tr style=\"text-align: right;\">\n",
       "      <th></th>\n",
       "      <th>Cloud9am</th>\n",
       "      <th>Cloud3pm</th>\n",
       "    </tr>\n",
       "  </thead>\n",
       "  <tbody>\n",
       "    <tr>\n",
       "      <th>120638</th>\n",
       "      <td>2.0</td>\n",
       "      <td>3.0</td>\n",
       "    </tr>\n",
       "    <tr>\n",
       "      <th>120639</th>\n",
       "      <td>0.0</td>\n",
       "      <td>6.0</td>\n",
       "    </tr>\n",
       "    <tr>\n",
       "      <th>120640</th>\n",
       "      <td>1.0</td>\n",
       "      <td>3.0</td>\n",
       "    </tr>\n",
       "    <tr>\n",
       "      <th>120641</th>\n",
       "      <td>6.0</td>\n",
       "      <td>6.0</td>\n",
       "    </tr>\n",
       "    <tr>\n",
       "      <th>120642</th>\n",
       "      <td>7.0</td>\n",
       "      <td>5.0</td>\n",
       "    </tr>\n",
       "    <tr>\n",
       "      <th>120643</th>\n",
       "      <td>0.0</td>\n",
       "      <td>1.0</td>\n",
       "    </tr>\n",
       "    <tr>\n",
       "      <th>120644</th>\n",
       "      <td>1.0</td>\n",
       "      <td>5.0</td>\n",
       "    </tr>\n",
       "    <tr>\n",
       "      <th>120645</th>\n",
       "      <td>6.0</td>\n",
       "      <td>5.0</td>\n",
       "    </tr>\n",
       "    <tr>\n",
       "      <th>120646</th>\n",
       "      <td>7.0</td>\n",
       "      <td>6.0</td>\n",
       "    </tr>\n",
       "    <tr>\n",
       "      <th>120647</th>\n",
       "      <td>7.0</td>\n",
       "      <td>7.0</td>\n",
       "    </tr>\n",
       "  </tbody>\n",
       "</table>\n",
       "</div>"
      ],
      "text/plain": [
       "        Cloud9am  Cloud3pm\n",
       "120638       2.0       3.0\n",
       "120639       0.0       6.0\n",
       "120640       1.0       3.0\n",
       "120641       6.0       6.0\n",
       "120642       7.0       5.0\n",
       "120643       0.0       1.0\n",
       "120644       1.0       5.0\n",
       "120645       6.0       5.0\n",
       "120646       7.0       6.0\n",
       "120647       7.0       7.0"
      ]
     },
     "execution_count": 58,
     "metadata": {},
     "output_type": "execute_result"
    }
   ],
   "source": [
    "cloud_df = num_df[['Cloud9am', 'Cloud3pm']]\n",
    "cloud_df.head(10)"
   ]
  },
  {
   "cell_type": "code",
   "execution_count": 59,
   "id": "90b472b6",
   "metadata": {
    "execution": {
     "iopub.execute_input": "2022-12-28T13:44:09.924576Z",
     "iopub.status.busy": "2022-12-28T13:44:09.924136Z",
     "iopub.status.idle": "2022-12-28T13:44:09.947132Z",
     "shell.execute_reply": "2022-12-28T13:44:09.946108Z"
    },
    "papermill": {
     "duration": 0.067819,
     "end_time": "2022-12-28T13:44:09.949430",
     "exception": false,
     "start_time": "2022-12-28T13:44:09.881611",
     "status": "completed"
    },
    "tags": []
   },
   "outputs": [
    {
     "data": {
      "text/html": [
       "<div>\n",
       "<style scoped>\n",
       "    .dataframe tbody tr th:only-of-type {\n",
       "        vertical-align: middle;\n",
       "    }\n",
       "\n",
       "    .dataframe tbody tr th {\n",
       "        vertical-align: top;\n",
       "    }\n",
       "\n",
       "    .dataframe thead th {\n",
       "        text-align: right;\n",
       "    }\n",
       "</style>\n",
       "<table border=\"1\" class=\"dataframe\">\n",
       "  <thead>\n",
       "    <tr style=\"text-align: right;\">\n",
       "      <th></th>\n",
       "      <th>count</th>\n",
       "      <th>mean</th>\n",
       "      <th>std</th>\n",
       "      <th>min</th>\n",
       "      <th>25%</th>\n",
       "      <th>50%</th>\n",
       "      <th>75%</th>\n",
       "      <th>max</th>\n",
       "    </tr>\n",
       "  </thead>\n",
       "  <tbody>\n",
       "    <tr>\n",
       "      <th>Cloud9am</th>\n",
       "      <td>3191.0</td>\n",
       "      <td>3.383579</td>\n",
       "      <td>2.800834</td>\n",
       "      <td>0.0</td>\n",
       "      <td>1.0</td>\n",
       "      <td>3.0</td>\n",
       "      <td>6.0</td>\n",
       "      <td>8.0</td>\n",
       "    </tr>\n",
       "    <tr>\n",
       "      <th>Cloud3pm</th>\n",
       "      <td>3189.0</td>\n",
       "      <td>3.469740</td>\n",
       "      <td>2.681804</td>\n",
       "      <td>0.0</td>\n",
       "      <td>1.0</td>\n",
       "      <td>3.0</td>\n",
       "      <td>6.0</td>\n",
       "      <td>8.0</td>\n",
       "    </tr>\n",
       "  </tbody>\n",
       "</table>\n",
       "</div>"
      ],
      "text/plain": [
       "           count      mean       std  min  25%  50%  75%  max\n",
       "Cloud9am  3191.0  3.383579  2.800834  0.0  1.0  3.0  6.0  8.0\n",
       "Cloud3pm  3189.0  3.469740  2.681804  0.0  1.0  3.0  6.0  8.0"
      ]
     },
     "execution_count": 59,
     "metadata": {},
     "output_type": "execute_result"
    }
   ],
   "source": [
    "cloud_df.describe().transpose()"
   ]
  },
  {
   "cell_type": "markdown",
   "id": "b6bd13c2",
   "metadata": {
    "papermill": {
     "duration": 0.042956,
     "end_time": "2022-12-28T13:44:10.034861",
     "exception": false,
     "start_time": "2022-12-28T13:44:09.991905",
     "status": "completed"
    },
    "tags": []
   },
   "source": [
    "For *Cloud9am*, there are $2$ missing values while *Cloud3pm* has $4$ missing values."
   ]
  },
  {
   "cell_type": "code",
   "execution_count": 60,
   "id": "df06f7af",
   "metadata": {
    "execution": {
     "iopub.execute_input": "2022-12-28T13:44:10.121627Z",
     "iopub.status.busy": "2022-12-28T13:44:10.120829Z",
     "iopub.status.idle": "2022-12-28T13:44:10.129043Z",
     "shell.execute_reply": "2022-12-28T13:44:10.127522Z"
    },
    "papermill": {
     "duration": 0.054116,
     "end_time": "2022-12-28T13:44:10.131478",
     "exception": false,
     "start_time": "2022-12-28T13:44:10.077362",
     "status": "completed"
    },
    "tags": []
   },
   "outputs": [
    {
     "name": "stdout",
     "output_type": "stream",
     "text": [
      "Cloud9am missing values: 2\n",
      "Cloud3pm missing values: 4\n"
     ]
    }
   ],
   "source": [
    "missing_cloud_count = cloud_df.isna().sum()\n",
    "missing_cloud_perc = missing_cloud_count / len(cloud_df)\n",
    "\n",
    "print(f\"Cloud9am missing values: {missing_cloud_count['Cloud9am']}\")\n",
    "print(f\"Cloud3pm missing values: {missing_cloud_count['Cloud3pm']}\")"
   ]
  },
  {
   "cell_type": "markdown",
   "id": "e0819452",
   "metadata": {
    "papermill": {
     "duration": 0.042408,
     "end_time": "2022-12-28T13:44:10.217774",
     "exception": false,
     "start_time": "2022-12-28T13:44:10.175366",
     "status": "completed"
    },
    "tags": []
   },
   "source": [
    "The data distribution does not follow the normal distribution and has no outliers."
   ]
  },
  {
   "cell_type": "code",
   "execution_count": 61,
   "id": "af159cc7",
   "metadata": {
    "execution": {
     "iopub.execute_input": "2022-12-28T13:44:10.305204Z",
     "iopub.status.busy": "2022-12-28T13:44:10.304144Z",
     "iopub.status.idle": "2022-12-28T13:44:10.818215Z",
     "shell.execute_reply": "2022-12-28T13:44:10.817083Z"
    },
    "papermill": {
     "duration": 0.560051,
     "end_time": "2022-12-28T13:44:10.820625",
     "exception": false,
     "start_time": "2022-12-28T13:44:10.260574",
     "status": "completed"
    },
    "tags": []
   },
   "outputs": [
    {
     "data": {
      "image/png": "[encoded data removed]",
      "text/plain": [
       "<Figure size 1440x432 with 4 Axes>"
      ]
     },
     "metadata": {
      "needs_background": "light"
     },
     "output_type": "display_data"
    }
   ],
   "source": [
    "_, axes = plt.subplots(2, 2, figsize=(20, 6))\n",
    "\n",
    "# selecting bins=9 to ensure one bar per value (0, 1/8, 2/8, ... , 8/8)\n",
    "cloud_df.hist(ax=axes[0], bins=9)\n",
    "sns.boxplot(ax=axes[1, 0], x=cloud_df['Cloud9am'])\n",
    "sns.boxplot(ax=axes[1, 1], x=cloud_df['Cloud3pm'])\n",
    "\n",
    "plt.show()"
   ]
  },
  {
   "cell_type": "markdown",
   "id": "21a4836a",
   "metadata": {
    "papermill": {
     "duration": 0.043279,
     "end_time": "2022-12-28T13:44:10.907293",
     "exception": false,
     "start_time": "2022-12-28T13:44:10.864014",
     "status": "completed"
    },
    "tags": []
   },
   "source": [
    "### __Temperature"
   ]
  },
  {
   "cell_type": "markdown",
   "id": "6adb4f68",
   "metadata": {
    "papermill": {
     "duration": 0.04271,
     "end_time": "2022-12-28T13:44:10.992460",
     "exception": false,
     "start_time": "2022-12-28T13:44:10.949750",
     "status": "completed"
    },
    "tags": []
   },
   "source": [
    "The temperature is expressed in $^\\circ C$ and has a mean"
   ]
  },
  {
   "cell_type": "code",
   "execution_count": 62,
   "id": "39f1ce77",
   "metadata": {
    "execution": {
     "iopub.execute_input": "2022-12-28T13:44:11.080736Z",
     "iopub.status.busy": "2022-12-28T13:44:11.079633Z",
     "iopub.status.idle": "2022-12-28T13:44:11.092525Z",
     "shell.execute_reply": "2022-12-28T13:44:11.091350Z"
    },
    "papermill": {
     "duration": 0.059754,
     "end_time": "2022-12-28T13:44:11.094998",
     "exception": false,
     "start_time": "2022-12-28T13:44:11.035244",
     "status": "completed"
    },
    "tags": []
   },
   "outputs": [
    {
     "data": {
      "text/html": [
       "<div>\n",
       "<style scoped>\n",
       "    .dataframe tbody tr th:only-of-type {\n",
       "        vertical-align: middle;\n",
       "    }\n",
       "\n",
       "    .dataframe tbody tr th {\n",
       "        vertical-align: top;\n",
       "    }\n",
       "\n",
       "    .dataframe thead th {\n",
       "        text-align: right;\n",
       "    }\n",
       "</style>\n",
       "<table border=\"1\" class=\"dataframe\">\n",
       "  <thead>\n",
       "    <tr style=\"text-align: right;\">\n",
       "      <th></th>\n",
       "      <th>Temp9am</th>\n",
       "      <th>Temp3pm</th>\n",
       "    </tr>\n",
       "  </thead>\n",
       "  <tbody>\n",
       "    <tr>\n",
       "      <th>120638</th>\n",
       "      <td>8.5</td>\n",
       "      <td>18.1</td>\n",
       "    </tr>\n",
       "    <tr>\n",
       "      <th>120639</th>\n",
       "      <td>11.1</td>\n",
       "      <td>19.7</td>\n",
       "    </tr>\n",
       "    <tr>\n",
       "      <th>120640</th>\n",
       "      <td>12.1</td>\n",
       "      <td>17.7</td>\n",
       "    </tr>\n",
       "    <tr>\n",
       "      <th>120641</th>\n",
       "      <td>13.2</td>\n",
       "      <td>17.7</td>\n",
       "    </tr>\n",
       "    <tr>\n",
       "      <th>120642</th>\n",
       "      <td>15.9</td>\n",
       "      <td>16.0</td>\n",
       "    </tr>\n",
       "  </tbody>\n",
       "</table>\n",
       "</div>"
      ],
      "text/plain": [
       "        Temp9am  Temp3pm\n",
       "120638      8.5     18.1\n",
       "120639     11.1     19.7\n",
       "120640     12.1     17.7\n",
       "120641     13.2     17.7\n",
       "120642     15.9     16.0"
      ]
     },
     "execution_count": 62,
     "metadata": {},
     "output_type": "execute_result"
    }
   ],
   "source": [
    "temperature_df = num_df[['Temp9am', 'Temp3pm']]\n",
    "temperature_df.head()"
   ]
  },
  {
   "cell_type": "code",
   "execution_count": 63,
   "id": "ac4b06d3",
   "metadata": {
    "execution": {
     "iopub.execute_input": "2022-12-28T13:44:11.182327Z",
     "iopub.status.busy": "2022-12-28T13:44:11.181206Z",
     "iopub.status.idle": "2022-12-28T13:44:11.204581Z",
     "shell.execute_reply": "2022-12-28T13:44:11.203314Z"
    },
    "papermill": {
     "duration": 0.069914,
     "end_time": "2022-12-28T13:44:11.207211",
     "exception": false,
     "start_time": "2022-12-28T13:44:11.137297",
     "status": "completed"
    },
    "tags": []
   },
   "outputs": [
    {
     "data": {
      "text/html": [
       "<div>\n",
       "<style scoped>\n",
       "    .dataframe tbody tr th:only-of-type {\n",
       "        vertical-align: middle;\n",
       "    }\n",
       "\n",
       "    .dataframe tbody tr th {\n",
       "        vertical-align: top;\n",
       "    }\n",
       "\n",
       "    .dataframe thead th {\n",
       "        text-align: right;\n",
       "    }\n",
       "</style>\n",
       "<table border=\"1\" class=\"dataframe\">\n",
       "  <thead>\n",
       "    <tr style=\"text-align: right;\">\n",
       "      <th></th>\n",
       "      <th>count</th>\n",
       "      <th>mean</th>\n",
       "      <th>std</th>\n",
       "      <th>min</th>\n",
       "      <th>25%</th>\n",
       "      <th>50%</th>\n",
       "      <th>75%</th>\n",
       "      <th>max</th>\n",
       "    </tr>\n",
       "  </thead>\n",
       "  <tbody>\n",
       "    <tr>\n",
       "      <th>Temp9am</th>\n",
       "      <td>3193.0</td>\n",
       "      <td>18.573598</td>\n",
       "      <td>5.34664</td>\n",
       "      <td>5.6</td>\n",
       "      <td>14.5</td>\n",
       "      <td>18.3</td>\n",
       "      <td>22.3</td>\n",
       "      <td>39.0</td>\n",
       "    </tr>\n",
       "    <tr>\n",
       "      <th>Temp3pm</th>\n",
       "      <td>3192.0</td>\n",
       "      <td>23.461748</td>\n",
       "      <td>5.86863</td>\n",
       "      <td>8.4</td>\n",
       "      <td>18.9</td>\n",
       "      <td>22.5</td>\n",
       "      <td>27.3</td>\n",
       "      <td>42.5</td>\n",
       "    </tr>\n",
       "  </tbody>\n",
       "</table>\n",
       "</div>"
      ],
      "text/plain": [
       "          count       mean      std  min   25%   50%   75%   max\n",
       "Temp9am  3193.0  18.573598  5.34664  5.6  14.5  18.3  22.3  39.0\n",
       "Temp3pm  3192.0  23.461748  5.86863  8.4  18.9  22.5  27.3  42.5"
      ]
     },
     "execution_count": 63,
     "metadata": {},
     "output_type": "execute_result"
    }
   ],
   "source": [
    "temperature_df.describe().transpose()"
   ]
  },
  {
   "cell_type": "markdown",
   "id": "67e8f38b",
   "metadata": {
    "papermill": {
     "duration": 0.042203,
     "end_time": "2022-12-28T13:44:11.292277",
     "exception": false,
     "start_time": "2022-12-28T13:44:11.250074",
     "status": "completed"
    },
    "tags": []
   },
   "source": [
    "There is only $1$ missing value for *Temp3pm* and none for*Temp9am*."
   ]
  },
  {
   "cell_type": "code",
   "execution_count": 64,
   "id": "7250ca06",
   "metadata": {
    "execution": {
     "iopub.execute_input": "2022-12-28T13:44:11.379766Z",
     "iopub.status.busy": "2022-12-28T13:44:11.379321Z",
     "iopub.status.idle": "2022-12-28T13:44:11.387794Z",
     "shell.execute_reply": "2022-12-28T13:44:11.386599Z"
    },
    "papermill": {
     "duration": 0.054866,
     "end_time": "2022-12-28T13:44:11.390084",
     "exception": false,
     "start_time": "2022-12-28T13:44:11.335218",
     "status": "completed"
    },
    "tags": []
   },
   "outputs": [
    {
     "name": "stdout",
     "output_type": "stream",
     "text": [
      "Temp9AM missing values: 0 (0.000%)\n",
      "Temp3PM missing values: 1 (0.000%)\n"
     ]
    }
   ],
   "source": [
    "missing_temperature_values = temperature_df.isna().sum()\n",
    "missing_temperature_perc = missing_temperature_values / len(temperature_df)\n",
    "\n",
    "print(f\"Temp9AM missing values: {missing_temperature_values['Temp9am']} ({missing_temperature_perc['Temp9am']:.3f}%)\")\n",
    "print(f\"Temp3PM missing values: {missing_temperature_values['Temp3pm']} ({missing_temperature_perc['Temp3pm']:.3f}%)\")"
   ]
  },
  {
   "cell_type": "markdown",
   "id": "583711dc",
   "metadata": {
    "papermill": {
     "duration": 0.042241,
     "end_time": "2022-12-28T13:44:11.475425",
     "exception": false,
     "start_time": "2022-12-28T13:44:11.433184",
     "status": "completed"
    },
    "tags": []
   },
   "source": [
    "The datasets are normally distributed. The dataset for *Temp3PM* is positively skewed at `skewness` = $0.60$. Both datasets have outliers on the rear end."
   ]
  },
  {
   "cell_type": "code",
   "execution_count": 65,
   "id": "0edb9ac2",
   "metadata": {
    "execution": {
     "iopub.execute_input": "2022-12-28T13:44:11.563712Z",
     "iopub.status.busy": "2022-12-28T13:44:11.563032Z",
     "iopub.status.idle": "2022-12-28T13:44:12.088341Z",
     "shell.execute_reply": "2022-12-28T13:44:12.086738Z"
    },
    "papermill": {
     "duration": 0.572231,
     "end_time": "2022-12-28T13:44:12.090914",
     "exception": false,
     "start_time": "2022-12-28T13:44:11.518683",
     "status": "completed"
    },
    "tags": []
   },
   "outputs": [
    {
     "data": {
      "image/png": "[encoded data removed]",
      "text/plain": [
       "<Figure size 1440x432 with 4 Axes>"
      ]
     },
     "metadata": {
      "needs_background": "light"
     },
     "output_type": "display_data"
    }
   ],
   "source": [
    "_, axes = plt.subplots(2, 2, figsize=(20, 6))\n",
    "\n",
    "temperature_df.hist(ax=axes[0])\n",
    "sns.boxplot(ax=axes[1,0], x=temperature_df['Temp9am'])\n",
    "sns.boxplot(ax=axes[1,1], x=temperature_df['Temp3pm'])\n",
    "\n",
    "plt.show()"
   ]
  },
  {
   "cell_type": "code",
   "execution_count": 66,
   "id": "90eb07c1",
   "metadata": {
    "execution": {
     "iopub.execute_input": "2022-12-28T13:44:12.180602Z",
     "iopub.status.busy": "2022-12-28T13:44:12.180123Z",
     "iopub.status.idle": "2022-12-28T13:44:12.189410Z",
     "shell.execute_reply": "2022-12-28T13:44:12.187871Z"
    },
    "papermill": {
     "duration": 0.057839,
     "end_time": "2022-12-28T13:44:12.192534",
     "exception": false,
     "start_time": "2022-12-28T13:44:12.134695",
     "status": "completed"
    },
    "tags": []
   },
   "outputs": [
    {
     "name": "stdout",
     "output_type": "stream",
     "text": [
      "Temp9AM skewness: 0.31\n",
      "Temp3PM skewness: 0.60\n"
     ]
    }
   ],
   "source": [
    "temperature_skewness = temperature_df.skew()\n",
    "\n",
    "print(f\"Temp9AM skewness: {temperature_skewness['Temp9am']:.2f}\")\n",
    "print(f\"Temp3PM skewness: {temperature_skewness['Temp3pm']:.2f}\")"
   ]
  },
  {
   "cell_type": "code",
   "execution_count": 67,
   "id": "6574e5b6",
   "metadata": {
    "execution": {
     "iopub.execute_input": "2022-12-28T13:44:12.282234Z",
     "iopub.status.busy": "2022-12-28T13:44:12.281296Z",
     "iopub.status.idle": "2022-12-28T13:44:12.291341Z",
     "shell.execute_reply": "2022-12-28T13:44:12.289843Z"
    },
    "papermill": {
     "duration": 0.05828,
     "end_time": "2022-12-28T13:44:12.294926",
     "exception": false,
     "start_time": "2022-12-28T13:44:12.236646",
     "status": "completed"
    },
    "tags": []
   },
   "outputs": [
    {
     "name": "stdout",
     "output_type": "stream",
     "text": [
      "Number of outlier data points (Temp9am): 5\n",
      "Unique value count: (5 unique values)\n",
      "Outliers counts:\n",
      "  34.8 \t 1 occurrence(s)\n",
      "  36.4 \t 1 occurrence(s)\n",
      "  39.0 \t 1 occurrence(s)\n",
      "  34.7 \t 1 occurrence(s)\n",
      "  34.1 \t 1 occurrence(s)\n"
     ]
    }
   ],
   "source": [
    "identify_outliers(temperature_df, 'Temp9am')"
   ]
  },
  {
   "cell_type": "code",
   "execution_count": 68,
   "id": "2a6cb5e2",
   "metadata": {
    "execution": {
     "iopub.execute_input": "2022-12-28T13:44:12.384966Z",
     "iopub.status.busy": "2022-12-28T13:44:12.384564Z",
     "iopub.status.idle": "2022-12-28T13:44:12.394673Z",
     "shell.execute_reply": "2022-12-28T13:44:12.392884Z"
    },
    "papermill": {
     "duration": 0.059209,
     "end_time": "2022-12-28T13:44:12.398056",
     "exception": false,
     "start_time": "2022-12-28T13:44:12.338847",
     "status": "completed"
    },
    "tags": []
   },
   "outputs": [
    {
     "name": "stdout",
     "output_type": "stream",
     "text": [
      "Number of outlier data points (Temp3pm): 12\n",
      "Unique value count: (9 unique values)\n",
      "Outliers counts:\n",
      "  41.8 \t 2 occurrence(s)\n",
      "  40.8 \t 2 occurrence(s)\n",
      "  41.5 \t 2 occurrence(s)\n",
      "  42.2 \t 1 occurrence(s)\n",
      "  40.0 \t 1 occurrence(s)\n",
      "  41.9 \t 1 occurrence(s)\n",
      "  42.5 \t 1 occurrence(s)\n",
      "  41.0 \t 1 occurrence(s)\n",
      "  42.1 \t 1 occurrence(s)\n"
     ]
    }
   ],
   "source": [
    "identify_outliers(temperature_df, 'Temp3pm')"
   ]
  },
  {
   "cell_type": "code",
   "execution_count": 69,
   "id": "eddab7aa",
   "metadata": {
    "execution": {
     "iopub.execute_input": "2022-12-28T13:44:12.487546Z",
     "iopub.status.busy": "2022-12-28T13:44:12.486855Z",
     "iopub.status.idle": "2022-12-28T13:44:12.505663Z",
     "shell.execute_reply": "2022-12-28T13:44:12.504314Z"
    },
    "papermill": {
     "duration": 0.066478,
     "end_time": "2022-12-28T13:44:12.508295",
     "exception": false,
     "start_time": "2022-12-28T13:44:12.441817",
     "status": "completed"
    },
    "tags": []
   },
   "outputs": [
    {
     "data": {
      "text/html": [
       "<div>\n",
       "<style scoped>\n",
       "    .dataframe tbody tr th:only-of-type {\n",
       "        vertical-align: middle;\n",
       "    }\n",
       "\n",
       "    .dataframe tbody tr th {\n",
       "        vertical-align: top;\n",
       "    }\n",
       "\n",
       "    .dataframe thead th {\n",
       "        text-align: right;\n",
       "    }\n",
       "</style>\n",
       "<table border=\"1\" class=\"dataframe\">\n",
       "  <thead>\n",
       "    <tr style=\"text-align: right;\">\n",
       "      <th></th>\n",
       "      <th>Date</th>\n",
       "      <th>Location</th>\n",
       "      <th>WindGustDir</th>\n",
       "      <th>WindDir9am</th>\n",
       "      <th>WindDir3pm</th>\n",
       "      <th>RainToday</th>\n",
       "      <th>RainTomorrow</th>\n",
       "    </tr>\n",
       "  </thead>\n",
       "  <tbody>\n",
       "    <tr>\n",
       "      <th>120638</th>\n",
       "      <td>2008-07-01</td>\n",
       "      <td>Perth</td>\n",
       "      <td>ENE</td>\n",
       "      <td>NaN</td>\n",
       "      <td>E</td>\n",
       "      <td>No</td>\n",
       "      <td>No</td>\n",
       "    </tr>\n",
       "    <tr>\n",
       "      <th>120639</th>\n",
       "      <td>2008-07-02</td>\n",
       "      <td>Perth</td>\n",
       "      <td>NE</td>\n",
       "      <td>ESE</td>\n",
       "      <td>ENE</td>\n",
       "      <td>No</td>\n",
       "      <td>No</td>\n",
       "    </tr>\n",
       "    <tr>\n",
       "      <th>120640</th>\n",
       "      <td>2008-07-03</td>\n",
       "      <td>Perth</td>\n",
       "      <td>NE</td>\n",
       "      <td>NaN</td>\n",
       "      <td>WNW</td>\n",
       "      <td>No</td>\n",
       "      <td>Yes</td>\n",
       "    </tr>\n",
       "    <tr>\n",
       "      <th>120641</th>\n",
       "      <td>2008-07-04</td>\n",
       "      <td>Perth</td>\n",
       "      <td>W</td>\n",
       "      <td>NNE</td>\n",
       "      <td>NNW</td>\n",
       "      <td>Yes</td>\n",
       "      <td>Yes</td>\n",
       "    </tr>\n",
       "    <tr>\n",
       "      <th>120642</th>\n",
       "      <td>2008-07-05</td>\n",
       "      <td>Perth</td>\n",
       "      <td>WSW</td>\n",
       "      <td>W</td>\n",
       "      <td>SW</td>\n",
       "      <td>Yes</td>\n",
       "      <td>Yes</td>\n",
       "    </tr>\n",
       "    <tr>\n",
       "      <th>...</th>\n",
       "      <td>...</td>\n",
       "      <td>...</td>\n",
       "      <td>...</td>\n",
       "      <td>...</td>\n",
       "      <td>...</td>\n",
       "      <td>...</td>\n",
       "      <td>...</td>\n",
       "    </tr>\n",
       "    <tr>\n",
       "      <th>123826</th>\n",
       "      <td>2017-06-21</td>\n",
       "      <td>Perth</td>\n",
       "      <td>NW</td>\n",
       "      <td>NNE</td>\n",
       "      <td>NNW</td>\n",
       "      <td>No</td>\n",
       "      <td>Yes</td>\n",
       "    </tr>\n",
       "    <tr>\n",
       "      <th>123827</th>\n",
       "      <td>2017-06-22</td>\n",
       "      <td>Perth</td>\n",
       "      <td>SSW</td>\n",
       "      <td>W</td>\n",
       "      <td>SW</td>\n",
       "      <td>Yes</td>\n",
       "      <td>No</td>\n",
       "    </tr>\n",
       "    <tr>\n",
       "      <th>123828</th>\n",
       "      <td>2017-06-23</td>\n",
       "      <td>Perth</td>\n",
       "      <td>SE</td>\n",
       "      <td>SE</td>\n",
       "      <td>ESE</td>\n",
       "      <td>No</td>\n",
       "      <td>No</td>\n",
       "    </tr>\n",
       "    <tr>\n",
       "      <th>123829</th>\n",
       "      <td>2017-06-24</td>\n",
       "      <td>Perth</td>\n",
       "      <td>SE</td>\n",
       "      <td>ESE</td>\n",
       "      <td>ESE</td>\n",
       "      <td>No</td>\n",
       "      <td>No</td>\n",
       "    </tr>\n",
       "    <tr>\n",
       "      <th>123830</th>\n",
       "      <td>2017-06-25</td>\n",
       "      <td>Perth</td>\n",
       "      <td>E</td>\n",
       "      <td>SE</td>\n",
       "      <td>SE</td>\n",
       "      <td>No</td>\n",
       "      <td>No</td>\n",
       "    </tr>\n",
       "  </tbody>\n",
       "</table>\n",
       "<p>3193 rows × 7 columns</p>\n",
       "</div>"
      ],
      "text/plain": [
       "              Date Location WindGustDir WindDir9am WindDir3pm RainToday  \\\n",
       "120638  2008-07-01    Perth         ENE        NaN          E        No   \n",
       "120639  2008-07-02    Perth          NE        ESE        ENE        No   \n",
       "120640  2008-07-03    Perth          NE        NaN        WNW        No   \n",
       "120641  2008-07-04    Perth           W        NNE        NNW       Yes   \n",
       "120642  2008-07-05    Perth         WSW          W         SW       Yes   \n",
       "...            ...      ...         ...        ...        ...       ...   \n",
       "123826  2017-06-21    Perth          NW        NNE        NNW        No   \n",
       "123827  2017-06-22    Perth         SSW          W         SW       Yes   \n",
       "123828  2017-06-23    Perth          SE         SE        ESE        No   \n",
       "123829  2017-06-24    Perth          SE        ESE        ESE        No   \n",
       "123830  2017-06-25    Perth           E         SE         SE        No   \n",
       "\n",
       "       RainTomorrow  \n",
       "120638           No  \n",
       "120639           No  \n",
       "120640          Yes  \n",
       "120641          Yes  \n",
       "120642          Yes  \n",
       "...             ...  \n",
       "123826          Yes  \n",
       "123827           No  \n",
       "123828           No  \n",
       "123829           No  \n",
       "123830           No  \n",
       "\n",
       "[3193 rows x 7 columns]"
      ]
     },
     "execution_count": 69,
     "metadata": {},
     "output_type": "execute_result"
    }
   ],
   "source": [
    "df.select_dtypes(['object'])"
   ]
  },
  {
   "cell_type": "markdown",
   "id": "95ab78bd",
   "metadata": {
    "papermill": {
     "duration": 0.053187,
     "end_time": "2022-12-28T13:44:12.606587",
     "exception": false,
     "start_time": "2022-12-28T13:44:12.553400",
     "status": "completed"
    },
    "tags": []
   },
   "source": [
    "### __Date"
   ]
  },
  {
   "cell_type": "code",
   "execution_count": 70,
   "id": "447c7aed",
   "metadata": {
    "execution": {
     "iopub.execute_input": "2022-12-28T13:44:12.700151Z",
     "iopub.status.busy": "2022-12-28T13:44:12.699346Z",
     "iopub.status.idle": "2022-12-28T13:44:13.004548Z",
     "shell.execute_reply": "2022-12-28T13:44:13.003551Z"
    },
    "papermill": {
     "duration": 0.354455,
     "end_time": "2022-12-28T13:44:13.006876",
     "exception": false,
     "start_time": "2022-12-28T13:44:12.652421",
     "status": "completed"
    },
    "tags": []
   },
   "outputs": [
    {
     "data": {
      "text/plain": [
       "array([[<AxesSubplot:title={'center':'Date'}>]], dtype=object)"
      ]
     },
     "execution_count": 70,
     "metadata": {},
     "output_type": "execute_result"
    },
    {
     "data": {
      "image/png": "[encoded data removed]",
      "text/plain": [
       "<Figure size 432x288 with 1 Axes>"
      ]
     },
     "metadata": {
      "needs_background": "light"
     },
     "output_type": "display_data"
    }
   ],
   "source": [
    "# pd.to_datetime(df[['Date']], infer_datetime_format=True)\n",
    "pd.DataFrame(pd.to_datetime(df['Date'])).hist()"
   ]
  },
  {
   "cell_type": "code",
   "execution_count": 71,
   "id": "92c17251",
   "metadata": {
    "execution": {
     "iopub.execute_input": "2022-12-28T13:44:13.099414Z",
     "iopub.status.busy": "2022-12-28T13:44:13.098250Z",
     "iopub.status.idle": "2022-12-28T13:44:13.111596Z",
     "shell.execute_reply": "2022-12-28T13:44:13.110369Z"
    },
    "papermill": {
     "duration": 0.061847,
     "end_time": "2022-12-28T13:44:13.114116",
     "exception": false,
     "start_time": "2022-12-28T13:44:13.052269",
     "status": "completed"
    },
    "tags": []
   },
   "outputs": [
    {
     "data": {
      "text/html": [
       "<div>\n",
       "<style scoped>\n",
       "    .dataframe tbody tr th:only-of-type {\n",
       "        vertical-align: middle;\n",
       "    }\n",
       "\n",
       "    .dataframe tbody tr th {\n",
       "        vertical-align: top;\n",
       "    }\n",
       "\n",
       "    .dataframe thead th {\n",
       "        text-align: right;\n",
       "    }\n",
       "</style>\n",
       "<table border=\"1\" class=\"dataframe\">\n",
       "  <thead>\n",
       "    <tr style=\"text-align: right;\">\n",
       "      <th></th>\n",
       "      <th>Date</th>\n",
       "    </tr>\n",
       "  </thead>\n",
       "  <tbody>\n",
       "    <tr>\n",
       "      <th>120638</th>\n",
       "      <td>2008-07-01</td>\n",
       "    </tr>\n",
       "    <tr>\n",
       "      <th>120639</th>\n",
       "      <td>2008-07-02</td>\n",
       "    </tr>\n",
       "    <tr>\n",
       "      <th>120640</th>\n",
       "      <td>2008-07-03</td>\n",
       "    </tr>\n",
       "    <tr>\n",
       "      <th>120641</th>\n",
       "      <td>2008-07-04</td>\n",
       "    </tr>\n",
       "    <tr>\n",
       "      <th>120642</th>\n",
       "      <td>2008-07-05</td>\n",
       "    </tr>\n",
       "    <tr>\n",
       "      <th>120643</th>\n",
       "      <td>2008-07-06</td>\n",
       "    </tr>\n",
       "    <tr>\n",
       "      <th>120644</th>\n",
       "      <td>2008-07-07</td>\n",
       "    </tr>\n",
       "    <tr>\n",
       "      <th>120645</th>\n",
       "      <td>2008-07-08</td>\n",
       "    </tr>\n",
       "    <tr>\n",
       "      <th>120646</th>\n",
       "      <td>2008-07-09</td>\n",
       "    </tr>\n",
       "    <tr>\n",
       "      <th>120647</th>\n",
       "      <td>2008-07-10</td>\n",
       "    </tr>\n",
       "  </tbody>\n",
       "</table>\n",
       "</div>"
      ],
      "text/plain": [
       "             Date\n",
       "120638 2008-07-01\n",
       "120639 2008-07-02\n",
       "120640 2008-07-03\n",
       "120641 2008-07-04\n",
       "120642 2008-07-05\n",
       "120643 2008-07-06\n",
       "120644 2008-07-07\n",
       "120645 2008-07-08\n",
       "120646 2008-07-09\n",
       "120647 2008-07-10"
      ]
     },
     "execution_count": 71,
     "metadata": {},
     "output_type": "execute_result"
    }
   ],
   "source": [
    "date_df = pd.DataFrame(pd.to_datetime(df['Date']))\n",
    "date_df.head(10)"
   ]
  },
  {
   "cell_type": "markdown",
   "id": "feaf87ed",
   "metadata": {
    "papermill": {
     "duration": 0.045114,
     "end_time": "2022-12-28T13:44:13.206399",
     "exception": false,
     "start_time": "2022-12-28T13:44:13.161285",
     "status": "completed"
    },
    "tags": []
   },
   "source": [
    "The date ranges from `July 1, 2008` to `June 25, 2017`."
   ]
  },
  {
   "cell_type": "code",
   "execution_count": 72,
   "id": "e8ebcaef",
   "metadata": {
    "execution": {
     "iopub.execute_input": "2022-12-28T13:44:13.297747Z",
     "iopub.status.busy": "2022-12-28T13:44:13.297086Z",
     "iopub.status.idle": "2022-12-28T13:44:13.307095Z",
     "shell.execute_reply": "2022-12-28T13:44:13.305678Z"
    },
    "papermill": {
     "duration": 0.058509,
     "end_time": "2022-12-28T13:44:13.309775",
     "exception": false,
     "start_time": "2022-12-28T13:44:13.251266",
     "status": "completed"
    },
    "tags": []
   },
   "outputs": [
    {
     "name": "stdout",
     "output_type": "stream",
     "text": [
      "Date range: Date   2008-07-01\n",
      "dtype: datetime64[ns] - Date   2017-06-25\n",
      "dtype: datetime64[ns]\n"
     ]
    }
   ],
   "source": [
    "print(f\"Date range: {date_df.min()} - {date_df.max()}\")"
   ]
  },
  {
   "cell_type": "code",
   "execution_count": 73,
   "id": "acd96cfb",
   "metadata": {
    "execution": {
     "iopub.execute_input": "2022-12-28T13:44:13.403505Z",
     "iopub.status.busy": "2022-12-28T13:44:13.402145Z",
     "iopub.status.idle": "2022-12-28T13:44:13.416027Z",
     "shell.execute_reply": "2022-12-28T13:44:13.414795Z"
    },
    "papermill": {
     "duration": 0.062837,
     "end_time": "2022-12-28T13:44:13.418729",
     "exception": false,
     "start_time": "2022-12-28T13:44:13.355892",
     "status": "completed"
    },
    "tags": []
   },
   "outputs": [
    {
     "data": {
      "text/html": [
       "<div>\n",
       "<style scoped>\n",
       "    .dataframe tbody tr th:only-of-type {\n",
       "        vertical-align: middle;\n",
       "    }\n",
       "\n",
       "    .dataframe tbody tr th {\n",
       "        vertical-align: top;\n",
       "    }\n",
       "\n",
       "    .dataframe thead th {\n",
       "        text-align: right;\n",
       "    }\n",
       "</style>\n",
       "<table border=\"1\" class=\"dataframe\">\n",
       "  <thead>\n",
       "    <tr style=\"text-align: right;\">\n",
       "      <th></th>\n",
       "      <th>Date</th>\n",
       "    </tr>\n",
       "    <tr>\n",
       "      <th>Date</th>\n",
       "      <th></th>\n",
       "    </tr>\n",
       "  </thead>\n",
       "  <tbody>\n",
       "    <tr>\n",
       "      <th>2008</th>\n",
       "      <td>184</td>\n",
       "    </tr>\n",
       "    <tr>\n",
       "      <th>2009</th>\n",
       "      <td>365</td>\n",
       "    </tr>\n",
       "    <tr>\n",
       "      <th>2010</th>\n",
       "      <td>365</td>\n",
       "    </tr>\n",
       "    <tr>\n",
       "      <th>2011</th>\n",
       "      <td>335</td>\n",
       "    </tr>\n",
       "    <tr>\n",
       "      <th>2012</th>\n",
       "      <td>335</td>\n",
       "    </tr>\n",
       "    <tr>\n",
       "      <th>2013</th>\n",
       "      <td>337</td>\n",
       "    </tr>\n",
       "    <tr>\n",
       "      <th>2014</th>\n",
       "      <td>365</td>\n",
       "    </tr>\n",
       "    <tr>\n",
       "      <th>2015</th>\n",
       "      <td>365</td>\n",
       "    </tr>\n",
       "    <tr>\n",
       "      <th>2016</th>\n",
       "      <td>366</td>\n",
       "    </tr>\n",
       "    <tr>\n",
       "      <th>2017</th>\n",
       "      <td>176</td>\n",
       "    </tr>\n",
       "  </tbody>\n",
       "</table>\n",
       "</div>"
      ],
      "text/plain": [
       "      Date\n",
       "Date      \n",
       "2008   184\n",
       "2009   365\n",
       "2010   365\n",
       "2011   335\n",
       "2012   335\n",
       "2013   337\n",
       "2014   365\n",
       "2015   365\n",
       "2016   366\n",
       "2017   176"
      ]
     },
     "execution_count": 73,
     "metadata": {},
     "output_type": "execute_result"
    }
   ],
   "source": [
    "date_df.groupby(date_df['Date'].dt.year).count()\n",
    "\n",
    "# date_df['Date'].dt.year"
   ]
  },
  {
   "cell_type": "markdown",
   "id": "194dcc6b",
   "metadata": {
    "execution": {
     "iopub.execute_input": "2022-12-26T11:16:50.087484Z",
     "iopub.status.busy": "2022-12-26T11:16:50.086942Z",
     "iopub.status.idle": "2022-12-26T11:16:50.092858Z",
     "shell.execute_reply": "2022-12-26T11:16:50.091513Z",
     "shell.execute_reply.started": "2022-12-26T11:16:50.087442Z"
    },
    "papermill": {
     "duration": 0.045336,
     "end_time": "2022-12-28T13:44:13.509411",
     "exception": false,
     "start_time": "2022-12-28T13:44:13.464075",
     "status": "completed"
    },
    "tags": []
   },
   "source": [
    "### __WindGustDir\n"
   ]
  },
  {
   "cell_type": "code",
   "execution_count": 74,
   "id": "0513ebac",
   "metadata": {
    "execution": {
     "iopub.execute_input": "2022-12-28T13:44:13.602031Z",
     "iopub.status.busy": "2022-12-28T13:44:13.601595Z",
     "iopub.status.idle": "2022-12-28T13:44:13.609427Z",
     "shell.execute_reply": "2022-12-28T13:44:13.608459Z"
    },
    "papermill": {
     "duration": 0.056853,
     "end_time": "2022-12-28T13:44:13.611565",
     "exception": false,
     "start_time": "2022-12-28T13:44:13.554712",
     "status": "completed"
    },
    "tags": []
   },
   "outputs": [
    {
     "data": {
      "text/plain": [
       "120638    ENE\n",
       "120639     NE\n",
       "120640     NE\n",
       "120641      W\n",
       "120642    WSW\n",
       "120643    NNE\n",
       "120644      N\n",
       "120645    NNW\n",
       "120646    ESE\n",
       "120647    NNW\n",
       "Name: WindGustDir, dtype: object"
      ]
     },
     "execution_count": 74,
     "metadata": {},
     "output_type": "execute_result"
    }
   ],
   "source": [
    "wind_gust_dir_df = df['WindGustDir']\n",
    "wind_gust_dir_df.head(10)"
   ]
  },
  {
   "cell_type": "markdown",
   "id": "85764f41",
   "metadata": {
    "papermill": {
     "duration": 0.045064,
     "end_time": "2022-12-28T13:44:13.701433",
     "exception": false,
     "start_time": "2022-12-28T13:44:13.656369",
     "status": "completed"
    },
    "tags": []
   },
   "source": [
    "There are $5$ missing values for *WindGustDir*."
   ]
  },
  {
   "cell_type": "code",
   "execution_count": 75,
   "id": "8b235826",
   "metadata": {
    "execution": {
     "iopub.execute_input": "2022-12-28T13:44:13.793529Z",
     "iopub.status.busy": "2022-12-28T13:44:13.792823Z",
     "iopub.status.idle": "2022-12-28T13:44:13.799890Z",
     "shell.execute_reply": "2022-12-28T13:44:13.798623Z"
    },
    "papermill": {
     "duration": 0.056252,
     "end_time": "2022-12-28T13:44:13.802768",
     "exception": false,
     "start_time": "2022-12-28T13:44:13.746516",
     "status": "completed"
    },
    "tags": []
   },
   "outputs": [
    {
     "name": "stdout",
     "output_type": "stream",
     "text": [
      "WindGustDir missing values: 5 (0.16%)\n"
     ]
    }
   ],
   "source": [
    "missing_windgust_count = wind_gust_dir_df.isna().sum()\n",
    "missing_windgust_perc = missing_windgust_count / len(wind_gust_dir_df)\n",
    "\n",
    "print(f\"WindGustDir missing values: {missing_windgust_count} ({missing_windgust_perc*100:.2f}%)\")"
   ]
  },
  {
   "cell_type": "markdown",
   "id": "8352db7a",
   "metadata": {
    "papermill": {
     "duration": 0.044524,
     "end_time": "2022-12-28T13:44:13.892680",
     "exception": false,
     "start_time": "2022-12-28T13:44:13.848156",
     "status": "completed"
    },
    "tags": []
   },
   "source": [
    "The most occuring direction is **SW**."
   ]
  },
  {
   "cell_type": "code",
   "execution_count": 76,
   "id": "84957ba1",
   "metadata": {
    "execution": {
     "iopub.execute_input": "2022-12-28T13:44:13.984727Z",
     "iopub.status.busy": "2022-12-28T13:44:13.984258Z",
     "iopub.status.idle": "2022-12-28T13:44:14.256186Z",
     "shell.execute_reply": "2022-12-28T13:44:14.255029Z"
    },
    "papermill": {
     "duration": 0.320787,
     "end_time": "2022-12-28T13:44:14.258821",
     "exception": false,
     "start_time": "2022-12-28T13:44:13.938034",
     "status": "completed"
    },
    "tags": []
   },
   "outputs": [
    {
     "data": {
      "image/png": "[encoded data removed]",
      "text/plain": [
       "<Figure size 1440x432 with 1 Axes>"
      ]
     },
     "metadata": {
      "needs_background": "light"
     },
     "output_type": "display_data"
    },
    {
     "data": {
      "text/plain": [
       "SW     727\n",
       "SSW    479\n",
       "WSW    279\n",
       "NE     277\n",
       "ENE    166\n",
       "E      146\n",
       "WNW    143\n",
       "NW     137\n",
       "SE     129\n",
       "W      127\n",
       "NNE    126\n",
       "ESE    126\n",
       "SSE    117\n",
       "S       91\n",
       "N       62\n",
       "NNW     56\n",
       "Name: WindGustDir, dtype: int64"
      ]
     },
     "execution_count": 76,
     "metadata": {},
     "output_type": "execute_result"
    }
   ],
   "source": [
    "wind_gust_dir_count = wind_gust_dir_df.value_counts()\n",
    "\n",
    "plt.figure(figsize=(20,6))\n",
    "plt.bar(wind_gust_dir_count.keys(), wind_gust_dir_count.values)\n",
    "plt.show()\n",
    "wind_gust_dir_count"
   ]
  },
  {
   "cell_type": "markdown",
   "id": "2c5d0c68",
   "metadata": {
    "papermill": {
     "duration": 0.045351,
     "end_time": "2022-12-28T13:44:14.350212",
     "exception": false,
     "start_time": "2022-12-28T13:44:14.304861",
     "status": "completed"
    },
    "tags": []
   },
   "source": [
    "### __WindDir"
   ]
  },
  {
   "cell_type": "markdown",
   "id": "23a5b5be",
   "metadata": {
    "papermill": {
     "duration": 0.045518,
     "end_time": "2022-12-28T13:44:14.441333",
     "exception": false,
     "start_time": "2022-12-28T13:44:14.395815",
     "status": "completed"
    },
    "tags": []
   },
   "source": [
    "The data on both *WindDir9am* and *WindDir3pm* consists of the $16$ compass points."
   ]
  },
  {
   "cell_type": "code",
   "execution_count": 77,
   "id": "8b74083b",
   "metadata": {
    "execution": {
     "iopub.execute_input": "2022-12-28T13:44:14.535965Z",
     "iopub.status.busy": "2022-12-28T13:44:14.534698Z",
     "iopub.status.idle": "2022-12-28T13:44:14.548078Z",
     "shell.execute_reply": "2022-12-28T13:44:14.546716Z"
    },
    "papermill": {
     "duration": 0.063347,
     "end_time": "2022-12-28T13:44:14.550769",
     "exception": false,
     "start_time": "2022-12-28T13:44:14.487422",
     "status": "completed"
    },
    "tags": []
   },
   "outputs": [
    {
     "data": {
      "text/html": [
       "<div>\n",
       "<style scoped>\n",
       "    .dataframe tbody tr th:only-of-type {\n",
       "        vertical-align: middle;\n",
       "    }\n",
       "\n",
       "    .dataframe tbody tr th {\n",
       "        vertical-align: top;\n",
       "    }\n",
       "\n",
       "    .dataframe thead th {\n",
       "        text-align: right;\n",
       "    }\n",
       "</style>\n",
       "<table border=\"1\" class=\"dataframe\">\n",
       "  <thead>\n",
       "    <tr style=\"text-align: right;\">\n",
       "      <th></th>\n",
       "      <th>WindDir9am</th>\n",
       "      <th>WindDir3pm</th>\n",
       "    </tr>\n",
       "  </thead>\n",
       "  <tbody>\n",
       "    <tr>\n",
       "      <th>120638</th>\n",
       "      <td>NaN</td>\n",
       "      <td>E</td>\n",
       "    </tr>\n",
       "    <tr>\n",
       "      <th>120639</th>\n",
       "      <td>ESE</td>\n",
       "      <td>ENE</td>\n",
       "    </tr>\n",
       "    <tr>\n",
       "      <th>120640</th>\n",
       "      <td>NaN</td>\n",
       "      <td>WNW</td>\n",
       "    </tr>\n",
       "    <tr>\n",
       "      <th>120641</th>\n",
       "      <td>NNE</td>\n",
       "      <td>NNW</td>\n",
       "    </tr>\n",
       "    <tr>\n",
       "      <th>120642</th>\n",
       "      <td>W</td>\n",
       "      <td>SW</td>\n",
       "    </tr>\n",
       "    <tr>\n",
       "      <th>120643</th>\n",
       "      <td>ENE</td>\n",
       "      <td>NE</td>\n",
       "    </tr>\n",
       "    <tr>\n",
       "      <th>120644</th>\n",
       "      <td>NE</td>\n",
       "      <td>NNE</td>\n",
       "    </tr>\n",
       "    <tr>\n",
       "      <th>120645</th>\n",
       "      <td>NE</td>\n",
       "      <td>N</td>\n",
       "    </tr>\n",
       "    <tr>\n",
       "      <th>120646</th>\n",
       "      <td>NaN</td>\n",
       "      <td>ESE</td>\n",
       "    </tr>\n",
       "    <tr>\n",
       "      <th>120647</th>\n",
       "      <td>NE</td>\n",
       "      <td>NNE</td>\n",
       "    </tr>\n",
       "  </tbody>\n",
       "</table>\n",
       "</div>"
      ],
      "text/plain": [
       "       WindDir9am WindDir3pm\n",
       "120638        NaN          E\n",
       "120639        ESE        ENE\n",
       "120640        NaN        WNW\n",
       "120641        NNE        NNW\n",
       "120642          W         SW\n",
       "120643        ENE         NE\n",
       "120644         NE        NNE\n",
       "120645         NE          N\n",
       "120646        NaN        ESE\n",
       "120647         NE        NNE"
      ]
     },
     "execution_count": 77,
     "metadata": {},
     "output_type": "execute_result"
    }
   ],
   "source": [
    "wind_dir_df = df[['WindDir9am', 'WindDir3pm']]\n",
    "wind_dir_df.head(10)"
   ]
  },
  {
   "cell_type": "markdown",
   "id": "7ee33993",
   "metadata": {
    "papermill": {
     "duration": 0.045786,
     "end_time": "2022-12-28T13:44:14.644739",
     "exception": false,
     "start_time": "2022-12-28T13:44:14.598953",
     "status": "completed"
    },
    "tags": []
   },
   "source": [
    "The *WindDir9am* has $134$ missing values (quite a handful), while *WindDir3pm* only has $5$ missing values."
   ]
  },
  {
   "cell_type": "code",
   "execution_count": 78,
   "id": "d3a2accb",
   "metadata": {
    "execution": {
     "iopub.execute_input": "2022-12-28T13:44:14.742477Z",
     "iopub.status.busy": "2022-12-28T13:44:14.741720Z",
     "iopub.status.idle": "2022-12-28T13:44:14.750496Z",
     "shell.execute_reply": "2022-12-28T13:44:14.749005Z"
    },
    "papermill": {
     "duration": 0.060118,
     "end_time": "2022-12-28T13:44:14.753142",
     "exception": false,
     "start_time": "2022-12-28T13:44:14.693024",
     "status": "completed"
    },
    "tags": []
   },
   "outputs": [
    {
     "name": "stdout",
     "output_type": "stream",
     "text": [
      "WindDir9am missing values: 134 (4.20%)\n",
      "WindDir3pm missing values: 7 (0.22%)\n"
     ]
    }
   ],
   "source": [
    "wind_dir_missing_count = wind_dir_df.isna().sum()\n",
    "wind_dir_missing_perc = wind_dir_missing_count/len(wind_dir_df)\n",
    "\n",
    "print(f\"WindDir9am missing values: {wind_dir_missing_count['WindDir9am']} ({wind_dir_missing_perc['WindDir9am']*100:.2f}%)\")\n",
    "print(f\"WindDir3pm missing values: {wind_dir_missing_count['WindDir3pm']} ({wind_dir_missing_perc['WindDir3pm']*100:.2f}%)\")\n"
   ]
  },
  {
   "cell_type": "code",
   "execution_count": 79,
   "id": "c3579c65",
   "metadata": {
    "execution": {
     "iopub.execute_input": "2022-12-28T13:44:14.847464Z",
     "iopub.status.busy": "2022-12-28T13:44:14.846619Z",
     "iopub.status.idle": "2022-12-28T13:44:14.870373Z",
     "shell.execute_reply": "2022-12-28T13:44:14.869166Z"
    },
    "papermill": {
     "duration": 0.07353,
     "end_time": "2022-12-28T13:44:14.872683",
     "exception": false,
     "start_time": "2022-12-28T13:44:14.799153",
     "status": "completed"
    },
    "tags": []
   },
   "outputs": [
    {
     "data": {
      "text/html": [
       "<div>\n",
       "<style scoped>\n",
       "    .dataframe tbody tr th:only-of-type {\n",
       "        vertical-align: middle;\n",
       "    }\n",
       "\n",
       "    .dataframe tbody tr th {\n",
       "        vertical-align: top;\n",
       "    }\n",
       "\n",
       "    .dataframe thead th {\n",
       "        text-align: right;\n",
       "    }\n",
       "</style>\n",
       "<table border=\"1\" class=\"dataframe\">\n",
       "  <thead>\n",
       "    <tr style=\"text-align: right;\">\n",
       "      <th></th>\n",
       "      <th>9amCount</th>\n",
       "      <th>3pmCount</th>\n",
       "    </tr>\n",
       "    <tr>\n",
       "      <th>direction</th>\n",
       "      <th></th>\n",
       "      <th></th>\n",
       "    </tr>\n",
       "  </thead>\n",
       "  <tbody>\n",
       "    <tr>\n",
       "      <th>E</th>\n",
       "      <td>479</td>\n",
       "      <td>139</td>\n",
       "    </tr>\n",
       "    <tr>\n",
       "      <th>NE</th>\n",
       "      <td>405</td>\n",
       "      <td>111</td>\n",
       "    </tr>\n",
       "    <tr>\n",
       "      <th>ENE</th>\n",
       "      <td>355</td>\n",
       "      <td>137</td>\n",
       "    </tr>\n",
       "    <tr>\n",
       "      <th>ESE</th>\n",
       "      <td>250</td>\n",
       "      <td>137</td>\n",
       "    </tr>\n",
       "    <tr>\n",
       "      <th>NNE</th>\n",
       "      <td>243</td>\n",
       "      <td>68</td>\n",
       "    </tr>\n",
       "    <tr>\n",
       "      <th>SSE</th>\n",
       "      <td>239</td>\n",
       "      <td>125</td>\n",
       "    </tr>\n",
       "    <tr>\n",
       "      <th>S</th>\n",
       "      <td>201</td>\n",
       "      <td>110</td>\n",
       "    </tr>\n",
       "    <tr>\n",
       "      <th>SE</th>\n",
       "      <td>180</td>\n",
       "      <td>156</td>\n",
       "    </tr>\n",
       "    <tr>\n",
       "      <th>SSW</th>\n",
       "      <td>117</td>\n",
       "      <td>432</td>\n",
       "    </tr>\n",
       "    <tr>\n",
       "      <th>W</th>\n",
       "      <td>111</td>\n",
       "      <td>284</td>\n",
       "    </tr>\n",
       "    <tr>\n",
       "      <th>N</th>\n",
       "      <td>109</td>\n",
       "      <td>62</td>\n",
       "    </tr>\n",
       "    <tr>\n",
       "      <th>SW</th>\n",
       "      <td>108</td>\n",
       "      <td>687</td>\n",
       "    </tr>\n",
       "    <tr>\n",
       "      <th>WSW</th>\n",
       "      <td>94</td>\n",
       "      <td>373</td>\n",
       "    </tr>\n",
       "    <tr>\n",
       "      <th>WNW</th>\n",
       "      <td>75</td>\n",
       "      <td>174</td>\n",
       "    </tr>\n",
       "    <tr>\n",
       "      <th>NW</th>\n",
       "      <td>60</td>\n",
       "      <td>131</td>\n",
       "    </tr>\n",
       "    <tr>\n",
       "      <th>NNW</th>\n",
       "      <td>33</td>\n",
       "      <td>60</td>\n",
       "    </tr>\n",
       "  </tbody>\n",
       "</table>\n",
       "</div>"
      ],
      "text/plain": [
       "           9amCount  3pmCount\n",
       "direction                    \n",
       "E               479       139\n",
       "NE              405       111\n",
       "ENE             355       137\n",
       "ESE             250       137\n",
       "NNE             243        68\n",
       "SSE             239       125\n",
       "S               201       110\n",
       "SE              180       156\n",
       "SSW             117       432\n",
       "W               111       284\n",
       "N               109        62\n",
       "SW              108       687\n",
       "WSW              94       373\n",
       "WNW              75       174\n",
       "NW               60       131\n",
       "NNW              33        60"
      ]
     },
     "execution_count": 79,
     "metadata": {},
     "output_type": "execute_result"
    }
   ],
   "source": [
    "wind_dir_9am_count = wind_dir_df['WindDir9am'].value_counts()\n",
    "wind_dir_9am_count = pd.DataFrame({'direction': wind_dir_9am_count.keys(), '9amCount': wind_dir_9am_count.values})\n",
    "wind_dir_9am_count.set_index('direction', inplace=True)\n",
    "wind_dir_9am_count\n",
    "\n",
    "wind_dir_3pm_count = wind_dir_df['WindDir3pm'].value_counts()\n",
    "wind_dir_3pm_count = pd.DataFrame({'direction': wind_dir_3pm_count.keys(), '3pmCount': wind_dir_3pm_count.values})\n",
    "wind_dir_3pm_count.set_index('direction', inplace=True)\n",
    "wind_dir_3pm_count\n",
    "\n",
    "wind_dir_count = wind_dir_9am_count.join(wind_dir_3pm_count)\n",
    "wind_dir_count"
   ]
  },
  {
   "cell_type": "markdown",
   "id": "932779f6",
   "metadata": {
    "papermill": {
     "duration": 0.045873,
     "end_time": "2022-12-28T13:44:14.964549",
     "exception": false,
     "start_time": "2022-12-28T13:44:14.918676",
     "status": "completed"
    },
    "tags": []
   },
   "source": [
    "The most frequent direction for *WindDir9am* is **E** while for *WindDir3pm* is **SW**."
   ]
  },
  {
   "cell_type": "code",
   "execution_count": 80,
   "id": "bfc63f0d",
   "metadata": {
    "execution": {
     "iopub.execute_input": "2022-12-28T13:44:15.060265Z",
     "iopub.status.busy": "2022-12-28T13:44:15.059601Z",
     "iopub.status.idle": "2022-12-28T13:44:15.543324Z",
     "shell.execute_reply": "2022-12-28T13:44:15.542043Z"
    },
    "papermill": {
     "duration": 0.535479,
     "end_time": "2022-12-28T13:44:15.546140",
     "exception": false,
     "start_time": "2022-12-28T13:44:15.010661",
     "status": "completed"
    },
    "tags": []
   },
   "outputs": [
    {
     "data": {
      "image/png": "[encoded data removed]",
      "text/plain": [
       "<Figure size 1440x432 with 1 Axes>"
      ]
     },
     "metadata": {
      "needs_background": "light"
     },
     "output_type": "display_data"
    }
   ],
   "source": [
    "fig, ax = plt.subplots(figsize=(20, 6))\n",
    "\n",
    "X = np.arange(16)\n",
    "\n",
    "rects1 = ax.bar(X, wind_dir_count['9amCount'], width=0.35, label='WindDir9am')\n",
    "rects2 = ax.bar(X + .35, wind_dir_count['3pmCount'], width=0.35, label='WindDir3pm')\n",
    "\n",
    "ax.bar_label(rects1, padding=3)\n",
    "ax.bar_label(rects2, padding=3)\n",
    "plt.xticks(X, wind_dir_count.index)\n",
    "plt.legend()\n",
    "plt.show()"
   ]
  },
  {
   "cell_type": "markdown",
   "id": "56e80ed2",
   "metadata": {
    "papermill": {
     "duration": 0.046164,
     "end_time": "2022-12-28T13:44:15.638882",
     "exception": false,
     "start_time": "2022-12-28T13:44:15.592718",
     "status": "completed"
    },
    "tags": []
   },
   "source": [
    "### __RainToday"
   ]
  },
  {
   "cell_type": "markdown",
   "id": "1eb9e169",
   "metadata": {
    "papermill": {
     "duration": 0.06208,
     "end_time": "2022-12-28T13:44:15.754835",
     "exception": false,
     "start_time": "2022-12-28T13:44:15.692755",
     "status": "completed"
    },
    "tags": []
   },
   "source": [
    "The *RainToday* is a categorical attribute indicating whether it rained today or not. It could be **Yes** or **No**."
   ]
  },
  {
   "cell_type": "code",
   "execution_count": 81,
   "id": "d5b55f4b",
   "metadata": {
    "execution": {
     "iopub.execute_input": "2022-12-28T13:44:15.849728Z",
     "iopub.status.busy": "2022-12-28T13:44:15.849313Z",
     "iopub.status.idle": "2022-12-28T13:44:15.860626Z",
     "shell.execute_reply": "2022-12-28T13:44:15.859475Z"
    },
    "papermill": {
     "duration": 0.061477,
     "end_time": "2022-12-28T13:44:15.863244",
     "exception": false,
     "start_time": "2022-12-28T13:44:15.801767",
     "status": "completed"
    },
    "tags": []
   },
   "outputs": [
    {
     "data": {
      "text/html": [
       "<div>\n",
       "<style scoped>\n",
       "    .dataframe tbody tr th:only-of-type {\n",
       "        vertical-align: middle;\n",
       "    }\n",
       "\n",
       "    .dataframe tbody tr th {\n",
       "        vertical-align: top;\n",
       "    }\n",
       "\n",
       "    .dataframe thead th {\n",
       "        text-align: right;\n",
       "    }\n",
       "</style>\n",
       "<table border=\"1\" class=\"dataframe\">\n",
       "  <thead>\n",
       "    <tr style=\"text-align: right;\">\n",
       "      <th></th>\n",
       "      <th>RainToday</th>\n",
       "    </tr>\n",
       "  </thead>\n",
       "  <tbody>\n",
       "    <tr>\n",
       "      <th>120638</th>\n",
       "      <td>No</td>\n",
       "    </tr>\n",
       "    <tr>\n",
       "      <th>120639</th>\n",
       "      <td>No</td>\n",
       "    </tr>\n",
       "    <tr>\n",
       "      <th>120640</th>\n",
       "      <td>No</td>\n",
       "    </tr>\n",
       "    <tr>\n",
       "      <th>120641</th>\n",
       "      <td>Yes</td>\n",
       "    </tr>\n",
       "    <tr>\n",
       "      <th>120642</th>\n",
       "      <td>Yes</td>\n",
       "    </tr>\n",
       "    <tr>\n",
       "      <th>120643</th>\n",
       "      <td>Yes</td>\n",
       "    </tr>\n",
       "    <tr>\n",
       "      <th>120644</th>\n",
       "      <td>No</td>\n",
       "    </tr>\n",
       "    <tr>\n",
       "      <th>120645</th>\n",
       "      <td>No</td>\n",
       "    </tr>\n",
       "    <tr>\n",
       "      <th>120646</th>\n",
       "      <td>Yes</td>\n",
       "    </tr>\n",
       "    <tr>\n",
       "      <th>120647</th>\n",
       "      <td>Yes</td>\n",
       "    </tr>\n",
       "  </tbody>\n",
       "</table>\n",
       "</div>"
      ],
      "text/plain": [
       "       RainToday\n",
       "120638        No\n",
       "120639        No\n",
       "120640        No\n",
       "120641       Yes\n",
       "120642       Yes\n",
       "120643       Yes\n",
       "120644        No\n",
       "120645        No\n",
       "120646       Yes\n",
       "120647       Yes"
      ]
     },
     "execution_count": 81,
     "metadata": {},
     "output_type": "execute_result"
    }
   ],
   "source": [
    "rain_today_df = df[['RainToday']]\n",
    "rain_today_df.head(10)"
   ]
  },
  {
   "cell_type": "markdown",
   "id": "4d95de2f",
   "metadata": {
    "papermill": {
     "duration": 0.046176,
     "end_time": "2022-12-28T13:44:15.958452",
     "exception": false,
     "start_time": "2022-12-28T13:44:15.912276",
     "status": "completed"
    },
    "tags": []
   },
   "source": [
    "There are no missing values for this attribute."
   ]
  },
  {
   "cell_type": "code",
   "execution_count": 82,
   "id": "08a470c0",
   "metadata": {
    "execution": {
     "iopub.execute_input": "2022-12-28T13:44:16.053719Z",
     "iopub.status.busy": "2022-12-28T13:44:16.053275Z",
     "iopub.status.idle": "2022-12-28T13:44:16.061971Z",
     "shell.execute_reply": "2022-12-28T13:44:16.060631Z"
    },
    "papermill": {
     "duration": 0.059337,
     "end_time": "2022-12-28T13:44:16.064567",
     "exception": false,
     "start_time": "2022-12-28T13:44:16.005230",
     "status": "completed"
    },
    "tags": []
   },
   "outputs": [
    {
     "name": "stdout",
     "output_type": "stream",
     "text": [
      "RainToday missing values: 0\n"
     ]
    }
   ],
   "source": [
    "missing_rain_today_count = rain_today_df.isna().sum()\n",
    "\n",
    "print(f\"RainToday missing values: {missing_rain_today_count['RainToday']}\")"
   ]
  },
  {
   "cell_type": "markdown",
   "id": "2e7ec855",
   "metadata": {
    "papermill": {
     "duration": 0.046866,
     "end_time": "2022-12-28T13:44:16.160280",
     "exception": false,
     "start_time": "2022-12-28T13:44:16.113414",
     "status": "completed"
    },
    "tags": []
   },
   "source": [
    "For this attribute, the **No** values comprise to $80\\%$ - $4$ times as much as the **Yes** values ($20\\%$)."
   ]
  },
  {
   "cell_type": "code",
   "execution_count": 83,
   "id": "e9aee978",
   "metadata": {
    "execution": {
     "iopub.execute_input": "2022-12-28T13:44:16.257839Z",
     "iopub.status.busy": "2022-12-28T13:44:16.256501Z",
     "iopub.status.idle": "2022-12-28T13:44:16.444858Z",
     "shell.execute_reply": "2022-12-28T13:44:16.443675Z"
    },
    "papermill": {
     "duration": 0.239773,
     "end_time": "2022-12-28T13:44:16.447387",
     "exception": false,
     "start_time": "2022-12-28T13:44:16.207614",
     "status": "completed"
    },
    "tags": []
   },
   "outputs": [
    {
     "data": {
      "image/png": "[encoded data removed]",
      "text/plain": [
       "<Figure size 1080x432 with 1 Axes>"
      ]
     },
     "metadata": {
      "needs_background": "light"
     },
     "output_type": "display_data"
    }
   ],
   "source": [
    "plt.figure(figsize=(15, 6))\n",
    "\n",
    "rain_today_count = rain_today_df.value_counts()\n",
    "rain_today_count_perc = rain_today_count / len(rain_today_df)\n",
    "\n",
    "plt.title(\"Rain Today\", fontweight=\"bold\", fontsize=15)\n",
    "plt.bar(f\"Yes {rain_today_count['Yes']} ({rain_today_count_perc['Yes']*100:.2f}%)\", rain_today_count[\"Yes\"], color=\"blue\")\n",
    "plt.bar(f\"No {rain_today_count['No']} ( ({rain_today_count_perc['No']*100:.2f}%))\", rain_today_count[\"No\"], color=\"red\")\n",
    "plt.show()"
   ]
  },
  {
   "cell_type": "code",
   "execution_count": null,
   "id": "c5bdf1af",
   "metadata": {
    "papermill": {
     "duration": 0.04672,
     "end_time": "2022-12-28T13:44:16.542010",
     "exception": false,
     "start_time": "2022-12-28T13:44:16.495290",
     "status": "completed"
    },
    "tags": []
   },
   "outputs": [],
   "source": []
  }
 ],
 "metadata": {
  "kernelspec": {
   "display_name": "Python 3",
   "language": "python",
   "name": "python3"
  },
  "language_info": {
   "codemirror_mode": {
    "name": "ipython",
    "version": 3
   },
   "file_extension": ".py",
   "mimetype": "text/x-python",
   "name": "python",
   "nbconvert_exporter": "python",
   "pygments_lexer": "ipython3",
   "version": "3.7.12"
  },
  "papermill": {
   "default_parameters": {},
   "duration": 34.689029,
   "end_time": "2022-12-28T13:44:17.411772",
   "environment_variables": {},
   "exception": null,
   "input_path": "__notebook__.ipynb",
   "output_path": "__notebook__.ipynb",
   "parameters": {},
   "start_time": "2022-12-28T13:43:42.722743",
   "version": "2.3.4"
  }
 },
 "nbformat": 4,
 "nbformat_minor": 5
}
