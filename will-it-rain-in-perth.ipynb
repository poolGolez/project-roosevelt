{
 "cells": [
  {
   "cell_type": "markdown",
   "id": "523f6346",
   "metadata": {
    "papermill": {
     "duration": 0.035527,
     "end_time": "2022-12-31T11:41:42.445385",
     "exception": false,
     "start_time": "2022-12-31T11:41:42.409858",
     "status": "completed"
    },
    "tags": []
   },
   "source": [
    "# 1. Data Ingestion"
   ]
  },
  {
   "cell_type": "markdown",
   "id": "4d3beda4",
   "metadata": {
    "papermill": {
     "duration": 0.032719,
     "end_time": "2022-12-31T11:41:42.512622",
     "exception": false,
     "start_time": "2022-12-31T11:41:42.479903",
     "status": "completed"
    },
    "tags": []
   },
   "source": [
    "We load the additional libraries needed in this notebook:\n",
    "* `seaborn`\n",
    "* `matplotlib.pyplot`\n",
    "* `scipy`"
   ]
  },
  {
   "cell_type": "code",
   "execution_count": 1,
   "id": "f914fb17",
   "metadata": {
    "execution": {
     "iopub.execute_input": "2022-12-31T11:41:42.581203Z",
     "iopub.status.busy": "2022-12-31T11:41:42.580158Z",
     "iopub.status.idle": "2022-12-31T11:41:43.689674Z",
     "shell.execute_reply": "2022-12-31T11:41:43.688554Z"
    },
    "papermill": {
     "duration": 1.147005,
     "end_time": "2022-12-31T11:41:43.692521",
     "exception": false,
     "start_time": "2022-12-31T11:41:42.545516",
     "status": "completed"
    },
    "tags": []
   },
   "outputs": [],
   "source": [
    "import seaborn as sns\n",
    "import matplotlib.pyplot as plt\n",
    "from scipy import stats"
   ]
  },
  {
   "cell_type": "code",
   "execution_count": 2,
   "id": "c83e90af",
   "metadata": {
    "_cell_guid": "b1076dfc-b9ad-4769-8c92-a6c4dae69d19",
    "_kg_hide-input": true,
    "_kg_hide-output": true,
    "_uuid": "8f2839f25d086af736a60e9eeb907d3b93b6e0e5",
    "execution": {
     "iopub.execute_input": "2022-12-31T11:41:43.759987Z",
     "iopub.status.busy": "2022-12-31T11:41:43.759594Z",
     "iopub.status.idle": "2022-12-31T11:41:43.774473Z",
     "shell.execute_reply": "2022-12-31T11:41:43.773250Z"
    },
    "papermill": {
     "duration": 0.052768,
     "end_time": "2022-12-31T11:41:43.778067",
     "exception": false,
     "start_time": "2022-12-31T11:41:43.725299",
     "status": "completed"
    },
    "tags": []
   },
   "outputs": [
    {
     "name": "stdout",
     "output_type": "stream",
     "text": [
      "/kaggle/input/weather-dataset-rattle-package/weatherAUS.csv\n"
     ]
    }
   ],
   "source": [
    "# This Python 3 environment comes with many helpful analytics libraries installed\n",
    "# It is defined by the kaggle/python Docker image: https://github.com/kaggle/docker-python\n",
    "# For example, here's several helpful packages to load\n",
    "\n",
    "import numpy as np # linear algebra\n",
    "import pandas as pd # data processing, CSV file I/O (e.g. pd.read_csv)\n",
    "\n",
    "# Input data files are available in the read-only \"../input/\" directory\n",
    "# For example, running this (by clicking run or pressing Shift+Enter) will list all files under the input directory\n",
    "\n",
    "import os\n",
    "for dirname, _, filenames in os.walk('/kaggle/input'):\n",
    "    for filename in filenames:\n",
    "        print(os.path.join(dirname, filename))\n",
    "\n",
    "# You can write up to 20GB to the current directory (/kaggle/working/) that gets preserved as output when you create a version using \"Save & Run All\" \n",
    "# You can also write temporary files to /kaggle/temp/, but they won't be saved outside of the current session"
   ]
  },
  {
   "cell_type": "markdown",
   "id": "e08f27ae",
   "metadata": {
    "papermill": {
     "duration": 0.033218,
     "end_time": "2022-12-31T11:41:43.844966",
     "exception": false,
     "start_time": "2022-12-31T11:41:43.811748",
     "status": "completed"
    },
    "tags": []
   },
   "source": [
    "We will be only using the data for **Perth** location and  so we filter the dataset accordingly:"
   ]
  },
  {
   "cell_type": "code",
   "execution_count": 3,
   "id": "4a97edd0",
   "metadata": {
    "_kg_hide-input": false,
    "_kg_hide-output": true,
    "execution": {
     "iopub.execute_input": "2022-12-31T11:41:43.915360Z",
     "iopub.status.busy": "2022-12-31T11:41:43.914333Z",
     "iopub.status.idle": "2022-12-31T11:41:44.552595Z",
     "shell.execute_reply": "2022-12-31T11:41:44.551376Z"
    },
    "papermill": {
     "duration": 0.675029,
     "end_time": "2022-12-31T11:41:44.555285",
     "exception": false,
     "start_time": "2022-12-31T11:41:43.880256",
     "status": "completed"
    },
    "tags": []
   },
   "outputs": [
    {
     "data": {
      "text/html": [
       "<div>\n",
       "<style scoped>\n",
       "    .dataframe tbody tr th:only-of-type {\n",
       "        vertical-align: middle;\n",
       "    }\n",
       "\n",
       "    .dataframe tbody tr th {\n",
       "        vertical-align: top;\n",
       "    }\n",
       "\n",
       "    .dataframe thead th {\n",
       "        text-align: right;\n",
       "    }\n",
       "</style>\n",
       "<table border=\"1\" class=\"dataframe\">\n",
       "  <thead>\n",
       "    <tr style=\"text-align: right;\">\n",
       "      <th></th>\n",
       "      <th>Date</th>\n",
       "      <th>Location</th>\n",
       "      <th>MinTemp</th>\n",
       "      <th>MaxTemp</th>\n",
       "      <th>Rainfall</th>\n",
       "      <th>Evaporation</th>\n",
       "      <th>Sunshine</th>\n",
       "      <th>WindGustDir</th>\n",
       "      <th>WindGustSpeed</th>\n",
       "      <th>WindDir9am</th>\n",
       "      <th>...</th>\n",
       "      <th>Humidity9am</th>\n",
       "      <th>Humidity3pm</th>\n",
       "      <th>Pressure9am</th>\n",
       "      <th>Pressure3pm</th>\n",
       "      <th>Cloud9am</th>\n",
       "      <th>Cloud3pm</th>\n",
       "      <th>Temp9am</th>\n",
       "      <th>Temp3pm</th>\n",
       "      <th>RainToday</th>\n",
       "      <th>RainTomorrow</th>\n",
       "    </tr>\n",
       "  </thead>\n",
       "  <tbody>\n",
       "    <tr>\n",
       "      <th>120638</th>\n",
       "      <td>2008-07-01</td>\n",
       "      <td>Perth</td>\n",
       "      <td>2.7</td>\n",
       "      <td>18.8</td>\n",
       "      <td>0.0</td>\n",
       "      <td>0.8</td>\n",
       "      <td>9.1</td>\n",
       "      <td>ENE</td>\n",
       "      <td>20.0</td>\n",
       "      <td>NaN</td>\n",
       "      <td>...</td>\n",
       "      <td>97.0</td>\n",
       "      <td>53.0</td>\n",
       "      <td>1027.6</td>\n",
       "      <td>1024.5</td>\n",
       "      <td>2.0</td>\n",
       "      <td>3.0</td>\n",
       "      <td>8.5</td>\n",
       "      <td>18.1</td>\n",
       "      <td>No</td>\n",
       "      <td>No</td>\n",
       "    </tr>\n",
       "    <tr>\n",
       "      <th>120639</th>\n",
       "      <td>2008-07-02</td>\n",
       "      <td>Perth</td>\n",
       "      <td>6.4</td>\n",
       "      <td>20.7</td>\n",
       "      <td>0.0</td>\n",
       "      <td>1.8</td>\n",
       "      <td>7.0</td>\n",
       "      <td>NE</td>\n",
       "      <td>22.0</td>\n",
       "      <td>ESE</td>\n",
       "      <td>...</td>\n",
       "      <td>80.0</td>\n",
       "      <td>39.0</td>\n",
       "      <td>1024.1</td>\n",
       "      <td>1019.0</td>\n",
       "      <td>0.0</td>\n",
       "      <td>6.0</td>\n",
       "      <td>11.1</td>\n",
       "      <td>19.7</td>\n",
       "      <td>No</td>\n",
       "      <td>No</td>\n",
       "    </tr>\n",
       "    <tr>\n",
       "      <th>120640</th>\n",
       "      <td>2008-07-03</td>\n",
       "      <td>Perth</td>\n",
       "      <td>6.5</td>\n",
       "      <td>19.9</td>\n",
       "      <td>0.4</td>\n",
       "      <td>2.2</td>\n",
       "      <td>7.3</td>\n",
       "      <td>NE</td>\n",
       "      <td>31.0</td>\n",
       "      <td>NaN</td>\n",
       "      <td>...</td>\n",
       "      <td>84.0</td>\n",
       "      <td>71.0</td>\n",
       "      <td>1016.8</td>\n",
       "      <td>1015.6</td>\n",
       "      <td>1.0</td>\n",
       "      <td>3.0</td>\n",
       "      <td>12.1</td>\n",
       "      <td>17.7</td>\n",
       "      <td>No</td>\n",
       "      <td>Yes</td>\n",
       "    </tr>\n",
       "    <tr>\n",
       "      <th>120641</th>\n",
       "      <td>2008-07-04</td>\n",
       "      <td>Perth</td>\n",
       "      <td>9.5</td>\n",
       "      <td>19.2</td>\n",
       "      <td>1.8</td>\n",
       "      <td>1.2</td>\n",
       "      <td>4.7</td>\n",
       "      <td>W</td>\n",
       "      <td>26.0</td>\n",
       "      <td>NNE</td>\n",
       "      <td>...</td>\n",
       "      <td>93.0</td>\n",
       "      <td>73.0</td>\n",
       "      <td>1019.3</td>\n",
       "      <td>1018.4</td>\n",
       "      <td>6.0</td>\n",
       "      <td>6.0</td>\n",
       "      <td>13.2</td>\n",
       "      <td>17.7</td>\n",
       "      <td>Yes</td>\n",
       "      <td>Yes</td>\n",
       "    </tr>\n",
       "    <tr>\n",
       "      <th>120642</th>\n",
       "      <td>2008-07-05</td>\n",
       "      <td>Perth</td>\n",
       "      <td>9.5</td>\n",
       "      <td>16.4</td>\n",
       "      <td>1.8</td>\n",
       "      <td>1.4</td>\n",
       "      <td>4.9</td>\n",
       "      <td>WSW</td>\n",
       "      <td>44.0</td>\n",
       "      <td>W</td>\n",
       "      <td>...</td>\n",
       "      <td>69.0</td>\n",
       "      <td>57.0</td>\n",
       "      <td>1020.4</td>\n",
       "      <td>1022.1</td>\n",
       "      <td>7.0</td>\n",
       "      <td>5.0</td>\n",
       "      <td>15.9</td>\n",
       "      <td>16.0</td>\n",
       "      <td>Yes</td>\n",
       "      <td>Yes</td>\n",
       "    </tr>\n",
       "    <tr>\n",
       "      <th>120643</th>\n",
       "      <td>2008-07-06</td>\n",
       "      <td>Perth</td>\n",
       "      <td>0.7</td>\n",
       "      <td>15.9</td>\n",
       "      <td>6.8</td>\n",
       "      <td>2.4</td>\n",
       "      <td>9.3</td>\n",
       "      <td>NNE</td>\n",
       "      <td>24.0</td>\n",
       "      <td>ENE</td>\n",
       "      <td>...</td>\n",
       "      <td>86.0</td>\n",
       "      <td>41.0</td>\n",
       "      <td>1032.0</td>\n",
       "      <td>1029.6</td>\n",
       "      <td>0.0</td>\n",
       "      <td>1.0</td>\n",
       "      <td>6.9</td>\n",
       "      <td>15.5</td>\n",
       "      <td>Yes</td>\n",
       "      <td>No</td>\n",
       "    </tr>\n",
       "    <tr>\n",
       "      <th>120644</th>\n",
       "      <td>2008-07-07</td>\n",
       "      <td>Perth</td>\n",
       "      <td>0.7</td>\n",
       "      <td>18.3</td>\n",
       "      <td>0.0</td>\n",
       "      <td>0.8</td>\n",
       "      <td>9.3</td>\n",
       "      <td>N</td>\n",
       "      <td>37.0</td>\n",
       "      <td>NE</td>\n",
       "      <td>...</td>\n",
       "      <td>72.0</td>\n",
       "      <td>36.0</td>\n",
       "      <td>1028.9</td>\n",
       "      <td>1024.2</td>\n",
       "      <td>1.0</td>\n",
       "      <td>5.0</td>\n",
       "      <td>8.7</td>\n",
       "      <td>17.9</td>\n",
       "      <td>No</td>\n",
       "      <td>No</td>\n",
       "    </tr>\n",
       "    <tr>\n",
       "      <th>120645</th>\n",
       "      <td>2008-07-08</td>\n",
       "      <td>Perth</td>\n",
       "      <td>3.2</td>\n",
       "      <td>20.4</td>\n",
       "      <td>0.0</td>\n",
       "      <td>1.4</td>\n",
       "      <td>6.9</td>\n",
       "      <td>NNW</td>\n",
       "      <td>24.0</td>\n",
       "      <td>NE</td>\n",
       "      <td>...</td>\n",
       "      <td>58.0</td>\n",
       "      <td>42.0</td>\n",
       "      <td>1023.9</td>\n",
       "      <td>1021.1</td>\n",
       "      <td>6.0</td>\n",
       "      <td>5.0</td>\n",
       "      <td>10.2</td>\n",
       "      <td>19.3</td>\n",
       "      <td>No</td>\n",
       "      <td>Yes</td>\n",
       "    </tr>\n",
       "    <tr>\n",
       "      <th>120646</th>\n",
       "      <td>2008-07-09</td>\n",
       "      <td>Perth</td>\n",
       "      <td>9.8</td>\n",
       "      <td>19.5</td>\n",
       "      <td>8.0</td>\n",
       "      <td>1.2</td>\n",
       "      <td>2.5</td>\n",
       "      <td>ESE</td>\n",
       "      <td>31.0</td>\n",
       "      <td>NaN</td>\n",
       "      <td>...</td>\n",
       "      <td>97.0</td>\n",
       "      <td>64.0</td>\n",
       "      <td>1026.4</td>\n",
       "      <td>1024.9</td>\n",
       "      <td>7.0</td>\n",
       "      <td>6.0</td>\n",
       "      <td>12.1</td>\n",
       "      <td>18.7</td>\n",
       "      <td>Yes</td>\n",
       "      <td>Yes</td>\n",
       "    </tr>\n",
       "    <tr>\n",
       "      <th>120647</th>\n",
       "      <td>2008-07-10</td>\n",
       "      <td>Perth</td>\n",
       "      <td>11.2</td>\n",
       "      <td>20.4</td>\n",
       "      <td>4.6</td>\n",
       "      <td>2.8</td>\n",
       "      <td>1.7</td>\n",
       "      <td>NNW</td>\n",
       "      <td>46.0</td>\n",
       "      <td>NE</td>\n",
       "      <td>...</td>\n",
       "      <td>79.0</td>\n",
       "      <td>50.0</td>\n",
       "      <td>1020.2</td>\n",
       "      <td>1014.0</td>\n",
       "      <td>7.0</td>\n",
       "      <td>7.0</td>\n",
       "      <td>13.4</td>\n",
       "      <td>19.0</td>\n",
       "      <td>Yes</td>\n",
       "      <td>Yes</td>\n",
       "    </tr>\n",
       "  </tbody>\n",
       "</table>\n",
       "<p>10 rows × 23 columns</p>\n",
       "</div>"
      ],
      "text/plain": [
       "              Date Location  MinTemp  MaxTemp  Rainfall  Evaporation  \\\n",
       "120638  2008-07-01    Perth      2.7     18.8       0.0          0.8   \n",
       "120639  2008-07-02    Perth      6.4     20.7       0.0          1.8   \n",
       "120640  2008-07-03    Perth      6.5     19.9       0.4          2.2   \n",
       "120641  2008-07-04    Perth      9.5     19.2       1.8          1.2   \n",
       "120642  2008-07-05    Perth      9.5     16.4       1.8          1.4   \n",
       "120643  2008-07-06    Perth      0.7     15.9       6.8          2.4   \n",
       "120644  2008-07-07    Perth      0.7     18.3       0.0          0.8   \n",
       "120645  2008-07-08    Perth      3.2     20.4       0.0          1.4   \n",
       "120646  2008-07-09    Perth      9.8     19.5       8.0          1.2   \n",
       "120647  2008-07-10    Perth     11.2     20.4       4.6          2.8   \n",
       "\n",
       "        Sunshine WindGustDir  WindGustSpeed WindDir9am  ... Humidity9am  \\\n",
       "120638       9.1         ENE           20.0        NaN  ...        97.0   \n",
       "120639       7.0          NE           22.0        ESE  ...        80.0   \n",
       "120640       7.3          NE           31.0        NaN  ...        84.0   \n",
       "120641       4.7           W           26.0        NNE  ...        93.0   \n",
       "120642       4.9         WSW           44.0          W  ...        69.0   \n",
       "120643       9.3         NNE           24.0        ENE  ...        86.0   \n",
       "120644       9.3           N           37.0         NE  ...        72.0   \n",
       "120645       6.9         NNW           24.0         NE  ...        58.0   \n",
       "120646       2.5         ESE           31.0        NaN  ...        97.0   \n",
       "120647       1.7         NNW           46.0         NE  ...        79.0   \n",
       "\n",
       "        Humidity3pm  Pressure9am  Pressure3pm  Cloud9am  Cloud3pm  Temp9am  \\\n",
       "120638         53.0       1027.6       1024.5       2.0       3.0      8.5   \n",
       "120639         39.0       1024.1       1019.0       0.0       6.0     11.1   \n",
       "120640         71.0       1016.8       1015.6       1.0       3.0     12.1   \n",
       "120641         73.0       1019.3       1018.4       6.0       6.0     13.2   \n",
       "120642         57.0       1020.4       1022.1       7.0       5.0     15.9   \n",
       "120643         41.0       1032.0       1029.6       0.0       1.0      6.9   \n",
       "120644         36.0       1028.9       1024.2       1.0       5.0      8.7   \n",
       "120645         42.0       1023.9       1021.1       6.0       5.0     10.2   \n",
       "120646         64.0       1026.4       1024.9       7.0       6.0     12.1   \n",
       "120647         50.0       1020.2       1014.0       7.0       7.0     13.4   \n",
       "\n",
       "        Temp3pm  RainToday  RainTomorrow  \n",
       "120638     18.1         No            No  \n",
       "120639     19.7         No            No  \n",
       "120640     17.7         No           Yes  \n",
       "120641     17.7        Yes           Yes  \n",
       "120642     16.0        Yes           Yes  \n",
       "120643     15.5        Yes            No  \n",
       "120644     17.9         No            No  \n",
       "120645     19.3         No           Yes  \n",
       "120646     18.7        Yes           Yes  \n",
       "120647     19.0        Yes           Yes  \n",
       "\n",
       "[10 rows x 23 columns]"
      ]
     },
     "execution_count": 3,
     "metadata": {},
     "output_type": "execute_result"
    }
   ],
   "source": [
    "all_df = pd.read_csv(\"/kaggle/input/weather-dataset-rattle-package/weatherAUS.csv\")\n",
    "\n",
    "# Limit the dataset to Perth records\n",
    "df = all_df[all_df[\"Location\"] == \"Perth\"]\n",
    "df.head(10)"
   ]
  },
  {
   "cell_type": "markdown",
   "id": "ef405e9d",
   "metadata": {
    "papermill": {
     "duration": 0.033079,
     "end_time": "2022-12-31T11:41:44.621974",
     "exception": false,
     "start_time": "2022-12-31T11:41:44.588895",
     "status": "completed"
    },
    "tags": []
   },
   "source": [
    "# 2. Exploratory Data Analysis\n",
    "\n",
    "📙 **SUMMARY**\n",
    "* The dataset contains $3,193$ records and $23$ columns including the target variable.\n",
    "* The features include both numerical and categorical values."
   ]
  },
  {
   "cell_type": "markdown",
   "id": "045c8978",
   "metadata": {
    "papermill": {
     "duration": 0.032998,
     "end_time": "2022-12-31T11:41:44.688258",
     "exception": false,
     "start_time": "2022-12-31T11:41:44.655260",
     "status": "completed"
    },
    "tags": []
   },
   "source": [
    "Let's see how many records and columns there are in the dataset."
   ]
  },
  {
   "cell_type": "code",
   "execution_count": 4,
   "id": "3961545c",
   "metadata": {
    "_kg_hide-input": true,
    "execution": {
     "iopub.execute_input": "2022-12-31T11:41:44.757045Z",
     "iopub.status.busy": "2022-12-31T11:41:44.755720Z",
     "iopub.status.idle": "2022-12-31T11:41:44.761865Z",
     "shell.execute_reply": "2022-12-31T11:41:44.760749Z"
    },
    "papermill": {
     "duration": 0.043255,
     "end_time": "2022-12-31T11:41:44.764464",
     "exception": false,
     "start_time": "2022-12-31T11:41:44.721209",
     "status": "completed"
    },
    "tags": []
   },
   "outputs": [
    {
     "name": "stdout",
     "output_type": "stream",
     "text": [
      "Number of records: 3193\n",
      "Number of columns: 23\n"
     ]
    }
   ],
   "source": [
    "print(f\"Number of records: {df.shape[0]}\")\n",
    "print(f\"Number of columns: {df.shape[1]}\")"
   ]
  },
  {
   "cell_type": "markdown",
   "id": "f1bf67f2",
   "metadata": {
    "papermill": {
     "duration": 0.032857,
     "end_time": "2022-12-31T11:41:44.830904",
     "exception": false,
     "start_time": "2022-12-31T11:41:44.798047",
     "status": "completed"
    },
    "tags": []
   },
   "source": [
    "What are the columns and their properties?"
   ]
  },
  {
   "cell_type": "code",
   "execution_count": 5,
   "id": "987361a1",
   "metadata": {
    "execution": {
     "iopub.execute_input": "2022-12-31T11:41:44.908949Z",
     "iopub.status.busy": "2022-12-31T11:41:44.908515Z",
     "iopub.status.idle": "2022-12-31T11:41:44.935425Z",
     "shell.execute_reply": "2022-12-31T11:41:44.934214Z"
    },
    "papermill": {
     "duration": 0.072147,
     "end_time": "2022-12-31T11:41:44.939917",
     "exception": false,
     "start_time": "2022-12-31T11:41:44.867770",
     "status": "completed"
    },
    "tags": []
   },
   "outputs": [
    {
     "name": "stdout",
     "output_type": "stream",
     "text": [
      "<class 'pandas.core.frame.DataFrame'>\n",
      "Int64Index: 3193 entries, 120638 to 123830\n",
      "Data columns (total 23 columns):\n",
      " #   Column         Non-Null Count  Dtype  \n",
      "---  ------         --------------  -----  \n",
      " 0   Date           3193 non-null   object \n",
      " 1   Location       3193 non-null   object \n",
      " 2   MinTemp        3193 non-null   float64\n",
      " 3   MaxTemp        3192 non-null   float64\n",
      " 4   Rainfall       3193 non-null   float64\n",
      " 5   Evaporation    3192 non-null   float64\n",
      " 6   Sunshine       3188 non-null   float64\n",
      " 7   WindGustDir    3188 non-null   object \n",
      " 8   WindGustSpeed  3188 non-null   float64\n",
      " 9   WindDir9am     3059 non-null   object \n",
      " 10  WindDir3pm     3186 non-null   object \n",
      " 11  WindSpeed9am   3193 non-null   float64\n",
      " 12  WindSpeed3pm   3192 non-null   float64\n",
      " 13  Humidity9am    3184 non-null   float64\n",
      " 14  Humidity3pm    3185 non-null   float64\n",
      " 15  Pressure9am    3192 non-null   float64\n",
      " 16  Pressure3pm    3192 non-null   float64\n",
      " 17  Cloud9am       3191 non-null   float64\n",
      " 18  Cloud3pm       3189 non-null   float64\n",
      " 19  Temp9am        3193 non-null   float64\n",
      " 20  Temp3pm        3192 non-null   float64\n",
      " 21  RainToday      3193 non-null   object \n",
      " 22  RainTomorrow   3193 non-null   object \n",
      "dtypes: float64(16), object(7)\n",
      "memory usage: 598.7+ KB\n"
     ]
    }
   ],
   "source": [
    "df.info()"
   ]
  },
  {
   "cell_type": "markdown",
   "id": "d05e949b",
   "metadata": {
    "papermill": {
     "duration": 0.033995,
     "end_time": "2022-12-31T11:41:45.013377",
     "exception": false,
     "start_time": "2022-12-31T11:41:44.979382",
     "status": "completed"
    },
    "tags": []
   },
   "source": [
    "🔖 The dataset has $23$ columns including the target variable (*RainTomorrow*):\n",
    "* It consists of both numerical (`float64`) and categorical (`object`) features.\n",
    "* Most of the columns have null values which requires addressing later "
   ]
  },
  {
   "cell_type": "markdown",
   "id": "1abc4ebb",
   "metadata": {
    "papermill": {
     "duration": 0.033637,
     "end_time": "2022-12-31T11:41:45.080377",
     "exception": false,
     "start_time": "2022-12-31T11:41:45.046740",
     "status": "completed"
    },
    "tags": []
   },
   "source": [
    "# _2.1 Univariate Analysis\n",
    "\n",
    "\n",
    "More details regarding the features can be found [on this website](http://www.bom.gov.au/climate/dwo/IDCJDW0000.shtml)."
   ]
  },
  {
   "cell_type": "markdown",
   "id": "48181f65",
   "metadata": {
    "papermill": {
     "duration": 0.033054,
     "end_time": "2022-12-31T11:41:45.146715",
     "exception": false,
     "start_time": "2022-12-31T11:41:45.113661",
     "status": "completed"
    },
    "tags": []
   },
   "source": [
    "# __2.1.1 RainTomorrow (Target)\n",
    "\n",
    "📙 **SUMMARY**\n",
    "* The target variable has two possible values: **Yes** and **No**.\n",
    "* The dataset is **highly imbalanced**:\n",
    " * **Yes** - $645$ ($20.2\\%$) records\n",
    " * **No** - $2,548$ ($79.8\\%$) records"
   ]
  },
  {
   "cell_type": "markdown",
   "id": "03f47d04",
   "metadata": {
    "papermill": {
     "duration": 0.033345,
     "end_time": "2022-12-31T11:41:45.213204",
     "exception": false,
     "start_time": "2022-12-31T11:41:45.179859",
     "status": "completed"
    },
    "tags": []
   },
   "source": [
    "The target, *RainTomorrow*, is a categorical variable of either **Yes** or **No**."
   ]
  },
  {
   "cell_type": "code",
   "execution_count": 6,
   "id": "171a341d",
   "metadata": {
    "_kg_hide-input": true,
    "execution": {
     "iopub.execute_input": "2022-12-31T11:41:45.281704Z",
     "iopub.status.busy": "2022-12-31T11:41:45.281095Z",
     "iopub.status.idle": "2022-12-31T11:41:45.289379Z",
     "shell.execute_reply": "2022-12-31T11:41:45.288334Z"
    },
    "papermill": {
     "duration": 0.045169,
     "end_time": "2022-12-31T11:41:45.291736",
     "exception": false,
     "start_time": "2022-12-31T11:41:45.246567",
     "status": "completed"
    },
    "tags": []
   },
   "outputs": [
    {
     "data": {
      "text/plain": [
       "120638     No\n",
       "120639     No\n",
       "120640    Yes\n",
       "120641    Yes\n",
       "120642    Yes\n",
       "120643     No\n",
       "120644     No\n",
       "120645    Yes\n",
       "120646    Yes\n",
       "120647    Yes\n",
       "120648    Yes\n",
       "120649     No\n",
       "120650     No\n",
       "120651     No\n",
       "120652    Yes\n",
       "Name: RainTomorrow, dtype: object"
      ]
     },
     "execution_count": 6,
     "metadata": {},
     "output_type": "execute_result"
    }
   ],
   "source": [
    "target = df['RainTomorrow']\n",
    "target.head(15)"
   ]
  },
  {
   "cell_type": "markdown",
   "id": "be88a1f9",
   "metadata": {
    "papermill": {
     "duration": 0.033252,
     "end_time": "2022-12-31T11:41:45.358815",
     "exception": false,
     "start_time": "2022-12-31T11:41:45.325563",
     "status": "completed"
    },
    "tags": []
   },
   "source": [
    "Let's count the values for each prediction."
   ]
  },
  {
   "cell_type": "code",
   "execution_count": 7,
   "id": "1b722fa8",
   "metadata": {
    "_kg_hide-input": true,
    "execution": {
     "iopub.execute_input": "2022-12-31T11:41:45.427459Z",
     "iopub.status.busy": "2022-12-31T11:41:45.426825Z",
     "iopub.status.idle": "2022-12-31T11:41:45.434950Z",
     "shell.execute_reply": "2022-12-31T11:41:45.433680Z"
    },
    "papermill": {
     "duration": 0.045847,
     "end_time": "2022-12-31T11:41:45.437936",
     "exception": false,
     "start_time": "2022-12-31T11:41:45.392089",
     "status": "completed"
    },
    "tags": []
   },
   "outputs": [
    {
     "name": "stdout",
     "output_type": "stream",
     "text": [
      "Target (RainTomorrow) Values Count\n",
      " * Yes:\t  645 (20.2%)\n",
      " * No:\t 2548 (79.8%)\n"
     ]
    }
   ],
   "source": [
    "target_count = target.value_counts()\n",
    "\n",
    "yes_percent = float(target_count['Yes'])/len(target) * 100\n",
    "no_percent = float(target_count['No'])/len(target) * 100\n",
    "\n",
    "print('Target (RainTomorrow) Values Count')\n",
    "print(f\" * Yes:\\t{target_count['Yes']:5} ({yes_percent:.1f}%)\")\n",
    "print(f\" * No:\\t{target_count['No']:5} ({(no_percent):.1f}%)\")"
   ]
  },
  {
   "cell_type": "markdown",
   "id": "3fd79240",
   "metadata": {
    "papermill": {
     "duration": 0.033514,
     "end_time": "2022-12-31T11:41:45.505881",
     "exception": false,
     "start_time": "2022-12-31T11:41:45.472367",
     "status": "completed"
    },
    "tags": []
   },
   "source": [
    "The dataset is **highly imbalanced** with the **No** prediction being $4$x more than the **Yes** prediction."
   ]
  },
  {
   "cell_type": "code",
   "execution_count": 8,
   "id": "fb9abb13",
   "metadata": {
    "_kg_hide-input": true,
    "execution": {
     "iopub.execute_input": "2022-12-31T11:41:45.575966Z",
     "iopub.status.busy": "2022-12-31T11:41:45.575560Z",
     "iopub.status.idle": "2022-12-31T11:41:45.748659Z",
     "shell.execute_reply": "2022-12-31T11:41:45.747629Z"
    },
    "papermill": {
     "duration": 0.211039,
     "end_time": "2022-12-31T11:41:45.751098",
     "exception": false,
     "start_time": "2022-12-31T11:41:45.540059",
     "status": "completed"
    },
    "tags": []
   },
   "outputs": [
    {
     "data": {
      "image/png": "[encoded data removed]",
      "text/plain": [
       "<Figure size 864x432 with 1 Axes>"
      ]
     },
     "metadata": {
      "needs_background": "light"
     },
     "output_type": "display_data"
    }
   ],
   "source": [
    "plt.figure(figsize=(12,6))\n",
    "plt.title(\"Rain Tomorrow\", fontweight=\"bold\", fontsize=15)\n",
    "plt.bar(f\"Yes ({yes_percent: .1f}%)\", target_count['Yes'], color=\"blue\")\n",
    "plt.bar(f\"No ({no_percent: .1f}%)\", target_count['No'], color=\"red\")\n",
    "plt.ylabel(\"Record count\", fontweight=\"bold\")\n",
    "plt.show()"
   ]
  },
  {
   "cell_type": "markdown",
   "id": "b9b78a4a",
   "metadata": {
    "papermill": {
     "duration": 0.033793,
     "end_time": "2022-12-31T11:41:45.819121",
     "exception": false,
     "start_time": "2022-12-31T11:41:45.785328",
     "status": "completed"
    },
    "tags": []
   },
   "source": [
    "# __2.1.2 Date\n",
    "\n",
    "📙 **SUMMARY**\n",
    "* The *Date* attribute is a categorical feature denoting the date the record was taken.\n",
    "* It has several missing values but are not important since this attribute is an identifying key."
   ]
  },
  {
   "cell_type": "markdown",
   "id": "a8328a45",
   "metadata": {
    "papermill": {
     "duration": 0.034018,
     "end_time": "2022-12-31T11:41:45.887153",
     "exception": false,
     "start_time": "2022-12-31T11:41:45.853135",
     "status": "completed"
    },
    "tags": []
   },
   "source": [
    "The *Date* attribute is a categorical denoting the date the record was done."
   ]
  },
  {
   "cell_type": "markdown",
   "id": "502d9e15",
   "metadata": {
    "papermill": {
     "duration": 0.034183,
     "end_time": "2022-12-31T11:41:45.955383",
     "exception": false,
     "start_time": "2022-12-31T11:41:45.921200",
     "status": "completed"
    },
    "tags": []
   },
   "source": [
    "The date ranges from `July 1, 2008` to `June 25, 2017`."
   ]
  },
  {
   "cell_type": "code",
   "execution_count": 9,
   "id": "b5eac345",
   "metadata": {
    "_kg_hide-input": true,
    "execution": {
     "iopub.execute_input": "2022-12-31T11:41:46.026909Z",
     "iopub.status.busy": "2022-12-31T11:41:46.026514Z",
     "iopub.status.idle": "2022-12-31T11:41:46.037447Z",
     "shell.execute_reply": "2022-12-31T11:41:46.036332Z"
    },
    "papermill": {
     "duration": 0.050621,
     "end_time": "2022-12-31T11:41:46.039783",
     "exception": false,
     "start_time": "2022-12-31T11:41:45.989162",
     "status": "completed"
    },
    "tags": []
   },
   "outputs": [
    {
     "data": {
      "text/html": [
       "<div>\n",
       "<style scoped>\n",
       "    .dataframe tbody tr th:only-of-type {\n",
       "        vertical-align: middle;\n",
       "    }\n",
       "\n",
       "    .dataframe tbody tr th {\n",
       "        vertical-align: top;\n",
       "    }\n",
       "\n",
       "    .dataframe thead th {\n",
       "        text-align: right;\n",
       "    }\n",
       "</style>\n",
       "<table border=\"1\" class=\"dataframe\">\n",
       "  <thead>\n",
       "    <tr style=\"text-align: right;\">\n",
       "      <th></th>\n",
       "      <th>Date</th>\n",
       "    </tr>\n",
       "  </thead>\n",
       "  <tbody>\n",
       "    <tr>\n",
       "      <th>120638</th>\n",
       "      <td>2008-07-01</td>\n",
       "    </tr>\n",
       "    <tr>\n",
       "      <th>120639</th>\n",
       "      <td>2008-07-02</td>\n",
       "    </tr>\n",
       "    <tr>\n",
       "      <th>120640</th>\n",
       "      <td>2008-07-03</td>\n",
       "    </tr>\n",
       "    <tr>\n",
       "      <th>120641</th>\n",
       "      <td>2008-07-04</td>\n",
       "    </tr>\n",
       "    <tr>\n",
       "      <th>120642</th>\n",
       "      <td>2008-07-05</td>\n",
       "    </tr>\n",
       "    <tr>\n",
       "      <th>120643</th>\n",
       "      <td>2008-07-06</td>\n",
       "    </tr>\n",
       "    <tr>\n",
       "      <th>120644</th>\n",
       "      <td>2008-07-07</td>\n",
       "    </tr>\n",
       "    <tr>\n",
       "      <th>120645</th>\n",
       "      <td>2008-07-08</td>\n",
       "    </tr>\n",
       "    <tr>\n",
       "      <th>120646</th>\n",
       "      <td>2008-07-09</td>\n",
       "    </tr>\n",
       "    <tr>\n",
       "      <th>120647</th>\n",
       "      <td>2008-07-10</td>\n",
       "    </tr>\n",
       "  </tbody>\n",
       "</table>\n",
       "</div>"
      ],
      "text/plain": [
       "              Date\n",
       "120638  2008-07-01\n",
       "120639  2008-07-02\n",
       "120640  2008-07-03\n",
       "120641  2008-07-04\n",
       "120642  2008-07-05\n",
       "120643  2008-07-06\n",
       "120644  2008-07-07\n",
       "120645  2008-07-08\n",
       "120646  2008-07-09\n",
       "120647  2008-07-10"
      ]
     },
     "execution_count": 9,
     "metadata": {},
     "output_type": "execute_result"
    }
   ],
   "source": [
    "date_df = df[['Date']]\n",
    "date_df.head(10)"
   ]
  },
  {
   "cell_type": "code",
   "execution_count": 10,
   "id": "2cfca30a",
   "metadata": {
    "_kg_hide-input": true,
    "execution": {
     "iopub.execute_input": "2022-12-31T11:41:46.111442Z",
     "iopub.status.busy": "2022-12-31T11:41:46.111007Z",
     "iopub.status.idle": "2022-12-31T11:41:46.120019Z",
     "shell.execute_reply": "2022-12-31T11:41:46.118442Z"
    },
    "papermill": {
     "duration": 0.047584,
     "end_time": "2022-12-31T11:41:46.122601",
     "exception": false,
     "start_time": "2022-12-31T11:41:46.075017",
     "status": "completed"
    },
    "tags": []
   },
   "outputs": [
    {
     "name": "stdout",
     "output_type": "stream",
     "text": [
      "Date range: 2008-07-01 - 2017-06-25\n"
     ]
    }
   ],
   "source": [
    "print(f\"Date range: {str(date_df.min().values[0])[:10]} - {str(date_df.max().values[0])[:10]}\")"
   ]
  },
  {
   "cell_type": "markdown",
   "id": "a58d2b05",
   "metadata": {
    "papermill": {
     "duration": 0.034505,
     "end_time": "2022-12-31T11:41:46.191838",
     "exception": false,
     "start_time": "2022-12-31T11:41:46.157333",
     "status": "completed"
    },
    "tags": []
   },
   "source": [
    "There is a significant number of missing values over the years **2012** - **2014** just by visualizing the values. Upon further inspection, only $5$ years have been recorded completely while the remaining $5$ years hav missing records. "
   ]
  },
  {
   "cell_type": "code",
   "execution_count": 11,
   "id": "41e0897d",
   "metadata": {
    "_kg_hide-input": true,
    "execution": {
     "iopub.execute_input": "2022-12-31T11:41:46.262565Z",
     "iopub.status.busy": "2022-12-31T11:41:46.262139Z",
     "iopub.status.idle": "2022-12-31T11:41:46.575299Z",
     "shell.execute_reply": "2022-12-31T11:41:46.574102Z"
    },
    "papermill": {
     "duration": 0.351489,
     "end_time": "2022-12-31T11:41:46.577707",
     "exception": false,
     "start_time": "2022-12-31T11:41:46.226218",
     "status": "completed"
    },
    "tags": []
   },
   "outputs": [
    {
     "data": {
      "text/plain": [
       "array([[<AxesSubplot:title={'center':'Date'}>]], dtype=object)"
      ]
     },
     "execution_count": 11,
     "metadata": {},
     "output_type": "execute_result"
    },
    {
     "data": {
      "image/png": "[encoded data removed]",
      "text/plain": [
       "<Figure size 432x288 with 1 Axes>"
      ]
     },
     "metadata": {
      "needs_background": "light"
     },
     "output_type": "display_data"
    }
   ],
   "source": [
    "pd.DataFrame(pd.to_datetime(df['Date'])).hist()"
   ]
  },
  {
   "cell_type": "code",
   "execution_count": 12,
   "id": "b3ab3716",
   "metadata": {
    "_kg_hide-input": true,
    "execution": {
     "iopub.execute_input": "2022-12-31T11:41:46.649463Z",
     "iopub.status.busy": "2022-12-31T11:41:46.648536Z",
     "iopub.status.idle": "2022-12-31T11:41:46.662720Z",
     "shell.execute_reply": "2022-12-31T11:41:46.661547Z"
    },
    "papermill": {
     "duration": 0.052395,
     "end_time": "2022-12-31T11:41:46.664986",
     "exception": false,
     "start_time": "2022-12-31T11:41:46.612591",
     "status": "completed"
    },
    "tags": []
   },
   "outputs": [
    {
     "data": {
      "text/html": [
       "<div>\n",
       "<style scoped>\n",
       "    .dataframe tbody tr th:only-of-type {\n",
       "        vertical-align: middle;\n",
       "    }\n",
       "\n",
       "    .dataframe tbody tr th {\n",
       "        vertical-align: top;\n",
       "    }\n",
       "\n",
       "    .dataframe thead th {\n",
       "        text-align: right;\n",
       "    }\n",
       "</style>\n",
       "<table border=\"1\" class=\"dataframe\">\n",
       "  <thead>\n",
       "    <tr style=\"text-align: right;\">\n",
       "      <th></th>\n",
       "      <th>Date</th>\n",
       "    </tr>\n",
       "    <tr>\n",
       "      <th>Date</th>\n",
       "      <th></th>\n",
       "    </tr>\n",
       "  </thead>\n",
       "  <tbody>\n",
       "    <tr>\n",
       "      <th>2008</th>\n",
       "      <td>184</td>\n",
       "    </tr>\n",
       "    <tr>\n",
       "      <th>2009</th>\n",
       "      <td>365</td>\n",
       "    </tr>\n",
       "    <tr>\n",
       "      <th>2010</th>\n",
       "      <td>365</td>\n",
       "    </tr>\n",
       "    <tr>\n",
       "      <th>2011</th>\n",
       "      <td>335</td>\n",
       "    </tr>\n",
       "    <tr>\n",
       "      <th>2012</th>\n",
       "      <td>335</td>\n",
       "    </tr>\n",
       "    <tr>\n",
       "      <th>2013</th>\n",
       "      <td>337</td>\n",
       "    </tr>\n",
       "    <tr>\n",
       "      <th>2014</th>\n",
       "      <td>365</td>\n",
       "    </tr>\n",
       "    <tr>\n",
       "      <th>2015</th>\n",
       "      <td>365</td>\n",
       "    </tr>\n",
       "    <tr>\n",
       "      <th>2016</th>\n",
       "      <td>366</td>\n",
       "    </tr>\n",
       "    <tr>\n",
       "      <th>2017</th>\n",
       "      <td>176</td>\n",
       "    </tr>\n",
       "  </tbody>\n",
       "</table>\n",
       "</div>"
      ],
      "text/plain": [
       "      Date\n",
       "Date      \n",
       "2008   184\n",
       "2009   365\n",
       "2010   365\n",
       "2011   335\n",
       "2012   335\n",
       "2013   337\n",
       "2014   365\n",
       "2015   365\n",
       "2016   366\n",
       "2017   176"
      ]
     },
     "execution_count": 12,
     "metadata": {},
     "output_type": "execute_result"
    }
   ],
   "source": [
    "date_df.groupby(pd.to_datetime(date_df['Date']).dt.year).count()"
   ]
  },
  {
   "cell_type": "markdown",
   "id": "3d386417",
   "metadata": {
    "papermill": {
     "duration": 0.034786,
     "end_time": "2022-12-31T11:41:46.734651",
     "exception": false,
     "start_time": "2022-12-31T11:41:46.699865",
     "status": "completed"
    },
    "tags": []
   },
   "source": [
    "# __2.1.3 Temperature Range\n",
    "\n",
    "📙 **SUMMARY**\n",
    "* The *MinTemp* and *MaxTemp* are continuous attributes denoting, respectively, the minimum and maximum temperature recorded throughout the day. It is in $^\\circ C$.\n",
    "\n",
    "* **MinTemp**\n",
    " * For *MinTemp* ranges from $-0.6 ^\\circ C$ to $29.7 ^\\circ C$ with a mean of $12.92 ^\\circ C$ and a standard deviation of $5.09 ^\\circ C$.\n",
    " * There are no missing values.\n",
    " * The distribution follows a normal distribution.\n",
    " * There are 2 right-end outliers.\n",
    "\n",
    "* **MaxTemp**\n",
    " * The values range from $12.8 ^\\circ C$ to $44.4 ^\\circ C$ with a mean of $25.03 ^\\circ C$ and a standar deviation of $6.12 ^\\circ C$\n",
    " * There is only $1$ missing value.\n",
    " * The distribution is positively skewed with `skewness` = $0.58$.\n",
    " * There are 2 right-end outliers."
   ]
  },
  {
   "cell_type": "markdown",
   "id": "376cb230",
   "metadata": {
    "papermill": {
     "duration": 0.034796,
     "end_time": "2022-12-31T11:41:46.804377",
     "exception": false,
     "start_time": "2022-12-31T11:41:46.769581",
     "status": "completed"
    },
    "tags": []
   },
   "source": [
    "Let's extract information from and visualize the temperature features. The temperature is expressed in `$^\\circ$C."
   ]
  },
  {
   "cell_type": "code",
   "execution_count": 13,
   "id": "0daa9d9d",
   "metadata": {
    "_kg_hide-input": true,
    "execution": {
     "iopub.execute_input": "2022-12-31T11:41:46.876881Z",
     "iopub.status.busy": "2022-12-31T11:41:46.876234Z",
     "iopub.status.idle": "2022-12-31T11:41:46.900608Z",
     "shell.execute_reply": "2022-12-31T11:41:46.899403Z"
    },
    "papermill": {
     "duration": 0.063455,
     "end_time": "2022-12-31T11:41:46.902869",
     "exception": false,
     "start_time": "2022-12-31T11:41:46.839414",
     "status": "completed"
    },
    "tags": []
   },
   "outputs": [
    {
     "data": {
      "text/html": [
       "<div>\n",
       "<style scoped>\n",
       "    .dataframe tbody tr th:only-of-type {\n",
       "        vertical-align: middle;\n",
       "    }\n",
       "\n",
       "    .dataframe tbody tr th {\n",
       "        vertical-align: top;\n",
       "    }\n",
       "\n",
       "    .dataframe thead th {\n",
       "        text-align: right;\n",
       "    }\n",
       "</style>\n",
       "<table border=\"1\" class=\"dataframe\">\n",
       "  <thead>\n",
       "    <tr style=\"text-align: right;\">\n",
       "      <th></th>\n",
       "      <th>count</th>\n",
       "      <th>mean</th>\n",
       "      <th>std</th>\n",
       "      <th>min</th>\n",
       "      <th>25%</th>\n",
       "      <th>50%</th>\n",
       "      <th>75%</th>\n",
       "      <th>max</th>\n",
       "    </tr>\n",
       "  </thead>\n",
       "  <tbody>\n",
       "    <tr>\n",
       "      <th>MinTemp</th>\n",
       "      <td>3193.0</td>\n",
       "      <td>12.922706</td>\n",
       "      <td>5.087817</td>\n",
       "      <td>-0.6</td>\n",
       "      <td>9.2</td>\n",
       "      <td>13.1</td>\n",
       "      <td>16.6</td>\n",
       "      <td>29.7</td>\n",
       "    </tr>\n",
       "    <tr>\n",
       "      <th>MaxTemp</th>\n",
       "      <td>3192.0</td>\n",
       "      <td>25.034837</td>\n",
       "      <td>6.115454</td>\n",
       "      <td>12.8</td>\n",
       "      <td>20.2</td>\n",
       "      <td>23.9</td>\n",
       "      <td>29.4</td>\n",
       "      <td>44.4</td>\n",
       "    </tr>\n",
       "  </tbody>\n",
       "</table>\n",
       "</div>"
      ],
      "text/plain": [
       "          count       mean       std   min   25%   50%   75%   max\n",
       "MinTemp  3193.0  12.922706  5.087817  -0.6   9.2  13.1  16.6  29.7\n",
       "MaxTemp  3192.0  25.034837  6.115454  12.8  20.2  23.9  29.4  44.4"
      ]
     },
     "execution_count": 13,
     "metadata": {},
     "output_type": "execute_result"
    }
   ],
   "source": [
    "temp_df = df[['MinTemp','MaxTemp']]\n",
    "temp_df.describe().transpose()\n"
   ]
  },
  {
   "cell_type": "markdown",
   "id": "ad5f280b",
   "metadata": {
    "papermill": {
     "duration": 0.035019,
     "end_time": "2022-12-31T11:41:46.973183",
     "exception": false,
     "start_time": "2022-12-31T11:41:46.938164",
     "status": "completed"
    },
    "tags": []
   },
   "source": [
    "Let's revisit the missing values for the feature once again."
   ]
  },
  {
   "cell_type": "code",
   "execution_count": 14,
   "id": "038b8142",
   "metadata": {
    "_kg_hide-input": true,
    "execution": {
     "iopub.execute_input": "2022-12-31T11:41:47.046787Z",
     "iopub.status.busy": "2022-12-31T11:41:47.045812Z",
     "iopub.status.idle": "2022-12-31T11:41:47.055547Z",
     "shell.execute_reply": "2022-12-31T11:41:47.054082Z"
    },
    "papermill": {
     "duration": 0.049805,
     "end_time": "2022-12-31T11:41:47.058056",
     "exception": false,
     "start_time": "2022-12-31T11:41:47.008251",
     "status": "completed"
    },
    "tags": []
   },
   "outputs": [
    {
     "name": "stdout",
     "output_type": "stream",
     "text": [
      "MinTemp missing values: 0 (0.00%)\n",
      "MaxTemp missing values: 1 (0.03%)\n"
     ]
    }
   ],
   "source": [
    "missing_min_temp = temp_df['MinTemp'].isna().sum()\n",
    "missing_min_temp_perc = float(missing_min_temp)/len(temp_df['MinTemp'])\n",
    "print(f\"MinTemp missing values: {missing_min_temp} ({missing_min_temp_perc * 100:.2f}%)\")\n",
    "\n",
    "missing_max_temp = temp_df['MaxTemp'].isna().sum()\n",
    "missing_max_temp_perc = float(missing_max_temp)/len(temp_df['MaxTemp'])\n",
    "print(f\"MaxTemp missing values: {missing_max_temp} ({missing_max_temp_perc * 100:.2f}%)\")"
   ]
  },
  {
   "cell_type": "markdown",
   "id": "fa178840",
   "metadata": {
    "papermill": {
     "duration": 0.034795,
     "end_time": "2022-12-31T11:41:47.128431",
     "exception": false,
     "start_time": "2022-12-31T11:41:47.093636",
     "status": "completed"
    },
    "tags": []
   },
   "source": [
    "It seems like **MaxTemp** is negatively skewed. Let's compute the skewness for both features.\n",
    "\n",
    "Note: The distribution is skewed is if it goes below $-0.5$ or beyond $0.5$."
   ]
  },
  {
   "cell_type": "code",
   "execution_count": 15,
   "id": "5c3259a1",
   "metadata": {
    "_kg_hide-input": true,
    "execution": {
     "iopub.execute_input": "2022-12-31T11:41:47.201353Z",
     "iopub.status.busy": "2022-12-31T11:41:47.200924Z",
     "iopub.status.idle": "2022-12-31T11:41:47.695571Z",
     "shell.execute_reply": "2022-12-31T11:41:47.694327Z"
    },
    "papermill": {
     "duration": 0.534361,
     "end_time": "2022-12-31T11:41:47.698101",
     "exception": false,
     "start_time": "2022-12-31T11:41:47.163740",
     "status": "completed"
    },
    "tags": []
   },
   "outputs": [
    {
     "data": {
      "image/png": "[encoded data removed]",
      "text/plain": [
       "<Figure size 1440x432 with 4 Axes>"
      ]
     },
     "metadata": {
      "needs_background": "light"
     },
     "output_type": "display_data"
    }
   ],
   "source": [
    "_, axes = plt.subplots(2, 2, figsize=(20, 6))\n",
    "\n",
    "temp_df.hist(ax=axes[0])\n",
    "sns.boxplot(ax=axes[1, 0], x=temp_df['MinTemp'])\n",
    "sns.boxplot(ax=axes[1, 1], x=temp_df['MaxTemp'])\n",
    "\n",
    "plt.show()"
   ]
  },
  {
   "cell_type": "code",
   "execution_count": 16,
   "id": "c8aa8da9",
   "metadata": {
    "_kg_hide-input": true,
    "execution": {
     "iopub.execute_input": "2022-12-31T11:41:47.773097Z",
     "iopub.status.busy": "2022-12-31T11:41:47.772718Z",
     "iopub.status.idle": "2022-12-31T11:41:47.779636Z",
     "shell.execute_reply": "2022-12-31T11:41:47.778184Z"
    },
    "papermill": {
     "duration": 0.048351,
     "end_time": "2022-12-31T11:41:47.781962",
     "exception": false,
     "start_time": "2022-12-31T11:41:47.733611",
     "status": "completed"
    },
    "tags": []
   },
   "outputs": [
    {
     "name": "stdout",
     "output_type": "stream",
     "text": [
      "MinTemp skewness: -0.08\n",
      "MaxTemp skewness: 0.58\n"
     ]
    }
   ],
   "source": [
    "print(f\"MinTemp skewness: {temp_df['MinTemp'].skew():.2f}\")\n",
    "print(f\"MaxTemp skewness: {temp_df['MaxTemp'].skew():.2f}\")"
   ]
  },
  {
   "cell_type": "code",
   "execution_count": 17,
   "id": "5183a397",
   "metadata": {
    "_kg_hide-input": true,
    "execution": {
     "iopub.execute_input": "2022-12-31T11:41:47.856298Z",
     "iopub.status.busy": "2022-12-31T11:41:47.855846Z",
     "iopub.status.idle": "2022-12-31T11:41:47.864397Z",
     "shell.execute_reply": "2022-12-31T11:41:47.863263Z"
    },
    "papermill": {
     "duration": 0.048283,
     "end_time": "2022-12-31T11:41:47.866619",
     "exception": false,
     "start_time": "2022-12-31T11:41:47.818336",
     "status": "completed"
    },
    "tags": []
   },
   "outputs": [],
   "source": [
    "# Create common method to identify outliers\n",
    "def identify_outliers(df, column):\n",
    "    no_missing = df[ ~df[column].isna() ][column]\n",
    "    perc_75, perc_25 = np.percentile(no_missing, [75, 25])\n",
    "    iqr = perc_75 - perc_25\n",
    "\n",
    "    upper_boundary = perc_75 + (1.5 * iqr)\n",
    "    high_outliers = no_missing[no_missing > upper_boundary]\n",
    "    \n",
    "    lower_boundary = perc_25 - (1.5 * iqr)\n",
    "    low_outliers = no_missing[no_missing < lower_boundary]\n",
    "    \n",
    "    outliers = low_outliers.append(high_outliers)\n",
    "    \n",
    "    print(f\"Number of outlier data points ({column}): {len(outliers)}\")\n",
    "    print(f\"Unique value count: ({len(outliers.value_counts().keys().unique())} unique values)\")\n",
    "    print(f\"Outliers counts:\")\n",
    "    for value, count in outliers.value_counts().items():\n",
    "        print(f\"  {value}\", \"\\t\", f\"{count} occurrence(s)\")\n"
   ]
  },
  {
   "cell_type": "code",
   "execution_count": 18,
   "id": "f7d3132a",
   "metadata": {
    "_kg_hide-input": true,
    "execution": {
     "iopub.execute_input": "2022-12-31T11:41:47.939992Z",
     "iopub.status.busy": "2022-12-31T11:41:47.939128Z",
     "iopub.status.idle": "2022-12-31T11:41:47.953667Z",
     "shell.execute_reply": "2022-12-31T11:41:47.952083Z"
    },
    "papermill": {
     "duration": 0.054383,
     "end_time": "2022-12-31T11:41:47.956416",
     "exception": false,
     "start_time": "2022-12-31T11:41:47.902033",
     "status": "completed"
    },
    "tags": []
   },
   "outputs": [
    {
     "name": "stdout",
     "output_type": "stream",
     "text": [
      "Number of outlier data points (MinTemp): 2\n",
      "Unique value count: (2 unique values)\n",
      "Outliers counts:\n",
      "  28.1 \t 1 occurrence(s)\n",
      "  29.7 \t 1 occurrence(s)\n",
      "Number of outlier data points (MaxTemp): 2\n",
      "Unique value count: (2 unique values)\n",
      "Outliers counts:\n",
      "  43.3 \t 1 occurrence(s)\n",
      "  44.4 \t 1 occurrence(s)\n"
     ]
    }
   ],
   "source": [
    "identify_outliers(temp_df, 'MinTemp')\n",
    "identify_outliers(temp_df, 'MaxTemp')"
   ]
  },
  {
   "cell_type": "markdown",
   "id": "ef83281e",
   "metadata": {
    "papermill": {
     "duration": 0.036225,
     "end_time": "2022-12-31T11:41:48.028946",
     "exception": false,
     "start_time": "2022-12-31T11:41:47.992721",
     "status": "completed"
    },
    "tags": []
   },
   "source": [
    "# __2.1.4 Rainfall\n",
    "\n",
    "📙 **SUMMARY**\n",
    "* The *Rainfall* variable is continuous. It represents the precipitation in the 24 hours to 9am and are expressed in **mm** and are rounded to the nearest $0.2 mm$.\n",
    "* The values range from $0.0$ to $114.4$ with a mean of $1.91$ a standard deviation fo $5.79$.\n",
    "* There are no missing values for the *Rainfall* attribute.\n",
    "* The distribution is exponential.\n",
    "* The dataset is dominated by $0.0$ values (more than $70\\%$).\n"
   ]
  },
  {
   "cell_type": "markdown",
   "id": "ac1c602a",
   "metadata": {
    "papermill": {
     "duration": 0.035205,
     "end_time": "2022-12-31T11:41:48.100052",
     "exception": false,
     "start_time": "2022-12-31T11:41:48.064847",
     "status": "completed"
    },
    "tags": []
   },
   "source": [
    "The attribute represents the precipitation within 24 hours and are expressed in **mm**. The values are in interleaved by $0.2$ units."
   ]
  },
  {
   "cell_type": "code",
   "execution_count": 19,
   "id": "f308ac1d",
   "metadata": {
    "_kg_hide-input": true,
    "execution": {
     "iopub.execute_input": "2022-12-31T11:41:48.173285Z",
     "iopub.status.busy": "2022-12-31T11:41:48.172853Z",
     "iopub.status.idle": "2022-12-31T11:41:48.184486Z",
     "shell.execute_reply": "2022-12-31T11:41:48.183325Z"
    },
    "papermill": {
     "duration": 0.051027,
     "end_time": "2022-12-31T11:41:48.186884",
     "exception": false,
     "start_time": "2022-12-31T11:41:48.135857",
     "status": "completed"
    },
    "tags": []
   },
   "outputs": [
    {
     "data": {
      "text/html": [
       "<div>\n",
       "<style scoped>\n",
       "    .dataframe tbody tr th:only-of-type {\n",
       "        vertical-align: middle;\n",
       "    }\n",
       "\n",
       "    .dataframe tbody tr th {\n",
       "        vertical-align: top;\n",
       "    }\n",
       "\n",
       "    .dataframe thead th {\n",
       "        text-align: right;\n",
       "    }\n",
       "</style>\n",
       "<table border=\"1\" class=\"dataframe\">\n",
       "  <thead>\n",
       "    <tr style=\"text-align: right;\">\n",
       "      <th></th>\n",
       "      <th>Rainfall</th>\n",
       "    </tr>\n",
       "  </thead>\n",
       "  <tbody>\n",
       "    <tr>\n",
       "      <th>120638</th>\n",
       "      <td>0.0</td>\n",
       "    </tr>\n",
       "    <tr>\n",
       "      <th>120639</th>\n",
       "      <td>0.0</td>\n",
       "    </tr>\n",
       "    <tr>\n",
       "      <th>120640</th>\n",
       "      <td>0.4</td>\n",
       "    </tr>\n",
       "    <tr>\n",
       "      <th>120641</th>\n",
       "      <td>1.8</td>\n",
       "    </tr>\n",
       "    <tr>\n",
       "      <th>120642</th>\n",
       "      <td>1.8</td>\n",
       "    </tr>\n",
       "    <tr>\n",
       "      <th>120643</th>\n",
       "      <td>6.8</td>\n",
       "    </tr>\n",
       "    <tr>\n",
       "      <th>120644</th>\n",
       "      <td>0.0</td>\n",
       "    </tr>\n",
       "    <tr>\n",
       "      <th>120645</th>\n",
       "      <td>0.0</td>\n",
       "    </tr>\n",
       "    <tr>\n",
       "      <th>120646</th>\n",
       "      <td>8.0</td>\n",
       "    </tr>\n",
       "    <tr>\n",
       "      <th>120647</th>\n",
       "      <td>4.6</td>\n",
       "    </tr>\n",
       "  </tbody>\n",
       "</table>\n",
       "</div>"
      ],
      "text/plain": [
       "        Rainfall\n",
       "120638       0.0\n",
       "120639       0.0\n",
       "120640       0.4\n",
       "120641       1.8\n",
       "120642       1.8\n",
       "120643       6.8\n",
       "120644       0.0\n",
       "120645       0.0\n",
       "120646       8.0\n",
       "120647       4.6"
      ]
     },
     "execution_count": 19,
     "metadata": {},
     "output_type": "execute_result"
    }
   ],
   "source": [
    "rainfall_df = df[['Rainfall']]\n",
    "rainfall_df.head(10)"
   ]
  },
  {
   "cell_type": "markdown",
   "id": "eae76434",
   "metadata": {
    "papermill": {
     "duration": 0.035187,
     "end_time": "2022-12-31T11:41:48.257659",
     "exception": false,
     "start_time": "2022-12-31T11:41:48.222472",
     "status": "completed"
    },
    "tags": []
   },
   "source": [
    "The data ranges from $0.0$ to $114.4$ with a mean of $1.91$ and a standard deviation of $5.79$."
   ]
  },
  {
   "cell_type": "code",
   "execution_count": 20,
   "id": "4e933b4b",
   "metadata": {
    "_kg_hide-input": true,
    "execution": {
     "iopub.execute_input": "2022-12-31T11:41:48.330961Z",
     "iopub.status.busy": "2022-12-31T11:41:48.330167Z",
     "iopub.status.idle": "2022-12-31T11:41:48.349306Z",
     "shell.execute_reply": "2022-12-31T11:41:48.348497Z"
    },
    "papermill": {
     "duration": 0.058437,
     "end_time": "2022-12-31T11:41:48.351421",
     "exception": false,
     "start_time": "2022-12-31T11:41:48.292984",
     "status": "completed"
    },
    "tags": []
   },
   "outputs": [
    {
     "data": {
      "text/html": [
       "<div>\n",
       "<style scoped>\n",
       "    .dataframe tbody tr th:only-of-type {\n",
       "        vertical-align: middle;\n",
       "    }\n",
       "\n",
       "    .dataframe tbody tr th {\n",
       "        vertical-align: top;\n",
       "    }\n",
       "\n",
       "    .dataframe thead th {\n",
       "        text-align: right;\n",
       "    }\n",
       "</style>\n",
       "<table border=\"1\" class=\"dataframe\">\n",
       "  <thead>\n",
       "    <tr style=\"text-align: right;\">\n",
       "      <th></th>\n",
       "      <th>count</th>\n",
       "      <th>mean</th>\n",
       "      <th>std</th>\n",
       "      <th>min</th>\n",
       "      <th>25%</th>\n",
       "      <th>50%</th>\n",
       "      <th>75%</th>\n",
       "      <th>max</th>\n",
       "    </tr>\n",
       "  </thead>\n",
       "  <tbody>\n",
       "    <tr>\n",
       "      <th>Rainfall</th>\n",
       "      <td>3193.0</td>\n",
       "      <td>1.906295</td>\n",
       "      <td>5.78995</td>\n",
       "      <td>0.0</td>\n",
       "      <td>0.0</td>\n",
       "      <td>0.0</td>\n",
       "      <td>0.2</td>\n",
       "      <td>114.4</td>\n",
       "    </tr>\n",
       "  </tbody>\n",
       "</table>\n",
       "</div>"
      ],
      "text/plain": [
       "           count      mean      std  min  25%  50%  75%    max\n",
       "Rainfall  3193.0  1.906295  5.78995  0.0  0.0  0.0  0.2  114.4"
      ]
     },
     "execution_count": 20,
     "metadata": {},
     "output_type": "execute_result"
    }
   ],
   "source": [
    "rainfall_df.describe().transpose()"
   ]
  },
  {
   "cell_type": "markdown",
   "id": "2d162223",
   "metadata": {
    "papermill": {
     "duration": 0.035712,
     "end_time": "2022-12-31T11:41:48.423706",
     "exception": false,
     "start_time": "2022-12-31T11:41:48.387994",
     "status": "completed"
    },
    "tags": []
   },
   "source": [
    "There are no missing values for the *Rainfall* attribute."
   ]
  },
  {
   "cell_type": "code",
   "execution_count": 21,
   "id": "a8725a26",
   "metadata": {
    "_kg_hide-input": true,
    "execution": {
     "iopub.execute_input": "2022-12-31T11:41:48.497445Z",
     "iopub.status.busy": "2022-12-31T11:41:48.496614Z",
     "iopub.status.idle": "2022-12-31T11:41:48.505100Z",
     "shell.execute_reply": "2022-12-31T11:41:48.503731Z"
    },
    "papermill": {
     "duration": 0.048827,
     "end_time": "2022-12-31T11:41:48.508131",
     "exception": false,
     "start_time": "2022-12-31T11:41:48.459304",
     "status": "completed"
    },
    "tags": []
   },
   "outputs": [
    {
     "name": "stdout",
     "output_type": "stream",
     "text": [
      "Missing Rainfall values: 0 (0.00%)\n"
     ]
    }
   ],
   "source": [
    "missing_rainfall_count = rainfall_df.isna().sum()\n",
    "missing_rainfall_perc = rainfall_df.isna().sum() / float(len(rainfall_df))\n",
    "\n",
    "print(f\"Missing Rainfall values: {missing_rainfall_count['Rainfall']} ({missing_rainfall_perc['Rainfall'] * 100:.2f}%)\")"
   ]
  },
  {
   "cell_type": "markdown",
   "id": "10dc1508",
   "metadata": {
    "papermill": {
     "duration": 0.035499,
     "end_time": "2022-12-31T11:41:48.580570",
     "exception": false,
     "start_time": "2022-12-31T11:41:48.545071",
     "status": "completed"
    },
    "tags": []
   },
   "source": [
    "The *Rainfall* data follows the exponential distribution, making it positively skewed."
   ]
  },
  {
   "cell_type": "code",
   "execution_count": 22,
   "id": "1e7b6169",
   "metadata": {
    "_kg_hide-input": true,
    "execution": {
     "iopub.execute_input": "2022-12-31T11:41:48.655202Z",
     "iopub.status.busy": "2022-12-31T11:41:48.654408Z",
     "iopub.status.idle": "2022-12-31T11:41:48.986093Z",
     "shell.execute_reply": "2022-12-31T11:41:48.984417Z"
    },
    "papermill": {
     "duration": 0.373128,
     "end_time": "2022-12-31T11:41:48.989870",
     "exception": false,
     "start_time": "2022-12-31T11:41:48.616742",
     "status": "completed"
    },
    "tags": []
   },
   "outputs": [
    {
     "data": {
      "image/png": "[encoded data removed]",
      "text/plain": [
       "<Figure size 1440x432 with 2 Axes>"
      ]
     },
     "metadata": {
      "needs_background": "light"
     },
     "output_type": "display_data"
    }
   ],
   "source": [
    "fig, axes = plt.subplots(1, 2, figsize=(20, 6))\n",
    "\n",
    "rainfall_df.hist(ax=axes[0])\n",
    "axes[0].set_title(\"Rainfall Distribution\")\n",
    "\n",
    "sns.boxplot(ax=axes[1], x=rainfall_df['Rainfall'])\n",
    "axes[1].set_title(\"Rainfall Boxplot\")\n",
    "\n",
    "plt.show()"
   ]
  },
  {
   "cell_type": "code",
   "execution_count": 23,
   "id": "fde408e2",
   "metadata": {
    "_kg_hide-input": true,
    "execution": {
     "iopub.execute_input": "2022-12-31T11:41:49.089440Z",
     "iopub.status.busy": "2022-12-31T11:41:49.088426Z",
     "iopub.status.idle": "2022-12-31T11:41:49.096994Z",
     "shell.execute_reply": "2022-12-31T11:41:49.095771Z"
    },
    "papermill": {
     "duration": 0.052906,
     "end_time": "2022-12-31T11:41:49.099210",
     "exception": false,
     "start_time": "2022-12-31T11:41:49.046304",
     "status": "completed"
    },
    "tags": []
   },
   "outputs": [
    {
     "name": "stdout",
     "output_type": "stream",
     "text": [
      "Skewness of Rainfall: 6.14\n"
     ]
    }
   ],
   "source": [
    "skewness = rainfall_df.skew()\n",
    "\n",
    "print(f\"Skewness of Rainfall: {skewness['Rainfall']:.2f}\")"
   ]
  },
  {
   "cell_type": "markdown",
   "id": "d49be1ad",
   "metadata": {
    "papermill": {
     "duration": 0.043117,
     "end_time": "2022-12-31T11:41:49.183107",
     "exception": false,
     "start_time": "2022-12-31T11:41:49.139990",
     "status": "completed"
    },
    "tags": []
   },
   "source": [
    "In the dataset, the value $0.0$ comprises more than $70\\%$ of the the dataset."
   ]
  },
  {
   "cell_type": "code",
   "execution_count": 24,
   "id": "796603bf",
   "metadata": {
    "_kg_hide-input": true,
    "execution": {
     "iopub.execute_input": "2022-12-31T11:41:49.262681Z",
     "iopub.status.busy": "2022-12-31T11:41:49.262133Z",
     "iopub.status.idle": "2022-12-31T11:41:49.280043Z",
     "shell.execute_reply": "2022-12-31T11:41:49.278939Z"
    },
    "papermill": {
     "duration": 0.060901,
     "end_time": "2022-12-31T11:41:49.282590",
     "exception": false,
     "start_time": "2022-12-31T11:41:49.221689",
     "status": "completed"
    },
    "tags": []
   },
   "outputs": [
    {
     "name": "stdout",
     "output_type": "stream",
     "text": [
      "Top 10 Rainfall value occurences:\n"
     ]
    },
    {
     "data": {
      "text/plain": [
       "Rainfall\n",
       "0.0         0.718133\n",
       "0.2         0.033824\n",
       "0.4         0.016599\n",
       "0.6         0.011588\n",
       "0.8         0.009396\n",
       "1.2         0.009082\n",
       "1.0         0.008456\n",
       "2.6         0.006264\n",
       "1.6         0.005951\n",
       "2.2         0.005637\n",
       "dtype: float64"
      ]
     },
     "execution_count": 24,
     "metadata": {},
     "output_type": "execute_result"
    }
   ],
   "source": [
    "print(\"Top 10 Rainfall value occurences:\")\n",
    "value_count_perc = rainfall_df.value_counts()/len(rainfall_df)\n",
    "value_count_perc.sort_values(ascending=False, inplace=True)\n",
    "value_count_perc.iloc[:10]"
   ]
  },
  {
   "cell_type": "markdown",
   "id": "7facdbec",
   "metadata": {
    "papermill": {
     "duration": 0.05801,
     "end_time": "2022-12-31T11:41:49.385482",
     "exception": false,
     "start_time": "2022-12-31T11:41:49.327472",
     "status": "completed"
    },
    "tags": []
   },
   "source": [
    "# __2.1.5 Evaporation\n",
    "\n",
    "📙 **SUMMARY**\n",
    "* The *Evaporation* attribute denotes the evaporation level using the standard *Class A Evaporation Pan* wihtin $24$ hours. The values are expressed in **mm** and rounded to the nearest $0.2 mm$.\n",
    "* The actual values range from $0.0$ to $17.0$ with a mean of $5.61$ and a standard deviation of $3.42$ hours.\n",
    "* There is only $1$ missing value for this attribute.\n",
    "* The distribution is positively skewed at `skewness` = $0.54$.\n",
    "* There is $1$ right-end outlier value in the dataset: $17.0$."
   ]
  },
  {
   "cell_type": "markdown",
   "id": "2fc412e5",
   "metadata": {
    "papermill": {
     "duration": 0.039988,
     "end_time": "2022-12-31T11:41:49.476332",
     "exception": false,
     "start_time": "2022-12-31T11:41:49.436344",
     "status": "completed"
    },
    "tags": []
   },
   "source": [
    "The *Evaporation* data represents the evaporation level in **mm** measured using the standard *Class A Evaporation Pan* within $24$ hours from 9AM. The values are rounded up to the nearest $0.2$ mm."
   ]
  },
  {
   "cell_type": "code",
   "execution_count": 25,
   "id": "a626f6e9",
   "metadata": {
    "_kg_hide-input": true,
    "execution": {
     "iopub.execute_input": "2022-12-31T11:41:49.551083Z",
     "iopub.status.busy": "2022-12-31T11:41:49.550697Z",
     "iopub.status.idle": "2022-12-31T11:41:49.563705Z",
     "shell.execute_reply": "2022-12-31T11:41:49.562765Z"
    },
    "papermill": {
     "duration": 0.053017,
     "end_time": "2022-12-31T11:41:49.566061",
     "exception": false,
     "start_time": "2022-12-31T11:41:49.513044",
     "status": "completed"
    },
    "tags": []
   },
   "outputs": [
    {
     "data": {
      "text/html": [
       "<div>\n",
       "<style scoped>\n",
       "    .dataframe tbody tr th:only-of-type {\n",
       "        vertical-align: middle;\n",
       "    }\n",
       "\n",
       "    .dataframe tbody tr th {\n",
       "        vertical-align: top;\n",
       "    }\n",
       "\n",
       "    .dataframe thead th {\n",
       "        text-align: right;\n",
       "    }\n",
       "</style>\n",
       "<table border=\"1\" class=\"dataframe\">\n",
       "  <thead>\n",
       "    <tr style=\"text-align: right;\">\n",
       "      <th></th>\n",
       "      <th>Evaporation</th>\n",
       "    </tr>\n",
       "  </thead>\n",
       "  <tbody>\n",
       "    <tr>\n",
       "      <th>120638</th>\n",
       "      <td>0.8</td>\n",
       "    </tr>\n",
       "    <tr>\n",
       "      <th>120639</th>\n",
       "      <td>1.8</td>\n",
       "    </tr>\n",
       "    <tr>\n",
       "      <th>120640</th>\n",
       "      <td>2.2</td>\n",
       "    </tr>\n",
       "    <tr>\n",
       "      <th>120641</th>\n",
       "      <td>1.2</td>\n",
       "    </tr>\n",
       "    <tr>\n",
       "      <th>120642</th>\n",
       "      <td>1.4</td>\n",
       "    </tr>\n",
       "    <tr>\n",
       "      <th>120643</th>\n",
       "      <td>2.4</td>\n",
       "    </tr>\n",
       "    <tr>\n",
       "      <th>120644</th>\n",
       "      <td>0.8</td>\n",
       "    </tr>\n",
       "    <tr>\n",
       "      <th>120645</th>\n",
       "      <td>1.4</td>\n",
       "    </tr>\n",
       "    <tr>\n",
       "      <th>120646</th>\n",
       "      <td>1.2</td>\n",
       "    </tr>\n",
       "    <tr>\n",
       "      <th>120647</th>\n",
       "      <td>2.8</td>\n",
       "    </tr>\n",
       "  </tbody>\n",
       "</table>\n",
       "</div>"
      ],
      "text/plain": [
       "        Evaporation\n",
       "120638          0.8\n",
       "120639          1.8\n",
       "120640          2.2\n",
       "120641          1.2\n",
       "120642          1.4\n",
       "120643          2.4\n",
       "120644          0.8\n",
       "120645          1.4\n",
       "120646          1.2\n",
       "120647          2.8"
      ]
     },
     "execution_count": 25,
     "metadata": {},
     "output_type": "execute_result"
    }
   ],
   "source": [
    "evap_df = df[['Evaporation']]\n",
    "evap_df.head(10)"
   ]
  },
  {
   "cell_type": "markdown",
   "id": "0766a1f1",
   "metadata": {
    "papermill": {
     "duration": 0.036509,
     "end_time": "2022-12-31T11:41:49.638916",
     "exception": false,
     "start_time": "2022-12-31T11:41:49.602407",
     "status": "completed"
    },
    "tags": []
   },
   "source": [
    "The values range from $0.0$ to $17.0$. It has a mean of $5.61$ and a standard deviation of $3.42$ hours."
   ]
  },
  {
   "cell_type": "code",
   "execution_count": 26,
   "id": "c2fc0ca0",
   "metadata": {
    "execution": {
     "iopub.execute_input": "2022-12-31T11:41:49.714427Z",
     "iopub.status.busy": "2022-12-31T11:41:49.713637Z",
     "iopub.status.idle": "2022-12-31T11:41:49.734940Z",
     "shell.execute_reply": "2022-12-31T11:41:49.734099Z"
    },
    "papermill": {
     "duration": 0.062112,
     "end_time": "2022-12-31T11:41:49.737614",
     "exception": false,
     "start_time": "2022-12-31T11:41:49.675502",
     "status": "completed"
    },
    "tags": []
   },
   "outputs": [
    {
     "data": {
      "text/html": [
       "<div>\n",
       "<style scoped>\n",
       "    .dataframe tbody tr th:only-of-type {\n",
       "        vertical-align: middle;\n",
       "    }\n",
       "\n",
       "    .dataframe tbody tr th {\n",
       "        vertical-align: top;\n",
       "    }\n",
       "\n",
       "    .dataframe thead th {\n",
       "        text-align: right;\n",
       "    }\n",
       "</style>\n",
       "<table border=\"1\" class=\"dataframe\">\n",
       "  <thead>\n",
       "    <tr style=\"text-align: right;\">\n",
       "      <th></th>\n",
       "      <th>count</th>\n",
       "      <th>mean</th>\n",
       "      <th>std</th>\n",
       "      <th>min</th>\n",
       "      <th>25%</th>\n",
       "      <th>50%</th>\n",
       "      <th>75%</th>\n",
       "      <th>max</th>\n",
       "    </tr>\n",
       "  </thead>\n",
       "  <tbody>\n",
       "    <tr>\n",
       "      <th>Evaporation</th>\n",
       "      <td>3192.0</td>\n",
       "      <td>5.606579</td>\n",
       "      <td>3.422893</td>\n",
       "      <td>0.0</td>\n",
       "      <td>2.6</td>\n",
       "      <td>4.8</td>\n",
       "      <td>8.2</td>\n",
       "      <td>17.0</td>\n",
       "    </tr>\n",
       "  </tbody>\n",
       "</table>\n",
       "</div>"
      ],
      "text/plain": [
       "              count      mean       std  min  25%  50%  75%   max\n",
       "Evaporation  3192.0  5.606579  3.422893  0.0  2.6  4.8  8.2  17.0"
      ]
     },
     "execution_count": 26,
     "metadata": {},
     "output_type": "execute_result"
    }
   ],
   "source": [
    "evap_df.describe().transpose()"
   ]
  },
  {
   "cell_type": "markdown",
   "id": "18c98219",
   "metadata": {
    "papermill": {
     "duration": 0.036821,
     "end_time": "2022-12-31T11:41:49.887290",
     "exception": false,
     "start_time": "2022-12-31T11:41:49.850469",
     "status": "completed"
    },
    "tags": []
   },
   "source": [
    "There's only $1$ missing value for the *Evaporation* attribute."
   ]
  },
  {
   "cell_type": "code",
   "execution_count": 27,
   "id": "375ed23f",
   "metadata": {
    "_kg_hide-input": true,
    "execution": {
     "iopub.execute_input": "2022-12-31T11:41:49.967128Z",
     "iopub.status.busy": "2022-12-31T11:41:49.965723Z",
     "iopub.status.idle": "2022-12-31T11:41:49.974707Z",
     "shell.execute_reply": "2022-12-31T11:41:49.973680Z"
    },
    "papermill": {
     "duration": 0.050012,
     "end_time": "2022-12-31T11:41:49.977034",
     "exception": false,
     "start_time": "2022-12-31T11:41:49.927022",
     "status": "completed"
    },
    "tags": []
   },
   "outputs": [
    {
     "name": "stdout",
     "output_type": "stream",
     "text": [
      "Missing evaporation values: 1 (0.03%)\n"
     ]
    }
   ],
   "source": [
    "missing_evap_count = evap_df.isna().sum()\n",
    "missing_evap_perc = missing_evap_count / len(evap_df)\n",
    "\n",
    "print(f\"Missing evaporation values: {missing_evap_count['Evaporation']} ({missing_evap_perc['Evaporation'] * 100:.2f}%)\")"
   ]
  },
  {
   "cell_type": "markdown",
   "id": "7df5439a",
   "metadata": {
    "papermill": {
     "duration": 0.038103,
     "end_time": "2022-12-31T11:41:50.052540",
     "exception": false,
     "start_time": "2022-12-31T11:41:50.014437",
     "status": "completed"
    },
    "tags": []
   },
   "source": [
    "The values range from $0.0$ to $17.0$ with a mean of $5.61$ and a standard deviation of $3.42$."
   ]
  },
  {
   "cell_type": "markdown",
   "id": "be05a6d6",
   "metadata": {
    "papermill": {
     "duration": 0.036838,
     "end_time": "2022-12-31T11:41:50.126676",
     "exception": false,
     "start_time": "2022-12-31T11:41:50.089838",
     "status": "completed"
    },
    "tags": []
   },
   "source": [
    "The data is positively skewed with `skewness` = $0.54$. "
   ]
  },
  {
   "cell_type": "code",
   "execution_count": 28,
   "id": "e69247d7",
   "metadata": {
    "_kg_hide-input": true,
    "execution": {
     "iopub.execute_input": "2022-12-31T11:41:50.203375Z",
     "iopub.status.busy": "2022-12-31T11:41:50.202420Z",
     "iopub.status.idle": "2022-12-31T11:41:50.540673Z",
     "shell.execute_reply": "2022-12-31T11:41:50.539539Z"
    },
    "papermill": {
     "duration": 0.37941,
     "end_time": "2022-12-31T11:41:50.543076",
     "exception": false,
     "start_time": "2022-12-31T11:41:50.163666",
     "status": "completed"
    },
    "tags": []
   },
   "outputs": [
    {
     "data": {
      "image/png": "[encoded data removed]",
      "text/plain": [
       "<Figure size 1440x432 with 2 Axes>"
      ]
     },
     "metadata": {
      "needs_background": "light"
     },
     "output_type": "display_data"
    }
   ],
   "source": [
    "_, axes = plt.subplots(1, 2, figsize=(20, 6))\n",
    "\n",
    "plt.title(\"Evaporation Distribution\")\n",
    "evap_df.hist(ax=axes[0])\n",
    "\n",
    "plt.title(\"Evaporation Boxplot\")\n",
    "sns.boxplot(ax=axes[1], x=evap_df['Evaporation'])\n",
    "\n",
    "plt.show()"
   ]
  },
  {
   "cell_type": "code",
   "execution_count": 29,
   "id": "0a6b2ea1",
   "metadata": {
    "_kg_hide-input": true,
    "execution": {
     "iopub.execute_input": "2022-12-31T11:41:50.621587Z",
     "iopub.status.busy": "2022-12-31T11:41:50.620552Z",
     "iopub.status.idle": "2022-12-31T11:41:50.628755Z",
     "shell.execute_reply": "2022-12-31T11:41:50.627391Z"
    },
    "papermill": {
     "duration": 0.050498,
     "end_time": "2022-12-31T11:41:50.631726",
     "exception": false,
     "start_time": "2022-12-31T11:41:50.581228",
     "status": "completed"
    },
    "tags": []
   },
   "outputs": [
    {
     "name": "stdout",
     "output_type": "stream",
     "text": [
      "Skewness of Evaporation: 0.54\n"
     ]
    }
   ],
   "source": [
    "evap_skewness = evap_df.skew()\n",
    "\n",
    "print(f\"Skewness of Evaporation: {evap_skewness['Evaporation']:.2f}\")"
   ]
  },
  {
   "cell_type": "markdown",
   "id": "70cfe6b4",
   "metadata": {
    "papermill": {
     "duration": 0.037371,
     "end_time": "2022-12-31T11:41:50.707242",
     "exception": false,
     "start_time": "2022-12-31T11:41:50.669871",
     "status": "completed"
    },
    "tags": []
   },
   "source": [
    "There is only $1$ outlier in the dataset: $17.0$."
   ]
  },
  {
   "cell_type": "code",
   "execution_count": 30,
   "id": "a451a8eb",
   "metadata": {
    "execution": {
     "iopub.execute_input": "2022-12-31T11:41:50.784876Z",
     "iopub.status.busy": "2022-12-31T11:41:50.784476Z",
     "iopub.status.idle": "2022-12-31T11:41:50.793402Z",
     "shell.execute_reply": "2022-12-31T11:41:50.791760Z"
    },
    "papermill": {
     "duration": 0.051245,
     "end_time": "2022-12-31T11:41:50.796707",
     "exception": false,
     "start_time": "2022-12-31T11:41:50.745462",
     "status": "completed"
    },
    "tags": []
   },
   "outputs": [
    {
     "name": "stdout",
     "output_type": "stream",
     "text": [
      "Number of outlier data points (Evaporation): 1\n",
      "Unique value count: (1 unique values)\n",
      "Outliers counts:\n",
      "  17.0 \t 1 occurrence(s)\n"
     ]
    }
   ],
   "source": [
    "identify_outliers(evap_df, 'Evaporation')"
   ]
  },
  {
   "cell_type": "markdown",
   "id": "30918d68",
   "metadata": {
    "papermill": {
     "duration": 0.037599,
     "end_time": "2022-12-31T11:41:50.872749",
     "exception": false,
     "start_time": "2022-12-31T11:41:50.835150",
     "status": "completed"
    },
    "tags": []
   },
   "source": [
    "# __2.1.6 Sunshine\n",
    "\n",
    "\n",
    "📙 **SUMMARY**\n",
    "* The attribute is expressed in terms of number of hours within $24$ hours. Ergo, the value is capped between $0$ - $24$ hours.\n",
    "* The data has a mean of $8.78$ with a standard deviation of $3.47$.\n",
    "* There are $5$ missing values in the dataset.\n",
    "* The distribution is negatively skewed at `skewness` = $-0.74$."
   ]
  },
  {
   "cell_type": "markdown",
   "id": "8eef8e0d",
   "metadata": {
    "papermill": {
     "duration": 0.038164,
     "end_time": "2022-12-31T11:41:50.948900",
     "exception": false,
     "start_time": "2022-12-31T11:41:50.910736",
     "status": "completed"
    },
    "tags": []
   },
   "source": [
    "The *Sunshine* attribute represents the number of hours with bright sunshine within 24 hours. Ergo, the value is capped at $24$ hours."
   ]
  },
  {
   "cell_type": "code",
   "execution_count": 31,
   "id": "f1aa4d80",
   "metadata": {
    "execution": {
     "iopub.execute_input": "2022-12-31T11:41:51.029134Z",
     "iopub.status.busy": "2022-12-31T11:41:51.027989Z",
     "iopub.status.idle": "2022-12-31T11:41:51.040065Z",
     "shell.execute_reply": "2022-12-31T11:41:51.038907Z"
    },
    "papermill": {
     "duration": 0.055909,
     "end_time": "2022-12-31T11:41:51.042533",
     "exception": false,
     "start_time": "2022-12-31T11:41:50.986624",
     "status": "completed"
    },
    "tags": []
   },
   "outputs": [
    {
     "data": {
      "text/html": [
       "<div>\n",
       "<style scoped>\n",
       "    .dataframe tbody tr th:only-of-type {\n",
       "        vertical-align: middle;\n",
       "    }\n",
       "\n",
       "    .dataframe tbody tr th {\n",
       "        vertical-align: top;\n",
       "    }\n",
       "\n",
       "    .dataframe thead th {\n",
       "        text-align: right;\n",
       "    }\n",
       "</style>\n",
       "<table border=\"1\" class=\"dataframe\">\n",
       "  <thead>\n",
       "    <tr style=\"text-align: right;\">\n",
       "      <th></th>\n",
       "      <th>Sunshine</th>\n",
       "    </tr>\n",
       "  </thead>\n",
       "  <tbody>\n",
       "    <tr>\n",
       "      <th>120638</th>\n",
       "      <td>9.1</td>\n",
       "    </tr>\n",
       "    <tr>\n",
       "      <th>120639</th>\n",
       "      <td>7.0</td>\n",
       "    </tr>\n",
       "    <tr>\n",
       "      <th>120640</th>\n",
       "      <td>7.3</td>\n",
       "    </tr>\n",
       "    <tr>\n",
       "      <th>120641</th>\n",
       "      <td>4.7</td>\n",
       "    </tr>\n",
       "    <tr>\n",
       "      <th>120642</th>\n",
       "      <td>4.9</td>\n",
       "    </tr>\n",
       "    <tr>\n",
       "      <th>120643</th>\n",
       "      <td>9.3</td>\n",
       "    </tr>\n",
       "    <tr>\n",
       "      <th>120644</th>\n",
       "      <td>9.3</td>\n",
       "    </tr>\n",
       "    <tr>\n",
       "      <th>120645</th>\n",
       "      <td>6.9</td>\n",
       "    </tr>\n",
       "    <tr>\n",
       "      <th>120646</th>\n",
       "      <td>2.5</td>\n",
       "    </tr>\n",
       "    <tr>\n",
       "      <th>120647</th>\n",
       "      <td>1.7</td>\n",
       "    </tr>\n",
       "  </tbody>\n",
       "</table>\n",
       "</div>"
      ],
      "text/plain": [
       "        Sunshine\n",
       "120638       9.1\n",
       "120639       7.0\n",
       "120640       7.3\n",
       "120641       4.7\n",
       "120642       4.9\n",
       "120643       9.3\n",
       "120644       9.3\n",
       "120645       6.9\n",
       "120646       2.5\n",
       "120647       1.7"
      ]
     },
     "execution_count": 31,
     "metadata": {},
     "output_type": "execute_result"
    }
   ],
   "source": [
    "sunshine_df = df[['Sunshine']]\n",
    "pd.DataFrame(sunshine_df).head(10)"
   ]
  },
  {
   "cell_type": "markdown",
   "id": "bb08dbdd",
   "metadata": {
    "papermill": {
     "duration": 0.03738,
     "end_time": "2022-12-31T11:41:51.119364",
     "exception": false,
     "start_time": "2022-12-31T11:41:51.081984",
     "status": "completed"
    },
    "tags": []
   },
   "source": [
    "There are $5$ missing values for *Sunshine* values."
   ]
  },
  {
   "cell_type": "code",
   "execution_count": 32,
   "id": "4e9b94ba",
   "metadata": {
    "_kg_hide-input": true,
    "execution": {
     "iopub.execute_input": "2022-12-31T11:41:51.197505Z",
     "iopub.status.busy": "2022-12-31T11:41:51.196693Z",
     "iopub.status.idle": "2022-12-31T11:41:51.204966Z",
     "shell.execute_reply": "2022-12-31T11:41:51.203664Z"
    },
    "papermill": {
     "duration": 0.050496,
     "end_time": "2022-12-31T11:41:51.207721",
     "exception": false,
     "start_time": "2022-12-31T11:41:51.157225",
     "status": "completed"
    },
    "tags": []
   },
   "outputs": [
    {
     "name": "stdout",
     "output_type": "stream",
     "text": [
      "Missing Sunshine values: 5 (0.16%)\n"
     ]
    }
   ],
   "source": [
    "missing_sunshine_values = sunshine_df.isna().sum()\n",
    "missing_sunshine_values_perc = missing_sunshine_values / len(sunshine_df)\n",
    "\n",
    "print(f\"Missing Sunshine values: {missing_sunshine_values['Sunshine']} ({missing_sunshine_values_perc['Sunshine'] * 100:.2f}%)\")"
   ]
  },
  {
   "cell_type": "markdown",
   "id": "c213f5c2",
   "metadata": {
    "papermill": {
     "duration": 0.038432,
     "end_time": "2022-12-31T11:41:51.285023",
     "exception": false,
     "start_time": "2022-12-31T11:41:51.246591",
     "status": "completed"
    },
    "tags": []
   },
   "source": [
    "The values range from $0.0$ to $13.0$ with a mean of $8.78$ and a standard deviation of $3.47$."
   ]
  },
  {
   "cell_type": "code",
   "execution_count": 33,
   "id": "52715c47",
   "metadata": {
    "_kg_hide-input": true,
    "execution": {
     "iopub.execute_input": "2022-12-31T11:41:51.363354Z",
     "iopub.status.busy": "2022-12-31T11:41:51.362525Z",
     "iopub.status.idle": "2022-12-31T11:41:51.379556Z",
     "shell.execute_reply": "2022-12-31T11:41:51.378767Z"
    },
    "papermill": {
     "duration": 0.05889,
     "end_time": "2022-12-31T11:41:51.381824",
     "exception": false,
     "start_time": "2022-12-31T11:41:51.322934",
     "status": "completed"
    },
    "tags": []
   },
   "outputs": [
    {
     "data": {
      "text/html": [
       "<div>\n",
       "<style scoped>\n",
       "    .dataframe tbody tr th:only-of-type {\n",
       "        vertical-align: middle;\n",
       "    }\n",
       "\n",
       "    .dataframe tbody tr th {\n",
       "        vertical-align: top;\n",
       "    }\n",
       "\n",
       "    .dataframe thead th {\n",
       "        text-align: right;\n",
       "    }\n",
       "</style>\n",
       "<table border=\"1\" class=\"dataframe\">\n",
       "  <thead>\n",
       "    <tr style=\"text-align: right;\">\n",
       "      <th></th>\n",
       "      <th>count</th>\n",
       "      <th>mean</th>\n",
       "      <th>std</th>\n",
       "      <th>min</th>\n",
       "      <th>25%</th>\n",
       "      <th>50%</th>\n",
       "      <th>75%</th>\n",
       "      <th>max</th>\n",
       "    </tr>\n",
       "  </thead>\n",
       "  <tbody>\n",
       "    <tr>\n",
       "      <th>Sunshine</th>\n",
       "      <td>3188.0</td>\n",
       "      <td>8.784536</td>\n",
       "      <td>3.46685</td>\n",
       "      <td>0.0</td>\n",
       "      <td>6.6</td>\n",
       "      <td>9.4</td>\n",
       "      <td>11.5</td>\n",
       "      <td>13.9</td>\n",
       "    </tr>\n",
       "  </tbody>\n",
       "</table>\n",
       "</div>"
      ],
      "text/plain": [
       "           count      mean      std  min  25%  50%   75%   max\n",
       "Sunshine  3188.0  8.784536  3.46685  0.0  6.6  9.4  11.5  13.9"
      ]
     },
     "execution_count": 33,
     "metadata": {},
     "output_type": "execute_result"
    }
   ],
   "source": [
    "sunshine_df.describe().transpose()"
   ]
  },
  {
   "cell_type": "markdown",
   "id": "39ffde88",
   "metadata": {
    "papermill": {
     "duration": 0.038049,
     "end_time": "2022-12-31T11:41:51.458459",
     "exception": false,
     "start_time": "2022-12-31T11:41:51.420410",
     "status": "completed"
    },
    "tags": []
   },
   "source": [
    "The data is negatively skewed with `skewness` = $-0.74$. There are no outliers in the dataset."
   ]
  },
  {
   "cell_type": "code",
   "execution_count": 34,
   "id": "0fe75b7e",
   "metadata": {
    "_kg_hide-input": true,
    "execution": {
     "iopub.execute_input": "2022-12-31T11:41:51.537393Z",
     "iopub.status.busy": "2022-12-31T11:41:51.536791Z",
     "iopub.status.idle": "2022-12-31T11:41:51.860655Z",
     "shell.execute_reply": "2022-12-31T11:41:51.859413Z"
    },
    "papermill": {
     "duration": 0.366587,
     "end_time": "2022-12-31T11:41:51.863138",
     "exception": false,
     "start_time": "2022-12-31T11:41:51.496551",
     "status": "completed"
    },
    "tags": []
   },
   "outputs": [
    {
     "data": {
      "image/png": "[encoded data removed]",
      "text/plain": [
       "<Figure size 1440x432 with 2 Axes>"
      ]
     },
     "metadata": {
      "needs_background": "light"
     },
     "output_type": "display_data"
    }
   ],
   "source": [
    "_, axes = plt.subplots(1, 2, figsize=(20,6))\n",
    "\n",
    "plt.title(\"Sunshine Distribution\")\n",
    "sunshine_df.hist(ax=axes[0])\n",
    "\n",
    "plt.title(\"Sunshine Boxplot\")\n",
    "sns.boxplot(x=sunshine_df['Sunshine'])\n",
    "\n",
    "plt.show()"
   ]
  },
  {
   "cell_type": "code",
   "execution_count": 35,
   "id": "a1312749",
   "metadata": {
    "_kg_hide-input": true,
    "execution": {
     "iopub.execute_input": "2022-12-31T11:41:51.942221Z",
     "iopub.status.busy": "2022-12-31T11:41:51.941790Z",
     "iopub.status.idle": "2022-12-31T11:41:51.949198Z",
     "shell.execute_reply": "2022-12-31T11:41:51.947916Z"
    },
    "papermill": {
     "duration": 0.050078,
     "end_time": "2022-12-31T11:41:51.951468",
     "exception": false,
     "start_time": "2022-12-31T11:41:51.901390",
     "status": "completed"
    },
    "tags": []
   },
   "outputs": [
    {
     "name": "stdout",
     "output_type": "stream",
     "text": [
      "Skewness of the dataset: -0.74\n"
     ]
    }
   ],
   "source": [
    "sunshine_skewness = sunshine_df.skew()\n",
    "\n",
    "print(f\"Skewness of the dataset: {sunshine_skewness['Sunshine']:.2f}\")"
   ]
  },
  {
   "cell_type": "markdown",
   "id": "4afa008a",
   "metadata": {
    "execution": {
     "iopub.execute_input": "2022-12-26T11:16:50.087484Z",
     "iopub.status.busy": "2022-12-26T11:16:50.086942Z",
     "iopub.status.idle": "2022-12-26T11:16:50.092858Z",
     "shell.execute_reply": "2022-12-26T11:16:50.091513Z",
     "shell.execute_reply.started": "2022-12-26T11:16:50.087442Z"
    },
    "papermill": {
     "duration": 0.039008,
     "end_time": "2022-12-31T11:41:52.028644",
     "exception": false,
     "start_time": "2022-12-31T11:41:51.989636",
     "status": "completed"
    },
    "tags": []
   },
   "source": [
    "# __2.1.7 WindGustDir\n",
    "\n",
    "\n",
    "📙 **SUMMARY**\n",
    "* The *WindGustDir* denotes the direction of the stronged wind gust throughout the day. It is expressed based on the $16$ compass points (**N**, **NE**, **NNE**, **ENE**, etc.).\n",
    "* There are $5$ missing values for the dataset.\n",
    "* The most frequent direction is *SW* ($22.8\\%$) followed by *WSW* ($15.0\\%$)."
   ]
  },
  {
   "cell_type": "code",
   "execution_count": 36,
   "id": "4766b382",
   "metadata": {
    "_kg_hide-input": true,
    "execution": {
     "iopub.execute_input": "2022-12-31T11:41:52.107704Z",
     "iopub.status.busy": "2022-12-31T11:41:52.106867Z",
     "iopub.status.idle": "2022-12-31T11:41:52.116037Z",
     "shell.execute_reply": "2022-12-31T11:41:52.114881Z"
    },
    "papermill": {
     "duration": 0.051204,
     "end_time": "2022-12-31T11:41:52.118269",
     "exception": false,
     "start_time": "2022-12-31T11:41:52.067065",
     "status": "completed"
    },
    "tags": []
   },
   "outputs": [
    {
     "data": {
      "text/plain": [
       "120638    ENE\n",
       "120639     NE\n",
       "120640     NE\n",
       "120641      W\n",
       "120642    WSW\n",
       "120643    NNE\n",
       "120644      N\n",
       "120645    NNW\n",
       "120646    ESE\n",
       "120647    NNW\n",
       "Name: WindGustDir, dtype: object"
      ]
     },
     "execution_count": 36,
     "metadata": {},
     "output_type": "execute_result"
    }
   ],
   "source": [
    "wind_gust_dir_df = df['WindGustDir']\n",
    "wind_gust_dir_df.head(10)"
   ]
  },
  {
   "cell_type": "markdown",
   "id": "c523ac1f",
   "metadata": {
    "papermill": {
     "duration": 0.03832,
     "end_time": "2022-12-31T11:41:52.195160",
     "exception": false,
     "start_time": "2022-12-31T11:41:52.156840",
     "status": "completed"
    },
    "tags": []
   },
   "source": [
    "There are $5$ missing values for *WindGustDir*."
   ]
  },
  {
   "cell_type": "code",
   "execution_count": 37,
   "id": "9b046980",
   "metadata": {
    "_kg_hide-input": true,
    "execution": {
     "iopub.execute_input": "2022-12-31T11:41:52.274841Z",
     "iopub.status.busy": "2022-12-31T11:41:52.273767Z",
     "iopub.status.idle": "2022-12-31T11:41:52.280857Z",
     "shell.execute_reply": "2022-12-31T11:41:52.279602Z"
    },
    "papermill": {
     "duration": 0.049851,
     "end_time": "2022-12-31T11:41:52.283654",
     "exception": false,
     "start_time": "2022-12-31T11:41:52.233803",
     "status": "completed"
    },
    "tags": []
   },
   "outputs": [
    {
     "name": "stdout",
     "output_type": "stream",
     "text": [
      "WindGustDir missing values: 5 (0.16%)\n"
     ]
    }
   ],
   "source": [
    "missing_windgust_count = wind_gust_dir_df.isna().sum()\n",
    "missing_windgust_perc = missing_windgust_count / len(wind_gust_dir_df)\n",
    "\n",
    "print(f\"WindGustDir missing values: {missing_windgust_count} ({missing_windgust_perc*100:.2f}%)\")"
   ]
  },
  {
   "cell_type": "markdown",
   "id": "e98eac6c",
   "metadata": {
    "papermill": {
     "duration": 0.03789,
     "end_time": "2022-12-31T11:41:52.360890",
     "exception": false,
     "start_time": "2022-12-31T11:41:52.323000",
     "status": "completed"
    },
    "tags": []
   },
   "source": [
    "The most occuring direction is **SW** at $22.8\\%$."
   ]
  },
  {
   "cell_type": "code",
   "execution_count": 38,
   "id": "bb423bd5",
   "metadata": {
    "_kg_hide-input": true,
    "execution": {
     "iopub.execute_input": "2022-12-31T11:41:52.439726Z",
     "iopub.status.busy": "2022-12-31T11:41:52.439296Z",
     "iopub.status.idle": "2022-12-31T11:41:52.765864Z",
     "shell.execute_reply": "2022-12-31T11:41:52.764416Z"
    },
    "papermill": {
     "duration": 0.369246,
     "end_time": "2022-12-31T11:41:52.768397",
     "exception": false,
     "start_time": "2022-12-31T11:41:52.399151",
     "status": "completed"
    },
    "tags": []
   },
   "outputs": [
    {
     "data": {
      "image/png": "[encoded data removed]",
      "text/plain": [
       "<Figure size 1440x432 with 1 Axes>"
      ]
     },
     "metadata": {
      "needs_background": "light"
     },
     "output_type": "display_data"
    }
   ],
   "source": [
    "wind_gust_dir_count = wind_gust_dir_df.value_counts()\n",
    "wind_gust_dir_count_df = pd.DataFrame(wind_gust_dir_count)\n",
    "wind_gust_dir_count_df.rename(columns={'WindGustDir': 'count'}, inplace=True)\n",
    "wind_gust_dir_count_df['percent'] = wind_gust_dir_count_df['count']/ wind_gust_dir_count_df['count'].sum()\n",
    "wind_gust_dir_count_df\n",
    "\n",
    "_, ax = plt.subplots(figsize=(20,6))\n",
    "p = ax.bar(wind_gust_dir_count_df.index, wind_gust_dir_count_df['count'])\n",
    "ax.bar_label(p, labels=wind_gust_dir_count_df['count'], padding=3)\n",
    "plt.show()"
   ]
  },
  {
   "cell_type": "code",
   "execution_count": 39,
   "id": "68b4aeac",
   "metadata": {
    "_kg_hide-input": true,
    "execution": {
     "iopub.execute_input": "2022-12-31T11:41:52.858982Z",
     "iopub.status.busy": "2022-12-31T11:41:52.858499Z",
     "iopub.status.idle": "2022-12-31T11:41:52.873526Z",
     "shell.execute_reply": "2022-12-31T11:41:52.872284Z"
    },
    "papermill": {
     "duration": 0.066434,
     "end_time": "2022-12-31T11:41:52.875964",
     "exception": false,
     "start_time": "2022-12-31T11:41:52.809530",
     "status": "completed"
    },
    "tags": []
   },
   "outputs": [
    {
     "data": {
      "text/html": [
       "<div>\n",
       "<style scoped>\n",
       "    .dataframe tbody tr th:only-of-type {\n",
       "        vertical-align: middle;\n",
       "    }\n",
       "\n",
       "    .dataframe tbody tr th {\n",
       "        vertical-align: top;\n",
       "    }\n",
       "\n",
       "    .dataframe thead th {\n",
       "        text-align: right;\n",
       "    }\n",
       "</style>\n",
       "<table border=\"1\" class=\"dataframe\">\n",
       "  <thead>\n",
       "    <tr style=\"text-align: right;\">\n",
       "      <th></th>\n",
       "      <th>count</th>\n",
       "      <th>percent</th>\n",
       "    </tr>\n",
       "  </thead>\n",
       "  <tbody>\n",
       "    <tr>\n",
       "      <th>SW</th>\n",
       "      <td>727</td>\n",
       "      <td>0.228043</td>\n",
       "    </tr>\n",
       "    <tr>\n",
       "      <th>SSW</th>\n",
       "      <td>479</td>\n",
       "      <td>0.150251</td>\n",
       "    </tr>\n",
       "    <tr>\n",
       "      <th>WSW</th>\n",
       "      <td>279</td>\n",
       "      <td>0.087516</td>\n",
       "    </tr>\n",
       "    <tr>\n",
       "      <th>NE</th>\n",
       "      <td>277</td>\n",
       "      <td>0.086888</td>\n",
       "    </tr>\n",
       "    <tr>\n",
       "      <th>ENE</th>\n",
       "      <td>166</td>\n",
       "      <td>0.052070</td>\n",
       "    </tr>\n",
       "    <tr>\n",
       "      <th>E</th>\n",
       "      <td>146</td>\n",
       "      <td>0.045797</td>\n",
       "    </tr>\n",
       "    <tr>\n",
       "      <th>WNW</th>\n",
       "      <td>143</td>\n",
       "      <td>0.044856</td>\n",
       "    </tr>\n",
       "    <tr>\n",
       "      <th>NW</th>\n",
       "      <td>137</td>\n",
       "      <td>0.042974</td>\n",
       "    </tr>\n",
       "    <tr>\n",
       "      <th>SE</th>\n",
       "      <td>129</td>\n",
       "      <td>0.040464</td>\n",
       "    </tr>\n",
       "    <tr>\n",
       "      <th>W</th>\n",
       "      <td>127</td>\n",
       "      <td>0.039837</td>\n",
       "    </tr>\n",
       "    <tr>\n",
       "      <th>NNE</th>\n",
       "      <td>126</td>\n",
       "      <td>0.039523</td>\n",
       "    </tr>\n",
       "    <tr>\n",
       "      <th>ESE</th>\n",
       "      <td>126</td>\n",
       "      <td>0.039523</td>\n",
       "    </tr>\n",
       "    <tr>\n",
       "      <th>SSE</th>\n",
       "      <td>117</td>\n",
       "      <td>0.036700</td>\n",
       "    </tr>\n",
       "    <tr>\n",
       "      <th>S</th>\n",
       "      <td>91</td>\n",
       "      <td>0.028545</td>\n",
       "    </tr>\n",
       "    <tr>\n",
       "      <th>N</th>\n",
       "      <td>62</td>\n",
       "      <td>0.019448</td>\n",
       "    </tr>\n",
       "    <tr>\n",
       "      <th>NNW</th>\n",
       "      <td>56</td>\n",
       "      <td>0.017566</td>\n",
       "    </tr>\n",
       "  </tbody>\n",
       "</table>\n",
       "</div>"
      ],
      "text/plain": [
       "     count   percent\n",
       "SW     727  0.228043\n",
       "SSW    479  0.150251\n",
       "WSW    279  0.087516\n",
       "NE     277  0.086888\n",
       "ENE    166  0.052070\n",
       "E      146  0.045797\n",
       "WNW    143  0.044856\n",
       "NW     137  0.042974\n",
       "SE     129  0.040464\n",
       "W      127  0.039837\n",
       "NNE    126  0.039523\n",
       "ESE    126  0.039523\n",
       "SSE    117  0.036700\n",
       "S       91  0.028545\n",
       "N       62  0.019448\n",
       "NNW     56  0.017566"
      ]
     },
     "execution_count": 39,
     "metadata": {},
     "output_type": "execute_result"
    }
   ],
   "source": [
    "wind_gust_dir_count_df"
   ]
  },
  {
   "cell_type": "markdown",
   "id": "cbe095fb",
   "metadata": {
    "papermill": {
     "duration": 0.040087,
     "end_time": "2022-12-31T11:41:52.955795",
     "exception": false,
     "start_time": "2022-12-31T11:41:52.915708",
     "status": "completed"
    },
    "tags": []
   },
   "source": [
    "# __2.1.8 WindGustSpeed\n",
    "\n",
    "📙 **SUMMARY**\n",
    "* The *WindGustSpeed* denotes the strongest wind speed within $24$ hours and is expressed in **km/hr**. The values are rounded to the nearest whole number.\n",
    "* The values range from $11.0$ to $83.0$ with a mean of $34.88$ and a standard deviation of $9.41 km/hr$. \n",
    "* There are $5$ missing values in the dataset.\n",
    "* The distribution is positively skewed at `skewness` = $0.65$.\n",
    "* There are $49$ outliers in the dataset."
   ]
  },
  {
   "cell_type": "markdown",
   "id": "b4044dba",
   "metadata": {
    "papermill": {
     "duration": 0.039072,
     "end_time": "2022-12-31T11:41:53.034708",
     "exception": false,
     "start_time": "2022-12-31T11:41:52.995636",
     "status": "completed"
    },
    "tags": []
   },
   "source": [
    "The *WindGustSpeed* represents the speed of the strongest wind speed within 24 hours and expressed in **km/hr**."
   ]
  },
  {
   "cell_type": "code",
   "execution_count": 40,
   "id": "30df9fd6",
   "metadata": {
    "_kg_hide-input": true,
    "execution": {
     "iopub.execute_input": "2022-12-31T11:41:53.116269Z",
     "iopub.status.busy": "2022-12-31T11:41:53.115875Z",
     "iopub.status.idle": "2022-12-31T11:41:53.127635Z",
     "shell.execute_reply": "2022-12-31T11:41:53.126524Z"
    },
    "papermill": {
     "duration": 0.054476,
     "end_time": "2022-12-31T11:41:53.129780",
     "exception": false,
     "start_time": "2022-12-31T11:41:53.075304",
     "status": "completed"
    },
    "tags": []
   },
   "outputs": [
    {
     "data": {
      "text/html": [
       "<div>\n",
       "<style scoped>\n",
       "    .dataframe tbody tr th:only-of-type {\n",
       "        vertical-align: middle;\n",
       "    }\n",
       "\n",
       "    .dataframe tbody tr th {\n",
       "        vertical-align: top;\n",
       "    }\n",
       "\n",
       "    .dataframe thead th {\n",
       "        text-align: right;\n",
       "    }\n",
       "</style>\n",
       "<table border=\"1\" class=\"dataframe\">\n",
       "  <thead>\n",
       "    <tr style=\"text-align: right;\">\n",
       "      <th></th>\n",
       "      <th>WindGustSpeed</th>\n",
       "    </tr>\n",
       "  </thead>\n",
       "  <tbody>\n",
       "    <tr>\n",
       "      <th>120638</th>\n",
       "      <td>20.0</td>\n",
       "    </tr>\n",
       "    <tr>\n",
       "      <th>120639</th>\n",
       "      <td>22.0</td>\n",
       "    </tr>\n",
       "    <tr>\n",
       "      <th>120640</th>\n",
       "      <td>31.0</td>\n",
       "    </tr>\n",
       "    <tr>\n",
       "      <th>120641</th>\n",
       "      <td>26.0</td>\n",
       "    </tr>\n",
       "    <tr>\n",
       "      <th>120642</th>\n",
       "      <td>44.0</td>\n",
       "    </tr>\n",
       "    <tr>\n",
       "      <th>120643</th>\n",
       "      <td>24.0</td>\n",
       "    </tr>\n",
       "    <tr>\n",
       "      <th>120644</th>\n",
       "      <td>37.0</td>\n",
       "    </tr>\n",
       "    <tr>\n",
       "      <th>120645</th>\n",
       "      <td>24.0</td>\n",
       "    </tr>\n",
       "    <tr>\n",
       "      <th>120646</th>\n",
       "      <td>31.0</td>\n",
       "    </tr>\n",
       "    <tr>\n",
       "      <th>120647</th>\n",
       "      <td>46.0</td>\n",
       "    </tr>\n",
       "  </tbody>\n",
       "</table>\n",
       "</div>"
      ],
      "text/plain": [
       "        WindGustSpeed\n",
       "120638           20.0\n",
       "120639           22.0\n",
       "120640           31.0\n",
       "120641           26.0\n",
       "120642           44.0\n",
       "120643           24.0\n",
       "120644           37.0\n",
       "120645           24.0\n",
       "120646           31.0\n",
       "120647           46.0"
      ]
     },
     "execution_count": 40,
     "metadata": {},
     "output_type": "execute_result"
    }
   ],
   "source": [
    "wind_gust_speed_df = df[['WindGustSpeed']]\n",
    "wind_gust_speed_df.head(10)"
   ]
  },
  {
   "cell_type": "markdown",
   "id": "618f24a7",
   "metadata": {
    "papermill": {
     "duration": 0.039053,
     "end_time": "2022-12-31T11:41:53.208784",
     "exception": false,
     "start_time": "2022-12-31T11:41:53.169731",
     "status": "completed"
    },
    "tags": []
   },
   "source": [
    "The *WindGustSpeed* values range from $11.0$ - $83.0$ with a mean of $34.88$ and a standard deviation of $9.41$."
   ]
  },
  {
   "cell_type": "code",
   "execution_count": 41,
   "id": "3e534f51",
   "metadata": {
    "_kg_hide-input": true,
    "execution": {
     "iopub.execute_input": "2022-12-31T11:41:53.290993Z",
     "iopub.status.busy": "2022-12-31T11:41:53.290265Z",
     "iopub.status.idle": "2022-12-31T11:41:53.307698Z",
     "shell.execute_reply": "2022-12-31T11:41:53.306746Z"
    },
    "papermill": {
     "duration": 0.061835,
     "end_time": "2022-12-31T11:41:53.309788",
     "exception": false,
     "start_time": "2022-12-31T11:41:53.247953",
     "status": "completed"
    },
    "tags": []
   },
   "outputs": [
    {
     "data": {
      "text/html": [
       "<div>\n",
       "<style scoped>\n",
       "    .dataframe tbody tr th:only-of-type {\n",
       "        vertical-align: middle;\n",
       "    }\n",
       "\n",
       "    .dataframe tbody tr th {\n",
       "        vertical-align: top;\n",
       "    }\n",
       "\n",
       "    .dataframe thead th {\n",
       "        text-align: right;\n",
       "    }\n",
       "</style>\n",
       "<table border=\"1\" class=\"dataframe\">\n",
       "  <thead>\n",
       "    <tr style=\"text-align: right;\">\n",
       "      <th></th>\n",
       "      <th>count</th>\n",
       "      <th>mean</th>\n",
       "      <th>std</th>\n",
       "      <th>min</th>\n",
       "      <th>25%</th>\n",
       "      <th>50%</th>\n",
       "      <th>75%</th>\n",
       "      <th>max</th>\n",
       "    </tr>\n",
       "  </thead>\n",
       "  <tbody>\n",
       "    <tr>\n",
       "      <th>WindGustSpeed</th>\n",
       "      <td>3188.0</td>\n",
       "      <td>34.882999</td>\n",
       "      <td>9.411943</td>\n",
       "      <td>11.0</td>\n",
       "      <td>28.0</td>\n",
       "      <td>35.0</td>\n",
       "      <td>41.0</td>\n",
       "      <td>83.0</td>\n",
       "    </tr>\n",
       "  </tbody>\n",
       "</table>\n",
       "</div>"
      ],
      "text/plain": [
       "                count       mean       std   min   25%   50%   75%   max\n",
       "WindGustSpeed  3188.0  34.882999  9.411943  11.0  28.0  35.0  41.0  83.0"
      ]
     },
     "execution_count": 41,
     "metadata": {},
     "output_type": "execute_result"
    }
   ],
   "source": [
    "wind_gust_speed_df.describe().transpose()"
   ]
  },
  {
   "cell_type": "markdown",
   "id": "46996ac5",
   "metadata": {
    "papermill": {
     "duration": 0.039763,
     "end_time": "2022-12-31T11:41:53.388896",
     "exception": false,
     "start_time": "2022-12-31T11:41:53.349133",
     "status": "completed"
    },
    "tags": []
   },
   "source": [
    "There are $5$ ($0.16\\%$) missing values for *WindGustSpeed* dataset."
   ]
  },
  {
   "cell_type": "code",
   "execution_count": 42,
   "id": "2030242a",
   "metadata": {
    "_kg_hide-input": true,
    "execution": {
     "iopub.execute_input": "2022-12-31T11:41:53.471135Z",
     "iopub.status.busy": "2022-12-31T11:41:53.470550Z",
     "iopub.status.idle": "2022-12-31T11:41:53.477768Z",
     "shell.execute_reply": "2022-12-31T11:41:53.476135Z"
    },
    "papermill": {
     "duration": 0.052121,
     "end_time": "2022-12-31T11:41:53.480502",
     "exception": false,
     "start_time": "2022-12-31T11:41:53.428381",
     "status": "completed"
    },
    "tags": []
   },
   "outputs": [
    {
     "name": "stdout",
     "output_type": "stream",
     "text": [
      "Missing wind gust speed values: 5 (0.16%)\n"
     ]
    }
   ],
   "source": [
    "missing_wind_gust_speed = wind_gust_speed_df.isna().sum()\n",
    "missing_wind_gust_speed_perc = missing_wind_gust_speed / len(wind_gust_speed_df)\n",
    "\n",
    "print(f\"Missing wind gust speed values: {missing_wind_gust_speed['WindGustSpeed']} ({missing_wind_gust_speed_perc['WindGustSpeed'] * 100:.2f}%)\")"
   ]
  },
  {
   "cell_type": "code",
   "execution_count": 43,
   "id": "4faab282",
   "metadata": {
    "_kg_hide-input": true,
    "execution": {
     "iopub.execute_input": "2022-12-31T11:41:53.570298Z",
     "iopub.status.busy": "2022-12-31T11:41:53.569889Z",
     "iopub.status.idle": "2022-12-31T11:41:53.899895Z",
     "shell.execute_reply": "2022-12-31T11:41:53.898625Z"
    },
    "papermill": {
     "duration": 0.375695,
     "end_time": "2022-12-31T11:41:53.902261",
     "exception": false,
     "start_time": "2022-12-31T11:41:53.526566",
     "status": "completed"
    },
    "tags": []
   },
   "outputs": [
    {
     "data": {
      "image/png": "[encoded data removed]",
      "text/plain": [
       "<Figure size 1440x432 with 2 Axes>"
      ]
     },
     "metadata": {
      "needs_background": "light"
     },
     "output_type": "display_data"
    }
   ],
   "source": [
    "_, axes = plt.subplots(1, 2, figsize=(20, 6))\n",
    "\n",
    "plt.title(\"Wind Gust Speed Distribution\")\n",
    "wind_gust_speed_df.hist(ax=axes[0])\n",
    "\n",
    "plt.title(\"Wind Gust Speed Boxplot\")\n",
    "sns.boxplot(ax=axes[1], x=wind_gust_speed_df['WindGustSpeed'])\n",
    "\n",
    "plt.show()"
   ]
  },
  {
   "cell_type": "markdown",
   "id": "0bb61272",
   "metadata": {
    "papermill": {
     "duration": 0.041722,
     "end_time": "2022-12-31T11:41:53.986084",
     "exception": false,
     "start_time": "2022-12-31T11:41:53.944362",
     "status": "completed"
    },
    "tags": []
   },
   "source": [
    "The data distribution is positively skewed with `skewness` = $0.65$."
   ]
  },
  {
   "cell_type": "code",
   "execution_count": 44,
   "id": "d21f4872",
   "metadata": {
    "_kg_hide-input": true,
    "execution": {
     "iopub.execute_input": "2022-12-31T11:41:54.070774Z",
     "iopub.status.busy": "2022-12-31T11:41:54.070055Z",
     "iopub.status.idle": "2022-12-31T11:41:54.077723Z",
     "shell.execute_reply": "2022-12-31T11:41:54.076398Z"
    },
    "papermill": {
     "duration": 0.051337,
     "end_time": "2022-12-31T11:41:54.080000",
     "exception": false,
     "start_time": "2022-12-31T11:41:54.028663",
     "status": "completed"
    },
    "tags": []
   },
   "outputs": [
    {
     "name": "stdout",
     "output_type": "stream",
     "text": [
      "Wind Gust Speed Skewness: 0.65\n"
     ]
    }
   ],
   "source": [
    "wind_gust_speed_skewness = wind_gust_speed_df.skew()\n",
    "\n",
    "print(f\"Wind Gust Speed Skewness: {wind_gust_speed_skewness['WindGustSpeed']:.2f}\")"
   ]
  },
  {
   "cell_type": "markdown",
   "id": "13bb2837",
   "metadata": {
    "papermill": {
     "duration": 0.04113,
     "end_time": "2022-12-31T11:41:54.164060",
     "exception": false,
     "start_time": "2022-12-31T11:41:54.122930",
     "status": "completed"
    },
    "tags": []
   },
   "source": [
    "There are $49$ outlier values in the dataset."
   ]
  },
  {
   "cell_type": "code",
   "execution_count": 45,
   "id": "3715952c",
   "metadata": {
    "_kg_hide-input": true,
    "execution": {
     "iopub.execute_input": "2022-12-31T11:41:54.252097Z",
     "iopub.status.busy": "2022-12-31T11:41:54.251436Z",
     "iopub.status.idle": "2022-12-31T11:41:54.261325Z",
     "shell.execute_reply": "2022-12-31T11:41:54.259692Z"
    },
    "papermill": {
     "duration": 0.056933,
     "end_time": "2022-12-31T11:41:54.263785",
     "exception": false,
     "start_time": "2022-12-31T11:41:54.206852",
     "status": "completed"
    },
    "tags": []
   },
   "outputs": [
    {
     "name": "stdout",
     "output_type": "stream",
     "text": [
      "Number of outlier data points (WindGustSpeed): 49\n",
      "Unique value count: (11 unique values)\n",
      "Outliers counts:\n",
      "  61.0 \t 14 occurrence(s)\n",
      "  63.0 \t 7 occurrence(s)\n",
      "  67.0 \t 6 occurrence(s)\n",
      "  70.0 \t 6 occurrence(s)\n",
      "  65.0 \t 5 occurrence(s)\n",
      "  76.0 \t 3 occurrence(s)\n",
      "  72.0 \t 3 occurrence(s)\n",
      "  69.0 \t 2 occurrence(s)\n",
      "  74.0 \t 1 occurrence(s)\n",
      "  83.0 \t 1 occurrence(s)\n",
      "  78.0 \t 1 occurrence(s)\n"
     ]
    }
   ],
   "source": [
    "identify_outliers(wind_gust_speed_df, 'WindGustSpeed')"
   ]
  },
  {
   "cell_type": "markdown",
   "id": "bd473c81",
   "metadata": {
    "papermill": {
     "duration": 0.039624,
     "end_time": "2022-12-31T11:41:54.344147",
     "exception": false,
     "start_time": "2022-12-31T11:41:54.304523",
     "status": "completed"
    },
    "tags": []
   },
   "source": [
    "# __2.1.9WindDir\n",
    "\n",
    "📙 **SUMMARY**\n",
    "* The *WindDir9am* and *WinDir3pm* is categorical denoting the direction of the wind at 9AM and 3PM respectively. The values are expressed according to the 16 compass points.\n",
    "\n",
    "* **WindDir9am**\n",
    " * The dataset contains $134$ ($4.20\\%$) missing values.\n",
    "\n",
    "* **WindDir3pm**\n",
    " * The dataset contains $7$ ($0.22\\%$) missing values.\n",
    " * The values range from $11.0$ to $83.0$ with a mean of $34.88$ and a standard deviation of $9.41 km/hr$. \n",
    " * There are $5$ missing values in the dataset.\n",
    " * The distribution is positively skewed at `skewness` = $0.65$.\n",
    " * There are $49$ outliers in the dataset."
   ]
  },
  {
   "cell_type": "markdown",
   "id": "9c2bcb07",
   "metadata": {
    "papermill": {
     "duration": 0.041221,
     "end_time": "2022-12-31T11:41:54.425991",
     "exception": false,
     "start_time": "2022-12-31T11:41:54.384770",
     "status": "completed"
    },
    "tags": []
   },
   "source": [
    "The data on both *WindDir9am* and *WindDir3pm* consists of the $16$ compass points."
   ]
  },
  {
   "cell_type": "code",
   "execution_count": 46,
   "id": "2152aafa",
   "metadata": {
    "_kg_hide-input": true,
    "execution": {
     "iopub.execute_input": "2022-12-31T11:41:54.510492Z",
     "iopub.status.busy": "2022-12-31T11:41:54.510076Z",
     "iopub.status.idle": "2022-12-31T11:41:54.521802Z",
     "shell.execute_reply": "2022-12-31T11:41:54.520947Z"
    },
    "papermill": {
     "duration": 0.05656,
     "end_time": "2022-12-31T11:41:54.523981",
     "exception": false,
     "start_time": "2022-12-31T11:41:54.467421",
     "status": "completed"
    },
    "tags": []
   },
   "outputs": [
    {
     "data": {
      "text/html": [
       "<div>\n",
       "<style scoped>\n",
       "    .dataframe tbody tr th:only-of-type {\n",
       "        vertical-align: middle;\n",
       "    }\n",
       "\n",
       "    .dataframe tbody tr th {\n",
       "        vertical-align: top;\n",
       "    }\n",
       "\n",
       "    .dataframe thead th {\n",
       "        text-align: right;\n",
       "    }\n",
       "</style>\n",
       "<table border=\"1\" class=\"dataframe\">\n",
       "  <thead>\n",
       "    <tr style=\"text-align: right;\">\n",
       "      <th></th>\n",
       "      <th>WindDir9am</th>\n",
       "      <th>WindDir3pm</th>\n",
       "    </tr>\n",
       "  </thead>\n",
       "  <tbody>\n",
       "    <tr>\n",
       "      <th>120638</th>\n",
       "      <td>NaN</td>\n",
       "      <td>E</td>\n",
       "    </tr>\n",
       "    <tr>\n",
       "      <th>120639</th>\n",
       "      <td>ESE</td>\n",
       "      <td>ENE</td>\n",
       "    </tr>\n",
       "    <tr>\n",
       "      <th>120640</th>\n",
       "      <td>NaN</td>\n",
       "      <td>WNW</td>\n",
       "    </tr>\n",
       "    <tr>\n",
       "      <th>120641</th>\n",
       "      <td>NNE</td>\n",
       "      <td>NNW</td>\n",
       "    </tr>\n",
       "    <tr>\n",
       "      <th>120642</th>\n",
       "      <td>W</td>\n",
       "      <td>SW</td>\n",
       "    </tr>\n",
       "    <tr>\n",
       "      <th>120643</th>\n",
       "      <td>ENE</td>\n",
       "      <td>NE</td>\n",
       "    </tr>\n",
       "    <tr>\n",
       "      <th>120644</th>\n",
       "      <td>NE</td>\n",
       "      <td>NNE</td>\n",
       "    </tr>\n",
       "    <tr>\n",
       "      <th>120645</th>\n",
       "      <td>NE</td>\n",
       "      <td>N</td>\n",
       "    </tr>\n",
       "    <tr>\n",
       "      <th>120646</th>\n",
       "      <td>NaN</td>\n",
       "      <td>ESE</td>\n",
       "    </tr>\n",
       "    <tr>\n",
       "      <th>120647</th>\n",
       "      <td>NE</td>\n",
       "      <td>NNE</td>\n",
       "    </tr>\n",
       "  </tbody>\n",
       "</table>\n",
       "</div>"
      ],
      "text/plain": [
       "       WindDir9am WindDir3pm\n",
       "120638        NaN          E\n",
       "120639        ESE        ENE\n",
       "120640        NaN        WNW\n",
       "120641        NNE        NNW\n",
       "120642          W         SW\n",
       "120643        ENE         NE\n",
       "120644         NE        NNE\n",
       "120645         NE          N\n",
       "120646        NaN        ESE\n",
       "120647         NE        NNE"
      ]
     },
     "execution_count": 46,
     "metadata": {},
     "output_type": "execute_result"
    }
   ],
   "source": [
    "wind_dir_df = df[['WindDir9am', 'WindDir3pm']]\n",
    "wind_dir_df.head(10)"
   ]
  },
  {
   "cell_type": "markdown",
   "id": "d8dde8c1",
   "metadata": {
    "papermill": {
     "duration": 0.041584,
     "end_time": "2022-12-31T11:41:54.607992",
     "exception": false,
     "start_time": "2022-12-31T11:41:54.566408",
     "status": "completed"
    },
    "tags": []
   },
   "source": [
    "The *WindDir9am* has $134$ missing values (quite a handful), while *WindDir3pm* only has $7$ missing values."
   ]
  },
  {
   "cell_type": "code",
   "execution_count": 47,
   "id": "5b448b1d",
   "metadata": {
    "_kg_hide-input": true,
    "execution": {
     "iopub.execute_input": "2022-12-31T11:41:54.693751Z",
     "iopub.status.busy": "2022-12-31T11:41:54.692619Z",
     "iopub.status.idle": "2022-12-31T11:41:54.701859Z",
     "shell.execute_reply": "2022-12-31T11:41:54.700439Z"
    },
    "papermill": {
     "duration": 0.054691,
     "end_time": "2022-12-31T11:41:54.704372",
     "exception": false,
     "start_time": "2022-12-31T11:41:54.649681",
     "status": "completed"
    },
    "tags": []
   },
   "outputs": [
    {
     "name": "stdout",
     "output_type": "stream",
     "text": [
      "WindDir9am missing values: 134 (4.20%)\n",
      "WindDir3pm missing values: 7 (0.22%)\n"
     ]
    }
   ],
   "source": [
    "wind_dir_missing_count = wind_dir_df.isna().sum()\n",
    "wind_dir_missing_perc = wind_dir_missing_count/len(wind_dir_df)\n",
    "\n",
    "print(f\"WindDir9am missing values: {wind_dir_missing_count['WindDir9am']} ({wind_dir_missing_perc['WindDir9am']*100:.2f}%)\")\n",
    "print(f\"WindDir3pm missing values: {wind_dir_missing_count['WindDir3pm']} ({wind_dir_missing_perc['WindDir3pm']*100:.2f}%)\")\n"
   ]
  },
  {
   "cell_type": "markdown",
   "id": "579a95fc",
   "metadata": {
    "papermill": {
     "duration": 0.041695,
     "end_time": "2022-12-31T11:41:54.786888",
     "exception": false,
     "start_time": "2022-12-31T11:41:54.745193",
     "status": "completed"
    },
    "tags": []
   },
   "source": [
    "The top three frequent directions for *WindDir9am* are **E** ($15.7\\%$), **NE** ($11.6\\%$), and **ENE** ($13.2\\%$).\n",
    "\n",
    "The leading direction for *WindDir3pm* us **SW** ($21.5\\%$)."
   ]
  },
  {
   "cell_type": "code",
   "execution_count": 48,
   "id": "6b74904c",
   "metadata": {
    "_kg_hide-input": true,
    "execution": {
     "iopub.execute_input": "2022-12-31T11:41:54.872897Z",
     "iopub.status.busy": "2022-12-31T11:41:54.872013Z",
     "iopub.status.idle": "2022-12-31T11:41:55.629665Z",
     "shell.execute_reply": "2022-12-31T11:41:55.628704Z"
    },
    "papermill": {
     "duration": 0.803106,
     "end_time": "2022-12-31T11:41:55.631864",
     "exception": false,
     "start_time": "2022-12-31T11:41:54.828758",
     "status": "completed"
    },
    "tags": []
   },
   "outputs": [
    {
     "data": {
      "image/png": "[encoded data removed]",
      "text/plain": [
       "<Figure size 1440x432 with 2 Axes>"
      ]
     },
     "metadata": {
      "needs_background": "light"
     },
     "output_type": "display_data"
    }
   ],
   "source": [
    "wind_dir_9am_count = wind_dir_df['WindDir9am'].value_counts()\n",
    "wind_dir_9am_count = pd.DataFrame({'direction': wind_dir_9am_count.keys(), '9amCount': wind_dir_9am_count.values})\n",
    "wind_dir_9am_count.set_index('direction', inplace=True)\n",
    "wind_dir_9am_count\n",
    "\n",
    "wind_dir_3pm_count = wind_dir_df['WindDir3pm'].value_counts()\n",
    "wind_dir_3pm_count = pd.DataFrame({'direction': wind_dir_3pm_count.keys(), '3pmCount': wind_dir_3pm_count.values})\n",
    "wind_dir_3pm_count.set_index('direction', inplace=True)\n",
    "wind_dir_3pm_count\n",
    "\n",
    "wind_dir_count_df = wind_dir_9am_count.join(wind_dir_3pm_count)\n",
    "\n",
    "_, ax = plt.subplots(1, 2, figsize=(20, 6))\n",
    "\n",
    "bar_9am = ax[0].bar(wind_dir_count_df.index, wind_dir_count_df['9amCount'])\n",
    "ax[0].bar_label(bar_9am, wind_dir_count_df['9amCount'], padding=3)\n",
    "\n",
    "\n",
    "sorted_3pm_df = wind_dir_count_df.sort_values('3pmCount', ascending=False)\n",
    "bar_3pm = ax[1].bar(sorted_3pm_df.index, sorted_3pm_df['3pmCount'])\n",
    "ax[1].bar_label(bar_3pm, sorted_3pm_df['3pmCount'], padding=3)\n",
    "plt.show()"
   ]
  },
  {
   "cell_type": "code",
   "execution_count": 49,
   "id": "964872fb",
   "metadata": {
    "_kg_hide-input": true,
    "execution": {
     "iopub.execute_input": "2022-12-31T11:41:55.719979Z",
     "iopub.status.busy": "2022-12-31T11:41:55.719284Z",
     "iopub.status.idle": "2022-12-31T11:41:55.735632Z",
     "shell.execute_reply": "2022-12-31T11:41:55.734719Z"
    },
    "papermill": {
     "duration": 0.063369,
     "end_time": "2022-12-31T11:41:55.737934",
     "exception": false,
     "start_time": "2022-12-31T11:41:55.674565",
     "status": "completed"
    },
    "tags": []
   },
   "outputs": [
    {
     "data": {
      "text/html": [
       "<div>\n",
       "<style scoped>\n",
       "    .dataframe tbody tr th:only-of-type {\n",
       "        vertical-align: middle;\n",
       "    }\n",
       "\n",
       "    .dataframe tbody tr th {\n",
       "        vertical-align: top;\n",
       "    }\n",
       "\n",
       "    .dataframe thead th {\n",
       "        text-align: right;\n",
       "    }\n",
       "</style>\n",
       "<table border=\"1\" class=\"dataframe\">\n",
       "  <thead>\n",
       "    <tr style=\"text-align: right;\">\n",
       "      <th></th>\n",
       "      <th>9amCount</th>\n",
       "      <th>3pmCount</th>\n",
       "      <th>9amPercent</th>\n",
       "      <th>3pmPercent</th>\n",
       "    </tr>\n",
       "    <tr>\n",
       "      <th>direction</th>\n",
       "      <th></th>\n",
       "      <th></th>\n",
       "      <th></th>\n",
       "      <th></th>\n",
       "    </tr>\n",
       "  </thead>\n",
       "  <tbody>\n",
       "    <tr>\n",
       "      <th>E</th>\n",
       "      <td>479</td>\n",
       "      <td>139</td>\n",
       "      <td>0.156587</td>\n",
       "      <td>0.043628</td>\n",
       "    </tr>\n",
       "    <tr>\n",
       "      <th>NE</th>\n",
       "      <td>405</td>\n",
       "      <td>111</td>\n",
       "      <td>0.132396</td>\n",
       "      <td>0.034840</td>\n",
       "    </tr>\n",
       "    <tr>\n",
       "      <th>ENE</th>\n",
       "      <td>355</td>\n",
       "      <td>137</td>\n",
       "      <td>0.116051</td>\n",
       "      <td>0.043001</td>\n",
       "    </tr>\n",
       "    <tr>\n",
       "      <th>ESE</th>\n",
       "      <td>250</td>\n",
       "      <td>137</td>\n",
       "      <td>0.081726</td>\n",
       "      <td>0.043001</td>\n",
       "    </tr>\n",
       "    <tr>\n",
       "      <th>NNE</th>\n",
       "      <td>243</td>\n",
       "      <td>68</td>\n",
       "      <td>0.079438</td>\n",
       "      <td>0.021343</td>\n",
       "    </tr>\n",
       "    <tr>\n",
       "      <th>SSE</th>\n",
       "      <td>239</td>\n",
       "      <td>125</td>\n",
       "      <td>0.078130</td>\n",
       "      <td>0.039234</td>\n",
       "    </tr>\n",
       "    <tr>\n",
       "      <th>S</th>\n",
       "      <td>201</td>\n",
       "      <td>110</td>\n",
       "      <td>0.065708</td>\n",
       "      <td>0.034526</td>\n",
       "    </tr>\n",
       "    <tr>\n",
       "      <th>SE</th>\n",
       "      <td>180</td>\n",
       "      <td>156</td>\n",
       "      <td>0.058843</td>\n",
       "      <td>0.048964</td>\n",
       "    </tr>\n",
       "    <tr>\n",
       "      <th>SSW</th>\n",
       "      <td>117</td>\n",
       "      <td>432</td>\n",
       "      <td>0.038248</td>\n",
       "      <td>0.135593</td>\n",
       "    </tr>\n",
       "    <tr>\n",
       "      <th>W</th>\n",
       "      <td>111</td>\n",
       "      <td>284</td>\n",
       "      <td>0.036286</td>\n",
       "      <td>0.089140</td>\n",
       "    </tr>\n",
       "    <tr>\n",
       "      <th>N</th>\n",
       "      <td>109</td>\n",
       "      <td>62</td>\n",
       "      <td>0.035633</td>\n",
       "      <td>0.019460</td>\n",
       "    </tr>\n",
       "    <tr>\n",
       "      <th>SW</th>\n",
       "      <td>108</td>\n",
       "      <td>687</td>\n",
       "      <td>0.035306</td>\n",
       "      <td>0.215631</td>\n",
       "    </tr>\n",
       "    <tr>\n",
       "      <th>WSW</th>\n",
       "      <td>94</td>\n",
       "      <td>373</td>\n",
       "      <td>0.030729</td>\n",
       "      <td>0.117075</td>\n",
       "    </tr>\n",
       "    <tr>\n",
       "      <th>WNW</th>\n",
       "      <td>75</td>\n",
       "      <td>174</td>\n",
       "      <td>0.024518</td>\n",
       "      <td>0.054614</td>\n",
       "    </tr>\n",
       "    <tr>\n",
       "      <th>NW</th>\n",
       "      <td>60</td>\n",
       "      <td>131</td>\n",
       "      <td>0.019614</td>\n",
       "      <td>0.041117</td>\n",
       "    </tr>\n",
       "    <tr>\n",
       "      <th>NNW</th>\n",
       "      <td>33</td>\n",
       "      <td>60</td>\n",
       "      <td>0.010788</td>\n",
       "      <td>0.018832</td>\n",
       "    </tr>\n",
       "  </tbody>\n",
       "</table>\n",
       "</div>"
      ],
      "text/plain": [
       "           9amCount  3pmCount  9amPercent  3pmPercent\n",
       "direction                                            \n",
       "E               479       139    0.156587    0.043628\n",
       "NE              405       111    0.132396    0.034840\n",
       "ENE             355       137    0.116051    0.043001\n",
       "ESE             250       137    0.081726    0.043001\n",
       "NNE             243        68    0.079438    0.021343\n",
       "SSE             239       125    0.078130    0.039234\n",
       "S               201       110    0.065708    0.034526\n",
       "SE              180       156    0.058843    0.048964\n",
       "SSW             117       432    0.038248    0.135593\n",
       "W               111       284    0.036286    0.089140\n",
       "N               109        62    0.035633    0.019460\n",
       "SW              108       687    0.035306    0.215631\n",
       "WSW              94       373    0.030729    0.117075\n",
       "WNW              75       174    0.024518    0.054614\n",
       "NW               60       131    0.019614    0.041117\n",
       "NNW              33        60    0.010788    0.018832"
      ]
     },
     "execution_count": 49,
     "metadata": {},
     "output_type": "execute_result"
    }
   ],
   "source": [
    "wind_dir_count_df['9amPercent'] = wind_dir_count_df['9amCount'] / wind_dir_count_df['9amCount'].sum()\n",
    "wind_dir_count_df['3pmPercent'] = wind_dir_count_df['3pmCount'] / wind_dir_count_df['3pmCount'].sum()\n",
    "wind_dir_count_df"
   ]
  },
  {
   "cell_type": "code",
   "execution_count": 50,
   "id": "264801c3",
   "metadata": {
    "_kg_hide-input": true,
    "execution": {
     "iopub.execute_input": "2022-12-31T11:41:55.831018Z",
     "iopub.status.busy": "2022-12-31T11:41:55.830301Z",
     "iopub.status.idle": "2022-12-31T11:41:56.356983Z",
     "shell.execute_reply": "2022-12-31T11:41:56.355720Z"
    },
    "papermill": {
     "duration": 0.574788,
     "end_time": "2022-12-31T11:41:56.359659",
     "exception": false,
     "start_time": "2022-12-31T11:41:55.784871",
     "status": "completed"
    },
    "tags": []
   },
   "outputs": [
    {
     "data": {
      "image/png": "[encoded data removed]",
      "text/plain": [
       "<Figure size 1440x432 with 1 Axes>"
      ]
     },
     "metadata": {
      "needs_background": "light"
     },
     "output_type": "display_data"
    }
   ],
   "source": [
    "fig, ax = plt.subplots(figsize=(20, 6))\n",
    "\n",
    "X = np.arange(16)\n",
    "\n",
    "rects1 = ax.bar(X, wind_dir_count_df['9amCount'], width=0.35, label='WindDir9am')\n",
    "rects2 = ax.bar(X + .35, wind_dir_count_df['3pmCount'], width=0.35, label='WindDir3pm')\n",
    "\n",
    "ax.bar_label(rects1, padding=3)\n",
    "ax.bar_label(rects2, padding=3)\n",
    "plt.xticks(X, wind_dir_count_df.index)\n",
    "plt.legend()\n",
    "plt.show()"
   ]
  },
  {
   "cell_type": "markdown",
   "id": "3dda9c0c",
   "metadata": {
    "papermill": {
     "duration": 0.043636,
     "end_time": "2022-12-31T11:41:56.447654",
     "exception": false,
     "start_time": "2022-12-31T11:41:56.404018",
     "status": "completed"
    },
    "tags": []
   },
   "source": [
    "# __2.1.10 WindSpeed\n",
    "\n",
    "\n",
    "📙 **SUMMARY**\n",
    "* The *WindSpeed9am* and **WindSpeed3pm** denotest the wind speed at 9AM and 3PM respectively and is expressed in **km/hr** rounded to the nearest whole number.\n",
    "\n",
    "* **WindSpeed9am**\n",
    "    * The values range from $0.0$ km/hr to $30.0$ km/hr with a mean of $10.69$ km/hr and a standard deviation of $5.06$ km/hr.\n",
    "    * There are no missing values in the dataset.\n",
    "    * The distribution is normal and symmetric.\n",
    "    * There are $5$ outlier data points on the *WindSpeed9am* dataset.\n",
    "* **WindSpeed3pm**\n",
    "    * The values range from $0.0$ km/hr to $31.0$ km/hr with a mean of $14.52$ km/hr and a standard deviation of $5.14$ km/hr.\n",
    "    * There is only $1$ missing value for *WindSpeed3pm*.\n",
    "    * The distribution is normal and symmetric.\n",
    "    * There are no outliers in this dataset."
   ]
  },
  {
   "cell_type": "markdown",
   "id": "a693ac16",
   "metadata": {
    "papermill": {
     "duration": 0.043406,
     "end_time": "2022-12-31T11:41:56.536383",
     "exception": false,
     "start_time": "2022-12-31T11:41:56.492977",
     "status": "completed"
    },
    "tags": []
   },
   "source": [
    "The average wind speed data over $10$ minutes prior to `9AM` (*WindSpeed9am*) and over $10$ minutes prior to `3PM` (*WindSpeed3pm*). The values are expressed in **km/hr**."
   ]
  },
  {
   "cell_type": "code",
   "execution_count": 51,
   "id": "3de3822f",
   "metadata": {
    "_kg_hide-input": true,
    "execution": {
     "iopub.execute_input": "2022-12-31T11:41:56.625266Z",
     "iopub.status.busy": "2022-12-31T11:41:56.624751Z",
     "iopub.status.idle": "2022-12-31T11:41:56.639946Z",
     "shell.execute_reply": "2022-12-31T11:41:56.638799Z"
    },
    "papermill": {
     "duration": 0.06207,
     "end_time": "2022-12-31T11:41:56.642290",
     "exception": false,
     "start_time": "2022-12-31T11:41:56.580220",
     "status": "completed"
    },
    "tags": []
   },
   "outputs": [
    {
     "data": {
      "text/html": [
       "<div>\n",
       "<style scoped>\n",
       "    .dataframe tbody tr th:only-of-type {\n",
       "        vertical-align: middle;\n",
       "    }\n",
       "\n",
       "    .dataframe tbody tr th {\n",
       "        vertical-align: top;\n",
       "    }\n",
       "\n",
       "    .dataframe thead th {\n",
       "        text-align: right;\n",
       "    }\n",
       "</style>\n",
       "<table border=\"1\" class=\"dataframe\">\n",
       "  <thead>\n",
       "    <tr style=\"text-align: right;\">\n",
       "      <th></th>\n",
       "      <th>WindSpeed9am</th>\n",
       "      <th>WindSpeed3pm</th>\n",
       "    </tr>\n",
       "  </thead>\n",
       "  <tbody>\n",
       "    <tr>\n",
       "      <th>120638</th>\n",
       "      <td>0.0</td>\n",
       "      <td>7.0</td>\n",
       "    </tr>\n",
       "    <tr>\n",
       "      <th>120639</th>\n",
       "      <td>6.0</td>\n",
       "      <td>9.0</td>\n",
       "    </tr>\n",
       "    <tr>\n",
       "      <th>120640</th>\n",
       "      <td>0.0</td>\n",
       "      <td>4.0</td>\n",
       "    </tr>\n",
       "    <tr>\n",
       "      <th>120641</th>\n",
       "      <td>11.0</td>\n",
       "      <td>6.0</td>\n",
       "    </tr>\n",
       "    <tr>\n",
       "      <th>120642</th>\n",
       "      <td>13.0</td>\n",
       "      <td>17.0</td>\n",
       "    </tr>\n",
       "    <tr>\n",
       "      <th>120643</th>\n",
       "      <td>4.0</td>\n",
       "      <td>7.0</td>\n",
       "    </tr>\n",
       "    <tr>\n",
       "      <th>120644</th>\n",
       "      <td>15.0</td>\n",
       "      <td>13.0</td>\n",
       "    </tr>\n",
       "    <tr>\n",
       "      <th>120645</th>\n",
       "      <td>9.0</td>\n",
       "      <td>13.0</td>\n",
       "    </tr>\n",
       "    <tr>\n",
       "      <th>120646</th>\n",
       "      <td>0.0</td>\n",
       "      <td>9.0</td>\n",
       "    </tr>\n",
       "    <tr>\n",
       "      <th>120647</th>\n",
       "      <td>19.0</td>\n",
       "      <td>11.0</td>\n",
       "    </tr>\n",
       "  </tbody>\n",
       "</table>\n",
       "</div>"
      ],
      "text/plain": [
       "        WindSpeed9am  WindSpeed3pm\n",
       "120638           0.0           7.0\n",
       "120639           6.0           9.0\n",
       "120640           0.0           4.0\n",
       "120641          11.0           6.0\n",
       "120642          13.0          17.0\n",
       "120643           4.0           7.0\n",
       "120644          15.0          13.0\n",
       "120645           9.0          13.0\n",
       "120646           0.0           9.0\n",
       "120647          19.0          11.0"
      ]
     },
     "execution_count": 51,
     "metadata": {},
     "output_type": "execute_result"
    }
   ],
   "source": [
    "wind_speed_df = df[['WindSpeed9am', 'WindSpeed3pm']]\n",
    "wind_speed_df.head(10)"
   ]
  },
  {
   "cell_type": "markdown",
   "id": "eabb7c31",
   "metadata": {
    "papermill": {
     "duration": 0.04347,
     "end_time": "2022-12-31T11:41:56.732544",
     "exception": false,
     "start_time": "2022-12-31T11:41:56.689074",
     "status": "completed"
    },
    "tags": []
   },
   "source": [
    "For *WindSpeed9am*, the values range from $0.0$ to $30.0$ with a mean of $10.69 km/hr$ and a standard deviation of $5.06 km/hr$. For *WindSpeed3pm*, the values range from $0.0$to $31.0$ with a mean of $14.52 km/hr$ and a standard deviation of $5.14 km/hr$."
   ]
  },
  {
   "cell_type": "code",
   "execution_count": 52,
   "id": "0a51948f",
   "metadata": {
    "_kg_hide-input": true,
    "execution": {
     "iopub.execute_input": "2022-12-31T11:41:56.823657Z",
     "iopub.status.busy": "2022-12-31T11:41:56.822334Z",
     "iopub.status.idle": "2022-12-31T11:41:56.845143Z",
     "shell.execute_reply": "2022-12-31T11:41:56.844053Z"
    },
    "papermill": {
     "duration": 0.070668,
     "end_time": "2022-12-31T11:41:56.847509",
     "exception": false,
     "start_time": "2022-12-31T11:41:56.776841",
     "status": "completed"
    },
    "tags": []
   },
   "outputs": [
    {
     "data": {
      "text/html": [
       "<div>\n",
       "<style scoped>\n",
       "    .dataframe tbody tr th:only-of-type {\n",
       "        vertical-align: middle;\n",
       "    }\n",
       "\n",
       "    .dataframe tbody tr th {\n",
       "        vertical-align: top;\n",
       "    }\n",
       "\n",
       "    .dataframe thead th {\n",
       "        text-align: right;\n",
       "    }\n",
       "</style>\n",
       "<table border=\"1\" class=\"dataframe\">\n",
       "  <thead>\n",
       "    <tr style=\"text-align: right;\">\n",
       "      <th></th>\n",
       "      <th>count</th>\n",
       "      <th>mean</th>\n",
       "      <th>std</th>\n",
       "      <th>min</th>\n",
       "      <th>25%</th>\n",
       "      <th>50%</th>\n",
       "      <th>75%</th>\n",
       "      <th>max</th>\n",
       "    </tr>\n",
       "  </thead>\n",
       "  <tbody>\n",
       "    <tr>\n",
       "      <th>WindSpeed9am</th>\n",
       "      <td>3193.0</td>\n",
       "      <td>10.693392</td>\n",
       "      <td>5.056102</td>\n",
       "      <td>0.0</td>\n",
       "      <td>7.0</td>\n",
       "      <td>11.0</td>\n",
       "      <td>15.0</td>\n",
       "      <td>30.0</td>\n",
       "    </tr>\n",
       "    <tr>\n",
       "      <th>WindSpeed3pm</th>\n",
       "      <td>3192.0</td>\n",
       "      <td>14.519737</td>\n",
       "      <td>5.139446</td>\n",
       "      <td>0.0</td>\n",
       "      <td>11.0</td>\n",
       "      <td>15.0</td>\n",
       "      <td>19.0</td>\n",
       "      <td>31.0</td>\n",
       "    </tr>\n",
       "  </tbody>\n",
       "</table>\n",
       "</div>"
      ],
      "text/plain": [
       "               count       mean       std  min   25%   50%   75%   max\n",
       "WindSpeed9am  3193.0  10.693392  5.056102  0.0   7.0  11.0  15.0  30.0\n",
       "WindSpeed3pm  3192.0  14.519737  5.139446  0.0  11.0  15.0  19.0  31.0"
      ]
     },
     "execution_count": 52,
     "metadata": {},
     "output_type": "execute_result"
    }
   ],
   "source": [
    "wind_speed_df.describe().transpose()"
   ]
  },
  {
   "cell_type": "markdown",
   "id": "3aa6edba",
   "metadata": {
    "papermill": {
     "duration": 0.046296,
     "end_time": "2022-12-31T11:41:56.940283",
     "exception": false,
     "start_time": "2022-12-31T11:41:56.893987",
     "status": "completed"
    },
    "tags": []
   },
   "source": [
    "There are no missing values for *MissingWindSpeed9am* and only $1$ missing value for *WindSpeed3pm*."
   ]
  },
  {
   "cell_type": "code",
   "execution_count": 53,
   "id": "c5bc2098",
   "metadata": {
    "_kg_hide-input": true,
    "execution": {
     "iopub.execute_input": "2022-12-31T11:41:57.038435Z",
     "iopub.status.busy": "2022-12-31T11:41:57.037962Z",
     "iopub.status.idle": "2022-12-31T11:41:57.047046Z",
     "shell.execute_reply": "2022-12-31T11:41:57.045683Z"
    },
    "papermill": {
     "duration": 0.060768,
     "end_time": "2022-12-31T11:41:57.049635",
     "exception": false,
     "start_time": "2022-12-31T11:41:56.988867",
     "status": "completed"
    },
    "tags": []
   },
   "outputs": [
    {
     "name": "stdout",
     "output_type": "stream",
     "text": [
      "Missing WindSpeed9am: 0 (0.00%)\n",
      "Missing WindSpeed3pm: 1 (0.03%)\n"
     ]
    }
   ],
   "source": [
    "missing_wind_speed_count = wind_speed_df.isna().sum()\n",
    "missing_wind_speed_perc = missing_wind_speed_count / len(wind_speed_df)\n",
    "\n",
    "print(f\"Missing WindSpeed9am: {missing_wind_speed_count['WindSpeed9am']} ({(missing_wind_speed_perc['WindSpeed9am'] * 100):.2f}%)\")\n",
    "print(f\"Missing WindSpeed3pm: {missing_wind_speed_count['WindSpeed3pm']} ({(missing_wind_speed_perc['WindSpeed3pm'] * 100):.2f}%)\")"
   ]
  },
  {
   "cell_type": "markdown",
   "id": "feaec8b7",
   "metadata": {
    "papermill": {
     "duration": 0.044723,
     "end_time": "2022-12-31T11:41:57.139867",
     "exception": false,
     "start_time": "2022-12-31T11:41:57.095144",
     "status": "completed"
    },
    "tags": []
   },
   "source": [
    "Both datasets follows the normal distribution and are roughly symmetric.The *WindSpeed9am* attribute has $5$ outlier data points whille the *WindSpeed3on* has none."
   ]
  },
  {
   "cell_type": "code",
   "execution_count": 54,
   "id": "1a3fc011",
   "metadata": {
    "_kg_hide-input": true,
    "execution": {
     "iopub.execute_input": "2022-12-31T11:41:57.232912Z",
     "iopub.status.busy": "2022-12-31T11:41:57.231897Z",
     "iopub.status.idle": "2022-12-31T11:41:57.741789Z",
     "shell.execute_reply": "2022-12-31T11:41:57.740466Z"
    },
    "papermill": {
     "duration": 0.559151,
     "end_time": "2022-12-31T11:41:57.744254",
     "exception": false,
     "start_time": "2022-12-31T11:41:57.185103",
     "status": "completed"
    },
    "tags": []
   },
   "outputs": [
    {
     "data": {
      "image/png": "[encoded data removed]",
      "text/plain": [
       "<Figure size 1440x432 with 4 Axes>"
      ]
     },
     "metadata": {
      "needs_background": "light"
     },
     "output_type": "display_data"
    }
   ],
   "source": [
    "_, axes = plt.subplots(2,2,figsize=(20,6))\n",
    "\n",
    "wind_speed_df.hist(ax=axes[0])\n",
    "\n",
    "sns.boxplot(ax=axes[1,0], x=wind_speed_df['WindSpeed9am'])\n",
    "sns.boxplot(ax=axes[1,1], x=wind_speed_df['WindSpeed3pm'])\n",
    "plt.show()"
   ]
  },
  {
   "cell_type": "code",
   "execution_count": 55,
   "id": "289f4f34",
   "metadata": {
    "_kg_hide-input": true,
    "execution": {
     "iopub.execute_input": "2022-12-31T11:41:57.840627Z",
     "iopub.status.busy": "2022-12-31T11:41:57.840127Z",
     "iopub.status.idle": "2022-12-31T11:41:57.848992Z",
     "shell.execute_reply": "2022-12-31T11:41:57.847582Z"
    },
    "papermill": {
     "duration": 0.058863,
     "end_time": "2022-12-31T11:41:57.851317",
     "exception": false,
     "start_time": "2022-12-31T11:41:57.792454",
     "status": "completed"
    },
    "tags": []
   },
   "outputs": [
    {
     "name": "stdout",
     "output_type": "stream",
     "text": [
      "WindSpeed9am skewness: 0.15\n",
      "WindSpeed3pm skewness: 0.17\n"
     ]
    }
   ],
   "source": [
    "wind_speed_df_skewness = wind_speed_df.skew()\n",
    "\n",
    "print(f\"WindSpeed9am skewness: {wind_speed_df_skewness['WindSpeed9am']:.2f}\")\n",
    "print(f\"WindSpeed3pm skewness: {wind_speed_df_skewness['WindSpeed3pm']:.2f}\")"
   ]
  },
  {
   "cell_type": "markdown",
   "id": "78000f48",
   "metadata": {
    "papermill": {
     "duration": 0.046514,
     "end_time": "2022-12-31T11:41:57.950332",
     "exception": false,
     "start_time": "2022-12-31T11:41:57.903818",
     "status": "completed"
    },
    "tags": []
   },
   "source": [
    "There $5$ outlier data points for *WindSpeed9am** but no outliers for *WindSpeed3pm*"
   ]
  },
  {
   "cell_type": "code",
   "execution_count": 56,
   "id": "1ffc3707",
   "metadata": {
    "_kg_hide-input": true,
    "execution": {
     "iopub.execute_input": "2022-12-31T11:41:58.042753Z",
     "iopub.status.busy": "2022-12-31T11:41:58.041798Z",
     "iopub.status.idle": "2022-12-31T11:41:58.054477Z",
     "shell.execute_reply": "2022-12-31T11:41:58.052714Z"
    },
    "papermill": {
     "duration": 0.061636,
     "end_time": "2022-12-31T11:41:58.057031",
     "exception": false,
     "start_time": "2022-12-31T11:41:57.995395",
     "status": "completed"
    },
    "tags": []
   },
   "outputs": [
    {
     "name": "stdout",
     "output_type": "stream",
     "text": [
      "Number of outlier data points (WindSpeed9am): 5\n",
      "Unique value count: (2 unique values)\n",
      "Outliers counts:\n",
      "  28.0 \t 4 occurrence(s)\n",
      "  30.0 \t 1 occurrence(s)\n",
      "Number of outlier data points (WindSpeed3pm): 0\n",
      "Unique value count: (0 unique values)\n",
      "Outliers counts:\n"
     ]
    }
   ],
   "source": [
    "identify_outliers(wind_speed_df, 'WindSpeed9am')\n",
    "identify_outliers(wind_speed_df, 'WindSpeed3pm')"
   ]
  },
  {
   "cell_type": "markdown",
   "id": "f69f3860",
   "metadata": {
    "papermill": {
     "duration": 0.048259,
     "end_time": "2022-12-31T11:41:58.155068",
     "exception": false,
     "start_time": "2022-12-31T11:41:58.106809",
     "status": "completed"
    },
    "tags": []
   },
   "source": [
    "# __2.1.11 Humidity\n",
    "\n",
    "📙 **SUMMARY**\n",
    "* The *Humidity9am* and *Humidity3pm*  is expressed in **%** rounded to the nearest whole number. As with percentage, the data is capped from $0.0$ - $100.0$.\n",
    "\n",
    "* **Humdity9am**\n",
    "    * The actual values range from$13.0\\%$ to $99.0\\%$ with a mean of $62.69\\%$ and a standard deviation of $17.57\\%$.\n",
    "    * There are $9$ ($0.28\\%$) missing values in the dataset.\n",
    "    * The data is normally distributed.\n",
    "    * There are $5$ left-end outliers in the dataset.\n",
    "    \n",
    "* **Humidity3pm**\n",
    "    * The actual values range from$6.0\\%$ to $97.0\\%$ with a mean of $46.91\\%$ and a standard deviation of $16.58\\%$.\n",
    "    * There are $8$ ($0.25\\%$) missing values in the dataset.\n",
    "    * The data is positively skewed with `skewness` = $0.266$.\n",
    "    * There are $49$ right-end outliers in the dataset.\n",
    "    "
   ]
  },
  {
   "cell_type": "markdown",
   "id": "95805c3b",
   "metadata": {
    "papermill": {
     "duration": 0.047452,
     "end_time": "2022-12-31T11:41:58.250030",
     "exception": false,
     "start_time": "2022-12-31T11:41:58.202578",
     "status": "completed"
    },
    "tags": []
   },
   "source": [
    "The humidity data is expressed in percent and is rounded to the nearest whole number."
   ]
  },
  {
   "cell_type": "code",
   "execution_count": 57,
   "id": "f716fc8b",
   "metadata": {
    "_kg_hide-input": true,
    "execution": {
     "iopub.execute_input": "2022-12-31T11:41:58.345947Z",
     "iopub.status.busy": "2022-12-31T11:41:58.345534Z",
     "iopub.status.idle": "2022-12-31T11:41:58.359902Z",
     "shell.execute_reply": "2022-12-31T11:41:58.358665Z"
    },
    "papermill": {
     "duration": 0.06486,
     "end_time": "2022-12-31T11:41:58.362505",
     "exception": false,
     "start_time": "2022-12-31T11:41:58.297645",
     "status": "completed"
    },
    "tags": []
   },
   "outputs": [
    {
     "data": {
      "text/html": [
       "<div>\n",
       "<style scoped>\n",
       "    .dataframe tbody tr th:only-of-type {\n",
       "        vertical-align: middle;\n",
       "    }\n",
       "\n",
       "    .dataframe tbody tr th {\n",
       "        vertical-align: top;\n",
       "    }\n",
       "\n",
       "    .dataframe thead th {\n",
       "        text-align: right;\n",
       "    }\n",
       "</style>\n",
       "<table border=\"1\" class=\"dataframe\">\n",
       "  <thead>\n",
       "    <tr style=\"text-align: right;\">\n",
       "      <th></th>\n",
       "      <th>Humidity9am</th>\n",
       "      <th>Humidity3pm</th>\n",
       "    </tr>\n",
       "  </thead>\n",
       "  <tbody>\n",
       "    <tr>\n",
       "      <th>120638</th>\n",
       "      <td>97.0</td>\n",
       "      <td>53.0</td>\n",
       "    </tr>\n",
       "    <tr>\n",
       "      <th>120639</th>\n",
       "      <td>80.0</td>\n",
       "      <td>39.0</td>\n",
       "    </tr>\n",
       "    <tr>\n",
       "      <th>120640</th>\n",
       "      <td>84.0</td>\n",
       "      <td>71.0</td>\n",
       "    </tr>\n",
       "    <tr>\n",
       "      <th>120641</th>\n",
       "      <td>93.0</td>\n",
       "      <td>73.0</td>\n",
       "    </tr>\n",
       "    <tr>\n",
       "      <th>120642</th>\n",
       "      <td>69.0</td>\n",
       "      <td>57.0</td>\n",
       "    </tr>\n",
       "    <tr>\n",
       "      <th>120643</th>\n",
       "      <td>86.0</td>\n",
       "      <td>41.0</td>\n",
       "    </tr>\n",
       "    <tr>\n",
       "      <th>120644</th>\n",
       "      <td>72.0</td>\n",
       "      <td>36.0</td>\n",
       "    </tr>\n",
       "    <tr>\n",
       "      <th>120645</th>\n",
       "      <td>58.0</td>\n",
       "      <td>42.0</td>\n",
       "    </tr>\n",
       "    <tr>\n",
       "      <th>120646</th>\n",
       "      <td>97.0</td>\n",
       "      <td>64.0</td>\n",
       "    </tr>\n",
       "    <tr>\n",
       "      <th>120647</th>\n",
       "      <td>79.0</td>\n",
       "      <td>50.0</td>\n",
       "    </tr>\n",
       "  </tbody>\n",
       "</table>\n",
       "</div>"
      ],
      "text/plain": [
       "        Humidity9am  Humidity3pm\n",
       "120638         97.0         53.0\n",
       "120639         80.0         39.0\n",
       "120640         84.0         71.0\n",
       "120641         93.0         73.0\n",
       "120642         69.0         57.0\n",
       "120643         86.0         41.0\n",
       "120644         72.0         36.0\n",
       "120645         58.0         42.0\n",
       "120646         97.0         64.0\n",
       "120647         79.0         50.0"
      ]
     },
     "execution_count": 57,
     "metadata": {},
     "output_type": "execute_result"
    }
   ],
   "source": [
    "humidity_df = df[['Humidity9am', 'Humidity3pm']]\n",
    "\n",
    "humidity_df.head(10)"
   ]
  },
  {
   "cell_type": "markdown",
   "id": "ff5415d4",
   "metadata": {
    "papermill": {
     "duration": 0.050235,
     "end_time": "2022-12-31T11:41:58.462805",
     "exception": false,
     "start_time": "2022-12-31T11:41:58.412570",
     "status": "completed"
    },
    "tags": []
   },
   "source": [
    "For *Humidity9am*, the data ranges from $13.0\\%$ to $99.0\\%$ with a mean of $62.69\\%$ and a standard deviation of $17.57\\%$.\n",
    "\n",
    "For *Humidity3pm*, the data ranges from $6.0\\%$ to $97.0\\%$ with a mean of $46.91\\%$ and a standard deviation of $16.58%$."
   ]
  },
  {
   "cell_type": "code",
   "execution_count": 58,
   "id": "3c1c0cd1",
   "metadata": {
    "_kg_hide-input": true,
    "execution": {
     "iopub.execute_input": "2022-12-31T11:41:58.563503Z",
     "iopub.status.busy": "2022-12-31T11:41:58.562634Z",
     "iopub.status.idle": "2022-12-31T11:41:58.585703Z",
     "shell.execute_reply": "2022-12-31T11:41:58.584789Z"
    },
    "papermill": {
     "duration": 0.074223,
     "end_time": "2022-12-31T11:41:58.587959",
     "exception": false,
     "start_time": "2022-12-31T11:41:58.513736",
     "status": "completed"
    },
    "tags": []
   },
   "outputs": [
    {
     "data": {
      "text/html": [
       "<div>\n",
       "<style scoped>\n",
       "    .dataframe tbody tr th:only-of-type {\n",
       "        vertical-align: middle;\n",
       "    }\n",
       "\n",
       "    .dataframe tbody tr th {\n",
       "        vertical-align: top;\n",
       "    }\n",
       "\n",
       "    .dataframe thead th {\n",
       "        text-align: right;\n",
       "    }\n",
       "</style>\n",
       "<table border=\"1\" class=\"dataframe\">\n",
       "  <thead>\n",
       "    <tr style=\"text-align: right;\">\n",
       "      <th></th>\n",
       "      <th>count</th>\n",
       "      <th>mean</th>\n",
       "      <th>std</th>\n",
       "      <th>min</th>\n",
       "      <th>25%</th>\n",
       "      <th>50%</th>\n",
       "      <th>75%</th>\n",
       "      <th>max</th>\n",
       "    </tr>\n",
       "  </thead>\n",
       "  <tbody>\n",
       "    <tr>\n",
       "      <th>Humidity9am</th>\n",
       "      <td>3184.0</td>\n",
       "      <td>62.688128</td>\n",
       "      <td>17.575342</td>\n",
       "      <td>13.0</td>\n",
       "      <td>50.75</td>\n",
       "      <td>61.0</td>\n",
       "      <td>75.0</td>\n",
       "      <td>99.0</td>\n",
       "    </tr>\n",
       "    <tr>\n",
       "      <th>Humidity3pm</th>\n",
       "      <td>3185.0</td>\n",
       "      <td>46.906122</td>\n",
       "      <td>16.578359</td>\n",
       "      <td>6.0</td>\n",
       "      <td>36.00</td>\n",
       "      <td>47.0</td>\n",
       "      <td>57.0</td>\n",
       "      <td>97.0</td>\n",
       "    </tr>\n",
       "  </tbody>\n",
       "</table>\n",
       "</div>"
      ],
      "text/plain": [
       "              count       mean        std   min    25%   50%   75%   max\n",
       "Humidity9am  3184.0  62.688128  17.575342  13.0  50.75  61.0  75.0  99.0\n",
       "Humidity3pm  3185.0  46.906122  16.578359   6.0  36.00  47.0  57.0  97.0"
      ]
     },
     "execution_count": 58,
     "metadata": {},
     "output_type": "execute_result"
    }
   ],
   "source": [
    "humidity_df.describe().transpose()"
   ]
  },
  {
   "cell_type": "markdown",
   "id": "b09667e4",
   "metadata": {
    "papermill": {
     "duration": 0.045662,
     "end_time": "2022-12-31T11:41:58.679965",
     "exception": false,
     "start_time": "2022-12-31T11:41:58.634303",
     "status": "completed"
    },
    "tags": []
   },
   "source": [
    "There are $9$ ($0.28\\%$) missing vallues for *Humidity9am*, and $8$ ($0.25\\%$) missing values for *Humidity3pm*."
   ]
  },
  {
   "cell_type": "code",
   "execution_count": 59,
   "id": "cdd1c19c",
   "metadata": {
    "_kg_hide-input": true,
    "execution": {
     "iopub.execute_input": "2022-12-31T11:41:58.777308Z",
     "iopub.status.busy": "2022-12-31T11:41:58.776682Z",
     "iopub.status.idle": "2022-12-31T11:41:58.785240Z",
     "shell.execute_reply": "2022-12-31T11:41:58.783780Z"
    },
    "papermill": {
     "duration": 0.059832,
     "end_time": "2022-12-31T11:41:58.787416",
     "exception": false,
     "start_time": "2022-12-31T11:41:58.727584",
     "status": "completed"
    },
    "tags": []
   },
   "outputs": [
    {
     "name": "stdout",
     "output_type": "stream",
     "text": [
      "Humidity9am missing values: 9 (0.28%)\n",
      "Humidity3pm missing values: 8 (0.25%)\n"
     ]
    }
   ],
   "source": [
    "missing_humidity_count = humidity_df.isna().sum()\n",
    "missing_humidity_perc = missing_humidity_count / len(humidity_df)\n",
    "\n",
    "print(f\"Humidity9am missing values: {missing_humidity_count['Humidity9am']} ({missing_humidity_perc['Humidity9am']*100:.2f}%)\")\n",
    "print(f\"Humidity3pm missing values: {missing_humidity_count['Humidity3pm']} ({missing_humidity_perc['Humidity3pm']*100:.2f}%)\")"
   ]
  },
  {
   "cell_type": "markdown",
   "id": "3c9cc9a2",
   "metadata": {
    "papermill": {
     "duration": 0.04625,
     "end_time": "2022-12-31T11:41:58.881916",
     "exception": false,
     "start_time": "2022-12-31T11:41:58.835666",
     "status": "completed"
    },
    "tags": []
   },
   "source": [
    "Both datasets are normally distributed. The *Humidity3pm* dataset is slightly positively skewed at `skewness`= $0.266$ with $49$ outlier data points."
   ]
  },
  {
   "cell_type": "code",
   "execution_count": 60,
   "id": "c70401e4",
   "metadata": {
    "_kg_hide-input": true,
    "execution": {
     "iopub.execute_input": "2022-12-31T11:41:58.978378Z",
     "iopub.status.busy": "2022-12-31T11:41:58.976722Z",
     "iopub.status.idle": "2022-12-31T11:41:59.425245Z",
     "shell.execute_reply": "2022-12-31T11:41:59.423850Z"
    },
    "papermill": {
     "duration": 0.499537,
     "end_time": "2022-12-31T11:41:59.427916",
     "exception": false,
     "start_time": "2022-12-31T11:41:58.928379",
     "status": "completed"
    },
    "tags": []
   },
   "outputs": [
    {
     "data": {
      "image/png": "[encoded data removed]",
      "text/plain": [
       "<Figure size 1440x432 with 4 Axes>"
      ]
     },
     "metadata": {
      "needs_background": "light"
     },
     "output_type": "display_data"
    }
   ],
   "source": [
    "_, axes = plt.subplots(2, 2, figsize=(20,6))\n",
    "\n",
    "humidity_df.hist(ax=axes[0])\n",
    "\n",
    "sns.boxplot(ax=axes[1,0], x=humidity_df['Humidity9am'])\n",
    "sns.boxplot(ax=axes[1,1], x=humidity_df['Humidity3pm'])\n",
    "\n",
    "plt.show()"
   ]
  },
  {
   "cell_type": "code",
   "execution_count": 61,
   "id": "f94e8713",
   "metadata": {
    "_kg_hide-input": true,
    "execution": {
     "iopub.execute_input": "2022-12-31T11:41:59.521123Z",
     "iopub.status.busy": "2022-12-31T11:41:59.520720Z",
     "iopub.status.idle": "2022-12-31T11:41:59.529381Z",
     "shell.execute_reply": "2022-12-31T11:41:59.528167Z"
    },
    "papermill": {
     "duration": 0.057869,
     "end_time": "2022-12-31T11:41:59.531734",
     "exception": false,
     "start_time": "2022-12-31T11:41:59.473865",
     "status": "completed"
    },
    "tags": []
   },
   "outputs": [
    {
     "name": "stdout",
     "output_type": "stream",
     "text": [
      "Humidity9am skewness: -0.002\n",
      "Humidity3pm skewness: 0.266\n"
     ]
    }
   ],
   "source": [
    "humidity_skewness = humidity_df.skew()\n",
    "\n",
    "print(f\"Humidity9am skewness: {humidity_skewness['Humidity9am']:.3f}\")\n",
    "print(f\"Humidity3pm skewness: {humidity_skewness['Humidity3pm']:.3f}\")"
   ]
  },
  {
   "cell_type": "markdown",
   "id": "a2ebd890",
   "metadata": {
    "papermill": {
     "duration": 0.048123,
     "end_time": "2022-12-31T11:41:59.630216",
     "exception": false,
     "start_time": "2022-12-31T11:41:59.582093",
     "status": "completed"
    },
    "tags": []
   },
   "source": [
    "For *Humidity9am*, there are $5$ outlier data points with $2$ unique values.\n",
    "\n",
    "For *Humidity3pm*, there are $49$ outlier data points with $9$ unique values."
   ]
  },
  {
   "cell_type": "code",
   "execution_count": 62,
   "id": "256f0a0c",
   "metadata": {
    "execution": {
     "iopub.execute_input": "2022-12-31T11:41:59.724105Z",
     "iopub.status.busy": "2022-12-31T11:41:59.723666Z",
     "iopub.status.idle": "2022-12-31T11:41:59.736906Z",
     "shell.execute_reply": "2022-12-31T11:41:59.735263Z"
    },
    "papermill": {
     "duration": 0.064591,
     "end_time": "2022-12-31T11:41:59.740651",
     "exception": false,
     "start_time": "2022-12-31T11:41:59.676060",
     "status": "completed"
    },
    "tags": []
   },
   "outputs": [
    {
     "name": "stdout",
     "output_type": "stream",
     "text": [
      "Number of outlier data points (Humidity9am): 5\n",
      "Unique value count: (2 unique values)\n",
      "Outliers counts:\n",
      "  13.0 \t 3 occurrence(s)\n",
      "  14.0 \t 2 occurrence(s)\n",
      "Number of outlier data points (Humidity3pm): 49\n",
      "Unique value count: (9 unique values)\n",
      "Outliers counts:\n",
      "  90.0 \t 10 occurrence(s)\n",
      "  94.0 \t 9 occurrence(s)\n",
      "  89.0 \t 9 occurrence(s)\n",
      "  93.0 \t 7 occurrence(s)\n",
      "  91.0 \t 7 occurrence(s)\n",
      "  92.0 \t 4 occurrence(s)\n",
      "  97.0 \t 1 occurrence(s)\n",
      "  96.0 \t 1 occurrence(s)\n",
      "  95.0 \t 1 occurrence(s)\n"
     ]
    }
   ],
   "source": [
    "identify_outliers(humidity_df, 'Humidity9am')\n",
    "identify_outliers(humidity_df, 'Humidity3pm')"
   ]
  },
  {
   "cell_type": "markdown",
   "id": "ec5c8b4b",
   "metadata": {
    "papermill": {
     "duration": 0.045808,
     "end_time": "2022-12-31T11:41:59.832972",
     "exception": false,
     "start_time": "2022-12-31T11:41:59.787164",
     "status": "completed"
    },
    "tags": []
   },
   "source": [
    "# __2.1.12 Pressure\n",
    "\n",
    "📙 **SUMMARY*** \n",
    "* The *Pressure9am* and *Pressure3pm* refers to the pressure quantity at their respective time and are expressed in hectopascals and are rounded to the nearest tenth of a decimal.\n",
    "\n",
    "* **Presure9am**\n",
    "    * The values range from $996.2$ to $1038.8$ hectopascals with a mean of $1017.78$ hectopascals and a standard deviation of $6.52$ hectopascals.\n",
    "    * There is 1 missing value.\n",
    "    * The data distribution is normal and symmetric.\n",
    "    * There are $11$ outliers in the dataset.\n",
    "\n",
    "* **Pressure3pm**\n",
    "    * The values range from $991.9$ to $1034.3$ hectopascals with a mean of $1015.42$ hectopascals and a standard deviation of $6.12$ hectopascals.\n",
    "    * There is 1 missing value.\n",
    "    * The data distribution is normal and symmetric.\n",
    "    * There are $8$ outliers in the dataset."
   ]
  },
  {
   "cell_type": "markdown",
   "id": "f5d80fab",
   "metadata": {
    "papermill": {
     "duration": 0.045158,
     "end_time": "2022-12-31T11:41:59.924327",
     "exception": false,
     "start_time": "2022-12-31T11:41:59.879169",
     "status": "completed"
    },
    "tags": []
   },
   "source": [
    "The data refers to the atmospheric pressure at sea level in **hectopascals** and are rounded to the neearest tenths of a decimal."
   ]
  },
  {
   "cell_type": "code",
   "execution_count": 63,
   "id": "c33ea429",
   "metadata": {
    "_kg_hide-input": true,
    "execution": {
     "iopub.execute_input": "2022-12-31T11:42:00.019913Z",
     "iopub.status.busy": "2022-12-31T11:42:00.019451Z",
     "iopub.status.idle": "2022-12-31T11:42:00.033509Z",
     "shell.execute_reply": "2022-12-31T11:42:00.032344Z"
    },
    "papermill": {
     "duration": 0.065182,
     "end_time": "2022-12-31T11:42:00.036154",
     "exception": false,
     "start_time": "2022-12-31T11:41:59.970972",
     "status": "completed"
    },
    "tags": []
   },
   "outputs": [
    {
     "data": {
      "text/html": [
       "<div>\n",
       "<style scoped>\n",
       "    .dataframe tbody tr th:only-of-type {\n",
       "        vertical-align: middle;\n",
       "    }\n",
       "\n",
       "    .dataframe tbody tr th {\n",
       "        vertical-align: top;\n",
       "    }\n",
       "\n",
       "    .dataframe thead th {\n",
       "        text-align: right;\n",
       "    }\n",
       "</style>\n",
       "<table border=\"1\" class=\"dataframe\">\n",
       "  <thead>\n",
       "    <tr style=\"text-align: right;\">\n",
       "      <th></th>\n",
       "      <th>Pressure9am</th>\n",
       "      <th>Pressure3pm</th>\n",
       "    </tr>\n",
       "  </thead>\n",
       "  <tbody>\n",
       "    <tr>\n",
       "      <th>120638</th>\n",
       "      <td>1027.6</td>\n",
       "      <td>1024.5</td>\n",
       "    </tr>\n",
       "    <tr>\n",
       "      <th>120639</th>\n",
       "      <td>1024.1</td>\n",
       "      <td>1019.0</td>\n",
       "    </tr>\n",
       "    <tr>\n",
       "      <th>120640</th>\n",
       "      <td>1016.8</td>\n",
       "      <td>1015.6</td>\n",
       "    </tr>\n",
       "    <tr>\n",
       "      <th>120641</th>\n",
       "      <td>1019.3</td>\n",
       "      <td>1018.4</td>\n",
       "    </tr>\n",
       "    <tr>\n",
       "      <th>120642</th>\n",
       "      <td>1020.4</td>\n",
       "      <td>1022.1</td>\n",
       "    </tr>\n",
       "    <tr>\n",
       "      <th>120643</th>\n",
       "      <td>1032.0</td>\n",
       "      <td>1029.6</td>\n",
       "    </tr>\n",
       "    <tr>\n",
       "      <th>120644</th>\n",
       "      <td>1028.9</td>\n",
       "      <td>1024.2</td>\n",
       "    </tr>\n",
       "    <tr>\n",
       "      <th>120645</th>\n",
       "      <td>1023.9</td>\n",
       "      <td>1021.1</td>\n",
       "    </tr>\n",
       "    <tr>\n",
       "      <th>120646</th>\n",
       "      <td>1026.4</td>\n",
       "      <td>1024.9</td>\n",
       "    </tr>\n",
       "    <tr>\n",
       "      <th>120647</th>\n",
       "      <td>1020.2</td>\n",
       "      <td>1014.0</td>\n",
       "    </tr>\n",
       "  </tbody>\n",
       "</table>\n",
       "</div>"
      ],
      "text/plain": [
       "        Pressure9am  Pressure3pm\n",
       "120638       1027.6       1024.5\n",
       "120639       1024.1       1019.0\n",
       "120640       1016.8       1015.6\n",
       "120641       1019.3       1018.4\n",
       "120642       1020.4       1022.1\n",
       "120643       1032.0       1029.6\n",
       "120644       1028.9       1024.2\n",
       "120645       1023.9       1021.1\n",
       "120646       1026.4       1024.9\n",
       "120647       1020.2       1014.0"
      ]
     },
     "execution_count": 63,
     "metadata": {},
     "output_type": "execute_result"
    }
   ],
   "source": [
    "pressure_df = df[['Pressure9am', 'Pressure3pm']]\n",
    "pressure_df.head(10)"
   ]
  },
  {
   "cell_type": "markdown",
   "id": "27107db1",
   "metadata": {
    "papermill": {
     "duration": 0.046309,
     "end_time": "2022-12-31T11:42:00.128893",
     "exception": false,
     "start_time": "2022-12-31T11:42:00.082584",
     "status": "completed"
    },
    "tags": []
   },
   "source": [
    "For *Pressure9am*, the values range from $996.2$ to $1038.8$ with a mean of $1017.78$ and a standard deviation of $6.52$ hectopascals.\n",
    "\n",
    "For *Pressure3pm*, the values range from $991.9$ to $1034.3$ with a mean of $1015.42$ and a standard deviation of $6.12$ hectopascals."
   ]
  },
  {
   "cell_type": "code",
   "execution_count": 64,
   "id": "d09271e0",
   "metadata": {
    "_kg_hide-input": true,
    "execution": {
     "iopub.execute_input": "2022-12-31T11:42:00.223150Z",
     "iopub.status.busy": "2022-12-31T11:42:00.222254Z",
     "iopub.status.idle": "2022-12-31T11:42:00.245415Z",
     "shell.execute_reply": "2022-12-31T11:42:00.244529Z"
    },
    "papermill": {
     "duration": 0.073025,
     "end_time": "2022-12-31T11:42:00.247986",
     "exception": false,
     "start_time": "2022-12-31T11:42:00.174961",
     "status": "completed"
    },
    "tags": []
   },
   "outputs": [
    {
     "data": {
      "text/html": [
       "<div>\n",
       "<style scoped>\n",
       "    .dataframe tbody tr th:only-of-type {\n",
       "        vertical-align: middle;\n",
       "    }\n",
       "\n",
       "    .dataframe tbody tr th {\n",
       "        vertical-align: top;\n",
       "    }\n",
       "\n",
       "    .dataframe thead th {\n",
       "        text-align: right;\n",
       "    }\n",
       "</style>\n",
       "<table border=\"1\" class=\"dataframe\">\n",
       "  <thead>\n",
       "    <tr style=\"text-align: right;\">\n",
       "      <th></th>\n",
       "      <th>count</th>\n",
       "      <th>mean</th>\n",
       "      <th>std</th>\n",
       "      <th>min</th>\n",
       "      <th>25%</th>\n",
       "      <th>50%</th>\n",
       "      <th>75%</th>\n",
       "      <th>max</th>\n",
       "    </tr>\n",
       "  </thead>\n",
       "  <tbody>\n",
       "    <tr>\n",
       "      <th>Pressure9am</th>\n",
       "      <td>3192.0</td>\n",
       "      <td>1017.784398</td>\n",
       "      <td>6.52324</td>\n",
       "      <td>996.2</td>\n",
       "      <td>1013.1</td>\n",
       "      <td>1017.4</td>\n",
       "      <td>1022.3</td>\n",
       "      <td>1038.8</td>\n",
       "    </tr>\n",
       "    <tr>\n",
       "      <th>Pressure3pm</th>\n",
       "      <td>3192.0</td>\n",
       "      <td>1015.420457</td>\n",
       "      <td>6.12160</td>\n",
       "      <td>991.9</td>\n",
       "      <td>1011.0</td>\n",
       "      <td>1015.1</td>\n",
       "      <td>1019.7</td>\n",
       "      <td>1034.3</td>\n",
       "    </tr>\n",
       "  </tbody>\n",
       "</table>\n",
       "</div>"
      ],
      "text/plain": [
       "              count         mean      std    min     25%     50%     75%  \\\n",
       "Pressure9am  3192.0  1017.784398  6.52324  996.2  1013.1  1017.4  1022.3   \n",
       "Pressure3pm  3192.0  1015.420457  6.12160  991.9  1011.0  1015.1  1019.7   \n",
       "\n",
       "                max  \n",
       "Pressure9am  1038.8  \n",
       "Pressure3pm  1034.3  "
      ]
     },
     "execution_count": 64,
     "metadata": {},
     "output_type": "execute_result"
    }
   ],
   "source": [
    "pressure_df.describe().transpose()"
   ]
  },
  {
   "cell_type": "markdown",
   "id": "06a29fb1",
   "metadata": {
    "papermill": {
     "duration": 0.045919,
     "end_time": "2022-12-31T11:42:00.339969",
     "exception": false,
     "start_time": "2022-12-31T11:42:00.294050",
     "status": "completed"
    },
    "tags": []
   },
   "source": [
    "Both pressure datasets have $1$ missing value."
   ]
  },
  {
   "cell_type": "code",
   "execution_count": 65,
   "id": "87188603",
   "metadata": {
    "_kg_hide-input": true,
    "execution": {
     "iopub.execute_input": "2022-12-31T11:42:00.437530Z",
     "iopub.status.busy": "2022-12-31T11:42:00.436476Z",
     "iopub.status.idle": "2022-12-31T11:42:00.444691Z",
     "shell.execute_reply": "2022-12-31T11:42:00.443823Z"
    },
    "papermill": {
     "duration": 0.059599,
     "end_time": "2022-12-31T11:42:00.447569",
     "exception": false,
     "start_time": "2022-12-31T11:42:00.387970",
     "status": "completed"
    },
    "tags": []
   },
   "outputs": [
    {
     "name": "stdout",
     "output_type": "stream",
     "text": [
      "Pressure9am missing values: 1 (0.03%)\n",
      "Pressure3pm missing values: 1 (0.03%)\n"
     ]
    }
   ],
   "source": [
    "missing_pressure_count = pressure_df.isna().sum()\n",
    "missing_pressure_perc = missing_pressure_count / len(pressure_df)\n",
    "\n",
    "\n",
    "print(f\"Pressure9am missing values: {missing_pressure_count['Pressure9am']} ({missing_pressure_perc['Pressure9am']*100:.2f}%)\")\n",
    "print(f\"Pressure3pm missing values: {missing_pressure_count['Pressure3pm']} ({missing_pressure_perc['Pressure3pm']*100:.2f}%)\")"
   ]
  },
  {
   "cell_type": "markdown",
   "id": "0ae75ecb",
   "metadata": {
    "execution": {
     "iopub.execute_input": "2022-12-26T03:55:45.082239Z",
     "iopub.status.busy": "2022-12-26T03:55:45.081758Z",
     "iopub.status.idle": "2022-12-26T03:55:45.087023Z",
     "shell.execute_reply": "2022-12-26T03:55:45.086043Z",
     "shell.execute_reply.started": "2022-12-26T03:55:45.082215Z"
    },
    "papermill": {
     "duration": 0.045481,
     "end_time": "2022-12-31T11:42:00.540719",
     "exception": false,
     "start_time": "2022-12-31T11:42:00.495238",
     "status": "completed"
    },
    "tags": []
   },
   "source": [
    "Both datasets seem to be following the normal distribution and symmetric."
   ]
  },
  {
   "cell_type": "code",
   "execution_count": 66,
   "id": "0807aec3",
   "metadata": {
    "_kg_hide-input": true,
    "execution": {
     "iopub.execute_input": "2022-12-31T11:42:00.635587Z",
     "iopub.status.busy": "2022-12-31T11:42:00.634786Z",
     "iopub.status.idle": "2022-12-31T11:42:01.075215Z",
     "shell.execute_reply": "2022-12-31T11:42:01.073939Z"
    },
    "papermill": {
     "duration": 0.490793,
     "end_time": "2022-12-31T11:42:01.077832",
     "exception": false,
     "start_time": "2022-12-31T11:42:00.587039",
     "status": "completed"
    },
    "tags": []
   },
   "outputs": [
    {
     "data": {
      "image/png": "[encoded data removed]",
      "text/plain": [
       "<Figure size 1440x432 with 4 Axes>"
      ]
     },
     "metadata": {
      "needs_background": "light"
     },
     "output_type": "display_data"
    }
   ],
   "source": [
    "_, axes = plt.subplots(2, 2, figsize=(20, 6))\n",
    "\n",
    "pressure_df.hist(ax=axes[0])\n",
    "sns.boxplot(ax=axes[1, 0], x=pressure_df['Pressure9am'])\n",
    "sns.boxplot(ax=axes[1, 1], x=pressure_df['Pressure3pm'])\n",
    "\n",
    "plt.show()"
   ]
  },
  {
   "cell_type": "code",
   "execution_count": 67,
   "id": "b5d319a9",
   "metadata": {
    "_kg_hide-input": true,
    "execution": {
     "iopub.execute_input": "2022-12-31T11:42:01.173511Z",
     "iopub.status.busy": "2022-12-31T11:42:01.173064Z",
     "iopub.status.idle": "2022-12-31T11:42:01.181411Z",
     "shell.execute_reply": "2022-12-31T11:42:01.180025Z"
    },
    "papermill": {
     "duration": 0.058997,
     "end_time": "2022-12-31T11:42:01.184488",
     "exception": false,
     "start_time": "2022-12-31T11:42:01.125491",
     "status": "completed"
    },
    "tags": []
   },
   "outputs": [
    {
     "name": "stdout",
     "output_type": "stream",
     "text": [
      "Pressure9am skewness:  0.13\n",
      "Pressure3pm skewness:  0.15\n"
     ]
    }
   ],
   "source": [
    "pressure_skewness = pressure_df.skew()\n",
    "\n",
    "print(f\"Pressure9am skewness: {pressure_skewness['Pressure9am']: .2f}\")\n",
    "print(f\"Pressure3pm skewness: {pressure_skewness['Pressure3pm']: .2f}\")"
   ]
  },
  {
   "cell_type": "markdown",
   "id": "fb9a51ec",
   "metadata": {
    "papermill": {
     "duration": 0.046755,
     "end_time": "2022-12-31T11:42:01.278485",
     "exception": false,
     "start_time": "2022-12-31T11:42:01.231730",
     "status": "completed"
    },
    "tags": []
   },
   "source": [
    "The *Pressure9am* has $11$ outlier points with $10$ unique values while *Pressure3pm* has $8$ outlier points, each with different values."
   ]
  },
  {
   "cell_type": "code",
   "execution_count": 68,
   "id": "0dfa68a3",
   "metadata": {
    "_kg_hide-input": true,
    "execution": {
     "iopub.execute_input": "2022-12-31T11:42:01.374409Z",
     "iopub.status.busy": "2022-12-31T11:42:01.373174Z",
     "iopub.status.idle": "2022-12-31T11:42:01.386344Z",
     "shell.execute_reply": "2022-12-31T11:42:01.385323Z"
    },
    "papermill": {
     "duration": 0.063993,
     "end_time": "2022-12-31T11:42:01.389012",
     "exception": false,
     "start_time": "2022-12-31T11:42:01.325019",
     "status": "completed"
    },
    "tags": []
   },
   "outputs": [
    {
     "name": "stdout",
     "output_type": "stream",
     "text": [
      "Number of outlier data points (Pressure9am): 11\n",
      "Unique value count: (10 unique values)\n",
      "Outliers counts:\n",
      "  996.4 \t 2 occurrence(s)\n",
      "  999.3 \t 1 occurrence(s)\n",
      "  997.5 \t 1 occurrence(s)\n",
      "  997.2 \t 1 occurrence(s)\n",
      "  997.9 \t 1 occurrence(s)\n",
      "  996.2 \t 1 occurrence(s)\n",
      "  1038.0 \t 1 occurrence(s)\n",
      "  1037.0 \t 1 occurrence(s)\n",
      "  1038.8 \t 1 occurrence(s)\n",
      "  1036.7 \t 1 occurrence(s)\n",
      "Number of outlier data points (Pressure3pm): 8\n",
      "Unique value count: (8 unique values)\n",
      "Outliers counts:\n",
      "  996.9 \t 1 occurrence(s)\n",
      "  996.8 \t 1 occurrence(s)\n",
      "  997.6 \t 1 occurrence(s)\n",
      "  995.9 \t 1 occurrence(s)\n",
      "  991.9 \t 1 occurrence(s)\n",
      "  1034.3 \t 1 occurrence(s)\n",
      "  1033.7 \t 1 occurrence(s)\n",
      "  1034.0 \t 1 occurrence(s)\n"
     ]
    }
   ],
   "source": [
    "identify_outliers(pressure_df, 'Pressure9am')\n",
    "identify_outliers(pressure_df, 'Pressure3pm')"
   ]
  },
  {
   "cell_type": "markdown",
   "id": "c9806cc8",
   "metadata": {
    "papermill": {
     "duration": 0.046399,
     "end_time": "2022-12-31T11:42:01.482472",
     "exception": false,
     "start_time": "2022-12-31T11:42:01.436073",
     "status": "completed"
    },
    "tags": []
   },
   "source": [
    "# __2.1.13 Cloud\n",
    "\n",
    "📙 **SUMMARY**\n",
    "* The *Cloud9am* and *Cloud3pm* data represents the fraction of the sky that's covered with clouds at their respective times and is expressed in $\\frac{1}{8}$ units.\n",
    "* The values are discrete and are capped from $0$ to $8$.\n",
    "\n",
    "* **Cloud9am**\n",
    "    * The values range from $0$ to $8$ with a standar deviation of $3.38$ and a standard deviation of $2.80$.\n",
    "    * There are $2$ missing values in the dataset.\n",
    "    * The most occuring value is $1$.\n",
    "\n",
    "* **Cloud3pm**\n",
    "    * The values range from $0$ to $8$ with a standar deviation of $3.47$ and a standard deviation of $2.68$.\n",
    "    * There are $4$ missing values in the dataset.\n",
    "    * The most occuring value is $1$.\n",
    "    "
   ]
  },
  {
   "cell_type": "markdown",
   "id": "5dc201d7",
   "metadata": {
    "papermill": {
     "duration": 0.046498,
     "end_time": "2022-12-31T11:42:01.575957",
     "exception": false,
     "start_time": "2022-12-31T11:42:01.529459",
     "status": "completed"
    },
    "tags": []
   },
   "source": [
    "The dataset refers to the fraction of the sky obscured by cloud at 3pm and is expressed in $\\frac{1}{8}$ unit. Hence, the values are integral values (despite the float data type) from $0$ to $8$."
   ]
  },
  {
   "cell_type": "code",
   "execution_count": 69,
   "id": "26e1143c",
   "metadata": {
    "_kg_hide-input": true,
    "execution": {
     "iopub.execute_input": "2022-12-31T11:42:01.671678Z",
     "iopub.status.busy": "2022-12-31T11:42:01.671272Z",
     "iopub.status.idle": "2022-12-31T11:42:01.685317Z",
     "shell.execute_reply": "2022-12-31T11:42:01.684049Z"
    },
    "papermill": {
     "duration": 0.065115,
     "end_time": "2022-12-31T11:42:01.687581",
     "exception": false,
     "start_time": "2022-12-31T11:42:01.622466",
     "status": "completed"
    },
    "tags": []
   },
   "outputs": [
    {
     "data": {
      "text/html": [
       "<div>\n",
       "<style scoped>\n",
       "    .dataframe tbody tr th:only-of-type {\n",
       "        vertical-align: middle;\n",
       "    }\n",
       "\n",
       "    .dataframe tbody tr th {\n",
       "        vertical-align: top;\n",
       "    }\n",
       "\n",
       "    .dataframe thead th {\n",
       "        text-align: right;\n",
       "    }\n",
       "</style>\n",
       "<table border=\"1\" class=\"dataframe\">\n",
       "  <thead>\n",
       "    <tr style=\"text-align: right;\">\n",
       "      <th></th>\n",
       "      <th>Cloud9am</th>\n",
       "      <th>Cloud3pm</th>\n",
       "    </tr>\n",
       "  </thead>\n",
       "  <tbody>\n",
       "    <tr>\n",
       "      <th>120638</th>\n",
       "      <td>2.0</td>\n",
       "      <td>3.0</td>\n",
       "    </tr>\n",
       "    <tr>\n",
       "      <th>120639</th>\n",
       "      <td>0.0</td>\n",
       "      <td>6.0</td>\n",
       "    </tr>\n",
       "    <tr>\n",
       "      <th>120640</th>\n",
       "      <td>1.0</td>\n",
       "      <td>3.0</td>\n",
       "    </tr>\n",
       "    <tr>\n",
       "      <th>120641</th>\n",
       "      <td>6.0</td>\n",
       "      <td>6.0</td>\n",
       "    </tr>\n",
       "    <tr>\n",
       "      <th>120642</th>\n",
       "      <td>7.0</td>\n",
       "      <td>5.0</td>\n",
       "    </tr>\n",
       "    <tr>\n",
       "      <th>120643</th>\n",
       "      <td>0.0</td>\n",
       "      <td>1.0</td>\n",
       "    </tr>\n",
       "    <tr>\n",
       "      <th>120644</th>\n",
       "      <td>1.0</td>\n",
       "      <td>5.0</td>\n",
       "    </tr>\n",
       "    <tr>\n",
       "      <th>120645</th>\n",
       "      <td>6.0</td>\n",
       "      <td>5.0</td>\n",
       "    </tr>\n",
       "    <tr>\n",
       "      <th>120646</th>\n",
       "      <td>7.0</td>\n",
       "      <td>6.0</td>\n",
       "    </tr>\n",
       "    <tr>\n",
       "      <th>120647</th>\n",
       "      <td>7.0</td>\n",
       "      <td>7.0</td>\n",
       "    </tr>\n",
       "  </tbody>\n",
       "</table>\n",
       "</div>"
      ],
      "text/plain": [
       "        Cloud9am  Cloud3pm\n",
       "120638       2.0       3.0\n",
       "120639       0.0       6.0\n",
       "120640       1.0       3.0\n",
       "120641       6.0       6.0\n",
       "120642       7.0       5.0\n",
       "120643       0.0       1.0\n",
       "120644       1.0       5.0\n",
       "120645       6.0       5.0\n",
       "120646       7.0       6.0\n",
       "120647       7.0       7.0"
      ]
     },
     "execution_count": 69,
     "metadata": {},
     "output_type": "execute_result"
    }
   ],
   "source": [
    "cloud_df = df[['Cloud9am', 'Cloud3pm']]\n",
    "cloud_df.head(10)"
   ]
  },
  {
   "cell_type": "markdown",
   "id": "2573d256",
   "metadata": {
    "papermill": {
     "duration": 0.046635,
     "end_time": "2022-12-31T11:42:01.782540",
     "exception": false,
     "start_time": "2022-12-31T11:42:01.735905",
     "status": "completed"
    },
    "tags": []
   },
   "source": [
    "For both datasets, the values range from $0.0$ to $8.0$. For *Cloud9am*, the mean is $3.38$ with a standard deviation of $2.80$ while for *Cloud3pm*, the mean is $3.47$ and a standard deviation of $2.68$."
   ]
  },
  {
   "cell_type": "code",
   "execution_count": 70,
   "id": "acec40b6",
   "metadata": {
    "_kg_hide-input": true,
    "execution": {
     "iopub.execute_input": "2022-12-31T11:42:01.879253Z",
     "iopub.status.busy": "2022-12-31T11:42:01.878808Z",
     "iopub.status.idle": "2022-12-31T11:42:01.902511Z",
     "shell.execute_reply": "2022-12-31T11:42:01.901358Z"
    },
    "papermill": {
     "duration": 0.074593,
     "end_time": "2022-12-31T11:42:01.904792",
     "exception": false,
     "start_time": "2022-12-31T11:42:01.830199",
     "status": "completed"
    },
    "tags": []
   },
   "outputs": [
    {
     "data": {
      "text/html": [
       "<div>\n",
       "<style scoped>\n",
       "    .dataframe tbody tr th:only-of-type {\n",
       "        vertical-align: middle;\n",
       "    }\n",
       "\n",
       "    .dataframe tbody tr th {\n",
       "        vertical-align: top;\n",
       "    }\n",
       "\n",
       "    .dataframe thead th {\n",
       "        text-align: right;\n",
       "    }\n",
       "</style>\n",
       "<table border=\"1\" class=\"dataframe\">\n",
       "  <thead>\n",
       "    <tr style=\"text-align: right;\">\n",
       "      <th></th>\n",
       "      <th>count</th>\n",
       "      <th>mean</th>\n",
       "      <th>std</th>\n",
       "      <th>min</th>\n",
       "      <th>25%</th>\n",
       "      <th>50%</th>\n",
       "      <th>75%</th>\n",
       "      <th>max</th>\n",
       "    </tr>\n",
       "  </thead>\n",
       "  <tbody>\n",
       "    <tr>\n",
       "      <th>Cloud9am</th>\n",
       "      <td>3191.0</td>\n",
       "      <td>3.383579</td>\n",
       "      <td>2.800834</td>\n",
       "      <td>0.0</td>\n",
       "      <td>1.0</td>\n",
       "      <td>3.0</td>\n",
       "      <td>6.0</td>\n",
       "      <td>8.0</td>\n",
       "    </tr>\n",
       "    <tr>\n",
       "      <th>Cloud3pm</th>\n",
       "      <td>3189.0</td>\n",
       "      <td>3.469740</td>\n",
       "      <td>2.681804</td>\n",
       "      <td>0.0</td>\n",
       "      <td>1.0</td>\n",
       "      <td>3.0</td>\n",
       "      <td>6.0</td>\n",
       "      <td>8.0</td>\n",
       "    </tr>\n",
       "  </tbody>\n",
       "</table>\n",
       "</div>"
      ],
      "text/plain": [
       "           count      mean       std  min  25%  50%  75%  max\n",
       "Cloud9am  3191.0  3.383579  2.800834  0.0  1.0  3.0  6.0  8.0\n",
       "Cloud3pm  3189.0  3.469740  2.681804  0.0  1.0  3.0  6.0  8.0"
      ]
     },
     "execution_count": 70,
     "metadata": {},
     "output_type": "execute_result"
    }
   ],
   "source": [
    "cloud_df.describe().transpose()"
   ]
  },
  {
   "cell_type": "markdown",
   "id": "f9f5f9f4",
   "metadata": {
    "papermill": {
     "duration": 0.046504,
     "end_time": "2022-12-31T11:42:01.999471",
     "exception": false,
     "start_time": "2022-12-31T11:42:01.952967",
     "status": "completed"
    },
    "tags": []
   },
   "source": [
    "For *Cloud9am*, there are $2$ missing values while *Cloud3pm* has $4$ missing values."
   ]
  },
  {
   "cell_type": "code",
   "execution_count": 71,
   "id": "37825bd7",
   "metadata": {
    "_kg_hide-input": true,
    "execution": {
     "iopub.execute_input": "2022-12-31T11:42:02.096107Z",
     "iopub.status.busy": "2022-12-31T11:42:02.094892Z",
     "iopub.status.idle": "2022-12-31T11:42:02.103753Z",
     "shell.execute_reply": "2022-12-31T11:42:02.102381Z"
    },
    "papermill": {
     "duration": 0.059081,
     "end_time": "2022-12-31T11:42:02.105998",
     "exception": false,
     "start_time": "2022-12-31T11:42:02.046917",
     "status": "completed"
    },
    "tags": []
   },
   "outputs": [
    {
     "name": "stdout",
     "output_type": "stream",
     "text": [
      "Cloud9am missing values: 2\n",
      "Cloud3pm missing values: 4\n"
     ]
    }
   ],
   "source": [
    "missing_cloud_count = cloud_df.isna().sum()\n",
    "missing_cloud_perc = missing_cloud_count / len(cloud_df)\n",
    "\n",
    "print(f\"Cloud9am missing values: {missing_cloud_count['Cloud9am']}\")\n",
    "print(f\"Cloud3pm missing values: {missing_cloud_count['Cloud3pm']}\")"
   ]
  },
  {
   "cell_type": "markdown",
   "id": "b59a8855",
   "metadata": {
    "papermill": {
     "duration": 0.046426,
     "end_time": "2022-12-31T11:42:02.200516",
     "exception": false,
     "start_time": "2022-12-31T11:42:02.154090",
     "status": "completed"
    },
    "tags": []
   },
   "source": [
    "The data distribution does not follow the normal distribution and has no outliers."
   ]
  },
  {
   "cell_type": "code",
   "execution_count": 72,
   "id": "fbfee002",
   "metadata": {
    "_kg_hide-input": true,
    "execution": {
     "iopub.execute_input": "2022-12-31T11:42:02.296235Z",
     "iopub.status.busy": "2022-12-31T11:42:02.295840Z",
     "iopub.status.idle": "2022-12-31T11:42:02.800504Z",
     "shell.execute_reply": "2022-12-31T11:42:02.799365Z"
    },
    "papermill": {
     "duration": 0.555223,
     "end_time": "2022-12-31T11:42:02.802885",
     "exception": false,
     "start_time": "2022-12-31T11:42:02.247662",
     "status": "completed"
    },
    "tags": []
   },
   "outputs": [
    {
     "data": {
      "image/png": "[encoded data removed]",
      "text/plain": [
       "<Figure size 1440x432 with 4 Axes>"
      ]
     },
     "metadata": {
      "needs_background": "light"
     },
     "output_type": "display_data"
    }
   ],
   "source": [
    "_, axes = plt.subplots(2, 2, figsize=(20, 6))\n",
    "\n",
    "# selecting bins=9 to ensure one bar per value (0, 1/8, 2/8, ... , 8/8)\n",
    "cloud_df.hist(ax=axes[0], bins=9)\n",
    "sns.boxplot(ax=axes[1, 0], x=cloud_df['Cloud9am'])\n",
    "sns.boxplot(ax=axes[1, 1], x=cloud_df['Cloud3pm'])\n",
    "\n",
    "plt.show()"
   ]
  },
  {
   "cell_type": "markdown",
   "id": "4957bf2b",
   "metadata": {
    "papermill": {
     "duration": 0.049812,
     "end_time": "2022-12-31T11:42:02.900835",
     "exception": false,
     "start_time": "2022-12-31T11:42:02.851023",
     "status": "completed"
    },
    "tags": []
   },
   "source": [
    "The most frequent occuring value for both attributes, *Cloud9am* and *Cloud3pm, is $1.0$."
   ]
  },
  {
   "cell_type": "code",
   "execution_count": 73,
   "id": "4cac687f",
   "metadata": {
    "_kg_hide-input": true,
    "execution": {
     "iopub.execute_input": "2022-12-31T11:42:02.997568Z",
     "iopub.status.busy": "2022-12-31T11:42:02.997110Z",
     "iopub.status.idle": "2022-12-31T11:42:03.006582Z",
     "shell.execute_reply": "2022-12-31T11:42:03.005394Z"
    },
    "papermill": {
     "duration": 0.06074,
     "end_time": "2022-12-31T11:42:03.008761",
     "exception": false,
     "start_time": "2022-12-31T11:42:02.948021",
     "status": "completed"
    },
    "tags": []
   },
   "outputs": [
    {
     "data": {
      "text/plain": [
       "1.0    805\n",
       "7.0    643\n",
       "0.0    544\n",
       "6.0    277\n",
       "5.0    226\n",
       "2.0    211\n",
       "3.0    195\n",
       "4.0    157\n",
       "8.0    133\n",
       "Name: Cloud9am, dtype: int64"
      ]
     },
     "execution_count": 73,
     "metadata": {},
     "output_type": "execute_result"
    }
   ],
   "source": [
    "cloud_df['Cloud9am'].value_counts()"
   ]
  },
  {
   "cell_type": "code",
   "execution_count": 74,
   "id": "018614ef",
   "metadata": {
    "_kg_hide-input": true,
    "execution": {
     "iopub.execute_input": "2022-12-31T11:42:03.107047Z",
     "iopub.status.busy": "2022-12-31T11:42:03.106668Z",
     "iopub.status.idle": "2022-12-31T11:42:03.115728Z",
     "shell.execute_reply": "2022-12-31T11:42:03.114698Z"
    },
    "papermill": {
     "duration": 0.060567,
     "end_time": "2022-12-31T11:42:03.117945",
     "exception": false,
     "start_time": "2022-12-31T11:42:03.057378",
     "status": "completed"
    },
    "tags": []
   },
   "outputs": [
    {
     "data": {
      "text/plain": [
       "1.0    744\n",
       "7.0    581\n",
       "0.0    443\n",
       "3.0    298\n",
       "6.0    284\n",
       "5.0    254\n",
       "2.0    245\n",
       "4.0    206\n",
       "8.0    134\n",
       "Name: Cloud3pm, dtype: int64"
      ]
     },
     "execution_count": 74,
     "metadata": {},
     "output_type": "execute_result"
    }
   ],
   "source": [
    "cloud_df['Cloud3pm'].value_counts()"
   ]
  },
  {
   "cell_type": "markdown",
   "id": "2eb23a1a",
   "metadata": {
    "papermill": {
     "duration": 0.047735,
     "end_time": "2022-12-31T11:42:03.214768",
     "exception": false,
     "start_time": "2022-12-31T11:42:03.167033",
     "status": "completed"
    },
    "tags": []
   },
   "source": [
    "# __2.1.14 Temperature\n",
    "\n",
    "📙 **SUMMARY**\n",
    "* The *Temp9am* and *Temp3pm* data represents the temperature recorded at their respective time and is expressed in $\\circ C$. The values are rounded to the nearest tenth of a decimal.\n",
    "\n",
    "* **Temp9am**\n",
    "    * The values range from $5.6 ^\\circ C$ to $39.0 ^\\circ C$ with a standar deviation of $18.57 ^\\circ C$ and a standard deviation of $5.35 ^\\circ C$.\n",
    "    * There are no missing values.\n",
    "    * The data is distributed normally and is symmetric.\n",
    "    * There are $5$ outlier data points.\n",
    "    \n",
    "* **Temp3pm**\n",
    "    * The values range from $8.4 ^\\circ C$ to $42.5 ^\\circ C$ with a standar deviation of $23.46 ^\\circ C$ and a standard deviation of $5.87 ^\\circ C$.\n",
    "    * There is only $1$ missing value.\n",
    "    * The data distribution is positively skewed at `skewness` = $0.60$.\n",
    "    * There are $12$ outlier data points."
   ]
  },
  {
   "cell_type": "markdown",
   "id": "de162398",
   "metadata": {
    "papermill": {
     "duration": 0.047653,
     "end_time": "2022-12-31T11:42:03.310155",
     "exception": false,
     "start_time": "2022-12-31T11:42:03.262502",
     "status": "completed"
    },
    "tags": []
   },
   "source": [
    "The temperature is expressed in $^\\circ C$ and are rounded to the nearest tenth of a decimal."
   ]
  },
  {
   "cell_type": "code",
   "execution_count": 75,
   "id": "dfb446a9",
   "metadata": {
    "_kg_hide-input": true,
    "execution": {
     "iopub.execute_input": "2022-12-31T11:42:03.406575Z",
     "iopub.status.busy": "2022-12-31T11:42:03.406123Z",
     "iopub.status.idle": "2022-12-31T11:42:03.417020Z",
     "shell.execute_reply": "2022-12-31T11:42:03.416232Z"
    },
    "papermill": {
     "duration": 0.061715,
     "end_time": "2022-12-31T11:42:03.419370",
     "exception": false,
     "start_time": "2022-12-31T11:42:03.357655",
     "status": "completed"
    },
    "tags": []
   },
   "outputs": [
    {
     "data": {
      "text/html": [
       "<div>\n",
       "<style scoped>\n",
       "    .dataframe tbody tr th:only-of-type {\n",
       "        vertical-align: middle;\n",
       "    }\n",
       "\n",
       "    .dataframe tbody tr th {\n",
       "        vertical-align: top;\n",
       "    }\n",
       "\n",
       "    .dataframe thead th {\n",
       "        text-align: right;\n",
       "    }\n",
       "</style>\n",
       "<table border=\"1\" class=\"dataframe\">\n",
       "  <thead>\n",
       "    <tr style=\"text-align: right;\">\n",
       "      <th></th>\n",
       "      <th>Temp9am</th>\n",
       "      <th>Temp3pm</th>\n",
       "    </tr>\n",
       "  </thead>\n",
       "  <tbody>\n",
       "    <tr>\n",
       "      <th>120638</th>\n",
       "      <td>8.5</td>\n",
       "      <td>18.1</td>\n",
       "    </tr>\n",
       "    <tr>\n",
       "      <th>120639</th>\n",
       "      <td>11.1</td>\n",
       "      <td>19.7</td>\n",
       "    </tr>\n",
       "    <tr>\n",
       "      <th>120640</th>\n",
       "      <td>12.1</td>\n",
       "      <td>17.7</td>\n",
       "    </tr>\n",
       "    <tr>\n",
       "      <th>120641</th>\n",
       "      <td>13.2</td>\n",
       "      <td>17.7</td>\n",
       "    </tr>\n",
       "    <tr>\n",
       "      <th>120642</th>\n",
       "      <td>15.9</td>\n",
       "      <td>16.0</td>\n",
       "    </tr>\n",
       "  </tbody>\n",
       "</table>\n",
       "</div>"
      ],
      "text/plain": [
       "        Temp9am  Temp3pm\n",
       "120638      8.5     18.1\n",
       "120639     11.1     19.7\n",
       "120640     12.1     17.7\n",
       "120641     13.2     17.7\n",
       "120642     15.9     16.0"
      ]
     },
     "execution_count": 75,
     "metadata": {},
     "output_type": "execute_result"
    }
   ],
   "source": [
    "temperature_df = df[['Temp9am', 'Temp3pm']]\n",
    "temperature_df.head()"
   ]
  },
  {
   "cell_type": "markdown",
   "id": "6529bb68",
   "metadata": {
    "papermill": {
     "duration": 0.047358,
     "end_time": "2022-12-31T11:42:03.514909",
     "exception": false,
     "start_time": "2022-12-31T11:42:03.467551",
     "status": "completed"
    },
    "tags": []
   },
   "source": [
    "The *Temp9am* values range from $5.6$ to $39.0$ with a mean of $18.57$ and a standard deviation of $5.35$.\n",
    "\n",
    "The *Temp3pm* values range from $8.4$ to $42.5$ with a mean of $23.46$ and a standard deviation of $5.87$."
   ]
  },
  {
   "cell_type": "code",
   "execution_count": 76,
   "id": "71f5fe52",
   "metadata": {
    "_kg_hide-input": true,
    "execution": {
     "iopub.execute_input": "2022-12-31T11:42:03.612111Z",
     "iopub.status.busy": "2022-12-31T11:42:03.611745Z",
     "iopub.status.idle": "2022-12-31T11:42:03.635025Z",
     "shell.execute_reply": "2022-12-31T11:42:03.633839Z"
    },
    "papermill": {
     "duration": 0.07457,
     "end_time": "2022-12-31T11:42:03.637253",
     "exception": false,
     "start_time": "2022-12-31T11:42:03.562683",
     "status": "completed"
    },
    "tags": []
   },
   "outputs": [
    {
     "data": {
      "text/html": [
       "<div>\n",
       "<style scoped>\n",
       "    .dataframe tbody tr th:only-of-type {\n",
       "        vertical-align: middle;\n",
       "    }\n",
       "\n",
       "    .dataframe tbody tr th {\n",
       "        vertical-align: top;\n",
       "    }\n",
       "\n",
       "    .dataframe thead th {\n",
       "        text-align: right;\n",
       "    }\n",
       "</style>\n",
       "<table border=\"1\" class=\"dataframe\">\n",
       "  <thead>\n",
       "    <tr style=\"text-align: right;\">\n",
       "      <th></th>\n",
       "      <th>count</th>\n",
       "      <th>mean</th>\n",
       "      <th>std</th>\n",
       "      <th>min</th>\n",
       "      <th>25%</th>\n",
       "      <th>50%</th>\n",
       "      <th>75%</th>\n",
       "      <th>max</th>\n",
       "    </tr>\n",
       "  </thead>\n",
       "  <tbody>\n",
       "    <tr>\n",
       "      <th>Temp9am</th>\n",
       "      <td>3193.0</td>\n",
       "      <td>18.573598</td>\n",
       "      <td>5.34664</td>\n",
       "      <td>5.6</td>\n",
       "      <td>14.5</td>\n",
       "      <td>18.3</td>\n",
       "      <td>22.3</td>\n",
       "      <td>39.0</td>\n",
       "    </tr>\n",
       "    <tr>\n",
       "      <th>Temp3pm</th>\n",
       "      <td>3192.0</td>\n",
       "      <td>23.461748</td>\n",
       "      <td>5.86863</td>\n",
       "      <td>8.4</td>\n",
       "      <td>18.9</td>\n",
       "      <td>22.5</td>\n",
       "      <td>27.3</td>\n",
       "      <td>42.5</td>\n",
       "    </tr>\n",
       "  </tbody>\n",
       "</table>\n",
       "</div>"
      ],
      "text/plain": [
       "          count       mean      std  min   25%   50%   75%   max\n",
       "Temp9am  3193.0  18.573598  5.34664  5.6  14.5  18.3  22.3  39.0\n",
       "Temp3pm  3192.0  23.461748  5.86863  8.4  18.9  22.5  27.3  42.5"
      ]
     },
     "execution_count": 76,
     "metadata": {},
     "output_type": "execute_result"
    }
   ],
   "source": [
    "temperature_df.describe().transpose()"
   ]
  },
  {
   "cell_type": "markdown",
   "id": "dab6dee1",
   "metadata": {
    "papermill": {
     "duration": 0.047925,
     "end_time": "2022-12-31T11:42:03.733243",
     "exception": false,
     "start_time": "2022-12-31T11:42:03.685318",
     "status": "completed"
    },
    "tags": []
   },
   "source": [
    "There is only $1$ missing value for *Temp3pm* and none for*Temp9am*."
   ]
  },
  {
   "cell_type": "code",
   "execution_count": 77,
   "id": "33361b4f",
   "metadata": {
    "_kg_hide-input": true,
    "execution": {
     "iopub.execute_input": "2022-12-31T11:42:03.831602Z",
     "iopub.status.busy": "2022-12-31T11:42:03.831221Z",
     "iopub.status.idle": "2022-12-31T11:42:03.839982Z",
     "shell.execute_reply": "2022-12-31T11:42:03.838248Z"
    },
    "papermill": {
     "duration": 0.060862,
     "end_time": "2022-12-31T11:42:03.842439",
     "exception": false,
     "start_time": "2022-12-31T11:42:03.781577",
     "status": "completed"
    },
    "tags": []
   },
   "outputs": [
    {
     "name": "stdout",
     "output_type": "stream",
     "text": [
      "Temp9AM missing values: 0 (0.000%)\n",
      "Temp3PM missing values: 1 (0.000%)\n"
     ]
    }
   ],
   "source": [
    "missing_temperature_values = temperature_df.isna().sum()\n",
    "missing_temperature_perc = missing_temperature_values / len(temperature_df)\n",
    "\n",
    "print(f\"Temp9AM missing values: {missing_temperature_values['Temp9am']} ({missing_temperature_perc['Temp9am']:.3f}%)\")\n",
    "print(f\"Temp3PM missing values: {missing_temperature_values['Temp3pm']} ({missing_temperature_perc['Temp3pm']:.3f}%)\")"
   ]
  },
  {
   "cell_type": "markdown",
   "id": "15ef7d41",
   "metadata": {
    "papermill": {
     "duration": 0.047477,
     "end_time": "2022-12-31T11:42:03.937708",
     "exception": false,
     "start_time": "2022-12-31T11:42:03.890231",
     "status": "completed"
    },
    "tags": []
   },
   "source": [
    "The datasets are normally distributed. The dataset for *Temp3PM* is positively skewed at `skewness` = $0.60$. Both datasets have outliers on the rear end."
   ]
  },
  {
   "cell_type": "code",
   "execution_count": 78,
   "id": "27fa71b6",
   "metadata": {
    "_kg_hide-input": true,
    "execution": {
     "iopub.execute_input": "2022-12-31T11:42:04.036213Z",
     "iopub.status.busy": "2022-12-31T11:42:04.035011Z",
     "iopub.status.idle": "2022-12-31T11:42:04.546735Z",
     "shell.execute_reply": "2022-12-31T11:42:04.545613Z"
    },
    "papermill": {
     "duration": 0.563935,
     "end_time": "2022-12-31T11:42:04.549819",
     "exception": false,
     "start_time": "2022-12-31T11:42:03.985884",
     "status": "completed"
    },
    "tags": []
   },
   "outputs": [
    {
     "data": {
      "image/png": "[encoded data removed]",
      "text/plain": [
       "<Figure size 1440x432 with 4 Axes>"
      ]
     },
     "metadata": {
      "needs_background": "light"
     },
     "output_type": "display_data"
    }
   ],
   "source": [
    "_, axes = plt.subplots(2, 2, figsize=(20, 6))\n",
    "\n",
    "temperature_df.hist(ax=axes[0])\n",
    "sns.boxplot(ax=axes[1,0], x=temperature_df['Temp9am'])\n",
    "sns.boxplot(ax=axes[1,1], x=temperature_df['Temp3pm'])\n",
    "\n",
    "plt.show()"
   ]
  },
  {
   "cell_type": "code",
   "execution_count": 79,
   "id": "10672123",
   "metadata": {
    "_kg_hide-input": true,
    "execution": {
     "iopub.execute_input": "2022-12-31T11:42:04.650388Z",
     "iopub.status.busy": "2022-12-31T11:42:04.649660Z",
     "iopub.status.idle": "2022-12-31T11:42:04.657258Z",
     "shell.execute_reply": "2022-12-31T11:42:04.655712Z"
    },
    "papermill": {
     "duration": 0.06016,
     "end_time": "2022-12-31T11:42:04.659714",
     "exception": false,
     "start_time": "2022-12-31T11:42:04.599554",
     "status": "completed"
    },
    "tags": []
   },
   "outputs": [
    {
     "name": "stdout",
     "output_type": "stream",
     "text": [
      "Temp9AM skewness: 0.31\n",
      "Temp3PM skewness: 0.60\n"
     ]
    }
   ],
   "source": [
    "temperature_skewness = temperature_df.skew()\n",
    "\n",
    "print(f\"Temp9AM skewness: {temperature_skewness['Temp9am']:.2f}\")\n",
    "print(f\"Temp3PM skewness: {temperature_skewness['Temp3pm']:.2f}\")"
   ]
  },
  {
   "cell_type": "markdown",
   "id": "9c63e31b",
   "metadata": {
    "papermill": {
     "duration": 0.049013,
     "end_time": "2022-12-31T11:42:04.757756",
     "exception": false,
     "start_time": "2022-12-31T11:42:04.708743",
     "status": "completed"
    },
    "tags": []
   },
   "source": [
    "For *Temp9am*, there are $5$ outlier data points, each with unique values.\n",
    "\n",
    "For *Temp3pm*, there are $12$ outlier data points but only $9$ unique values."
   ]
  },
  {
   "cell_type": "code",
   "execution_count": 80,
   "id": "e8dc98a8",
   "metadata": {
    "_kg_hide-input": true,
    "execution": {
     "iopub.execute_input": "2022-12-31T11:42:04.857252Z",
     "iopub.status.busy": "2022-12-31T11:42:04.856781Z",
     "iopub.status.idle": "2022-12-31T11:42:04.865908Z",
     "shell.execute_reply": "2022-12-31T11:42:04.864501Z"
    },
    "papermill": {
     "duration": 0.062036,
     "end_time": "2022-12-31T11:42:04.868736",
     "exception": false,
     "start_time": "2022-12-31T11:42:04.806700",
     "status": "completed"
    },
    "tags": []
   },
   "outputs": [
    {
     "name": "stdout",
     "output_type": "stream",
     "text": [
      "Number of outlier data points (Temp9am): 5\n",
      "Unique value count: (5 unique values)\n",
      "Outliers counts:\n",
      "  34.8 \t 1 occurrence(s)\n",
      "  36.4 \t 1 occurrence(s)\n",
      "  39.0 \t 1 occurrence(s)\n",
      "  34.7 \t 1 occurrence(s)\n",
      "  34.1 \t 1 occurrence(s)\n"
     ]
    }
   ],
   "source": [
    "identify_outliers(temperature_df, 'Temp9am')"
   ]
  },
  {
   "cell_type": "code",
   "execution_count": 81,
   "id": "9efe2184",
   "metadata": {
    "_kg_hide-input": true,
    "execution": {
     "iopub.execute_input": "2022-12-31T11:42:04.968760Z",
     "iopub.status.busy": "2022-12-31T11:42:04.968362Z",
     "iopub.status.idle": "2022-12-31T11:42:04.978434Z",
     "shell.execute_reply": "2022-12-31T11:42:04.977053Z"
    },
    "papermill": {
     "duration": 0.06325,
     "end_time": "2022-12-31T11:42:04.981536",
     "exception": false,
     "start_time": "2022-12-31T11:42:04.918286",
     "status": "completed"
    },
    "tags": []
   },
   "outputs": [
    {
     "name": "stdout",
     "output_type": "stream",
     "text": [
      "Number of outlier data points (Temp3pm): 12\n",
      "Unique value count: (9 unique values)\n",
      "Outliers counts:\n",
      "  41.8 \t 2 occurrence(s)\n",
      "  40.8 \t 2 occurrence(s)\n",
      "  41.5 \t 2 occurrence(s)\n",
      "  42.2 \t 1 occurrence(s)\n",
      "  40.0 \t 1 occurrence(s)\n",
      "  41.9 \t 1 occurrence(s)\n",
      "  42.5 \t 1 occurrence(s)\n",
      "  41.0 \t 1 occurrence(s)\n",
      "  42.1 \t 1 occurrence(s)\n"
     ]
    }
   ],
   "source": [
    "identify_outliers(temperature_df, 'Temp3pm')"
   ]
  },
  {
   "cell_type": "markdown",
   "id": "f840144e",
   "metadata": {
    "papermill": {
     "duration": 0.049048,
     "end_time": "2022-12-31T11:42:05.080629",
     "exception": false,
     "start_time": "2022-12-31T11:42:05.031581",
     "status": "completed"
    },
    "tags": []
   },
   "source": [
    "# __2.1.15 RainToday\n",
    "\n",
    "\n",
    "📙 **SUMMARY**\n",
    "* The *RainToday* attribute denotes whether it rained today or not. The values are categorical and could either **Yes** or **No**.\n",
    "* There are no missing values in this dataset.\n",
    "* The **No** value occurs $4$x more than the **Yes** value."
   ]
  },
  {
   "cell_type": "markdown",
   "id": "26f719e8",
   "metadata": {
    "papermill": {
     "duration": 0.049494,
     "end_time": "2022-12-31T11:42:05.179909",
     "exception": false,
     "start_time": "2022-12-31T11:42:05.130415",
     "status": "completed"
    },
    "tags": []
   },
   "source": [
    "The *RainToday* is a categorical attribute indicating whether it rained today or not. It could be **Yes** or **No**."
   ]
  },
  {
   "cell_type": "code",
   "execution_count": 82,
   "id": "082d6c31",
   "metadata": {
    "_kg_hide-input": true,
    "execution": {
     "iopub.execute_input": "2022-12-31T11:42:05.280857Z",
     "iopub.status.busy": "2022-12-31T11:42:05.279612Z",
     "iopub.status.idle": "2022-12-31T11:42:05.291022Z",
     "shell.execute_reply": "2022-12-31T11:42:05.289966Z"
    },
    "papermill": {
     "duration": 0.063933,
     "end_time": "2022-12-31T11:42:05.293094",
     "exception": false,
     "start_time": "2022-12-31T11:42:05.229161",
     "status": "completed"
    },
    "tags": []
   },
   "outputs": [
    {
     "data": {
      "text/html": [
       "<div>\n",
       "<style scoped>\n",
       "    .dataframe tbody tr th:only-of-type {\n",
       "        vertical-align: middle;\n",
       "    }\n",
       "\n",
       "    .dataframe tbody tr th {\n",
       "        vertical-align: top;\n",
       "    }\n",
       "\n",
       "    .dataframe thead th {\n",
       "        text-align: right;\n",
       "    }\n",
       "</style>\n",
       "<table border=\"1\" class=\"dataframe\">\n",
       "  <thead>\n",
       "    <tr style=\"text-align: right;\">\n",
       "      <th></th>\n",
       "      <th>RainToday</th>\n",
       "    </tr>\n",
       "  </thead>\n",
       "  <tbody>\n",
       "    <tr>\n",
       "      <th>120638</th>\n",
       "      <td>No</td>\n",
       "    </tr>\n",
       "    <tr>\n",
       "      <th>120639</th>\n",
       "      <td>No</td>\n",
       "    </tr>\n",
       "    <tr>\n",
       "      <th>120640</th>\n",
       "      <td>No</td>\n",
       "    </tr>\n",
       "    <tr>\n",
       "      <th>120641</th>\n",
       "      <td>Yes</td>\n",
       "    </tr>\n",
       "    <tr>\n",
       "      <th>120642</th>\n",
       "      <td>Yes</td>\n",
       "    </tr>\n",
       "    <tr>\n",
       "      <th>120643</th>\n",
       "      <td>Yes</td>\n",
       "    </tr>\n",
       "    <tr>\n",
       "      <th>120644</th>\n",
       "      <td>No</td>\n",
       "    </tr>\n",
       "    <tr>\n",
       "      <th>120645</th>\n",
       "      <td>No</td>\n",
       "    </tr>\n",
       "    <tr>\n",
       "      <th>120646</th>\n",
       "      <td>Yes</td>\n",
       "    </tr>\n",
       "    <tr>\n",
       "      <th>120647</th>\n",
       "      <td>Yes</td>\n",
       "    </tr>\n",
       "  </tbody>\n",
       "</table>\n",
       "</div>"
      ],
      "text/plain": [
       "       RainToday\n",
       "120638        No\n",
       "120639        No\n",
       "120640        No\n",
       "120641       Yes\n",
       "120642       Yes\n",
       "120643       Yes\n",
       "120644        No\n",
       "120645        No\n",
       "120646       Yes\n",
       "120647       Yes"
      ]
     },
     "execution_count": 82,
     "metadata": {},
     "output_type": "execute_result"
    }
   ],
   "source": [
    "rain_today_df = df[['RainToday']]\n",
    "rain_today_df.head(10)"
   ]
  },
  {
   "cell_type": "markdown",
   "id": "3c7e1367",
   "metadata": {
    "papermill": {
     "duration": 0.048641,
     "end_time": "2022-12-31T11:42:05.390686",
     "exception": false,
     "start_time": "2022-12-31T11:42:05.342045",
     "status": "completed"
    },
    "tags": []
   },
   "source": [
    "There are no missing values for this attribute."
   ]
  },
  {
   "cell_type": "code",
   "execution_count": 83,
   "id": "153e3572",
   "metadata": {
    "_kg_hide-input": true,
    "execution": {
     "iopub.execute_input": "2022-12-31T11:42:05.491336Z",
     "iopub.status.busy": "2022-12-31T11:42:05.490139Z",
     "iopub.status.idle": "2022-12-31T11:42:05.497380Z",
     "shell.execute_reply": "2022-12-31T11:42:05.496380Z"
    },
    "papermill": {
     "duration": 0.060217,
     "end_time": "2022-12-31T11:42:05.500119",
     "exception": false,
     "start_time": "2022-12-31T11:42:05.439902",
     "status": "completed"
    },
    "tags": []
   },
   "outputs": [
    {
     "name": "stdout",
     "output_type": "stream",
     "text": [
      "RainToday missing values: 0\n"
     ]
    }
   ],
   "source": [
    "missing_rain_today_count = rain_today_df.isna().sum()\n",
    "\n",
    "print(f\"RainToday missing values: {missing_rain_today_count['RainToday']}\")"
   ]
  },
  {
   "cell_type": "markdown",
   "id": "225d3eba",
   "metadata": {
    "papermill": {
     "duration": 0.049293,
     "end_time": "2022-12-31T11:42:05.655311",
     "exception": false,
     "start_time": "2022-12-31T11:42:05.606018",
     "status": "completed"
    },
    "tags": []
   },
   "source": [
    "For this attribute, the **No** values comprise to $80\\%$ - $4$ times as much as the **Yes** values ($20\\%$)."
   ]
  },
  {
   "cell_type": "code",
   "execution_count": 84,
   "id": "65da9003",
   "metadata": {
    "_kg_hide-input": true,
    "execution": {
     "iopub.execute_input": "2022-12-31T11:42:05.756422Z",
     "iopub.status.busy": "2022-12-31T11:42:05.755697Z",
     "iopub.status.idle": "2022-12-31T11:42:06.120654Z",
     "shell.execute_reply": "2022-12-31T11:42:06.119475Z"
    },
    "papermill": {
     "duration": 0.418259,
     "end_time": "2022-12-31T11:42:06.123076",
     "exception": false,
     "start_time": "2022-12-31T11:42:05.704817",
     "status": "completed"
    },
    "tags": []
   },
   "outputs": [
    {
     "data": {
      "image/png": "[encoded data removed]",
      "text/plain": [
       "<Figure size 1080x432 with 1 Axes>"
      ]
     },
     "metadata": {
      "needs_background": "light"
     },
     "output_type": "display_data"
    }
   ],
   "source": [
    "plt.figure(figsize=(15, 6))\n",
    "\n",
    "rain_today_count = rain_today_df.value_counts()\n",
    "rain_today_count_perc = rain_today_count / len(rain_today_df)\n",
    "\n",
    "plt.title(\"Rain Today\", fontweight=\"bold\", fontsize=15)\n",
    "plt.bar(f\"Yes {rain_today_count['Yes']} ({rain_today_count_perc['Yes']*100:.2f}%)\", rain_today_count[\"Yes\"], color=\"blue\")\n",
    "plt.bar(f\"No {rain_today_count['No']} ( ({rain_today_count_perc['No']*100:.2f}%))\", rain_today_count[\"No\"], color=\"red\")\n",
    "plt.show()"
   ]
  },
  {
   "cell_type": "markdown",
   "id": "125e33cf",
   "metadata": {
    "papermill": {
     "duration": 0.049222,
     "end_time": "2022-12-31T11:42:06.223179",
     "exception": false,
     "start_time": "2022-12-31T11:42:06.173957",
     "status": "completed"
    },
    "tags": []
   },
   "source": [
    "---------------------------------------------------------------------------------------"
   ]
  },
  {
   "cell_type": "markdown",
   "id": "037f0caa",
   "metadata": {
    "papermill": {
     "duration": 0.048949,
     "end_time": "2022-12-31T11:42:06.322084",
     "exception": false,
     "start_time": "2022-12-31T11:42:06.273135",
     "status": "completed"
    },
    "tags": []
   },
   "source": [
    "# Bivariate Analysis"
   ]
  },
  {
   "cell_type": "code",
   "execution_count": 85,
   "id": "f8ea94c9",
   "metadata": {
    "execution": {
     "iopub.execute_input": "2022-12-31T11:42:06.422229Z",
     "iopub.status.busy": "2022-12-31T11:42:06.421219Z",
     "iopub.status.idle": "2022-12-31T11:42:06.681271Z",
     "shell.execute_reply": "2022-12-31T11:42:06.680208Z"
    },
    "papermill": {
     "duration": 0.312439,
     "end_time": "2022-12-31T11:42:06.683566",
     "exception": false,
     "start_time": "2022-12-31T11:42:06.371127",
     "status": "completed"
    },
    "tags": []
   },
   "outputs": [
    {
     "data": {
      "image/png": "[encoded data removed]",
      "text/plain": [
       "<Figure size 432x288 with 1 Axes>"
      ]
     },
     "metadata": {
      "needs_background": "light"
     },
     "output_type": "display_data"
    }
   ],
   "source": [
    "sns.kdeplot(df['MaxTemp'][df['RainTomorrow'] == 'Yes'], color='red', label='Yes')\n",
    "sns.kdeplot(df['MaxTemp'][df['RainTomorrow'] == 'No'], color='blue', label='No')\n",
    "plt.legend()\n",
    "plt.show()"
   ]
  },
  {
   "cell_type": "code",
   "execution_count": 86,
   "id": "ed5cfdaf",
   "metadata": {
    "execution": {
     "iopub.execute_input": "2022-12-31T11:42:06.784055Z",
     "iopub.status.busy": "2022-12-31T11:42:06.783625Z",
     "iopub.status.idle": "2022-12-31T11:42:07.083478Z",
     "shell.execute_reply": "2022-12-31T11:42:07.082586Z"
    },
    "papermill": {
     "duration": 0.352662,
     "end_time": "2022-12-31T11:42:07.086007",
     "exception": false,
     "start_time": "2022-12-31T11:42:06.733345",
     "status": "completed"
    },
    "tags": []
   },
   "outputs": [
    {
     "data": {
      "text/plain": [
       "<AxesSubplot:xlabel='MaxTemp', ylabel='Density'>"
      ]
     },
     "execution_count": 86,
     "metadata": {},
     "output_type": "execute_result"
    },
    {
     "data": {
      "image/png": "[encoded data removed]",
      "text/plain": [
       "<Figure size 432x288 with 1 Axes>"
      ]
     },
     "metadata": {
      "needs_background": "light"
     },
     "output_type": "display_data"
    }
   ],
   "source": [
    "sns.kdeplot(data=df, x='MaxTemp', hue='RainTomorrow', common_norm=False)"
   ]
  },
  {
   "cell_type": "code",
   "execution_count": 87,
   "id": "a8716644",
   "metadata": {
    "execution": {
     "iopub.execute_input": "2022-12-31T11:42:07.192509Z",
     "iopub.status.busy": "2022-12-31T11:42:07.191907Z",
     "iopub.status.idle": "2022-12-31T11:42:07.796459Z",
     "shell.execute_reply": "2022-12-31T11:42:07.795347Z"
    },
    "papermill": {
     "duration": 0.661907,
     "end_time": "2022-12-31T11:42:07.799004",
     "exception": false,
     "start_time": "2022-12-31T11:42:07.137097",
     "status": "completed"
    },
    "tags": []
   },
   "outputs": [
    {
     "data": {
      "text/plain": [
       "<seaborn.axisgrid.FacetGrid at 0x7f884f53b550>"
      ]
     },
     "execution_count": 87,
     "metadata": {},
     "output_type": "execute_result"
    },
    {
     "data": {
      "image/png": "[encoded data removed]",
      "text/plain": [
       "<Figure size 437.875x360 with 1 Axes>"
      ]
     },
     "metadata": {
      "needs_background": "light"
     },
     "output_type": "display_data"
    }
   ],
   "source": [
    "sns.displot(df, x='MaxTemp', hue='RainTomorrow', stat='density', common_norm=False)"
   ]
  },
  {
   "cell_type": "code",
   "execution_count": 88,
   "id": "19d330e2",
   "metadata": {
    "execution": {
     "iopub.execute_input": "2022-12-31T11:42:07.905936Z",
     "iopub.status.busy": "2022-12-31T11:42:07.905214Z",
     "iopub.status.idle": "2022-12-31T11:42:07.912619Z",
     "shell.execute_reply": "2022-12-31T11:42:07.911778Z"
    },
    "papermill": {
     "duration": 0.063552,
     "end_time": "2022-12-31T11:42:07.914790",
     "exception": false,
     "start_time": "2022-12-31T11:42:07.851238",
     "status": "completed"
    },
    "tags": []
   },
   "outputs": [],
   "source": [
    "df_corr = df.corr()"
   ]
  },
  {
   "cell_type": "code",
   "execution_count": 89,
   "id": "e1e42b46",
   "metadata": {
    "execution": {
     "iopub.execute_input": "2022-12-31T11:42:08.021431Z",
     "iopub.status.busy": "2022-12-31T11:42:08.020645Z",
     "iopub.status.idle": "2022-12-31T11:42:09.367698Z",
     "shell.execute_reply": "2022-12-31T11:42:09.366563Z"
    },
    "papermill": {
     "duration": 1.404036,
     "end_time": "2022-12-31T11:42:09.371653",
     "exception": false,
     "start_time": "2022-12-31T11:42:07.967617",
     "status": "completed"
    },
    "tags": []
   },
   "outputs": [
    {
     "data": {
      "image/png": "[encoded data removed]",
      "text/plain": [
       "<Figure size 1440x720 with 2 Axes>"
      ]
     },
     "metadata": {
      "needs_background": "light"
     },
     "output_type": "display_data"
    }
   ],
   "source": [
    "plt.figure(figsize=(20, 10))\n",
    "sns.heatmap(df_corr, annot=True, cmap=\"seismic\", vmin=-1.0, vmax=1.0)\n",
    "plt.show()"
   ]
  },
  {
   "cell_type": "code",
   "execution_count": 90,
   "id": "519f844a",
   "metadata": {
    "execution": {
     "iopub.execute_input": "2022-12-31T11:42:09.482276Z",
     "iopub.status.busy": "2022-12-31T11:42:09.481845Z",
     "iopub.status.idle": "2022-12-31T11:42:09.486580Z",
     "shell.execute_reply": "2022-12-31T11:42:09.485467Z"
    },
    "papermill": {
     "duration": 0.062525,
     "end_time": "2022-12-31T11:42:09.488685",
     "exception": false,
     "start_time": "2022-12-31T11:42:09.426160",
     "status": "completed"
    },
    "tags": []
   },
   "outputs": [],
   "source": [
    "# sns.pairplot(df, hue='RainTomorrow')"
   ]
  },
  {
   "cell_type": "code",
   "execution_count": 91,
   "id": "9b87449c",
   "metadata": {
    "execution": {
     "iopub.execute_input": "2022-12-31T11:42:09.600337Z",
     "iopub.status.busy": "2022-12-31T11:42:09.599719Z",
     "iopub.status.idle": "2022-12-31T11:42:09.605690Z",
     "shell.execute_reply": "2022-12-31T11:42:09.604590Z"
    },
    "papermill": {
     "duration": 0.065314,
     "end_time": "2022-12-31T11:42:09.607911",
     "exception": false,
     "start_time": "2022-12-31T11:42:09.542597",
     "status": "completed"
    },
    "tags": []
   },
   "outputs": [
    {
     "data": {
      "text/plain": [
       "Index(['Date', 'Location', 'MinTemp', 'MaxTemp', 'Rainfall', 'Evaporation',\n",
       "       'Sunshine', 'WindGustDir', 'WindGustSpeed', 'WindDir9am', 'WindDir3pm',\n",
       "       'WindSpeed9am', 'WindSpeed3pm', 'Humidity9am', 'Humidity3pm',\n",
       "       'Pressure9am', 'Pressure3pm', 'Cloud9am', 'Cloud3pm', 'Temp9am',\n",
       "       'Temp3pm', 'RainToday', 'RainTomorrow'],\n",
       "      dtype='object')"
      ]
     },
     "execution_count": 91,
     "metadata": {},
     "output_type": "execute_result"
    }
   ],
   "source": [
    "df.columns"
   ]
  },
  {
   "cell_type": "code",
   "execution_count": 92,
   "id": "de851606",
   "metadata": {
    "execution": {
     "iopub.execute_input": "2022-12-31T11:42:09.717494Z",
     "iopub.status.busy": "2022-12-31T11:42:09.717086Z",
     "iopub.status.idle": "2022-12-31T11:42:09.721621Z",
     "shell.execute_reply": "2022-12-31T11:42:09.720447Z"
    },
    "papermill": {
     "duration": 0.062141,
     "end_time": "2022-12-31T11:42:09.723992",
     "exception": false,
     "start_time": "2022-12-31T11:42:09.661851",
     "status": "completed"
    },
    "tags": []
   },
   "outputs": [],
   "source": [
    "# x = df[['MaxTemp', 'MinTemp', 'Cloud9am', 'Cloud3pm', 'Temp9am', 'Temp3pm', 'RainTomorrow']]\n",
    "# g = sns.PairGrid(x, diag_sharey=False)\n",
    "# g.map_diag(sns.kdeplot, lw=2)\n",
    "# g.map_upper(sns.scatterplot, s=15)\n",
    "# g.map_lower(sns.kdeplot)\n",
    "# plt.show()"
   ]
  },
  {
   "cell_type": "code",
   "execution_count": null,
   "id": "847121eb",
   "metadata": {
    "papermill": {
     "duration": 0.053886,
     "end_time": "2022-12-31T11:42:09.831667",
     "exception": false,
     "start_time": "2022-12-31T11:42:09.777781",
     "status": "completed"
    },
    "tags": []
   },
   "outputs": [],
   "source": []
  }
 ],
 "metadata": {
  "kernelspec": {
   "display_name": "Python 3",
   "language": "python",
   "name": "python3"
  },
  "language_info": {
   "codemirror_mode": {
    "name": "ipython",
    "version": 3
   },
   "file_extension": ".py",
   "mimetype": "text/x-python",
   "name": "python",
   "nbconvert_exporter": "python",
   "pygments_lexer": "ipython3",
   "version": "3.7.12"
  },
  "papermill": {
   "default_parameters": {},
   "duration": 36.894519,
   "end_time": "2022-12-31T11:42:10.707894",
   "environment_variables": {},
   "exception": null,
   "input_path": "__notebook__.ipynb",
   "output_path": "__notebook__.ipynb",
   "parameters": {},
   "start_time": "2022-12-31T11:41:33.813375",
   "version": "2.3.4"
  }
 },
 "nbformat": 4,
 "nbformat_minor": 5
}
