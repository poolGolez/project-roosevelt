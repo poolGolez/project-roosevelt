{
 "cells": [
  {
   "cell_type": "markdown",
   "id": "50dd5a6a",
   "metadata": {
    "papermill": {
     "duration": 0.024096,
     "end_time": "2022-12-26T08:18:41.447420",
     "exception": false,
     "start_time": "2022-12-26T08:18:41.423324",
     "status": "completed"
    },
    "tags": []
   },
   "source": [
    "# 1. Data Ingestion"
   ]
  },
  {
   "cell_type": "markdown",
   "id": "1fc3f2c8",
   "metadata": {
    "papermill": {
     "duration": 0.020192,
     "end_time": "2022-12-26T08:18:41.488409",
     "exception": false,
     "start_time": "2022-12-26T08:18:41.468217",
     "status": "completed"
    },
    "tags": []
   },
   "source": [
    "We load the additional libraries needed in this notebook:\n",
    "* `seaborn`\n",
    "* `matplotlib.pyplot`\n",
    "* `scipy`"
   ]
  },
  {
   "cell_type": "code",
   "execution_count": 1,
   "id": "7d96623c",
   "metadata": {
    "execution": {
     "iopub.execute_input": "2022-12-26T08:18:41.531674Z",
     "iopub.status.busy": "2022-12-26T08:18:41.530558Z",
     "iopub.status.idle": "2022-12-26T08:18:42.487436Z",
     "shell.execute_reply": "2022-12-26T08:18:42.486251Z"
    },
    "papermill": {
     "duration": 0.981614,
     "end_time": "2022-12-26T08:18:42.490279",
     "exception": false,
     "start_time": "2022-12-26T08:18:41.508665",
     "status": "completed"
    },
    "tags": []
   },
   "outputs": [],
   "source": [
    "import seaborn as sns\n",
    "import matplotlib.pyplot as plt\n",
    "from scipy import stats"
   ]
  },
  {
   "cell_type": "code",
   "execution_count": 2,
   "id": "61f47d28",
   "metadata": {
    "_cell_guid": "b1076dfc-b9ad-4769-8c92-a6c4dae69d19",
    "_kg_hide-input": true,
    "_kg_hide-output": true,
    "_uuid": "8f2839f25d086af736a60e9eeb907d3b93b6e0e5",
    "execution": {
     "iopub.execute_input": "2022-12-26T08:18:42.533452Z",
     "iopub.status.busy": "2022-12-26T08:18:42.533093Z",
     "iopub.status.idle": "2022-12-26T08:18:42.557731Z",
     "shell.execute_reply": "2022-12-26T08:18:42.557000Z"
    },
    "papermill": {
     "duration": 0.048497,
     "end_time": "2022-12-26T08:18:42.559708",
     "exception": false,
     "start_time": "2022-12-26T08:18:42.511211",
     "status": "completed"
    },
    "tags": []
   },
   "outputs": [
    {
     "name": "stdout",
     "output_type": "stream",
     "text": [
      "/kaggle/input/weather-dataset-rattle-package/weatherAUS.csv\n"
     ]
    }
   ],
   "source": [
    "# This Python 3 environment comes with many helpful analytics libraries installed\n",
    "# It is defined by the kaggle/python Docker image: https://github.com/kaggle/docker-python\n",
    "# For example, here's several helpful packages to load\n",
    "\n",
    "import numpy as np # linear algebra\n",
    "import pandas as pd # data processing, CSV file I/O (e.g. pd.read_csv)\n",
    "\n",
    "# Input data files are available in the read-only \"../input/\" directory\n",
    "# For example, running this (by clicking run or pressing Shift+Enter) will list all files under the input directory\n",
    "\n",
    "import os\n",
    "for dirname, _, filenames in os.walk('/kaggle/input'):\n",
    "    for filename in filenames:\n",
    "        print(os.path.join(dirname, filename))\n",
    "\n",
    "# You can write up to 20GB to the current directory (/kaggle/working/) that gets preserved as output when you create a version using \"Save & Run All\" \n",
    "# You can also write temporary files to /kaggle/temp/, but they won't be saved outside of the current session"
   ]
  },
  {
   "cell_type": "markdown",
   "id": "ee9278a3",
   "metadata": {
    "papermill": {
     "duration": 0.020116,
     "end_time": "2022-12-26T08:18:42.600267",
     "exception": false,
     "start_time": "2022-12-26T08:18:42.580151",
     "status": "completed"
    },
    "tags": []
   },
   "source": [
    "We will be only using the data for **Perth** location and  so we filter the dataset accordingly:"
   ]
  },
  {
   "cell_type": "code",
   "execution_count": 3,
   "id": "5ce2882a",
   "metadata": {
    "_kg_hide-input": false,
    "_kg_hide-output": true,
    "execution": {
     "iopub.execute_input": "2022-12-26T08:18:42.642963Z",
     "iopub.status.busy": "2022-12-26T08:18:42.642340Z",
     "iopub.status.idle": "2022-12-26T08:18:43.118180Z",
     "shell.execute_reply": "2022-12-26T08:18:43.116669Z"
    },
    "papermill": {
     "duration": 0.500036,
     "end_time": "2022-12-26T08:18:43.120629",
     "exception": false,
     "start_time": "2022-12-26T08:18:42.620593",
     "status": "completed"
    },
    "tags": []
   },
   "outputs": [
    {
     "data": {
      "text/html": [
       "<div>\n",
       "<style scoped>\n",
       "    .dataframe tbody tr th:only-of-type {\n",
       "        vertical-align: middle;\n",
       "    }\n",
       "\n",
       "    .dataframe tbody tr th {\n",
       "        vertical-align: top;\n",
       "    }\n",
       "\n",
       "    .dataframe thead th {\n",
       "        text-align: right;\n",
       "    }\n",
       "</style>\n",
       "<table border=\"1\" class=\"dataframe\">\n",
       "  <thead>\n",
       "    <tr style=\"text-align: right;\">\n",
       "      <th></th>\n",
       "      <th>Date</th>\n",
       "      <th>Location</th>\n",
       "      <th>MinTemp</th>\n",
       "      <th>MaxTemp</th>\n",
       "      <th>Rainfall</th>\n",
       "      <th>Evaporation</th>\n",
       "      <th>Sunshine</th>\n",
       "      <th>WindGustDir</th>\n",
       "      <th>WindGustSpeed</th>\n",
       "      <th>WindDir9am</th>\n",
       "      <th>...</th>\n",
       "      <th>Humidity9am</th>\n",
       "      <th>Humidity3pm</th>\n",
       "      <th>Pressure9am</th>\n",
       "      <th>Pressure3pm</th>\n",
       "      <th>Cloud9am</th>\n",
       "      <th>Cloud3pm</th>\n",
       "      <th>Temp9am</th>\n",
       "      <th>Temp3pm</th>\n",
       "      <th>RainToday</th>\n",
       "      <th>RainTomorrow</th>\n",
       "    </tr>\n",
       "  </thead>\n",
       "  <tbody>\n",
       "    <tr>\n",
       "      <th>120638</th>\n",
       "      <td>2008-07-01</td>\n",
       "      <td>Perth</td>\n",
       "      <td>2.7</td>\n",
       "      <td>18.8</td>\n",
       "      <td>0.0</td>\n",
       "      <td>0.8</td>\n",
       "      <td>9.1</td>\n",
       "      <td>ENE</td>\n",
       "      <td>20.0</td>\n",
       "      <td>NaN</td>\n",
       "      <td>...</td>\n",
       "      <td>97.0</td>\n",
       "      <td>53.0</td>\n",
       "      <td>1027.6</td>\n",
       "      <td>1024.5</td>\n",
       "      <td>2.0</td>\n",
       "      <td>3.0</td>\n",
       "      <td>8.5</td>\n",
       "      <td>18.1</td>\n",
       "      <td>No</td>\n",
       "      <td>No</td>\n",
       "    </tr>\n",
       "    <tr>\n",
       "      <th>120639</th>\n",
       "      <td>2008-07-02</td>\n",
       "      <td>Perth</td>\n",
       "      <td>6.4</td>\n",
       "      <td>20.7</td>\n",
       "      <td>0.0</td>\n",
       "      <td>1.8</td>\n",
       "      <td>7.0</td>\n",
       "      <td>NE</td>\n",
       "      <td>22.0</td>\n",
       "      <td>ESE</td>\n",
       "      <td>...</td>\n",
       "      <td>80.0</td>\n",
       "      <td>39.0</td>\n",
       "      <td>1024.1</td>\n",
       "      <td>1019.0</td>\n",
       "      <td>0.0</td>\n",
       "      <td>6.0</td>\n",
       "      <td>11.1</td>\n",
       "      <td>19.7</td>\n",
       "      <td>No</td>\n",
       "      <td>No</td>\n",
       "    </tr>\n",
       "    <tr>\n",
       "      <th>120640</th>\n",
       "      <td>2008-07-03</td>\n",
       "      <td>Perth</td>\n",
       "      <td>6.5</td>\n",
       "      <td>19.9</td>\n",
       "      <td>0.4</td>\n",
       "      <td>2.2</td>\n",
       "      <td>7.3</td>\n",
       "      <td>NE</td>\n",
       "      <td>31.0</td>\n",
       "      <td>NaN</td>\n",
       "      <td>...</td>\n",
       "      <td>84.0</td>\n",
       "      <td>71.0</td>\n",
       "      <td>1016.8</td>\n",
       "      <td>1015.6</td>\n",
       "      <td>1.0</td>\n",
       "      <td>3.0</td>\n",
       "      <td>12.1</td>\n",
       "      <td>17.7</td>\n",
       "      <td>No</td>\n",
       "      <td>Yes</td>\n",
       "    </tr>\n",
       "    <tr>\n",
       "      <th>120641</th>\n",
       "      <td>2008-07-04</td>\n",
       "      <td>Perth</td>\n",
       "      <td>9.5</td>\n",
       "      <td>19.2</td>\n",
       "      <td>1.8</td>\n",
       "      <td>1.2</td>\n",
       "      <td>4.7</td>\n",
       "      <td>W</td>\n",
       "      <td>26.0</td>\n",
       "      <td>NNE</td>\n",
       "      <td>...</td>\n",
       "      <td>93.0</td>\n",
       "      <td>73.0</td>\n",
       "      <td>1019.3</td>\n",
       "      <td>1018.4</td>\n",
       "      <td>6.0</td>\n",
       "      <td>6.0</td>\n",
       "      <td>13.2</td>\n",
       "      <td>17.7</td>\n",
       "      <td>Yes</td>\n",
       "      <td>Yes</td>\n",
       "    </tr>\n",
       "    <tr>\n",
       "      <th>120642</th>\n",
       "      <td>2008-07-05</td>\n",
       "      <td>Perth</td>\n",
       "      <td>9.5</td>\n",
       "      <td>16.4</td>\n",
       "      <td>1.8</td>\n",
       "      <td>1.4</td>\n",
       "      <td>4.9</td>\n",
       "      <td>WSW</td>\n",
       "      <td>44.0</td>\n",
       "      <td>W</td>\n",
       "      <td>...</td>\n",
       "      <td>69.0</td>\n",
       "      <td>57.0</td>\n",
       "      <td>1020.4</td>\n",
       "      <td>1022.1</td>\n",
       "      <td>7.0</td>\n",
       "      <td>5.0</td>\n",
       "      <td>15.9</td>\n",
       "      <td>16.0</td>\n",
       "      <td>Yes</td>\n",
       "      <td>Yes</td>\n",
       "    </tr>\n",
       "    <tr>\n",
       "      <th>120643</th>\n",
       "      <td>2008-07-06</td>\n",
       "      <td>Perth</td>\n",
       "      <td>0.7</td>\n",
       "      <td>15.9</td>\n",
       "      <td>6.8</td>\n",
       "      <td>2.4</td>\n",
       "      <td>9.3</td>\n",
       "      <td>NNE</td>\n",
       "      <td>24.0</td>\n",
       "      <td>ENE</td>\n",
       "      <td>...</td>\n",
       "      <td>86.0</td>\n",
       "      <td>41.0</td>\n",
       "      <td>1032.0</td>\n",
       "      <td>1029.6</td>\n",
       "      <td>0.0</td>\n",
       "      <td>1.0</td>\n",
       "      <td>6.9</td>\n",
       "      <td>15.5</td>\n",
       "      <td>Yes</td>\n",
       "      <td>No</td>\n",
       "    </tr>\n",
       "    <tr>\n",
       "      <th>120644</th>\n",
       "      <td>2008-07-07</td>\n",
       "      <td>Perth</td>\n",
       "      <td>0.7</td>\n",
       "      <td>18.3</td>\n",
       "      <td>0.0</td>\n",
       "      <td>0.8</td>\n",
       "      <td>9.3</td>\n",
       "      <td>N</td>\n",
       "      <td>37.0</td>\n",
       "      <td>NE</td>\n",
       "      <td>...</td>\n",
       "      <td>72.0</td>\n",
       "      <td>36.0</td>\n",
       "      <td>1028.9</td>\n",
       "      <td>1024.2</td>\n",
       "      <td>1.0</td>\n",
       "      <td>5.0</td>\n",
       "      <td>8.7</td>\n",
       "      <td>17.9</td>\n",
       "      <td>No</td>\n",
       "      <td>No</td>\n",
       "    </tr>\n",
       "    <tr>\n",
       "      <th>120645</th>\n",
       "      <td>2008-07-08</td>\n",
       "      <td>Perth</td>\n",
       "      <td>3.2</td>\n",
       "      <td>20.4</td>\n",
       "      <td>0.0</td>\n",
       "      <td>1.4</td>\n",
       "      <td>6.9</td>\n",
       "      <td>NNW</td>\n",
       "      <td>24.0</td>\n",
       "      <td>NE</td>\n",
       "      <td>...</td>\n",
       "      <td>58.0</td>\n",
       "      <td>42.0</td>\n",
       "      <td>1023.9</td>\n",
       "      <td>1021.1</td>\n",
       "      <td>6.0</td>\n",
       "      <td>5.0</td>\n",
       "      <td>10.2</td>\n",
       "      <td>19.3</td>\n",
       "      <td>No</td>\n",
       "      <td>Yes</td>\n",
       "    </tr>\n",
       "    <tr>\n",
       "      <th>120646</th>\n",
       "      <td>2008-07-09</td>\n",
       "      <td>Perth</td>\n",
       "      <td>9.8</td>\n",
       "      <td>19.5</td>\n",
       "      <td>8.0</td>\n",
       "      <td>1.2</td>\n",
       "      <td>2.5</td>\n",
       "      <td>ESE</td>\n",
       "      <td>31.0</td>\n",
       "      <td>NaN</td>\n",
       "      <td>...</td>\n",
       "      <td>97.0</td>\n",
       "      <td>64.0</td>\n",
       "      <td>1026.4</td>\n",
       "      <td>1024.9</td>\n",
       "      <td>7.0</td>\n",
       "      <td>6.0</td>\n",
       "      <td>12.1</td>\n",
       "      <td>18.7</td>\n",
       "      <td>Yes</td>\n",
       "      <td>Yes</td>\n",
       "    </tr>\n",
       "    <tr>\n",
       "      <th>120647</th>\n",
       "      <td>2008-07-10</td>\n",
       "      <td>Perth</td>\n",
       "      <td>11.2</td>\n",
       "      <td>20.4</td>\n",
       "      <td>4.6</td>\n",
       "      <td>2.8</td>\n",
       "      <td>1.7</td>\n",
       "      <td>NNW</td>\n",
       "      <td>46.0</td>\n",
       "      <td>NE</td>\n",
       "      <td>...</td>\n",
       "      <td>79.0</td>\n",
       "      <td>50.0</td>\n",
       "      <td>1020.2</td>\n",
       "      <td>1014.0</td>\n",
       "      <td>7.0</td>\n",
       "      <td>7.0</td>\n",
       "      <td>13.4</td>\n",
       "      <td>19.0</td>\n",
       "      <td>Yes</td>\n",
       "      <td>Yes</td>\n",
       "    </tr>\n",
       "  </tbody>\n",
       "</table>\n",
       "<p>10 rows × 23 columns</p>\n",
       "</div>"
      ],
      "text/plain": [
       "              Date Location  MinTemp  MaxTemp  Rainfall  Evaporation  \\\n",
       "120638  2008-07-01    Perth      2.7     18.8       0.0          0.8   \n",
       "120639  2008-07-02    Perth      6.4     20.7       0.0          1.8   \n",
       "120640  2008-07-03    Perth      6.5     19.9       0.4          2.2   \n",
       "120641  2008-07-04    Perth      9.5     19.2       1.8          1.2   \n",
       "120642  2008-07-05    Perth      9.5     16.4       1.8          1.4   \n",
       "120643  2008-07-06    Perth      0.7     15.9       6.8          2.4   \n",
       "120644  2008-07-07    Perth      0.7     18.3       0.0          0.8   \n",
       "120645  2008-07-08    Perth      3.2     20.4       0.0          1.4   \n",
       "120646  2008-07-09    Perth      9.8     19.5       8.0          1.2   \n",
       "120647  2008-07-10    Perth     11.2     20.4       4.6          2.8   \n",
       "\n",
       "        Sunshine WindGustDir  WindGustSpeed WindDir9am  ... Humidity9am  \\\n",
       "120638       9.1         ENE           20.0        NaN  ...        97.0   \n",
       "120639       7.0          NE           22.0        ESE  ...        80.0   \n",
       "120640       7.3          NE           31.0        NaN  ...        84.0   \n",
       "120641       4.7           W           26.0        NNE  ...        93.0   \n",
       "120642       4.9         WSW           44.0          W  ...        69.0   \n",
       "120643       9.3         NNE           24.0        ENE  ...        86.0   \n",
       "120644       9.3           N           37.0         NE  ...        72.0   \n",
       "120645       6.9         NNW           24.0         NE  ...        58.0   \n",
       "120646       2.5         ESE           31.0        NaN  ...        97.0   \n",
       "120647       1.7         NNW           46.0         NE  ...        79.0   \n",
       "\n",
       "        Humidity3pm  Pressure9am  Pressure3pm  Cloud9am  Cloud3pm  Temp9am  \\\n",
       "120638         53.0       1027.6       1024.5       2.0       3.0      8.5   \n",
       "120639         39.0       1024.1       1019.0       0.0       6.0     11.1   \n",
       "120640         71.0       1016.8       1015.6       1.0       3.0     12.1   \n",
       "120641         73.0       1019.3       1018.4       6.0       6.0     13.2   \n",
       "120642         57.0       1020.4       1022.1       7.0       5.0     15.9   \n",
       "120643         41.0       1032.0       1029.6       0.0       1.0      6.9   \n",
       "120644         36.0       1028.9       1024.2       1.0       5.0      8.7   \n",
       "120645         42.0       1023.9       1021.1       6.0       5.0     10.2   \n",
       "120646         64.0       1026.4       1024.9       7.0       6.0     12.1   \n",
       "120647         50.0       1020.2       1014.0       7.0       7.0     13.4   \n",
       "\n",
       "        Temp3pm  RainToday  RainTomorrow  \n",
       "120638     18.1         No            No  \n",
       "120639     19.7         No            No  \n",
       "120640     17.7         No           Yes  \n",
       "120641     17.7        Yes           Yes  \n",
       "120642     16.0        Yes           Yes  \n",
       "120643     15.5        Yes            No  \n",
       "120644     17.9         No            No  \n",
       "120645     19.3         No           Yes  \n",
       "120646     18.7        Yes           Yes  \n",
       "120647     19.0        Yes           Yes  \n",
       "\n",
       "[10 rows x 23 columns]"
      ]
     },
     "execution_count": 3,
     "metadata": {},
     "output_type": "execute_result"
    }
   ],
   "source": [
    "all_df = pd.read_csv(\"/kaggle/input/weather-dataset-rattle-package/weatherAUS.csv\")\n",
    "\n",
    "# Limit the dataset to Perth records\n",
    "df = all_df[all_df[\"Location\"] == \"Perth\"]\n",
    "df.head(10)"
   ]
  },
  {
   "cell_type": "markdown",
   "id": "72256c1d",
   "metadata": {
    "papermill": {
     "duration": 0.020258,
     "end_time": "2022-12-26T08:18:43.163481",
     "exception": false,
     "start_time": "2022-12-26T08:18:43.143223",
     "status": "completed"
    },
    "tags": []
   },
   "source": [
    "# 2. Exploratory Data Analysis\n",
    "\n",
    "📙 **SUMMARY**\n",
    "* The dataset contains $3,193$ records and $23$ columns including the target variable.\n",
    "* The features include both numerical and categorical values."
   ]
  },
  {
   "cell_type": "markdown",
   "id": "bb282f0c",
   "metadata": {
    "papermill": {
     "duration": 0.023566,
     "end_time": "2022-12-26T08:18:43.208323",
     "exception": false,
     "start_time": "2022-12-26T08:18:43.184757",
     "status": "completed"
    },
    "tags": []
   },
   "source": [
    "Let's see how many records and columns there are in the dataset."
   ]
  },
  {
   "cell_type": "code",
   "execution_count": 4,
   "id": "409b732c",
   "metadata": {
    "_kg_hide-input": true,
    "execution": {
     "iopub.execute_input": "2022-12-26T08:18:43.257070Z",
     "iopub.status.busy": "2022-12-26T08:18:43.255753Z",
     "iopub.status.idle": "2022-12-26T08:18:43.261640Z",
     "shell.execute_reply": "2022-12-26T08:18:43.260637Z"
    },
    "papermill": {
     "duration": 0.031603,
     "end_time": "2022-12-26T08:18:43.264123",
     "exception": false,
     "start_time": "2022-12-26T08:18:43.232520",
     "status": "completed"
    },
    "tags": []
   },
   "outputs": [
    {
     "name": "stdout",
     "output_type": "stream",
     "text": [
      "Number of records: 3193\n",
      "Number of columns: 23\n"
     ]
    }
   ],
   "source": [
    "print(f\"Number of records: {df.shape[0]}\")\n",
    "print(f\"Number of columns: {df.shape[1]}\")"
   ]
  },
  {
   "cell_type": "markdown",
   "id": "ab2c0a6d",
   "metadata": {
    "papermill": {
     "duration": 0.020454,
     "end_time": "2022-12-26T08:18:43.305583",
     "exception": false,
     "start_time": "2022-12-26T08:18:43.285129",
     "status": "completed"
    },
    "tags": []
   },
   "source": [
    "What are the columns and their properties?"
   ]
  },
  {
   "cell_type": "code",
   "execution_count": 5,
   "id": "7bccc250",
   "metadata": {
    "execution": {
     "iopub.execute_input": "2022-12-26T08:18:43.349475Z",
     "iopub.status.busy": "2022-12-26T08:18:43.348995Z",
     "iopub.status.idle": "2022-12-26T08:18:43.374042Z",
     "shell.execute_reply": "2022-12-26T08:18:43.372870Z"
    },
    "papermill": {
     "duration": 0.050827,
     "end_time": "2022-12-26T08:18:43.377307",
     "exception": false,
     "start_time": "2022-12-26T08:18:43.326480",
     "status": "completed"
    },
    "tags": []
   },
   "outputs": [
    {
     "name": "stdout",
     "output_type": "stream",
     "text": [
      "<class 'pandas.core.frame.DataFrame'>\n",
      "Int64Index: 3193 entries, 120638 to 123830\n",
      "Data columns (total 23 columns):\n",
      " #   Column         Non-Null Count  Dtype  \n",
      "---  ------         --------------  -----  \n",
      " 0   Date           3193 non-null   object \n",
      " 1   Location       3193 non-null   object \n",
      " 2   MinTemp        3193 non-null   float64\n",
      " 3   MaxTemp        3192 non-null   float64\n",
      " 4   Rainfall       3193 non-null   float64\n",
      " 5   Evaporation    3192 non-null   float64\n",
      " 6   Sunshine       3188 non-null   float64\n",
      " 7   WindGustDir    3188 non-null   object \n",
      " 8   WindGustSpeed  3188 non-null   float64\n",
      " 9   WindDir9am     3059 non-null   object \n",
      " 10  WindDir3pm     3186 non-null   object \n",
      " 11  WindSpeed9am   3193 non-null   float64\n",
      " 12  WindSpeed3pm   3192 non-null   float64\n",
      " 13  Humidity9am    3184 non-null   float64\n",
      " 14  Humidity3pm    3185 non-null   float64\n",
      " 15  Pressure9am    3192 non-null   float64\n",
      " 16  Pressure3pm    3192 non-null   float64\n",
      " 17  Cloud9am       3191 non-null   float64\n",
      " 18  Cloud3pm       3189 non-null   float64\n",
      " 19  Temp9am        3193 non-null   float64\n",
      " 20  Temp3pm        3192 non-null   float64\n",
      " 21  RainToday      3193 non-null   object \n",
      " 22  RainTomorrow   3193 non-null   object \n",
      "dtypes: float64(16), object(7)\n",
      "memory usage: 598.7+ KB\n"
     ]
    }
   ],
   "source": [
    "df.info()"
   ]
  },
  {
   "cell_type": "markdown",
   "id": "05c68b52",
   "metadata": {
    "papermill": {
     "duration": 0.026446,
     "end_time": "2022-12-26T08:18:43.428657",
     "exception": false,
     "start_time": "2022-12-26T08:18:43.402211",
     "status": "completed"
    },
    "tags": []
   },
   "source": [
    "🔖 The dataset has $23$ columns including the target variable (*RainTomorrow*):\n",
    "* It consists of both numerical (`float64`) and categorical (`object`) features.\n",
    "* Most of the columns have null values which requires addressing later "
   ]
  },
  {
   "cell_type": "markdown",
   "id": "4eb59d93",
   "metadata": {
    "papermill": {
     "duration": 0.0209,
     "end_time": "2022-12-26T08:18:43.473486",
     "exception": false,
     "start_time": "2022-12-26T08:18:43.452586",
     "status": "completed"
    },
    "tags": []
   },
   "source": [
    "# _2.1 Target Variable: RainTomorrow\n",
    "\n",
    "📙 **SUMMARY**\n",
    "* The target variable has two possible values: **Yes** and **No**.\n",
    "* The dataset is **highly imbalanced**:\n",
    " * **Yes** - $645$ ($20.2\\%$) records\n",
    " * **No** - $2,548$ ($79.8\\%$) records"
   ]
  },
  {
   "cell_type": "markdown",
   "id": "eb24168f",
   "metadata": {
    "papermill": {
     "duration": 0.021057,
     "end_time": "2022-12-26T08:18:43.515736",
     "exception": false,
     "start_time": "2022-12-26T08:18:43.494679",
     "status": "completed"
    },
    "tags": []
   },
   "source": [
    "Let's have a sneak peek ofthe target variable, *RainTomorrow*."
   ]
  },
  {
   "cell_type": "code",
   "execution_count": 6,
   "id": "af6b0073",
   "metadata": {
    "execution": {
     "iopub.execute_input": "2022-12-26T08:18:43.560666Z",
     "iopub.status.busy": "2022-12-26T08:18:43.560224Z",
     "iopub.status.idle": "2022-12-26T08:18:43.568942Z",
     "shell.execute_reply": "2022-12-26T08:18:43.567593Z"
    },
    "papermill": {
     "duration": 0.034272,
     "end_time": "2022-12-26T08:18:43.570868",
     "exception": false,
     "start_time": "2022-12-26T08:18:43.536596",
     "status": "completed"
    },
    "tags": []
   },
   "outputs": [
    {
     "data": {
      "text/plain": [
       "120638     No\n",
       "120639     No\n",
       "120640    Yes\n",
       "120641    Yes\n",
       "120642    Yes\n",
       "120643     No\n",
       "120644     No\n",
       "120645    Yes\n",
       "120646    Yes\n",
       "120647    Yes\n",
       "120648    Yes\n",
       "120649     No\n",
       "120650     No\n",
       "120651     No\n",
       "120652    Yes\n",
       "Name: RainTomorrow, dtype: object"
      ]
     },
     "execution_count": 6,
     "metadata": {},
     "output_type": "execute_result"
    }
   ],
   "source": [
    "target = df['RainTomorrow']\n",
    "target.head(15)"
   ]
  },
  {
   "cell_type": "markdown",
   "id": "a6fefb13",
   "metadata": {
    "papermill": {
     "duration": 0.021288,
     "end_time": "2022-12-26T08:18:43.614353",
     "exception": false,
     "start_time": "2022-12-26T08:18:43.593065",
     "status": "completed"
    },
    "tags": []
   },
   "source": [
    "The target, *RainTomorrow*, is a categorical variable of either **Yes** or **No**."
   ]
  },
  {
   "cell_type": "markdown",
   "id": "786858c3",
   "metadata": {
    "papermill": {
     "duration": 0.020742,
     "end_time": "2022-12-26T08:18:43.657749",
     "exception": false,
     "start_time": "2022-12-26T08:18:43.637007",
     "status": "completed"
    },
    "tags": []
   },
   "source": [
    "Let's count the values for each prediction."
   ]
  },
  {
   "cell_type": "code",
   "execution_count": 7,
   "id": "be87de7a",
   "metadata": {
    "execution": {
     "iopub.execute_input": "2022-12-26T08:18:43.701607Z",
     "iopub.status.busy": "2022-12-26T08:18:43.701213Z",
     "iopub.status.idle": "2022-12-26T08:18:43.708239Z",
     "shell.execute_reply": "2022-12-26T08:18:43.707453Z"
    },
    "papermill": {
     "duration": 0.031465,
     "end_time": "2022-12-26T08:18:43.710397",
     "exception": false,
     "start_time": "2022-12-26T08:18:43.678932",
     "status": "completed"
    },
    "tags": []
   },
   "outputs": [
    {
     "name": "stdout",
     "output_type": "stream",
     "text": [
      "Target (RainTomorrow) Values Count\n",
      " * Yes:\t  645 (20.2%)\n",
      " * No:\t 2548 (79.8%)\n"
     ]
    }
   ],
   "source": [
    "target_count = target.value_counts()\n",
    "\n",
    "yes_percent = float(target_count['Yes'])/len(target) * 100\n",
    "no_percent = float(target_count['No'])/len(target) * 100\n",
    "\n",
    "print('Target (RainTomorrow) Values Count')\n",
    "print(f\" * Yes:\\t{target_count['Yes']:5} ({yes_percent:.1f}%)\")\n",
    "print(f\" * No:\\t{target_count['No']:5} ({(no_percent):.1f}%)\")"
   ]
  },
  {
   "cell_type": "code",
   "execution_count": 8,
   "id": "dd7c0db8",
   "metadata": {
    "execution": {
     "iopub.execute_input": "2022-12-26T08:18:43.754198Z",
     "iopub.status.busy": "2022-12-26T08:18:43.753822Z",
     "iopub.status.idle": "2022-12-26T08:18:43.913918Z",
     "shell.execute_reply": "2022-12-26T08:18:43.912836Z"
    },
    "papermill": {
     "duration": 0.185147,
     "end_time": "2022-12-26T08:18:43.916513",
     "exception": false,
     "start_time": "2022-12-26T08:18:43.731366",
     "status": "completed"
    },
    "tags": []
   },
   "outputs": [
    {
     "data": {
      "image/png": "[encoded data removed]",
      "text/plain": [
       "<Figure size 864x432 with 1 Axes>"
      ]
     },
     "metadata": {
      "needs_background": "light"
     },
     "output_type": "display_data"
    }
   ],
   "source": [
    "plt.figure(figsize=(12,6))\n",
    "plt.title(\"Rain Tomorrow\", fontweight=\"bold\", fontsize=15)\n",
    "plt.bar(f\"Yes ({yes_percent: .1f}%)\", target_count['Yes'], color=\"blue\")\n",
    "plt.bar(f\"No ({no_percent: .1f}%)\", target_count['No'], color=\"red\")\n",
    "plt.ylabel(\"Record count\", fontweight=\"bold\")\n",
    "plt.show()"
   ]
  },
  {
   "cell_type": "markdown",
   "id": "a3ea0943",
   "metadata": {
    "papermill": {
     "duration": 0.020613,
     "end_time": "2022-12-26T08:18:43.958430",
     "exception": false,
     "start_time": "2022-12-26T08:18:43.937817",
     "status": "completed"
    },
    "tags": []
   },
   "source": [
    "🔖 The dataset is highly imbalanced with the **No** prediction being $4$x more than the **Yes** prediction."
   ]
  },
  {
   "cell_type": "markdown",
   "id": "d806768a",
   "metadata": {
    "papermill": {
     "duration": 0.021709,
     "end_time": "2022-12-26T08:18:44.001539",
     "exception": false,
     "start_time": "2022-12-26T08:18:43.979830",
     "status": "completed"
    },
    "tags": []
   },
   "source": [
    "# _2.2 Numerical Features\n",
    "\n",
    "More details regarding the features can be found [on this website](http://www.bom.gov.au/climate/dwo/IDCJDW0000.shtml).\n",
    "\n",
    "📙 **SUMMARY**\n",
    "* *TODO*"
   ]
  },
  {
   "cell_type": "markdown",
   "id": "9c4d374f",
   "metadata": {
    "papermill": {
     "duration": 0.021108,
     "end_time": "2022-12-26T08:18:44.044436",
     "exception": false,
     "start_time": "2022-12-26T08:18:44.023328",
     "status": "completed"
    },
    "tags": []
   },
   "source": [
    "Let's select the numerical columns from the dataset and an overview visualization."
   ]
  },
  {
   "cell_type": "code",
   "execution_count": 9,
   "id": "7954490a",
   "metadata": {
    "execution": {
     "iopub.execute_input": "2022-12-26T08:18:44.090495Z",
     "iopub.status.busy": "2022-12-26T08:18:44.088973Z",
     "iopub.status.idle": "2022-12-26T08:18:44.098170Z",
     "shell.execute_reply": "2022-12-26T08:18:44.097222Z"
    },
    "papermill": {
     "duration": 0.034664,
     "end_time": "2022-12-26T08:18:44.100491",
     "exception": false,
     "start_time": "2022-12-26T08:18:44.065827",
     "status": "completed"
    },
    "tags": []
   },
   "outputs": [
    {
     "data": {
      "text/plain": [
       "Index(['MinTemp', 'MaxTemp', 'Rainfall', 'Evaporation', 'Sunshine',\n",
       "       'WindGustSpeed', 'WindSpeed9am', 'WindSpeed3pm', 'Humidity9am',\n",
       "       'Humidity3pm', 'Pressure9am', 'Pressure3pm', 'Cloud9am', 'Cloud3pm',\n",
       "       'Temp9am', 'Temp3pm'],\n",
       "      dtype='object')"
      ]
     },
     "execution_count": 9,
     "metadata": {},
     "output_type": "execute_result"
    }
   ],
   "source": [
    "num_df = df.select_dtypes(include=[np.float64])\n",
    "num_df.columns"
   ]
  },
  {
   "cell_type": "code",
   "execution_count": 10,
   "id": "997d4145",
   "metadata": {
    "execution": {
     "iopub.execute_input": "2022-12-26T08:18:44.146921Z",
     "iopub.status.busy": "2022-12-26T08:18:44.145579Z",
     "iopub.status.idle": "2022-12-26T08:18:46.106874Z",
     "shell.execute_reply": "2022-12-26T08:18:46.106191Z"
    },
    "papermill": {
     "duration": 1.986028,
     "end_time": "2022-12-26T08:18:46.108710",
     "exception": false,
     "start_time": "2022-12-26T08:18:44.122682",
     "status": "completed"
    },
    "tags": []
   },
   "outputs": [
    {
     "data": {
      "text/plain": [
       "<Figure size 432x288 with 0 Axes>"
      ]
     },
     "execution_count": 10,
     "metadata": {},
     "output_type": "execute_result"
    },
    {
     "data": {
      "image/png": "[encoded data removed]",
      "text/plain": [
       "<Figure size 1440x864 with 16 Axes>"
      ]
     },
     "metadata": {
      "needs_background": "light"
     },
     "output_type": "display_data"
    },
    {
     "data": {
      "text/plain": [
       "<Figure size 432x288 with 0 Axes>"
      ]
     },
     "metadata": {},
     "output_type": "display_data"
    }
   ],
   "source": [
    "num_df.hist(figsize=(20,12))\n",
    "plt.figure()\n",
    "# plt.show()"
   ]
  },
  {
   "cell_type": "markdown",
   "id": "dd7f0985",
   "metadata": {
    "papermill": {
     "duration": 0.021644,
     "end_time": "2022-12-26T08:18:46.152609",
     "exception": false,
     "start_time": "2022-12-26T08:18:46.130965",
     "status": "completed"
    },
    "tags": []
   },
   "source": [
    "The **Cloud-\\*** histogram seems to have a discontinuous distribution to it. Upon perusal [on the guide](http://www.bom.gov.au/climate/dwo/IDCJDW0000.shtml), it seems that this feature is expressed in `eighth` units.\n",
    "\n",
    "Let's revisualize this histogram, splitting it to $8$ bins this time."
   ]
  },
  {
   "cell_type": "code",
   "execution_count": 11,
   "id": "94454205",
   "metadata": {
    "execution": {
     "iopub.execute_input": "2022-12-26T08:18:46.199938Z",
     "iopub.status.busy": "2022-12-26T08:18:46.198759Z",
     "iopub.status.idle": "2022-12-26T08:18:46.427179Z",
     "shell.execute_reply": "2022-12-26T08:18:46.426506Z"
    },
    "papermill": {
     "duration": 0.253183,
     "end_time": "2022-12-26T08:18:46.428871",
     "exception": false,
     "start_time": "2022-12-26T08:18:46.175688",
     "status": "completed"
    },
    "tags": []
   },
   "outputs": [
    {
     "data": {
      "image/png": "[encoded data removed]",
      "text/plain": [
       "<Figure size 720x216 with 2 Axes>"
      ]
     },
     "metadata": {
      "needs_background": "light"
     },
     "output_type": "display_data"
    }
   ],
   "source": [
    "num_df.hist(column=['Cloud9am', 'Cloud3pm'], bins=8, figsize=(10,3))\n",
    "plt.show()"
   ]
  },
  {
   "cell_type": "markdown",
   "id": "e98e0553",
   "metadata": {
    "papermill": {
     "duration": 0.023366,
     "end_time": "2022-12-26T08:18:46.475359",
     "exception": false,
     "start_time": "2022-12-26T08:18:46.451993",
     "status": "completed"
    },
    "tags": []
   },
   "source": [
    "### Temperature\n",
    "\n",
    "📙 **SUMMARY**"
   ]
  },
  {
   "cell_type": "markdown",
   "id": "be9cd38c",
   "metadata": {
    "papermill": {
     "duration": 0.02212,
     "end_time": "2022-12-26T08:18:46.519793",
     "exception": false,
     "start_time": "2022-12-26T08:18:46.497673",
     "status": "completed"
    },
    "tags": []
   },
   "source": [
    "Let's extract information from and visualize the temperature features. The temperature is expressed in `$^\\circ$C."
   ]
  },
  {
   "cell_type": "code",
   "execution_count": 12,
   "id": "eac1fdd4",
   "metadata": {
    "execution": {
     "iopub.execute_input": "2022-12-26T08:18:46.566086Z",
     "iopub.status.busy": "2022-12-26T08:18:46.565391Z",
     "iopub.status.idle": "2022-12-26T08:18:46.878658Z",
     "shell.execute_reply": "2022-12-26T08:18:46.877721Z"
    },
    "papermill": {
     "duration": 0.339134,
     "end_time": "2022-12-26T08:18:46.881080",
     "exception": false,
     "start_time": "2022-12-26T08:18:46.541946",
     "status": "completed"
    },
    "tags": []
   },
   "outputs": [
    {
     "data": {
      "text/html": [
       "<div>\n",
       "<style scoped>\n",
       "    .dataframe tbody tr th:only-of-type {\n",
       "        vertical-align: middle;\n",
       "    }\n",
       "\n",
       "    .dataframe tbody tr th {\n",
       "        vertical-align: top;\n",
       "    }\n",
       "\n",
       "    .dataframe thead th {\n",
       "        text-align: right;\n",
       "    }\n",
       "</style>\n",
       "<table border=\"1\" class=\"dataframe\">\n",
       "  <thead>\n",
       "    <tr style=\"text-align: right;\">\n",
       "      <th></th>\n",
       "      <th>count</th>\n",
       "      <th>mean</th>\n",
       "      <th>std</th>\n",
       "      <th>min</th>\n",
       "      <th>25%</th>\n",
       "      <th>50%</th>\n",
       "      <th>75%</th>\n",
       "      <th>max</th>\n",
       "    </tr>\n",
       "  </thead>\n",
       "  <tbody>\n",
       "    <tr>\n",
       "      <th>MinTemp</th>\n",
       "      <td>3193.0</td>\n",
       "      <td>12.922706</td>\n",
       "      <td>5.087817</td>\n",
       "      <td>-0.6</td>\n",
       "      <td>9.2</td>\n",
       "      <td>13.1</td>\n",
       "      <td>16.6</td>\n",
       "      <td>29.7</td>\n",
       "    </tr>\n",
       "    <tr>\n",
       "      <th>MaxTemp</th>\n",
       "      <td>3192.0</td>\n",
       "      <td>25.034837</td>\n",
       "      <td>6.115454</td>\n",
       "      <td>12.8</td>\n",
       "      <td>20.2</td>\n",
       "      <td>23.9</td>\n",
       "      <td>29.4</td>\n",
       "      <td>44.4</td>\n",
       "    </tr>\n",
       "  </tbody>\n",
       "</table>\n",
       "</div>"
      ],
      "text/plain": [
       "          count       mean       std   min   25%   50%   75%   max\n",
       "MinTemp  3193.0  12.922706  5.087817  -0.6   9.2  13.1  16.6  29.7\n",
       "MaxTemp  3192.0  25.034837  6.115454  12.8  20.2  23.9  29.4  44.4"
      ]
     },
     "execution_count": 12,
     "metadata": {},
     "output_type": "execute_result"
    },
    {
     "data": {
      "image/png": "[encoded data removed]",
      "text/plain": [
       "<Figure size 720x216 with 2 Axes>"
      ]
     },
     "metadata": {
      "needs_background": "light"
     },
     "output_type": "display_data"
    }
   ],
   "source": [
    "temp_df = num_df[['MinTemp','MaxTemp']]\n",
    "temp_df.hist(figsize=(10,3))\n",
    "temp_df.describe().transpose()"
   ]
  },
  {
   "cell_type": "markdown",
   "id": "d73ae249",
   "metadata": {
    "papermill": {
     "duration": 0.022521,
     "end_time": "2022-12-26T08:18:46.927043",
     "exception": false,
     "start_time": "2022-12-26T08:18:46.904522",
     "status": "completed"
    },
    "tags": []
   },
   "source": [
    "It seems like **MaxTemp** is negatively skewed. Let's compute the skewness for both features.\n",
    "\n",
    "Note: The distribution is skewed is if it goes below $-0.5$ or beyond $0.5$."
   ]
  },
  {
   "cell_type": "code",
   "execution_count": 13,
   "id": "d71238d9",
   "metadata": {
    "execution": {
     "iopub.execute_input": "2022-12-26T08:18:46.974510Z",
     "iopub.status.busy": "2022-12-26T08:18:46.974119Z",
     "iopub.status.idle": "2022-12-26T08:18:46.981290Z",
     "shell.execute_reply": "2022-12-26T08:18:46.979595Z"
    },
    "papermill": {
     "duration": 0.033717,
     "end_time": "2022-12-26T08:18:46.983471",
     "exception": false,
     "start_time": "2022-12-26T08:18:46.949754",
     "status": "completed"
    },
    "tags": []
   },
   "outputs": [
    {
     "name": "stdout",
     "output_type": "stream",
     "text": [
      "MinTemp skewness: -0.08\n",
      "MaxTemp skewness: 0.58\n"
     ]
    }
   ],
   "source": [
    "print(f\"MinTemp skewness: {num_df['MinTemp'].skew():.2f}\")\n",
    "print(f\"MaxTemp skewness: {num_df['MaxTemp'].skew():.2f}\")"
   ]
  },
  {
   "cell_type": "code",
   "execution_count": 14,
   "id": "0275d447",
   "metadata": {
    "execution": {
     "iopub.execute_input": "2022-12-26T08:18:47.031471Z",
     "iopub.status.busy": "2022-12-26T08:18:47.030736Z",
     "iopub.status.idle": "2022-12-26T08:18:47.038768Z",
     "shell.execute_reply": "2022-12-26T08:18:47.038121Z"
    },
    "papermill": {
     "duration": 0.034465,
     "end_time": "2022-12-26T08:18:47.040940",
     "exception": false,
     "start_time": "2022-12-26T08:18:47.006475",
     "status": "completed"
    },
    "tags": []
   },
   "outputs": [
    {
     "data": {
      "text/plain": [
       "122570    29.7\n",
       "Name: MinTemp, dtype: float64"
      ]
     },
     "execution_count": 14,
     "metadata": {},
     "output_type": "execute_result"
    }
   ],
   "source": [
    "mintemp_df = num_df['MinTemp']\n",
    "outliers = mintemp_df[np.abs(stats.zscore(mintemp_df)) > 3]\n",
    "outliers"
   ]
  },
  {
   "cell_type": "code",
   "execution_count": 15,
   "id": "6308fd5c",
   "metadata": {
    "execution": {
     "iopub.execute_input": "2022-12-26T08:18:47.089307Z",
     "iopub.status.busy": "2022-12-26T08:18:47.088593Z",
     "iopub.status.idle": "2022-12-26T08:18:47.217862Z",
     "shell.execute_reply": "2022-12-26T08:18:47.217121Z"
    },
    "papermill": {
     "duration": 0.155918,
     "end_time": "2022-12-26T08:18:47.220022",
     "exception": false,
     "start_time": "2022-12-26T08:18:47.064104",
     "status": "completed"
    },
    "tags": []
   },
   "outputs": [
    {
     "name": "stdout",
     "output_type": "stream",
     "text": [
      "MinTemp outlier count: 2\n",
      "MaxTemp outlier count: 2\n"
     ]
    },
    {
     "data": {
      "image/png": "[encoded data removed]",
      "text/plain": [
       "<Figure size 432x288 with 1 Axes>"
      ]
     },
     "metadata": {
      "needs_background": "light"
     },
     "output_type": "display_data"
    }
   ],
   "source": [
    "def extract_outliers(series):\n",
    "    result = dict()\n",
    "    col = series.dropna()\n",
    "    mean = col.mean()\n",
    "    [q3, q1] = np.percentile(col, [75,25])\n",
    "    iqr = np.subtract(q3, q1)\n",
    "\n",
    "    boundary = q3 + (1.5 * iqr)\n",
    "    return col[col > boundary]\n",
    "\n",
    "temp_df.boxplot()\n",
    "min_temp_outliers = extract_outliers(num_df['MinTemp'])\n",
    "max_temp_outliers = extract_outliers(num_df['MaxTemp'])\n",
    "\n",
    "print(f\"MinTemp outlier count: {len(min_temp_outliers)}\")\n",
    "print(f\"MaxTemp outlier count: {len(max_temp_outliers)}\")"
   ]
  },
  {
   "cell_type": "code",
   "execution_count": 16,
   "id": "c0936c00",
   "metadata": {
    "execution": {
     "iopub.execute_input": "2022-12-26T08:18:47.276323Z",
     "iopub.status.busy": "2022-12-26T08:18:47.275671Z",
     "iopub.status.idle": "2022-12-26T08:18:47.482642Z",
     "shell.execute_reply": "2022-12-26T08:18:47.481740Z"
    },
    "papermill": {
     "duration": 0.234436,
     "end_time": "2022-12-26T08:18:47.485066",
     "exception": false,
     "start_time": "2022-12-26T08:18:47.250630",
     "status": "completed"
    },
    "tags": []
   },
   "outputs": [
    {
     "data": {
      "image/png": "[encoded data removed]",
      "text/plain": [
       "<Figure size 864x216 with 1 Axes>"
      ]
     },
     "metadata": {
      "needs_background": "light"
     },
     "output_type": "display_data"
    }
   ],
   "source": [
    "plt.figure(figsize=(12,3))\n",
    "sns.boxplot(x=df['MaxTemp'], y=df['RainToday'], hue=df['RainTomorrow'])\n",
    "plt.show()"
   ]
  },
  {
   "cell_type": "code",
   "execution_count": 17,
   "id": "feca8ca9",
   "metadata": {
    "execution": {
     "iopub.execute_input": "2022-12-26T08:18:47.533789Z",
     "iopub.status.busy": "2022-12-26T08:18:47.533418Z",
     "iopub.status.idle": "2022-12-26T08:18:47.541184Z",
     "shell.execute_reply": "2022-12-26T08:18:47.539818Z"
    },
    "papermill": {
     "duration": 0.034735,
     "end_time": "2022-12-26T08:18:47.543463",
     "exception": false,
     "start_time": "2022-12-26T08:18:47.508728",
     "status": "completed"
    },
    "tags": []
   },
   "outputs": [],
   "source": [
    "# Create common method to identify outliers\n",
    "def identify_outliers(df, column):\n",
    "    no_missing = df[ ~df[column].isna() ][column]\n",
    "    perc_75, perc_25 = np.percentile(no_missing, [75, 25])\n",
    "    iqr = perc_75 - perc_25\n",
    "\n",
    "    upper_boundary = perc_75 + (1.5 * iqr)\n",
    "    high_outliers = no_missing[no_missing > upper_boundary]\n",
    "    \n",
    "    lower_boundary = perc_25 - (1.5 * iqr)\n",
    "    low_outliers = no_missing[no_missing < lower_boundary]\n",
    "    \n",
    "    outliers = low_outliers.append(high_outliers)\n",
    "    \n",
    "    print(f\"Number of outlier data points ({column}): {len(outliers)}\")\n",
    "    print(f\"Unique value count: ({len(outliers.value_counts().keys().unique())} unique values)\")\n",
    "    print(f\"Outliers counts:\")\n",
    "    for value, count in outliers.value_counts().items():\n",
    "        print(f\"  {value}\", \"\\t\", f\"{count} occurrence(s)\")\n"
   ]
  },
  {
   "cell_type": "markdown",
   "id": "e31080fd",
   "metadata": {
    "papermill": {
     "duration": 0.023113,
     "end_time": "2022-12-26T08:18:47.590040",
     "exception": false,
     "start_time": "2022-12-26T08:18:47.566927",
     "status": "completed"
    },
    "tags": []
   },
   "source": [
    "Let's revisit the missing values for the feature once again."
   ]
  },
  {
   "cell_type": "code",
   "execution_count": 18,
   "id": "80ddff47",
   "metadata": {
    "execution": {
     "iopub.execute_input": "2022-12-26T08:18:47.638903Z",
     "iopub.status.busy": "2022-12-26T08:18:47.638430Z",
     "iopub.status.idle": "2022-12-26T08:18:47.646904Z",
     "shell.execute_reply": "2022-12-26T08:18:47.645426Z"
    },
    "papermill": {
     "duration": 0.036549,
     "end_time": "2022-12-26T08:18:47.649991",
     "exception": false,
     "start_time": "2022-12-26T08:18:47.613442",
     "status": "completed"
    },
    "tags": []
   },
   "outputs": [
    {
     "name": "stdout",
     "output_type": "stream",
     "text": [
      "MinTemp missing values: 0 (0.00%)\n",
      "MaxTemp missing values: 1 (0.03%)\n"
     ]
    }
   ],
   "source": [
    "missing_min_temp = num_df['MinTemp'].isna().sum()\n",
    "missing_min_temp_perc = float(missing_min_temp)/len(num_df['MinTemp'])\n",
    "print(f\"MinTemp missing values: {missing_min_temp} ({missing_min_temp_perc:.2f}%)\")\n",
    "\n",
    "missing_max_temp = num_df['MaxTemp'].isna().sum()\n",
    "missing_max_temp_perc = float(missing_max_temp)/len(num_df['MaxTemp'])\n",
    "print(f\"MaxTemp missing values: {missing_max_temp} ({missing_max_temp_perc * 100:.2f}%)\")"
   ]
  },
  {
   "cell_type": "markdown",
   "id": "bc11f7c9",
   "metadata": {
    "papermill": {
     "duration": 0.023513,
     "end_time": "2022-12-26T08:18:47.697741",
     "exception": false,
     "start_time": "2022-12-26T08:18:47.674228",
     "status": "completed"
    },
    "tags": []
   },
   "source": [
    "🔖 **Temperature feature observations**\n",
    "\n",
    "**MinTemp**:\n",
    " * The distribution is almost **symmetric** (`skewness` = $0.08$).\n",
    " * There are $2$ outliers in the dataset.\n",
    " \n",
    "**MaxTemp**\n",
    " * The distribution is **positively skewed** (`skewness` = $0.58$).\n",
    " * There are $2$ outliers in the dataset."
   ]
  },
  {
   "cell_type": "markdown",
   "id": "3e9d1c00",
   "metadata": {
    "papermill": {
     "duration": 0.023496,
     "end_time": "2022-12-26T08:18:47.745045",
     "exception": false,
     "start_time": "2022-12-26T08:18:47.721549",
     "status": "completed"
    },
    "tags": []
   },
   "source": [
    "### __Rainfall\n",
    "\n",
    "📙 **SUMMARY**\n",
    "* The values represent the precipitation in the 24 hours to 9am and are expressed in **mm**.\n",
    "* There are no missing values for the *Rainfall* attribute.\n",
    "* The distribution is exponential.\n",
    "* The dataset is dominated by $0.0$ values (more than $70\\%$).\n"
   ]
  },
  {
   "cell_type": "markdown",
   "id": "7c91db98",
   "metadata": {
    "papermill": {
     "duration": 0.023115,
     "end_time": "2022-12-26T08:18:47.792167",
     "exception": false,
     "start_time": "2022-12-26T08:18:47.769052",
     "status": "completed"
    },
    "tags": []
   },
   "source": [
    "The attribute represents the precipitation within 24 hours and are expressed in **mm**. The values are in interleaved by $0.2$ units."
   ]
  },
  {
   "cell_type": "code",
   "execution_count": 19,
   "id": "658415bb",
   "metadata": {
    "_kg_hide-input": true,
    "execution": {
     "iopub.execute_input": "2022-12-26T08:18:47.840204Z",
     "iopub.status.busy": "2022-12-26T08:18:47.839809Z",
     "iopub.status.idle": "2022-12-26T08:18:47.850839Z",
     "shell.execute_reply": "2022-12-26T08:18:47.849787Z"
    },
    "papermill": {
     "duration": 0.037293,
     "end_time": "2022-12-26T08:18:47.852684",
     "exception": false,
     "start_time": "2022-12-26T08:18:47.815391",
     "status": "completed"
    },
    "tags": []
   },
   "outputs": [
    {
     "data": {
      "text/html": [
       "<div>\n",
       "<style scoped>\n",
       "    .dataframe tbody tr th:only-of-type {\n",
       "        vertical-align: middle;\n",
       "    }\n",
       "\n",
       "    .dataframe tbody tr th {\n",
       "        vertical-align: top;\n",
       "    }\n",
       "\n",
       "    .dataframe thead th {\n",
       "        text-align: right;\n",
       "    }\n",
       "</style>\n",
       "<table border=\"1\" class=\"dataframe\">\n",
       "  <thead>\n",
       "    <tr style=\"text-align: right;\">\n",
       "      <th></th>\n",
       "      <th>Rainfall</th>\n",
       "    </tr>\n",
       "  </thead>\n",
       "  <tbody>\n",
       "    <tr>\n",
       "      <th>120638</th>\n",
       "      <td>0.0</td>\n",
       "    </tr>\n",
       "    <tr>\n",
       "      <th>120639</th>\n",
       "      <td>0.0</td>\n",
       "    </tr>\n",
       "    <tr>\n",
       "      <th>120640</th>\n",
       "      <td>0.4</td>\n",
       "    </tr>\n",
       "    <tr>\n",
       "      <th>120641</th>\n",
       "      <td>1.8</td>\n",
       "    </tr>\n",
       "    <tr>\n",
       "      <th>120642</th>\n",
       "      <td>1.8</td>\n",
       "    </tr>\n",
       "    <tr>\n",
       "      <th>120643</th>\n",
       "      <td>6.8</td>\n",
       "    </tr>\n",
       "    <tr>\n",
       "      <th>120644</th>\n",
       "      <td>0.0</td>\n",
       "    </tr>\n",
       "    <tr>\n",
       "      <th>120645</th>\n",
       "      <td>0.0</td>\n",
       "    </tr>\n",
       "    <tr>\n",
       "      <th>120646</th>\n",
       "      <td>8.0</td>\n",
       "    </tr>\n",
       "    <tr>\n",
       "      <th>120647</th>\n",
       "      <td>4.6</td>\n",
       "    </tr>\n",
       "  </tbody>\n",
       "</table>\n",
       "</div>"
      ],
      "text/plain": [
       "        Rainfall\n",
       "120638       0.0\n",
       "120639       0.0\n",
       "120640       0.4\n",
       "120641       1.8\n",
       "120642       1.8\n",
       "120643       6.8\n",
       "120644       0.0\n",
       "120645       0.0\n",
       "120646       8.0\n",
       "120647       4.6"
      ]
     },
     "execution_count": 19,
     "metadata": {},
     "output_type": "execute_result"
    }
   ],
   "source": [
    "rainfall_df = num_df['Rainfall']\n",
    "pd.DataFrame(rainfall_df).head(10)"
   ]
  },
  {
   "cell_type": "markdown",
   "id": "60821079",
   "metadata": {
    "papermill": {
     "duration": 0.023949,
     "end_time": "2022-12-26T08:18:47.900567",
     "exception": false,
     "start_time": "2022-12-26T08:18:47.876618",
     "status": "completed"
    },
    "tags": []
   },
   "source": [
    "There are no missing values for the *Rainfall* attribute."
   ]
  },
  {
   "cell_type": "code",
   "execution_count": 20,
   "id": "38e5bc8b",
   "metadata": {
    "_kg_hide-input": true,
    "execution": {
     "iopub.execute_input": "2022-12-26T08:18:47.950679Z",
     "iopub.status.busy": "2022-12-26T08:18:47.950324Z",
     "iopub.status.idle": "2022-12-26T08:18:47.957435Z",
     "shell.execute_reply": "2022-12-26T08:18:47.956089Z"
    },
    "papermill": {
     "duration": 0.034191,
     "end_time": "2022-12-26T08:18:47.959612",
     "exception": false,
     "start_time": "2022-12-26T08:18:47.925421",
     "status": "completed"
    },
    "tags": []
   },
   "outputs": [
    {
     "name": "stdout",
     "output_type": "stream",
     "text": [
      "Missing Rainfall values: 0 (0.00%)\n"
     ]
    }
   ],
   "source": [
    "missing_rainfall_count = rainfall_df.isna().sum()\n",
    "missing_rainfall_perc = rainfall_df.isna().sum() / float(len(rainfall_df))\n",
    "\n",
    "print(f\"Missing Rainfall values: {missing_rainfall_count} ({missing_rainfall_perc:.2f}%)\")"
   ]
  },
  {
   "cell_type": "markdown",
   "id": "7614bcb2",
   "metadata": {
    "papermill": {
     "duration": 0.02348,
     "end_time": "2022-12-26T08:18:48.006872",
     "exception": false,
     "start_time": "2022-12-26T08:18:47.983392",
     "status": "completed"
    },
    "tags": []
   },
   "source": [
    "The data ranges from $0.0$ to $114.4$ with a mean of $1.91$ and a standard deviation of $5.79$."
   ]
  },
  {
   "cell_type": "code",
   "execution_count": 21,
   "id": "635257c1",
   "metadata": {
    "_kg_hide-input": true,
    "execution": {
     "iopub.execute_input": "2022-12-26T08:18:48.055971Z",
     "iopub.status.busy": "2022-12-26T08:18:48.055556Z",
     "iopub.status.idle": "2022-12-26T08:18:48.076240Z",
     "shell.execute_reply": "2022-12-26T08:18:48.074946Z"
    },
    "papermill": {
     "duration": 0.048351,
     "end_time": "2022-12-26T08:18:48.078952",
     "exception": false,
     "start_time": "2022-12-26T08:18:48.030601",
     "status": "completed"
    },
    "tags": []
   },
   "outputs": [
    {
     "data": {
      "text/html": [
       "<div>\n",
       "<style scoped>\n",
       "    .dataframe tbody tr th:only-of-type {\n",
       "        vertical-align: middle;\n",
       "    }\n",
       "\n",
       "    .dataframe tbody tr th {\n",
       "        vertical-align: top;\n",
       "    }\n",
       "\n",
       "    .dataframe thead th {\n",
       "        text-align: right;\n",
       "    }\n",
       "</style>\n",
       "<table border=\"1\" class=\"dataframe\">\n",
       "  <thead>\n",
       "    <tr style=\"text-align: right;\">\n",
       "      <th></th>\n",
       "      <th>count</th>\n",
       "      <th>mean</th>\n",
       "      <th>std</th>\n",
       "      <th>min</th>\n",
       "      <th>25%</th>\n",
       "      <th>50%</th>\n",
       "      <th>75%</th>\n",
       "      <th>max</th>\n",
       "    </tr>\n",
       "  </thead>\n",
       "  <tbody>\n",
       "    <tr>\n",
       "      <th>Rainfall</th>\n",
       "      <td>3193.0</td>\n",
       "      <td>1.906295</td>\n",
       "      <td>5.78995</td>\n",
       "      <td>0.0</td>\n",
       "      <td>0.0</td>\n",
       "      <td>0.0</td>\n",
       "      <td>0.2</td>\n",
       "      <td>114.4</td>\n",
       "    </tr>\n",
       "  </tbody>\n",
       "</table>\n",
       "</div>"
      ],
      "text/plain": [
       "           count      mean      std  min  25%  50%  75%    max\n",
       "Rainfall  3193.0  1.906295  5.78995  0.0  0.0  0.0  0.2  114.4"
      ]
     },
     "execution_count": 21,
     "metadata": {},
     "output_type": "execute_result"
    }
   ],
   "source": [
    "pd.DataFrame(rainfall_df).describe().transpose()"
   ]
  },
  {
   "cell_type": "markdown",
   "id": "2e3c81bf",
   "metadata": {
    "papermill": {
     "duration": 0.023758,
     "end_time": "2022-12-26T08:18:48.126592",
     "exception": false,
     "start_time": "2022-12-26T08:18:48.102834",
     "status": "completed"
    },
    "tags": []
   },
   "source": [
    "The *Rainfall* data follows the exponential distribution, making it positively skewed."
   ]
  },
  {
   "cell_type": "code",
   "execution_count": 22,
   "id": "b5fffe16",
   "metadata": {
    "_kg_hide-input": true,
    "execution": {
     "iopub.execute_input": "2022-12-26T08:18:48.177250Z",
     "iopub.status.busy": "2022-12-26T08:18:48.176114Z",
     "iopub.status.idle": "2022-12-26T08:18:48.415055Z",
     "shell.execute_reply": "2022-12-26T08:18:48.413787Z"
    },
    "papermill": {
     "duration": 0.266844,
     "end_time": "2022-12-26T08:18:48.417431",
     "exception": false,
     "start_time": "2022-12-26T08:18:48.150587",
     "status": "completed"
    },
    "tags": []
   },
   "outputs": [
    {
     "data": {
      "image/png": "[encoded data removed]",
      "text/plain": [
       "<Figure size 1440x432 with 2 Axes>"
      ]
     },
     "metadata": {
      "needs_background": "light"
     },
     "output_type": "display_data"
    }
   ],
   "source": [
    "fig, axes = plt.subplots(1, 2, figsize=(20, 6))\n",
    "\n",
    "rainfall_df.hist(ax=axes[0])\n",
    "axes[0].set_title(\"Rainfall Distribution\")\n",
    "\n",
    "sns.boxplot(ax=axes[1], x=rainfall_df)\n",
    "axes[1].set_title(\"Rainfall Boxplot\")\n",
    "\n",
    "plt.show()"
   ]
  },
  {
   "cell_type": "code",
   "execution_count": 23,
   "id": "ade02ac5",
   "metadata": {
    "_kg_hide-input": true,
    "execution": {
     "iopub.execute_input": "2022-12-26T08:18:48.467471Z",
     "iopub.status.busy": "2022-12-26T08:18:48.466731Z",
     "iopub.status.idle": "2022-12-26T08:18:48.472709Z",
     "shell.execute_reply": "2022-12-26T08:18:48.471329Z"
    },
    "papermill": {
     "duration": 0.033598,
     "end_time": "2022-12-26T08:18:48.475302",
     "exception": false,
     "start_time": "2022-12-26T08:18:48.441704",
     "status": "completed"
    },
    "tags": []
   },
   "outputs": [
    {
     "name": "stdout",
     "output_type": "stream",
     "text": [
      "Skewness of Rainfall: 6.14\n"
     ]
    }
   ],
   "source": [
    "skewness = rainfall_df.skew()\n",
    "\n",
    "print(f\"Skewness of Rainfall: {skewness:.2f}\")"
   ]
  },
  {
   "cell_type": "markdown",
   "id": "f81f8d14",
   "metadata": {
    "papermill": {
     "duration": 0.024412,
     "end_time": "2022-12-26T08:18:48.525022",
     "exception": false,
     "start_time": "2022-12-26T08:18:48.500610",
     "status": "completed"
    },
    "tags": []
   },
   "source": [
    "In the dataset, the value $0.0$ comprises more than $70\\%$ of the the dataset."
   ]
  },
  {
   "cell_type": "code",
   "execution_count": 24,
   "id": "4349b778",
   "metadata": {
    "_kg_hide-input": true,
    "execution": {
     "iopub.execute_input": "2022-12-26T08:18:48.576225Z",
     "iopub.status.busy": "2022-12-26T08:18:48.575034Z",
     "iopub.status.idle": "2022-12-26T08:18:48.589115Z",
     "shell.execute_reply": "2022-12-26T08:18:48.587828Z"
    },
    "papermill": {
     "duration": 0.041783,
     "end_time": "2022-12-26T08:18:48.591126",
     "exception": false,
     "start_time": "2022-12-26T08:18:48.549343",
     "status": "completed"
    },
    "tags": []
   },
   "outputs": [
    {
     "name": "stdout",
     "output_type": "stream",
     "text": [
      "Top 10 Rainfall value occurences:\n"
     ]
    },
    {
     "data": {
      "text/plain": [
       "0.0    0.718133\n",
       "0.2    0.033824\n",
       "0.4    0.016599\n",
       "0.6    0.011588\n",
       "0.8    0.009396\n",
       "1.2    0.009082\n",
       "1.0    0.008456\n",
       "2.6    0.006264\n",
       "1.6    0.005951\n",
       "2.8    0.005637\n",
       "Name: Rainfall, dtype: float64"
      ]
     },
     "execution_count": 24,
     "metadata": {},
     "output_type": "execute_result"
    }
   ],
   "source": [
    "print(\"Top 10 Rainfall value occurences:\")\n",
    "value_count_perc = rainfall_df.value_counts()/len(rainfall_df)\n",
    "value_count_perc.sort_values(ascending=False, inplace=True)\n",
    "value_count_perc.iloc[:10]"
   ]
  },
  {
   "cell_type": "markdown",
   "id": "231d6188",
   "metadata": {
    "papermill": {
     "duration": 0.024177,
     "end_time": "2022-12-26T08:18:48.639754",
     "exception": false,
     "start_time": "2022-12-26T08:18:48.615577",
     "status": "completed"
    },
    "tags": []
   },
   "source": []
  },
  {
   "cell_type": "markdown",
   "id": "5403bc65",
   "metadata": {
    "papermill": {
     "duration": 0.024393,
     "end_time": "2022-12-26T08:18:48.688772",
     "exception": false,
     "start_time": "2022-12-26T08:18:48.664379",
     "status": "completed"
    },
    "tags": []
   },
   "source": [
    "### __Evaporation\n",
    "\n",
    "📙 **SUMMARY**\n",
    "* The values are expressed in **mm**.\n",
    "* There is only $1$ missing value for this attribute.\n",
    "* The distribution is positively skewed at `skewness` = $0.54$.\n",
    "* There is $1$ outlier value in the dataset: $17.0$."
   ]
  },
  {
   "cell_type": "markdown",
   "id": "afc473f6",
   "metadata": {
    "papermill": {
     "duration": 0.024244,
     "end_time": "2022-12-26T08:18:48.737776",
     "exception": false,
     "start_time": "2022-12-26T08:18:48.713532",
     "status": "completed"
    },
    "tags": []
   },
   "source": [
    "The *Evaporation* data represents the evaporation level in **mm** measured using the standard *Class A Evaporation Pan* within $24$ hours from 9AM. The values are rounded up to the nearest $0.2$ mm."
   ]
  },
  {
   "cell_type": "code",
   "execution_count": 25,
   "id": "e63d6959",
   "metadata": {
    "_kg_hide-input": true,
    "execution": {
     "iopub.execute_input": "2022-12-26T08:18:48.789419Z",
     "iopub.status.busy": "2022-12-26T08:18:48.789056Z",
     "iopub.status.idle": "2022-12-26T08:18:48.799023Z",
     "shell.execute_reply": "2022-12-26T08:18:48.798117Z"
    },
    "papermill": {
     "duration": 0.038291,
     "end_time": "2022-12-26T08:18:48.800612",
     "exception": false,
     "start_time": "2022-12-26T08:18:48.762321",
     "status": "completed"
    },
    "tags": []
   },
   "outputs": [
    {
     "data": {
      "text/html": [
       "<div>\n",
       "<style scoped>\n",
       "    .dataframe tbody tr th:only-of-type {\n",
       "        vertical-align: middle;\n",
       "    }\n",
       "\n",
       "    .dataframe tbody tr th {\n",
       "        vertical-align: top;\n",
       "    }\n",
       "\n",
       "    .dataframe thead th {\n",
       "        text-align: right;\n",
       "    }\n",
       "</style>\n",
       "<table border=\"1\" class=\"dataframe\">\n",
       "  <thead>\n",
       "    <tr style=\"text-align: right;\">\n",
       "      <th></th>\n",
       "      <th>Evaporation</th>\n",
       "    </tr>\n",
       "  </thead>\n",
       "  <tbody>\n",
       "    <tr>\n",
       "      <th>120638</th>\n",
       "      <td>0.8</td>\n",
       "    </tr>\n",
       "    <tr>\n",
       "      <th>120639</th>\n",
       "      <td>1.8</td>\n",
       "    </tr>\n",
       "    <tr>\n",
       "      <th>120640</th>\n",
       "      <td>2.2</td>\n",
       "    </tr>\n",
       "    <tr>\n",
       "      <th>120641</th>\n",
       "      <td>1.2</td>\n",
       "    </tr>\n",
       "    <tr>\n",
       "      <th>120642</th>\n",
       "      <td>1.4</td>\n",
       "    </tr>\n",
       "    <tr>\n",
       "      <th>120643</th>\n",
       "      <td>2.4</td>\n",
       "    </tr>\n",
       "    <tr>\n",
       "      <th>120644</th>\n",
       "      <td>0.8</td>\n",
       "    </tr>\n",
       "    <tr>\n",
       "      <th>120645</th>\n",
       "      <td>1.4</td>\n",
       "    </tr>\n",
       "    <tr>\n",
       "      <th>120646</th>\n",
       "      <td>1.2</td>\n",
       "    </tr>\n",
       "    <tr>\n",
       "      <th>120647</th>\n",
       "      <td>2.8</td>\n",
       "    </tr>\n",
       "  </tbody>\n",
       "</table>\n",
       "</div>"
      ],
      "text/plain": [
       "        Evaporation\n",
       "120638          0.8\n",
       "120639          1.8\n",
       "120640          2.2\n",
       "120641          1.2\n",
       "120642          1.4\n",
       "120643          2.4\n",
       "120644          0.8\n",
       "120645          1.4\n",
       "120646          1.2\n",
       "120647          2.8"
      ]
     },
     "execution_count": 25,
     "metadata": {},
     "output_type": "execute_result"
    }
   ],
   "source": [
    "evap_df = df['Evaporation']\n",
    "pd.DataFrame(evap_df).head(10)"
   ]
  },
  {
   "cell_type": "markdown",
   "id": "dfef0548",
   "metadata": {
    "papermill": {
     "duration": 0.023643,
     "end_time": "2022-12-26T08:18:48.848483",
     "exception": false,
     "start_time": "2022-12-26T08:18:48.824840",
     "status": "completed"
    },
    "tags": []
   },
   "source": [
    "There's only $1$ missing value for the *Evaporation* attribute."
   ]
  },
  {
   "cell_type": "code",
   "execution_count": 26,
   "id": "0f7c1d25",
   "metadata": {
    "_kg_hide-input": true,
    "execution": {
     "iopub.execute_input": "2022-12-26T08:18:48.901714Z",
     "iopub.status.busy": "2022-12-26T08:18:48.900589Z",
     "iopub.status.idle": "2022-12-26T08:18:48.907004Z",
     "shell.execute_reply": "2022-12-26T08:18:48.906196Z"
    },
    "papermill": {
     "duration": 0.035364,
     "end_time": "2022-12-26T08:18:48.908959",
     "exception": false,
     "start_time": "2022-12-26T08:18:48.873595",
     "status": "completed"
    },
    "tags": []
   },
   "outputs": [
    {
     "name": "stdout",
     "output_type": "stream",
     "text": [
      "Missing evaporation values: 1 (0.0003%)\n"
     ]
    }
   ],
   "source": [
    "missing_evap_count = evap_df.isna().sum()\n",
    "missing_evap_perc = missing_evap_count / len(evap_df)\n",
    "\n",
    "print(f\"Missing evaporation values: {missing_evap_count} ({missing_evap_perc:.4f}%)\")"
   ]
  },
  {
   "cell_type": "markdown",
   "id": "ef56c1ec",
   "metadata": {
    "papermill": {
     "duration": 0.023914,
     "end_time": "2022-12-26T08:18:48.957776",
     "exception": false,
     "start_time": "2022-12-26T08:18:48.933862",
     "status": "completed"
    },
    "tags": []
   },
   "source": [
    "The values range from $0.0$ to $17.0$ with a mean of $5.61$ and a standard deviation of $3.42$."
   ]
  },
  {
   "cell_type": "code",
   "execution_count": 27,
   "id": "930bf8f1",
   "metadata": {
    "_kg_hide-input": true,
    "execution": {
     "iopub.execute_input": "2022-12-26T08:18:49.010783Z",
     "iopub.status.busy": "2022-12-26T08:18:49.010027Z",
     "iopub.status.idle": "2022-12-26T08:18:49.029124Z",
     "shell.execute_reply": "2022-12-26T08:18:49.028153Z"
    },
    "papermill": {
     "duration": 0.047989,
     "end_time": "2022-12-26T08:18:49.030986",
     "exception": false,
     "start_time": "2022-12-26T08:18:48.982997",
     "status": "completed"
    },
    "tags": []
   },
   "outputs": [
    {
     "data": {
      "text/html": [
       "<div>\n",
       "<style scoped>\n",
       "    .dataframe tbody tr th:only-of-type {\n",
       "        vertical-align: middle;\n",
       "    }\n",
       "\n",
       "    .dataframe tbody tr th {\n",
       "        vertical-align: top;\n",
       "    }\n",
       "\n",
       "    .dataframe thead th {\n",
       "        text-align: right;\n",
       "    }\n",
       "</style>\n",
       "<table border=\"1\" class=\"dataframe\">\n",
       "  <thead>\n",
       "    <tr style=\"text-align: right;\">\n",
       "      <th></th>\n",
       "      <th>count</th>\n",
       "      <th>mean</th>\n",
       "      <th>std</th>\n",
       "      <th>min</th>\n",
       "      <th>25%</th>\n",
       "      <th>50%</th>\n",
       "      <th>75%</th>\n",
       "      <th>max</th>\n",
       "    </tr>\n",
       "  </thead>\n",
       "  <tbody>\n",
       "    <tr>\n",
       "      <th>Evaporation</th>\n",
       "      <td>3192.0</td>\n",
       "      <td>5.606579</td>\n",
       "      <td>3.422893</td>\n",
       "      <td>0.0</td>\n",
       "      <td>2.6</td>\n",
       "      <td>4.8</td>\n",
       "      <td>8.2</td>\n",
       "      <td>17.0</td>\n",
       "    </tr>\n",
       "  </tbody>\n",
       "</table>\n",
       "</div>"
      ],
      "text/plain": [
       "              count      mean       std  min  25%  50%  75%   max\n",
       "Evaporation  3192.0  5.606579  3.422893  0.0  2.6  4.8  8.2  17.0"
      ]
     },
     "execution_count": 27,
     "metadata": {},
     "output_type": "execute_result"
    }
   ],
   "source": [
    "pd.DataFrame(evap_df).describe().transpose()"
   ]
  },
  {
   "cell_type": "markdown",
   "id": "f97661a7",
   "metadata": {
    "papermill": {
     "duration": 0.02442,
     "end_time": "2022-12-26T08:18:49.080802",
     "exception": false,
     "start_time": "2022-12-26T08:18:49.056382",
     "status": "completed"
    },
    "tags": []
   },
   "source": [
    "The data is positively skewed with `skewness` = $0.54$. "
   ]
  },
  {
   "cell_type": "code",
   "execution_count": 28,
   "id": "5a8875ff",
   "metadata": {
    "_kg_hide-input": true,
    "execution": {
     "iopub.execute_input": "2022-12-26T08:18:49.132370Z",
     "iopub.status.busy": "2022-12-26T08:18:49.131365Z",
     "iopub.status.idle": "2022-12-26T08:18:49.373704Z",
     "shell.execute_reply": "2022-12-26T08:18:49.372906Z"
    },
    "papermill": {
     "duration": 0.269731,
     "end_time": "2022-12-26T08:18:49.375471",
     "exception": false,
     "start_time": "2022-12-26T08:18:49.105740",
     "status": "completed"
    },
    "tags": []
   },
   "outputs": [
    {
     "data": {
      "image/png": "[encoded data removed]",
      "text/plain": [
       "<Figure size 1440x432 with 2 Axes>"
      ]
     },
     "metadata": {
      "needs_background": "light"
     },
     "output_type": "display_data"
    }
   ],
   "source": [
    "_, axes = plt.subplots(1, 2, figsize=(20, 6))\n",
    "\n",
    "plt.title(\"Evaporation Distribution\")\n",
    "evap_df.hist(ax=axes[0])\n",
    "\n",
    "plt.title(\"Evaporation Boxplot\")\n",
    "sns.boxplot(ax=axes[1], x=evap_df)\n",
    "\n",
    "plt.show()"
   ]
  },
  {
   "cell_type": "code",
   "execution_count": 29,
   "id": "74833b81",
   "metadata": {
    "_kg_hide-input": true,
    "execution": {
     "iopub.execute_input": "2022-12-26T08:18:49.426700Z",
     "iopub.status.busy": "2022-12-26T08:18:49.425986Z",
     "iopub.status.idle": "2022-12-26T08:18:49.431626Z",
     "shell.execute_reply": "2022-12-26T08:18:49.430449Z"
    },
    "papermill": {
     "duration": 0.033279,
     "end_time": "2022-12-26T08:18:49.433544",
     "exception": false,
     "start_time": "2022-12-26T08:18:49.400265",
     "status": "completed"
    },
    "tags": []
   },
   "outputs": [
    {
     "name": "stdout",
     "output_type": "stream",
     "text": [
      "Skewness of Evaporation: 0.54\n"
     ]
    }
   ],
   "source": [
    "evap_skewness = evap_df.skew()\n",
    "\n",
    "print(f\"Skewness of Evaporation: {evap_skewness:.2f}\")"
   ]
  },
  {
   "cell_type": "markdown",
   "id": "ae316193",
   "metadata": {
    "papermill": {
     "duration": 0.024361,
     "end_time": "2022-12-26T08:18:49.482199",
     "exception": false,
     "start_time": "2022-12-26T08:18:49.457838",
     "status": "completed"
    },
    "tags": []
   },
   "source": [
    "There is only $1$ outlier in the dataset: $17.0$."
   ]
  },
  {
   "cell_type": "code",
   "execution_count": 30,
   "id": "5e5d4a41",
   "metadata": {
    "execution": {
     "iopub.execute_input": "2022-12-26T08:18:49.533486Z",
     "iopub.status.busy": "2022-12-26T08:18:49.532833Z",
     "iopub.status.idle": "2022-12-26T08:18:49.540638Z",
     "shell.execute_reply": "2022-12-26T08:18:49.539235Z"
    },
    "papermill": {
     "duration": 0.036343,
     "end_time": "2022-12-26T08:18:49.543206",
     "exception": false,
     "start_time": "2022-12-26T08:18:49.506863",
     "status": "completed"
    },
    "tags": []
   },
   "outputs": [
    {
     "name": "stdout",
     "output_type": "stream",
     "text": [
      "Number of outliers: 1\n",
      "Outliers: [17.0]\n"
     ]
    }
   ],
   "source": [
    "no_missing_evap = evap_df[~evap_df.isna()]\n",
    "perc_75, perc_25 = np.percentile(no_missing_evap, [75, 25])\n",
    "iqr = perc_75 - perc_25\n",
    "\n",
    "evap_boundary = perc_75 + (1.5 * iqr)\n",
    "evap_outliers = no_missing_evap[ no_missing_evap > evap_boundary]\n",
    "print(f\"Number of outliers: {len(evap_outliers.values)}\")\n",
    "print(f\"Outliers: { [outlier for outlier in evap_outliers.values] }\")"
   ]
  },
  {
   "cell_type": "markdown",
   "id": "1d1b4b27",
   "metadata": {
    "papermill": {
     "duration": 0.024978,
     "end_time": "2022-12-26T08:18:49.593100",
     "exception": false,
     "start_time": "2022-12-26T08:18:49.568122",
     "status": "completed"
    },
    "tags": []
   },
   "source": [
    "### __Sunshine\n",
    "\n",
    "\n",
    "📙 **SUMMARY**\n",
    "* The attribute is expressed in terms of number of hours.\n",
    "* The data has a mean of $8.78$ with a standard deviation of $3.47$.\n",
    "* There are $5$ missing values in the dataset.\n",
    "* The distribution is negatively skewed at `skewness` = $-0.74$."
   ]
  },
  {
   "cell_type": "markdown",
   "id": "a649e9cc",
   "metadata": {
    "papermill": {
     "duration": 0.024935,
     "end_time": "2022-12-26T08:18:49.642967",
     "exception": false,
     "start_time": "2022-12-26T08:18:49.618032",
     "status": "completed"
    },
    "tags": []
   },
   "source": [
    "The *Sunshine* attribute represents the number of hours with bright sunshine within 24 hours. Ergo, the value is capped at $24$ hours."
   ]
  },
  {
   "cell_type": "code",
   "execution_count": 31,
   "id": "48592074",
   "metadata": {
    "execution": {
     "iopub.execute_input": "2022-12-26T08:18:49.693927Z",
     "iopub.status.busy": "2022-12-26T08:18:49.693313Z",
     "iopub.status.idle": "2022-12-26T08:18:49.702558Z",
     "shell.execute_reply": "2022-12-26T08:18:49.701601Z"
    },
    "papermill": {
     "duration": 0.037573,
     "end_time": "2022-12-26T08:18:49.705132",
     "exception": false,
     "start_time": "2022-12-26T08:18:49.667559",
     "status": "completed"
    },
    "tags": []
   },
   "outputs": [
    {
     "data": {
      "text/html": [
       "<div>\n",
       "<style scoped>\n",
       "    .dataframe tbody tr th:only-of-type {\n",
       "        vertical-align: middle;\n",
       "    }\n",
       "\n",
       "    .dataframe tbody tr th {\n",
       "        vertical-align: top;\n",
       "    }\n",
       "\n",
       "    .dataframe thead th {\n",
       "        text-align: right;\n",
       "    }\n",
       "</style>\n",
       "<table border=\"1\" class=\"dataframe\">\n",
       "  <thead>\n",
       "    <tr style=\"text-align: right;\">\n",
       "      <th></th>\n",
       "      <th>Sunshine</th>\n",
       "    </tr>\n",
       "  </thead>\n",
       "  <tbody>\n",
       "    <tr>\n",
       "      <th>120638</th>\n",
       "      <td>9.1</td>\n",
       "    </tr>\n",
       "    <tr>\n",
       "      <th>120639</th>\n",
       "      <td>7.0</td>\n",
       "    </tr>\n",
       "    <tr>\n",
       "      <th>120640</th>\n",
       "      <td>7.3</td>\n",
       "    </tr>\n",
       "    <tr>\n",
       "      <th>120641</th>\n",
       "      <td>4.7</td>\n",
       "    </tr>\n",
       "    <tr>\n",
       "      <th>120642</th>\n",
       "      <td>4.9</td>\n",
       "    </tr>\n",
       "    <tr>\n",
       "      <th>120643</th>\n",
       "      <td>9.3</td>\n",
       "    </tr>\n",
       "    <tr>\n",
       "      <th>120644</th>\n",
       "      <td>9.3</td>\n",
       "    </tr>\n",
       "    <tr>\n",
       "      <th>120645</th>\n",
       "      <td>6.9</td>\n",
       "    </tr>\n",
       "    <tr>\n",
       "      <th>120646</th>\n",
       "      <td>2.5</td>\n",
       "    </tr>\n",
       "    <tr>\n",
       "      <th>120647</th>\n",
       "      <td>1.7</td>\n",
       "    </tr>\n",
       "  </tbody>\n",
       "</table>\n",
       "</div>"
      ],
      "text/plain": [
       "        Sunshine\n",
       "120638       9.1\n",
       "120639       7.0\n",
       "120640       7.3\n",
       "120641       4.7\n",
       "120642       4.9\n",
       "120643       9.3\n",
       "120644       9.3\n",
       "120645       6.9\n",
       "120646       2.5\n",
       "120647       1.7"
      ]
     },
     "execution_count": 31,
     "metadata": {},
     "output_type": "execute_result"
    }
   ],
   "source": [
    "sunshine_df = num_df['Sunshine']\n",
    "pd.DataFrame(sunshine_df).head(10)"
   ]
  },
  {
   "cell_type": "markdown",
   "id": "6660e6cc",
   "metadata": {
    "papermill": {
     "duration": 0.025206,
     "end_time": "2022-12-26T08:18:49.756402",
     "exception": false,
     "start_time": "2022-12-26T08:18:49.731196",
     "status": "completed"
    },
    "tags": []
   },
   "source": [
    "There are $5$ missing values for *Sunshine* values."
   ]
  },
  {
   "cell_type": "code",
   "execution_count": 32,
   "id": "8b80aaee",
   "metadata": {
    "_kg_hide-input": true,
    "execution": {
     "iopub.execute_input": "2022-12-26T08:18:49.809370Z",
     "iopub.status.busy": "2022-12-26T08:18:49.808946Z",
     "iopub.status.idle": "2022-12-26T08:18:49.815754Z",
     "shell.execute_reply": "2022-12-26T08:18:49.814140Z"
    },
    "papermill": {
     "duration": 0.037814,
     "end_time": "2022-12-26T08:18:49.819570",
     "exception": false,
     "start_time": "2022-12-26T08:18:49.781756",
     "status": "completed"
    },
    "tags": []
   },
   "outputs": [
    {
     "name": "stdout",
     "output_type": "stream",
     "text": [
      "Missing Sunshine values: 5 (0.16%)\n"
     ]
    }
   ],
   "source": [
    "missing_sunshine_values = sunshine_df.isna().sum()\n",
    "missing_sunshine_values_perc = missing_sunshine_values / len(sunshine_df)\n",
    "\n",
    "print(f\"Missing Sunshine values: {missing_sunshine_values} ({missing_sunshine_values_perc*100:.2f}%)\")"
   ]
  },
  {
   "cell_type": "markdown",
   "id": "c7b345e1",
   "metadata": {
    "papermill": {
     "duration": 0.024572,
     "end_time": "2022-12-26T08:18:49.869287",
     "exception": false,
     "start_time": "2022-12-26T08:18:49.844715",
     "status": "completed"
    },
    "tags": []
   },
   "source": [
    "The values range from $0.0$ to $13.0$ with a mean of $8.78$ and a standard deviation of $3.47$."
   ]
  },
  {
   "cell_type": "code",
   "execution_count": 33,
   "id": "00e6c7a7",
   "metadata": {
    "_kg_hide-input": true,
    "execution": {
     "iopub.execute_input": "2022-12-26T08:18:49.920877Z",
     "iopub.status.busy": "2022-12-26T08:18:49.920268Z",
     "iopub.status.idle": "2022-12-26T08:18:49.935507Z",
     "shell.execute_reply": "2022-12-26T08:18:49.934912Z"
    },
    "papermill": {
     "duration": 0.043298,
     "end_time": "2022-12-26T08:18:49.937407",
     "exception": false,
     "start_time": "2022-12-26T08:18:49.894109",
     "status": "completed"
    },
    "tags": []
   },
   "outputs": [
    {
     "data": {
      "text/html": [
       "<div>\n",
       "<style scoped>\n",
       "    .dataframe tbody tr th:only-of-type {\n",
       "        vertical-align: middle;\n",
       "    }\n",
       "\n",
       "    .dataframe tbody tr th {\n",
       "        vertical-align: top;\n",
       "    }\n",
       "\n",
       "    .dataframe thead th {\n",
       "        text-align: right;\n",
       "    }\n",
       "</style>\n",
       "<table border=\"1\" class=\"dataframe\">\n",
       "  <thead>\n",
       "    <tr style=\"text-align: right;\">\n",
       "      <th></th>\n",
       "      <th>count</th>\n",
       "      <th>mean</th>\n",
       "      <th>std</th>\n",
       "      <th>min</th>\n",
       "      <th>25%</th>\n",
       "      <th>50%</th>\n",
       "      <th>75%</th>\n",
       "      <th>max</th>\n",
       "    </tr>\n",
       "  </thead>\n",
       "  <tbody>\n",
       "    <tr>\n",
       "      <th>Sunshine</th>\n",
       "      <td>3188.0</td>\n",
       "      <td>8.784536</td>\n",
       "      <td>3.46685</td>\n",
       "      <td>0.0</td>\n",
       "      <td>6.6</td>\n",
       "      <td>9.4</td>\n",
       "      <td>11.5</td>\n",
       "      <td>13.9</td>\n",
       "    </tr>\n",
       "  </tbody>\n",
       "</table>\n",
       "</div>"
      ],
      "text/plain": [
       "           count      mean      std  min  25%  50%   75%   max\n",
       "Sunshine  3188.0  8.784536  3.46685  0.0  6.6  9.4  11.5  13.9"
      ]
     },
     "execution_count": 33,
     "metadata": {},
     "output_type": "execute_result"
    }
   ],
   "source": [
    "pd.DataFrame(sunshine_df).describe().transpose()"
   ]
  },
  {
   "cell_type": "markdown",
   "id": "d0678093",
   "metadata": {
    "papermill": {
     "duration": 0.02491,
     "end_time": "2022-12-26T08:18:49.987775",
     "exception": false,
     "start_time": "2022-12-26T08:18:49.962865",
     "status": "completed"
    },
    "tags": []
   },
   "source": [
    "The data is negatively skewed with `skewness` = $-0.74$. There are no outliers in the dataset."
   ]
  },
  {
   "cell_type": "code",
   "execution_count": 34,
   "id": "1eeba805",
   "metadata": {
    "_kg_hide-input": true,
    "execution": {
     "iopub.execute_input": "2022-12-26T08:18:50.041102Z",
     "iopub.status.busy": "2022-12-26T08:18:50.040489Z",
     "iopub.status.idle": "2022-12-26T08:18:50.277696Z",
     "shell.execute_reply": "2022-12-26T08:18:50.275864Z"
    },
    "papermill": {
     "duration": 0.266767,
     "end_time": "2022-12-26T08:18:50.280203",
     "exception": false,
     "start_time": "2022-12-26T08:18:50.013436",
     "status": "completed"
    },
    "tags": []
   },
   "outputs": [
    {
     "data": {
      "image/png": "[encoded data removed]",
      "text/plain": [
       "<Figure size 1440x432 with 2 Axes>"
      ]
     },
     "metadata": {
      "needs_background": "light"
     },
     "output_type": "display_data"
    }
   ],
   "source": [
    "_, axes = plt.subplots(1, 2, figsize=(20,6))\n",
    "\n",
    "plt.title(\"Sunshine Distribution\")\n",
    "sunshine_df.hist(ax=axes[0])\n",
    "\n",
    "plt.title(\"Sunshine Boxplot\")\n",
    "sns.boxplot(x=sunshine_df)\n",
    "\n",
    "plt.show()"
   ]
  },
  {
   "cell_type": "code",
   "execution_count": 35,
   "id": "ca84da1f",
   "metadata": {
    "execution": {
     "iopub.execute_input": "2022-12-26T08:18:50.333729Z",
     "iopub.status.busy": "2022-12-26T08:18:50.333341Z",
     "iopub.status.idle": "2022-12-26T08:18:50.340239Z",
     "shell.execute_reply": "2022-12-26T08:18:50.339047Z"
    },
    "papermill": {
     "duration": 0.036331,
     "end_time": "2022-12-26T08:18:50.342414",
     "exception": false,
     "start_time": "2022-12-26T08:18:50.306083",
     "status": "completed"
    },
    "tags": []
   },
   "outputs": [
    {
     "name": "stdout",
     "output_type": "stream",
     "text": [
      "Skewness of the dataset: -0.74\n"
     ]
    }
   ],
   "source": [
    "sunshine_skewness = sunshine_df.skew()\n",
    "\n",
    "print(f\"Skewness of the dataset: {sunshine_skewness:.2f}\")"
   ]
  },
  {
   "cell_type": "markdown",
   "id": "ef2c3240",
   "metadata": {
    "papermill": {
     "duration": 0.026722,
     "end_time": "2022-12-26T08:18:50.395101",
     "exception": false,
     "start_time": "2022-12-26T08:18:50.368379",
     "status": "completed"
    },
    "tags": []
   },
   "source": [
    "### __WindGustSpeed\n",
    "\n",
    "📙 **SUMMARY**\n",
    "* The data is expressed in **km/hr**.\n",
    "* The distribution is positively skewed at `skewness` = $0.65$.\n",
    "* There are $49$ outliers in the dataset."
   ]
  },
  {
   "cell_type": "markdown",
   "id": "38876263",
   "metadata": {
    "papermill": {
     "duration": 0.025795,
     "end_time": "2022-12-26T08:18:50.446845",
     "exception": false,
     "start_time": "2022-12-26T08:18:50.421050",
     "status": "completed"
    },
    "tags": []
   },
   "source": [
    "The *WindGustSpeed* represents the speed of the strongest wind speed within 24 hours and expressed in **km/hr**."
   ]
  },
  {
   "cell_type": "code",
   "execution_count": 36,
   "id": "93ac84a2",
   "metadata": {
    "_kg_hide-input": true,
    "execution": {
     "iopub.execute_input": "2022-12-26T08:18:50.501876Z",
     "iopub.status.busy": "2022-12-26T08:18:50.500655Z",
     "iopub.status.idle": "2022-12-26T08:18:50.511137Z",
     "shell.execute_reply": "2022-12-26T08:18:50.510426Z"
    },
    "papermill": {
     "duration": 0.039525,
     "end_time": "2022-12-26T08:18:50.512755",
     "exception": false,
     "start_time": "2022-12-26T08:18:50.473230",
     "status": "completed"
    },
    "tags": []
   },
   "outputs": [
    {
     "data": {
      "text/html": [
       "<div>\n",
       "<style scoped>\n",
       "    .dataframe tbody tr th:only-of-type {\n",
       "        vertical-align: middle;\n",
       "    }\n",
       "\n",
       "    .dataframe tbody tr th {\n",
       "        vertical-align: top;\n",
       "    }\n",
       "\n",
       "    .dataframe thead th {\n",
       "        text-align: right;\n",
       "    }\n",
       "</style>\n",
       "<table border=\"1\" class=\"dataframe\">\n",
       "  <thead>\n",
       "    <tr style=\"text-align: right;\">\n",
       "      <th></th>\n",
       "      <th>WindGustSpeed</th>\n",
       "    </tr>\n",
       "  </thead>\n",
       "  <tbody>\n",
       "    <tr>\n",
       "      <th>120638</th>\n",
       "      <td>20.0</td>\n",
       "    </tr>\n",
       "    <tr>\n",
       "      <th>120639</th>\n",
       "      <td>22.0</td>\n",
       "    </tr>\n",
       "    <tr>\n",
       "      <th>120640</th>\n",
       "      <td>31.0</td>\n",
       "    </tr>\n",
       "    <tr>\n",
       "      <th>120641</th>\n",
       "      <td>26.0</td>\n",
       "    </tr>\n",
       "    <tr>\n",
       "      <th>120642</th>\n",
       "      <td>44.0</td>\n",
       "    </tr>\n",
       "    <tr>\n",
       "      <th>120643</th>\n",
       "      <td>24.0</td>\n",
       "    </tr>\n",
       "    <tr>\n",
       "      <th>120644</th>\n",
       "      <td>37.0</td>\n",
       "    </tr>\n",
       "    <tr>\n",
       "      <th>120645</th>\n",
       "      <td>24.0</td>\n",
       "    </tr>\n",
       "    <tr>\n",
       "      <th>120646</th>\n",
       "      <td>31.0</td>\n",
       "    </tr>\n",
       "    <tr>\n",
       "      <th>120647</th>\n",
       "      <td>46.0</td>\n",
       "    </tr>\n",
       "  </tbody>\n",
       "</table>\n",
       "</div>"
      ],
      "text/plain": [
       "        WindGustSpeed\n",
       "120638           20.0\n",
       "120639           22.0\n",
       "120640           31.0\n",
       "120641           26.0\n",
       "120642           44.0\n",
       "120643           24.0\n",
       "120644           37.0\n",
       "120645           24.0\n",
       "120646           31.0\n",
       "120647           46.0"
      ]
     },
     "execution_count": 36,
     "metadata": {},
     "output_type": "execute_result"
    }
   ],
   "source": [
    "wind_gust_speed_df = df['WindGustSpeed']\n",
    "pd.DataFrame(wind_gust_speed_df).head(10)"
   ]
  },
  {
   "cell_type": "markdown",
   "id": "98cbefe2",
   "metadata": {
    "papermill": {
     "duration": 0.024617,
     "end_time": "2022-12-26T08:18:50.562665",
     "exception": false,
     "start_time": "2022-12-26T08:18:50.538048",
     "status": "completed"
    },
    "tags": []
   },
   "source": [
    "There are $5$ ($0.002\\%$) missing values for *WindGustSpeed* dataset."
   ]
  },
  {
   "cell_type": "code",
   "execution_count": 37,
   "id": "037a0527",
   "metadata": {
    "_kg_hide-input": true,
    "execution": {
     "iopub.execute_input": "2022-12-26T08:18:50.615230Z",
     "iopub.status.busy": "2022-12-26T08:18:50.614599Z",
     "iopub.status.idle": "2022-12-26T08:18:50.620792Z",
     "shell.execute_reply": "2022-12-26T08:18:50.619307Z"
    },
    "papermill": {
     "duration": 0.03496,
     "end_time": "2022-12-26T08:18:50.622782",
     "exception": false,
     "start_time": "2022-12-26T08:18:50.587822",
     "status": "completed"
    },
    "tags": []
   },
   "outputs": [
    {
     "name": "stdout",
     "output_type": "stream",
     "text": [
      "Missing wind gust speed values: 5 (0.002%)\n"
     ]
    }
   ],
   "source": [
    "missing_wind_gust_speed = wind_gust_speed_df.isna().sum()\n",
    "missing_wind_gust_speed_perc = missing_wind_gust_speed / len(wind_gust_speed_df)\n",
    "\n",
    "print(f\"Missing wind gust speed values: {missing_wind_gust_speed} ({missing_wind_gust_speed_perc:.3f}%)\")"
   ]
  },
  {
   "cell_type": "markdown",
   "id": "af63dc20",
   "metadata": {
    "papermill": {
     "duration": 0.026207,
     "end_time": "2022-12-26T08:18:50.675323",
     "exception": false,
     "start_time": "2022-12-26T08:18:50.649116",
     "status": "completed"
    },
    "tags": []
   },
   "source": [
    "The *WindGustSpeed* values range from $11.0$ - $83.0$ with a mean of $34.88$ and a standard deviation of $9.41$."
   ]
  },
  {
   "cell_type": "code",
   "execution_count": 38,
   "id": "746657e9",
   "metadata": {
    "execution": {
     "iopub.execute_input": "2022-12-26T08:18:50.730103Z",
     "iopub.status.busy": "2022-12-26T08:18:50.729442Z",
     "iopub.status.idle": "2022-12-26T08:18:50.746019Z",
     "shell.execute_reply": "2022-12-26T08:18:50.744564Z"
    },
    "papermill": {
     "duration": 0.046825,
     "end_time": "2022-12-26T08:18:50.748575",
     "exception": false,
     "start_time": "2022-12-26T08:18:50.701750",
     "status": "completed"
    },
    "tags": []
   },
   "outputs": [
    {
     "data": {
      "text/html": [
       "<div>\n",
       "<style scoped>\n",
       "    .dataframe tbody tr th:only-of-type {\n",
       "        vertical-align: middle;\n",
       "    }\n",
       "\n",
       "    .dataframe tbody tr th {\n",
       "        vertical-align: top;\n",
       "    }\n",
       "\n",
       "    .dataframe thead th {\n",
       "        text-align: right;\n",
       "    }\n",
       "</style>\n",
       "<table border=\"1\" class=\"dataframe\">\n",
       "  <thead>\n",
       "    <tr style=\"text-align: right;\">\n",
       "      <th></th>\n",
       "      <th>count</th>\n",
       "      <th>mean</th>\n",
       "      <th>std</th>\n",
       "      <th>min</th>\n",
       "      <th>25%</th>\n",
       "      <th>50%</th>\n",
       "      <th>75%</th>\n",
       "      <th>max</th>\n",
       "    </tr>\n",
       "  </thead>\n",
       "  <tbody>\n",
       "    <tr>\n",
       "      <th>WindGustSpeed</th>\n",
       "      <td>3188.0</td>\n",
       "      <td>34.882999</td>\n",
       "      <td>9.411943</td>\n",
       "      <td>11.0</td>\n",
       "      <td>28.0</td>\n",
       "      <td>35.0</td>\n",
       "      <td>41.0</td>\n",
       "      <td>83.0</td>\n",
       "    </tr>\n",
       "  </tbody>\n",
       "</table>\n",
       "</div>"
      ],
      "text/plain": [
       "                count       mean       std   min   25%   50%   75%   max\n",
       "WindGustSpeed  3188.0  34.882999  9.411943  11.0  28.0  35.0  41.0  83.0"
      ]
     },
     "execution_count": 38,
     "metadata": {},
     "output_type": "execute_result"
    }
   ],
   "source": [
    "pd.DataFrame(wind_gust_speed_df).describe().transpose()"
   ]
  },
  {
   "cell_type": "code",
   "execution_count": 39,
   "id": "d98fe693",
   "metadata": {
    "_kg_hide-input": true,
    "execution": {
     "iopub.execute_input": "2022-12-26T08:18:50.803864Z",
     "iopub.status.busy": "2022-12-26T08:18:50.802819Z",
     "iopub.status.idle": "2022-12-26T08:18:51.039644Z",
     "shell.execute_reply": "2022-12-26T08:18:51.038368Z"
    },
    "papermill": {
     "duration": 0.266041,
     "end_time": "2022-12-26T08:18:51.041427",
     "exception": false,
     "start_time": "2022-12-26T08:18:50.775386",
     "status": "completed"
    },
    "tags": []
   },
   "outputs": [
    {
     "data": {
      "image/png": "[encoded data removed]",
      "text/plain": [
       "<Figure size 1440x432 with 2 Axes>"
      ]
     },
     "metadata": {
      "needs_background": "light"
     },
     "output_type": "display_data"
    }
   ],
   "source": [
    "_, axes = plt.subplots(1, 2, figsize=(20, 6))\n",
    "\n",
    "plt.title(\"Wind Gust Speed Distribution\")\n",
    "wind_gust_speed_df.hist(ax=axes[0])\n",
    "\n",
    "plt.title(\"Wind Gust Speed Boxplot\")\n",
    "sns.boxplot(ax=axes[1], x=wind_gust_speed_df)\n",
    "\n",
    "plt.show()"
   ]
  },
  {
   "cell_type": "markdown",
   "id": "1fa6a3fd",
   "metadata": {
    "papermill": {
     "duration": 0.026412,
     "end_time": "2022-12-26T08:18:51.094173",
     "exception": false,
     "start_time": "2022-12-26T08:18:51.067761",
     "status": "completed"
    },
    "tags": []
   },
   "source": [
    "The data distribution is positively skewed with `skewness` = $0.65$."
   ]
  },
  {
   "cell_type": "code",
   "execution_count": 40,
   "id": "e55a4018",
   "metadata": {
    "_kg_hide-input": true,
    "execution": {
     "iopub.execute_input": "2022-12-26T08:18:51.148576Z",
     "iopub.status.busy": "2022-12-26T08:18:51.148263Z",
     "iopub.status.idle": "2022-12-26T08:18:51.154743Z",
     "shell.execute_reply": "2022-12-26T08:18:51.153210Z"
    },
    "papermill": {
     "duration": 0.036082,
     "end_time": "2022-12-26T08:18:51.157027",
     "exception": false,
     "start_time": "2022-12-26T08:18:51.120945",
     "status": "completed"
    },
    "tags": []
   },
   "outputs": [
    {
     "name": "stdout",
     "output_type": "stream",
     "text": [
      "Wind Gust Speed Skewness: 0.65\n"
     ]
    }
   ],
   "source": [
    "wind_gust_speed_skewness = wind_gust_speed_df.skew()\n",
    "\n",
    "print(f\"Wind Gust Speed Skewness: {wind_gust_speed_skewness:.2f}\")"
   ]
  },
  {
   "cell_type": "code",
   "execution_count": 41,
   "id": "a24cd9fa",
   "metadata": {
    "_kg_hide-input": true,
    "execution": {
     "iopub.execute_input": "2022-12-26T08:18:51.211629Z",
     "iopub.status.busy": "2022-12-26T08:18:51.211220Z",
     "iopub.status.idle": "2022-12-26T08:18:51.223084Z",
     "shell.execute_reply": "2022-12-26T08:18:51.221581Z"
    },
    "papermill": {
     "duration": 0.042149,
     "end_time": "2022-12-26T08:18:51.225571",
     "exception": false,
     "start_time": "2022-12-26T08:18:51.183422",
     "status": "completed"
    },
    "tags": []
   },
   "outputs": [
    {
     "name": "stdout",
     "output_type": "stream",
     "text": [
      "Number of outliers: 49\n"
     ]
    },
    {
     "data": {
      "text/plain": [
       "61.0    14\n",
       "63.0     7\n",
       "67.0     6\n",
       "70.0     6\n",
       "65.0     5\n",
       "76.0     3\n",
       "72.0     3\n",
       "69.0     2\n",
       "74.0     1\n",
       "83.0     1\n",
       "78.0     1\n",
       "Name: WindGustSpeed, dtype: int64"
      ]
     },
     "execution_count": 41,
     "metadata": {},
     "output_type": "execute_result"
    }
   ],
   "source": [
    "no_missing_wind_gust_speed_df = wind_gust_speed_df[~wind_gust_speed_df.isna()]\n",
    "\n",
    "perc_75, perc_25 = np.percentile(no_missing_wind_gust_speed_df, [75, 25])\n",
    "iqr = perc_75 - perc_25\n",
    "boundary = perc_75 + 1.5*iqr\n",
    "outliers = no_missing_wind_gust_speed_df[no_missing_wind_gust_speed_df > boundary]\n",
    "\n",
    "print(f\"Number of outliers: {len(outliers)}\")\n",
    "outliers.value_counts()"
   ]
  },
  {
   "cell_type": "markdown",
   "id": "7f4f6d03",
   "metadata": {
    "papermill": {
     "duration": 0.026546,
     "end_time": "2022-12-26T08:18:51.279601",
     "exception": false,
     "start_time": "2022-12-26T08:18:51.253055",
     "status": "completed"
    },
    "tags": []
   },
   "source": [
    "### __WindSpeed9AM\n",
    "\n",
    "\n",
    "📙 **SUMMARY**\n",
    "* The data is expressed in **km/hr**.\n",
    "* There is only $1$ missing value for *WindSpeed3pm*.\n",
    "* The distribution of both datasets are normal and are symmetric.\n",
    "* There are $5$ outlier data points on the *WindSpeed9am* dataset."
   ]
  },
  {
   "cell_type": "markdown",
   "id": "6bebd514",
   "metadata": {
    "papermill": {
     "duration": 0.027117,
     "end_time": "2022-12-26T08:18:51.333930",
     "exception": false,
     "start_time": "2022-12-26T08:18:51.306813",
     "status": "completed"
    },
    "tags": []
   },
   "source": [
    "The average wind speed data over $10$ minutes prior to `9AM` (*WindSpeed9am*) and over $10$ minutes prior to `3PM` (*WindSpeed3pm*). The values are expressed in **km/hr**."
   ]
  },
  {
   "cell_type": "code",
   "execution_count": 42,
   "id": "4543bd5d",
   "metadata": {
    "execution": {
     "iopub.execute_input": "2022-12-26T08:18:51.388706Z",
     "iopub.status.busy": "2022-12-26T08:18:51.388338Z",
     "iopub.status.idle": "2022-12-26T08:18:51.402379Z",
     "shell.execute_reply": "2022-12-26T08:18:51.401051Z"
    },
    "papermill": {
     "duration": 0.043906,
     "end_time": "2022-12-26T08:18:51.404756",
     "exception": false,
     "start_time": "2022-12-26T08:18:51.360850",
     "status": "completed"
    },
    "tags": []
   },
   "outputs": [
    {
     "data": {
      "text/html": [
       "<div>\n",
       "<style scoped>\n",
       "    .dataframe tbody tr th:only-of-type {\n",
       "        vertical-align: middle;\n",
       "    }\n",
       "\n",
       "    .dataframe tbody tr th {\n",
       "        vertical-align: top;\n",
       "    }\n",
       "\n",
       "    .dataframe thead th {\n",
       "        text-align: right;\n",
       "    }\n",
       "</style>\n",
       "<table border=\"1\" class=\"dataframe\">\n",
       "  <thead>\n",
       "    <tr style=\"text-align: right;\">\n",
       "      <th></th>\n",
       "      <th>WindSpeed9am</th>\n",
       "      <th>WindSpeed3pm</th>\n",
       "    </tr>\n",
       "  </thead>\n",
       "  <tbody>\n",
       "    <tr>\n",
       "      <th>120638</th>\n",
       "      <td>0.0</td>\n",
       "      <td>7.0</td>\n",
       "    </tr>\n",
       "    <tr>\n",
       "      <th>120639</th>\n",
       "      <td>6.0</td>\n",
       "      <td>9.0</td>\n",
       "    </tr>\n",
       "    <tr>\n",
       "      <th>120640</th>\n",
       "      <td>0.0</td>\n",
       "      <td>4.0</td>\n",
       "    </tr>\n",
       "    <tr>\n",
       "      <th>120641</th>\n",
       "      <td>11.0</td>\n",
       "      <td>6.0</td>\n",
       "    </tr>\n",
       "    <tr>\n",
       "      <th>120642</th>\n",
       "      <td>13.0</td>\n",
       "      <td>17.0</td>\n",
       "    </tr>\n",
       "    <tr>\n",
       "      <th>120643</th>\n",
       "      <td>4.0</td>\n",
       "      <td>7.0</td>\n",
       "    </tr>\n",
       "    <tr>\n",
       "      <th>120644</th>\n",
       "      <td>15.0</td>\n",
       "      <td>13.0</td>\n",
       "    </tr>\n",
       "    <tr>\n",
       "      <th>120645</th>\n",
       "      <td>9.0</td>\n",
       "      <td>13.0</td>\n",
       "    </tr>\n",
       "    <tr>\n",
       "      <th>120646</th>\n",
       "      <td>0.0</td>\n",
       "      <td>9.0</td>\n",
       "    </tr>\n",
       "    <tr>\n",
       "      <th>120647</th>\n",
       "      <td>19.0</td>\n",
       "      <td>11.0</td>\n",
       "    </tr>\n",
       "  </tbody>\n",
       "</table>\n",
       "</div>"
      ],
      "text/plain": [
       "        WindSpeed9am  WindSpeed3pm\n",
       "120638           0.0           7.0\n",
       "120639           6.0           9.0\n",
       "120640           0.0           4.0\n",
       "120641          11.0           6.0\n",
       "120642          13.0          17.0\n",
       "120643           4.0           7.0\n",
       "120644          15.0          13.0\n",
       "120645           9.0          13.0\n",
       "120646           0.0           9.0\n",
       "120647          19.0          11.0"
      ]
     },
     "execution_count": 42,
     "metadata": {},
     "output_type": "execute_result"
    }
   ],
   "source": [
    "wind_speed_df = num_df[['WindSpeed9am', 'WindSpeed3pm']]\n",
    "wind_speed_df.head(10)"
   ]
  },
  {
   "cell_type": "markdown",
   "id": "d75f2d97",
   "metadata": {
    "papermill": {
     "duration": 0.027405,
     "end_time": "2022-12-26T08:18:51.460420",
     "exception": false,
     "start_time": "2022-12-26T08:18:51.433015",
     "status": "completed"
    },
    "tags": []
   },
   "source": [
    "There are no missing values for *MissingWindSpeed9am* and only $1$ missing value for *WindSpeed3pm*."
   ]
  },
  {
   "cell_type": "code",
   "execution_count": 43,
   "id": "77aa56a8",
   "metadata": {
    "_kg_hide-input": true,
    "execution": {
     "iopub.execute_input": "2022-12-26T08:18:51.520434Z",
     "iopub.status.busy": "2022-12-26T08:18:51.520089Z",
     "iopub.status.idle": "2022-12-26T08:18:51.527939Z",
     "shell.execute_reply": "2022-12-26T08:18:51.526132Z"
    },
    "papermill": {
     "duration": 0.040479,
     "end_time": "2022-12-26T08:18:51.530410",
     "exception": false,
     "start_time": "2022-12-26T08:18:51.489931",
     "status": "completed"
    },
    "tags": []
   },
   "outputs": [
    {
     "name": "stdout",
     "output_type": "stream",
     "text": [
      "Missing WindSpeed9am: 0 (0.00%)\n",
      "Missing WindSpeed3pm: 1 (0.03%)\n"
     ]
    }
   ],
   "source": [
    "missing_wind_speed_count = wind_speed_df.isna().sum()\n",
    "missing_wind_speed_perc = missing_wind_speed_count / len(wind_speed_df)\n",
    "\n",
    "print(f\"Missing WindSpeed9am: {missing_wind_speed_count['WindSpeed9am']} ({(missing_wind_speed_perc['WindSpeed9am'] * 100):.2f}%)\")\n",
    "print(f\"Missing WindSpeed3pm: {missing_wind_speed_count['WindSpeed3pm']} ({(missing_wind_speed_perc['WindSpeed3pm'] * 100):.2f}%)\")"
   ]
  },
  {
   "cell_type": "markdown",
   "id": "2b88f0ab",
   "metadata": {
    "papermill": {
     "duration": 0.027248,
     "end_time": "2022-12-26T08:18:51.585325",
     "exception": false,
     "start_time": "2022-12-26T08:18:51.558077",
     "status": "completed"
    },
    "tags": []
   },
   "source": [
    "Both datasets follows the normal distribution and are roughly symmetric.The *WindSpeed9am* attribute has $5$ outlier data points whille the *WindSpeed3on* has none."
   ]
  },
  {
   "cell_type": "code",
   "execution_count": 44,
   "id": "00362447",
   "metadata": {
    "_kg_hide-input": true,
    "execution": {
     "iopub.execute_input": "2022-12-26T08:18:51.641051Z",
     "iopub.status.busy": "2022-12-26T08:18:51.640636Z",
     "iopub.status.idle": "2022-12-26T08:18:52.033405Z",
     "shell.execute_reply": "2022-12-26T08:18:52.032744Z"
    },
    "papermill": {
     "duration": 0.422904,
     "end_time": "2022-12-26T08:18:52.035228",
     "exception": false,
     "start_time": "2022-12-26T08:18:51.612324",
     "status": "completed"
    },
    "tags": []
   },
   "outputs": [
    {
     "data": {
      "image/png": "[encoded data removed]",
      "text/plain": [
       "<Figure size 1440x432 with 4 Axes>"
      ]
     },
     "metadata": {
      "needs_background": "light"
     },
     "output_type": "display_data"
    }
   ],
   "source": [
    "_, axes = plt.subplots(2,2,figsize=(20,6))\n",
    "\n",
    "wind_speed_df.hist(ax=axes[0])\n",
    "\n",
    "sns.boxplot(ax=axes[1,0], x=wind_speed_df['WindSpeed9am'])\n",
    "sns.boxplot(ax=axes[1,1], x=wind_speed_df['WindSpeed3pm'])\n",
    "plt.show()"
   ]
  },
  {
   "cell_type": "code",
   "execution_count": 45,
   "id": "cba591e2",
   "metadata": {
    "_kg_hide-input": true,
    "execution": {
     "iopub.execute_input": "2022-12-26T08:18:52.092318Z",
     "iopub.status.busy": "2022-12-26T08:18:52.091693Z",
     "iopub.status.idle": "2022-12-26T08:18:52.097617Z",
     "shell.execute_reply": "2022-12-26T08:18:52.096636Z"
    },
    "papermill": {
     "duration": 0.036078,
     "end_time": "2022-12-26T08:18:52.099358",
     "exception": false,
     "start_time": "2022-12-26T08:18:52.063280",
     "status": "completed"
    },
    "tags": []
   },
   "outputs": [
    {
     "name": "stdout",
     "output_type": "stream",
     "text": [
      "WindSpeed9am skewness: 0.15\n",
      "WindSpeed3pm skewness: 0.17\n"
     ]
    }
   ],
   "source": [
    "wind_speed_df_skewness = wind_speed_df.skew()\n",
    "\n",
    "print(f\"WindSpeed9am skewness: {wind_speed_df_skewness['WindSpeed9am']:.2f}\")\n",
    "print(f\"WindSpeed3pm skewness: {wind_speed_df_skewness['WindSpeed3pm']:.2f}\")"
   ]
  },
  {
   "cell_type": "code",
   "execution_count": 46,
   "id": "f0d08dae",
   "metadata": {
    "_kg_hide-input": true,
    "execution": {
     "iopub.execute_input": "2022-12-26T08:18:52.157343Z",
     "iopub.status.busy": "2022-12-26T08:18:52.156975Z",
     "iopub.status.idle": "2022-12-26T08:18:52.168920Z",
     "shell.execute_reply": "2022-12-26T08:18:52.167527Z"
    },
    "papermill": {
     "duration": 0.04302,
     "end_time": "2022-12-26T08:18:52.171017",
     "exception": false,
     "start_time": "2022-12-26T08:18:52.127997",
     "status": "completed"
    },
    "tags": []
   },
   "outputs": [
    {
     "name": "stdout",
     "output_type": "stream",
     "text": [
      "Number of outliers (WindSpeed9am): 5\n",
      "Outliers:\n"
     ]
    },
    {
     "data": {
      "text/plain": [
       "28.0    4\n",
       "30.0    1\n",
       "Name: WindSpeed9am, dtype: int64"
      ]
     },
     "execution_count": 46,
     "metadata": {},
     "output_type": "execute_result"
    }
   ],
   "source": [
    "no_missing_wind_speed_9am = wind_speed_df[~wind_speed_df['WindSpeed9am'].isna()]['WindSpeed9am']\n",
    "\n",
    "\n",
    "perc_75, perc_25 = np.percentile(no_missing_wind_speed_9am, [75,25])\n",
    "iqr = perc_75 - perc_25\n",
    "boundary = perc_75 + (1.5 * iqr)\n",
    "outliers = no_missing_wind_speed_9am[no_missing_wind_speed_9am > boundary]\n",
    "\n",
    "print(f\"Number of outliers (WindSpeed9am): {len(outliers)}\")\n",
    "print(\"Outliers:\")\n",
    "outliers.value_counts()"
   ]
  },
  {
   "cell_type": "markdown",
   "id": "787a79c5",
   "metadata": {
    "papermill": {
     "duration": 0.027026,
     "end_time": "2022-12-26T08:18:52.225655",
     "exception": false,
     "start_time": "2022-12-26T08:18:52.198629",
     "status": "completed"
    },
    "tags": []
   },
   "source": [
    "### __Humidity\n",
    "\n",
    "📙 **SUMMARY**\n",
    "* The data is expressed in **%** rounded to the nearest whole number. As with percentage, the data is capped from $0.0$ - $100.0$.\n",
    "* Both datasets are normally distributed with *Humidity3pm* slightly skewed positively at `skewness` = $0.266$.\n",
    "* The *Humidity3pm* has $49$ outlier data points with $9$ unique values."
   ]
  },
  {
   "cell_type": "markdown",
   "id": "646f25a5",
   "metadata": {
    "papermill": {
     "duration": 0.027252,
     "end_time": "2022-12-26T08:18:52.280124",
     "exception": false,
     "start_time": "2022-12-26T08:18:52.252872",
     "status": "completed"
    },
    "tags": []
   },
   "source": [
    "The (relative) humidity data is expressed in **%**."
   ]
  },
  {
   "cell_type": "code",
   "execution_count": 47,
   "id": "d29223df",
   "metadata": {
    "_kg_hide-input": true,
    "execution": {
     "iopub.execute_input": "2022-12-26T08:18:52.338683Z",
     "iopub.status.busy": "2022-12-26T08:18:52.337777Z",
     "iopub.status.idle": "2022-12-26T08:18:52.350208Z",
     "shell.execute_reply": "2022-12-26T08:18:52.349125Z"
    },
    "papermill": {
     "duration": 0.043976,
     "end_time": "2022-12-26T08:18:52.352044",
     "exception": false,
     "start_time": "2022-12-26T08:18:52.308068",
     "status": "completed"
    },
    "tags": []
   },
   "outputs": [
    {
     "data": {
      "text/html": [
       "<div>\n",
       "<style scoped>\n",
       "    .dataframe tbody tr th:only-of-type {\n",
       "        vertical-align: middle;\n",
       "    }\n",
       "\n",
       "    .dataframe tbody tr th {\n",
       "        vertical-align: top;\n",
       "    }\n",
       "\n",
       "    .dataframe thead th {\n",
       "        text-align: right;\n",
       "    }\n",
       "</style>\n",
       "<table border=\"1\" class=\"dataframe\">\n",
       "  <thead>\n",
       "    <tr style=\"text-align: right;\">\n",
       "      <th></th>\n",
       "      <th>Humidity9am</th>\n",
       "      <th>Humidity3pm</th>\n",
       "    </tr>\n",
       "  </thead>\n",
       "  <tbody>\n",
       "    <tr>\n",
       "      <th>120638</th>\n",
       "      <td>97.0</td>\n",
       "      <td>53.0</td>\n",
       "    </tr>\n",
       "    <tr>\n",
       "      <th>120639</th>\n",
       "      <td>80.0</td>\n",
       "      <td>39.0</td>\n",
       "    </tr>\n",
       "    <tr>\n",
       "      <th>120640</th>\n",
       "      <td>84.0</td>\n",
       "      <td>71.0</td>\n",
       "    </tr>\n",
       "    <tr>\n",
       "      <th>120641</th>\n",
       "      <td>93.0</td>\n",
       "      <td>73.0</td>\n",
       "    </tr>\n",
       "    <tr>\n",
       "      <th>120642</th>\n",
       "      <td>69.0</td>\n",
       "      <td>57.0</td>\n",
       "    </tr>\n",
       "    <tr>\n",
       "      <th>120643</th>\n",
       "      <td>86.0</td>\n",
       "      <td>41.0</td>\n",
       "    </tr>\n",
       "    <tr>\n",
       "      <th>120644</th>\n",
       "      <td>72.0</td>\n",
       "      <td>36.0</td>\n",
       "    </tr>\n",
       "    <tr>\n",
       "      <th>120645</th>\n",
       "      <td>58.0</td>\n",
       "      <td>42.0</td>\n",
       "    </tr>\n",
       "    <tr>\n",
       "      <th>120646</th>\n",
       "      <td>97.0</td>\n",
       "      <td>64.0</td>\n",
       "    </tr>\n",
       "    <tr>\n",
       "      <th>120647</th>\n",
       "      <td>79.0</td>\n",
       "      <td>50.0</td>\n",
       "    </tr>\n",
       "  </tbody>\n",
       "</table>\n",
       "</div>"
      ],
      "text/plain": [
       "        Humidity9am  Humidity3pm\n",
       "120638         97.0         53.0\n",
       "120639         80.0         39.0\n",
       "120640         84.0         71.0\n",
       "120641         93.0         73.0\n",
       "120642         69.0         57.0\n",
       "120643         86.0         41.0\n",
       "120644         72.0         36.0\n",
       "120645         58.0         42.0\n",
       "120646         97.0         64.0\n",
       "120647         79.0         50.0"
      ]
     },
     "execution_count": 47,
     "metadata": {},
     "output_type": "execute_result"
    }
   ],
   "source": [
    "humidity_df = num_df[['Humidity9am', 'Humidity3pm']]\n",
    "\n",
    "humidity_df.head(10)"
   ]
  },
  {
   "cell_type": "markdown",
   "id": "1bcc37c5",
   "metadata": {
    "papermill": {
     "duration": 0.027971,
     "end_time": "2022-12-26T08:18:52.409719",
     "exception": false,
     "start_time": "2022-12-26T08:18:52.381748",
     "status": "completed"
    },
    "tags": []
   },
   "source": [
    "There are $9$ ($0.28\\%$) missing vallues for *Humidity9am*, and $8$ ($0.25\\%$) missing values for *Humidity3pm*."
   ]
  },
  {
   "cell_type": "code",
   "execution_count": 48,
   "id": "92633bee",
   "metadata": {
    "_kg_hide-input": true,
    "execution": {
     "iopub.execute_input": "2022-12-26T08:18:52.467692Z",
     "iopub.status.busy": "2022-12-26T08:18:52.467078Z",
     "iopub.status.idle": "2022-12-26T08:18:52.474465Z",
     "shell.execute_reply": "2022-12-26T08:18:52.473043Z"
    },
    "papermill": {
     "duration": 0.03915,
     "end_time": "2022-12-26T08:18:52.476850",
     "exception": false,
     "start_time": "2022-12-26T08:18:52.437700",
     "status": "completed"
    },
    "tags": []
   },
   "outputs": [
    {
     "name": "stdout",
     "output_type": "stream",
     "text": [
      "Humidity9am missing values: 9 (0.28%)\n",
      "Humidity3pm missing values: 8 (0.25%)\n"
     ]
    }
   ],
   "source": [
    "missing_humidity_count = humidity_df.isna().sum()\n",
    "missing_humidity_perc = missing_humidity_count / len(humidity_df)\n",
    "\n",
    "print(f\"Humidity9am missing values: {missing_humidity_count['Humidity9am']} ({missing_humidity_perc['Humidity9am']*100:.2f}%)\")\n",
    "print(f\"Humidity3pm missing values: {missing_humidity_count['Humidity3pm']} ({missing_humidity_perc['Humidity3pm']*100:.2f}%)\")"
   ]
  },
  {
   "cell_type": "markdown",
   "id": "c143daa8",
   "metadata": {
    "papermill": {
     "duration": 0.027513,
     "end_time": "2022-12-26T08:18:52.532637",
     "exception": false,
     "start_time": "2022-12-26T08:18:52.505124",
     "status": "completed"
    },
    "tags": []
   },
   "source": [
    "Both datasets are normally distributed. The *Humidity3pm* dataset is slightly positively skewed at `skewness`= $0.266$ with $49$ outlier data points."
   ]
  },
  {
   "cell_type": "code",
   "execution_count": 49,
   "id": "a62c5058",
   "metadata": {
    "_kg_hide-input": true,
    "execution": {
     "iopub.execute_input": "2022-12-26T08:18:52.589191Z",
     "iopub.status.busy": "2022-12-26T08:18:52.588235Z",
     "iopub.status.idle": "2022-12-26T08:18:52.946166Z",
     "shell.execute_reply": "2022-12-26T08:18:52.945338Z"
    },
    "papermill": {
     "duration": 0.38821,
     "end_time": "2022-12-26T08:18:52.948041",
     "exception": false,
     "start_time": "2022-12-26T08:18:52.559831",
     "status": "completed"
    },
    "tags": []
   },
   "outputs": [
    {
     "data": {
      "image/png": "[encoded data removed]",
      "text/plain": [
       "<Figure size 1440x432 with 4 Axes>"
      ]
     },
     "metadata": {
      "needs_background": "light"
     },
     "output_type": "display_data"
    }
   ],
   "source": [
    "_, axes = plt.subplots(2, 2, figsize=(20,6))\n",
    "\n",
    "humidity_df.hist(ax=axes[0])\n",
    "\n",
    "sns.boxplot(ax=axes[1,0], x=humidity_df['Humidity9am'])\n",
    "sns.boxplot(ax=axes[1,1], x=humidity_df['Humidity3pm'])\n",
    "\n",
    "plt.show()"
   ]
  },
  {
   "cell_type": "code",
   "execution_count": 50,
   "id": "d75fbfd5",
   "metadata": {
    "_kg_hide-input": true,
    "execution": {
     "iopub.execute_input": "2022-12-26T08:18:53.005742Z",
     "iopub.status.busy": "2022-12-26T08:18:53.005390Z",
     "iopub.status.idle": "2022-12-26T08:18:53.011670Z",
     "shell.execute_reply": "2022-12-26T08:18:53.010791Z"
    },
    "papermill": {
     "duration": 0.037599,
     "end_time": "2022-12-26T08:18:53.013737",
     "exception": false,
     "start_time": "2022-12-26T08:18:52.976138",
     "status": "completed"
    },
    "tags": []
   },
   "outputs": [
    {
     "name": "stdout",
     "output_type": "stream",
     "text": [
      "Humidity9am skewness: -0.002\n",
      "Humidity3pm skewness: 0.266\n"
     ]
    }
   ],
   "source": [
    "humidity_skewness = humidity_df.skew()\n",
    "\n",
    "print(f\"Humidity9am skewness: {humidity_skewness['Humidity9am']:.3f}\")\n",
    "print(f\"Humidity3pm skewness: {humidity_skewness['Humidity3pm']:.3f}\")"
   ]
  },
  {
   "cell_type": "code",
   "execution_count": 51,
   "id": "47637783",
   "metadata": {
    "execution": {
     "iopub.execute_input": "2022-12-26T08:18:53.072274Z",
     "iopub.status.busy": "2022-12-26T08:18:53.071490Z",
     "iopub.status.idle": "2022-12-26T08:18:53.079766Z",
     "shell.execute_reply": "2022-12-26T08:18:53.078032Z"
    },
    "papermill": {
     "duration": 0.039673,
     "end_time": "2022-12-26T08:18:53.082069",
     "exception": false,
     "start_time": "2022-12-26T08:18:53.042396",
     "status": "completed"
    },
    "tags": []
   },
   "outputs": [
    {
     "name": "stdout",
     "output_type": "stream",
     "text": [
      "Number of outlier data points (Humidity3pm): 49\n",
      "Unique value count: (9 unique values)\n",
      "Outliers counts:\n",
      "  90.0 \t 10 occurrence(s)\n",
      "  94.0 \t 9 occurrence(s)\n",
      "  89.0 \t 9 occurrence(s)\n",
      "  93.0 \t 7 occurrence(s)\n",
      "  91.0 \t 7 occurrence(s)\n",
      "  92.0 \t 4 occurrence(s)\n",
      "  97.0 \t 1 occurrence(s)\n",
      "  96.0 \t 1 occurrence(s)\n",
      "  95.0 \t 1 occurrence(s)\n"
     ]
    }
   ],
   "source": [
    "identify_outliers(humidity_df, 'Humidity3pm')"
   ]
  },
  {
   "cell_type": "markdown",
   "id": "8eb38abf",
   "metadata": {
    "papermill": {
     "duration": 0.02755,
     "end_time": "2022-12-26T08:18:53.138289",
     "exception": false,
     "start_time": "2022-12-26T08:18:53.110739",
     "status": "completed"
    },
    "tags": []
   },
   "source": []
  },
  {
   "cell_type": "markdown",
   "id": "5e9a8bab",
   "metadata": {
    "papermill": {
     "duration": 0.029387,
     "end_time": "2022-12-26T08:18:53.196539",
     "exception": false,
     "start_time": "2022-12-26T08:18:53.167152",
     "status": "completed"
    },
    "tags": []
   },
   "source": [
    "### __Pressure\n",
    "\n",
    "📙 **SUMMARY**\n",
    "* The datasets are expressed in hectopascalsand are rounded to the nearest tenth of a decimal.\n",
    "* There is $1$ missing value for each dataset.\n",
    "* The distribution is symmetric  and follows a normal distribution.\n",
    "* Each dataset have outliers on both side: \n",
    "  * *Pressure9am* has $7$ low outliers and $4$ high outliers,\n",
    "  * *Pressure3pm* has $5$ low outliers and $3$ high outliers."
   ]
  },
  {
   "cell_type": "markdown",
   "id": "a9755e01",
   "metadata": {
    "papermill": {
     "duration": 0.028101,
     "end_time": "2022-12-26T08:18:53.253592",
     "exception": false,
     "start_time": "2022-12-26T08:18:53.225491",
     "status": "completed"
    },
    "tags": []
   },
   "source": [
    "The data refers to the atmospheric pressure at sea level in **hectopascals** and are rounded to the neearest tenths of a decimal."
   ]
  },
  {
   "cell_type": "code",
   "execution_count": 52,
   "id": "95396a22",
   "metadata": {
    "execution": {
     "iopub.execute_input": "2022-12-26T08:18:53.311689Z",
     "iopub.status.busy": "2022-12-26T08:18:53.311335Z",
     "iopub.status.idle": "2022-12-26T08:18:53.323214Z",
     "shell.execute_reply": "2022-12-26T08:18:53.322168Z"
    },
    "papermill": {
     "duration": 0.042942,
     "end_time": "2022-12-26T08:18:53.325088",
     "exception": false,
     "start_time": "2022-12-26T08:18:53.282146",
     "status": "completed"
    },
    "tags": []
   },
   "outputs": [
    {
     "data": {
      "text/html": [
       "<div>\n",
       "<style scoped>\n",
       "    .dataframe tbody tr th:only-of-type {\n",
       "        vertical-align: middle;\n",
       "    }\n",
       "\n",
       "    .dataframe tbody tr th {\n",
       "        vertical-align: top;\n",
       "    }\n",
       "\n",
       "    .dataframe thead th {\n",
       "        text-align: right;\n",
       "    }\n",
       "</style>\n",
       "<table border=\"1\" class=\"dataframe\">\n",
       "  <thead>\n",
       "    <tr style=\"text-align: right;\">\n",
       "      <th></th>\n",
       "      <th>Pressure9am</th>\n",
       "      <th>Pressure3pm</th>\n",
       "    </tr>\n",
       "  </thead>\n",
       "  <tbody>\n",
       "    <tr>\n",
       "      <th>120638</th>\n",
       "      <td>1027.6</td>\n",
       "      <td>1024.5</td>\n",
       "    </tr>\n",
       "    <tr>\n",
       "      <th>120639</th>\n",
       "      <td>1024.1</td>\n",
       "      <td>1019.0</td>\n",
       "    </tr>\n",
       "    <tr>\n",
       "      <th>120640</th>\n",
       "      <td>1016.8</td>\n",
       "      <td>1015.6</td>\n",
       "    </tr>\n",
       "    <tr>\n",
       "      <th>120641</th>\n",
       "      <td>1019.3</td>\n",
       "      <td>1018.4</td>\n",
       "    </tr>\n",
       "    <tr>\n",
       "      <th>120642</th>\n",
       "      <td>1020.4</td>\n",
       "      <td>1022.1</td>\n",
       "    </tr>\n",
       "    <tr>\n",
       "      <th>120643</th>\n",
       "      <td>1032.0</td>\n",
       "      <td>1029.6</td>\n",
       "    </tr>\n",
       "    <tr>\n",
       "      <th>120644</th>\n",
       "      <td>1028.9</td>\n",
       "      <td>1024.2</td>\n",
       "    </tr>\n",
       "    <tr>\n",
       "      <th>120645</th>\n",
       "      <td>1023.9</td>\n",
       "      <td>1021.1</td>\n",
       "    </tr>\n",
       "    <tr>\n",
       "      <th>120646</th>\n",
       "      <td>1026.4</td>\n",
       "      <td>1024.9</td>\n",
       "    </tr>\n",
       "    <tr>\n",
       "      <th>120647</th>\n",
       "      <td>1020.2</td>\n",
       "      <td>1014.0</td>\n",
       "    </tr>\n",
       "  </tbody>\n",
       "</table>\n",
       "</div>"
      ],
      "text/plain": [
       "        Pressure9am  Pressure3pm\n",
       "120638       1027.6       1024.5\n",
       "120639       1024.1       1019.0\n",
       "120640       1016.8       1015.6\n",
       "120641       1019.3       1018.4\n",
       "120642       1020.4       1022.1\n",
       "120643       1032.0       1029.6\n",
       "120644       1028.9       1024.2\n",
       "120645       1023.9       1021.1\n",
       "120646       1026.4       1024.9\n",
       "120647       1020.2       1014.0"
      ]
     },
     "execution_count": 52,
     "metadata": {},
     "output_type": "execute_result"
    }
   ],
   "source": [
    "pressure_df = num_df[['Pressure9am', 'Pressure3pm']]\n",
    "pressure_df.head(10)"
   ]
  },
  {
   "cell_type": "markdown",
   "id": "4e7a333c",
   "metadata": {
    "papermill": {
     "duration": 0.027764,
     "end_time": "2022-12-26T08:18:53.381231",
     "exception": false,
     "start_time": "2022-12-26T08:18:53.353467",
     "status": "completed"
    },
    "tags": []
   },
   "source": [
    "Both pressure datasets have $1$ missing value."
   ]
  },
  {
   "cell_type": "code",
   "execution_count": 53,
   "id": "56ca7a98",
   "metadata": {
    "execution": {
     "iopub.execute_input": "2022-12-26T08:18:53.438556Z",
     "iopub.status.busy": "2022-12-26T08:18:53.438210Z",
     "iopub.status.idle": "2022-12-26T08:18:53.446403Z",
     "shell.execute_reply": "2022-12-26T08:18:53.445101Z"
    },
    "papermill": {
     "duration": 0.039127,
     "end_time": "2022-12-26T08:18:53.448248",
     "exception": false,
     "start_time": "2022-12-26T08:18:53.409121",
     "status": "completed"
    },
    "tags": []
   },
   "outputs": [
    {
     "name": "stdout",
     "output_type": "stream",
     "text": [
      "Pressure9am missing values: 1 (0.03%)\n",
      "Pressure3pm missing values: 1 (0.03%)\n"
     ]
    }
   ],
   "source": [
    "missing_pressure_count = pressure_df.isna().sum()\n",
    "missing_pressure_perc = missing_pressure_count / len(pressure_df)\n",
    "\n",
    "\n",
    "print(f\"Pressure9am missing values: {missing_pressure_count['Pressure9am']} ({missing_pressure_perc['Pressure9am']*100:.2f}%)\")\n",
    "print(f\"Pressure3pm missing values: {missing_pressure_count['Pressure3pm']} ({missing_pressure_perc['Pressure3pm']*100:.2f}%)\")"
   ]
  },
  {
   "cell_type": "markdown",
   "id": "f7f775d5",
   "metadata": {
    "execution": {
     "iopub.execute_input": "2022-12-26T03:55:45.082239Z",
     "iopub.status.busy": "2022-12-26T03:55:45.081758Z",
     "iopub.status.idle": "2022-12-26T03:55:45.087023Z",
     "shell.execute_reply": "2022-12-26T03:55:45.086043Z",
     "shell.execute_reply.started": "2022-12-26T03:55:45.082215Z"
    },
    "papermill": {
     "duration": 0.027748,
     "end_time": "2022-12-26T08:18:53.503907",
     "exception": false,
     "start_time": "2022-12-26T08:18:53.476159",
     "status": "completed"
    },
    "tags": []
   },
   "source": [
    "Both datasets seem to be following the normal distribution and symmetric."
   ]
  },
  {
   "cell_type": "code",
   "execution_count": 54,
   "id": "03a72aa1",
   "metadata": {
    "execution": {
     "iopub.execute_input": "2022-12-26T08:18:53.561591Z",
     "iopub.status.busy": "2022-12-26T08:18:53.561025Z",
     "iopub.status.idle": "2022-12-26T08:18:54.168304Z",
     "shell.execute_reply": "2022-12-26T08:18:54.166907Z"
    },
    "papermill": {
     "duration": 0.638509,
     "end_time": "2022-12-26T08:18:54.170423",
     "exception": false,
     "start_time": "2022-12-26T08:18:53.531914",
     "status": "completed"
    },
    "tags": []
   },
   "outputs": [
    {
     "data": {
      "image/png": "[encoded data removed]",
      "text/plain": [
       "<Figure size 1440x432 with 4 Axes>"
      ]
     },
     "metadata": {
      "needs_background": "light"
     },
     "output_type": "display_data"
    }
   ],
   "source": [
    "_, axes = plt.subplots(2, 2, figsize=(20, 6))\n",
    "\n",
    "pressure_df.hist(ax=axes[0])\n",
    "sns.boxplot(ax=axes[1, 0], x=pressure_df['Pressure9am'])\n",
    "sns.boxplot(ax=axes[1, 1], x=pressure_df['Pressure3pm'])\n",
    "\n",
    "plt.show()"
   ]
  },
  {
   "cell_type": "code",
   "execution_count": 55,
   "id": "6b51ec8a",
   "metadata": {
    "execution": {
     "iopub.execute_input": "2022-12-26T08:18:54.230844Z",
     "iopub.status.busy": "2022-12-26T08:18:54.230474Z",
     "iopub.status.idle": "2022-12-26T08:18:54.238701Z",
     "shell.execute_reply": "2022-12-26T08:18:54.237267Z"
    },
    "papermill": {
     "duration": 0.042009,
     "end_time": "2022-12-26T08:18:54.241919",
     "exception": false,
     "start_time": "2022-12-26T08:18:54.199910",
     "status": "completed"
    },
    "tags": []
   },
   "outputs": [
    {
     "name": "stdout",
     "output_type": "stream",
     "text": [
      "Pressure9am skewness:  0.13\n",
      "Pressure3pm skewness:  0.15\n"
     ]
    }
   ],
   "source": [
    "pressure_skewness = pressure_df.skew()\n",
    "\n",
    "print(f\"Pressure9am skewness: {pressure_skewness['Pressure9am']: .2f}\")\n",
    "print(f\"Pressure3pm skewness: {pressure_skewness['Pressure3pm']: .2f}\")"
   ]
  },
  {
   "cell_type": "markdown",
   "id": "29b0f2b8",
   "metadata": {
    "papermill": {
     "duration": 0.029101,
     "end_time": "2022-12-26T08:18:54.301403",
     "exception": false,
     "start_time": "2022-12-26T08:18:54.272302",
     "status": "completed"
    },
    "tags": []
   },
   "source": [
    "The *Pressure9am* has $11$ outlier points with $10$ unique values while *Pressure3pm* has $8$ outlier points, each with different values."
   ]
  },
  {
   "cell_type": "code",
   "execution_count": 56,
   "id": "97f098c3",
   "metadata": {
    "execution": {
     "iopub.execute_input": "2022-12-26T08:18:54.361369Z",
     "iopub.status.busy": "2022-12-26T08:18:54.361023Z",
     "iopub.status.idle": "2022-12-26T08:18:54.370953Z",
     "shell.execute_reply": "2022-12-26T08:18:54.369830Z"
    },
    "papermill": {
     "duration": 0.042457,
     "end_time": "2022-12-26T08:18:54.373284",
     "exception": false,
     "start_time": "2022-12-26T08:18:54.330827",
     "status": "completed"
    },
    "tags": []
   },
   "outputs": [
    {
     "name": "stdout",
     "output_type": "stream",
     "text": [
      "Number of outlier data points (Pressure9am): 11\n",
      "Unique value count: (10 unique values)\n",
      "Outliers counts:\n",
      "  996.4 \t 2 occurrence(s)\n",
      "  999.3 \t 1 occurrence(s)\n",
      "  997.5 \t 1 occurrence(s)\n",
      "  997.2 \t 1 occurrence(s)\n",
      "  997.9 \t 1 occurrence(s)\n",
      "  996.2 \t 1 occurrence(s)\n",
      "  1038.0 \t 1 occurrence(s)\n",
      "  1037.0 \t 1 occurrence(s)\n",
      "  1038.8 \t 1 occurrence(s)\n",
      "  1036.7 \t 1 occurrence(s)\n"
     ]
    }
   ],
   "source": [
    "identify_outliers(pressure_df, 'Pressure9am')"
   ]
  },
  {
   "cell_type": "code",
   "execution_count": 57,
   "id": "e1da5a60",
   "metadata": {
    "execution": {
     "iopub.execute_input": "2022-12-26T08:18:54.434699Z",
     "iopub.status.busy": "2022-12-26T08:18:54.433904Z",
     "iopub.status.idle": "2022-12-26T08:18:54.441852Z",
     "shell.execute_reply": "2022-12-26T08:18:54.441248Z"
    },
    "papermill": {
     "duration": 0.041601,
     "end_time": "2022-12-26T08:18:54.444333",
     "exception": false,
     "start_time": "2022-12-26T08:18:54.402732",
     "status": "completed"
    },
    "tags": []
   },
   "outputs": [
    {
     "name": "stdout",
     "output_type": "stream",
     "text": [
      "Number of outlier data points (Pressure3pm): 8\n",
      "Unique value count: (8 unique values)\n",
      "Outliers counts:\n",
      "  996.9 \t 1 occurrence(s)\n",
      "  996.8 \t 1 occurrence(s)\n",
      "  997.6 \t 1 occurrence(s)\n",
      "  995.9 \t 1 occurrence(s)\n",
      "  991.9 \t 1 occurrence(s)\n",
      "  1034.3 \t 1 occurrence(s)\n",
      "  1033.7 \t 1 occurrence(s)\n",
      "  1034.0 \t 1 occurrence(s)\n"
     ]
    }
   ],
   "source": [
    "identify_outliers(pressure_df, 'Pressure3pm')"
   ]
  },
  {
   "cell_type": "markdown",
   "id": "9aa329cf",
   "metadata": {
    "papermill": {
     "duration": 0.028875,
     "end_time": "2022-12-26T08:18:54.503999",
     "exception": false,
     "start_time": "2022-12-26T08:18:54.475124",
     "status": "completed"
    },
    "tags": []
   },
   "source": [
    "### __Cloud\n",
    "\n",
    "📙 **SUMMARY**\n",
    "* The data is expressed in $\\frac{1}{8}$ units.\n",
    "* There are $2$ missing values *Cloud9am* and $4$ missing values on *Cloud3pm*.\n"
   ]
  },
  {
   "cell_type": "markdown",
   "id": "0c5d030c",
   "metadata": {
    "papermill": {
     "duration": 0.028914,
     "end_time": "2022-12-26T08:18:54.562272",
     "exception": false,
     "start_time": "2022-12-26T08:18:54.533358",
     "status": "completed"
    },
    "tags": []
   },
   "source": [
    "The dataset refers to the fraction of the sky obscured by cloud at 3pm and is expressed in $\\frac{1}{8}$ unit. Hence, the values are integral values (despite the float data type) from $0$ to $8$."
   ]
  },
  {
   "cell_type": "code",
   "execution_count": 58,
   "id": "20eb1c89",
   "metadata": {
    "execution": {
     "iopub.execute_input": "2022-12-26T08:18:54.621905Z",
     "iopub.status.busy": "2022-12-26T08:18:54.621546Z",
     "iopub.status.idle": "2022-12-26T08:18:54.632511Z",
     "shell.execute_reply": "2022-12-26T08:18:54.631687Z"
    },
    "papermill": {
     "duration": 0.043026,
     "end_time": "2022-12-26T08:18:54.634319",
     "exception": false,
     "start_time": "2022-12-26T08:18:54.591293",
     "status": "completed"
    },
    "tags": []
   },
   "outputs": [
    {
     "data": {
      "text/html": [
       "<div>\n",
       "<style scoped>\n",
       "    .dataframe tbody tr th:only-of-type {\n",
       "        vertical-align: middle;\n",
       "    }\n",
       "\n",
       "    .dataframe tbody tr th {\n",
       "        vertical-align: top;\n",
       "    }\n",
       "\n",
       "    .dataframe thead th {\n",
       "        text-align: right;\n",
       "    }\n",
       "</style>\n",
       "<table border=\"1\" class=\"dataframe\">\n",
       "  <thead>\n",
       "    <tr style=\"text-align: right;\">\n",
       "      <th></th>\n",
       "      <th>Cloud9am</th>\n",
       "      <th>Cloud3pm</th>\n",
       "    </tr>\n",
       "  </thead>\n",
       "  <tbody>\n",
       "    <tr>\n",
       "      <th>120638</th>\n",
       "      <td>2.0</td>\n",
       "      <td>3.0</td>\n",
       "    </tr>\n",
       "    <tr>\n",
       "      <th>120639</th>\n",
       "      <td>0.0</td>\n",
       "      <td>6.0</td>\n",
       "    </tr>\n",
       "    <tr>\n",
       "      <th>120640</th>\n",
       "      <td>1.0</td>\n",
       "      <td>3.0</td>\n",
       "    </tr>\n",
       "    <tr>\n",
       "      <th>120641</th>\n",
       "      <td>6.0</td>\n",
       "      <td>6.0</td>\n",
       "    </tr>\n",
       "    <tr>\n",
       "      <th>120642</th>\n",
       "      <td>7.0</td>\n",
       "      <td>5.0</td>\n",
       "    </tr>\n",
       "    <tr>\n",
       "      <th>120643</th>\n",
       "      <td>0.0</td>\n",
       "      <td>1.0</td>\n",
       "    </tr>\n",
       "    <tr>\n",
       "      <th>120644</th>\n",
       "      <td>1.0</td>\n",
       "      <td>5.0</td>\n",
       "    </tr>\n",
       "    <tr>\n",
       "      <th>120645</th>\n",
       "      <td>6.0</td>\n",
       "      <td>5.0</td>\n",
       "    </tr>\n",
       "    <tr>\n",
       "      <th>120646</th>\n",
       "      <td>7.0</td>\n",
       "      <td>6.0</td>\n",
       "    </tr>\n",
       "    <tr>\n",
       "      <th>120647</th>\n",
       "      <td>7.0</td>\n",
       "      <td>7.0</td>\n",
       "    </tr>\n",
       "  </tbody>\n",
       "</table>\n",
       "</div>"
      ],
      "text/plain": [
       "        Cloud9am  Cloud3pm\n",
       "120638       2.0       3.0\n",
       "120639       0.0       6.0\n",
       "120640       1.0       3.0\n",
       "120641       6.0       6.0\n",
       "120642       7.0       5.0\n",
       "120643       0.0       1.0\n",
       "120644       1.0       5.0\n",
       "120645       6.0       5.0\n",
       "120646       7.0       6.0\n",
       "120647       7.0       7.0"
      ]
     },
     "execution_count": 58,
     "metadata": {},
     "output_type": "execute_result"
    }
   ],
   "source": [
    "cloud_df = num_df[['Cloud9am', 'Cloud3pm']]\n",
    "cloud_df.head(10)"
   ]
  },
  {
   "cell_type": "code",
   "execution_count": 59,
   "id": "37d806fe",
   "metadata": {
    "execution": {
     "iopub.execute_input": "2022-12-26T08:18:54.695204Z",
     "iopub.status.busy": "2022-12-26T08:18:54.694801Z",
     "iopub.status.idle": "2022-12-26T08:18:54.713726Z",
     "shell.execute_reply": "2022-12-26T08:18:54.712625Z"
    },
    "papermill": {
     "duration": 0.052125,
     "end_time": "2022-12-26T08:18:54.715920",
     "exception": false,
     "start_time": "2022-12-26T08:18:54.663795",
     "status": "completed"
    },
    "tags": []
   },
   "outputs": [
    {
     "data": {
      "text/html": [
       "<div>\n",
       "<style scoped>\n",
       "    .dataframe tbody tr th:only-of-type {\n",
       "        vertical-align: middle;\n",
       "    }\n",
       "\n",
       "    .dataframe tbody tr th {\n",
       "        vertical-align: top;\n",
       "    }\n",
       "\n",
       "    .dataframe thead th {\n",
       "        text-align: right;\n",
       "    }\n",
       "</style>\n",
       "<table border=\"1\" class=\"dataframe\">\n",
       "  <thead>\n",
       "    <tr style=\"text-align: right;\">\n",
       "      <th></th>\n",
       "      <th>count</th>\n",
       "      <th>mean</th>\n",
       "      <th>std</th>\n",
       "      <th>min</th>\n",
       "      <th>25%</th>\n",
       "      <th>50%</th>\n",
       "      <th>75%</th>\n",
       "      <th>max</th>\n",
       "    </tr>\n",
       "  </thead>\n",
       "  <tbody>\n",
       "    <tr>\n",
       "      <th>Cloud9am</th>\n",
       "      <td>3191.0</td>\n",
       "      <td>3.383579</td>\n",
       "      <td>2.800834</td>\n",
       "      <td>0.0</td>\n",
       "      <td>1.0</td>\n",
       "      <td>3.0</td>\n",
       "      <td>6.0</td>\n",
       "      <td>8.0</td>\n",
       "    </tr>\n",
       "    <tr>\n",
       "      <th>Cloud3pm</th>\n",
       "      <td>3189.0</td>\n",
       "      <td>3.469740</td>\n",
       "      <td>2.681804</td>\n",
       "      <td>0.0</td>\n",
       "      <td>1.0</td>\n",
       "      <td>3.0</td>\n",
       "      <td>6.0</td>\n",
       "      <td>8.0</td>\n",
       "    </tr>\n",
       "  </tbody>\n",
       "</table>\n",
       "</div>"
      ],
      "text/plain": [
       "           count      mean       std  min  25%  50%  75%  max\n",
       "Cloud9am  3191.0  3.383579  2.800834  0.0  1.0  3.0  6.0  8.0\n",
       "Cloud3pm  3189.0  3.469740  2.681804  0.0  1.0  3.0  6.0  8.0"
      ]
     },
     "execution_count": 59,
     "metadata": {},
     "output_type": "execute_result"
    }
   ],
   "source": [
    "cloud_df.describe().transpose()"
   ]
  },
  {
   "cell_type": "markdown",
   "id": "1598012c",
   "metadata": {
    "papermill": {
     "duration": 0.029774,
     "end_time": "2022-12-26T08:18:54.775927",
     "exception": false,
     "start_time": "2022-12-26T08:18:54.746153",
     "status": "completed"
    },
    "tags": []
   },
   "source": [
    "For *Cloud9am*, there are $2$ missing values while *Cloud3pm* has $4$ missing values."
   ]
  },
  {
   "cell_type": "code",
   "execution_count": 60,
   "id": "a65e0ca6",
   "metadata": {
    "execution": {
     "iopub.execute_input": "2022-12-26T08:18:54.837231Z",
     "iopub.status.busy": "2022-12-26T08:18:54.836816Z",
     "iopub.status.idle": "2022-12-26T08:18:54.844747Z",
     "shell.execute_reply": "2022-12-26T08:18:54.843635Z"
    },
    "papermill": {
     "duration": 0.040706,
     "end_time": "2022-12-26T08:18:54.846559",
     "exception": false,
     "start_time": "2022-12-26T08:18:54.805853",
     "status": "completed"
    },
    "tags": []
   },
   "outputs": [
    {
     "name": "stdout",
     "output_type": "stream",
     "text": [
      "Cloud9am missing values: 2\n",
      "Cloud3pm missing values: 4\n"
     ]
    }
   ],
   "source": [
    "missing_cloud_count = cloud_df.isna().sum()\n",
    "missing_cloud_perc = missing_cloud_count / len(cloud_df)\n",
    "\n",
    "print(f\"Cloud9am missing values: {missing_cloud_count['Cloud9am']}\")\n",
    "print(f\"Cloud3pm missing values: {missing_cloud_count['Cloud3pm']}\")"
   ]
  },
  {
   "cell_type": "markdown",
   "id": "c9095f72",
   "metadata": {
    "papermill": {
     "duration": 0.029053,
     "end_time": "2022-12-26T08:18:54.904970",
     "exception": false,
     "start_time": "2022-12-26T08:18:54.875917",
     "status": "completed"
    },
    "tags": []
   },
   "source": [
    "The data distribution does not follow the normal distribution and has no outliers."
   ]
  },
  {
   "cell_type": "code",
   "execution_count": 61,
   "id": "73b60824",
   "metadata": {
    "execution": {
     "iopub.execute_input": "2022-12-26T08:18:54.965453Z",
     "iopub.status.busy": "2022-12-26T08:18:54.965127Z",
     "iopub.status.idle": "2022-12-26T08:18:55.373043Z",
     "shell.execute_reply": "2022-12-26T08:18:55.371799Z"
    },
    "papermill": {
     "duration": 0.440418,
     "end_time": "2022-12-26T08:18:55.375090",
     "exception": false,
     "start_time": "2022-12-26T08:18:54.934672",
     "status": "completed"
    },
    "tags": []
   },
   "outputs": [
    {
     "data": {
      "image/png": "[encoded data removed]",
      "text/plain": [
       "<Figure size 1440x432 with 4 Axes>"
      ]
     },
     "metadata": {
      "needs_background": "light"
     },
     "output_type": "display_data"
    }
   ],
   "source": [
    "_, axes = plt.subplots(2, 2, figsize=(20, 6))\n",
    "\n",
    "# selecting bins=9 to ensure one bar per value (0, 1/8, 2/8, ... , 8/8)\n",
    "cloud_df.hist(ax=axes[0], bins=9)\n",
    "sns.boxplot(ax=axes[1, 0], x=cloud_df['Cloud9am'])\n",
    "sns.boxplot(ax=axes[1, 1], x=cloud_df['Cloud3pm'])\n",
    "\n",
    "plt.show()"
   ]
  }
 ],
 "metadata": {
  "kernelspec": {
   "display_name": "Python 3",
   "language": "python",
   "name": "python3"
  },
  "language_info": {
   "codemirror_mode": {
    "name": "ipython",
    "version": 3
   },
   "file_extension": ".py",
   "mimetype": "text/x-python",
   "name": "python",
   "nbconvert_exporter": "python",
   "pygments_lexer": "ipython3",
   "version": "3.7.12"
  },
  "papermill": {
   "default_parameters": {},
   "duration": 22.235084,
   "end_time": "2022-12-26T08:18:56.127856",
   "environment_variables": {},
   "exception": null,
   "input_path": "__notebook__.ipynb",
   "output_path": "__notebook__.ipynb",
   "parameters": {},
   "start_time": "2022-12-26T08:18:33.892772",
   "version": "2.3.4"
  }
 },
 "nbformat": 4,
 "nbformat_minor": 5
}
