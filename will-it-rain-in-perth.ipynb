{
 "cells": [
  {
   "cell_type": "markdown",
   "id": "e9b5643d",
   "metadata": {
    "papermill": {
     "duration": 0.01598,
     "end_time": "2022-12-25T02:21:57.998153",
     "exception": false,
     "start_time": "2022-12-25T02:21:57.982173",
     "status": "completed"
    },
    "tags": []
   },
   "source": [
    "# 1. Data Ingestion"
   ]
  },
  {
   "cell_type": "markdown",
   "id": "531f9307",
   "metadata": {
    "papermill": {
     "duration": 0.014664,
     "end_time": "2022-12-25T02:21:58.027916",
     "exception": false,
     "start_time": "2022-12-25T02:21:58.013252",
     "status": "completed"
    },
    "tags": []
   },
   "source": [
    "We load the additional libraries needed in this notebook:\n",
    "* `seaborn`\n",
    "* `matplotlib.pyplot`\n",
    "* `scipy`"
   ]
  },
  {
   "cell_type": "code",
   "execution_count": 1,
   "id": "414c859b",
   "metadata": {
    "execution": {
     "iopub.execute_input": "2022-12-25T02:21:58.060376Z",
     "iopub.status.busy": "2022-12-25T02:21:58.059672Z",
     "iopub.status.idle": "2022-12-25T02:21:59.080672Z",
     "shell.execute_reply": "2022-12-25T02:21:59.079759Z"
    },
    "papermill": {
     "duration": 1.040371,
     "end_time": "2022-12-25T02:21:59.083323",
     "exception": false,
     "start_time": "2022-12-25T02:21:58.042952",
     "status": "completed"
    },
    "tags": []
   },
   "outputs": [],
   "source": [
    "import seaborn as sns\n",
    "import matplotlib.pyplot as plt\n",
    "from scipy import stats"
   ]
  },
  {
   "cell_type": "code",
   "execution_count": 2,
   "id": "e2eb3c94",
   "metadata": {
    "_cell_guid": "b1076dfc-b9ad-4769-8c92-a6c4dae69d19",
    "_kg_hide-input": true,
    "_kg_hide-output": true,
    "_uuid": "8f2839f25d086af736a60e9eeb907d3b93b6e0e5",
    "execution": {
     "iopub.execute_input": "2022-12-25T02:21:59.115860Z",
     "iopub.status.busy": "2022-12-25T02:21:59.115473Z",
     "iopub.status.idle": "2022-12-25T02:21:59.125893Z",
     "shell.execute_reply": "2022-12-25T02:21:59.125104Z"
    },
    "papermill": {
     "duration": 0.030083,
     "end_time": "2022-12-25T02:21:59.128883",
     "exception": false,
     "start_time": "2022-12-25T02:21:59.098800",
     "status": "completed"
    },
    "tags": []
   },
   "outputs": [
    {
     "name": "stdout",
     "output_type": "stream",
     "text": [
      "/kaggle/input/weather-dataset-rattle-package/weatherAUS.csv\n"
     ]
    }
   ],
   "source": [
    "# This Python 3 environment comes with many helpful analytics libraries installed\n",
    "# It is defined by the kaggle/python Docker image: https://github.com/kaggle/docker-python\n",
    "# For example, here's several helpful packages to load\n",
    "\n",
    "import numpy as np # linear algebra\n",
    "import pandas as pd # data processing, CSV file I/O (e.g. pd.read_csv)\n",
    "\n",
    "# Input data files are available in the read-only \"../input/\" directory\n",
    "# For example, running this (by clicking run or pressing Shift+Enter) will list all files under the input directory\n",
    "\n",
    "import os\n",
    "for dirname, _, filenames in os.walk('/kaggle/input'):\n",
    "    for filename in filenames:\n",
    "        print(os.path.join(dirname, filename))\n",
    "\n",
    "# You can write up to 20GB to the current directory (/kaggle/working/) that gets preserved as output when you create a version using \"Save & Run All\" \n",
    "# You can also write temporary files to /kaggle/temp/, but they won't be saved outside of the current session"
   ]
  },
  {
   "cell_type": "markdown",
   "id": "986284a4",
   "metadata": {
    "papermill": {
     "duration": 0.015176,
     "end_time": "2022-12-25T02:21:59.161781",
     "exception": false,
     "start_time": "2022-12-25T02:21:59.146605",
     "status": "completed"
    },
    "tags": []
   },
   "source": [
    "We will be only using the data for **Perth** location and  so we filter the dataset accordingly:"
   ]
  },
  {
   "cell_type": "code",
   "execution_count": 3,
   "id": "5039be19",
   "metadata": {
    "_kg_hide-input": false,
    "_kg_hide-output": true,
    "execution": {
     "iopub.execute_input": "2022-12-25T02:21:59.194730Z",
     "iopub.status.busy": "2022-12-25T02:21:59.194081Z",
     "iopub.status.idle": "2022-12-25T02:21:59.686311Z",
     "shell.execute_reply": "2022-12-25T02:21:59.685340Z"
    },
    "papermill": {
     "duration": 0.511166,
     "end_time": "2022-12-25T02:21:59.688337",
     "exception": false,
     "start_time": "2022-12-25T02:21:59.177171",
     "status": "completed"
    },
    "tags": []
   },
   "outputs": [
    {
     "data": {
      "text/html": [
       "<div>\n",
       "<style scoped>\n",
       "    .dataframe tbody tr th:only-of-type {\n",
       "        vertical-align: middle;\n",
       "    }\n",
       "\n",
       "    .dataframe tbody tr th {\n",
       "        vertical-align: top;\n",
       "    }\n",
       "\n",
       "    .dataframe thead th {\n",
       "        text-align: right;\n",
       "    }\n",
       "</style>\n",
       "<table border=\"1\" class=\"dataframe\">\n",
       "  <thead>\n",
       "    <tr style=\"text-align: right;\">\n",
       "      <th></th>\n",
       "      <th>Date</th>\n",
       "      <th>Location</th>\n",
       "      <th>MinTemp</th>\n",
       "      <th>MaxTemp</th>\n",
       "      <th>Rainfall</th>\n",
       "      <th>Evaporation</th>\n",
       "      <th>Sunshine</th>\n",
       "      <th>WindGustDir</th>\n",
       "      <th>WindGustSpeed</th>\n",
       "      <th>WindDir9am</th>\n",
       "      <th>...</th>\n",
       "      <th>Humidity9am</th>\n",
       "      <th>Humidity3pm</th>\n",
       "      <th>Pressure9am</th>\n",
       "      <th>Pressure3pm</th>\n",
       "      <th>Cloud9am</th>\n",
       "      <th>Cloud3pm</th>\n",
       "      <th>Temp9am</th>\n",
       "      <th>Temp3pm</th>\n",
       "      <th>RainToday</th>\n",
       "      <th>RainTomorrow</th>\n",
       "    </tr>\n",
       "  </thead>\n",
       "  <tbody>\n",
       "    <tr>\n",
       "      <th>120638</th>\n",
       "      <td>2008-07-01</td>\n",
       "      <td>Perth</td>\n",
       "      <td>2.7</td>\n",
       "      <td>18.8</td>\n",
       "      <td>0.0</td>\n",
       "      <td>0.8</td>\n",
       "      <td>9.1</td>\n",
       "      <td>ENE</td>\n",
       "      <td>20.0</td>\n",
       "      <td>NaN</td>\n",
       "      <td>...</td>\n",
       "      <td>97.0</td>\n",
       "      <td>53.0</td>\n",
       "      <td>1027.6</td>\n",
       "      <td>1024.5</td>\n",
       "      <td>2.0</td>\n",
       "      <td>3.0</td>\n",
       "      <td>8.5</td>\n",
       "      <td>18.1</td>\n",
       "      <td>No</td>\n",
       "      <td>No</td>\n",
       "    </tr>\n",
       "    <tr>\n",
       "      <th>120639</th>\n",
       "      <td>2008-07-02</td>\n",
       "      <td>Perth</td>\n",
       "      <td>6.4</td>\n",
       "      <td>20.7</td>\n",
       "      <td>0.0</td>\n",
       "      <td>1.8</td>\n",
       "      <td>7.0</td>\n",
       "      <td>NE</td>\n",
       "      <td>22.0</td>\n",
       "      <td>ESE</td>\n",
       "      <td>...</td>\n",
       "      <td>80.0</td>\n",
       "      <td>39.0</td>\n",
       "      <td>1024.1</td>\n",
       "      <td>1019.0</td>\n",
       "      <td>0.0</td>\n",
       "      <td>6.0</td>\n",
       "      <td>11.1</td>\n",
       "      <td>19.7</td>\n",
       "      <td>No</td>\n",
       "      <td>No</td>\n",
       "    </tr>\n",
       "    <tr>\n",
       "      <th>120640</th>\n",
       "      <td>2008-07-03</td>\n",
       "      <td>Perth</td>\n",
       "      <td>6.5</td>\n",
       "      <td>19.9</td>\n",
       "      <td>0.4</td>\n",
       "      <td>2.2</td>\n",
       "      <td>7.3</td>\n",
       "      <td>NE</td>\n",
       "      <td>31.0</td>\n",
       "      <td>NaN</td>\n",
       "      <td>...</td>\n",
       "      <td>84.0</td>\n",
       "      <td>71.0</td>\n",
       "      <td>1016.8</td>\n",
       "      <td>1015.6</td>\n",
       "      <td>1.0</td>\n",
       "      <td>3.0</td>\n",
       "      <td>12.1</td>\n",
       "      <td>17.7</td>\n",
       "      <td>No</td>\n",
       "      <td>Yes</td>\n",
       "    </tr>\n",
       "    <tr>\n",
       "      <th>120641</th>\n",
       "      <td>2008-07-04</td>\n",
       "      <td>Perth</td>\n",
       "      <td>9.5</td>\n",
       "      <td>19.2</td>\n",
       "      <td>1.8</td>\n",
       "      <td>1.2</td>\n",
       "      <td>4.7</td>\n",
       "      <td>W</td>\n",
       "      <td>26.0</td>\n",
       "      <td>NNE</td>\n",
       "      <td>...</td>\n",
       "      <td>93.0</td>\n",
       "      <td>73.0</td>\n",
       "      <td>1019.3</td>\n",
       "      <td>1018.4</td>\n",
       "      <td>6.0</td>\n",
       "      <td>6.0</td>\n",
       "      <td>13.2</td>\n",
       "      <td>17.7</td>\n",
       "      <td>Yes</td>\n",
       "      <td>Yes</td>\n",
       "    </tr>\n",
       "    <tr>\n",
       "      <th>120642</th>\n",
       "      <td>2008-07-05</td>\n",
       "      <td>Perth</td>\n",
       "      <td>9.5</td>\n",
       "      <td>16.4</td>\n",
       "      <td>1.8</td>\n",
       "      <td>1.4</td>\n",
       "      <td>4.9</td>\n",
       "      <td>WSW</td>\n",
       "      <td>44.0</td>\n",
       "      <td>W</td>\n",
       "      <td>...</td>\n",
       "      <td>69.0</td>\n",
       "      <td>57.0</td>\n",
       "      <td>1020.4</td>\n",
       "      <td>1022.1</td>\n",
       "      <td>7.0</td>\n",
       "      <td>5.0</td>\n",
       "      <td>15.9</td>\n",
       "      <td>16.0</td>\n",
       "      <td>Yes</td>\n",
       "      <td>Yes</td>\n",
       "    </tr>\n",
       "    <tr>\n",
       "      <th>120643</th>\n",
       "      <td>2008-07-06</td>\n",
       "      <td>Perth</td>\n",
       "      <td>0.7</td>\n",
       "      <td>15.9</td>\n",
       "      <td>6.8</td>\n",
       "      <td>2.4</td>\n",
       "      <td>9.3</td>\n",
       "      <td>NNE</td>\n",
       "      <td>24.0</td>\n",
       "      <td>ENE</td>\n",
       "      <td>...</td>\n",
       "      <td>86.0</td>\n",
       "      <td>41.0</td>\n",
       "      <td>1032.0</td>\n",
       "      <td>1029.6</td>\n",
       "      <td>0.0</td>\n",
       "      <td>1.0</td>\n",
       "      <td>6.9</td>\n",
       "      <td>15.5</td>\n",
       "      <td>Yes</td>\n",
       "      <td>No</td>\n",
       "    </tr>\n",
       "    <tr>\n",
       "      <th>120644</th>\n",
       "      <td>2008-07-07</td>\n",
       "      <td>Perth</td>\n",
       "      <td>0.7</td>\n",
       "      <td>18.3</td>\n",
       "      <td>0.0</td>\n",
       "      <td>0.8</td>\n",
       "      <td>9.3</td>\n",
       "      <td>N</td>\n",
       "      <td>37.0</td>\n",
       "      <td>NE</td>\n",
       "      <td>...</td>\n",
       "      <td>72.0</td>\n",
       "      <td>36.0</td>\n",
       "      <td>1028.9</td>\n",
       "      <td>1024.2</td>\n",
       "      <td>1.0</td>\n",
       "      <td>5.0</td>\n",
       "      <td>8.7</td>\n",
       "      <td>17.9</td>\n",
       "      <td>No</td>\n",
       "      <td>No</td>\n",
       "    </tr>\n",
       "    <tr>\n",
       "      <th>120645</th>\n",
       "      <td>2008-07-08</td>\n",
       "      <td>Perth</td>\n",
       "      <td>3.2</td>\n",
       "      <td>20.4</td>\n",
       "      <td>0.0</td>\n",
       "      <td>1.4</td>\n",
       "      <td>6.9</td>\n",
       "      <td>NNW</td>\n",
       "      <td>24.0</td>\n",
       "      <td>NE</td>\n",
       "      <td>...</td>\n",
       "      <td>58.0</td>\n",
       "      <td>42.0</td>\n",
       "      <td>1023.9</td>\n",
       "      <td>1021.1</td>\n",
       "      <td>6.0</td>\n",
       "      <td>5.0</td>\n",
       "      <td>10.2</td>\n",
       "      <td>19.3</td>\n",
       "      <td>No</td>\n",
       "      <td>Yes</td>\n",
       "    </tr>\n",
       "    <tr>\n",
       "      <th>120646</th>\n",
       "      <td>2008-07-09</td>\n",
       "      <td>Perth</td>\n",
       "      <td>9.8</td>\n",
       "      <td>19.5</td>\n",
       "      <td>8.0</td>\n",
       "      <td>1.2</td>\n",
       "      <td>2.5</td>\n",
       "      <td>ESE</td>\n",
       "      <td>31.0</td>\n",
       "      <td>NaN</td>\n",
       "      <td>...</td>\n",
       "      <td>97.0</td>\n",
       "      <td>64.0</td>\n",
       "      <td>1026.4</td>\n",
       "      <td>1024.9</td>\n",
       "      <td>7.0</td>\n",
       "      <td>6.0</td>\n",
       "      <td>12.1</td>\n",
       "      <td>18.7</td>\n",
       "      <td>Yes</td>\n",
       "      <td>Yes</td>\n",
       "    </tr>\n",
       "    <tr>\n",
       "      <th>120647</th>\n",
       "      <td>2008-07-10</td>\n",
       "      <td>Perth</td>\n",
       "      <td>11.2</td>\n",
       "      <td>20.4</td>\n",
       "      <td>4.6</td>\n",
       "      <td>2.8</td>\n",
       "      <td>1.7</td>\n",
       "      <td>NNW</td>\n",
       "      <td>46.0</td>\n",
       "      <td>NE</td>\n",
       "      <td>...</td>\n",
       "      <td>79.0</td>\n",
       "      <td>50.0</td>\n",
       "      <td>1020.2</td>\n",
       "      <td>1014.0</td>\n",
       "      <td>7.0</td>\n",
       "      <td>7.0</td>\n",
       "      <td>13.4</td>\n",
       "      <td>19.0</td>\n",
       "      <td>Yes</td>\n",
       "      <td>Yes</td>\n",
       "    </tr>\n",
       "  </tbody>\n",
       "</table>\n",
       "<p>10 rows × 23 columns</p>\n",
       "</div>"
      ],
      "text/plain": [
       "              Date Location  MinTemp  MaxTemp  Rainfall  Evaporation  \\\n",
       "120638  2008-07-01    Perth      2.7     18.8       0.0          0.8   \n",
       "120639  2008-07-02    Perth      6.4     20.7       0.0          1.8   \n",
       "120640  2008-07-03    Perth      6.5     19.9       0.4          2.2   \n",
       "120641  2008-07-04    Perth      9.5     19.2       1.8          1.2   \n",
       "120642  2008-07-05    Perth      9.5     16.4       1.8          1.4   \n",
       "120643  2008-07-06    Perth      0.7     15.9       6.8          2.4   \n",
       "120644  2008-07-07    Perth      0.7     18.3       0.0          0.8   \n",
       "120645  2008-07-08    Perth      3.2     20.4       0.0          1.4   \n",
       "120646  2008-07-09    Perth      9.8     19.5       8.0          1.2   \n",
       "120647  2008-07-10    Perth     11.2     20.4       4.6          2.8   \n",
       "\n",
       "        Sunshine WindGustDir  WindGustSpeed WindDir9am  ... Humidity9am  \\\n",
       "120638       9.1         ENE           20.0        NaN  ...        97.0   \n",
       "120639       7.0          NE           22.0        ESE  ...        80.0   \n",
       "120640       7.3          NE           31.0        NaN  ...        84.0   \n",
       "120641       4.7           W           26.0        NNE  ...        93.0   \n",
       "120642       4.9         WSW           44.0          W  ...        69.0   \n",
       "120643       9.3         NNE           24.0        ENE  ...        86.0   \n",
       "120644       9.3           N           37.0         NE  ...        72.0   \n",
       "120645       6.9         NNW           24.0         NE  ...        58.0   \n",
       "120646       2.5         ESE           31.0        NaN  ...        97.0   \n",
       "120647       1.7         NNW           46.0         NE  ...        79.0   \n",
       "\n",
       "        Humidity3pm  Pressure9am  Pressure3pm  Cloud9am  Cloud3pm  Temp9am  \\\n",
       "120638         53.0       1027.6       1024.5       2.0       3.0      8.5   \n",
       "120639         39.0       1024.1       1019.0       0.0       6.0     11.1   \n",
       "120640         71.0       1016.8       1015.6       1.0       3.0     12.1   \n",
       "120641         73.0       1019.3       1018.4       6.0       6.0     13.2   \n",
       "120642         57.0       1020.4       1022.1       7.0       5.0     15.9   \n",
       "120643         41.0       1032.0       1029.6       0.0       1.0      6.9   \n",
       "120644         36.0       1028.9       1024.2       1.0       5.0      8.7   \n",
       "120645         42.0       1023.9       1021.1       6.0       5.0     10.2   \n",
       "120646         64.0       1026.4       1024.9       7.0       6.0     12.1   \n",
       "120647         50.0       1020.2       1014.0       7.0       7.0     13.4   \n",
       "\n",
       "        Temp3pm  RainToday  RainTomorrow  \n",
       "120638     18.1         No            No  \n",
       "120639     19.7         No            No  \n",
       "120640     17.7         No           Yes  \n",
       "120641     17.7        Yes           Yes  \n",
       "120642     16.0        Yes           Yes  \n",
       "120643     15.5        Yes            No  \n",
       "120644     17.9         No            No  \n",
       "120645     19.3         No           Yes  \n",
       "120646     18.7        Yes           Yes  \n",
       "120647     19.0        Yes           Yes  \n",
       "\n",
       "[10 rows x 23 columns]"
      ]
     },
     "execution_count": 3,
     "metadata": {},
     "output_type": "execute_result"
    }
   ],
   "source": [
    "all_df = pd.read_csv(\"/kaggle/input/weather-dataset-rattle-package/weatherAUS.csv\")\n",
    "\n",
    "# Limit the dataset to Perth records\n",
    "df = all_df[all_df[\"Location\"] == \"Perth\"]\n",
    "df.head(10)"
   ]
  },
  {
   "cell_type": "markdown",
   "id": "8f0e6a06",
   "metadata": {
    "papermill": {
     "duration": 0.015943,
     "end_time": "2022-12-25T02:21:59.720283",
     "exception": false,
     "start_time": "2022-12-25T02:21:59.704340",
     "status": "completed"
    },
    "tags": []
   },
   "source": [
    "# 2. Exploratory Data Analysis\n",
    "\n",
    "📙 **SUMMARY**\n",
    "* The dataset contains $3,193$ records and $23$ columns including the target variable.\n",
    "* The features include both numerical and categorical values."
   ]
  },
  {
   "cell_type": "markdown",
   "id": "f8ae1f35",
   "metadata": {
    "papermill": {
     "duration": 0.015366,
     "end_time": "2022-12-25T02:21:59.752122",
     "exception": false,
     "start_time": "2022-12-25T02:21:59.736756",
     "status": "completed"
    },
    "tags": []
   },
   "source": [
    "Let's see how many records and columns there are in the dataset."
   ]
  },
  {
   "cell_type": "code",
   "execution_count": 4,
   "id": "f38bf988",
   "metadata": {
    "_kg_hide-input": true,
    "execution": {
     "iopub.execute_input": "2022-12-25T02:21:59.787175Z",
     "iopub.status.busy": "2022-12-25T02:21:59.786776Z",
     "iopub.status.idle": "2022-12-25T02:21:59.791204Z",
     "shell.execute_reply": "2022-12-25T02:21:59.790541Z"
    },
    "papermill": {
     "duration": 0.024668,
     "end_time": "2022-12-25T02:21:59.793799",
     "exception": false,
     "start_time": "2022-12-25T02:21:59.769131",
     "status": "completed"
    },
    "tags": []
   },
   "outputs": [
    {
     "name": "stdout",
     "output_type": "stream",
     "text": [
      "Number of records: 3193\n",
      "Number of columns: 23\n"
     ]
    }
   ],
   "source": [
    "print(f\"Number of records: {df.shape[0]}\")\n",
    "print(f\"Number of columns: {df.shape[1]}\")"
   ]
  },
  {
   "cell_type": "markdown",
   "id": "042e06d2",
   "metadata": {
    "papermill": {
     "duration": 0.018899,
     "end_time": "2022-12-25T02:21:59.833691",
     "exception": false,
     "start_time": "2022-12-25T02:21:59.814792",
     "status": "completed"
    },
    "tags": []
   },
   "source": [
    "What are the columns and their properties?"
   ]
  },
  {
   "cell_type": "code",
   "execution_count": 5,
   "id": "ec65e3df",
   "metadata": {
    "execution": {
     "iopub.execute_input": "2022-12-25T02:21:59.868489Z",
     "iopub.status.busy": "2022-12-25T02:21:59.867985Z",
     "iopub.status.idle": "2022-12-25T02:21:59.889130Z",
     "shell.execute_reply": "2022-12-25T02:21:59.888202Z"
    },
    "papermill": {
     "duration": 0.041766,
     "end_time": "2022-12-25T02:21:59.891874",
     "exception": false,
     "start_time": "2022-12-25T02:21:59.850108",
     "status": "completed"
    },
    "tags": []
   },
   "outputs": [
    {
     "name": "stdout",
     "output_type": "stream",
     "text": [
      "<class 'pandas.core.frame.DataFrame'>\n",
      "Int64Index: 3193 entries, 120638 to 123830\n",
      "Data columns (total 23 columns):\n",
      " #   Column         Non-Null Count  Dtype  \n",
      "---  ------         --------------  -----  \n",
      " 0   Date           3193 non-null   object \n",
      " 1   Location       3193 non-null   object \n",
      " 2   MinTemp        3193 non-null   float64\n",
      " 3   MaxTemp        3192 non-null   float64\n",
      " 4   Rainfall       3193 non-null   float64\n",
      " 5   Evaporation    3192 non-null   float64\n",
      " 6   Sunshine       3188 non-null   float64\n",
      " 7   WindGustDir    3188 non-null   object \n",
      " 8   WindGustSpeed  3188 non-null   float64\n",
      " 9   WindDir9am     3059 non-null   object \n",
      " 10  WindDir3pm     3186 non-null   object \n",
      " 11  WindSpeed9am   3193 non-null   float64\n",
      " 12  WindSpeed3pm   3192 non-null   float64\n",
      " 13  Humidity9am    3184 non-null   float64\n",
      " 14  Humidity3pm    3185 non-null   float64\n",
      " 15  Pressure9am    3192 non-null   float64\n",
      " 16  Pressure3pm    3192 non-null   float64\n",
      " 17  Cloud9am       3191 non-null   float64\n",
      " 18  Cloud3pm       3189 non-null   float64\n",
      " 19  Temp9am        3193 non-null   float64\n",
      " 20  Temp3pm        3192 non-null   float64\n",
      " 21  RainToday      3193 non-null   object \n",
      " 22  RainTomorrow   3193 non-null   object \n",
      "dtypes: float64(16), object(7)\n",
      "memory usage: 598.7+ KB\n"
     ]
    }
   ],
   "source": [
    "df.info()"
   ]
  },
  {
   "cell_type": "markdown",
   "id": "88e659b2",
   "metadata": {
    "papermill": {
     "duration": 0.015277,
     "end_time": "2022-12-25T02:21:59.925758",
     "exception": false,
     "start_time": "2022-12-25T02:21:59.910481",
     "status": "completed"
    },
    "tags": []
   },
   "source": [
    "🔖 The dataset has $23$ columns including the target variable (*RainTomorrow*):\n",
    "* It consists of both numerical (`float64`) and categorical (`object`) features.\n",
    "* Most of the columns have null values which requires addressing later "
   ]
  },
  {
   "cell_type": "markdown",
   "id": "db7cbee6",
   "metadata": {
    "papermill": {
     "duration": 0.015422,
     "end_time": "2022-12-25T02:21:59.957028",
     "exception": false,
     "start_time": "2022-12-25T02:21:59.941606",
     "status": "completed"
    },
    "tags": []
   },
   "source": [
    "# _2.1 Target Variable: RainTomorrow\n",
    "\n",
    "📙 **SUMMARY**\n",
    "* The target variable has two possible values: **Yes** and **No**.\n",
    "* The dataset is **highly imbalanced**:\n",
    " * **Yes** - $645$ ($20.2\\%$) records\n",
    " * **No** - $2,548$ ($79.8\\%$) records"
   ]
  },
  {
   "cell_type": "markdown",
   "id": "015de7d6",
   "metadata": {
    "papermill": {
     "duration": 0.015683,
     "end_time": "2022-12-25T02:21:59.988630",
     "exception": false,
     "start_time": "2022-12-25T02:21:59.972947",
     "status": "completed"
    },
    "tags": []
   },
   "source": [
    "Let's have a sneak peek ofthe target variable, *RainTomorrow*."
   ]
  },
  {
   "cell_type": "code",
   "execution_count": 6,
   "id": "0e7aa555",
   "metadata": {
    "execution": {
     "iopub.execute_input": "2022-12-25T02:22:00.027752Z",
     "iopub.status.busy": "2022-12-25T02:22:00.026141Z",
     "iopub.status.idle": "2022-12-25T02:22:00.034312Z",
     "shell.execute_reply": "2022-12-25T02:22:00.033483Z"
    },
    "papermill": {
     "duration": 0.032024,
     "end_time": "2022-12-25T02:22:00.036704",
     "exception": false,
     "start_time": "2022-12-25T02:22:00.004680",
     "status": "completed"
    },
    "tags": []
   },
   "outputs": [
    {
     "data": {
      "text/plain": [
       "120638     No\n",
       "120639     No\n",
       "120640    Yes\n",
       "120641    Yes\n",
       "120642    Yes\n",
       "120643     No\n",
       "120644     No\n",
       "120645    Yes\n",
       "120646    Yes\n",
       "120647    Yes\n",
       "120648    Yes\n",
       "120649     No\n",
       "120650     No\n",
       "120651     No\n",
       "120652    Yes\n",
       "Name: RainTomorrow, dtype: object"
      ]
     },
     "execution_count": 6,
     "metadata": {},
     "output_type": "execute_result"
    }
   ],
   "source": [
    "target = df['RainTomorrow']\n",
    "target.head(15)"
   ]
  },
  {
   "cell_type": "markdown",
   "id": "1e1389b9",
   "metadata": {
    "papermill": {
     "duration": 0.015985,
     "end_time": "2022-12-25T02:22:00.073933",
     "exception": false,
     "start_time": "2022-12-25T02:22:00.057948",
     "status": "completed"
    },
    "tags": []
   },
   "source": [
    "The target, *RainTomorrow*, is a categorical variable of either **Yes** or **No**."
   ]
  },
  {
   "cell_type": "markdown",
   "id": "59f7143c",
   "metadata": {
    "papermill": {
     "duration": 0.017631,
     "end_time": "2022-12-25T02:22:00.113108",
     "exception": false,
     "start_time": "2022-12-25T02:22:00.095477",
     "status": "completed"
    },
    "tags": []
   },
   "source": [
    "Let's count the values for each prediction."
   ]
  },
  {
   "cell_type": "code",
   "execution_count": 7,
   "id": "33db2fa5",
   "metadata": {
    "execution": {
     "iopub.execute_input": "2022-12-25T02:22:00.148398Z",
     "iopub.status.busy": "2022-12-25T02:22:00.147999Z",
     "iopub.status.idle": "2022-12-25T02:22:00.159838Z",
     "shell.execute_reply": "2022-12-25T02:22:00.157774Z"
    },
    "papermill": {
     "duration": 0.03357,
     "end_time": "2022-12-25T02:22:00.163436",
     "exception": false,
     "start_time": "2022-12-25T02:22:00.129866",
     "status": "completed"
    },
    "tags": []
   },
   "outputs": [
    {
     "name": "stdout",
     "output_type": "stream",
     "text": [
      "Target (RainTomorrow) Values Count\n",
      " * Yes:\t  645 (20.2%)\n",
      " * No:\t 2548 (79.8%)\n"
     ]
    }
   ],
   "source": [
    "target_count = target.value_counts()\n",
    "\n",
    "yes_percent = float(target_count['Yes'])/len(target) * 100\n",
    "no_percent = float(target_count['No'])/len(target) * 100\n",
    "\n",
    "print('Target (RainTomorrow) Values Count')\n",
    "print(f\" * Yes:\\t{target_count['Yes']:5} ({yes_percent:.1f}%)\")\n",
    "print(f\" * No:\\t{target_count['No']:5} ({(no_percent):.1f}%)\")"
   ]
  },
  {
   "cell_type": "code",
   "execution_count": 8,
   "id": "4ce30a77",
   "metadata": {
    "execution": {
     "iopub.execute_input": "2022-12-25T02:22:00.199369Z",
     "iopub.status.busy": "2022-12-25T02:22:00.198946Z",
     "iopub.status.idle": "2022-12-25T02:22:00.366972Z",
     "shell.execute_reply": "2022-12-25T02:22:00.365803Z"
    },
    "papermill": {
     "duration": 0.189497,
     "end_time": "2022-12-25T02:22:00.369382",
     "exception": false,
     "start_time": "2022-12-25T02:22:00.179885",
     "status": "completed"
    },
    "tags": []
   },
   "outputs": [
    {
     "data": {
      "image/png": "[encoded data removed]",
      "text/plain": [
       "<Figure size 864x432 with 1 Axes>"
      ]
     },
     "metadata": {
      "needs_background": "light"
     },
     "output_type": "display_data"
    }
   ],
   "source": [
    "plt.figure(figsize=(12,6))\n",
    "plt.title(\"Rain Tomorrow\", fontweight=\"bold\", fontsize=15)\n",
    "plt.bar(f\"Yes ({yes_percent: .1f}%)\", target_count['Yes'], color=\"blue\")\n",
    "plt.bar(f\"No ({no_percent: .1f}%)\", target_count['No'], color=\"red\")\n",
    "plt.ylabel(\"Record count\", fontweight=\"bold\")\n",
    "plt.show()"
   ]
  },
  {
   "cell_type": "markdown",
   "id": "3b6f8416",
   "metadata": {
    "papermill": {
     "duration": 0.016216,
     "end_time": "2022-12-25T02:22:00.402118",
     "exception": false,
     "start_time": "2022-12-25T02:22:00.385902",
     "status": "completed"
    },
    "tags": []
   },
   "source": [
    "🔖 The dataset is highly imbalanced with the **No** prediction being $4$x more than the **Yes** prediction."
   ]
  },
  {
   "cell_type": "markdown",
   "id": "f4759045",
   "metadata": {
    "papermill": {
     "duration": 0.016198,
     "end_time": "2022-12-25T02:22:00.434708",
     "exception": false,
     "start_time": "2022-12-25T02:22:00.418510",
     "status": "completed"
    },
    "tags": []
   },
   "source": [
    "# _2.2 Numerical Features\n",
    "\n",
    "More details regarding the features can be found [on this website](http://www.bom.gov.au/climate/dwo/IDCJDW0000.shtml).\n",
    "\n",
    "📙 **SUMMARY**\n",
    "* *TODO*"
   ]
  },
  {
   "cell_type": "markdown",
   "id": "27a2f8f9",
   "metadata": {
    "papermill": {
     "duration": 0.016205,
     "end_time": "2022-12-25T02:22:00.467274",
     "exception": false,
     "start_time": "2022-12-25T02:22:00.451069",
     "status": "completed"
    },
    "tags": []
   },
   "source": [
    "Let's select the numerical columns from the dataset and an overview visualization."
   ]
  },
  {
   "cell_type": "code",
   "execution_count": 9,
   "id": "b71509e9",
   "metadata": {
    "execution": {
     "iopub.execute_input": "2022-12-25T02:22:00.502302Z",
     "iopub.status.busy": "2022-12-25T02:22:00.501431Z",
     "iopub.status.idle": "2022-12-25T02:22:00.510081Z",
     "shell.execute_reply": "2022-12-25T02:22:00.508664Z"
    },
    "papermill": {
     "duration": 0.02855,
     "end_time": "2022-12-25T02:22:00.512256",
     "exception": false,
     "start_time": "2022-12-25T02:22:00.483706",
     "status": "completed"
    },
    "tags": []
   },
   "outputs": [
    {
     "data": {
      "text/plain": [
       "Index(['MinTemp', 'MaxTemp', 'Rainfall', 'Evaporation', 'Sunshine',\n",
       "       'WindGustSpeed', 'WindSpeed9am', 'WindSpeed3pm', 'Humidity9am',\n",
       "       'Humidity3pm', 'Pressure9am', 'Pressure3pm', 'Cloud9am', 'Cloud3pm',\n",
       "       'Temp9am', 'Temp3pm'],\n",
       "      dtype='object')"
      ]
     },
     "execution_count": 9,
     "metadata": {},
     "output_type": "execute_result"
    }
   ],
   "source": [
    "num_df = df.select_dtypes(include=[np.float64])\n",
    "num_df.columns"
   ]
  },
  {
   "cell_type": "code",
   "execution_count": 10,
   "id": "e2227ac6",
   "metadata": {
    "execution": {
     "iopub.execute_input": "2022-12-25T02:22:00.548337Z",
     "iopub.status.busy": "2022-12-25T02:22:00.547986Z",
     "iopub.status.idle": "2022-12-25T02:22:02.538840Z",
     "shell.execute_reply": "2022-12-25T02:22:02.537607Z"
    },
    "papermill": {
     "duration": 2.011219,
     "end_time": "2022-12-25T02:22:02.541333",
     "exception": false,
     "start_time": "2022-12-25T02:22:00.530114",
     "status": "completed"
    },
    "tags": []
   },
   "outputs": [
    {
     "data": {
      "text/plain": [
       "<Figure size 432x288 with 0 Axes>"
      ]
     },
     "execution_count": 10,
     "metadata": {},
     "output_type": "execute_result"
    },
    {
     "data": {
      "image/png": "[encoded data removed]",
      "text/plain": [
       "<Figure size 1440x864 with 16 Axes>"
      ]
     },
     "metadata": {
      "needs_background": "light"
     },
     "output_type": "display_data"
    },
    {
     "data": {
      "text/plain": [
       "<Figure size 432x288 with 0 Axes>"
      ]
     },
     "metadata": {},
     "output_type": "display_data"
    }
   ],
   "source": [
    "num_df.hist(figsize=(20,12))\n",
    "plt.figure()\n",
    "# plt.show()"
   ]
  },
  {
   "cell_type": "markdown",
   "id": "0fd9ceb0",
   "metadata": {
    "papermill": {
     "duration": 0.017045,
     "end_time": "2022-12-25T02:22:02.575656",
     "exception": false,
     "start_time": "2022-12-25T02:22:02.558611",
     "status": "completed"
    },
    "tags": []
   },
   "source": [
    "The **Cloud-\\*** histogram seems to have a discontinuous distribution to it. Upon perusal [on the guide](http://www.bom.gov.au/climate/dwo/IDCJDW0000.shtml), it seems that this feature is expressed in `eighth` units.\n",
    "\n",
    "Let's revisualize this histogram, splitting it to $8$ bins this time."
   ]
  },
  {
   "cell_type": "code",
   "execution_count": 11,
   "id": "6190f730",
   "metadata": {
    "execution": {
     "iopub.execute_input": "2022-12-25T02:22:02.612798Z",
     "iopub.status.busy": "2022-12-25T02:22:02.612143Z",
     "iopub.status.idle": "2022-12-25T02:22:02.837720Z",
     "shell.execute_reply": "2022-12-25T02:22:02.836853Z"
    },
    "papermill": {
     "duration": 0.246443,
     "end_time": "2022-12-25T02:22:02.839626",
     "exception": false,
     "start_time": "2022-12-25T02:22:02.593183",
     "status": "completed"
    },
    "tags": []
   },
   "outputs": [
    {
     "data": {
      "image/png": "[encoded data removed]",
      "text/plain": [
       "<Figure size 720x216 with 2 Axes>"
      ]
     },
     "metadata": {
      "needs_background": "light"
     },
     "output_type": "display_data"
    }
   ],
   "source": [
    "num_df.hist(column=['Cloud9am', 'Cloud3pm'], bins=8, figsize=(10,3))\n",
    "plt.show()"
   ]
  },
  {
   "cell_type": "markdown",
   "id": "7c905380",
   "metadata": {
    "papermill": {
     "duration": 0.017212,
     "end_time": "2022-12-25T02:22:02.874543",
     "exception": false,
     "start_time": "2022-12-25T02:22:02.857331",
     "status": "completed"
    },
    "tags": []
   },
   "source": [
    "### Temperature\n",
    "\n",
    "📙 **SUMMARY**"
   ]
  },
  {
   "cell_type": "markdown",
   "id": "0f91aa7c",
   "metadata": {
    "papermill": {
     "duration": 0.017478,
     "end_time": "2022-12-25T02:22:02.910203",
     "exception": false,
     "start_time": "2022-12-25T02:22:02.892725",
     "status": "completed"
    },
    "tags": []
   },
   "source": [
    "Let's extract information from and visualize the temperature features. The temperature is expressed in `$^\\circ$C."
   ]
  },
  {
   "cell_type": "code",
   "execution_count": 12,
   "id": "22f8b228",
   "metadata": {
    "execution": {
     "iopub.execute_input": "2022-12-25T02:22:02.946824Z",
     "iopub.status.busy": "2022-12-25T02:22:02.946428Z",
     "iopub.status.idle": "2022-12-25T02:22:03.258753Z",
     "shell.execute_reply": "2022-12-25T02:22:03.257785Z"
    },
    "papermill": {
     "duration": 0.332783,
     "end_time": "2022-12-25T02:22:03.260508",
     "exception": false,
     "start_time": "2022-12-25T02:22:02.927725",
     "status": "completed"
    },
    "tags": []
   },
   "outputs": [
    {
     "data": {
      "text/html": [
       "<div>\n",
       "<style scoped>\n",
       "    .dataframe tbody tr th:only-of-type {\n",
       "        vertical-align: middle;\n",
       "    }\n",
       "\n",
       "    .dataframe tbody tr th {\n",
       "        vertical-align: top;\n",
       "    }\n",
       "\n",
       "    .dataframe thead th {\n",
       "        text-align: right;\n",
       "    }\n",
       "</style>\n",
       "<table border=\"1\" class=\"dataframe\">\n",
       "  <thead>\n",
       "    <tr style=\"text-align: right;\">\n",
       "      <th></th>\n",
       "      <th>count</th>\n",
       "      <th>mean</th>\n",
       "      <th>std</th>\n",
       "      <th>min</th>\n",
       "      <th>25%</th>\n",
       "      <th>50%</th>\n",
       "      <th>75%</th>\n",
       "      <th>max</th>\n",
       "    </tr>\n",
       "  </thead>\n",
       "  <tbody>\n",
       "    <tr>\n",
       "      <th>MinTemp</th>\n",
       "      <td>3193.0</td>\n",
       "      <td>12.922706</td>\n",
       "      <td>5.087817</td>\n",
       "      <td>-0.6</td>\n",
       "      <td>9.2</td>\n",
       "      <td>13.1</td>\n",
       "      <td>16.6</td>\n",
       "      <td>29.7</td>\n",
       "    </tr>\n",
       "    <tr>\n",
       "      <th>MaxTemp</th>\n",
       "      <td>3192.0</td>\n",
       "      <td>25.034837</td>\n",
       "      <td>6.115454</td>\n",
       "      <td>12.8</td>\n",
       "      <td>20.2</td>\n",
       "      <td>23.9</td>\n",
       "      <td>29.4</td>\n",
       "      <td>44.4</td>\n",
       "    </tr>\n",
       "  </tbody>\n",
       "</table>\n",
       "</div>"
      ],
      "text/plain": [
       "          count       mean       std   min   25%   50%   75%   max\n",
       "MinTemp  3193.0  12.922706  5.087817  -0.6   9.2  13.1  16.6  29.7\n",
       "MaxTemp  3192.0  25.034837  6.115454  12.8  20.2  23.9  29.4  44.4"
      ]
     },
     "execution_count": 12,
     "metadata": {},
     "output_type": "execute_result"
    },
    {
     "data": {
      "image/png": "[encoded data removed]",
      "text/plain": [
       "<Figure size 720x216 with 2 Axes>"
      ]
     },
     "metadata": {
      "needs_background": "light"
     },
     "output_type": "display_data"
    }
   ],
   "source": [
    "temp_df = num_df[['MinTemp','MaxTemp']]\n",
    "temp_df.hist(figsize=(10,3))\n",
    "temp_df.describe().transpose()"
   ]
  },
  {
   "cell_type": "markdown",
   "id": "74c81093",
   "metadata": {
    "papermill": {
     "duration": 0.018249,
     "end_time": "2022-12-25T02:22:03.297252",
     "exception": false,
     "start_time": "2022-12-25T02:22:03.279003",
     "status": "completed"
    },
    "tags": []
   },
   "source": [
    "It seems like **MaxTemp** is negatively skewed. Let's compute the skewness for both features.\n",
    "\n",
    "Note: The distribution is skewed is if it goes below $-0.5$ or beyond $0.5$."
   ]
  },
  {
   "cell_type": "code",
   "execution_count": 13,
   "id": "daaeb899",
   "metadata": {
    "execution": {
     "iopub.execute_input": "2022-12-25T02:22:03.335632Z",
     "iopub.status.busy": "2022-12-25T02:22:03.335267Z",
     "iopub.status.idle": "2022-12-25T02:22:03.341544Z",
     "shell.execute_reply": "2022-12-25T02:22:03.340524Z"
    },
    "papermill": {
     "duration": 0.028039,
     "end_time": "2022-12-25T02:22:03.343654",
     "exception": false,
     "start_time": "2022-12-25T02:22:03.315615",
     "status": "completed"
    },
    "tags": []
   },
   "outputs": [
    {
     "name": "stdout",
     "output_type": "stream",
     "text": [
      "MinTemp skewness: -0.08\n",
      "MaxTemp skewness: 0.58\n"
     ]
    }
   ],
   "source": [
    "print(f\"MinTemp skewness: {num_df['MinTemp'].skew():.2f}\")\n",
    "print(f\"MaxTemp skewness: {num_df['MaxTemp'].skew():.2f}\")"
   ]
  },
  {
   "cell_type": "code",
   "execution_count": 14,
   "id": "5cf5387c",
   "metadata": {
    "execution": {
     "iopub.execute_input": "2022-12-25T02:22:03.381414Z",
     "iopub.status.busy": "2022-12-25T02:22:03.381001Z",
     "iopub.status.idle": "2022-12-25T02:22:03.392042Z",
     "shell.execute_reply": "2022-12-25T02:22:03.391026Z"
    },
    "papermill": {
     "duration": 0.032372,
     "end_time": "2022-12-25T02:22:03.393916",
     "exception": false,
     "start_time": "2022-12-25T02:22:03.361544",
     "status": "completed"
    },
    "tags": []
   },
   "outputs": [
    {
     "data": {
      "text/plain": [
       "122570    29.7\n",
       "Name: MinTemp, dtype: float64"
      ]
     },
     "execution_count": 14,
     "metadata": {},
     "output_type": "execute_result"
    }
   ],
   "source": [
    "mintemp_df = num_df['MinTemp']\n",
    "outliers = mintemp_df[np.abs(stats.zscore(mintemp_df)) > 3]\n",
    "outliers"
   ]
  },
  {
   "cell_type": "code",
   "execution_count": 15,
   "id": "e6315137",
   "metadata": {
    "execution": {
     "iopub.execute_input": "2022-12-25T02:22:03.432295Z",
     "iopub.status.busy": "2022-12-25T02:22:03.431236Z",
     "iopub.status.idle": "2022-12-25T02:22:03.562486Z",
     "shell.execute_reply": "2022-12-25T02:22:03.561550Z"
    },
    "papermill": {
     "duration": 0.152328,
     "end_time": "2022-12-25T02:22:03.564234",
     "exception": false,
     "start_time": "2022-12-25T02:22:03.411906",
     "status": "completed"
    },
    "tags": []
   },
   "outputs": [
    {
     "name": "stdout",
     "output_type": "stream",
     "text": [
      "MinTemp outlier count: 2\n",
      "MaxTemp outlier count: 2\n"
     ]
    },
    {
     "data": {
      "image/png": "[encoded data removed]",
      "text/plain": [
       "<Figure size 432x288 with 1 Axes>"
      ]
     },
     "metadata": {
      "needs_background": "light"
     },
     "output_type": "display_data"
    }
   ],
   "source": [
    "def extract_outliers(series):\n",
    "    result = dict()\n",
    "    col = series.dropna()\n",
    "    mean = col.mean()\n",
    "    [q3, q1] = np.percentile(col, [75,25])\n",
    "    iqr = np.subtract(q3, q1)\n",
    "\n",
    "    boundary = q3 + (1.5 * iqr)\n",
    "    return col[col > boundary]\n",
    "\n",
    "temp_df.boxplot()\n",
    "min_temp_outliers = extract_outliers(num_df['MinTemp'])\n",
    "max_temp_outliers = extract_outliers(num_df['MaxTemp'])\n",
    "\n",
    "print(f\"MinTemp outlier count: {len(min_temp_outliers)}\")\n",
    "print(f\"MaxTemp outlier count: {len(max_temp_outliers)}\")"
   ]
  },
  {
   "cell_type": "code",
   "execution_count": 16,
   "id": "2e6a511f",
   "metadata": {
    "execution": {
     "iopub.execute_input": "2022-12-25T02:22:03.607524Z",
     "iopub.status.busy": "2022-12-25T02:22:03.606947Z",
     "iopub.status.idle": "2022-12-25T02:22:03.834655Z",
     "shell.execute_reply": "2022-12-25T02:22:03.833340Z"
    },
    "papermill": {
     "duration": 0.251323,
     "end_time": "2022-12-25T02:22:03.836767",
     "exception": false,
     "start_time": "2022-12-25T02:22:03.585444",
     "status": "completed"
    },
    "tags": []
   },
   "outputs": [
    {
     "data": {
      "image/png": "[encoded data removed]",
      "text/plain": [
       "<Figure size 864x216 with 1 Axes>"
      ]
     },
     "metadata": {
      "needs_background": "light"
     },
     "output_type": "display_data"
    }
   ],
   "source": [
    "plt.figure(figsize=(12,3))\n",
    "sns.boxplot(x=df['MaxTemp'], y=df['RainToday'], hue=df['RainTomorrow'])\n",
    "plt.show()"
   ]
  },
  {
   "cell_type": "markdown",
   "id": "d8e2aa7b",
   "metadata": {
    "papermill": {
     "duration": 0.020696,
     "end_time": "2022-12-25T02:22:03.876191",
     "exception": false,
     "start_time": "2022-12-25T02:22:03.855495",
     "status": "completed"
    },
    "tags": []
   },
   "source": [
    "Let's revisit the missing values for the feature once again."
   ]
  },
  {
   "cell_type": "code",
   "execution_count": 17,
   "id": "d15dc237",
   "metadata": {
    "execution": {
     "iopub.execute_input": "2022-12-25T02:22:03.916375Z",
     "iopub.status.busy": "2022-12-25T02:22:03.915220Z",
     "iopub.status.idle": "2022-12-25T02:22:03.923621Z",
     "shell.execute_reply": "2022-12-25T02:22:03.922553Z"
    },
    "papermill": {
     "duration": 0.032234,
     "end_time": "2022-12-25T02:22:03.927361",
     "exception": false,
     "start_time": "2022-12-25T02:22:03.895127",
     "status": "completed"
    },
    "tags": []
   },
   "outputs": [
    {
     "name": "stdout",
     "output_type": "stream",
     "text": [
      "MinTemp missing values: 0 (0.00%)\n",
      "MaxTemp missing values: 1 (0.03%)\n"
     ]
    }
   ],
   "source": [
    "missing_min_temp = num_df['MinTemp'].isna().sum()\n",
    "missing_min_temp_perc = float(missing_min_temp)/len(num_df['MinTemp'])\n",
    "print(f\"MinTemp missing values: {missing_min_temp} ({missing_min_temp_perc:.2f}%)\")\n",
    "\n",
    "missing_max_temp = num_df['MaxTemp'].isna().sum()\n",
    "missing_max_temp_perc = float(missing_max_temp)/len(num_df['MaxTemp'])\n",
    "print(f\"MaxTemp missing values: {missing_max_temp} ({missing_max_temp_perc * 100:.2f}%)\")"
   ]
  },
  {
   "cell_type": "markdown",
   "id": "ad33ef45",
   "metadata": {
    "papermill": {
     "duration": 0.022587,
     "end_time": "2022-12-25T02:22:03.972132",
     "exception": false,
     "start_time": "2022-12-25T02:22:03.949545",
     "status": "completed"
    },
    "tags": []
   },
   "source": [
    "🔖 **Temperature feature observations**\n",
    "\n",
    "**MinTemp**:\n",
    " * The distribution is almost **symmetric** (`skewness` = $0.08$).\n",
    " * There are $2$ outliers in the dataset.\n",
    " \n",
    "**MaxTemp**\n",
    " * The distribution is **positively skewed** (`skewness` = $0.58$).\n",
    " * There are $2$ outliers in the dataset."
   ]
  },
  {
   "cell_type": "markdown",
   "id": "a91a16ba",
   "metadata": {
    "papermill": {
     "duration": 0.01893,
     "end_time": "2022-12-25T02:22:04.014025",
     "exception": false,
     "start_time": "2022-12-25T02:22:03.995095",
     "status": "completed"
    },
    "tags": []
   },
   "source": [
    "### __Rainfall\n",
    "\n",
    "📙 **SUMMARY**\n",
    "* The values represent the precipitation in the 24 hours to 9am and are expressed in **mm**.\n",
    "* There are no missing values for the *Rainfall* attribute.\n",
    "* The distribution is exponential.\n",
    "* The dataset is dominated by $0.0$ values (more than $70\\%$).\n"
   ]
  },
  {
   "cell_type": "markdown",
   "id": "9bf9cb2c",
   "metadata": {
    "papermill": {
     "duration": 0.018649,
     "end_time": "2022-12-25T02:22:04.051216",
     "exception": false,
     "start_time": "2022-12-25T02:22:04.032567",
     "status": "completed"
    },
    "tags": []
   },
   "source": [
    "The attribute represents the precipitation within 24 hours and are expressed in **mm**. The values are in interleaved by $0.2$ units."
   ]
  },
  {
   "cell_type": "code",
   "execution_count": 18,
   "id": "685ba639",
   "metadata": {
    "_kg_hide-input": true,
    "execution": {
     "iopub.execute_input": "2022-12-25T02:22:04.090115Z",
     "iopub.status.busy": "2022-12-25T02:22:04.089700Z",
     "iopub.status.idle": "2022-12-25T02:22:04.101953Z",
     "shell.execute_reply": "2022-12-25T02:22:04.100832Z"
    },
    "papermill": {
     "duration": 0.034102,
     "end_time": "2022-12-25T02:22:04.103947",
     "exception": false,
     "start_time": "2022-12-25T02:22:04.069845",
     "status": "completed"
    },
    "tags": []
   },
   "outputs": [
    {
     "data": {
      "text/html": [
       "<div>\n",
       "<style scoped>\n",
       "    .dataframe tbody tr th:only-of-type {\n",
       "        vertical-align: middle;\n",
       "    }\n",
       "\n",
       "    .dataframe tbody tr th {\n",
       "        vertical-align: top;\n",
       "    }\n",
       "\n",
       "    .dataframe thead th {\n",
       "        text-align: right;\n",
       "    }\n",
       "</style>\n",
       "<table border=\"1\" class=\"dataframe\">\n",
       "  <thead>\n",
       "    <tr style=\"text-align: right;\">\n",
       "      <th></th>\n",
       "      <th>Rainfall</th>\n",
       "    </tr>\n",
       "  </thead>\n",
       "  <tbody>\n",
       "    <tr>\n",
       "      <th>120638</th>\n",
       "      <td>0.0</td>\n",
       "    </tr>\n",
       "    <tr>\n",
       "      <th>120639</th>\n",
       "      <td>0.0</td>\n",
       "    </tr>\n",
       "    <tr>\n",
       "      <th>120640</th>\n",
       "      <td>0.4</td>\n",
       "    </tr>\n",
       "    <tr>\n",
       "      <th>120641</th>\n",
       "      <td>1.8</td>\n",
       "    </tr>\n",
       "    <tr>\n",
       "      <th>120642</th>\n",
       "      <td>1.8</td>\n",
       "    </tr>\n",
       "    <tr>\n",
       "      <th>120643</th>\n",
       "      <td>6.8</td>\n",
       "    </tr>\n",
       "    <tr>\n",
       "      <th>120644</th>\n",
       "      <td>0.0</td>\n",
       "    </tr>\n",
       "    <tr>\n",
       "      <th>120645</th>\n",
       "      <td>0.0</td>\n",
       "    </tr>\n",
       "    <tr>\n",
       "      <th>120646</th>\n",
       "      <td>8.0</td>\n",
       "    </tr>\n",
       "    <tr>\n",
       "      <th>120647</th>\n",
       "      <td>4.6</td>\n",
       "    </tr>\n",
       "  </tbody>\n",
       "</table>\n",
       "</div>"
      ],
      "text/plain": [
       "        Rainfall\n",
       "120638       0.0\n",
       "120639       0.0\n",
       "120640       0.4\n",
       "120641       1.8\n",
       "120642       1.8\n",
       "120643       6.8\n",
       "120644       0.0\n",
       "120645       0.0\n",
       "120646       8.0\n",
       "120647       4.6"
      ]
     },
     "execution_count": 18,
     "metadata": {},
     "output_type": "execute_result"
    }
   ],
   "source": [
    "rainfall_df = num_df['Rainfall']\n",
    "pd.DataFrame(rainfall_df).head(10)"
   ]
  },
  {
   "cell_type": "markdown",
   "id": "c17ad620",
   "metadata": {
    "papermill": {
     "duration": 0.018704,
     "end_time": "2022-12-25T02:22:04.141514",
     "exception": false,
     "start_time": "2022-12-25T02:22:04.122810",
     "status": "completed"
    },
    "tags": []
   },
   "source": [
    "There are no missing values for the *Rainfall* attribute."
   ]
  },
  {
   "cell_type": "code",
   "execution_count": 19,
   "id": "f8f7484f",
   "metadata": {
    "_kg_hide-input": true,
    "execution": {
     "iopub.execute_input": "2022-12-25T02:22:04.180790Z",
     "iopub.status.busy": "2022-12-25T02:22:04.180362Z",
     "iopub.status.idle": "2022-12-25T02:22:04.186869Z",
     "shell.execute_reply": "2022-12-25T02:22:04.186110Z"
    },
    "papermill": {
     "duration": 0.02873,
     "end_time": "2022-12-25T02:22:04.188953",
     "exception": false,
     "start_time": "2022-12-25T02:22:04.160223",
     "status": "completed"
    },
    "tags": []
   },
   "outputs": [
    {
     "name": "stdout",
     "output_type": "stream",
     "text": [
      "Missing Rainfall values: 0 (0.00%)\n"
     ]
    }
   ],
   "source": [
    "missing_rainfall_count = rainfall_df.isna().sum()\n",
    "missing_rainfall_perc = rainfall_df.isna().sum() / float(len(rainfall_df))\n",
    "\n",
    "print(f\"Missing Rainfall values: {missing_rainfall_count} ({missing_rainfall_perc:.2f}%)\")"
   ]
  },
  {
   "cell_type": "markdown",
   "id": "8478928c",
   "metadata": {
    "papermill": {
     "duration": 0.018284,
     "end_time": "2022-12-25T02:22:04.226557",
     "exception": false,
     "start_time": "2022-12-25T02:22:04.208273",
     "status": "completed"
    },
    "tags": []
   },
   "source": [
    "The data ranges from $0.0$ to $114.4$ with a mean of $1.91$ and a standard deviation of $5.79$."
   ]
  },
  {
   "cell_type": "code",
   "execution_count": 20,
   "id": "88632b06",
   "metadata": {
    "_kg_hide-input": true,
    "execution": {
     "iopub.execute_input": "2022-12-25T02:22:04.266600Z",
     "iopub.status.busy": "2022-12-25T02:22:04.265442Z",
     "iopub.status.idle": "2022-12-25T02:22:04.283848Z",
     "shell.execute_reply": "2022-12-25T02:22:04.282996Z"
    },
    "papermill": {
     "duration": 0.04098,
     "end_time": "2022-12-25T02:22:04.286218",
     "exception": false,
     "start_time": "2022-12-25T02:22:04.245238",
     "status": "completed"
    },
    "tags": []
   },
   "outputs": [
    {
     "data": {
      "text/html": [
       "<div>\n",
       "<style scoped>\n",
       "    .dataframe tbody tr th:only-of-type {\n",
       "        vertical-align: middle;\n",
       "    }\n",
       "\n",
       "    .dataframe tbody tr th {\n",
       "        vertical-align: top;\n",
       "    }\n",
       "\n",
       "    .dataframe thead th {\n",
       "        text-align: right;\n",
       "    }\n",
       "</style>\n",
       "<table border=\"1\" class=\"dataframe\">\n",
       "  <thead>\n",
       "    <tr style=\"text-align: right;\">\n",
       "      <th></th>\n",
       "      <th>count</th>\n",
       "      <th>mean</th>\n",
       "      <th>std</th>\n",
       "      <th>min</th>\n",
       "      <th>25%</th>\n",
       "      <th>50%</th>\n",
       "      <th>75%</th>\n",
       "      <th>max</th>\n",
       "    </tr>\n",
       "  </thead>\n",
       "  <tbody>\n",
       "    <tr>\n",
       "      <th>Rainfall</th>\n",
       "      <td>3193.0</td>\n",
       "      <td>1.906295</td>\n",
       "      <td>5.78995</td>\n",
       "      <td>0.0</td>\n",
       "      <td>0.0</td>\n",
       "      <td>0.0</td>\n",
       "      <td>0.2</td>\n",
       "      <td>114.4</td>\n",
       "    </tr>\n",
       "  </tbody>\n",
       "</table>\n",
       "</div>"
      ],
      "text/plain": [
       "           count      mean      std  min  25%  50%  75%    max\n",
       "Rainfall  3193.0  1.906295  5.78995  0.0  0.0  0.0  0.2  114.4"
      ]
     },
     "execution_count": 20,
     "metadata": {},
     "output_type": "execute_result"
    }
   ],
   "source": [
    "pd.DataFrame(rainfall_df).describe().transpose()"
   ]
  },
  {
   "cell_type": "markdown",
   "id": "7ab29b98",
   "metadata": {
    "papermill": {
     "duration": 0.018991,
     "end_time": "2022-12-25T02:22:04.325879",
     "exception": false,
     "start_time": "2022-12-25T02:22:04.306888",
     "status": "completed"
    },
    "tags": []
   },
   "source": [
    "The *Rainfall* data follows the exponential distribution, making it positively skewed."
   ]
  },
  {
   "cell_type": "code",
   "execution_count": 21,
   "id": "2565a685",
   "metadata": {
    "_kg_hide-input": true,
    "execution": {
     "iopub.execute_input": "2022-12-25T02:22:04.366542Z",
     "iopub.status.busy": "2022-12-25T02:22:04.365774Z",
     "iopub.status.idle": "2022-12-25T02:22:04.603104Z",
     "shell.execute_reply": "2022-12-25T02:22:04.602137Z"
    },
    "papermill": {
     "duration": 0.259449,
     "end_time": "2022-12-25T02:22:04.604967",
     "exception": false,
     "start_time": "2022-12-25T02:22:04.345518",
     "status": "completed"
    },
    "tags": []
   },
   "outputs": [
    {
     "data": {
      "image/png": "[encoded data removed]",
      "text/plain": [
       "<Figure size 1440x432 with 2 Axes>"
      ]
     },
     "metadata": {
      "needs_background": "light"
     },
     "output_type": "display_data"
    }
   ],
   "source": [
    "fig, axes = plt.subplots(1, 2, figsize=(20, 6))\n",
    "\n",
    "rainfall_df.hist(ax=axes[0])\n",
    "axes[0].set_title(\"Rainfall Distribution\")\n",
    "\n",
    "sns.boxplot(ax=axes[1], x=rainfall_df)\n",
    "axes[1].set_title(\"Rainfall Boxplot\")\n",
    "\n",
    "plt.show()"
   ]
  },
  {
   "cell_type": "code",
   "execution_count": 22,
   "id": "ee3d247f",
   "metadata": {
    "_kg_hide-input": true,
    "execution": {
     "iopub.execute_input": "2022-12-25T02:22:04.645757Z",
     "iopub.status.busy": "2022-12-25T02:22:04.645352Z",
     "iopub.status.idle": "2022-12-25T02:22:04.650552Z",
     "shell.execute_reply": "2022-12-25T02:22:04.649939Z"
    },
    "papermill": {
     "duration": 0.027871,
     "end_time": "2022-12-25T02:22:04.652288",
     "exception": false,
     "start_time": "2022-12-25T02:22:04.624417",
     "status": "completed"
    },
    "tags": []
   },
   "outputs": [
    {
     "name": "stdout",
     "output_type": "stream",
     "text": [
      "Skewness of Rainfall: 6.14\n"
     ]
    }
   ],
   "source": [
    "skewness = rainfall_df.skew()\n",
    "\n",
    "print(f\"Skewness of Rainfall: {skewness:.2f}\")"
   ]
  },
  {
   "cell_type": "markdown",
   "id": "2ca1fc0e",
   "metadata": {
    "papermill": {
     "duration": 0.018876,
     "end_time": "2022-12-25T02:22:04.690125",
     "exception": false,
     "start_time": "2022-12-25T02:22:04.671249",
     "status": "completed"
    },
    "tags": []
   },
   "source": [
    "In the dataset, the value $0.0$ comprises more than $70\\%$ of the the dataset."
   ]
  },
  {
   "cell_type": "code",
   "execution_count": 23,
   "id": "0805ab06",
   "metadata": {
    "_kg_hide-input": true,
    "execution": {
     "iopub.execute_input": "2022-12-25T02:22:04.730789Z",
     "iopub.status.busy": "2022-12-25T02:22:04.729785Z",
     "iopub.status.idle": "2022-12-25T02:22:04.743867Z",
     "shell.execute_reply": "2022-12-25T02:22:04.742375Z"
    },
    "papermill": {
     "duration": 0.037427,
     "end_time": "2022-12-25T02:22:04.746758",
     "exception": false,
     "start_time": "2022-12-25T02:22:04.709331",
     "status": "completed"
    },
    "tags": []
   },
   "outputs": [
    {
     "name": "stdout",
     "output_type": "stream",
     "text": [
      "Top 10 Rainfall value occurences:\n"
     ]
    },
    {
     "data": {
      "text/plain": [
       "0.0    0.718133\n",
       "0.2    0.033824\n",
       "0.4    0.016599\n",
       "0.6    0.011588\n",
       "0.8    0.009396\n",
       "1.2    0.009082\n",
       "1.0    0.008456\n",
       "2.6    0.006264\n",
       "1.6    0.005951\n",
       "2.8    0.005637\n",
       "Name: Rainfall, dtype: float64"
      ]
     },
     "execution_count": 23,
     "metadata": {},
     "output_type": "execute_result"
    }
   ],
   "source": [
    "print(\"Top 10 Rainfall value occurences:\")\n",
    "value_count_perc = rainfall_df.value_counts()/len(rainfall_df)\n",
    "value_count_perc.sort_values(ascending=False, inplace=True)\n",
    "value_count_perc.iloc[:10]"
   ]
  },
  {
   "cell_type": "markdown",
   "id": "93599fc1",
   "metadata": {
    "papermill": {
     "duration": 0.018925,
     "end_time": "2022-12-25T02:22:04.785750",
     "exception": false,
     "start_time": "2022-12-25T02:22:04.766825",
     "status": "completed"
    },
    "tags": []
   },
   "source": []
  },
  {
   "cell_type": "markdown",
   "id": "6988f9c4",
   "metadata": {
    "papermill": {
     "duration": 0.019227,
     "end_time": "2022-12-25T02:22:04.824133",
     "exception": false,
     "start_time": "2022-12-25T02:22:04.804906",
     "status": "completed"
    },
    "tags": []
   },
   "source": [
    "### __Evaporation\n",
    "\n",
    "📙 **SUMMARY**\n",
    "* The values are expressed in **mm**.\n",
    "* There is only $1$ missing value for this attribute.\n",
    "* The distribution is positively skewed at `skewness` = $0.54$.\n",
    "* There is $1$ outlier value in the dataset: $17.0$."
   ]
  },
  {
   "cell_type": "markdown",
   "id": "98b85fa2",
   "metadata": {
    "papermill": {
     "duration": 0.018874,
     "end_time": "2022-12-25T02:22:04.862292",
     "exception": false,
     "start_time": "2022-12-25T02:22:04.843418",
     "status": "completed"
    },
    "tags": []
   },
   "source": [
    "The *Evaporation* data represents the evaporation level in **mm** measured using the standard *Class A Evaporation Pan* within $24$ hours from 9AM. The values are rounded up to the nearest $0.2$ mm."
   ]
  },
  {
   "cell_type": "code",
   "execution_count": 24,
   "id": "9dfb7c7f",
   "metadata": {
    "_kg_hide-input": true,
    "execution": {
     "iopub.execute_input": "2022-12-25T02:22:04.902831Z",
     "iopub.status.busy": "2022-12-25T02:22:04.902413Z",
     "iopub.status.idle": "2022-12-25T02:22:04.912054Z",
     "shell.execute_reply": "2022-12-25T02:22:04.911283Z"
    },
    "papermill": {
     "duration": 0.032275,
     "end_time": "2022-12-25T02:22:04.913931",
     "exception": false,
     "start_time": "2022-12-25T02:22:04.881656",
     "status": "completed"
    },
    "tags": []
   },
   "outputs": [
    {
     "data": {
      "text/html": [
       "<div>\n",
       "<style scoped>\n",
       "    .dataframe tbody tr th:only-of-type {\n",
       "        vertical-align: middle;\n",
       "    }\n",
       "\n",
       "    .dataframe tbody tr th {\n",
       "        vertical-align: top;\n",
       "    }\n",
       "\n",
       "    .dataframe thead th {\n",
       "        text-align: right;\n",
       "    }\n",
       "</style>\n",
       "<table border=\"1\" class=\"dataframe\">\n",
       "  <thead>\n",
       "    <tr style=\"text-align: right;\">\n",
       "      <th></th>\n",
       "      <th>Evaporation</th>\n",
       "    </tr>\n",
       "  </thead>\n",
       "  <tbody>\n",
       "    <tr>\n",
       "      <th>120638</th>\n",
       "      <td>0.8</td>\n",
       "    </tr>\n",
       "    <tr>\n",
       "      <th>120639</th>\n",
       "      <td>1.8</td>\n",
       "    </tr>\n",
       "    <tr>\n",
       "      <th>120640</th>\n",
       "      <td>2.2</td>\n",
       "    </tr>\n",
       "    <tr>\n",
       "      <th>120641</th>\n",
       "      <td>1.2</td>\n",
       "    </tr>\n",
       "    <tr>\n",
       "      <th>120642</th>\n",
       "      <td>1.4</td>\n",
       "    </tr>\n",
       "    <tr>\n",
       "      <th>120643</th>\n",
       "      <td>2.4</td>\n",
       "    </tr>\n",
       "    <tr>\n",
       "      <th>120644</th>\n",
       "      <td>0.8</td>\n",
       "    </tr>\n",
       "    <tr>\n",
       "      <th>120645</th>\n",
       "      <td>1.4</td>\n",
       "    </tr>\n",
       "    <tr>\n",
       "      <th>120646</th>\n",
       "      <td>1.2</td>\n",
       "    </tr>\n",
       "    <tr>\n",
       "      <th>120647</th>\n",
       "      <td>2.8</td>\n",
       "    </tr>\n",
       "  </tbody>\n",
       "</table>\n",
       "</div>"
      ],
      "text/plain": [
       "        Evaporation\n",
       "120638          0.8\n",
       "120639          1.8\n",
       "120640          2.2\n",
       "120641          1.2\n",
       "120642          1.4\n",
       "120643          2.4\n",
       "120644          0.8\n",
       "120645          1.4\n",
       "120646          1.2\n",
       "120647          2.8"
      ]
     },
     "execution_count": 24,
     "metadata": {},
     "output_type": "execute_result"
    }
   ],
   "source": [
    "evap_df = df['Evaporation']\n",
    "pd.DataFrame(evap_df).head(10)"
   ]
  },
  {
   "cell_type": "markdown",
   "id": "81bde7fa",
   "metadata": {
    "papermill": {
     "duration": 0.01956,
     "end_time": "2022-12-25T02:22:04.953333",
     "exception": false,
     "start_time": "2022-12-25T02:22:04.933773",
     "status": "completed"
    },
    "tags": []
   },
   "source": [
    "There's only $1$ missing value for the *Evaporation* attribute."
   ]
  },
  {
   "cell_type": "code",
   "execution_count": 25,
   "id": "f1334cf9",
   "metadata": {
    "_kg_hide-input": true,
    "execution": {
     "iopub.execute_input": "2022-12-25T02:22:04.995828Z",
     "iopub.status.busy": "2022-12-25T02:22:04.995208Z",
     "iopub.status.idle": "2022-12-25T02:22:05.001593Z",
     "shell.execute_reply": "2022-12-25T02:22:04.999751Z"
    },
    "papermill": {
     "duration": 0.03111,
     "end_time": "2022-12-25T02:22:05.004308",
     "exception": false,
     "start_time": "2022-12-25T02:22:04.973198",
     "status": "completed"
    },
    "tags": []
   },
   "outputs": [
    {
     "name": "stdout",
     "output_type": "stream",
     "text": [
      "Missing evaporation values: 1 (0.0003%)\n"
     ]
    }
   ],
   "source": [
    "missing_evap_count = evap_df.isna().sum()\n",
    "missing_evap_perc = missing_evap_count / len(evap_df)\n",
    "\n",
    "print(f\"Missing evaporation values: {missing_evap_count} ({missing_evap_perc:.4f}%)\")"
   ]
  },
  {
   "cell_type": "markdown",
   "id": "3c780a2c",
   "metadata": {
    "papermill": {
     "duration": 0.019089,
     "end_time": "2022-12-25T02:22:05.043380",
     "exception": false,
     "start_time": "2022-12-25T02:22:05.024291",
     "status": "completed"
    },
    "tags": []
   },
   "source": [
    "The values range from $0.0$ to $17.0$ with a mean of $5.61$ and a standard deviation of $3.42$."
   ]
  },
  {
   "cell_type": "code",
   "execution_count": 26,
   "id": "56ddc84c",
   "metadata": {
    "_kg_hide-input": true,
    "execution": {
     "iopub.execute_input": "2022-12-25T02:22:05.083865Z",
     "iopub.status.busy": "2022-12-25T02:22:05.083464Z",
     "iopub.status.idle": "2022-12-25T02:22:05.102049Z",
     "shell.execute_reply": "2022-12-25T02:22:05.100825Z"
    },
    "papermill": {
     "duration": 0.041613,
     "end_time": "2022-12-25T02:22:05.104354",
     "exception": false,
     "start_time": "2022-12-25T02:22:05.062741",
     "status": "completed"
    },
    "tags": []
   },
   "outputs": [
    {
     "data": {
      "text/html": [
       "<div>\n",
       "<style scoped>\n",
       "    .dataframe tbody tr th:only-of-type {\n",
       "        vertical-align: middle;\n",
       "    }\n",
       "\n",
       "    .dataframe tbody tr th {\n",
       "        vertical-align: top;\n",
       "    }\n",
       "\n",
       "    .dataframe thead th {\n",
       "        text-align: right;\n",
       "    }\n",
       "</style>\n",
       "<table border=\"1\" class=\"dataframe\">\n",
       "  <thead>\n",
       "    <tr style=\"text-align: right;\">\n",
       "      <th></th>\n",
       "      <th>count</th>\n",
       "      <th>mean</th>\n",
       "      <th>std</th>\n",
       "      <th>min</th>\n",
       "      <th>25%</th>\n",
       "      <th>50%</th>\n",
       "      <th>75%</th>\n",
       "      <th>max</th>\n",
       "    </tr>\n",
       "  </thead>\n",
       "  <tbody>\n",
       "    <tr>\n",
       "      <th>Evaporation</th>\n",
       "      <td>3192.0</td>\n",
       "      <td>5.606579</td>\n",
       "      <td>3.422893</td>\n",
       "      <td>0.0</td>\n",
       "      <td>2.6</td>\n",
       "      <td>4.8</td>\n",
       "      <td>8.2</td>\n",
       "      <td>17.0</td>\n",
       "    </tr>\n",
       "  </tbody>\n",
       "</table>\n",
       "</div>"
      ],
      "text/plain": [
       "              count      mean       std  min  25%  50%  75%   max\n",
       "Evaporation  3192.0  5.606579  3.422893  0.0  2.6  4.8  8.2  17.0"
      ]
     },
     "execution_count": 26,
     "metadata": {},
     "output_type": "execute_result"
    }
   ],
   "source": [
    "pd.DataFrame(evap_df).describe().transpose()"
   ]
  },
  {
   "cell_type": "markdown",
   "id": "a29143d9",
   "metadata": {
    "papermill": {
     "duration": 0.019317,
     "end_time": "2022-12-25T02:22:05.143290",
     "exception": false,
     "start_time": "2022-12-25T02:22:05.123973",
     "status": "completed"
    },
    "tags": []
   },
   "source": [
    "The data is positively skewed with `skewness` = $0.54$. "
   ]
  },
  {
   "cell_type": "code",
   "execution_count": 27,
   "id": "c00995aa",
   "metadata": {
    "_kg_hide-input": true,
    "execution": {
     "iopub.execute_input": "2022-12-25T02:22:05.184746Z",
     "iopub.status.busy": "2022-12-25T02:22:05.184306Z",
     "iopub.status.idle": "2022-12-25T02:22:05.429533Z",
     "shell.execute_reply": "2022-12-25T02:22:05.428459Z"
    },
    "papermill": {
     "duration": 0.268628,
     "end_time": "2022-12-25T02:22:05.431442",
     "exception": false,
     "start_time": "2022-12-25T02:22:05.162814",
     "status": "completed"
    },
    "tags": []
   },
   "outputs": [
    {
     "data": {
      "image/png": "[encoded data removed]",
      "text/plain": [
       "<Figure size 1440x432 with 2 Axes>"
      ]
     },
     "metadata": {
      "needs_background": "light"
     },
     "output_type": "display_data"
    }
   ],
   "source": [
    "_, axes = plt.subplots(1, 2, figsize=(20, 6))\n",
    "\n",
    "plt.title(\"Evaporation Distribution\")\n",
    "evap_df.hist(ax=axes[0])\n",
    "\n",
    "plt.title(\"Evaporation Boxplot\")\n",
    "sns.boxplot(ax=axes[1], x=evap_df)\n",
    "\n",
    "plt.show()"
   ]
  },
  {
   "cell_type": "code",
   "execution_count": 28,
   "id": "1ef8d3da",
   "metadata": {
    "_kg_hide-input": true,
    "execution": {
     "iopub.execute_input": "2022-12-25T02:22:05.472515Z",
     "iopub.status.busy": "2022-12-25T02:22:05.472102Z",
     "iopub.status.idle": "2022-12-25T02:22:05.478565Z",
     "shell.execute_reply": "2022-12-25T02:22:05.477394Z"
    },
    "papermill": {
     "duration": 0.029356,
     "end_time": "2022-12-25T02:22:05.480683",
     "exception": false,
     "start_time": "2022-12-25T02:22:05.451327",
     "status": "completed"
    },
    "tags": []
   },
   "outputs": [
    {
     "name": "stdout",
     "output_type": "stream",
     "text": [
      "Skewness of Evaporation: 0.54\n"
     ]
    }
   ],
   "source": [
    "evap_skewness = evap_df.skew()\n",
    "\n",
    "print(f\"Skewness of Evaporation: {evap_skewness:.2f}\")"
   ]
  },
  {
   "cell_type": "markdown",
   "id": "f3ab427d",
   "metadata": {
    "papermill": {
     "duration": 0.020165,
     "end_time": "2022-12-25T02:22:05.521065",
     "exception": false,
     "start_time": "2022-12-25T02:22:05.500900",
     "status": "completed"
    },
    "tags": []
   },
   "source": [
    "There is only $1$ outlier in the dataset: $17.0$."
   ]
  },
  {
   "cell_type": "code",
   "execution_count": 29,
   "id": "fbbfa37f",
   "metadata": {
    "execution": {
     "iopub.execute_input": "2022-12-25T02:22:05.563178Z",
     "iopub.status.busy": "2022-12-25T02:22:05.562848Z",
     "iopub.status.idle": "2022-12-25T02:22:05.570384Z",
     "shell.execute_reply": "2022-12-25T02:22:05.569510Z"
    },
    "papermill": {
     "duration": 0.030989,
     "end_time": "2022-12-25T02:22:05.572387",
     "exception": false,
     "start_time": "2022-12-25T02:22:05.541398",
     "status": "completed"
    },
    "tags": []
   },
   "outputs": [
    {
     "name": "stdout",
     "output_type": "stream",
     "text": [
      "Number of outliers: 1\n",
      "Outliers: [17.0]\n"
     ]
    }
   ],
   "source": [
    "no_missing_evap = evap_df[~evap_df.isna()]\n",
    "perc_75, perc_25 = np.percentile(no_missing_evap, [75, 25])\n",
    "iqr = perc_75 - perc_25\n",
    "\n",
    "evap_boundary = perc_75 + (1.5 * iqr)\n",
    "evap_outliers = no_missing_evap[ no_missing_evap > evap_boundary]\n",
    "print(f\"Number of outliers: {len(evap_outliers.values)}\")\n",
    "print(f\"Outliers: { [outlier for outlier in evap_outliers.values] }\")"
   ]
  },
  {
   "cell_type": "markdown",
   "id": "0d35b166",
   "metadata": {
    "papermill": {
     "duration": 0.019805,
     "end_time": "2022-12-25T02:22:05.612496",
     "exception": false,
     "start_time": "2022-12-25T02:22:05.592691",
     "status": "completed"
    },
    "tags": []
   },
   "source": [
    "### __Sunshine\n",
    "\n",
    "\n",
    "📙 **SUMMARY**\n",
    "* The attribute is expressed in terms of number of hours.\n",
    "* The data has a mean of $8.78$ with a standard deviation of $3.47$.\n",
    "* There are $5$ missing values in the dataset.\n",
    "* The distribution is negatively skewed at `skewness` = $-0.74$."
   ]
  },
  {
   "cell_type": "markdown",
   "id": "57d6438e",
   "metadata": {
    "papermill": {
     "duration": 0.019976,
     "end_time": "2022-12-25T02:22:05.652708",
     "exception": false,
     "start_time": "2022-12-25T02:22:05.632732",
     "status": "completed"
    },
    "tags": []
   },
   "source": [
    "The *Sunshine* attribute represents the number of hours with bright sunshine within 24 hours. Ergo, the value is capped at $24$ hours."
   ]
  },
  {
   "cell_type": "code",
   "execution_count": 30,
   "id": "846903d0",
   "metadata": {
    "execution": {
     "iopub.execute_input": "2022-12-25T02:22:05.695299Z",
     "iopub.status.busy": "2022-12-25T02:22:05.694900Z",
     "iopub.status.idle": "2022-12-25T02:22:05.706123Z",
     "shell.execute_reply": "2022-12-25T02:22:05.704392Z"
    },
    "papermill": {
     "duration": 0.035363,
     "end_time": "2022-12-25T02:22:05.708490",
     "exception": false,
     "start_time": "2022-12-25T02:22:05.673127",
     "status": "completed"
    },
    "tags": []
   },
   "outputs": [
    {
     "data": {
      "text/html": [
       "<div>\n",
       "<style scoped>\n",
       "    .dataframe tbody tr th:only-of-type {\n",
       "        vertical-align: middle;\n",
       "    }\n",
       "\n",
       "    .dataframe tbody tr th {\n",
       "        vertical-align: top;\n",
       "    }\n",
       "\n",
       "    .dataframe thead th {\n",
       "        text-align: right;\n",
       "    }\n",
       "</style>\n",
       "<table border=\"1\" class=\"dataframe\">\n",
       "  <thead>\n",
       "    <tr style=\"text-align: right;\">\n",
       "      <th></th>\n",
       "      <th>Sunshine</th>\n",
       "    </tr>\n",
       "  </thead>\n",
       "  <tbody>\n",
       "    <tr>\n",
       "      <th>120638</th>\n",
       "      <td>9.1</td>\n",
       "    </tr>\n",
       "    <tr>\n",
       "      <th>120639</th>\n",
       "      <td>7.0</td>\n",
       "    </tr>\n",
       "    <tr>\n",
       "      <th>120640</th>\n",
       "      <td>7.3</td>\n",
       "    </tr>\n",
       "    <tr>\n",
       "      <th>120641</th>\n",
       "      <td>4.7</td>\n",
       "    </tr>\n",
       "    <tr>\n",
       "      <th>120642</th>\n",
       "      <td>4.9</td>\n",
       "    </tr>\n",
       "    <tr>\n",
       "      <th>120643</th>\n",
       "      <td>9.3</td>\n",
       "    </tr>\n",
       "    <tr>\n",
       "      <th>120644</th>\n",
       "      <td>9.3</td>\n",
       "    </tr>\n",
       "    <tr>\n",
       "      <th>120645</th>\n",
       "      <td>6.9</td>\n",
       "    </tr>\n",
       "    <tr>\n",
       "      <th>120646</th>\n",
       "      <td>2.5</td>\n",
       "    </tr>\n",
       "    <tr>\n",
       "      <th>120647</th>\n",
       "      <td>1.7</td>\n",
       "    </tr>\n",
       "  </tbody>\n",
       "</table>\n",
       "</div>"
      ],
      "text/plain": [
       "        Sunshine\n",
       "120638       9.1\n",
       "120639       7.0\n",
       "120640       7.3\n",
       "120641       4.7\n",
       "120642       4.9\n",
       "120643       9.3\n",
       "120644       9.3\n",
       "120645       6.9\n",
       "120646       2.5\n",
       "120647       1.7"
      ]
     },
     "execution_count": 30,
     "metadata": {},
     "output_type": "execute_result"
    }
   ],
   "source": [
    "sunshine_df = num_df['Sunshine']\n",
    "pd.DataFrame(sunshine_df).head(10)"
   ]
  },
  {
   "cell_type": "markdown",
   "id": "1dd32978",
   "metadata": {
    "papermill": {
     "duration": 0.019976,
     "end_time": "2022-12-25T02:22:05.749622",
     "exception": false,
     "start_time": "2022-12-25T02:22:05.729646",
     "status": "completed"
    },
    "tags": []
   },
   "source": [
    "There are $5$ missing values for *Sunshine* values."
   ]
  },
  {
   "cell_type": "code",
   "execution_count": 31,
   "id": "4d65ce0f",
   "metadata": {
    "_kg_hide-input": true,
    "execution": {
     "iopub.execute_input": "2022-12-25T02:22:05.792804Z",
     "iopub.status.busy": "2022-12-25T02:22:05.792163Z",
     "iopub.status.idle": "2022-12-25T02:22:05.798623Z",
     "shell.execute_reply": "2022-12-25T02:22:05.797426Z"
    },
    "papermill": {
     "duration": 0.031004,
     "end_time": "2022-12-25T02:22:05.800982",
     "exception": false,
     "start_time": "2022-12-25T02:22:05.769978",
     "status": "completed"
    },
    "tags": []
   },
   "outputs": [
    {
     "name": "stdout",
     "output_type": "stream",
     "text": [
      "Missing Sunshine values: 5 (0.16%)\n"
     ]
    }
   ],
   "source": [
    "missing_sunshine_values = sunshine_df.isna().sum()\n",
    "missing_sunshine_values_perc = missing_sunshine_values / len(sunshine_df)\n",
    "\n",
    "print(f\"Missing Sunshine values: {missing_sunshine_values} ({missing_sunshine_values_perc*100:.2f}%)\")"
   ]
  },
  {
   "cell_type": "markdown",
   "id": "4e508038",
   "metadata": {
    "papermill": {
     "duration": 0.020524,
     "end_time": "2022-12-25T02:22:05.842196",
     "exception": false,
     "start_time": "2022-12-25T02:22:05.821672",
     "status": "completed"
    },
    "tags": []
   },
   "source": [
    "The values range from $0.0$ to $13.0$ with a mean of $8.78$ and a standard deviation of $3.47$."
   ]
  },
  {
   "cell_type": "code",
   "execution_count": 32,
   "id": "85665417",
   "metadata": {
    "_kg_hide-input": true,
    "execution": {
     "iopub.execute_input": "2022-12-25T02:22:05.886135Z",
     "iopub.status.busy": "2022-12-25T02:22:05.885531Z",
     "iopub.status.idle": "2022-12-25T02:22:05.904059Z",
     "shell.execute_reply": "2022-12-25T02:22:05.902325Z"
    },
    "papermill": {
     "duration": 0.043721,
     "end_time": "2022-12-25T02:22:05.906885",
     "exception": false,
     "start_time": "2022-12-25T02:22:05.863164",
     "status": "completed"
    },
    "tags": []
   },
   "outputs": [
    {
     "data": {
      "text/html": [
       "<div>\n",
       "<style scoped>\n",
       "    .dataframe tbody tr th:only-of-type {\n",
       "        vertical-align: middle;\n",
       "    }\n",
       "\n",
       "    .dataframe tbody tr th {\n",
       "        vertical-align: top;\n",
       "    }\n",
       "\n",
       "    .dataframe thead th {\n",
       "        text-align: right;\n",
       "    }\n",
       "</style>\n",
       "<table border=\"1\" class=\"dataframe\">\n",
       "  <thead>\n",
       "    <tr style=\"text-align: right;\">\n",
       "      <th></th>\n",
       "      <th>count</th>\n",
       "      <th>mean</th>\n",
       "      <th>std</th>\n",
       "      <th>min</th>\n",
       "      <th>25%</th>\n",
       "      <th>50%</th>\n",
       "      <th>75%</th>\n",
       "      <th>max</th>\n",
       "    </tr>\n",
       "  </thead>\n",
       "  <tbody>\n",
       "    <tr>\n",
       "      <th>Sunshine</th>\n",
       "      <td>3188.0</td>\n",
       "      <td>8.784536</td>\n",
       "      <td>3.46685</td>\n",
       "      <td>0.0</td>\n",
       "      <td>6.6</td>\n",
       "      <td>9.4</td>\n",
       "      <td>11.5</td>\n",
       "      <td>13.9</td>\n",
       "    </tr>\n",
       "  </tbody>\n",
       "</table>\n",
       "</div>"
      ],
      "text/plain": [
       "           count      mean      std  min  25%  50%   75%   max\n",
       "Sunshine  3188.0  8.784536  3.46685  0.0  6.6  9.4  11.5  13.9"
      ]
     },
     "execution_count": 32,
     "metadata": {},
     "output_type": "execute_result"
    }
   ],
   "source": [
    "pd.DataFrame(sunshine_df).describe().transpose()"
   ]
  },
  {
   "cell_type": "markdown",
   "id": "735a8b28",
   "metadata": {
    "papermill": {
     "duration": 0.020853,
     "end_time": "2022-12-25T02:22:05.948994",
     "exception": false,
     "start_time": "2022-12-25T02:22:05.928141",
     "status": "completed"
    },
    "tags": []
   },
   "source": [
    "The data is negatively skewed with `skewness` = $-0.74$. There are no outliers in the dataset."
   ]
  },
  {
   "cell_type": "code",
   "execution_count": 33,
   "id": "d6da290c",
   "metadata": {
    "_kg_hide-input": true,
    "execution": {
     "iopub.execute_input": "2022-12-25T02:22:05.992964Z",
     "iopub.status.busy": "2022-12-25T02:22:05.992382Z",
     "iopub.status.idle": "2022-12-25T02:22:06.230497Z",
     "shell.execute_reply": "2022-12-25T02:22:06.229005Z"
    },
    "papermill": {
     "duration": 0.262748,
     "end_time": "2022-12-25T02:22:06.232902",
     "exception": false,
     "start_time": "2022-12-25T02:22:05.970154",
     "status": "completed"
    },
    "tags": []
   },
   "outputs": [
    {
     "data": {
      "image/png": "[encoded data removed]",
      "text/plain": [
       "<Figure size 1440x432 with 2 Axes>"
      ]
     },
     "metadata": {
      "needs_background": "light"
     },
     "output_type": "display_data"
    }
   ],
   "source": [
    "_, axes = plt.subplots(1, 2, figsize=(20,6))\n",
    "\n",
    "plt.title(\"Sunshine Distribution\")\n",
    "sunshine_df.hist(ax=axes[0])\n",
    "\n",
    "plt.title(\"Sunshine Boxplot\")\n",
    "sns.boxplot(x=sunshine_df)\n",
    "\n",
    "plt.show()"
   ]
  },
  {
   "cell_type": "code",
   "execution_count": 34,
   "id": "28d8e754",
   "metadata": {
    "execution": {
     "iopub.execute_input": "2022-12-25T02:22:06.276755Z",
     "iopub.status.busy": "2022-12-25T02:22:06.276376Z",
     "iopub.status.idle": "2022-12-25T02:22:06.281821Z",
     "shell.execute_reply": "2022-12-25T02:22:06.280916Z"
    },
    "jupyter": {
     "source_hidden": true
    },
    "papermill": {
     "duration": 0.030192,
     "end_time": "2022-12-25T02:22:06.283617",
     "exception": false,
     "start_time": "2022-12-25T02:22:06.253425",
     "status": "completed"
    },
    "tags": []
   },
   "outputs": [
    {
     "name": "stdout",
     "output_type": "stream",
     "text": [
      "Skewness of the dataset: -0.74\n"
     ]
    }
   ],
   "source": [
    "sunshine_skewness = sunshine_df.skew()\n",
    "\n",
    "print(f\"Skewness of the dataset: {sunshine_skewness:.2f}\")"
   ]
  },
  {
   "cell_type": "markdown",
   "id": "c7581634",
   "metadata": {
    "papermill": {
     "duration": 0.020625,
     "end_time": "2022-12-25T02:22:06.325068",
     "exception": false,
     "start_time": "2022-12-25T02:22:06.304443",
     "status": "completed"
    },
    "tags": []
   },
   "source": [
    "### __WindGustSpeed\n",
    "\n",
    "📙 **SUMMARY**\n",
    "* The data is expressed in **km/hr**.\n",
    "* The distribution is positively skewed at `skewness` = $0.65$.\n",
    "* There are $49$ outliers in the dataset."
   ]
  },
  {
   "cell_type": "markdown",
   "id": "c9a4eb49",
   "metadata": {
    "papermill": {
     "duration": 0.020565,
     "end_time": "2022-12-25T02:22:06.366985",
     "exception": false,
     "start_time": "2022-12-25T02:22:06.346420",
     "status": "completed"
    },
    "tags": []
   },
   "source": [
    "The *WindGustSpeed* represents the speed of the strongest wind speed within 24 hours and expressed in **km/hr**."
   ]
  },
  {
   "cell_type": "code",
   "execution_count": 35,
   "id": "c4dad093",
   "metadata": {
    "_kg_hide-input": true,
    "execution": {
     "iopub.execute_input": "2022-12-25T02:22:06.411182Z",
     "iopub.status.busy": "2022-12-25T02:22:06.410799Z",
     "iopub.status.idle": "2022-12-25T02:22:06.421685Z",
     "shell.execute_reply": "2022-12-25T02:22:06.420196Z"
    },
    "papermill": {
     "duration": 0.035444,
     "end_time": "2022-12-25T02:22:06.423495",
     "exception": false,
     "start_time": "2022-12-25T02:22:06.388051",
     "status": "completed"
    },
    "tags": []
   },
   "outputs": [
    {
     "data": {
      "text/html": [
       "<div>\n",
       "<style scoped>\n",
       "    .dataframe tbody tr th:only-of-type {\n",
       "        vertical-align: middle;\n",
       "    }\n",
       "\n",
       "    .dataframe tbody tr th {\n",
       "        vertical-align: top;\n",
       "    }\n",
       "\n",
       "    .dataframe thead th {\n",
       "        text-align: right;\n",
       "    }\n",
       "</style>\n",
       "<table border=\"1\" class=\"dataframe\">\n",
       "  <thead>\n",
       "    <tr style=\"text-align: right;\">\n",
       "      <th></th>\n",
       "      <th>WindGustSpeed</th>\n",
       "    </tr>\n",
       "  </thead>\n",
       "  <tbody>\n",
       "    <tr>\n",
       "      <th>120638</th>\n",
       "      <td>20.0</td>\n",
       "    </tr>\n",
       "    <tr>\n",
       "      <th>120639</th>\n",
       "      <td>22.0</td>\n",
       "    </tr>\n",
       "    <tr>\n",
       "      <th>120640</th>\n",
       "      <td>31.0</td>\n",
       "    </tr>\n",
       "    <tr>\n",
       "      <th>120641</th>\n",
       "      <td>26.0</td>\n",
       "    </tr>\n",
       "    <tr>\n",
       "      <th>120642</th>\n",
       "      <td>44.0</td>\n",
       "    </tr>\n",
       "    <tr>\n",
       "      <th>120643</th>\n",
       "      <td>24.0</td>\n",
       "    </tr>\n",
       "    <tr>\n",
       "      <th>120644</th>\n",
       "      <td>37.0</td>\n",
       "    </tr>\n",
       "    <tr>\n",
       "      <th>120645</th>\n",
       "      <td>24.0</td>\n",
       "    </tr>\n",
       "    <tr>\n",
       "      <th>120646</th>\n",
       "      <td>31.0</td>\n",
       "    </tr>\n",
       "    <tr>\n",
       "      <th>120647</th>\n",
       "      <td>46.0</td>\n",
       "    </tr>\n",
       "  </tbody>\n",
       "</table>\n",
       "</div>"
      ],
      "text/plain": [
       "        WindGustSpeed\n",
       "120638           20.0\n",
       "120639           22.0\n",
       "120640           31.0\n",
       "120641           26.0\n",
       "120642           44.0\n",
       "120643           24.0\n",
       "120644           37.0\n",
       "120645           24.0\n",
       "120646           31.0\n",
       "120647           46.0"
      ]
     },
     "execution_count": 35,
     "metadata": {},
     "output_type": "execute_result"
    }
   ],
   "source": [
    "wind_gust_speed_df = df['WindGustSpeed']\n",
    "pd.DataFrame(wind_gust_speed_df).head(10)"
   ]
  },
  {
   "cell_type": "markdown",
   "id": "ae8cc52a",
   "metadata": {
    "papermill": {
     "duration": 0.02049,
     "end_time": "2022-12-25T02:22:06.464873",
     "exception": false,
     "start_time": "2022-12-25T02:22:06.444383",
     "status": "completed"
    },
    "tags": []
   },
   "source": [
    "There are $5$ ($0.002\\%$) missing values for *WindGustSpeed* dataset."
   ]
  },
  {
   "cell_type": "code",
   "execution_count": 36,
   "id": "36efac50",
   "metadata": {
    "_kg_hide-input": true,
    "execution": {
     "iopub.execute_input": "2022-12-25T02:22:06.508096Z",
     "iopub.status.busy": "2022-12-25T02:22:06.507704Z",
     "iopub.status.idle": "2022-12-25T02:22:06.513417Z",
     "shell.execute_reply": "2022-12-25T02:22:06.512698Z"
    },
    "papermill": {
     "duration": 0.029344,
     "end_time": "2022-12-25T02:22:06.515320",
     "exception": false,
     "start_time": "2022-12-25T02:22:06.485976",
     "status": "completed"
    },
    "tags": []
   },
   "outputs": [
    {
     "name": "stdout",
     "output_type": "stream",
     "text": [
      "Missing wind gust speed values: 5 (0.002%)\n"
     ]
    }
   ],
   "source": [
    "missing_wind_gust_speed = wind_gust_speed_df.isna().sum()\n",
    "missing_wind_gust_speed_perc = missing_wind_gust_speed / len(wind_gust_speed_df)\n",
    "\n",
    "print(f\"Missing wind gust speed values: {missing_wind_gust_speed} ({missing_wind_gust_speed_perc:.3f}%)\")"
   ]
  },
  {
   "cell_type": "markdown",
   "id": "fdeab2ae",
   "metadata": {
    "papermill": {
     "duration": 0.020476,
     "end_time": "2022-12-25T02:22:06.556850",
     "exception": false,
     "start_time": "2022-12-25T02:22:06.536374",
     "status": "completed"
    },
    "tags": []
   },
   "source": [
    "The *WindGustSpeed* values range from $11.0$ - $83.0$ with a mean of $34.88$ and a standard deviation of $9.41$."
   ]
  },
  {
   "cell_type": "code",
   "execution_count": 37,
   "id": "b030ce2a",
   "metadata": {
    "execution": {
     "iopub.execute_input": "2022-12-25T02:22:06.599965Z",
     "iopub.status.busy": "2022-12-25T02:22:06.599635Z",
     "iopub.status.idle": "2022-12-25T02:22:06.615825Z",
     "shell.execute_reply": "2022-12-25T02:22:06.614713Z"
    },
    "papermill": {
     "duration": 0.039889,
     "end_time": "2022-12-25T02:22:06.617682",
     "exception": false,
     "start_time": "2022-12-25T02:22:06.577793",
     "status": "completed"
    },
    "tags": []
   },
   "outputs": [
    {
     "data": {
      "text/html": [
       "<div>\n",
       "<style scoped>\n",
       "    .dataframe tbody tr th:only-of-type {\n",
       "        vertical-align: middle;\n",
       "    }\n",
       "\n",
       "    .dataframe tbody tr th {\n",
       "        vertical-align: top;\n",
       "    }\n",
       "\n",
       "    .dataframe thead th {\n",
       "        text-align: right;\n",
       "    }\n",
       "</style>\n",
       "<table border=\"1\" class=\"dataframe\">\n",
       "  <thead>\n",
       "    <tr style=\"text-align: right;\">\n",
       "      <th></th>\n",
       "      <th>count</th>\n",
       "      <th>mean</th>\n",
       "      <th>std</th>\n",
       "      <th>min</th>\n",
       "      <th>25%</th>\n",
       "      <th>50%</th>\n",
       "      <th>75%</th>\n",
       "      <th>max</th>\n",
       "    </tr>\n",
       "  </thead>\n",
       "  <tbody>\n",
       "    <tr>\n",
       "      <th>WindGustSpeed</th>\n",
       "      <td>3188.0</td>\n",
       "      <td>34.882999</td>\n",
       "      <td>9.411943</td>\n",
       "      <td>11.0</td>\n",
       "      <td>28.0</td>\n",
       "      <td>35.0</td>\n",
       "      <td>41.0</td>\n",
       "      <td>83.0</td>\n",
       "    </tr>\n",
       "  </tbody>\n",
       "</table>\n",
       "</div>"
      ],
      "text/plain": [
       "                count       mean       std   min   25%   50%   75%   max\n",
       "WindGustSpeed  3188.0  34.882999  9.411943  11.0  28.0  35.0  41.0  83.0"
      ]
     },
     "execution_count": 37,
     "metadata": {},
     "output_type": "execute_result"
    }
   ],
   "source": [
    "pd.DataFrame(wind_gust_speed_df).describe().transpose()"
   ]
  },
  {
   "cell_type": "code",
   "execution_count": 38,
   "id": "3ff5b4ea",
   "metadata": {
    "_kg_hide-input": true,
    "execution": {
     "iopub.execute_input": "2022-12-25T02:22:06.662653Z",
     "iopub.status.busy": "2022-12-25T02:22:06.661745Z",
     "iopub.status.idle": "2022-12-25T02:22:06.897810Z",
     "shell.execute_reply": "2022-12-25T02:22:06.896446Z"
    },
    "papermill": {
     "duration": 0.261168,
     "end_time": "2022-12-25T02:22:06.899923",
     "exception": false,
     "start_time": "2022-12-25T02:22:06.638755",
     "status": "completed"
    },
    "tags": []
   },
   "outputs": [
    {
     "data": {
      "image/png": "[encoded data removed]",
      "text/plain": [
       "<Figure size 1440x432 with 2 Axes>"
      ]
     },
     "metadata": {
      "needs_background": "light"
     },
     "output_type": "display_data"
    }
   ],
   "source": [
    "_, axes = plt.subplots(1, 2, figsize=(20, 6))\n",
    "\n",
    "plt.title(\"Wind Gust Speed Distribution\")\n",
    "wind_gust_speed_df.hist(ax=axes[0])\n",
    "\n",
    "plt.title(\"Wind Gust Speed Boxplot\")\n",
    "sns.boxplot(ax=axes[1], x=wind_gust_speed_df)\n",
    "\n",
    "plt.show()"
   ]
  },
  {
   "cell_type": "markdown",
   "id": "a2aa6ae4",
   "metadata": {
    "papermill": {
     "duration": 0.021459,
     "end_time": "2022-12-25T02:22:06.943128",
     "exception": false,
     "start_time": "2022-12-25T02:22:06.921669",
     "status": "completed"
    },
    "tags": []
   },
   "source": [
    "The data distribution is positively skewed with `skewness` = $0.65$."
   ]
  },
  {
   "cell_type": "code",
   "execution_count": 39,
   "id": "48284ea5",
   "metadata": {
    "_kg_hide-input": true,
    "execution": {
     "iopub.execute_input": "2022-12-25T02:22:06.988216Z",
     "iopub.status.busy": "2022-12-25T02:22:06.987872Z",
     "iopub.status.idle": "2022-12-25T02:22:06.993401Z",
     "shell.execute_reply": "2022-12-25T02:22:06.992436Z"
    },
    "papermill": {
     "duration": 0.030633,
     "end_time": "2022-12-25T02:22:06.995698",
     "exception": false,
     "start_time": "2022-12-25T02:22:06.965065",
     "status": "completed"
    },
    "tags": []
   },
   "outputs": [
    {
     "name": "stdout",
     "output_type": "stream",
     "text": [
      "Wind Gust Speed Skewness: 0.65\n"
     ]
    }
   ],
   "source": [
    "wind_gust_speed_skewness = wind_gust_speed_df.skew()\n",
    "\n",
    "print(f\"Wind Gust Speed Skewness: {wind_gust_speed_skewness:.2f}\")"
   ]
  },
  {
   "cell_type": "code",
   "execution_count": 40,
   "id": "862ac167",
   "metadata": {
    "_kg_hide-input": true,
    "execution": {
     "iopub.execute_input": "2022-12-25T02:22:07.041010Z",
     "iopub.status.busy": "2022-12-25T02:22:07.040174Z",
     "iopub.status.idle": "2022-12-25T02:22:07.051318Z",
     "shell.execute_reply": "2022-12-25T02:22:07.050342Z"
    },
    "papermill": {
     "duration": 0.035827,
     "end_time": "2022-12-25T02:22:07.053302",
     "exception": false,
     "start_time": "2022-12-25T02:22:07.017475",
     "status": "completed"
    },
    "tags": []
   },
   "outputs": [
    {
     "name": "stdout",
     "output_type": "stream",
     "text": [
      "Number of outliers: 49\n"
     ]
    },
    {
     "data": {
      "text/plain": [
       "61.0    14\n",
       "63.0     7\n",
       "67.0     6\n",
       "70.0     6\n",
       "65.0     5\n",
       "76.0     3\n",
       "72.0     3\n",
       "69.0     2\n",
       "74.0     1\n",
       "83.0     1\n",
       "78.0     1\n",
       "Name: WindGustSpeed, dtype: int64"
      ]
     },
     "execution_count": 40,
     "metadata": {},
     "output_type": "execute_result"
    }
   ],
   "source": [
    "no_missing_wind_gust_speed_df = wind_gust_speed_df[~wind_gust_speed_df.isna()]\n",
    "\n",
    "perc_75, perc_25 = np.percentile(no_missing_wind_gust_speed_df, [75, 25])\n",
    "iqr = perc_75 - perc_25\n",
    "boundary = perc_75 + 1.5*iqr\n",
    "outliers = no_missing_wind_gust_speed_df[no_missing_wind_gust_speed_df > boundary]\n",
    "\n",
    "print(f\"Number of outliers: {len(outliers)}\")\n",
    "outliers.value_counts()"
   ]
  },
  {
   "cell_type": "markdown",
   "id": "e694a9b1",
   "metadata": {
    "papermill": {
     "duration": 0.021335,
     "end_time": "2022-12-25T02:22:07.096681",
     "exception": false,
     "start_time": "2022-12-25T02:22:07.075346",
     "status": "completed"
    },
    "tags": []
   },
   "source": [
    "### __WindSpeed9AM\n",
    "\n",
    "\n",
    "📙 **SUMMARY**\n",
    "* The data is expressed in **km/hr**.\n",
    "* There is only $1$ missing value for *WindSpeed3pm*.\n",
    "* The distribution of both datasets are normal and are symmetric.\n",
    "* There are $5$ outlier data points on the *WindSpeed9am* dataset."
   ]
  },
  {
   "cell_type": "markdown",
   "id": "41c0a8c0",
   "metadata": {
    "papermill": {
     "duration": 0.021748,
     "end_time": "2022-12-25T02:22:07.140018",
     "exception": false,
     "start_time": "2022-12-25T02:22:07.118270",
     "status": "completed"
    },
    "tags": []
   },
   "source": [
    "The average wind speed data over $10$ minutes prior to `9AM` (*WindSpeed9am*) and over $10$ minutes prior to `3PM` (*WindSpeed3pm*). The values are expressed in **km/hr**."
   ]
  },
  {
   "cell_type": "code",
   "execution_count": 41,
   "id": "0493935e",
   "metadata": {
    "execution": {
     "iopub.execute_input": "2022-12-25T02:22:07.186014Z",
     "iopub.status.busy": "2022-12-25T02:22:07.185224Z",
     "iopub.status.idle": "2022-12-25T02:22:07.197223Z",
     "shell.execute_reply": "2022-12-25T02:22:07.196302Z"
    },
    "papermill": {
     "duration": 0.037155,
     "end_time": "2022-12-25T02:22:07.199128",
     "exception": false,
     "start_time": "2022-12-25T02:22:07.161973",
     "status": "completed"
    },
    "tags": []
   },
   "outputs": [
    {
     "data": {
      "text/html": [
       "<div>\n",
       "<style scoped>\n",
       "    .dataframe tbody tr th:only-of-type {\n",
       "        vertical-align: middle;\n",
       "    }\n",
       "\n",
       "    .dataframe tbody tr th {\n",
       "        vertical-align: top;\n",
       "    }\n",
       "\n",
       "    .dataframe thead th {\n",
       "        text-align: right;\n",
       "    }\n",
       "</style>\n",
       "<table border=\"1\" class=\"dataframe\">\n",
       "  <thead>\n",
       "    <tr style=\"text-align: right;\">\n",
       "      <th></th>\n",
       "      <th>WindSpeed9am</th>\n",
       "      <th>WindSpeed3pm</th>\n",
       "    </tr>\n",
       "  </thead>\n",
       "  <tbody>\n",
       "    <tr>\n",
       "      <th>120638</th>\n",
       "      <td>0.0</td>\n",
       "      <td>7.0</td>\n",
       "    </tr>\n",
       "    <tr>\n",
       "      <th>120639</th>\n",
       "      <td>6.0</td>\n",
       "      <td>9.0</td>\n",
       "    </tr>\n",
       "    <tr>\n",
       "      <th>120640</th>\n",
       "      <td>0.0</td>\n",
       "      <td>4.0</td>\n",
       "    </tr>\n",
       "    <tr>\n",
       "      <th>120641</th>\n",
       "      <td>11.0</td>\n",
       "      <td>6.0</td>\n",
       "    </tr>\n",
       "    <tr>\n",
       "      <th>120642</th>\n",
       "      <td>13.0</td>\n",
       "      <td>17.0</td>\n",
       "    </tr>\n",
       "    <tr>\n",
       "      <th>120643</th>\n",
       "      <td>4.0</td>\n",
       "      <td>7.0</td>\n",
       "    </tr>\n",
       "    <tr>\n",
       "      <th>120644</th>\n",
       "      <td>15.0</td>\n",
       "      <td>13.0</td>\n",
       "    </tr>\n",
       "    <tr>\n",
       "      <th>120645</th>\n",
       "      <td>9.0</td>\n",
       "      <td>13.0</td>\n",
       "    </tr>\n",
       "    <tr>\n",
       "      <th>120646</th>\n",
       "      <td>0.0</td>\n",
       "      <td>9.0</td>\n",
       "    </tr>\n",
       "    <tr>\n",
       "      <th>120647</th>\n",
       "      <td>19.0</td>\n",
       "      <td>11.0</td>\n",
       "    </tr>\n",
       "  </tbody>\n",
       "</table>\n",
       "</div>"
      ],
      "text/plain": [
       "        WindSpeed9am  WindSpeed3pm\n",
       "120638           0.0           7.0\n",
       "120639           6.0           9.0\n",
       "120640           0.0           4.0\n",
       "120641          11.0           6.0\n",
       "120642          13.0          17.0\n",
       "120643           4.0           7.0\n",
       "120644          15.0          13.0\n",
       "120645           9.0          13.0\n",
       "120646           0.0           9.0\n",
       "120647          19.0          11.0"
      ]
     },
     "execution_count": 41,
     "metadata": {},
     "output_type": "execute_result"
    }
   ],
   "source": [
    "wind_speed_df = num_df[['WindSpeed9am', 'WindSpeed3pm']]\n",
    "wind_speed_df.head(10)"
   ]
  },
  {
   "cell_type": "markdown",
   "id": "d867af5d",
   "metadata": {
    "papermill": {
     "duration": 0.021474,
     "end_time": "2022-12-25T02:22:07.242411",
     "exception": false,
     "start_time": "2022-12-25T02:22:07.220937",
     "status": "completed"
    },
    "tags": []
   },
   "source": [
    "There are no missing values for *MissingWindSpeed9am* and only $1$ missing value for *WindSpeed3pm*."
   ]
  },
  {
   "cell_type": "code",
   "execution_count": 42,
   "id": "d324f633",
   "metadata": {
    "_kg_hide-input": true,
    "execution": {
     "iopub.execute_input": "2022-12-25T02:22:07.287588Z",
     "iopub.status.busy": "2022-12-25T02:22:07.287011Z",
     "iopub.status.idle": "2022-12-25T02:22:07.294021Z",
     "shell.execute_reply": "2022-12-25T02:22:07.292917Z"
    },
    "papermill": {
     "duration": 0.031681,
     "end_time": "2022-12-25T02:22:07.295828",
     "exception": false,
     "start_time": "2022-12-25T02:22:07.264147",
     "status": "completed"
    },
    "tags": []
   },
   "outputs": [
    {
     "name": "stdout",
     "output_type": "stream",
     "text": [
      "Missing WindSpeed9am: 0 (0.00%)\n",
      "Missing WindSpeed3pm: 1 (0.03%)\n"
     ]
    }
   ],
   "source": [
    "missing_wind_speed_count = wind_speed_df.isna().sum()\n",
    "missing_wind_speed_perc = missing_wind_speed_count / len(wind_speed_df)\n",
    "\n",
    "print(f\"Missing WindSpeed9am: {missing_wind_speed_count['WindSpeed9am']} ({(missing_wind_speed_perc['WindSpeed9am'] * 100):.2f}%)\")\n",
    "print(f\"Missing WindSpeed3pm: {missing_wind_speed_count['WindSpeed3pm']} ({(missing_wind_speed_perc['WindSpeed3pm'] * 100):.2f}%)\")"
   ]
  },
  {
   "cell_type": "markdown",
   "id": "6baa4f31",
   "metadata": {
    "papermill": {
     "duration": 0.021505,
     "end_time": "2022-12-25T02:22:07.339059",
     "exception": false,
     "start_time": "2022-12-25T02:22:07.317554",
     "status": "completed"
    },
    "tags": []
   },
   "source": [
    "Both datasets follows the normal distribution and are roughly symmetric.The *WindSpeed9am* attribute has $5$ outlier data points whille the *WindSpeed3on* has none."
   ]
  },
  {
   "cell_type": "code",
   "execution_count": 43,
   "id": "2240ed2a",
   "metadata": {
    "_kg_hide-input": true,
    "execution": {
     "iopub.execute_input": "2022-12-25T02:22:07.385162Z",
     "iopub.status.busy": "2022-12-25T02:22:07.384808Z",
     "iopub.status.idle": "2022-12-25T02:22:07.762695Z",
     "shell.execute_reply": "2022-12-25T02:22:07.761969Z"
    },
    "papermill": {
     "duration": 0.40268,
     "end_time": "2022-12-25T02:22:07.764626",
     "exception": false,
     "start_time": "2022-12-25T02:22:07.361946",
     "status": "completed"
    },
    "tags": []
   },
   "outputs": [
    {
     "data": {
      "image/png": "[encoded data removed]",
      "text/plain": [
       "<Figure size 1440x432 with 4 Axes>"
      ]
     },
     "metadata": {
      "needs_background": "light"
     },
     "output_type": "display_data"
    }
   ],
   "source": [
    "_, axes = plt.subplots(2,2,figsize=(20,6))\n",
    "\n",
    "wind_speed_df.hist(ax=axes[0])\n",
    "\n",
    "sns.boxplot(ax=axes[1,0], x=wind_speed_df['WindSpeed9am'])\n",
    "sns.boxplot(ax=axes[1,1], x=wind_speed_df['WindSpeed3pm'])\n",
    "plt.show()"
   ]
  },
  {
   "cell_type": "code",
   "execution_count": 44,
   "id": "75f87b73",
   "metadata": {
    "_kg_hide-input": true,
    "execution": {
     "iopub.execute_input": "2022-12-25T02:22:07.810753Z",
     "iopub.status.busy": "2022-12-25T02:22:07.810383Z",
     "iopub.status.idle": "2022-12-25T02:22:07.818743Z",
     "shell.execute_reply": "2022-12-25T02:22:07.817475Z"
    },
    "papermill": {
     "duration": 0.033683,
     "end_time": "2022-12-25T02:22:07.820633",
     "exception": false,
     "start_time": "2022-12-25T02:22:07.786950",
     "status": "completed"
    },
    "tags": []
   },
   "outputs": [
    {
     "name": "stdout",
     "output_type": "stream",
     "text": [
      "WindSpeed9am skewness: 0.15\n",
      "WindSpeed3pm skewness: 0.17\n"
     ]
    }
   ],
   "source": [
    "wind_speed_df_skewness = wind_speed_df.skew()\n",
    "\n",
    "print(f\"WindSpeed9am skewness: {wind_speed_df_skewness['WindSpeed9am']:.2f}\")\n",
    "print(f\"WindSpeed3pm skewness: {wind_speed_df_skewness['WindSpeed3pm']:.2f}\")"
   ]
  },
  {
   "cell_type": "code",
   "execution_count": 45,
   "id": "b0f24da4",
   "metadata": {
    "_kg_hide-input": true,
    "execution": {
     "iopub.execute_input": "2022-12-25T02:22:07.867056Z",
     "iopub.status.busy": "2022-12-25T02:22:07.866739Z",
     "iopub.status.idle": "2022-12-25T02:22:07.880175Z",
     "shell.execute_reply": "2022-12-25T02:22:07.878707Z"
    },
    "papermill": {
     "duration": 0.040061,
     "end_time": "2022-12-25T02:22:07.882971",
     "exception": false,
     "start_time": "2022-12-25T02:22:07.842910",
     "status": "completed"
    },
    "tags": []
   },
   "outputs": [
    {
     "name": "stdout",
     "output_type": "stream",
     "text": [
      "Number of outliers (WindSpeed9am): 5\n",
      "Outliers:\n"
     ]
    },
    {
     "data": {
      "text/plain": [
       "28.0    4\n",
       "30.0    1\n",
       "Name: WindSpeed9am, dtype: int64"
      ]
     },
     "execution_count": 45,
     "metadata": {},
     "output_type": "execute_result"
    }
   ],
   "source": [
    "no_missing_wind_speed_9am = wind_speed_df[~wind_speed_df['WindSpeed9am'].isna()]['WindSpeed9am']\n",
    "\n",
    "\n",
    "perc_75, perc_25 = np.percentile(no_missing_wind_speed_9am, [75,25])\n",
    "iqr = perc_75 - perc_25\n",
    "boundary = perc_75 + (1.5 * iqr)\n",
    "outliers = no_missing_wind_speed_9am[no_missing_wind_speed_9am > boundary]\n",
    "\n",
    "print(f\"Number of outliers (WindSpeed9am): {len(outliers)}\")\n",
    "print(\"Outliers:\")\n",
    "outliers.value_counts()"
   ]
  }
 ],
 "metadata": {
  "kernelspec": {
   "display_name": "Python 3",
   "language": "python",
   "name": "python3"
  },
  "language_info": {
   "codemirror_mode": {
    "name": "ipython",
    "version": 3
   },
   "file_extension": ".py",
   "mimetype": "text/x-python",
   "name": "python",
   "nbconvert_exporter": "python",
   "pygments_lexer": "ipython3",
   "version": "3.7.12"
  },
  "papermill": {
   "default_parameters": {},
   "duration": 21.051754,
   "end_time": "2022-12-25T02:22:11.353401",
   "environment_variables": {},
   "exception": null,
   "input_path": "__notebook__.ipynb",
   "output_path": "__notebook__.ipynb",
   "parameters": {},
   "start_time": "2022-12-25T02:21:50.301647",
   "version": "2.3.4"
  }
 },
 "nbformat": 4,
 "nbformat_minor": 5
}
