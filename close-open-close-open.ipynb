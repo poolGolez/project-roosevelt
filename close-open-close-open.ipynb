{
 "cells": [
  {
   "cell_type": "markdown",
   "id": "3082c612",
   "metadata": {
    "papermill": {
     "duration": 0.003696,
     "end_time": "2023-02-05T12:09:30.142846",
     "exception": false,
     "start_time": "2023-02-05T12:09:30.139150",
     "status": "completed"
    },
    "tags": []
   },
   "source": [
    "# Overview\n",
    "In this dataset, we are given images of human eyes and we are building a model that would predict whether the human eye image is **OPEN** or **CLOSED**. \n",
    "\n",
    "This is a binary classification problem as we only have $2$ target classes.\n",
    "\n",
    "**Problem Statement**:\n",
    "*Is the human eye on the image open or closed?*"
   ]
  },
  {
   "cell_type": "markdown",
   "id": "a5ae54eb",
   "metadata": {
    "papermill": {
     "duration": 0.002398,
     "end_time": "2023-02-05T12:09:30.148083",
     "exception": false,
     "start_time": "2023-02-05T12:09:30.145685",
     "status": "completed"
    },
    "tags": []
   },
   "source": [
    "# Ingest\n",
    "We are given a directory containing images as the dataset."
   ]
  },
  {
   "cell_type": "code",
   "execution_count": 1,
   "id": "5e78ebbb",
   "metadata": {
    "_cell_guid": "b1076dfc-b9ad-4769-8c92-a6c4dae69d19",
    "_uuid": "8f2839f25d086af736a60e9eeb907d3b93b6e0e5",
    "execution": {
     "iopub.execute_input": "2023-02-05T12:09:30.155313Z",
     "iopub.status.busy": "2023-02-05T12:09:30.154449Z",
     "iopub.status.idle": "2023-02-05T12:09:35.011652Z",
     "shell.execute_reply": "2023-02-05T12:09:35.010518Z"
    },
    "papermill": {
     "duration": 4.863764,
     "end_time": "2023-02-05T12:09:35.014348",
     "exception": false,
     "start_time": "2023-02-05T12:09:30.150584",
     "status": "completed"
    },
    "tags": []
   },
   "outputs": [],
   "source": [
    "import numpy as np\n",
    "import matplotlib.pyplot as plt\n",
    "import os, shutil\n",
    "import tensorflow as tf\n",
    "\n",
    "\n",
    "from tensorflow.keras.preprocessing.image import ImageDataGenerator"
   ]
  },
  {
   "cell_type": "code",
   "execution_count": 2,
   "id": "e61b54f8",
   "metadata": {
    "execution": {
     "iopub.execute_input": "2023-02-05T12:09:35.021427Z",
     "iopub.status.busy": "2023-02-05T12:09:35.020927Z",
     "iopub.status.idle": "2023-02-05T12:10:12.782759Z",
     "shell.execute_reply": "2023-02-05T12:10:12.781551Z"
    },
    "papermill": {
     "duration": 37.767929,
     "end_time": "2023-02-05T12:10:12.785198",
     "exception": false,
     "start_time": "2023-02-05T12:09:35.017269",
     "status": "completed"
    },
    "tags": []
   },
   "outputs": [
    {
     "name": "stdout",
     "output_type": "stream",
     "text": [
      "\u001b[01;34m/kaggle/input/drowsiness-detection\u001b[00m\r\n",
      "├── \u001b[01;34mclosed_eye\u001b[00m\r\n",
      "└── \u001b[01;34mopen_eye\u001b[00m\r\n",
      "\r\n",
      "2 directories\r\n"
     ]
    }
   ],
   "source": [
    "INPUT_DIR = \"/kaggle/input/drowsiness-detection\"\n",
    "OUTPUT_DIR = \"/kaggle/working/\"\n",
    "!tree -d /kaggle/input/drowsiness-detection"
   ]
  },
  {
   "cell_type": "code",
   "execution_count": 3,
   "id": "83225217",
   "metadata": {
    "execution": {
     "iopub.execute_input": "2023-02-05T12:10:12.792408Z",
     "iopub.status.busy": "2023-02-05T12:10:12.792090Z",
     "iopub.status.idle": "2023-02-05T12:10:13.047195Z",
     "shell.execute_reply": "2023-02-05T12:10:13.045458Z"
    },
    "papermill": {
     "duration": 0.266213,
     "end_time": "2023-02-05T12:10:13.054324",
     "exception": false,
     "start_time": "2023-02-05T12:10:12.788111",
     "status": "completed"
    },
    "tags": []
   },
   "outputs": [
    {
     "data": {
      "image/png": "[encoded data removed]",
      "text/plain": [
       "<Figure size 576x432 with 1 Axes>"
      ]
     },
     "metadata": {
      "needs_background": "light"
     },
     "output_type": "display_data"
    }
   ],
   "source": [
    "open_eye_count = len(next(os.walk(os.path.join(INPUT_DIR, \"open_eye\")))[2])\n",
    "closed_eye_count = len(next(os.walk(os.path.join(INPUT_DIR, \"closed_eye\")))[2])\n",
    "\n",
    "open_eye_percent = open_eye_count/(open_eye_count + closed_eye_count) * 100\n",
    "closed_eye_percent = closed_eye_count/(open_eye_count + closed_eye_count) * 100\n",
    "\n",
    "plt.figure(figsize=(8, 6))\n",
    "rect1 = plt.bar([\"Open eye (class = 1)\"], [open_eye_percent], color=\"green\")\n",
    "plt.bar_label(rect1, [f\"{open_eye_count:,d}\"], padding=3)\n",
    "rect2 = plt.bar([\"Closed eye (class=0)\"], [closed_eye_percent], color=\"red\")\n",
    "plt.bar_label(rect2, [f\"{closed_eye_count:,d}\"], padding=3)\n",
    "\n",
    "plt.ylim(0, 100)\n",
    "plt.ylabel(\"Count(%)\", {\"fontsize\": 12})\n",
    "plt.xlabel(\"Class\", {\"fontsize\": 12})\n",
    "plt.show()"
   ]
  },
  {
   "cell_type": "markdown",
   "id": "91ca2053",
   "metadata": {
    "papermill": {
     "duration": 0.004933,
     "end_time": "2023-02-05T12:10:13.064139",
     "exception": false,
     "start_time": "2023-02-05T12:10:13.059206",
     "status": "completed"
    },
    "tags": []
   },
   "source": [
    "🔑 The classes in the dataset are **balanced**. Each class is represented by $24,000$ images."
   ]
  },
  {
   "cell_type": "markdown",
   "id": "ad34d77f",
   "metadata": {
    "papermill": {
     "duration": 0.002742,
     "end_time": "2023-02-05T12:10:13.069828",
     "exception": false,
     "start_time": "2023-02-05T12:10:13.067086",
     "status": "completed"
    },
    "tags": []
   },
   "source": [
    "# Split training,validation, and test data\n",
    "We're going to allocate $20\\%$ of the original dataset as the *test set*.\n",
    "The remaining $80\\%$ will be divided as the *training set* ($70\\%$) and the *validation set* ($30\\%$).\n",
    "\n",
    "**Summary**\n",
    "* Total number of images: $48,000$\n",
    "* Test set $(20\\%)$ - $9,600$ images\n",
    "* Training set $(56\\%)$ - $26,880$ images\n",
    "* Validation set $(24\\%)$ - $11,520$ images"
   ]
  },
  {
   "cell_type": "code",
   "execution_count": 4,
   "id": "0827eef1",
   "metadata": {
    "execution": {
     "iopub.execute_input": "2023-02-05T12:10:13.077078Z",
     "iopub.status.busy": "2023-02-05T12:10:13.076789Z",
     "iopub.status.idle": "2023-02-05T12:20:34.167634Z",
     "shell.execute_reply": "2023-02-05T12:20:34.166607Z"
    },
    "papermill": {
     "duration": 621.099898,
     "end_time": "2023-02-05T12:20:34.172646",
     "exception": false,
     "start_time": "2023-02-05T12:10:13.072748",
     "status": "completed"
    },
    "tags": []
   },
   "outputs": [
    {
     "data": {
      "text/plain": [
       "('/kaggle/working/train/closed_eye',\n",
       " '/kaggle/working/valid/closed_eye',\n",
       " '/kaggle/working/test/closed_eye')"
      ]
     },
     "execution_count": 4,
     "metadata": {},
     "output_type": "execute_result"
    }
   ],
   "source": [
    "def split_dataset(parent_dir, target_dir):\n",
    "    full_dir_path = os.path.join(parent_dir, target_dir)\n",
    "    files = [filename for filename in os.listdir(full_dir_path)]\n",
    "    files.sort()\n",
    "    test_idx_limit, train_idx_limit = int(0.2 * len(files)), int((0.20 + 0.56) * len(files))\n",
    "    np.random.seed(42)\n",
    "    np.random.shuffle(files)\n",
    "    \n",
    "    test_files = files[:test_idx_limit]\n",
    "    train_files = files[test_idx_limit: train_idx_limit]\n",
    "    valid_files = files[train_idx_limit:]\n",
    "    \n",
    "    def move_files(src_dir, target_dir, files):\n",
    "        for file in files:\n",
    "            src_file = os.path.join(src_dir, file)\n",
    "            dest_file = os.path.join(target_dir, file)\n",
    "            shutil.copy(src_file, dest_file)\n",
    "   \n",
    "\n",
    "    TEST_DIR = os.path.join(OUTPUT_DIR, \"test\")\n",
    "    if not os.path.exists(TEST_DIR):\n",
    "        os.mkdir(TEST_DIR)\n",
    "    TEST_TARGET_DIR = os.path.join(TEST_DIR, target_dir)\n",
    "    if not os.path.exists(TEST_TARGET_DIR):\n",
    "        os.mkdir(TEST_TARGET_DIR)\n",
    "    move_files(full_dir_path, TEST_TARGET_DIR, test_files)\n",
    "        \n",
    "    TRAIN_DIR = os.path.join(OUTPUT_DIR, \"train\")\n",
    "    if not os.path.exists(TRAIN_DIR):\n",
    "        os.mkdir(TRAIN_DIR)\n",
    "    TRAIN_TARGET_DIR = os.path.join(TRAIN_DIR, target_dir)\n",
    "    if not os.path.exists(TRAIN_TARGET_DIR):\n",
    "        os.mkdir(TRAIN_TARGET_DIR)\n",
    "    move_files(full_dir_path, TRAIN_TARGET_DIR, train_files)\n",
    "        \n",
    "    VALID_DIR = os.path.join(OUTPUT_DIR, \"valid\")\n",
    "    if not os.path.exists(VALID_DIR):\n",
    "        os.mkdir(VALID_DIR)\n",
    "    VALID_TARGET_DIR = os.path.join(VALID_DIR, target_dir)\n",
    "    if not os.path.exists(VALID_TARGET_DIR):\n",
    "        os.mkdir(VALID_TARGET_DIR)\n",
    "    move_files(full_dir_path, VALID_TARGET_DIR, valid_files)\n",
    "        \n",
    "    return (TRAIN_TARGET_DIR, VALID_TARGET_DIR, TEST_TARGET_DIR)\n",
    "\n",
    "split_dataset(INPUT_DIR, \"open_eye\")\n",
    "split_dataset(INPUT_DIR, \"closed_eye\")"
   ]
  },
  {
   "cell_type": "code",
   "execution_count": 5,
   "id": "744668a2",
   "metadata": {
    "execution": {
     "iopub.execute_input": "2023-02-05T12:20:34.180551Z",
     "iopub.status.busy": "2023-02-05T12:20:34.179858Z",
     "iopub.status.idle": "2023-02-05T12:20:35.325057Z",
     "shell.execute_reply": "2023-02-05T12:20:35.323910Z"
    },
    "papermill": {
     "duration": 1.152428,
     "end_time": "2023-02-05T12:20:35.328109",
     "exception": false,
     "start_time": "2023-02-05T12:20:34.175681",
     "status": "completed"
    },
    "tags": []
   },
   "outputs": [
    {
     "name": "stdout",
     "output_type": "stream",
     "text": [
      "\u001b[01;34m/kaggle/working\u001b[00m\r\n",
      "├── \u001b[01;34mtest\u001b[00m\r\n",
      "│   ├── \u001b[01;34mclosed_eye\u001b[00m\r\n",
      "│   └── \u001b[01;34mopen_eye\u001b[00m\r\n",
      "├── \u001b[01;34mtrain\u001b[00m\r\n",
      "│   ├── \u001b[01;34mclosed_eye\u001b[00m\r\n",
      "│   └── \u001b[01;34mopen_eye\u001b[00m\r\n",
      "└── \u001b[01;34mvalid\u001b[00m\r\n",
      "    ├── \u001b[01;34mclosed_eye\u001b[00m\r\n",
      "    └── \u001b[01;34mopen_eye\u001b[00m\r\n",
      "\r\n",
      "9 directories\r\n"
     ]
    }
   ],
   "source": [
    "# !ls /kaggle/working/test/open_eye | wc -l\n",
    "# !ls /kaggle/working/train/open_eye | wc -l\n",
    "# !ls /kaggle/working/valid/open_eye | wc -l\n",
    "\n",
    "# !ls /kaggle/working/test/closed_eye | wc -l\n",
    "# !ls /kaggle/working/train/closed_eye | wc -l\n",
    "# !ls /kaggle/working/valid/closed_eye | wc -l\n",
    "\n",
    "!tree -d /kaggle/working"
   ]
  },
  {
   "cell_type": "code",
   "execution_count": 6,
   "id": "d179ea37",
   "metadata": {
    "execution": {
     "iopub.execute_input": "2023-02-05T12:20:35.338934Z",
     "iopub.status.busy": "2023-02-05T12:20:35.338557Z",
     "iopub.status.idle": "2023-02-05T12:20:38.732686Z",
     "shell.execute_reply": "2023-02-05T12:20:38.731228Z"
    },
    "papermill": {
     "duration": 3.401998,
     "end_time": "2023-02-05T12:20:38.735247",
     "exception": false,
     "start_time": "2023-02-05T12:20:35.333249",
     "status": "completed"
    },
    "tags": []
   },
   "outputs": [],
   "source": [
    "! rm -Rf /kaggle/working/test\n",
    "! rm -Rf /kaggle/working/target\n",
    "! rm -Rf /kaggle/working/valid"
   ]
  },
  {
   "cell_type": "markdown",
   "id": "f9809178",
   "metadata": {
    "papermill": {
     "duration": 0.003153,
     "end_time": "2023-02-05T12:20:38.742144",
     "exception": false,
     "start_time": "2023-02-05T12:20:38.738991",
     "status": "completed"
    },
    "tags": []
   },
   "source": []
  }
 ],
 "metadata": {
  "kernelspec": {
   "display_name": "Python 3",
   "language": "python",
   "name": "python3"
  },
  "language_info": {
   "codemirror_mode": {
    "name": "ipython",
    "version": 3
   },
   "file_extension": ".py",
   "mimetype": "text/x-python",
   "name": "python",
   "nbconvert_exporter": "python",
   "pygments_lexer": "ipython3",
   "version": "3.7.12"
  },
  "papermill": {
   "default_parameters": {},
   "duration": 679.370743,
   "end_time": "2023-02-05T12:20:42.361073",
   "environment_variables": {},
   "exception": null,
   "input_path": "__notebook__.ipynb",
   "output_path": "__notebook__.ipynb",
   "parameters": {},
   "start_time": "2023-02-05T12:09:22.990330",
   "version": "2.3.4"
  }
 },
 "nbformat": 4,
 "nbformat_minor": 5
}
