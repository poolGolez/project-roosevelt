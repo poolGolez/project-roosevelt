{
 "cells": [
  {
   "cell_type": "markdown",
   "id": "5c68a3e8",
   "metadata": {
    "papermill": {
     "duration": 0.004845,
     "end_time": "2023-02-05T15:15:06.803322",
     "exception": false,
     "start_time": "2023-02-05T15:15:06.798477",
     "status": "completed"
    },
    "tags": []
   },
   "source": [
    "# Overview\n",
    "In this dataset, we are given images of human eyes and we are building a model that would predict whether the human eye image is **OPEN** or **CLOSED**. \n",
    "\n",
    "This is a binary classification problem as we only have $2$ target classes.\n",
    "\n",
    "**Problem Statement**:\n",
    "*Is the human eye on the image open or closed?*"
   ]
  },
  {
   "cell_type": "markdown",
   "id": "060a029c",
   "metadata": {
    "papermill": {
     "duration": 0.003278,
     "end_time": "2023-02-05T15:15:06.810295",
     "exception": false,
     "start_time": "2023-02-05T15:15:06.807017",
     "status": "completed"
    },
    "tags": []
   },
   "source": [
    "# Ingest\n",
    "We are given a directory containing images as the dataset."
   ]
  },
  {
   "cell_type": "code",
   "execution_count": 1,
   "id": "a27f9606",
   "metadata": {
    "_cell_guid": "b1076dfc-b9ad-4769-8c92-a6c4dae69d19",
    "_uuid": "8f2839f25d086af736a60e9eeb907d3b93b6e0e5",
    "execution": {
     "iopub.execute_input": "2023-02-05T15:15:06.819909Z",
     "iopub.status.busy": "2023-02-05T15:15:06.819033Z",
     "iopub.status.idle": "2023-02-05T15:15:11.749640Z",
     "shell.execute_reply": "2023-02-05T15:15:11.748504Z"
    },
    "papermill": {
     "duration": 4.938487,
     "end_time": "2023-02-05T15:15:11.752060",
     "exception": false,
     "start_time": "2023-02-05T15:15:06.813573",
     "status": "completed"
    },
    "tags": []
   },
   "outputs": [],
   "source": [
    "import numpy as np\n",
    "import matplotlib.pyplot as plt\n",
    "import os, shutil\n",
    "import tensorflow as tf\n",
    "\n",
    "\n",
    "from tensorflow.keras.preprocessing.image import ImageDataGenerator"
   ]
  },
  {
   "cell_type": "code",
   "execution_count": 2,
   "id": "31488638",
   "metadata": {
    "execution": {
     "iopub.execute_input": "2023-02-05T15:15:11.761264Z",
     "iopub.status.busy": "2023-02-05T15:15:11.760027Z",
     "iopub.status.idle": "2023-02-05T15:15:28.493300Z",
     "shell.execute_reply": "2023-02-05T15:15:28.492157Z"
    },
    "papermill": {
     "duration": 16.739756,
     "end_time": "2023-02-05T15:15:28.495642",
     "exception": false,
     "start_time": "2023-02-05T15:15:11.755886",
     "status": "completed"
    },
    "tags": []
   },
   "outputs": [
    {
     "name": "stdout",
     "output_type": "stream",
     "text": [
      "\u001b[01;34m/kaggle/input/drowsiness-detection\u001b[00m\r\n",
      "├── \u001b[01;34mclosed_eye\u001b[00m\r\n",
      "└── \u001b[01;34mopen_eye\u001b[00m\r\n",
      "\r\n",
      "2 directories\r\n"
     ]
    }
   ],
   "source": [
    "INPUT_DIR = \"/kaggle/input/drowsiness-detection\"\n",
    "OUTPUT_DIR = \"/kaggle/working/\"\n",
    "!tree -d /kaggle/input/drowsiness-detection"
   ]
  },
  {
   "cell_type": "code",
   "execution_count": 3,
   "id": "0b5db200",
   "metadata": {
    "execution": {
     "iopub.execute_input": "2023-02-05T15:15:28.505376Z",
     "iopub.status.busy": "2023-02-05T15:15:28.504355Z",
     "iopub.status.idle": "2023-02-05T15:15:28.775327Z",
     "shell.execute_reply": "2023-02-05T15:15:28.774155Z"
    },
    "papermill": {
     "duration": 0.280505,
     "end_time": "2023-02-05T15:15:28.780005",
     "exception": false,
     "start_time": "2023-02-05T15:15:28.499500",
     "status": "completed"
    },
    "tags": []
   },
   "outputs": [
    {
     "data": {
      "image/png": "[encoded data removed]",
      "text/plain": [
       "<Figure size 576x432 with 1 Axes>"
      ]
     },
     "metadata": {
      "needs_background": "light"
     },
     "output_type": "display_data"
    }
   ],
   "source": [
    "open_eye_count = len(next(os.walk(os.path.join(INPUT_DIR, \"open_eye\")))[2])\n",
    "closed_eye_count = len(next(os.walk(os.path.join(INPUT_DIR, \"closed_eye\")))[2])\n",
    "\n",
    "open_eye_percent = open_eye_count/(open_eye_count + closed_eye_count) * 100\n",
    "closed_eye_percent = closed_eye_count/(open_eye_count + closed_eye_count) * 100\n",
    "\n",
    "plt.figure(figsize=(8, 6))\n",
    "rect1 = plt.bar([\"Open eye (class = 1)\"], [open_eye_percent], color=\"green\")\n",
    "plt.bar_label(rect1, [f\"{open_eye_count:,d}\"], padding=3)\n",
    "rect2 = plt.bar([\"Closed eye (class=0)\"], [closed_eye_percent], color=\"red\")\n",
    "plt.bar_label(rect2, [f\"{closed_eye_count:,d}\"], padding=3)\n",
    "\n",
    "plt.ylim(0, 100)\n",
    "plt.ylabel(\"Count(%)\", {\"fontsize\": 12})\n",
    "plt.xlabel(\"Class\", {\"fontsize\": 12})\n",
    "plt.show()"
   ]
  },
  {
   "cell_type": "markdown",
   "id": "4e3a898e",
   "metadata": {
    "papermill": {
     "duration": 0.004472,
     "end_time": "2023-02-05T15:15:28.793916",
     "exception": false,
     "start_time": "2023-02-05T15:15:28.789444",
     "status": "completed"
    },
    "tags": []
   },
   "source": [
    "🔑 The classes in the dataset are **balanced**. Each class is represented by $24,000$ images."
   ]
  },
  {
   "cell_type": "markdown",
   "id": "8d79817f",
   "metadata": {
    "papermill": {
     "duration": 0.005516,
     "end_time": "2023-02-05T15:15:28.805259",
     "exception": false,
     "start_time": "2023-02-05T15:15:28.799743",
     "status": "completed"
    },
    "tags": []
   },
   "source": [
    "# Split training,validation, and test data\n",
    "We're going to allocate $20\\%$ of the original dataset as the *test set*.\n",
    "The remaining $80\\%$ will be divided as the *training set* ($70\\%$) and the *validation set* ($30\\%$).\n",
    "\n",
    "**Summary**\n",
    "* Total number of images: $48,000$\n",
    "* Test set $(20\\%)$ - $9,600$ images\n",
    "* Training set $(56\\%)$ - $26,880$ images\n",
    "* Validation set $(24\\%)$ - $11,520$ images"
   ]
  },
  {
   "cell_type": "code",
   "execution_count": 4,
   "id": "67b15d32",
   "metadata": {
    "execution": {
     "iopub.execute_input": "2023-02-05T15:15:28.820994Z",
     "iopub.status.busy": "2023-02-05T15:15:28.820590Z",
     "iopub.status.idle": "2023-02-05T15:18:59.014971Z",
     "shell.execute_reply": "2023-02-05T15:18:59.013811Z"
    },
    "papermill": {
     "duration": 210.203587,
     "end_time": "2023-02-05T15:18:59.017267",
     "exception": false,
     "start_time": "2023-02-05T15:15:28.813680",
     "status": "completed"
    },
    "tags": []
   },
   "outputs": [
    {
     "name": "stdout",
     "output_type": "stream",
     "text": [
      "Moving files to /kaggle/working/test/open_eye\n",
      "Moving files to /kaggle/working/train/open_eye\n",
      "Moving files to /kaggle/working/valid/open_eye\n",
      "Moving files to /kaggle/working/test/closed_eye\n",
      "Moving files to /kaggle/working/train/closed_eye\n",
      "Moving files to /kaggle/working/valid/closed_eye\n"
     ]
    },
    {
     "data": {
      "text/plain": [
       "('/kaggle/working/train/closed_eye',\n",
       " '/kaggle/working/valid/closed_eye',\n",
       " '/kaggle/working/test/closed_eye')"
      ]
     },
     "execution_count": 4,
     "metadata": {},
     "output_type": "execute_result"
    }
   ],
   "source": [
    "def split_dataset(parent_dir, target_dir):\n",
    "    full_dir_path = os.path.join(parent_dir, target_dir)\n",
    "    files = [filename for filename in os.listdir(full_dir_path)]\n",
    "    files.sort()\n",
    "    test_idx_limit, train_idx_limit = int(0.2 * len(files)), int((0.20 + 0.56) * len(files))\n",
    "    np.random.seed(42)\n",
    "    np.random.shuffle(files)\n",
    "    \n",
    "    test_files = files[:test_idx_limit]\n",
    "    train_files = files[test_idx_limit: train_idx_limit]\n",
    "    valid_files = files[train_idx_limit:]\n",
    "    \n",
    "    def move_files(src_dir, target_dir, files):\n",
    "        for file in files:\n",
    "            src_file = os.path.join(src_dir, file)\n",
    "            dest_file = os.path.join(target_dir, file)\n",
    "            shutil.copy(src_file, dest_file)\n",
    "   \n",
    "\n",
    "    TEST_DIR = os.path.join(OUTPUT_DIR, \"test\")\n",
    "    if not os.path.exists(TEST_DIR):\n",
    "        os.mkdir(TEST_DIR)\n",
    "    TEST_TARGET_DIR = os.path.join(TEST_DIR, target_dir)\n",
    "    if not os.path.exists(TEST_TARGET_DIR):\n",
    "        os.mkdir(TEST_TARGET_DIR)\n",
    "        print(f\"Moving files to {TEST_TARGET_DIR}\")\n",
    "        move_files(full_dir_path, TEST_TARGET_DIR, test_files)\n",
    "        \n",
    "    TRAIN_DIR = os.path.join(OUTPUT_DIR, \"train\")\n",
    "    if not os.path.exists(TRAIN_DIR):\n",
    "        os.mkdir(TRAIN_DIR)\n",
    "    TRAIN_TARGET_DIR = os.path.join(TRAIN_DIR, target_dir)\n",
    "    if not os.path.exists(TRAIN_TARGET_DIR):\n",
    "        os.mkdir(TRAIN_TARGET_DIR)\n",
    "        print(f\"Moving files to {TRAIN_TARGET_DIR}\")\n",
    "        move_files(full_dir_path, TRAIN_TARGET_DIR, train_files)\n",
    "        \n",
    "    VALID_DIR = os.path.join(OUTPUT_DIR, \"valid\")\n",
    "    if not os.path.exists(VALID_DIR):\n",
    "        os.mkdir(VALID_DIR)\n",
    "    VALID_TARGET_DIR = os.path.join(VALID_DIR, target_dir)\n",
    "    if not os.path.exists(VALID_TARGET_DIR):\n",
    "        os.mkdir(VALID_TARGET_DIR)\n",
    "        print(f\"Moving files to {VALID_TARGET_DIR}\")\n",
    "        move_files(full_dir_path, VALID_TARGET_DIR, valid_files)\n",
    "        \n",
    "    return (TRAIN_TARGET_DIR, VALID_TARGET_DIR, TEST_TARGET_DIR)\n",
    "\n",
    "split_dataset(INPUT_DIR, \"open_eye\")\n",
    "split_dataset(INPUT_DIR, \"closed_eye\")"
   ]
  },
  {
   "cell_type": "code",
   "execution_count": 5,
   "id": "70daecb2",
   "metadata": {
    "execution": {
     "iopub.execute_input": "2023-02-05T15:18:59.027110Z",
     "iopub.status.busy": "2023-02-05T15:18:59.026806Z",
     "iopub.status.idle": "2023-02-05T15:18:59.030608Z",
     "shell.execute_reply": "2023-02-05T15:18:59.029718Z"
    },
    "papermill": {
     "duration": 0.011038,
     "end_time": "2023-02-05T15:18:59.032598",
     "exception": false,
     "start_time": "2023-02-05T15:18:59.021560",
     "status": "completed"
    },
    "tags": []
   },
   "outputs": [],
   "source": [
    "# !rm -Rf /kaggle/working/test\n",
    "# !rm -Rf /kaggle/working/train\n",
    "# !rm -Rf /kaggle/working/valid"
   ]
  },
  {
   "cell_type": "markdown",
   "id": "26fcbae4",
   "metadata": {
    "papermill": {
     "duration": 0.003701,
     "end_time": "2023-02-05T15:18:59.040679",
     "exception": false,
     "start_time": "2023-02-05T15:18:59.036978",
     "status": "completed"
    },
    "tags": []
   },
   "source": [
    "# Exploratory Data Analysis"
   ]
  },
  {
   "cell_type": "code",
   "execution_count": 6,
   "id": "47479a65",
   "metadata": {
    "execution": {
     "iopub.execute_input": "2023-02-05T15:18:59.050875Z",
     "iopub.status.busy": "2023-02-05T15:18:59.050603Z",
     "iopub.status.idle": "2023-02-05T15:19:00.505359Z",
     "shell.execute_reply": "2023-02-05T15:19:00.503898Z"
    },
    "papermill": {
     "duration": 1.462981,
     "end_time": "2023-02-05T15:19:00.507639",
     "exception": false,
     "start_time": "2023-02-05T15:18:59.044658",
     "status": "completed"
    },
    "tags": []
   },
   "outputs": [
    {
     "name": "stdout",
     "output_type": "stream",
     "text": [
      "Found 26880 images belonging to 2 classes.\n",
      "Found 26880 images belonging to 2 classes.\n"
     ]
    },
    {
     "data": {
      "text/plain": [
       "(-0.5, 223.5, 223.5, -0.5)"
      ]
     },
     "execution_count": 6,
     "metadata": {},
     "output_type": "execute_result"
    },
    {
     "data": {
      "image/png": "[encoded data removed]",
      "text/plain": [
       "<Figure size 432x288 with 1 Axes>"
      ]
     },
     "metadata": {
      "needs_background": "light"
     },
     "output_type": "display_data"
    }
   ],
   "source": [
    "CLASSES = [\"closed_eye\", \"open_eye\"]\n",
    "IMG_TARGET_SIZE = (224, 224)\n",
    "\n",
    "TRAIN_DIR = \"/kaggle/working/train\"\n",
    "train_img_gen = ImageDataGenerator(rescale=1./255)\n",
    "train_data = train_img_gen.flow_from_directory(TRAIN_DIR,\n",
    "                                               target_size=IMG_TARGET_SIZE,\n",
    "                                               batch_size=32,\n",
    "                                               classes=CLASSES,\n",
    "                                               class_mode=\"binary\")\n",
    "\n",
    "VALID_DIR = \"/kaggle/working/train\"\n",
    "valid_img_gen = ImageDataGenerator(rescale=1./255)\n",
    "valid_data = valid_img_gen.flow_from_directory(VALID_DIR,\n",
    "                                               target_size=IMG_TARGET_SIZE,\n",
    "                                               batch_size=32,\n",
    "                                               classes=CLASSES,\n",
    "                                               class_mode=\"binary\")\n",
    "\n",
    "plt.title(CLASSES[int(train_data[0][1][0])])\n",
    "plt.imshow(train_data[0][0][0])\n",
    "plt.axis(\"off\")\n"
   ]
  },
  {
   "cell_type": "markdown",
   "id": "16494927",
   "metadata": {
    "papermill": {
     "duration": 0.011066,
     "end_time": "2023-02-05T15:19:00.530459",
     "exception": false,
     "start_time": "2023-02-05T15:19:00.519393",
     "status": "completed"
    },
    "tags": []
   },
   "source": [
    "# Build the model"
   ]
  },
  {
   "cell_type": "markdown",
   "id": "2fbc5a12",
   "metadata": {
    "papermill": {
     "duration": 0.004398,
     "end_time": "2023-02-05T15:19:00.539860",
     "exception": false,
     "start_time": "2023-02-05T15:19:00.535462",
     "status": "completed"
    },
    "tags": []
   },
   "source": [
    "## Baseline model - simple neural network\n",
    "\n",
    "We start with a baseline model of ANN with $1$ hidden layer consisting of $10$ dense units. The output is then flattened out and passed to the final layer for binary classification."
   ]
  },
  {
   "cell_type": "code",
   "execution_count": 7,
   "id": "553bf151",
   "metadata": {
    "execution": {
     "iopub.execute_input": "2023-02-05T15:19:00.550358Z",
     "iopub.status.busy": "2023-02-05T15:19:00.550063Z",
     "iopub.status.idle": "2023-02-05T15:25:29.518399Z",
     "shell.execute_reply": "2023-02-05T15:25:29.517342Z"
    },
    "papermill": {
     "duration": 389.111647,
     "end_time": "2023-02-05T15:25:29.656128",
     "exception": false,
     "start_time": "2023-02-05T15:19:00.544481",
     "status": "completed"
    },
    "tags": []
   },
   "outputs": [
    {
     "name": "stderr",
     "output_type": "stream",
     "text": [
      "2023-02-05 15:19:00.638367: I tensorflow/stream_executor/cuda/cuda_gpu_executor.cc:937] successful NUMA node read from SysFS had negative value (-1), but there must be at least one NUMA node, so returning NUMA node zero\n",
      "2023-02-05 15:19:00.719526: I tensorflow/stream_executor/cuda/cuda_gpu_executor.cc:937] successful NUMA node read from SysFS had negative value (-1), but there must be at least one NUMA node, so returning NUMA node zero\n",
      "2023-02-05 15:19:00.720323: I tensorflow/stream_executor/cuda/cuda_gpu_executor.cc:937] successful NUMA node read from SysFS had negative value (-1), but there must be at least one NUMA node, so returning NUMA node zero\n",
      "2023-02-05 15:19:00.722605: I tensorflow/core/platform/cpu_feature_guard.cc:142] This TensorFlow binary is optimized with oneAPI Deep Neural Network Library (oneDNN) to use the following CPU instructions in performance-critical operations:  AVX2 AVX512F FMA\n",
      "To enable them in other operations, rebuild TensorFlow with the appropriate compiler flags.\n",
      "2023-02-05 15:19:00.722879: I tensorflow/stream_executor/cuda/cuda_gpu_executor.cc:937] successful NUMA node read from SysFS had negative value (-1), but there must be at least one NUMA node, so returning NUMA node zero\n",
      "2023-02-05 15:19:00.723562: I tensorflow/stream_executor/cuda/cuda_gpu_executor.cc:937] successful NUMA node read from SysFS had negative value (-1), but there must be at least one NUMA node, so returning NUMA node zero\n",
      "2023-02-05 15:19:00.724347: I tensorflow/stream_executor/cuda/cuda_gpu_executor.cc:937] successful NUMA node read from SysFS had negative value (-1), but there must be at least one NUMA node, so returning NUMA node zero\n",
      "2023-02-05 15:19:02.983505: I tensorflow/stream_executor/cuda/cuda_gpu_executor.cc:937] successful NUMA node read from SysFS had negative value (-1), but there must be at least one NUMA node, so returning NUMA node zero\n",
      "2023-02-05 15:19:02.984689: I tensorflow/stream_executor/cuda/cuda_gpu_executor.cc:937] successful NUMA node read from SysFS had negative value (-1), but there must be at least one NUMA node, so returning NUMA node zero\n",
      "2023-02-05 15:19:02.985759: I tensorflow/stream_executor/cuda/cuda_gpu_executor.cc:937] successful NUMA node read from SysFS had negative value (-1), but there must be at least one NUMA node, so returning NUMA node zero\n",
      "2023-02-05 15:19:02.986622: I tensorflow/core/common_runtime/gpu/gpu_device.cc:1510] Created device /job:localhost/replica:0/task:0/device:GPU:0 with 15401 MB memory:  -> device: 0, name: Tesla P100-PCIE-16GB, pci bus id: 0000:00:04.0, compute capability: 6.0\n",
      "2023-02-05 15:19:03.768010: I tensorflow/compiler/mlir/mlir_graph_optimization_pass.cc:185] None of the MLIR Optimization Passes are enabled (registered 2)\n"
     ]
    },
    {
     "name": "stdout",
     "output_type": "stream",
     "text": [
      "Epoch 1/5\n",
      "840/840 [==============================] - 76s 88ms/step - loss: 0.7818 - accuracy: 0.8565 - val_loss: 0.2406 - val_accuracy: 0.9215\n",
      "Epoch 2/5\n",
      "840/840 [==============================] - 77s 92ms/step - loss: 0.2523 - accuracy: 0.9135 - val_loss: 0.2800 - val_accuracy: 0.8997\n",
      "Epoch 3/5\n",
      "840/840 [==============================] - 79s 93ms/step - loss: 0.2171 - accuracy: 0.9242 - val_loss: 0.2269 - val_accuracy: 0.9227\n",
      "Epoch 4/5\n",
      "840/840 [==============================] - 76s 90ms/step - loss: 0.2010 - accuracy: 0.9321 - val_loss: 0.1644 - val_accuracy: 0.9426\n",
      "Epoch 5/5\n",
      "840/840 [==============================] - 72s 86ms/step - loss: 0.1885 - accuracy: 0.9346 - val_loss: 0.1394 - val_accuracy: 0.9526\n"
     ]
    }
   ],
   "source": [
    "baseline_model = tf.keras.Sequential([\n",
    "    tf.keras.layers.Dense(10, activation=\"relu\",\n",
    "                          input_shape=(IMG_TARGET_SIZE[0], IMG_TARGET_SIZE[1], 3)),\n",
    "    tf.keras.layers.Flatten(),\n",
    "    tf.keras.layers.Dense(1, activation=\"sigmoid\")\n",
    "])\n",
    "\n",
    "baseline_model.compile(\n",
    "    loss=tf.keras.losses.BinaryCrossentropy(),\n",
    "    optimizer=tf.keras.optimizers.Adam(),\n",
    "    metrics=[\"accuracy\"]\n",
    ")\n",
    "\n",
    "baseline_history = baseline_model.fit(train_data,\n",
    "                                      epochs=5,\n",
    "                                      steps_per_epoch=len(train_data),\n",
    "                                      validation_data=valid_data,\n",
    "                                      validation_steps=len(valid_data))"
   ]
  },
  {
   "cell_type": "code",
   "execution_count": 8,
   "id": "2d48d133",
   "metadata": {
    "execution": {
     "iopub.execute_input": "2023-02-05T15:25:29.988481Z",
     "iopub.status.busy": "2023-02-05T15:25:29.988070Z",
     "iopub.status.idle": "2023-02-05T15:25:30.176300Z",
     "shell.execute_reply": "2023-02-05T15:25:30.175432Z"
    },
    "papermill": {
     "duration": 0.381589,
     "end_time": "2023-02-05T15:25:30.178487",
     "exception": false,
     "start_time": "2023-02-05T15:25:29.796898",
     "status": "completed"
    },
    "tags": []
   },
   "outputs": [
    {
     "data": {
      "text/plain": [
       "[<matplotlib.lines.Line2D at 0x7f155b113310>]"
      ]
     },
     "execution_count": 8,
     "metadata": {},
     "output_type": "execute_result"
    },
    {
     "data": {
      "image/png": "[encoded data removed]",
      "text/plain": [
       "<Figure size 432x288 with 1 Axes>"
      ]
     },
     "metadata": {
      "needs_background": "light"
     },
     "output_type": "display_data"
    }
   ],
   "source": [
    "plt.plot(baseline_history.history['accuracy'])\n",
    "plt.plot(baseline_history.history['val_accuracy'])"
   ]
  }
 ],
 "metadata": {
  "kernelspec": {
   "display_name": "Python 3",
   "language": "python",
   "name": "python3"
  },
  "language_info": {
   "codemirror_mode": {
    "name": "ipython",
    "version": 3
   },
   "file_extension": ".py",
   "mimetype": "text/x-python",
   "name": "python",
   "nbconvert_exporter": "python",
   "pygments_lexer": "ipython3",
   "version": "3.7.12"
  },
  "papermill": {
   "default_parameters": {},
   "duration": 634.576717,
   "end_time": "2023-02-05T15:25:34.152631",
   "environment_variables": {},
   "exception": null,
   "input_path": "__notebook__.ipynb",
   "output_path": "__notebook__.ipynb",
   "parameters": {},
   "start_time": "2023-02-05T15:14:59.575914",
   "version": "2.3.4"
  }
 },
 "nbformat": 4,
 "nbformat_minor": 5
}
