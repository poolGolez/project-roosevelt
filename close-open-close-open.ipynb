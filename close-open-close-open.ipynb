{
 "cells": [
  {
   "cell_type": "markdown",
   "id": "b29fdfef",
   "metadata": {
    "papermill": {
     "duration": 0.007406,
     "end_time": "2023-02-07T14:50:20.813479",
     "exception": false,
     "start_time": "2023-02-07T14:50:20.806073",
     "status": "completed"
    },
    "tags": []
   },
   "source": [
    "# Overview\n",
    "In this dataset, we are given images of human eyes and we are building a model that would predict whether the human eye image is **OPEN** or **CLOSED**. \n",
    "\n",
    "This is a binary classification problem as we only have $2$ target classes.\n",
    "\n",
    "**Problem Statement**:\n",
    "*Is the human eye on the image open or closed?*"
   ]
  },
  {
   "cell_type": "markdown",
   "id": "ffc7af09",
   "metadata": {
    "papermill": {
     "duration": 0.008609,
     "end_time": "2023-02-07T14:50:20.828870",
     "exception": false,
     "start_time": "2023-02-07T14:50:20.820261",
     "status": "completed"
    },
    "tags": []
   },
   "source": [
    "# Ingest\n",
    "We are given a directory containing images as the dataset."
   ]
  },
  {
   "cell_type": "code",
   "execution_count": 1,
   "id": "78224070",
   "metadata": {
    "_cell_guid": "b1076dfc-b9ad-4769-8c92-a6c4dae69d19",
    "_uuid": "8f2839f25d086af736a60e9eeb907d3b93b6e0e5",
    "execution": {
     "iopub.execute_input": "2023-02-07T14:50:20.844252Z",
     "iopub.status.busy": "2023-02-07T14:50:20.843549Z",
     "iopub.status.idle": "2023-02-07T14:50:27.834527Z",
     "shell.execute_reply": "2023-02-07T14:50:27.832866Z"
    },
    "papermill": {
     "duration": 7.003006,
     "end_time": "2023-02-07T14:50:27.838584",
     "exception": false,
     "start_time": "2023-02-07T14:50:20.835578",
     "status": "completed"
    },
    "tags": []
   },
   "outputs": [],
   "source": [
    "import numpy as np\n",
    "import matplotlib.pyplot as plt\n",
    "import os, shutil\n",
    "import tensorflow as tf\n",
    "\n",
    "\n",
    "from tensorflow.keras.preprocessing.image import ImageDataGenerator"
   ]
  },
  {
   "cell_type": "code",
   "execution_count": 2,
   "id": "1571571c",
   "metadata": {
    "execution": {
     "iopub.execute_input": "2023-02-07T14:50:27.853645Z",
     "iopub.status.busy": "2023-02-07T14:50:27.852921Z",
     "iopub.status.idle": "2023-02-07T14:50:44.114362Z",
     "shell.execute_reply": "2023-02-07T14:50:44.112777Z"
    },
    "papermill": {
     "duration": 16.272777,
     "end_time": "2023-02-07T14:50:44.117714",
     "exception": false,
     "start_time": "2023-02-07T14:50:27.844937",
     "status": "completed"
    },
    "tags": []
   },
   "outputs": [
    {
     "name": "stdout",
     "output_type": "stream",
     "text": [
      "\u001b[01;34m/kaggle/input/drowsiness-detection\u001b[00m\r\n",
      "├── \u001b[01;34mclosed_eye\u001b[00m\r\n",
      "└── \u001b[01;34mopen_eye\u001b[00m\r\n",
      "\r\n",
      "2 directories\r\n"
     ]
    }
   ],
   "source": [
    "INPUT_DIR = \"/kaggle/input/drowsiness-detection\"\n",
    "OUTPUT_DIR = \"/kaggle/working/\"\n",
    "!tree -d /kaggle/input/drowsiness-detection"
   ]
  },
  {
   "cell_type": "code",
   "execution_count": 3,
   "id": "40534181",
   "metadata": {
    "execution": {
     "iopub.execute_input": "2023-02-07T14:50:44.133390Z",
     "iopub.status.busy": "2023-02-07T14:50:44.132071Z",
     "iopub.status.idle": "2023-02-07T14:50:44.480993Z",
     "shell.execute_reply": "2023-02-07T14:50:44.479655Z"
    },
    "papermill": {
     "duration": 0.35981,
     "end_time": "2023-02-07T14:50:44.483780",
     "exception": false,
     "start_time": "2023-02-07T14:50:44.123970",
     "status": "completed"
    },
    "tags": []
   },
   "outputs": [
    {
     "data": {
      "image/png": "[encoded data removed]",
      "text/plain": [
       "<Figure size 576x432 with 1 Axes>"
      ]
     },
     "metadata": {
      "needs_background": "light"
     },
     "output_type": "display_data"
    }
   ],
   "source": [
    "open_eye_count = len(next(os.walk(os.path.join(INPUT_DIR, \"open_eye\")))[2])\n",
    "closed_eye_count = len(next(os.walk(os.path.join(INPUT_DIR, \"closed_eye\")))[2])\n",
    "\n",
    "open_eye_percent = open_eye_count/(open_eye_count + closed_eye_count) * 100\n",
    "closed_eye_percent = closed_eye_count/(open_eye_count + closed_eye_count) * 100\n",
    "\n",
    "plt.figure(figsize=(8, 6))\n",
    "rect1 = plt.bar([\"Open eye (class = 1)\"], [open_eye_percent], color=\"green\")\n",
    "plt.bar_label(rect1, [f\"{open_eye_count:,d}\"], padding=3)\n",
    "rect2 = plt.bar([\"Closed eye (class=0)\"], [closed_eye_percent], color=\"red\")\n",
    "plt.bar_label(rect2, [f\"{closed_eye_count:,d}\"], padding=3)\n",
    "\n",
    "plt.ylim(0, 100)\n",
    "plt.ylabel(\"Count(%)\", {\"fontsize\": 12})\n",
    "plt.xlabel(\"Class\", {\"fontsize\": 12})\n",
    "plt.show()"
   ]
  },
  {
   "cell_type": "markdown",
   "id": "2e36b980",
   "metadata": {
    "papermill": {
     "duration": 0.007153,
     "end_time": "2023-02-07T14:50:44.497615",
     "exception": false,
     "start_time": "2023-02-07T14:50:44.490462",
     "status": "completed"
    },
    "tags": []
   },
   "source": [
    "🔑 The classes in the dataset are **balanced**. Each class is represented by $24,000$ images."
   ]
  },
  {
   "cell_type": "markdown",
   "id": "c4d0ceb8",
   "metadata": {
    "papermill": {
     "duration": 0.006301,
     "end_time": "2023-02-07T14:50:44.511462",
     "exception": false,
     "start_time": "2023-02-07T14:50:44.505161",
     "status": "completed"
    },
    "tags": []
   },
   "source": [
    "# Split training,validation, and test data\n",
    "We're going to allocate $20\\%$ of the original dataset as the *test set*.\n",
    "The remaining $80\\%$ will be divided as the *training set* ($70\\%$) and the *validation set* ($30\\%$).\n",
    "\n",
    "**Summary**\n",
    "* Total number of images: $48,000$\n",
    "* Test set $(20\\%)$ - $9,600$ images\n",
    "* Training set $(56\\%)$ - $26,880$ images\n",
    "* Validation set $(24\\%)$ - $11,520$ images"
   ]
  },
  {
   "cell_type": "code",
   "execution_count": 4,
   "id": "b6fee665",
   "metadata": {
    "execution": {
     "iopub.execute_input": "2023-02-07T14:50:44.530224Z",
     "iopub.status.busy": "2023-02-07T14:50:44.528314Z",
     "iopub.status.idle": "2023-02-07T14:59:32.266230Z",
     "shell.execute_reply": "2023-02-07T14:59:32.264624Z"
    },
    "papermill": {
     "duration": 527.756629,
     "end_time": "2023-02-07T14:59:32.275715",
     "exception": false,
     "start_time": "2023-02-07T14:50:44.519086",
     "status": "completed"
    },
    "tags": []
   },
   "outputs": [
    {
     "name": "stdout",
     "output_type": "stream",
     "text": [
      "Moving files to /kaggle/working/test/open_eye\n",
      "Moving files to /kaggle/working/train/open_eye\n",
      "Moving files to /kaggle/working/valid/open_eye\n",
      "Moving files to /kaggle/working/test/closed_eye\n",
      "Moving files to /kaggle/working/train/closed_eye\n",
      "Moving files to /kaggle/working/valid/closed_eye\n"
     ]
    },
    {
     "data": {
      "text/plain": [
       "('/kaggle/working/train/closed_eye',\n",
       " '/kaggle/working/valid/closed_eye',\n",
       " '/kaggle/working/test/closed_eye')"
      ]
     },
     "execution_count": 4,
     "metadata": {},
     "output_type": "execute_result"
    }
   ],
   "source": [
    "def split_dataset(parent_dir, target_dir):\n",
    "    full_dir_path = os.path.join(parent_dir, target_dir)\n",
    "    files = [filename for filename in os.listdir(full_dir_path)]\n",
    "    files.sort()\n",
    "    test_idx_limit, train_idx_limit = int(0.2 * len(files)), int((0.20 + 0.56) * len(files))\n",
    "    np.random.seed(42)\n",
    "    np.random.shuffle(files)\n",
    "    \n",
    "    test_files = files[:test_idx_limit]\n",
    "    train_files = files[test_idx_limit: train_idx_limit]\n",
    "    valid_files = files[train_idx_limit:]\n",
    "    \n",
    "    def move_files(src_dir, target_dir, files):\n",
    "        for file in files:\n",
    "            src_file = os.path.join(src_dir, file)\n",
    "            dest_file = os.path.join(target_dir, file)\n",
    "            shutil.copy(src_file, dest_file)\n",
    "   \n",
    "\n",
    "    TEST_DIR = os.path.join(OUTPUT_DIR, \"test\")\n",
    "    if not os.path.exists(TEST_DIR):\n",
    "        os.mkdir(TEST_DIR)\n",
    "    TEST_TARGET_DIR = os.path.join(TEST_DIR, target_dir)\n",
    "    if not os.path.exists(TEST_TARGET_DIR):\n",
    "        os.mkdir(TEST_TARGET_DIR)\n",
    "        print(f\"Moving files to {TEST_TARGET_DIR}\")\n",
    "        move_files(full_dir_path, TEST_TARGET_DIR, test_files)\n",
    "        \n",
    "    TRAIN_DIR = os.path.join(OUTPUT_DIR, \"train\")\n",
    "    if not os.path.exists(TRAIN_DIR):\n",
    "        os.mkdir(TRAIN_DIR)\n",
    "    TRAIN_TARGET_DIR = os.path.join(TRAIN_DIR, target_dir)\n",
    "    if not os.path.exists(TRAIN_TARGET_DIR):\n",
    "        os.mkdir(TRAIN_TARGET_DIR)\n",
    "        print(f\"Moving files to {TRAIN_TARGET_DIR}\")\n",
    "        move_files(full_dir_path, TRAIN_TARGET_DIR, train_files)\n",
    "        \n",
    "    VALID_DIR = os.path.join(OUTPUT_DIR, \"valid\")\n",
    "    if not os.path.exists(VALID_DIR):\n",
    "        os.mkdir(VALID_DIR)\n",
    "    VALID_TARGET_DIR = os.path.join(VALID_DIR, target_dir)\n",
    "    if not os.path.exists(VALID_TARGET_DIR):\n",
    "        os.mkdir(VALID_TARGET_DIR)\n",
    "        print(f\"Moving files to {VALID_TARGET_DIR}\")\n",
    "        move_files(full_dir_path, VALID_TARGET_DIR, valid_files)\n",
    "        \n",
    "    return (TRAIN_TARGET_DIR, VALID_TARGET_DIR, TEST_TARGET_DIR)\n",
    "\n",
    "split_dataset(INPUT_DIR, \"open_eye\")\n",
    "split_dataset(INPUT_DIR, \"closed_eye\")"
   ]
  },
  {
   "cell_type": "code",
   "execution_count": 5,
   "id": "0ea65174",
   "metadata": {
    "execution": {
     "iopub.execute_input": "2023-02-07T14:59:32.291949Z",
     "iopub.status.busy": "2023-02-07T14:59:32.291480Z",
     "iopub.status.idle": "2023-02-07T14:59:32.297907Z",
     "shell.execute_reply": "2023-02-07T14:59:32.296467Z"
    },
    "papermill": {
     "duration": 0.018198,
     "end_time": "2023-02-07T14:59:32.301022",
     "exception": false,
     "start_time": "2023-02-07T14:59:32.282824",
     "status": "completed"
    },
    "tags": []
   },
   "outputs": [],
   "source": [
    "# !rm -Rf /kaggle/working/test\n",
    "# !rm -Rf /kaggle/working/train\n",
    "# !rm -Rf /kaggle/working/valid"
   ]
  },
  {
   "cell_type": "markdown",
   "id": "68f08b1c",
   "metadata": {
    "papermill": {
     "duration": 0.007306,
     "end_time": "2023-02-07T14:59:32.315462",
     "exception": false,
     "start_time": "2023-02-07T14:59:32.308156",
     "status": "completed"
    },
    "tags": []
   },
   "source": [
    "# Exploratory Data Analysis"
   ]
  },
  {
   "cell_type": "code",
   "execution_count": 6,
   "id": "060080ae",
   "metadata": {
    "execution": {
     "iopub.execute_input": "2023-02-07T14:59:32.333792Z",
     "iopub.status.busy": "2023-02-07T14:59:32.333326Z",
     "iopub.status.idle": "2023-02-07T14:59:34.065472Z",
     "shell.execute_reply": "2023-02-07T14:59:34.063820Z"
    },
    "papermill": {
     "duration": 1.745425,
     "end_time": "2023-02-07T14:59:34.068514",
     "exception": false,
     "start_time": "2023-02-07T14:59:32.323089",
     "status": "completed"
    },
    "tags": []
   },
   "outputs": [
    {
     "name": "stdout",
     "output_type": "stream",
     "text": [
      "Found 26880 images belonging to 2 classes.\n",
      "Found 11520 images belonging to 2 classes.\n",
      "Found 9600 images belonging to 2 classes.\n"
     ]
    },
    {
     "data": {
      "image/png": "[encoded data removed]",
      "text/plain": [
       "<Figure size 432x288 with 1 Axes>"
      ]
     },
     "metadata": {
      "needs_background": "light"
     },
     "output_type": "display_data"
    }
   ],
   "source": [
    "CLASSES = [\"closed_eye\", \"open_eye\"]\n",
    "IMG_TARGET_SIZE = (224, 224)\n",
    "\n",
    "TRAIN_DIR = \"/kaggle/working/train\"\n",
    "train_img_gen = ImageDataGenerator(rescale=1./255)\n",
    "train_data = train_img_gen.flow_from_directory(TRAIN_DIR,\n",
    "                                               target_size=IMG_TARGET_SIZE,\n",
    "                                               batch_size=32,\n",
    "                                               classes=CLASSES,\n",
    "                                               class_mode=\"binary\")\n",
    "\n",
    "VALID_DIR = \"/kaggle/working/valid\"\n",
    "valid_img_gen = ImageDataGenerator(rescale=1./255)\n",
    "valid_data = valid_img_gen.flow_from_directory(VALID_DIR,\n",
    "                                               target_size=IMG_TARGET_SIZE,\n",
    "                                               batch_size=32,\n",
    "                                               classes=CLASSES,\n",
    "                                               class_mode=\"binary\")\n",
    "\n",
    "TEST_DIR = \"/kaggle/working/test\"\n",
    "test_img_gen = ImageDataGenerator(rescale=1./255)\n",
    "test_data = test_img_gen.flow_from_directory(TEST_DIR,\n",
    "                                               target_size=IMG_TARGET_SIZE,\n",
    "                                               batch_size=32,\n",
    "                                               classes=CLASSES,\n",
    "                                               class_mode=\"binary\")\n",
    "\n",
    "plt.title(CLASSES[int(train_data[0][1][0])])\n",
    "plt.imshow(train_data[0][0][0])\n",
    "plt.axis(\"off\")\n",
    "plt.show()"
   ]
  },
  {
   "cell_type": "markdown",
   "id": "48b00d42",
   "metadata": {
    "papermill": {
     "duration": 0.007748,
     "end_time": "2023-02-07T14:59:34.085105",
     "exception": false,
     "start_time": "2023-02-07T14:59:34.077357",
     "status": "completed"
    },
    "tags": []
   },
   "source": [
    "# Build the model"
   ]
  },
  {
   "cell_type": "markdown",
   "id": "8fae20f3",
   "metadata": {
    "papermill": {
     "duration": 0.007752,
     "end_time": "2023-02-07T14:59:34.101255",
     "exception": false,
     "start_time": "2023-02-07T14:59:34.093503",
     "status": "completed"
    },
    "tags": []
   },
   "source": [
    "## Baseline model - simple neural network\n",
    "\n",
    "We start with a baseline model of ANN with $1$ hidden layer consisting of $10$ dense units. The output is then flattened out and passed to the final layer for binary classification."
   ]
  },
  {
   "cell_type": "code",
   "execution_count": 7,
   "id": "f266dafd",
   "metadata": {
    "execution": {
     "iopub.execute_input": "2023-02-07T14:59:34.119434Z",
     "iopub.status.busy": "2023-02-07T14:59:34.118965Z",
     "iopub.status.idle": "2023-02-07T15:04:20.612124Z",
     "shell.execute_reply": "2023-02-07T15:04:20.611150Z"
    },
    "papermill": {
     "duration": 286.504852,
     "end_time": "2023-02-07T15:04:20.614176",
     "exception": false,
     "start_time": "2023-02-07T14:59:34.109324",
     "status": "completed"
    },
    "tags": []
   },
   "outputs": [
    {
     "name": "stderr",
     "output_type": "stream",
     "text": [
      "2023-02-07 14:59:34.240823: I tensorflow/stream_executor/cuda/cuda_gpu_executor.cc:937] successful NUMA node read from SysFS had negative value (-1), but there must be at least one NUMA node, so returning NUMA node zero\n",
      "2023-02-07 14:59:34.350332: I tensorflow/stream_executor/cuda/cuda_gpu_executor.cc:937] successful NUMA node read from SysFS had negative value (-1), but there must be at least one NUMA node, so returning NUMA node zero\n",
      "2023-02-07 14:59:34.351394: I tensorflow/stream_executor/cuda/cuda_gpu_executor.cc:937] successful NUMA node read from SysFS had negative value (-1), but there must be at least one NUMA node, so returning NUMA node zero\n",
      "2023-02-07 14:59:34.353974: I tensorflow/core/platform/cpu_feature_guard.cc:142] This TensorFlow binary is optimized with oneAPI Deep Neural Network Library (oneDNN) to use the following CPU instructions in performance-critical operations:  AVX2 AVX512F FMA\n",
      "To enable them in other operations, rebuild TensorFlow with the appropriate compiler flags.\n",
      "2023-02-07 14:59:34.354416: I tensorflow/stream_executor/cuda/cuda_gpu_executor.cc:937] successful NUMA node read from SysFS had negative value (-1), but there must be at least one NUMA node, so returning NUMA node zero\n",
      "2023-02-07 14:59:34.355420: I tensorflow/stream_executor/cuda/cuda_gpu_executor.cc:937] successful NUMA node read from SysFS had negative value (-1), but there must be at least one NUMA node, so returning NUMA node zero\n",
      "2023-02-07 14:59:34.356333: I tensorflow/stream_executor/cuda/cuda_gpu_executor.cc:937] successful NUMA node read from SysFS had negative value (-1), but there must be at least one NUMA node, so returning NUMA node zero\n",
      "2023-02-07 14:59:36.841258: I tensorflow/stream_executor/cuda/cuda_gpu_executor.cc:937] successful NUMA node read from SysFS had negative value (-1), but there must be at least one NUMA node, so returning NUMA node zero\n",
      "2023-02-07 14:59:36.842323: I tensorflow/stream_executor/cuda/cuda_gpu_executor.cc:937] successful NUMA node read from SysFS had negative value (-1), but there must be at least one NUMA node, so returning NUMA node zero\n",
      "2023-02-07 14:59:36.843254: I tensorflow/stream_executor/cuda/cuda_gpu_executor.cc:937] successful NUMA node read from SysFS had negative value (-1), but there must be at least one NUMA node, so returning NUMA node zero\n",
      "2023-02-07 14:59:36.844110: I tensorflow/core/common_runtime/gpu/gpu_device.cc:1510] Created device /job:localhost/replica:0/task:0/device:GPU:0 with 15401 MB memory:  -> device: 0, name: Tesla P100-PCIE-16GB, pci bus id: 0000:00:04.0, compute capability: 6.0\n",
      "2023-02-07 14:59:37.806410: I tensorflow/compiler/mlir/mlir_graph_optimization_pass.cc:185] None of the MLIR Optimization Passes are enabled (registered 2)\n"
     ]
    },
    {
     "name": "stdout",
     "output_type": "stream",
     "text": [
      "Epoch 1/5\n",
      "840/840 [==============================] - 58s 67ms/step - loss: 0.4415 - accuracy: 0.8728 - val_loss: 0.2759 - val_accuracy: 0.9103\n",
      "Epoch 2/5\n",
      "840/840 [==============================] - 56s 66ms/step - loss: 0.2634 - accuracy: 0.9101 - val_loss: 0.2261 - val_accuracy: 0.9249\n",
      "Epoch 3/5\n",
      "840/840 [==============================] - 55s 66ms/step - loss: 0.2067 - accuracy: 0.9258 - val_loss: 0.2193 - val_accuracy: 0.9178\n",
      "Epoch 4/5\n",
      "840/840 [==============================] - 56s 67ms/step - loss: 0.2056 - accuracy: 0.9262 - val_loss: 0.1964 - val_accuracy: 0.9326\n",
      "Epoch 5/5\n",
      "840/840 [==============================] - 57s 68ms/step - loss: 0.1918 - accuracy: 0.9311 - val_loss: 0.1841 - val_accuracy: 0.9360\n"
     ]
    }
   ],
   "source": [
    "tf.random.set_seed(42)\n",
    "\n",
    "baseline_model = tf.keras.Sequential([\n",
    "    tf.keras.layers.Dense(10, activation=\"relu\",\n",
    "                          input_shape=(IMG_TARGET_SIZE[0], IMG_TARGET_SIZE[1], 3)),\n",
    "    tf.keras.layers.Flatten(),\n",
    "    tf.keras.layers.Dense(1, activation=\"sigmoid\")\n",
    "])\n",
    "\n",
    "baseline_model.compile(\n",
    "    loss=tf.keras.losses.BinaryCrossentropy(),\n",
    "    optimizer=tf.keras.optimizers.Adam(),\n",
    "    metrics=[\"accuracy\"]\n",
    ")\n",
    "\n",
    "baseline_history = baseline_model.fit(train_data,\n",
    "                                      epochs=5,\n",
    "                                      steps_per_epoch=len(train_data),\n",
    "                                      validation_data=valid_data,\n",
    "                                      validation_steps=len(valid_data))"
   ]
  },
  {
   "cell_type": "code",
   "execution_count": 8,
   "id": "1a532356",
   "metadata": {
    "execution": {
     "iopub.execute_input": "2023-02-07T15:04:20.954928Z",
     "iopub.status.busy": "2023-02-07T15:04:20.953763Z",
     "iopub.status.idle": "2023-02-07T15:09:56.597276Z",
     "shell.execute_reply": "2023-02-07T15:09:56.596120Z"
    },
    "papermill": {
     "duration": 335.849469,
     "end_time": "2023-02-07T15:09:56.600023",
     "exception": false,
     "start_time": "2023-02-07T15:04:20.750554",
     "status": "completed"
    },
    "tags": []
   },
   "outputs": [
    {
     "name": "stdout",
     "output_type": "stream",
     "text": [
      "Epoch 1/5\n",
      "840/840 [==============================] - 57s 67ms/step - loss: 0.4123 - accuracy: 0.8743 - val_loss: 0.2902 - val_accuracy: 0.9088\n",
      "Epoch 2/5\n",
      "840/840 [==============================] - 58s 69ms/step - loss: 0.2722 - accuracy: 0.9081 - val_loss: 0.2158 - val_accuracy: 0.9300\n",
      "Epoch 3/5\n",
      "840/840 [==============================] - 57s 67ms/step - loss: 0.2061 - accuracy: 0.9267 - val_loss: 0.1832 - val_accuracy: 0.9403\n",
      "Epoch 4/5\n",
      "840/840 [==============================] - 57s 67ms/step - loss: 0.2014 - accuracy: 0.9289 - val_loss: 0.2141 - val_accuracy: 0.9217\n",
      "Epoch 5/5\n",
      "840/840 [==============================] - 57s 67ms/step - loss: 0.1921 - accuracy: 0.9301 - val_loss: 0.2194 - val_accuracy: 0.9214\n"
     ]
    }
   ],
   "source": [
    "tf.random.set_seed(42)\n",
    "\n",
    "baseline_model = tf.keras.Sequential([\n",
    "    tf.keras.layers.Dense(10, activation=\"relu\",\n",
    "                          input_shape=(IMG_TARGET_SIZE[0], IMG_TARGET_SIZE[1], 3)),\n",
    "    tf.keras.layers.Flatten(),\n",
    "    tf.keras.layers.Dense(1, activation=\"sigmoid\")\n",
    "])\n",
    "\n",
    "baseline_model.compile(\n",
    "    loss=tf.keras.losses.BinaryCrossentropy(),\n",
    "    optimizer=tf.keras.optimizers.Adam(),\n",
    "    metrics=[\"accuracy\"]\n",
    ")\n",
    "\n",
    "baseline_history = baseline_model.fit(train_data,\n",
    "                                      epochs=5,\n",
    "                                      steps_per_epoch=len(train_data),\n",
    "                                      validation_data=valid_data,\n",
    "                                      validation_steps=len(valid_data))"
   ]
  },
  {
   "cell_type": "code",
   "execution_count": 9,
   "id": "04b2bf99",
   "metadata": {
    "execution": {
     "iopub.execute_input": "2023-02-07T15:09:57.235207Z",
     "iopub.status.busy": "2023-02-07T15:09:57.234585Z",
     "iopub.status.idle": "2023-02-07T15:09:57.648936Z",
     "shell.execute_reply": "2023-02-07T15:09:57.647766Z"
    },
    "papermill": {
     "duration": 0.779112,
     "end_time": "2023-02-07T15:09:57.652145",
     "exception": false,
     "start_time": "2023-02-07T15:09:56.873033",
     "status": "completed"
    },
    "tags": []
   },
   "outputs": [
    {
     "data": {
      "image/png": "[encoded data removed]",
      "text/plain": [
       "<Figure size 720x288 with 2 Axes>"
      ]
     },
     "metadata": {
      "needs_background": "light"
     },
     "output_type": "display_data"
    }
   ],
   "source": [
    "def plot_history(history):\n",
    "    fig, axs = plt.subplots(1, 2, figsize=(10, 4))\n",
    "    \n",
    "    axs[0].plot(history['loss'], label=\"Training\")\n",
    "    axs[0].plot(history['val_loss'], label=\"Validation\")\n",
    "    axs[0].set_title(\"Loss\")\n",
    "    axs[0].legend()\n",
    "    \n",
    "    axs[1].plot(history['accuracy'], label=\"Training\")\n",
    "    axs[1].plot(history['val_accuracy'], label=\"Validation\")\n",
    "    axs[1].set_title(\"Accuracy\")\n",
    "    axs[1].legend()\n",
    "    plt.show()\n",
    "\n",
    "plot_history(baseline_history.history)"
   ]
  },
  {
   "cell_type": "code",
   "execution_count": 10,
   "id": "c778cfee",
   "metadata": {
    "execution": {
     "iopub.execute_input": "2023-02-07T15:09:58.240842Z",
     "iopub.status.busy": "2023-02-07T15:09:58.240459Z",
     "iopub.status.idle": "2023-02-07T15:10:11.188487Z",
     "shell.execute_reply": "2023-02-07T15:10:11.187469Z"
    },
    "papermill": {
     "duration": 13.226742,
     "end_time": "2023-02-07T15:10:11.190841",
     "exception": false,
     "start_time": "2023-02-07T15:09:57.964099",
     "status": "completed"
    },
    "tags": []
   },
   "outputs": [
    {
     "name": "stdout",
     "output_type": "stream",
     "text": [
      "Baseline loss:0.21\n",
      "Baseline accuracy:92.31%\n"
     ]
    }
   ],
   "source": [
    "loss_baseline, accuracy_baseline = baseline_model.evaluate(test_data, verbose=0)\n",
    "\n",
    "print(f\"Baseline loss:{loss_baseline:.2f}\")\n",
    "print(f\"Baseline accuracy:{accuracy_baseline*100:.2f}%\")"
   ]
  },
  {
   "cell_type": "markdown",
   "id": "f017e3d5",
   "metadata": {
    "papermill": {
     "duration": 0.265265,
     "end_time": "2023-02-07T15:10:11.722674",
     "exception": false,
     "start_time": "2023-02-07T15:10:11.457409",
     "status": "completed"
    },
    "tags": []
   },
   "source": [
    "## Convolutional Neural Network (CNN)"
   ]
  },
  {
   "cell_type": "code",
   "execution_count": 11,
   "id": "e65afc8b",
   "metadata": {
    "execution": {
     "iopub.execute_input": "2023-02-07T15:10:12.304622Z",
     "iopub.status.busy": "2023-02-07T15:10:12.303642Z",
     "iopub.status.idle": "2023-02-07T15:15:07.851943Z",
     "shell.execute_reply": "2023-02-07T15:15:07.850611Z"
    },
    "papermill": {
     "duration": 295.866526,
     "end_time": "2023-02-07T15:15:07.854532",
     "exception": false,
     "start_time": "2023-02-07T15:10:11.988006",
     "status": "completed"
    },
    "tags": []
   },
   "outputs": [
    {
     "name": "stdout",
     "output_type": "stream",
     "text": [
      "Epoch 1/5\n"
     ]
    },
    {
     "name": "stderr",
     "output_type": "stream",
     "text": [
      "2023-02-07 15:10:13.743287: I tensorflow/stream_executor/cuda/cuda_dnn.cc:369] Loaded cuDNN version 8005\n"
     ]
    },
    {
     "name": "stdout",
     "output_type": "stream",
     "text": [
      "840/840 [==============================] - 59s 63ms/step - loss: 0.2316 - accuracy: 0.9068 - val_loss: 0.1308 - val_accuracy: 0.9596\n",
      "Epoch 2/5\n",
      "840/840 [==============================] - 51s 61ms/step - loss: 0.1320 - accuracy: 0.9548 - val_loss: 0.1448 - val_accuracy: 0.9499\n",
      "Epoch 3/5\n",
      "840/840 [==============================] - 55s 66ms/step - loss: 0.1165 - accuracy: 0.9598 - val_loss: 0.1581 - val_accuracy: 0.9478\n",
      "Epoch 4/5\n",
      "840/840 [==============================] - 48s 57ms/step - loss: 0.0995 - accuracy: 0.9662 - val_loss: 0.0873 - val_accuracy: 0.9709\n",
      "Epoch 5/5\n",
      "840/840 [==============================] - 46s 55ms/step - loss: 0.0910 - accuracy: 0.9696 - val_loss: 0.1070 - val_accuracy: 0.9635\n"
     ]
    }
   ],
   "source": [
    "tf.random.set_seed(42)\n",
    "\n",
    "cnn_model1 = tf.keras.Sequential([\n",
    "    tf.keras.layers.Conv2D(10, 3, \n",
    "                           input_shape=(IMG_TARGET_SIZE[0], IMG_TARGET_SIZE[1], 3),\n",
    "                          activation=\"relu\"),\n",
    "    tf.keras.layers.Conv2D(10, 3, activation=\"relu\"),\n",
    "    tf.keras.layers.MaxPool2D(2),\n",
    "    \n",
    "    tf.keras.layers.Conv2D(10, 3, activation=\"relu\"),\n",
    "    tf.keras.layers.Conv2D(10, 3, activation=\"relu\"),\n",
    "    tf.keras.layers.MaxPool2D(2),\n",
    "    \n",
    "    tf.keras.layers.Flatten(),\n",
    "    tf.keras.layers.Dense(1, activation=\"sigmoid\")\n",
    "])\n",
    "\n",
    "cnn_model1.compile(\n",
    "    loss=tf.keras.losses.BinaryCrossentropy(),\n",
    "    optimizer=tf.keras.optimizers.Adam(),\n",
    "    metrics=[\"accuracy\"]\n",
    ")\n",
    "\n",
    "cnn1_history = cnn_model1.fit(train_data,\n",
    "                              epochs=5,\n",
    "                              steps_per_epoch=len(train_data),\n",
    "                              validation_data=valid_data,\n",
    "                              validation_steps=len(valid_data))"
   ]
  },
  {
   "cell_type": "code",
   "execution_count": 12,
   "id": "c19bf27e",
   "metadata": {
    "execution": {
     "iopub.execute_input": "2023-02-07T15:15:08.714500Z",
     "iopub.status.busy": "2023-02-07T15:15:08.714133Z",
     "iopub.status.idle": "2023-02-07T15:15:09.005686Z",
     "shell.execute_reply": "2023-02-07T15:15:09.004639Z"
    },
    "papermill": {
     "duration": 0.688834,
     "end_time": "2023-02-07T15:15:09.007932",
     "exception": false,
     "start_time": "2023-02-07T15:15:08.319098",
     "status": "completed"
    },
    "tags": []
   },
   "outputs": [
    {
     "data": {
      "image/png": "[encoded data removed]",
      "text/plain": [
       "<Figure size 720x288 with 2 Axes>"
      ]
     },
     "metadata": {
      "needs_background": "light"
     },
     "output_type": "display_data"
    }
   ],
   "source": [
    "plot_history(cnn1_history.history)"
   ]
  },
  {
   "cell_type": "code",
   "execution_count": 13,
   "id": "de52b6d1",
   "metadata": {
    "execution": {
     "iopub.execute_input": "2023-02-07T15:15:09.848160Z",
     "iopub.status.busy": "2023-02-07T15:15:09.847774Z",
     "iopub.status.idle": "2023-02-07T15:15:22.742101Z",
     "shell.execute_reply": "2023-02-07T15:15:22.741210Z"
    },
    "papermill": {
     "duration": 13.342815,
     "end_time": "2023-02-07T15:15:22.744447",
     "exception": false,
     "start_time": "2023-02-07T15:15:09.401632",
     "status": "completed"
    },
    "tags": []
   },
   "outputs": [
    {
     "name": "stdout",
     "output_type": "stream",
     "text": [
      "300/300 [==============================] - 13s 43ms/step - loss: 0.1031 - accuracy: 0.9663\n"
     ]
    },
    {
     "data": {
      "text/plain": [
       "[0.10311515629291534, 0.9662500023841858]"
      ]
     },
     "execution_count": 13,
     "metadata": {},
     "output_type": "execute_result"
    }
   ],
   "source": [
    "cnn_model1.evaluate(test_data)"
   ]
  }
 ],
 "metadata": {
  "kernelspec": {
   "display_name": "Python 3",
   "language": "python",
   "name": "python3"
  },
  "language_info": {
   "codemirror_mode": {
    "name": "ipython",
    "version": 3
   },
   "file_extension": ".py",
   "mimetype": "text/x-python",
   "name": "python",
   "nbconvert_exporter": "python",
   "pygments_lexer": "ipython3",
   "version": "3.7.12"
  },
  "papermill": {
   "default_parameters": {},
   "duration": 1517.923094,
   "end_time": "2023-02-07T15:15:26.673986",
   "environment_variables": {},
   "exception": null,
   "input_path": "__notebook__.ipynb",
   "output_path": "__notebook__.ipynb",
   "parameters": {},
   "start_time": "2023-02-07T14:50:08.750892",
   "version": "2.3.4"
  }
 },
 "nbformat": 4,
 "nbformat_minor": 5
}
