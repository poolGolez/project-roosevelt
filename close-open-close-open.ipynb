{
 "cells": [
  {
   "cell_type": "markdown",
   "id": "fccad454",
   "metadata": {
    "papermill": {
     "duration": 0.005736,
     "end_time": "2023-02-07T14:56:36.223955",
     "exception": false,
     "start_time": "2023-02-07T14:56:36.218219",
     "status": "completed"
    },
    "tags": []
   },
   "source": [
    "# Overview\n",
    "In this dataset, we are given images of human eyes and we are building a model that would predict whether the human eye image is **OPEN** or **CLOSED**. \n",
    "\n",
    "This is a binary classification problem as we only have $2$ target classes.\n",
    "\n",
    "**Problem Statement**:\n",
    "*Is the human eye on the image open or closed?*"
   ]
  },
  {
   "cell_type": "markdown",
   "id": "743c7a74",
   "metadata": {
    "papermill": {
     "duration": 0.004082,
     "end_time": "2023-02-07T14:56:36.232577",
     "exception": false,
     "start_time": "2023-02-07T14:56:36.228495",
     "status": "completed"
    },
    "tags": []
   },
   "source": [
    "# Ingest\n",
    "We are given a directory containing images as the dataset."
   ]
  },
  {
   "cell_type": "code",
   "execution_count": 1,
   "id": "211c3637",
   "metadata": {
    "_cell_guid": "b1076dfc-b9ad-4769-8c92-a6c4dae69d19",
    "_uuid": "8f2839f25d086af736a60e9eeb907d3b93b6e0e5",
    "execution": {
     "iopub.execute_input": "2023-02-07T14:56:36.243695Z",
     "iopub.status.busy": "2023-02-07T14:56:36.242842Z",
     "iopub.status.idle": "2023-02-07T14:56:41.444376Z",
     "shell.execute_reply": "2023-02-07T14:56:41.443369Z"
    },
    "papermill": {
     "duration": 5.209997,
     "end_time": "2023-02-07T14:56:41.446922",
     "exception": false,
     "start_time": "2023-02-07T14:56:36.236925",
     "status": "completed"
    },
    "tags": []
   },
   "outputs": [],
   "source": [
    "import numpy as np\n",
    "import matplotlib.pyplot as plt\n",
    "import os, shutil\n",
    "import tensorflow as tf\n",
    "\n",
    "\n",
    "from tensorflow.keras.preprocessing.image import ImageDataGenerator"
   ]
  },
  {
   "cell_type": "code",
   "execution_count": 2,
   "id": "4e2d105d",
   "metadata": {
    "execution": {
     "iopub.execute_input": "2023-02-07T14:56:41.458131Z",
     "iopub.status.busy": "2023-02-07T14:56:41.457531Z",
     "iopub.status.idle": "2023-02-07T14:56:55.170032Z",
     "shell.execute_reply": "2023-02-07T14:56:55.168811Z"
    },
    "papermill": {
     "duration": 13.721259,
     "end_time": "2023-02-07T14:56:55.172860",
     "exception": false,
     "start_time": "2023-02-07T14:56:41.451601",
     "status": "completed"
    },
    "tags": []
   },
   "outputs": [
    {
     "name": "stdout",
     "output_type": "stream",
     "text": [
      "\u001b[01;34m/kaggle/input/drowsiness-detection\u001b[00m\r\n",
      "├── \u001b[01;34mclosed_eye\u001b[00m\r\n",
      "└── \u001b[01;34mopen_eye\u001b[00m\r\n",
      "\r\n",
      "2 directories\r\n"
     ]
    }
   ],
   "source": [
    "INPUT_DIR = \"/kaggle/input/drowsiness-detection\"\n",
    "OUTPUT_DIR = \"/kaggle/working/\"\n",
    "!tree -d /kaggle/input/drowsiness-detection"
   ]
  },
  {
   "cell_type": "code",
   "execution_count": 3,
   "id": "ad6a7888",
   "metadata": {
    "execution": {
     "iopub.execute_input": "2023-02-07T14:56:55.184408Z",
     "iopub.status.busy": "2023-02-07T14:56:55.184034Z",
     "iopub.status.idle": "2023-02-07T14:56:55.448363Z",
     "shell.execute_reply": "2023-02-07T14:56:55.447395Z"
    },
    "papermill": {
     "duration": 0.27272,
     "end_time": "2023-02-07T14:56:55.450540",
     "exception": false,
     "start_time": "2023-02-07T14:56:55.177820",
     "status": "completed"
    },
    "tags": []
   },
   "outputs": [
    {
     "data": {
      "image/png": "[encoded data removed]",
      "text/plain": [
       "<Figure size 576x432 with 1 Axes>"
      ]
     },
     "metadata": {
      "needs_background": "light"
     },
     "output_type": "display_data"
    }
   ],
   "source": [
    "open_eye_count = len(next(os.walk(os.path.join(INPUT_DIR, \"open_eye\")))[2])\n",
    "closed_eye_count = len(next(os.walk(os.path.join(INPUT_DIR, \"closed_eye\")))[2])\n",
    "\n",
    "open_eye_percent = open_eye_count/(open_eye_count + closed_eye_count) * 100\n",
    "closed_eye_percent = closed_eye_count/(open_eye_count + closed_eye_count) * 100\n",
    "\n",
    "plt.figure(figsize=(8, 6))\n",
    "rect1 = plt.bar([\"Open eye (class = 1)\"], [open_eye_percent], color=\"green\")\n",
    "plt.bar_label(rect1, [f\"{open_eye_count:,d}\"], padding=3)\n",
    "rect2 = plt.bar([\"Closed eye (class=0)\"], [closed_eye_percent], color=\"red\")\n",
    "plt.bar_label(rect2, [f\"{closed_eye_count:,d}\"], padding=3)\n",
    "\n",
    "plt.ylim(0, 100)\n",
    "plt.ylabel(\"Count(%)\", {\"fontsize\": 12})\n",
    "plt.xlabel(\"Class\", {\"fontsize\": 12})\n",
    "plt.show()"
   ]
  },
  {
   "cell_type": "markdown",
   "id": "ae015f16",
   "metadata": {
    "papermill": {
     "duration": 0.004555,
     "end_time": "2023-02-07T14:56:55.460207",
     "exception": false,
     "start_time": "2023-02-07T14:56:55.455652",
     "status": "completed"
    },
    "tags": []
   },
   "source": [
    "🔑 The classes in the dataset are **balanced**. Each class is represented by $24,000$ images."
   ]
  },
  {
   "cell_type": "markdown",
   "id": "ab278f6a",
   "metadata": {
    "papermill": {
     "duration": 0.004735,
     "end_time": "2023-02-07T14:56:55.469600",
     "exception": false,
     "start_time": "2023-02-07T14:56:55.464865",
     "status": "completed"
    },
    "tags": []
   },
   "source": [
    "# Split training,validation, and test data\n",
    "We're going to allocate $20\\%$ of the original dataset as the *test set*.\n",
    "The remaining $80\\%$ will be divided as the *training set* ($70\\%$) and the *validation set* ($30\\%$).\n",
    "\n",
    "**Summary**\n",
    "* Total number of images: $48,000$\n",
    "* Test set $(20\\%)$ - $9,600$ images\n",
    "* Training set $(56\\%)$ - $26,880$ images\n",
    "* Validation set $(24\\%)$ - $11,520$ images"
   ]
  },
  {
   "cell_type": "code",
   "execution_count": 4,
   "id": "95497940",
   "metadata": {
    "execution": {
     "iopub.execute_input": "2023-02-07T14:56:55.481172Z",
     "iopub.status.busy": "2023-02-07T14:56:55.480208Z",
     "iopub.status.idle": "2023-02-07T15:01:14.394789Z",
     "shell.execute_reply": "2023-02-07T15:01:14.393838Z"
    },
    "papermill": {
     "duration": 258.926064,
     "end_time": "2023-02-07T15:01:14.400296",
     "exception": false,
     "start_time": "2023-02-07T14:56:55.474232",
     "status": "completed"
    },
    "tags": []
   },
   "outputs": [
    {
     "name": "stdout",
     "output_type": "stream",
     "text": [
      "Moving files to /kaggle/working/test/open_eye\n",
      "Moving files to /kaggle/working/train/open_eye\n",
      "Moving files to /kaggle/working/valid/open_eye\n",
      "Moving files to /kaggle/working/test/closed_eye\n",
      "Moving files to /kaggle/working/train/closed_eye\n",
      "Moving files to /kaggle/working/valid/closed_eye\n"
     ]
    },
    {
     "data": {
      "text/plain": [
       "('/kaggle/working/train/closed_eye',\n",
       " '/kaggle/working/valid/closed_eye',\n",
       " '/kaggle/working/test/closed_eye')"
      ]
     },
     "execution_count": 4,
     "metadata": {},
     "output_type": "execute_result"
    }
   ],
   "source": [
    "def split_dataset(parent_dir, target_dir):\n",
    "    full_dir_path = os.path.join(parent_dir, target_dir)\n",
    "    files = [filename for filename in os.listdir(full_dir_path)]\n",
    "    files.sort()\n",
    "    test_idx_limit, train_idx_limit = int(0.2 * len(files)), int((0.20 + 0.56) * len(files))\n",
    "    np.random.seed(42)\n",
    "    np.random.shuffle(files)\n",
    "    \n",
    "    test_files = files[:test_idx_limit]\n",
    "    train_files = files[test_idx_limit: train_idx_limit]\n",
    "    valid_files = files[train_idx_limit:]\n",
    "    \n",
    "    def move_files(src_dir, target_dir, files):\n",
    "        for file in files:\n",
    "            src_file = os.path.join(src_dir, file)\n",
    "            dest_file = os.path.join(target_dir, file)\n",
    "            shutil.copy(src_file, dest_file)\n",
    "   \n",
    "\n",
    "    TEST_DIR = os.path.join(OUTPUT_DIR, \"test\")\n",
    "    if not os.path.exists(TEST_DIR):\n",
    "        os.mkdir(TEST_DIR)\n",
    "    TEST_TARGET_DIR = os.path.join(TEST_DIR, target_dir)\n",
    "    if not os.path.exists(TEST_TARGET_DIR):\n",
    "        os.mkdir(TEST_TARGET_DIR)\n",
    "        print(f\"Moving files to {TEST_TARGET_DIR}\")\n",
    "        move_files(full_dir_path, TEST_TARGET_DIR, test_files)\n",
    "        \n",
    "    TRAIN_DIR = os.path.join(OUTPUT_DIR, \"train\")\n",
    "    if not os.path.exists(TRAIN_DIR):\n",
    "        os.mkdir(TRAIN_DIR)\n",
    "    TRAIN_TARGET_DIR = os.path.join(TRAIN_DIR, target_dir)\n",
    "    if not os.path.exists(TRAIN_TARGET_DIR):\n",
    "        os.mkdir(TRAIN_TARGET_DIR)\n",
    "        print(f\"Moving files to {TRAIN_TARGET_DIR}\")\n",
    "        move_files(full_dir_path, TRAIN_TARGET_DIR, train_files)\n",
    "        \n",
    "    VALID_DIR = os.path.join(OUTPUT_DIR, \"valid\")\n",
    "    if not os.path.exists(VALID_DIR):\n",
    "        os.mkdir(VALID_DIR)\n",
    "    VALID_TARGET_DIR = os.path.join(VALID_DIR, target_dir)\n",
    "    if not os.path.exists(VALID_TARGET_DIR):\n",
    "        os.mkdir(VALID_TARGET_DIR)\n",
    "        print(f\"Moving files to {VALID_TARGET_DIR}\")\n",
    "        move_files(full_dir_path, VALID_TARGET_DIR, valid_files)\n",
    "        \n",
    "    return (TRAIN_TARGET_DIR, VALID_TARGET_DIR, TEST_TARGET_DIR)\n",
    "\n",
    "split_dataset(INPUT_DIR, \"open_eye\")\n",
    "split_dataset(INPUT_DIR, \"closed_eye\")"
   ]
  },
  {
   "cell_type": "code",
   "execution_count": 5,
   "id": "2d6ec6e0",
   "metadata": {
    "execution": {
     "iopub.execute_input": "2023-02-07T15:01:14.411780Z",
     "iopub.status.busy": "2023-02-07T15:01:14.411473Z",
     "iopub.status.idle": "2023-02-07T15:01:14.415510Z",
     "shell.execute_reply": "2023-02-07T15:01:14.414474Z"
    },
    "papermill": {
     "duration": 0.012413,
     "end_time": "2023-02-07T15:01:14.417817",
     "exception": false,
     "start_time": "2023-02-07T15:01:14.405404",
     "status": "completed"
    },
    "tags": []
   },
   "outputs": [],
   "source": [
    "# !rm -Rf /kaggle/working/test\n",
    "# !rm -Rf /kaggle/working/train\n",
    "# !rm -Rf /kaggle/working/valid"
   ]
  },
  {
   "cell_type": "markdown",
   "id": "d27fa853",
   "metadata": {
    "papermill": {
     "duration": 0.005161,
     "end_time": "2023-02-07T15:01:14.428313",
     "exception": false,
     "start_time": "2023-02-07T15:01:14.423152",
     "status": "completed"
    },
    "tags": []
   },
   "source": [
    "# Exploratory Data Analysis"
   ]
  },
  {
   "cell_type": "code",
   "execution_count": 6,
   "id": "f38430c6",
   "metadata": {
    "execution": {
     "iopub.execute_input": "2023-02-07T15:01:14.439897Z",
     "iopub.status.busy": "2023-02-07T15:01:14.439534Z",
     "iopub.status.idle": "2023-02-07T15:01:15.739992Z",
     "shell.execute_reply": "2023-02-07T15:01:15.738594Z"
    },
    "papermill": {
     "duration": 1.310588,
     "end_time": "2023-02-07T15:01:15.743995",
     "exception": false,
     "start_time": "2023-02-07T15:01:14.433407",
     "status": "completed"
    },
    "tags": []
   },
   "outputs": [
    {
     "name": "stdout",
     "output_type": "stream",
     "text": [
      "Found 26880 images belonging to 2 classes.\n",
      "Found 11520 images belonging to 2 classes.\n",
      "Found 9600 images belonging to 2 classes.\n"
     ]
    },
    {
     "data": {
      "image/png": "[encoded data removed]",
      "text/plain": [
       "<Figure size 432x288 with 1 Axes>"
      ]
     },
     "metadata": {
      "needs_background": "light"
     },
     "output_type": "display_data"
    }
   ],
   "source": [
    "CLASSES = [\"closed_eye\", \"open_eye\"]\n",
    "IMG_TARGET_SIZE = (224, 224)\n",
    "\n",
    "TRAIN_DIR = \"/kaggle/working/train\"\n",
    "train_img_gen = ImageDataGenerator(rescale=1./255)\n",
    "train_data = train_img_gen.flow_from_directory(TRAIN_DIR,\n",
    "                                               target_size=IMG_TARGET_SIZE,\n",
    "                                               batch_size=32,\n",
    "                                               classes=CLASSES,\n",
    "                                               class_mode=\"binary\")\n",
    "\n",
    "VALID_DIR = \"/kaggle/working/valid\"\n",
    "valid_img_gen = ImageDataGenerator(rescale=1./255)\n",
    "valid_data = valid_img_gen.flow_from_directory(VALID_DIR,\n",
    "                                               target_size=IMG_TARGET_SIZE,\n",
    "                                               batch_size=32,\n",
    "                                               classes=CLASSES,\n",
    "                                               class_mode=\"binary\")\n",
    "\n",
    "TEST_DIR = \"/kaggle/working/test\"\n",
    "test_img_gen = ImageDataGenerator(rescale=1./255)\n",
    "test_data = test_img_gen.flow_from_directory(TEST_DIR,\n",
    "                                               target_size=IMG_TARGET_SIZE,\n",
    "                                               batch_size=32,\n",
    "                                               classes=CLASSES,\n",
    "                                               class_mode=\"binary\")\n",
    "\n",
    "plt.title(CLASSES[int(train_data[0][1][0])])\n",
    "plt.imshow(train_data[0][0][0])\n",
    "plt.axis(\"off\")\n",
    "plt.show()"
   ]
  },
  {
   "cell_type": "markdown",
   "id": "4c6196db",
   "metadata": {
    "papermill": {
     "duration": 0.006139,
     "end_time": "2023-02-07T15:01:15.764173",
     "exception": false,
     "start_time": "2023-02-07T15:01:15.758034",
     "status": "completed"
    },
    "tags": []
   },
   "source": [
    "# Build the model"
   ]
  },
  {
   "cell_type": "markdown",
   "id": "53cdf835",
   "metadata": {
    "papermill": {
     "duration": 0.005279,
     "end_time": "2023-02-07T15:01:15.775044",
     "exception": false,
     "start_time": "2023-02-07T15:01:15.769765",
     "status": "completed"
    },
    "tags": []
   },
   "source": [
    "## Baseline model - simple neural network\n",
    "\n",
    "We start with a baseline model of ANN with $1$ hidden layer consisting of $10$ dense units. The output is then flattened out and passed to the final layer for binary classification."
   ]
  },
  {
   "cell_type": "code",
   "execution_count": 7,
   "id": "4b4ce6ce",
   "metadata": {
    "execution": {
     "iopub.execute_input": "2023-02-07T15:01:15.787560Z",
     "iopub.status.busy": "2023-02-07T15:01:15.787244Z",
     "iopub.status.idle": "2023-02-07T15:06:27.383541Z",
     "shell.execute_reply": "2023-02-07T15:06:27.382502Z"
    },
    "papermill": {
     "duration": 311.605367,
     "end_time": "2023-02-07T15:06:27.385977",
     "exception": false,
     "start_time": "2023-02-07T15:01:15.780610",
     "status": "completed"
    },
    "tags": []
   },
   "outputs": [
    {
     "name": "stderr",
     "output_type": "stream",
     "text": [
      "2023-02-07 15:01:15.889223: I tensorflow/stream_executor/cuda/cuda_gpu_executor.cc:937] successful NUMA node read from SysFS had negative value (-1), but there must be at least one NUMA node, so returning NUMA node zero\n",
      "2023-02-07 15:01:15.995054: I tensorflow/stream_executor/cuda/cuda_gpu_executor.cc:937] successful NUMA node read from SysFS had negative value (-1), but there must be at least one NUMA node, so returning NUMA node zero\n",
      "2023-02-07 15:01:15.995979: I tensorflow/stream_executor/cuda/cuda_gpu_executor.cc:937] successful NUMA node read from SysFS had negative value (-1), but there must be at least one NUMA node, so returning NUMA node zero\n",
      "2023-02-07 15:01:15.997299: I tensorflow/core/platform/cpu_feature_guard.cc:142] This TensorFlow binary is optimized with oneAPI Deep Neural Network Library (oneDNN) to use the following CPU instructions in performance-critical operations:  AVX2 AVX512F FMA\n",
      "To enable them in other operations, rebuild TensorFlow with the appropriate compiler flags.\n",
      "2023-02-07 15:01:15.997574: I tensorflow/stream_executor/cuda/cuda_gpu_executor.cc:937] successful NUMA node read from SysFS had negative value (-1), but there must be at least one NUMA node, so returning NUMA node zero\n",
      "2023-02-07 15:01:15.998310: I tensorflow/stream_executor/cuda/cuda_gpu_executor.cc:937] successful NUMA node read from SysFS had negative value (-1), but there must be at least one NUMA node, so returning NUMA node zero\n",
      "2023-02-07 15:01:15.998956: I tensorflow/stream_executor/cuda/cuda_gpu_executor.cc:937] successful NUMA node read from SysFS had negative value (-1), but there must be at least one NUMA node, so returning NUMA node zero\n",
      "2023-02-07 15:01:18.203423: I tensorflow/stream_executor/cuda/cuda_gpu_executor.cc:937] successful NUMA node read from SysFS had negative value (-1), but there must be at least one NUMA node, so returning NUMA node zero\n",
      "2023-02-07 15:01:18.204327: I tensorflow/stream_executor/cuda/cuda_gpu_executor.cc:937] successful NUMA node read from SysFS had negative value (-1), but there must be at least one NUMA node, so returning NUMA node zero\n",
      "2023-02-07 15:01:18.205041: I tensorflow/stream_executor/cuda/cuda_gpu_executor.cc:937] successful NUMA node read from SysFS had negative value (-1), but there must be at least one NUMA node, so returning NUMA node zero\n",
      "2023-02-07 15:01:18.205638: I tensorflow/core/common_runtime/gpu/gpu_device.cc:1510] Created device /job:localhost/replica:0/task:0/device:GPU:0 with 15401 MB memory:  -> device: 0, name: Tesla P100-PCIE-16GB, pci bus id: 0000:00:04.0, compute capability: 6.0\n",
      "2023-02-07 15:01:18.966253: I tensorflow/compiler/mlir/mlir_graph_optimization_pass.cc:185] None of the MLIR Optimization Passes are enabled (registered 2)\n"
     ]
    },
    {
     "name": "stdout",
     "output_type": "stream",
     "text": [
      "Epoch 1/5\n",
      "840/840 [==============================] - 60s 69ms/step - loss: 0.4089 - accuracy: 0.8770 - val_loss: 0.2730 - val_accuracy: 0.9115\n",
      "Epoch 2/5\n",
      "840/840 [==============================] - 57s 68ms/step - loss: 0.2709 - accuracy: 0.9083 - val_loss: 0.2356 - val_accuracy: 0.9226\n",
      "Epoch 3/5\n",
      "840/840 [==============================] - 54s 65ms/step - loss: 0.2230 - accuracy: 0.9213 - val_loss: 0.2427 - val_accuracy: 0.9089\n",
      "Epoch 4/5\n",
      "840/840 [==============================] - 55s 66ms/step - loss: 0.2066 - accuracy: 0.9255 - val_loss: 0.2378 - val_accuracy: 0.9215\n",
      "Epoch 5/5\n",
      "840/840 [==============================] - 62s 74ms/step - loss: 0.1854 - accuracy: 0.9320 - val_loss: 0.1814 - val_accuracy: 0.9353\n"
     ]
    }
   ],
   "source": [
    "tf.random.set_seed(42)\n",
    "\n",
    "baseline_model = tf.keras.Sequential([\n",
    "    tf.keras.layers.Dense(10, activation=\"relu\",\n",
    "                          input_shape=(IMG_TARGET_SIZE[0], IMG_TARGET_SIZE[1], 3)),\n",
    "    tf.keras.layers.Flatten(),\n",
    "    tf.keras.layers.Dense(1, activation=\"sigmoid\")\n",
    "])\n",
    "\n",
    "baseline_model.compile(\n",
    "    loss=tf.keras.losses.BinaryCrossentropy(),\n",
    "    optimizer=tf.keras.optimizers.Adam(),\n",
    "    metrics=[\"accuracy\"]\n",
    ")\n",
    "\n",
    "baseline_history = baseline_model.fit(train_data,\n",
    "                                      epochs=5,\n",
    "                                      steps_per_epoch=len(train_data),\n",
    "                                      validation_data=valid_data,\n",
    "                                      validation_steps=len(valid_data))"
   ]
  },
  {
   "cell_type": "code",
   "execution_count": 8,
   "id": "23af2ae0",
   "metadata": {
    "execution": {
     "iopub.execute_input": "2023-02-07T15:06:27.658755Z",
     "iopub.status.busy": "2023-02-07T15:06:27.658388Z",
     "iopub.status.idle": "2023-02-07T15:11:13.539596Z",
     "shell.execute_reply": "2023-02-07T15:11:13.538408Z"
    },
    "papermill": {
     "duration": 286.29037,
     "end_time": "2023-02-07T15:11:13.811733",
     "exception": false,
     "start_time": "2023-02-07T15:06:27.521363",
     "status": "completed"
    },
    "tags": []
   },
   "outputs": [
    {
     "name": "stdout",
     "output_type": "stream",
     "text": [
      "Epoch 1/5\n",
      "840/840 [==============================] - 58s 69ms/step - loss: 0.4242 - accuracy: 0.8712 - val_loss: 0.3203 - val_accuracy: 0.8965\n",
      "Epoch 2/5\n",
      "840/840 [==============================] - 56s 66ms/step - loss: 0.2643 - accuracy: 0.9093 - val_loss: 0.2202 - val_accuracy: 0.9273\n",
      "Epoch 3/5\n",
      "840/840 [==============================] - 56s 66ms/step - loss: 0.2092 - accuracy: 0.9249 - val_loss: 0.2088 - val_accuracy: 0.9284\n",
      "Epoch 4/5\n",
      "840/840 [==============================] - 60s 71ms/step - loss: 0.1895 - accuracy: 0.9308 - val_loss: 0.3087 - val_accuracy: 0.8881\n",
      "Epoch 5/5\n",
      "840/840 [==============================] - 57s 68ms/step - loss: 0.1972 - accuracy: 0.9309 - val_loss: 0.1714 - val_accuracy: 0.9406\n"
     ]
    }
   ],
   "source": [
    "tf.random.set_seed(42)\n",
    "\n",
    "baseline_model = tf.keras.Sequential([\n",
    "    tf.keras.layers.Dense(10, activation=\"relu\",\n",
    "                          input_shape=(IMG_TARGET_SIZE[0], IMG_TARGET_SIZE[1], 3)),\n",
    "    tf.keras.layers.Flatten(),\n",
    "    tf.keras.layers.Dense(1, activation=\"sigmoid\")\n",
    "])\n",
    "\n",
    "baseline_model.compile(\n",
    "    loss=tf.keras.losses.BinaryCrossentropy(),\n",
    "    optimizer=tf.keras.optimizers.Adam(),\n",
    "    metrics=[\"accuracy\"]\n",
    ")\n",
    "\n",
    "baseline_history = baseline_model.fit(train_data,\n",
    "                                      epochs=5,\n",
    "                                      steps_per_epoch=len(train_data),\n",
    "                                      validation_data=valid_data,\n",
    "                                      validation_steps=len(valid_data))"
   ]
  },
  {
   "cell_type": "code",
   "execution_count": 9,
   "id": "49788f21",
   "metadata": {
    "execution": {
     "iopub.execute_input": "2023-02-07T15:11:14.380756Z",
     "iopub.status.busy": "2023-02-07T15:11:14.379767Z",
     "iopub.status.idle": "2023-02-07T15:11:14.777889Z",
     "shell.execute_reply": "2023-02-07T15:11:14.776962Z"
    },
    "papermill": {
     "duration": 0.672292,
     "end_time": "2023-02-07T15:11:14.780632",
     "exception": false,
     "start_time": "2023-02-07T15:11:14.108340",
     "status": "completed"
    },
    "tags": []
   },
   "outputs": [
    {
     "data": {
      "image/png": "[encoded data removed]",
      "text/plain": [
       "<Figure size 720x288 with 2 Axes>"
      ]
     },
     "metadata": {
      "needs_background": "light"
     },
     "output_type": "display_data"
    }
   ],
   "source": [
    "def plot_history(history):\n",
    "    fig, axs = plt.subplots(1, 2, figsize=(10, 4))\n",
    "    \n",
    "    axs[0].plot(history['loss'], label=\"Training\")\n",
    "    axs[0].plot(history['val_loss'], label=\"Validation\")\n",
    "    axs[0].set_title(\"Loss\")\n",
    "    axs[0].legend()\n",
    "    \n",
    "    axs[1].plot(history['accuracy'], label=\"Training\")\n",
    "    axs[1].plot(history['val_accuracy'], label=\"Validation\")\n",
    "    axs[1].set_title(\"Accuracy\")\n",
    "    axs[1].legend()\n",
    "    plt.show()\n",
    "\n",
    "plot_history(baseline_history.history)"
   ]
  },
  {
   "cell_type": "code",
   "execution_count": 10,
   "id": "62affce0",
   "metadata": {
    "execution": {
     "iopub.execute_input": "2023-02-07T15:11:15.407507Z",
     "iopub.status.busy": "2023-02-07T15:11:15.407123Z",
     "iopub.status.idle": "2023-02-07T15:11:26.586788Z",
     "shell.execute_reply": "2023-02-07T15:11:26.585866Z"
    },
    "papermill": {
     "duration": 11.454888,
     "end_time": "2023-02-07T15:11:26.588927",
     "exception": false,
     "start_time": "2023-02-07T15:11:15.134039",
     "status": "completed"
    },
    "tags": []
   },
   "outputs": [
    {
     "name": "stdout",
     "output_type": "stream",
     "text": [
      "Baseline loss:0.16\n",
      "Baseline accuracy:94.57%\n"
     ]
    }
   ],
   "source": [
    "loss_baseline, accuracy_baseline = baseline_model.evaluate(test_data, verbose=0)\n",
    "\n",
    "print(f\"Baseline loss:{loss_baseline:.2f}\")\n",
    "print(f\"Baseline accuracy:{accuracy_baseline*100:.2f}%\")"
   ]
  },
  {
   "cell_type": "markdown",
   "id": "042ff47b",
   "metadata": {
    "papermill": {
     "duration": 0.27047,
     "end_time": "2023-02-07T15:11:27.174190",
     "exception": false,
     "start_time": "2023-02-07T15:11:26.903720",
     "status": "completed"
    },
    "tags": []
   },
   "source": [
    "## Convolutional Neural Network (CNN)"
   ]
  },
  {
   "cell_type": "code",
   "execution_count": 11,
   "id": "dadf68b6",
   "metadata": {
    "execution": {
     "iopub.execute_input": "2023-02-07T15:11:27.720381Z",
     "iopub.status.busy": "2023-02-07T15:11:27.720023Z",
     "iopub.status.idle": "2023-02-07T15:17:20.814889Z",
     "shell.execute_reply": "2023-02-07T15:17:20.813791Z"
    },
    "papermill": {
     "duration": 353.370916,
     "end_time": "2023-02-07T15:17:20.817572",
     "exception": false,
     "start_time": "2023-02-07T15:11:27.446656",
     "status": "completed"
    },
    "tags": []
   },
   "outputs": [
    {
     "name": "stdout",
     "output_type": "stream",
     "text": [
      "Epoch 1/5\n"
     ]
    },
    {
     "name": "stderr",
     "output_type": "stream",
     "text": [
      "2023-02-07 15:11:29.156508: I tensorflow/stream_executor/cuda/cuda_dnn.cc:369] Loaded cuDNN version 8005\n"
     ]
    },
    {
     "name": "stdout",
     "output_type": "stream",
     "text": [
      "840/840 [==============================] - 61s 65ms/step - loss: 0.2394 - accuracy: 0.8994 - val_loss: 0.2000 - val_accuracy: 0.9269\n",
      "Epoch 2/5\n",
      "840/840 [==============================] - 51s 61ms/step - loss: 0.1376 - accuracy: 0.9538 - val_loss: 0.1743 - val_accuracy: 0.9415\n",
      "Epoch 3/5\n",
      "840/840 [==============================] - 56s 66ms/step - loss: 0.1187 - accuracy: 0.9605 - val_loss: 0.1055 - val_accuracy: 0.9636\n",
      "Epoch 4/5\n",
      "840/840 [==============================] - 51s 61ms/step - loss: 0.1134 - accuracy: 0.9613 - val_loss: 0.1132 - val_accuracy: 0.9643\n",
      "Epoch 5/5\n",
      "840/840 [==============================] - 54s 64ms/step - loss: 0.1100 - accuracy: 0.9636 - val_loss: 0.1107 - val_accuracy: 0.9641\n"
     ]
    }
   ],
   "source": [
    "tf.random.set_seed(42)\n",
    "\n",
    "cnn_model1 = tf.keras.Sequential([\n",
    "    tf.keras.layers.Conv2D(10, 3, \n",
    "                           input_shape=(IMG_TARGET_SIZE[0], IMG_TARGET_SIZE[1], 3),\n",
    "                          activation=\"relu\"),\n",
    "    tf.keras.layers.Conv2D(10, 3, activation=\"relu\"),\n",
    "    tf.keras.layers.MaxPool2D(2),\n",
    "    \n",
    "    tf.keras.layers.Conv2D(10, 3, activation=\"relu\"),\n",
    "    tf.keras.layers.Conv2D(10, 3, activation=\"relu\"),\n",
    "    tf.keras.layers.MaxPool2D(2),\n",
    "    \n",
    "    tf.keras.layers.Flatten(),\n",
    "    tf.keras.layers.Dense(1, activation=\"sigmoid\")\n",
    "])\n",
    "\n",
    "cnn_model1.compile(\n",
    "    loss=tf.keras.losses.BinaryCrossentropy(),\n",
    "    optimizer=tf.keras.optimizers.Adam(),\n",
    "    metrics=[\"accuracy\"]\n",
    ")\n",
    "\n",
    "cnn1_history = cnn_model1.fit(train_data,\n",
    "                              epochs=5,\n",
    "                              steps_per_epoch=len(train_data),\n",
    "                              validation_data=valid_data,\n",
    "                              validation_steps=len(valid_data))"
   ]
  },
  {
   "cell_type": "code",
   "execution_count": 12,
   "id": "5bd36ad9",
   "metadata": {
    "execution": {
     "iopub.execute_input": "2023-02-07T15:17:21.616645Z",
     "iopub.status.busy": "2023-02-07T15:17:21.616270Z",
     "iopub.status.idle": "2023-02-07T15:17:21.917716Z",
     "shell.execute_reply": "2023-02-07T15:17:21.916762Z"
    },
    "papermill": {
     "duration": 0.701571,
     "end_time": "2023-02-07T15:17:21.920088",
     "exception": false,
     "start_time": "2023-02-07T15:17:21.218517",
     "status": "completed"
    },
    "tags": []
   },
   "outputs": [
    {
     "data": {
      "image/png": "[encoded data removed]",
      "text/plain": [
       "<Figure size 720x288 with 2 Axes>"
      ]
     },
     "metadata": {
      "needs_background": "light"
     },
     "output_type": "display_data"
    }
   ],
   "source": [
    "plot_history(cnn1_history.history)"
   ]
  },
  {
   "cell_type": "code",
   "execution_count": 13,
   "id": "33750758",
   "metadata": {
    "execution": {
     "iopub.execute_input": "2023-02-07T15:17:22.783268Z",
     "iopub.status.busy": "2023-02-07T15:17:22.782901Z",
     "iopub.status.idle": "2023-02-07T15:17:36.239918Z",
     "shell.execute_reply": "2023-02-07T15:17:36.238701Z"
    },
    "papermill": {
     "duration": 13.860735,
     "end_time": "2023-02-07T15:17:36.241871",
     "exception": false,
     "start_time": "2023-02-07T15:17:22.381136",
     "status": "completed"
    },
    "tags": []
   },
   "outputs": [
    {
     "name": "stdout",
     "output_type": "stream",
     "text": [
      "300/300 [==============================] - 13s 44ms/step - loss: 0.1112 - accuracy: 0.9652\n"
     ]
    },
    {
     "data": {
      "text/plain": [
       "[0.11117734014987946, 0.9652083516120911]"
      ]
     },
     "execution_count": 13,
     "metadata": {},
     "output_type": "execute_result"
    }
   ],
   "source": [
    "cnn_model1.evaluate(test_data)"
   ]
  },
  {
   "cell_type": "markdown",
   "id": "9cc40b45",
   "metadata": {
    "papermill": {
     "duration": 0.513885,
     "end_time": "2023-02-07T15:17:37.168432",
     "exception": false,
     "start_time": "2023-02-07T15:17:36.654547",
     "status": "completed"
    },
    "tags": []
   },
   "source": [
    "# Conclusion\n",
    "\n",
    "Either a simple neural network or a CNN work well in this datasetwith accuracy $> 90\\%$."
   ]
  }
 ],
 "metadata": {
  "kernelspec": {
   "display_name": "Python 3",
   "language": "python",
   "name": "python3"
  },
  "language_info": {
   "codemirror_mode": {
    "name": "ipython",
    "version": 3
   },
   "file_extension": ".py",
   "mimetype": "text/x-python",
   "name": "python",
   "nbconvert_exporter": "python",
   "pygments_lexer": "ipython3",
   "version": "3.7.12"
  },
  "papermill": {
   "default_parameters": {},
   "duration": 1272.025918,
   "end_time": "2023-02-07T15:17:40.699915",
   "environment_variables": {},
   "exception": null,
   "input_path": "__notebook__.ipynb",
   "output_path": "__notebook__.ipynb",
   "parameters": {},
   "start_time": "2023-02-07T14:56:28.673997",
   "version": "2.3.4"
  }
 },
 "nbformat": 4,
 "nbformat_minor": 5
}
