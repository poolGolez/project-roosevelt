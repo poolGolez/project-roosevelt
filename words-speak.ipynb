{
 "cells": [
  {
   "cell_type": "code",
   "execution_count": 1,
   "id": "961ee036",
   "metadata": {
    "_cell_guid": "b1076dfc-b9ad-4769-8c92-a6c4dae69d19",
    "_kg_hide-input": true,
    "_kg_hide-output": true,
    "_uuid": "8f2839f25d086af736a60e9eeb907d3b93b6e0e5",
    "execution": {
     "iopub.execute_input": "2023-06-24T08:41:23.071486Z",
     "iopub.status.busy": "2023-06-24T08:41:23.070610Z",
     "iopub.status.idle": "2023-06-24T08:41:23.087888Z",
     "shell.execute_reply": "2023-06-24T08:41:23.086892Z"
    },
    "papermill": {
     "duration": 0.025813,
     "end_time": "2023-06-24T08:41:23.090159",
     "exception": false,
     "start_time": "2023-06-24T08:41:23.064346",
     "status": "completed"
    },
    "tags": []
   },
   "outputs": [
    {
     "name": "stdout",
     "output_type": "stream",
     "text": [
      "/kaggle/input/emotions-dataset-for-nlp/val.txt\n",
      "/kaggle/input/emotions-dataset-for-nlp/test.txt\n",
      "/kaggle/input/emotions-dataset-for-nlp/train.txt\n"
     ]
    }
   ],
   "source": [
    "# This Python 3 environment comes with many helpful analytics libraries installed\n",
    "# It is defined by the kaggle/python Docker image: https://github.com/kaggle/docker-python\n",
    "# For example, here's several helpful packages to load\n",
    "\n",
    "import numpy as np # linear algebra\n",
    "import pandas as pd # data processing, CSV file I/O (e.g. pd.read_csv)\n",
    "\n",
    "# Input data files are available in the read-only \"../input/\" directory\n",
    "# For example, running this (by clicking run or pressing Shift+Enter) will list all files under the input directory\n",
    "\n",
    "import os\n",
    "for dirname, _, filenames in os.walk('/kaggle/input'):\n",
    "    for filename in filenames:\n",
    "        print(os.path.join(dirname, filename))\n",
    "\n",
    "# You can write up to 20GB to the current directory (/kaggle/working/) that gets preserved as output when you create a version using \"Save & Run All\" \n",
    "# You can also write temporary files to /kaggle/temp/, but they won't be saved outside of the current session"
   ]
  },
  {
   "cell_type": "markdown",
   "id": "2140ade2",
   "metadata": {
    "papermill": {
     "duration": 0.004507,
     "end_time": "2023-06-24T08:41:23.099310",
     "exception": false,
     "start_time": "2023-06-24T08:41:23.094803",
     "status": "completed"
    },
    "tags": []
   },
   "source": [
    "# Data Ingest"
   ]
  },
  {
   "cell_type": "markdown",
   "id": "1f3fdcf7",
   "metadata": {
    "papermill": {
     "duration": 0.004305,
     "end_time": "2023-06-24T08:41:23.108279",
     "exception": false,
     "start_time": "2023-06-24T08:41:23.103974",
     "status": "completed"
    },
    "tags": []
   },
   "source": [
    "## Loading the train dataset"
   ]
  },
  {
   "cell_type": "code",
   "execution_count": 2,
   "id": "7247db67",
   "metadata": {
    "execution": {
     "iopub.execute_input": "2023-06-24T08:41:23.118787Z",
     "iopub.status.busy": "2023-06-24T08:41:23.118026Z",
     "iopub.status.idle": "2023-06-24T08:41:23.170337Z",
     "shell.execute_reply": "2023-06-24T08:41:23.169479Z"
    },
    "papermill": {
     "duration": 0.059816,
     "end_time": "2023-06-24T08:41:23.172570",
     "exception": false,
     "start_time": "2023-06-24T08:41:23.112754",
     "status": "completed"
    },
    "tags": []
   },
   "outputs": [],
   "source": [
    "TRAIN_DATASET_FILE_LOCATION = '/kaggle/input/emotions-dataset-for-nlp/train.txt'\n",
    "\n",
    "train_df = pd.read_csv(TRAIN_DATASET_FILE_LOCATION, sep=';', names=['text','emotion'])"
   ]
  },
  {
   "cell_type": "code",
   "execution_count": 3,
   "id": "e4281b64",
   "metadata": {
    "execution": {
     "iopub.execute_input": "2023-06-24T08:41:23.183283Z",
     "iopub.status.busy": "2023-06-24T08:41:23.182978Z",
     "iopub.status.idle": "2023-06-24T08:41:23.198158Z",
     "shell.execute_reply": "2023-06-24T08:41:23.197340Z"
    },
    "papermill": {
     "duration": 0.022913,
     "end_time": "2023-06-24T08:41:23.200320",
     "exception": false,
     "start_time": "2023-06-24T08:41:23.177407",
     "status": "completed"
    },
    "tags": []
   },
   "outputs": [
    {
     "data": {
      "text/html": [
       "<div>\n",
       "<style scoped>\n",
       "    .dataframe tbody tr th:only-of-type {\n",
       "        vertical-align: middle;\n",
       "    }\n",
       "\n",
       "    .dataframe tbody tr th {\n",
       "        vertical-align: top;\n",
       "    }\n",
       "\n",
       "    .dataframe thead th {\n",
       "        text-align: right;\n",
       "    }\n",
       "</style>\n",
       "<table border=\"1\" class=\"dataframe\">\n",
       "  <thead>\n",
       "    <tr style=\"text-align: right;\">\n",
       "      <th></th>\n",
       "      <th>text</th>\n",
       "      <th>emotion</th>\n",
       "    </tr>\n",
       "  </thead>\n",
       "  <tbody>\n",
       "    <tr>\n",
       "      <th>0</th>\n",
       "      <td>i didnt feel humiliated</td>\n",
       "      <td>sadness</td>\n",
       "    </tr>\n",
       "    <tr>\n",
       "      <th>1</th>\n",
       "      <td>i can go from feeling so hopeless to so damned...</td>\n",
       "      <td>sadness</td>\n",
       "    </tr>\n",
       "    <tr>\n",
       "      <th>2</th>\n",
       "      <td>im grabbing a minute to post i feel greedy wrong</td>\n",
       "      <td>anger</td>\n",
       "    </tr>\n",
       "    <tr>\n",
       "      <th>3</th>\n",
       "      <td>i am ever feeling nostalgic about the fireplac...</td>\n",
       "      <td>love</td>\n",
       "    </tr>\n",
       "    <tr>\n",
       "      <th>4</th>\n",
       "      <td>i am feeling grouchy</td>\n",
       "      <td>anger</td>\n",
       "    </tr>\n",
       "  </tbody>\n",
       "</table>\n",
       "</div>"
      ],
      "text/plain": [
       "                                                text  emotion\n",
       "0                            i didnt feel humiliated  sadness\n",
       "1  i can go from feeling so hopeless to so damned...  sadness\n",
       "2   im grabbing a minute to post i feel greedy wrong    anger\n",
       "3  i am ever feeling nostalgic about the fireplac...     love\n",
       "4                               i am feeling grouchy    anger"
      ]
     },
     "execution_count": 3,
     "metadata": {},
     "output_type": "execute_result"
    }
   ],
   "source": [
    "train_df.head()"
   ]
  },
  {
   "cell_type": "code",
   "execution_count": 4,
   "id": "9003151d",
   "metadata": {
    "execution": {
     "iopub.execute_input": "2023-06-24T08:41:23.211056Z",
     "iopub.status.busy": "2023-06-24T08:41:23.210790Z",
     "iopub.status.idle": "2023-06-24T08:41:23.216199Z",
     "shell.execute_reply": "2023-06-24T08:41:23.215336Z"
    },
    "papermill": {
     "duration": 0.013067,
     "end_time": "2023-06-24T08:41:23.218217",
     "exception": false,
     "start_time": "2023-06-24T08:41:23.205150",
     "status": "completed"
    },
    "tags": []
   },
   "outputs": [
    {
     "data": {
      "text/plain": [
       "16000"
      ]
     },
     "execution_count": 4,
     "metadata": {},
     "output_type": "execute_result"
    }
   ],
   "source": [
    "len(train_df)"
   ]
  },
  {
   "cell_type": "code",
   "execution_count": 5,
   "id": "b94a8270",
   "metadata": {
    "execution": {
     "iopub.execute_input": "2023-06-24T08:41:23.229497Z",
     "iopub.status.busy": "2023-06-24T08:41:23.228777Z",
     "iopub.status.idle": "2023-06-24T08:41:23.242839Z",
     "shell.execute_reply": "2023-06-24T08:41:23.241918Z"
    },
    "papermill": {
     "duration": 0.021519,
     "end_time": "2023-06-24T08:41:23.244801",
     "exception": false,
     "start_time": "2023-06-24T08:41:23.223282",
     "status": "completed"
    },
    "tags": []
   },
   "outputs": [
    {
     "data": {
      "text/plain": [
       "joy         5362\n",
       "sadness     4666\n",
       "anger       2159\n",
       "fear        1937\n",
       "love        1304\n",
       "surprise     572\n",
       "Name: emotion, dtype: int64"
      ]
     },
     "execution_count": 5,
     "metadata": {},
     "output_type": "execute_result"
    }
   ],
   "source": [
    "train_df_tally = train_df['emotion'].value_counts()\n",
    "train_df_tally"
   ]
  },
  {
   "cell_type": "code",
   "execution_count": 6,
   "id": "07e54219",
   "metadata": {
    "execution": {
     "iopub.execute_input": "2023-06-24T08:41:23.256127Z",
     "iopub.status.busy": "2023-06-24T08:41:23.255411Z",
     "iopub.status.idle": "2023-06-24T08:41:23.263091Z",
     "shell.execute_reply": "2023-06-24T08:41:23.262103Z"
    },
    "papermill": {
     "duration": 0.015413,
     "end_time": "2023-06-24T08:41:23.265109",
     "exception": false,
     "start_time": "2023-06-24T08:41:23.249696",
     "status": "completed"
    },
    "tags": []
   },
   "outputs": [
    {
     "data": {
      "text/plain": [
       "joy         0.335125\n",
       "sadness     0.291625\n",
       "anger       0.134937\n",
       "fear        0.121063\n",
       "love        0.081500\n",
       "surprise    0.035750\n",
       "Name: emotion, dtype: float64"
      ]
     },
     "execution_count": 6,
     "metadata": {},
     "output_type": "execute_result"
    }
   ],
   "source": [
    "train_df_tally/sum(train_df_tally)"
   ]
  },
  {
   "cell_type": "markdown",
   "id": "2ef72472",
   "metadata": {
    "papermill": {
     "duration": 0.004884,
     "end_time": "2023-06-24T08:41:23.275496",
     "exception": false,
     "start_time": "2023-06-24T08:41:23.270612",
     "status": "completed"
    },
    "tags": []
   },
   "source": [
    "📔 We have an imbalanced dataset with the top 2 emotions comprising `~30%` of the dataset."
   ]
  },
  {
   "cell_type": "markdown",
   "id": "257b1e18",
   "metadata": {
    "papermill": {
     "duration": 0.004937,
     "end_time": "2023-06-24T08:41:23.285574",
     "exception": false,
     "start_time": "2023-06-24T08:41:23.280637",
     "status": "completed"
    },
    "tags": []
   },
   "source": [
    "## Loading the validation dataset"
   ]
  },
  {
   "cell_type": "code",
   "execution_count": 7,
   "id": "955080ed",
   "metadata": {
    "execution": {
     "iopub.execute_input": "2023-06-24T08:41:23.297467Z",
     "iopub.status.busy": "2023-06-24T08:41:23.296725Z",
     "iopub.status.idle": "2023-06-24T08:41:23.321576Z",
     "shell.execute_reply": "2023-06-24T08:41:23.320613Z"
    },
    "papermill": {
     "duration": 0.033276,
     "end_time": "2023-06-24T08:41:23.324034",
     "exception": false,
     "start_time": "2023-06-24T08:41:23.290758",
     "status": "completed"
    },
    "tags": []
   },
   "outputs": [
    {
     "data": {
      "text/html": [
       "<div>\n",
       "<style scoped>\n",
       "    .dataframe tbody tr th:only-of-type {\n",
       "        vertical-align: middle;\n",
       "    }\n",
       "\n",
       "    .dataframe tbody tr th {\n",
       "        vertical-align: top;\n",
       "    }\n",
       "\n",
       "    .dataframe thead th {\n",
       "        text-align: right;\n",
       "    }\n",
       "</style>\n",
       "<table border=\"1\" class=\"dataframe\">\n",
       "  <thead>\n",
       "    <tr style=\"text-align: right;\">\n",
       "      <th></th>\n",
       "      <th>text</th>\n",
       "      <th>emotion</th>\n",
       "    </tr>\n",
       "  </thead>\n",
       "  <tbody>\n",
       "    <tr>\n",
       "      <th>0</th>\n",
       "      <td>im feeling quite sad and sorry for myself but ...</td>\n",
       "      <td>sadness</td>\n",
       "    </tr>\n",
       "    <tr>\n",
       "      <th>1</th>\n",
       "      <td>i feel like i am still looking at a blank canv...</td>\n",
       "      <td>sadness</td>\n",
       "    </tr>\n",
       "    <tr>\n",
       "      <th>2</th>\n",
       "      <td>i feel like a faithful servant</td>\n",
       "      <td>love</td>\n",
       "    </tr>\n",
       "    <tr>\n",
       "      <th>3</th>\n",
       "      <td>i am just feeling cranky and blue</td>\n",
       "      <td>anger</td>\n",
       "    </tr>\n",
       "    <tr>\n",
       "      <th>4</th>\n",
       "      <td>i can have for a treat or if i am feeling festive</td>\n",
       "      <td>joy</td>\n",
       "    </tr>\n",
       "  </tbody>\n",
       "</table>\n",
       "</div>"
      ],
      "text/plain": [
       "                                                text  emotion\n",
       "0  im feeling quite sad and sorry for myself but ...  sadness\n",
       "1  i feel like i am still looking at a blank canv...  sadness\n",
       "2                     i feel like a faithful servant     love\n",
       "3                  i am just feeling cranky and blue    anger\n",
       "4  i can have for a treat or if i am feeling festive      joy"
      ]
     },
     "execution_count": 7,
     "metadata": {},
     "output_type": "execute_result"
    }
   ],
   "source": [
    "VALIDATION_DATASET_FILE_LOCATION = '/kaggle/input/emotions-dataset-for-nlp/val.txt'\n",
    "\n",
    "val_df = pd.read_csv(VALIDATION_DATASET_FILE_LOCATION, sep=';', names=['text','emotion'])\n",
    "val_df.head()"
   ]
  },
  {
   "cell_type": "code",
   "execution_count": 8,
   "id": "1a7dfaeb",
   "metadata": {
    "execution": {
     "iopub.execute_input": "2023-06-24T08:41:23.337749Z",
     "iopub.status.busy": "2023-06-24T08:41:23.337056Z",
     "iopub.status.idle": "2023-06-24T08:41:23.346222Z",
     "shell.execute_reply": "2023-06-24T08:41:23.345144Z"
    },
    "papermill": {
     "duration": 0.01824,
     "end_time": "2023-06-24T08:41:23.348469",
     "exception": false,
     "start_time": "2023-06-24T08:41:23.330229",
     "status": "completed"
    },
    "tags": []
   },
   "outputs": [
    {
     "data": {
      "text/plain": [
       "joy         0.3520\n",
       "sadness     0.2750\n",
       "anger       0.1375\n",
       "fear        0.1060\n",
       "love        0.0890\n",
       "surprise    0.0405\n",
       "Name: emotion, dtype: float64"
      ]
     },
     "execution_count": 8,
     "metadata": {},
     "output_type": "execute_result"
    }
   ],
   "source": [
    "val_df_tally = val_df['emotion'].value_counts()\n",
    "val_df_tally/sum(val_df_tally)"
   ]
  },
  {
   "cell_type": "markdown",
   "id": "c2f84bfa",
   "metadata": {
    "papermill": {
     "duration": 0.005194,
     "end_time": "2023-06-24T08:41:23.359139",
     "exception": false,
     "start_time": "2023-06-24T08:41:23.353945",
     "status": "completed"
    },
    "tags": []
   },
   "source": [
    "# Exploratory Data Analysis (EDA)\n",
    "\n",
    "* What is the distribution of length of the text?"
   ]
  },
  {
   "cell_type": "code",
   "execution_count": 9,
   "id": "20533855",
   "metadata": {
    "execution": {
     "iopub.execute_input": "2023-06-24T08:41:23.371629Z",
     "iopub.status.busy": "2023-06-24T08:41:23.371098Z",
     "iopub.status.idle": "2023-06-24T08:41:23.420257Z",
     "shell.execute_reply": "2023-06-24T08:41:23.419108Z"
    },
    "papermill": {
     "duration": 0.057892,
     "end_time": "2023-06-24T08:41:23.422691",
     "exception": false,
     "start_time": "2023-06-24T08:41:23.364799",
     "status": "completed"
    },
    "tags": []
   },
   "outputs": [
    {
     "data": {
      "text/html": [
       "<div>\n",
       "<style scoped>\n",
       "    .dataframe tbody tr th:only-of-type {\n",
       "        vertical-align: middle;\n",
       "    }\n",
       "\n",
       "    .dataframe tbody tr th {\n",
       "        vertical-align: top;\n",
       "    }\n",
       "\n",
       "    .dataframe thead th {\n",
       "        text-align: right;\n",
       "    }\n",
       "</style>\n",
       "<table border=\"1\" class=\"dataframe\">\n",
       "  <thead>\n",
       "    <tr style=\"text-align: right;\">\n",
       "      <th></th>\n",
       "      <th>count</th>\n",
       "      <th>mean</th>\n",
       "      <th>std</th>\n",
       "      <th>min</th>\n",
       "      <th>25%</th>\n",
       "      <th>50%</th>\n",
       "      <th>75%</th>\n",
       "      <th>max</th>\n",
       "    </tr>\n",
       "  </thead>\n",
       "  <tbody>\n",
       "    <tr>\n",
       "      <th>text_length</th>\n",
       "      <td>16000.0</td>\n",
       "      <td>19.166313</td>\n",
       "      <td>10.986905</td>\n",
       "      <td>2.0</td>\n",
       "      <td>11.0</td>\n",
       "      <td>17.0</td>\n",
       "      <td>25.0</td>\n",
       "      <td>66.0</td>\n",
       "    </tr>\n",
       "  </tbody>\n",
       "</table>\n",
       "</div>"
      ],
      "text/plain": [
       "               count       mean        std  min   25%   50%   75%   max\n",
       "text_length  16000.0  19.166313  10.986905  2.0  11.0  17.0  25.0  66.0"
      ]
     },
     "execution_count": 9,
     "metadata": {},
     "output_type": "execute_result"
    }
   ],
   "source": [
    "length_array = [len(sent.split()) for sent in train_df['text']]\n",
    "text_length_df = pd.DataFrame(length_array, columns=[\"text_length\"])\n",
    "text_length_df.describe().transpose()"
   ]
  },
  {
   "cell_type": "code",
   "execution_count": 10,
   "id": "eb5f1948",
   "metadata": {
    "execution": {
     "iopub.execute_input": "2023-06-24T08:41:23.436959Z",
     "iopub.status.busy": "2023-06-24T08:41:23.435469Z",
     "iopub.status.idle": "2023-06-24T08:41:23.797948Z",
     "shell.execute_reply": "2023-06-24T08:41:23.797071Z"
    },
    "papermill": {
     "duration": 0.372331,
     "end_time": "2023-06-24T08:41:23.801138",
     "exception": false,
     "start_time": "2023-06-24T08:41:23.428807",
     "status": "completed"
    },
    "tags": []
   },
   "outputs": [
    {
     "data": {
      "text/plain": [
       "<Axes: ylabel='Frequency'>"
      ]
     },
     "execution_count": 10,
     "metadata": {},
     "output_type": "execute_result"
    },
    {
     "data": {
      "image/png": "[encoded data removed]",
      "text/plain": [
       "<Figure size 640x480 with 1 Axes>"
      ]
     },
     "metadata": {},
     "output_type": "display_data"
    }
   ],
   "source": [
    "text_length_df.plot(kind='hist')"
   ]
  },
  {
   "cell_type": "code",
   "execution_count": 11,
   "id": "a6f925e8",
   "metadata": {
    "execution": {
     "iopub.execute_input": "2023-06-24T08:41:23.817038Z",
     "iopub.status.busy": "2023-06-24T08:41:23.816461Z",
     "iopub.status.idle": "2023-06-24T08:41:23.824914Z",
     "shell.execute_reply": "2023-06-24T08:41:23.824003Z"
    },
    "papermill": {
     "duration": 0.017951,
     "end_time": "2023-06-24T08:41:23.827114",
     "exception": false,
     "start_time": "2023-06-24T08:41:23.809163",
     "status": "completed"
    },
    "tags": []
   },
   "outputs": [
    {
     "data": {
      "text/plain": [
       "35"
      ]
     },
     "execution_count": 11,
     "metadata": {},
     "output_type": "execute_result"
    }
   ],
   "source": [
    "index_90th = int(len(length_array) * 0.90)\n",
    "sorted(length_array)[index_90th]"
   ]
  },
  {
   "cell_type": "markdown",
   "id": "a303f5ee",
   "metadata": {
    "papermill": {
     "duration": 0.006198,
     "end_time": "2023-06-24T08:41:23.839890",
     "exception": false,
     "start_time": "2023-06-24T08:41:23.833692",
     "status": "completed"
    },
    "tags": []
   },
   "source": [
    "📔 We'll use length `35` for out sentences as it covers `90%` of the lengths in our train dataset."
   ]
  }
 ],
 "metadata": {
  "kernelspec": {
   "display_name": "Python 3",
   "language": "python",
   "name": "python3"
  },
  "language_info": {
   "codemirror_mode": {
    "name": "ipython",
    "version": 3
   },
   "file_extension": ".py",
   "mimetype": "text/x-python",
   "name": "python",
   "nbconvert_exporter": "python",
   "pygments_lexer": "ipython3",
   "version": "3.10.10"
  },
  "papermill": {
   "default_parameters": {},
   "duration": 12.669437,
   "end_time": "2023-06-24T08:41:24.465791",
   "environment_variables": {},
   "exception": null,
   "input_path": "__notebook__.ipynb",
   "output_path": "__notebook__.ipynb",
   "parameters": {},
   "start_time": "2023-06-24T08:41:11.796354",
   "version": "2.4.0"
  }
 },
 "nbformat": 4,
 "nbformat_minor": 5
}
