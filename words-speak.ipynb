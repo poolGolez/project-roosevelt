{
 "cells": [
  {
   "cell_type": "code",
   "execution_count": 1,
   "id": "501fe302",
   "metadata": {
    "_cell_guid": "b1076dfc-b9ad-4769-8c92-a6c4dae69d19",
    "_kg_hide-input": true,
    "_kg_hide-output": true,
    "_uuid": "8f2839f25d086af736a60e9eeb907d3b93b6e0e5",
    "execution": {
     "iopub.execute_input": "2023-06-24T11:16:06.884736Z",
     "iopub.status.busy": "2023-06-24T11:16:06.884296Z",
     "iopub.status.idle": "2023-06-24T11:16:06.902167Z",
     "shell.execute_reply": "2023-06-24T11:16:06.900931Z"
    },
    "papermill": {
     "duration": 0.031785,
     "end_time": "2023-06-24T11:16:06.904323",
     "exception": false,
     "start_time": "2023-06-24T11:16:06.872538",
     "status": "completed"
    },
    "tags": []
   },
   "outputs": [
    {
     "name": "stdout",
     "output_type": "stream",
     "text": [
      "/kaggle/input/emotions-dataset-for-nlp/val.txt\n",
      "/kaggle/input/emotions-dataset-for-nlp/test.txt\n",
      "/kaggle/input/emotions-dataset-for-nlp/train.txt\n"
     ]
    }
   ],
   "source": [
    "# This Python 3 environment comes with many helpful analytics libraries installed\n",
    "# It is defined by the kaggle/python Docker image: https://github.com/kaggle/docker-python\n",
    "# For example, here's several helpful packages to load\n",
    "\n",
    "import numpy as np # linear algebra\n",
    "import pandas as pd # data processing, CSV file I/O (e.g. pd.read_csv)\n",
    "\n",
    "# Input data files are available in the read-only \"../input/\" directory\n",
    "# For example, running this (by clicking run or pressing Shift+Enter) will list all files under the input directory\n",
    "\n",
    "import os\n",
    "for dirname, _, filenames in os.walk('/kaggle/input'):\n",
    "    for filename in filenames:\n",
    "        print(os.path.join(dirname, filename))\n",
    "\n",
    "# You can write up to 20GB to the current directory (/kaggle/working/) that gets preserved as output when you create a version using \"Save & Run All\" \n",
    "# You can also write temporary files to /kaggle/temp/, but they won't be saved outside of the current session"
   ]
  },
  {
   "cell_type": "markdown",
   "id": "2c98769f",
   "metadata": {
    "papermill": {
     "duration": 0.008938,
     "end_time": "2023-06-24T11:16:06.922781",
     "exception": false,
     "start_time": "2023-06-24T11:16:06.913843",
     "status": "completed"
    },
    "tags": []
   },
   "source": [
    "# Data Ingest"
   ]
  },
  {
   "cell_type": "markdown",
   "id": "3730d802",
   "metadata": {
    "papermill": {
     "duration": 0.008859,
     "end_time": "2023-06-24T11:16:06.941018",
     "exception": false,
     "start_time": "2023-06-24T11:16:06.932159",
     "status": "completed"
    },
    "tags": []
   },
   "source": [
    "## Loading the train dataset"
   ]
  },
  {
   "cell_type": "code",
   "execution_count": 2,
   "id": "f08c0a3b",
   "metadata": {
    "execution": {
     "iopub.execute_input": "2023-06-24T11:16:06.960755Z",
     "iopub.status.busy": "2023-06-24T11:16:06.960219Z",
     "iopub.status.idle": "2023-06-24T11:16:07.011949Z",
     "shell.execute_reply": "2023-06-24T11:16:07.011086Z"
    },
    "papermill": {
     "duration": 0.063761,
     "end_time": "2023-06-24T11:16:07.014200",
     "exception": false,
     "start_time": "2023-06-24T11:16:06.950439",
     "status": "completed"
    },
    "tags": []
   },
   "outputs": [],
   "source": [
    "TRAIN_DATASET_FILE_LOCATION = '/kaggle/input/emotions-dataset-for-nlp/train.txt'\n",
    "\n",
    "train_df = pd.read_csv(TRAIN_DATASET_FILE_LOCATION, sep=';', names=['text','emotion'])"
   ]
  },
  {
   "cell_type": "code",
   "execution_count": 3,
   "id": "8a7a655a",
   "metadata": {
    "execution": {
     "iopub.execute_input": "2023-06-24T11:16:07.035235Z",
     "iopub.status.busy": "2023-06-24T11:16:07.033849Z",
     "iopub.status.idle": "2023-06-24T11:16:07.050419Z",
     "shell.execute_reply": "2023-06-24T11:16:07.049439Z"
    },
    "papermill": {
     "duration": 0.02855,
     "end_time": "2023-06-24T11:16:07.052244",
     "exception": false,
     "start_time": "2023-06-24T11:16:07.023694",
     "status": "completed"
    },
    "tags": []
   },
   "outputs": [
    {
     "data": {
      "text/html": [
       "<div>\n",
       "<style scoped>\n",
       "    .dataframe tbody tr th:only-of-type {\n",
       "        vertical-align: middle;\n",
       "    }\n",
       "\n",
       "    .dataframe tbody tr th {\n",
       "        vertical-align: top;\n",
       "    }\n",
       "\n",
       "    .dataframe thead th {\n",
       "        text-align: right;\n",
       "    }\n",
       "</style>\n",
       "<table border=\"1\" class=\"dataframe\">\n",
       "  <thead>\n",
       "    <tr style=\"text-align: right;\">\n",
       "      <th></th>\n",
       "      <th>text</th>\n",
       "      <th>emotion</th>\n",
       "    </tr>\n",
       "  </thead>\n",
       "  <tbody>\n",
       "    <tr>\n",
       "      <th>0</th>\n",
       "      <td>i didnt feel humiliated</td>\n",
       "      <td>sadness</td>\n",
       "    </tr>\n",
       "    <tr>\n",
       "      <th>1</th>\n",
       "      <td>i can go from feeling so hopeless to so damned...</td>\n",
       "      <td>sadness</td>\n",
       "    </tr>\n",
       "    <tr>\n",
       "      <th>2</th>\n",
       "      <td>im grabbing a minute to post i feel greedy wrong</td>\n",
       "      <td>anger</td>\n",
       "    </tr>\n",
       "    <tr>\n",
       "      <th>3</th>\n",
       "      <td>i am ever feeling nostalgic about the fireplac...</td>\n",
       "      <td>love</td>\n",
       "    </tr>\n",
       "    <tr>\n",
       "      <th>4</th>\n",
       "      <td>i am feeling grouchy</td>\n",
       "      <td>anger</td>\n",
       "    </tr>\n",
       "  </tbody>\n",
       "</table>\n",
       "</div>"
      ],
      "text/plain": [
       "                                                text  emotion\n",
       "0                            i didnt feel humiliated  sadness\n",
       "1  i can go from feeling so hopeless to so damned...  sadness\n",
       "2   im grabbing a minute to post i feel greedy wrong    anger\n",
       "3  i am ever feeling nostalgic about the fireplac...     love\n",
       "4                               i am feeling grouchy    anger"
      ]
     },
     "execution_count": 3,
     "metadata": {},
     "output_type": "execute_result"
    }
   ],
   "source": [
    "train_df.head()"
   ]
  },
  {
   "cell_type": "code",
   "execution_count": 4,
   "id": "53282bb3",
   "metadata": {
    "execution": {
     "iopub.execute_input": "2023-06-24T11:16:07.073349Z",
     "iopub.status.busy": "2023-06-24T11:16:07.072002Z",
     "iopub.status.idle": "2023-06-24T11:16:07.077996Z",
     "shell.execute_reply": "2023-06-24T11:16:07.077115Z"
    },
    "papermill": {
     "duration": 0.018367,
     "end_time": "2023-06-24T11:16:07.080083",
     "exception": false,
     "start_time": "2023-06-24T11:16:07.061716",
     "status": "completed"
    },
    "tags": []
   },
   "outputs": [
    {
     "data": {
      "text/plain": [
       "16000"
      ]
     },
     "execution_count": 4,
     "metadata": {},
     "output_type": "execute_result"
    }
   ],
   "source": [
    "len(train_df)"
   ]
  },
  {
   "cell_type": "code",
   "execution_count": 5,
   "id": "53b2ad9c",
   "metadata": {
    "execution": {
     "iopub.execute_input": "2023-06-24T11:16:07.100189Z",
     "iopub.status.busy": "2023-06-24T11:16:07.099925Z",
     "iopub.status.idle": "2023-06-24T11:16:07.114280Z",
     "shell.execute_reply": "2023-06-24T11:16:07.113423Z"
    },
    "papermill": {
     "duration": 0.026514,
     "end_time": "2023-06-24T11:16:07.116211",
     "exception": false,
     "start_time": "2023-06-24T11:16:07.089697",
     "status": "completed"
    },
    "tags": []
   },
   "outputs": [
    {
     "data": {
      "text/plain": [
       "joy         5362\n",
       "sadness     4666\n",
       "anger       2159\n",
       "fear        1937\n",
       "love        1304\n",
       "surprise     572\n",
       "Name: emotion, dtype: int64"
      ]
     },
     "execution_count": 5,
     "metadata": {},
     "output_type": "execute_result"
    }
   ],
   "source": [
    "train_df_tally = train_df['emotion'].value_counts()\n",
    "train_df_tally"
   ]
  },
  {
   "cell_type": "code",
   "execution_count": 6,
   "id": "14d4116a",
   "metadata": {
    "execution": {
     "iopub.execute_input": "2023-06-24T11:16:07.136523Z",
     "iopub.status.busy": "2023-06-24T11:16:07.136257Z",
     "iopub.status.idle": "2023-06-24T11:16:07.143458Z",
     "shell.execute_reply": "2023-06-24T11:16:07.142450Z"
    },
    "papermill": {
     "duration": 0.019613,
     "end_time": "2023-06-24T11:16:07.145562",
     "exception": false,
     "start_time": "2023-06-24T11:16:07.125949",
     "status": "completed"
    },
    "tags": []
   },
   "outputs": [
    {
     "data": {
      "text/plain": [
       "joy         0.335125\n",
       "sadness     0.291625\n",
       "anger       0.134937\n",
       "fear        0.121063\n",
       "love        0.081500\n",
       "surprise    0.035750\n",
       "Name: emotion, dtype: float64"
      ]
     },
     "execution_count": 6,
     "metadata": {},
     "output_type": "execute_result"
    }
   ],
   "source": [
    "train_df_tally/sum(train_df_tally)"
   ]
  },
  {
   "cell_type": "markdown",
   "id": "f133c78f",
   "metadata": {
    "papermill": {
     "duration": 0.009487,
     "end_time": "2023-06-24T11:16:07.164919",
     "exception": false,
     "start_time": "2023-06-24T11:16:07.155432",
     "status": "completed"
    },
    "tags": []
   },
   "source": [
    "📔 We have an imbalanced dataset with the top 2 emotions comprising `~30%` of the dataset."
   ]
  },
  {
   "cell_type": "markdown",
   "id": "4b74bc31",
   "metadata": {
    "papermill": {
     "duration": 0.009629,
     "end_time": "2023-06-24T11:16:07.184720",
     "exception": false,
     "start_time": "2023-06-24T11:16:07.175091",
     "status": "completed"
    },
    "tags": []
   },
   "source": [
    "## Loading the validation dataset"
   ]
  },
  {
   "cell_type": "code",
   "execution_count": 7,
   "id": "69979596",
   "metadata": {
    "execution": {
     "iopub.execute_input": "2023-06-24T11:16:07.206024Z",
     "iopub.status.busy": "2023-06-24T11:16:07.205378Z",
     "iopub.status.idle": "2023-06-24T11:16:07.225957Z",
     "shell.execute_reply": "2023-06-24T11:16:07.225087Z"
    },
    "papermill": {
     "duration": 0.033482,
     "end_time": "2023-06-24T11:16:07.228010",
     "exception": false,
     "start_time": "2023-06-24T11:16:07.194528",
     "status": "completed"
    },
    "tags": []
   },
   "outputs": [
    {
     "data": {
      "text/html": [
       "<div>\n",
       "<style scoped>\n",
       "    .dataframe tbody tr th:only-of-type {\n",
       "        vertical-align: middle;\n",
       "    }\n",
       "\n",
       "    .dataframe tbody tr th {\n",
       "        vertical-align: top;\n",
       "    }\n",
       "\n",
       "    .dataframe thead th {\n",
       "        text-align: right;\n",
       "    }\n",
       "</style>\n",
       "<table border=\"1\" class=\"dataframe\">\n",
       "  <thead>\n",
       "    <tr style=\"text-align: right;\">\n",
       "      <th></th>\n",
       "      <th>text</th>\n",
       "      <th>emotion</th>\n",
       "    </tr>\n",
       "  </thead>\n",
       "  <tbody>\n",
       "    <tr>\n",
       "      <th>0</th>\n",
       "      <td>im feeling quite sad and sorry for myself but ...</td>\n",
       "      <td>sadness</td>\n",
       "    </tr>\n",
       "    <tr>\n",
       "      <th>1</th>\n",
       "      <td>i feel like i am still looking at a blank canv...</td>\n",
       "      <td>sadness</td>\n",
       "    </tr>\n",
       "    <tr>\n",
       "      <th>2</th>\n",
       "      <td>i feel like a faithful servant</td>\n",
       "      <td>love</td>\n",
       "    </tr>\n",
       "    <tr>\n",
       "      <th>3</th>\n",
       "      <td>i am just feeling cranky and blue</td>\n",
       "      <td>anger</td>\n",
       "    </tr>\n",
       "    <tr>\n",
       "      <th>4</th>\n",
       "      <td>i can have for a treat or if i am feeling festive</td>\n",
       "      <td>joy</td>\n",
       "    </tr>\n",
       "  </tbody>\n",
       "</table>\n",
       "</div>"
      ],
      "text/plain": [
       "                                                text  emotion\n",
       "0  im feeling quite sad and sorry for myself but ...  sadness\n",
       "1  i feel like i am still looking at a blank canv...  sadness\n",
       "2                     i feel like a faithful servant     love\n",
       "3                  i am just feeling cranky and blue    anger\n",
       "4  i can have for a treat or if i am feeling festive      joy"
      ]
     },
     "execution_count": 7,
     "metadata": {},
     "output_type": "execute_result"
    }
   ],
   "source": [
    "VALIDATION_DATASET_FILE_LOCATION = '/kaggle/input/emotions-dataset-for-nlp/val.txt'\n",
    "\n",
    "val_df = pd.read_csv(VALIDATION_DATASET_FILE_LOCATION, sep=';', names=['text','emotion'])\n",
    "val_df.head()"
   ]
  },
  {
   "cell_type": "code",
   "execution_count": 8,
   "id": "19fdbeb2",
   "metadata": {
    "execution": {
     "iopub.execute_input": "2023-06-24T11:16:07.249479Z",
     "iopub.status.busy": "2023-06-24T11:16:07.249169Z",
     "iopub.status.idle": "2023-06-24T11:16:07.256592Z",
     "shell.execute_reply": "2023-06-24T11:16:07.255758Z"
    },
    "papermill": {
     "duration": 0.020019,
     "end_time": "2023-06-24T11:16:07.258488",
     "exception": false,
     "start_time": "2023-06-24T11:16:07.238469",
     "status": "completed"
    },
    "tags": []
   },
   "outputs": [
    {
     "data": {
      "text/plain": [
       "joy         0.3520\n",
       "sadness     0.2750\n",
       "anger       0.1375\n",
       "fear        0.1060\n",
       "love        0.0890\n",
       "surprise    0.0405\n",
       "Name: emotion, dtype: float64"
      ]
     },
     "execution_count": 8,
     "metadata": {},
     "output_type": "execute_result"
    }
   ],
   "source": [
    "val_df_tally = val_df['emotion'].value_counts()\n",
    "val_df_tally/sum(val_df_tally)"
   ]
  },
  {
   "cell_type": "markdown",
   "id": "3f7efafe",
   "metadata": {
    "papermill": {
     "duration": 0.009642,
     "end_time": "2023-06-24T11:16:07.278777",
     "exception": false,
     "start_time": "2023-06-24T11:16:07.269135",
     "status": "completed"
    },
    "tags": []
   },
   "source": [
    "# Exploratory Data Analysis (EDA)\n",
    "\n",
    "* What are the classes?\n",
    "* What is the distribution of length of the text?"
   ]
  },
  {
   "cell_type": "code",
   "execution_count": 9,
   "id": "b77dc57b",
   "metadata": {
    "execution": {
     "iopub.execute_input": "2023-06-24T11:16:07.301061Z",
     "iopub.status.busy": "2023-06-24T11:16:07.299718Z",
     "iopub.status.idle": "2023-06-24T11:16:07.309180Z",
     "shell.execute_reply": "2023-06-24T11:16:07.308259Z"
    },
    "papermill": {
     "duration": 0.022183,
     "end_time": "2023-06-24T11:16:07.311114",
     "exception": false,
     "start_time": "2023-06-24T11:16:07.288931",
     "status": "completed"
    },
    "tags": []
   },
   "outputs": [
    {
     "data": {
      "text/plain": [
       "array(['sadness', 'anger', 'love', 'surprise', 'fear', 'joy'],\n",
       "      dtype=object)"
      ]
     },
     "execution_count": 9,
     "metadata": {},
     "output_type": "execute_result"
    }
   ],
   "source": [
    "CLASSES = train_df['emotion'].unique()\n",
    "CLASSES"
   ]
  },
  {
   "cell_type": "code",
   "execution_count": 10,
   "id": "e2a8ebb9",
   "metadata": {
    "execution": {
     "iopub.execute_input": "2023-06-24T11:16:07.333133Z",
     "iopub.status.busy": "2023-06-24T11:16:07.332343Z",
     "iopub.status.idle": "2023-06-24T11:16:07.379728Z",
     "shell.execute_reply": "2023-06-24T11:16:07.378840Z"
    },
    "papermill": {
     "duration": 0.060621,
     "end_time": "2023-06-24T11:16:07.381714",
     "exception": false,
     "start_time": "2023-06-24T11:16:07.321093",
     "status": "completed"
    },
    "tags": []
   },
   "outputs": [
    {
     "data": {
      "text/html": [
       "<div>\n",
       "<style scoped>\n",
       "    .dataframe tbody tr th:only-of-type {\n",
       "        vertical-align: middle;\n",
       "    }\n",
       "\n",
       "    .dataframe tbody tr th {\n",
       "        vertical-align: top;\n",
       "    }\n",
       "\n",
       "    .dataframe thead th {\n",
       "        text-align: right;\n",
       "    }\n",
       "</style>\n",
       "<table border=\"1\" class=\"dataframe\">\n",
       "  <thead>\n",
       "    <tr style=\"text-align: right;\">\n",
       "      <th></th>\n",
       "      <th>count</th>\n",
       "      <th>mean</th>\n",
       "      <th>std</th>\n",
       "      <th>min</th>\n",
       "      <th>25%</th>\n",
       "      <th>50%</th>\n",
       "      <th>75%</th>\n",
       "      <th>max</th>\n",
       "    </tr>\n",
       "  </thead>\n",
       "  <tbody>\n",
       "    <tr>\n",
       "      <th>text_length</th>\n",
       "      <td>16000.0</td>\n",
       "      <td>19.166313</td>\n",
       "      <td>10.986905</td>\n",
       "      <td>2.0</td>\n",
       "      <td>11.0</td>\n",
       "      <td>17.0</td>\n",
       "      <td>25.0</td>\n",
       "      <td>66.0</td>\n",
       "    </tr>\n",
       "  </tbody>\n",
       "</table>\n",
       "</div>"
      ],
      "text/plain": [
       "               count       mean        std  min   25%   50%   75%   max\n",
       "text_length  16000.0  19.166313  10.986905  2.0  11.0  17.0  25.0  66.0"
      ]
     },
     "execution_count": 10,
     "metadata": {},
     "output_type": "execute_result"
    }
   ],
   "source": [
    "length_array = [len(sent.split()) for sent in train_df['text']]\n",
    "text_length_df = pd.DataFrame(length_array, columns=[\"text_length\"])\n",
    "text_length_df.describe().transpose()"
   ]
  },
  {
   "cell_type": "code",
   "execution_count": 11,
   "id": "beea9dfd",
   "metadata": {
    "execution": {
     "iopub.execute_input": "2023-06-24T11:16:07.404189Z",
     "iopub.status.busy": "2023-06-24T11:16:07.403249Z",
     "iopub.status.idle": "2023-06-24T11:16:07.754991Z",
     "shell.execute_reply": "2023-06-24T11:16:07.754124Z"
    },
    "papermill": {
     "duration": 0.364767,
     "end_time": "2023-06-24T11:16:07.757109",
     "exception": false,
     "start_time": "2023-06-24T11:16:07.392342",
     "status": "completed"
    },
    "tags": []
   },
   "outputs": [
    {
     "data": {
      "text/plain": [
       "<Axes: ylabel='Frequency'>"
      ]
     },
     "execution_count": 11,
     "metadata": {},
     "output_type": "execute_result"
    },
    {
     "data": {
      "image/png": "[encoded data removed]",
      "text/plain": [
       "<Figure size 640x480 with 1 Axes>"
      ]
     },
     "metadata": {},
     "output_type": "display_data"
    }
   ],
   "source": [
    "text_length_df.plot(kind='hist')"
   ]
  },
  {
   "cell_type": "code",
   "execution_count": 12,
   "id": "3361e88a",
   "metadata": {
    "execution": {
     "iopub.execute_input": "2023-06-24T11:16:07.780450Z",
     "iopub.status.busy": "2023-06-24T11:16:07.779862Z",
     "iopub.status.idle": "2023-06-24T11:16:07.788329Z",
     "shell.execute_reply": "2023-06-24T11:16:07.787350Z"
    },
    "papermill": {
     "duration": 0.02222,
     "end_time": "2023-06-24T11:16:07.790440",
     "exception": false,
     "start_time": "2023-06-24T11:16:07.768220",
     "status": "completed"
    },
    "tags": []
   },
   "outputs": [
    {
     "data": {
      "text/plain": [
       "35"
      ]
     },
     "execution_count": 12,
     "metadata": {},
     "output_type": "execute_result"
    }
   ],
   "source": [
    "index_90th = int(len(length_array) * 0.90)\n",
    "sorted(length_array)[index_90th]"
   ]
  },
  {
   "cell_type": "markdown",
   "id": "defb8646",
   "metadata": {
    "papermill": {
     "duration": 0.01117,
     "end_time": "2023-06-24T11:16:07.812327",
     "exception": false,
     "start_time": "2023-06-24T11:16:07.801157",
     "status": "completed"
    },
    "tags": []
   },
   "source": [
    "📔 We'll use length `35` for out sentences as it covers `90%` of the lengths in our train dataset."
   ]
  },
  {
   "cell_type": "markdown",
   "id": "ca30b37c",
   "metadata": {
    "papermill": {
     "duration": 0.010471,
     "end_time": "2023-06-24T11:16:07.835243",
     "exception": false,
     "start_time": "2023-06-24T11:16:07.824772",
     "status": "completed"
    },
    "tags": []
   },
   "source": [
    "# Modelling\n",
    "\n",
    "* **Model 0: Multinomial Naive Bayes (baseline)**\n",
    "* **Model 1: Feedforward Neural Network**\n",
    "* **Model 2: LSTM**\n",
    "* **Model 3: GRU**\n",
    "* **Model 4: Bidirectional**\n",
    "* **Model 5: Conv1D**\n",
    "* **Model 6: USE pre-trained encoder**"
   ]
  },
  {
   "cell_type": "markdown",
   "id": "be85acc0",
   "metadata": {
    "papermill": {
     "duration": 0.010506,
     "end_time": "2023-06-24T11:16:07.857298",
     "exception": false,
     "start_time": "2023-06-24T11:16:07.846792",
     "status": "completed"
    },
    "tags": []
   },
   "source": [
    "## Loading the test dataset"
   ]
  },
  {
   "cell_type": "code",
   "execution_count": 13,
   "id": "5ceb81ab",
   "metadata": {
    "execution": {
     "iopub.execute_input": "2023-06-24T11:16:07.881228Z",
     "iopub.status.busy": "2023-06-24T11:16:07.880377Z",
     "iopub.status.idle": "2023-06-24T11:16:07.910123Z",
     "shell.execute_reply": "2023-06-24T11:16:07.909257Z"
    },
    "papermill": {
     "duration": 0.043555,
     "end_time": "2023-06-24T11:16:07.912087",
     "exception": false,
     "start_time": "2023-06-24T11:16:07.868532",
     "status": "completed"
    },
    "tags": []
   },
   "outputs": [],
   "source": [
    "TEST_DATASET_FILE_LOCATION = '/kaggle/input/emotions-dataset-for-nlp/test.txt'\n",
    "\n",
    "test_df = pd.read_csv(TRAIN_DATASET_FILE_LOCATION, sep=';', names=['text','emotion'])"
   ]
  },
  {
   "cell_type": "code",
   "execution_count": 14,
   "id": "41724f8f",
   "metadata": {
    "execution": {
     "iopub.execute_input": "2023-06-24T11:16:07.935480Z",
     "iopub.status.busy": "2023-06-24T11:16:07.934748Z",
     "iopub.status.idle": "2023-06-24T11:16:07.944466Z",
     "shell.execute_reply": "2023-06-24T11:16:07.943417Z"
    },
    "papermill": {
     "duration": 0.023434,
     "end_time": "2023-06-24T11:16:07.946365",
     "exception": false,
     "start_time": "2023-06-24T11:16:07.922931",
     "status": "completed"
    },
    "tags": []
   },
   "outputs": [
    {
     "data": {
      "text/html": [
       "<div>\n",
       "<style scoped>\n",
       "    .dataframe tbody tr th:only-of-type {\n",
       "        vertical-align: middle;\n",
       "    }\n",
       "\n",
       "    .dataframe tbody tr th {\n",
       "        vertical-align: top;\n",
       "    }\n",
       "\n",
       "    .dataframe thead th {\n",
       "        text-align: right;\n",
       "    }\n",
       "</style>\n",
       "<table border=\"1\" class=\"dataframe\">\n",
       "  <thead>\n",
       "    <tr style=\"text-align: right;\">\n",
       "      <th></th>\n",
       "      <th>text</th>\n",
       "      <th>emotion</th>\n",
       "    </tr>\n",
       "  </thead>\n",
       "  <tbody>\n",
       "    <tr>\n",
       "      <th>0</th>\n",
       "      <td>i didnt feel humiliated</td>\n",
       "      <td>sadness</td>\n",
       "    </tr>\n",
       "    <tr>\n",
       "      <th>1</th>\n",
       "      <td>i can go from feeling so hopeless to so damned...</td>\n",
       "      <td>sadness</td>\n",
       "    </tr>\n",
       "    <tr>\n",
       "      <th>2</th>\n",
       "      <td>im grabbing a minute to post i feel greedy wrong</td>\n",
       "      <td>anger</td>\n",
       "    </tr>\n",
       "    <tr>\n",
       "      <th>3</th>\n",
       "      <td>i am ever feeling nostalgic about the fireplac...</td>\n",
       "      <td>love</td>\n",
       "    </tr>\n",
       "    <tr>\n",
       "      <th>4</th>\n",
       "      <td>i am feeling grouchy</td>\n",
       "      <td>anger</td>\n",
       "    </tr>\n",
       "    <tr>\n",
       "      <th>5</th>\n",
       "      <td>ive been feeling a little burdened lately wasn...</td>\n",
       "      <td>sadness</td>\n",
       "    </tr>\n",
       "    <tr>\n",
       "      <th>6</th>\n",
       "      <td>ive been taking or milligrams or times recomme...</td>\n",
       "      <td>surprise</td>\n",
       "    </tr>\n",
       "    <tr>\n",
       "      <th>7</th>\n",
       "      <td>i feel as confused about life as a teenager or...</td>\n",
       "      <td>fear</td>\n",
       "    </tr>\n",
       "    <tr>\n",
       "      <th>8</th>\n",
       "      <td>i have been with petronas for years i feel tha...</td>\n",
       "      <td>joy</td>\n",
       "    </tr>\n",
       "    <tr>\n",
       "      <th>9</th>\n",
       "      <td>i feel romantic too</td>\n",
       "      <td>love</td>\n",
       "    </tr>\n",
       "  </tbody>\n",
       "</table>\n",
       "</div>"
      ],
      "text/plain": [
       "                                                text   emotion\n",
       "0                            i didnt feel humiliated   sadness\n",
       "1  i can go from feeling so hopeless to so damned...   sadness\n",
       "2   im grabbing a minute to post i feel greedy wrong     anger\n",
       "3  i am ever feeling nostalgic about the fireplac...      love\n",
       "4                               i am feeling grouchy     anger\n",
       "5  ive been feeling a little burdened lately wasn...   sadness\n",
       "6  ive been taking or milligrams or times recomme...  surprise\n",
       "7  i feel as confused about life as a teenager or...      fear\n",
       "8  i have been with petronas for years i feel tha...       joy\n",
       "9                                i feel romantic too      love"
      ]
     },
     "execution_count": 14,
     "metadata": {},
     "output_type": "execute_result"
    }
   ],
   "source": [
    "test_df.head(10)"
   ]
  },
  {
   "cell_type": "code",
   "execution_count": 15,
   "id": "745d2e15",
   "metadata": {
    "execution": {
     "iopub.execute_input": "2023-06-24T11:16:07.970470Z",
     "iopub.status.busy": "2023-06-24T11:16:07.969704Z",
     "iopub.status.idle": "2023-06-24T11:16:07.975644Z",
     "shell.execute_reply": "2023-06-24T11:16:07.974727Z"
    },
    "papermill": {
     "duration": 0.019868,
     "end_time": "2023-06-24T11:16:07.977522",
     "exception": false,
     "start_time": "2023-06-24T11:16:07.957654",
     "status": "completed"
    },
    "tags": []
   },
   "outputs": [
    {
     "data": {
      "text/plain": [
       "(16000, 2)"
      ]
     },
     "execution_count": 15,
     "metadata": {},
     "output_type": "execute_result"
    }
   ],
   "source": [
    "test_df.shape"
   ]
  },
  {
   "cell_type": "code",
   "execution_count": 16,
   "id": "f84fd914",
   "metadata": {
    "execution": {
     "iopub.execute_input": "2023-06-24T11:16:08.001849Z",
     "iopub.status.busy": "2023-06-24T11:16:08.001123Z",
     "iopub.status.idle": "2023-06-24T11:16:08.010863Z",
     "shell.execute_reply": "2023-06-24T11:16:08.009915Z"
    },
    "papermill": {
     "duration": 0.023456,
     "end_time": "2023-06-24T11:16:08.012753",
     "exception": false,
     "start_time": "2023-06-24T11:16:07.989297",
     "status": "completed"
    },
    "tags": []
   },
   "outputs": [
    {
     "data": {
      "text/plain": [
       "(joy         5362\n",
       " sadness     4666\n",
       " anger       2159\n",
       " fear        1937\n",
       " love        1304\n",
       " surprise     572\n",
       " Name: emotion, dtype: int64,\n",
       " joy         0.335125\n",
       " sadness     0.291625\n",
       " anger       0.134937\n",
       " fear        0.121063\n",
       " love        0.081500\n",
       " surprise    0.035750\n",
       " Name: emotion, dtype: float64)"
      ]
     },
     "execution_count": 16,
     "metadata": {},
     "output_type": "execute_result"
    }
   ],
   "source": [
    "tally_test_df = test_df['emotion'].value_counts()\n",
    "\n",
    "tally_test_df, tally_test_df/sum(tally_test_df)"
   ]
  },
  {
   "cell_type": "code",
   "execution_count": 17,
   "id": "a52d407d",
   "metadata": {
    "execution": {
     "iopub.execute_input": "2023-06-24T11:16:08.038315Z",
     "iopub.status.busy": "2023-06-24T11:16:08.037622Z",
     "iopub.status.idle": "2023-06-24T11:16:08.045063Z",
     "shell.execute_reply": "2023-06-24T11:16:08.044172Z"
    },
    "papermill": {
     "duration": 0.021627,
     "end_time": "2023-06-24T11:16:08.046971",
     "exception": false,
     "start_time": "2023-06-24T11:16:08.025344",
     "status": "completed"
    },
    "tags": []
   },
   "outputs": [
    {
     "data": {
      "text/plain": [
       "(0                              i didnt feel humiliated\n",
       " 1    i can go from feeling so hopeless to so damned...\n",
       " 2     im grabbing a minute to post i feel greedy wrong\n",
       " 3    i am ever feeling nostalgic about the fireplac...\n",
       " 4                                 i am feeling grouchy\n",
       " Name: text, dtype: object,\n",
       " 0    sadness\n",
       " 1    sadness\n",
       " 2      anger\n",
       " 3       love\n",
       " 4      anger\n",
       " Name: emotion, dtype: object)"
      ]
     },
     "execution_count": 17,
     "metadata": {},
     "output_type": "execute_result"
    }
   ],
   "source": [
    "X_test, y_test = test_df['text'], test_df['emotion']\n",
    "\n",
    "X_test.head(), y_test.head()"
   ]
  },
  {
   "cell_type": "markdown",
   "id": "ac2c8dd7",
   "metadata": {
    "papermill": {
     "duration": 0.011581,
     "end_time": "2023-06-24T11:16:08.069866",
     "exception": false,
     "start_time": "2023-06-24T11:16:08.058285",
     "status": "completed"
    },
    "tags": []
   },
   "source": [
    "## Baseline model: Multinomial Naive Bayes"
   ]
  },
  {
   "cell_type": "code",
   "execution_count": 18,
   "id": "330c9664",
   "metadata": {
    "execution": {
     "iopub.execute_input": "2023-06-24T11:16:08.095784Z",
     "iopub.status.busy": "2023-06-24T11:16:08.095220Z",
     "iopub.status.idle": "2023-06-24T11:16:08.103516Z",
     "shell.execute_reply": "2023-06-24T11:16:08.102441Z"
    },
    "papermill": {
     "duration": 0.023558,
     "end_time": "2023-06-24T11:16:08.105625",
     "exception": false,
     "start_time": "2023-06-24T11:16:08.082067",
     "status": "completed"
    },
    "tags": []
   },
   "outputs": [
    {
     "data": {
      "text/plain": [
       "(0                              i didnt feel humiliated\n",
       " 1    i can go from feeling so hopeless to so damned...\n",
       " 2     im grabbing a minute to post i feel greedy wrong\n",
       " 3    i am ever feeling nostalgic about the fireplac...\n",
       " 4                                 i am feeling grouchy\n",
       " 5    ive been feeling a little burdened lately wasn...\n",
       " 6    ive been taking or milligrams or times recomme...\n",
       " 7    i feel as confused about life as a teenager or...\n",
       " 8    i have been with petronas for years i feel tha...\n",
       " 9                                  i feel romantic too\n",
       " Name: text, dtype: object,\n",
       " 0     sadness\n",
       " 1     sadness\n",
       " 2       anger\n",
       " 3        love\n",
       " 4       anger\n",
       " 5     sadness\n",
       " 6    surprise\n",
       " 7        fear\n",
       " 8         joy\n",
       " 9        love\n",
       " Name: emotion, dtype: object)"
      ]
     },
     "execution_count": 18,
     "metadata": {},
     "output_type": "execute_result"
    }
   ],
   "source": [
    "X_train, y_train = train_df['text'], train_df['emotion']\n",
    "\n",
    "X_train.head(10), y_train.head(10)"
   ]
  },
  {
   "cell_type": "code",
   "execution_count": 19,
   "id": "ead5c655",
   "metadata": {
    "execution": {
     "iopub.execute_input": "2023-06-24T11:16:08.131438Z",
     "iopub.status.busy": "2023-06-24T11:16:08.130710Z",
     "iopub.status.idle": "2023-06-24T11:16:08.138102Z",
     "shell.execute_reply": "2023-06-24T11:16:08.137179Z"
    },
    "papermill": {
     "duration": 0.022286,
     "end_time": "2023-06-24T11:16:08.140063",
     "exception": false,
     "start_time": "2023-06-24T11:16:08.117777",
     "status": "completed"
    },
    "tags": []
   },
   "outputs": [
    {
     "data": {
      "text/plain": [
       "(0    im feeling quite sad and sorry for myself but ...\n",
       " 1    i feel like i am still looking at a blank canv...\n",
       " 2                       i feel like a faithful servant\n",
       " 3                    i am just feeling cranky and blue\n",
       " 4    i can have for a treat or if i am feeling festive\n",
       " 5    i start to feel more appreciative of what god ...\n",
       " 6    i am feeling more confident that we will be ab...\n",
       " 7    i feel incredibly lucky just to be able to tal...\n",
       " 8            i feel less keen about the army every day\n",
       " 9             i feel dirty and ashamed for saying that\n",
       " Name: text, dtype: object,\n",
       " 0    sadness\n",
       " 1    sadness\n",
       " 2       love\n",
       " 3      anger\n",
       " 4        joy\n",
       " 5        joy\n",
       " 6        joy\n",
       " 7        joy\n",
       " 8        joy\n",
       " 9    sadness\n",
       " Name: emotion, dtype: object)"
      ]
     },
     "execution_count": 19,
     "metadata": {},
     "output_type": "execute_result"
    }
   ],
   "source": [
    "X_val, y_val = val_df['text'], val_df['emotion']\n",
    "\n",
    "X_val.head(10), y_val.head(10)"
   ]
  },
  {
   "cell_type": "markdown",
   "id": "6becdfad",
   "metadata": {
    "papermill": {
     "duration": 0.011512,
     "end_time": "2023-06-24T11:16:08.163782",
     "exception": false,
     "start_time": "2023-06-24T11:16:08.152270",
     "status": "completed"
    },
    "tags": []
   },
   "source": [
    "### TF-IDF Vectorizer"
   ]
  },
  {
   "cell_type": "code",
   "execution_count": 20,
   "id": "07d3d1ce",
   "metadata": {
    "execution": {
     "iopub.execute_input": "2023-06-24T11:16:08.189095Z",
     "iopub.status.busy": "2023-06-24T11:16:08.188457Z",
     "iopub.status.idle": "2023-06-24T11:16:09.723370Z",
     "shell.execute_reply": "2023-06-24T11:16:09.722361Z"
    },
    "papermill": {
     "duration": 1.550152,
     "end_time": "2023-06-24T11:16:09.725665",
     "exception": false,
     "start_time": "2023-06-24T11:16:08.175513",
     "status": "completed"
    },
    "tags": []
   },
   "outputs": [
    {
     "data": {
      "text/plain": [
       "(15186,)"
      ]
     },
     "execution_count": 20,
     "metadata": {},
     "output_type": "execute_result"
    }
   ],
   "source": [
    "from sklearn.feature_extraction.text import TfidfVectorizer\n",
    "\n",
    "tfidf_vectorizer = TfidfVectorizer()\n",
    "tfidf_vectorizer.fit(X_train)\n",
    "\n",
    "vocabulary = tfidf_vectorizer.get_feature_names_out()\n",
    "vocabulary.shape"
   ]
  },
  {
   "cell_type": "code",
   "execution_count": 21,
   "id": "c4ec9253",
   "metadata": {
    "execution": {
     "iopub.execute_input": "2023-06-24T11:16:09.751706Z",
     "iopub.status.busy": "2023-06-24T11:16:09.751170Z",
     "iopub.status.idle": "2023-06-24T11:16:11.045427Z",
     "shell.execute_reply": "2023-06-24T11:16:11.044543Z"
    },
    "papermill": {
     "duration": 1.309536,
     "end_time": "2023-06-24T11:16:11.047470",
     "exception": false,
     "start_time": "2023-06-24T11:16:09.737934",
     "status": "completed"
    },
    "tags": []
   },
   "outputs": [
    {
     "data": {
      "text/plain": [
       "(16000, 15186)"
      ]
     },
     "execution_count": 21,
     "metadata": {},
     "output_type": "execute_result"
    }
   ],
   "source": [
    "vectorized_X_train = tfidf_vectorizer.transform(X_train)\n",
    "\n",
    "vectorized_X_train.toarray().shape"
   ]
  },
  {
   "cell_type": "code",
   "execution_count": 22,
   "id": "af25c5e5",
   "metadata": {
    "execution": {
     "iopub.execute_input": "2023-06-24T11:16:11.073738Z",
     "iopub.status.busy": "2023-06-24T11:16:11.073443Z",
     "iopub.status.idle": "2023-06-24T11:16:11.986280Z",
     "shell.execute_reply": "2023-06-24T11:16:11.985310Z"
    },
    "papermill": {
     "duration": 0.928721,
     "end_time": "2023-06-24T11:16:11.988543",
     "exception": false,
     "start_time": "2023-06-24T11:16:11.059822",
     "status": "completed"
    },
    "tags": []
   },
   "outputs": [
    {
     "data": {
      "text/plain": [
       "array([[0., 0., 0., ..., 0., 0., 0.],\n",
       "       [0., 0., 0., ..., 0., 0., 0.],\n",
       "       [0., 0., 0., ..., 0., 0., 0.],\n",
       "       [0., 0., 0., ..., 0., 0., 0.],\n",
       "       [0., 0., 0., ..., 0., 0., 0.]])"
      ]
     },
     "execution_count": 22,
     "metadata": {},
     "output_type": "execute_result"
    }
   ],
   "source": [
    "vectorized_X_train.toarray()[:5]"
   ]
  },
  {
   "cell_type": "markdown",
   "id": "dfd561db",
   "metadata": {
    "papermill": {
     "duration": 0.012871,
     "end_time": "2023-06-24T11:16:12.014370",
     "exception": false,
     "start_time": "2023-06-24T11:16:12.001499",
     "status": "completed"
    },
    "tags": []
   },
   "source": [
    "### The Multinomial Naive Bayes Classifier"
   ]
  },
  {
   "cell_type": "code",
   "execution_count": 23,
   "id": "9f0d8cc7",
   "metadata": {
    "execution": {
     "iopub.execute_input": "2023-06-24T11:16:12.040109Z",
     "iopub.status.busy": "2023-06-24T11:16:12.039802Z",
     "iopub.status.idle": "2023-06-24T11:16:12.067983Z",
     "shell.execute_reply": "2023-06-24T11:16:12.067015Z"
    },
    "papermill": {
     "duration": 0.043433,
     "end_time": "2023-06-24T11:16:12.070135",
     "exception": false,
     "start_time": "2023-06-24T11:16:12.026702",
     "status": "completed"
    },
    "tags": []
   },
   "outputs": [
    {
     "data": {
      "text/html": [
       "<style>#sk-container-id-1 {color: black;background-color: white;}#sk-container-id-1 pre{padding: 0;}#sk-container-id-1 div.sk-toggleable {background-color: white;}#sk-container-id-1 label.sk-toggleable__label {cursor: pointer;display: block;width: 100%;margin-bottom: 0;padding: 0.3em;box-sizing: border-box;text-align: center;}#sk-container-id-1 label.sk-toggleable__label-arrow:before {content: \"▸\";float: left;margin-right: 0.25em;color: #696969;}#sk-container-id-1 label.sk-toggleable__label-arrow:hover:before {color: black;}#sk-container-id-1 div.sk-estimator:hover label.sk-toggleable__label-arrow:before {color: black;}#sk-container-id-1 div.sk-toggleable__content {max-height: 0;max-width: 0;overflow: hidden;text-align: left;background-color: #f0f8ff;}#sk-container-id-1 div.sk-toggleable__content pre {margin: 0.2em;color: black;border-radius: 0.25em;background-color: #f0f8ff;}#sk-container-id-1 input.sk-toggleable__control:checked~div.sk-toggleable__content {max-height: 200px;max-width: 100%;overflow: auto;}#sk-container-id-1 input.sk-toggleable__control:checked~label.sk-toggleable__label-arrow:before {content: \"▾\";}#sk-container-id-1 div.sk-estimator input.sk-toggleable__control:checked~label.sk-toggleable__label {background-color: #d4ebff;}#sk-container-id-1 div.sk-label input.sk-toggleable__control:checked~label.sk-toggleable__label {background-color: #d4ebff;}#sk-container-id-1 input.sk-hidden--visually {border: 0;clip: rect(1px 1px 1px 1px);clip: rect(1px, 1px, 1px, 1px);height: 1px;margin: -1px;overflow: hidden;padding: 0;position: absolute;width: 1px;}#sk-container-id-1 div.sk-estimator {font-family: monospace;background-color: #f0f8ff;border: 1px dotted black;border-radius: 0.25em;box-sizing: border-box;margin-bottom: 0.5em;}#sk-container-id-1 div.sk-estimator:hover {background-color: #d4ebff;}#sk-container-id-1 div.sk-parallel-item::after {content: \"\";width: 100%;border-bottom: 1px solid gray;flex-grow: 1;}#sk-container-id-1 div.sk-label:hover label.sk-toggleable__label {background-color: #d4ebff;}#sk-container-id-1 div.sk-serial::before {content: \"\";position: absolute;border-left: 1px solid gray;box-sizing: border-box;top: 0;bottom: 0;left: 50%;z-index: 0;}#sk-container-id-1 div.sk-serial {display: flex;flex-direction: column;align-items: center;background-color: white;padding-right: 0.2em;padding-left: 0.2em;position: relative;}#sk-container-id-1 div.sk-item {position: relative;z-index: 1;}#sk-container-id-1 div.sk-parallel {display: flex;align-items: stretch;justify-content: center;background-color: white;position: relative;}#sk-container-id-1 div.sk-item::before, #sk-container-id-1 div.sk-parallel-item::before {content: \"\";position: absolute;border-left: 1px solid gray;box-sizing: border-box;top: 0;bottom: 0;left: 50%;z-index: -1;}#sk-container-id-1 div.sk-parallel-item {display: flex;flex-direction: column;z-index: 1;position: relative;background-color: white;}#sk-container-id-1 div.sk-parallel-item:first-child::after {align-self: flex-end;width: 50%;}#sk-container-id-1 div.sk-parallel-item:last-child::after {align-self: flex-start;width: 50%;}#sk-container-id-1 div.sk-parallel-item:only-child::after {width: 0;}#sk-container-id-1 div.sk-dashed-wrapped {border: 1px dashed gray;margin: 0 0.4em 0.5em 0.4em;box-sizing: border-box;padding-bottom: 0.4em;background-color: white;}#sk-container-id-1 div.sk-label label {font-family: monospace;font-weight: bold;display: inline-block;line-height: 1.2em;}#sk-container-id-1 div.sk-label-container {text-align: center;}#sk-container-id-1 div.sk-container {/* jupyter's `normalize.less` sets `[hidden] { display: none; }` but bootstrap.min.css set `[hidden] { display: none !important; }` so we also need the `!important` here to be able to override the default hidden behavior on the sphinx rendered scikit-learn.org. See: https://github.com/scikit-learn/scikit-learn/issues/21755 */display: inline-block !important;position: relative;}#sk-container-id-1 div.sk-text-repr-fallback {display: none;}</style><div id=\"sk-container-id-1\" class=\"sk-top-container\"><div class=\"sk-text-repr-fallback\"><pre>Pipeline(steps=[(&#x27;vectorizer&#x27;, TfidfVectorizer()), (&#x27;clf&#x27;, MultinomialNB())])</pre><b>In a Jupyter environment, please rerun this cell to show the HTML representation or trust the notebook. <br />On GitHub, the HTML representation is unable to render, please try loading this page with nbviewer.org.</b></div><div class=\"sk-container\" hidden><div class=\"sk-item sk-dashed-wrapped\"><div class=\"sk-label-container\"><div class=\"sk-label sk-toggleable\"><input class=\"sk-toggleable__control sk-hidden--visually\" id=\"sk-estimator-id-1\" type=\"checkbox\" ><label for=\"sk-estimator-id-1\" class=\"sk-toggleable__label sk-toggleable__label-arrow\">Pipeline</label><div class=\"sk-toggleable__content\"><pre>Pipeline(steps=[(&#x27;vectorizer&#x27;, TfidfVectorizer()), (&#x27;clf&#x27;, MultinomialNB())])</pre></div></div></div><div class=\"sk-serial\"><div class=\"sk-item\"><div class=\"sk-estimator sk-toggleable\"><input class=\"sk-toggleable__control sk-hidden--visually\" id=\"sk-estimator-id-2\" type=\"checkbox\" ><label for=\"sk-estimator-id-2\" class=\"sk-toggleable__label sk-toggleable__label-arrow\">TfidfVectorizer</label><div class=\"sk-toggleable__content\"><pre>TfidfVectorizer()</pre></div></div></div><div class=\"sk-item\"><div class=\"sk-estimator sk-toggleable\"><input class=\"sk-toggleable__control sk-hidden--visually\" id=\"sk-estimator-id-3\" type=\"checkbox\" ><label for=\"sk-estimator-id-3\" class=\"sk-toggleable__label sk-toggleable__label-arrow\">MultinomialNB</label><div class=\"sk-toggleable__content\"><pre>MultinomialNB()</pre></div></div></div></div></div></div></div>"
      ],
      "text/plain": [
       "Pipeline(steps=[('vectorizer', TfidfVectorizer()), ('clf', MultinomialNB())])"
      ]
     },
     "execution_count": 23,
     "metadata": {},
     "output_type": "execute_result"
    }
   ],
   "source": [
    "from sklearn.pipeline import Pipeline\n",
    "from sklearn.naive_bayes import MultinomialNB\n",
    "\n",
    "model_0 = Pipeline([\n",
    "    ('vectorizer', TfidfVectorizer()),\n",
    "    ('clf', MultinomialNB())\n",
    "])\n",
    "\n",
    "model_0"
   ]
  },
  {
   "cell_type": "code",
   "execution_count": 24,
   "id": "0127cf70",
   "metadata": {
    "execution": {
     "iopub.execute_input": "2023-06-24T11:16:12.097023Z",
     "iopub.status.busy": "2023-06-24T11:16:12.096754Z",
     "iopub.status.idle": "2023-06-24T11:16:12.612007Z",
     "shell.execute_reply": "2023-06-24T11:16:12.610969Z"
    },
    "papermill": {
     "duration": 0.53108,
     "end_time": "2023-06-24T11:16:12.614351",
     "exception": false,
     "start_time": "2023-06-24T11:16:12.083271",
     "status": "completed"
    },
    "tags": []
   },
   "outputs": [
    {
     "data": {
      "text/html": [
       "<style>#sk-container-id-2 {color: black;background-color: white;}#sk-container-id-2 pre{padding: 0;}#sk-container-id-2 div.sk-toggleable {background-color: white;}#sk-container-id-2 label.sk-toggleable__label {cursor: pointer;display: block;width: 100%;margin-bottom: 0;padding: 0.3em;box-sizing: border-box;text-align: center;}#sk-container-id-2 label.sk-toggleable__label-arrow:before {content: \"▸\";float: left;margin-right: 0.25em;color: #696969;}#sk-container-id-2 label.sk-toggleable__label-arrow:hover:before {color: black;}#sk-container-id-2 div.sk-estimator:hover label.sk-toggleable__label-arrow:before {color: black;}#sk-container-id-2 div.sk-toggleable__content {max-height: 0;max-width: 0;overflow: hidden;text-align: left;background-color: #f0f8ff;}#sk-container-id-2 div.sk-toggleable__content pre {margin: 0.2em;color: black;border-radius: 0.25em;background-color: #f0f8ff;}#sk-container-id-2 input.sk-toggleable__control:checked~div.sk-toggleable__content {max-height: 200px;max-width: 100%;overflow: auto;}#sk-container-id-2 input.sk-toggleable__control:checked~label.sk-toggleable__label-arrow:before {content: \"▾\";}#sk-container-id-2 div.sk-estimator input.sk-toggleable__control:checked~label.sk-toggleable__label {background-color: #d4ebff;}#sk-container-id-2 div.sk-label input.sk-toggleable__control:checked~label.sk-toggleable__label {background-color: #d4ebff;}#sk-container-id-2 input.sk-hidden--visually {border: 0;clip: rect(1px 1px 1px 1px);clip: rect(1px, 1px, 1px, 1px);height: 1px;margin: -1px;overflow: hidden;padding: 0;position: absolute;width: 1px;}#sk-container-id-2 div.sk-estimator {font-family: monospace;background-color: #f0f8ff;border: 1px dotted black;border-radius: 0.25em;box-sizing: border-box;margin-bottom: 0.5em;}#sk-container-id-2 div.sk-estimator:hover {background-color: #d4ebff;}#sk-container-id-2 div.sk-parallel-item::after {content: \"\";width: 100%;border-bottom: 1px solid gray;flex-grow: 1;}#sk-container-id-2 div.sk-label:hover label.sk-toggleable__label {background-color: #d4ebff;}#sk-container-id-2 div.sk-serial::before {content: \"\";position: absolute;border-left: 1px solid gray;box-sizing: border-box;top: 0;bottom: 0;left: 50%;z-index: 0;}#sk-container-id-2 div.sk-serial {display: flex;flex-direction: column;align-items: center;background-color: white;padding-right: 0.2em;padding-left: 0.2em;position: relative;}#sk-container-id-2 div.sk-item {position: relative;z-index: 1;}#sk-container-id-2 div.sk-parallel {display: flex;align-items: stretch;justify-content: center;background-color: white;position: relative;}#sk-container-id-2 div.sk-item::before, #sk-container-id-2 div.sk-parallel-item::before {content: \"\";position: absolute;border-left: 1px solid gray;box-sizing: border-box;top: 0;bottom: 0;left: 50%;z-index: -1;}#sk-container-id-2 div.sk-parallel-item {display: flex;flex-direction: column;z-index: 1;position: relative;background-color: white;}#sk-container-id-2 div.sk-parallel-item:first-child::after {align-self: flex-end;width: 50%;}#sk-container-id-2 div.sk-parallel-item:last-child::after {align-self: flex-start;width: 50%;}#sk-container-id-2 div.sk-parallel-item:only-child::after {width: 0;}#sk-container-id-2 div.sk-dashed-wrapped {border: 1px dashed gray;margin: 0 0.4em 0.5em 0.4em;box-sizing: border-box;padding-bottom: 0.4em;background-color: white;}#sk-container-id-2 div.sk-label label {font-family: monospace;font-weight: bold;display: inline-block;line-height: 1.2em;}#sk-container-id-2 div.sk-label-container {text-align: center;}#sk-container-id-2 div.sk-container {/* jupyter's `normalize.less` sets `[hidden] { display: none; }` but bootstrap.min.css set `[hidden] { display: none !important; }` so we also need the `!important` here to be able to override the default hidden behavior on the sphinx rendered scikit-learn.org. See: https://github.com/scikit-learn/scikit-learn/issues/21755 */display: inline-block !important;position: relative;}#sk-container-id-2 div.sk-text-repr-fallback {display: none;}</style><div id=\"sk-container-id-2\" class=\"sk-top-container\"><div class=\"sk-text-repr-fallback\"><pre>Pipeline(steps=[(&#x27;vectorizer&#x27;, TfidfVectorizer()), (&#x27;clf&#x27;, MultinomialNB())])</pre><b>In a Jupyter environment, please rerun this cell to show the HTML representation or trust the notebook. <br />On GitHub, the HTML representation is unable to render, please try loading this page with nbviewer.org.</b></div><div class=\"sk-container\" hidden><div class=\"sk-item sk-dashed-wrapped\"><div class=\"sk-label-container\"><div class=\"sk-label sk-toggleable\"><input class=\"sk-toggleable__control sk-hidden--visually\" id=\"sk-estimator-id-4\" type=\"checkbox\" ><label for=\"sk-estimator-id-4\" class=\"sk-toggleable__label sk-toggleable__label-arrow\">Pipeline</label><div class=\"sk-toggleable__content\"><pre>Pipeline(steps=[(&#x27;vectorizer&#x27;, TfidfVectorizer()), (&#x27;clf&#x27;, MultinomialNB())])</pre></div></div></div><div class=\"sk-serial\"><div class=\"sk-item\"><div class=\"sk-estimator sk-toggleable\"><input class=\"sk-toggleable__control sk-hidden--visually\" id=\"sk-estimator-id-5\" type=\"checkbox\" ><label for=\"sk-estimator-id-5\" class=\"sk-toggleable__label sk-toggleable__label-arrow\">TfidfVectorizer</label><div class=\"sk-toggleable__content\"><pre>TfidfVectorizer()</pre></div></div></div><div class=\"sk-item\"><div class=\"sk-estimator sk-toggleable\"><input class=\"sk-toggleable__control sk-hidden--visually\" id=\"sk-estimator-id-6\" type=\"checkbox\" ><label for=\"sk-estimator-id-6\" class=\"sk-toggleable__label sk-toggleable__label-arrow\">MultinomialNB</label><div class=\"sk-toggleable__content\"><pre>MultinomialNB()</pre></div></div></div></div></div></div></div>"
      ],
      "text/plain": [
       "Pipeline(steps=[('vectorizer', TfidfVectorizer()), ('clf', MultinomialNB())])"
      ]
     },
     "execution_count": 24,
     "metadata": {},
     "output_type": "execute_result"
    }
   ],
   "source": [
    "model_0.fit(X_train, y_train) # TODO: Add validation data"
   ]
  },
  {
   "cell_type": "code",
   "execution_count": 25,
   "id": "bb1616aa",
   "metadata": {
    "execution": {
     "iopub.execute_input": "2023-06-24T11:16:12.646066Z",
     "iopub.status.busy": "2023-06-24T11:16:12.645716Z",
     "iopub.status.idle": "2023-06-24T11:16:13.019328Z",
     "shell.execute_reply": "2023-06-24T11:16:13.018320Z"
    },
    "papermill": {
     "duration": 0.391923,
     "end_time": "2023-06-24T11:16:13.021822",
     "exception": false,
     "start_time": "2023-06-24T11:16:12.629899",
     "status": "completed"
    },
    "tags": []
   },
   "outputs": [
    {
     "data": {
      "text/plain": [
       "array(['sadness', 'sadness', 'anger', ..., 'joy', 'joy', 'sadness'],\n",
       "      dtype='<U8')"
      ]
     },
     "execution_count": 25,
     "metadata": {},
     "output_type": "execute_result"
    }
   ],
   "source": [
    "model_0_predictions = model_0.predict(X_test)\n",
    "\n",
    "model_0_predictions"
   ]
  },
  {
   "cell_type": "code",
   "execution_count": 26,
   "id": "43a5e0ae",
   "metadata": {
    "execution": {
     "iopub.execute_input": "2023-06-24T11:16:13.050212Z",
     "iopub.status.busy": "2023-06-24T11:16:13.048620Z",
     "iopub.status.idle": "2023-06-24T11:16:13.574272Z",
     "shell.execute_reply": "2023-06-24T11:16:13.573294Z"
    },
    "papermill": {
     "duration": 0.541342,
     "end_time": "2023-06-24T11:16:13.576439",
     "exception": false,
     "start_time": "2023-06-24T11:16:13.035097",
     "status": "completed"
    },
    "tags": []
   },
   "outputs": [
    {
     "data": {
      "image/png": "[encoded data removed]",
      "text/plain": [
       "<Figure size 640x480 with 2 Axes>"
      ]
     },
     "metadata": {},
     "output_type": "display_data"
    }
   ],
   "source": [
    "from sklearn.metrics import confusion_matrix, ConfusionMatrixDisplay\n",
    "\n",
    "def show_confusion_matrix(y_true, y_predictions):\n",
    "    cm = confusion_matrix(y_true, y_predictions, \n",
    "                          normalize='true',\n",
    "                          labels=CLASSES)\n",
    "    ConfusionMatrixDisplay(\n",
    "        confusion_matrix=cm, \n",
    "        display_labels=CLASSES\n",
    "    ).plot(cmap='Greens')\n",
    "\n",
    "show_confusion_matrix(y_test, model_0_predictions)"
   ]
  },
  {
   "cell_type": "code",
   "execution_count": 27,
   "id": "0f8c3e23",
   "metadata": {
    "execution": {
     "iopub.execute_input": "2023-06-24T11:16:13.606113Z",
     "iopub.status.busy": "2023-06-24T11:16:13.604677Z",
     "iopub.status.idle": "2023-06-24T11:16:13.671370Z",
     "shell.execute_reply": "2023-06-24T11:16:13.670311Z"
    },
    "papermill": {
     "duration": 0.083442,
     "end_time": "2023-06-24T11:16:13.673467",
     "exception": false,
     "start_time": "2023-06-24T11:16:13.590025",
     "status": "completed"
    },
    "tags": []
   },
   "outputs": [
    {
     "data": {
      "text/plain": [
       "{'accuracy': 0.42477054845941226}"
      ]
     },
     "execution_count": 27,
     "metadata": {},
     "output_type": "execute_result"
    }
   ],
   "source": [
    "from sklearn.metrics import balanced_accuracy_score\n",
    "\n",
    "def score_predictions(y_true, y_pred):\n",
    "    return {\n",
    "        'accuracy': balanced_accuracy_score(y_true, y_pred)\n",
    "    }\n",
    "\n",
    "score_predictions(y_test, model_0_predictions)"
   ]
  },
  {
   "cell_type": "code",
   "execution_count": null,
   "id": "11944f77",
   "metadata": {
    "papermill": {
     "duration": 0.013395,
     "end_time": "2023-06-24T11:16:13.701195",
     "exception": false,
     "start_time": "2023-06-24T11:16:13.687800",
     "status": "completed"
    },
    "tags": []
   },
   "outputs": [],
   "source": []
  }
 ],
 "metadata": {
  "kernelspec": {
   "display_name": "Python 3",
   "language": "python",
   "name": "python3"
  },
  "language_info": {
   "codemirror_mode": {
    "name": "ipython",
    "version": 3
   },
   "file_extension": ".py",
   "mimetype": "text/x-python",
   "name": "python",
   "nbconvert_exporter": "python",
   "pygments_lexer": "ipython3",
   "version": "3.10.10"
  },
  "papermill": {
   "default_parameters": {},
   "duration": 19.02329,
   "end_time": "2023-06-24T11:16:14.434014",
   "environment_variables": {},
   "exception": null,
   "input_path": "__notebook__.ipynb",
   "output_path": "__notebook__.ipynb",
   "parameters": {},
   "start_time": "2023-06-24T11:15:55.410724",
   "version": "2.4.0"
  }
 },
 "nbformat": 4,
 "nbformat_minor": 5
}
