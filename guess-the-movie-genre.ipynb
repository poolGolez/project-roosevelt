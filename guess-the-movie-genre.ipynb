{
 "cells": [
  {
   "cell_type": "code",
   "execution_count": 1,
   "id": "dc81efc7",
   "metadata": {
    "_cell_guid": "b1076dfc-b9ad-4769-8c92-a6c4dae69d19",
    "_uuid": "8f2839f25d086af736a60e9eeb907d3b93b6e0e5",
    "execution": {
     "iopub.execute_input": "2023-08-12T02:29:47.050234Z",
     "iopub.status.busy": "2023-08-12T02:29:47.049836Z",
     "iopub.status.idle": "2023-08-12T02:29:58.363308Z",
     "shell.execute_reply": "2023-08-12T02:29:58.362323Z"
    },
    "papermill": {
     "duration": 11.327848,
     "end_time": "2023-08-12T02:29:58.365832",
     "exception": false,
     "start_time": "2023-08-12T02:29:47.037984",
     "status": "completed"
    },
    "tags": []
   },
   "outputs": [
    {
     "name": "stderr",
     "output_type": "stream",
     "text": [
      "/opt/conda/lib/python3.10/site-packages/scipy/__init__.py:146: UserWarning: A NumPy version >=1.16.5 and <1.23.0 is required for this version of SciPy (detected version 1.23.5\n",
      "  warnings.warn(f\"A NumPy version >={np_minversion} and <{np_maxversion}\"\n",
      "/opt/conda/lib/python3.10/site-packages/tensorflow_io/python/ops/__init__.py:98: UserWarning: unable to load libtensorflow_io_plugins.so: unable to open file: libtensorflow_io_plugins.so, from paths: ['/opt/conda/lib/python3.10/site-packages/tensorflow_io/python/ops/libtensorflow_io_plugins.so']\n",
      "caused by: ['/opt/conda/lib/python3.10/site-packages/tensorflow_io/python/ops/libtensorflow_io_plugins.so: undefined symbol: _ZN3tsl6StatusC1EN10tensorflow5error4CodeESt17basic_string_viewIcSt11char_traitsIcEENS_14SourceLocationE']\n",
      "  warnings.warn(f\"unable to load libtensorflow_io_plugins.so: {e}\")\n",
      "/opt/conda/lib/python3.10/site-packages/tensorflow_io/python/ops/__init__.py:104: UserWarning: file system plugins are not loaded: unable to open file: libtensorflow_io.so, from paths: ['/opt/conda/lib/python3.10/site-packages/tensorflow_io/python/ops/libtensorflow_io.so']\n",
      "caused by: ['/opt/conda/lib/python3.10/site-packages/tensorflow_io/python/ops/libtensorflow_io.so: undefined symbol: _ZTVN10tensorflow13GcsFileSystemE']\n",
      "  warnings.warn(f\"file system plugins are not loaded: {e}\")\n"
     ]
    }
   ],
   "source": [
    "import numpy as np\n",
    "import pandas as pd\n",
    "import sklearn\n",
    "import tensorflow as tf"
   ]
  },
  {
   "cell_type": "markdown",
   "id": "fa63ccd7",
   "metadata": {
    "papermill": {
     "duration": 0.009461,
     "end_time": "2023-08-12T02:29:58.385260",
     "exception": false,
     "start_time": "2023-08-12T02:29:58.375799",
     "status": "completed"
    },
    "tags": []
   },
   "source": [
    "# Data Ingestion"
   ]
  },
  {
   "cell_type": "markdown",
   "id": "31072eb7",
   "metadata": {
    "papermill": {
     "duration": 0.009527,
     "end_time": "2023-08-12T02:29:58.404614",
     "exception": false,
     "start_time": "2023-08-12T02:29:58.395087",
     "status": "completed"
    },
    "tags": []
   },
   "source": [
    "## Train Set"
   ]
  },
  {
   "cell_type": "code",
   "execution_count": 2,
   "id": "909217e6",
   "metadata": {
    "execution": {
     "iopub.execute_input": "2023-08-12T02:29:58.427264Z",
     "iopub.status.busy": "2023-08-12T02:29:58.425291Z",
     "iopub.status.idle": "2023-08-12T02:29:58.719712Z",
     "shell.execute_reply": "2023-08-12T02:29:58.718741Z"
    },
    "papermill": {
     "duration": 0.308043,
     "end_time": "2023-08-12T02:29:58.722244",
     "exception": false,
     "start_time": "2023-08-12T02:29:58.414201",
     "status": "completed"
    },
    "tags": []
   },
   "outputs": [],
   "source": [
    "TRAIN_FILE_LOCATION = '/kaggle/input/movie-genre-prediction/train.csv'\n",
    "\n",
    "train_df = pd.read_csv(TRAIN_FILE_LOCATION)"
   ]
  },
  {
   "cell_type": "code",
   "execution_count": 3,
   "id": "beadfd3d",
   "metadata": {
    "execution": {
     "iopub.execute_input": "2023-08-12T02:29:58.745048Z",
     "iopub.status.busy": "2023-08-12T02:29:58.743319Z",
     "iopub.status.idle": "2023-08-12T02:29:58.764275Z",
     "shell.execute_reply": "2023-08-12T02:29:58.763336Z"
    },
    "papermill": {
     "duration": 0.03429,
     "end_time": "2023-08-12T02:29:58.766370",
     "exception": false,
     "start_time": "2023-08-12T02:29:58.732080",
     "status": "completed"
    },
    "tags": []
   },
   "outputs": [
    {
     "name": "stdout",
     "output_type": "stream",
     "text": [
      "Size of training set: 54000\n"
     ]
    },
    {
     "data": {
      "text/html": [
       "<div>\n",
       "<style scoped>\n",
       "    .dataframe tbody tr th:only-of-type {\n",
       "        vertical-align: middle;\n",
       "    }\n",
       "\n",
       "    .dataframe tbody tr th {\n",
       "        vertical-align: top;\n",
       "    }\n",
       "\n",
       "    .dataframe thead th {\n",
       "        text-align: right;\n",
       "    }\n",
       "</style>\n",
       "<table border=\"1\" class=\"dataframe\">\n",
       "  <thead>\n",
       "    <tr style=\"text-align: right;\">\n",
       "      <th></th>\n",
       "      <th>id</th>\n",
       "      <th>movie_name</th>\n",
       "      <th>synopsis</th>\n",
       "      <th>genre</th>\n",
       "    </tr>\n",
       "  </thead>\n",
       "  <tbody>\n",
       "    <tr>\n",
       "      <th>0</th>\n",
       "      <td>44978</td>\n",
       "      <td>Super Me</td>\n",
       "      <td>A young scriptwriter starts bringing valuable ...</td>\n",
       "      <td>fantasy</td>\n",
       "    </tr>\n",
       "    <tr>\n",
       "      <th>1</th>\n",
       "      <td>50185</td>\n",
       "      <td>Entity Project</td>\n",
       "      <td>A director and her friends renting a haunted h...</td>\n",
       "      <td>horror</td>\n",
       "    </tr>\n",
       "    <tr>\n",
       "      <th>2</th>\n",
       "      <td>34131</td>\n",
       "      <td>Behavioral Family Therapy for Serious Psychiat...</td>\n",
       "      <td>This is an educational video for families and ...</td>\n",
       "      <td>family</td>\n",
       "    </tr>\n",
       "    <tr>\n",
       "      <th>3</th>\n",
       "      <td>78522</td>\n",
       "      <td>Blood Glacier</td>\n",
       "      <td>Scientists working in the Austrian Alps discov...</td>\n",
       "      <td>scifi</td>\n",
       "    </tr>\n",
       "    <tr>\n",
       "      <th>4</th>\n",
       "      <td>2206</td>\n",
       "      <td>Apat na anino</td>\n",
       "      <td>Buy Day - Four Men Widely - Apart in Life - By...</td>\n",
       "      <td>action</td>\n",
       "    </tr>\n",
       "    <tr>\n",
       "      <th>5</th>\n",
       "      <td>46636</td>\n",
       "      <td>Le démon dans l'île</td>\n",
       "      <td>On an island, things start going crazy as the ...</td>\n",
       "      <td>horror</td>\n",
       "    </tr>\n",
       "    <tr>\n",
       "      <th>6</th>\n",
       "      <td>53777</td>\n",
       "      <td>Candid</td>\n",
       "      <td>A video voyeur stalks women in the city with a...</td>\n",
       "      <td>horror</td>\n",
       "    </tr>\n",
       "    <tr>\n",
       "      <th>7</th>\n",
       "      <td>24872</td>\n",
       "      <td>Hired</td>\n",
       "      <td>Twin brothers separated at birth and worlds ap...</td>\n",
       "      <td>crime</td>\n",
       "    </tr>\n",
       "    <tr>\n",
       "      <th>8</th>\n",
       "      <td>17224</td>\n",
       "      <td>Miruthan</td>\n",
       "      <td>A traffic police officer teams up with his fri...</td>\n",
       "      <td>adventure</td>\n",
       "    </tr>\n",
       "    <tr>\n",
       "      <th>9</th>\n",
       "      <td>54900</td>\n",
       "      <td>Until You See Me</td>\n",
       "      <td>A legendary tale unravels.</td>\n",
       "      <td>mystery</td>\n",
       "    </tr>\n",
       "    <tr>\n",
       "      <th>10</th>\n",
       "      <td>55570</td>\n",
       "      <td>Shamus</td>\n",
       "      <td>Millions in diamonds are stolen from a safe in...</td>\n",
       "      <td>mystery</td>\n",
       "    </tr>\n",
       "    <tr>\n",
       "      <th>11</th>\n",
       "      <td>51818</td>\n",
       "      <td>Crushed</td>\n",
       "      <td>A young woman returns home to her family viney...</td>\n",
       "      <td>horror</td>\n",
       "    </tr>\n",
       "    <tr>\n",
       "      <th>12</th>\n",
       "      <td>52119</td>\n",
       "      <td>Vampires</td>\n",
       "      <td>Recovering from an ambush that killed his enti...</td>\n",
       "      <td>horror</td>\n",
       "    </tr>\n",
       "    <tr>\n",
       "      <th>13</th>\n",
       "      <td>7285</td>\n",
       "      <td>The Rise of the Tiger</td>\n",
       "      <td>The mafia and their criminal activities.</td>\n",
       "      <td>action</td>\n",
       "    </tr>\n",
       "    <tr>\n",
       "      <th>14</th>\n",
       "      <td>3014</td>\n",
       "      <td>Doc Savage: The Man of Bronze</td>\n",
       "      <td>Doc and the Amazing Five battle Captain Seas a...</td>\n",
       "      <td>action</td>\n",
       "    </tr>\n",
       "  </tbody>\n",
       "</table>\n",
       "</div>"
      ],
      "text/plain": [
       "       id                                         movie_name  \\\n",
       "0   44978                                           Super Me   \n",
       "1   50185                                     Entity Project   \n",
       "2   34131  Behavioral Family Therapy for Serious Psychiat...   \n",
       "3   78522                                      Blood Glacier   \n",
       "4    2206                                      Apat na anino   \n",
       "5   46636                                Le démon dans l'île   \n",
       "6   53777                                             Candid   \n",
       "7   24872                                              Hired   \n",
       "8   17224                                           Miruthan   \n",
       "9   54900                                   Until You See Me   \n",
       "10  55570                                             Shamus   \n",
       "11  51818                                            Crushed   \n",
       "12  52119                                           Vampires   \n",
       "13   7285                              The Rise of the Tiger   \n",
       "14   3014                      Doc Savage: The Man of Bronze   \n",
       "\n",
       "                                             synopsis      genre  \n",
       "0   A young scriptwriter starts bringing valuable ...    fantasy  \n",
       "1   A director and her friends renting a haunted h...     horror  \n",
       "2   This is an educational video for families and ...     family  \n",
       "3   Scientists working in the Austrian Alps discov...      scifi  \n",
       "4   Buy Day - Four Men Widely - Apart in Life - By...     action  \n",
       "5   On an island, things start going crazy as the ...     horror  \n",
       "6   A video voyeur stalks women in the city with a...     horror  \n",
       "7   Twin brothers separated at birth and worlds ap...      crime  \n",
       "8   A traffic police officer teams up with his fri...  adventure  \n",
       "9                          A legendary tale unravels.    mystery  \n",
       "10  Millions in diamonds are stolen from a safe in...    mystery  \n",
       "11  A young woman returns home to her family viney...     horror  \n",
       "12  Recovering from an ambush that killed his enti...     horror  \n",
       "13           The mafia and their criminal activities.     action  \n",
       "14  Doc and the Amazing Five battle Captain Seas a...     action  "
      ]
     },
     "execution_count": 3,
     "metadata": {},
     "output_type": "execute_result"
    }
   ],
   "source": [
    "print(f\"Size of training set: {len(train_df)}\")\n",
    "\n",
    "train_df.head(15)"
   ]
  },
  {
   "cell_type": "markdown",
   "id": "55f40761",
   "metadata": {
    "papermill": {
     "duration": 0.009794,
     "end_time": "2023-08-12T02:29:58.786311",
     "exception": false,
     "start_time": "2023-08-12T02:29:58.776517",
     "status": "completed"
    },
    "tags": []
   },
   "source": [
    "## Test Set"
   ]
  },
  {
   "cell_type": "code",
   "execution_count": 4,
   "id": "b1cfef9b",
   "metadata": {
    "execution": {
     "iopub.execute_input": "2023-08-12T02:29:58.807931Z",
     "iopub.status.busy": "2023-08-12T02:29:58.807285Z",
     "iopub.status.idle": "2023-08-12T02:29:58.978190Z",
     "shell.execute_reply": "2023-08-12T02:29:58.977126Z"
    },
    "papermill": {
     "duration": 0.184529,
     "end_time": "2023-08-12T02:29:58.980630",
     "exception": false,
     "start_time": "2023-08-12T02:29:58.796101",
     "status": "completed"
    },
    "tags": []
   },
   "outputs": [],
   "source": [
    "TEST_FILE_LOCATION = '/kaggle/input/movie-genre-prediction/test.csv'\n",
    "\n",
    "test_df = pd.read_csv(TEST_FILE_LOCATION)"
   ]
  },
  {
   "cell_type": "code",
   "execution_count": 5,
   "id": "f1ec363a",
   "metadata": {
    "execution": {
     "iopub.execute_input": "2023-08-12T02:29:59.002895Z",
     "iopub.status.busy": "2023-08-12T02:29:59.002573Z",
     "iopub.status.idle": "2023-08-12T02:29:59.016077Z",
     "shell.execute_reply": "2023-08-12T02:29:59.014676Z"
    },
    "papermill": {
     "duration": 0.027613,
     "end_time": "2023-08-12T02:29:59.018718",
     "exception": false,
     "start_time": "2023-08-12T02:29:58.991105",
     "status": "completed"
    },
    "tags": []
   },
   "outputs": [
    {
     "name": "stdout",
     "output_type": "stream",
     "text": [
      "Size of test set: 36000\n"
     ]
    },
    {
     "data": {
      "text/html": [
       "<div>\n",
       "<style scoped>\n",
       "    .dataframe tbody tr th:only-of-type {\n",
       "        vertical-align: middle;\n",
       "    }\n",
       "\n",
       "    .dataframe tbody tr th {\n",
       "        vertical-align: top;\n",
       "    }\n",
       "\n",
       "    .dataframe thead th {\n",
       "        text-align: right;\n",
       "    }\n",
       "</style>\n",
       "<table border=\"1\" class=\"dataframe\">\n",
       "  <thead>\n",
       "    <tr style=\"text-align: right;\">\n",
       "      <th></th>\n",
       "      <th>id</th>\n",
       "      <th>movie_name</th>\n",
       "      <th>synopsis</th>\n",
       "      <th>genre</th>\n",
       "    </tr>\n",
       "  </thead>\n",
       "  <tbody>\n",
       "    <tr>\n",
       "      <th>0</th>\n",
       "      <td>16863</td>\n",
       "      <td>A Death Sentence</td>\n",
       "      <td>12 y.o. Ida's dad'll die without a DKK1,500,00...</td>\n",
       "      <td>action</td>\n",
       "    </tr>\n",
       "    <tr>\n",
       "      <th>1</th>\n",
       "      <td>48456</td>\n",
       "      <td>Intermedio</td>\n",
       "      <td>A group of four teenage friends become trapped...</td>\n",
       "      <td>action</td>\n",
       "    </tr>\n",
       "    <tr>\n",
       "      <th>2</th>\n",
       "      <td>41383</td>\n",
       "      <td>30 Chua Phai Tet</td>\n",
       "      <td>A guy left his home for 12 years till he came ...</td>\n",
       "      <td>action</td>\n",
       "    </tr>\n",
       "    <tr>\n",
       "      <th>3</th>\n",
       "      <td>84007</td>\n",
       "      <td>Paranoiac</td>\n",
       "      <td>A man long believed dead returns to the family...</td>\n",
       "      <td>action</td>\n",
       "    </tr>\n",
       "    <tr>\n",
       "      <th>4</th>\n",
       "      <td>40269</td>\n",
       "      <td>Ordinary Happiness</td>\n",
       "      <td>After a deadly accident, Paolo comes back on E...</td>\n",
       "      <td>action</td>\n",
       "    </tr>\n",
       "    <tr>\n",
       "      <th>5</th>\n",
       "      <td>16524</td>\n",
       "      <td>The Syndicate</td>\n",
       "      <td>An alcoholic, his wife, a down and out America...</td>\n",
       "      <td>action</td>\n",
       "    </tr>\n",
       "    <tr>\n",
       "      <th>6</th>\n",
       "      <td>21245</td>\n",
       "      <td>12 Depths</td>\n",
       "      <td>\"Struck by amnesia and framed for murder, a ma...</td>\n",
       "      <td>action</td>\n",
       "    </tr>\n",
       "    <tr>\n",
       "      <th>7</th>\n",
       "      <td>84681</td>\n",
       "      <td>The Feud</td>\n",
       "      <td>A mysterious man returns to his home in Iowa f...</td>\n",
       "      <td>action</td>\n",
       "    </tr>\n",
       "    <tr>\n",
       "      <th>8</th>\n",
       "      <td>73352</td>\n",
       "      <td>Cabin Fever: Patient Zero</td>\n",
       "      <td>When a group of friends enjoying a bachelor cr...</td>\n",
       "      <td>action</td>\n",
       "    </tr>\n",
       "    <tr>\n",
       "      <th>9</th>\n",
       "      <td>37966</td>\n",
       "      <td>Peregrina</td>\n",
       "      <td>After a near death experience, a young woman b...</td>\n",
       "      <td>action</td>\n",
       "    </tr>\n",
       "    <tr>\n",
       "      <th>10</th>\n",
       "      <td>3565</td>\n",
       "      <td>Pasiklab sa army</td>\n",
       "      <td>THIS IS AN ACTION-COMEDY FILM WHERE REDFORD TR...</td>\n",
       "      <td>action</td>\n",
       "    </tr>\n",
       "    <tr>\n",
       "      <th>11</th>\n",
       "      <td>71038</td>\n",
       "      <td>The Virtuous Sin</td>\n",
       "      <td>Marya is the wife of medical student Victor Sa...</td>\n",
       "      <td>action</td>\n",
       "    </tr>\n",
       "    <tr>\n",
       "      <th>12</th>\n",
       "      <td>25029</td>\n",
       "      <td>Boni and Clyde</td>\n",
       "      <td>THE MOVIE SPOOFS UNDERWORLD TREACHERY AND BETR...</td>\n",
       "      <td>action</td>\n",
       "    </tr>\n",
       "    <tr>\n",
       "      <th>13</th>\n",
       "      <td>44508</td>\n",
       "      <td>Donkey Skin</td>\n",
       "      <td>A fairy godmother helps a princess disguise an...</td>\n",
       "      <td>action</td>\n",
       "    </tr>\n",
       "    <tr>\n",
       "      <th>14</th>\n",
       "      <td>45390</td>\n",
       "      <td>I tre volti del terrore</td>\n",
       "      <td>Two men and a woman are approached by this hyp...</td>\n",
       "      <td>action</td>\n",
       "    </tr>\n",
       "  </tbody>\n",
       "</table>\n",
       "</div>"
      ],
      "text/plain": [
       "       id                 movie_name  \\\n",
       "0   16863           A Death Sentence   \n",
       "1   48456                 Intermedio   \n",
       "2   41383           30 Chua Phai Tet   \n",
       "3   84007                  Paranoiac   \n",
       "4   40269         Ordinary Happiness   \n",
       "5   16524              The Syndicate   \n",
       "6   21245                  12 Depths   \n",
       "7   84681                   The Feud   \n",
       "8   73352  Cabin Fever: Patient Zero   \n",
       "9   37966                  Peregrina   \n",
       "10   3565           Pasiklab sa army   \n",
       "11  71038           The Virtuous Sin   \n",
       "12  25029             Boni and Clyde   \n",
       "13  44508                Donkey Skin   \n",
       "14  45390    I tre volti del terrore   \n",
       "\n",
       "                                             synopsis   genre  \n",
       "0   12 y.o. Ida's dad'll die without a DKK1,500,00...  action  \n",
       "1   A group of four teenage friends become trapped...  action  \n",
       "2   A guy left his home for 12 years till he came ...  action  \n",
       "3   A man long believed dead returns to the family...  action  \n",
       "4   After a deadly accident, Paolo comes back on E...  action  \n",
       "5   An alcoholic, his wife, a down and out America...  action  \n",
       "6   \"Struck by amnesia and framed for murder, a ma...  action  \n",
       "7   A mysterious man returns to his home in Iowa f...  action  \n",
       "8   When a group of friends enjoying a bachelor cr...  action  \n",
       "9   After a near death experience, a young woman b...  action  \n",
       "10  THIS IS AN ACTION-COMEDY FILM WHERE REDFORD TR...  action  \n",
       "11  Marya is the wife of medical student Victor Sa...  action  \n",
       "12  THE MOVIE SPOOFS UNDERWORLD TREACHERY AND BETR...  action  \n",
       "13  A fairy godmother helps a princess disguise an...  action  \n",
       "14  Two men and a woman are approached by this hyp...  action  "
      ]
     },
     "execution_count": 5,
     "metadata": {},
     "output_type": "execute_result"
    }
   ],
   "source": [
    "print(f\"Size of test set: {len(test_df)}\")\n",
    "test_df.head(15)"
   ]
  },
  {
   "cell_type": "markdown",
   "id": "56d842d6",
   "metadata": {
    "papermill": {
     "duration": 0.011498,
     "end_time": "2023-08-12T02:29:59.042203",
     "exception": false,
     "start_time": "2023-08-12T02:29:59.030705",
     "status": "completed"
    },
    "tags": []
   },
   "source": [
    "# Data Analysis"
   ]
  },
  {
   "cell_type": "markdown",
   "id": "2d6f41fd",
   "metadata": {
    "papermill": {
     "duration": 0.010442,
     "end_time": "2023-08-12T02:29:59.063597",
     "exception": false,
     "start_time": "2023-08-12T02:29:59.053155",
     "status": "completed"
    },
    "tags": []
   },
   "source": [
    "## Class Labels"
   ]
  },
  {
   "cell_type": "code",
   "execution_count": 6,
   "id": "5e9418df",
   "metadata": {
    "execution": {
     "iopub.execute_input": "2023-08-12T02:29:59.086064Z",
     "iopub.status.busy": "2023-08-12T02:29:59.085258Z",
     "iopub.status.idle": "2023-08-12T02:29:59.105494Z",
     "shell.execute_reply": "2023-08-12T02:29:59.104363Z"
    },
    "papermill": {
     "duration": 0.033703,
     "end_time": "2023-08-12T02:29:59.107653",
     "exception": false,
     "start_time": "2023-08-12T02:29:59.073950",
     "status": "completed"
    },
    "tags": []
   },
   "outputs": [
    {
     "data": {
      "text/plain": [
       "fantasy      5400\n",
       "horror       5400\n",
       "family       5400\n",
       "scifi        5400\n",
       "action       5400\n",
       "crime        5400\n",
       "adventure    5400\n",
       "mystery      5400\n",
       "romance      5400\n",
       "thriller     5400\n",
       "Name: genre, dtype: int64"
      ]
     },
     "execution_count": 6,
     "metadata": {},
     "output_type": "execute_result"
    }
   ],
   "source": [
    "y_counts = train_df['genre'].value_counts()\n",
    "y_counts"
   ]
  },
  {
   "cell_type": "markdown",
   "id": "af3a5965",
   "metadata": {
    "papermill": {
     "duration": 0.009965,
     "end_time": "2023-08-12T02:29:59.128231",
     "exception": false,
     "start_time": "2023-08-12T02:29:59.118266",
     "status": "completed"
    },
    "tags": []
   },
   "source": [
    "## Movie Name Word Count "
   ]
  },
  {
   "cell_type": "code",
   "execution_count": 7,
   "id": "a7d12190",
   "metadata": {
    "execution": {
     "iopub.execute_input": "2023-08-12T02:29:59.149736Z",
     "iopub.status.busy": "2023-08-12T02:29:59.149470Z",
     "iopub.status.idle": "2023-08-12T02:29:59.225142Z",
     "shell.execute_reply": "2023-08-12T02:29:59.223913Z"
    },
    "papermill": {
     "duration": 0.089444,
     "end_time": "2023-08-12T02:29:59.227838",
     "exception": false,
     "start_time": "2023-08-12T02:29:59.138394",
     "status": "completed"
    },
    "tags": []
   },
   "outputs": [
    {
     "data": {
      "text/html": [
       "<div>\n",
       "<style scoped>\n",
       "    .dataframe tbody tr th:only-of-type {\n",
       "        vertical-align: middle;\n",
       "    }\n",
       "\n",
       "    .dataframe tbody tr th {\n",
       "        vertical-align: top;\n",
       "    }\n",
       "\n",
       "    .dataframe thead th {\n",
       "        text-align: right;\n",
       "    }\n",
       "</style>\n",
       "<table border=\"1\" class=\"dataframe\">\n",
       "  <thead>\n",
       "    <tr style=\"text-align: right;\">\n",
       "      <th></th>\n",
       "      <th>count</th>\n",
       "      <th>mean</th>\n",
       "      <th>std</th>\n",
       "      <th>min</th>\n",
       "      <th>25%</th>\n",
       "      <th>50%</th>\n",
       "      <th>75%</th>\n",
       "      <th>max</th>\n",
       "    </tr>\n",
       "  </thead>\n",
       "  <tbody>\n",
       "    <tr>\n",
       "      <th>0</th>\n",
       "      <td>54000.0</td>\n",
       "      <td>2.840741</td>\n",
       "      <td>1.683741</td>\n",
       "      <td>1.0</td>\n",
       "      <td>2.0</td>\n",
       "      <td>2.0</td>\n",
       "      <td>4.0</td>\n",
       "      <td>38.0</td>\n",
       "    </tr>\n",
       "  </tbody>\n",
       "</table>\n",
       "</div>"
      ],
      "text/plain": [
       "     count      mean       std  min  25%  50%  75%   max\n",
       "0  54000.0  2.840741  1.683741  1.0  2.0  2.0  4.0  38.0"
      ]
     },
     "execution_count": 7,
     "metadata": {},
     "output_type": "execute_result"
    }
   ],
   "source": [
    "movie_name_lengths = [len(name.split()) for name in train_df['movie_name']]\n",
    "movie_name_lengths = pd.DataFrame(movie_name_lengths)\n",
    "\n",
    "movie_name_lengths.describe().transpose()"
   ]
  },
  {
   "cell_type": "code",
   "execution_count": 8,
   "id": "afb2c8f1",
   "metadata": {
    "execution": {
     "iopub.execute_input": "2023-08-12T02:29:59.251377Z",
     "iopub.status.busy": "2023-08-12T02:29:59.251032Z",
     "iopub.status.idle": "2023-08-12T02:30:00.040135Z",
     "shell.execute_reply": "2023-08-12T02:30:00.038667Z"
    },
    "papermill": {
     "duration": 0.803531,
     "end_time": "2023-08-12T02:30:00.042934",
     "exception": false,
     "start_time": "2023-08-12T02:29:59.239403",
     "status": "completed"
    },
    "tags": []
   },
   "outputs": [
    {
     "data": {
      "text/plain": [
       "array([[<Axes: title={'center': '0'}>]], dtype=object)"
      ]
     },
     "execution_count": 8,
     "metadata": {},
     "output_type": "execute_result"
    },
    {
     "data": {
      "image/png": "[encoded data removed]",
      "text/plain": [
       "<Figure size 640x480 with 1 Axes>"
      ]
     },
     "metadata": {},
     "output_type": "display_data"
    }
   ],
   "source": [
    "movie_name_lengths.hist()"
   ]
  },
  {
   "cell_type": "code",
   "execution_count": 9,
   "id": "bc346026",
   "metadata": {
    "execution": {
     "iopub.execute_input": "2023-08-12T02:30:00.087292Z",
     "iopub.status.busy": "2023-08-12T02:30:00.086819Z",
     "iopub.status.idle": "2023-08-12T02:30:00.098069Z",
     "shell.execute_reply": "2023-08-12T02:30:00.097238Z"
    },
    "papermill": {
     "duration": 0.032377,
     "end_time": "2023-08-12T02:30:00.100688",
     "exception": false,
     "start_time": "2023-08-12T02:30:00.068311",
     "status": "completed"
    },
    "tags": []
   },
   "outputs": [
    {
     "data": {
      "text/plain": [
       "8.0"
      ]
     },
     "execution_count": 9,
     "metadata": {},
     "output_type": "execute_result"
    }
   ],
   "source": [
    "np.percentile(movie_name_lengths, 99)"
   ]
  },
  {
   "cell_type": "markdown",
   "id": "5e150720",
   "metadata": {
    "papermill": {
     "duration": 0.015135,
     "end_time": "2023-08-12T02:30:00.132140",
     "exception": false,
     "start_time": "2023-08-12T02:30:00.117005",
     "status": "completed"
    },
    "tags": []
   },
   "source": [
    "## Movie Synopsis Word Count"
   ]
  },
  {
   "cell_type": "code",
   "execution_count": 10,
   "id": "d775979a",
   "metadata": {
    "execution": {
     "iopub.execute_input": "2023-08-12T02:30:00.165296Z",
     "iopub.status.busy": "2023-08-12T02:30:00.164846Z",
     "iopub.status.idle": "2023-08-12T02:30:00.387393Z",
     "shell.execute_reply": "2023-08-12T02:30:00.386550Z"
    },
    "papermill": {
     "duration": 0.241904,
     "end_time": "2023-08-12T02:30:00.389920",
     "exception": false,
     "start_time": "2023-08-12T02:30:00.148016",
     "status": "completed"
    },
    "tags": []
   },
   "outputs": [
    {
     "data": {
      "text/html": [
       "<div>\n",
       "<style scoped>\n",
       "    .dataframe tbody tr th:only-of-type {\n",
       "        vertical-align: middle;\n",
       "    }\n",
       "\n",
       "    .dataframe tbody tr th {\n",
       "        vertical-align: top;\n",
       "    }\n",
       "\n",
       "    .dataframe thead th {\n",
       "        text-align: right;\n",
       "    }\n",
       "</style>\n",
       "<table border=\"1\" class=\"dataframe\">\n",
       "  <thead>\n",
       "    <tr style=\"text-align: right;\">\n",
       "      <th></th>\n",
       "      <th>count</th>\n",
       "      <th>mean</th>\n",
       "      <th>std</th>\n",
       "      <th>min</th>\n",
       "      <th>25%</th>\n",
       "      <th>50%</th>\n",
       "      <th>75%</th>\n",
       "      <th>max</th>\n",
       "    </tr>\n",
       "  </thead>\n",
       "  <tbody>\n",
       "    <tr>\n",
       "      <th>0</th>\n",
       "      <td>54000.0</td>\n",
       "      <td>26.237278</td>\n",
       "      <td>9.813433</td>\n",
       "      <td>1.0</td>\n",
       "      <td>19.0</td>\n",
       "      <td>26.0</td>\n",
       "      <td>34.0</td>\n",
       "      <td>70.0</td>\n",
       "    </tr>\n",
       "  </tbody>\n",
       "</table>\n",
       "</div>"
      ],
      "text/plain": [
       "     count       mean       std  min   25%   50%   75%   max\n",
       "0  54000.0  26.237278  9.813433  1.0  19.0  26.0  34.0  70.0"
      ]
     },
     "execution_count": 10,
     "metadata": {},
     "output_type": "execute_result"
    }
   ],
   "source": [
    "synopsis_lengths = [len(s.split()) for s in train_df['synopsis']]\n",
    "synopsis_lengths = pd.DataFrame(synopsis_lengths)\n",
    "\n",
    "synopsis_lengths.describe().transpose()"
   ]
  },
  {
   "cell_type": "code",
   "execution_count": 11,
   "id": "ae5b3428",
   "metadata": {
    "execution": {
     "iopub.execute_input": "2023-08-12T02:30:00.424829Z",
     "iopub.status.busy": "2023-08-12T02:30:00.424454Z",
     "iopub.status.idle": "2023-08-12T02:30:00.862656Z",
     "shell.execute_reply": "2023-08-12T02:30:00.861740Z"
    },
    "papermill": {
     "duration": 0.458722,
     "end_time": "2023-08-12T02:30:00.865699",
     "exception": false,
     "start_time": "2023-08-12T02:30:00.406977",
     "status": "completed"
    },
    "tags": []
   },
   "outputs": [
    {
     "data": {
      "text/plain": [
       "array([[<Axes: title={'center': '0'}>]], dtype=object)"
      ]
     },
     "execution_count": 11,
     "metadata": {},
     "output_type": "execute_result"
    },
    {
     "data": {
      "image/png": "[encoded data removed]",
      "text/plain": [
       "<Figure size 640x480 with 1 Axes>"
      ]
     },
     "metadata": {},
     "output_type": "display_data"
    }
   ],
   "source": [
    "synopsis_lengths.hist()"
   ]
  },
  {
   "cell_type": "code",
   "execution_count": 12,
   "id": "282426d8",
   "metadata": {
    "execution": {
     "iopub.execute_input": "2023-08-12T02:30:00.907642Z",
     "iopub.status.busy": "2023-08-12T02:30:00.906918Z",
     "iopub.status.idle": "2023-08-12T02:30:00.916216Z",
     "shell.execute_reply": "2023-08-12T02:30:00.915173Z"
    },
    "papermill": {
     "duration": 0.033408,
     "end_time": "2023-08-12T02:30:00.918413",
     "exception": false,
     "start_time": "2023-08-12T02:30:00.885005",
     "status": "completed"
    },
    "tags": []
   },
   "outputs": [
    {
     "data": {
      "text/plain": [
       "45.0"
      ]
     },
     "execution_count": 12,
     "metadata": {},
     "output_type": "execute_result"
    }
   ],
   "source": [
    "np.percentile(synopsis_lengths, 99)"
   ]
  },
  {
   "cell_type": "markdown",
   "id": "6fccf3c5",
   "metadata": {
    "papermill": {
     "duration": 0.011805,
     "end_time": "2023-08-12T02:30:00.942572",
     "exception": false,
     "start_time": "2023-08-12T02:30:00.930767",
     "status": "completed"
    },
    "tags": []
   },
   "source": [
    "# Data Pre-processing"
   ]
  },
  {
   "cell_type": "markdown",
   "id": "7ad45af4",
   "metadata": {
    "papermill": {
     "duration": 0.011659,
     "end_time": "2023-08-12T02:30:00.965828",
     "exception": false,
     "start_time": "2023-08-12T02:30:00.954169",
     "status": "completed"
    },
    "tags": []
   },
   "source": [
    "## Encoding the class labels"
   ]
  },
  {
   "cell_type": "code",
   "execution_count": 13,
   "id": "c626f24c",
   "metadata": {
    "execution": {
     "iopub.execute_input": "2023-08-12T02:30:00.991415Z",
     "iopub.status.busy": "2023-08-12T02:30:00.991129Z",
     "iopub.status.idle": "2023-08-12T02:30:01.036450Z",
     "shell.execute_reply": "2023-08-12T02:30:01.035612Z"
    },
    "papermill": {
     "duration": 0.060601,
     "end_time": "2023-08-12T02:30:01.038565",
     "exception": false,
     "start_time": "2023-08-12T02:30:00.977964",
     "status": "completed"
    },
    "tags": []
   },
   "outputs": [
    {
     "data": {
      "text/plain": [
       "array(['action', 'adventure', 'crime', 'family', 'fantasy', 'horror',\n",
       "       'mystery', 'romance', 'scifi', 'thriller'], dtype=object)"
      ]
     },
     "execution_count": 13,
     "metadata": {},
     "output_type": "execute_result"
    }
   ],
   "source": [
    "from sklearn.preprocessing import LabelEncoder\n",
    "\n",
    "class_encoder = LabelEncoder()\n",
    "class_encoder.fit(train_df['genre'])\n",
    "CLASSES = class_encoder.classes_\n",
    "CLASSES"
   ]
  },
  {
   "cell_type": "code",
   "execution_count": 14,
   "id": "9ae2840c",
   "metadata": {
    "execution": {
     "iopub.execute_input": "2023-08-12T02:30:01.064958Z",
     "iopub.status.busy": "2023-08-12T02:30:01.064647Z",
     "iopub.status.idle": "2023-08-12T02:30:01.071464Z",
     "shell.execute_reply": "2023-08-12T02:30:01.070450Z"
    },
    "papermill": {
     "duration": 0.022834,
     "end_time": "2023-08-12T02:30:01.073679",
     "exception": false,
     "start_time": "2023-08-12T02:30:01.050845",
     "status": "completed"
    },
    "tags": []
   },
   "outputs": [
    {
     "data": {
      "text/plain": [
       "array([0, 2, 9])"
      ]
     },
     "execution_count": 14,
     "metadata": {},
     "output_type": "execute_result"
    }
   ],
   "source": [
    "class_encoder.transform(['action', 'crime', 'thriller'])"
   ]
  },
  {
   "cell_type": "markdown",
   "id": "e6b2d87c",
   "metadata": {
    "papermill": {
     "duration": 0.011764,
     "end_time": "2023-08-12T02:30:01.098921",
     "exception": false,
     "start_time": "2023-08-12T02:30:01.087157",
     "status": "completed"
    },
    "tags": []
   },
   "source": [
    "## Preprocess the train and validationdatasets"
   ]
  },
  {
   "cell_type": "code",
   "execution_count": 15,
   "id": "34e4a800",
   "metadata": {
    "execution": {
     "iopub.execute_input": "2023-08-12T02:30:01.125383Z",
     "iopub.status.busy": "2023-08-12T02:30:01.125076Z",
     "iopub.status.idle": "2023-08-12T02:30:01.265780Z",
     "shell.execute_reply": "2023-08-12T02:30:01.264795Z"
    },
    "papermill": {
     "duration": 0.157048,
     "end_time": "2023-08-12T02:30:01.268210",
     "exception": false,
     "start_time": "2023-08-12T02:30:01.111162",
     "status": "completed"
    },
    "tags": []
   },
   "outputs": [
    {
     "name": "stdout",
     "output_type": "stream",
     "text": [
      "All train file rows: 54000\n",
      "Train set rows: 43200\n",
      "Validation set rows: 10800\n"
     ]
    }
   ],
   "source": [
    "from sklearn.model_selection import train_test_split\n",
    "\n",
    "print(f\"All train file rows: {len(train_df)}\")\n",
    "(train_set, val_set) = train_test_split(train_df, test_size=0.2)\n",
    "\n",
    "print(f\"Train set rows: {len(train_set)}\")\n",
    "print(f\"Validation set rows: {len(val_set)}\")"
   ]
  },
  {
   "cell_type": "code",
   "execution_count": 16,
   "id": "df2d31ee",
   "metadata": {
    "execution": {
     "iopub.execute_input": "2023-08-12T02:30:01.295045Z",
     "iopub.status.busy": "2023-08-12T02:30:01.294674Z",
     "iopub.status.idle": "2023-08-12T02:30:06.170719Z",
     "shell.execute_reply": "2023-08-12T02:30:06.169766Z"
    },
    "papermill": {
     "duration": 4.891739,
     "end_time": "2023-08-12T02:30:06.172848",
     "exception": false,
     "start_time": "2023-08-12T02:30:01.281109",
     "status": "completed"
    },
    "tags": []
   },
   "outputs": [
    {
     "data": {
      "text/plain": [
       "(<_PrefetchDataset element_spec=(TensorSpec(shape=(None,), dtype=tf.string, name=None), TensorSpec(shape=(None,), dtype=tf.int64, name=None))>,\n",
       " <_PrefetchDataset element_spec=(TensorSpec(shape=(None,), dtype=tf.string, name=None), TensorSpec(shape=(None,), dtype=tf.int64, name=None))>,\n",
       " 675,\n",
       " 169)"
      ]
     },
     "execution_count": 16,
     "metadata": {},
     "output_type": "execute_result"
    }
   ],
   "source": [
    "from tensorflow.data import Dataset, AUTOTUNE\n",
    "\n",
    "BATCH_SIZE = 64\n",
    "def build_model_datasets(features, labels):\n",
    "    y = class_encoder.transform(labels)\n",
    "    dataset = Dataset.from_tensor_slices((features, y)).batch(BATCH_SIZE).prefetch(AUTOTUNE)\n",
    "    \n",
    "    return dataset\n",
    "\n",
    "train_dataset = build_model_datasets(train_set['synopsis'], train_set['genre'])\n",
    "val_dataset = build_model_datasets(val_set['synopsis'], val_set['genre'])\n",
    "\n",
    "train_dataset, val_dataset, len(train_dataset), len(val_dataset)"
   ]
  },
  {
   "cell_type": "code",
   "execution_count": 17,
   "id": "70940463",
   "metadata": {
    "execution": {
     "iopub.execute_input": "2023-08-12T02:30:06.199902Z",
     "iopub.status.busy": "2023-08-12T02:30:06.199040Z",
     "iopub.status.idle": "2023-08-12T02:30:06.286131Z",
     "shell.execute_reply": "2023-08-12T02:30:06.285181Z"
    },
    "papermill": {
     "duration": 0.103176,
     "end_time": "2023-08-12T02:30:06.288790",
     "exception": false,
     "start_time": "2023-08-12T02:30:06.185614",
     "status": "completed"
    },
    "tags": []
   },
   "outputs": [
    {
     "name": "stdout",
     "output_type": "stream",
     "text": [
      "(<tf.Tensor: shape=(64,), dtype=string, numpy=\n",
      "array([b'Struggling screenwriter Emily, who works in a gelato shop, writes a screenplay about struggling screenwriter Emma, who works in a coffee shop, and is secretly a superheroine named Emmageddon.',\n",
      "       b'After a boy sees a man in Santa Claus suit kissing his mother, he thinks that the real Santa wants to replace his father, so he goes to prank-war with him.',\n",
      "       b\"Alice is appointed to save her beloved Mad Hatter from deadly grief by travelling back to the past, but this means fatally harming Time himself, the noble clockwork man with the device needed to save the Hatter's family from the Red Queen.\",\n",
      "       b'A police lieutenant uncovers more than he bargained for as his investigation of a series of murders, which have all the hallmarks of the deceased Gemini serial killer, leads him to question the patients of a psychiatric ward.',\n",
      "       b'Still on the run from a group of Nazi zombies, a man seeks the aid of a group of American zombie enthusiasts, and discovers new techniques for fighting the zombies.',\n",
      "       b'Poker, Spasm and Blue Flame, are trying to escape the law, school, parents, their demons and a couple of criminals to realise their burning ambition; to meet world class skating champion, Tony Hawk and compete in his skating competition.',\n",
      "       b\"A friendship with a top-secret robot turns a lonely girl's life into a thrilling adventure as they take on bullies, evil bots and a scheming madman.\",\n",
      "       b'A young artist travels to Rome with three friends to learn what makes a work of art a timeless masterpiece and while there they meet the greatest artist of all time.',\n",
      "       b'SNT gets transported to another dimension, and it looks like this new world is in need of someone ~special~ to help save the day. Will SNT prevail, or will her presence corrupt this new universe?',\n",
      "       b'The story of a father who must play a deadly game with the Dead to save the life of his daughter.',\n",
      "       b'A young girl photographs an assassin killing 4 at a cemetery. He wants no witnesses. Carter, a veteran in a farmhouse, is all standing between him and the girl.',\n",
      "       b\"Four frames of simultaneous action that alternately follow a smitten lesbian lover as she obsesses over her partner's dalliances and the tense goings-on of a Hollywood film production company.\",\n",
      "       b\"A Chinese oil company's employee was kidnapped while travelling for work outside the country. The employee managed to escape and went back to China. However, he's life was no longer the same.\",\n",
      "       b'A group of strangers come together to work on creating the greatest anime series ever.',\n",
      "       b'The story of an eponymous Scottie dog, a prehistoric bone and a gang of bungling crooks out to thwart the ambitious plans of an eccentric Scottish paleontologist.',\n",
      "       b'During the excavation of ancient Roman ruins, an old archaeology professor accidentally opens the gate between our world and the world of the dead.',\n",
      "       b'In Hollywood, California, Cool Cat, alongside his human father Daddy Derek, embarks on his most challenging journey yet: saving the kids from Butch the Bully. Can he do it?',\n",
      "       b'A NYPD Police Officer injured in the line duty uncovers his paranormal abilities and hunts a serial killer in NYC.',\n",
      "       b'Bondini is a mad doctor who is creating an army of Zombie Cannibals and trying to give birth to the first zombie baby',\n",
      "       b'Hotel Gyllene Knorren stands empty so mom Ritva grows organic vegetables to attract guests.',\n",
      "       b'Archeologist Marta Becker discovers that advanced beings regularly possess humans, not in a dark plot to take over the world but rather just for the fun of it. One \"Vacationer\" helps her defend mankind\\'s free-will against the others.',\n",
      "       b'Three young fishermen gets drafted by the marine. Meanwhile they also have to earn money to pay off their bankloan on their fishingboat.',\n",
      "       b'Django returns home to discover that his father has been killed by local bandits in a business deal gone wrong.',\n",
      "       b'A strong willed woman aims to make connections so that she along with her husband can have the more fashionable and materially comfortable lifestyle she desires. Catastrophe awaits.',\n",
      "       b'In a parallel universe, young Lyra Belacqua journeys to the far North to save her best friend and other kidnapped children from terrible experiments by a mysterious organization.',\n",
      "       b'In a rural Pennsylvania hospital, a deranged serial killer awakens from a coma and escapes, as a local town sheriff with a traumatic family secret must track him down and stop him from killing everyone in his path.',\n",
      "       b'Attempting to reconstruct a criminal case, a radio presenter seeks the whereabouts of a robber who has recently finished a prison sentence, leading him into danger.',\n",
      "       b'Disgraced SIC agent Bill Dexter teams up with bumbling doormen Franco and Ciccio to stop Dr. Goldfoot from using his bikini-clad robot girls to blow up high-ranking NATO generals, igniting a war between Russia and America.',\n",
      "       b'A country bumpkin (Dong-shik) goes to Seoul in order to bring his older brother (Young-shik)back to the country. Little does he know Young-shik is a petty crook involved with a prostitute (Sonia) who is servicing American GIs. Then Sonia comes onto Dong-shik...',\n",
      "       b\"A pair of cops are following a lawyer who has information on a mobster. He's killed and his wife has to help the cops catch the bad guy.\",\n",
      "       b\"Tomohisa Yamashita is a swindler who deceives other swindlers who have evil intentions: The swindlers who deceive others with words (Shirosagi/White Swindler) and the swindlers who play with people's mind and body (Akasagi/Red Swindler).\",\n",
      "       b\"An agent works for a secretive organization that uses brain-implant technology to inhabit other people's bodies - ultimately driving them to commit assassinations for high-paying clients.\",\n",
      "       b'The alienating and repetitive life of a group of heroin junkies in the 1980s Rome.',\n",
      "       b\"With the world's end imminent, a dying mother sends her young son on a journey to the place which grants wishes. The film's inspired by the works of 13th century Sufi mystic and poet, Rumi.\",\n",
      "       b'Sorceress Arden and her warrior girlfriend Katia are deeply in love. But the veil between Earth and the World of Magic keeps them apart. When the evil sorcerer Zareth arises from the dead, Arden and Katia are sent on a quest to defeat him.',\n",
      "       b'Misaki is a schoolgirl who must fight gangs.',\n",
      "       b'Young museum curator, Isabelle, is sent to inspect a part of what seems to be a strange crucible buried near an eerie old manor.',\n",
      "       b\"As they're held for ransom, a husband and wife's predicament grows more dire amid the discovery of betrayal and deception.\",\n",
      "       b'Philo Vance investigates a series of murders among members of the Greene family, in this remake.',\n",
      "       b'A thief vows to go straight after one short prison term but severe monetary need forces him to commit a robbery on behalf of his employer, which leads to him being framed for a murder.',\n",
      "       b'Christy (Zehetner) returns to her hometown years after a car accident that disfigured her older sister. Haunted by the accident in which she was the driver, she learns that her worst nightmares have either come true ... or are about to.',\n",
      "       b'Based on the ACE HARLEM comics.',\n",
      "       b'A young female drug mule becomes entangled in a serious problem after her boyfriend dies. Desperate, she will to turn to her father, whom she has never met.',\n",
      "       b'When an American woman begins a dangerous relationship with an attractive immigrant worker, in order to save her marriage, she finds her true self.',\n",
      "       b'Baek Jo-Kyoung, a world-renowned female Sci-fi writer, faces a stigma from society. She gets kidnapped at the bar unconscious and wakes up in a strange warehouse. Now, she must fight against unidentifiable enemies and her worst fears.',\n",
      "       b'Four quadrant family film.',\n",
      "       b'A group of friends with a flair for detective work spend their March Break at a local ski resort when the old folk tale of The Ski Hill Strangler comes to life and claims the life of skiers.',\n",
      "       b\"A woman, still disturbed by a childhood tragedy, realizes she can see ghosts and that the small crosses people place at the site of someone's death pin their soul to that location.\",\n",
      "       b'An analog horror about the investigation of people disappearing in Fawn Circle, Minnesota in January of 1983.',\n",
      "       b'Three skiers stranded on a chairlift are forced to make life-or-death choices, which prove more perilous than staying put and freezing to death.',\n",
      "       b'A group of six ex-high school cheerleaders are stalked by a killer with a medieval war hammer and battle axe during their first Spring Break from college.',\n",
      "       b'Inspired by the tale of Atlantis, this thriller is set on a lost continent in the Indian Ocean with an advanced technological civilization.',\n",
      "       b'A courier is hired to deliver a package. Not knowing it contains the bodily remains of the the receivers nephew. He is then hunted down and forced to fight his way to answer from his boss.',\n",
      "       b'A young girl embarks on an epic journey to strange worlds to find her lost father, with the help of a magic book and the friends she makes along the way.',\n",
      "       b'Aysecik and Omercik struggle together to obviate the divorce of their parents.',\n",
      "       b'Devarmadam narayan(mamootty) is accused for false crime of killing his father at age 13 and has send to juwale home.he returns and becomes ruler of his village but finds that evils of village r own relatives now it is battle between them',\n",
      "       b'its a movie about a Boy Name Muhammad Zaid who was Living a Normal and an Ordinary Life then all of a Sudden an Unknown Virus hits the ground and change everything from the Living Conditions to Just All an all fear in Everyone.',\n",
      "       b\"After a mummy hand appears in a frat party pizza, four kids must chase it down, escape the mob and an ancient sect but most of all learn to forgive each other if they're going to stop an Egyptian zombie apocalypse . . . then deliver pizza.\",\n",
      "       b'Tired of being treated poorly by men, four frustrated women devise a game of social conquest to reclaim their destinies. But each is soon challenged to face herself and her relationships while also battling a jealous psycho and sexist boss.',\n",
      "       b'A newspaper writer recently fired and writing his final column for the oldest paper in Los Angeles finds himself in the middle of an impossible mystery, and what might be the most shocking murder cover-up of all time.',\n",
      "       b'Katherine Munroe, a not so typical teenager, finds herself pitted between humans and aliens in an ancient battle for planet earth.',\n",
      "       b'The film depicts an unpredictable global cooperative investigation by South Korean, North Korean, and American detectives who have come together for their own purposes.',\n",
      "       b'A dim-witted slumlord tries to reform a gang of urban boys (and impress an attractive young woman) by transforming their rough neighborhood into a more decent place.',\n",
      "       b'A dark comedy about two girls who fall in love with their country and with each other en route from Tel Aviv to Sderot (the ongoing target of Qassam rocket attacks).'],\n",
      "      dtype=object)>, <tf.Tensor: shape=(64,), dtype=int64, numpy=\n",
      "array([8, 3, 3, 6, 4, 1, 1, 1, 8, 6, 0, 7, 0, 1, 3, 4, 3, 2, 5, 3, 8, 3,\n",
      "       0, 7, 3, 5, 2, 8, 7, 2, 2, 5, 2, 4, 8, 0, 9, 9, 6, 0, 5, 0, 2, 7,\n",
      "       9, 1, 5, 5, 5, 6, 5, 8, 0, 4, 3, 0, 1, 3, 7, 8, 1, 0, 2, 7])>)\n"
     ]
    }
   ],
   "source": [
    "for i in train_dataset:\n",
    "    print(i)\n",
    "    break;"
   ]
  },
  {
   "cell_type": "markdown",
   "id": "84872096",
   "metadata": {
    "papermill": {
     "duration": 0.012057,
     "end_time": "2023-08-12T02:30:06.313329",
     "exception": false,
     "start_time": "2023-08-12T02:30:06.301272",
     "status": "completed"
    },
    "tags": []
   },
   "source": [
    "## The Vectorizer"
   ]
  },
  {
   "cell_type": "code",
   "execution_count": 18,
   "id": "7da8b5bf",
   "metadata": {
    "execution": {
     "iopub.execute_input": "2023-08-12T02:30:06.339590Z",
     "iopub.status.busy": "2023-08-12T02:30:06.339310Z",
     "iopub.status.idle": "2023-08-12T02:30:11.673389Z",
     "shell.execute_reply": "2023-08-12T02:30:11.672307Z"
    },
    "papermill": {
     "duration": 5.35018,
     "end_time": "2023-08-12T02:30:11.676045",
     "exception": false,
     "start_time": "2023-08-12T02:30:06.325865",
     "status": "completed"
    },
    "tags": []
   },
   "outputs": [],
   "source": [
    "from tensorflow.keras.layers import TextVectorization\n",
    "\n",
    "SYNOPSIS_VOCAB_SIZE = 2048\n",
    "SYNOPSIS_SEQ_LENGTH = 64\n",
    "\n",
    "vectorizer = TextVectorization(max_tokens=SYNOPSIS_VOCAB_SIZE, output_sequence_length=SYNOPSIS_SEQ_LENGTH)\n",
    "vectorizer.adapt(train_df['synopsis'])"
   ]
  },
  {
   "cell_type": "code",
   "execution_count": 19,
   "id": "6340e507",
   "metadata": {
    "execution": {
     "iopub.execute_input": "2023-08-12T02:30:11.705071Z",
     "iopub.status.busy": "2023-08-12T02:30:11.703231Z",
     "iopub.status.idle": "2023-08-12T02:30:11.724641Z",
     "shell.execute_reply": "2023-08-12T02:30:11.723600Z"
    },
    "papermill": {
     "duration": 0.037711,
     "end_time": "2023-08-12T02:30:11.726921",
     "exception": false,
     "start_time": "2023-08-12T02:30:11.689210",
     "status": "completed"
    },
    "tags": []
   },
   "outputs": [
    {
     "data": {
      "text/plain": [
       "(['', '[UNK]', 'a', 'the', 'to'],\n",
       " ['legends', 'fugitive', 'fresh', 'fiancée', 'en'])"
      ]
     },
     "execution_count": 19,
     "metadata": {},
     "output_type": "execute_result"
    }
   ],
   "source": [
    "vectorizer.get_vocabulary()[:5], vectorizer.get_vocabulary()[-5:]"
   ]
  },
  {
   "cell_type": "code",
   "execution_count": 20,
   "id": "de5e3abc",
   "metadata": {
    "execution": {
     "iopub.execute_input": "2023-08-12T02:30:11.754451Z",
     "iopub.status.busy": "2023-08-12T02:30:11.754057Z",
     "iopub.status.idle": "2023-08-12T02:30:11.885816Z",
     "shell.execute_reply": "2023-08-12T02:30:11.884698Z"
    },
    "papermill": {
     "duration": 0.14797,
     "end_time": "2023-08-12T02:30:11.888171",
     "exception": false,
     "start_time": "2023-08-12T02:30:11.740201",
     "status": "completed"
    },
    "tags": []
   },
   "outputs": [
    {
     "data": {
      "text/plain": [
       "<tf.Tensor: shape=(64,), dtype=int64, numpy=\n",
       "array([   2,   23,    1,  291,    1, 1869,    1,   73,   19,    8,  642,\n",
       "       1118,    5,   93,    1,   15,    2,  578,    1,   50,  318,   31,\n",
       "        323,    0,    0,    0,    0,    0,    0,    0,    0,    0,    0,\n",
       "          0,    0,    0,    0,    0,    0,    0,    0,    0,    0,    0,\n",
       "          0,    0,    0,    0,    0,    0,    0,    0,    0,    0,    0,\n",
       "          0,    0,    0,    0,    0,    0,    0,    0,    0])>"
      ]
     },
     "execution_count": 20,
     "metadata": {},
     "output_type": "execute_result"
    }
   ],
   "source": [
    "vectorizer(train_df['synopsis'][0])"
   ]
  },
  {
   "cell_type": "markdown",
   "id": "b27e631d",
   "metadata": {
    "papermill": {
     "duration": 0.01255,
     "end_time": "2023-08-12T02:30:11.914734",
     "exception": false,
     "start_time": "2023-08-12T02:30:11.902184",
     "status": "completed"
    },
    "tags": []
   },
   "source": [
    "# Modelling"
   ]
  },
  {
   "cell_type": "markdown",
   "id": "6caa76e1",
   "metadata": {
    "papermill": {
     "duration": 0.012904,
     "end_time": "2023-08-12T02:30:11.940378",
     "exception": false,
     "start_time": "2023-08-12T02:30:11.927474",
     "status": "completed"
    },
    "tags": []
   },
   "source": [
    "## Baseline Model: Dense Layer"
   ]
  },
  {
   "cell_type": "code",
   "execution_count": 21,
   "id": "a321807f",
   "metadata": {
    "execution": {
     "iopub.execute_input": "2023-08-12T02:30:11.967897Z",
     "iopub.status.busy": "2023-08-12T02:30:11.967056Z",
     "iopub.status.idle": "2023-08-12T02:30:11.973522Z",
     "shell.execute_reply": "2023-08-12T02:30:11.972603Z"
    },
    "papermill": {
     "duration": 0.022235,
     "end_time": "2023-08-12T02:30:11.975690",
     "exception": false,
     "start_time": "2023-08-12T02:30:11.953455",
     "status": "completed"
    },
    "tags": []
   },
   "outputs": [],
   "source": [
    "from tensorflow.keras import Sequential\n",
    "from tensorflow.keras.layers import Embedding, Dense, Input, GlobalAveragePooling1D\n",
    "\n",
    "EMBEDDING_LENGTH = 256\n",
    "\n",
    "def build_model_0():\n",
    "    return Sequential([\n",
    "        Input(shape=(1,), dtype=tf.string),\n",
    "        vectorizer,\n",
    "        Embedding(SYNOPSIS_VOCAB_SIZE, EMBEDDING_LENGTH, input_length=SYNOPSIS_SEQ_LENGTH),\n",
    "        GlobalAveragePooling1D(),\n",
    "        Dense(256, activation='relu'),\n",
    "        Dense(len(CLASSES), activation='softmax')\n",
    "    ], name='model_0')"
   ]
  },
  {
   "cell_type": "code",
   "execution_count": 22,
   "id": "00f6e563",
   "metadata": {
    "execution": {
     "iopub.execute_input": "2023-08-12T02:30:12.001998Z",
     "iopub.status.busy": "2023-08-12T02:30:12.001702Z",
     "iopub.status.idle": "2023-08-12T02:30:12.008000Z",
     "shell.execute_reply": "2023-08-12T02:30:12.007107Z"
    },
    "papermill": {
     "duration": 0.021672,
     "end_time": "2023-08-12T02:30:12.009893",
     "exception": false,
     "start_time": "2023-08-12T02:30:11.988221",
     "status": "completed"
    },
    "tags": []
   },
   "outputs": [],
   "source": [
    "from tensorflow.keras.losses import SparseCategoricalCrossentropy\n",
    "from tensorflow.keras.optimizers import Adam\n",
    "\n",
    "def compile_model(model):\n",
    "    model.compile(\n",
    "        loss=SparseCategoricalCrossentropy(),\n",
    "        optimizer=Adam(),\n",
    "        metrics=['accuracy']\n",
    "    )"
   ]
  },
  {
   "cell_type": "code",
   "execution_count": 23,
   "id": "cf2ee2e7",
   "metadata": {
    "execution": {
     "iopub.execute_input": "2023-08-12T02:30:12.036517Z",
     "iopub.status.busy": "2023-08-12T02:30:12.036212Z",
     "iopub.status.idle": "2023-08-12T02:30:12.182890Z",
     "shell.execute_reply": "2023-08-12T02:30:12.181917Z"
    },
    "papermill": {
     "duration": 0.172693,
     "end_time": "2023-08-12T02:30:12.195136",
     "exception": false,
     "start_time": "2023-08-12T02:30:12.022443",
     "status": "completed"
    },
    "tags": []
   },
   "outputs": [
    {
     "name": "stdout",
     "output_type": "stream",
     "text": [
      "Model: \"model_0\"\n",
      "_________________________________________________________________\n",
      " Layer (type)                Output Shape              Param #   \n",
      "=================================================================\n",
      " text_vectorization (TextVec  (None, 64)               0         \n",
      " torization)                                                     \n",
      "                                                                 \n",
      " embedding (Embedding)       (None, 64, 256)           524288    \n",
      "                                                                 \n",
      " global_average_pooling1d (G  (None, 256)              0         \n",
      " lobalAveragePooling1D)                                          \n",
      "                                                                 \n",
      " dense (Dense)               (None, 256)               65792     \n",
      "                                                                 \n",
      " dense_1 (Dense)             (None, 10)                2570      \n",
      "                                                                 \n",
      "=================================================================\n",
      "Total params: 592,650\n",
      "Trainable params: 592,650\n",
      "Non-trainable params: 0\n",
      "_________________________________________________________________\n"
     ]
    }
   ],
   "source": [
    "model_0 = build_model_0()\n",
    "compile_model(model_0)\n",
    "model_0.summary()"
   ]
  },
  {
   "cell_type": "code",
   "execution_count": 24,
   "id": "b619cee4",
   "metadata": {
    "execution": {
     "iopub.execute_input": "2023-08-12T02:30:12.225350Z",
     "iopub.status.busy": "2023-08-12T02:30:12.225009Z",
     "iopub.status.idle": "2023-08-12T02:31:02.936067Z",
     "shell.execute_reply": "2023-08-12T02:31:02.935020Z"
    },
    "papermill": {
     "duration": 50.729495,
     "end_time": "2023-08-12T02:31:02.939217",
     "exception": false,
     "start_time": "2023-08-12T02:30:12.209722",
     "status": "completed"
    },
    "tags": []
   },
   "outputs": [
    {
     "name": "stdout",
     "output_type": "stream",
     "text": [
      "Epoch 1/5\n",
      "675/675 [==============================] - 34s 42ms/step - loss: 2.0696 - accuracy: 0.2419 - val_loss: 1.8984 - val_accuracy: 0.3168\n",
      "Epoch 2/5\n",
      "675/675 [==============================] - 4s 6ms/step - loss: 1.8284 - accuracy: 0.3442 - val_loss: 1.8624 - val_accuracy: 0.3356\n",
      "Epoch 3/5\n",
      "675/675 [==============================] - 4s 6ms/step - loss: 1.7642 - accuracy: 0.3703 - val_loss: 1.8529 - val_accuracy: 0.3424\n",
      "Epoch 4/5\n",
      "675/675 [==============================] - 4s 5ms/step - loss: 1.7218 - accuracy: 0.3847 - val_loss: 1.8529 - val_accuracy: 0.3419\n",
      "Epoch 5/5\n",
      "675/675 [==============================] - 4s 6ms/step - loss: 1.6879 - accuracy: 0.3967 - val_loss: 1.8565 - val_accuracy: 0.3403\n"
     ]
    }
   ],
   "source": [
    "model_0_history = model_0.fit(train_dataset, epochs=5, validation_data=val_dataset)"
   ]
  },
  {
   "cell_type": "code",
   "execution_count": 25,
   "id": "7e08b453",
   "metadata": {
    "execution": {
     "iopub.execute_input": "2023-08-12T02:31:03.075593Z",
     "iopub.status.busy": "2023-08-12T02:31:03.075150Z",
     "iopub.status.idle": "2023-08-12T02:31:03.533788Z",
     "shell.execute_reply": "2023-08-12T02:31:03.532766Z"
    },
    "papermill": {
     "duration": 0.532214,
     "end_time": "2023-08-12T02:31:03.536677",
     "exception": false,
     "start_time": "2023-08-12T02:31:03.004463",
     "status": "completed"
    },
    "tags": []
   },
   "outputs": [
    {
     "data": {
      "text/plain": [
       "<Axes: >"
      ]
     },
     "execution_count": 25,
     "metadata": {},
     "output_type": "execute_result"
    },
    {
     "data": {
      "image/png": "[encoded data removed]",
      "text/plain": [
       "<Figure size 640x480 with 1 Axes>"
      ]
     },
     "metadata": {},
     "output_type": "display_data"
    }
   ],
   "source": [
    "pd.DataFrame(model_0_history.history).plot()"
   ]
  },
  {
   "cell_type": "code",
   "execution_count": null,
   "id": "5100a397",
   "metadata": {
    "papermill": {
     "duration": 0.074157,
     "end_time": "2023-08-12T02:31:03.684067",
     "exception": false,
     "start_time": "2023-08-12T02:31:03.609910",
     "status": "completed"
    },
    "tags": []
   },
   "outputs": [],
   "source": []
  },
  {
   "cell_type": "code",
   "execution_count": null,
   "id": "ca80181b",
   "metadata": {
    "papermill": {
     "duration": 0.065676,
     "end_time": "2023-08-12T02:31:03.820804",
     "exception": false,
     "start_time": "2023-08-12T02:31:03.755128",
     "status": "completed"
    },
    "tags": []
   },
   "outputs": [],
   "source": []
  }
 ],
 "metadata": {
  "kernelspec": {
   "display_name": "Python 3",
   "language": "python",
   "name": "python3"
  },
  "language_info": {
   "codemirror_mode": {
    "name": "ipython",
    "version": 3
   },
   "file_extension": ".py",
   "mimetype": "text/x-python",
   "name": "python",
   "nbconvert_exporter": "python",
   "pygments_lexer": "ipython3",
   "version": "3.10.12"
  },
  "papermill": {
   "default_parameters": {},
   "duration": 91.036819,
   "end_time": "2023-08-12T02:31:07.040114",
   "environment_variables": {},
   "exception": null,
   "input_path": "__notebook__.ipynb",
   "output_path": "__notebook__.ipynb",
   "parameters": {},
   "start_time": "2023-08-12T02:29:36.003295",
   "version": "2.4.0"
  }
 },
 "nbformat": 4,
 "nbformat_minor": 5
}
