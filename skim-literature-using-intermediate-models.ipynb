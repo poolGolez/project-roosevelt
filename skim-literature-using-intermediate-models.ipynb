{
 "cells": [
  {
   "cell_type": "code",
   "execution_count": 1,
   "id": "30dd33d6",
   "metadata": {
    "_cell_guid": "b1076dfc-b9ad-4769-8c92-a6c4dae69d19",
    "_uuid": "8f2839f25d086af736a60e9eeb907d3b93b6e0e5",
    "execution": {
     "iopub.execute_input": "2023-07-17T10:55:18.137945Z",
     "iopub.status.busy": "2023-07-17T10:55:18.137503Z",
     "iopub.status.idle": "2023-07-17T10:55:18.195063Z",
     "shell.execute_reply": "2023-07-17T10:55:18.193483Z"
    },
    "papermill": {
     "duration": 0.064496,
     "end_time": "2023-07-17T10:55:18.197138",
     "exception": false,
     "start_time": "2023-07-17T10:55:18.132642",
     "status": "completed"
    },
    "tags": []
   },
   "outputs": [
    {
     "name": "stdout",
     "output_type": "stream",
     "text": [
      "/kaggle/input/pubmed-200k-rtc/PubMed_200k_RCT_numbers_replaced_with_at_sign/dev.csv\n",
      "/kaggle/input/pubmed-200k-rtc/PubMed_200k_RCT_numbers_replaced_with_at_sign/test.txt\n",
      "/kaggle/input/pubmed-200k-rtc/PubMed_200k_RCT_numbers_replaced_with_at_sign/dev.txt\n",
      "/kaggle/input/pubmed-200k-rtc/PubMed_200k_RCT_numbers_replaced_with_at_sign/train.csv\n",
      "/kaggle/input/pubmed-200k-rtc/PubMed_200k_RCT_numbers_replaced_with_at_sign/test.csv\n",
      "/kaggle/input/pubmed-200k-rtc/PubMed_200k_RCT_numbers_replaced_with_at_sign/train/train.txt\n",
      "/kaggle/input/pubmed-200k-rtc/PubMed_200k_RCT/dev.csv\n",
      "/kaggle/input/pubmed-200k-rtc/PubMed_200k_RCT/test.txt\n",
      "/kaggle/input/pubmed-200k-rtc/PubMed_200k_RCT/dev.txt\n",
      "/kaggle/input/pubmed-200k-rtc/PubMed_200k_RCT/train.csv\n",
      "/kaggle/input/pubmed-200k-rtc/PubMed_200k_RCT/test.csv\n",
      "/kaggle/input/pubmed-200k-rtc/PubMed_200k_RCT/train/train.txt\n",
      "/kaggle/input/pubmed-200k-rtc/PubMed_20k_RCT/dev.csv\n",
      "/kaggle/input/pubmed-200k-rtc/PubMed_20k_RCT/test.txt\n",
      "/kaggle/input/pubmed-200k-rtc/PubMed_20k_RCT/train.txt\n",
      "/kaggle/input/pubmed-200k-rtc/PubMed_20k_RCT/dev.txt\n",
      "/kaggle/input/pubmed-200k-rtc/PubMed_20k_RCT/train.csv\n",
      "/kaggle/input/pubmed-200k-rtc/PubMed_20k_RCT/test.csv\n",
      "/kaggle/input/pubmed-200k-rtc/PubMed_20k_RCT_numbers_replaced_with_at_sign/dev.csv\n",
      "/kaggle/input/pubmed-200k-rtc/PubMed_20k_RCT_numbers_replaced_with_at_sign/test.txt\n",
      "/kaggle/input/pubmed-200k-rtc/PubMed_20k_RCT_numbers_replaced_with_at_sign/train.txt\n",
      "/kaggle/input/pubmed-200k-rtc/PubMed_20k_RCT_numbers_replaced_with_at_sign/dev.txt\n",
      "/kaggle/input/pubmed-200k-rtc/PubMed_20k_RCT_numbers_replaced_with_at_sign/train.csv\n",
      "/kaggle/input/pubmed-200k-rtc/PubMed_20k_RCT_numbers_replaced_with_at_sign/test.csv\n"
     ]
    }
   ],
   "source": [
    "# This Python 3 environment comes with many helpful analytics libraries installed\n",
    "# It is defined by the kaggle/python Docker image: https://github.com/kaggle/docker-python\n",
    "# For example, here's several helpful packages to load\n",
    "\n",
    "import numpy as np # linear algebra\n",
    "import pandas as pd # data processing, CSV file I/O (e.g. pd.read_csv)\n",
    "\n",
    "# Input data files are available in the read-only \"../input/\" directory\n",
    "# For example, running this (by clicking run or pressing Shift+Enter) will list all files under the input directory\n",
    "\n",
    "import os\n",
    "for dirname, _, filenames in os.walk('/kaggle/input'):\n",
    "    for filename in filenames:\n",
    "        print(os.path.join(dirname, filename))\n",
    "\n",
    "# You can write up to 20GB to the current directory (/kaggle/working/) that gets preserved as output when you create a version using \"Save & Run All\" \n",
    "# You can also write temporary files to /kaggle/temp/, but they won't be saved outside of the current session"
   ]
  },
  {
   "cell_type": "markdown",
   "id": "ed5461cc",
   "metadata": {
    "papermill": {
     "duration": 0.002097,
     "end_time": "2023-07-17T10:55:18.201747",
     "exception": false,
     "start_time": "2023-07-17T10:55:18.199650",
     "status": "completed"
    },
    "tags": []
   },
   "source": [
    "# Data Ingestion"
   ]
  },
  {
   "cell_type": "code",
   "execution_count": 2,
   "id": "caf2d9d4",
   "metadata": {
    "execution": {
     "iopub.execute_input": "2023-07-17T10:55:18.208204Z",
     "iopub.status.busy": "2023-07-17T10:55:18.207207Z",
     "iopub.status.idle": "2023-07-17T10:55:19.420767Z",
     "shell.execute_reply": "2023-07-17T10:55:19.419792Z"
    },
    "papermill": {
     "duration": 1.219857,
     "end_time": "2023-07-17T10:55:19.423954",
     "exception": false,
     "start_time": "2023-07-17T10:55:18.204097",
     "status": "completed"
    },
    "tags": []
   },
   "outputs": [
    {
     "name": "stdout",
     "output_type": "stream",
     "text": [
      "Size of training set: 180040\n"
     ]
    },
    {
     "data": {
      "text/html": [
       "<div>\n",
       "<style scoped>\n",
       "    .dataframe tbody tr th:only-of-type {\n",
       "        vertical-align: middle;\n",
       "    }\n",
       "\n",
       "    .dataframe tbody tr th {\n",
       "        vertical-align: top;\n",
       "    }\n",
       "\n",
       "    .dataframe thead th {\n",
       "        text-align: right;\n",
       "    }\n",
       "</style>\n",
       "<table border=\"1\" class=\"dataframe\">\n",
       "  <thead>\n",
       "    <tr style=\"text-align: right;\">\n",
       "      <th></th>\n",
       "      <th>abstract_id</th>\n",
       "      <th>line_id</th>\n",
       "      <th>abstract_text</th>\n",
       "      <th>line_number</th>\n",
       "      <th>total_lines</th>\n",
       "      <th>target</th>\n",
       "    </tr>\n",
       "  </thead>\n",
       "  <tbody>\n",
       "    <tr>\n",
       "      <th>0</th>\n",
       "      <td>24293578</td>\n",
       "      <td>24293578_0_12</td>\n",
       "      <td>To investigate the efficacy of 6 weeks of dail...</td>\n",
       "      <td>0</td>\n",
       "      <td>12</td>\n",
       "      <td>OBJECTIVE</td>\n",
       "    </tr>\n",
       "    <tr>\n",
       "      <th>1</th>\n",
       "      <td>24293578</td>\n",
       "      <td>24293578_1_12</td>\n",
       "      <td>A total of 125 patients with primary knee OA w...</td>\n",
       "      <td>1</td>\n",
       "      <td>12</td>\n",
       "      <td>METHODS</td>\n",
       "    </tr>\n",
       "    <tr>\n",
       "      <th>2</th>\n",
       "      <td>24293578</td>\n",
       "      <td>24293578_2_12</td>\n",
       "      <td>Outcome measures included pain reduction and i...</td>\n",
       "      <td>2</td>\n",
       "      <td>12</td>\n",
       "      <td>METHODS</td>\n",
       "    </tr>\n",
       "    <tr>\n",
       "      <th>3</th>\n",
       "      <td>24293578</td>\n",
       "      <td>24293578_3_12</td>\n",
       "      <td>Pain was assessed using the visual analog pain...</td>\n",
       "      <td>3</td>\n",
       "      <td>12</td>\n",
       "      <td>METHODS</td>\n",
       "    </tr>\n",
       "    <tr>\n",
       "      <th>4</th>\n",
       "      <td>24293578</td>\n",
       "      <td>24293578_4_12</td>\n",
       "      <td>Secondary outcome measures included the Wester...</td>\n",
       "      <td>4</td>\n",
       "      <td>12</td>\n",
       "      <td>METHODS</td>\n",
       "    </tr>\n",
       "  </tbody>\n",
       "</table>\n",
       "</div>"
      ],
      "text/plain": [
       "   abstract_id        line_id  \\\n",
       "0     24293578  24293578_0_12   \n",
       "1     24293578  24293578_1_12   \n",
       "2     24293578  24293578_2_12   \n",
       "3     24293578  24293578_3_12   \n",
       "4     24293578  24293578_4_12   \n",
       "\n",
       "                                       abstract_text  line_number  \\\n",
       "0  To investigate the efficacy of 6 weeks of dail...            0   \n",
       "1  A total of 125 patients with primary knee OA w...            1   \n",
       "2  Outcome measures included pain reduction and i...            2   \n",
       "3  Pain was assessed using the visual analog pain...            3   \n",
       "4  Secondary outcome measures included the Wester...            4   \n",
       "\n",
       "   total_lines     target  \n",
       "0           12  OBJECTIVE  \n",
       "1           12    METHODS  \n",
       "2           12    METHODS  \n",
       "3           12    METHODS  \n",
       "4           12    METHODS  "
      ]
     },
     "execution_count": 2,
     "metadata": {},
     "output_type": "execute_result"
    }
   ],
   "source": [
    "TRAIN_FILE_LOCATION = '/kaggle/input/pubmed-200k-rtc/PubMed_20k_RCT/train.csv'\n",
    "train_dataset = pd.read_csv(TRAIN_FILE_LOCATION)\n",
    "\n",
    "print(f\"Size of training set: {len(train_dataset)}\")\n",
    "train_dataset.head()"
   ]
  },
  {
   "cell_type": "code",
   "execution_count": 3,
   "id": "23d83a00",
   "metadata": {
    "execution": {
     "iopub.execute_input": "2023-07-17T10:55:19.434893Z",
     "iopub.status.busy": "2023-07-17T10:55:19.434339Z",
     "iopub.status.idle": "2023-07-17T10:55:19.652090Z",
     "shell.execute_reply": "2023-07-17T10:55:19.651115Z"
    },
    "papermill": {
     "duration": 0.226857,
     "end_time": "2023-07-17T10:55:19.655278",
     "exception": false,
     "start_time": "2023-07-17T10:55:19.428421",
     "status": "completed"
    },
    "tags": []
   },
   "outputs": [
    {
     "name": "stdout",
     "output_type": "stream",
     "text": [
      "Size of validation dataset: 30212\n"
     ]
    },
    {
     "data": {
      "text/html": [
       "<div>\n",
       "<style scoped>\n",
       "    .dataframe tbody tr th:only-of-type {\n",
       "        vertical-align: middle;\n",
       "    }\n",
       "\n",
       "    .dataframe tbody tr th {\n",
       "        vertical-align: top;\n",
       "    }\n",
       "\n",
       "    .dataframe thead th {\n",
       "        text-align: right;\n",
       "    }\n",
       "</style>\n",
       "<table border=\"1\" class=\"dataframe\">\n",
       "  <thead>\n",
       "    <tr style=\"text-align: right;\">\n",
       "      <th></th>\n",
       "      <th>abstract_id</th>\n",
       "      <th>line_id</th>\n",
       "      <th>abstract_text</th>\n",
       "      <th>line_number</th>\n",
       "      <th>total_lines</th>\n",
       "      <th>target</th>\n",
       "    </tr>\n",
       "  </thead>\n",
       "  <tbody>\n",
       "    <tr>\n",
       "      <th>0</th>\n",
       "      <td>24290286</td>\n",
       "      <td>24290286_0_10</td>\n",
       "      <td>IgE sensitization to Aspergillus fumigatus and...</td>\n",
       "      <td>0</td>\n",
       "      <td>10</td>\n",
       "      <td>BACKGROUND</td>\n",
       "    </tr>\n",
       "    <tr>\n",
       "      <th>1</th>\n",
       "      <td>24290286</td>\n",
       "      <td>24290286_1_10</td>\n",
       "      <td>It is not clear whether these patients would b...</td>\n",
       "      <td>1</td>\n",
       "      <td>10</td>\n",
       "      <td>BACKGROUND</td>\n",
       "    </tr>\n",
       "    <tr>\n",
       "      <th>2</th>\n",
       "      <td>24290286</td>\n",
       "      <td>24290286_2_10</td>\n",
       "      <td>We sought to determine whether a 3-month cours...</td>\n",
       "      <td>2</td>\n",
       "      <td>10</td>\n",
       "      <td>OBJECTIVE</td>\n",
       "    </tr>\n",
       "    <tr>\n",
       "      <th>3</th>\n",
       "      <td>24290286</td>\n",
       "      <td>24290286_3_10</td>\n",
       "      <td>Asthmatic patients who were IgE sensitized to ...</td>\n",
       "      <td>3</td>\n",
       "      <td>10</td>\n",
       "      <td>METHODS</td>\n",
       "    </tr>\n",
       "    <tr>\n",
       "      <th>4</th>\n",
       "      <td>24290286</td>\n",
       "      <td>24290286_4_10</td>\n",
       "      <td>Primary outcomes were improvement in quality o...</td>\n",
       "      <td>4</td>\n",
       "      <td>10</td>\n",
       "      <td>METHODS</td>\n",
       "    </tr>\n",
       "  </tbody>\n",
       "</table>\n",
       "</div>"
      ],
      "text/plain": [
       "   abstract_id        line_id  \\\n",
       "0     24290286  24290286_0_10   \n",
       "1     24290286  24290286_1_10   \n",
       "2     24290286  24290286_2_10   \n",
       "3     24290286  24290286_3_10   \n",
       "4     24290286  24290286_4_10   \n",
       "\n",
       "                                       abstract_text  line_number  \\\n",
       "0  IgE sensitization to Aspergillus fumigatus and...            0   \n",
       "1  It is not clear whether these patients would b...            1   \n",
       "2  We sought to determine whether a 3-month cours...            2   \n",
       "3  Asthmatic patients who were IgE sensitized to ...            3   \n",
       "4  Primary outcomes were improvement in quality o...            4   \n",
       "\n",
       "   total_lines      target  \n",
       "0           10  BACKGROUND  \n",
       "1           10  BACKGROUND  \n",
       "2           10   OBJECTIVE  \n",
       "3           10     METHODS  \n",
       "4           10     METHODS  "
      ]
     },
     "execution_count": 3,
     "metadata": {},
     "output_type": "execute_result"
    }
   ],
   "source": [
    "VAL_FILE_LOCATION = '/kaggle/input/pubmed-200k-rtc/PubMed_20k_RCT/dev.csv'\n",
    "val_dataset = pd.read_csv(VAL_FILE_LOCATION)\n",
    "\n",
    "print(f\"Size of validation dataset: {len(val_dataset)}\")\n",
    "val_dataset.head()"
   ]
  },
  {
   "cell_type": "code",
   "execution_count": 4,
   "id": "794fbd92",
   "metadata": {
    "execution": {
     "iopub.execute_input": "2023-07-17T10:55:19.666811Z",
     "iopub.status.busy": "2023-07-17T10:55:19.666389Z",
     "iopub.status.idle": "2023-07-17T10:55:19.894329Z",
     "shell.execute_reply": "2023-07-17T10:55:19.893334Z"
    },
    "papermill": {
     "duration": 0.236596,
     "end_time": "2023-07-17T10:55:19.897248",
     "exception": false,
     "start_time": "2023-07-17T10:55:19.660652",
     "status": "completed"
    },
    "tags": []
   },
   "outputs": [
    {
     "name": "stdout",
     "output_type": "stream",
     "text": [
      "Size of test dataset: 30135\n"
     ]
    },
    {
     "data": {
      "text/html": [
       "<div>\n",
       "<style scoped>\n",
       "    .dataframe tbody tr th:only-of-type {\n",
       "        vertical-align: middle;\n",
       "    }\n",
       "\n",
       "    .dataframe tbody tr th {\n",
       "        vertical-align: top;\n",
       "    }\n",
       "\n",
       "    .dataframe thead th {\n",
       "        text-align: right;\n",
       "    }\n",
       "</style>\n",
       "<table border=\"1\" class=\"dataframe\">\n",
       "  <thead>\n",
       "    <tr style=\"text-align: right;\">\n",
       "      <th></th>\n",
       "      <th>abstract_id</th>\n",
       "      <th>line_id</th>\n",
       "      <th>abstract_text</th>\n",
       "      <th>line_number</th>\n",
       "      <th>total_lines</th>\n",
       "      <th>target</th>\n",
       "    </tr>\n",
       "  </thead>\n",
       "  <tbody>\n",
       "    <tr>\n",
       "      <th>0</th>\n",
       "      <td>24845963</td>\n",
       "      <td>24845963_0_9</td>\n",
       "      <td>This study analyzed liver function abnormaliti...</td>\n",
       "      <td>0</td>\n",
       "      <td>9</td>\n",
       "      <td>BACKGROUND</td>\n",
       "    </tr>\n",
       "    <tr>\n",
       "      <th>1</th>\n",
       "      <td>24845963</td>\n",
       "      <td>24845963_1_9</td>\n",
       "      <td>A post hoc analysis was conducted with the use...</td>\n",
       "      <td>1</td>\n",
       "      <td>9</td>\n",
       "      <td>RESULTS</td>\n",
       "    </tr>\n",
       "    <tr>\n",
       "      <th>2</th>\n",
       "      <td>24845963</td>\n",
       "      <td>24845963_2_9</td>\n",
       "      <td>Liver function tests ( LFTs ) were measured at...</td>\n",
       "      <td>2</td>\n",
       "      <td>9</td>\n",
       "      <td>RESULTS</td>\n",
       "    </tr>\n",
       "    <tr>\n",
       "      <th>3</th>\n",
       "      <td>24845963</td>\n",
       "      <td>24845963_3_9</td>\n",
       "      <td>Survival analyses were used to assess the asso...</td>\n",
       "      <td>3</td>\n",
       "      <td>9</td>\n",
       "      <td>RESULTS</td>\n",
       "    </tr>\n",
       "    <tr>\n",
       "      <th>4</th>\n",
       "      <td>24845963</td>\n",
       "      <td>24845963_4_9</td>\n",
       "      <td>The percentage of patients with abnormal LFTs ...</td>\n",
       "      <td>4</td>\n",
       "      <td>9</td>\n",
       "      <td>RESULTS</td>\n",
       "    </tr>\n",
       "  </tbody>\n",
       "</table>\n",
       "</div>"
      ],
      "text/plain": [
       "   abstract_id       line_id  \\\n",
       "0     24845963  24845963_0_9   \n",
       "1     24845963  24845963_1_9   \n",
       "2     24845963  24845963_2_9   \n",
       "3     24845963  24845963_3_9   \n",
       "4     24845963  24845963_4_9   \n",
       "\n",
       "                                       abstract_text  line_number  \\\n",
       "0  This study analyzed liver function abnormaliti...            0   \n",
       "1  A post hoc analysis was conducted with the use...            1   \n",
       "2  Liver function tests ( LFTs ) were measured at...            2   \n",
       "3  Survival analyses were used to assess the asso...            3   \n",
       "4  The percentage of patients with abnormal LFTs ...            4   \n",
       "\n",
       "   total_lines      target  \n",
       "0            9  BACKGROUND  \n",
       "1            9     RESULTS  \n",
       "2            9     RESULTS  \n",
       "3            9     RESULTS  \n",
       "4            9     RESULTS  "
      ]
     },
     "execution_count": 4,
     "metadata": {},
     "output_type": "execute_result"
    }
   ],
   "source": [
    "TEST_FILE_LOCATION = '/kaggle/input/pubmed-200k-rtc/PubMed_20k_RCT/test.csv'\n",
    "test_dataset = pd.read_csv(TEST_FILE_LOCATION)\n",
    "\n",
    "print(f\"Size of test dataset: {len(test_dataset)}\")\n",
    "test_dataset.head()"
   ]
  }
 ],
 "metadata": {
  "kernelspec": {
   "display_name": "Python 3",
   "language": "python",
   "name": "python3"
  },
  "language_info": {
   "codemirror_mode": {
    "name": "ipython",
    "version": 3
   },
   "file_extension": ".py",
   "mimetype": "text/x-python",
   "name": "python",
   "nbconvert_exporter": "python",
   "pygments_lexer": "ipython3",
   "version": "3.10.12"
  },
  "papermill": {
   "default_parameters": {},
   "duration": 16.589318,
   "end_time": "2023-07-17T10:55:20.531792",
   "environment_variables": {},
   "exception": null,
   "input_path": "__notebook__.ipynb",
   "output_path": "__notebook__.ipynb",
   "parameters": {},
   "start_time": "2023-07-17T10:55:03.942474",
   "version": "2.4.0"
  }
 },
 "nbformat": 4,
 "nbformat_minor": 5
}
