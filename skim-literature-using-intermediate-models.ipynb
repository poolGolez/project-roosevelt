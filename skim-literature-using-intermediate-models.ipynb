{
 "cells": [
  {
   "cell_type": "code",
   "execution_count": 1,
   "id": "1f3ca60a",
   "metadata": {
    "_cell_guid": "b1076dfc-b9ad-4769-8c92-a6c4dae69d19",
    "_uuid": "8f2839f25d086af736a60e9eeb907d3b93b6e0e5",
    "execution": {
     "iopub.execute_input": "2023-07-17T11:49:02.396029Z",
     "iopub.status.busy": "2023-07-17T11:49:02.395340Z",
     "iopub.status.idle": "2023-07-17T11:49:02.467827Z",
     "shell.execute_reply": "2023-07-17T11:49:02.466864Z"
    },
    "papermill": {
     "duration": 0.082922,
     "end_time": "2023-07-17T11:49:02.470048",
     "exception": false,
     "start_time": "2023-07-17T11:49:02.387126",
     "status": "completed"
    },
    "tags": []
   },
   "outputs": [
    {
     "name": "stdout",
     "output_type": "stream",
     "text": [
      "/kaggle/input/pubmed-200k-rtc/PubMed_200k_RCT_numbers_replaced_with_at_sign/dev.csv\n",
      "/kaggle/input/pubmed-200k-rtc/PubMed_200k_RCT_numbers_replaced_with_at_sign/test.txt\n",
      "/kaggle/input/pubmed-200k-rtc/PubMed_200k_RCT_numbers_replaced_with_at_sign/dev.txt\n",
      "/kaggle/input/pubmed-200k-rtc/PubMed_200k_RCT_numbers_replaced_with_at_sign/train.csv\n",
      "/kaggle/input/pubmed-200k-rtc/PubMed_200k_RCT_numbers_replaced_with_at_sign/test.csv\n",
      "/kaggle/input/pubmed-200k-rtc/PubMed_200k_RCT_numbers_replaced_with_at_sign/train/train.txt\n",
      "/kaggle/input/pubmed-200k-rtc/PubMed_200k_RCT/dev.csv\n",
      "/kaggle/input/pubmed-200k-rtc/PubMed_200k_RCT/test.txt\n",
      "/kaggle/input/pubmed-200k-rtc/PubMed_200k_RCT/dev.txt\n",
      "/kaggle/input/pubmed-200k-rtc/PubMed_200k_RCT/train.csv\n",
      "/kaggle/input/pubmed-200k-rtc/PubMed_200k_RCT/test.csv\n",
      "/kaggle/input/pubmed-200k-rtc/PubMed_200k_RCT/train/train.txt\n",
      "/kaggle/input/pubmed-200k-rtc/PubMed_20k_RCT/dev.csv\n",
      "/kaggle/input/pubmed-200k-rtc/PubMed_20k_RCT/test.txt\n",
      "/kaggle/input/pubmed-200k-rtc/PubMed_20k_RCT/train.txt\n",
      "/kaggle/input/pubmed-200k-rtc/PubMed_20k_RCT/dev.txt\n",
      "/kaggle/input/pubmed-200k-rtc/PubMed_20k_RCT/train.csv\n",
      "/kaggle/input/pubmed-200k-rtc/PubMed_20k_RCT/test.csv\n",
      "/kaggle/input/pubmed-200k-rtc/PubMed_20k_RCT_numbers_replaced_with_at_sign/dev.csv\n",
      "/kaggle/input/pubmed-200k-rtc/PubMed_20k_RCT_numbers_replaced_with_at_sign/test.txt\n",
      "/kaggle/input/pubmed-200k-rtc/PubMed_20k_RCT_numbers_replaced_with_at_sign/train.txt\n",
      "/kaggle/input/pubmed-200k-rtc/PubMed_20k_RCT_numbers_replaced_with_at_sign/dev.txt\n",
      "/kaggle/input/pubmed-200k-rtc/PubMed_20k_RCT_numbers_replaced_with_at_sign/train.csv\n",
      "/kaggle/input/pubmed-200k-rtc/PubMed_20k_RCT_numbers_replaced_with_at_sign/test.csv\n"
     ]
    }
   ],
   "source": [
    "# This Python 3 environment comes with many helpful analytics libraries installed\n",
    "# It is defined by the kaggle/python Docker image: https://github.com/kaggle/docker-python\n",
    "# For example, here's several helpful packages to load\n",
    "\n",
    "import numpy as np # linear algebra\n",
    "import pandas as pd # data processing, CSV file I/O (e.g. pd.read_csv)\n",
    "\n",
    "# Input data files are available in the read-only \"../input/\" directory\n",
    "# For example, running this (by clicking run or pressing Shift+Enter) will list all files under the input directory\n",
    "\n",
    "import os\n",
    "for dirname, _, filenames in os.walk('/kaggle/input'):\n",
    "    for filename in filenames:\n",
    "        print(os.path.join(dirname, filename))\n",
    "\n",
    "# You can write up to 20GB to the current directory (/kaggle/working/) that gets preserved as output when you create a version using \"Save & Run All\" \n",
    "# You can also write temporary files to /kaggle/temp/, but they won't be saved outside of the current session"
   ]
  },
  {
   "cell_type": "markdown",
   "id": "23fbf885",
   "metadata": {
    "papermill": {
     "duration": 0.0044,
     "end_time": "2023-07-17T11:49:02.479322",
     "exception": false,
     "start_time": "2023-07-17T11:49:02.474922",
     "status": "completed"
    },
    "tags": []
   },
   "source": [
    "# Data Ingestion"
   ]
  },
  {
   "cell_type": "code",
   "execution_count": 2,
   "id": "d43cc614",
   "metadata": {
    "execution": {
     "iopub.execute_input": "2023-07-17T11:49:02.489755Z",
     "iopub.status.busy": "2023-07-17T11:49:02.489480Z",
     "iopub.status.idle": "2023-07-17T11:49:03.372317Z",
     "shell.execute_reply": "2023-07-17T11:49:03.370712Z"
    },
    "papermill": {
     "duration": 0.890676,
     "end_time": "2023-07-17T11:49:03.374724",
     "exception": false,
     "start_time": "2023-07-17T11:49:02.484048",
     "status": "completed"
    },
    "tags": []
   },
   "outputs": [
    {
     "name": "stdout",
     "output_type": "stream",
     "text": [
      "Size of training set: 180040\n"
     ]
    },
    {
     "data": {
      "text/html": [
       "<div>\n",
       "<style scoped>\n",
       "    .dataframe tbody tr th:only-of-type {\n",
       "        vertical-align: middle;\n",
       "    }\n",
       "\n",
       "    .dataframe tbody tr th {\n",
       "        vertical-align: top;\n",
       "    }\n",
       "\n",
       "    .dataframe thead th {\n",
       "        text-align: right;\n",
       "    }\n",
       "</style>\n",
       "<table border=\"1\" class=\"dataframe\">\n",
       "  <thead>\n",
       "    <tr style=\"text-align: right;\">\n",
       "      <th></th>\n",
       "      <th>abstract_id</th>\n",
       "      <th>line_id</th>\n",
       "      <th>abstract_text</th>\n",
       "      <th>line_number</th>\n",
       "      <th>total_lines</th>\n",
       "      <th>target</th>\n",
       "    </tr>\n",
       "  </thead>\n",
       "  <tbody>\n",
       "    <tr>\n",
       "      <th>0</th>\n",
       "      <td>24293578</td>\n",
       "      <td>24293578_0_12</td>\n",
       "      <td>To investigate the efficacy of 6 weeks of dail...</td>\n",
       "      <td>0</td>\n",
       "      <td>12</td>\n",
       "      <td>OBJECTIVE</td>\n",
       "    </tr>\n",
       "    <tr>\n",
       "      <th>1</th>\n",
       "      <td>24293578</td>\n",
       "      <td>24293578_1_12</td>\n",
       "      <td>A total of 125 patients with primary knee OA w...</td>\n",
       "      <td>1</td>\n",
       "      <td>12</td>\n",
       "      <td>METHODS</td>\n",
       "    </tr>\n",
       "    <tr>\n",
       "      <th>2</th>\n",
       "      <td>24293578</td>\n",
       "      <td>24293578_2_12</td>\n",
       "      <td>Outcome measures included pain reduction and i...</td>\n",
       "      <td>2</td>\n",
       "      <td>12</td>\n",
       "      <td>METHODS</td>\n",
       "    </tr>\n",
       "    <tr>\n",
       "      <th>3</th>\n",
       "      <td>24293578</td>\n",
       "      <td>24293578_3_12</td>\n",
       "      <td>Pain was assessed using the visual analog pain...</td>\n",
       "      <td>3</td>\n",
       "      <td>12</td>\n",
       "      <td>METHODS</td>\n",
       "    </tr>\n",
       "    <tr>\n",
       "      <th>4</th>\n",
       "      <td>24293578</td>\n",
       "      <td>24293578_4_12</td>\n",
       "      <td>Secondary outcome measures included the Wester...</td>\n",
       "      <td>4</td>\n",
       "      <td>12</td>\n",
       "      <td>METHODS</td>\n",
       "    </tr>\n",
       "  </tbody>\n",
       "</table>\n",
       "</div>"
      ],
      "text/plain": [
       "   abstract_id        line_id  \\\n",
       "0     24293578  24293578_0_12   \n",
       "1     24293578  24293578_1_12   \n",
       "2     24293578  24293578_2_12   \n",
       "3     24293578  24293578_3_12   \n",
       "4     24293578  24293578_4_12   \n",
       "\n",
       "                                       abstract_text  line_number  \\\n",
       "0  To investigate the efficacy of 6 weeks of dail...            0   \n",
       "1  A total of 125 patients with primary knee OA w...            1   \n",
       "2  Outcome measures included pain reduction and i...            2   \n",
       "3  Pain was assessed using the visual analog pain...            3   \n",
       "4  Secondary outcome measures included the Wester...            4   \n",
       "\n",
       "   total_lines     target  \n",
       "0           12  OBJECTIVE  \n",
       "1           12    METHODS  \n",
       "2           12    METHODS  \n",
       "3           12    METHODS  \n",
       "4           12    METHODS  "
      ]
     },
     "execution_count": 2,
     "metadata": {},
     "output_type": "execute_result"
    }
   ],
   "source": [
    "TRAIN_FILE_LOCATION = '/kaggle/input/pubmed-200k-rtc/PubMed_20k_RCT/train.csv'\n",
    "train_dataset = pd.read_csv(TRAIN_FILE_LOCATION)\n",
    "\n",
    "print(f\"Size of training set: {len(train_dataset)}\")\n",
    "train_dataset.head()"
   ]
  },
  {
   "cell_type": "code",
   "execution_count": 3,
   "id": "17380844",
   "metadata": {
    "execution": {
     "iopub.execute_input": "2023-07-17T11:49:03.387477Z",
     "iopub.status.busy": "2023-07-17T11:49:03.386060Z",
     "iopub.status.idle": "2023-07-17T11:49:03.554257Z",
     "shell.execute_reply": "2023-07-17T11:49:03.553059Z"
    },
    "papermill": {
     "duration": 0.176539,
     "end_time": "2023-07-17T11:49:03.556551",
     "exception": false,
     "start_time": "2023-07-17T11:49:03.380012",
     "status": "completed"
    },
    "tags": []
   },
   "outputs": [
    {
     "name": "stdout",
     "output_type": "stream",
     "text": [
      "Size of validation dataset: 30212\n"
     ]
    },
    {
     "data": {
      "text/html": [
       "<div>\n",
       "<style scoped>\n",
       "    .dataframe tbody tr th:only-of-type {\n",
       "        vertical-align: middle;\n",
       "    }\n",
       "\n",
       "    .dataframe tbody tr th {\n",
       "        vertical-align: top;\n",
       "    }\n",
       "\n",
       "    .dataframe thead th {\n",
       "        text-align: right;\n",
       "    }\n",
       "</style>\n",
       "<table border=\"1\" class=\"dataframe\">\n",
       "  <thead>\n",
       "    <tr style=\"text-align: right;\">\n",
       "      <th></th>\n",
       "      <th>abstract_id</th>\n",
       "      <th>line_id</th>\n",
       "      <th>abstract_text</th>\n",
       "      <th>line_number</th>\n",
       "      <th>total_lines</th>\n",
       "      <th>target</th>\n",
       "    </tr>\n",
       "  </thead>\n",
       "  <tbody>\n",
       "    <tr>\n",
       "      <th>0</th>\n",
       "      <td>24290286</td>\n",
       "      <td>24290286_0_10</td>\n",
       "      <td>IgE sensitization to Aspergillus fumigatus and...</td>\n",
       "      <td>0</td>\n",
       "      <td>10</td>\n",
       "      <td>BACKGROUND</td>\n",
       "    </tr>\n",
       "    <tr>\n",
       "      <th>1</th>\n",
       "      <td>24290286</td>\n",
       "      <td>24290286_1_10</td>\n",
       "      <td>It is not clear whether these patients would b...</td>\n",
       "      <td>1</td>\n",
       "      <td>10</td>\n",
       "      <td>BACKGROUND</td>\n",
       "    </tr>\n",
       "    <tr>\n",
       "      <th>2</th>\n",
       "      <td>24290286</td>\n",
       "      <td>24290286_2_10</td>\n",
       "      <td>We sought to determine whether a 3-month cours...</td>\n",
       "      <td>2</td>\n",
       "      <td>10</td>\n",
       "      <td>OBJECTIVE</td>\n",
       "    </tr>\n",
       "    <tr>\n",
       "      <th>3</th>\n",
       "      <td>24290286</td>\n",
       "      <td>24290286_3_10</td>\n",
       "      <td>Asthmatic patients who were IgE sensitized to ...</td>\n",
       "      <td>3</td>\n",
       "      <td>10</td>\n",
       "      <td>METHODS</td>\n",
       "    </tr>\n",
       "    <tr>\n",
       "      <th>4</th>\n",
       "      <td>24290286</td>\n",
       "      <td>24290286_4_10</td>\n",
       "      <td>Primary outcomes were improvement in quality o...</td>\n",
       "      <td>4</td>\n",
       "      <td>10</td>\n",
       "      <td>METHODS</td>\n",
       "    </tr>\n",
       "  </tbody>\n",
       "</table>\n",
       "</div>"
      ],
      "text/plain": [
       "   abstract_id        line_id  \\\n",
       "0     24290286  24290286_0_10   \n",
       "1     24290286  24290286_1_10   \n",
       "2     24290286  24290286_2_10   \n",
       "3     24290286  24290286_3_10   \n",
       "4     24290286  24290286_4_10   \n",
       "\n",
       "                                       abstract_text  line_number  \\\n",
       "0  IgE sensitization to Aspergillus fumigatus and...            0   \n",
       "1  It is not clear whether these patients would b...            1   \n",
       "2  We sought to determine whether a 3-month cours...            2   \n",
       "3  Asthmatic patients who were IgE sensitized to ...            3   \n",
       "4  Primary outcomes were improvement in quality o...            4   \n",
       "\n",
       "   total_lines      target  \n",
       "0           10  BACKGROUND  \n",
       "1           10  BACKGROUND  \n",
       "2           10   OBJECTIVE  \n",
       "3           10     METHODS  \n",
       "4           10     METHODS  "
      ]
     },
     "execution_count": 3,
     "metadata": {},
     "output_type": "execute_result"
    }
   ],
   "source": [
    "VAL_FILE_LOCATION = '/kaggle/input/pubmed-200k-rtc/PubMed_20k_RCT/dev.csv'\n",
    "val_dataset = pd.read_csv(VAL_FILE_LOCATION)\n",
    "\n",
    "print(f\"Size of validation dataset: {len(val_dataset)}\")\n",
    "val_dataset.head()"
   ]
  },
  {
   "cell_type": "code",
   "execution_count": 4,
   "id": "9be6701c",
   "metadata": {
    "execution": {
     "iopub.execute_input": "2023-07-17T11:49:03.569091Z",
     "iopub.status.busy": "2023-07-17T11:49:03.568806Z",
     "iopub.status.idle": "2023-07-17T11:49:03.727924Z",
     "shell.execute_reply": "2023-07-17T11:49:03.726709Z"
    },
    "papermill": {
     "duration": 0.167915,
     "end_time": "2023-07-17T11:49:03.730158",
     "exception": false,
     "start_time": "2023-07-17T11:49:03.562243",
     "status": "completed"
    },
    "tags": []
   },
   "outputs": [
    {
     "name": "stdout",
     "output_type": "stream",
     "text": [
      "Size of test dataset: 30135\n"
     ]
    },
    {
     "data": {
      "text/html": [
       "<div>\n",
       "<style scoped>\n",
       "    .dataframe tbody tr th:only-of-type {\n",
       "        vertical-align: middle;\n",
       "    }\n",
       "\n",
       "    .dataframe tbody tr th {\n",
       "        vertical-align: top;\n",
       "    }\n",
       "\n",
       "    .dataframe thead th {\n",
       "        text-align: right;\n",
       "    }\n",
       "</style>\n",
       "<table border=\"1\" class=\"dataframe\">\n",
       "  <thead>\n",
       "    <tr style=\"text-align: right;\">\n",
       "      <th></th>\n",
       "      <th>abstract_id</th>\n",
       "      <th>line_id</th>\n",
       "      <th>abstract_text</th>\n",
       "      <th>line_number</th>\n",
       "      <th>total_lines</th>\n",
       "      <th>target</th>\n",
       "    </tr>\n",
       "  </thead>\n",
       "  <tbody>\n",
       "    <tr>\n",
       "      <th>0</th>\n",
       "      <td>24845963</td>\n",
       "      <td>24845963_0_9</td>\n",
       "      <td>This study analyzed liver function abnormaliti...</td>\n",
       "      <td>0</td>\n",
       "      <td>9</td>\n",
       "      <td>BACKGROUND</td>\n",
       "    </tr>\n",
       "    <tr>\n",
       "      <th>1</th>\n",
       "      <td>24845963</td>\n",
       "      <td>24845963_1_9</td>\n",
       "      <td>A post hoc analysis was conducted with the use...</td>\n",
       "      <td>1</td>\n",
       "      <td>9</td>\n",
       "      <td>RESULTS</td>\n",
       "    </tr>\n",
       "    <tr>\n",
       "      <th>2</th>\n",
       "      <td>24845963</td>\n",
       "      <td>24845963_2_9</td>\n",
       "      <td>Liver function tests ( LFTs ) were measured at...</td>\n",
       "      <td>2</td>\n",
       "      <td>9</td>\n",
       "      <td>RESULTS</td>\n",
       "    </tr>\n",
       "    <tr>\n",
       "      <th>3</th>\n",
       "      <td>24845963</td>\n",
       "      <td>24845963_3_9</td>\n",
       "      <td>Survival analyses were used to assess the asso...</td>\n",
       "      <td>3</td>\n",
       "      <td>9</td>\n",
       "      <td>RESULTS</td>\n",
       "    </tr>\n",
       "    <tr>\n",
       "      <th>4</th>\n",
       "      <td>24845963</td>\n",
       "      <td>24845963_4_9</td>\n",
       "      <td>The percentage of patients with abnormal LFTs ...</td>\n",
       "      <td>4</td>\n",
       "      <td>9</td>\n",
       "      <td>RESULTS</td>\n",
       "    </tr>\n",
       "  </tbody>\n",
       "</table>\n",
       "</div>"
      ],
      "text/plain": [
       "   abstract_id       line_id  \\\n",
       "0     24845963  24845963_0_9   \n",
       "1     24845963  24845963_1_9   \n",
       "2     24845963  24845963_2_9   \n",
       "3     24845963  24845963_3_9   \n",
       "4     24845963  24845963_4_9   \n",
       "\n",
       "                                       abstract_text  line_number  \\\n",
       "0  This study analyzed liver function abnormaliti...            0   \n",
       "1  A post hoc analysis was conducted with the use...            1   \n",
       "2  Liver function tests ( LFTs ) were measured at...            2   \n",
       "3  Survival analyses were used to assess the asso...            3   \n",
       "4  The percentage of patients with abnormal LFTs ...            4   \n",
       "\n",
       "   total_lines      target  \n",
       "0            9  BACKGROUND  \n",
       "1            9     RESULTS  \n",
       "2            9     RESULTS  \n",
       "3            9     RESULTS  \n",
       "4            9     RESULTS  "
      ]
     },
     "execution_count": 4,
     "metadata": {},
     "output_type": "execute_result"
    }
   ],
   "source": [
    "TEST_FILE_LOCATION = '/kaggle/input/pubmed-200k-rtc/PubMed_20k_RCT/test.csv'\n",
    "test_dataset = pd.read_csv(TEST_FILE_LOCATION)\n",
    "\n",
    "print(f\"Size of test dataset: {len(test_dataset)}\")\n",
    "test_dataset.head()"
   ]
  },
  {
   "cell_type": "markdown",
   "id": "ee9a0442",
   "metadata": {
    "papermill": {
     "duration": 0.005399,
     "end_time": "2023-07-17T11:49:03.741726",
     "exception": false,
     "start_time": "2023-07-17T11:49:03.736327",
     "status": "completed"
    },
    "tags": []
   },
   "source": [
    "# Preprocessing the datasets"
   ]
  },
  {
   "cell_type": "markdown",
   "id": "2a1624ca",
   "metadata": {
    "papermill": {
     "duration": 0.005379,
     "end_time": "2023-07-17T11:49:03.752624",
     "exception": false,
     "start_time": "2023-07-17T11:49:03.747245",
     "status": "completed"
    },
    "tags": []
   },
   "source": [
    "## 1. Encoding the classes"
   ]
  },
  {
   "cell_type": "code",
   "execution_count": 5,
   "id": "a442eced",
   "metadata": {
    "execution": {
     "iopub.execute_input": "2023-07-17T11:49:03.766414Z",
     "iopub.status.busy": "2023-07-17T11:49:03.764965Z",
     "iopub.status.idle": "2023-07-17T11:49:05.382798Z",
     "shell.execute_reply": "2023-07-17T11:49:05.381574Z"
    },
    "papermill": {
     "duration": 1.626856,
     "end_time": "2023-07-17T11:49:05.385026",
     "exception": false,
     "start_time": "2023-07-17T11:49:03.758170",
     "status": "completed"
    },
    "tags": []
   },
   "outputs": [
    {
     "name": "stderr",
     "output_type": "stream",
     "text": [
      "/opt/conda/lib/python3.10/site-packages/scipy/__init__.py:146: UserWarning: A NumPy version >=1.16.5 and <1.23.0 is required for this version of SciPy (detected version 1.23.5\n",
      "  warnings.warn(f\"A NumPy version >={np_minversion} and <{np_maxversion}\"\n"
     ]
    },
    {
     "data": {
      "text/plain": [
       "array(['BACKGROUND', 'CONCLUSIONS', 'METHODS', 'OBJECTIVE', 'RESULTS'],\n",
       "      dtype=object)"
      ]
     },
     "execution_count": 5,
     "metadata": {},
     "output_type": "execute_result"
    }
   ],
   "source": [
    "from sklearn.preprocessing import LabelEncoder\n",
    "\n",
    "y_encoder = LabelEncoder()\n",
    "y_encoder.fit(train_dataset['target'])\n",
    "CLASSES = y_encoder.classes_\n",
    "CLASSES"
   ]
  },
  {
   "cell_type": "code",
   "execution_count": 6,
   "id": "4afb3597",
   "metadata": {
    "execution": {
     "iopub.execute_input": "2023-07-17T11:49:05.399530Z",
     "iopub.status.busy": "2023-07-17T11:49:05.398071Z",
     "iopub.status.idle": "2023-07-17T11:49:05.449033Z",
     "shell.execute_reply": "2023-07-17T11:49:05.448094Z"
    },
    "papermill": {
     "duration": 0.060158,
     "end_time": "2023-07-17T11:49:05.451116",
     "exception": false,
     "start_time": "2023-07-17T11:49:05.390958",
     "status": "completed"
    },
    "tags": []
   },
   "outputs": [
    {
     "data": {
      "text/plain": [
       "array([3, 2, 2, ..., 4, 1, 1])"
      ]
     },
     "execution_count": 6,
     "metadata": {},
     "output_type": "execute_result"
    }
   ],
   "source": [
    "y_train = y_encoder.transform(train_dataset['target'])\n",
    "y_train"
   ]
  },
  {
   "cell_type": "code",
   "execution_count": 7,
   "id": "c213dc88",
   "metadata": {
    "execution": {
     "iopub.execute_input": "2023-07-17T11:49:05.464586Z",
     "iopub.status.busy": "2023-07-17T11:49:05.464298Z",
     "iopub.status.idle": "2023-07-17T11:49:05.478435Z",
     "shell.execute_reply": "2023-07-17T11:49:05.477470Z"
    },
    "papermill": {
     "duration": 0.023081,
     "end_time": "2023-07-17T11:49:05.480488",
     "exception": false,
     "start_time": "2023-07-17T11:49:05.457407",
     "status": "completed"
    },
    "tags": []
   },
   "outputs": [
    {
     "data": {
      "text/plain": [
       "array([0, 0, 3, ..., 4, 1, 1])"
      ]
     },
     "execution_count": 7,
     "metadata": {},
     "output_type": "execute_result"
    }
   ],
   "source": [
    "y_val = y_encoder.transform(val_dataset['target'])\n",
    "y_val"
   ]
  },
  {
   "cell_type": "code",
   "execution_count": 8,
   "id": "66239e21",
   "metadata": {
    "execution": {
     "iopub.execute_input": "2023-07-17T11:49:05.495271Z",
     "iopub.status.busy": "2023-07-17T11:49:05.493775Z",
     "iopub.status.idle": "2023-07-17T11:49:05.508620Z",
     "shell.execute_reply": "2023-07-17T11:49:05.507768Z"
    },
    "papermill": {
     "duration": 0.024023,
     "end_time": "2023-07-17T11:49:05.510613",
     "exception": false,
     "start_time": "2023-07-17T11:49:05.486590",
     "status": "completed"
    },
    "tags": []
   },
   "outputs": [
    {
     "data": {
      "text/plain": [
       "array([0, 4, 4, ..., 4, 4, 1])"
      ]
     },
     "execution_count": 8,
     "metadata": {},
     "output_type": "execute_result"
    }
   ],
   "source": [
    "y_test = y_encoder.transform(test_dataset['target'])\n",
    "y_test"
   ]
  },
  {
   "cell_type": "markdown",
   "id": "e3941b27",
   "metadata": {
    "papermill": {
     "duration": 0.005923,
     "end_time": "2023-07-17T11:49:05.522795",
     "exception": false,
     "start_time": "2023-07-17T11:49:05.516872",
     "status": "completed"
    },
    "tags": []
   },
   "source": [
    "## 2. Extract the text as features"
   ]
  },
  {
   "cell_type": "code",
   "execution_count": 9,
   "id": "35c1647e",
   "metadata": {
    "execution": {
     "iopub.execute_input": "2023-07-17T11:49:05.536352Z",
     "iopub.status.busy": "2023-07-17T11:49:05.536098Z",
     "iopub.status.idle": "2023-07-17T11:49:05.543525Z",
     "shell.execute_reply": "2023-07-17T11:49:05.542684Z"
    },
    "papermill": {
     "duration": 0.016613,
     "end_time": "2023-07-17T11:49:05.545420",
     "exception": false,
     "start_time": "2023-07-17T11:49:05.528807",
     "status": "completed"
    },
    "tags": []
   },
   "outputs": [
    {
     "data": {
      "text/plain": [
       "0         To investigate the efficacy of 6 weeks of dail...\n",
       "1         A total of 125 patients with primary knee OA w...\n",
       "2         Outcome measures included pain reduction and i...\n",
       "3         Pain was assessed using the visual analog pain...\n",
       "4         Secondary outcome measures included the Wester...\n",
       "                                ...                        \n",
       "180035    For the absolute change in percent atheroma vo...\n",
       "180036    For PAV , a significantly greater percentage o...\n",
       "180037    Both strategies had acceptable side effect pro...\n",
       "180038    Compared with standard statin monotherapy , th...\n",
       "180039    ( Plaque Regression With Cholesterol Absorptio...\n",
       "Name: abstract_text, Length: 180040, dtype: object"
      ]
     },
     "execution_count": 9,
     "metadata": {},
     "output_type": "execute_result"
    }
   ],
   "source": [
    "text_train_dataset = train_dataset['abstract_text']\n",
    "text_train_dataset "
   ]
  },
  {
   "cell_type": "code",
   "execution_count": 10,
   "id": "3fce0405",
   "metadata": {
    "execution": {
     "iopub.execute_input": "2023-07-17T11:49:05.559014Z",
     "iopub.status.busy": "2023-07-17T11:49:05.558493Z",
     "iopub.status.idle": "2023-07-17T11:49:26.820429Z",
     "shell.execute_reply": "2023-07-17T11:49:26.819476Z"
    },
    "papermill": {
     "duration": 21.27129,
     "end_time": "2023-07-17T11:49:26.822775",
     "exception": false,
     "start_time": "2023-07-17T11:49:05.551485",
     "status": "completed"
    },
    "tags": []
   },
   "outputs": [
    {
     "name": "stderr",
     "output_type": "stream",
     "text": [
      "/opt/conda/lib/python3.10/site-packages/tensorflow_io/python/ops/__init__.py:98: UserWarning: unable to load libtensorflow_io_plugins.so: unable to open file: libtensorflow_io_plugins.so, from paths: ['/opt/conda/lib/python3.10/site-packages/tensorflow_io/python/ops/libtensorflow_io_plugins.so']\n",
      "caused by: ['/opt/conda/lib/python3.10/site-packages/tensorflow_io/python/ops/libtensorflow_io_plugins.so: undefined symbol: _ZN3tsl6StatusC1EN10tensorflow5error4CodeESt17basic_string_viewIcSt11char_traitsIcEENS_14SourceLocationE']\n",
      "  warnings.warn(f\"unable to load libtensorflow_io_plugins.so: {e}\")\n",
      "/opt/conda/lib/python3.10/site-packages/tensorflow_io/python/ops/__init__.py:104: UserWarning: file system plugins are not loaded: unable to open file: libtensorflow_io.so, from paths: ['/opt/conda/lib/python3.10/site-packages/tensorflow_io/python/ops/libtensorflow_io.so']\n",
      "caused by: ['/opt/conda/lib/python3.10/site-packages/tensorflow_io/python/ops/libtensorflow_io.so: undefined symbol: _ZTVN10tensorflow13GcsFileSystemE']\n",
      "  warnings.warn(f\"file system plugins are not loaded: {e}\")\n"
     ]
    },
    {
     "data": {
      "text/plain": [
       "(1407,\n",
       " <_PrefetchDataset element_spec=(TensorSpec(shape=(None,), dtype=tf.string, name=None), TensorSpec(shape=(None,), dtype=tf.int64, name=None))>)"
      ]
     },
     "execution_count": 10,
     "metadata": {},
     "output_type": "execute_result"
    }
   ],
   "source": [
    "from tensorflow.data import Dataset, AUTOTUNE\n",
    "\n",
    "BATCH_SIZE = 128\n",
    "\n",
    "def batch_dataset(X, y):\n",
    "    return Dataset.from_tensor_slices((X['abstract_text'], y)) \\\n",
    "        .batch(BATCH_SIZE) \\\n",
    "        .prefetch(AUTOTUNE)\n",
    "\n",
    "train_df = batch_dataset(train_dataset, y_train)\n",
    "len(train_df), train_df"
   ]
  },
  {
   "cell_type": "code",
   "execution_count": 11,
   "id": "1a2cfe93",
   "metadata": {
    "execution": {
     "iopub.execute_input": "2023-07-17T11:49:26.839754Z",
     "iopub.status.busy": "2023-07-17T11:49:26.837918Z",
     "iopub.status.idle": "2023-07-17T11:49:26.855588Z",
     "shell.execute_reply": "2023-07-17T11:49:26.854669Z"
    },
    "papermill": {
     "duration": 0.027478,
     "end_time": "2023-07-17T11:49:26.857589",
     "exception": false,
     "start_time": "2023-07-17T11:49:26.830111",
     "status": "completed"
    },
    "tags": []
   },
   "outputs": [
    {
     "data": {
      "text/plain": [
       "(237,\n",
       " <_PrefetchDataset element_spec=(TensorSpec(shape=(None,), dtype=tf.string, name=None), TensorSpec(shape=(None,), dtype=tf.int64, name=None))>)"
      ]
     },
     "execution_count": 11,
     "metadata": {},
     "output_type": "execute_result"
    }
   ],
   "source": [
    "val_df = batch_dataset(val_dataset, y_val)\n",
    "len(val_df), val_df"
   ]
  },
  {
   "cell_type": "code",
   "execution_count": 12,
   "id": "dd583b41",
   "metadata": {
    "execution": {
     "iopub.execute_input": "2023-07-17T11:49:26.873720Z",
     "iopub.status.busy": "2023-07-17T11:49:26.872260Z",
     "iopub.status.idle": "2023-07-17T11:49:26.889569Z",
     "shell.execute_reply": "2023-07-17T11:49:26.888640Z"
    },
    "papermill": {
     "duration": 0.027398,
     "end_time": "2023-07-17T11:49:26.891762",
     "exception": false,
     "start_time": "2023-07-17T11:49:26.864364",
     "status": "completed"
    },
    "tags": []
   },
   "outputs": [
    {
     "data": {
      "text/plain": [
       "(236,\n",
       " <_PrefetchDataset element_spec=(TensorSpec(shape=(None,), dtype=tf.string, name=None), TensorSpec(shape=(None,), dtype=tf.int64, name=None))>)"
      ]
     },
     "execution_count": 12,
     "metadata": {},
     "output_type": "execute_result"
    }
   ],
   "source": [
    "test_df = batch_dataset(test_dataset, y_test)\n",
    "len(test_df), test_df"
   ]
  }
 ],
 "metadata": {
  "kernelspec": {
   "display_name": "Python 3",
   "language": "python",
   "name": "python3"
  },
  "language_info": {
   "codemirror_mode": {
    "name": "ipython",
    "version": 3
   },
   "file_extension": ".py",
   "mimetype": "text/x-python",
   "name": "python",
   "nbconvert_exporter": "python",
   "pygments_lexer": "ipython3",
   "version": "3.10.12"
  },
  "papermill": {
   "default_parameters": {},
   "duration": 41.851234,
   "end_time": "2023-07-17T11:49:30.355005",
   "environment_variables": {},
   "exception": null,
   "input_path": "__notebook__.ipynb",
   "output_path": "__notebook__.ipynb",
   "parameters": {},
   "start_time": "2023-07-17T11:48:48.503771",
   "version": "2.4.0"
  }
 },
 "nbformat": 4,
 "nbformat_minor": 5
}
