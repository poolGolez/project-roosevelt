{
 "cells": [
  {
   "cell_type": "markdown",
   "id": "68bc7ced",
   "metadata": {
    "papermill": {
     "duration": 0.006428,
     "end_time": "2023-01-26T10:29:08.569384",
     "exception": false,
     "start_time": "2023-01-26T10:29:08.562956",
     "status": "completed"
    },
    "tags": []
   },
   "source": [
    "# Data Ingestion"
   ]
  },
  {
   "cell_type": "code",
   "execution_count": 1,
   "id": "8e419649",
   "metadata": {
    "_cell_guid": "b1076dfc-b9ad-4769-8c92-a6c4dae69d19",
    "_uuid": "8f2839f25d086af736a60e9eeb907d3b93b6e0e5",
    "execution": {
     "iopub.execute_input": "2023-01-26T10:29:08.582554Z",
     "iopub.status.busy": "2023-01-26T10:29:08.582008Z",
     "iopub.status.idle": "2023-01-26T10:29:09.835782Z",
     "shell.execute_reply": "2023-01-26T10:29:09.834733Z"
    },
    "papermill": {
     "duration": 1.263833,
     "end_time": "2023-01-26T10:29:09.839091",
     "exception": false,
     "start_time": "2023-01-26T10:29:08.575258",
     "status": "completed"
    },
    "tags": []
   },
   "outputs": [],
   "source": [
    "# This Python 3 environment comes with many helpful analytics libraries installed\n",
    "# It is defined by the kaggle/python Docker image: https://github.com/kaggle/docker-python\n",
    "# For example, here's several helpful packages to load\n",
    "\n",
    "import numpy as np # linear algebra\n",
    "import pandas as pd # data processing, CSV file I/O (e.g. pd.read_csv)\n",
    "import matplotlib.pyplot as plt\n",
    "import seaborn as sns\n",
    "\n",
    "from sklearn.model_selection import train_test_split\n",
    "\n",
    "from urllib.parse import urlparse"
   ]
  },
  {
   "cell_type": "code",
   "execution_count": 2,
   "id": "e839ac7a",
   "metadata": {
    "execution": {
     "iopub.execute_input": "2023-01-26T10:29:09.852006Z",
     "iopub.status.busy": "2023-01-26T10:29:09.850720Z",
     "iopub.status.idle": "2023-01-26T10:29:11.089052Z",
     "shell.execute_reply": "2023-01-26T10:29:11.087994Z"
    },
    "papermill": {
     "duration": 1.247704,
     "end_time": "2023-01-26T10:29:11.091949",
     "exception": false,
     "start_time": "2023-01-26T10:29:09.844245",
     "status": "completed"
    },
    "tags": []
   },
   "outputs": [],
   "source": [
    "def load_raw_data():\n",
    "    TRAIN_FILE_LOCATION = '/kaggle/input/malicious-and-benign-urls/urldata.csv'\n",
    "    df = pd.read_csv(TRAIN_FILE_LOCATION)\n",
    "    df.drop(columns=['Unnamed: 0'], inplace=True)\n",
    "    \n",
    "    return df\n",
    "\n",
    "raw_data = load_raw_data()"
   ]
  },
  {
   "cell_type": "code",
   "execution_count": 3,
   "id": "540f7b25",
   "metadata": {
    "execution": {
     "iopub.execute_input": "2023-01-26T10:29:11.107983Z",
     "iopub.status.busy": "2023-01-26T10:29:11.107453Z",
     "iopub.status.idle": "2023-01-26T10:29:11.126429Z",
     "shell.execute_reply": "2023-01-26T10:29:11.125144Z"
    },
    "papermill": {
     "duration": 0.028402,
     "end_time": "2023-01-26T10:29:11.129205",
     "exception": false,
     "start_time": "2023-01-26T10:29:11.100803",
     "status": "completed"
    },
    "tags": []
   },
   "outputs": [
    {
     "data": {
      "text/html": [
       "<div>\n",
       "<style scoped>\n",
       "    .dataframe tbody tr th:only-of-type {\n",
       "        vertical-align: middle;\n",
       "    }\n",
       "\n",
       "    .dataframe tbody tr th {\n",
       "        vertical-align: top;\n",
       "    }\n",
       "\n",
       "    .dataframe thead th {\n",
       "        text-align: right;\n",
       "    }\n",
       "</style>\n",
       "<table border=\"1\" class=\"dataframe\">\n",
       "  <thead>\n",
       "    <tr style=\"text-align: right;\">\n",
       "      <th></th>\n",
       "      <th>url</th>\n",
       "      <th>label</th>\n",
       "      <th>result</th>\n",
       "    </tr>\n",
       "  </thead>\n",
       "  <tbody>\n",
       "    <tr>\n",
       "      <th>0</th>\n",
       "      <td>https://www.google.com</td>\n",
       "      <td>benign</td>\n",
       "      <td>0</td>\n",
       "    </tr>\n",
       "    <tr>\n",
       "      <th>1</th>\n",
       "      <td>https://www.youtube.com</td>\n",
       "      <td>benign</td>\n",
       "      <td>0</td>\n",
       "    </tr>\n",
       "    <tr>\n",
       "      <th>2</th>\n",
       "      <td>https://www.facebook.com</td>\n",
       "      <td>benign</td>\n",
       "      <td>0</td>\n",
       "    </tr>\n",
       "    <tr>\n",
       "      <th>3</th>\n",
       "      <td>https://www.baidu.com</td>\n",
       "      <td>benign</td>\n",
       "      <td>0</td>\n",
       "    </tr>\n",
       "    <tr>\n",
       "      <th>4</th>\n",
       "      <td>https://www.wikipedia.org</td>\n",
       "      <td>benign</td>\n",
       "      <td>0</td>\n",
       "    </tr>\n",
       "  </tbody>\n",
       "</table>\n",
       "</div>"
      ],
      "text/plain": [
       "                         url   label  result\n",
       "0     https://www.google.com  benign       0\n",
       "1    https://www.youtube.com  benign       0\n",
       "2   https://www.facebook.com  benign       0\n",
       "3      https://www.baidu.com  benign       0\n",
       "4  https://www.wikipedia.org  benign       0"
      ]
     },
     "execution_count": 3,
     "metadata": {},
     "output_type": "execute_result"
    }
   ],
   "source": [
    "raw_data.head()"
   ]
  },
  {
   "cell_type": "markdown",
   "id": "13253681",
   "metadata": {
    "papermill": {
     "duration": 0.004859,
     "end_time": "2023-01-26T10:29:11.139605",
     "exception": false,
     "start_time": "2023-01-26T10:29:11.134746",
     "status": "completed"
    },
    "tags": []
   },
   "source": [
    "# Exploratory Data Analysis"
   ]
  },
  {
   "cell_type": "code",
   "execution_count": 4,
   "id": "8fe74c41",
   "metadata": {
    "execution": {
     "iopub.execute_input": "2023-01-26T10:29:11.152077Z",
     "iopub.status.busy": "2023-01-26T10:29:11.151431Z",
     "iopub.status.idle": "2023-01-26T10:29:11.159961Z",
     "shell.execute_reply": "2023-01-26T10:29:11.158809Z"
    },
    "papermill": {
     "duration": 0.017779,
     "end_time": "2023-01-26T10:29:11.162503",
     "exception": false,
     "start_time": "2023-01-26T10:29:11.144724",
     "status": "completed"
    },
    "tags": []
   },
   "outputs": [
    {
     "name": "stdout",
     "output_type": "stream",
     "text": [
      "Number of rows: 450176\n",
      "Number of columns: 3\n"
     ]
    }
   ],
   "source": [
    "print(f\"Number of rows: {raw_data.shape[0]}\")\n",
    "print(f\"Number of columns: {raw_data.shape[1]}\")"
   ]
  },
  {
   "cell_type": "code",
   "execution_count": 5,
   "id": "5e0a19ab",
   "metadata": {
    "execution": {
     "iopub.execute_input": "2023-01-26T10:29:11.175293Z",
     "iopub.status.busy": "2023-01-26T10:29:11.174835Z",
     "iopub.status.idle": "2023-01-26T10:29:11.395217Z",
     "shell.execute_reply": "2023-01-26T10:29:11.393937Z"
    },
    "papermill": {
     "duration": 0.229773,
     "end_time": "2023-01-26T10:29:11.397801",
     "exception": false,
     "start_time": "2023-01-26T10:29:11.168028",
     "status": "completed"
    },
    "tags": []
   },
   "outputs": [
    {
     "data": {
      "image/png": "[encoded data removed]",
      "text/plain": [
       "<Figure size 576x432 with 1 Axes>"
      ]
     },
     "metadata": {
      "needs_background": "light"
     },
     "output_type": "display_data"
    }
   ],
   "source": [
    "result_count = raw_data['result'].value_counts()\n",
    "result_count_perc = result_count/sum(result_count.values)\n",
    "\n",
    "\n",
    "fig, ax = plt.subplots(figsize=(8,6))\n",
    "r1 = ax.bar('0 (Benign)', result_count[0], color='g')\n",
    "ax.bar_label(r1, [f\"{result_count[0]:,d} ({result_count_perc[0] * 100:.2f}%)\"], padding=3)\n",
    "\n",
    "r2 = ax.bar('1 (Malicious)', result_count[1], color='r')\n",
    "ax.bar_label(r2, [f\"{result_count[1]:,d} ({result_count_perc[1] * 100:.2f}%)\"], padding=3)\n",
    "\n",
    "ax.set_title(\"Result values in dataset\")\n",
    "\n",
    "plt.show()"
   ]
  },
  {
   "cell_type": "markdown",
   "id": "4d030a6d",
   "metadata": {
    "papermill": {
     "duration": 0.005439,
     "end_time": "2023-01-26T10:29:11.409097",
     "exception": false,
     "start_time": "2023-01-26T10:29:11.403658",
     "status": "completed"
    },
    "tags": []
   },
   "source": [
    "The dataset is imbalanced with the number of `benign` (`result`=$0$) records being $4$ times greater than the number of `malicious` (`result`=$1$) records."
   ]
  },
  {
   "cell_type": "code",
   "execution_count": 6,
   "id": "d9d793c8",
   "metadata": {
    "execution": {
     "iopub.execute_input": "2023-01-26T10:29:11.422316Z",
     "iopub.status.busy": "2023-01-26T10:29:11.421844Z",
     "iopub.status.idle": "2023-01-26T10:29:11.446867Z",
     "shell.execute_reply": "2023-01-26T10:29:11.445973Z"
    },
    "papermill": {
     "duration": 0.034212,
     "end_time": "2023-01-26T10:29:11.449059",
     "exception": false,
     "start_time": "2023-01-26T10:29:11.414847",
     "status": "completed"
    },
    "tags": []
   },
   "outputs": [
    {
     "data": {
      "text/html": [
       "<div>\n",
       "<style scoped>\n",
       "    .dataframe tbody tr th:only-of-type {\n",
       "        vertical-align: middle;\n",
       "    }\n",
       "\n",
       "    .dataframe tbody tr th {\n",
       "        vertical-align: top;\n",
       "    }\n",
       "\n",
       "    .dataframe thead th {\n",
       "        text-align: right;\n",
       "    }\n",
       "</style>\n",
       "<table border=\"1\" class=\"dataframe\">\n",
       "  <thead>\n",
       "    <tr style=\"text-align: right;\">\n",
       "      <th></th>\n",
       "      <th>url</th>\n",
       "      <th>result</th>\n",
       "    </tr>\n",
       "  </thead>\n",
       "  <tbody>\n",
       "    <tr>\n",
       "      <th>0</th>\n",
       "      <td>https://www.google.com</td>\n",
       "      <td>0</td>\n",
       "    </tr>\n",
       "    <tr>\n",
       "      <th>1</th>\n",
       "      <td>https://www.youtube.com</td>\n",
       "      <td>0</td>\n",
       "    </tr>\n",
       "    <tr>\n",
       "      <th>2</th>\n",
       "      <td>https://www.facebook.com</td>\n",
       "      <td>0</td>\n",
       "    </tr>\n",
       "    <tr>\n",
       "      <th>3</th>\n",
       "      <td>https://www.baidu.com</td>\n",
       "      <td>0</td>\n",
       "    </tr>\n",
       "    <tr>\n",
       "      <th>4</th>\n",
       "      <td>https://www.wikipedia.org</td>\n",
       "      <td>0</td>\n",
       "    </tr>\n",
       "  </tbody>\n",
       "</table>\n",
       "</div>"
      ],
      "text/plain": [
       "                         url  result\n",
       "0     https://www.google.com       0\n",
       "1    https://www.youtube.com       0\n",
       "2   https://www.facebook.com       0\n",
       "3      https://www.baidu.com       0\n",
       "4  https://www.wikipedia.org       0"
      ]
     },
     "execution_count": 6,
     "metadata": {},
     "output_type": "execute_result"
    }
   ],
   "source": [
    "# Remove label column (redundant) and use the result column as our classes\n",
    "df = raw_data.drop(columns=['label'])\n",
    "df.head()"
   ]
  },
  {
   "cell_type": "markdown",
   "id": "faeee463",
   "metadata": {
    "papermill": {
     "duration": 0.005424,
     "end_time": "2023-01-26T10:29:11.460424",
     "exception": false,
     "start_time": "2023-01-26T10:29:11.455000",
     "status": "completed"
    },
    "tags": []
   },
   "source": [
    "# Split the dataset into train and test sets"
   ]
  },
  {
   "cell_type": "code",
   "execution_count": 7,
   "id": "60169152",
   "metadata": {
    "execution": {
     "iopub.execute_input": "2023-01-26T10:29:11.474042Z",
     "iopub.status.busy": "2023-01-26T10:29:11.473250Z",
     "iopub.status.idle": "2023-01-26T10:29:11.574308Z",
     "shell.execute_reply": "2023-01-26T10:29:11.572595Z"
    },
    "papermill": {
     "duration": 0.111069,
     "end_time": "2023-01-26T10:29:11.577212",
     "exception": false,
     "start_time": "2023-01-26T10:29:11.466143",
     "status": "completed"
    },
    "tags": []
   },
   "outputs": [
    {
     "name": "stdout",
     "output_type": "stream",
     "text": [
      "Train dataset size: 360,140\n",
      "Test dataset size: 90,036\n"
     ]
    }
   ],
   "source": [
    "def split_dataset(df, test_size=0.2):\n",
    "    train_df, test_df = train_test_split(df, test_size=test_size, random_state=42)\n",
    "    train_df.reset_index(drop=True, inplace=True)\n",
    "    test_df.reset_index(drop=True, inplace=True)\n",
    "    \n",
    "    return (train_df, test_df)\n",
    "\n",
    "train_df, test_df = split_dataset(df)\n",
    "print(f\"Train dataset size: {len(train_df):,d}\")\n",
    "print(f\"Test dataset size: {len(test_df):,d}\")"
   ]
  },
  {
   "cell_type": "markdown",
   "id": "2f6ae379",
   "metadata": {
    "papermill": {
     "duration": 0.005655,
     "end_time": "2023-01-26T10:29:11.589005",
     "exception": false,
     "start_time": "2023-01-26T10:29:11.583350",
     "status": "completed"
    },
    "tags": []
   },
   "source": [
    "# Data Pre-processing\n",
    "\n",
    "We need to extract some properties from the URL itself to use as features for training our models. We could start with partitioning the URL into its parts."
   ]
  },
  {
   "cell_type": "code",
   "execution_count": 8,
   "id": "c707aa8c",
   "metadata": {
    "execution": {
     "iopub.execute_input": "2023-01-26T10:29:11.602655Z",
     "iopub.status.busy": "2023-01-26T10:29:11.602174Z",
     "iopub.status.idle": "2023-01-26T10:29:11.610371Z",
     "shell.execute_reply": "2023-01-26T10:29:11.609055Z"
    },
    "papermill": {
     "duration": 0.017903,
     "end_time": "2023-01-26T10:29:11.612791",
     "exception": false,
     "start_time": "2023-01-26T10:29:11.594888",
     "status": "completed"
    },
    "tags": []
   },
   "outputs": [
    {
     "data": {
      "text/plain": [
       "ParseResult(scheme='https', netloc='www.carscover.com', path='/', params='', query='', fragment='')"
      ]
     },
     "execution_count": 8,
     "metadata": {},
     "output_type": "execute_result"
    }
   ],
   "source": [
    "urlparse(train_df.loc[0]['url'])"
   ]
  },
  {
   "cell_type": "code",
   "execution_count": 9,
   "id": "3fd7ab92",
   "metadata": {
    "execution": {
     "iopub.execute_input": "2023-01-26T10:29:11.626786Z",
     "iopub.status.busy": "2023-01-26T10:29:11.626319Z",
     "iopub.status.idle": "2023-01-26T10:30:29.992721Z",
     "shell.execute_reply": "2023-01-26T10:30:29.991367Z"
    },
    "papermill": {
     "duration": 78.377052,
     "end_time": "2023-01-26T10:30:29.995993",
     "exception": false,
     "start_time": "2023-01-26T10:29:11.618941",
     "status": "completed"
    },
    "tags": []
   },
   "outputs": [],
   "source": [
    "def populate_url_fragments(df):\n",
    "    def parse_url(url):\n",
    "        result = urlparse(url)\n",
    "        return (result.scheme, result.netloc, result.path, result.params, result.query, result.fragment)\n",
    "\n",
    "    df[['scheme', 'hostname', 'path', 'params', 'query', 'fragment']] = pd.DataFrame(df['url'].apply(parse_url).apply(pd.Series))\n",
    "    return df\n",
    "\n",
    "train_df = populate_url_fragments(train_df)"
   ]
  },
  {
   "cell_type": "code",
   "execution_count": 10,
   "id": "06a6d087",
   "metadata": {
    "execution": {
     "iopub.execute_input": "2023-01-26T10:30:30.010800Z",
     "iopub.status.busy": "2023-01-26T10:30:30.009995Z",
     "iopub.status.idle": "2023-01-26T10:30:30.028937Z",
     "shell.execute_reply": "2023-01-26T10:30:30.027684Z"
    },
    "papermill": {
     "duration": 0.029193,
     "end_time": "2023-01-26T10:30:30.031671",
     "exception": false,
     "start_time": "2023-01-26T10:30:30.002478",
     "status": "completed"
    },
    "tags": []
   },
   "outputs": [
    {
     "data": {
      "text/html": [
       "<div>\n",
       "<style scoped>\n",
       "    .dataframe tbody tr th:only-of-type {\n",
       "        vertical-align: middle;\n",
       "    }\n",
       "\n",
       "    .dataframe tbody tr th {\n",
       "        vertical-align: top;\n",
       "    }\n",
       "\n",
       "    .dataframe thead th {\n",
       "        text-align: right;\n",
       "    }\n",
       "</style>\n",
       "<table border=\"1\" class=\"dataframe\">\n",
       "  <thead>\n",
       "    <tr style=\"text-align: right;\">\n",
       "      <th></th>\n",
       "      <th>url</th>\n",
       "      <th>result</th>\n",
       "      <th>scheme</th>\n",
       "      <th>hostname</th>\n",
       "      <th>path</th>\n",
       "      <th>params</th>\n",
       "      <th>query</th>\n",
       "      <th>fragment</th>\n",
       "    </tr>\n",
       "  </thead>\n",
       "  <tbody>\n",
       "    <tr>\n",
       "      <th>0</th>\n",
       "      <td>https://www.carscover.com/</td>\n",
       "      <td>0</td>\n",
       "      <td>https</td>\n",
       "      <td>www.carscover.com</td>\n",
       "      <td>/</td>\n",
       "      <td></td>\n",
       "      <td></td>\n",
       "      <td></td>\n",
       "    </tr>\n",
       "    <tr>\n",
       "      <th>1</th>\n",
       "      <td>http://defenceiq.us/</td>\n",
       "      <td>1</td>\n",
       "      <td>http</td>\n",
       "      <td>defenceiq.us</td>\n",
       "      <td>/</td>\n",
       "      <td></td>\n",
       "      <td></td>\n",
       "      <td></td>\n",
       "    </tr>\n",
       "    <tr>\n",
       "      <th>2</th>\n",
       "      <td>https://www.drbita.blogspot.com/</td>\n",
       "      <td>0</td>\n",
       "      <td>https</td>\n",
       "      <td>www.drbita.blogspot.com</td>\n",
       "      <td>/</td>\n",
       "      <td></td>\n",
       "      <td></td>\n",
       "      <td></td>\n",
       "    </tr>\n",
       "    <tr>\n",
       "      <th>3</th>\n",
       "      <td>https://www.bollymediainteractive.com/</td>\n",
       "      <td>0</td>\n",
       "      <td>https</td>\n",
       "      <td>www.bollymediainteractive.com</td>\n",
       "      <td>/</td>\n",
       "      <td></td>\n",
       "      <td></td>\n",
       "      <td></td>\n",
       "    </tr>\n",
       "    <tr>\n",
       "      <th>4</th>\n",
       "      <td>https://www.usawaterski.org/Nationals/11M999CS...</td>\n",
       "      <td>0</td>\n",
       "      <td>https</td>\n",
       "      <td>www.usawaterski.org</td>\n",
       "      <td>/Nationals/11M999CS.HTM</td>\n",
       "      <td></td>\n",
       "      <td></td>\n",
       "      <td></td>\n",
       "    </tr>\n",
       "    <tr>\n",
       "      <th>5</th>\n",
       "      <td>https://www.findradio.us/displayradio-37499.htm</td>\n",
       "      <td>0</td>\n",
       "      <td>https</td>\n",
       "      <td>www.findradio.us</td>\n",
       "      <td>/displayradio-37499.htm</td>\n",
       "      <td></td>\n",
       "      <td></td>\n",
       "      <td></td>\n",
       "    </tr>\n",
       "    <tr>\n",
       "      <th>6</th>\n",
       "      <td>https://www.meb.gov.tr</td>\n",
       "      <td>0</td>\n",
       "      <td>https</td>\n",
       "      <td>www.meb.gov.tr</td>\n",
       "      <td></td>\n",
       "      <td></td>\n",
       "      <td></td>\n",
       "      <td></td>\n",
       "    </tr>\n",
       "    <tr>\n",
       "      <th>7</th>\n",
       "      <td>https://www.sweetcamgirl.com/blogs/?p=42</td>\n",
       "      <td>0</td>\n",
       "      <td>https</td>\n",
       "      <td>www.sweetcamgirl.com</td>\n",
       "      <td>/blogs/</td>\n",
       "      <td></td>\n",
       "      <td>p=42</td>\n",
       "      <td></td>\n",
       "    </tr>\n",
       "    <tr>\n",
       "      <th>8</th>\n",
       "      <td>https://www.librarything.com/authorcloud.php?v...</td>\n",
       "      <td>0</td>\n",
       "      <td>https</td>\n",
       "      <td>www.librarything.com</td>\n",
       "      <td>/authorcloud.php</td>\n",
       "      <td></td>\n",
       "      <td>view=CovenantNetwork</td>\n",
       "      <td></td>\n",
       "    </tr>\n",
       "    <tr>\n",
       "      <th>9</th>\n",
       "      <td>https://www.avril-source.com/gallery/thumbnail...</td>\n",
       "      <td>0</td>\n",
       "      <td>https</td>\n",
       "      <td>www.avril-source.com</td>\n",
       "      <td>/gallery/thumbnails.php</td>\n",
       "      <td></td>\n",
       "      <td>album=1580</td>\n",
       "      <td></td>\n",
       "    </tr>\n",
       "    <tr>\n",
       "      <th>10</th>\n",
       "      <td>https://www.atlanticptcenter.com/?page_id=626</td>\n",
       "      <td>0</td>\n",
       "      <td>https</td>\n",
       "      <td>www.atlanticptcenter.com</td>\n",
       "      <td>/</td>\n",
       "      <td></td>\n",
       "      <td>page_id=626</td>\n",
       "      <td></td>\n",
       "    </tr>\n",
       "    <tr>\n",
       "      <th>11</th>\n",
       "      <td>https://www.phenomenauts.livejournal.com/</td>\n",
       "      <td>0</td>\n",
       "      <td>https</td>\n",
       "      <td>www.phenomenauts.livejournal.com</td>\n",
       "      <td>/</td>\n",
       "      <td></td>\n",
       "      <td></td>\n",
       "      <td></td>\n",
       "    </tr>\n",
       "    <tr>\n",
       "      <th>12</th>\n",
       "      <td>https://www.baseball-reference.com/players/g/g...</td>\n",
       "      <td>0</td>\n",
       "      <td>https</td>\n",
       "      <td>www.baseball-reference.com</td>\n",
       "      <td>/players/g/goodwcu01.shtml</td>\n",
       "      <td></td>\n",
       "      <td></td>\n",
       "      <td></td>\n",
       "    </tr>\n",
       "    <tr>\n",
       "      <th>13</th>\n",
       "      <td>https://www.britannica.com/EBchecked/topic/573...</td>\n",
       "      <td>0</td>\n",
       "      <td>https</td>\n",
       "      <td>www.britannica.com</td>\n",
       "      <td>/EBchecked/topic/573487/Thomas-Sumter</td>\n",
       "      <td></td>\n",
       "      <td></td>\n",
       "      <td></td>\n",
       "    </tr>\n",
       "    <tr>\n",
       "      <th>14</th>\n",
       "      <td>https://www.heroesofcapitalism.blogspot.com/20...</td>\n",
       "      <td>0</td>\n",
       "      <td>https</td>\n",
       "      <td>www.heroesofcapitalism.blogspot.com</td>\n",
       "      <td>/2009/04/ewing-marion-kauffman.html</td>\n",
       "      <td></td>\n",
       "      <td></td>\n",
       "      <td></td>\n",
       "    </tr>\n",
       "  </tbody>\n",
       "</table>\n",
       "</div>"
      ],
      "text/plain": [
       "                                                  url  result scheme  \\\n",
       "0                          https://www.carscover.com/       0  https   \n",
       "1                                http://defenceiq.us/       1   http   \n",
       "2                    https://www.drbita.blogspot.com/       0  https   \n",
       "3              https://www.bollymediainteractive.com/       0  https   \n",
       "4   https://www.usawaterski.org/Nationals/11M999CS...       0  https   \n",
       "5     https://www.findradio.us/displayradio-37499.htm       0  https   \n",
       "6                              https://www.meb.gov.tr       0  https   \n",
       "7            https://www.sweetcamgirl.com/blogs/?p=42       0  https   \n",
       "8   https://www.librarything.com/authorcloud.php?v...       0  https   \n",
       "9   https://www.avril-source.com/gallery/thumbnail...       0  https   \n",
       "10      https://www.atlanticptcenter.com/?page_id=626       0  https   \n",
       "11          https://www.phenomenauts.livejournal.com/       0  https   \n",
       "12  https://www.baseball-reference.com/players/g/g...       0  https   \n",
       "13  https://www.britannica.com/EBchecked/topic/573...       0  https   \n",
       "14  https://www.heroesofcapitalism.blogspot.com/20...       0  https   \n",
       "\n",
       "                               hostname  \\\n",
       "0                     www.carscover.com   \n",
       "1                          defenceiq.us   \n",
       "2               www.drbita.blogspot.com   \n",
       "3         www.bollymediainteractive.com   \n",
       "4                   www.usawaterski.org   \n",
       "5                      www.findradio.us   \n",
       "6                        www.meb.gov.tr   \n",
       "7                  www.sweetcamgirl.com   \n",
       "8                  www.librarything.com   \n",
       "9                  www.avril-source.com   \n",
       "10             www.atlanticptcenter.com   \n",
       "11     www.phenomenauts.livejournal.com   \n",
       "12           www.baseball-reference.com   \n",
       "13                   www.britannica.com   \n",
       "14  www.heroesofcapitalism.blogspot.com   \n",
       "\n",
       "                                     path params                 query  \\\n",
       "0                                       /                                \n",
       "1                                       /                                \n",
       "2                                       /                                \n",
       "3                                       /                                \n",
       "4                 /Nationals/11M999CS.HTM                                \n",
       "5                 /displayradio-37499.htm                                \n",
       "6                                                                        \n",
       "7                                 /blogs/                         p=42   \n",
       "8                        /authorcloud.php         view=CovenantNetwork   \n",
       "9                 /gallery/thumbnails.php                   album=1580   \n",
       "10                                      /                  page_id=626   \n",
       "11                                      /                                \n",
       "12             /players/g/goodwcu01.shtml                                \n",
       "13  /EBchecked/topic/573487/Thomas-Sumter                                \n",
       "14    /2009/04/ewing-marion-kauffman.html                                \n",
       "\n",
       "   fragment  \n",
       "0            \n",
       "1            \n",
       "2            \n",
       "3            \n",
       "4            \n",
       "5            \n",
       "6            \n",
       "7            \n",
       "8            \n",
       "9            \n",
       "10           \n",
       "11           \n",
       "12           \n",
       "13           \n",
       "14           "
      ]
     },
     "execution_count": 10,
     "metadata": {},
     "output_type": "execute_result"
    }
   ],
   "source": [
    "train_df.head(15)"
   ]
  },
  {
   "cell_type": "markdown",
   "id": "29729f03",
   "metadata": {
    "papermill": {
     "duration": 0.007473,
     "end_time": "2023-01-26T10:30:30.045741",
     "exception": false,
     "start_time": "2023-01-26T10:30:30.038268",
     "status": "completed"
    },
    "tags": []
   },
   "source": [
    "## Explore URL scheme"
   ]
  },
  {
   "cell_type": "code",
   "execution_count": 11,
   "id": "69f0c8ab",
   "metadata": {
    "execution": {
     "iopub.execute_input": "2023-01-26T10:30:30.060916Z",
     "iopub.status.busy": "2023-01-26T10:30:30.060081Z",
     "iopub.status.idle": "2023-01-26T10:30:30.100709Z",
     "shell.execute_reply": "2023-01-26T10:30:30.099316Z"
    },
    "papermill": {
     "duration": 0.051351,
     "end_time": "2023-01-26T10:30:30.103433",
     "exception": false,
     "start_time": "2023-01-26T10:30:30.052082",
     "status": "completed"
    },
    "tags": []
   },
   "outputs": [
    {
     "data": {
      "text/plain": [
       "https     281936\n",
       "http       78169\n",
       "httpss        29\n",
       "ftp            6\n",
       "Name: scheme, dtype: int64"
      ]
     },
     "execution_count": 11,
     "metadata": {},
     "output_type": "execute_result"
    }
   ],
   "source": [
    "train_df['scheme'].value_counts()"
   ]
  },
  {
   "cell_type": "markdown",
   "id": "16f4735f",
   "metadata": {
    "papermill": {
     "duration": 0.006247,
     "end_time": "2023-01-26T10:30:30.116422",
     "exception": false,
     "start_time": "2023-01-26T10:30:30.110175",
     "status": "completed"
    },
    "tags": []
   },
   "source": [
    "From the unique counts above, there is no such URL scheme as **httpss**. This is probably a typographical error of the scheme **https** so we need to correct that."
   ]
  },
  {
   "cell_type": "code",
   "execution_count": 12,
   "id": "a85b8657",
   "metadata": {
    "execution": {
     "iopub.execute_input": "2023-01-26T10:30:30.131955Z",
     "iopub.status.busy": "2023-01-26T10:30:30.130843Z",
     "iopub.status.idle": "2023-01-26T10:30:30.182348Z",
     "shell.execute_reply": "2023-01-26T10:30:30.180895Z"
    },
    "papermill": {
     "duration": 0.062162,
     "end_time": "2023-01-26T10:30:30.185210",
     "exception": false,
     "start_time": "2023-01-26T10:30:30.123048",
     "status": "completed"
    },
    "tags": []
   },
   "outputs": [],
   "source": [
    "train_df.loc[(train_df['scheme'] == 'httpss'), 'scheme'] = 'https'"
   ]
  },
  {
   "cell_type": "code",
   "execution_count": 13,
   "id": "f861c65e",
   "metadata": {
    "execution": {
     "iopub.execute_input": "2023-01-26T10:30:30.201393Z",
     "iopub.status.busy": "2023-01-26T10:30:30.200429Z",
     "iopub.status.idle": "2023-01-26T10:30:30.234845Z",
     "shell.execute_reply": "2023-01-26T10:30:30.233677Z"
    },
    "papermill": {
     "duration": 0.044759,
     "end_time": "2023-01-26T10:30:30.237022",
     "exception": false,
     "start_time": "2023-01-26T10:30:30.192263",
     "status": "completed"
    },
    "tags": []
   },
   "outputs": [
    {
     "data": {
      "text/plain": [
       "https    281965\n",
       "http      78169\n",
       "ftp           6\n",
       "Name: scheme, dtype: int64"
      ]
     },
     "execution_count": 13,
     "metadata": {},
     "output_type": "execute_result"
    }
   ],
   "source": [
    "train_df['scheme'].value_counts()"
   ]
  },
  {
   "cell_type": "code",
   "execution_count": 14,
   "id": "db122d21",
   "metadata": {
    "execution": {
     "iopub.execute_input": "2023-01-26T10:30:30.253007Z",
     "iopub.status.busy": "2023-01-26T10:30:30.252513Z",
     "iopub.status.idle": "2023-01-26T10:30:30.621875Z",
     "shell.execute_reply": "2023-01-26T10:30:30.620701Z"
    },
    "papermill": {
     "duration": 0.381254,
     "end_time": "2023-01-26T10:30:30.625241",
     "exception": false,
     "start_time": "2023-01-26T10:30:30.243987",
     "status": "completed"
    },
    "tags": []
   },
   "outputs": [
    {
     "data": {
      "image/png": "[encoded data removed]",
      "text/plain": [
       "<Figure size 576x576 with 1 Axes>"
      ]
     },
     "metadata": {
      "needs_background": "light"
     },
     "output_type": "display_data"
    }
   ],
   "source": [
    "plt.figure(figsize=(8,8))\n",
    "malicious_train_df = train_df[train_df['result'] == 1]\n",
    "malicious_scheme_count = malicious_train_df['scheme'].value_counts()\n",
    "plt.bar(malicious_scheme_count.keys(), malicious_scheme_count.values, color='red', alpha=0.4)\n",
    "# x.keys()\n",
    "\n",
    "benign_train_df = train_df[train_df['result'] == 0]\n",
    "benign_scheme_count = benign_train_df['scheme'].value_counts()\n",
    "plt.bar(benign_scheme_count.keys(), benign_scheme_count.values, color='green', alpha=0.4)\n",
    "\n",
    "plt.show()"
   ]
  }
 ],
 "metadata": {
  "kernelspec": {
   "display_name": "Python 3",
   "language": "python",
   "name": "python3"
  },
  "language_info": {
   "codemirror_mode": {
    "name": "ipython",
    "version": 3
   },
   "file_extension": ".py",
   "mimetype": "text/x-python",
   "name": "python",
   "nbconvert_exporter": "python",
   "pygments_lexer": "ipython3",
   "version": "3.7.12"
  },
  "papermill": {
   "default_parameters": {},
   "duration": 93.394629,
   "end_time": "2023-01-26T10:30:31.865105",
   "environment_variables": {},
   "exception": null,
   "input_path": "__notebook__.ipynb",
   "output_path": "__notebook__.ipynb",
   "parameters": {},
   "start_time": "2023-01-26T10:28:58.470476",
   "version": "2.3.4"
  }
 },
 "nbformat": 4,
 "nbformat_minor": 5
}
